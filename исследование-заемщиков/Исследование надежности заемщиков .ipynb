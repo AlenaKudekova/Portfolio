{
 "cells": [
  {
   "cell_type": "markdown",
   "id": "0af06ee4",
   "metadata": {},
   "source": [
    "# Исследование надежности заемщиков."
   ]
  },
  {
   "cell_type": "markdown",
   "id": "16b49954",
   "metadata": {},
   "source": [
    "# Описание проекта\n",
    "Заказчик — кредитный отдел банка. \n",
    "Нужно разобраться, влияет ли семейное положение и количество детей клиента на факт погашения кредита в срок. Входные данные от банка — статистика о платёжеспособности клиентов.\n",
    "\n",
    "Результаты исследования будут учтены при построении модели кредитного скоринга — специальной системы, которая оценивает способность потенциального заёмщика вернуть кредит банку."
   ]
  },
  {
   "cell_type": "markdown",
   "id": "24d0af1f",
   "metadata": {},
   "source": [
    "### Шаг 1. Обзор данных"
   ]
  },
  {
   "cell_type": "code",
   "execution_count": 1,
   "id": "03a4541c",
   "metadata": {
    "scrolled": true
   },
   "outputs": [
    {
     "data": {
      "text/html": [
       "<div>\n",
       "<style scoped>\n",
       "    .dataframe tbody tr th:only-of-type {\n",
       "        vertical-align: middle;\n",
       "    }\n",
       "\n",
       "    .dataframe tbody tr th {\n",
       "        vertical-align: top;\n",
       "    }\n",
       "\n",
       "    .dataframe thead th {\n",
       "        text-align: right;\n",
       "    }\n",
       "</style>\n",
       "<table border=\"1\" class=\"dataframe\">\n",
       "  <thead>\n",
       "    <tr style=\"text-align: right;\">\n",
       "      <th></th>\n",
       "      <th>children</th>\n",
       "      <th>days_employed</th>\n",
       "      <th>dob_years</th>\n",
       "      <th>education</th>\n",
       "      <th>education_id</th>\n",
       "      <th>family_status</th>\n",
       "      <th>family_status_id</th>\n",
       "      <th>gender</th>\n",
       "      <th>income_type</th>\n",
       "      <th>debt</th>\n",
       "      <th>total_income</th>\n",
       "      <th>purpose</th>\n",
       "    </tr>\n",
       "  </thead>\n",
       "  <tbody>\n",
       "    <tr>\n",
       "      <th>0</th>\n",
       "      <td>1</td>\n",
       "      <td>-8437.673028</td>\n",
       "      <td>42</td>\n",
       "      <td>высшее</td>\n",
       "      <td>0</td>\n",
       "      <td>женат / замужем</td>\n",
       "      <td>0</td>\n",
       "      <td>F</td>\n",
       "      <td>сотрудник</td>\n",
       "      <td>0</td>\n",
       "      <td>253875.639453</td>\n",
       "      <td>покупка жилья</td>\n",
       "    </tr>\n",
       "    <tr>\n",
       "      <th>1</th>\n",
       "      <td>1</td>\n",
       "      <td>-4024.803754</td>\n",
       "      <td>36</td>\n",
       "      <td>среднее</td>\n",
       "      <td>1</td>\n",
       "      <td>женат / замужем</td>\n",
       "      <td>0</td>\n",
       "      <td>F</td>\n",
       "      <td>сотрудник</td>\n",
       "      <td>0</td>\n",
       "      <td>112080.014102</td>\n",
       "      <td>приобретение автомобиля</td>\n",
       "    </tr>\n",
       "    <tr>\n",
       "      <th>2</th>\n",
       "      <td>0</td>\n",
       "      <td>-5623.422610</td>\n",
       "      <td>33</td>\n",
       "      <td>Среднее</td>\n",
       "      <td>1</td>\n",
       "      <td>женат / замужем</td>\n",
       "      <td>0</td>\n",
       "      <td>M</td>\n",
       "      <td>сотрудник</td>\n",
       "      <td>0</td>\n",
       "      <td>145885.952297</td>\n",
       "      <td>покупка жилья</td>\n",
       "    </tr>\n",
       "    <tr>\n",
       "      <th>3</th>\n",
       "      <td>3</td>\n",
       "      <td>-4124.747207</td>\n",
       "      <td>32</td>\n",
       "      <td>среднее</td>\n",
       "      <td>1</td>\n",
       "      <td>женат / замужем</td>\n",
       "      <td>0</td>\n",
       "      <td>M</td>\n",
       "      <td>сотрудник</td>\n",
       "      <td>0</td>\n",
       "      <td>267628.550329</td>\n",
       "      <td>дополнительное образование</td>\n",
       "    </tr>\n",
       "    <tr>\n",
       "      <th>4</th>\n",
       "      <td>0</td>\n",
       "      <td>340266.072047</td>\n",
       "      <td>53</td>\n",
       "      <td>среднее</td>\n",
       "      <td>1</td>\n",
       "      <td>гражданский брак</td>\n",
       "      <td>1</td>\n",
       "      <td>F</td>\n",
       "      <td>пенсионер</td>\n",
       "      <td>0</td>\n",
       "      <td>158616.077870</td>\n",
       "      <td>сыграть свадьбу</td>\n",
       "    </tr>\n",
       "    <tr>\n",
       "      <th>5</th>\n",
       "      <td>0</td>\n",
       "      <td>-926.185831</td>\n",
       "      <td>27</td>\n",
       "      <td>высшее</td>\n",
       "      <td>0</td>\n",
       "      <td>гражданский брак</td>\n",
       "      <td>1</td>\n",
       "      <td>M</td>\n",
       "      <td>компаньон</td>\n",
       "      <td>0</td>\n",
       "      <td>255763.565419</td>\n",
       "      <td>покупка жилья</td>\n",
       "    </tr>\n",
       "    <tr>\n",
       "      <th>6</th>\n",
       "      <td>0</td>\n",
       "      <td>-2879.202052</td>\n",
       "      <td>43</td>\n",
       "      <td>высшее</td>\n",
       "      <td>0</td>\n",
       "      <td>женат / замужем</td>\n",
       "      <td>0</td>\n",
       "      <td>F</td>\n",
       "      <td>компаньон</td>\n",
       "      <td>0</td>\n",
       "      <td>240525.971920</td>\n",
       "      <td>операции с жильем</td>\n",
       "    </tr>\n",
       "    <tr>\n",
       "      <th>7</th>\n",
       "      <td>0</td>\n",
       "      <td>-152.779569</td>\n",
       "      <td>50</td>\n",
       "      <td>СРЕДНЕЕ</td>\n",
       "      <td>1</td>\n",
       "      <td>женат / замужем</td>\n",
       "      <td>0</td>\n",
       "      <td>M</td>\n",
       "      <td>сотрудник</td>\n",
       "      <td>0</td>\n",
       "      <td>135823.934197</td>\n",
       "      <td>образование</td>\n",
       "    </tr>\n",
       "    <tr>\n",
       "      <th>8</th>\n",
       "      <td>2</td>\n",
       "      <td>-6929.865299</td>\n",
       "      <td>35</td>\n",
       "      <td>ВЫСШЕЕ</td>\n",
       "      <td>0</td>\n",
       "      <td>гражданский брак</td>\n",
       "      <td>1</td>\n",
       "      <td>F</td>\n",
       "      <td>сотрудник</td>\n",
       "      <td>0</td>\n",
       "      <td>95856.832424</td>\n",
       "      <td>на проведение свадьбы</td>\n",
       "    </tr>\n",
       "    <tr>\n",
       "      <th>9</th>\n",
       "      <td>0</td>\n",
       "      <td>-2188.756445</td>\n",
       "      <td>41</td>\n",
       "      <td>среднее</td>\n",
       "      <td>1</td>\n",
       "      <td>женат / замужем</td>\n",
       "      <td>0</td>\n",
       "      <td>M</td>\n",
       "      <td>сотрудник</td>\n",
       "      <td>0</td>\n",
       "      <td>144425.938277</td>\n",
       "      <td>покупка жилья для семьи</td>\n",
       "    </tr>\n",
       "  </tbody>\n",
       "</table>\n",
       "</div>"
      ],
      "text/plain": [
       "   children  days_employed  dob_years education  education_id  \\\n",
       "0         1   -8437.673028         42    высшее             0   \n",
       "1         1   -4024.803754         36   среднее             1   \n",
       "2         0   -5623.422610         33   Среднее             1   \n",
       "3         3   -4124.747207         32   среднее             1   \n",
       "4         0  340266.072047         53   среднее             1   \n",
       "5         0    -926.185831         27    высшее             0   \n",
       "6         0   -2879.202052         43    высшее             0   \n",
       "7         0    -152.779569         50   СРЕДНЕЕ             1   \n",
       "8         2   -6929.865299         35    ВЫСШЕЕ             0   \n",
       "9         0   -2188.756445         41   среднее             1   \n",
       "\n",
       "      family_status  family_status_id gender income_type  debt   total_income  \\\n",
       "0   женат / замужем                 0      F   сотрудник     0  253875.639453   \n",
       "1   женат / замужем                 0      F   сотрудник     0  112080.014102   \n",
       "2   женат / замужем                 0      M   сотрудник     0  145885.952297   \n",
       "3   женат / замужем                 0      M   сотрудник     0  267628.550329   \n",
       "4  гражданский брак                 1      F   пенсионер     0  158616.077870   \n",
       "5  гражданский брак                 1      M   компаньон     0  255763.565419   \n",
       "6   женат / замужем                 0      F   компаньон     0  240525.971920   \n",
       "7   женат / замужем                 0      M   сотрудник     0  135823.934197   \n",
       "8  гражданский брак                 1      F   сотрудник     0   95856.832424   \n",
       "9   женат / замужем                 0      M   сотрудник     0  144425.938277   \n",
       "\n",
       "                      purpose  \n",
       "0               покупка жилья  \n",
       "1     приобретение автомобиля  \n",
       "2               покупка жилья  \n",
       "3  дополнительное образование  \n",
       "4             сыграть свадьбу  \n",
       "5               покупка жилья  \n",
       "6           операции с жильем  \n",
       "7                 образование  \n",
       "8       на проведение свадьбы  \n",
       "9     покупка жилья для семьи  "
      ]
     },
     "execution_count": 1,
     "metadata": {},
     "output_type": "execute_result"
    }
   ],
   "source": [
    "import pandas as pd\n",
    "import seaborn\n",
    "data = pd.read_csv('/datasets/data.csv')\n",
    "data.head(10)"
   ]
  },
  {
   "cell_type": "code",
   "execution_count": 2,
   "id": "12f42b52",
   "metadata": {
    "scrolled": true
   },
   "outputs": [
    {
     "name": "stdout",
     "output_type": "stream",
     "text": [
      "<class 'pandas.core.frame.DataFrame'>\n",
      "RangeIndex: 21525 entries, 0 to 21524\n",
      "Data columns (total 12 columns):\n",
      " #   Column            Non-Null Count  Dtype  \n",
      "---  ------            --------------  -----  \n",
      " 0   children          21525 non-null  int64  \n",
      " 1   days_employed     19351 non-null  float64\n",
      " 2   dob_years         21525 non-null  int64  \n",
      " 3   education         21525 non-null  object \n",
      " 4   education_id      21525 non-null  int64  \n",
      " 5   family_status     21525 non-null  object \n",
      " 6   family_status_id  21525 non-null  int64  \n",
      " 7   gender            21525 non-null  object \n",
      " 8   income_type       21525 non-null  object \n",
      " 9   debt              21525 non-null  int64  \n",
      " 10  total_income      19351 non-null  float64\n",
      " 11  purpose           21525 non-null  object \n",
      "dtypes: float64(2), int64(5), object(5)\n",
      "memory usage: 2.0+ MB\n"
     ]
    }
   ],
   "source": [
    "data.info()"
   ]
  },
  {
   "cell_type": "markdown",
   "id": "d1fabcc9",
   "metadata": {},
   "source": [
    "В таблице 12 столбцов. Тип данных в столбцах — `object`, `float64`, `int`\n",
    "\n",
    "Согласно документации к данным:\n",
    "* children — количество детей в семье\n",
    "* days_employed — общий трудовой стаж в днях\n",
    "* dob_years — возраст клиента в годах\n",
    "* education — уровень образования клиента\n",
    "* education_id — идентификатор уровня образования\n",
    "* family_status — семейное положение\n",
    "* family_status_id — идентификатор семейного положения\n",
    "* gender — пол клиента\n",
    "* income_type — тип занятости\n",
    "* debt — имел ли задолженность по возврату кредитов\n",
    "* total_income — ежемесячный доход\n",
    "* purpose — цель получения кредита\n",
    "\n",
    "В названиях колонок нет нарушения стиля, поэтому оставим без изменения. \n",
    "\n",
    "Количество значений в столбцах различается. Значит, в данных есть пропущенные значения.\n",
    "\n",
    "Предварительно можно утверждать, что, данных достаточно для проверки гипотез. Но встречаются пропуски в данных, чтобы двигаться дальше, нужно устранить проблемы в данных.\n",
    "\n",
    "Замечу, что в колонке трудового стажа встречаются отрицательные значения. \n"
   ]
  },
  {
   "cell_type": "markdown",
   "id": "9d7eb8aa",
   "metadata": {},
   "source": [
    "### Шаг 2.1 Заполнение пропусков"
   ]
  },
  {
   "cell_type": "markdown",
   "id": "c358ce31",
   "metadata": {},
   "source": [
    "Сначала посчитаем, сколько в таблице пропущенных значений:"
   ]
  },
  {
   "cell_type": "code",
   "execution_count": 3,
   "id": "f17660aa",
   "metadata": {},
   "outputs": [
    {
     "data": {
      "text/plain": [
       "children               0\n",
       "days_employed       2174\n",
       "dob_years              0\n",
       "education              0\n",
       "education_id           0\n",
       "family_status          0\n",
       "family_status_id       0\n",
       "gender                 0\n",
       "income_type            0\n",
       "debt                   0\n",
       "total_income        2174\n",
       "purpose                0\n",
       "dtype: int64"
      ]
     },
     "execution_count": 3,
     "metadata": {},
     "output_type": "execute_result"
    }
   ],
   "source": [
    "data.isna().sum()"
   ]
  },
  {
   "cell_type": "markdown",
   "id": "abe57e94",
   "metadata": {},
   "source": [
    "Пропуски только в двух колонках: трудовой стаж и ежемесячный доход. И число пропусков одинаково. Можно логично предположить, что отсутсвие стажа влечет за собой отсутствие дохода. Нет работы - нет денег. Но мы не можем утверждать, что именно в пропусках стажа, отсутствует доход.\n",
    "\n",
    "Относительно общего числа строк (а их у нас 21525), 2174 пропуска не так и много, но и не мало - `10%`.\n",
    "\n",
    "Предлагаю заполнить пропуски медианным значением, чтобы анализ данных прошел более точным. Медиана отличается от среднего числа, она делит выборку пополам, это лучше чем искать среднее число, ведь данные могут сильно разница. "
   ]
  },
  {
   "cell_type": "code",
   "execution_count": 4,
   "id": "e6ac7e56",
   "metadata": {
    "scrolled": false
   },
   "outputs": [
    {
     "data": {
      "text/html": [
       "<div>\n",
       "<style scoped>\n",
       "    .dataframe tbody tr th:only-of-type {\n",
       "        vertical-align: middle;\n",
       "    }\n",
       "\n",
       "    .dataframe tbody tr th {\n",
       "        vertical-align: top;\n",
       "    }\n",
       "\n",
       "    .dataframe thead th {\n",
       "        text-align: right;\n",
       "    }\n",
       "</style>\n",
       "<table border=\"1\" class=\"dataframe\">\n",
       "  <thead>\n",
       "    <tr style=\"text-align: right;\">\n",
       "      <th></th>\n",
       "      <th>children</th>\n",
       "      <th>days_employed</th>\n",
       "      <th>dob_years</th>\n",
       "      <th>education</th>\n",
       "      <th>education_id</th>\n",
       "      <th>family_status</th>\n",
       "      <th>family_status_id</th>\n",
       "      <th>gender</th>\n",
       "      <th>income_type</th>\n",
       "      <th>debt</th>\n",
       "      <th>total_income</th>\n",
       "      <th>purpose</th>\n",
       "    </tr>\n",
       "  </thead>\n",
       "  <tbody>\n",
       "    <tr>\n",
       "      <th>12</th>\n",
       "      <td>0</td>\n",
       "      <td>NaN</td>\n",
       "      <td>65</td>\n",
       "      <td>среднее</td>\n",
       "      <td>1</td>\n",
       "      <td>гражданский брак</td>\n",
       "      <td>1</td>\n",
       "      <td>M</td>\n",
       "      <td>пенсионер</td>\n",
       "      <td>0</td>\n",
       "      <td>NaN</td>\n",
       "      <td>сыграть свадьбу</td>\n",
       "    </tr>\n",
       "    <tr>\n",
       "      <th>26</th>\n",
       "      <td>0</td>\n",
       "      <td>NaN</td>\n",
       "      <td>41</td>\n",
       "      <td>среднее</td>\n",
       "      <td>1</td>\n",
       "      <td>женат / замужем</td>\n",
       "      <td>0</td>\n",
       "      <td>M</td>\n",
       "      <td>госслужащий</td>\n",
       "      <td>0</td>\n",
       "      <td>NaN</td>\n",
       "      <td>образование</td>\n",
       "    </tr>\n",
       "    <tr>\n",
       "      <th>29</th>\n",
       "      <td>0</td>\n",
       "      <td>NaN</td>\n",
       "      <td>63</td>\n",
       "      <td>среднее</td>\n",
       "      <td>1</td>\n",
       "      <td>Не женат / не замужем</td>\n",
       "      <td>4</td>\n",
       "      <td>F</td>\n",
       "      <td>пенсионер</td>\n",
       "      <td>0</td>\n",
       "      <td>NaN</td>\n",
       "      <td>строительство жилой недвижимости</td>\n",
       "    </tr>\n",
       "    <tr>\n",
       "      <th>41</th>\n",
       "      <td>0</td>\n",
       "      <td>NaN</td>\n",
       "      <td>50</td>\n",
       "      <td>среднее</td>\n",
       "      <td>1</td>\n",
       "      <td>женат / замужем</td>\n",
       "      <td>0</td>\n",
       "      <td>F</td>\n",
       "      <td>госслужащий</td>\n",
       "      <td>0</td>\n",
       "      <td>NaN</td>\n",
       "      <td>сделка с подержанным автомобилем</td>\n",
       "    </tr>\n",
       "    <tr>\n",
       "      <th>55</th>\n",
       "      <td>0</td>\n",
       "      <td>NaN</td>\n",
       "      <td>54</td>\n",
       "      <td>среднее</td>\n",
       "      <td>1</td>\n",
       "      <td>гражданский брак</td>\n",
       "      <td>1</td>\n",
       "      <td>F</td>\n",
       "      <td>пенсионер</td>\n",
       "      <td>1</td>\n",
       "      <td>NaN</td>\n",
       "      <td>сыграть свадьбу</td>\n",
       "    </tr>\n",
       "  </tbody>\n",
       "</table>\n",
       "</div>"
      ],
      "text/plain": [
       "    children  days_employed  dob_years education  education_id  \\\n",
       "12         0            NaN         65   среднее             1   \n",
       "26         0            NaN         41   среднее             1   \n",
       "29         0            NaN         63   среднее             1   \n",
       "41         0            NaN         50   среднее             1   \n",
       "55         0            NaN         54   среднее             1   \n",
       "\n",
       "            family_status  family_status_id gender  income_type  debt  \\\n",
       "12       гражданский брак                 1      M    пенсионер     0   \n",
       "26        женат / замужем                 0      M  госслужащий     0   \n",
       "29  Не женат / не замужем                 4      F    пенсионер     0   \n",
       "41        женат / замужем                 0      F  госслужащий     0   \n",
       "55       гражданский брак                 1      F    пенсионер     1   \n",
       "\n",
       "    total_income                           purpose  \n",
       "12           NaN                   сыграть свадьбу  \n",
       "26           NaN                       образование  \n",
       "29           NaN  строительство жилой недвижимости  \n",
       "41           NaN  сделка с подержанным автомобилем  \n",
       "55           NaN                   сыграть свадьбу  "
      ]
     },
     "execution_count": 4,
     "metadata": {},
     "output_type": "execute_result"
    }
   ],
   "source": [
    "data[data['days_employed'].isna()].head()"
   ]
  },
  {
   "cell_type": "code",
   "execution_count": 5,
   "id": "29cb579a",
   "metadata": {
    "scrolled": true
   },
   "outputs": [
    {
     "data": {
      "text/html": [
       "<div>\n",
       "<style scoped>\n",
       "    .dataframe tbody tr th:only-of-type {\n",
       "        vertical-align: middle;\n",
       "    }\n",
       "\n",
       "    .dataframe tbody tr th {\n",
       "        vertical-align: top;\n",
       "    }\n",
       "\n",
       "    .dataframe thead th {\n",
       "        text-align: right;\n",
       "    }\n",
       "</style>\n",
       "<table border=\"1\" class=\"dataframe\">\n",
       "  <thead>\n",
       "    <tr style=\"text-align: right;\">\n",
       "      <th></th>\n",
       "      <th>children</th>\n",
       "      <th>days_employed</th>\n",
       "      <th>dob_years</th>\n",
       "      <th>education</th>\n",
       "      <th>education_id</th>\n",
       "      <th>family_status</th>\n",
       "      <th>family_status_id</th>\n",
       "      <th>gender</th>\n",
       "      <th>income_type</th>\n",
       "      <th>debt</th>\n",
       "      <th>total_income</th>\n",
       "      <th>purpose</th>\n",
       "    </tr>\n",
       "  </thead>\n",
       "  <tbody>\n",
       "    <tr>\n",
       "      <th>12</th>\n",
       "      <td>0</td>\n",
       "      <td>NaN</td>\n",
       "      <td>65</td>\n",
       "      <td>среднее</td>\n",
       "      <td>1</td>\n",
       "      <td>гражданский брак</td>\n",
       "      <td>1</td>\n",
       "      <td>M</td>\n",
       "      <td>пенсионер</td>\n",
       "      <td>0</td>\n",
       "      <td>NaN</td>\n",
       "      <td>сыграть свадьбу</td>\n",
       "    </tr>\n",
       "    <tr>\n",
       "      <th>26</th>\n",
       "      <td>0</td>\n",
       "      <td>NaN</td>\n",
       "      <td>41</td>\n",
       "      <td>среднее</td>\n",
       "      <td>1</td>\n",
       "      <td>женат / замужем</td>\n",
       "      <td>0</td>\n",
       "      <td>M</td>\n",
       "      <td>госслужащий</td>\n",
       "      <td>0</td>\n",
       "      <td>NaN</td>\n",
       "      <td>образование</td>\n",
       "    </tr>\n",
       "    <tr>\n",
       "      <th>29</th>\n",
       "      <td>0</td>\n",
       "      <td>NaN</td>\n",
       "      <td>63</td>\n",
       "      <td>среднее</td>\n",
       "      <td>1</td>\n",
       "      <td>Не женат / не замужем</td>\n",
       "      <td>4</td>\n",
       "      <td>F</td>\n",
       "      <td>пенсионер</td>\n",
       "      <td>0</td>\n",
       "      <td>NaN</td>\n",
       "      <td>строительство жилой недвижимости</td>\n",
       "    </tr>\n",
       "    <tr>\n",
       "      <th>41</th>\n",
       "      <td>0</td>\n",
       "      <td>NaN</td>\n",
       "      <td>50</td>\n",
       "      <td>среднее</td>\n",
       "      <td>1</td>\n",
       "      <td>женат / замужем</td>\n",
       "      <td>0</td>\n",
       "      <td>F</td>\n",
       "      <td>госслужащий</td>\n",
       "      <td>0</td>\n",
       "      <td>NaN</td>\n",
       "      <td>сделка с подержанным автомобилем</td>\n",
       "    </tr>\n",
       "    <tr>\n",
       "      <th>55</th>\n",
       "      <td>0</td>\n",
       "      <td>NaN</td>\n",
       "      <td>54</td>\n",
       "      <td>среднее</td>\n",
       "      <td>1</td>\n",
       "      <td>гражданский брак</td>\n",
       "      <td>1</td>\n",
       "      <td>F</td>\n",
       "      <td>пенсионер</td>\n",
       "      <td>1</td>\n",
       "      <td>NaN</td>\n",
       "      <td>сыграть свадьбу</td>\n",
       "    </tr>\n",
       "  </tbody>\n",
       "</table>\n",
       "</div>"
      ],
      "text/plain": [
       "    children  days_employed  dob_years education  education_id  \\\n",
       "12         0            NaN         65   среднее             1   \n",
       "26         0            NaN         41   среднее             1   \n",
       "29         0            NaN         63   среднее             1   \n",
       "41         0            NaN         50   среднее             1   \n",
       "55         0            NaN         54   среднее             1   \n",
       "\n",
       "            family_status  family_status_id gender  income_type  debt  \\\n",
       "12       гражданский брак                 1      M    пенсионер     0   \n",
       "26        женат / замужем                 0      M  госслужащий     0   \n",
       "29  Не женат / не замужем                 4      F    пенсионер     0   \n",
       "41        женат / замужем                 0      F  госслужащий     0   \n",
       "55       гражданский брак                 1      F    пенсионер     1   \n",
       "\n",
       "    total_income                           purpose  \n",
       "12           NaN                   сыграть свадьбу  \n",
       "26           NaN                       образование  \n",
       "29           NaN  строительство жилой недвижимости  \n",
       "41           NaN  сделка с подержанным автомобилем  \n",
       "55           NaN                   сыграть свадьбу  "
      ]
     },
     "execution_count": 5,
     "metadata": {},
     "output_type": "execute_result"
    }
   ],
   "source": [
    "data[data['total_income'].isna()].head()"
   ]
  },
  {
   "cell_type": "markdown",
   "id": "7f9c381a",
   "metadata": {},
   "source": [
    "Итак, наглядно видим, что пропуск в колонке стажа зависит от пропуска в колонке дохода. Верояно, это человеческий фактор, забыли указать, пропустили. А может и нечего было указывать, тогда почему не поставили 0."
   ]
  },
  {
   "cell_type": "code",
   "execution_count": 6,
   "id": "b3636414",
   "metadata": {
    "scrolled": false
   },
   "outputs": [
    {
     "data": {
      "text/plain": [
       "'-1203.37'"
      ]
     },
     "execution_count": 6,
     "metadata": {},
     "output_type": "execute_result"
    }
   ],
   "source": [
    "#ищем медианные значения\n",
    "days_employed_median = data['days_employed'].median()\n",
    "f'{days_employed_median:.2f}'"
   ]
  },
  {
   "cell_type": "code",
   "execution_count": 7,
   "id": "0a5029ff",
   "metadata": {},
   "outputs": [
    {
     "data": {
      "text/plain": [
       "'145017.94'"
      ]
     },
     "execution_count": 7,
     "metadata": {},
     "output_type": "execute_result"
    }
   ],
   "source": [
    "total_income_median = data['total_income'].median()\n",
    "f'{total_income_median:.2f}'"
   ]
  },
  {
   "cell_type": "markdown",
   "id": "5161ca64",
   "metadata": {},
   "source": [
    "Итак, медианное число трудового стажа - `-1203.37` , а ежемесячного дохода - `145017.94`. Поменяем все пропуски в доходе на это значение, а трудовой стаж пока оставим как есть"
   ]
  },
  {
   "cell_type": "code",
   "execution_count": 8,
   "id": "f3d527c7",
   "metadata": {},
   "outputs": [
    {
     "data": {
      "text/plain": [
       "children               0\n",
       "days_employed       2174\n",
       "dob_years              0\n",
       "education              0\n",
       "education_id           0\n",
       "family_status          0\n",
       "family_status_id       0\n",
       "gender                 0\n",
       "income_type            0\n",
       "debt                   0\n",
       "total_income           0\n",
       "purpose                0\n",
       "dtype: int64"
      ]
     },
     "execution_count": 8,
     "metadata": {},
     "output_type": "execute_result"
    }
   ],
   "source": [
    "data['total_income'] = data['total_income'].fillna(total_income_median)\n",
    "data.isna().sum()"
   ]
  },
  {
   "cell_type": "markdown",
   "id": "98905051",
   "metadata": {},
   "source": [
    "### Шаг 2.2 Проверка данных на аномалии и исправления."
   ]
  },
  {
   "cell_type": "markdown",
   "id": "0479c804",
   "metadata": {},
   "source": [
    "Одна из аномалий, которая сразу бросается в глаза - это отрицательный стаж работы. Причин, по которым это происходит, может быть много. Возможно это случайная опечатка, а просто нужно убрать минус у чисел, а может это сбой прогроммы. \n",
    "\n",
    "Обнаружение выбросов (также известное как обнаружение аномалий) — это процесс поиска объектов данных, поведение которых сильно отличается от ожидаемого. Чтобы лучше осознать смысл выбросов, надо понимать, что отличает аномалию от шума. С точки зрения логики, показатель трудового стаже не может быть отрицательным, \"нормальное\" значение должно быть положительным числом. "
   ]
  },
  {
   "cell_type": "code",
   "execution_count": 9,
   "id": "9af7b154",
   "metadata": {},
   "outputs": [
    {
     "data": {
      "text/plain": [
       "-18388.949900568383"
      ]
     },
     "execution_count": 9,
     "metadata": {},
     "output_type": "execute_result"
    }
   ],
   "source": [
    "#посмотрим минимальное и максимальное число трудового стажа\n",
    "data['days_employed'].min()"
   ]
  },
  {
   "cell_type": "code",
   "execution_count": 10,
   "id": "9ce0427a",
   "metadata": {},
   "outputs": [
    {
     "data": {
      "text/plain": [
       "401755.40047533"
      ]
     },
     "execution_count": 10,
     "metadata": {},
     "output_type": "execute_result"
    }
   ],
   "source": [
    "data['days_employed'].max()"
   ]
  },
  {
   "cell_type": "code",
   "execution_count": 11,
   "id": "14d42d34",
   "metadata": {},
   "outputs": [
    {
     "data": {
      "text/plain": [
       "<AxesSubplot:xlabel='days_employed', ylabel='days_employed'>"
      ]
     },
     "execution_count": 11,
     "metadata": {},
     "output_type": "execute_result"
    },
    {
     "data": {
      "image/png": "[encoded data removed]",
      "text/plain": [
       "<Figure size 432x288 with 1 Axes>"
      ]
     },
     "metadata": {
      "needs_background": "light"
     },
     "output_type": "display_data"
    }
   ],
   "source": [
    "#создадим диаграмму рассеивания\n",
    "import seaborn\n",
    "seaborn.scatterplot(x= data['days_employed'], y = data['days_employed'])"
   ]
  },
  {
   "cell_type": "markdown",
   "id": "a73b0531",
   "metadata": {},
   "source": [
    "Мы видим, что часть точек слишком отличается от других. Если мы изменим эти значения, взяв число в модуль, то данные придут в норму"
   ]
  },
  {
   "cell_type": "code",
   "execution_count": 12,
   "id": "6de4a04e",
   "metadata": {
    "scrolled": true
   },
   "outputs": [
    {
     "data": {
      "text/html": [
       "<div>\n",
       "<style scoped>\n",
       "    .dataframe tbody tr th:only-of-type {\n",
       "        vertical-align: middle;\n",
       "    }\n",
       "\n",
       "    .dataframe tbody tr th {\n",
       "        vertical-align: top;\n",
       "    }\n",
       "\n",
       "    .dataframe thead th {\n",
       "        text-align: right;\n",
       "    }\n",
       "</style>\n",
       "<table border=\"1\" class=\"dataframe\">\n",
       "  <thead>\n",
       "    <tr style=\"text-align: right;\">\n",
       "      <th></th>\n",
       "      <th>children</th>\n",
       "      <th>days_employed</th>\n",
       "      <th>dob_years</th>\n",
       "      <th>education</th>\n",
       "      <th>education_id</th>\n",
       "      <th>family_status</th>\n",
       "      <th>family_status_id</th>\n",
       "      <th>gender</th>\n",
       "      <th>income_type</th>\n",
       "      <th>debt</th>\n",
       "      <th>total_income</th>\n",
       "      <th>purpose</th>\n",
       "    </tr>\n",
       "  </thead>\n",
       "  <tbody>\n",
       "    <tr>\n",
       "      <th>0</th>\n",
       "      <td>1</td>\n",
       "      <td>8437.673028</td>\n",
       "      <td>42</td>\n",
       "      <td>высшее</td>\n",
       "      <td>0</td>\n",
       "      <td>женат / замужем</td>\n",
       "      <td>0</td>\n",
       "      <td>F</td>\n",
       "      <td>сотрудник</td>\n",
       "      <td>0</td>\n",
       "      <td>253875.639453</td>\n",
       "      <td>покупка жилья</td>\n",
       "    </tr>\n",
       "    <tr>\n",
       "      <th>1</th>\n",
       "      <td>1</td>\n",
       "      <td>4024.803754</td>\n",
       "      <td>36</td>\n",
       "      <td>среднее</td>\n",
       "      <td>1</td>\n",
       "      <td>женат / замужем</td>\n",
       "      <td>0</td>\n",
       "      <td>F</td>\n",
       "      <td>сотрудник</td>\n",
       "      <td>0</td>\n",
       "      <td>112080.014102</td>\n",
       "      <td>приобретение автомобиля</td>\n",
       "    </tr>\n",
       "    <tr>\n",
       "      <th>2</th>\n",
       "      <td>0</td>\n",
       "      <td>5623.422610</td>\n",
       "      <td>33</td>\n",
       "      <td>Среднее</td>\n",
       "      <td>1</td>\n",
       "      <td>женат / замужем</td>\n",
       "      <td>0</td>\n",
       "      <td>M</td>\n",
       "      <td>сотрудник</td>\n",
       "      <td>0</td>\n",
       "      <td>145885.952297</td>\n",
       "      <td>покупка жилья</td>\n",
       "    </tr>\n",
       "    <tr>\n",
       "      <th>3</th>\n",
       "      <td>3</td>\n",
       "      <td>4124.747207</td>\n",
       "      <td>32</td>\n",
       "      <td>среднее</td>\n",
       "      <td>1</td>\n",
       "      <td>женат / замужем</td>\n",
       "      <td>0</td>\n",
       "      <td>M</td>\n",
       "      <td>сотрудник</td>\n",
       "      <td>0</td>\n",
       "      <td>267628.550329</td>\n",
       "      <td>дополнительное образование</td>\n",
       "    </tr>\n",
       "    <tr>\n",
       "      <th>4</th>\n",
       "      <td>0</td>\n",
       "      <td>340266.072047</td>\n",
       "      <td>53</td>\n",
       "      <td>среднее</td>\n",
       "      <td>1</td>\n",
       "      <td>гражданский брак</td>\n",
       "      <td>1</td>\n",
       "      <td>F</td>\n",
       "      <td>пенсионер</td>\n",
       "      <td>0</td>\n",
       "      <td>158616.077870</td>\n",
       "      <td>сыграть свадьбу</td>\n",
       "    </tr>\n",
       "  </tbody>\n",
       "</table>\n",
       "</div>"
      ],
      "text/plain": [
       "   children  days_employed  dob_years education  education_id  \\\n",
       "0         1    8437.673028         42    высшее             0   \n",
       "1         1    4024.803754         36   среднее             1   \n",
       "2         0    5623.422610         33   Среднее             1   \n",
       "3         3    4124.747207         32   среднее             1   \n",
       "4         0  340266.072047         53   среднее             1   \n",
       "\n",
       "      family_status  family_status_id gender income_type  debt   total_income  \\\n",
       "0   женат / замужем                 0      F   сотрудник     0  253875.639453   \n",
       "1   женат / замужем                 0      F   сотрудник     0  112080.014102   \n",
       "2   женат / замужем                 0      M   сотрудник     0  145885.952297   \n",
       "3   женат / замужем                 0      M   сотрудник     0  267628.550329   \n",
       "4  гражданский брак                 1      F   пенсионер     0  158616.077870   \n",
       "\n",
       "                      purpose  \n",
       "0               покупка жилья  \n",
       "1     приобретение автомобиля  \n",
       "2               покупка жилья  \n",
       "3  дополнительное образование  \n",
       "4             сыграть свадьбу  "
      ]
     },
     "execution_count": 12,
     "metadata": {},
     "output_type": "execute_result"
    }
   ],
   "source": [
    "data['days_employed'] = abs(data['days_employed'])\n",
    "data.head()"
   ]
  },
  {
   "cell_type": "markdown",
   "id": "a64535fe",
   "metadata": {},
   "source": [
    "Итак значения перестали быть отрицательными, но числа остались. Попробуем еще раз сделать диаграмму рассеивания"
   ]
  },
  {
   "cell_type": "code",
   "execution_count": 13,
   "id": "9e4e556f",
   "metadata": {},
   "outputs": [
    {
     "data": {
      "text/plain": [
       "<AxesSubplot:xlabel='days_employed', ylabel='days_employed'>"
      ]
     },
     "execution_count": 13,
     "metadata": {},
     "output_type": "execute_result"
    },
    {
     "data": {
      "image/png": "[encoded data removed]",
      "text/plain": [
       "<Figure size 432x288 with 1 Axes>"
      ]
     },
     "metadata": {
      "needs_background": "light"
     },
     "output_type": "display_data"
    }
   ],
   "source": [
    "seaborn.scatterplot(x= data['days_employed'], y = data['days_employed'])"
   ]
  },
  {
   "cell_type": "code",
   "execution_count": 14,
   "id": "103733d8",
   "metadata": {},
   "outputs": [
    {
     "data": {
      "text/plain": [
       "'2194.22'"
      ]
     },
     "execution_count": 14,
     "metadata": {},
     "output_type": "execute_result"
    }
   ],
   "source": [
    "days_employed_median = data['days_employed'].median()\n",
    "f'{days_employed_median:.2f}'"
   ]
  },
  {
   "cell_type": "markdown",
   "id": "244b090d",
   "metadata": {},
   "source": [
    "Итак, мы видим, что числа хоть и стали положительными, но все же находятся слишком далеко от общей массы. Получается общую картину мы не нарушили, но с отсутствием отрицательных значений можно будет выполнить более точные расчеты. И, кстати, медианное число тоже изменилось. Им мы и заполним пропуски."
   ]
  },
  {
   "cell_type": "code",
   "execution_count": 15,
   "id": "aae41929",
   "metadata": {},
   "outputs": [
    {
     "data": {
      "text/plain": [
       "children            0\n",
       "days_employed       0\n",
       "dob_years           0\n",
       "education           0\n",
       "education_id        0\n",
       "family_status       0\n",
       "family_status_id    0\n",
       "gender              0\n",
       "income_type         0\n",
       "debt                0\n",
       "total_income        0\n",
       "purpose             0\n",
       "dtype: int64"
      ]
     },
     "execution_count": 15,
     "metadata": {},
     "output_type": "execute_result"
    }
   ],
   "source": [
    "data['days_employed'] = data['days_employed'].fillna(days_employed_median)\n",
    "data.isna().sum()"
   ]
  },
  {
   "cell_type": "code",
   "execution_count": 16,
   "id": "57a66932",
   "metadata": {},
   "outputs": [
    {
     "data": {
      "text/html": [
       "<div>\n",
       "<style scoped>\n",
       "    .dataframe tbody tr th:only-of-type {\n",
       "        vertical-align: middle;\n",
       "    }\n",
       "\n",
       "    .dataframe tbody tr th {\n",
       "        vertical-align: top;\n",
       "    }\n",
       "\n",
       "    .dataframe thead th {\n",
       "        text-align: right;\n",
       "    }\n",
       "</style>\n",
       "<table border=\"1\" class=\"dataframe\">\n",
       "  <thead>\n",
       "    <tr style=\"text-align: right;\">\n",
       "      <th></th>\n",
       "      <th>children</th>\n",
       "      <th>days_employed</th>\n",
       "      <th>dob_years</th>\n",
       "      <th>education</th>\n",
       "      <th>education_id</th>\n",
       "      <th>family_status</th>\n",
       "      <th>family_status_id</th>\n",
       "      <th>gender</th>\n",
       "      <th>income_type</th>\n",
       "      <th>debt</th>\n",
       "      <th>total_income</th>\n",
       "      <th>purpose</th>\n",
       "    </tr>\n",
       "  </thead>\n",
       "  <tbody>\n",
       "  </tbody>\n",
       "</table>\n",
       "</div>"
      ],
      "text/plain": [
       "Empty DataFrame\n",
       "Columns: [children, days_employed, dob_years, education, education_id, family_status, family_status_id, gender, income_type, debt, total_income, purpose]\n",
       "Index: []"
      ]
     },
     "execution_count": 16,
     "metadata": {},
     "output_type": "execute_result"
    }
   ],
   "source": [
    "#проверим пропуски еще раз и убедимся что точно отсутствуют\n",
    "data[data['days_employed'].isna()].head()"
   ]
  },
  {
   "cell_type": "code",
   "execution_count": 17,
   "id": "4be082ee",
   "metadata": {},
   "outputs": [
    {
     "data": {
      "text/plain": [
       " 0     14149\n",
       " 1      4818\n",
       " 2      2055\n",
       " 3       330\n",
       " 20       76\n",
       "-1        47\n",
       " 4        41\n",
       " 5         9\n",
       "Name: children, dtype: int64"
      ]
     },
     "execution_count": 17,
     "metadata": {},
     "output_type": "execute_result"
    }
   ],
   "source": [
    "#проверим столбец с количеством детей\n",
    "data['children'].value_counts()"
   ]
  },
  {
   "cell_type": "markdown",
   "id": "c73ecb4c",
   "metadata": {},
   "source": [
    "Видим отрицательное значение `-1` и огромное число `20`. Скорее всего это опечатка или неверный сбор данных. Поэтому уберем минус с помощью модуля и превратим число 20 в 2. "
   ]
  },
  {
   "cell_type": "code",
   "execution_count": 18,
   "id": "5c875734",
   "metadata": {},
   "outputs": [
    {
     "data": {
      "text/plain": [
       "0    14149\n",
       "1     4865\n",
       "2     2131\n",
       "3      330\n",
       "4       41\n",
       "5        9\n",
       "Name: children, dtype: int64"
      ]
     },
     "execution_count": 18,
     "metadata": {},
     "output_type": "execute_result"
    }
   ],
   "source": [
    "data.loc[data['children'] == 20, 'children'] = 2\n",
    "data.loc[data['children'] == -1, 'children'] = 1\n",
    "data['children'].value_counts()"
   ]
  },
  {
   "cell_type": "code",
   "execution_count": 19,
   "id": "1b12a34e",
   "metadata": {},
   "outputs": [
    {
     "data": {
      "text/plain": [
       "array([ 0, 19, 20, 21, 22, 23, 24, 25, 26, 27, 28, 29, 30, 31, 32, 33, 34,\n",
       "       35, 36, 37, 38, 39, 40, 41, 42, 43, 44, 45, 46, 47, 48, 49, 50, 51,\n",
       "       52, 53, 54, 55, 56, 57, 58, 59, 60, 61, 62, 63, 64, 65, 66, 67, 68,\n",
       "       69, 70, 71, 72, 73, 74, 75])"
      ]
     },
     "execution_count": 19,
     "metadata": {},
     "output_type": "execute_result"
    }
   ],
   "source": [
    "#проверим столбец с возрастом\n",
    "data['dob_years'].sort_values().unique()"
   ]
  },
  {
   "cell_type": "code",
   "execution_count": 20,
   "id": "56d9ad9c",
   "metadata": {},
   "outputs": [
    {
     "data": {
      "text/plain": [
       "101"
      ]
     },
     "execution_count": 20,
     "metadata": {},
     "output_type": "execute_result"
    }
   ],
   "source": [
    "data[data['dob_years'] == 0].value_counts().sum()"
   ]
  },
  {
   "cell_type": "markdown",
   "id": "34a45557",
   "metadata": {},
   "source": [
    "Число 0 смущает в колонке с возрастом. Скорее всего это тоже пропуск. Данные будут искажены, если оставим все как есть. Заполним это число медианой. Из общего числа строк, 101 строчка с показателем 0 - это всего 0,47%"
   ]
  },
  {
   "cell_type": "code",
   "execution_count": 21,
   "id": "d1a89975",
   "metadata": {},
   "outputs": [
    {
     "data": {
      "text/plain": [
       "array([19., 20., 21., 22., 23., 24., 25., 26., 27., 28., 29., 30., 31.,\n",
       "       32., 33., 34., 35., 36., 37., 38., 39., 40., 41., 42., 43., 44.,\n",
       "       45., 46., 47., 48., 49., 50., 51., 52., 53., 54., 55., 56., 57.,\n",
       "       58., 59., 60., 61., 62., 63., 64., 65., 66., 67., 68., 69., 70.,\n",
       "       71., 72., 73., 74., 75.])"
      ]
     },
     "execution_count": 21,
     "metadata": {},
     "output_type": "execute_result"
    }
   ],
   "source": [
    "data.loc[data['dob_years'] == 0, 'dob_years'] = data['dob_years'].median()\n",
    "data['dob_years'].sort_values().unique()"
   ]
  },
  {
   "cell_type": "code",
   "execution_count": 22,
   "id": "8e2b4e5b",
   "metadata": {},
   "outputs": [
    {
     "data": {
      "text/plain": [
       "array(['F', 'M', 'XNA'], dtype=object)"
      ]
     },
     "execution_count": 22,
     "metadata": {},
     "output_type": "execute_result"
    }
   ],
   "source": [
    "#проверим столбец пола\n",
    "data['gender'].unique()"
   ]
  },
  {
   "cell_type": "code",
   "execution_count": 23,
   "id": "e64ad41d",
   "metadata": {
    "scrolled": true
   },
   "outputs": [
    {
     "data": {
      "text/plain": [
       "0    19784\n",
       "1     1741\n",
       "Name: debt, dtype: int64"
      ]
     },
     "execution_count": 23,
     "metadata": {},
     "output_type": "execute_result"
    }
   ],
   "source": [
    "#столбец debt\n",
    "data['debt'].value_counts()"
   ]
  },
  {
   "cell_type": "markdown",
   "id": "bce7f7ac",
   "metadata": {},
   "source": [
    "Цифра 0 - не имел проблем с возвратом кредита в срок, а 1 - были проблемы"
   ]
  },
  {
   "cell_type": "markdown",
   "id": "317290d6",
   "metadata": {},
   "source": [
    "### Шаг 2.3. Изменение типов данных."
   ]
  },
  {
   "cell_type": "code",
   "execution_count": 24,
   "id": "4f8d2b79",
   "metadata": {},
   "outputs": [
    {
     "data": {
      "text/html": [
       "<div>\n",
       "<style scoped>\n",
       "    .dataframe tbody tr th:only-of-type {\n",
       "        vertical-align: middle;\n",
       "    }\n",
       "\n",
       "    .dataframe tbody tr th {\n",
       "        vertical-align: top;\n",
       "    }\n",
       "\n",
       "    .dataframe thead th {\n",
       "        text-align: right;\n",
       "    }\n",
       "</style>\n",
       "<table border=\"1\" class=\"dataframe\">\n",
       "  <thead>\n",
       "    <tr style=\"text-align: right;\">\n",
       "      <th></th>\n",
       "      <th>children</th>\n",
       "      <th>days_employed</th>\n",
       "      <th>dob_years</th>\n",
       "      <th>education</th>\n",
       "      <th>education_id</th>\n",
       "      <th>family_status</th>\n",
       "      <th>family_status_id</th>\n",
       "      <th>gender</th>\n",
       "      <th>income_type</th>\n",
       "      <th>debt</th>\n",
       "      <th>total_income</th>\n",
       "      <th>purpose</th>\n",
       "    </tr>\n",
       "  </thead>\n",
       "  <tbody>\n",
       "    <tr>\n",
       "      <th>0</th>\n",
       "      <td>1</td>\n",
       "      <td>8437.673028</td>\n",
       "      <td>42.0</td>\n",
       "      <td>высшее</td>\n",
       "      <td>0</td>\n",
       "      <td>женат / замужем</td>\n",
       "      <td>0</td>\n",
       "      <td>F</td>\n",
       "      <td>сотрудник</td>\n",
       "      <td>0</td>\n",
       "      <td>253875</td>\n",
       "      <td>покупка жилья</td>\n",
       "    </tr>\n",
       "    <tr>\n",
       "      <th>1</th>\n",
       "      <td>1</td>\n",
       "      <td>4024.803754</td>\n",
       "      <td>36.0</td>\n",
       "      <td>среднее</td>\n",
       "      <td>1</td>\n",
       "      <td>женат / замужем</td>\n",
       "      <td>0</td>\n",
       "      <td>F</td>\n",
       "      <td>сотрудник</td>\n",
       "      <td>0</td>\n",
       "      <td>112080</td>\n",
       "      <td>приобретение автомобиля</td>\n",
       "    </tr>\n",
       "    <tr>\n",
       "      <th>2</th>\n",
       "      <td>0</td>\n",
       "      <td>5623.422610</td>\n",
       "      <td>33.0</td>\n",
       "      <td>Среднее</td>\n",
       "      <td>1</td>\n",
       "      <td>женат / замужем</td>\n",
       "      <td>0</td>\n",
       "      <td>M</td>\n",
       "      <td>сотрудник</td>\n",
       "      <td>0</td>\n",
       "      <td>145885</td>\n",
       "      <td>покупка жилья</td>\n",
       "    </tr>\n",
       "    <tr>\n",
       "      <th>3</th>\n",
       "      <td>3</td>\n",
       "      <td>4124.747207</td>\n",
       "      <td>32.0</td>\n",
       "      <td>среднее</td>\n",
       "      <td>1</td>\n",
       "      <td>женат / замужем</td>\n",
       "      <td>0</td>\n",
       "      <td>M</td>\n",
       "      <td>сотрудник</td>\n",
       "      <td>0</td>\n",
       "      <td>267628</td>\n",
       "      <td>дополнительное образование</td>\n",
       "    </tr>\n",
       "    <tr>\n",
       "      <th>4</th>\n",
       "      <td>0</td>\n",
       "      <td>340266.072047</td>\n",
       "      <td>53.0</td>\n",
       "      <td>среднее</td>\n",
       "      <td>1</td>\n",
       "      <td>гражданский брак</td>\n",
       "      <td>1</td>\n",
       "      <td>F</td>\n",
       "      <td>пенсионер</td>\n",
       "      <td>0</td>\n",
       "      <td>158616</td>\n",
       "      <td>сыграть свадьбу</td>\n",
       "    </tr>\n",
       "  </tbody>\n",
       "</table>\n",
       "</div>"
      ],
      "text/plain": [
       "   children  days_employed  dob_years education  education_id  \\\n",
       "0         1    8437.673028       42.0    высшее             0   \n",
       "1         1    4024.803754       36.0   среднее             1   \n",
       "2         0    5623.422610       33.0   Среднее             1   \n",
       "3         3    4124.747207       32.0   среднее             1   \n",
       "4         0  340266.072047       53.0   среднее             1   \n",
       "\n",
       "      family_status  family_status_id gender income_type  debt  total_income  \\\n",
       "0   женат / замужем                 0      F   сотрудник     0        253875   \n",
       "1   женат / замужем                 0      F   сотрудник     0        112080   \n",
       "2   женат / замужем                 0      M   сотрудник     0        145885   \n",
       "3   женат / замужем                 0      M   сотрудник     0        267628   \n",
       "4  гражданский брак                 1      F   пенсионер     0        158616   \n",
       "\n",
       "                      purpose  \n",
       "0               покупка жилья  \n",
       "1     приобретение автомобиля  \n",
       "2               покупка жилья  \n",
       "3  дополнительное образование  \n",
       "4             сыграть свадьбу  "
      ]
     },
     "execution_count": 24,
     "metadata": {},
     "output_type": "execute_result"
    }
   ],
   "source": [
    "#Заменим вещественный тип данных в столбце total_income на целочисленный, с помощью метода astype()\n",
    "data['total_income'] = data['total_income'].astype(int)\n",
    "data.head()"
   ]
  },
  {
   "cell_type": "markdown",
   "id": "7eebf561",
   "metadata": {},
   "source": [
    "### Шаг 2.4. Удаление дубликатов."
   ]
  },
  {
   "cell_type": "code",
   "execution_count": 25,
   "id": "30cf3b3e",
   "metadata": {},
   "outputs": [
    {
     "data": {
      "text/plain": [
       "55"
      ]
     },
     "execution_count": 25,
     "metadata": {},
     "output_type": "execute_result"
    }
   ],
   "source": [
    "#посмотрим есть ли в таблице дубликаты\n",
    "data.duplicated().sum()"
   ]
  },
  {
   "cell_type": "markdown",
   "id": "b82f02c2",
   "metadata": {},
   "source": [
    "Ага, 54 дубликата явных дубликата. Удалим, сохраняя новые индексы и порядок"
   ]
  },
  {
   "cell_type": "code",
   "execution_count": 26,
   "id": "1c53e43f",
   "metadata": {},
   "outputs": [
    {
     "data": {
      "text/plain": [
       "0"
      ]
     },
     "execution_count": 26,
     "metadata": {},
     "output_type": "execute_result"
    }
   ],
   "source": [
    "data = data.drop_duplicates().reset_index(drop=True)\n",
    "data.duplicated().sum()"
   ]
  },
  {
   "cell_type": "code",
   "execution_count": 27,
   "id": "51843699",
   "metadata": {},
   "outputs": [
    {
     "data": {
      "text/plain": [
       "array(['ВЫСШЕЕ', 'Высшее', 'НАЧАЛЬНОЕ', 'НЕОКОНЧЕННОЕ ВЫСШЕЕ',\n",
       "       'Начальное', 'Неоконченное высшее', 'СРЕДНЕЕ', 'Среднее',\n",
       "       'УЧЕНАЯ СТЕПЕНЬ', 'Ученая степень', 'высшее', 'начальное',\n",
       "       'неоконченное высшее', 'среднее', 'ученая степень'], dtype=object)"
      ]
     },
     "execution_count": 27,
     "metadata": {},
     "output_type": "execute_result"
    }
   ],
   "source": [
    "data['education'].sort_values().unique()"
   ]
  },
  {
   "cell_type": "code",
   "execution_count": 28,
   "id": "a3ee56b9",
   "metadata": {
    "scrolled": true
   },
   "outputs": [
    {
     "data": {
      "text/plain": [
       "0     высшее\n",
       "1    среднее\n",
       "2    среднее\n",
       "3    среднее\n",
       "4    среднее\n",
       "Name: education, dtype: object"
      ]
     },
     "execution_count": 28,
     "metadata": {},
     "output_type": "execute_result"
    }
   ],
   "source": [
    "data['education'] = data['education'].str.lower()\n",
    "\n",
    "#проверим еще раз\n",
    "data['education'].head()\n"
   ]
  },
  {
   "cell_type": "code",
   "execution_count": 29,
   "id": "665aadca",
   "metadata": {},
   "outputs": [
    {
     "data": {
      "text/plain": [
       "среднее                15187\n",
       "высшее                  5251\n",
       "неоконченное высшее      744\n",
       "начальное                282\n",
       "ученая степень             6\n",
       "Name: education, dtype: int64"
      ]
     },
     "execution_count": 29,
     "metadata": {},
     "output_type": "execute_result"
    }
   ],
   "source": [
    "data['education'].value_counts()"
   ]
  },
  {
   "cell_type": "markdown",
   "id": "a7bed537",
   "metadata": {},
   "source": [
    "Ура, победа! У нас теперь есть только 5 категорий образования. Посмотрим дальше."
   ]
  },
  {
   "cell_type": "code",
   "execution_count": 30,
   "id": "8c653bd5",
   "metadata": {},
   "outputs": [
    {
     "data": {
      "text/plain": [
       "array(['безработный', 'в декрете', 'госслужащий', 'компаньон',\n",
       "       'пенсионер', 'предприниматель', 'сотрудник', 'студент'],\n",
       "      dtype=object)"
      ]
     },
     "execution_count": 30,
     "metadata": {},
     "output_type": "execute_result"
    }
   ],
   "source": [
    "data['income_type'].sort_values().unique()"
   ]
  },
  {
   "cell_type": "code",
   "execution_count": 31,
   "id": "51fc7692",
   "metadata": {},
   "outputs": [
    {
     "data": {
      "text/plain": [
       "array(['автомобили', 'автомобиль', 'высшее образование',\n",
       "       'дополнительное образование', 'жилье',\n",
       "       'заняться высшим образованием', 'заняться образованием',\n",
       "       'на покупку автомобиля', 'на покупку подержанного автомобиля',\n",
       "       'на покупку своего автомобиля', 'на проведение свадьбы',\n",
       "       'недвижимость', 'образование', 'операции с жильем',\n",
       "       'операции с коммерческой недвижимостью',\n",
       "       'операции с недвижимостью', 'операции со своей недвижимостью',\n",
       "       'покупка жилой недвижимости', 'покупка жилья',\n",
       "       'покупка жилья для сдачи', 'покупка жилья для семьи',\n",
       "       'покупка коммерческой недвижимости', 'покупка недвижимости',\n",
       "       'покупка своего жилья', 'получение высшего образования',\n",
       "       'получение дополнительного образования', 'получение образования',\n",
       "       'приобретение автомобиля', 'профильное образование',\n",
       "       'ремонт жилью', 'свадьба', 'свой автомобиль',\n",
       "       'сделка с автомобилем', 'сделка с подержанным автомобилем',\n",
       "       'строительство жилой недвижимости', 'строительство недвижимости',\n",
       "       'строительство собственной недвижимости', 'сыграть свадьбу'],\n",
       "      dtype=object)"
      ]
     },
     "execution_count": 31,
     "metadata": {},
     "output_type": "execute_result"
    }
   ],
   "source": [
    "data['purpose'].sort_values().unique()"
   ]
  },
  {
   "cell_type": "markdown",
   "id": "e3ded9a7",
   "metadata": {},
   "source": [
    "А вот и новая проблема. У нас должно быть всего 4 категории: операции с автомобилем, операции с недвижимостью, проведение свадьбы и получение образования."
   ]
  },
  {
   "cell_type": "code",
   "execution_count": 32,
   "id": "0e8d0ee2",
   "metadata": {},
   "outputs": [
    {
     "data": {
      "text/plain": [
       "array(['Не женат / не замужем', 'в разводе', 'вдовец / вдова',\n",
       "       'гражданский брак', 'женат / замужем'], dtype=object)"
      ]
     },
     "execution_count": 32,
     "metadata": {},
     "output_type": "execute_result"
    }
   ],
   "source": [
    "data['family_status'].sort_values().unique()"
   ]
  },
  {
   "cell_type": "markdown",
   "id": "e9e8f9e0",
   "metadata": {},
   "source": [
    "### Шаг 2.5. Формирование дополнительных датафреймов словарей, декомпозиция исходного датафрейма."
   ]
  },
  {
   "cell_type": "code",
   "execution_count": 33,
   "id": "b1604a8b",
   "metadata": {
    "scrolled": true
   },
   "outputs": [
    {
     "data": {
      "text/html": [
       "<div>\n",
       "<style scoped>\n",
       "    .dataframe tbody tr th:only-of-type {\n",
       "        vertical-align: middle;\n",
       "    }\n",
       "\n",
       "    .dataframe tbody tr th {\n",
       "        vertical-align: top;\n",
       "    }\n",
       "\n",
       "    .dataframe thead th {\n",
       "        text-align: right;\n",
       "    }\n",
       "</style>\n",
       "<table border=\"1\" class=\"dataframe\">\n",
       "  <thead>\n",
       "    <tr style=\"text-align: right;\">\n",
       "      <th></th>\n",
       "      <th>education_id</th>\n",
       "      <th>education</th>\n",
       "    </tr>\n",
       "  </thead>\n",
       "  <tbody>\n",
       "    <tr>\n",
       "      <th>0</th>\n",
       "      <td>0</td>\n",
       "      <td>высшее</td>\n",
       "    </tr>\n",
       "    <tr>\n",
       "      <th>1</th>\n",
       "      <td>1</td>\n",
       "      <td>среднее</td>\n",
       "    </tr>\n",
       "    <tr>\n",
       "      <th>2</th>\n",
       "      <td>1</td>\n",
       "      <td>среднее</td>\n",
       "    </tr>\n",
       "    <tr>\n",
       "      <th>3</th>\n",
       "      <td>1</td>\n",
       "      <td>среднее</td>\n",
       "    </tr>\n",
       "    <tr>\n",
       "      <th>4</th>\n",
       "      <td>1</td>\n",
       "      <td>среднее</td>\n",
       "    </tr>\n",
       "    <tr>\n",
       "      <th>5</th>\n",
       "      <td>0</td>\n",
       "      <td>высшее</td>\n",
       "    </tr>\n",
       "    <tr>\n",
       "      <th>6</th>\n",
       "      <td>0</td>\n",
       "      <td>высшее</td>\n",
       "    </tr>\n",
       "    <tr>\n",
       "      <th>7</th>\n",
       "      <td>1</td>\n",
       "      <td>среднее</td>\n",
       "    </tr>\n",
       "    <tr>\n",
       "      <th>8</th>\n",
       "      <td>0</td>\n",
       "      <td>высшее</td>\n",
       "    </tr>\n",
       "    <tr>\n",
       "      <th>9</th>\n",
       "      <td>1</td>\n",
       "      <td>среднее</td>\n",
       "    </tr>\n",
       "    <tr>\n",
       "      <th>10</th>\n",
       "      <td>0</td>\n",
       "      <td>высшее</td>\n",
       "    </tr>\n",
       "    <tr>\n",
       "      <th>11</th>\n",
       "      <td>1</td>\n",
       "      <td>среднее</td>\n",
       "    </tr>\n",
       "    <tr>\n",
       "      <th>12</th>\n",
       "      <td>1</td>\n",
       "      <td>среднее</td>\n",
       "    </tr>\n",
       "    <tr>\n",
       "      <th>13</th>\n",
       "      <td>2</td>\n",
       "      <td>неоконченное высшее</td>\n",
       "    </tr>\n",
       "    <tr>\n",
       "      <th>14</th>\n",
       "      <td>0</td>\n",
       "      <td>высшее</td>\n",
       "    </tr>\n",
       "    <tr>\n",
       "      <th>15</th>\n",
       "      <td>1</td>\n",
       "      <td>среднее</td>\n",
       "    </tr>\n",
       "    <tr>\n",
       "      <th>16</th>\n",
       "      <td>1</td>\n",
       "      <td>среднее</td>\n",
       "    </tr>\n",
       "    <tr>\n",
       "      <th>17</th>\n",
       "      <td>0</td>\n",
       "      <td>высшее</td>\n",
       "    </tr>\n",
       "    <tr>\n",
       "      <th>18</th>\n",
       "      <td>1</td>\n",
       "      <td>среднее</td>\n",
       "    </tr>\n",
       "    <tr>\n",
       "      <th>19</th>\n",
       "      <td>1</td>\n",
       "      <td>среднее</td>\n",
       "    </tr>\n",
       "    <tr>\n",
       "      <th>20</th>\n",
       "      <td>1</td>\n",
       "      <td>среднее</td>\n",
       "    </tr>\n",
       "    <tr>\n",
       "      <th>21</th>\n",
       "      <td>1</td>\n",
       "      <td>среднее</td>\n",
       "    </tr>\n",
       "    <tr>\n",
       "      <th>22</th>\n",
       "      <td>1</td>\n",
       "      <td>среднее</td>\n",
       "    </tr>\n",
       "    <tr>\n",
       "      <th>23</th>\n",
       "      <td>0</td>\n",
       "      <td>высшее</td>\n",
       "    </tr>\n",
       "    <tr>\n",
       "      <th>24</th>\n",
       "      <td>1</td>\n",
       "      <td>среднее</td>\n",
       "    </tr>\n",
       "    <tr>\n",
       "      <th>25</th>\n",
       "      <td>1</td>\n",
       "      <td>среднее</td>\n",
       "    </tr>\n",
       "    <tr>\n",
       "      <th>26</th>\n",
       "      <td>1</td>\n",
       "      <td>среднее</td>\n",
       "    </tr>\n",
       "    <tr>\n",
       "      <th>27</th>\n",
       "      <td>0</td>\n",
       "      <td>высшее</td>\n",
       "    </tr>\n",
       "    <tr>\n",
       "      <th>28</th>\n",
       "      <td>0</td>\n",
       "      <td>высшее</td>\n",
       "    </tr>\n",
       "    <tr>\n",
       "      <th>29</th>\n",
       "      <td>1</td>\n",
       "      <td>среднее</td>\n",
       "    </tr>\n",
       "    <tr>\n",
       "      <th>30</th>\n",
       "      <td>1</td>\n",
       "      <td>среднее</td>\n",
       "    </tr>\n",
       "    <tr>\n",
       "      <th>31</th>\n",
       "      <td>3</td>\n",
       "      <td>начальное</td>\n",
       "    </tr>\n",
       "    <tr>\n",
       "      <th>32</th>\n",
       "      <td>1</td>\n",
       "      <td>среднее</td>\n",
       "    </tr>\n",
       "  </tbody>\n",
       "</table>\n",
       "</div>"
      ],
      "text/plain": [
       "    education_id            education\n",
       "0              0               высшее\n",
       "1              1              среднее\n",
       "2              1              среднее\n",
       "3              1              среднее\n",
       "4              1              среднее\n",
       "5              0               высшее\n",
       "6              0               высшее\n",
       "7              1              среднее\n",
       "8              0               высшее\n",
       "9              1              среднее\n",
       "10             0               высшее\n",
       "11             1              среднее\n",
       "12             1              среднее\n",
       "13             2  неоконченное высшее\n",
       "14             0               высшее\n",
       "15             1              среднее\n",
       "16             1              среднее\n",
       "17             0               высшее\n",
       "18             1              среднее\n",
       "19             1              среднее\n",
       "20             1              среднее\n",
       "21             1              среднее\n",
       "22             1              среднее\n",
       "23             0               высшее\n",
       "24             1              среднее\n",
       "25             1              среднее\n",
       "26             1              среднее\n",
       "27             0               высшее\n",
       "28             0               высшее\n",
       "29             1              среднее\n",
       "30             1              среднее\n",
       "31             3            начальное\n",
       "32             1              среднее"
      ]
     },
     "execution_count": 33,
     "metadata": {},
     "output_type": "execute_result"
    }
   ],
   "source": [
    "#созданим новый датафрейм с двумя столбцами\n",
    "\n",
    "catalog_education = data[['education_id', 'education']]\n",
    "catalog_education.head(33)"
   ]
  },
  {
   "cell_type": "markdown",
   "id": "bdc3fac0",
   "metadata": {},
   "source": [
    "Итак, можно заметить, что каждой категории образования соответсвует определенный `id` и их всего 5: от 0 до 4\n",
    "* высшее - 0\n",
    "* среднее - 1\n",
    "* неоконченное высшее - 2\n",
    "* начальное - 3\n",
    "* ученая степень - 4"
   ]
  },
  {
   "cell_type": "code",
   "execution_count": 34,
   "id": "36201d68",
   "metadata": {
    "scrolled": true
   },
   "outputs": [
    {
     "data": {
      "text/html": [
       "<div>\n",
       "<style scoped>\n",
       "    .dataframe tbody tr th:only-of-type {\n",
       "        vertical-align: middle;\n",
       "    }\n",
       "\n",
       "    .dataframe tbody tr th {\n",
       "        vertical-align: top;\n",
       "    }\n",
       "\n",
       "    .dataframe thead th {\n",
       "        text-align: right;\n",
       "    }\n",
       "</style>\n",
       "<table border=\"1\" class=\"dataframe\">\n",
       "  <thead>\n",
       "    <tr style=\"text-align: right;\">\n",
       "      <th></th>\n",
       "      <th>family_status_id</th>\n",
       "      <th>family_status</th>\n",
       "    </tr>\n",
       "  </thead>\n",
       "  <tbody>\n",
       "    <tr>\n",
       "      <th>0</th>\n",
       "      <td>0</td>\n",
       "      <td>женат / замужем</td>\n",
       "    </tr>\n",
       "    <tr>\n",
       "      <th>1</th>\n",
       "      <td>0</td>\n",
       "      <td>женат / замужем</td>\n",
       "    </tr>\n",
       "    <tr>\n",
       "      <th>2</th>\n",
       "      <td>0</td>\n",
       "      <td>женат / замужем</td>\n",
       "    </tr>\n",
       "    <tr>\n",
       "      <th>3</th>\n",
       "      <td>0</td>\n",
       "      <td>женат / замужем</td>\n",
       "    </tr>\n",
       "    <tr>\n",
       "      <th>4</th>\n",
       "      <td>1</td>\n",
       "      <td>гражданский брак</td>\n",
       "    </tr>\n",
       "    <tr>\n",
       "      <th>5</th>\n",
       "      <td>1</td>\n",
       "      <td>гражданский брак</td>\n",
       "    </tr>\n",
       "    <tr>\n",
       "      <th>6</th>\n",
       "      <td>0</td>\n",
       "      <td>женат / замужем</td>\n",
       "    </tr>\n",
       "    <tr>\n",
       "      <th>7</th>\n",
       "      <td>0</td>\n",
       "      <td>женат / замужем</td>\n",
       "    </tr>\n",
       "    <tr>\n",
       "      <th>8</th>\n",
       "      <td>1</td>\n",
       "      <td>гражданский брак</td>\n",
       "    </tr>\n",
       "    <tr>\n",
       "      <th>9</th>\n",
       "      <td>0</td>\n",
       "      <td>женат / замужем</td>\n",
       "    </tr>\n",
       "    <tr>\n",
       "      <th>10</th>\n",
       "      <td>0</td>\n",
       "      <td>женат / замужем</td>\n",
       "    </tr>\n",
       "    <tr>\n",
       "      <th>11</th>\n",
       "      <td>0</td>\n",
       "      <td>женат / замужем</td>\n",
       "    </tr>\n",
       "    <tr>\n",
       "      <th>12</th>\n",
       "      <td>1</td>\n",
       "      <td>гражданский брак</td>\n",
       "    </tr>\n",
       "    <tr>\n",
       "      <th>13</th>\n",
       "      <td>0</td>\n",
       "      <td>женат / замужем</td>\n",
       "    </tr>\n",
       "    <tr>\n",
       "      <th>14</th>\n",
       "      <td>1</td>\n",
       "      <td>гражданский брак</td>\n",
       "    </tr>\n",
       "    <tr>\n",
       "      <th>15</th>\n",
       "      <td>0</td>\n",
       "      <td>женат / замужем</td>\n",
       "    </tr>\n",
       "    <tr>\n",
       "      <th>16</th>\n",
       "      <td>0</td>\n",
       "      <td>женат / замужем</td>\n",
       "    </tr>\n",
       "    <tr>\n",
       "      <th>17</th>\n",
       "      <td>1</td>\n",
       "      <td>гражданский брак</td>\n",
       "    </tr>\n",
       "    <tr>\n",
       "      <th>18</th>\n",
       "      <td>2</td>\n",
       "      <td>вдовец / вдова</td>\n",
       "    </tr>\n",
       "    <tr>\n",
       "      <th>19</th>\n",
       "      <td>3</td>\n",
       "      <td>в разводе</td>\n",
       "    </tr>\n",
       "    <tr>\n",
       "      <th>20</th>\n",
       "      <td>0</td>\n",
       "      <td>женат / замужем</td>\n",
       "    </tr>\n",
       "    <tr>\n",
       "      <th>21</th>\n",
       "      <td>1</td>\n",
       "      <td>гражданский брак</td>\n",
       "    </tr>\n",
       "    <tr>\n",
       "      <th>22</th>\n",
       "      <td>1</td>\n",
       "      <td>гражданский брак</td>\n",
       "    </tr>\n",
       "    <tr>\n",
       "      <th>23</th>\n",
       "      <td>1</td>\n",
       "      <td>гражданский брак</td>\n",
       "    </tr>\n",
       "    <tr>\n",
       "      <th>24</th>\n",
       "      <td>4</td>\n",
       "      <td>Не женат / не замужем</td>\n",
       "    </tr>\n",
       "    <tr>\n",
       "      <th>25</th>\n",
       "      <td>0</td>\n",
       "      <td>женат / замужем</td>\n",
       "    </tr>\n",
       "    <tr>\n",
       "      <th>26</th>\n",
       "      <td>0</td>\n",
       "      <td>женат / замужем</td>\n",
       "    </tr>\n",
       "    <tr>\n",
       "      <th>27</th>\n",
       "      <td>0</td>\n",
       "      <td>женат / замужем</td>\n",
       "    </tr>\n",
       "    <tr>\n",
       "      <th>28</th>\n",
       "      <td>0</td>\n",
       "      <td>женат / замужем</td>\n",
       "    </tr>\n",
       "    <tr>\n",
       "      <th>29</th>\n",
       "      <td>4</td>\n",
       "      <td>Не женат / не замужем</td>\n",
       "    </tr>\n",
       "    <tr>\n",
       "      <th>30</th>\n",
       "      <td>0</td>\n",
       "      <td>женат / замужем</td>\n",
       "    </tr>\n",
       "    <tr>\n",
       "      <th>31</th>\n",
       "      <td>0</td>\n",
       "      <td>женат / замужем</td>\n",
       "    </tr>\n",
       "    <tr>\n",
       "      <th>32</th>\n",
       "      <td>1</td>\n",
       "      <td>гражданский брак</td>\n",
       "    </tr>\n",
       "  </tbody>\n",
       "</table>\n",
       "</div>"
      ],
      "text/plain": [
       "    family_status_id          family_status\n",
       "0                  0        женат / замужем\n",
       "1                  0        женат / замужем\n",
       "2                  0        женат / замужем\n",
       "3                  0        женат / замужем\n",
       "4                  1       гражданский брак\n",
       "5                  1       гражданский брак\n",
       "6                  0        женат / замужем\n",
       "7                  0        женат / замужем\n",
       "8                  1       гражданский брак\n",
       "9                  0        женат / замужем\n",
       "10                 0        женат / замужем\n",
       "11                 0        женат / замужем\n",
       "12                 1       гражданский брак\n",
       "13                 0        женат / замужем\n",
       "14                 1       гражданский брак\n",
       "15                 0        женат / замужем\n",
       "16                 0        женат / замужем\n",
       "17                 1       гражданский брак\n",
       "18                 2         вдовец / вдова\n",
       "19                 3              в разводе\n",
       "20                 0        женат / замужем\n",
       "21                 1       гражданский брак\n",
       "22                 1       гражданский брак\n",
       "23                 1       гражданский брак\n",
       "24                 4  Не женат / не замужем\n",
       "25                 0        женат / замужем\n",
       "26                 0        женат / замужем\n",
       "27                 0        женат / замужем\n",
       "28                 0        женат / замужем\n",
       "29                 4  Не женат / не замужем\n",
       "30                 0        женат / замужем\n",
       "31                 0        женат / замужем\n",
       "32                 1       гражданский брак"
      ]
     },
     "execution_count": 34,
     "metadata": {},
     "output_type": "execute_result"
    }
   ],
   "source": [
    "catalog_status = data[['family_status_id', 'family_status']]\n",
    "catalog_status.head(33)"
   ]
  },
  {
   "cell_type": "markdown",
   "id": "fd42bf86",
   "metadata": {},
   "source": [
    "Здесь распределение будет следующее:\n",
    "* женат/замужем - 0\n",
    "* гражданский брак - 1\n",
    "* вдовец/вдова - 2\n",
    "* в разводе - 3\n",
    "* не женат/ не замужем - 4"
   ]
  },
  {
   "cell_type": "code",
   "execution_count": 35,
   "id": "73f03e78",
   "metadata": {},
   "outputs": [
    {
     "data": {
      "text/html": [
       "<div>\n",
       "<style scoped>\n",
       "    .dataframe tbody tr th:only-of-type {\n",
       "        vertical-align: middle;\n",
       "    }\n",
       "\n",
       "    .dataframe tbody tr th {\n",
       "        vertical-align: top;\n",
       "    }\n",
       "\n",
       "    .dataframe thead th {\n",
       "        text-align: right;\n",
       "    }\n",
       "</style>\n",
       "<table border=\"1\" class=\"dataframe\">\n",
       "  <thead>\n",
       "    <tr style=\"text-align: right;\">\n",
       "      <th></th>\n",
       "      <th>children</th>\n",
       "      <th>days_employed</th>\n",
       "      <th>dob_years</th>\n",
       "      <th>education_id</th>\n",
       "      <th>family_status_id</th>\n",
       "      <th>gender</th>\n",
       "      <th>income_type</th>\n",
       "      <th>debt</th>\n",
       "      <th>total_income</th>\n",
       "      <th>purpose</th>\n",
       "    </tr>\n",
       "  </thead>\n",
       "  <tbody>\n",
       "    <tr>\n",
       "      <th>0</th>\n",
       "      <td>1</td>\n",
       "      <td>8437.673028</td>\n",
       "      <td>42.0</td>\n",
       "      <td>0</td>\n",
       "      <td>0</td>\n",
       "      <td>F</td>\n",
       "      <td>сотрудник</td>\n",
       "      <td>0</td>\n",
       "      <td>253875</td>\n",
       "      <td>покупка жилья</td>\n",
       "    </tr>\n",
       "    <tr>\n",
       "      <th>1</th>\n",
       "      <td>1</td>\n",
       "      <td>4024.803754</td>\n",
       "      <td>36.0</td>\n",
       "      <td>1</td>\n",
       "      <td>0</td>\n",
       "      <td>F</td>\n",
       "      <td>сотрудник</td>\n",
       "      <td>0</td>\n",
       "      <td>112080</td>\n",
       "      <td>приобретение автомобиля</td>\n",
       "    </tr>\n",
       "    <tr>\n",
       "      <th>2</th>\n",
       "      <td>0</td>\n",
       "      <td>5623.422610</td>\n",
       "      <td>33.0</td>\n",
       "      <td>1</td>\n",
       "      <td>0</td>\n",
       "      <td>M</td>\n",
       "      <td>сотрудник</td>\n",
       "      <td>0</td>\n",
       "      <td>145885</td>\n",
       "      <td>покупка жилья</td>\n",
       "    </tr>\n",
       "    <tr>\n",
       "      <th>3</th>\n",
       "      <td>3</td>\n",
       "      <td>4124.747207</td>\n",
       "      <td>32.0</td>\n",
       "      <td>1</td>\n",
       "      <td>0</td>\n",
       "      <td>M</td>\n",
       "      <td>сотрудник</td>\n",
       "      <td>0</td>\n",
       "      <td>267628</td>\n",
       "      <td>дополнительное образование</td>\n",
       "    </tr>\n",
       "    <tr>\n",
       "      <th>4</th>\n",
       "      <td>0</td>\n",
       "      <td>340266.072047</td>\n",
       "      <td>53.0</td>\n",
       "      <td>1</td>\n",
       "      <td>1</td>\n",
       "      <td>F</td>\n",
       "      <td>пенсионер</td>\n",
       "      <td>0</td>\n",
       "      <td>158616</td>\n",
       "      <td>сыграть свадьбу</td>\n",
       "    </tr>\n",
       "  </tbody>\n",
       "</table>\n",
       "</div>"
      ],
      "text/plain": [
       "   children  days_employed  dob_years  education_id  family_status_id gender  \\\n",
       "0         1    8437.673028       42.0             0                 0      F   \n",
       "1         1    4024.803754       36.0             1                 0      F   \n",
       "2         0    5623.422610       33.0             1                 0      M   \n",
       "3         3    4124.747207       32.0             1                 0      M   \n",
       "4         0  340266.072047       53.0             1                 1      F   \n",
       "\n",
       "  income_type  debt  total_income                     purpose  \n",
       "0   сотрудник     0        253875               покупка жилья  \n",
       "1   сотрудник     0        112080     приобретение автомобиля  \n",
       "2   сотрудник     0        145885               покупка жилья  \n",
       "3   сотрудник     0        267628  дополнительное образование  \n",
       "4   пенсионер     0        158616             сыграть свадьбу  "
      ]
     },
     "execution_count": 35,
     "metadata": {},
     "output_type": "execute_result"
    }
   ],
   "source": [
    "#удалим столбцы из общей таблицы\n",
    "data=data.drop(['education'], axis=1)\n",
    "data=data.drop(['family_status'], axis=1)\n",
    "data.head()"
   ]
  },
  {
   "cell_type": "markdown",
   "id": "f0200180",
   "metadata": {},
   "source": [
    "### Шаг 2.6. Категоризация дохода."
   ]
  },
  {
   "cell_type": "markdown",
   "id": "8430b6c6",
   "metadata": {},
   "source": [
    "На основании диапазонов, указанных ниже, создадим столбец total_income_category с категориями:\n",
    "\n",
    "* 0–30000 — 'E';\n",
    "* 30001–50000 — 'D';\n",
    "* 50001–200000 — 'C';\n",
    "* 200001–1000000 — 'B';\n",
    "* 1000001 и выше — 'A'.\n",
    "\n",
    "Например, кредитополучателю с доходом 25000 назначим категорию 'E', а клиенту, получающему 235000, — 'B'."
   ]
  },
  {
   "cell_type": "code",
   "execution_count": 36,
   "id": "5519df13",
   "metadata": {},
   "outputs": [
    {
     "data": {
      "text/html": [
       "<div>\n",
       "<style scoped>\n",
       "    .dataframe tbody tr th:only-of-type {\n",
       "        vertical-align: middle;\n",
       "    }\n",
       "\n",
       "    .dataframe tbody tr th {\n",
       "        vertical-align: top;\n",
       "    }\n",
       "\n",
       "    .dataframe thead th {\n",
       "        text-align: right;\n",
       "    }\n",
       "</style>\n",
       "<table border=\"1\" class=\"dataframe\">\n",
       "  <thead>\n",
       "    <tr style=\"text-align: right;\">\n",
       "      <th></th>\n",
       "      <th>children</th>\n",
       "      <th>days_employed</th>\n",
       "      <th>dob_years</th>\n",
       "      <th>education_id</th>\n",
       "      <th>family_status_id</th>\n",
       "      <th>gender</th>\n",
       "      <th>income_type</th>\n",
       "      <th>debt</th>\n",
       "      <th>total_income</th>\n",
       "      <th>purpose</th>\n",
       "      <th>total_income_category</th>\n",
       "    </tr>\n",
       "  </thead>\n",
       "  <tbody>\n",
       "    <tr>\n",
       "      <th>0</th>\n",
       "      <td>1</td>\n",
       "      <td>8437.673028</td>\n",
       "      <td>42.0</td>\n",
       "      <td>0</td>\n",
       "      <td>0</td>\n",
       "      <td>F</td>\n",
       "      <td>сотрудник</td>\n",
       "      <td>0</td>\n",
       "      <td>253875</td>\n",
       "      <td>покупка жилья</td>\n",
       "      <td>B</td>\n",
       "    </tr>\n",
       "    <tr>\n",
       "      <th>1</th>\n",
       "      <td>1</td>\n",
       "      <td>4024.803754</td>\n",
       "      <td>36.0</td>\n",
       "      <td>1</td>\n",
       "      <td>0</td>\n",
       "      <td>F</td>\n",
       "      <td>сотрудник</td>\n",
       "      <td>0</td>\n",
       "      <td>112080</td>\n",
       "      <td>приобретение автомобиля</td>\n",
       "      <td>C</td>\n",
       "    </tr>\n",
       "    <tr>\n",
       "      <th>2</th>\n",
       "      <td>0</td>\n",
       "      <td>5623.422610</td>\n",
       "      <td>33.0</td>\n",
       "      <td>1</td>\n",
       "      <td>0</td>\n",
       "      <td>M</td>\n",
       "      <td>сотрудник</td>\n",
       "      <td>0</td>\n",
       "      <td>145885</td>\n",
       "      <td>покупка жилья</td>\n",
       "      <td>C</td>\n",
       "    </tr>\n",
       "    <tr>\n",
       "      <th>3</th>\n",
       "      <td>3</td>\n",
       "      <td>4124.747207</td>\n",
       "      <td>32.0</td>\n",
       "      <td>1</td>\n",
       "      <td>0</td>\n",
       "      <td>M</td>\n",
       "      <td>сотрудник</td>\n",
       "      <td>0</td>\n",
       "      <td>267628</td>\n",
       "      <td>дополнительное образование</td>\n",
       "      <td>B</td>\n",
       "    </tr>\n",
       "    <tr>\n",
       "      <th>4</th>\n",
       "      <td>0</td>\n",
       "      <td>340266.072047</td>\n",
       "      <td>53.0</td>\n",
       "      <td>1</td>\n",
       "      <td>1</td>\n",
       "      <td>F</td>\n",
       "      <td>пенсионер</td>\n",
       "      <td>0</td>\n",
       "      <td>158616</td>\n",
       "      <td>сыграть свадьбу</td>\n",
       "      <td>C</td>\n",
       "    </tr>\n",
       "    <tr>\n",
       "      <th>5</th>\n",
       "      <td>0</td>\n",
       "      <td>926.185831</td>\n",
       "      <td>27.0</td>\n",
       "      <td>0</td>\n",
       "      <td>1</td>\n",
       "      <td>M</td>\n",
       "      <td>компаньон</td>\n",
       "      <td>0</td>\n",
       "      <td>255763</td>\n",
       "      <td>покупка жилья</td>\n",
       "      <td>B</td>\n",
       "    </tr>\n",
       "    <tr>\n",
       "      <th>6</th>\n",
       "      <td>0</td>\n",
       "      <td>2879.202052</td>\n",
       "      <td>43.0</td>\n",
       "      <td>0</td>\n",
       "      <td>0</td>\n",
       "      <td>F</td>\n",
       "      <td>компаньон</td>\n",
       "      <td>0</td>\n",
       "      <td>240525</td>\n",
       "      <td>операции с жильем</td>\n",
       "      <td>B</td>\n",
       "    </tr>\n",
       "    <tr>\n",
       "      <th>7</th>\n",
       "      <td>0</td>\n",
       "      <td>152.779569</td>\n",
       "      <td>50.0</td>\n",
       "      <td>1</td>\n",
       "      <td>0</td>\n",
       "      <td>M</td>\n",
       "      <td>сотрудник</td>\n",
       "      <td>0</td>\n",
       "      <td>135823</td>\n",
       "      <td>образование</td>\n",
       "      <td>C</td>\n",
       "    </tr>\n",
       "    <tr>\n",
       "      <th>8</th>\n",
       "      <td>2</td>\n",
       "      <td>6929.865299</td>\n",
       "      <td>35.0</td>\n",
       "      <td>0</td>\n",
       "      <td>1</td>\n",
       "      <td>F</td>\n",
       "      <td>сотрудник</td>\n",
       "      <td>0</td>\n",
       "      <td>95856</td>\n",
       "      <td>на проведение свадьбы</td>\n",
       "      <td>C</td>\n",
       "    </tr>\n",
       "    <tr>\n",
       "      <th>9</th>\n",
       "      <td>0</td>\n",
       "      <td>2188.756445</td>\n",
       "      <td>41.0</td>\n",
       "      <td>1</td>\n",
       "      <td>0</td>\n",
       "      <td>M</td>\n",
       "      <td>сотрудник</td>\n",
       "      <td>0</td>\n",
       "      <td>144425</td>\n",
       "      <td>покупка жилья для семьи</td>\n",
       "      <td>C</td>\n",
       "    </tr>\n",
       "  </tbody>\n",
       "</table>\n",
       "</div>"
      ],
      "text/plain": [
       "   children  days_employed  dob_years  education_id  family_status_id gender  \\\n",
       "0         1    8437.673028       42.0             0                 0      F   \n",
       "1         1    4024.803754       36.0             1                 0      F   \n",
       "2         0    5623.422610       33.0             1                 0      M   \n",
       "3         3    4124.747207       32.0             1                 0      M   \n",
       "4         0  340266.072047       53.0             1                 1      F   \n",
       "5         0     926.185831       27.0             0                 1      M   \n",
       "6         0    2879.202052       43.0             0                 0      F   \n",
       "7         0     152.779569       50.0             1                 0      M   \n",
       "8         2    6929.865299       35.0             0                 1      F   \n",
       "9         0    2188.756445       41.0             1                 0      M   \n",
       "\n",
       "  income_type  debt  total_income                     purpose  \\\n",
       "0   сотрудник     0        253875               покупка жилья   \n",
       "1   сотрудник     0        112080     приобретение автомобиля   \n",
       "2   сотрудник     0        145885               покупка жилья   \n",
       "3   сотрудник     0        267628  дополнительное образование   \n",
       "4   пенсионер     0        158616             сыграть свадьбу   \n",
       "5   компаньон     0        255763               покупка жилья   \n",
       "6   компаньон     0        240525           операции с жильем   \n",
       "7   сотрудник     0        135823                 образование   \n",
       "8   сотрудник     0         95856       на проведение свадьбы   \n",
       "9   сотрудник     0        144425     покупка жилья для семьи   \n",
       "\n",
       "  total_income_category  \n",
       "0                     B  \n",
       "1                     C  \n",
       "2                     C  \n",
       "3                     B  \n",
       "4                     C  \n",
       "5                     B  \n",
       "6                     B  \n",
       "7                     C  \n",
       "8                     C  \n",
       "9                     C  "
      ]
     },
     "execution_count": 36,
     "metadata": {},
     "output_type": "execute_result"
    }
   ],
   "source": [
    "#создаем функцию\n",
    "\n",
    "def income_group(total_income):\n",
    "    \n",
    "    if total_income <= 30000:\n",
    "        return 'E'\n",
    "    if total_income <= 50000:\n",
    "        return 'D'\n",
    "    if total_income <= 200000:\n",
    "        return 'C'\n",
    "    if total_income <= 1000000:\n",
    "        return 'B'\n",
    "    return 'A'\n",
    "\n",
    "#вызовем функцию\n",
    "\n",
    "data['total_income_category'] = data['total_income'].apply(income_group)\n",
    "data.head(10)\n"
   ]
  },
  {
   "cell_type": "markdown",
   "id": "957b7e2e",
   "metadata": {},
   "source": [
    "### Шаг 2.7. Категоризация целей кредита."
   ]
  },
  {
   "cell_type": "markdown",
   "id": "272525d6",
   "metadata": {},
   "source": [
    "У нас есть столбец с целью кредита `purpose` но значений там слишком много. Поэтому создадим новый столбец  `purpose_category`, в который войдут следующие категории:\n",
    "* операции с автомобилем\n",
    "* операции с недвижимостью\n",
    "* проведение свадьбы\n",
    "* получение образования"
   ]
  },
  {
   "cell_type": "code",
   "execution_count": 37,
   "id": "957a6db5",
   "metadata": {
    "scrolled": false
   },
   "outputs": [
    {
     "data": {
      "text/plain": [
       "array(['покупка жилья', 'приобретение автомобиля',\n",
       "       'дополнительное образование', 'сыграть свадьбу',\n",
       "       'операции с жильем', 'образование', 'на проведение свадьбы',\n",
       "       'покупка жилья для семьи', 'покупка недвижимости',\n",
       "       'покупка коммерческой недвижимости', 'покупка жилой недвижимости',\n",
       "       'строительство собственной недвижимости', 'недвижимость',\n",
       "       'строительство недвижимости', 'на покупку подержанного автомобиля',\n",
       "       'на покупку своего автомобиля',\n",
       "       'операции с коммерческой недвижимостью',\n",
       "       'строительство жилой недвижимости', 'жилье',\n",
       "       'операции со своей недвижимостью', 'автомобили',\n",
       "       'заняться образованием', 'сделка с подержанным автомобилем',\n",
       "       'получение образования', 'автомобиль', 'свадьба',\n",
       "       'получение дополнительного образования', 'покупка своего жилья',\n",
       "       'операции с недвижимостью', 'получение высшего образования',\n",
       "       'свой автомобиль', 'сделка с автомобилем',\n",
       "       'профильное образование', 'высшее образование',\n",
       "       'покупка жилья для сдачи', 'на покупку автомобиля', 'ремонт жилью',\n",
       "       'заняться высшим образованием'], dtype=object)"
      ]
     },
     "execution_count": 37,
     "metadata": {},
     "output_type": "execute_result"
    }
   ],
   "source": [
    "#сначала посмотрим еще раз какие значения у нас встречаются\n",
    "data['purpose'].unique()"
   ]
  },
  {
   "cell_type": "code",
   "execution_count": 38,
   "id": "ea830444",
   "metadata": {
    "scrolled": true
   },
   "outputs": [
    {
     "data": {
      "text/html": [
       "<div>\n",
       "<style scoped>\n",
       "    .dataframe tbody tr th:only-of-type {\n",
       "        vertical-align: middle;\n",
       "    }\n",
       "\n",
       "    .dataframe tbody tr th {\n",
       "        vertical-align: top;\n",
       "    }\n",
       "\n",
       "    .dataframe thead th {\n",
       "        text-align: right;\n",
       "    }\n",
       "</style>\n",
       "<table border=\"1\" class=\"dataframe\">\n",
       "  <thead>\n",
       "    <tr style=\"text-align: right;\">\n",
       "      <th></th>\n",
       "      <th>children</th>\n",
       "      <th>days_employed</th>\n",
       "      <th>dob_years</th>\n",
       "      <th>education_id</th>\n",
       "      <th>family_status_id</th>\n",
       "      <th>gender</th>\n",
       "      <th>income_type</th>\n",
       "      <th>debt</th>\n",
       "      <th>total_income</th>\n",
       "      <th>purpose</th>\n",
       "      <th>total_income_category</th>\n",
       "      <th>purpose_category</th>\n",
       "    </tr>\n",
       "  </thead>\n",
       "  <tbody>\n",
       "    <tr>\n",
       "      <th>0</th>\n",
       "      <td>1</td>\n",
       "      <td>8437.673028</td>\n",
       "      <td>42.0</td>\n",
       "      <td>0</td>\n",
       "      <td>0</td>\n",
       "      <td>F</td>\n",
       "      <td>сотрудник</td>\n",
       "      <td>0</td>\n",
       "      <td>253875</td>\n",
       "      <td>покупка жилья</td>\n",
       "      <td>B</td>\n",
       "      <td>операции с недвижимостью</td>\n",
       "    </tr>\n",
       "    <tr>\n",
       "      <th>1</th>\n",
       "      <td>1</td>\n",
       "      <td>4024.803754</td>\n",
       "      <td>36.0</td>\n",
       "      <td>1</td>\n",
       "      <td>0</td>\n",
       "      <td>F</td>\n",
       "      <td>сотрудник</td>\n",
       "      <td>0</td>\n",
       "      <td>112080</td>\n",
       "      <td>приобретение автомобиля</td>\n",
       "      <td>C</td>\n",
       "      <td>операции с автомобилем</td>\n",
       "    </tr>\n",
       "    <tr>\n",
       "      <th>2</th>\n",
       "      <td>0</td>\n",
       "      <td>5623.422610</td>\n",
       "      <td>33.0</td>\n",
       "      <td>1</td>\n",
       "      <td>0</td>\n",
       "      <td>M</td>\n",
       "      <td>сотрудник</td>\n",
       "      <td>0</td>\n",
       "      <td>145885</td>\n",
       "      <td>покупка жилья</td>\n",
       "      <td>C</td>\n",
       "      <td>операции с недвижимостью</td>\n",
       "    </tr>\n",
       "    <tr>\n",
       "      <th>3</th>\n",
       "      <td>3</td>\n",
       "      <td>4124.747207</td>\n",
       "      <td>32.0</td>\n",
       "      <td>1</td>\n",
       "      <td>0</td>\n",
       "      <td>M</td>\n",
       "      <td>сотрудник</td>\n",
       "      <td>0</td>\n",
       "      <td>267628</td>\n",
       "      <td>дополнительное образование</td>\n",
       "      <td>B</td>\n",
       "      <td>получение образования</td>\n",
       "    </tr>\n",
       "    <tr>\n",
       "      <th>4</th>\n",
       "      <td>0</td>\n",
       "      <td>340266.072047</td>\n",
       "      <td>53.0</td>\n",
       "      <td>1</td>\n",
       "      <td>1</td>\n",
       "      <td>F</td>\n",
       "      <td>пенсионер</td>\n",
       "      <td>0</td>\n",
       "      <td>158616</td>\n",
       "      <td>сыграть свадьбу</td>\n",
       "      <td>C</td>\n",
       "      <td>проведение свадьбы</td>\n",
       "    </tr>\n",
       "    <tr>\n",
       "      <th>5</th>\n",
       "      <td>0</td>\n",
       "      <td>926.185831</td>\n",
       "      <td>27.0</td>\n",
       "      <td>0</td>\n",
       "      <td>1</td>\n",
       "      <td>M</td>\n",
       "      <td>компаньон</td>\n",
       "      <td>0</td>\n",
       "      <td>255763</td>\n",
       "      <td>покупка жилья</td>\n",
       "      <td>B</td>\n",
       "      <td>операции с недвижимостью</td>\n",
       "    </tr>\n",
       "    <tr>\n",
       "      <th>6</th>\n",
       "      <td>0</td>\n",
       "      <td>2879.202052</td>\n",
       "      <td>43.0</td>\n",
       "      <td>0</td>\n",
       "      <td>0</td>\n",
       "      <td>F</td>\n",
       "      <td>компаньон</td>\n",
       "      <td>0</td>\n",
       "      <td>240525</td>\n",
       "      <td>операции с жильем</td>\n",
       "      <td>B</td>\n",
       "      <td>операции с недвижимостью</td>\n",
       "    </tr>\n",
       "    <tr>\n",
       "      <th>7</th>\n",
       "      <td>0</td>\n",
       "      <td>152.779569</td>\n",
       "      <td>50.0</td>\n",
       "      <td>1</td>\n",
       "      <td>0</td>\n",
       "      <td>M</td>\n",
       "      <td>сотрудник</td>\n",
       "      <td>0</td>\n",
       "      <td>135823</td>\n",
       "      <td>образование</td>\n",
       "      <td>C</td>\n",
       "      <td>получение образования</td>\n",
       "    </tr>\n",
       "    <tr>\n",
       "      <th>8</th>\n",
       "      <td>2</td>\n",
       "      <td>6929.865299</td>\n",
       "      <td>35.0</td>\n",
       "      <td>0</td>\n",
       "      <td>1</td>\n",
       "      <td>F</td>\n",
       "      <td>сотрудник</td>\n",
       "      <td>0</td>\n",
       "      <td>95856</td>\n",
       "      <td>на проведение свадьбы</td>\n",
       "      <td>C</td>\n",
       "      <td>проведение свадьбы</td>\n",
       "    </tr>\n",
       "    <tr>\n",
       "      <th>9</th>\n",
       "      <td>0</td>\n",
       "      <td>2188.756445</td>\n",
       "      <td>41.0</td>\n",
       "      <td>1</td>\n",
       "      <td>0</td>\n",
       "      <td>M</td>\n",
       "      <td>сотрудник</td>\n",
       "      <td>0</td>\n",
       "      <td>144425</td>\n",
       "      <td>покупка жилья для семьи</td>\n",
       "      <td>C</td>\n",
       "      <td>операции с недвижимостью</td>\n",
       "    </tr>\n",
       "  </tbody>\n",
       "</table>\n",
       "</div>"
      ],
      "text/plain": [
       "   children  days_employed  dob_years  education_id  family_status_id gender  \\\n",
       "0         1    8437.673028       42.0             0                 0      F   \n",
       "1         1    4024.803754       36.0             1                 0      F   \n",
       "2         0    5623.422610       33.0             1                 0      M   \n",
       "3         3    4124.747207       32.0             1                 0      M   \n",
       "4         0  340266.072047       53.0             1                 1      F   \n",
       "5         0     926.185831       27.0             0                 1      M   \n",
       "6         0    2879.202052       43.0             0                 0      F   \n",
       "7         0     152.779569       50.0             1                 0      M   \n",
       "8         2    6929.865299       35.0             0                 1      F   \n",
       "9         0    2188.756445       41.0             1                 0      M   \n",
       "\n",
       "  income_type  debt  total_income                     purpose  \\\n",
       "0   сотрудник     0        253875               покупка жилья   \n",
       "1   сотрудник     0        112080     приобретение автомобиля   \n",
       "2   сотрудник     0        145885               покупка жилья   \n",
       "3   сотрудник     0        267628  дополнительное образование   \n",
       "4   пенсионер     0        158616             сыграть свадьбу   \n",
       "5   компаньон     0        255763               покупка жилья   \n",
       "6   компаньон     0        240525           операции с жильем   \n",
       "7   сотрудник     0        135823                 образование   \n",
       "8   сотрудник     0         95856       на проведение свадьбы   \n",
       "9   сотрудник     0        144425     покупка жилья для семьи   \n",
       "\n",
       "  total_income_category          purpose_category  \n",
       "0                     B  операции с недвижимостью  \n",
       "1                     C    операции с автомобилем  \n",
       "2                     C  операции с недвижимостью  \n",
       "3                     B     получение образования  \n",
       "4                     C        проведение свадьбы  \n",
       "5                     B  операции с недвижимостью  \n",
       "6                     B  операции с недвижимостью  \n",
       "7                     C     получение образования  \n",
       "8                     C        проведение свадьбы  \n",
       "9                     C  операции с недвижимостью  "
      ]
     },
     "execution_count": 38,
     "metadata": {},
     "output_type": "execute_result"
    }
   ],
   "source": [
    "def purpose_group(purpose):\n",
    "    if purpose == 'покупка жилья':\n",
    "        return 'операции с недвижимостью'\n",
    "    if purpose == 'операции с жильем':\n",
    "        return 'операции с недвижимостью'\n",
    "    if purpose == 'покупка жилья для семьи':\n",
    "        return 'операции с недвижимостью'\n",
    "    if purpose == 'покупка недвижимости':\n",
    "        return 'операции с недвижимостью'\n",
    "    if purpose == 'покупка коммерческой недвижимости':\n",
    "        return 'операции с недвижимостью'\n",
    "    if purpose == 'покупка жилой недвижимости':\n",
    "        return 'операции с недвижимостью'\n",
    "    if purpose == 'строительство собственной недвижимости':\n",
    "        return 'операции с недвижимостью'\n",
    "    if purpose == 'недвижимость':\n",
    "        return 'операции с недвижимостью'\n",
    "    if purpose == 'строительство недвижимости':\n",
    "        return 'операции с недвижимостью'\n",
    "    if purpose == 'операции с коммерческой недвижимостью':\n",
    "        return 'операции с недвижимостью'\n",
    "    if purpose == 'строительство жилой недвижимости':\n",
    "        return 'операции с недвижимостью'\n",
    "    if purpose == 'жилье':\n",
    "        return 'операции с недвижимостью'\n",
    "    if purpose == 'операции со своей недвижимостью':\n",
    "        return 'операции с недвижимостью'\n",
    "    if purpose == 'покупка своего жилья':\n",
    "        return 'операции с недвижимостью'\n",
    "    if purpose == 'операции с недвижимостью':\n",
    "        return 'операции с недвижимостью'\n",
    "    if purpose == 'покупка жилья для сдачи':\n",
    "        return 'операции с недвижимостью'\n",
    "    if purpose == 'ремонт жилью':\n",
    "        return 'операции с недвижимостью'\n",
    "    if purpose == 'сыграть свадьбу':\n",
    "        return 'проведение свадьбы'\n",
    "    if purpose == 'на проведение свадьбы':\n",
    "        return 'проведение свадьбы'\n",
    "    if purpose == 'свадьба':\n",
    "        return 'проведение свадьбы'\n",
    "    if purpose == 'приобретение автомобиля':\n",
    "        return 'операции с автомобилем'\n",
    "    if purpose == 'на покупку подержанного автомобиля':\n",
    "        return 'операции с автомобилем'\n",
    "    if purpose == 'на покупку своего автомобиля':\n",
    "        return 'операции с автомобилем'\n",
    "    if purpose == 'автомобили':\n",
    "        return 'операции с автомобилем'\n",
    "    if purpose == 'сделка с подержанным автомобилем':\n",
    "        return 'операции с автомобилем'\n",
    "    if purpose == 'автомобиль':\n",
    "        return 'операции с автомобилем'\n",
    "    if purpose == 'свой автомобиль':\n",
    "        return 'операции с автомобилем'\n",
    "    if purpose == 'сделка с автомобилем':\n",
    "        return 'операции с автомобилем'\n",
    "    if purpose == 'на покупку автомобиля':\n",
    "        return 'операции с автомобилем'\n",
    "    return 'получение образования'\n",
    "\n",
    "\n",
    "\n",
    "#вызовем функцию\n",
    "data['purpose_category'] = data['purpose'].apply(purpose_group)\n",
    "data.head(10)"
   ]
  },
  {
   "cell_type": "markdown",
   "id": "160409ce",
   "metadata": {},
   "source": [
    "### Ответы на вопросы."
   ]
  },
  {
   "cell_type": "markdown",
   "id": "86092af0",
   "metadata": {},
   "source": [
    "##### Вопрос 1:  **Есть ли зависимость между количеством детей и возвратом кредита в срок?**"
   ]
  },
  {
   "cell_type": "markdown",
   "id": "cfa55753",
   "metadata": {},
   "source": [
    "\n",
    " \n",
    " Чтобы ответить на этот вопрос, сравним показатели. Посмотрим сколько детей есть у тех, кто имел проблемы с возвратом кредитов в срок. "
   ]
  },
  {
   "cell_type": "code",
   "execution_count": 39,
   "id": "38c67102",
   "metadata": {
    "scrolled": true
   },
   "outputs": [
    {
     "data": {
      "text/plain": [
       "array([[<AxesSubplot:title={'center':'children'}>,\n",
       "        <AxesSubplot:title={'center':'days_employed'}>,\n",
       "        <AxesSubplot:title={'center':'dob_years'}>],\n",
       "       [<AxesSubplot:title={'center':'education_id'}>,\n",
       "        <AxesSubplot:title={'center':'family_status_id'}>,\n",
       "        <AxesSubplot:title={'center':'debt'}>],\n",
       "       [<AxesSubplot:title={'center':'total_income'}>, <AxesSubplot:>,\n",
       "        <AxesSubplot:>]], dtype=object)"
      ]
     },
     "execution_count": 39,
     "metadata": {},
     "output_type": "execute_result"
    },
    {
     "data": {
      "image/png": "[encoded data removed]",
      "text/plain": [
       "<Figure size 432x288 with 9 Axes>"
      ]
     },
     "metadata": {
      "needs_background": "light"
     },
     "output_type": "display_data"
    }
   ],
   "source": [
    "#посмотрим на распределение каждого атрибута путем дискретизации \n",
    "#значений в сегменты и рассмотреть частоту в каждом сегменте в виде гистограмм\n",
    "data.hist()"
   ]
  },
  {
   "cell_type": "code",
   "execution_count": 40,
   "id": "8fcb86e3",
   "metadata": {},
   "outputs": [
    {
     "data": {
      "text/html": [
       "<div>\n",
       "<style scoped>\n",
       "    .dataframe tbody tr th:only-of-type {\n",
       "        vertical-align: middle;\n",
       "    }\n",
       "\n",
       "    .dataframe tbody tr th {\n",
       "        vertical-align: top;\n",
       "    }\n",
       "\n",
       "    .dataframe thead th {\n",
       "        text-align: right;\n",
       "    }\n",
       "</style>\n",
       "<table border=\"1\" class=\"dataframe\">\n",
       "  <thead>\n",
       "    <tr style=\"text-align: right;\">\n",
       "      <th></th>\n",
       "      <th>children</th>\n",
       "      <th>days_employed</th>\n",
       "      <th>dob_years</th>\n",
       "      <th>education_id</th>\n",
       "      <th>family_status_id</th>\n",
       "      <th>gender</th>\n",
       "      <th>income_type</th>\n",
       "      <th>debt</th>\n",
       "      <th>total_income</th>\n",
       "      <th>purpose</th>\n",
       "      <th>total_income_category</th>\n",
       "      <th>purpose_category</th>\n",
       "    </tr>\n",
       "  </thead>\n",
       "  <tbody>\n",
       "    <tr>\n",
       "      <th>14</th>\n",
       "      <td>0</td>\n",
       "      <td>1844.956182</td>\n",
       "      <td>56.0</td>\n",
       "      <td>0</td>\n",
       "      <td>1</td>\n",
       "      <td>F</td>\n",
       "      <td>компаньон</td>\n",
       "      <td>1</td>\n",
       "      <td>165127</td>\n",
       "      <td>покупка жилой недвижимости</td>\n",
       "      <td>C</td>\n",
       "      <td>операции с недвижимостью</td>\n",
       "    </tr>\n",
       "    <tr>\n",
       "      <th>32</th>\n",
       "      <td>0</td>\n",
       "      <td>4649.910832</td>\n",
       "      <td>34.0</td>\n",
       "      <td>1</td>\n",
       "      <td>1</td>\n",
       "      <td>F</td>\n",
       "      <td>сотрудник</td>\n",
       "      <td>1</td>\n",
       "      <td>139057</td>\n",
       "      <td>на проведение свадьбы</td>\n",
       "      <td>C</td>\n",
       "      <td>проведение свадьбы</td>\n",
       "    </tr>\n",
       "    <tr>\n",
       "      <th>38</th>\n",
       "      <td>0</td>\n",
       "      <td>597.881827</td>\n",
       "      <td>25.0</td>\n",
       "      <td>0</td>\n",
       "      <td>4</td>\n",
       "      <td>M</td>\n",
       "      <td>сотрудник</td>\n",
       "      <td>1</td>\n",
       "      <td>192247</td>\n",
       "      <td>образование</td>\n",
       "      <td>C</td>\n",
       "      <td>получение образования</td>\n",
       "    </tr>\n",
       "  </tbody>\n",
       "</table>\n",
       "</div>"
      ],
      "text/plain": [
       "    children  days_employed  dob_years  education_id  family_status_id gender  \\\n",
       "14         0    1844.956182       56.0             0                 1      F   \n",
       "32         0    4649.910832       34.0             1                 1      F   \n",
       "38         0     597.881827       25.0             0                 4      M   \n",
       "\n",
       "   income_type  debt  total_income                     purpose  \\\n",
       "14   компаньон     1        165127  покупка жилой недвижимости   \n",
       "32   сотрудник     1        139057       на проведение свадьбы   \n",
       "38   сотрудник     1        192247                 образование   \n",
       "\n",
       "   total_income_category          purpose_category  \n",
       "14                     C  операции с недвижимостью  \n",
       "32                     C        проведение свадьбы  \n",
       "38                     C     получение образования  "
      ]
     },
     "execution_count": 40,
     "metadata": {},
     "output_type": "execute_result"
    }
   ],
   "source": [
    "#создали новую переменную, куда поместили все строчки, в которых указано, что у клиента были проблемы с возвратом кредита \n",
    "#и еще одну где будут все, кто выплачивал вовремя\n",
    "data_1 = data[data['debt']==1]\n",
    "data_0 = data[data['debt']==0]\n",
    "data_1.head(3)"
   ]
  },
  {
   "cell_type": "code",
   "execution_count": 41,
   "id": "29d31b9d",
   "metadata": {
    "scrolled": true
   },
   "outputs": [
    {
     "data": {
      "text/plain": [
       "<AxesSubplot:xlabel='children', ylabel='debt'>"
      ]
     },
     "execution_count": 41,
     "metadata": {},
     "output_type": "execute_result"
    },
    {
     "data": {
      "image/png": "[encoded data removed]",
      "text/plain": [
       "<Figure size 432x288 with 1 Axes>"
      ]
     },
     "metadata": {
      "needs_background": "light"
     },
     "output_type": "display_data"
    }
   ],
   "source": [
    "seaborn.barplot(x=data['children'], y=data_1['debt'])"
   ]
  },
  {
   "cell_type": "markdown",
   "id": "9e3006c3",
   "metadata": {},
   "source": [
    "Мы видим, что у клиентов, у которых есть проблемы с выплатами, нет более 5 детей. Но все остальные категории присутствуют "
   ]
  },
  {
   "cell_type": "code",
   "execution_count": 42,
   "id": "cb749b07",
   "metadata": {},
   "outputs": [
    {
     "data": {
      "text/html": [
       "<div>\n",
       "<style scoped>\n",
       "    .dataframe tbody tr th:only-of-type {\n",
       "        vertical-align: middle;\n",
       "    }\n",
       "\n",
       "    .dataframe tbody tr th {\n",
       "        vertical-align: top;\n",
       "    }\n",
       "\n",
       "    .dataframe thead th {\n",
       "        text-align: right;\n",
       "    }\n",
       "</style>\n",
       "<table border=\"1\" class=\"dataframe\">\n",
       "  <thead>\n",
       "    <tr style=\"text-align: right;\">\n",
       "      <th></th>\n",
       "      <th></th>\n",
       "      <th>children</th>\n",
       "    </tr>\n",
       "    <tr>\n",
       "      <th>children</th>\n",
       "      <th>debt</th>\n",
       "      <th></th>\n",
       "    </tr>\n",
       "  </thead>\n",
       "  <tbody>\n",
       "    <tr>\n",
       "      <th rowspan=\"2\" valign=\"top\">0</th>\n",
       "      <th>0</th>\n",
       "      <td>0</td>\n",
       "    </tr>\n",
       "    <tr>\n",
       "      <th>1</th>\n",
       "      <td>0</td>\n",
       "    </tr>\n",
       "    <tr>\n",
       "      <th rowspan=\"2\" valign=\"top\">1</th>\n",
       "      <th>0</th>\n",
       "      <td>4411</td>\n",
       "    </tr>\n",
       "    <tr>\n",
       "      <th>1</th>\n",
       "      <td>445</td>\n",
       "    </tr>\n",
       "    <tr>\n",
       "      <th rowspan=\"2\" valign=\"top\">2</th>\n",
       "      <th>0</th>\n",
       "      <td>3852</td>\n",
       "    </tr>\n",
       "    <tr>\n",
       "      <th>1</th>\n",
       "      <td>404</td>\n",
       "    </tr>\n",
       "    <tr>\n",
       "      <th rowspan=\"2\" valign=\"top\">3</th>\n",
       "      <th>0</th>\n",
       "      <td>909</td>\n",
       "    </tr>\n",
       "    <tr>\n",
       "      <th>1</th>\n",
       "      <td>81</td>\n",
       "    </tr>\n",
       "    <tr>\n",
       "      <th rowspan=\"2\" valign=\"top\">4</th>\n",
       "      <th>0</th>\n",
       "      <td>148</td>\n",
       "    </tr>\n",
       "    <tr>\n",
       "      <th>1</th>\n",
       "      <td>16</td>\n",
       "    </tr>\n",
       "    <tr>\n",
       "      <th>5</th>\n",
       "      <th>0</th>\n",
       "      <td>45</td>\n",
       "    </tr>\n",
       "  </tbody>\n",
       "</table>\n",
       "</div>"
      ],
      "text/plain": [
       "               children\n",
       "children debt          \n",
       "0        0            0\n",
       "         1            0\n",
       "1        0         4411\n",
       "         1          445\n",
       "2        0         3852\n",
       "         1          404\n",
       "3        0          909\n",
       "         1           81\n",
       "4        0          148\n",
       "         1           16\n",
       "5        0           45"
      ]
     },
     "execution_count": 42,
     "metadata": {},
     "output_type": "execute_result"
    }
   ],
   "source": [
    "data['children'] = data['children'].astype(int)\n",
    "data_pivot = data.groupby(['children', 'debt']).agg({'children':sum})\n",
    "data_pivot"
   ]
  },
  {
   "cell_type": "code",
   "execution_count": 43,
   "id": "a28c5b55",
   "metadata": {},
   "outputs": [
    {
     "data": {
      "text/plain": [
       "<AxesSubplot:xlabel='children', ylabel='debt'>"
      ]
     },
     "execution_count": 43,
     "metadata": {},
     "output_type": "execute_result"
    },
    {
     "data": {
      "image/png": "[encoded data removed]",
      "text/plain": [
       "<Figure size 432x288 with 1 Axes>"
      ]
     },
     "metadata": {
      "needs_background": "light"
     },
     "output_type": "display_data"
    }
   ],
   "source": [
    "seaborn.barplot(x=data['children'], y=data['debt'])"
   ]
  },
  {
   "cell_type": "markdown",
   "id": "c65a2e48",
   "metadata": {},
   "source": [
    "Можно сделать **вывод**: количество детей никак не зависит от способности клиентов возвращать кредит в срок. На графике видно, что количетсво распредлено равномерно. Можно заметить, что у людей с 2 детьми больше вероятность попасть в группу риска, чем у кого 3 или 5. Наличие 5 детей в семье вообще положительно влияет на платежеспособность. "
   ]
  },
  {
   "cell_type": "markdown",
   "id": "df7a8fce",
   "metadata": {},
   "source": [
    "##### Вопрос 2: Есть ли зависимость между семейным положением и возвратом кредита в срок?"
   ]
  },
  {
   "cell_type": "code",
   "execution_count": 44,
   "id": "de3f164c",
   "metadata": {},
   "outputs": [
    {
     "data": {
      "text/html": [
       "<div>\n",
       "<style scoped>\n",
       "    .dataframe tbody tr th:only-of-type {\n",
       "        vertical-align: middle;\n",
       "    }\n",
       "\n",
       "    .dataframe tbody tr th {\n",
       "        vertical-align: top;\n",
       "    }\n",
       "\n",
       "    .dataframe thead th {\n",
       "        text-align: right;\n",
       "    }\n",
       "</style>\n",
       "<table border=\"1\" class=\"dataframe\">\n",
       "  <thead>\n",
       "    <tr style=\"text-align: right;\">\n",
       "      <th></th>\n",
       "      <th></th>\n",
       "      <th>family_status_id</th>\n",
       "    </tr>\n",
       "    <tr>\n",
       "      <th>family_status_id</th>\n",
       "      <th>debt</th>\n",
       "      <th></th>\n",
       "    </tr>\n",
       "  </thead>\n",
       "  <tbody>\n",
       "    <tr>\n",
       "      <th rowspan=\"2\" valign=\"top\">0</th>\n",
       "      <th>0</th>\n",
       "      <td>0</td>\n",
       "    </tr>\n",
       "    <tr>\n",
       "      <th>1</th>\n",
       "      <td>0</td>\n",
       "    </tr>\n",
       "    <tr>\n",
       "      <th rowspan=\"2\" valign=\"top\">1</th>\n",
       "      <th>0</th>\n",
       "      <td>3774</td>\n",
       "    </tr>\n",
       "    <tr>\n",
       "      <th>1</th>\n",
       "      <td>388</td>\n",
       "    </tr>\n",
       "    <tr>\n",
       "      <th rowspan=\"2\" valign=\"top\">2</th>\n",
       "      <th>0</th>\n",
       "      <td>1792</td>\n",
       "    </tr>\n",
       "    <tr>\n",
       "      <th>1</th>\n",
       "      <td>126</td>\n",
       "    </tr>\n",
       "    <tr>\n",
       "      <th rowspan=\"2\" valign=\"top\">3</th>\n",
       "      <th>0</th>\n",
       "      <td>3330</td>\n",
       "    </tr>\n",
       "    <tr>\n",
       "      <th>1</th>\n",
       "      <td>255</td>\n",
       "    </tr>\n",
       "    <tr>\n",
       "      <th rowspan=\"2\" valign=\"top\">4</th>\n",
       "      <th>0</th>\n",
       "      <td>10144</td>\n",
       "    </tr>\n",
       "    <tr>\n",
       "      <th>1</th>\n",
       "      <td>1096</td>\n",
       "    </tr>\n",
       "  </tbody>\n",
       "</table>\n",
       "</div>"
      ],
      "text/plain": [
       "                       family_status_id\n",
       "family_status_id debt                  \n",
       "0                0                    0\n",
       "                 1                    0\n",
       "1                0                 3774\n",
       "                 1                  388\n",
       "2                0                 1792\n",
       "                 1                  126\n",
       "3                0                 3330\n",
       "                 1                  255\n",
       "4                0                10144\n",
       "                 1                 1096"
      ]
     },
     "execution_count": 44,
     "metadata": {},
     "output_type": "execute_result"
    }
   ],
   "source": [
    "data['family_status_id'] = data['family_status_id'].astype(int)\n",
    "data_pivot_2 = data.groupby(['family_status_id', 'debt']).agg({'family_status_id':sum})\n",
    "data_pivot_2"
   ]
  },
  {
   "cell_type": "code",
   "execution_count": 45,
   "id": "b975f372",
   "metadata": {
    "scrolled": false
   },
   "outputs": [
    {
     "data": {
      "text/plain": [
       "<AxesSubplot:xlabel='family_status_id', ylabel='debt'>"
      ]
     },
     "execution_count": 45,
     "metadata": {},
     "output_type": "execute_result"
    },
    {
     "data": {
      "image/png": "[encoded data removed]",
      "text/plain": [
       "<Figure size 432x288 with 1 Axes>"
      ]
     },
     "metadata": {
      "needs_background": "light"
     },
     "output_type": "display_data"
    }
   ],
   "source": [
    "seaborn.barplot(x=data['family_status_id'], y=data['debt'])"
   ]
  },
  {
   "cell_type": "markdown",
   "id": "cae363ae",
   "metadata": {},
   "source": [
    "Напомню распределение:\n",
    "\n",
    "* женат/замужем - 0\n",
    "* гражданский брак - 1\n",
    "* вдовец/вдова - 2\n",
    "* в разводе - 3\n",
    "* не женат/ не замужем - 4\n",
    "\n",
    "Можно сделать вывод, что наибольшие трудности возникают у тех, кто не женат/не замужем или находится в гражданском браке, а легче тем, кто вдовец/вдова. Но показатели не сильно разняться. Возможно зависимость тут присутствует, но не значительная."
   ]
  },
  {
   "cell_type": "markdown",
   "id": "0fd543c8",
   "metadata": {},
   "source": [
    "##### Вопрос 3: Есть ли зависимость между уровнем дохода и возвратом кредита в срок?"
   ]
  },
  {
   "cell_type": "code",
   "execution_count": 46,
   "id": "5719f51a",
   "metadata": {
    "scrolled": true
   },
   "outputs": [
    {
     "data": {
      "text/plain": [
       "<AxesSubplot:xlabel='total_income_category', ylabel='debt'>"
      ]
     },
     "execution_count": 46,
     "metadata": {},
     "output_type": "execute_result"
    },
    {
     "data": {
      "image/png": "[encoded data removed]",
      "text/plain": [
       "<Figure size 432x288 with 1 Axes>"
      ]
     },
     "metadata": {
      "needs_background": "light"
     },
     "output_type": "display_data"
    }
   ],
   "source": [
    "seaborn.barplot(x=data['total_income_category'], y=data['debt'])"
   ]
  },
  {
   "cell_type": "markdown",
   "id": "2e0fdd57",
   "metadata": {},
   "source": [
    "Напомню определение значений:\n",
    "* 0–30000 — 'E';\n",
    "* 30001–50000 — 'D';\n",
    "* 50001–200000 — 'C';\n",
    "* 200001–1000000 — 'B';\n",
    "* 1000001 и выше — 'A'.\n",
    "\n",
    "Заметно, что расхождения не таких значительные. У людей с доходом Е - трудностей больше, на втором месте С, меньше всего проблем у D. \n",
    "Зависимость есть, но не сильно велика. "
   ]
  },
  {
   "cell_type": "markdown",
   "id": "62d25bac",
   "metadata": {},
   "source": [
    "##### Вопрос 4: Как разные цели кредита влияют на его возврат в срок?"
   ]
  },
  {
   "cell_type": "code",
   "execution_count": 47,
   "id": "a574f95d",
   "metadata": {
    "scrolled": true
   },
   "outputs": [
    {
     "data": {
      "text/plain": [
       "<AxesSubplot:xlabel='purpose_category', ylabel='debt'>"
      ]
     },
     "execution_count": 47,
     "metadata": {},
     "output_type": "execute_result"
    },
    {
     "data": {
      "image/png": "[encoded data removed]",
      "text/plain": [
       "<Figure size 432x288 with 1 Axes>"
      ]
     },
     "metadata": {
      "needs_background": "light"
     },
     "output_type": "display_data"
    }
   ],
   "source": [
    "seaborn.barplot(x=data['purpose_category'], y=data['debt'])"
   ]
  },
  {
   "cell_type": "markdown",
   "id": "fdcae933",
   "metadata": {},
   "source": [
    "Разница тоже не вилика, большая трудность с выплатой кредита в срок была у категории `операции с автомобилем`, а меньше у `операции с недвижимостью`"
   ]
  },
  {
   "cell_type": "markdown",
   "id": "e8f41e0e",
   "metadata": {},
   "source": [
    "## Общий вывод:"
   ]
  },
  {
   "cell_type": "markdown",
   "id": "129f6cd7",
   "metadata": {},
   "source": [
    "Предлагаю составить примерный портрет самого злостного неплательщика:"
   ]
  },
  {
   "cell_type": "code",
   "execution_count": 48,
   "id": "1afa0415",
   "metadata": {},
   "outputs": [
    {
     "data": {
      "text/plain": [
       "0    1063\n",
       "1     445\n",
       "2     202\n",
       "3      27\n",
       "4       4\n",
       "Name: children, dtype: int64"
      ]
     },
     "execution_count": 48,
     "metadata": {},
     "output_type": "execute_result"
    }
   ],
   "source": [
    "#из файла. где содержатся все строки с клиентами, не возвращающими кредит в срок, посчитаем кол-во людей в каждой колонке\n",
    "\n",
    "data_1['children'].value_counts()"
   ]
  },
  {
   "cell_type": "markdown",
   "id": "12bc3144",
   "metadata": {},
   "source": [
    "всего таких клиентов, кстати 1741. Это всего 8% от всех клиентов. Не много, но могло бы и не быть вовсе.\n",
    "\n",
    "Итак, у большинства таких клиентов детей нет"
   ]
  },
  {
   "cell_type": "code",
   "execution_count": 49,
   "id": "18740812",
   "metadata": {},
   "outputs": [
    {
     "data": {
      "text/plain": [
       "0    931\n",
       "1    388\n",
       "4    274\n",
       "3     85\n",
       "2     63\n",
       "Name: family_status_id, dtype: int64"
      ]
     },
     "execution_count": 49,
     "metadata": {},
     "output_type": "execute_result"
    }
   ],
   "source": [
    "data_1['family_status_id'].value_counts()"
   ]
  },
  {
   "cell_type": "markdown",
   "id": "899feb8e",
   "metadata": {},
   "source": [
    "Большинство клиентов не замужем/не женаты"
   ]
  },
  {
   "cell_type": "code",
   "execution_count": 50,
   "id": "2e51e869",
   "metadata": {},
   "outputs": [
    {
     "data": {
      "text/plain": [
       "1    1364\n",
       "0     278\n",
       "2      68\n",
       "3      31\n",
       "Name: education_id, dtype: int64"
      ]
     },
     "execution_count": 50,
     "metadata": {},
     "output_type": "execute_result"
    }
   ],
   "source": [
    "data_1['education_id'].value_counts()"
   ]
  },
  {
   "cell_type": "markdown",
   "id": "05fa098d",
   "metadata": {},
   "source": [
    "Основная часть таких неплательщиков со среднем образованием"
   ]
  },
  {
   "cell_type": "code",
   "execution_count": 51,
   "id": "cf058a7b",
   "metadata": {},
   "outputs": [
    {
     "data": {
      "text/plain": [
       "операции с недвижимостью    782\n",
       "операции с автомобилем      403\n",
       "получение образования       370\n",
       "проведение свадьбы          186\n",
       "Name: purpose_category, dtype: int64"
      ]
     },
     "execution_count": 51,
     "metadata": {},
     "output_type": "execute_result"
    }
   ],
   "source": [
    "data_1['purpose_category'].value_counts()"
   ]
  },
  {
   "cell_type": "markdown",
   "id": "de874aa1",
   "metadata": {},
   "source": [
    "Самая популярная цель кредита - Операции с недвижимостью"
   ]
  },
  {
   "cell_type": "code",
   "execution_count": 52,
   "id": "34515ab3",
   "metadata": {},
   "outputs": [
    {
     "data": {
      "text/plain": [
       "31.0    76\n",
       "29.0    65\n",
       "38.0    64\n",
       "34.0    64\n",
       "28.0    57\n",
       "Name: dob_years, dtype: int64"
      ]
     },
     "execution_count": 52,
     "metadata": {},
     "output_type": "execute_result"
    }
   ],
   "source": [
    "data_1['dob_years'].value_counts().head()"
   ]
  },
  {
   "cell_type": "markdown",
   "id": "79baf125",
   "metadata": {},
   "source": [
    "В основном это люди от 28 до 38 лет"
   ]
  },
  {
   "cell_type": "code",
   "execution_count": 53,
   "id": "15af71a1",
   "metadata": {},
   "outputs": [
    {
     "data": {
      "text/plain": [
       "2194.220567      170\n",
       "394228.664310      1\n",
       "386389.497407      1\n",
       "1644.023901        1\n",
       "779.257029         1\n",
       "Name: days_employed, dtype: int64"
      ]
     },
     "execution_count": 53,
     "metadata": {},
     "output_type": "execute_result"
    }
   ],
   "source": [
    "data_1['days_employed'].value_counts().head()"
   ]
  },
  {
   "cell_type": "markdown",
   "id": "84505033",
   "metadata": {},
   "source": [
    "Кстати, про стаж, прошу заметить, что у 170 человек из нашего списка трудовой стаж - это медианная величина. "
   ]
  },
  {
   "cell_type": "code",
   "execution_count": 54,
   "id": "4404f9d5",
   "metadata": {},
   "outputs": [
    {
     "data": {
      "text/plain": [
       "сотрудник      1061\n",
       "компаньон       376\n",
       "пенсионер       216\n",
       "госслужащий      86\n",
       "безработный       1\n",
       "в декрете         1\n",
       "Name: income_type, dtype: int64"
      ]
     },
     "execution_count": 54,
     "metadata": {},
     "output_type": "execute_result"
    }
   ],
   "source": [
    "data_1['income_type'].value_counts()"
   ]
  },
  {
   "cell_type": "markdown",
   "id": "592d5c28",
   "metadata": {},
   "source": [
    "Основная масса людей работают наемными сотрудниками"
   ]
  },
  {
   "cell_type": "code",
   "execution_count": 55,
   "id": "09f4499c",
   "metadata": {},
   "outputs": [
    {
     "data": {
      "text/plain": [
       "C    1360\n",
       "B     356\n",
       "D      21\n",
       "A       2\n",
       "E       2\n",
       "Name: total_income_category, dtype: int64"
      ]
     },
     "execution_count": 55,
     "metadata": {},
     "output_type": "execute_result"
    }
   ],
   "source": [
    "data_1['total_income_category'].value_counts()"
   ]
  },
  {
   "cell_type": "markdown",
   "id": "38a8a423",
   "metadata": {},
   "source": [
    "У многих доход в месяц от 50 до 200 тыс.руб."
   ]
  },
  {
   "cell_type": "code",
   "execution_count": 56,
   "id": "43ca8688",
   "metadata": {},
   "outputs": [
    {
     "data": {
      "text/plain": [
       "F    994\n",
       "M    747\n",
       "Name: gender, dtype: int64"
      ]
     },
     "execution_count": 56,
     "metadata": {},
     "output_type": "execute_result"
    }
   ],
   "source": [
    "data_1['gender'].value_counts()"
   ]
  },
  {
   "cell_type": "markdown",
   "id": "1f9939f9",
   "metadata": {},
   "source": [
    "Здесь почти поровну, то девушек больше. "
   ]
  },
  {
   "cell_type": "markdown",
   "id": "b6a17e30",
   "metadata": {},
   "source": [
    "Подводим итог: итак портрет клиента, который часто сталкивается с проблемой вовремя возвращать кредит. Это люди от 28 до 38 лет со среднем образованием, не состоящие в браке, не имеющие детей. Цель кредита - операции с недвижимостью. Работают наемными сотрудника с ежемесячным доходом от 50 до 200 тысяч рублей. \n",
    "\n",
    "Говоря о зависимости между четырьми показателями: количество детей, семейное положение, уровень дохода и цель кредита, можно заметить, что так или иначе зависимость есть. Она не сильно большая, но присутствует. Мы сравнивали две категории клиентов: кто не имеет проблем с возвратом в срок и кто имеет.\n",
    "\n",
    "* У людей с 2 детьми больше вероятность попасть в группу риска, чем у кого 3 или 5. Наличие 5 детей в семье вообще положительно влияет на платежеспособность.\n",
    "* Наибольшие трудности возникают у тех, кто не женат/не замужем или находится в гражданском браке, а легче тем, кто вдовец/вдова. \n",
    "* У людей с доходом до 30 тысяч - трудностей больше, на втором месте - доход от 50 до 200 тысяч, меньше всего проблем у людей с доходом от 30 до 50 тысяч. \n",
    "* Большая трудность с выплатой кредита в срок была у категории операции с автомобилем, а меньше у операции с недвижимостью."
   ]
  },
  {
   "cell_type": "markdown",
   "id": "7da663d4",
   "metadata": {},
   "source": [
    "Ради интереса хочется составить портрет клиента, которые вовремя возвращает кредит."
   ]
  },
  {
   "cell_type": "code",
   "execution_count": 57,
   "id": "201ac1dd",
   "metadata": {},
   "outputs": [
    {
     "data": {
      "text/plain": [
       "F      13194\n",
       "M       6534\n",
       "XNA        1\n",
       "Name: gender, dtype: int64"
      ]
     },
     "execution_count": 57,
     "metadata": {},
     "output_type": "execute_result"
    }
   ],
   "source": [
    "#для этого мы создавали табличку только с теми, у кого debt = 0\n",
    "data_0['gender'].value_counts()"
   ]
  },
  {
   "cell_type": "code",
   "execution_count": 58,
   "id": "33f6dbed",
   "metadata": {},
   "outputs": [
    {
     "data": {
      "text/plain": [
       "0    13043\n",
       "1     4411\n",
       "2     1926\n",
       "3      303\n",
       "4       37\n",
       "5        9\n",
       "Name: children, dtype: int64"
      ]
     },
     "execution_count": 58,
     "metadata": {},
     "output_type": "execute_result"
    }
   ],
   "source": [
    "data_0['children'].value_counts()"
   ]
  },
  {
   "cell_type": "code",
   "execution_count": 59,
   "id": "f64eb1c5",
   "metadata": {},
   "outputs": [
    {
     "data": {
      "text/plain": [
       "2194.220567      1950\n",
       "142.276217          1\n",
       "8615.745089         1\n",
       "248.663542          1\n",
       "329951.594147       1\n",
       "Name: days_employed, dtype: int64"
      ]
     },
     "execution_count": 59,
     "metadata": {},
     "output_type": "execute_result"
    }
   ],
   "source": [
    "data_0['days_employed'].value_counts().head()"
   ]
  },
  {
   "cell_type": "code",
   "execution_count": 60,
   "id": "ae9c7e89",
   "metadata": {},
   "outputs": [
    {
     "data": {
      "text/plain": [
       "1    13823\n",
       "0     4973\n",
       "2      676\n",
       "3      251\n",
       "4        6\n",
       "Name: education_id, dtype: int64"
      ]
     },
     "execution_count": 60,
     "metadata": {},
     "output_type": "execute_result"
    }
   ],
   "source": [
    "data_0['education_id'].value_counts()"
   ]
  },
  {
   "cell_type": "code",
   "execution_count": 61,
   "id": "4b0281bf",
   "metadata": {},
   "outputs": [
    {
     "data": {
      "text/plain": [
       "0    11413\n",
       "1     3774\n",
       "4     2536\n",
       "3     1110\n",
       "2      896\n",
       "Name: family_status_id, dtype: int64"
      ]
     },
     "execution_count": 61,
     "metadata": {},
     "output_type": "execute_result"
    }
   ],
   "source": [
    "data_0['family_status_id'].value_counts()"
   ]
  },
  {
   "cell_type": "code",
   "execution_count": 62,
   "id": "384be9b7",
   "metadata": {},
   "outputs": [
    {
     "data": {
      "text/plain": [
       "сотрудник          10029\n",
       "компаньон           4704\n",
       "пенсионер           3621\n",
       "госслужащий         1371\n",
       "предприниматель        2\n",
       "студент                1\n",
       "безработный            1\n",
       "Name: income_type, dtype: int64"
      ]
     },
     "execution_count": 62,
     "metadata": {},
     "output_type": "execute_result"
    }
   ],
   "source": [
    "data_0['income_type'].value_counts()"
   ]
  },
  {
   "cell_type": "code",
   "execution_count": 63,
   "id": "61e1e302",
   "metadata": {},
   "outputs": [
    {
     "data": {
      "text/plain": [
       "C    14672\n",
       "B     4685\n",
       "D      329\n",
       "A       23\n",
       "E       20\n",
       "Name: total_income_category, dtype: int64"
      ]
     },
     "execution_count": 63,
     "metadata": {},
     "output_type": "execute_result"
    }
   ],
   "source": [
    "data_0['total_income_category'].value_counts()"
   ]
  },
  {
   "cell_type": "code",
   "execution_count": 64,
   "id": "05017870",
   "metadata": {},
   "outputs": [
    {
     "data": {
      "text/plain": [
       "операции с недвижимостью    10032\n",
       "операции с автомобилем       3905\n",
       "получение образования        3644\n",
       "проведение свадьбы           2148\n",
       "Name: purpose_category, dtype: int64"
      ]
     },
     "execution_count": 64,
     "metadata": {},
     "output_type": "execute_result"
    }
   ],
   "source": [
    "data_0['purpose_category'].value_counts()"
   ]
  },
  {
   "cell_type": "code",
   "execution_count": 65,
   "id": "b165b44e",
   "metadata": {},
   "outputs": [
    {
     "data": {
      "text/plain": [
       "42.0    646\n",
       "35.0    569\n",
       "40.0    559\n",
       "41.0    557\n",
       "34.0    537\n",
       "38.0    533\n",
       "39.0    528\n",
       "33.0    525\n",
       "36.0    511\n",
       "44.0    504\n",
       "Name: dob_years, dtype: int64"
      ]
     },
     "execution_count": 65,
     "metadata": {},
     "output_type": "execute_result"
    }
   ],
   "source": [
    "data_0['dob_years'].value_counts().head(10)"
   ]
  },
  {
   "cell_type": "markdown",
   "id": "bb6b933f",
   "metadata": {},
   "source": [
    "Итак это люди от 33 до 44 лет, тоже со средним образованием, не состоящие в браке, наемные сотрудники с доходом от 50 до 200 тысяч рублей, использующие кредит для операций с недвижимостью, не имеющие детей и в основном девушки. \n",
    "\n",
    "Существует закономерность, что портреты очень схожи. Безусловно зависимость жизненных факторов существует, но это не сильно влияет на обстоятельства, по которым клиент не возвращает кредит в срок. Поэтому нельзя запретить выдавать кредиты людям без детей или с небольшим доходом, например. "
   ]
  }
 ],
 "metadata": {
  "ExecuteTimeLog": [
   {
    "duration": 981,
    "start_time": "2022-05-18T10:16:16.629Z"
   },
   {
    "duration": 88,
    "start_time": "2022-05-18T10:16:23.697Z"
   },
   {
    "duration": 104,
    "start_time": "2022-05-18T10:17:09.251Z"
   },
   {
    "duration": 101,
    "start_time": "2022-05-18T10:17:17.150Z"
   },
   {
    "duration": 21,
    "start_time": "2022-05-18T10:19:21.912Z"
   },
   {
    "duration": 10,
    "start_time": "2022-05-18T10:37:09.798Z"
   },
   {
    "duration": 26,
    "start_time": "2022-05-18T10:47:25.420Z"
   },
   {
    "duration": 105,
    "start_time": "2022-05-18T10:47:42.555Z"
   },
   {
    "duration": 8,
    "start_time": "2022-05-18T10:47:51.632Z"
   },
   {
    "duration": 6,
    "start_time": "2022-05-18T10:48:02.080Z"
   },
   {
    "duration": 5,
    "start_time": "2022-05-18T10:52:12.589Z"
   },
   {
    "duration": 5,
    "start_time": "2022-05-18T10:52:27.797Z"
   },
   {
    "duration": 6,
    "start_time": "2022-05-18T10:53:46.757Z"
   },
   {
    "duration": 12,
    "start_time": "2022-05-18T10:57:39.172Z"
   },
   {
    "duration": 17,
    "start_time": "2022-05-18T11:10:51.851Z"
   },
   {
    "duration": 11,
    "start_time": "2022-05-18T11:10:54.930Z"
   },
   {
    "duration": 11,
    "start_time": "2022-05-18T11:11:09.455Z"
   },
   {
    "duration": 77,
    "start_time": "2022-05-18T11:11:37.722Z"
   },
   {
    "duration": 17,
    "start_time": "2022-05-18T11:11:37.801Z"
   },
   {
    "duration": 11,
    "start_time": "2022-05-18T11:11:37.820Z"
   },
   {
    "duration": 5,
    "start_time": "2022-05-18T11:11:37.833Z"
   },
   {
    "duration": 6,
    "start_time": "2022-05-18T11:11:37.840Z"
   },
   {
    "duration": 12,
    "start_time": "2022-05-18T11:11:37.875Z"
   },
   {
    "duration": 19,
    "start_time": "2022-05-18T11:23:27.317Z"
   },
   {
    "duration": 6,
    "start_time": "2022-05-18T11:24:19.047Z"
   },
   {
    "duration": 15,
    "start_time": "2022-05-18T11:24:37.353Z"
   },
   {
    "duration": 14,
    "start_time": "2022-05-18T11:24:46.081Z"
   },
   {
    "duration": 8,
    "start_time": "2022-05-18T11:26:27.860Z"
   },
   {
    "duration": 95,
    "start_time": "2022-05-18T11:26:42.236Z"
   },
   {
    "duration": 16,
    "start_time": "2022-05-18T11:26:42.334Z"
   },
   {
    "duration": 29,
    "start_time": "2022-05-18T11:26:42.352Z"
   },
   {
    "duration": 15,
    "start_time": "2022-05-18T11:26:42.384Z"
   },
   {
    "duration": 19,
    "start_time": "2022-05-18T11:27:06.810Z"
   },
   {
    "duration": 107,
    "start_time": "2022-05-18T11:27:13.992Z"
   },
   {
    "duration": 13,
    "start_time": "2022-05-18T11:27:14.101Z"
   },
   {
    "duration": 12,
    "start_time": "2022-05-18T11:27:14.116Z"
   },
   {
    "duration": 51,
    "start_time": "2022-05-18T11:27:14.131Z"
   },
   {
    "duration": 20,
    "start_time": "2022-05-18T11:27:14.184Z"
   },
   {
    "duration": 9,
    "start_time": "2022-05-18T11:27:14.206Z"
   },
   {
    "duration": 21,
    "start_time": "2022-05-18T11:27:14.217Z"
   },
   {
    "duration": 23,
    "start_time": "2022-05-18T11:27:14.240Z"
   },
   {
    "duration": 14,
    "start_time": "2022-05-18T11:27:54.309Z"
   },
   {
    "duration": 94,
    "start_time": "2022-05-18T11:28:21.915Z"
   },
   {
    "duration": 18,
    "start_time": "2022-05-18T11:28:22.011Z"
   },
   {
    "duration": 12,
    "start_time": "2022-05-18T11:28:22.031Z"
   },
   {
    "duration": 19,
    "start_time": "2022-05-18T11:28:53.700Z"
   },
   {
    "duration": 15,
    "start_time": "2022-05-18T11:29:01.001Z"
   },
   {
    "duration": 5,
    "start_time": "2022-05-18T11:41:35.786Z"
   },
   {
    "duration": 5,
    "start_time": "2022-05-18T11:41:45.813Z"
   },
   {
    "duration": 5,
    "start_time": "2022-05-18T11:41:54.511Z"
   },
   {
    "duration": 5,
    "start_time": "2022-05-18T11:42:03.641Z"
   },
   {
    "duration": 85,
    "start_time": "2022-05-18T11:42:11.895Z"
   },
   {
    "duration": 14,
    "start_time": "2022-05-18T11:42:11.982Z"
   },
   {
    "duration": 15,
    "start_time": "2022-05-18T11:42:11.999Z"
   },
   {
    "duration": 16,
    "start_time": "2022-05-18T11:42:12.016Z"
   },
   {
    "duration": 42,
    "start_time": "2022-05-18T11:42:12.034Z"
   },
   {
    "duration": 7,
    "start_time": "2022-05-18T11:42:12.078Z"
   },
   {
    "duration": 9,
    "start_time": "2022-05-18T11:42:12.086Z"
   },
   {
    "duration": 15,
    "start_time": "2022-05-18T11:42:12.097Z"
   },
   {
    "duration": 6,
    "start_time": "2022-05-18T11:42:24.324Z"
   },
   {
    "duration": 5,
    "start_time": "2022-05-18T11:42:37.926Z"
   },
   {
    "duration": 1534,
    "start_time": "2022-05-18T12:16:21.149Z"
   },
   {
    "duration": 61,
    "start_time": "2022-05-18T12:18:48.342Z"
   },
   {
    "duration": 11,
    "start_time": "2022-05-18T12:19:12.244Z"
   },
   {
    "duration": 236,
    "start_time": "2022-05-18T12:19:21.066Z"
   },
   {
    "duration": 8,
    "start_time": "2022-05-18T12:23:09.904Z"
   },
   {
    "duration": 13,
    "start_time": "2022-05-18T12:23:18.993Z"
   },
   {
    "duration": 206,
    "start_time": "2022-05-18T12:24:36.413Z"
   },
   {
    "duration": 6,
    "start_time": "2022-05-18T12:25:22.759Z"
   },
   {
    "duration": 4,
    "start_time": "2022-05-18T12:28:30.544Z"
   },
   {
    "duration": 4,
    "start_time": "2022-05-18T12:28:32.585Z"
   },
   {
    "duration": 4,
    "start_time": "2022-05-18T12:28:40.015Z"
   },
   {
    "duration": 79,
    "start_time": "2022-05-18T12:28:44.668Z"
   },
   {
    "duration": 14,
    "start_time": "2022-05-18T12:28:44.749Z"
   },
   {
    "duration": 10,
    "start_time": "2022-05-18T12:28:44.765Z"
   },
   {
    "duration": 13,
    "start_time": "2022-05-18T12:28:44.777Z"
   },
   {
    "duration": 12,
    "start_time": "2022-05-18T12:28:44.792Z"
   },
   {
    "duration": 4,
    "start_time": "2022-05-18T12:28:44.805Z"
   },
   {
    "duration": 6,
    "start_time": "2022-05-18T12:28:44.810Z"
   },
   {
    "duration": 10,
    "start_time": "2022-05-18T12:28:44.817Z"
   },
   {
    "duration": 5,
    "start_time": "2022-05-18T12:28:44.828Z"
   },
   {
    "duration": 41,
    "start_time": "2022-05-18T12:28:44.835Z"
   },
   {
    "duration": 169,
    "start_time": "2022-05-18T12:28:44.877Z"
   },
   {
    "duration": 12,
    "start_time": "2022-05-18T12:28:45.048Z"
   },
   {
    "duration": 199,
    "start_time": "2022-05-18T12:28:45.062Z"
   },
   {
    "duration": 7,
    "start_time": "2022-05-18T12:29:06.662Z"
   },
   {
    "duration": 4,
    "start_time": "2022-05-18T12:29:09.067Z"
   },
   {
    "duration": 4,
    "start_time": "2022-05-18T12:29:40.764Z"
   },
   {
    "duration": 3,
    "start_time": "2022-05-18T12:29:44.575Z"
   },
   {
    "duration": 4,
    "start_time": "2022-05-18T12:30:10.058Z"
   },
   {
    "duration": 93,
    "start_time": "2022-05-18T12:30:52.682Z"
   },
   {
    "duration": 19,
    "start_time": "2022-05-18T12:30:52.780Z"
   },
   {
    "duration": 13,
    "start_time": "2022-05-18T12:30:52.801Z"
   },
   {
    "duration": 20,
    "start_time": "2022-05-18T12:30:52.818Z"
   },
   {
    "duration": 38,
    "start_time": "2022-05-18T12:30:52.840Z"
   },
   {
    "duration": 7,
    "start_time": "2022-05-18T12:30:52.880Z"
   },
   {
    "duration": 18,
    "start_time": "2022-05-18T12:30:52.888Z"
   },
   {
    "duration": 53,
    "start_time": "2022-05-18T12:30:52.908Z"
   },
   {
    "duration": 23,
    "start_time": "2022-05-18T12:30:52.963Z"
   },
   {
    "duration": 19,
    "start_time": "2022-05-18T12:30:52.988Z"
   },
   {
    "duration": 213,
    "start_time": "2022-05-18T12:30:53.008Z"
   },
   {
    "duration": 12,
    "start_time": "2022-05-18T12:30:53.222Z"
   },
   {
    "duration": 218,
    "start_time": "2022-05-18T12:30:53.236Z"
   },
   {
    "duration": 4,
    "start_time": "2022-05-18T12:30:53.455Z"
   },
   {
    "duration": 6,
    "start_time": "2022-05-18T12:32:00.313Z"
   },
   {
    "duration": 12,
    "start_time": "2022-05-18T12:33:10.517Z"
   },
   {
    "duration": 11,
    "start_time": "2022-05-18T12:34:04.062Z"
   },
   {
    "duration": 12,
    "start_time": "2022-05-18T12:37:49.004Z"
   },
   {
    "duration": 18,
    "start_time": "2022-05-18T12:40:14.588Z"
   },
   {
    "duration": 41,
    "start_time": "2022-05-18T12:41:11.620Z"
   },
   {
    "duration": 26,
    "start_time": "2022-05-18T12:44:26.863Z"
   },
   {
    "duration": 16,
    "start_time": "2022-05-18T12:45:32.385Z"
   },
   {
    "duration": 7,
    "start_time": "2022-05-18T12:46:02.747Z"
   },
   {
    "duration": 21,
    "start_time": "2022-05-18T12:46:36.750Z"
   },
   {
    "duration": 11,
    "start_time": "2022-05-18T12:54:36.351Z"
   },
   {
    "duration": 27,
    "start_time": "2022-05-18T12:55:10.794Z"
   },
   {
    "duration": 33,
    "start_time": "2022-05-18T12:58:36.866Z"
   },
   {
    "duration": 33,
    "start_time": "2022-05-18T12:58:47.809Z"
   },
   {
    "duration": 20,
    "start_time": "2022-05-18T13:00:02.918Z"
   },
   {
    "duration": 16,
    "start_time": "2022-05-18T13:00:28.450Z"
   },
   {
    "duration": 18,
    "start_time": "2022-05-18T13:06:24.139Z"
   },
   {
    "duration": 185,
    "start_time": "2022-05-18T13:23:01.844Z"
   },
   {
    "duration": 23,
    "start_time": "2022-05-18T13:23:30.528Z"
   },
   {
    "duration": 22,
    "start_time": "2022-05-18T13:26:29.548Z"
   },
   {
    "duration": 190,
    "start_time": "2022-05-18T13:27:01.789Z"
   },
   {
    "duration": 157,
    "start_time": "2022-05-18T13:27:33.495Z"
   },
   {
    "duration": 25,
    "start_time": "2022-05-18T13:28:36.141Z"
   },
   {
    "duration": 19,
    "start_time": "2022-05-18T13:30:44.654Z"
   },
   {
    "duration": 21,
    "start_time": "2022-05-18T13:31:03.655Z"
   },
   {
    "duration": 10,
    "start_time": "2022-05-18T13:53:51.170Z"
   },
   {
    "duration": 7,
    "start_time": "2022-05-18T13:54:00.676Z"
   },
   {
    "duration": 5,
    "start_time": "2022-05-18T13:54:20.990Z"
   },
   {
    "duration": 45,
    "start_time": "2022-05-18T14:32:39.477Z"
   },
   {
    "duration": 145,
    "start_time": "2022-05-18T14:35:29.502Z"
   },
   {
    "duration": 4,
    "start_time": "2022-05-18T14:35:38.622Z"
   },
   {
    "duration": 63,
    "start_time": "2022-05-18T14:35:58.305Z"
   },
   {
    "duration": 140,
    "start_time": "2022-05-18T14:36:45.912Z"
   },
   {
    "duration": 26,
    "start_time": "2022-05-18T14:37:01.901Z"
   },
   {
    "duration": 22,
    "start_time": "2022-05-18T14:37:43.591Z"
   },
   {
    "duration": 20,
    "start_time": "2022-05-18T14:39:07.842Z"
   },
   {
    "duration": 22,
    "start_time": "2022-05-18T14:39:38.255Z"
   },
   {
    "duration": 30,
    "start_time": "2022-05-18T14:40:06.867Z"
   },
   {
    "duration": 33,
    "start_time": "2022-05-18T14:45:33.573Z"
   },
   {
    "duration": 47,
    "start_time": "2022-05-18T14:45:57.997Z"
   },
   {
    "duration": 21,
    "start_time": "2022-05-18T14:48:47.851Z"
   },
   {
    "duration": 53,
    "start_time": "2022-05-18T14:49:41.017Z"
   },
   {
    "duration": 43,
    "start_time": "2022-05-18T14:49:47.651Z"
   },
   {
    "duration": 34,
    "start_time": "2022-05-18T14:49:58.556Z"
   },
   {
    "duration": 32,
    "start_time": "2022-05-18T14:50:50.578Z"
   },
   {
    "duration": 20,
    "start_time": "2022-05-18T14:51:37.794Z"
   },
   {
    "duration": 21,
    "start_time": "2022-05-18T14:51:51.686Z"
   },
   {
    "duration": 27,
    "start_time": "2022-05-18T14:53:17.144Z"
   },
   {
    "duration": 179,
    "start_time": "2022-05-18T14:54:33.154Z"
   },
   {
    "duration": 21,
    "start_time": "2022-05-18T14:54:56.611Z"
   },
   {
    "duration": 21,
    "start_time": "2022-05-18T14:56:07.652Z"
   },
   {
    "duration": 40,
    "start_time": "2022-05-18T15:03:52.284Z"
   },
   {
    "duration": 31,
    "start_time": "2022-05-18T15:07:40.107Z"
   },
   {
    "duration": 659,
    "start_time": "2022-05-18T15:13:03.398Z"
   },
   {
    "duration": 42,
    "start_time": "2022-05-18T15:14:33.560Z"
   },
   {
    "duration": 34,
    "start_time": "2022-05-18T15:14:46.666Z"
   },
   {
    "duration": 5,
    "start_time": "2022-05-18T15:15:22.384Z"
   },
   {
    "duration": 15,
    "start_time": "2022-05-18T15:15:26.058Z"
   },
   {
    "duration": 13,
    "start_time": "2022-05-18T15:15:35.292Z"
   },
   {
    "duration": 27,
    "start_time": "2022-05-18T15:15:57.475Z"
   },
   {
    "duration": 13,
    "start_time": "2022-05-18T15:16:07.758Z"
   },
   {
    "duration": 14,
    "start_time": "2022-05-18T15:18:08.916Z"
   },
   {
    "duration": 13,
    "start_time": "2022-05-18T15:18:21.829Z"
   },
   {
    "duration": 6,
    "start_time": "2022-05-18T15:19:36.500Z"
   },
   {
    "duration": 13,
    "start_time": "2022-05-18T15:20:38.592Z"
   },
   {
    "duration": 7,
    "start_time": "2022-05-18T15:21:08.549Z"
   },
   {
    "duration": 13,
    "start_time": "2022-05-18T15:22:00.951Z"
   },
   {
    "duration": 8,
    "start_time": "2022-05-18T15:24:49.136Z"
   },
   {
    "duration": 8,
    "start_time": "2022-05-18T15:24:56.361Z"
   },
   {
    "duration": 9,
    "start_time": "2022-05-18T15:25:11.400Z"
   },
   {
    "duration": 13,
    "start_time": "2022-05-18T15:25:21.397Z"
   },
   {
    "duration": 10,
    "start_time": "2022-05-18T15:27:15.355Z"
   },
   {
    "duration": 14,
    "start_time": "2022-05-18T15:40:46.817Z"
   },
   {
    "duration": 15,
    "start_time": "2022-05-18T15:43:53.659Z"
   },
   {
    "duration": 15,
    "start_time": "2022-05-18T15:44:01.547Z"
   },
   {
    "duration": 14,
    "start_time": "2022-05-18T15:55:26.529Z"
   },
   {
    "duration": 19,
    "start_time": "2022-05-18T15:55:30.902Z"
   },
   {
    "duration": 17,
    "start_time": "2022-05-18T15:58:24.904Z"
   },
   {
    "duration": 18,
    "start_time": "2022-05-18T15:58:39.521Z"
   },
   {
    "duration": 218,
    "start_time": "2022-05-18T16:00:54.523Z"
   },
   {
    "duration": 17,
    "start_time": "2022-05-18T16:00:54.743Z"
   },
   {
    "duration": 30,
    "start_time": "2022-05-18T16:00:54.762Z"
   },
   {
    "duration": 18,
    "start_time": "2022-05-18T16:00:54.795Z"
   },
   {
    "duration": 17,
    "start_time": "2022-05-18T16:00:54.815Z"
   },
   {
    "duration": 12,
    "start_time": "2022-05-18T16:00:54.833Z"
   },
   {
    "duration": 40,
    "start_time": "2022-05-18T16:00:54.847Z"
   },
   {
    "duration": 19,
    "start_time": "2022-05-18T16:00:54.888Z"
   },
   {
    "duration": 20,
    "start_time": "2022-05-18T16:00:54.909Z"
   },
   {
    "duration": 5,
    "start_time": "2022-05-18T16:00:54.932Z"
   },
   {
    "duration": 193,
    "start_time": "2022-05-18T16:00:54.938Z"
   },
   {
    "duration": 17,
    "start_time": "2022-05-18T16:00:55.133Z"
   },
   {
    "duration": 290,
    "start_time": "2022-05-18T16:00:55.153Z"
   },
   {
    "duration": 6,
    "start_time": "2022-05-18T16:00:55.445Z"
   },
   {
    "duration": 52,
    "start_time": "2022-05-18T16:00:55.453Z"
   },
   {
    "duration": 9,
    "start_time": "2022-05-18T16:00:55.507Z"
   },
   {
    "duration": 16,
    "start_time": "2022-05-18T16:00:55.517Z"
   },
   {
    "duration": 19,
    "start_time": "2022-05-18T16:00:55.535Z"
   },
   {
    "duration": 62,
    "start_time": "2022-05-18T16:00:55.556Z"
   },
   {
    "duration": 21,
    "start_time": "2022-05-18T16:00:55.620Z"
   },
   {
    "duration": 63,
    "start_time": "2022-05-18T16:00:55.643Z"
   },
   {
    "duration": 23,
    "start_time": "2022-05-18T16:00:55.708Z"
   },
   {
    "duration": 61,
    "start_time": "2022-05-18T16:00:55.733Z"
   },
   {
    "duration": 18,
    "start_time": "2022-05-18T16:00:55.796Z"
   },
   {
    "duration": 10,
    "start_time": "2022-05-18T16:00:55.816Z"
   },
   {
    "duration": 15,
    "start_time": "2022-05-18T16:00:55.827Z"
   },
   {
    "duration": 52,
    "start_time": "2022-05-18T16:00:55.844Z"
   },
   {
    "duration": 18,
    "start_time": "2022-05-18T16:00:55.902Z"
   },
   {
    "duration": 11,
    "start_time": "2022-05-18T16:00:55.921Z"
   },
   {
    "duration": 128,
    "start_time": "2022-05-18T16:00:55.934Z"
   },
   {
    "duration": 14,
    "start_time": "2022-05-18T16:06:26.752Z"
   },
   {
    "duration": 7,
    "start_time": "2022-05-18T16:06:40.909Z"
   },
   {
    "duration": 5,
    "start_time": "2022-05-18T16:07:02.245Z"
   },
   {
    "duration": 8,
    "start_time": "2022-05-18T16:07:33.068Z"
   },
   {
    "duration": 22,
    "start_time": "2022-05-18T16:12:35.872Z"
   },
   {
    "duration": 17,
    "start_time": "2022-05-18T16:12:55.040Z"
   },
   {
    "duration": 20,
    "start_time": "2022-05-18T16:13:05.672Z"
   },
   {
    "duration": 13,
    "start_time": "2022-05-18T16:13:17.395Z"
   },
   {
    "duration": 11,
    "start_time": "2022-05-18T16:13:38.429Z"
   },
   {
    "duration": 19,
    "start_time": "2022-05-18T16:13:45.388Z"
   },
   {
    "duration": 13,
    "start_time": "2022-05-18T16:14:55.238Z"
   },
   {
    "duration": 14,
    "start_time": "2022-05-18T16:15:20.071Z"
   },
   {
    "duration": 99,
    "start_time": "2022-05-18T16:15:46.136Z"
   },
   {
    "duration": 41,
    "start_time": "2022-05-18T16:15:46.238Z"
   },
   {
    "duration": 33,
    "start_time": "2022-05-18T16:15:46.285Z"
   },
   {
    "duration": 22,
    "start_time": "2022-05-18T16:15:46.320Z"
   },
   {
    "duration": 14,
    "start_time": "2022-05-18T16:15:46.344Z"
   },
   {
    "duration": 11,
    "start_time": "2022-05-18T16:15:46.360Z"
   },
   {
    "duration": 30,
    "start_time": "2022-05-18T16:15:46.374Z"
   },
   {
    "duration": 16,
    "start_time": "2022-05-18T16:15:46.406Z"
   },
   {
    "duration": 6,
    "start_time": "2022-05-18T16:15:46.423Z"
   },
   {
    "duration": 6,
    "start_time": "2022-05-18T16:15:46.432Z"
   },
   {
    "duration": 186,
    "start_time": "2022-05-18T16:15:46.440Z"
   },
   {
    "duration": 14,
    "start_time": "2022-05-18T16:15:46.628Z"
   },
   {
    "duration": 252,
    "start_time": "2022-05-18T16:15:46.644Z"
   },
   {
    "duration": 7,
    "start_time": "2022-05-18T16:15:46.903Z"
   },
   {
    "duration": 13,
    "start_time": "2022-05-18T16:15:46.912Z"
   },
   {
    "duration": 10,
    "start_time": "2022-05-18T16:15:46.926Z"
   },
   {
    "duration": 12,
    "start_time": "2022-05-18T16:15:46.938Z"
   },
   {
    "duration": 28,
    "start_time": "2022-05-18T16:15:46.952Z"
   },
   {
    "duration": 36,
    "start_time": "2022-05-18T16:15:46.981Z"
   },
   {
    "duration": 27,
    "start_time": "2022-05-18T16:15:47.019Z"
   },
   {
    "duration": 49,
    "start_time": "2022-05-18T16:15:47.048Z"
   },
   {
    "duration": 17,
    "start_time": "2022-05-18T16:15:47.099Z"
   },
   {
    "duration": 31,
    "start_time": "2022-05-18T16:15:47.118Z"
   },
   {
    "duration": 46,
    "start_time": "2022-05-18T16:15:47.150Z"
   },
   {
    "duration": 21,
    "start_time": "2022-05-18T16:15:47.199Z"
   },
   {
    "duration": 17,
    "start_time": "2022-05-18T16:15:47.221Z"
   },
   {
    "duration": 10,
    "start_time": "2022-05-18T16:15:47.239Z"
   },
   {
    "duration": 43,
    "start_time": "2022-05-18T16:15:47.253Z"
   },
   {
    "duration": 22,
    "start_time": "2022-05-18T16:15:47.298Z"
   },
   {
    "duration": 30,
    "start_time": "2022-05-18T16:15:47.322Z"
   },
   {
    "duration": 32,
    "start_time": "2022-05-18T16:15:47.355Z"
   },
   {
    "duration": 50,
    "start_time": "2022-05-18T16:15:47.389Z"
   },
   {
    "duration": 8,
    "start_time": "2022-05-18T16:17:00.761Z"
   },
   {
    "duration": 5,
    "start_time": "2022-05-18T16:17:33.764Z"
   },
   {
    "duration": 8,
    "start_time": "2022-05-18T16:20:36.402Z"
   },
   {
    "duration": 7,
    "start_time": "2022-05-18T16:20:52.348Z"
   },
   {
    "duration": 15,
    "start_time": "2022-05-18T16:21:10.097Z"
   },
   {
    "duration": 14,
    "start_time": "2022-05-18T16:21:21.641Z"
   },
   {
    "duration": 26,
    "start_time": "2022-05-18T16:21:30.826Z"
   },
   {
    "duration": 17,
    "start_time": "2022-05-18T16:21:48.573Z"
   },
   {
    "duration": 22,
    "start_time": "2022-05-18T16:22:06.258Z"
   },
   {
    "duration": 5,
    "start_time": "2022-05-18T16:22:23.370Z"
   },
   {
    "duration": 8,
    "start_time": "2022-05-18T16:24:53.894Z"
   },
   {
    "duration": 10,
    "start_time": "2022-05-18T16:25:11.701Z"
   },
   {
    "duration": 16,
    "start_time": "2022-05-18T16:25:33.262Z"
   },
   {
    "duration": 11,
    "start_time": "2022-05-18T16:25:48.643Z"
   },
   {
    "duration": 9,
    "start_time": "2022-05-18T16:26:06.926Z"
   },
   {
    "duration": 96,
    "start_time": "2022-05-18T16:26:10.797Z"
   },
   {
    "duration": 24,
    "start_time": "2022-05-18T16:26:10.894Z"
   },
   {
    "duration": 15,
    "start_time": "2022-05-18T16:26:10.920Z"
   },
   {
    "duration": 38,
    "start_time": "2022-05-18T16:26:10.937Z"
   },
   {
    "duration": 15,
    "start_time": "2022-05-18T16:26:10.981Z"
   },
   {
    "duration": 24,
    "start_time": "2022-05-18T16:26:10.998Z"
   },
   {
    "duration": 6,
    "start_time": "2022-05-18T16:26:11.024Z"
   },
   {
    "duration": 12,
    "start_time": "2022-05-18T16:26:11.032Z"
   },
   {
    "duration": 5,
    "start_time": "2022-05-18T16:26:11.046Z"
   },
   {
    "duration": 7,
    "start_time": "2022-05-18T16:26:11.054Z"
   },
   {
    "duration": 194,
    "start_time": "2022-05-18T16:26:11.075Z"
   },
   {
    "duration": 22,
    "start_time": "2022-05-18T16:26:11.271Z"
   },
   {
    "duration": 314,
    "start_time": "2022-05-18T16:26:11.294Z"
   },
   {
    "duration": 7,
    "start_time": "2022-05-18T16:26:11.610Z"
   },
   {
    "duration": 20,
    "start_time": "2022-05-18T16:26:11.619Z"
   },
   {
    "duration": 13,
    "start_time": "2022-05-18T16:26:11.641Z"
   },
   {
    "duration": 30,
    "start_time": "2022-05-18T16:26:11.655Z"
   },
   {
    "duration": 32,
    "start_time": "2022-05-18T16:26:11.687Z"
   },
   {
    "duration": 10,
    "start_time": "2022-05-18T16:26:11.721Z"
   },
   {
    "duration": 19,
    "start_time": "2022-05-18T16:26:11.734Z"
   },
   {
    "duration": 10,
    "start_time": "2022-05-18T16:26:11.755Z"
   },
   {
    "duration": 28,
    "start_time": "2022-05-18T16:26:11.767Z"
   },
   {
    "duration": 33,
    "start_time": "2022-05-18T16:26:11.803Z"
   },
   {
    "duration": 59,
    "start_time": "2022-05-18T16:26:11.838Z"
   },
   {
    "duration": 31,
    "start_time": "2022-05-18T16:26:11.899Z"
   },
   {
    "duration": 34,
    "start_time": "2022-05-18T16:26:11.932Z"
   },
   {
    "duration": 24,
    "start_time": "2022-05-18T16:26:11.976Z"
   },
   {
    "duration": 38,
    "start_time": "2022-05-18T16:26:12.004Z"
   },
   {
    "duration": 23,
    "start_time": "2022-05-18T16:26:12.044Z"
   },
   {
    "duration": 19,
    "start_time": "2022-05-18T16:26:12.077Z"
   },
   {
    "duration": 17,
    "start_time": "2022-05-18T16:26:12.100Z"
   },
   {
    "duration": 16,
    "start_time": "2022-05-18T16:26:12.119Z"
   },
   {
    "duration": 24,
    "start_time": "2022-05-18T16:26:12.136Z"
   },
   {
    "duration": 30,
    "start_time": "2022-05-18T16:26:12.177Z"
   },
   {
    "duration": 46,
    "start_time": "2022-05-18T16:26:12.209Z"
   },
   {
    "duration": 7,
    "start_time": "2022-05-18T16:28:17.422Z"
   },
   {
    "duration": 5,
    "start_time": "2022-05-18T16:28:54.648Z"
   },
   {
    "duration": 16,
    "start_time": "2022-05-18T16:31:45.576Z"
   },
   {
    "duration": 16,
    "start_time": "2022-05-18T16:32:05.496Z"
   },
   {
    "duration": 14,
    "start_time": "2022-05-18T16:32:10.228Z"
   },
   {
    "duration": 9,
    "start_time": "2022-05-18T16:32:26.361Z"
   },
   {
    "duration": 16,
    "start_time": "2022-05-18T16:32:37.700Z"
   },
   {
    "duration": 19,
    "start_time": "2022-05-18T16:36:16.029Z"
   },
   {
    "duration": 81,
    "start_time": "2022-05-18T16:38:53.539Z"
   },
   {
    "duration": 87,
    "start_time": "2022-05-18T16:40:45.035Z"
   },
   {
    "duration": 12,
    "start_time": "2022-05-18T16:40:52.457Z"
   },
   {
    "duration": 46,
    "start_time": "2022-05-18T16:41:06.438Z"
   },
   {
    "duration": 31,
    "start_time": "2022-05-18T16:42:28.667Z"
   },
   {
    "duration": 15,
    "start_time": "2022-05-18T16:44:13.620Z"
   },
   {
    "duration": 41,
    "start_time": "2022-05-18T16:44:25.724Z"
   },
   {
    "duration": 53,
    "start_time": "2022-05-18T16:44:33.348Z"
   },
   {
    "duration": 1749,
    "start_time": "2022-05-18T16:47:10.404Z"
   },
   {
    "duration": 43,
    "start_time": "2022-05-18T16:47:21.813Z"
   },
   {
    "duration": 1679,
    "start_time": "2022-05-18T16:47:55.296Z"
   },
   {
    "duration": 74,
    "start_time": "2022-05-18T16:48:13.072Z"
   },
   {
    "duration": 25,
    "start_time": "2022-05-18T16:50:17.300Z"
   },
   {
    "duration": 430,
    "start_time": "2022-05-18T16:50:36.017Z"
   },
   {
    "duration": 4,
    "start_time": "2022-05-18T16:51:16.046Z"
   },
   {
    "duration": 484,
    "start_time": "2022-05-18T16:51:50.633Z"
   },
   {
    "duration": 60,
    "start_time": "2022-05-18T18:25:29.855Z"
   },
   {
    "duration": 10,
    "start_time": "2022-05-18T18:25:46.747Z"
   },
   {
    "duration": 7,
    "start_time": "2022-05-18T18:26:05.249Z"
   },
   {
    "duration": 1053,
    "start_time": "2022-05-18T18:26:18.999Z"
   },
   {
    "duration": 17,
    "start_time": "2022-05-18T18:26:20.054Z"
   },
   {
    "duration": 9,
    "start_time": "2022-05-18T18:26:20.073Z"
   },
   {
    "duration": 13,
    "start_time": "2022-05-18T18:26:20.084Z"
   },
   {
    "duration": 25,
    "start_time": "2022-05-18T18:26:20.098Z"
   },
   {
    "duration": 10,
    "start_time": "2022-05-18T18:26:20.125Z"
   },
   {
    "duration": 5,
    "start_time": "2022-05-18T18:26:20.136Z"
   },
   {
    "duration": 10,
    "start_time": "2022-05-18T18:26:20.143Z"
   },
   {
    "duration": 4,
    "start_time": "2022-05-18T18:26:20.154Z"
   },
   {
    "duration": 5,
    "start_time": "2022-05-18T18:26:20.160Z"
   },
   {
    "duration": 1095,
    "start_time": "2022-05-18T18:26:20.166Z"
   },
   {
    "duration": 14,
    "start_time": "2022-05-18T18:26:21.263Z"
   },
   {
    "duration": 323,
    "start_time": "2022-05-18T18:26:21.279Z"
   },
   {
    "duration": 11,
    "start_time": "2022-05-18T18:26:21.604Z"
   },
   {
    "duration": 17,
    "start_time": "2022-05-18T18:26:21.617Z"
   },
   {
    "duration": 25,
    "start_time": "2022-05-18T18:26:21.636Z"
   },
   {
    "duration": 13,
    "start_time": "2022-05-18T18:26:21.664Z"
   },
   {
    "duration": 13,
    "start_time": "2022-05-18T18:26:21.679Z"
   },
   {
    "duration": 20,
    "start_time": "2022-05-18T18:26:21.693Z"
   },
   {
    "duration": 12,
    "start_time": "2022-05-18T18:26:21.715Z"
   },
   {
    "duration": 43,
    "start_time": "2022-05-18T18:26:21.729Z"
   },
   {
    "duration": 14,
    "start_time": "2022-05-18T18:26:21.774Z"
   },
   {
    "duration": 9,
    "start_time": "2022-05-18T18:26:21.789Z"
   },
   {
    "duration": 15,
    "start_time": "2022-05-18T18:26:21.800Z"
   },
   {
    "duration": 18,
    "start_time": "2022-05-18T18:26:21.817Z"
   },
   {
    "duration": 35,
    "start_time": "2022-05-18T18:26:21.837Z"
   },
   {
    "duration": 15,
    "start_time": "2022-05-18T18:26:21.873Z"
   },
   {
    "duration": 26,
    "start_time": "2022-05-18T18:26:21.911Z"
   },
   {
    "duration": 23,
    "start_time": "2022-05-18T18:26:21.939Z"
   },
   {
    "duration": 15,
    "start_time": "2022-05-18T18:26:21.964Z"
   },
   {
    "duration": 39,
    "start_time": "2022-05-18T18:26:21.980Z"
   },
   {
    "duration": 10,
    "start_time": "2022-05-18T18:26:22.020Z"
   },
   {
    "duration": 11,
    "start_time": "2022-05-18T18:26:22.032Z"
   },
   {
    "duration": 17,
    "start_time": "2022-05-18T18:26:22.045Z"
   },
   {
    "duration": 18,
    "start_time": "2022-05-18T18:26:22.063Z"
   },
   {
    "duration": 5,
    "start_time": "2022-05-18T18:26:22.113Z"
   },
   {
    "duration": 30,
    "start_time": "2022-05-18T18:26:22.120Z"
   },
   {
    "duration": 12,
    "start_time": "2022-05-18T18:26:22.152Z"
   },
   {
    "duration": 365,
    "start_time": "2022-05-18T18:26:22.166Z"
   },
   {
    "duration": 90,
    "start_time": "2022-05-18T18:26:40.222Z"
   },
   {
    "duration": 355,
    "start_time": "2022-05-18T18:26:58.399Z"
   },
   {
    "duration": 9,
    "start_time": "2022-05-18T18:27:46.922Z"
   },
   {
    "duration": 44,
    "start_time": "2022-05-18T18:28:11.737Z"
   },
   {
    "duration": 434,
    "start_time": "2022-05-18T18:32:07.055Z"
   },
   {
    "duration": 16,
    "start_time": "2022-05-18T18:34:22.601Z"
   },
   {
    "duration": 267,
    "start_time": "2022-05-18T18:34:32.032Z"
   },
   {
    "duration": 706,
    "start_time": "2022-05-18T18:38:02.209Z"
   },
   {
    "duration": 14,
    "start_time": "2022-05-18T18:46:51.682Z"
   },
   {
    "duration": 5,
    "start_time": "2022-05-18T18:47:18.156Z"
   },
   {
    "duration": 16,
    "start_time": "2022-05-18T18:47:37.812Z"
   },
   {
    "duration": 22,
    "start_time": "2022-05-18T18:47:46.299Z"
   },
   {
    "duration": 140,
    "start_time": "2022-05-18T18:48:10.253Z"
   },
   {
    "duration": 227,
    "start_time": "2022-05-18T18:48:33.276Z"
   },
   {
    "duration": 17,
    "start_time": "2022-05-18T18:48:51.654Z"
   },
   {
    "duration": 14,
    "start_time": "2022-05-18T18:51:46.786Z"
   },
   {
    "duration": 422,
    "start_time": "2022-05-18T18:52:59.797Z"
   },
   {
    "duration": 424,
    "start_time": "2022-05-18T18:56:23.423Z"
   },
   {
    "duration": 207,
    "start_time": "2022-05-18T18:58:49.578Z"
   },
   {
    "duration": 10,
    "start_time": "2022-05-18T19:15:46.880Z"
   },
   {
    "duration": 17,
    "start_time": "2022-05-18T19:15:54.482Z"
   },
   {
    "duration": 10,
    "start_time": "2022-05-18T19:16:49.085Z"
   },
   {
    "duration": 12,
    "start_time": "2022-05-18T19:18:59.032Z"
   },
   {
    "duration": 17,
    "start_time": "2022-05-18T19:19:09.866Z"
   },
   {
    "duration": 17,
    "start_time": "2022-05-18T19:20:19.734Z"
   },
   {
    "duration": 16,
    "start_time": "2022-05-18T19:20:33.933Z"
   },
   {
    "duration": 11,
    "start_time": "2022-05-18T19:23:22.195Z"
   },
   {
    "duration": 12,
    "start_time": "2022-05-18T19:23:38.222Z"
   },
   {
    "duration": 9,
    "start_time": "2022-05-18T19:24:00.805Z"
   },
   {
    "duration": 9,
    "start_time": "2022-05-18T19:24:12.810Z"
   },
   {
    "duration": 11,
    "start_time": "2022-05-18T19:25:05.321Z"
   },
   {
    "duration": 11,
    "start_time": "2022-05-18T19:27:31.691Z"
   },
   {
    "duration": 11,
    "start_time": "2022-05-18T19:28:18.031Z"
   },
   {
    "duration": 14,
    "start_time": "2022-05-18T19:29:44.173Z"
   },
   {
    "duration": 14,
    "start_time": "2022-05-18T19:30:39.705Z"
   },
   {
    "duration": 27,
    "start_time": "2022-05-18T19:32:02.878Z"
   },
   {
    "duration": 15,
    "start_time": "2022-05-18T19:33:00.010Z"
   },
   {
    "duration": 21,
    "start_time": "2022-05-18T19:33:17.173Z"
   },
   {
    "duration": 37,
    "start_time": "2022-05-18T19:33:44.649Z"
   },
   {
    "duration": 17,
    "start_time": "2022-05-18T19:36:28.814Z"
   },
   {
    "duration": 21,
    "start_time": "2022-05-18T19:37:07.922Z"
   },
   {
    "duration": 15,
    "start_time": "2022-05-18T19:37:47.492Z"
   },
   {
    "duration": 50,
    "start_time": "2022-05-18T19:39:30.301Z"
   },
   {
    "duration": 10,
    "start_time": "2022-05-18T19:39:49.545Z"
   },
   {
    "duration": 404,
    "start_time": "2022-05-18T19:40:22.818Z"
   },
   {
    "duration": 326,
    "start_time": "2022-05-18T19:44:56.763Z"
   },
   {
    "duration": 26,
    "start_time": "2022-05-18T19:47:34.256Z"
   },
   {
    "duration": 207,
    "start_time": "2022-05-18T19:48:28.646Z"
   },
   {
    "duration": 413,
    "start_time": "2022-05-18T19:48:56.787Z"
   },
   {
    "duration": 2077,
    "start_time": "2022-05-18T19:54:00.341Z"
   },
   {
    "duration": 1773,
    "start_time": "2022-05-18T19:54:29.243Z"
   },
   {
    "duration": 17,
    "start_time": "2022-05-18T19:58:19.464Z"
   },
   {
    "duration": 6,
    "start_time": "2022-05-18T19:58:43.011Z"
   },
   {
    "duration": 12,
    "start_time": "2022-05-18T19:59:19.828Z"
   },
   {
    "duration": 5,
    "start_time": "2022-05-18T19:59:55.893Z"
   },
   {
    "duration": 6,
    "start_time": "2022-05-18T20:02:16.557Z"
   },
   {
    "duration": 5,
    "start_time": "2022-05-18T20:04:25.271Z"
   },
   {
    "duration": 6,
    "start_time": "2022-05-18T20:05:37.863Z"
   },
   {
    "duration": 7,
    "start_time": "2022-05-18T20:06:32.967Z"
   },
   {
    "duration": 6,
    "start_time": "2022-05-18T20:07:03.309Z"
   },
   {
    "duration": 9,
    "start_time": "2022-05-18T20:07:54.319Z"
   },
   {
    "duration": 7,
    "start_time": "2022-05-18T20:08:16.376Z"
   },
   {
    "duration": 5,
    "start_time": "2022-05-18T20:16:42.522Z"
   },
   {
    "duration": 6,
    "start_time": "2022-05-18T20:22:43.554Z"
   },
   {
    "duration": 7,
    "start_time": "2022-05-18T20:24:13.055Z"
   },
   {
    "duration": 349,
    "start_time": "2022-05-18T20:30:48.873Z"
   },
   {
    "duration": 216,
    "start_time": "2022-05-18T20:31:56.864Z"
   },
   {
    "duration": 7,
    "start_time": "2022-05-18T20:37:32.230Z"
   },
   {
    "duration": 6,
    "start_time": "2022-05-18T20:37:51.052Z"
   },
   {
    "duration": 6,
    "start_time": "2022-05-18T20:38:00.067Z"
   },
   {
    "duration": 738,
    "start_time": "2022-05-18T20:38:22.531Z"
   },
   {
    "duration": 7,
    "start_time": "2022-05-18T20:38:26.473Z"
   },
   {
    "duration": 9,
    "start_time": "2022-05-18T20:38:32.756Z"
   },
   {
    "duration": 5,
    "start_time": "2022-05-18T20:39:09.751Z"
   },
   {
    "duration": 8,
    "start_time": "2022-05-18T20:39:31.398Z"
   },
   {
    "duration": 7,
    "start_time": "2022-05-18T20:39:46.777Z"
   },
   {
    "duration": 9,
    "start_time": "2022-05-18T20:40:13.030Z"
   },
   {
    "duration": 9,
    "start_time": "2022-05-18T20:40:27.652Z"
   },
   {
    "duration": 8,
    "start_time": "2022-05-18T20:40:57.487Z"
   },
   {
    "duration": 8,
    "start_time": "2022-05-18T20:41:37.011Z"
   },
   {
    "duration": 6,
    "start_time": "2022-05-18T20:41:45.728Z"
   },
   {
    "duration": 91,
    "start_time": "2022-05-18T20:49:02.507Z"
   },
   {
    "duration": 18,
    "start_time": "2022-05-18T20:49:02.600Z"
   },
   {
    "duration": 17,
    "start_time": "2022-05-18T20:49:02.621Z"
   },
   {
    "duration": 24,
    "start_time": "2022-05-18T20:49:02.641Z"
   },
   {
    "duration": 12,
    "start_time": "2022-05-18T20:49:02.666Z"
   },
   {
    "duration": 10,
    "start_time": "2022-05-18T20:49:02.680Z"
   },
   {
    "duration": 29,
    "start_time": "2022-05-18T20:49:02.691Z"
   },
   {
    "duration": 34,
    "start_time": "2022-05-18T20:49:02.722Z"
   },
   {
    "duration": 7,
    "start_time": "2022-05-18T20:49:02.757Z"
   },
   {
    "duration": 6,
    "start_time": "2022-05-18T20:49:02.767Z"
   },
   {
    "duration": 197,
    "start_time": "2022-05-18T20:49:02.775Z"
   },
   {
    "duration": 14,
    "start_time": "2022-05-18T20:49:02.974Z"
   },
   {
    "duration": 227,
    "start_time": "2022-05-18T20:49:02.989Z"
   },
   {
    "duration": 13,
    "start_time": "2022-05-18T20:49:03.225Z"
   },
   {
    "duration": 21,
    "start_time": "2022-05-18T20:49:03.241Z"
   },
   {
    "duration": 8,
    "start_time": "2022-05-18T20:49:03.263Z"
   },
   {
    "duration": 26,
    "start_time": "2022-05-18T20:49:03.272Z"
   },
   {
    "duration": 47,
    "start_time": "2022-05-18T20:49:03.300Z"
   },
   {
    "duration": 8,
    "start_time": "2022-05-18T20:49:03.349Z"
   },
   {
    "duration": 20,
    "start_time": "2022-05-18T20:49:03.358Z"
   },
   {
    "duration": 14,
    "start_time": "2022-05-18T20:49:03.380Z"
   },
   {
    "duration": 9,
    "start_time": "2022-05-18T20:49:03.396Z"
   },
   {
    "duration": 14,
    "start_time": "2022-05-18T20:49:03.406Z"
   },
   {
    "duration": 37,
    "start_time": "2022-05-18T20:49:03.421Z"
   },
   {
    "duration": 20,
    "start_time": "2022-05-18T20:49:03.460Z"
   },
   {
    "duration": 36,
    "start_time": "2022-05-18T20:49:03.482Z"
   },
   {
    "duration": 24,
    "start_time": "2022-05-18T20:49:03.520Z"
   },
   {
    "duration": 27,
    "start_time": "2022-05-18T20:49:03.548Z"
   },
   {
    "duration": 38,
    "start_time": "2022-05-18T20:49:03.577Z"
   },
   {
    "duration": 27,
    "start_time": "2022-05-18T20:49:03.620Z"
   },
   {
    "duration": 16,
    "start_time": "2022-05-18T20:49:03.648Z"
   },
   {
    "duration": 9,
    "start_time": "2022-05-18T20:49:03.665Z"
   },
   {
    "duration": 10,
    "start_time": "2022-05-18T20:49:03.675Z"
   },
   {
    "duration": 57,
    "start_time": "2022-05-18T20:49:03.687Z"
   },
   {
    "duration": 20,
    "start_time": "2022-05-18T20:49:03.746Z"
   },
   {
    "duration": 7,
    "start_time": "2022-05-18T20:49:03.768Z"
   },
   {
    "duration": 28,
    "start_time": "2022-05-18T20:49:03.777Z"
   },
   {
    "duration": 9,
    "start_time": "2022-05-18T20:49:03.806Z"
   },
   {
    "duration": 597,
    "start_time": "2022-05-18T20:49:03.816Z"
   },
   {
    "duration": 18,
    "start_time": "2022-05-18T20:49:04.415Z"
   },
   {
    "duration": 258,
    "start_time": "2022-05-18T20:49:04.435Z"
   },
   {
    "duration": 22,
    "start_time": "2022-05-18T20:49:04.694Z"
   },
   {
    "duration": 367,
    "start_time": "2022-05-18T20:49:04.729Z"
   },
   {
    "duration": 23,
    "start_time": "2022-05-18T20:49:05.098Z"
   },
   {
    "duration": 365,
    "start_time": "2022-05-18T20:49:05.124Z"
   },
   {
    "duration": 357,
    "start_time": "2022-05-18T20:49:05.490Z"
   },
   {
    "duration": 352,
    "start_time": "2022-05-18T20:49:05.848Z"
   },
   {
    "duration": 13,
    "start_time": "2022-05-18T20:49:06.202Z"
   },
   {
    "duration": 10,
    "start_time": "2022-05-18T20:49:06.216Z"
   },
   {
    "duration": 20,
    "start_time": "2022-05-18T20:49:06.227Z"
   },
   {
    "duration": 7,
    "start_time": "2022-05-18T20:49:06.249Z"
   },
   {
    "duration": 13,
    "start_time": "2022-05-18T20:49:06.257Z"
   },
   {
    "duration": 10,
    "start_time": "2022-05-18T20:49:06.271Z"
   },
   {
    "duration": 5,
    "start_time": "2022-05-18T20:49:06.283Z"
   },
   {
    "duration": 8,
    "start_time": "2022-05-18T20:49:06.290Z"
   },
   {
    "duration": 21,
    "start_time": "2022-05-18T20:49:06.299Z"
   },
   {
    "duration": 26,
    "start_time": "2022-05-18T20:49:06.321Z"
   },
   {
    "duration": 7,
    "start_time": "2022-05-18T20:49:06.349Z"
   },
   {
    "duration": 8,
    "start_time": "2022-05-18T20:49:06.358Z"
   },
   {
    "duration": 5,
    "start_time": "2022-05-18T20:49:06.368Z"
   },
   {
    "duration": 5,
    "start_time": "2022-05-18T20:49:06.375Z"
   },
   {
    "duration": 7,
    "start_time": "2022-05-18T20:49:06.382Z"
   },
   {
    "duration": 8,
    "start_time": "2022-05-18T20:49:06.390Z"
   },
   {
    "duration": 14,
    "start_time": "2022-05-18T20:49:06.412Z"
   },
   {
    "duration": 17,
    "start_time": "2022-05-18T20:49:06.428Z"
   },
   {
    "duration": 577,
    "start_time": "2022-05-19T14:06:53.083Z"
   },
   {
    "duration": 27,
    "start_time": "2022-05-19T14:06:53.662Z"
   },
   {
    "duration": 16,
    "start_time": "2022-05-19T14:06:53.690Z"
   },
   {
    "duration": 17,
    "start_time": "2022-05-19T14:06:53.709Z"
   },
   {
    "duration": 13,
    "start_time": "2022-05-19T14:06:53.727Z"
   },
   {
    "duration": 28,
    "start_time": "2022-05-19T14:06:53.741Z"
   },
   {
    "duration": 6,
    "start_time": "2022-05-19T14:06:53.771Z"
   },
   {
    "duration": 14,
    "start_time": "2022-05-19T14:06:53.779Z"
   },
   {
    "duration": 5,
    "start_time": "2022-05-19T14:06:53.795Z"
   },
   {
    "duration": 4,
    "start_time": "2022-05-19T14:06:53.804Z"
   },
   {
    "duration": 978,
    "start_time": "2022-05-19T14:06:53.810Z"
   },
   {
    "duration": 14,
    "start_time": "2022-05-19T14:06:54.790Z"
   },
   {
    "duration": 290,
    "start_time": "2022-05-19T14:06:54.805Z"
   },
   {
    "duration": 5,
    "start_time": "2022-05-19T14:06:55.097Z"
   },
   {
    "duration": 14,
    "start_time": "2022-05-19T14:06:55.104Z"
   },
   {
    "duration": 9,
    "start_time": "2022-05-19T14:06:55.120Z"
   },
   {
    "duration": 8,
    "start_time": "2022-05-19T14:06:55.131Z"
   },
   {
    "duration": 38,
    "start_time": "2022-05-19T14:06:55.141Z"
   },
   {
    "duration": 18,
    "start_time": "2022-05-19T14:06:55.181Z"
   },
   {
    "duration": 17,
    "start_time": "2022-05-19T14:06:55.201Z"
   },
   {
    "duration": 20,
    "start_time": "2022-05-19T14:06:55.219Z"
   },
   {
    "duration": 6,
    "start_time": "2022-05-19T14:06:55.240Z"
   },
   {
    "duration": 31,
    "start_time": "2022-05-19T14:06:55.248Z"
   },
   {
    "duration": 24,
    "start_time": "2022-05-19T14:06:55.280Z"
   },
   {
    "duration": 38,
    "start_time": "2022-05-19T14:06:55.306Z"
   },
   {
    "duration": 42,
    "start_time": "2022-05-19T14:06:55.346Z"
   },
   {
    "duration": 15,
    "start_time": "2022-05-19T14:06:55.390Z"
   },
   {
    "duration": 29,
    "start_time": "2022-05-19T14:06:55.409Z"
   },
   {
    "duration": 47,
    "start_time": "2022-05-19T14:06:55.440Z"
   },
   {
    "duration": 17,
    "start_time": "2022-05-19T14:06:55.489Z"
   },
   {
    "duration": 16,
    "start_time": "2022-05-19T14:06:55.508Z"
   },
   {
    "duration": 16,
    "start_time": "2022-05-19T14:06:55.525Z"
   },
   {
    "duration": 31,
    "start_time": "2022-05-19T14:06:55.542Z"
   },
   {
    "duration": 25,
    "start_time": "2022-05-19T14:06:55.579Z"
   },
   {
    "duration": 21,
    "start_time": "2022-05-19T14:06:55.605Z"
   },
   {
    "duration": 5,
    "start_time": "2022-05-19T14:06:55.628Z"
   },
   {
    "duration": 55,
    "start_time": "2022-05-19T14:06:55.635Z"
   },
   {
    "duration": 632,
    "start_time": "2022-05-19T14:06:55.692Z"
   },
   {
    "duration": 17,
    "start_time": "2022-05-19T14:06:56.326Z"
   },
   {
    "duration": 277,
    "start_time": "2022-05-19T14:06:56.344Z"
   },
   {
    "duration": 14,
    "start_time": "2022-05-19T14:06:56.622Z"
   },
   {
    "duration": 419,
    "start_time": "2022-05-19T14:06:56.638Z"
   },
   {
    "duration": 22,
    "start_time": "2022-05-19T14:06:57.059Z"
   },
   {
    "duration": 369,
    "start_time": "2022-05-19T14:06:57.083Z"
   },
   {
    "duration": 368,
    "start_time": "2022-05-19T14:06:57.455Z"
   },
   {
    "duration": 359,
    "start_time": "2022-05-19T14:06:57.825Z"
   },
   {
    "duration": 6,
    "start_time": "2022-05-19T14:06:58.186Z"
   },
   {
    "duration": 12,
    "start_time": "2022-05-19T14:06:58.194Z"
   },
   {
    "duration": 8,
    "start_time": "2022-05-19T14:06:58.207Z"
   },
   {
    "duration": 7,
    "start_time": "2022-05-19T14:06:58.217Z"
   },
   {
    "duration": 11,
    "start_time": "2022-05-19T14:06:58.226Z"
   },
   {
    "duration": 40,
    "start_time": "2022-05-19T14:06:58.239Z"
   },
   {
    "duration": 7,
    "start_time": "2022-05-19T14:06:58.281Z"
   },
   {
    "duration": 7,
    "start_time": "2022-05-19T14:06:58.290Z"
   },
   {
    "duration": 7,
    "start_time": "2022-05-19T14:06:58.298Z"
   },
   {
    "duration": 12,
    "start_time": "2022-05-19T14:06:58.307Z"
   },
   {
    "duration": 11,
    "start_time": "2022-05-19T14:06:58.320Z"
   },
   {
    "duration": 10,
    "start_time": "2022-05-19T14:06:58.332Z"
   },
   {
    "duration": 29,
    "start_time": "2022-05-19T14:06:58.344Z"
   },
   {
    "duration": 6,
    "start_time": "2022-05-19T14:06:58.375Z"
   },
   {
    "duration": 8,
    "start_time": "2022-05-19T14:06:58.383Z"
   },
   {
    "duration": 10,
    "start_time": "2022-05-19T14:06:58.392Z"
   },
   {
    "duration": 11,
    "start_time": "2022-05-19T14:06:58.404Z"
   },
   {
    "duration": 8,
    "start_time": "2022-05-19T14:06:58.417Z"
   },
   {
    "duration": 10,
    "start_time": "2022-05-19T14:09:00.826Z"
   },
   {
    "duration": 58,
    "start_time": "2022-05-19T19:20:45.246Z"
   },
   {
    "duration": 935,
    "start_time": "2022-05-19T19:20:52.593Z"
   },
   {
    "duration": 19,
    "start_time": "2022-05-19T19:20:53.530Z"
   },
   {
    "duration": 12,
    "start_time": "2022-05-19T19:20:53.550Z"
   },
   {
    "duration": 19,
    "start_time": "2022-05-19T19:20:53.565Z"
   },
   {
    "duration": 20,
    "start_time": "2022-05-19T19:20:53.594Z"
   },
   {
    "duration": 6,
    "start_time": "2022-05-19T19:20:53.616Z"
   },
   {
    "duration": 9,
    "start_time": "2022-05-19T19:20:53.624Z"
   },
   {
    "duration": 16,
    "start_time": "2022-05-19T19:20:53.634Z"
   },
   {
    "duration": 5,
    "start_time": "2022-05-19T19:20:53.652Z"
   },
   {
    "duration": 38,
    "start_time": "2022-05-19T19:20:53.659Z"
   },
   {
    "duration": 1037,
    "start_time": "2022-05-19T19:20:53.699Z"
   },
   {
    "duration": 14,
    "start_time": "2022-05-19T19:20:54.738Z"
   },
   {
    "duration": 275,
    "start_time": "2022-05-19T19:20:54.754Z"
   },
   {
    "duration": 5,
    "start_time": "2022-05-19T19:20:55.031Z"
   },
   {
    "duration": 28,
    "start_time": "2022-05-19T19:20:55.038Z"
   },
   {
    "duration": 10,
    "start_time": "2022-05-19T19:20:55.067Z"
   },
   {
    "duration": 19,
    "start_time": "2022-05-19T19:20:55.078Z"
   },
   {
    "duration": 8,
    "start_time": "2022-05-19T19:20:55.099Z"
   },
   {
    "duration": 9,
    "start_time": "2022-05-19T19:20:55.109Z"
   },
   {
    "duration": 19,
    "start_time": "2022-05-19T19:20:55.119Z"
   },
   {
    "duration": 10,
    "start_time": "2022-05-19T19:20:55.140Z"
   },
   {
    "duration": 6,
    "start_time": "2022-05-19T19:20:55.151Z"
   },
   {
    "duration": 9,
    "start_time": "2022-05-19T19:20:55.158Z"
   },
   {
    "duration": 12,
    "start_time": "2022-05-19T19:20:55.195Z"
   },
   {
    "duration": 25,
    "start_time": "2022-05-19T19:20:55.209Z"
   },
   {
    "duration": 37,
    "start_time": "2022-05-19T19:20:55.236Z"
   },
   {
    "duration": 17,
    "start_time": "2022-05-19T19:20:55.294Z"
   },
   {
    "duration": 23,
    "start_time": "2022-05-19T19:20:55.315Z"
   },
   {
    "duration": 15,
    "start_time": "2022-05-19T19:20:55.340Z"
   },
   {
    "duration": 47,
    "start_time": "2022-05-19T19:20:55.357Z"
   },
   {
    "duration": 18,
    "start_time": "2022-05-19T19:20:55.407Z"
   },
   {
    "duration": 11,
    "start_time": "2022-05-19T19:20:55.426Z"
   },
   {
    "duration": 16,
    "start_time": "2022-05-19T19:20:55.439Z"
   },
   {
    "duration": 40,
    "start_time": "2022-05-19T19:20:55.457Z"
   },
   {
    "duration": 23,
    "start_time": "2022-05-19T19:20:55.499Z"
   },
   {
    "duration": 13,
    "start_time": "2022-05-19T19:20:55.524Z"
   },
   {
    "duration": 40,
    "start_time": "2022-05-19T19:20:55.539Z"
   },
   {
    "duration": 615,
    "start_time": "2022-05-19T19:20:55.580Z"
   },
   {
    "duration": 18,
    "start_time": "2022-05-19T19:20:56.197Z"
   },
   {
    "duration": 256,
    "start_time": "2022-05-19T19:20:56.217Z"
   },
   {
    "duration": 20,
    "start_time": "2022-05-19T19:20:56.475Z"
   },
   {
    "duration": 356,
    "start_time": "2022-05-19T19:20:56.496Z"
   },
   {
    "duration": 12,
    "start_time": "2022-05-19T19:20:56.854Z"
   },
   {
    "duration": 353,
    "start_time": "2022-05-19T19:20:56.868Z"
   },
   {
    "duration": 385,
    "start_time": "2022-05-19T19:20:57.223Z"
   },
   {
    "duration": 322,
    "start_time": "2022-05-19T19:20:57.610Z"
   },
   {
    "duration": 5,
    "start_time": "2022-05-19T19:20:57.934Z"
   },
   {
    "duration": 11,
    "start_time": "2022-05-19T19:20:57.940Z"
   },
   {
    "duration": 9,
    "start_time": "2022-05-19T19:20:57.952Z"
   },
   {
    "duration": 13,
    "start_time": "2022-05-19T19:20:57.962Z"
   },
   {
    "duration": 18,
    "start_time": "2022-05-19T19:20:57.977Z"
   },
   {
    "duration": 13,
    "start_time": "2022-05-19T19:20:57.997Z"
   },
   {
    "duration": 5,
    "start_time": "2022-05-19T19:20:58.012Z"
   },
   {
    "duration": 7,
    "start_time": "2022-05-19T19:20:58.018Z"
   },
   {
    "duration": 8,
    "start_time": "2022-05-19T19:20:58.026Z"
   },
   {
    "duration": 8,
    "start_time": "2022-05-19T19:20:58.036Z"
   },
   {
    "duration": 11,
    "start_time": "2022-05-19T19:20:58.046Z"
   },
   {
    "duration": 8,
    "start_time": "2022-05-19T19:20:58.059Z"
   },
   {
    "duration": 29,
    "start_time": "2022-05-19T19:20:58.069Z"
   },
   {
    "duration": 6,
    "start_time": "2022-05-19T19:20:58.100Z"
   },
   {
    "duration": 9,
    "start_time": "2022-05-19T19:20:58.107Z"
   },
   {
    "duration": 8,
    "start_time": "2022-05-19T19:20:58.117Z"
   },
   {
    "duration": 8,
    "start_time": "2022-05-19T19:20:58.127Z"
   },
   {
    "duration": 8,
    "start_time": "2022-05-19T19:20:58.136Z"
   },
   {
    "duration": 115,
    "start_time": "2022-05-19T19:21:30.926Z"
   },
   {
    "duration": 608,
    "start_time": "2022-05-19T19:22:47.168Z"
   },
   {
    "duration": 16,
    "start_time": "2022-05-19T19:23:28.780Z"
   },
   {
    "duration": 13,
    "start_time": "2022-05-19T19:23:43.048Z"
   },
   {
    "duration": 25,
    "start_time": "2022-05-19T19:26:18.977Z"
   },
   {
    "duration": 27,
    "start_time": "2022-05-19T19:27:32.172Z"
   },
   {
    "duration": 27,
    "start_time": "2022-05-19T19:27:47.915Z"
   },
   {
    "duration": 26,
    "start_time": "2022-05-19T19:28:36.249Z"
   },
   {
    "duration": 24,
    "start_time": "2022-05-19T19:30:10.621Z"
   },
   {
    "duration": 25,
    "start_time": "2022-05-19T19:30:17.588Z"
   },
   {
    "duration": 27,
    "start_time": "2022-05-19T19:30:29.757Z"
   },
   {
    "duration": 11,
    "start_time": "2022-05-19T19:32:09.675Z"
   },
   {
    "duration": 11,
    "start_time": "2022-05-19T19:35:24.249Z"
   },
   {
    "duration": 9,
    "start_time": "2022-05-19T19:35:33.591Z"
   },
   {
    "duration": 10,
    "start_time": "2022-05-19T19:35:45.546Z"
   },
   {
    "duration": 27,
    "start_time": "2022-05-19T19:41:21.413Z"
   },
   {
    "duration": 13,
    "start_time": "2022-05-19T19:41:47.547Z"
   },
   {
    "duration": 59,
    "start_time": "2022-05-19T19:42:52.645Z"
   },
   {
    "duration": 7,
    "start_time": "2022-05-19T19:43:07.956Z"
   },
   {
    "duration": 6,
    "start_time": "2022-05-19T19:44:38.245Z"
   },
   {
    "duration": 915,
    "start_time": "2022-05-19T19:44:49.459Z"
   },
   {
    "duration": 16,
    "start_time": "2022-05-19T19:44:50.376Z"
   },
   {
    "duration": 9,
    "start_time": "2022-05-19T19:44:50.394Z"
   },
   {
    "duration": 13,
    "start_time": "2022-05-19T19:44:50.405Z"
   },
   {
    "duration": 32,
    "start_time": "2022-05-19T19:44:50.419Z"
   },
   {
    "duration": 8,
    "start_time": "2022-05-19T19:44:50.453Z"
   },
   {
    "duration": 10,
    "start_time": "2022-05-19T19:44:50.462Z"
   },
   {
    "duration": 20,
    "start_time": "2022-05-19T19:44:50.474Z"
   },
   {
    "duration": 5,
    "start_time": "2022-05-19T19:44:50.496Z"
   },
   {
    "duration": 7,
    "start_time": "2022-05-19T19:44:50.503Z"
   },
   {
    "duration": 879,
    "start_time": "2022-05-19T19:44:50.512Z"
   },
   {
    "duration": 14,
    "start_time": "2022-05-19T19:44:51.394Z"
   },
   {
    "duration": 265,
    "start_time": "2022-05-19T19:44:51.409Z"
   },
   {
    "duration": 6,
    "start_time": "2022-05-19T19:44:51.675Z"
   },
   {
    "duration": 21,
    "start_time": "2022-05-19T19:44:51.682Z"
   },
   {
    "duration": 8,
    "start_time": "2022-05-19T19:44:51.705Z"
   },
   {
    "duration": 14,
    "start_time": "2022-05-19T19:44:51.714Z"
   },
   {
    "duration": 9,
    "start_time": "2022-05-19T19:44:51.730Z"
   },
   {
    "duration": 24,
    "start_time": "2022-05-19T19:44:51.741Z"
   },
   {
    "duration": 31,
    "start_time": "2022-05-19T19:44:51.768Z"
   },
   {
    "duration": 13,
    "start_time": "2022-05-19T19:44:51.801Z"
   },
   {
    "duration": 7,
    "start_time": "2022-05-19T19:44:51.816Z"
   },
   {
    "duration": 10,
    "start_time": "2022-05-19T19:44:51.825Z"
   },
   {
    "duration": 19,
    "start_time": "2022-05-19T19:44:51.838Z"
   },
   {
    "duration": 57,
    "start_time": "2022-05-19T19:44:51.859Z"
   },
   {
    "duration": 39,
    "start_time": "2022-05-19T19:44:51.918Z"
   },
   {
    "duration": 14,
    "start_time": "2022-05-19T19:44:51.958Z"
   },
   {
    "duration": 14,
    "start_time": "2022-05-19T19:44:51.994Z"
   },
   {
    "duration": 37,
    "start_time": "2022-05-19T19:44:52.010Z"
   },
   {
    "duration": 24,
    "start_time": "2022-05-19T19:44:52.048Z"
   },
   {
    "duration": 19,
    "start_time": "2022-05-19T19:44:52.073Z"
   },
   {
    "duration": 26,
    "start_time": "2022-05-19T19:44:52.094Z"
   },
   {
    "duration": 10,
    "start_time": "2022-05-19T19:44:52.122Z"
   },
   {
    "duration": 31,
    "start_time": "2022-05-19T19:44:52.133Z"
   },
   {
    "duration": 34,
    "start_time": "2022-05-19T19:44:52.165Z"
   },
   {
    "duration": 8,
    "start_time": "2022-05-19T19:44:52.200Z"
   },
   {
    "duration": 48,
    "start_time": "2022-05-19T19:44:52.209Z"
   },
   {
    "duration": 622,
    "start_time": "2022-05-19T19:44:52.259Z"
   },
   {
    "duration": 27,
    "start_time": "2022-05-19T19:44:52.882Z"
   },
   {
    "duration": 243,
    "start_time": "2022-05-19T19:44:52.910Z"
   },
   {
    "duration": 15,
    "start_time": "2022-05-19T19:44:53.154Z"
   },
   {
    "duration": 384,
    "start_time": "2022-05-19T19:44:53.171Z"
   },
   {
    "duration": 16,
    "start_time": "2022-05-19T19:44:53.557Z"
   },
   {
    "duration": 337,
    "start_time": "2022-05-19T19:44:53.575Z"
   },
   {
    "duration": 329,
    "start_time": "2022-05-19T19:44:53.914Z"
   },
   {
    "duration": 323,
    "start_time": "2022-05-19T19:44:54.245Z"
   },
   {
    "duration": 6,
    "start_time": "2022-05-19T19:44:54.569Z"
   },
   {
    "duration": 18,
    "start_time": "2022-05-19T19:44:54.578Z"
   },
   {
    "duration": 6,
    "start_time": "2022-05-19T19:44:54.598Z"
   },
   {
    "duration": 8,
    "start_time": "2022-05-19T19:44:54.606Z"
   },
   {
    "duration": 17,
    "start_time": "2022-05-19T19:44:54.616Z"
   },
   {
    "duration": 9,
    "start_time": "2022-05-19T19:44:54.634Z"
   },
   {
    "duration": 6,
    "start_time": "2022-05-19T19:44:54.645Z"
   },
   {
    "duration": 8,
    "start_time": "2022-05-19T19:44:54.652Z"
   },
   {
    "duration": 35,
    "start_time": "2022-05-19T19:44:54.661Z"
   },
   {
    "duration": 16,
    "start_time": "2022-05-19T19:44:54.697Z"
   },
   {
    "duration": 10,
    "start_time": "2022-05-19T19:44:54.715Z"
   },
   {
    "duration": 9,
    "start_time": "2022-05-19T19:44:54.726Z"
   },
   {
    "duration": 6,
    "start_time": "2022-05-19T19:44:54.736Z"
   },
   {
    "duration": 7,
    "start_time": "2022-05-19T19:44:54.743Z"
   },
   {
    "duration": 9,
    "start_time": "2022-05-19T19:44:54.752Z"
   },
   {
    "duration": 11,
    "start_time": "2022-05-19T19:44:54.762Z"
   },
   {
    "duration": 21,
    "start_time": "2022-05-19T19:44:54.774Z"
   },
   {
    "duration": 7,
    "start_time": "2022-05-19T19:44:54.797Z"
   },
   {
    "duration": 648,
    "start_time": "2022-05-19T19:46:09.596Z"
   },
   {
    "duration": 569,
    "start_time": "2022-05-19T19:46:36.668Z"
   },
   {
    "duration": 78,
    "start_time": "2022-05-19T19:46:45.245Z"
   },
   {
    "duration": 15,
    "start_time": "2022-05-19T19:46:45.325Z"
   },
   {
    "duration": 9,
    "start_time": "2022-05-19T19:46:45.342Z"
   },
   {
    "duration": 44,
    "start_time": "2022-05-19T19:46:45.353Z"
   },
   {
    "duration": 30,
    "start_time": "2022-05-19T19:46:45.399Z"
   },
   {
    "duration": 6,
    "start_time": "2022-05-19T19:46:45.432Z"
   },
   {
    "duration": 23,
    "start_time": "2022-05-19T19:46:45.440Z"
   },
   {
    "duration": 49,
    "start_time": "2022-05-19T19:46:45.465Z"
   },
   {
    "duration": 31,
    "start_time": "2022-05-19T19:46:45.516Z"
   },
   {
    "duration": 13,
    "start_time": "2022-05-19T19:46:45.551Z"
   },
   {
    "duration": 181,
    "start_time": "2022-05-19T19:46:45.566Z"
   },
   {
    "duration": 13,
    "start_time": "2022-05-19T19:46:45.749Z"
   },
   {
    "duration": 308,
    "start_time": "2022-05-19T19:46:45.764Z"
   },
   {
    "duration": 5,
    "start_time": "2022-05-19T19:46:46.073Z"
   },
   {
    "duration": 21,
    "start_time": "2022-05-19T19:46:46.080Z"
   },
   {
    "duration": 27,
    "start_time": "2022-05-19T19:46:46.102Z"
   },
   {
    "duration": 27,
    "start_time": "2022-05-19T19:46:46.131Z"
   },
   {
    "duration": 14,
    "start_time": "2022-05-19T19:46:46.160Z"
   },
   {
    "duration": 34,
    "start_time": "2022-05-19T19:46:46.175Z"
   },
   {
    "duration": 29,
    "start_time": "2022-05-19T19:46:46.210Z"
   },
   {
    "duration": 23,
    "start_time": "2022-05-19T19:46:46.241Z"
   },
   {
    "duration": 18,
    "start_time": "2022-05-19T19:46:46.266Z"
   },
   {
    "duration": 14,
    "start_time": "2022-05-19T19:46:46.286Z"
   },
   {
    "duration": 46,
    "start_time": "2022-05-19T19:46:46.301Z"
   },
   {
    "duration": 31,
    "start_time": "2022-05-19T19:46:46.348Z"
   },
   {
    "duration": 47,
    "start_time": "2022-05-19T19:46:46.380Z"
   },
   {
    "duration": 14,
    "start_time": "2022-05-19T19:46:46.429Z"
   },
   {
    "duration": 25,
    "start_time": "2022-05-19T19:46:46.447Z"
   },
   {
    "duration": 48,
    "start_time": "2022-05-19T19:46:46.474Z"
   },
   {
    "duration": 34,
    "start_time": "2022-05-19T19:46:46.524Z"
   },
   {
    "duration": 30,
    "start_time": "2022-05-19T19:46:46.560Z"
   },
   {
    "duration": 22,
    "start_time": "2022-05-19T19:46:46.593Z"
   },
   {
    "duration": 18,
    "start_time": "2022-05-19T19:46:46.616Z"
   },
   {
    "duration": 35,
    "start_time": "2022-05-19T19:46:46.636Z"
   },
   {
    "duration": 29,
    "start_time": "2022-05-19T19:46:46.673Z"
   },
   {
    "duration": 46,
    "start_time": "2022-05-19T19:46:46.704Z"
   },
   {
    "duration": 44,
    "start_time": "2022-05-19T19:46:46.752Z"
   },
   {
    "duration": 687,
    "start_time": "2022-05-19T19:46:46.798Z"
   },
   {
    "duration": 25,
    "start_time": "2022-05-19T19:46:47.488Z"
   },
   {
    "duration": 251,
    "start_time": "2022-05-19T19:46:47.515Z"
   },
   {
    "duration": 15,
    "start_time": "2022-05-19T19:46:47.768Z"
   },
   {
    "duration": 366,
    "start_time": "2022-05-19T19:46:47.796Z"
   },
   {
    "duration": 12,
    "start_time": "2022-05-19T19:46:48.164Z"
   },
   {
    "duration": 342,
    "start_time": "2022-05-19T19:46:48.178Z"
   },
   {
    "duration": 322,
    "start_time": "2022-05-19T19:46:48.522Z"
   },
   {
    "duration": 326,
    "start_time": "2022-05-19T19:46:48.846Z"
   },
   {
    "duration": 5,
    "start_time": "2022-05-19T19:46:49.174Z"
   },
   {
    "duration": 14,
    "start_time": "2022-05-19T19:46:49.181Z"
   },
   {
    "duration": 14,
    "start_time": "2022-05-19T19:46:49.197Z"
   },
   {
    "duration": 11,
    "start_time": "2022-05-19T19:46:49.212Z"
   },
   {
    "duration": 12,
    "start_time": "2022-05-19T19:46:49.225Z"
   },
   {
    "duration": 10,
    "start_time": "2022-05-19T19:46:49.238Z"
   },
   {
    "duration": 8,
    "start_time": "2022-05-19T19:46:49.249Z"
   },
   {
    "duration": 11,
    "start_time": "2022-05-19T19:46:49.259Z"
   },
   {
    "duration": 25,
    "start_time": "2022-05-19T19:46:49.271Z"
   },
   {
    "duration": 14,
    "start_time": "2022-05-19T19:46:49.297Z"
   },
   {
    "duration": 12,
    "start_time": "2022-05-19T19:46:49.313Z"
   },
   {
    "duration": 9,
    "start_time": "2022-05-19T19:46:49.327Z"
   },
   {
    "duration": 5,
    "start_time": "2022-05-19T19:46:49.338Z"
   },
   {
    "duration": 8,
    "start_time": "2022-05-19T19:46:49.345Z"
   },
   {
    "duration": 10,
    "start_time": "2022-05-19T19:46:49.355Z"
   },
   {
    "duration": 34,
    "start_time": "2022-05-19T19:46:49.367Z"
   },
   {
    "duration": 12,
    "start_time": "2022-05-19T19:46:49.403Z"
   },
   {
    "duration": 9,
    "start_time": "2022-05-19T19:46:49.417Z"
   },
   {
    "duration": 530,
    "start_time": "2022-05-19T19:47:02.648Z"
   },
   {
    "duration": 84,
    "start_time": "2022-05-19T19:47:06.779Z"
   },
   {
    "duration": 15,
    "start_time": "2022-05-19T19:47:06.865Z"
   },
   {
    "duration": 10,
    "start_time": "2022-05-19T19:47:06.894Z"
   },
   {
    "duration": 13,
    "start_time": "2022-05-19T19:47:06.906Z"
   },
   {
    "duration": 15,
    "start_time": "2022-05-19T19:47:06.921Z"
   },
   {
    "duration": 5,
    "start_time": "2022-05-19T19:47:06.937Z"
   },
   {
    "duration": 6,
    "start_time": "2022-05-19T19:47:06.944Z"
   },
   {
    "duration": 51,
    "start_time": "2022-05-19T19:47:06.952Z"
   },
   {
    "duration": 4,
    "start_time": "2022-05-19T19:47:07.005Z"
   },
   {
    "duration": 6,
    "start_time": "2022-05-19T19:47:07.012Z"
   },
   {
    "duration": 214,
    "start_time": "2022-05-19T19:47:07.019Z"
   },
   {
    "duration": 16,
    "start_time": "2022-05-19T19:47:07.236Z"
   },
   {
    "duration": 269,
    "start_time": "2022-05-19T19:47:07.254Z"
   },
   {
    "duration": 6,
    "start_time": "2022-05-19T19:47:07.525Z"
   },
   {
    "duration": 22,
    "start_time": "2022-05-19T19:47:07.533Z"
   },
   {
    "duration": 14,
    "start_time": "2022-05-19T19:47:07.556Z"
   },
   {
    "duration": 23,
    "start_time": "2022-05-19T19:47:07.572Z"
   },
   {
    "duration": 8,
    "start_time": "2022-05-19T19:47:07.597Z"
   },
   {
    "duration": 6,
    "start_time": "2022-05-19T19:47:07.606Z"
   },
   {
    "duration": 13,
    "start_time": "2022-05-19T19:47:07.614Z"
   },
   {
    "duration": 8,
    "start_time": "2022-05-19T19:47:07.629Z"
   },
   {
    "duration": 4,
    "start_time": "2022-05-19T19:47:07.639Z"
   },
   {
    "duration": 7,
    "start_time": "2022-05-19T19:47:07.645Z"
   },
   {
    "duration": 55,
    "start_time": "2022-05-19T19:47:07.654Z"
   },
   {
    "duration": 129,
    "start_time": "2022-05-19T19:47:07.711Z"
   },
   {
    "duration": 32,
    "start_time": "2022-05-19T19:47:07.842Z"
   },
   {
    "duration": 26,
    "start_time": "2022-05-19T19:47:07.876Z"
   },
   {
    "duration": 15,
    "start_time": "2022-05-19T19:47:07.905Z"
   },
   {
    "duration": 23,
    "start_time": "2022-05-19T19:47:07.922Z"
   },
   {
    "duration": 19,
    "start_time": "2022-05-19T19:47:07.947Z"
   },
   {
    "duration": 39,
    "start_time": "2022-05-19T19:47:07.969Z"
   },
   {
    "duration": 10,
    "start_time": "2022-05-19T19:47:08.009Z"
   },
   {
    "duration": 16,
    "start_time": "2022-05-19T19:47:08.020Z"
   },
   {
    "duration": 16,
    "start_time": "2022-05-19T19:47:08.037Z"
   },
   {
    "duration": 18,
    "start_time": "2022-05-19T19:47:08.054Z"
   },
   {
    "duration": 25,
    "start_time": "2022-05-19T19:47:08.074Z"
   },
   {
    "duration": 31,
    "start_time": "2022-05-19T19:47:08.101Z"
   },
   {
    "duration": 587,
    "start_time": "2022-05-19T19:47:08.134Z"
   },
   {
    "duration": 18,
    "start_time": "2022-05-19T19:47:08.723Z"
   },
   {
    "duration": 231,
    "start_time": "2022-05-19T19:47:08.743Z"
   },
   {
    "duration": 23,
    "start_time": "2022-05-19T19:47:08.977Z"
   },
   {
    "duration": 380,
    "start_time": "2022-05-19T19:47:09.002Z"
   },
   {
    "duration": 18,
    "start_time": "2022-05-19T19:47:09.384Z"
   },
   {
    "duration": 349,
    "start_time": "2022-05-19T19:47:09.404Z"
   },
   {
    "duration": 385,
    "start_time": "2022-05-19T19:47:09.755Z"
   },
   {
    "duration": 335,
    "start_time": "2022-05-19T19:47:10.142Z"
   },
   {
    "duration": 5,
    "start_time": "2022-05-19T19:47:10.478Z"
   },
   {
    "duration": 5,
    "start_time": "2022-05-19T19:47:10.495Z"
   },
   {
    "duration": 8,
    "start_time": "2022-05-19T19:47:10.502Z"
   },
   {
    "duration": 13,
    "start_time": "2022-05-19T19:47:10.512Z"
   },
   {
    "duration": 16,
    "start_time": "2022-05-19T19:47:10.526Z"
   },
   {
    "duration": 10,
    "start_time": "2022-05-19T19:47:10.543Z"
   },
   {
    "duration": 8,
    "start_time": "2022-05-19T19:47:10.555Z"
   },
   {
    "duration": 10,
    "start_time": "2022-05-19T19:47:10.565Z"
   },
   {
    "duration": 20,
    "start_time": "2022-05-19T19:47:10.577Z"
   },
   {
    "duration": 14,
    "start_time": "2022-05-19T19:47:10.599Z"
   },
   {
    "duration": 12,
    "start_time": "2022-05-19T19:47:10.614Z"
   },
   {
    "duration": 13,
    "start_time": "2022-05-19T19:47:10.628Z"
   },
   {
    "duration": 4,
    "start_time": "2022-05-19T19:47:10.643Z"
   },
   {
    "duration": 8,
    "start_time": "2022-05-19T19:47:10.649Z"
   },
   {
    "duration": 8,
    "start_time": "2022-05-19T19:47:10.658Z"
   },
   {
    "duration": 8,
    "start_time": "2022-05-19T19:47:10.668Z"
   },
   {
    "duration": 8,
    "start_time": "2022-05-19T19:47:10.695Z"
   },
   {
    "duration": 8,
    "start_time": "2022-05-19T19:47:10.705Z"
   },
   {
    "duration": 602,
    "start_time": "2022-05-19T19:47:56.143Z"
   },
   {
    "duration": 115,
    "start_time": "2022-05-19T19:48:12.511Z"
   },
   {
    "duration": 18,
    "start_time": "2022-05-19T19:48:12.628Z"
   },
   {
    "duration": 12,
    "start_time": "2022-05-19T19:48:12.648Z"
   },
   {
    "duration": 16,
    "start_time": "2022-05-19T19:48:12.694Z"
   },
   {
    "duration": 15,
    "start_time": "2022-05-19T19:48:12.712Z"
   },
   {
    "duration": 5,
    "start_time": "2022-05-19T19:48:12.729Z"
   },
   {
    "duration": 5,
    "start_time": "2022-05-19T19:48:12.736Z"
   },
   {
    "duration": 58,
    "start_time": "2022-05-19T19:48:12.742Z"
   },
   {
    "duration": 5,
    "start_time": "2022-05-19T19:48:12.801Z"
   },
   {
    "duration": 6,
    "start_time": "2022-05-19T19:48:12.808Z"
   },
   {
    "duration": 191,
    "start_time": "2022-05-19T19:48:12.816Z"
   },
   {
    "duration": 13,
    "start_time": "2022-05-19T19:48:13.009Z"
   },
   {
    "duration": 222,
    "start_time": "2022-05-19T19:48:13.024Z"
   },
   {
    "duration": 5,
    "start_time": "2022-05-19T19:48:13.247Z"
   },
   {
    "duration": 12,
    "start_time": "2022-05-19T19:48:13.253Z"
   },
   {
    "duration": 7,
    "start_time": "2022-05-19T19:48:13.267Z"
   },
   {
    "duration": 23,
    "start_time": "2022-05-19T19:48:13.276Z"
   },
   {
    "duration": 9,
    "start_time": "2022-05-19T19:48:13.301Z"
   },
   {
    "duration": 8,
    "start_time": "2022-05-19T19:48:13.313Z"
   },
   {
    "duration": 9,
    "start_time": "2022-05-19T19:48:13.322Z"
   },
   {
    "duration": 11,
    "start_time": "2022-05-19T19:48:13.333Z"
   },
   {
    "duration": 6,
    "start_time": "2022-05-19T19:48:13.346Z"
   },
   {
    "duration": 42,
    "start_time": "2022-05-19T19:48:13.354Z"
   },
   {
    "duration": 14,
    "start_time": "2022-05-19T19:48:13.397Z"
   },
   {
    "duration": 23,
    "start_time": "2022-05-19T19:48:13.413Z"
   },
   {
    "duration": 34,
    "start_time": "2022-05-19T19:48:13.438Z"
   },
   {
    "duration": 15,
    "start_time": "2022-05-19T19:48:13.495Z"
   },
   {
    "duration": 13,
    "start_time": "2022-05-19T19:48:13.515Z"
   },
   {
    "duration": 11,
    "start_time": "2022-05-19T19:48:13.529Z"
   },
   {
    "duration": 17,
    "start_time": "2022-05-19T19:48:13.541Z"
   },
   {
    "duration": 43,
    "start_time": "2022-05-19T19:48:13.559Z"
   },
   {
    "duration": 15,
    "start_time": "2022-05-19T19:48:13.604Z"
   },
   {
    "duration": 9,
    "start_time": "2022-05-19T19:48:13.620Z"
   },
   {
    "duration": 11,
    "start_time": "2022-05-19T19:48:13.630Z"
   },
   {
    "duration": 16,
    "start_time": "2022-05-19T19:48:13.642Z"
   },
   {
    "duration": 48,
    "start_time": "2022-05-19T19:48:13.660Z"
   },
   {
    "duration": 9,
    "start_time": "2022-05-19T19:48:13.709Z"
   },
   {
    "duration": 31,
    "start_time": "2022-05-19T19:48:13.720Z"
   },
   {
    "duration": 703,
    "start_time": "2022-05-19T19:48:13.753Z"
   },
   {
    "duration": 15,
    "start_time": "2022-05-19T19:48:14.458Z"
   },
   {
    "duration": 221,
    "start_time": "2022-05-19T19:48:14.475Z"
   },
   {
    "duration": 12,
    "start_time": "2022-05-19T19:48:14.698Z"
   },
   {
    "duration": 395,
    "start_time": "2022-05-19T19:48:14.712Z"
   },
   {
    "duration": 11,
    "start_time": "2022-05-19T19:48:15.109Z"
   },
   {
    "duration": 330,
    "start_time": "2022-05-19T19:48:15.122Z"
   },
   {
    "duration": 332,
    "start_time": "2022-05-19T19:48:15.454Z"
   },
   {
    "duration": 327,
    "start_time": "2022-05-19T19:48:15.787Z"
   },
   {
    "duration": 6,
    "start_time": "2022-05-19T19:48:16.116Z"
   },
   {
    "duration": 15,
    "start_time": "2022-05-19T19:48:16.123Z"
   },
   {
    "duration": 13,
    "start_time": "2022-05-19T19:48:16.139Z"
   },
   {
    "duration": 13,
    "start_time": "2022-05-19T19:48:16.154Z"
   },
   {
    "duration": 7,
    "start_time": "2022-05-19T19:48:16.169Z"
   },
   {
    "duration": 16,
    "start_time": "2022-05-19T19:48:16.178Z"
   },
   {
    "duration": 5,
    "start_time": "2022-05-19T19:48:16.196Z"
   },
   {
    "duration": 11,
    "start_time": "2022-05-19T19:48:16.203Z"
   },
   {
    "duration": 20,
    "start_time": "2022-05-19T19:48:16.215Z"
   },
   {
    "duration": 7,
    "start_time": "2022-05-19T19:48:16.237Z"
   },
   {
    "duration": 12,
    "start_time": "2022-05-19T19:48:16.246Z"
   },
   {
    "duration": 8,
    "start_time": "2022-05-19T19:48:16.259Z"
   },
   {
    "duration": 5,
    "start_time": "2022-05-19T19:48:16.269Z"
   },
   {
    "duration": 22,
    "start_time": "2022-05-19T19:48:16.276Z"
   },
   {
    "duration": 9,
    "start_time": "2022-05-19T19:48:16.300Z"
   },
   {
    "duration": 8,
    "start_time": "2022-05-19T19:48:16.311Z"
   },
   {
    "duration": 8,
    "start_time": "2022-05-19T19:48:16.321Z"
   },
   {
    "duration": 7,
    "start_time": "2022-05-19T19:48:16.331Z"
   },
   {
    "duration": 521,
    "start_time": "2022-05-20T18:17:04.095Z"
   },
   {
    "duration": 23,
    "start_time": "2022-05-20T18:17:04.618Z"
   },
   {
    "duration": 29,
    "start_time": "2022-05-20T18:17:04.643Z"
   },
   {
    "duration": 18,
    "start_time": "2022-05-20T18:17:04.674Z"
   },
   {
    "duration": 13,
    "start_time": "2022-05-20T18:17:04.694Z"
   },
   {
    "duration": 5,
    "start_time": "2022-05-20T18:17:04.709Z"
   },
   {
    "duration": 13,
    "start_time": "2022-05-20T18:17:04.716Z"
   },
   {
    "duration": 34,
    "start_time": "2022-05-20T18:17:04.731Z"
   },
   {
    "duration": 8,
    "start_time": "2022-05-20T18:17:04.767Z"
   },
   {
    "duration": 14,
    "start_time": "2022-05-20T18:17:04.777Z"
   },
   {
    "duration": 962,
    "start_time": "2022-05-20T18:17:04.793Z"
   },
   {
    "duration": 28,
    "start_time": "2022-05-20T18:17:05.757Z"
   },
   {
    "duration": 297,
    "start_time": "2022-05-20T18:17:05.787Z"
   },
   {
    "duration": 6,
    "start_time": "2022-05-20T18:17:06.087Z"
   },
   {
    "duration": 14,
    "start_time": "2022-05-20T18:17:06.095Z"
   },
   {
    "duration": 8,
    "start_time": "2022-05-20T18:17:06.111Z"
   },
   {
    "duration": 7,
    "start_time": "2022-05-20T18:17:06.121Z"
   },
   {
    "duration": 8,
    "start_time": "2022-05-20T18:17:06.129Z"
   },
   {
    "duration": 35,
    "start_time": "2022-05-20T18:17:06.138Z"
   },
   {
    "duration": 18,
    "start_time": "2022-05-20T18:17:06.176Z"
   },
   {
    "duration": 10,
    "start_time": "2022-05-20T18:17:06.195Z"
   },
   {
    "duration": 5,
    "start_time": "2022-05-20T18:17:06.207Z"
   },
   {
    "duration": 9,
    "start_time": "2022-05-20T18:17:06.213Z"
   },
   {
    "duration": 16,
    "start_time": "2022-05-20T18:17:06.223Z"
   },
   {
    "duration": 25,
    "start_time": "2022-05-20T18:17:06.273Z"
   },
   {
    "duration": 67,
    "start_time": "2022-05-20T18:17:06.300Z"
   },
   {
    "duration": 22,
    "start_time": "2022-05-20T18:17:06.371Z"
   },
   {
    "duration": 18,
    "start_time": "2022-05-20T18:17:06.395Z"
   },
   {
    "duration": 10,
    "start_time": "2022-05-20T18:17:06.414Z"
   },
   {
    "duration": 40,
    "start_time": "2022-05-20T18:17:06.426Z"
   },
   {
    "duration": 36,
    "start_time": "2022-05-20T18:17:06.468Z"
   },
   {
    "duration": 18,
    "start_time": "2022-05-20T18:17:06.506Z"
   },
   {
    "duration": 11,
    "start_time": "2022-05-20T18:17:06.526Z"
   },
   {
    "duration": 44,
    "start_time": "2022-05-20T18:17:06.539Z"
   },
   {
    "duration": 25,
    "start_time": "2022-05-20T18:17:06.586Z"
   },
   {
    "duration": 25,
    "start_time": "2022-05-20T18:17:06.613Z"
   },
   {
    "duration": 6,
    "start_time": "2022-05-20T18:17:06.642Z"
   },
   {
    "duration": 51,
    "start_time": "2022-05-20T18:17:06.650Z"
   },
   {
    "duration": 704,
    "start_time": "2022-05-20T18:17:06.703Z"
   },
   {
    "duration": 20,
    "start_time": "2022-05-20T18:17:07.409Z"
   },
   {
    "duration": 270,
    "start_time": "2022-05-20T18:17:07.433Z"
   },
   {
    "duration": 14,
    "start_time": "2022-05-20T18:17:07.705Z"
   },
   {
    "duration": 435,
    "start_time": "2022-05-20T18:17:07.720Z"
   },
   {
    "duration": 26,
    "start_time": "2022-05-20T18:17:08.157Z"
   },
   {
    "duration": 374,
    "start_time": "2022-05-20T18:17:08.185Z"
   },
   {
    "duration": 416,
    "start_time": "2022-05-20T18:17:08.566Z"
   },
   {
    "duration": 410,
    "start_time": "2022-05-20T18:17:08.984Z"
   },
   {
    "duration": 7,
    "start_time": "2022-05-20T18:17:09.396Z"
   },
   {
    "duration": 9,
    "start_time": "2022-05-20T18:17:09.405Z"
   },
   {
    "duration": 7,
    "start_time": "2022-05-20T18:17:09.415Z"
   },
   {
    "duration": 8,
    "start_time": "2022-05-20T18:17:09.423Z"
   },
   {
    "duration": 45,
    "start_time": "2022-05-20T18:17:09.432Z"
   },
   {
    "duration": 11,
    "start_time": "2022-05-20T18:17:09.480Z"
   },
   {
    "duration": 6,
    "start_time": "2022-05-20T18:17:09.493Z"
   },
   {
    "duration": 7,
    "start_time": "2022-05-20T18:17:09.501Z"
   },
   {
    "duration": 7,
    "start_time": "2022-05-20T18:17:09.510Z"
   },
   {
    "duration": 10,
    "start_time": "2022-05-20T18:17:09.518Z"
   },
   {
    "duration": 8,
    "start_time": "2022-05-20T18:17:09.529Z"
   },
   {
    "duration": 8,
    "start_time": "2022-05-20T18:17:09.539Z"
   },
   {
    "duration": 31,
    "start_time": "2022-05-20T18:17:09.548Z"
   },
   {
    "duration": 8,
    "start_time": "2022-05-20T18:17:09.581Z"
   },
   {
    "duration": 13,
    "start_time": "2022-05-20T18:17:09.591Z"
   },
   {
    "duration": 7,
    "start_time": "2022-05-20T18:17:09.606Z"
   },
   {
    "duration": 8,
    "start_time": "2022-05-20T18:17:09.615Z"
   },
   {
    "duration": 9,
    "start_time": "2022-05-20T18:17:09.625Z"
   }
  ],
  "kernelspec": {
   "display_name": "Python 3 (ipykernel)",
   "language": "python",
   "name": "python3"
  },
  "language_info": {
   "codemirror_mode": {
    "name": "ipython",
    "version": 3
   },
   "file_extension": ".py",
   "mimetype": "text/x-python",
   "name": "python",
   "nbconvert_exporter": "python",
   "pygments_lexer": "ipython3",
   "version": "3.9.12"
  },
  "toc": {
   "base_numbering": 1,
   "nav_menu": {},
   "number_sections": true,
   "sideBar": true,
   "skip_h1_title": true,
   "title_cell": "Table of Contents",
   "title_sidebar": "Contents",
   "toc_cell": false,
   "toc_position": {
    "height": "calc(100% - 180px)",
    "left": "10px",
    "top": "150px",
    "width": "165px"
   },
   "toc_section_display": true,
   "toc_window_display": true
  }
 },
 "nbformat": 4,
 "nbformat_minor": 5
}
