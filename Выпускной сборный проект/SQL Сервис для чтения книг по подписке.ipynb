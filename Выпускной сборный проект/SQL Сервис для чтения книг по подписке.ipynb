{
 "cells": [
  {
   "cell_type": "markdown",
   "metadata": {},
   "source": [
    "# Сервис для чтения книг по подписке."
   ]
  },
  {
   "cell_type": "markdown",
   "metadata": {},
   "source": [
    "**ЦЕЛЬ:**\n",
    "— проанализировать базу данных и сформулировать ценностное предложение для нового продукта.\n",
    "\n",
    "**Задачи:**\n",
    "- Посчитать, сколько книг вышло после 1 января 2000 года;\n",
    "- Для каждой книги посчитать количество обзоров и среднюю оценку;\n",
    "- Определить издательство, которое выпустило наибольшее число книг толще 50 страниц;\n",
    "- Определить автора с самой высокой средней оценкой книг;\n",
    "- Посчитать среднее количество обзоров от пользователей, которые поставили больше 50 оценок."
   ]
  },
  {
   "cell_type": "code",
   "execution_count": 1,
   "metadata": {},
   "outputs": [],
   "source": [
    "# импортируем библиотеки\n",
    "import pandas as pd\n",
    "from sqlalchemy import create_engine\n",
    "# устанавливаем параметры\n",
    "db_config = {'user': 'praktikum_student', # имя пользователя\n",
    "'pwd': 'Sdf4$2;d-d30pp', # пароль\n",
    "'host': 'rc1b-wcoijxj3yxfsf3fs.mdb.yandexcloud.net',\n",
    "'port': 6432, # порт подключения\n",
    "'db': 'data-analyst-final-project-db'} # название базы данных\n",
    "connection_string = 'postgresql://{}:{}@{}:{}/{}'.format(db_config['user'],\n",
    " db_config['pwd'],\n",
    " db_config['host'],\n",
    " db_config['port'],\n",
    " db_config['db'])\n",
    "# сохраняем коннектор\n",
    "engine = create_engine(connection_string, connect_args={'sslmode':'require'}) "
   ]
  },
  {
   "cell_type": "markdown",
   "metadata": {},
   "source": [
    "## Исследование таблиц"
   ]
  },
  {
   "cell_type": "code",
   "execution_count": 2,
   "metadata": {},
   "outputs": [
    {
     "data": {
      "text/html": [
       "<div>\n",
       "<style scoped>\n",
       "    .dataframe tbody tr th:only-of-type {\n",
       "        vertical-align: middle;\n",
       "    }\n",
       "\n",
       "    .dataframe tbody tr th {\n",
       "        vertical-align: top;\n",
       "    }\n",
       "\n",
       "    .dataframe thead th {\n",
       "        text-align: right;\n",
       "    }\n",
       "</style>\n",
       "<table border=\"1\" class=\"dataframe\">\n",
       "  <thead>\n",
       "    <tr style=\"text-align: right;\">\n",
       "      <th></th>\n",
       "      <th>book_id</th>\n",
       "      <th>author_id</th>\n",
       "      <th>title</th>\n",
       "      <th>num_pages</th>\n",
       "      <th>publication_date</th>\n",
       "      <th>publisher_id</th>\n",
       "    </tr>\n",
       "  </thead>\n",
       "  <tbody>\n",
       "    <tr>\n",
       "      <th>0</th>\n",
       "      <td>1</td>\n",
       "      <td>546</td>\n",
       "      <td>'Salem's Lot</td>\n",
       "      <td>594</td>\n",
       "      <td>2005-11-01</td>\n",
       "      <td>93</td>\n",
       "    </tr>\n",
       "    <tr>\n",
       "      <th>1</th>\n",
       "      <td>2</td>\n",
       "      <td>465</td>\n",
       "      <td>1 000 Places to See Before You Die</td>\n",
       "      <td>992</td>\n",
       "      <td>2003-05-22</td>\n",
       "      <td>336</td>\n",
       "    </tr>\n",
       "    <tr>\n",
       "      <th>2</th>\n",
       "      <td>3</td>\n",
       "      <td>407</td>\n",
       "      <td>13 Little Blue Envelopes (Little Blue Envelope...</td>\n",
       "      <td>322</td>\n",
       "      <td>2010-12-21</td>\n",
       "      <td>135</td>\n",
       "    </tr>\n",
       "    <tr>\n",
       "      <th>3</th>\n",
       "      <td>4</td>\n",
       "      <td>82</td>\n",
       "      <td>1491: New Revelations of the Americas Before C...</td>\n",
       "      <td>541</td>\n",
       "      <td>2006-10-10</td>\n",
       "      <td>309</td>\n",
       "    </tr>\n",
       "    <tr>\n",
       "      <th>4</th>\n",
       "      <td>5</td>\n",
       "      <td>125</td>\n",
       "      <td>1776</td>\n",
       "      <td>386</td>\n",
       "      <td>2006-07-04</td>\n",
       "      <td>268</td>\n",
       "    </tr>\n",
       "  </tbody>\n",
       "</table>\n",
       "</div>"
      ],
      "text/plain": [
       "   book_id  author_id                                              title  \\\n",
       "0        1        546                                       'Salem's Lot   \n",
       "1        2        465                 1 000 Places to See Before You Die   \n",
       "2        3        407  13 Little Blue Envelopes (Little Blue Envelope...   \n",
       "3        4         82  1491: New Revelations of the Americas Before C...   \n",
       "4        5        125                                               1776   \n",
       "\n",
       "   num_pages publication_date  publisher_id  \n",
       "0        594       2005-11-01            93  \n",
       "1        992       2003-05-22           336  \n",
       "2        322       2010-12-21           135  \n",
       "3        541       2006-10-10           309  \n",
       "4        386       2006-07-04           268  "
      ]
     },
     "execution_count": 2,
     "metadata": {},
     "output_type": "execute_result"
    }
   ],
   "source": [
    "query = '''\n",
    "        SELECT *\n",
    "        FROM books\n",
    "        LIMIT 5\n",
    "    '''\n",
    "pd.io.sql.read_sql(query, con = engine) "
   ]
  },
  {
   "cell_type": "markdown",
   "metadata": {},
   "source": [
    "Таблица `books` - Содержит данные о книгах:\n",
    "- book_id — идентификатор книги;\n",
    "- author_id — идентификатор автора;\n",
    "- title — название книги;\n",
    "- num_pages — количество страниц;\n",
    "- publication_date — дата публикации книги;\n",
    "- publisher_id — идентификатор издателя.\n",
    "\n",
    "Соеденина с таблицей **ratings** и **reviews** по book_id"
   ]
  },
  {
   "cell_type": "code",
   "execution_count": 3,
   "metadata": {},
   "outputs": [
    {
     "data": {
      "text/html": [
       "<div>\n",
       "<style scoped>\n",
       "    .dataframe tbody tr th:only-of-type {\n",
       "        vertical-align: middle;\n",
       "    }\n",
       "\n",
       "    .dataframe tbody tr th {\n",
       "        vertical-align: top;\n",
       "    }\n",
       "\n",
       "    .dataframe thead th {\n",
       "        text-align: right;\n",
       "    }\n",
       "</style>\n",
       "<table border=\"1\" class=\"dataframe\">\n",
       "  <thead>\n",
       "    <tr style=\"text-align: right;\">\n",
       "      <th></th>\n",
       "      <th>rating_id</th>\n",
       "      <th>book_id</th>\n",
       "      <th>username</th>\n",
       "      <th>rating</th>\n",
       "    </tr>\n",
       "  </thead>\n",
       "  <tbody>\n",
       "    <tr>\n",
       "      <th>0</th>\n",
       "      <td>1</td>\n",
       "      <td>1</td>\n",
       "      <td>ryanfranco</td>\n",
       "      <td>4</td>\n",
       "    </tr>\n",
       "    <tr>\n",
       "      <th>1</th>\n",
       "      <td>2</td>\n",
       "      <td>1</td>\n",
       "      <td>grantpatricia</td>\n",
       "      <td>2</td>\n",
       "    </tr>\n",
       "    <tr>\n",
       "      <th>2</th>\n",
       "      <td>3</td>\n",
       "      <td>1</td>\n",
       "      <td>brandtandrea</td>\n",
       "      <td>5</td>\n",
       "    </tr>\n",
       "    <tr>\n",
       "      <th>3</th>\n",
       "      <td>4</td>\n",
       "      <td>2</td>\n",
       "      <td>lorichen</td>\n",
       "      <td>3</td>\n",
       "    </tr>\n",
       "    <tr>\n",
       "      <th>4</th>\n",
       "      <td>5</td>\n",
       "      <td>2</td>\n",
       "      <td>mariokeller</td>\n",
       "      <td>2</td>\n",
       "    </tr>\n",
       "  </tbody>\n",
       "</table>\n",
       "</div>"
      ],
      "text/plain": [
       "   rating_id  book_id       username  rating\n",
       "0          1        1     ryanfranco       4\n",
       "1          2        1  grantpatricia       2\n",
       "2          3        1   brandtandrea       5\n",
       "3          4        2       lorichen       3\n",
       "4          5        2    mariokeller       2"
      ]
     },
     "execution_count": 3,
     "metadata": {},
     "output_type": "execute_result"
    }
   ],
   "source": [
    "query = '''\n",
    "        SELECT*\n",
    "        FROM ratings\n",
    "        LIMIT 5\n",
    "    '''\n",
    "pd.io.sql.read_sql(query, con = engine) "
   ]
  },
  {
   "cell_type": "markdown",
   "metadata": {},
   "source": [
    "Таблица `ratings` - Содержит данные о пользовательских оценках книг:\n",
    "- rating_id — идентификатор оценки;\n",
    "- book_id — идентификатор книги;\n",
    "- username — имя пользователя, оставившего оценку;\n",
    "- rating — оценка книги.\n",
    "\n",
    "Соеденина с **books** и **reviews** по book_id"
   ]
  },
  {
   "cell_type": "code",
   "execution_count": 4,
   "metadata": {},
   "outputs": [
    {
     "data": {
      "text/html": [
       "<div>\n",
       "<style scoped>\n",
       "    .dataframe tbody tr th:only-of-type {\n",
       "        vertical-align: middle;\n",
       "    }\n",
       "\n",
       "    .dataframe tbody tr th {\n",
       "        vertical-align: top;\n",
       "    }\n",
       "\n",
       "    .dataframe thead th {\n",
       "        text-align: right;\n",
       "    }\n",
       "</style>\n",
       "<table border=\"1\" class=\"dataframe\">\n",
       "  <thead>\n",
       "    <tr style=\"text-align: right;\">\n",
       "      <th></th>\n",
       "      <th>review_id</th>\n",
       "      <th>book_id</th>\n",
       "      <th>username</th>\n",
       "      <th>text</th>\n",
       "    </tr>\n",
       "  </thead>\n",
       "  <tbody>\n",
       "    <tr>\n",
       "      <th>0</th>\n",
       "      <td>1</td>\n",
       "      <td>1</td>\n",
       "      <td>brandtandrea</td>\n",
       "      <td>Mention society tell send professor analysis. ...</td>\n",
       "    </tr>\n",
       "    <tr>\n",
       "      <th>1</th>\n",
       "      <td>2</td>\n",
       "      <td>1</td>\n",
       "      <td>ryanfranco</td>\n",
       "      <td>Foot glass pretty audience hit themselves. Amo...</td>\n",
       "    </tr>\n",
       "    <tr>\n",
       "      <th>2</th>\n",
       "      <td>3</td>\n",
       "      <td>2</td>\n",
       "      <td>lorichen</td>\n",
       "      <td>Listen treat keep worry. Miss husband tax but ...</td>\n",
       "    </tr>\n",
       "    <tr>\n",
       "      <th>3</th>\n",
       "      <td>4</td>\n",
       "      <td>3</td>\n",
       "      <td>johnsonamanda</td>\n",
       "      <td>Finally month interesting blue could nature cu...</td>\n",
       "    </tr>\n",
       "    <tr>\n",
       "      <th>4</th>\n",
       "      <td>5</td>\n",
       "      <td>3</td>\n",
       "      <td>scotttamara</td>\n",
       "      <td>Nation purpose heavy give wait song will. List...</td>\n",
       "    </tr>\n",
       "  </tbody>\n",
       "</table>\n",
       "</div>"
      ],
      "text/plain": [
       "   review_id  book_id       username  \\\n",
       "0          1        1   brandtandrea   \n",
       "1          2        1     ryanfranco   \n",
       "2          3        2       lorichen   \n",
       "3          4        3  johnsonamanda   \n",
       "4          5        3    scotttamara   \n",
       "\n",
       "                                                text  \n",
       "0  Mention society tell send professor analysis. ...  \n",
       "1  Foot glass pretty audience hit themselves. Amo...  \n",
       "2  Listen treat keep worry. Miss husband tax but ...  \n",
       "3  Finally month interesting blue could nature cu...  \n",
       "4  Nation purpose heavy give wait song will. List...  "
      ]
     },
     "execution_count": 4,
     "metadata": {},
     "output_type": "execute_result"
    }
   ],
   "source": [
    "query = '''\n",
    "        SELECT *\n",
    "        FROM reviews\n",
    "        LIMIT 5\n",
    "    '''\n",
    "pd.io.sql.read_sql(query, con = engine) "
   ]
  },
  {
   "cell_type": "markdown",
   "metadata": {},
   "source": [
    "Таблица `reviews` - Содержит данные о пользовательских обзорах:\n",
    "- review_id — идентификатор обзора;\n",
    "- book_id — идентификатор книги;\n",
    "- username — имя автора обзора;\n",
    "- text — текст обзора.\n",
    "\n",
    "Соединена с **books** и **ratings** по book_id"
   ]
  },
  {
   "cell_type": "code",
   "execution_count": 5,
   "metadata": {},
   "outputs": [
    {
     "data": {
      "text/html": [
       "<div>\n",
       "<style scoped>\n",
       "    .dataframe tbody tr th:only-of-type {\n",
       "        vertical-align: middle;\n",
       "    }\n",
       "\n",
       "    .dataframe tbody tr th {\n",
       "        vertical-align: top;\n",
       "    }\n",
       "\n",
       "    .dataframe thead th {\n",
       "        text-align: right;\n",
       "    }\n",
       "</style>\n",
       "<table border=\"1\" class=\"dataframe\">\n",
       "  <thead>\n",
       "    <tr style=\"text-align: right;\">\n",
       "      <th></th>\n",
       "      <th>author_id</th>\n",
       "      <th>author</th>\n",
       "    </tr>\n",
       "  </thead>\n",
       "  <tbody>\n",
       "    <tr>\n",
       "      <th>0</th>\n",
       "      <td>1</td>\n",
       "      <td>A.S. Byatt</td>\n",
       "    </tr>\n",
       "    <tr>\n",
       "      <th>1</th>\n",
       "      <td>2</td>\n",
       "      <td>Aesop/Laura Harris/Laura Gibbs</td>\n",
       "    </tr>\n",
       "    <tr>\n",
       "      <th>2</th>\n",
       "      <td>3</td>\n",
       "      <td>Agatha Christie</td>\n",
       "    </tr>\n",
       "    <tr>\n",
       "      <th>3</th>\n",
       "      <td>4</td>\n",
       "      <td>Alan Brennert</td>\n",
       "    </tr>\n",
       "    <tr>\n",
       "      <th>4</th>\n",
       "      <td>5</td>\n",
       "      <td>Alan Moore/David   Lloyd</td>\n",
       "    </tr>\n",
       "  </tbody>\n",
       "</table>\n",
       "</div>"
      ],
      "text/plain": [
       "   author_id                          author\n",
       "0          1                      A.S. Byatt\n",
       "1          2  Aesop/Laura Harris/Laura Gibbs\n",
       "2          3                 Agatha Christie\n",
       "3          4                   Alan Brennert\n",
       "4          5        Alan Moore/David   Lloyd"
      ]
     },
     "execution_count": 5,
     "metadata": {},
     "output_type": "execute_result"
    }
   ],
   "source": [
    "query = '''\n",
    "        SELECT *\n",
    "        FROM authors\n",
    "        LIMIT 5\n",
    "    '''\n",
    "pd.io.sql.read_sql(query, con = engine) "
   ]
  },
  {
   "cell_type": "markdown",
   "metadata": {},
   "source": [
    "Таблица `authors` - Содержит данные об авторах:\n",
    "- author_id — идентификатор автора;\n",
    "- author — имя автора.\n",
    "\n",
    "Соединена с таблицей **books** по author_id"
   ]
  },
  {
   "cell_type": "code",
   "execution_count": 6,
   "metadata": {},
   "outputs": [
    {
     "data": {
      "text/html": [
       "<div>\n",
       "<style scoped>\n",
       "    .dataframe tbody tr th:only-of-type {\n",
       "        vertical-align: middle;\n",
       "    }\n",
       "\n",
       "    .dataframe tbody tr th {\n",
       "        vertical-align: top;\n",
       "    }\n",
       "\n",
       "    .dataframe thead th {\n",
       "        text-align: right;\n",
       "    }\n",
       "</style>\n",
       "<table border=\"1\" class=\"dataframe\">\n",
       "  <thead>\n",
       "    <tr style=\"text-align: right;\">\n",
       "      <th></th>\n",
       "      <th>publisher_id</th>\n",
       "      <th>publisher</th>\n",
       "    </tr>\n",
       "  </thead>\n",
       "  <tbody>\n",
       "    <tr>\n",
       "      <th>0</th>\n",
       "      <td>1</td>\n",
       "      <td>Ace</td>\n",
       "    </tr>\n",
       "    <tr>\n",
       "      <th>1</th>\n",
       "      <td>2</td>\n",
       "      <td>Ace Book</td>\n",
       "    </tr>\n",
       "    <tr>\n",
       "      <th>2</th>\n",
       "      <td>3</td>\n",
       "      <td>Ace Books</td>\n",
       "    </tr>\n",
       "    <tr>\n",
       "      <th>3</th>\n",
       "      <td>4</td>\n",
       "      <td>Ace Hardcover</td>\n",
       "    </tr>\n",
       "    <tr>\n",
       "      <th>4</th>\n",
       "      <td>5</td>\n",
       "      <td>Addison Wesley Publishing Company</td>\n",
       "    </tr>\n",
       "  </tbody>\n",
       "</table>\n",
       "</div>"
      ],
      "text/plain": [
       "   publisher_id                          publisher\n",
       "0             1                                Ace\n",
       "1             2                           Ace Book\n",
       "2             3                          Ace Books\n",
       "3             4                      Ace Hardcover\n",
       "4             5  Addison Wesley Publishing Company"
      ]
     },
     "execution_count": 6,
     "metadata": {},
     "output_type": "execute_result"
    }
   ],
   "source": [
    "query = '''\n",
    "        SELECT *\n",
    "        FROM publishers\n",
    "        LIMIT 5\n",
    "    '''\n",
    "pd.io.sql.read_sql(query, con = engine) "
   ]
  },
  {
   "cell_type": "markdown",
   "metadata": {},
   "source": [
    "Таблица `publishers` - Содержит данные об издательствах:\n",
    "- publisher_id — идентификатор издательства;\n",
    "- publisher — название издательства;\n",
    "\n",
    "Соеденина с таблицей **books** по publisher_id"
   ]
  },
  {
   "cell_type": "markdown",
   "metadata": {},
   "source": [
    "## Задание 1"
   ]
  },
  {
   "cell_type": "markdown",
   "metadata": {},
   "source": [
    "**Посчитать, сколько книг вышло после 1 января 2000 года**"
   ]
  },
  {
   "cell_type": "code",
   "execution_count": 7,
   "metadata": {},
   "outputs": [
    {
     "data": {
      "text/html": [
       "<div>\n",
       "<style scoped>\n",
       "    .dataframe tbody tr th:only-of-type {\n",
       "        vertical-align: middle;\n",
       "    }\n",
       "\n",
       "    .dataframe tbody tr th {\n",
       "        vertical-align: top;\n",
       "    }\n",
       "\n",
       "    .dataframe thead th {\n",
       "        text-align: right;\n",
       "    }\n",
       "</style>\n",
       "<table border=\"1\" class=\"dataframe\">\n",
       "  <thead>\n",
       "    <tr style=\"text-align: right;\">\n",
       "      <th></th>\n",
       "      <th>count</th>\n",
       "    </tr>\n",
       "  </thead>\n",
       "  <tbody>\n",
       "    <tr>\n",
       "      <th>0</th>\n",
       "      <td>819</td>\n",
       "    </tr>\n",
       "  </tbody>\n",
       "</table>\n",
       "</div>"
      ],
      "text/plain": [
       "   count\n",
       "0    819"
      ]
     },
     "execution_count": 7,
     "metadata": {},
     "output_type": "execute_result"
    }
   ],
   "source": [
    "query = '''\n",
    "        SELECT COUNT(book_id)\n",
    "        FROM books\n",
    "        WHERE publication_date > '2000-01-01'\n",
    "    '''\n",
    "pd.io.sql.read_sql(query, con = engine) "
   ]
  },
  {
   "cell_type": "markdown",
   "metadata": {},
   "source": [
    "- 819 книг вышло после 1 января 2000 года. Не с чем сравнивать, много это или мало"
   ]
  },
  {
   "cell_type": "markdown",
   "metadata": {},
   "source": [
    "## Задание 2"
   ]
  },
  {
   "cell_type": "markdown",
   "metadata": {},
   "source": [
    "**Для каждой книги посчитать количество обзоров и среднюю оценку**"
   ]
  },
  {
   "cell_type": "code",
   "execution_count": 8,
   "metadata": {},
   "outputs": [
    {
     "data": {
      "text/html": [
       "<div>\n",
       "<style scoped>\n",
       "    .dataframe tbody tr th:only-of-type {\n",
       "        vertical-align: middle;\n",
       "    }\n",
       "\n",
       "    .dataframe tbody tr th {\n",
       "        vertical-align: top;\n",
       "    }\n",
       "\n",
       "    .dataframe thead th {\n",
       "        text-align: right;\n",
       "    }\n",
       "</style>\n",
       "<table border=\"1\" class=\"dataframe\">\n",
       "  <thead>\n",
       "    <tr style=\"text-align: right;\">\n",
       "      <th></th>\n",
       "      <th>book_id</th>\n",
       "      <th>title</th>\n",
       "      <th>avg_rating</th>\n",
       "      <th>count_review</th>\n",
       "    </tr>\n",
       "  </thead>\n",
       "  <tbody>\n",
       "    <tr>\n",
       "      <th>0</th>\n",
       "      <td>652</td>\n",
       "      <td>The Body in the Library (Miss Marple  #3)</td>\n",
       "      <td>4.500000</td>\n",
       "      <td>2</td>\n",
       "    </tr>\n",
       "    <tr>\n",
       "      <th>1</th>\n",
       "      <td>273</td>\n",
       "      <td>Galápagos</td>\n",
       "      <td>4.500000</td>\n",
       "      <td>2</td>\n",
       "    </tr>\n",
       "    <tr>\n",
       "      <th>2</th>\n",
       "      <td>51</td>\n",
       "      <td>A Tree Grows in Brooklyn</td>\n",
       "      <td>4.250000</td>\n",
       "      <td>5</td>\n",
       "    </tr>\n",
       "    <tr>\n",
       "      <th>3</th>\n",
       "      <td>951</td>\n",
       "      <td>Undaunted Courage: The Pioneering First Missio...</td>\n",
       "      <td>4.000000</td>\n",
       "      <td>2</td>\n",
       "    </tr>\n",
       "    <tr>\n",
       "      <th>4</th>\n",
       "      <td>839</td>\n",
       "      <td>The Prophet</td>\n",
       "      <td>4.285714</td>\n",
       "      <td>4</td>\n",
       "    </tr>\n",
       "  </tbody>\n",
       "</table>\n",
       "</div>"
      ],
      "text/plain": [
       "   book_id                                              title  avg_rating  \\\n",
       "0      652          The Body in the Library (Miss Marple  #3)    4.500000   \n",
       "1      273                                          Galápagos    4.500000   \n",
       "2       51                           A Tree Grows in Brooklyn    4.250000   \n",
       "3      951  Undaunted Courage: The Pioneering First Missio...    4.000000   \n",
       "4      839                                        The Prophet    4.285714   \n",
       "\n",
       "   count_review  \n",
       "0             2  \n",
       "1             2  \n",
       "2             5  \n",
       "3             2  \n",
       "4             4  "
      ]
     },
     "execution_count": 8,
     "metadata": {},
     "output_type": "execute_result"
    }
   ],
   "source": [
    "query = '''\n",
    "        WITH \n",
    "        s AS (SELECT book_id,\n",
    "                          COUNT(review_id) AS count_review\n",
    "                   FROM reviews AS re \n",
    "                   GROUP BY book_id),\n",
    "        r AS (SELECT book_id,\n",
    "                     AVG(rating) AS avg_rating\n",
    "              FROM ratings\n",
    "              GROUP BY book_id)\n",
    "                   \n",
    "        SELECT  s.book_id,\n",
    "                b.title,\n",
    "                r.avg_rating,\n",
    "                s.count_review\n",
    "        FROM s\n",
    "        JOIN r ON r.book_id=s.book_id\n",
    "        JOIN books AS b ON b.book_id = s.book_id\n",
    "        LIMIT 5\n",
    "    '''\n",
    "pd.io.sql.read_sql(query, con = engine) "
   ]
  },
  {
   "cell_type": "markdown",
   "metadata": {},
   "source": [
    " - Сгруппировали таблицу по id, посчитали средний балл за книгу и кол-во обзоров. Можно посмотреть средний балл за книгу и выбрать те книги с наибольшим баллом, которые точно должны попасть в приложение"
   ]
  },
  {
   "cell_type": "markdown",
   "metadata": {},
   "source": [
    "## Задание 3"
   ]
  },
  {
   "cell_type": "markdown",
   "metadata": {},
   "source": [
    "**Определить издательство, которое выпустило наибольшее число книг толще 50 страниц**"
   ]
  },
  {
   "cell_type": "code",
   "execution_count": 9,
   "metadata": {},
   "outputs": [
    {
     "data": {
      "text/html": [
       "<div>\n",
       "<style scoped>\n",
       "    .dataframe tbody tr th:only-of-type {\n",
       "        vertical-align: middle;\n",
       "    }\n",
       "\n",
       "    .dataframe tbody tr th {\n",
       "        vertical-align: top;\n",
       "    }\n",
       "\n",
       "    .dataframe thead th {\n",
       "        text-align: right;\n",
       "    }\n",
       "</style>\n",
       "<table border=\"1\" class=\"dataframe\">\n",
       "  <thead>\n",
       "    <tr style=\"text-align: right;\">\n",
       "      <th></th>\n",
       "      <th>publisher_id</th>\n",
       "      <th>count_book</th>\n",
       "      <th>publisher</th>\n",
       "    </tr>\n",
       "  </thead>\n",
       "  <tbody>\n",
       "    <tr>\n",
       "      <th>0</th>\n",
       "      <td>212</td>\n",
       "      <td>42</td>\n",
       "      <td>Penguin Books</td>\n",
       "    </tr>\n",
       "    <tr>\n",
       "      <th>1</th>\n",
       "      <td>309</td>\n",
       "      <td>31</td>\n",
       "      <td>Vintage</td>\n",
       "    </tr>\n",
       "    <tr>\n",
       "      <th>2</th>\n",
       "      <td>116</td>\n",
       "      <td>25</td>\n",
       "      <td>Grand Central Publishing</td>\n",
       "    </tr>\n",
       "    <tr>\n",
       "      <th>3</th>\n",
       "      <td>217</td>\n",
       "      <td>24</td>\n",
       "      <td>Penguin Classics</td>\n",
       "    </tr>\n",
       "    <tr>\n",
       "      <th>4</th>\n",
       "      <td>35</td>\n",
       "      <td>19</td>\n",
       "      <td>Bantam</td>\n",
       "    </tr>\n",
       "  </tbody>\n",
       "</table>\n",
       "</div>"
      ],
      "text/plain": [
       "   publisher_id  count_book                 publisher\n",
       "0           212          42             Penguin Books\n",
       "1           309          31                   Vintage\n",
       "2           116          25  Grand Central Publishing\n",
       "3           217          24          Penguin Classics\n",
       "4            35          19                    Bantam"
      ]
     },
     "execution_count": 9,
     "metadata": {},
     "output_type": "execute_result"
    }
   ],
   "source": [
    "query = '''\n",
    "        SELECT p.publisher_id, \n",
    "            COUNT(b.book_id) AS count_book, \n",
    "            p.publisher \n",
    "        FROM books AS b\n",
    "        LEFT OUTER JOIN publishers AS p ON b.publisher_id=p.publisher_id\n",
    "        WHERE b.num_pages > 50\n",
    "        GROUP BY p.publisher_id\n",
    "        ORDER BY count_book DESC\n",
    "        LIMIT 5\n",
    "    '''\n",
    "pd.io.sql.read_sql(query, con = engine) "
   ]
  },
  {
   "cell_type": "markdown",
   "metadata": {},
   "source": [
    "- Penguin Books выпустили больше всего книг - 42. То издательство, с которым точно нужно сотрудничать"
   ]
  },
  {
   "cell_type": "markdown",
   "metadata": {},
   "source": [
    "## Задание 4"
   ]
  },
  {
   "cell_type": "markdown",
   "metadata": {},
   "source": [
    "**Определить автора с самой высокой средней оценкой книг**"
   ]
  },
  {
   "cell_type": "code",
   "execution_count": 10,
   "metadata": {},
   "outputs": [
    {
     "data": {
      "text/html": [
       "<div>\n",
       "<style scoped>\n",
       "    .dataframe tbody tr th:only-of-type {\n",
       "        vertical-align: middle;\n",
       "    }\n",
       "\n",
       "    .dataframe tbody tr th {\n",
       "        vertical-align: top;\n",
       "    }\n",
       "\n",
       "    .dataframe thead th {\n",
       "        text-align: right;\n",
       "    }\n",
       "</style>\n",
       "<table border=\"1\" class=\"dataframe\">\n",
       "  <thead>\n",
       "    <tr style=\"text-align: right;\">\n",
       "      <th></th>\n",
       "      <th>author</th>\n",
       "      <th>avg_rating</th>\n",
       "    </tr>\n",
       "  </thead>\n",
       "  <tbody>\n",
       "    <tr>\n",
       "      <th>0</th>\n",
       "      <td>J.K. Rowling/Mary GrandPré</td>\n",
       "      <td>4.283844</td>\n",
       "    </tr>\n",
       "    <tr>\n",
       "      <th>1</th>\n",
       "      <td>Markus Zusak/Cao Xuân Việt Khương</td>\n",
       "      <td>4.264151</td>\n",
       "    </tr>\n",
       "    <tr>\n",
       "      <th>2</th>\n",
       "      <td>J.R.R. Tolkien</td>\n",
       "      <td>4.258446</td>\n",
       "    </tr>\n",
       "    <tr>\n",
       "      <th>3</th>\n",
       "      <td>Louisa May Alcott</td>\n",
       "      <td>4.192308</td>\n",
       "    </tr>\n",
       "    <tr>\n",
       "      <th>4</th>\n",
       "      <td>Rick Riordan</td>\n",
       "      <td>4.080645</td>\n",
       "    </tr>\n",
       "  </tbody>\n",
       "</table>\n",
       "</div>"
      ],
      "text/plain": [
       "                              author  avg_rating\n",
       "0         J.K. Rowling/Mary GrandPré    4.283844\n",
       "1  Markus Zusak/Cao Xuân Việt Khương    4.264151\n",
       "2                     J.R.R. Tolkien    4.258446\n",
       "3                  Louisa May Alcott    4.192308\n",
       "4                       Rick Riordan    4.080645"
      ]
     },
     "execution_count": 10,
     "metadata": {},
     "output_type": "execute_result"
    }
   ],
   "source": [
    "query = '''\n",
    "        WITH x AS (\n",
    "            SELECT book_id, \n",
    "                AVG(rating) AS avg_rating,\n",
    "                COUNT(book_id) AS count_review\n",
    "            FROM ratings\n",
    "            GROUP BY book_id\n",
    "            ORDER BY count_review DESC)\n",
    "        SELECT  a.author,\n",
    "                AVG(x.avg_rating) AS avg_rating \n",
    "        FROM books as b\n",
    "        LEFT OUTER JOIN authors AS a ON b.author_id=a.author_id\n",
    "        LEFT OUTER JOIN x AS x ON x.book_id=b.book_id\n",
    "        WHERE count_review > 50\n",
    "        GROUP BY a.author\n",
    "        ORDER BY avg_rating DESC\n",
    "        LIMIT 5\n",
    "                \n",
    "    '''\n",
    "pd.io.sql.read_sql(query, con = engine) "
   ]
  },
  {
   "cell_type": "markdown",
   "metadata": {},
   "source": [
    "- Аавтор с самой высокой средней оценкой книг - J.K. Rowling/Mary GrandPré - 4.28. Тот автор, чьи книги определенно должны быть в приложении. "
   ]
  },
  {
   "cell_type": "markdown",
   "metadata": {},
   "source": [
    "## Задача 5"
   ]
  },
  {
   "cell_type": "markdown",
   "metadata": {},
   "source": [
    "**Посчитать среднее количество обзоров от пользователей, которые поставили больше 50 оценок**"
   ]
  },
  {
   "cell_type": "code",
   "execution_count": 11,
   "metadata": {},
   "outputs": [
    {
     "data": {
      "text/html": [
       "<div>\n",
       "<style scoped>\n",
       "    .dataframe tbody tr th:only-of-type {\n",
       "        vertical-align: middle;\n",
       "    }\n",
       "\n",
       "    .dataframe tbody tr th {\n",
       "        vertical-align: top;\n",
       "    }\n",
       "\n",
       "    .dataframe thead th {\n",
       "        text-align: right;\n",
       "    }\n",
       "</style>\n",
       "<table border=\"1\" class=\"dataframe\">\n",
       "  <thead>\n",
       "    <tr style=\"text-align: right;\">\n",
       "      <th></th>\n",
       "      <th>round</th>\n",
       "    </tr>\n",
       "  </thead>\n",
       "  <tbody>\n",
       "    <tr>\n",
       "      <th>0</th>\n",
       "      <td>24.3</td>\n",
       "    </tr>\n",
       "  </tbody>\n",
       "</table>\n",
       "</div>"
      ],
      "text/plain": [
       "   round\n",
       "0   24.3"
      ]
     },
     "execution_count": 11,
     "metadata": {},
     "output_type": "execute_result"
    }
   ],
   "source": [
    "query = '''\n",
    "        WITH \n",
    "        data AS (SELECT username, \n",
    "                             COUNT(review_id) AS count_review\n",
    "                        FROM reviews\n",
    "                        GROUP BY username),\n",
    "        rat AS (SELECT username,\n",
    "                            COUNT(rating_id) AS count_rat\n",
    "                     FROM ratings\n",
    "                     GROUP BY username)\n",
    "                     \n",
    "        SELECT ROUND(AVG(d.count_review), 1)\n",
    "        FROM data AS d\n",
    "        LEFT OUTER JOIN rat AS r ON d.username = r.username\n",
    "        WHERE r.count_rat > 50\n",
    "        \n",
    "    '''\n",
    "pd.io.sql.read_sql(query, con = engine) "
   ]
  },
  {
   "cell_type": "markdown",
   "metadata": {},
   "source": [
    "- Cреднее количество обзоров от пользователей, которые поставили больше 50 оценок - 24,3"
   ]
  },
  {
   "cell_type": "markdown",
   "metadata": {},
   "source": [
    "## Вывод"
   ]
  },
  {
   "cell_type": "markdown",
   "metadata": {},
   "source": [
    "- БД проанализированна. \n",
    "- Здания выполнены.\n",
    "\n",
    "В ходе выполнения задания с целья получения ценностного предложения для нового приложения, получилась следущая информация:\n",
    "- 819 книг вышло после 1 января 2000 года\n",
    "- Возможно посмотреть средний балл за книгу и выбрать те книги с наибольшим баллом, которые точно должны попасть в приложение, благодаря новой сформированной таблице\n",
    "- Penguin Books выпустили больше всего книг - 42. То издательство, с которым точно нужно сотрудничать\n",
    "- Автор с самой высокой средней оценкой книг - J.K. Rowling/Mary GrandPré - 4.28. Тот автор, чьи книги определенно должны быть в приложении.\n",
    "- Cреднее количество обзоров от пользователей, которые поставили больше 50 оценок - 24,3"
   ]
  }
 ],
 "metadata": {
  "ExecuteTimeLog": [
   {
    "duration": 5103,
    "start_time": "2022-11-02T16:42:08.260Z"
   },
   {
    "duration": 76,
    "start_time": "2022-11-02T16:42:32.095Z"
   },
   {
    "duration": 311,
    "start_time": "2022-11-02T16:45:41.492Z"
   },
   {
    "duration": 92,
    "start_time": "2022-11-02T16:45:48.630Z"
   },
   {
    "duration": 67,
    "start_time": "2022-11-02T16:46:11.106Z"
   },
   {
    "duration": 83,
    "start_time": "2022-11-02T16:50:57.794Z"
   },
   {
    "duration": 68,
    "start_time": "2022-11-02T16:53:28.406Z"
   },
   {
    "duration": 67,
    "start_time": "2022-11-02T16:55:39.839Z"
   },
   {
    "duration": 70,
    "start_time": "2022-11-02T16:56:55.554Z"
   },
   {
    "duration": 136,
    "start_time": "2022-11-02T17:12:32.640Z"
   },
   {
    "duration": 132,
    "start_time": "2022-11-02T17:12:57.240Z"
   },
   {
    "duration": 69,
    "start_time": "2022-11-02T17:17:38.286Z"
   },
   {
    "duration": 121,
    "start_time": "2022-11-02T17:24:24.865Z"
   },
   {
    "duration": 117,
    "start_time": "2022-11-02T17:24:57.257Z"
   },
   {
    "duration": 104,
    "start_time": "2022-11-02T17:25:16.848Z"
   },
   {
    "duration": 94,
    "start_time": "2022-11-02T17:26:03.483Z"
   },
   {
    "duration": 165,
    "start_time": "2022-11-02T17:26:52.740Z"
   },
   {
    "duration": 126,
    "start_time": "2022-11-02T17:27:06.556Z"
   },
   {
    "duration": 80,
    "start_time": "2022-11-02T17:28:27.861Z"
   },
   {
    "duration": 84,
    "start_time": "2022-11-02T17:29:46.533Z"
   },
   {
    "duration": 126,
    "start_time": "2022-11-02T17:30:49.725Z"
   },
   {
    "duration": 80,
    "start_time": "2022-11-02T17:30:56.370Z"
   },
   {
    "duration": 87,
    "start_time": "2022-11-02T17:39:12.593Z"
   },
   {
    "duration": 97,
    "start_time": "2022-11-02T17:39:44.208Z"
   },
   {
    "duration": 113,
    "start_time": "2022-11-02T17:40:59.685Z"
   },
   {
    "duration": 67,
    "start_time": "2022-11-02T17:41:13.196Z"
   },
   {
    "duration": 66,
    "start_time": "2022-11-02T17:41:43.032Z"
   },
   {
    "duration": 67,
    "start_time": "2022-11-02T17:41:47.710Z"
   },
   {
    "duration": 70,
    "start_time": "2022-11-02T17:42:09.984Z"
   },
   {
    "duration": 76,
    "start_time": "2022-11-02T17:42:19.043Z"
   },
   {
    "duration": 115,
    "start_time": "2022-11-02T17:44:19.284Z"
   },
   {
    "duration": 103,
    "start_time": "2022-11-02T17:44:30.637Z"
   },
   {
    "duration": 89,
    "start_time": "2022-11-02T17:44:36.134Z"
   },
   {
    "duration": 90,
    "start_time": "2022-11-02T17:44:59.186Z"
   },
   {
    "duration": 198,
    "start_time": "2022-11-02T17:46:04.960Z"
   },
   {
    "duration": 132,
    "start_time": "2022-11-02T17:46:16.392Z"
   },
   {
    "duration": 128,
    "start_time": "2022-11-02T17:46:23.544Z"
   },
   {
    "duration": 119,
    "start_time": "2022-11-02T17:46:34.748Z"
   },
   {
    "duration": 118,
    "start_time": "2022-11-02T17:47:10.302Z"
   },
   {
    "duration": 82,
    "start_time": "2022-11-02T17:47:18.593Z"
   },
   {
    "duration": 122,
    "start_time": "2022-11-02T17:48:52.468Z"
   },
   {
    "duration": 145,
    "start_time": "2022-11-02T17:49:03.545Z"
   },
   {
    "duration": 116,
    "start_time": "2022-11-02T17:49:22.024Z"
   },
   {
    "duration": 155,
    "start_time": "2022-11-02T17:56:49.476Z"
   },
   {
    "duration": 91,
    "start_time": "2022-11-02T17:57:32.326Z"
   },
   {
    "duration": 70,
    "start_time": "2022-11-02T17:58:07.697Z"
   },
   {
    "duration": 124,
    "start_time": "2022-11-02T17:58:31.846Z"
   },
   {
    "duration": 111,
    "start_time": "2022-11-02T18:02:20.113Z"
   },
   {
    "duration": 146,
    "start_time": "2022-11-02T18:02:46.159Z"
   },
   {
    "duration": 72,
    "start_time": "2022-11-02T18:04:04.001Z"
   },
   {
    "duration": 67,
    "start_time": "2022-11-02T18:05:41.925Z"
   },
   {
    "duration": 162,
    "start_time": "2022-11-02T18:05:49.327Z"
   },
   {
    "duration": 70,
    "start_time": "2022-11-02T18:06:01.764Z"
   },
   {
    "duration": 92,
    "start_time": "2022-11-02T18:09:30.021Z"
   },
   {
    "duration": 85,
    "start_time": "2022-11-02T18:09:44.051Z"
   },
   {
    "duration": 90,
    "start_time": "2022-11-02T18:09:49.379Z"
   },
   {
    "duration": 92,
    "start_time": "2022-11-02T18:09:57.496Z"
   },
   {
    "duration": 6403,
    "start_time": "2022-11-03T07:35:18.974Z"
   },
   {
    "duration": 255,
    "start_time": "2022-11-03T07:35:25.380Z"
   },
   {
    "duration": 72,
    "start_time": "2022-11-03T07:35:25.636Z"
   },
   {
    "duration": 76,
    "start_time": "2022-11-03T07:35:25.709Z"
   },
   {
    "duration": 73,
    "start_time": "2022-11-03T07:35:25.787Z"
   },
   {
    "duration": 73,
    "start_time": "2022-11-03T07:35:25.861Z"
   },
   {
    "duration": 72,
    "start_time": "2022-11-03T07:35:25.936Z"
   },
   {
    "duration": 96,
    "start_time": "2022-11-03T07:35:26.009Z"
   },
   {
    "duration": 74,
    "start_time": "2022-11-03T07:35:26.107Z"
   },
   {
    "duration": 77,
    "start_time": "2022-11-03T07:35:26.183Z"
   },
   {
    "duration": 74,
    "start_time": "2022-11-03T07:35:26.261Z"
   },
   {
    "duration": 5136,
    "start_time": "2022-11-04T11:56:32.523Z"
   },
   {
    "duration": 250,
    "start_time": "2022-11-04T11:56:37.661Z"
   },
   {
    "duration": 74,
    "start_time": "2022-11-04T11:56:37.912Z"
   },
   {
    "duration": 74,
    "start_time": "2022-11-04T11:56:37.988Z"
   },
   {
    "duration": 71,
    "start_time": "2022-11-04T11:56:38.065Z"
   },
   {
    "duration": 74,
    "start_time": "2022-11-04T11:56:38.138Z"
   },
   {
    "duration": 72,
    "start_time": "2022-11-04T11:56:38.213Z"
   },
   {
    "duration": 90,
    "start_time": "2022-11-04T11:56:38.286Z"
   },
   {
    "duration": 74,
    "start_time": "2022-11-04T11:56:38.378Z"
   },
   {
    "duration": 76,
    "start_time": "2022-11-04T11:56:38.454Z"
   },
   {
    "duration": 75,
    "start_time": "2022-11-04T11:56:38.533Z"
   },
   {
    "duration": 75,
    "start_time": "2022-11-04T11:57:04.433Z"
   },
   {
    "duration": 252,
    "start_time": "2022-11-04T11:58:14.280Z"
   },
   {
    "duration": 79,
    "start_time": "2022-11-04T11:58:25.348Z"
   },
   {
    "duration": 79,
    "start_time": "2022-11-04T11:58:42.307Z"
   },
   {
    "duration": 73,
    "start_time": "2022-11-04T11:58:59.599Z"
   },
   {
    "duration": 76,
    "start_time": "2022-11-04T11:59:18.896Z"
   },
   {
    "duration": 71,
    "start_time": "2022-11-04T11:59:35.055Z"
   },
   {
    "duration": 72,
    "start_time": "2022-11-04T12:00:21.558Z"
   },
   {
    "duration": 166,
    "start_time": "2022-11-04T12:06:24.954Z"
   },
   {
    "duration": 120,
    "start_time": "2022-11-04T12:06:30.038Z"
   },
   {
    "duration": 223,
    "start_time": "2022-11-04T12:06:47.336Z"
   },
   {
    "duration": 141,
    "start_time": "2022-11-04T12:07:26.050Z"
   },
   {
    "duration": 137,
    "start_time": "2022-11-04T12:07:29.749Z"
   },
   {
    "duration": 136,
    "start_time": "2022-11-04T12:07:43.050Z"
   },
   {
    "duration": 100,
    "start_time": "2022-11-04T12:08:13.086Z"
   },
   {
    "duration": 105,
    "start_time": "2022-11-04T12:08:46.170Z"
   },
   {
    "duration": 82,
    "start_time": "2022-11-04T12:09:27.361Z"
   },
   {
    "duration": 73,
    "start_time": "2022-11-04T12:11:12.194Z"
   },
   {
    "duration": 79,
    "start_time": "2022-11-04T12:13:14.866Z"
   },
   {
    "duration": 76,
    "start_time": "2022-11-04T12:16:54.469Z"
   },
   {
    "duration": 97,
    "start_time": "2022-11-04T12:17:16.324Z"
   },
   {
    "duration": 136,
    "start_time": "2022-11-04T12:18:44.461Z"
   },
   {
    "duration": 81,
    "start_time": "2022-11-04T12:18:55.081Z"
   },
   {
    "duration": 75,
    "start_time": "2022-11-04T12:21:30.677Z"
   },
   {
    "duration": 129,
    "start_time": "2022-11-04T12:24:53.888Z"
   },
   {
    "duration": 134,
    "start_time": "2022-11-04T12:25:10.108Z"
   },
   {
    "duration": 165,
    "start_time": "2022-11-04T12:25:29.931Z"
   },
   {
    "duration": 136,
    "start_time": "2022-11-04T12:25:37.014Z"
   },
   {
    "duration": 139,
    "start_time": "2022-11-04T12:26:15.398Z"
   },
   {
    "duration": 180,
    "start_time": "2022-11-04T12:26:23.077Z"
   },
   {
    "duration": 126,
    "start_time": "2022-11-04T12:26:55.963Z"
   },
   {
    "duration": 120,
    "start_time": "2022-11-04T12:27:05.748Z"
   },
   {
    "duration": 75,
    "start_time": "2022-11-04T12:27:23.932Z"
   },
   {
    "duration": 135,
    "start_time": "2022-11-04T12:29:37.473Z"
   },
   {
    "duration": 84,
    "start_time": "2022-11-04T12:30:17.902Z"
   },
   {
    "duration": 5116,
    "start_time": "2022-11-04T12:32:23.790Z"
   },
   {
    "duration": 247,
    "start_time": "2022-11-04T12:32:28.909Z"
   },
   {
    "duration": 76,
    "start_time": "2022-11-04T12:32:29.158Z"
   },
   {
    "duration": 73,
    "start_time": "2022-11-04T12:32:29.235Z"
   },
   {
    "duration": 71,
    "start_time": "2022-11-04T12:32:29.311Z"
   },
   {
    "duration": 73,
    "start_time": "2022-11-04T12:32:29.383Z"
   },
   {
    "duration": 71,
    "start_time": "2022-11-04T12:32:29.458Z"
   },
   {
    "duration": 84,
    "start_time": "2022-11-04T12:32:29.531Z"
   },
   {
    "duration": 73,
    "start_time": "2022-11-04T12:32:29.617Z"
   },
   {
    "duration": 77,
    "start_time": "2022-11-04T12:32:29.692Z"
   },
   {
    "duration": 74,
    "start_time": "2022-11-04T12:32:29.771Z"
   },
   {
    "duration": 5981,
    "start_time": "2022-11-04T13:53:19.771Z"
   },
   {
    "duration": 279,
    "start_time": "2022-11-04T13:53:25.754Z"
   },
   {
    "duration": 84,
    "start_time": "2022-11-04T13:53:26.035Z"
   },
   {
    "duration": 76,
    "start_time": "2022-11-04T13:53:26.121Z"
   },
   {
    "duration": 81,
    "start_time": "2022-11-04T13:53:26.199Z"
   },
   {
    "duration": 77,
    "start_time": "2022-11-04T13:53:26.281Z"
   },
   {
    "duration": 76,
    "start_time": "2022-11-04T13:53:26.359Z"
   },
   {
    "duration": 91,
    "start_time": "2022-11-04T13:53:26.437Z"
   },
   {
    "duration": 164,
    "start_time": "2022-11-04T13:53:26.530Z"
   },
   {
    "duration": 77,
    "start_time": "2022-11-04T13:53:26.696Z"
   },
   {
    "duration": 76,
    "start_time": "2022-11-04T13:53:26.774Z"
   },
   {
    "duration": 195,
    "start_time": "2022-11-04T14:01:20.071Z"
   },
   {
    "duration": 5577,
    "start_time": "2022-11-04T14:01:24.929Z"
   },
   {
    "duration": 261,
    "start_time": "2022-11-04T14:01:30.507Z"
   },
   {
    "duration": 73,
    "start_time": "2022-11-04T14:01:30.770Z"
   },
   {
    "duration": 73,
    "start_time": "2022-11-04T14:01:30.845Z"
   },
   {
    "duration": 74,
    "start_time": "2022-11-04T14:01:30.922Z"
   },
   {
    "duration": 75,
    "start_time": "2022-11-04T14:01:30.997Z"
   },
   {
    "duration": 74,
    "start_time": "2022-11-04T14:01:31.074Z"
   },
   {
    "duration": 85,
    "start_time": "2022-11-04T14:01:31.150Z"
   },
   {
    "duration": 74,
    "start_time": "2022-11-04T14:01:31.236Z"
   },
   {
    "duration": 215,
    "start_time": "2022-11-04T14:01:31.312Z"
   },
   {
    "duration": 0,
    "start_time": "2022-11-04T14:01:31.528Z"
   },
   {
    "duration": 134,
    "start_time": "2022-11-04T14:03:24.839Z"
   },
   {
    "duration": 140,
    "start_time": "2022-11-04T14:03:52.606Z"
   },
   {
    "duration": 77,
    "start_time": "2022-11-04T14:04:14.992Z"
   },
   {
    "duration": 74,
    "start_time": "2022-11-04T14:05:22.642Z"
   },
   {
    "duration": 130,
    "start_time": "2022-11-04T14:05:54.093Z"
   },
   {
    "duration": 73,
    "start_time": "2022-11-04T14:06:09.702Z"
   },
   {
    "duration": 82,
    "start_time": "2022-11-04T14:06:14.854Z"
   },
   {
    "duration": 87,
    "start_time": "2022-11-04T14:07:50.501Z"
   },
   {
    "duration": 82,
    "start_time": "2022-11-04T14:07:58.601Z"
   },
   {
    "duration": 126,
    "start_time": "2022-11-04T14:09:49.423Z"
   },
   {
    "duration": 72,
    "start_time": "2022-11-04T14:09:59.499Z"
   },
   {
    "duration": 83,
    "start_time": "2022-11-04T14:10:23.108Z"
   },
   {
    "duration": 124,
    "start_time": "2022-11-04T14:10:40.039Z"
   },
   {
    "duration": 89,
    "start_time": "2022-11-04T14:10:48.659Z"
   },
   {
    "duration": 93,
    "start_time": "2022-11-04T14:11:00.835Z"
   },
   {
    "duration": 83,
    "start_time": "2022-11-04T14:11:32.663Z"
   },
   {
    "duration": 92,
    "start_time": "2022-11-04T14:12:03.939Z"
   },
   {
    "duration": 142,
    "start_time": "2022-11-04T14:12:16.406Z"
   },
   {
    "duration": 82,
    "start_time": "2022-11-04T14:12:46.866Z"
   },
   {
    "duration": 88,
    "start_time": "2022-11-04T14:13:22.138Z"
   },
   {
    "duration": 82,
    "start_time": "2022-11-04T14:13:26.721Z"
   },
   {
    "duration": 74,
    "start_time": "2022-11-04T14:14:31.130Z"
   },
   {
    "duration": 73,
    "start_time": "2022-11-04T14:14:47.927Z"
   },
   {
    "duration": 129,
    "start_time": "2022-11-04T14:16:34.706Z"
   },
   {
    "duration": 135,
    "start_time": "2022-11-04T14:16:42.698Z"
   },
   {
    "duration": 121,
    "start_time": "2022-11-04T14:16:45.671Z"
   },
   {
    "duration": 132,
    "start_time": "2022-11-04T14:17:12.538Z"
   },
   {
    "duration": 82,
    "start_time": "2022-11-04T14:17:23.326Z"
   },
   {
    "duration": 150,
    "start_time": "2022-11-04T14:17:46.999Z"
   },
   {
    "duration": 134,
    "start_time": "2022-11-04T14:17:51.566Z"
   },
   {
    "duration": 125,
    "start_time": "2022-11-04T14:21:50.082Z"
   },
   {
    "duration": 132,
    "start_time": "2022-11-04T14:21:59.511Z"
   },
   {
    "duration": 78,
    "start_time": "2022-11-04T14:22:21.220Z"
   },
   {
    "duration": 133,
    "start_time": "2022-11-04T14:23:08.782Z"
   },
   {
    "duration": 82,
    "start_time": "2022-11-04T14:23:23.336Z"
   },
   {
    "duration": 78,
    "start_time": "2022-11-04T14:23:30.751Z"
   },
   {
    "duration": 5238,
    "start_time": "2022-11-04T14:28:20.520Z"
   },
   {
    "duration": 240,
    "start_time": "2022-11-04T14:28:25.760Z"
   },
   {
    "duration": 73,
    "start_time": "2022-11-04T14:28:26.001Z"
   },
   {
    "duration": 71,
    "start_time": "2022-11-04T14:28:26.075Z"
   },
   {
    "duration": 70,
    "start_time": "2022-11-04T14:28:26.148Z"
   },
   {
    "duration": 71,
    "start_time": "2022-11-04T14:28:26.220Z"
   },
   {
    "duration": 70,
    "start_time": "2022-11-04T14:28:26.293Z"
   },
   {
    "duration": 75,
    "start_time": "2022-11-04T14:28:26.364Z"
   },
   {
    "duration": 72,
    "start_time": "2022-11-04T14:28:26.441Z"
   },
   {
    "duration": 74,
    "start_time": "2022-11-04T14:28:26.515Z"
   },
   {
    "duration": 74,
    "start_time": "2022-11-04T14:28:26.590Z"
   }
  ],
  "kernelspec": {
   "display_name": "Python 3 (ipykernel)",
   "language": "python",
   "name": "python3"
  },
  "language_info": {
   "codemirror_mode": {
    "name": "ipython",
    "version": 3
   },
   "file_extension": ".py",
   "mimetype": "text/x-python",
   "name": "python",
   "nbconvert_exporter": "python",
   "pygments_lexer": "ipython3",
   "version": "3.9.12"
  },
  "toc": {
   "base_numbering": 1,
   "nav_menu": {},
   "number_sections": true,
   "sideBar": true,
   "skip_h1_title": true,
   "title_cell": "Table of Contents",
   "title_sidebar": "Contents",
   "toc_cell": false,
   "toc_position": {},
   "toc_section_display": true,
   "toc_window_display": false
  }
 },
 "nbformat": 4,
 "nbformat_minor": 2
}
