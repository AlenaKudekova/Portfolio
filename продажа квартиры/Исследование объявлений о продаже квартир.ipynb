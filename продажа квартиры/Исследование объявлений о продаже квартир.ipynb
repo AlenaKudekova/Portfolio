{
 "cells": [
  {
   "cell_type": "markdown",
   "metadata": {
    "toc": true
   },
   "source": [
    "<h1>Содержание<span class=\"tocSkip\"></span></h1>\n",
    "<div class=\"toc\"><ul class=\"toc-item\"><li><span><a href=\"#Изучение-данных-из-файла\" data-toc-modified-id=\"Изучение-данных-из-файла-1\"><span class=\"toc-item-num\">1&nbsp;&nbsp;</span>Изучение данных из файла</a></span><ul class=\"toc-item\"><li><span><a href=\"#Вывод\" data-toc-modified-id=\"Вывод-1.1\"><span class=\"toc-item-num\">1.1&nbsp;&nbsp;</span>Вывод</a></span></li></ul></li><li><span><a href=\"#Предобработка-данных\" data-toc-modified-id=\"Предобработка-данных-2\"><span class=\"toc-item-num\">2&nbsp;&nbsp;</span>Предобработка данных</a></span></li><li><span><a href=\"#Расчёты-и-добавление-результатов-в-таблицу\" data-toc-modified-id=\"Расчёты-и-добавление-результатов-в-таблицу-3\"><span class=\"toc-item-num\">3&nbsp;&nbsp;</span>Расчёты и добавление результатов в таблицу</a></span></li><li><span><a href=\"#Исследовательский-анализ-данных\" data-toc-modified-id=\"Исследовательский-анализ-данных-4\"><span class=\"toc-item-num\">4&nbsp;&nbsp;</span>Исследовательский анализ данных</a></span></li><li><span><a href=\"#Общий-вывод\" data-toc-modified-id=\"Общий-вывод-5\"><span class=\"toc-item-num\">5&nbsp;&nbsp;</span>Общий вывод</a></span></li><li><span><a href=\"#Чек-лист-готовности-проекта\" data-toc-modified-id=\"Чек-лист-готовности-проекта-6\"><span class=\"toc-item-num\">6&nbsp;&nbsp;</span>Чек-лист готовности проекта</a></span></li></ul></div>"
   ]
  },
  {
   "cell_type": "markdown",
   "metadata": {},
   "source": [
    "# Исследование объявлений о продаже квартир\n",
    "\n",
    "В вашем распоряжении данные сервиса Яндекc Недвижимость — архив объявлений о продаже квартир в Санкт-Петербурге и соседних населённых пунктах за несколько лет. Нужно научиться определять рыночную стоимость объектов недвижимости. Ваша задача — установить параметры. Это позволит построить автоматизированную систему: она отследит аномалии и мошенническую деятельность. \n",
    "\n",
    "По каждой квартире на продажу доступны два вида данных. Первые вписаны пользователем, вторые получены автоматически на основе картографических данных. Например, расстояние до центра, аэропорта, ближайшего парка и водоёма. "
   ]
  },
  {
   "cell_type": "markdown",
   "metadata": {},
   "source": [
    "## Изучение данных из файла"
   ]
  },
  {
   "cell_type": "code",
   "execution_count": 1,
   "metadata": {
    "scrolled": true
   },
   "outputs": [
    {
     "data": {
      "text/html": [
       "<div>\n",
       "<style scoped>\n",
       "    .dataframe tbody tr th:only-of-type {\n",
       "        vertical-align: middle;\n",
       "    }\n",
       "\n",
       "    .dataframe tbody tr th {\n",
       "        vertical-align: top;\n",
       "    }\n",
       "\n",
       "    .dataframe thead th {\n",
       "        text-align: right;\n",
       "    }\n",
       "</style>\n",
       "<table border=\"1\" class=\"dataframe\">\n",
       "  <thead>\n",
       "    <tr style=\"text-align: right;\">\n",
       "      <th></th>\n",
       "      <th>total_images</th>\n",
       "      <th>last_price</th>\n",
       "      <th>total_area</th>\n",
       "      <th>first_day_exposition</th>\n",
       "      <th>rooms</th>\n",
       "      <th>ceiling_height</th>\n",
       "      <th>floors_total</th>\n",
       "      <th>living_area</th>\n",
       "      <th>floor</th>\n",
       "      <th>is_apartment</th>\n",
       "      <th>...</th>\n",
       "      <th>kitchen_area</th>\n",
       "      <th>balcony</th>\n",
       "      <th>locality_name</th>\n",
       "      <th>airports_nearest</th>\n",
       "      <th>cityCenters_nearest</th>\n",
       "      <th>parks_around3000</th>\n",
       "      <th>parks_nearest</th>\n",
       "      <th>ponds_around3000</th>\n",
       "      <th>ponds_nearest</th>\n",
       "      <th>days_exposition</th>\n",
       "    </tr>\n",
       "  </thead>\n",
       "  <tbody>\n",
       "    <tr>\n",
       "      <th>0</th>\n",
       "      <td>20</td>\n",
       "      <td>13000000.0</td>\n",
       "      <td>108.0</td>\n",
       "      <td>2019-03-07T00:00:00</td>\n",
       "      <td>3</td>\n",
       "      <td>2.7</td>\n",
       "      <td>16.0</td>\n",
       "      <td>51.0</td>\n",
       "      <td>8</td>\n",
       "      <td>NaN</td>\n",
       "      <td>...</td>\n",
       "      <td>25.0</td>\n",
       "      <td>NaN</td>\n",
       "      <td>Санкт-Петербург</td>\n",
       "      <td>18863.0</td>\n",
       "      <td>16028.0</td>\n",
       "      <td>1.0</td>\n",
       "      <td>482.0</td>\n",
       "      <td>2.0</td>\n",
       "      <td>755.0</td>\n",
       "      <td>NaN</td>\n",
       "    </tr>\n",
       "    <tr>\n",
       "      <th>1</th>\n",
       "      <td>7</td>\n",
       "      <td>3350000.0</td>\n",
       "      <td>40.4</td>\n",
       "      <td>2018-12-04T00:00:00</td>\n",
       "      <td>1</td>\n",
       "      <td>NaN</td>\n",
       "      <td>11.0</td>\n",
       "      <td>18.6</td>\n",
       "      <td>1</td>\n",
       "      <td>NaN</td>\n",
       "      <td>...</td>\n",
       "      <td>11.0</td>\n",
       "      <td>2.0</td>\n",
       "      <td>посёлок Шушары</td>\n",
       "      <td>12817.0</td>\n",
       "      <td>18603.0</td>\n",
       "      <td>0.0</td>\n",
       "      <td>NaN</td>\n",
       "      <td>0.0</td>\n",
       "      <td>NaN</td>\n",
       "      <td>81.0</td>\n",
       "    </tr>\n",
       "    <tr>\n",
       "      <th>2</th>\n",
       "      <td>10</td>\n",
       "      <td>5196000.0</td>\n",
       "      <td>56.0</td>\n",
       "      <td>2015-08-20T00:00:00</td>\n",
       "      <td>2</td>\n",
       "      <td>NaN</td>\n",
       "      <td>5.0</td>\n",
       "      <td>34.3</td>\n",
       "      <td>4</td>\n",
       "      <td>NaN</td>\n",
       "      <td>...</td>\n",
       "      <td>8.3</td>\n",
       "      <td>0.0</td>\n",
       "      <td>Санкт-Петербург</td>\n",
       "      <td>21741.0</td>\n",
       "      <td>13933.0</td>\n",
       "      <td>1.0</td>\n",
       "      <td>90.0</td>\n",
       "      <td>2.0</td>\n",
       "      <td>574.0</td>\n",
       "      <td>558.0</td>\n",
       "    </tr>\n",
       "    <tr>\n",
       "      <th>3</th>\n",
       "      <td>0</td>\n",
       "      <td>64900000.0</td>\n",
       "      <td>159.0</td>\n",
       "      <td>2015-07-24T00:00:00</td>\n",
       "      <td>3</td>\n",
       "      <td>NaN</td>\n",
       "      <td>14.0</td>\n",
       "      <td>NaN</td>\n",
       "      <td>9</td>\n",
       "      <td>NaN</td>\n",
       "      <td>...</td>\n",
       "      <td>NaN</td>\n",
       "      <td>0.0</td>\n",
       "      <td>Санкт-Петербург</td>\n",
       "      <td>28098.0</td>\n",
       "      <td>6800.0</td>\n",
       "      <td>2.0</td>\n",
       "      <td>84.0</td>\n",
       "      <td>3.0</td>\n",
       "      <td>234.0</td>\n",
       "      <td>424.0</td>\n",
       "    </tr>\n",
       "    <tr>\n",
       "      <th>4</th>\n",
       "      <td>2</td>\n",
       "      <td>10000000.0</td>\n",
       "      <td>100.0</td>\n",
       "      <td>2018-06-19T00:00:00</td>\n",
       "      <td>2</td>\n",
       "      <td>3.03</td>\n",
       "      <td>14.0</td>\n",
       "      <td>32.0</td>\n",
       "      <td>13</td>\n",
       "      <td>NaN</td>\n",
       "      <td>...</td>\n",
       "      <td>41.0</td>\n",
       "      <td>NaN</td>\n",
       "      <td>Санкт-Петербург</td>\n",
       "      <td>31856.0</td>\n",
       "      <td>8098.0</td>\n",
       "      <td>2.0</td>\n",
       "      <td>112.0</td>\n",
       "      <td>1.0</td>\n",
       "      <td>48.0</td>\n",
       "      <td>121.0</td>\n",
       "    </tr>\n",
       "  </tbody>\n",
       "</table>\n",
       "<p>5 rows × 22 columns</p>\n",
       "</div>"
      ],
      "text/plain": [
       "   total_images  last_price total_area first_day_exposition  rooms  \\\n",
       "0            20  13000000.0      108.0  2019-03-07T00:00:00      3   \n",
       "1             7   3350000.0       40.4  2018-12-04T00:00:00      1   \n",
       "2            10   5196000.0       56.0  2015-08-20T00:00:00      2   \n",
       "3             0  64900000.0      159.0  2015-07-24T00:00:00      3   \n",
       "4             2  10000000.0      100.0  2018-06-19T00:00:00      2   \n",
       "\n",
       "  ceiling_height floors_total living_area  floor is_apartment  ...  \\\n",
       "0            2.7         16.0        51.0      8          NaN  ...   \n",
       "1            NaN         11.0        18.6      1          NaN  ...   \n",
       "2            NaN          5.0        34.3      4          NaN  ...   \n",
       "3            NaN         14.0         NaN      9          NaN  ...   \n",
       "4           3.03         14.0        32.0     13          NaN  ...   \n",
       "\n",
       "   kitchen_area  balcony    locality_name airports_nearest  \\\n",
       "0          25.0      NaN  Санкт-Петербург          18863.0   \n",
       "1          11.0      2.0   посёлок Шушары          12817.0   \n",
       "2           8.3      0.0  Санкт-Петербург          21741.0   \n",
       "3           NaN      0.0  Санкт-Петербург          28098.0   \n",
       "4          41.0      NaN  Санкт-Петербург          31856.0   \n",
       "\n",
       "  cityCenters_nearest parks_around3000 parks_nearest ponds_around3000  \\\n",
       "0             16028.0              1.0         482.0              2.0   \n",
       "1             18603.0              0.0           NaN              0.0   \n",
       "2             13933.0              1.0          90.0              2.0   \n",
       "3              6800.0              2.0          84.0              3.0   \n",
       "4              8098.0              2.0         112.0              1.0   \n",
       "\n",
       "  ponds_nearest days_exposition  \n",
       "0         755.0             NaN  \n",
       "1           NaN            81.0  \n",
       "2         574.0           558.0  \n",
       "3         234.0           424.0  \n",
       "4          48.0           121.0  \n",
       "\n",
       "[5 rows x 22 columns]"
      ]
     },
     "execution_count": 1,
     "metadata": {},
     "output_type": "execute_result"
    }
   ],
   "source": [
    "import pandas as pd\n",
    "data = pd.read_csv('/datasets/real_estate_data.csv', sep='\\t', decimal=',')\n",
    "data.head()"
   ]
  },
  {
   "cell_type": "code",
   "execution_count": 2,
   "metadata": {},
   "outputs": [
    {
     "name": "stdout",
     "output_type": "stream",
     "text": [
      "<class 'pandas.core.frame.DataFrame'>\n",
      "RangeIndex: 23699 entries, 0 to 23698\n",
      "Data columns (total 22 columns):\n",
      " #   Column                Non-Null Count  Dtype \n",
      "---  ------                --------------  ----- \n",
      " 0   total_images          23699 non-null  int64 \n",
      " 1   last_price            23699 non-null  object\n",
      " 2   total_area            23699 non-null  object\n",
      " 3   first_day_exposition  23699 non-null  object\n",
      " 4   rooms                 23699 non-null  int64 \n",
      " 5   ceiling_height        14504 non-null  object\n",
      " 6   floors_total          23613 non-null  object\n",
      " 7   living_area           21796 non-null  object\n",
      " 8   floor                 23699 non-null  int64 \n",
      " 9   is_apartment          2775 non-null   object\n",
      " 10  studio                23699 non-null  bool  \n",
      " 11  open_plan             23699 non-null  bool  \n",
      " 12  kitchen_area          21421 non-null  object\n",
      " 13  balcony               12180 non-null  object\n",
      " 14  locality_name         23650 non-null  object\n",
      " 15  airports_nearest      18157 non-null  object\n",
      " 16  cityCenters_nearest   18180 non-null  object\n",
      " 17  parks_around3000      18181 non-null  object\n",
      " 18  parks_nearest         8079 non-null   object\n",
      " 19  ponds_around3000      18181 non-null  object\n",
      " 20  ponds_nearest         9110 non-null   object\n",
      " 21  days_exposition       20518 non-null  object\n",
      "dtypes: bool(2), int64(3), object(17)\n",
      "memory usage: 3.7+ MB\n"
     ]
    }
   ],
   "source": [
    "data.info()"
   ]
  },
  {
   "cell_type": "markdown",
   "metadata": {},
   "source": [
    "### Вывод"
   ]
  },
  {
   "cell_type": "markdown",
   "metadata": {},
   "source": [
    "Первоначальный вид файла оставлял желать лучшего, поэтому пришлось применить дополнительные параметры `sep` и `decimal` , для того, чтобы создать красивую и понятную таблицу.\n",
    "\n",
    "Методом `info()` получаем информацию о файле. У нас есть несколько типов данных (object, int64, bool). 22 колонки и 23699 строк. Встречаются пропуски.\n",
    "\n",
    "Названия колонок:\n",
    "* airports_nearest — расстояние до ближайшего аэропорта в метрах (м)\n",
    "* balcony — число балконов\n",
    "* ceiling_height — высота потолков (м)\n",
    "* cityCenters_nearest — расстояние до центра города (м)\n",
    "* days_exposition — сколько дней было размещено объявление (от публикации до снятия)\n",
    "* first_day_exposition — дата публикации\n",
    "* floor — этаж\n",
    "* floors_total — всего этажей в доме\n",
    "* is_apartment — апартаменты (булев тип)\n",
    "* kitchen_area — площадь кухни в квадратных метрах (м²)\n",
    "* last_price — цена на момент снятия с публикации\n",
    "* living_area — жилая площадь в квадратных метрах (м²)\n",
    "* locality_name — название населённого пункта\n",
    "* open_plan — свободная планировка (булев тип)\n",
    "* parks_around3000 — число парков в радиусе 3 км\n",
    "* parks_nearest — расстояние до ближайшего парка (м)\n",
    "* ponds_around3000 — число водоёмов в радиусе 3 км\n",
    "* ponds_nearest — расстояние до ближайшего водоёма (м)\n",
    "* rooms — число комнат\n",
    "* studio — квартира-студия (булев тип)\n",
    "* total_area — площадь квартиры в квадратных метрах (м²)\n",
    "* total_images — число фотографий квартиры в объявлении"
   ]
  },
  {
   "cell_type": "markdown",
   "metadata": {},
   "source": [
    "## Предобработка данных"
   ]
  },
  {
   "cell_type": "code",
   "execution_count": 3,
   "metadata": {},
   "outputs": [
    {
     "data": {
      "text/plain": [
       "total_images                0\n",
       "last_price                  0\n",
       "total_area                  0\n",
       "first_day_exposition        0\n",
       "rooms                       0\n",
       "ceiling_height           9195\n",
       "floors_total               86\n",
       "living_area              1903\n",
       "floor                       0\n",
       "is_apartment            20924\n",
       "studio                      0\n",
       "open_plan                   0\n",
       "kitchen_area             2278\n",
       "balcony                 11519\n",
       "locality_name              49\n",
       "airports_nearest         5542\n",
       "cityCenters_nearest      5519\n",
       "parks_around3000         5518\n",
       "parks_nearest           15620\n",
       "ponds_around3000         5518\n",
       "ponds_nearest           14589\n",
       "days_exposition          3181\n",
       "dtype: int64"
      ]
     },
     "execution_count": 3,
     "metadata": {},
     "output_type": "execute_result"
    }
   ],
   "source": [
    "#посмотрим количество пропусков\n",
    "data.isna().sum()"
   ]
  },
  {
   "cell_type": "markdown",
   "metadata": {},
   "source": [
    "Огромное количество пропущенных значений. \n",
    "\n",
    "Колонка `ceiling_height` - высота потолков. Заменить такое значение на 0 нельзя. Но мы можем применить одну хитрость. В среднем высота потолком в одном регионе (городе, поселке...) будет одинаковая, поэтому создадим функцию, назовем ее \"по региону\".\n",
    "\n",
    "`floors_total` - всего этажей в доме. Значение, которое не начто заменить. Применим функцию \"по региону\"\n",
    "\n",
    "`living_area` - жилая площадь. Тоже полностью не известное число. Применим функцию \"по региону\"\n",
    "\n",
    "`is_apartment` - апартаменты. Эта колонка состоит из булевых значений. Отсутствие значения может равняться False. Стоит проверить, какие значения есть в колонке.\n",
    "\n",
    "`kitchen_area` - площадь кухни. Отсутствие значенийзаменить невозможно. Применим функцию \"по региону\"\n",
    "\n",
    "`balcony` - число балконов. Отсутствие значений, скорее всего, говорит об отсутствии балконов впринципе. Можно заменить пропуски на 0.\n",
    "\n",
    "`locality_name` - название населенного пункта. Заменить не на что. Такие пропуски возможно из-за человеческого фактора, то есть невнимательлности при заполнении данных. Их число не велико, удалим эти строки. \n",
    "\n",
    "`airports_nearest` - расстояние до ближайшего аэропорта. Применим функцию \"по региону\"\n",
    "\n",
    "`cityCenters_nearest` - расстояние до центра города. Аналогично расстоянию до аэропорта. \n",
    "\n",
    "`parks_around3000` - число парков в радиусе 3км. Применим функцию \"по региону\"\n",
    "\n",
    "`parks_nearest` - расстояние до ближайшего парка. Здесь можно поступить как и с прошлыми расстояниями.\n",
    "\n",
    "`ponds_around3000` - число водоемов. Аналогично паркам.\n",
    "\n",
    "`ponds_nearest` - расстояние до водоемов. Все так же, как и с другим расстояниями. \n",
    "\n",
    "`days_exposition` - дней размещения объявления. Возможно пропуски появились из-за новизны объявлений. Можно заменить пропуски на 0, но думаю чуть позжедетально изучим этот столбец. "
   ]
  },
  {
   "cell_type": "code",
   "execution_count": 4,
   "metadata": {},
   "outputs": [
    {
     "data": {
      "text/plain": [
       "total_images            0.000000\n",
       "last_price              0.000000\n",
       "total_area              0.000000\n",
       "first_day_exposition    0.000000\n",
       "rooms                   0.000000\n",
       "ceiling_height          0.387991\n",
       "floors_total            0.003629\n",
       "living_area             0.080299\n",
       "floor                   0.000000\n",
       "is_apartment            0.882906\n",
       "studio                  0.000000\n",
       "open_plan               0.000000\n",
       "kitchen_area            0.096122\n",
       "balcony                 0.486054\n",
       "locality_name           0.002068\n",
       "airports_nearest        0.233850\n",
       "cityCenters_nearest     0.232879\n",
       "parks_around3000        0.232837\n",
       "parks_nearest           0.659100\n",
       "ponds_around3000        0.232837\n",
       "ponds_nearest           0.615596\n",
       "days_exposition         0.134225\n",
       "dtype: float64"
      ]
     },
     "execution_count": 4,
     "metadata": {},
     "output_type": "execute_result"
    }
   ],
   "source": [
    "#посмотрим долюпропущенных значений\n",
    "data.isna().mean()"
   ]
  },
  {
   "cell_type": "code",
   "execution_count": 5,
   "metadata": {},
   "outputs": [
    {
     "data": {
      "text/plain": [
       "total_images                0\n",
       "last_price                  0\n",
       "total_area                  0\n",
       "first_day_exposition        0\n",
       "rooms                       0\n",
       "ceiling_height           9195\n",
       "floors_total               86\n",
       "living_area              1903\n",
       "floor                       0\n",
       "is_apartment            20924\n",
       "studio                      0\n",
       "open_plan                   0\n",
       "kitchen_area             2278\n",
       "balcony                     0\n",
       "locality_name              49\n",
       "airports_nearest         5542\n",
       "cityCenters_nearest      5519\n",
       "parks_around3000         5518\n",
       "parks_nearest           15620\n",
       "ponds_around3000         5518\n",
       "ponds_nearest           14589\n",
       "days_exposition          3181\n",
       "dtype: int64"
      ]
     },
     "execution_count": 5,
     "metadata": {},
     "output_type": "execute_result"
    }
   ],
   "source": [
    "#заменим значения на 0\n",
    "data['balcony'] = data['balcony'].fillna(0)\n",
    "\n",
    "#проверим пропуски теперь\n",
    "data.isna().sum()"
   ]
  },
  {
   "cell_type": "markdown",
   "metadata": {},
   "source": [
    "**is_apartment**"
   ]
  },
  {
   "cell_type": "code",
   "execution_count": 6,
   "metadata": {},
   "outputs": [
    {
     "data": {
      "text/plain": [
       "False    2725\n",
       "True       50\n",
       "Name: is_apartment, dtype: int64"
      ]
     },
     "metadata": {},
     "output_type": "display_data"
    },
    {
     "data": {
      "text/plain": [
       "array([nan, False, True], dtype=object)"
      ]
     },
     "execution_count": 6,
     "metadata": {},
     "output_type": "execute_result"
    }
   ],
   "source": [
    "#проверим колонку с аппартаментами\n",
    "display(data['is_apartment'].value_counts())\n",
    "\n",
    "data['is_apartment'].unique()"
   ]
  },
  {
   "cell_type": "markdown",
   "metadata": {},
   "source": [
    "Оказывается значения и True и False встречаются. Предлагаю nan заменить на False, чтобы можно было работать с колонкой. Но пропущенных значений очень много."
   ]
  },
  {
   "cell_type": "code",
   "execution_count": 7,
   "metadata": {},
   "outputs": [
    {
     "data": {
      "text/plain": [
       "False    23649\n",
       "True        50\n",
       "Name: is_apartment, dtype: int64"
      ]
     },
     "execution_count": 7,
     "metadata": {},
     "output_type": "execute_result"
    }
   ],
   "source": [
    "data['is_apartment'] = data['is_apartment'].fillna(False)\n",
    "data['is_apartment'].value_counts()"
   ]
  },
  {
   "cell_type": "markdown",
   "metadata": {},
   "source": [
    " **airports_nearest**"
   ]
  },
  {
   "cell_type": "code",
   "execution_count": 8,
   "metadata": {},
   "outputs": [
    {
     "data": {
      "text/plain": [
       "37434.0    61\n",
       "21928.0    32\n",
       "44870.0    30\n",
       "39946.0    30\n",
       "37407.0    27\n",
       "           ..\n",
       "41831.0     1\n",
       "49205.0     1\n",
       "35924.0     1\n",
       "33482.0     1\n",
       "22001.0     1\n",
       "Name: airports_nearest, Length: 8275, dtype: int64"
      ]
     },
     "execution_count": 8,
     "metadata": {},
     "output_type": "execute_result"
    }
   ],
   "source": [
    "#проверим колонку airports_nearest\n",
    "data['airports_nearest'].value_counts()"
   ]
  },
  {
   "cell_type": "markdown",
   "metadata": {},
   "source": [
    "Напомню, что расстояние считается в метрах. "
   ]
  },
  {
   "cell_type": "code",
   "execution_count": 9,
   "metadata": {},
   "outputs": [
    {
     "data": {
      "text/plain": [
       "37434.0    61\n",
       "21928.0    32\n",
       "39946.0    30\n",
       "44870.0    30\n",
       "18732.0    27\n",
       "           ..\n",
       "53478.0     1\n",
       "20335.0     1\n",
       "33699.0     1\n",
       "26945.0     1\n",
       "20875.0     1\n",
       "Name: airports_nearest, Length: 8275, dtype: int64"
      ]
     },
     "execution_count": 9,
     "metadata": {},
     "output_type": "execute_result"
    }
   ],
   "source": [
    "#заменим тип данных на числовой, так работать с данными будет легче\n",
    "data['airports_nearest'] = data['airports_nearest'].astype('str')\n",
    "data['airports_nearest'] = data['airports_nearest'].astype('float')\n",
    "data['airports_nearest'].value_counts()"
   ]
  },
  {
   "cell_type": "code",
   "execution_count": 10,
   "metadata": {},
   "outputs": [
    {
     "data": {
      "text/plain": [
       "37.434    61\n",
       "21.928    32\n",
       "39.946    30\n",
       "44.870    30\n",
       "37.407    27\n",
       "          ..\n",
       "25.808     1\n",
       "40.965     1\n",
       "16.559     1\n",
       "13.006     1\n",
       "0.000      1\n",
       "Name: airports_nearest, Length: 8275, dtype: int64"
      ]
     },
     "execution_count": 10,
     "metadata": {},
     "output_type": "execute_result"
    }
   ],
   "source": [
    "#теперь сократим количество цифр, переведем в километры, так нагляднее\n",
    "data['airports_nearest']/=1000\n",
    "data['airports_nearest'].value_counts()"
   ]
  },
  {
   "cell_type": "code",
   "execution_count": 11,
   "metadata": {},
   "outputs": [
    {
     "data": {
      "text/plain": [
       "5542"
      ]
     },
     "metadata": {},
     "output_type": "display_data"
    },
    {
     "data": {
      "text/plain": [
       "23.384952951601335"
      ]
     },
     "metadata": {},
     "output_type": "display_data"
    }
   ],
   "source": [
    "display(data['airports_nearest'].isna().sum())\n",
    "display(data['airports_nearest'].isna().mean()*100)"
   ]
  },
  {
   "cell_type": "markdown",
   "metadata": {},
   "source": [
    "Пропусков 5542, что составляет 23% от всех строк. Это большое количество пустых значений. Поэтому растояние до ближайшего аэропорта придется заполнять. \n",
    "\n",
    "Сделаем это с помощью одного способа. Сгруппируем таблицу по населенным пунктам, посчитаем в этих пунктах среднее расстояние до аэропорта и заполним этим числом пропуски."
   ]
  },
  {
   "cell_type": "code",
   "execution_count": 12,
   "metadata": {},
   "outputs": [
    {
     "data": {
      "text/plain": [
       "5394"
      ]
     },
     "execution_count": 12,
     "metadata": {},
     "output_type": "execute_result"
    }
   ],
   "source": [
    "for city in data['locality_name'].unique():\n",
    "    temp = data[data['locality_name'] == city]\n",
    "    agg = temp['airports_nearest'].mean()\n",
    "    data.loc[data['locality_name'] == city, 'airports_nearest'] = data[data['locality_name'] == city]['airports_nearest'].fillna(agg)\n",
    "    \n",
    "data['airports_nearest'].isna().sum()"
   ]
  },
  {
   "cell_type": "code",
   "execution_count": 13,
   "metadata": {},
   "outputs": [
    {
     "data": {
      "text/plain": [
       "84.869"
      ]
     },
     "metadata": {},
     "output_type": "display_data"
    },
    {
     "data": {
      "text/plain": [
       "0.0"
      ]
     },
     "metadata": {},
     "output_type": "display_data"
    },
    {
     "data": {
      "text/plain": [
       "26.852"
      ]
     },
     "metadata": {},
     "output_type": "display_data"
    },
    {
     "data": {
      "text/plain": [
       "28.869811211748228"
      ]
     },
     "metadata": {},
     "output_type": "display_data"
    }
   ],
   "source": [
    "display(data['airports_nearest'].max())\n",
    "display(data['airports_nearest'].min())\n",
    "display(data['airports_nearest'].median())\n",
    "display(data['airports_nearest'].mean())"
   ]
  },
  {
   "cell_type": "code",
   "execution_count": 14,
   "metadata": {},
   "outputs": [
    {
     "data": {
      "text/plain": [
       "0"
      ]
     },
     "execution_count": 14,
     "metadata": {},
     "output_type": "execute_result"
    }
   ],
   "source": [
    "#среднее и медиана почти равны, поэтому остальные пропуски заменим средним числом\n",
    "data['airports_nearest'] = data['airports_nearest'].fillna(28.8)\n",
    "data['airports_nearest'].isna().sum()"
   ]
  },
  {
   "cell_type": "markdown",
   "metadata": {},
   "source": [
    "**locality_name**"
   ]
  },
  {
   "cell_type": "code",
   "execution_count": 15,
   "metadata": {
    "scrolled": true
   },
   "outputs": [
    {
     "data": {
      "text/plain": [
       "Санкт-Петербург           15721\n",
       "посёлок Мурино              522\n",
       "посёлок Шушары              440\n",
       "Всеволожск                  398\n",
       "Пушкин                      369\n",
       "                          ...  \n",
       "поселок Гладкое               1\n",
       "деревня Шпаньково             1\n",
       "деревня Ялгино                1\n",
       "посёлок Плоское               1\n",
       "поселок Красносельское        1\n",
       "Name: locality_name, Length: 364, dtype: int64"
      ]
     },
     "execution_count": 15,
     "metadata": {},
     "output_type": "execute_result"
    }
   ],
   "source": [
    "#посмотрим столбец с названиями населеных пунктов\n",
    "data['locality_name'].value_counts()"
   ]
  },
  {
   "cell_type": "code",
   "execution_count": 16,
   "metadata": {},
   "outputs": [
    {
     "data": {
      "text/plain": [
       "365"
      ]
     },
     "execution_count": 16,
     "metadata": {},
     "output_type": "execute_result"
    }
   ],
   "source": [
    "len(data['locality_name'].unique())"
   ]
  },
  {
   "cell_type": "markdown",
   "metadata": {},
   "source": [
    "Чаще всего встречается Санкт-Петербург. Пропусков в этом столбце всего 49. уникальных значений - 365. Заменить пропуски ни на что мы не можем. Поэтому вместо пропусков напишем \"Неизвестно\"\n"
   ]
  },
  {
   "cell_type": "code",
   "execution_count": 17,
   "metadata": {
    "scrolled": true
   },
   "outputs": [
    {
     "data": {
      "text/plain": [
       "0"
      ]
     },
     "execution_count": 17,
     "metadata": {},
     "output_type": "execute_result"
    }
   ],
   "source": [
    "data['locality_name']=data['locality_name'].fillna('Неизвестно')\n",
    "data['locality_name'].isna().sum()"
   ]
  },
  {
   "cell_type": "markdown",
   "metadata": {},
   "source": [
    "**ceiling_height**"
   ]
  },
  {
   "cell_type": "code",
   "execution_count": 18,
   "metadata": {
    "scrolled": true
   },
   "outputs": [
    {
     "data": {
      "text/plain": [
       "2.5     3515\n",
       "2.6     1646\n",
       "2.7     1574\n",
       "3.0     1112\n",
       "2.8      993\n",
       "        ... \n",
       "5.8        1\n",
       "4.3        1\n",
       "4.25       1\n",
       "2.49       1\n",
       "5.0        1\n",
       "Name: ceiling_height, Length: 183, dtype: int64"
      ]
     },
     "metadata": {},
     "output_type": "display_data"
    },
    {
     "data": {
      "text/plain": [
       "9195"
      ]
     },
     "metadata": {},
     "output_type": "display_data"
    }
   ],
   "source": [
    "#проверяем ceiling_height\n",
    "display(data['ceiling_height'].value_counts())\n",
    "display(data['ceiling_height'].isna().sum())"
   ]
  },
  {
   "cell_type": "markdown",
   "metadata": {},
   "source": [
    "Самая популярная высота - 2,5 метра. Но заменить пропуски на это значение было бы не правильно. "
   ]
  },
  {
   "cell_type": "code",
   "execution_count": 19,
   "metadata": {
    "scrolled": true
   },
   "outputs": [
    {
     "data": {
      "text/plain": [
       "2.50     12710\n",
       "2.60      1646\n",
       "2.70      1574\n",
       "3.00      1112\n",
       "2.80       993\n",
       "         ...  \n",
       "4.25         1\n",
       "3.39         1\n",
       "3.93         1\n",
       "10.30        1\n",
       "4.65         1\n",
       "Name: ceiling_height, Length: 183, dtype: int64"
      ]
     },
     "execution_count": 19,
     "metadata": {},
     "output_type": "execute_result"
    }
   ],
   "source": [
    "#заменим пропуски временно на 2,5\n",
    "data['ceiling_height'] = data['ceiling_height'].fillna(2.5)\n",
    "data['ceiling_height'] = data['ceiling_height'].astype('float')\n",
    "    \n",
    "data['ceiling_height'].value_counts()"
   ]
  },
  {
   "cell_type": "code",
   "execution_count": 20,
   "metadata": {},
   "outputs": [
    {
     "data": {
      "text/plain": [
       "355       25.0\n",
       "3148      32.0\n",
       "4643      25.0\n",
       "4876      27.0\n",
       "5076      24.0\n",
       "5246      27.0\n",
       "5669      26.0\n",
       "5807      27.0\n",
       "6246      25.0\n",
       "9379      25.0\n",
       "10773     27.0\n",
       "11285     25.0\n",
       "14382     25.0\n",
       "15061     14.0\n",
       "17496     20.0\n",
       "17857     27.0\n",
       "18545     25.0\n",
       "20478     27.0\n",
       "20507     22.6\n",
       "21377     27.5\n",
       "21824     27.0\n",
       "22309     10.3\n",
       "22336     32.0\n",
       "22869    100.0\n",
       "22938     27.0\n",
       "Name: ceiling_height, dtype: float64"
      ]
     },
     "execution_count": 20,
     "metadata": {},
     "output_type": "execute_result"
    }
   ],
   "source": [
    "\n",
    "data['ceiling_height'].loc[data['ceiling_height'] > 10]\n",
    "\n",
    "#посмотрим какие значения больше 10 метров"
   ]
  },
  {
   "cell_type": "code",
   "execution_count": 21,
   "metadata": {},
   "outputs": [
    {
     "data": {
      "text/plain": [
       "array([ 2.7 ,  2.5 ,  3.03,  2.67,  2.56,  3.05,  2.75,  2.6 ,  2.9 ,\n",
       "        2.8 ,  2.55,  3.  ,  2.65,  3.2 ,  2.61,  3.25,  3.45,  2.77,\n",
       "        2.85,  2.64,  2.57,  4.15,  3.5 ,  3.3 ,  2.71,  4.  ,  2.47,\n",
       "        2.73,  2.84,  3.1 ,  2.34,  3.4 ,  3.06,  2.72,  2.54,  2.51,\n",
       "        2.78,  2.76,  2.58,  3.7 ,  2.52,  5.2 ,  2.87,  2.66,  2.59,\n",
       "        2.  ,  2.45,  3.6 ,  2.92,  3.11,  3.13,  3.8 ,  3.15,  3.55,\n",
       "        3.16,  3.62,  3.12,  2.53,  2.74,  2.96,  2.46,  5.3 ,  5.  ,\n",
       "        2.79,  2.95,  4.06,  2.94,  3.82,  3.54,  3.53,  2.83,  4.7 ,\n",
       "        2.4 ,  3.38,  3.01,  5.6 ,  3.65,  3.9 ,  3.18,  3.35,  2.3 ,\n",
       "        3.57,  2.48,  2.62,  2.82,  3.98,  2.63,  3.83,  3.52,  3.95,\n",
       "        3.75,  2.88,  3.67,  3.87,  3.66,  3.85,  3.86,  4.19,  3.24,\n",
       "        4.8 ,  4.5 ,  4.2 ,  3.36,  3.08,  3.68,  3.07,  3.37,  3.09,\n",
       "        8.  ,  3.26,  3.34,  2.81,  3.44,  2.97,  3.14,  4.37,  2.68,\n",
       "        3.22,  3.27,  4.1 ,  2.93,  3.46,  3.47,  3.33,  3.63,  3.32,\n",
       "        1.2 ,  8.3 ,  2.98,  2.86,  3.17,  4.4 ,  3.28,  3.04,  4.45,\n",
       "        5.5 ,  3.84,  3.23,  3.02,  3.21,  3.43,  3.78,  4.3 ,  3.39,\n",
       "        2.69,  3.31,  4.65,  3.56,  2.2 ,  3.51,  3.93,  3.42,  2.99,\n",
       "        3.49,  1.4 ,  4.14,  2.91,  3.88,  1.75,  4.25,  3.29,  2.25,\n",
       "        3.76,  3.69,  6.  ,  2.26,  2.89,  3.58,  5.8 ,  2.49,  4.9 ,\n",
       "        3.48,  1.03,  1.  , 10.  ,  3.59])"
      ]
     },
     "execution_count": 21,
     "metadata": {},
     "output_type": "execute_result"
    }
   ],
   "source": [
    "wrong = []\n",
    "for number in data['ceiling_height']:\n",
    "    if number > 10:\n",
    "        wrong.append(number)\n",
    "        \n",
    "for value in wrong:\n",
    "    data.loc[data['ceiling_height'] == value, 'ceiling_height'] = value/10\n",
    "data['ceiling_height'].unique()"
   ]
  },
  {
   "cell_type": "markdown",
   "metadata": {},
   "source": [
    "**parks_nearest**"
   ]
  },
  {
   "cell_type": "code",
   "execution_count": 22,
   "metadata": {},
   "outputs": [
    {
     "data": {
      "text/plain": [
       "15620"
      ]
     },
     "execution_count": 22,
     "metadata": {},
     "output_type": "execute_result"
    }
   ],
   "source": [
    "#проверяем следующий столбец\n",
    "data['parks_nearest'].isna().sum()"
   ]
  },
  {
   "cell_type": "code",
   "execution_count": 23,
   "metadata": {},
   "outputs": [],
   "source": [
    "#меняем тип данных\n",
    "data['parks_nearest'] = data['parks_nearest'].astype('float')"
   ]
  },
  {
   "cell_type": "code",
   "execution_count": 24,
   "metadata": {},
   "outputs": [
    {
     "data": {
      "text/plain": [
       "5998"
      ]
     },
     "execution_count": 24,
     "metadata": {},
     "output_type": "execute_result"
    }
   ],
   "source": [
    "#с помощью функции заполняем пропуски\n",
    "for city in data['locality_name'].unique():\n",
    "    temp = data[data['locality_name'] == city]\n",
    "    agg = temp['parks_nearest'].mean()\n",
    "    data.loc[data['locality_name'] == city, 'parks_nearest'] = data['parks_nearest'].fillna(agg)\n",
    "    \n",
    "data['parks_nearest'].isna().sum()"
   ]
  },
  {
   "cell_type": "code",
   "execution_count": 25,
   "metadata": {},
   "outputs": [
    {
     "data": {
      "text/plain": [
       "492.20342735128975"
      ]
     },
     "metadata": {},
     "output_type": "display_data"
    },
    {
     "data": {
      "text/plain": [
       "498.5978857770456"
      ]
     },
     "metadata": {},
     "output_type": "display_data"
    },
    {
     "data": {
      "text/plain": [
       "3190.0"
      ]
     },
     "metadata": {},
     "output_type": "display_data"
    }
   ],
   "source": [
    "display(data['parks_nearest'].mean())\n",
    "display(data['parks_nearest'].median())\n",
    "display(data['parks_nearest'].max())"
   ]
  },
  {
   "cell_type": "code",
   "execution_count": 26,
   "metadata": {
    "scrolled": true
   },
   "outputs": [
    {
     "data": {
      "text/plain": [
       "0"
      ]
     },
     "execution_count": 26,
     "metadata": {},
     "output_type": "execute_result"
    }
   ],
   "source": [
    "#остальные пропуски заполним числом 500\n",
    "data['parks_nearest'] = data['parks_nearest'].fillna(500)\n",
    "data['parks_nearest'].isna().sum()"
   ]
  },
  {
   "cell_type": "code",
   "execution_count": 27,
   "metadata": {},
   "outputs": [
    {
     "data": {
      "text/plain": [
       "total_images                0\n",
       "last_price                  0\n",
       "total_area                  0\n",
       "first_day_exposition        0\n",
       "rooms                       0\n",
       "ceiling_height              0\n",
       "floors_total               86\n",
       "living_area              1903\n",
       "floor                       0\n",
       "is_apartment                0\n",
       "studio                      0\n",
       "open_plan                   0\n",
       "kitchen_area             2278\n",
       "balcony                     0\n",
       "locality_name               0\n",
       "airports_nearest            0\n",
       "cityCenters_nearest      5519\n",
       "parks_around3000         5518\n",
       "parks_nearest               0\n",
       "ponds_around3000         5518\n",
       "ponds_nearest           14589\n",
       "days_exposition          3181\n",
       "dtype: int64"
      ]
     },
     "execution_count": 27,
     "metadata": {},
     "output_type": "execute_result"
    }
   ],
   "source": [
    "#Проверим сколько соталось пропусков и где\n",
    "data.isna().sum()"
   ]
  },
  {
   "cell_type": "markdown",
   "metadata": {},
   "source": [
    "**floors_total**"
   ]
  },
  {
   "cell_type": "code",
   "execution_count": 28,
   "metadata": {
    "scrolled": true
   },
   "outputs": [
    {
     "data": {
      "text/plain": [
       "0"
      ]
     },
     "execution_count": 28,
     "metadata": {},
     "output_type": "execute_result"
    }
   ],
   "source": [
    "#количество пропусков маленькое, можем просто удалить эти строки\n",
    "data=data.dropna(subset = ['floors_total'])\n",
    "data['floors_total'].isna().sum()\n"
   ]
  },
  {
   "cell_type": "markdown",
   "metadata": {},
   "source": [
    "**living_area**"
   ]
  },
  {
   "cell_type": "code",
   "execution_count": 29,
   "metadata": {
    "scrolled": true
   },
   "outputs": [
    {
     "data": {
      "text/plain": [
       "1870"
      ]
     },
     "metadata": {},
     "output_type": "display_data"
    },
    {
     "data": {
      "text/plain": [
       "7.919366450683945"
      ]
     },
     "metadata": {},
     "output_type": "display_data"
    }
   ],
   "source": [
    "display(data['living_area'].isna().sum())\n",
    "display(data['living_area'].isna().mean()*100)"
   ]
  },
  {
   "cell_type": "code",
   "execution_count": 30,
   "metadata": {},
   "outputs": [
    {
     "data": {
      "text/plain": [
       "17"
      ]
     },
     "execution_count": 30,
     "metadata": {},
     "output_type": "execute_result"
    }
   ],
   "source": [
    "data['living_area'] = data['living_area'].astype('float')\n",
    "for city in data['locality_name'].unique():\n",
    "    temp = data[data['locality_name'] == city]\n",
    "    agg = temp['living_area'].mean()\n",
    "    data.loc[data['locality_name'] == city, 'living_area'] = data[data['locality_name'] == city]['living_area'].fillna(agg)\n",
    "    \n",
    "data['living_area'].isna().sum()"
   ]
  },
  {
   "cell_type": "code",
   "execution_count": 31,
   "metadata": {},
   "outputs": [
    {
     "data": {
      "text/plain": [
       "30.831666666666663"
      ]
     },
     "execution_count": 31,
     "metadata": {},
     "output_type": "execute_result"
    }
   ],
   "source": [
    "data['living_area'].median()"
   ]
  },
  {
   "cell_type": "code",
   "execution_count": 32,
   "metadata": {},
   "outputs": [
    {
     "data": {
      "text/plain": [
       "0"
      ]
     },
     "execution_count": 32,
     "metadata": {},
     "output_type": "execute_result"
    }
   ],
   "source": [
    "#оставшиеся 17 пропусков заменим на медиану\n",
    "data['living_area'] = data['living_area'].fillna(30)\n",
    "data['living_area'].isna().sum()"
   ]
  },
  {
   "cell_type": "markdown",
   "metadata": {},
   "source": [
    "**kitchen_area**"
   ]
  },
  {
   "cell_type": "code",
   "execution_count": 33,
   "metadata": {},
   "outputs": [
    {
     "data": {
      "text/plain": [
       "2231"
      ]
     },
     "metadata": {},
     "output_type": "display_data"
    },
    {
     "data": {
      "text/plain": [
       "9.448185321644857"
      ]
     },
     "metadata": {},
     "output_type": "display_data"
    }
   ],
   "source": [
    "display(data['kitchen_area'].isna().sum())\n",
    "display(data['kitchen_area'].isna().mean()*100)"
   ]
  },
  {
   "cell_type": "code",
   "execution_count": 34,
   "metadata": {},
   "outputs": [
    {
     "data": {
      "text/plain": [
       "19"
      ]
     },
     "execution_count": 34,
     "metadata": {},
     "output_type": "execute_result"
    }
   ],
   "source": [
    "data['kitchen_area'] = data['kitchen_area'].astype('float')\n",
    "for city in data['locality_name'].unique():\n",
    "    temp = data[data['locality_name'] == city]\n",
    "    agg = temp['kitchen_area'].mean()\n",
    "    data.loc[data['locality_name'] == city, 'kitchen_area'] = data[data['locality_name'] == city]['kitchen_area'].fillna(agg)\n",
    "    \n",
    "data['kitchen_area'].isna().sum()"
   ]
  },
  {
   "cell_type": "code",
   "execution_count": 35,
   "metadata": {},
   "outputs": [
    {
     "data": {
      "text/plain": [
       "10.560827058500996"
      ]
     },
     "execution_count": 35,
     "metadata": {},
     "output_type": "execute_result"
    }
   ],
   "source": [
    "data['kitchen_area'].mean()"
   ]
  },
  {
   "cell_type": "code",
   "execution_count": 36,
   "metadata": {},
   "outputs": [
    {
     "data": {
      "text/plain": [
       "0"
      ]
     },
     "execution_count": 36,
     "metadata": {},
     "output_type": "execute_result"
    }
   ],
   "source": [
    "#оставшиеся 19 пропусков заменим на медиану\n",
    "data['kitchen_area'] = data['kitchen_area'].fillna(10)\n",
    "data['kitchen_area'].isna().sum()"
   ]
  },
  {
   "cell_type": "markdown",
   "metadata": {},
   "source": [
    "**cityCenters_nearest**"
   ]
  },
  {
   "cell_type": "code",
   "execution_count": 37,
   "metadata": {},
   "outputs": [
    {
     "data": {
      "text/plain": [
       "5509"
      ]
     },
     "metadata": {},
     "output_type": "display_data"
    },
    {
     "data": {
      "text/plain": [
       "23.330368864608477"
      ]
     },
     "metadata": {},
     "output_type": "display_data"
    }
   ],
   "source": [
    "display(data['cityCenters_nearest'].isna().sum())\n",
    "display(data['cityCenters_nearest'].isna().mean()*100)"
   ]
  },
  {
   "cell_type": "code",
   "execution_count": 38,
   "metadata": {},
   "outputs": [
    {
     "data": {
      "text/plain": [
       "5432"
      ]
     },
     "execution_count": 38,
     "metadata": {},
     "output_type": "execute_result"
    }
   ],
   "source": [
    "data['cityCenters_nearest'] = data['cityCenters_nearest'].astype('float')\n",
    "for city in data['locality_name'].unique():\n",
    "    temp = data[data['locality_name'] == city]\n",
    "    agg = temp['cityCenters_nearest'].mean()\n",
    "    data.loc[data['locality_name'] == city, 'cityCenters_nearest'] = data[data['locality_name'] == city]['cityCenters_nearest'].fillna(agg)\n",
    "    \n",
    "data['cityCenters_nearest'].isna().sum()"
   ]
  },
  {
   "cell_type": "code",
   "execution_count": 39,
   "metadata": {},
   "outputs": [
    {
     "data": {
      "text/plain": [
       "0"
      ]
     },
     "execution_count": 39,
     "metadata": {},
     "output_type": "execute_result"
    }
   ],
   "source": [
    "#здесь функция не смогла заменить большинсво пропусков, поэтому пока оставим их пустыми и обозначим как \"-1\"\n",
    "data['cityCenters_nearest'] = data['cityCenters_nearest'].fillna(-1)\n",
    "data['cityCenters_nearest'].isna().sum()"
   ]
  },
  {
   "cell_type": "markdown",
   "metadata": {},
   "source": [
    "**ponds_nearest**"
   ]
  },
  {
   "cell_type": "code",
   "execution_count": 40,
   "metadata": {
    "scrolled": true
   },
   "outputs": [
    {
     "data": {
      "text/plain": [
       "14552"
      ]
     },
     "metadata": {},
     "output_type": "display_data"
    },
    {
     "data": {
      "text/plain": [
       "61.62706983441325"
      ]
     },
     "metadata": {},
     "output_type": "display_data"
    }
   ],
   "source": [
    "display(data['ponds_nearest'].isna().sum())\n",
    "display(data['ponds_nearest'].isna().mean()*100)"
   ]
  },
  {
   "cell_type": "code",
   "execution_count": 41,
   "metadata": {},
   "outputs": [
    {
     "data": {
      "text/plain": [
       "5517"
      ]
     },
     "execution_count": 41,
     "metadata": {},
     "output_type": "execute_result"
    }
   ],
   "source": [
    "data['ponds_nearest'] = data['ponds_nearest'].astype('float')\n",
    "for city in data['locality_name'].unique():\n",
    "    temp = data[data['locality_name'] == city]\n",
    "    agg = temp['ponds_nearest'].mean()\n",
    "    data.loc[data['locality_name'] == city, 'ponds_nearest'] = data[data['locality_name'] == city]['ponds_nearest'].fillna(agg)\n",
    "    \n",
    "data['ponds_nearest'].isna().sum()"
   ]
  },
  {
   "cell_type": "code",
   "execution_count": 42,
   "metadata": {},
   "outputs": [
    {
     "data": {
      "text/plain": [
       "520.391129032258"
      ]
     },
     "execution_count": 42,
     "metadata": {},
     "output_type": "execute_result"
    }
   ],
   "source": [
    "data['ponds_nearest'].median()"
   ]
  },
  {
   "cell_type": "code",
   "execution_count": 43,
   "metadata": {},
   "outputs": [
    {
     "data": {
      "text/plain": [
       "0"
      ]
     },
     "execution_count": 43,
     "metadata": {},
     "output_type": "execute_result"
    }
   ],
   "source": [
    "#здесь функция не смогла заменить большинсво пропусков, поэтому заменим на медиану\n",
    "data['ponds_nearest'] = data['ponds_nearest'].fillna(520)\n",
    "data['ponds_nearest'].isna().sum()"
   ]
  },
  {
   "cell_type": "code",
   "execution_count": 44,
   "metadata": {
    "scrolled": false
   },
   "outputs": [
    {
     "data": {
      "text/plain": [
       "total_images               0\n",
       "last_price                 0\n",
       "total_area                 0\n",
       "first_day_exposition       0\n",
       "rooms                      0\n",
       "ceiling_height             0\n",
       "floors_total               0\n",
       "living_area                0\n",
       "floor                      0\n",
       "is_apartment               0\n",
       "studio                     0\n",
       "open_plan                  0\n",
       "kitchen_area               0\n",
       "balcony                    0\n",
       "locality_name              0\n",
       "airports_nearest           0\n",
       "cityCenters_nearest        0\n",
       "parks_around3000        5508\n",
       "parks_nearest              0\n",
       "ponds_around3000        5508\n",
       "ponds_nearest              0\n",
       "days_exposition         3172\n",
       "dtype: int64"
      ]
     },
     "execution_count": 44,
     "metadata": {},
     "output_type": "execute_result"
    }
   ],
   "source": [
    "#Проверим сколько соталось пропусков и где\n",
    "data.isna().sum()"
   ]
  },
  {
   "cell_type": "markdown",
   "metadata": {},
   "source": [
    "**parks_around3000**"
   ]
  },
  {
   "cell_type": "code",
   "execution_count": 45,
   "metadata": {
    "scrolled": false
   },
   "outputs": [
    {
     "data": {
      "text/plain": [
       "5508"
      ]
     },
     "metadata": {},
     "output_type": "display_data"
    },
    {
     "data": {
      "text/plain": [
       "23.326133909287257"
      ]
     },
     "metadata": {},
     "output_type": "display_data"
    }
   ],
   "source": [
    "display(data['parks_around3000'].isna().sum())\n",
    "display(data['parks_around3000'].isna().mean()*100)"
   ]
  },
  {
   "cell_type": "code",
   "execution_count": 46,
   "metadata": {},
   "outputs": [
    {
     "data": {
      "text/plain": [
       "5432"
      ]
     },
     "execution_count": 46,
     "metadata": {},
     "output_type": "execute_result"
    }
   ],
   "source": [
    "data['parks_around3000'] = data['parks_around3000'].astype('float')\n",
    "\n",
    "for city in data['locality_name'].unique():\n",
    "    temp = data[data['locality_name'] == city]\n",
    "    agg = temp['parks_around3000'].mean()\n",
    "    data.loc[data['locality_name'] == city, 'parks_around3000'] = data[data['locality_name'] == city]['parks_around3000'].fillna(agg)\n",
    "    \n",
    "data['parks_around3000'].isna().sum()"
   ]
  },
  {
   "cell_type": "code",
   "execution_count": 47,
   "metadata": {
    "scrolled": true
   },
   "outputs": [
    {
     "data": {
      "text/plain": [
       "0.000000    10067\n",
       "1.000000     5657\n",
       "2.000000     1739\n",
       "3.000000      645\n",
       "0.627606       60\n",
       "0.550000        8\n",
       "0.482759        2\n",
       "1.789474        1\n",
       "0.522255        1\n",
       "0.242424        1\n",
       "Name: parks_around3000, dtype: int64"
      ]
     },
     "execution_count": 47,
     "metadata": {},
     "output_type": "execute_result"
    }
   ],
   "source": [
    "data['parks_around3000'].value_counts()"
   ]
  },
  {
   "cell_type": "code",
   "execution_count": 48,
   "metadata": {},
   "outputs": [
    {
     "data": {
      "text/plain": [
       "0.611384192869323"
      ]
     },
     "execution_count": 48,
     "metadata": {},
     "output_type": "execute_result"
    }
   ],
   "source": [
    "data['parks_around3000'].mean()"
   ]
  },
  {
   "cell_type": "code",
   "execution_count": 49,
   "metadata": {},
   "outputs": [
    {
     "data": {
      "text/plain": [
       "0"
      ]
     },
     "execution_count": 49,
     "metadata": {},
     "output_type": "execute_result"
    }
   ],
   "source": [
    "#здесь функция не смогла заменить большинсво пропусков, поэтому заменим на 1\n",
    "data['parks_around3000'] = data['parks_around3000'].fillna(1)\n",
    "data['parks_around3000'].isna().sum()"
   ]
  },
  {
   "cell_type": "code",
   "execution_count": 50,
   "metadata": {
    "scrolled": false
   },
   "outputs": [
    {
     "data": {
      "text/plain": [
       "1.000000    11089\n",
       "0.000000    10067\n",
       "2.000000     1739\n",
       "3.000000      645\n",
       "0.627606       60\n",
       "0.550000        8\n",
       "0.482759        2\n",
       "1.789474        1\n",
       "0.522255        1\n",
       "0.242424        1\n",
       "Name: parks_around3000, dtype: int64"
      ]
     },
     "execution_count": 50,
     "metadata": {},
     "output_type": "execute_result"
    }
   ],
   "source": [
    "data['parks_around3000'].value_counts()"
   ]
  },
  {
   "cell_type": "code",
   "execution_count": 51,
   "metadata": {
    "scrolled": true
   },
   "outputs": [
    {
     "data": {
      "text/plain": [
       "1.0    11158\n",
       "0.0    10070\n",
       "2.0     1740\n",
       "3.0      645\n",
       "Name: parks_around3000, dtype: int64"
      ]
     },
     "execution_count": 51,
     "metadata": {},
     "output_type": "execute_result"
    }
   ],
   "source": [
    "#округлим значения, не может быть количество парков состоять из нецелого числа. \n",
    "data['parks_around3000'] = data['parks_around3000'].round()\n",
    "data['parks_around3000'].value_counts()"
   ]
  },
  {
   "cell_type": "markdown",
   "metadata": {},
   "source": [
    "**ponds_around3000**"
   ]
  },
  {
   "cell_type": "code",
   "execution_count": 52,
   "metadata": {},
   "outputs": [
    {
     "data": {
      "text/plain": [
       "5508"
      ]
     },
     "metadata": {},
     "output_type": "display_data"
    },
    {
     "data": {
      "text/plain": [
       "23.326133909287257"
      ]
     },
     "metadata": {},
     "output_type": "display_data"
    }
   ],
   "source": [
    "display(data['ponds_around3000'].isna().sum())\n",
    "display(data['ponds_around3000'].isna().mean()*100)"
   ]
  },
  {
   "cell_type": "code",
   "execution_count": 53,
   "metadata": {},
   "outputs": [
    {
     "data": {
      "text/plain": [
       "5432"
      ]
     },
     "execution_count": 53,
     "metadata": {},
     "output_type": "execute_result"
    }
   ],
   "source": [
    "data['ponds_around3000'] = data['ponds_around3000'].astype('float')\n",
    "\n",
    "for city in data['locality_name'].unique():\n",
    "    temp = data[data['locality_name'] == city]\n",
    "    agg = temp['ponds_around3000'].mean()\n",
    "    data.loc[data['locality_name'] == city, 'ponds_around3000'] = data[data['locality_name'] == city]['ponds_around3000'].fillna(agg)\n",
    "    \n",
    "data['ponds_around3000'].isna().sum()"
   ]
  },
  {
   "cell_type": "code",
   "execution_count": 54,
   "metadata": {
    "scrolled": true
   },
   "outputs": [
    {
     "data": {
      "text/plain": [
       "0.000000    9044\n",
       "1.000000    5677\n",
       "2.000000    1886\n",
       "3.000000    1498\n",
       "0.770188      60\n",
       "1.050000       8\n",
       "0.348624       3\n",
       "0.091954       2\n",
       "1.128788       1\n",
       "0.997033       1\n",
       "1.936842       1\n",
       "Name: ponds_around3000, dtype: int64"
      ]
     },
     "execution_count": 54,
     "metadata": {},
     "output_type": "execute_result"
    }
   ],
   "source": [
    "data['ponds_around3000'].value_counts()"
   ]
  },
  {
   "cell_type": "code",
   "execution_count": 55,
   "metadata": {},
   "outputs": [
    {
     "data": {
      "text/plain": [
       "1.0"
      ]
     },
     "execution_count": 55,
     "metadata": {},
     "output_type": "execute_result"
    }
   ],
   "source": [
    "data['ponds_around3000'].mean().round()"
   ]
  },
  {
   "cell_type": "code",
   "execution_count": 56,
   "metadata": {},
   "outputs": [
    {
     "data": {
      "text/plain": [
       "0"
      ]
     },
     "execution_count": 56,
     "metadata": {},
     "output_type": "execute_result"
    }
   ],
   "source": [
    "#функция не смогла заменить большинсво пропусков, поэтому заменим на 1\n",
    "data['ponds_around3000'] = data['ponds_around3000'].fillna(1)\n",
    "data['ponds_around3000'].isna().sum()"
   ]
  },
  {
   "cell_type": "code",
   "execution_count": 57,
   "metadata": {
    "scrolled": true
   },
   "outputs": [
    {
     "data": {
      "text/plain": [
       "1.0    11179\n",
       "0.0     9049\n",
       "2.0     1887\n",
       "3.0     1498\n",
       "Name: ponds_around3000, dtype: int64"
      ]
     },
     "execution_count": 57,
     "metadata": {},
     "output_type": "execute_result"
    }
   ],
   "source": [
    "#округлим значения, не может быть количество парков состоять из нецелого числа. \n",
    "data['ponds_around3000'] = data['ponds_around3000'].round()\n",
    "data['ponds_around3000'].value_counts()"
   ]
  },
  {
   "cell_type": "markdown",
   "metadata": {},
   "source": [
    "**days_exposition**"
   ]
  },
  {
   "cell_type": "code",
   "execution_count": 58,
   "metadata": {},
   "outputs": [
    {
     "data": {
      "text/plain": [
       "3172"
      ]
     },
     "execution_count": 58,
     "metadata": {},
     "output_type": "execute_result"
    }
   ],
   "source": [
    "data['days_exposition'].isna().sum()"
   ]
  },
  {
   "cell_type": "code",
   "execution_count": 59,
   "metadata": {
    "scrolled": true
   },
   "outputs": [
    {
     "data": {
      "text/plain": [
       "45.00000000000001    880\n",
       "60.0                 538\n",
       "7.0                  234\n",
       "30.0                 208\n",
       "90.00000000000001    201\n",
       "                    ... \n",
       "1133.0                 1\n",
       "1045.0                 1\n",
       "1312.0                 1\n",
       "1315.0                 1\n",
       "985.0                  1\n",
       "Name: days_exposition, Length: 1139, dtype: int64"
      ]
     },
     "execution_count": 59,
     "metadata": {},
     "output_type": "execute_result"
    }
   ],
   "source": [
    "data['days_exposition'].value_counts()"
   ]
  },
  {
   "cell_type": "code",
   "execution_count": 60,
   "metadata": {
    "scrolled": true
   },
   "outputs": [
    {
     "data": {
      "text/plain": [
       "0      NaN\n",
       "1     81.0\n",
       "2    558.0\n",
       "3    424.0\n",
       "4    121.0\n",
       "5     55.0\n",
       "6    155.0\n",
       "7      NaN\n",
       "8    189.0\n",
       "9    289.0\n",
       "Name: days_exposition, dtype: float64"
      ]
     },
     "execution_count": 60,
     "metadata": {},
     "output_type": "execute_result"
    }
   ],
   "source": [
    "data['days_exposition'] = data['days_exposition'].astype('float')\n",
    "data['days_exposition'] = data['days_exposition'].round()\n",
    "data['days_exposition'].head(10)"
   ]
  },
  {
   "cell_type": "markdown",
   "metadata": {},
   "source": [
    "Мы видим, что самое популярное число дней, в течении которых размещено объявление - 45 и 60. Но встречаются и большие цифры. Сложно предугадать, какое число должно быть на месте пропусков. "
   ]
  },
  {
   "cell_type": "code",
   "execution_count": 61,
   "metadata": {},
   "outputs": [
    {
     "data": {
      "text/html": [
       "<div>\n",
       "<style scoped>\n",
       "    .dataframe tbody tr th:only-of-type {\n",
       "        vertical-align: middle;\n",
       "    }\n",
       "\n",
       "    .dataframe tbody tr th {\n",
       "        vertical-align: top;\n",
       "    }\n",
       "\n",
       "    .dataframe thead th {\n",
       "        text-align: right;\n",
       "    }\n",
       "</style>\n",
       "<table border=\"1\" class=\"dataframe\">\n",
       "  <thead>\n",
       "    <tr style=\"text-align: right;\">\n",
       "      <th></th>\n",
       "      <th>total_images</th>\n",
       "      <th>last_price</th>\n",
       "      <th>total_area</th>\n",
       "      <th>first_day_exposition</th>\n",
       "      <th>rooms</th>\n",
       "      <th>ceiling_height</th>\n",
       "      <th>floors_total</th>\n",
       "      <th>living_area</th>\n",
       "      <th>floor</th>\n",
       "      <th>is_apartment</th>\n",
       "      <th>...</th>\n",
       "      <th>kitchen_area</th>\n",
       "      <th>balcony</th>\n",
       "      <th>locality_name</th>\n",
       "      <th>airports_nearest</th>\n",
       "      <th>cityCenters_nearest</th>\n",
       "      <th>parks_around3000</th>\n",
       "      <th>parks_nearest</th>\n",
       "      <th>ponds_around3000</th>\n",
       "      <th>ponds_nearest</th>\n",
       "      <th>days_exposition</th>\n",
       "    </tr>\n",
       "  </thead>\n",
       "  <tbody>\n",
       "    <tr>\n",
       "      <th>0</th>\n",
       "      <td>20</td>\n",
       "      <td>13000000.0</td>\n",
       "      <td>108.0</td>\n",
       "      <td>2019-03-07T00:00:00</td>\n",
       "      <td>3</td>\n",
       "      <td>2.70</td>\n",
       "      <td>16.0</td>\n",
       "      <td>51.000000</td>\n",
       "      <td>8</td>\n",
       "      <td>False</td>\n",
       "      <td>...</td>\n",
       "      <td>25.000000</td>\n",
       "      <td>0</td>\n",
       "      <td>Санкт-Петербург</td>\n",
       "      <td>18.863</td>\n",
       "      <td>16028.0</td>\n",
       "      <td>1.0</td>\n",
       "      <td>482.000000</td>\n",
       "      <td>2.0</td>\n",
       "      <td>755.000000</td>\n",
       "      <td>NaN</td>\n",
       "    </tr>\n",
       "    <tr>\n",
       "      <th>7</th>\n",
       "      <td>5</td>\n",
       "      <td>7915000.0</td>\n",
       "      <td>71.6</td>\n",
       "      <td>2019-04-18T00:00:00</td>\n",
       "      <td>2</td>\n",
       "      <td>2.50</td>\n",
       "      <td>24.0</td>\n",
       "      <td>36.976588</td>\n",
       "      <td>22</td>\n",
       "      <td>False</td>\n",
       "      <td>...</td>\n",
       "      <td>18.900000</td>\n",
       "      <td>2.0</td>\n",
       "      <td>Санкт-Петербург</td>\n",
       "      <td>23.982</td>\n",
       "      <td>11634.0</td>\n",
       "      <td>0.0</td>\n",
       "      <td>498.597886</td>\n",
       "      <td>0.0</td>\n",
       "      <td>520.391129</td>\n",
       "      <td>NaN</td>\n",
       "    </tr>\n",
       "    <tr>\n",
       "      <th>44</th>\n",
       "      <td>13</td>\n",
       "      <td>5350000.0</td>\n",
       "      <td>40.0</td>\n",
       "      <td>2018-11-18T00:00:00</td>\n",
       "      <td>1</td>\n",
       "      <td>2.50</td>\n",
       "      <td>22.0</td>\n",
       "      <td>36.976588</td>\n",
       "      <td>3</td>\n",
       "      <td>False</td>\n",
       "      <td>...</td>\n",
       "      <td>11.148582</td>\n",
       "      <td>1.0</td>\n",
       "      <td>Санкт-Петербург</td>\n",
       "      <td>30.471</td>\n",
       "      <td>11603.0</td>\n",
       "      <td>1.0</td>\n",
       "      <td>620.000000</td>\n",
       "      <td>1.0</td>\n",
       "      <td>1152.000000</td>\n",
       "      <td>NaN</td>\n",
       "    </tr>\n",
       "    <tr>\n",
       "      <th>45</th>\n",
       "      <td>17</td>\n",
       "      <td>5200000.0</td>\n",
       "      <td>50.6</td>\n",
       "      <td>2018-12-02T00:00:00</td>\n",
       "      <td>2</td>\n",
       "      <td>2.65</td>\n",
       "      <td>9.0</td>\n",
       "      <td>30.300000</td>\n",
       "      <td>7</td>\n",
       "      <td>False</td>\n",
       "      <td>...</td>\n",
       "      <td>7.000000</td>\n",
       "      <td>0</td>\n",
       "      <td>Санкт-Петербург</td>\n",
       "      <td>30.011</td>\n",
       "      <td>12872.0</td>\n",
       "      <td>0.0</td>\n",
       "      <td>498.597886</td>\n",
       "      <td>0.0</td>\n",
       "      <td>520.391129</td>\n",
       "      <td>NaN</td>\n",
       "    </tr>\n",
       "    <tr>\n",
       "      <th>46</th>\n",
       "      <td>17</td>\n",
       "      <td>6600000.0</td>\n",
       "      <td>52.1</td>\n",
       "      <td>2019-01-31T00:00:00</td>\n",
       "      <td>2</td>\n",
       "      <td>2.60</td>\n",
       "      <td>24.0</td>\n",
       "      <td>29.700000</td>\n",
       "      <td>9</td>\n",
       "      <td>False</td>\n",
       "      <td>...</td>\n",
       "      <td>8.300000</td>\n",
       "      <td>2.0</td>\n",
       "      <td>Санкт-Петербург</td>\n",
       "      <td>15.114</td>\n",
       "      <td>12702.0</td>\n",
       "      <td>0.0</td>\n",
       "      <td>498.597886</td>\n",
       "      <td>0.0</td>\n",
       "      <td>520.391129</td>\n",
       "      <td>NaN</td>\n",
       "    </tr>\n",
       "  </tbody>\n",
       "</table>\n",
       "<p>5 rows × 22 columns</p>\n",
       "</div>"
      ],
      "text/plain": [
       "    total_images  last_price total_area first_day_exposition  rooms  \\\n",
       "0             20  13000000.0      108.0  2019-03-07T00:00:00      3   \n",
       "7              5   7915000.0       71.6  2019-04-18T00:00:00      2   \n",
       "44            13   5350000.0       40.0  2018-11-18T00:00:00      1   \n",
       "45            17   5200000.0       50.6  2018-12-02T00:00:00      2   \n",
       "46            17   6600000.0       52.1  2019-01-31T00:00:00      2   \n",
       "\n",
       "    ceiling_height floors_total  living_area  floor  is_apartment  ...  \\\n",
       "0             2.70         16.0    51.000000      8         False  ...   \n",
       "7             2.50         24.0    36.976588     22         False  ...   \n",
       "44            2.50         22.0    36.976588      3         False  ...   \n",
       "45            2.65          9.0    30.300000      7         False  ...   \n",
       "46            2.60         24.0    29.700000      9         False  ...   \n",
       "\n",
       "    kitchen_area  balcony    locality_name airports_nearest  \\\n",
       "0      25.000000        0  Санкт-Петербург           18.863   \n",
       "7      18.900000      2.0  Санкт-Петербург           23.982   \n",
       "44     11.148582      1.0  Санкт-Петербург           30.471   \n",
       "45      7.000000        0  Санкт-Петербург           30.011   \n",
       "46      8.300000      2.0  Санкт-Петербург           15.114   \n",
       "\n",
       "   cityCenters_nearest  parks_around3000  parks_nearest  ponds_around3000  \\\n",
       "0              16028.0               1.0     482.000000               2.0   \n",
       "7              11634.0               0.0     498.597886               0.0   \n",
       "44             11603.0               1.0     620.000000               1.0   \n",
       "45             12872.0               0.0     498.597886               0.0   \n",
       "46             12702.0               0.0     498.597886               0.0   \n",
       "\n",
       "    ponds_nearest  days_exposition  \n",
       "0      755.000000              NaN  \n",
       "7      520.391129              NaN  \n",
       "44    1152.000000              NaN  \n",
       "45     520.391129              NaN  \n",
       "46     520.391129              NaN  \n",
       "\n",
       "[5 rows x 22 columns]"
      ]
     },
     "execution_count": 61,
     "metadata": {},
     "output_type": "execute_result"
    }
   ],
   "source": [
    "data[data['days_exposition'].isna()].head()"
   ]
  },
  {
   "cell_type": "markdown",
   "metadata": {},
   "source": [
    "Вот например первые пять строк с пропусками. Мы видим, что дата публикации достаточно старая. Скорее всего забыли снять объявление с продажи. Поэтому заменим пропуски на значение 50"
   ]
  },
  {
   "cell_type": "code",
   "execution_count": 62,
   "metadata": {},
   "outputs": [],
   "source": [
    "data_0 = data"
   ]
  },
  {
   "cell_type": "code",
   "execution_count": 63,
   "metadata": {},
   "outputs": [
    {
     "data": {
      "text/plain": [
       "0"
      ]
     },
     "execution_count": 63,
     "metadata": {},
     "output_type": "execute_result"
    }
   ],
   "source": [
    "data['days_exposition'] = data['days_exposition'].fillna(50)\n",
    "data['days_exposition'].isna().sum()"
   ]
  },
  {
   "cell_type": "code",
   "execution_count": 64,
   "metadata": {
    "scrolled": false
   },
   "outputs": [
    {
     "name": "stdout",
     "output_type": "stream",
     "text": [
      "<class 'pandas.core.frame.DataFrame'>\n",
      "Int64Index: 23613 entries, 0 to 23698\n",
      "Data columns (total 22 columns):\n",
      " #   Column                Non-Null Count  Dtype  \n",
      "---  ------                --------------  -----  \n",
      " 0   total_images          23613 non-null  int64  \n",
      " 1   last_price            23613 non-null  object \n",
      " 2   total_area            23613 non-null  object \n",
      " 3   first_day_exposition  23613 non-null  object \n",
      " 4   rooms                 23613 non-null  int64  \n",
      " 5   ceiling_height        23613 non-null  float64\n",
      " 6   floors_total          23613 non-null  object \n",
      " 7   living_area           23613 non-null  float64\n",
      " 8   floor                 23613 non-null  int64  \n",
      " 9   is_apartment          23613 non-null  bool   \n",
      " 10  studio                23613 non-null  bool   \n",
      " 11  open_plan             23613 non-null  bool   \n",
      " 12  kitchen_area          23613 non-null  float64\n",
      " 13  balcony               23613 non-null  object \n",
      " 14  locality_name         23613 non-null  object \n",
      " 15  airports_nearest      23613 non-null  float64\n",
      " 16  cityCenters_nearest   23613 non-null  float64\n",
      " 17  parks_around3000      23613 non-null  float64\n",
      " 18  parks_nearest         23613 non-null  float64\n",
      " 19  ponds_around3000      23613 non-null  float64\n",
      " 20  ponds_nearest         23613 non-null  float64\n",
      " 21  days_exposition       23613 non-null  float64\n",
      "dtypes: bool(3), float64(10), int64(3), object(6)\n",
      "memory usage: 3.7+ MB\n"
     ]
    }
   ],
   "source": [
    "data.info()"
   ]
  },
  {
   "cell_type": "code",
   "execution_count": 65,
   "metadata": {},
   "outputs": [],
   "source": [
    "#меняем форматы\n",
    "data['total_area'] = data['total_area'].astype('float')\n",
    "data['last_price'] = data['last_price'].astype('float')\n",
    "data['floors_total'] = data['floors_total'].astype('float')\n",
    "\n",
    "data['first_day_exposition'] = pd.to_datetime(data['first_day_exposition'], format = '%Y-%m-%dT%H:%M:%S')"
   ]
  },
  {
   "cell_type": "markdown",
   "metadata": {},
   "source": [
    "**ВЫВОД \"Предобработка данных**\n",
    "\n",
    "Первую подготовку данных провели. Теперь таблица без пропусков, все данные красивые и в нужных форматах. Найдены все выбивающиеся значения. С данными можно дальше работать\n"
   ]
  },
  {
   "cell_type": "markdown",
   "metadata": {},
   "source": [
    "## Расчёты и добавление результатов в таблицу"
   ]
  },
  {
   "cell_type": "markdown",
   "metadata": {},
   "source": [
    "**Цена квадратного метра**\n",
    "\n",
    "Для подсчета этого значения, необходимо цену разделить на кол-во квадратных метро в квартире"
   ]
  },
  {
   "cell_type": "code",
   "execution_count": 66,
   "metadata": {},
   "outputs": [
    {
     "data": {
      "text/plain": [
       "0    120370.370\n",
       "1     82920.792\n",
       "2     92785.714\n",
       "3    408176.101\n",
       "4    100000.000\n",
       "Name: price_metr, dtype: float64"
      ]
     },
     "execution_count": 66,
     "metadata": {},
     "output_type": "execute_result"
    }
   ],
   "source": [
    "data['price_metr'] = data['last_price']/data['total_area']\n",
    "data['price_metr'] = data['price_metr'].round(3)\n",
    "data['price_metr'].head()"
   ]
  },
  {
   "cell_type": "markdown",
   "metadata": {},
   "source": [
    "**Этаж квартиры; варианты — первый, последний, другой**"
   ]
  },
  {
   "cell_type": "code",
   "execution_count": 67,
   "metadata": {
    "scrolled": true
   },
   "outputs": [
    {
     "data": {
      "text/plain": [
       "другой       17363\n",
       "последний     3336\n",
       "первый        2914\n",
       "Name: floor_group, dtype: int64"
      ]
     },
     "execution_count": 67,
     "metadata": {},
     "output_type": "execute_result"
    }
   ],
   "source": [
    "def flo (row):\n",
    "    last = row['floors_total']   \n",
    "    if row['floor'] == 1:\n",
    "        return 'первый'\n",
    "    elif row['floor'] == last:\n",
    "        return 'последний'\n",
    "    else:\n",
    "         return 'другой'\n",
    "      \n",
    "data['floor_group'] = data.apply(flo, axis=1)\n",
    "data['floor_group'].value_counts()"
   ]
  },
  {
   "cell_type": "markdown",
   "metadata": {},
   "source": [
    "**День недели, месяц и год публикации объявления**"
   ]
  },
  {
   "cell_type": "code",
   "execution_count": 68,
   "metadata": {
    "scrolled": true
   },
   "outputs": [
    {
     "data": {
      "text/plain": [
       "0   2019-03-07\n",
       "1   2018-12-04\n",
       "2   2015-08-20\n",
       "3   2015-07-24\n",
       "4   2018-06-19\n",
       "Name: first_day_exposition, dtype: datetime64[ns]"
      ]
     },
     "execution_count": 68,
     "metadata": {},
     "output_type": "execute_result"
    }
   ],
   "source": [
    "data['first_day_exposition'].head()"
   ]
  },
  {
   "cell_type": "code",
   "execution_count": 69,
   "metadata": {
    "scrolled": true
   },
   "outputs": [
    {
     "data": {
      "text/plain": [
       "0    3\n",
       "1    1\n",
       "2    3\n",
       "3    4\n",
       "4    1\n",
       "Name: weekday, dtype: int64"
      ]
     },
     "execution_count": 69,
     "metadata": {},
     "output_type": "execute_result"
    }
   ],
   "source": [
    "data['weekday'] = data['first_day_exposition'].dt.weekday\n",
    "data['weekday'].head()"
   ]
  },
  {
   "cell_type": "code",
   "execution_count": 70,
   "metadata": {},
   "outputs": [
    {
     "data": {
      "text/plain": [
       "0    2019\n",
       "1    2018\n",
       "2    2015\n",
       "3    2015\n",
       "4    2018\n",
       "Name: year, dtype: int64"
      ]
     },
     "execution_count": 70,
     "metadata": {},
     "output_type": "execute_result"
    }
   ],
   "source": [
    "data['year'] = data['first_day_exposition'].dt.year\n",
    "data['year'].head()"
   ]
  },
  {
   "cell_type": "code",
   "execution_count": 71,
   "metadata": {
    "scrolled": true
   },
   "outputs": [
    {
     "data": {
      "text/plain": [
       "0     3\n",
       "1    12\n",
       "2     8\n",
       "3     7\n",
       "4     6\n",
       "Name: month, dtype: int64"
      ]
     },
     "execution_count": 71,
     "metadata": {},
     "output_type": "execute_result"
    }
   ],
   "source": [
    "data['month'] = data['first_day_exposition'].dt.month\n",
    "data['month'].head()"
   ]
  },
  {
   "cell_type": "markdown",
   "metadata": {},
   "source": [
    "**Cоотношение жилой и общей площади, а также отношение площади кухни к общей**\n",
    "\n",
    "Создадим два столбца, в которых посчитаем отношение величин "
   ]
  },
  {
   "cell_type": "code",
   "execution_count": 72,
   "metadata": {},
   "outputs": [
    {
     "data": {
      "text/html": [
       "<div>\n",
       "<style scoped>\n",
       "    .dataframe tbody tr th:only-of-type {\n",
       "        vertical-align: middle;\n",
       "    }\n",
       "\n",
       "    .dataframe tbody tr th {\n",
       "        vertical-align: top;\n",
       "    }\n",
       "\n",
       "    .dataframe thead th {\n",
       "        text-align: right;\n",
       "    }\n",
       "</style>\n",
       "<table border=\"1\" class=\"dataframe\">\n",
       "  <thead>\n",
       "    <tr style=\"text-align: right;\">\n",
       "      <th></th>\n",
       "      <th>total_images</th>\n",
       "      <th>last_price</th>\n",
       "      <th>total_area</th>\n",
       "      <th>first_day_exposition</th>\n",
       "      <th>rooms</th>\n",
       "      <th>ceiling_height</th>\n",
       "      <th>floors_total</th>\n",
       "      <th>living_area</th>\n",
       "      <th>floor</th>\n",
       "      <th>is_apartment</th>\n",
       "      <th>...</th>\n",
       "      <th>ponds_around3000</th>\n",
       "      <th>ponds_nearest</th>\n",
       "      <th>days_exposition</th>\n",
       "      <th>price_metr</th>\n",
       "      <th>floor_group</th>\n",
       "      <th>weekday</th>\n",
       "      <th>year</th>\n",
       "      <th>month</th>\n",
       "      <th>living_total</th>\n",
       "      <th>kitchen_total</th>\n",
       "    </tr>\n",
       "  </thead>\n",
       "  <tbody>\n",
       "    <tr>\n",
       "      <th>0</th>\n",
       "      <td>20</td>\n",
       "      <td>13000000.0</td>\n",
       "      <td>108.0</td>\n",
       "      <td>2019-03-07</td>\n",
       "      <td>3</td>\n",
       "      <td>2.70</td>\n",
       "      <td>16.0</td>\n",
       "      <td>51.000000</td>\n",
       "      <td>8</td>\n",
       "      <td>False</td>\n",
       "      <td>...</td>\n",
       "      <td>2.0</td>\n",
       "      <td>755.000000</td>\n",
       "      <td>50.0</td>\n",
       "      <td>120370.370</td>\n",
       "      <td>другой</td>\n",
       "      <td>3</td>\n",
       "      <td>2019</td>\n",
       "      <td>3</td>\n",
       "      <td>0.472222</td>\n",
       "      <td>0.231481</td>\n",
       "    </tr>\n",
       "    <tr>\n",
       "      <th>1</th>\n",
       "      <td>7</td>\n",
       "      <td>3350000.0</td>\n",
       "      <td>40.4</td>\n",
       "      <td>2018-12-04</td>\n",
       "      <td>1</td>\n",
       "      <td>2.50</td>\n",
       "      <td>11.0</td>\n",
       "      <td>18.600000</td>\n",
       "      <td>1</td>\n",
       "      <td>False</td>\n",
       "      <td>...</td>\n",
       "      <td>0.0</td>\n",
       "      <td>573.217105</td>\n",
       "      <td>81.0</td>\n",
       "      <td>82920.792</td>\n",
       "      <td>первый</td>\n",
       "      <td>1</td>\n",
       "      <td>2018</td>\n",
       "      <td>12</td>\n",
       "      <td>0.460396</td>\n",
       "      <td>0.272277</td>\n",
       "    </tr>\n",
       "    <tr>\n",
       "      <th>2</th>\n",
       "      <td>10</td>\n",
       "      <td>5196000.0</td>\n",
       "      <td>56.0</td>\n",
       "      <td>2015-08-20</td>\n",
       "      <td>2</td>\n",
       "      <td>2.50</td>\n",
       "      <td>5.0</td>\n",
       "      <td>34.300000</td>\n",
       "      <td>4</td>\n",
       "      <td>False</td>\n",
       "      <td>...</td>\n",
       "      <td>2.0</td>\n",
       "      <td>574.000000</td>\n",
       "      <td>558.0</td>\n",
       "      <td>92785.714</td>\n",
       "      <td>другой</td>\n",
       "      <td>3</td>\n",
       "      <td>2015</td>\n",
       "      <td>8</td>\n",
       "      <td>0.612500</td>\n",
       "      <td>0.148214</td>\n",
       "    </tr>\n",
       "    <tr>\n",
       "      <th>3</th>\n",
       "      <td>0</td>\n",
       "      <td>64900000.0</td>\n",
       "      <td>159.0</td>\n",
       "      <td>2015-07-24</td>\n",
       "      <td>3</td>\n",
       "      <td>2.50</td>\n",
       "      <td>14.0</td>\n",
       "      <td>36.976588</td>\n",
       "      <td>9</td>\n",
       "      <td>False</td>\n",
       "      <td>...</td>\n",
       "      <td>3.0</td>\n",
       "      <td>234.000000</td>\n",
       "      <td>424.0</td>\n",
       "      <td>408176.101</td>\n",
       "      <td>другой</td>\n",
       "      <td>4</td>\n",
       "      <td>2015</td>\n",
       "      <td>7</td>\n",
       "      <td>0.232557</td>\n",
       "      <td>0.070117</td>\n",
       "    </tr>\n",
       "    <tr>\n",
       "      <th>4</th>\n",
       "      <td>2</td>\n",
       "      <td>10000000.0</td>\n",
       "      <td>100.0</td>\n",
       "      <td>2018-06-19</td>\n",
       "      <td>2</td>\n",
       "      <td>3.03</td>\n",
       "      <td>14.0</td>\n",
       "      <td>32.000000</td>\n",
       "      <td>13</td>\n",
       "      <td>False</td>\n",
       "      <td>...</td>\n",
       "      <td>1.0</td>\n",
       "      <td>48.000000</td>\n",
       "      <td>121.0</td>\n",
       "      <td>100000.000</td>\n",
       "      <td>другой</td>\n",
       "      <td>1</td>\n",
       "      <td>2018</td>\n",
       "      <td>6</td>\n",
       "      <td>0.320000</td>\n",
       "      <td>0.410000</td>\n",
       "    </tr>\n",
       "  </tbody>\n",
       "</table>\n",
       "<p>5 rows × 29 columns</p>\n",
       "</div>"
      ],
      "text/plain": [
       "   total_images  last_price  total_area first_day_exposition  rooms  \\\n",
       "0            20  13000000.0       108.0           2019-03-07      3   \n",
       "1             7   3350000.0        40.4           2018-12-04      1   \n",
       "2            10   5196000.0        56.0           2015-08-20      2   \n",
       "3             0  64900000.0       159.0           2015-07-24      3   \n",
       "4             2  10000000.0       100.0           2018-06-19      2   \n",
       "\n",
       "   ceiling_height  floors_total  living_area  floor  is_apartment  ...  \\\n",
       "0            2.70          16.0    51.000000      8         False  ...   \n",
       "1            2.50          11.0    18.600000      1         False  ...   \n",
       "2            2.50           5.0    34.300000      4         False  ...   \n",
       "3            2.50          14.0    36.976588      9         False  ...   \n",
       "4            3.03          14.0    32.000000     13         False  ...   \n",
       "\n",
       "   ponds_around3000  ponds_nearest  days_exposition  price_metr floor_group  \\\n",
       "0               2.0     755.000000             50.0  120370.370      другой   \n",
       "1               0.0     573.217105             81.0   82920.792      первый   \n",
       "2               2.0     574.000000            558.0   92785.714      другой   \n",
       "3               3.0     234.000000            424.0  408176.101      другой   \n",
       "4               1.0      48.000000            121.0  100000.000      другой   \n",
       "\n",
       "   weekday  year  month  living_total  kitchen_total  \n",
       "0        3  2019      3      0.472222       0.231481  \n",
       "1        1  2018     12      0.460396       0.272277  \n",
       "2        3  2015      8      0.612500       0.148214  \n",
       "3        4  2015      7      0.232557       0.070117  \n",
       "4        1  2018      6      0.320000       0.410000  \n",
       "\n",
       "[5 rows x 29 columns]"
      ]
     },
     "execution_count": 72,
     "metadata": {},
     "output_type": "execute_result"
    }
   ],
   "source": [
    "data['living_total'] = data['living_area'] / data['total_area']\n",
    "data['kitchen_total'] = data['kitchen_area'] / data['total_area']\n",
    "data.head()"
   ]
  },
  {
   "cell_type": "markdown",
   "metadata": {},
   "source": [
    "## Исследовательский анализ данных"
   ]
  },
  {
   "cell_type": "markdown",
   "metadata": {},
   "source": [
    "Площадь, цена, число комнат, высота потолков. Строим гистограммы для каждого параметра."
   ]
  },
  {
   "cell_type": "code",
   "execution_count": 73,
   "metadata": {},
   "outputs": [
    {
     "data": {
      "text/plain": [
       "900.0"
      ]
     },
     "execution_count": 73,
     "metadata": {},
     "output_type": "execute_result"
    }
   ],
   "source": [
    "data['total_area'].max()"
   ]
  },
  {
   "cell_type": "code",
   "execution_count": 74,
   "metadata": {
    "scrolled": false
   },
   "outputs": [
    {
     "data": {
      "image/png": "[encoded data removed]",
      "text/plain": [
       "<Figure size 720x576 with 1 Axes>"
      ]
     },
     "metadata": {
      "needs_background": "light"
     },
     "output_type": "display_data"
    }
   ],
   "source": [
    "#площадь\n",
    "data.plot(kind='hist', y='total_area', grid=True, bins=50, range=(0,900), figsize=(10,8));"
   ]
  },
  {
   "cell_type": "markdown",
   "metadata": {},
   "source": [
    "Площадь квартир различается, встречаются даже квартиры с площадь более 400, но есть популярные значения: в диапазоне от 50 до 100 метров. "
   ]
  },
  {
   "cell_type": "code",
   "execution_count": 75,
   "metadata": {},
   "outputs": [
    {
     "data": {
      "text/plain": [
       "763000000.0"
      ]
     },
     "execution_count": 75,
     "metadata": {},
     "output_type": "execute_result"
    }
   ],
   "source": [
    "data['last_price'].max()"
   ]
  },
  {
   "cell_type": "code",
   "execution_count": 76,
   "metadata": {},
   "outputs": [
    {
     "data": {
      "text/plain": [
       "4500000.0     341\n",
       "3500000.0     291\n",
       "4300000.0     260\n",
       "4000000.0     260\n",
       "4200000.0     259\n",
       "             ... \n",
       "86738800.0      1\n",
       "10430000.0      1\n",
       "9917600.0       1\n",
       "3180500.0       1\n",
       "4386000.0       1\n",
       "Name: last_price, Length: 2939, dtype: int64"
      ]
     },
     "execution_count": 76,
     "metadata": {},
     "output_type": "execute_result"
    }
   ],
   "source": [
    "data['last_price'].value_counts()"
   ]
  },
  {
   "cell_type": "code",
   "execution_count": 77,
   "metadata": {
    "scrolled": false
   },
   "outputs": [
    {
     "data": {
      "text/plain": [
       "<AxesSubplot:ylabel='Frequency'>"
      ]
     },
     "execution_count": 77,
     "metadata": {},
     "output_type": "execute_result"
    },
    {
     "data": {
      "image/png": "[encoded data removed]",
      "text/plain": [
       "<Figure size 864x504 with 1 Axes>"
      ]
     },
     "metadata": {
      "needs_background": "light"
     },
     "output_type": "display_data"
    }
   ],
   "source": [
    "#цена\n",
    "data.plot(kind='hist', y='last_price', grid=True, bins=50, range=(0,763000000), figsize=(12,7))"
   ]
  },
  {
   "cell_type": "markdown",
   "metadata": {},
   "source": [
    "Цена на квартиры практически у большинства в районе 3-5 млн. "
   ]
  },
  {
   "cell_type": "code",
   "execution_count": 78,
   "metadata": {},
   "outputs": [
    {
     "data": {
      "text/plain": [
       "19"
      ]
     },
     "execution_count": 78,
     "metadata": {},
     "output_type": "execute_result"
    }
   ],
   "source": [
    "data['rooms'].max()"
   ]
  },
  {
   "cell_type": "code",
   "execution_count": 79,
   "metadata": {
    "scrolled": false
   },
   "outputs": [
    {
     "data": {
      "image/png": "[encoded data removed]",
      "text/plain": [
       "<Figure size 576x360 with 1 Axes>"
      ]
     },
     "metadata": {
      "needs_background": "light"
     },
     "output_type": "display_data"
    }
   ],
   "source": [
    "#комнаты\n",
    "data.plot(kind='hist', y='rooms', grid=True, bins=50, range=(0,19), figsize=(8,5));"
   ]
  },
  {
   "cell_type": "markdown",
   "metadata": {},
   "source": [
    "Самое большое количество комнат - 19. Но все таки чаще всего покупают квартиры с 1-2 комнатами. "
   ]
  },
  {
   "cell_type": "code",
   "execution_count": 80,
   "metadata": {
    "scrolled": false
   },
   "outputs": [
    {
     "data": {
      "image/png": "[encoded data removed]",
      "text/plain": [
       "<Figure size 864x504 with 1 Axes>"
      ]
     },
     "metadata": {
      "needs_background": "light"
     },
     "output_type": "display_data"
    }
   ],
   "source": [
    "#потолки\n",
    "data.plot(kind='hist', y='ceiling_height', grid=True, bins=50, range=(0,10), figsize=(12,7));"
   ]
  },
  {
   "cell_type": "markdown",
   "metadata": {},
   "source": [
    "Выбивается значение 2.5 - это наши пропуски добавились в столбец. Но все же 2.5-3 метра самая популярная высота потолков"
   ]
  },
  {
   "cell_type": "markdown",
   "metadata": {},
   "source": [
    "___________"
   ]
  },
  {
   "cell_type": "markdown",
   "metadata": {},
   "source": [
    "**Задача**: Изучите время продажи квартиры. Постройте гистограмму. Посчитайте среднее и медиану. Опишите, сколько обычно занимает продажа. Когда можно считать, что продажи прошли очень быстро, а когда необычно долго?"
   ]
  },
  {
   "cell_type": "code",
   "execution_count": 81,
   "metadata": {},
   "outputs": [
    {
     "data": {
      "image/png": "[encoded data removed]",
      "text/plain": [
       "<Figure size 864x504 with 1 Axes>"
      ]
     },
     "metadata": {
      "needs_background": "light"
     },
     "output_type": "display_data"
    }
   ],
   "source": [
    "data.plot(kind='hist', y='days_exposition', grid=True, bins=50, figsize=(12,7));"
   ]
  },
  {
   "cell_type": "code",
   "execution_count": 82,
   "metadata": {},
   "outputs": [
    {
     "data": {
      "text/plain": [
       "'Медиана'"
      ]
     },
     "metadata": {},
     "output_type": "display_data"
    },
    {
     "data": {
      "text/plain": [
       "73.0"
      ]
     },
     "metadata": {},
     "output_type": "display_data"
    },
    {
     "data": {
      "text/plain": [
       "''"
      ]
     },
     "metadata": {},
     "output_type": "display_data"
    },
    {
     "data": {
      "text/plain": [
       "'Среднее'"
      ]
     },
     "metadata": {},
     "output_type": "display_data"
    },
    {
     "data": {
      "text/plain": [
       "163.3027146063609"
      ]
     },
     "metadata": {},
     "output_type": "display_data"
    },
    {
     "data": {
      "text/plain": [
       "''"
      ]
     },
     "metadata": {},
     "output_type": "display_data"
    },
    {
     "data": {
      "text/plain": [
       "'Максимум'"
      ]
     },
     "metadata": {},
     "output_type": "display_data"
    },
    {
     "data": {
      "text/plain": [
       "1580.0"
      ]
     },
     "metadata": {},
     "output_type": "display_data"
    },
    {
     "data": {
      "text/plain": [
       "''"
      ]
     },
     "metadata": {},
     "output_type": "display_data"
    },
    {
     "data": {
      "text/plain": [
       "'Минимум'"
      ]
     },
     "metadata": {},
     "output_type": "display_data"
    },
    {
     "data": {
      "text/plain": [
       "1.0"
      ]
     },
     "metadata": {},
     "output_type": "display_data"
    }
   ],
   "source": [
    "display('Медиана', data['days_exposition'].median())\n",
    "display('')\n",
    "display('Среднее', data['days_exposition'].mean())\n",
    "display('')\n",
    "display('Максимум', data['days_exposition'].max())\n",
    "display('')\n",
    "display('Минимум', data['days_exposition'].min())"
   ]
  },
  {
   "cell_type": "code",
   "execution_count": 83,
   "metadata": {
    "scrolled": true
   },
   "outputs": [
    {
     "data": {
      "text/plain": [
       "<AxesSubplot:>"
      ]
     },
     "execution_count": 83,
     "metadata": {},
     "output_type": "execute_result"
    },
    {
     "data": {
      "image/png": "[encoded data removed]",
      "text/plain": [
       "<Figure size 432x288 with 1 Axes>"
      ]
     },
     "metadata": {
      "needs_background": "light"
     },
     "output_type": "display_data"
    }
   ],
   "source": [
    "import matplotlib.pyplot as plt\n",
    "data['days_exposition'] = data['days_exposition'].astype('int')\n",
    "data.boxplot('days_exposition')"
   ]
  },
  {
   "cell_type": "code",
   "execution_count": 84,
   "metadata": {
    "scrolled": false
   },
   "outputs": [
    {
     "data": {
      "text/plain": [
       "count    23613.000000\n",
       "mean       163.302715\n",
       "std        209.214045\n",
       "min          1.000000\n",
       "25%         45.000000\n",
       "50%         73.000000\n",
       "75%        199.000000\n",
       "max       1580.000000\n",
       "Name: days_exposition, dtype: float64"
      ]
     },
     "execution_count": 84,
     "metadata": {},
     "output_type": "execute_result"
    }
   ],
   "source": [
    "data['days_exposition'].describe()"
   ]
  },
  {
   "cell_type": "code",
   "execution_count": 85,
   "metadata": {
    "scrolled": true
   },
   "outputs": [
    {
     "data": {
      "text/plain": [
       "50    3233\n",
       "45     880\n",
       "60     538\n",
       "7      234\n",
       "30     208\n",
       "90     201\n",
       "4      176\n",
       "3      157\n",
       "5      152\n",
       "14     147\n",
       "Name: days_exposition, dtype: int64"
      ]
     },
     "execution_count": 85,
     "metadata": {},
     "output_type": "execute_result"
    }
   ],
   "source": [
    "data['days_exposition'].value_counts().head(10)"
   ]
  },
  {
   "cell_type": "markdown",
   "metadata": {},
   "source": [
    "Можем сделать вывод, что обычно продажа занимает от 45 до 60 дней. Быстрой продажей можно считать те случаи, когда удалось закрыть продажу за 1-7 дней. Долгая продажа - от 200 дней и больше. Считаю, что значения в таблице более 730 (а это 2 года) ошибочными. Могли забыть вовремя закрыть продажу. Поэтому такие значения предлагаю сократить до 900 (2,5 года). "
   ]
  },
  {
   "cell_type": "code",
   "execution_count": 86,
   "metadata": {
    "scrolled": false
   },
   "outputs": [
    {
     "data": {
      "text/plain": [
       "<AxesSubplot:>"
      ]
     },
     "execution_count": 86,
     "metadata": {},
     "output_type": "execute_result"
    },
    {
     "data": {
      "image/png": "[encoded data removed]",
      "text/plain": [
       "<Figure size 432x288 with 1 Axes>"
      ]
     },
     "metadata": {
      "needs_background": "light"
     },
     "output_type": "display_data"
    }
   ],
   "source": [
    "wrong = []\n",
    "for number in data['days_exposition']:\n",
    "    if number > 900:\n",
    "        wrong.append(number)\n",
    "        \n",
    "for value in wrong:\n",
    "    data.loc[data['days_exposition'] == value, 'days_exposition'] = 900\n",
    "data.boxplot('days_exposition')"
   ]
  },
  {
   "cell_type": "code",
   "execution_count": 87,
   "metadata": {
    "scrolled": true
   },
   "outputs": [
    {
     "data": {
      "text/plain": [
       "count    23613.000000\n",
       "mean       159.905433\n",
       "std        194.133668\n",
       "min          1.000000\n",
       "25%         45.000000\n",
       "50%         73.000000\n",
       "75%        199.000000\n",
       "max        900.000000\n",
       "Name: days_exposition, dtype: float64"
      ]
     },
     "execution_count": 87,
     "metadata": {},
     "output_type": "execute_result"
    }
   ],
   "source": [
    "data['days_exposition'].describe()"
   ]
  },
  {
   "cell_type": "markdown",
   "metadata": {},
   "source": [
    "Значения не сильно отличаются от первоначальных, поэтому считаю данные неискаженные. Зато значений стало меньше."
   ]
  },
  {
   "cell_type": "code",
   "execution_count": 88,
   "metadata": {},
   "outputs": [
    {
     "data": {
      "text/plain": [
       "count    23613.000000\n",
       "mean        60.340678\n",
       "std         35.648988\n",
       "min         12.000000\n",
       "25%         40.000000\n",
       "50%         52.000000\n",
       "75%         69.800000\n",
       "max        900.000000\n",
       "Name: total_area, dtype: float64"
      ]
     },
     "execution_count": 88,
     "metadata": {},
     "output_type": "execute_result"
    }
   ],
   "source": [
    "#проверим столбец с площадью\n",
    "data['total_area'].describe()"
   ]
  },
  {
   "cell_type": "code",
   "execution_count": 89,
   "metadata": {},
   "outputs": [
    {
     "data": {
      "text/plain": [
       "count    23613.000000\n",
       "mean        34.421917\n",
       "std         21.205705\n",
       "min          2.000000\n",
       "25%         19.000000\n",
       "50%         30.800000\n",
       "75%         41.100000\n",
       "max        409.700000\n",
       "Name: living_area, dtype: float64"
      ]
     },
     "execution_count": 89,
     "metadata": {},
     "output_type": "execute_result"
    }
   ],
   "source": [
    "data['living_area'].describe()"
   ]
  },
  {
   "cell_type": "markdown",
   "metadata": {},
   "source": [
    "А вот и странное значение: 2кв.м - жилая площадь.\n",
    "Посмотрим что это за столбец и исправим его, скорее всего опечатка"
   ]
  },
  {
   "cell_type": "code",
   "execution_count": 90,
   "metadata": {},
   "outputs": [
    {
     "data": {
      "text/html": [
       "<div>\n",
       "<style scoped>\n",
       "    .dataframe tbody tr th:only-of-type {\n",
       "        vertical-align: middle;\n",
       "    }\n",
       "\n",
       "    .dataframe tbody tr th {\n",
       "        vertical-align: top;\n",
       "    }\n",
       "\n",
       "    .dataframe thead th {\n",
       "        text-align: right;\n",
       "    }\n",
       "</style>\n",
       "<table border=\"1\" class=\"dataframe\">\n",
       "  <thead>\n",
       "    <tr style=\"text-align: right;\">\n",
       "      <th></th>\n",
       "      <th>total_images</th>\n",
       "      <th>last_price</th>\n",
       "      <th>total_area</th>\n",
       "      <th>first_day_exposition</th>\n",
       "      <th>rooms</th>\n",
       "      <th>ceiling_height</th>\n",
       "      <th>floors_total</th>\n",
       "      <th>living_area</th>\n",
       "      <th>floor</th>\n",
       "      <th>is_apartment</th>\n",
       "      <th>...</th>\n",
       "      <th>ponds_around3000</th>\n",
       "      <th>ponds_nearest</th>\n",
       "      <th>days_exposition</th>\n",
       "      <th>price_metr</th>\n",
       "      <th>floor_group</th>\n",
       "      <th>weekday</th>\n",
       "      <th>year</th>\n",
       "      <th>month</th>\n",
       "      <th>living_total</th>\n",
       "      <th>kitchen_total</th>\n",
       "    </tr>\n",
       "  </thead>\n",
       "  <tbody>\n",
       "    <tr>\n",
       "      <th>13915</th>\n",
       "      <td>20</td>\n",
       "      <td>6350000.0</td>\n",
       "      <td>52.0</td>\n",
       "      <td>2018-02-06</td>\n",
       "      <td>2</td>\n",
       "      <td>3.0</td>\n",
       "      <td>6.0</td>\n",
       "      <td>2.0</td>\n",
       "      <td>2</td>\n",
       "      <td>False</td>\n",
       "      <td>...</td>\n",
       "      <td>1.0</td>\n",
       "      <td>1012.0</td>\n",
       "      <td>91</td>\n",
       "      <td>122115.385</td>\n",
       "      <td>другой</td>\n",
       "      <td>1</td>\n",
       "      <td>2018</td>\n",
       "      <td>2</td>\n",
       "      <td>0.038462</td>\n",
       "      <td>0.173077</td>\n",
       "    </tr>\n",
       "    <tr>\n",
       "      <th>21758</th>\n",
       "      <td>0</td>\n",
       "      <td>2330000.0</td>\n",
       "      <td>23.0</td>\n",
       "      <td>2018-01-01</td>\n",
       "      <td>0</td>\n",
       "      <td>2.5</td>\n",
       "      <td>24.0</td>\n",
       "      <td>2.0</td>\n",
       "      <td>22</td>\n",
       "      <td>False</td>\n",
       "      <td>...</td>\n",
       "      <td>1.0</td>\n",
       "      <td>520.0</td>\n",
       "      <td>66</td>\n",
       "      <td>101304.348</td>\n",
       "      <td>другой</td>\n",
       "      <td>0</td>\n",
       "      <td>2018</td>\n",
       "      <td>1</td>\n",
       "      <td>0.086957</td>\n",
       "      <td>0.479902</td>\n",
       "    </tr>\n",
       "  </tbody>\n",
       "</table>\n",
       "<p>2 rows × 29 columns</p>\n",
       "</div>"
      ],
      "text/plain": [
       "       total_images  last_price  total_area first_day_exposition  rooms  \\\n",
       "13915            20   6350000.0        52.0           2018-02-06      2   \n",
       "21758             0   2330000.0        23.0           2018-01-01      0   \n",
       "\n",
       "       ceiling_height  floors_total  living_area  floor  is_apartment  ...  \\\n",
       "13915             3.0           6.0          2.0      2         False  ...   \n",
       "21758             2.5          24.0          2.0     22         False  ...   \n",
       "\n",
       "       ponds_around3000  ponds_nearest  days_exposition  price_metr  \\\n",
       "13915               1.0         1012.0               91  122115.385   \n",
       "21758               1.0          520.0               66  101304.348   \n",
       "\n",
       "      floor_group  weekday  year  month  living_total  kitchen_total  \n",
       "13915      другой        1  2018      2      0.038462       0.173077  \n",
       "21758      другой        0  2018      1      0.086957       0.479902  \n",
       "\n",
       "[2 rows x 29 columns]"
      ]
     },
     "execution_count": 90,
     "metadata": {},
     "output_type": "execute_result"
    }
   ],
   "source": [
    "data.loc[data['living_area']==2]"
   ]
  },
  {
   "cell_type": "code",
   "execution_count": 91,
   "metadata": {},
   "outputs": [
    {
     "name": "stderr",
     "output_type": "stream",
     "text": [
      "/tmp/ipykernel_85/77969073.py:1: SettingWithCopyWarning: \n",
      "A value is trying to be set on a copy of a slice from a DataFrame\n",
      "\n",
      "See the caveats in the documentation: https://pandas.pydata.org/pandas-docs/stable/user_guide/indexing.html#returning-a-view-versus-a-copy\n",
      "  data['living_area'][13915] = 20.0\n"
     ]
    },
    {
     "data": {
      "text/plain": [
       "20.0"
      ]
     },
     "execution_count": 91,
     "metadata": {},
     "output_type": "execute_result"
    }
   ],
   "source": [
    "data['living_area'][13915] = 20.0\n",
    "data['living_area'][13915]"
   ]
  },
  {
   "cell_type": "code",
   "execution_count": 92,
   "metadata": {},
   "outputs": [
    {
     "data": {
      "text/plain": [
       "count        23613.0\n",
       "mean       6540555.0\n",
       "std       10901723.0\n",
       "min          12190.0\n",
       "25%        3400000.0\n",
       "50%        4650000.0\n",
       "75%        6799000.0\n",
       "max      763000000.0\n",
       "Name: last_price, dtype: float64"
      ]
     },
     "execution_count": 92,
     "metadata": {},
     "output_type": "execute_result"
    }
   ],
   "source": [
    "data['last_price'].describe().round()"
   ]
  },
  {
   "cell_type": "code",
   "execution_count": 93,
   "metadata": {},
   "outputs": [
    {
     "data": {
      "text/html": [
       "<div>\n",
       "<style scoped>\n",
       "    .dataframe tbody tr th:only-of-type {\n",
       "        vertical-align: middle;\n",
       "    }\n",
       "\n",
       "    .dataframe tbody tr th {\n",
       "        vertical-align: top;\n",
       "    }\n",
       "\n",
       "    .dataframe thead th {\n",
       "        text-align: right;\n",
       "    }\n",
       "</style>\n",
       "<table border=\"1\" class=\"dataframe\">\n",
       "  <thead>\n",
       "    <tr style=\"text-align: right;\">\n",
       "      <th></th>\n",
       "      <th>total_images</th>\n",
       "      <th>last_price</th>\n",
       "      <th>total_area</th>\n",
       "      <th>first_day_exposition</th>\n",
       "      <th>rooms</th>\n",
       "      <th>ceiling_height</th>\n",
       "      <th>floors_total</th>\n",
       "      <th>living_area</th>\n",
       "      <th>floor</th>\n",
       "      <th>is_apartment</th>\n",
       "      <th>...</th>\n",
       "      <th>ponds_around3000</th>\n",
       "      <th>ponds_nearest</th>\n",
       "      <th>days_exposition</th>\n",
       "      <th>price_metr</th>\n",
       "      <th>floor_group</th>\n",
       "      <th>weekday</th>\n",
       "      <th>year</th>\n",
       "      <th>month</th>\n",
       "      <th>living_total</th>\n",
       "      <th>kitchen_total</th>\n",
       "    </tr>\n",
       "  </thead>\n",
       "  <tbody>\n",
       "    <tr>\n",
       "      <th>8793</th>\n",
       "      <td>7</td>\n",
       "      <td>12190.0</td>\n",
       "      <td>109.0</td>\n",
       "      <td>2019-03-20</td>\n",
       "      <td>2</td>\n",
       "      <td>2.75</td>\n",
       "      <td>25.0</td>\n",
       "      <td>32.0</td>\n",
       "      <td>25</td>\n",
       "      <td>False</td>\n",
       "      <td>...</td>\n",
       "      <td>0.0</td>\n",
       "      <td>520.391129</td>\n",
       "      <td>8</td>\n",
       "      <td>111.835</td>\n",
       "      <td>последний</td>\n",
       "      <td>2</td>\n",
       "      <td>2019</td>\n",
       "      <td>3</td>\n",
       "      <td>0.293578</td>\n",
       "      <td>0.37156</td>\n",
       "    </tr>\n",
       "  </tbody>\n",
       "</table>\n",
       "<p>1 rows × 29 columns</p>\n",
       "</div>"
      ],
      "text/plain": [
       "      total_images  last_price  total_area first_day_exposition  rooms  \\\n",
       "8793             7     12190.0       109.0           2019-03-20      2   \n",
       "\n",
       "      ceiling_height  floors_total  living_area  floor  is_apartment  ...  \\\n",
       "8793            2.75          25.0         32.0     25         False  ...   \n",
       "\n",
       "      ponds_around3000  ponds_nearest  days_exposition price_metr floor_group  \\\n",
       "8793               0.0     520.391129                8    111.835   последний   \n",
       "\n",
       "      weekday  year  month  living_total  kitchen_total  \n",
       "8793        2  2019      3      0.293578        0.37156  \n",
       "\n",
       "[1 rows x 29 columns]"
      ]
     },
     "execution_count": 93,
     "metadata": {},
     "output_type": "execute_result"
    }
   ],
   "source": [
    "data.loc[data['last_price']==12190.0]"
   ]
  },
  {
   "cell_type": "markdown",
   "metadata": {},
   "source": [
    "Подозрительно низкая цена для квартиры площадью 109 квадратов. Забыли нолик в конце. Думаю можно умножить эту цену на 0 "
   ]
  },
  {
   "cell_type": "code",
   "execution_count": 94,
   "metadata": {},
   "outputs": [
    {
     "name": "stderr",
     "output_type": "stream",
     "text": [
      "/tmp/ipykernel_85/2504919243.py:1: SettingWithCopyWarning: \n",
      "A value is trying to be set on a copy of a slice from a DataFrame\n",
      "\n",
      "See the caveats in the documentation: https://pandas.pydata.org/pandas-docs/stable/user_guide/indexing.html#returning-a-view-versus-a-copy\n",
      "  data['last_price'][8793] = data['last_price'][8793]*10\n"
     ]
    },
    {
     "data": {
      "text/plain": [
       "121900.0"
      ]
     },
     "execution_count": 94,
     "metadata": {},
     "output_type": "execute_result"
    }
   ],
   "source": [
    "data['last_price'][8793] = data['last_price'][8793]*10\n",
    "data['last_price'][8793]"
   ]
  },
  {
   "cell_type": "markdown",
   "metadata": {},
   "source": [
    "_______________________________________"
   ]
  },
  {
   "cell_type": "markdown",
   "metadata": {},
   "source": [
    "**Задача:** Какие факторы больше всего влияют на стоимость квартиры? Изучите, зависит ли цена от площади, числа комнат, удалённости от центра. Изучите зависимость цены от того, на каком этаже расположена квартира: первом, последнем или другом. Также изучите зависимость от даты размещения: дня недели, месяца и года."
   ]
  },
  {
   "cell_type": "code",
   "execution_count": 95,
   "metadata": {},
   "outputs": [
    {
     "data": {
      "text/html": [
       "<div>\n",
       "<style scoped>\n",
       "    .dataframe tbody tr th:only-of-type {\n",
       "        vertical-align: middle;\n",
       "    }\n",
       "\n",
       "    .dataframe tbody tr th {\n",
       "        vertical-align: top;\n",
       "    }\n",
       "\n",
       "    .dataframe thead th {\n",
       "        text-align: right;\n",
       "    }\n",
       "</style>\n",
       "<table border=\"1\" class=\"dataframe\">\n",
       "  <thead>\n",
       "    <tr style=\"text-align: right;\">\n",
       "      <th></th>\n",
       "      <th>last_price</th>\n",
       "      <th>total_area</th>\n",
       "      <th>rooms</th>\n",
       "      <th>cityCenters_nearest</th>\n",
       "    </tr>\n",
       "  </thead>\n",
       "  <tbody>\n",
       "    <tr>\n",
       "      <th>0</th>\n",
       "      <td>13000000.0</td>\n",
       "      <td>108.0</td>\n",
       "      <td>3</td>\n",
       "      <td>16028.0</td>\n",
       "    </tr>\n",
       "    <tr>\n",
       "      <th>1</th>\n",
       "      <td>3350000.0</td>\n",
       "      <td>40.4</td>\n",
       "      <td>1</td>\n",
       "      <td>18603.0</td>\n",
       "    </tr>\n",
       "    <tr>\n",
       "      <th>2</th>\n",
       "      <td>5196000.0</td>\n",
       "      <td>56.0</td>\n",
       "      <td>2</td>\n",
       "      <td>13933.0</td>\n",
       "    </tr>\n",
       "    <tr>\n",
       "      <th>3</th>\n",
       "      <td>64900000.0</td>\n",
       "      <td>159.0</td>\n",
       "      <td>3</td>\n",
       "      <td>6800.0</td>\n",
       "    </tr>\n",
       "    <tr>\n",
       "      <th>4</th>\n",
       "      <td>10000000.0</td>\n",
       "      <td>100.0</td>\n",
       "      <td>2</td>\n",
       "      <td>8098.0</td>\n",
       "    </tr>\n",
       "  </tbody>\n",
       "</table>\n",
       "</div>"
      ],
      "text/plain": [
       "   last_price  total_area  rooms  cityCenters_nearest\n",
       "0  13000000.0       108.0      3              16028.0\n",
       "1   3350000.0        40.4      1              18603.0\n",
       "2   5196000.0        56.0      2              13933.0\n",
       "3  64900000.0       159.0      3               6800.0\n",
       "4  10000000.0       100.0      2               8098.0"
      ]
     },
     "execution_count": 95,
     "metadata": {},
     "output_type": "execute_result"
    }
   ],
   "source": [
    "#создадим таблицу, куда поместим 4 столбца: цена, площадь, число комнат, удалённость от центра.\n",
    "data_price_group = data[['last_price', 'total_area', 'rooms', 'cityCenters_nearest']]\n",
    "data_price_group.head()"
   ]
  },
  {
   "cell_type": "code",
   "execution_count": 96,
   "metadata": {
    "scrolled": false
   },
   "outputs": [
    {
     "data": {
      "image/png": "[encoded data removed]",
      "text/plain": [
       "<Figure size 648x648 with 16 Axes>"
      ]
     },
     "metadata": {
      "needs_background": "light"
     },
     "output_type": "display_data"
    }
   ],
   "source": [
    "pd.plotting.scatter_matrix(data_price_group, figsize=(9,9));"
   ]
  },
  {
   "cell_type": "code",
   "execution_count": 97,
   "metadata": {},
   "outputs": [
    {
     "data": {
      "text/html": [
       "<div>\n",
       "<style scoped>\n",
       "    .dataframe tbody tr th:only-of-type {\n",
       "        vertical-align: middle;\n",
       "    }\n",
       "\n",
       "    .dataframe tbody tr th {\n",
       "        vertical-align: top;\n",
       "    }\n",
       "\n",
       "    .dataframe thead th {\n",
       "        text-align: right;\n",
       "    }\n",
       "</style>\n",
       "<table border=\"1\" class=\"dataframe\">\n",
       "  <thead>\n",
       "    <tr style=\"text-align: right;\">\n",
       "      <th></th>\n",
       "      <th>last_price</th>\n",
       "      <th>total_area</th>\n",
       "      <th>rooms</th>\n",
       "      <th>cityCenters_nearest</th>\n",
       "    </tr>\n",
       "  </thead>\n",
       "  <tbody>\n",
       "    <tr>\n",
       "      <th>last_price</th>\n",
       "      <td>1.000000</td>\n",
       "      <td>0.653582</td>\n",
       "      <td>0.363124</td>\n",
       "      <td>-0.048363</td>\n",
       "    </tr>\n",
       "    <tr>\n",
       "      <th>total_area</th>\n",
       "      <td>0.653582</td>\n",
       "      <td>1.000000</td>\n",
       "      <td>0.758324</td>\n",
       "      <td>-0.074803</td>\n",
       "    </tr>\n",
       "    <tr>\n",
       "      <th>rooms</th>\n",
       "      <td>0.363124</td>\n",
       "      <td>0.758324</td>\n",
       "      <td>1.000000</td>\n",
       "      <td>-0.059851</td>\n",
       "    </tr>\n",
       "    <tr>\n",
       "      <th>cityCenters_nearest</th>\n",
       "      <td>-0.048363</td>\n",
       "      <td>-0.074803</td>\n",
       "      <td>-0.059851</td>\n",
       "      <td>1.000000</td>\n",
       "    </tr>\n",
       "  </tbody>\n",
       "</table>\n",
       "</div>"
      ],
      "text/plain": [
       "                     last_price  total_area     rooms  cityCenters_nearest\n",
       "last_price             1.000000    0.653582  0.363124            -0.048363\n",
       "total_area             0.653582    1.000000  0.758324            -0.074803\n",
       "rooms                  0.363124    0.758324  1.000000            -0.059851\n",
       "cityCenters_nearest   -0.048363   -0.074803 -0.059851             1.000000"
      ]
     },
     "execution_count": 97,
     "metadata": {},
     "output_type": "execute_result"
    }
   ],
   "source": [
    "data_price_group.corr()"
   ]
  },
  {
   "cell_type": "markdown",
   "metadata": {},
   "source": [
    "Благодаря коэффициенту корреляции Пирсона, можем сделать вывод:\n",
    "\n",
    "**Зависимость цены от площади:** равно 0,65. Число положительное, ближе к единице. Говорит о том, что цена зависит от площади. С ростом площади растет и цена.\n",
    "**Зависимость цены от количества комнат:** равно 0,36. Число положительное, ближе к нулю. Говорит о том, что цена зависит от количества комнат, но не сильно. С ростом количества комнат цена растет медленно. Связь слабая.\n",
    "**Зависимость цены от удаленности от центра:** равно -0,04. Число отрицательное, ближе к нулю. Говорит о том, что цена не зависит от удаленности. С увеличением удаленности от центра цена снижается, при этом практически нет взаимосвязи. "
   ]
  },
  {
   "cell_type": "markdown",
   "metadata": {},
   "source": [
    "__________"
   ]
  },
  {
   "cell_type": "code",
   "execution_count": 98,
   "metadata": {
    "scrolled": true
   },
   "outputs": [
    {
     "data": {
      "text/html": [
       "<div>\n",
       "<style scoped>\n",
       "    .dataframe tbody tr th:only-of-type {\n",
       "        vertical-align: middle;\n",
       "    }\n",
       "\n",
       "    .dataframe tbody tr th {\n",
       "        vertical-align: top;\n",
       "    }\n",
       "\n",
       "    .dataframe thead th {\n",
       "        text-align: right;\n",
       "    }\n",
       "</style>\n",
       "<table border=\"1\" class=\"dataframe\">\n",
       "  <thead>\n",
       "    <tr style=\"text-align: right;\">\n",
       "      <th></th>\n",
       "      <th>last_price</th>\n",
       "      <th>floor_group</th>\n",
       "      <th>weekday</th>\n",
       "      <th>month</th>\n",
       "      <th>year</th>\n",
       "    </tr>\n",
       "  </thead>\n",
       "  <tbody>\n",
       "    <tr>\n",
       "      <th>0</th>\n",
       "      <td>13000000.0</td>\n",
       "      <td>другой</td>\n",
       "      <td>3</td>\n",
       "      <td>3</td>\n",
       "      <td>2019</td>\n",
       "    </tr>\n",
       "    <tr>\n",
       "      <th>1</th>\n",
       "      <td>3350000.0</td>\n",
       "      <td>первый</td>\n",
       "      <td>1</td>\n",
       "      <td>12</td>\n",
       "      <td>2018</td>\n",
       "    </tr>\n",
       "    <tr>\n",
       "      <th>2</th>\n",
       "      <td>5196000.0</td>\n",
       "      <td>другой</td>\n",
       "      <td>3</td>\n",
       "      <td>8</td>\n",
       "      <td>2015</td>\n",
       "    </tr>\n",
       "    <tr>\n",
       "      <th>3</th>\n",
       "      <td>64900000.0</td>\n",
       "      <td>другой</td>\n",
       "      <td>4</td>\n",
       "      <td>7</td>\n",
       "      <td>2015</td>\n",
       "    </tr>\n",
       "    <tr>\n",
       "      <th>4</th>\n",
       "      <td>10000000.0</td>\n",
       "      <td>другой</td>\n",
       "      <td>1</td>\n",
       "      <td>6</td>\n",
       "      <td>2018</td>\n",
       "    </tr>\n",
       "  </tbody>\n",
       "</table>\n",
       "</div>"
      ],
      "text/plain": [
       "   last_price floor_group  weekday  month  year\n",
       "0  13000000.0      другой        3      3  2019\n",
       "1   3350000.0      первый        1     12  2018\n",
       "2   5196000.0      другой        3      8  2015\n",
       "3  64900000.0      другой        4      7  2015\n",
       "4  10000000.0      другой        1      6  2018"
      ]
     },
     "execution_count": 98,
     "metadata": {},
     "output_type": "execute_result"
    }
   ],
   "source": [
    "#создадим еще одну таблицу для сравнения\n",
    "data_price_group_2 = data[['last_price', 'floor_group', 'weekday', 'month', 'year']]\n",
    "data_price_group_2.head()"
   ]
  },
  {
   "cell_type": "code",
   "execution_count": 99,
   "metadata": {},
   "outputs": [
    {
     "data": {
      "text/plain": [
       "floor_group\n",
       "другой       4850000.0\n",
       "первый       3900000.0\n",
       "последний    4300000.0\n",
       "Name: last_price, dtype: float64"
      ]
     },
     "execution_count": 99,
     "metadata": {},
     "output_type": "execute_result"
    }
   ],
   "source": [
    "#группируем по этажам\n",
    "group = data_price_group_2.groupby('floor_group')['last_price'].median()\n",
    "group.head()"
   ]
  },
  {
   "cell_type": "code",
   "execution_count": 100,
   "metadata": {
    "scrolled": false
   },
   "outputs": [
    {
     "data": {
      "text/plain": [
       "<AxesSubplot:xlabel='floor_group'>"
      ]
     },
     "execution_count": 100,
     "metadata": {},
     "output_type": "execute_result"
    },
    {
     "data": {
      "image/png": "[encoded data removed]",
      "text/plain": [
       "<Figure size 720x360 with 1 Axes>"
      ]
     },
     "metadata": {
      "needs_background": "light"
     },
     "output_type": "display_data"
    }
   ],
   "source": [
    "group.plot(x='floor_group', \n",
    "                                                      y='last_price', \n",
    "                                                      grid=True, \n",
    "                                                      style='o', \n",
    "                                                      figsize=(10,5),\n",
    "                                                      )\n"
   ]
  },
  {
   "cell_type": "markdown",
   "metadata": {},
   "source": [
    "Мы сделали группировку по этажам и нашли медиану. Наименьшая цена на первом этаже, наивысшая на другом. Последний этаж - средняя цена."
   ]
  },
  {
   "cell_type": "code",
   "execution_count": 101,
   "metadata": {
    "scrolled": true
   },
   "outputs": [
    {
     "data": {
      "text/plain": [
       "weekday\n",
       "0    4650000.0\n",
       "1    4725000.0\n",
       "2    4700000.0\n",
       "3    4650000.0\n",
       "4    4577500.0\n",
       "5    4550000.0\n",
       "6    4540000.0\n",
       "Name: last_price, dtype: float64"
      ]
     },
     "execution_count": 101,
     "metadata": {},
     "output_type": "execute_result"
    }
   ],
   "source": [
    "#группируем по дням недели\n",
    "group_2 = data_price_group_2.groupby('weekday')['last_price'].median()\n",
    "group_2.head(7)"
   ]
  },
  {
   "cell_type": "code",
   "execution_count": 102,
   "metadata": {},
   "outputs": [
    {
     "data": {
      "text/plain": [
       "<AxesSubplot:xlabel='weekday'>"
      ]
     },
     "execution_count": 102,
     "metadata": {},
     "output_type": "execute_result"
    },
    {
     "data": {
      "image/png": "[encoded data removed]",
      "text/plain": [
       "<Figure size 720x360 with 1 Axes>"
      ]
     },
     "metadata": {
      "needs_background": "light"
     },
     "output_type": "display_data"
    }
   ],
   "source": [
    "group_2.plot(x='weekday', \n",
    "             y='last_price', \n",
    "             grid=True, \n",
    "             style='o', \n",
    "             figsize=(10,5),\n",
    "             )\n"
   ]
  },
  {
   "cell_type": "markdown",
   "metadata": {},
   "source": [
    "Аналогично прошлому решению, создали группировку. \n",
    "\n",
    "Самая высокая цена - публикация во вторник, наименьшая - в воскресенье. "
   ]
  },
  {
   "cell_type": "code",
   "execution_count": 103,
   "metadata": {},
   "outputs": [
    {
     "data": {
      "text/plain": [
       "month\n",
       "1     4600000.0\n",
       "2     4650000.0\n",
       "3     4650000.0\n",
       "4     4800000.0\n",
       "5     4500000.0\n",
       "6     4400000.0\n",
       "7     4650000.0\n",
       "8     4570000.0\n",
       "9     4700000.0\n",
       "10    4570000.0\n",
       "11    4700000.0\n",
       "12    4700000.0\n",
       "Name: last_price, dtype: float64"
      ]
     },
     "execution_count": 103,
     "metadata": {},
     "output_type": "execute_result"
    }
   ],
   "source": [
    "#группируем по месяцам\n",
    "group_3 = data_price_group_2.groupby('month')['last_price'].median()\n",
    "group_3.head(12)"
   ]
  },
  {
   "cell_type": "code",
   "execution_count": 104,
   "metadata": {},
   "outputs": [
    {
     "data": {
      "text/plain": [
       "<AxesSubplot:xlabel='month'>"
      ]
     },
     "execution_count": 104,
     "metadata": {},
     "output_type": "execute_result"
    },
    {
     "data": {
      "image/png": "[encoded data removed]",
      "text/plain": [
       "<Figure size 720x360 with 1 Axes>"
      ]
     },
     "metadata": {
      "needs_background": "light"
     },
     "output_type": "display_data"
    }
   ],
   "source": [
    "group_3.plot(x='month', \n",
    "             y='last_price', \n",
    "             grid=True, \n",
    "             style='o', \n",
    "             figsize=(10,5),\n",
    "             )"
   ]
  },
  {
   "cell_type": "markdown",
   "metadata": {},
   "source": [
    "Наивысшая цена - публикация в апреле, наименьшая - июнь."
   ]
  },
  {
   "cell_type": "code",
   "execution_count": 105,
   "metadata": {},
   "outputs": [
    {
     "data": {
      "text/plain": [
       "year\n",
       "2014    7700000.0\n",
       "2015    5312500.0\n",
       "2016    4550000.0\n",
       "2017    4500000.0\n",
       "2018    4550000.0\n",
       "2019    5050000.0\n",
       "Name: last_price, dtype: float64"
      ]
     },
     "execution_count": 105,
     "metadata": {},
     "output_type": "execute_result"
    }
   ],
   "source": [
    "#группируем по годам\n",
    "group_4 = data_price_group_2.groupby('year')['last_price'].median()\n",
    "group_4.head(6)"
   ]
  },
  {
   "cell_type": "code",
   "execution_count": 106,
   "metadata": {},
   "outputs": [
    {
     "data": {
      "text/plain": [
       "<AxesSubplot:xlabel='year'>"
      ]
     },
     "execution_count": 106,
     "metadata": {},
     "output_type": "execute_result"
    },
    {
     "data": {
      "image/png": "[encoded data removed]",
      "text/plain": [
       "<Figure size 720x360 with 1 Axes>"
      ]
     },
     "metadata": {
      "needs_background": "light"
     },
     "output_type": "display_data"
    }
   ],
   "source": [
    "group_4.plot(x='year', \n",
    "             y='last_price', \n",
    "             grid=True, \n",
    "             style='o', \n",
    "             figsize=(10,5),\n",
    "             )"
   ]
  },
  {
   "cell_type": "markdown",
   "metadata": {},
   "source": [
    "Наудивление самая большая цена в 2014 году. А наименьшая - 2016-2018 года. Рынок недвижимости сильно просел в 2016 году, а в 2019 не сильно \"очухался\", цена до уровня 2014 года не поднялась. "
   ]
  },
  {
   "cell_type": "markdown",
   "metadata": {},
   "source": [
    "______"
   ]
  },
  {
   "cell_type": "markdown",
   "metadata": {},
   "source": [
    "**Задача:** Выберите 10 населённых пунктов с наибольшим числом объявлений. Посчитайте среднюю цену квадратного метра в этих населённых пунктах. Выделите населённые пункты с самой высокой и низкой стоимостью жилья. Эти данные можно найти по имени в столбце locality_name"
   ]
  },
  {
   "cell_type": "code",
   "execution_count": 107,
   "metadata": {},
   "outputs": [
    {
     "data": {
      "text/html": [
       "<div>\n",
       "<style scoped>\n",
       "    .dataframe tbody tr th:only-of-type {\n",
       "        vertical-align: middle;\n",
       "    }\n",
       "\n",
       "    .dataframe tbody tr th {\n",
       "        vertical-align: top;\n",
       "    }\n",
       "\n",
       "    .dataframe thead th {\n",
       "        text-align: right;\n",
       "    }\n",
       "</style>\n",
       "<table border=\"1\" class=\"dataframe\">\n",
       "  <thead>\n",
       "    <tr style=\"text-align: right;\">\n",
       "      <th></th>\n",
       "      <th>count</th>\n",
       "      <th>mean</th>\n",
       "    </tr>\n",
       "    <tr>\n",
       "      <th>locality_name</th>\n",
       "      <th></th>\n",
       "      <th></th>\n",
       "    </tr>\n",
       "  </thead>\n",
       "  <tbody>\n",
       "    <tr>\n",
       "      <th>Бокситогорск</th>\n",
       "      <td>16</td>\n",
       "      <td>17551</td>\n",
       "    </tr>\n",
       "    <tr>\n",
       "      <th>Волосово</th>\n",
       "      <td>36</td>\n",
       "      <td>40183</td>\n",
       "    </tr>\n",
       "    <tr>\n",
       "      <th>Волхов</th>\n",
       "      <td>111</td>\n",
       "      <td>35087</td>\n",
       "    </tr>\n",
       "    <tr>\n",
       "      <th>Всеволожск</th>\n",
       "      <td>398</td>\n",
       "      <td>68654</td>\n",
       "    </tr>\n",
       "    <tr>\n",
       "      <th>Выборг</th>\n",
       "      <td>237</td>\n",
       "      <td>58141</td>\n",
       "    </tr>\n",
       "  </tbody>\n",
       "</table>\n",
       "</div>"
      ],
      "text/plain": [
       "               count   mean\n",
       "locality_name              \n",
       "Бокситогорск      16  17551\n",
       "Волосово          36  40183\n",
       "Волхов           111  35087\n",
       "Всеволожск       398  68654\n",
       "Выборг           237  58141"
      ]
     },
     "execution_count": 107,
     "metadata": {},
     "output_type": "execute_result"
    }
   ],
   "source": [
    "city_group = data.pivot_table(index='locality_name', values='price_metr', aggfunc=('count', 'mean')).astype('int')\n",
    "city_group.head()"
   ]
  },
  {
   "cell_type": "code",
   "execution_count": 108,
   "metadata": {},
   "outputs": [
    {
     "data": {
      "text/html": [
       "<div>\n",
       "<style scoped>\n",
       "    .dataframe tbody tr th:only-of-type {\n",
       "        vertical-align: middle;\n",
       "    }\n",
       "\n",
       "    .dataframe tbody tr th {\n",
       "        vertical-align: top;\n",
       "    }\n",
       "\n",
       "    .dataframe thead th {\n",
       "        text-align: right;\n",
       "    }\n",
       "</style>\n",
       "<table border=\"1\" class=\"dataframe\">\n",
       "  <thead>\n",
       "    <tr style=\"text-align: right;\">\n",
       "      <th></th>\n",
       "      <th>locality_name</th>\n",
       "      <th>count</th>\n",
       "      <th>mean</th>\n",
       "    </tr>\n",
       "  </thead>\n",
       "  <tbody>\n",
       "    <tr>\n",
       "      <th>0</th>\n",
       "      <td>Санкт-Петербург</td>\n",
       "      <td>15651</td>\n",
       "      <td>114868</td>\n",
       "    </tr>\n",
       "    <tr>\n",
       "      <th>1</th>\n",
       "      <td>посёлок Мурино</td>\n",
       "      <td>520</td>\n",
       "      <td>85673</td>\n",
       "    </tr>\n",
       "    <tr>\n",
       "      <th>2</th>\n",
       "      <td>посёлок Шушары</td>\n",
       "      <td>439</td>\n",
       "      <td>78551</td>\n",
       "    </tr>\n",
       "    <tr>\n",
       "      <th>3</th>\n",
       "      <td>Всеволожск</td>\n",
       "      <td>398</td>\n",
       "      <td>68654</td>\n",
       "    </tr>\n",
       "    <tr>\n",
       "      <th>4</th>\n",
       "      <td>Пушкин</td>\n",
       "      <td>369</td>\n",
       "      <td>103125</td>\n",
       "    </tr>\n",
       "    <tr>\n",
       "      <th>5</th>\n",
       "      <td>Колпино</td>\n",
       "      <td>338</td>\n",
       "      <td>75424</td>\n",
       "    </tr>\n",
       "    <tr>\n",
       "      <th>6</th>\n",
       "      <td>посёлок Парголово</td>\n",
       "      <td>327</td>\n",
       "      <td>90175</td>\n",
       "    </tr>\n",
       "    <tr>\n",
       "      <th>7</th>\n",
       "      <td>Гатчина</td>\n",
       "      <td>307</td>\n",
       "      <td>68746</td>\n",
       "    </tr>\n",
       "    <tr>\n",
       "      <th>8</th>\n",
       "      <td>деревня Кудрово</td>\n",
       "      <td>299</td>\n",
       "      <td>92473</td>\n",
       "    </tr>\n",
       "    <tr>\n",
       "      <th>9</th>\n",
       "      <td>Выборг</td>\n",
       "      <td>237</td>\n",
       "      <td>58141</td>\n",
       "    </tr>\n",
       "  </tbody>\n",
       "</table>\n",
       "</div>"
      ],
      "text/plain": [
       "       locality_name  count    mean\n",
       "0    Санкт-Петербург  15651  114868\n",
       "1     посёлок Мурино    520   85673\n",
       "2     посёлок Шушары    439   78551\n",
       "3         Всеволожск    398   68654\n",
       "4             Пушкин    369  103125\n",
       "5            Колпино    338   75424\n",
       "6  посёлок Парголово    327   90175\n",
       "7            Гатчина    307   68746\n",
       "8    деревня Кудрово    299   92473\n",
       "9             Выборг    237   58141"
      ]
     },
     "execution_count": 108,
     "metadata": {},
     "output_type": "execute_result"
    }
   ],
   "source": [
    "ten_city = city_group.sort_values(by='count', ascending=False).reset_index().head(10)\n",
    "ten_city"
   ]
  },
  {
   "cell_type": "code",
   "execution_count": 109,
   "metadata": {
    "scrolled": false
   },
   "outputs": [
    {
     "data": {
      "text/plain": [
       "<AxesSubplot:xlabel='locality_name'>"
      ]
     },
     "execution_count": 109,
     "metadata": {},
     "output_type": "execute_result"
    },
    {
     "data": {
      "image/png": "[encoded data removed]",
      "text/plain": [
       "<Figure size 720x360 with 1 Axes>"
      ]
     },
     "metadata": {
      "needs_background": "light"
     },
     "output_type": "display_data"
    }
   ],
   "source": [
    "ten_city.plot(x='locality_name', y='mean', kind='bar', figsize=(10,5))"
   ]
  },
  {
   "cell_type": "code",
   "execution_count": 110,
   "metadata": {
    "scrolled": true
   },
   "outputs": [
    {
     "data": {
      "text/html": [
       "<div>\n",
       "<style scoped>\n",
       "    .dataframe tbody tr th:only-of-type {\n",
       "        vertical-align: middle;\n",
       "    }\n",
       "\n",
       "    .dataframe tbody tr th {\n",
       "        vertical-align: top;\n",
       "    }\n",
       "\n",
       "    .dataframe thead th {\n",
       "        text-align: right;\n",
       "    }\n",
       "</style>\n",
       "<table border=\"1\" class=\"dataframe\">\n",
       "  <thead>\n",
       "    <tr style=\"text-align: right;\">\n",
       "      <th></th>\n",
       "      <th>locality_name</th>\n",
       "      <th>count</th>\n",
       "      <th>mean</th>\n",
       "    </tr>\n",
       "  </thead>\n",
       "  <tbody>\n",
       "    <tr>\n",
       "      <th>0</th>\n",
       "      <td>Санкт-Петербург</td>\n",
       "      <td>15651</td>\n",
       "      <td>114868</td>\n",
       "    </tr>\n",
       "    <tr>\n",
       "      <th>4</th>\n",
       "      <td>Пушкин</td>\n",
       "      <td>369</td>\n",
       "      <td>103125</td>\n",
       "    </tr>\n",
       "    <tr>\n",
       "      <th>8</th>\n",
       "      <td>деревня Кудрово</td>\n",
       "      <td>299</td>\n",
       "      <td>92473</td>\n",
       "    </tr>\n",
       "    <tr>\n",
       "      <th>6</th>\n",
       "      <td>посёлок Парголово</td>\n",
       "      <td>327</td>\n",
       "      <td>90175</td>\n",
       "    </tr>\n",
       "    <tr>\n",
       "      <th>1</th>\n",
       "      <td>посёлок Мурино</td>\n",
       "      <td>520</td>\n",
       "      <td>85673</td>\n",
       "    </tr>\n",
       "    <tr>\n",
       "      <th>2</th>\n",
       "      <td>посёлок Шушары</td>\n",
       "      <td>439</td>\n",
       "      <td>78551</td>\n",
       "    </tr>\n",
       "    <tr>\n",
       "      <th>5</th>\n",
       "      <td>Колпино</td>\n",
       "      <td>338</td>\n",
       "      <td>75424</td>\n",
       "    </tr>\n",
       "    <tr>\n",
       "      <th>7</th>\n",
       "      <td>Гатчина</td>\n",
       "      <td>307</td>\n",
       "      <td>68746</td>\n",
       "    </tr>\n",
       "    <tr>\n",
       "      <th>3</th>\n",
       "      <td>Всеволожск</td>\n",
       "      <td>398</td>\n",
       "      <td>68654</td>\n",
       "    </tr>\n",
       "    <tr>\n",
       "      <th>9</th>\n",
       "      <td>Выборг</td>\n",
       "      <td>237</td>\n",
       "      <td>58141</td>\n",
       "    </tr>\n",
       "  </tbody>\n",
       "</table>\n",
       "</div>"
      ],
      "text/plain": [
       "       locality_name  count    mean\n",
       "0    Санкт-Петербург  15651  114868\n",
       "4             Пушкин    369  103125\n",
       "8    деревня Кудрово    299   92473\n",
       "6  посёлок Парголово    327   90175\n",
       "1     посёлок Мурино    520   85673\n",
       "2     посёлок Шушары    439   78551\n",
       "5            Колпино    338   75424\n",
       "7            Гатчина    307   68746\n",
       "3         Всеволожск    398   68654\n",
       "9             Выборг    237   58141"
      ]
     },
     "execution_count": 110,
     "metadata": {},
     "output_type": "execute_result"
    }
   ],
   "source": [
    "ten_city.sort_values(by='mean', ascending=False)"
   ]
  },
  {
   "cell_type": "markdown",
   "metadata": {},
   "source": [
    "Самая высокая цена - Санкт-Петербург = 114868 за метр\n",
    "\n",
    "Низкая - Выборг = 58141 за метр"
   ]
  },
  {
   "cell_type": "markdown",
   "metadata": {},
   "source": [
    "________"
   ]
  },
  {
   "cell_type": "markdown",
   "metadata": {},
   "source": [
    "**Задача:** Изучите предложения квартир: для каждой квартиры есть информация о расстоянии до центра. Выделите квартиры в Санкт-Петербурге (locality_name). Ваша задача — выяснить, какая область входит в центр. Создайте столбец с расстоянием до центра в километрах: округлите до целых значений. После этого посчитайте среднюю цену для каждого километра. Постройте график: он должен показывать, как цена зависит от удалённости от центра. Определите границу, где график сильно меняется, — это и будет центральная зона."
   ]
  },
  {
   "cell_type": "code",
   "execution_count": 111,
   "metadata": {
    "scrolled": false
   },
   "outputs": [
    {
     "data": {
      "text/html": [
       "<div>\n",
       "<style scoped>\n",
       "    .dataframe tbody tr th:only-of-type {\n",
       "        vertical-align: middle;\n",
       "    }\n",
       "\n",
       "    .dataframe tbody tr th {\n",
       "        vertical-align: top;\n",
       "    }\n",
       "\n",
       "    .dataframe thead th {\n",
       "        text-align: right;\n",
       "    }\n",
       "</style>\n",
       "<table border=\"1\" class=\"dataframe\">\n",
       "  <thead>\n",
       "    <tr style=\"text-align: right;\">\n",
       "      <th></th>\n",
       "      <th>total_images</th>\n",
       "      <th>last_price</th>\n",
       "      <th>total_area</th>\n",
       "      <th>first_day_exposition</th>\n",
       "      <th>rooms</th>\n",
       "      <th>ceiling_height</th>\n",
       "      <th>floors_total</th>\n",
       "      <th>living_area</th>\n",
       "      <th>floor</th>\n",
       "      <th>is_apartment</th>\n",
       "      <th>...</th>\n",
       "      <th>days_exposition</th>\n",
       "      <th>price_metr</th>\n",
       "      <th>floor_group</th>\n",
       "      <th>weekday</th>\n",
       "      <th>year</th>\n",
       "      <th>month</th>\n",
       "      <th>living_total</th>\n",
       "      <th>kitchen_total</th>\n",
       "      <th>centr_km</th>\n",
       "      <th>price_km</th>\n",
       "    </tr>\n",
       "  </thead>\n",
       "  <tbody>\n",
       "    <tr>\n",
       "      <th>0</th>\n",
       "      <td>20</td>\n",
       "      <td>13000000.0</td>\n",
       "      <td>108.0</td>\n",
       "      <td>2019-03-07</td>\n",
       "      <td>3</td>\n",
       "      <td>2.70</td>\n",
       "      <td>16.0</td>\n",
       "      <td>51.000000</td>\n",
       "      <td>8</td>\n",
       "      <td>False</td>\n",
       "      <td>...</td>\n",
       "      <td>50</td>\n",
       "      <td>120370.370</td>\n",
       "      <td>другой</td>\n",
       "      <td>3</td>\n",
       "      <td>2019</td>\n",
       "      <td>3</td>\n",
       "      <td>0.472222</td>\n",
       "      <td>0.231481</td>\n",
       "      <td>16</td>\n",
       "      <td>812500.0</td>\n",
       "    </tr>\n",
       "    <tr>\n",
       "      <th>2</th>\n",
       "      <td>10</td>\n",
       "      <td>5196000.0</td>\n",
       "      <td>56.0</td>\n",
       "      <td>2015-08-20</td>\n",
       "      <td>2</td>\n",
       "      <td>2.50</td>\n",
       "      <td>5.0</td>\n",
       "      <td>34.300000</td>\n",
       "      <td>4</td>\n",
       "      <td>False</td>\n",
       "      <td>...</td>\n",
       "      <td>558</td>\n",
       "      <td>92785.714</td>\n",
       "      <td>другой</td>\n",
       "      <td>3</td>\n",
       "      <td>2015</td>\n",
       "      <td>8</td>\n",
       "      <td>0.612500</td>\n",
       "      <td>0.148214</td>\n",
       "      <td>14</td>\n",
       "      <td>371143.0</td>\n",
       "    </tr>\n",
       "    <tr>\n",
       "      <th>3</th>\n",
       "      <td>0</td>\n",
       "      <td>64900000.0</td>\n",
       "      <td>159.0</td>\n",
       "      <td>2015-07-24</td>\n",
       "      <td>3</td>\n",
       "      <td>2.50</td>\n",
       "      <td>14.0</td>\n",
       "      <td>36.976588</td>\n",
       "      <td>9</td>\n",
       "      <td>False</td>\n",
       "      <td>...</td>\n",
       "      <td>424</td>\n",
       "      <td>408176.101</td>\n",
       "      <td>другой</td>\n",
       "      <td>4</td>\n",
       "      <td>2015</td>\n",
       "      <td>7</td>\n",
       "      <td>0.232557</td>\n",
       "      <td>0.070117</td>\n",
       "      <td>7</td>\n",
       "      <td>9271429.0</td>\n",
       "    </tr>\n",
       "    <tr>\n",
       "      <th>4</th>\n",
       "      <td>2</td>\n",
       "      <td>10000000.0</td>\n",
       "      <td>100.0</td>\n",
       "      <td>2018-06-19</td>\n",
       "      <td>2</td>\n",
       "      <td>3.03</td>\n",
       "      <td>14.0</td>\n",
       "      <td>32.000000</td>\n",
       "      <td>13</td>\n",
       "      <td>False</td>\n",
       "      <td>...</td>\n",
       "      <td>121</td>\n",
       "      <td>100000.000</td>\n",
       "      <td>другой</td>\n",
       "      <td>1</td>\n",
       "      <td>2018</td>\n",
       "      <td>6</td>\n",
       "      <td>0.320000</td>\n",
       "      <td>0.410000</td>\n",
       "      <td>8</td>\n",
       "      <td>1250000.0</td>\n",
       "    </tr>\n",
       "    <tr>\n",
       "      <th>7</th>\n",
       "      <td>5</td>\n",
       "      <td>7915000.0</td>\n",
       "      <td>71.6</td>\n",
       "      <td>2019-04-18</td>\n",
       "      <td>2</td>\n",
       "      <td>2.50</td>\n",
       "      <td>24.0</td>\n",
       "      <td>36.976588</td>\n",
       "      <td>22</td>\n",
       "      <td>False</td>\n",
       "      <td>...</td>\n",
       "      <td>50</td>\n",
       "      <td>110544.693</td>\n",
       "      <td>другой</td>\n",
       "      <td>3</td>\n",
       "      <td>2019</td>\n",
       "      <td>4</td>\n",
       "      <td>0.516433</td>\n",
       "      <td>0.263966</td>\n",
       "      <td>12</td>\n",
       "      <td>659583.0</td>\n",
       "    </tr>\n",
       "    <tr>\n",
       "      <th>9</th>\n",
       "      <td>18</td>\n",
       "      <td>5400000.0</td>\n",
       "      <td>61.0</td>\n",
       "      <td>2017-02-26</td>\n",
       "      <td>3</td>\n",
       "      <td>2.50</td>\n",
       "      <td>9.0</td>\n",
       "      <td>43.600000</td>\n",
       "      <td>7</td>\n",
       "      <td>False</td>\n",
       "      <td>...</td>\n",
       "      <td>289</td>\n",
       "      <td>88524.590</td>\n",
       "      <td>другой</td>\n",
       "      <td>6</td>\n",
       "      <td>2017</td>\n",
       "      <td>2</td>\n",
       "      <td>0.714754</td>\n",
       "      <td>0.106557</td>\n",
       "      <td>15</td>\n",
       "      <td>360000.0</td>\n",
       "    </tr>\n",
       "    <tr>\n",
       "      <th>10</th>\n",
       "      <td>5</td>\n",
       "      <td>5050000.0</td>\n",
       "      <td>39.6</td>\n",
       "      <td>2017-11-16</td>\n",
       "      <td>1</td>\n",
       "      <td>2.67</td>\n",
       "      <td>12.0</td>\n",
       "      <td>20.300000</td>\n",
       "      <td>3</td>\n",
       "      <td>False</td>\n",
       "      <td>...</td>\n",
       "      <td>137</td>\n",
       "      <td>127525.253</td>\n",
       "      <td>другой</td>\n",
       "      <td>3</td>\n",
       "      <td>2017</td>\n",
       "      <td>11</td>\n",
       "      <td>0.512626</td>\n",
       "      <td>0.214646</td>\n",
       "      <td>14</td>\n",
       "      <td>360714.0</td>\n",
       "    </tr>\n",
       "    <tr>\n",
       "      <th>15</th>\n",
       "      <td>16</td>\n",
       "      <td>4650000.0</td>\n",
       "      <td>39.0</td>\n",
       "      <td>2017-11-18</td>\n",
       "      <td>1</td>\n",
       "      <td>2.50</td>\n",
       "      <td>14.0</td>\n",
       "      <td>20.500000</td>\n",
       "      <td>5</td>\n",
       "      <td>False</td>\n",
       "      <td>...</td>\n",
       "      <td>19</td>\n",
       "      <td>119230.769</td>\n",
       "      <td>другой</td>\n",
       "      <td>5</td>\n",
       "      <td>2017</td>\n",
       "      <td>11</td>\n",
       "      <td>0.525641</td>\n",
       "      <td>0.194872</td>\n",
       "      <td>14</td>\n",
       "      <td>332143.0</td>\n",
       "    </tr>\n",
       "    <tr>\n",
       "      <th>16</th>\n",
       "      <td>11</td>\n",
       "      <td>6700000.0</td>\n",
       "      <td>82.0</td>\n",
       "      <td>2017-11-23</td>\n",
       "      <td>3</td>\n",
       "      <td>3.05</td>\n",
       "      <td>5.0</td>\n",
       "      <td>55.600000</td>\n",
       "      <td>1</td>\n",
       "      <td>False</td>\n",
       "      <td>...</td>\n",
       "      <td>397</td>\n",
       "      <td>81707.317</td>\n",
       "      <td>первый</td>\n",
       "      <td>3</td>\n",
       "      <td>2017</td>\n",
       "      <td>11</td>\n",
       "      <td>0.678049</td>\n",
       "      <td>0.109756</td>\n",
       "      <td>11</td>\n",
       "      <td>609091.0</td>\n",
       "    </tr>\n",
       "    <tr>\n",
       "      <th>17</th>\n",
       "      <td>6</td>\n",
       "      <td>4180000.0</td>\n",
       "      <td>36.0</td>\n",
       "      <td>2016-09-09</td>\n",
       "      <td>1</td>\n",
       "      <td>2.50</td>\n",
       "      <td>17.0</td>\n",
       "      <td>16.500000</td>\n",
       "      <td>7</td>\n",
       "      <td>False</td>\n",
       "      <td>...</td>\n",
       "      <td>571</td>\n",
       "      <td>116111.111</td>\n",
       "      <td>другой</td>\n",
       "      <td>4</td>\n",
       "      <td>2016</td>\n",
       "      <td>9</td>\n",
       "      <td>0.458333</td>\n",
       "      <td>0.305556</td>\n",
       "      <td>15</td>\n",
       "      <td>278667.0</td>\n",
       "    </tr>\n",
       "  </tbody>\n",
       "</table>\n",
       "<p>10 rows × 31 columns</p>\n",
       "</div>"
      ],
      "text/plain": [
       "    total_images  last_price  total_area first_day_exposition  rooms  \\\n",
       "0             20  13000000.0       108.0           2019-03-07      3   \n",
       "2             10   5196000.0        56.0           2015-08-20      2   \n",
       "3              0  64900000.0       159.0           2015-07-24      3   \n",
       "4              2  10000000.0       100.0           2018-06-19      2   \n",
       "7              5   7915000.0        71.6           2019-04-18      2   \n",
       "9             18   5400000.0        61.0           2017-02-26      3   \n",
       "10             5   5050000.0        39.6           2017-11-16      1   \n",
       "15            16   4650000.0        39.0           2017-11-18      1   \n",
       "16            11   6700000.0        82.0           2017-11-23      3   \n",
       "17             6   4180000.0        36.0           2016-09-09      1   \n",
       "\n",
       "    ceiling_height  floors_total  living_area  floor  is_apartment  ...  \\\n",
       "0             2.70          16.0    51.000000      8         False  ...   \n",
       "2             2.50           5.0    34.300000      4         False  ...   \n",
       "3             2.50          14.0    36.976588      9         False  ...   \n",
       "4             3.03          14.0    32.000000     13         False  ...   \n",
       "7             2.50          24.0    36.976588     22         False  ...   \n",
       "9             2.50           9.0    43.600000      7         False  ...   \n",
       "10            2.67          12.0    20.300000      3         False  ...   \n",
       "15            2.50          14.0    20.500000      5         False  ...   \n",
       "16            3.05           5.0    55.600000      1         False  ...   \n",
       "17            2.50          17.0    16.500000      7         False  ...   \n",
       "\n",
       "    days_exposition  price_metr  floor_group weekday  year  month  \\\n",
       "0                50  120370.370       другой       3  2019      3   \n",
       "2               558   92785.714       другой       3  2015      8   \n",
       "3               424  408176.101       другой       4  2015      7   \n",
       "4               121  100000.000       другой       1  2018      6   \n",
       "7                50  110544.693       другой       3  2019      4   \n",
       "9               289   88524.590       другой       6  2017      2   \n",
       "10              137  127525.253       другой       3  2017     11   \n",
       "15               19  119230.769       другой       5  2017     11   \n",
       "16              397   81707.317       первый       3  2017     11   \n",
       "17              571  116111.111       другой       4  2016      9   \n",
       "\n",
       "    living_total  kitchen_total  centr_km   price_km  \n",
       "0       0.472222       0.231481        16   812500.0  \n",
       "2       0.612500       0.148214        14   371143.0  \n",
       "3       0.232557       0.070117         7  9271429.0  \n",
       "4       0.320000       0.410000         8  1250000.0  \n",
       "7       0.516433       0.263966        12   659583.0  \n",
       "9       0.714754       0.106557        15   360000.0  \n",
       "10      0.512626       0.214646        14   360714.0  \n",
       "15      0.525641       0.194872        14   332143.0  \n",
       "16      0.678049       0.109756        11   609091.0  \n",
       "17      0.458333       0.305556        15   278667.0  \n",
       "\n",
       "[10 rows x 31 columns]"
      ]
     },
     "execution_count": 111,
     "metadata": {},
     "output_type": "execute_result"
    }
   ],
   "source": [
    "data['centr_km'] = data['cityCenters_nearest']/1000 \n",
    "data['centr_km'] = data['centr_km'].round()\n",
    "data['price_km'] = data['last_price'] / data['centr_km']\n",
    "data['price_km'] = data['price_km'].round()\n",
    "data['price_km'] = data['price_km'].astype('float')\n",
    "data['centr_km'] = data['centr_km'].astype('float')\n",
    "data['centr_km'] = data['centr_km'].astype('int')\n",
    "piter = data.query('locality_name == \"Санкт-Петербург\"')\n",
    "piter.head(10)\n"
   ]
  },
  {
   "cell_type": "code",
   "execution_count": 112,
   "metadata": {
    "scrolled": false
   },
   "outputs": [
    {
     "data": {
      "text/plain": [
       "centr_km\n",
       "0            inf\n",
       "1     21206721.0\n",
       "2      8894160.0\n",
       "3      3712465.0\n",
       "4      3326070.0\n",
       "5      2891199.0\n",
       "6      2556403.0\n",
       "7      2110736.0\n",
       "8      1243639.0\n",
       "9       772974.0\n",
       "10      650043.0\n",
       "11      566192.0\n",
       "12      516494.0\n",
       "13      467511.0\n",
       "14      401798.0\n",
       "15      391755.0\n",
       "16      335821.0\n",
       "17      311735.0\n",
       "18      282852.0\n",
       "19      265864.0\n",
       "20      297573.0\n",
       "21      261594.0\n",
       "22      246160.0\n",
       "23      216755.0\n",
       "24      160601.0\n",
       "25      162114.0\n",
       "26      154396.0\n",
       "27      307407.0\n",
       "28      179515.0\n",
       "29      146092.0\n",
       "Name: price_km, dtype: float64"
      ]
     },
     "execution_count": 112,
     "metadata": {},
     "output_type": "execute_result"
    }
   ],
   "source": [
    "piter.groupby('centr_km')['price_km'].mean().round()"
   ]
  },
  {
   "cell_type": "code",
   "execution_count": 113,
   "metadata": {
    "scrolled": false
   },
   "outputs": [
    {
     "data": {
      "text/html": [
       "<div>\n",
       "<style scoped>\n",
       "    .dataframe tbody tr th:only-of-type {\n",
       "        vertical-align: middle;\n",
       "    }\n",
       "\n",
       "    .dataframe tbody tr th {\n",
       "        vertical-align: top;\n",
       "    }\n",
       "\n",
       "    .dataframe thead th {\n",
       "        text-align: right;\n",
       "    }\n",
       "</style>\n",
       "<table border=\"1\" class=\"dataframe\">\n",
       "  <thead>\n",
       "    <tr style=\"text-align: right;\">\n",
       "      <th></th>\n",
       "      <th>price_km</th>\n",
       "    </tr>\n",
       "    <tr>\n",
       "      <th>centr_km</th>\n",
       "      <th></th>\n",
       "    </tr>\n",
       "  </thead>\n",
       "  <tbody>\n",
       "    <tr>\n",
       "      <th>0</th>\n",
       "      <td>inf</td>\n",
       "    </tr>\n",
       "    <tr>\n",
       "      <th>1</th>\n",
       "      <td>21206721.0</td>\n",
       "    </tr>\n",
       "    <tr>\n",
       "      <th>2</th>\n",
       "      <td>8894160.0</td>\n",
       "    </tr>\n",
       "    <tr>\n",
       "      <th>3</th>\n",
       "      <td>3712465.0</td>\n",
       "    </tr>\n",
       "    <tr>\n",
       "      <th>4</th>\n",
       "      <td>3326070.0</td>\n",
       "    </tr>\n",
       "    <tr>\n",
       "      <th>5</th>\n",
       "      <td>2891199.0</td>\n",
       "    </tr>\n",
       "    <tr>\n",
       "      <th>6</th>\n",
       "      <td>2556403.0</td>\n",
       "    </tr>\n",
       "    <tr>\n",
       "      <th>7</th>\n",
       "      <td>2110736.0</td>\n",
       "    </tr>\n",
       "    <tr>\n",
       "      <th>8</th>\n",
       "      <td>1243639.0</td>\n",
       "    </tr>\n",
       "    <tr>\n",
       "      <th>9</th>\n",
       "      <td>772974.0</td>\n",
       "    </tr>\n",
       "    <tr>\n",
       "      <th>10</th>\n",
       "      <td>650043.0</td>\n",
       "    </tr>\n",
       "    <tr>\n",
       "      <th>11</th>\n",
       "      <td>566192.0</td>\n",
       "    </tr>\n",
       "    <tr>\n",
       "      <th>12</th>\n",
       "      <td>516494.0</td>\n",
       "    </tr>\n",
       "    <tr>\n",
       "      <th>13</th>\n",
       "      <td>467511.0</td>\n",
       "    </tr>\n",
       "    <tr>\n",
       "      <th>14</th>\n",
       "      <td>401798.0</td>\n",
       "    </tr>\n",
       "    <tr>\n",
       "      <th>15</th>\n",
       "      <td>391755.0</td>\n",
       "    </tr>\n",
       "    <tr>\n",
       "      <th>16</th>\n",
       "      <td>335821.0</td>\n",
       "    </tr>\n",
       "    <tr>\n",
       "      <th>17</th>\n",
       "      <td>311735.0</td>\n",
       "    </tr>\n",
       "    <tr>\n",
       "      <th>18</th>\n",
       "      <td>282852.0</td>\n",
       "    </tr>\n",
       "    <tr>\n",
       "      <th>19</th>\n",
       "      <td>265864.0</td>\n",
       "    </tr>\n",
       "    <tr>\n",
       "      <th>20</th>\n",
       "      <td>297573.0</td>\n",
       "    </tr>\n",
       "    <tr>\n",
       "      <th>21</th>\n",
       "      <td>261594.0</td>\n",
       "    </tr>\n",
       "    <tr>\n",
       "      <th>22</th>\n",
       "      <td>246160.0</td>\n",
       "    </tr>\n",
       "    <tr>\n",
       "      <th>23</th>\n",
       "      <td>216755.0</td>\n",
       "    </tr>\n",
       "    <tr>\n",
       "      <th>24</th>\n",
       "      <td>160601.0</td>\n",
       "    </tr>\n",
       "    <tr>\n",
       "      <th>25</th>\n",
       "      <td>162114.0</td>\n",
       "    </tr>\n",
       "    <tr>\n",
       "      <th>26</th>\n",
       "      <td>154396.0</td>\n",
       "    </tr>\n",
       "    <tr>\n",
       "      <th>27</th>\n",
       "      <td>307407.0</td>\n",
       "    </tr>\n",
       "    <tr>\n",
       "      <th>28</th>\n",
       "      <td>179515.0</td>\n",
       "    </tr>\n",
       "    <tr>\n",
       "      <th>29</th>\n",
       "      <td>146092.0</td>\n",
       "    </tr>\n",
       "  </tbody>\n",
       "</table>\n",
       "</div>"
      ],
      "text/plain": [
       "            price_km\n",
       "centr_km            \n",
       "0                inf\n",
       "1         21206721.0\n",
       "2          8894160.0\n",
       "3          3712465.0\n",
       "4          3326070.0\n",
       "5          2891199.0\n",
       "6          2556403.0\n",
       "7          2110736.0\n",
       "8          1243639.0\n",
       "9           772974.0\n",
       "10          650043.0\n",
       "11          566192.0\n",
       "12          516494.0\n",
       "13          467511.0\n",
       "14          401798.0\n",
       "15          391755.0\n",
       "16          335821.0\n",
       "17          311735.0\n",
       "18          282852.0\n",
       "19          265864.0\n",
       "20          297573.0\n",
       "21          261594.0\n",
       "22          246160.0\n",
       "23          216755.0\n",
       "24          160601.0\n",
       "25          162114.0\n",
       "26          154396.0\n",
       "27          307407.0\n",
       "28          179515.0\n",
       "29          146092.0"
      ]
     },
     "execution_count": 113,
     "metadata": {},
     "output_type": "execute_result"
    }
   ],
   "source": [
    "new = pd.pivot_table(piter, index='centr_km', values = 'price_km', aggfunc='mean')\n",
    "new['price_km'] = new['price_km'].round().astype('float')\n",
    "new"
   ]
  },
  {
   "cell_type": "code",
   "execution_count": 114,
   "metadata": {
    "scrolled": true
   },
   "outputs": [
    {
     "data": {
      "text/plain": [
       "<AxesSubplot:xlabel='centr_km'>"
      ]
     },
     "execution_count": 114,
     "metadata": {},
     "output_type": "execute_result"
    },
    {
     "data": {
      "image/png": "[encoded data removed]",
      "text/plain": [
       "<Figure size 432x288 with 1 Axes>"
      ]
     },
     "metadata": {
      "needs_background": "light"
     },
     "output_type": "display_data"
    }
   ],
   "source": [
    "new.plot()"
   ]
  },
  {
   "cell_type": "markdown",
   "metadata": {},
   "source": [
    "По графику можно заметить, что линия резко обрывается на значении близком к 5. Значит обозначим центр - удаленность до 5 км. "
   ]
  },
  {
   "cell_type": "markdown",
   "metadata": {},
   "source": [
    "___________"
   ]
  },
  {
   "cell_type": "markdown",
   "metadata": {},
   "source": [
    "**Задача:** Выделите сегмент квартир в центре. Проанализируйте эту территорию и изучите следующие параметры: площадь, цена, число комнат, высота потолков. Также выделите факторы, которые влияют на стоимость квартиры (число комнат, этаж, удалённость от центра, дата размещения объявления). Сделайте выводы. Отличаются ли они от общих выводов по всей базе?"
   ]
  },
  {
   "cell_type": "code",
   "execution_count": 115,
   "metadata": {
    "scrolled": true
   },
   "outputs": [
    {
     "data": {
      "text/html": [
       "<div>\n",
       "<style scoped>\n",
       "    .dataframe tbody tr th:only-of-type {\n",
       "        vertical-align: middle;\n",
       "    }\n",
       "\n",
       "    .dataframe tbody tr th {\n",
       "        vertical-align: top;\n",
       "    }\n",
       "\n",
       "    .dataframe thead th {\n",
       "        text-align: right;\n",
       "    }\n",
       "</style>\n",
       "<table border=\"1\" class=\"dataframe\">\n",
       "  <thead>\n",
       "    <tr style=\"text-align: right;\">\n",
       "      <th></th>\n",
       "      <th>total_images</th>\n",
       "      <th>last_price</th>\n",
       "      <th>total_area</th>\n",
       "      <th>first_day_exposition</th>\n",
       "      <th>rooms</th>\n",
       "      <th>ceiling_height</th>\n",
       "      <th>floors_total</th>\n",
       "      <th>living_area</th>\n",
       "      <th>floor</th>\n",
       "      <th>is_apartment</th>\n",
       "      <th>...</th>\n",
       "      <th>days_exposition</th>\n",
       "      <th>price_metr</th>\n",
       "      <th>floor_group</th>\n",
       "      <th>weekday</th>\n",
       "      <th>year</th>\n",
       "      <th>month</th>\n",
       "      <th>living_total</th>\n",
       "      <th>kitchen_total</th>\n",
       "      <th>centr_km</th>\n",
       "      <th>price_km</th>\n",
       "    </tr>\n",
       "  </thead>\n",
       "  <tbody>\n",
       "    <tr>\n",
       "      <th>24</th>\n",
       "      <td>8</td>\n",
       "      <td>6500000.0</td>\n",
       "      <td>97.2</td>\n",
       "      <td>2015-10-31</td>\n",
       "      <td>2</td>\n",
       "      <td>2.5</td>\n",
       "      <td>3.0</td>\n",
       "      <td>46.5</td>\n",
       "      <td>1</td>\n",
       "      <td>False</td>\n",
       "      <td>...</td>\n",
       "      <td>265</td>\n",
       "      <td>66872.428</td>\n",
       "      <td>первый</td>\n",
       "      <td>5</td>\n",
       "      <td>2015</td>\n",
       "      <td>10</td>\n",
       "      <td>0.478395</td>\n",
       "      <td>0.201646</td>\n",
       "      <td>2</td>\n",
       "      <td>3250000.0</td>\n",
       "    </tr>\n",
       "    <tr>\n",
       "      <th>35</th>\n",
       "      <td>6</td>\n",
       "      <td>15500000.0</td>\n",
       "      <td>149.0</td>\n",
       "      <td>2017-06-26</td>\n",
       "      <td>5</td>\n",
       "      <td>2.5</td>\n",
       "      <td>5.0</td>\n",
       "      <td>104.0</td>\n",
       "      <td>4</td>\n",
       "      <td>False</td>\n",
       "      <td>...</td>\n",
       "      <td>644</td>\n",
       "      <td>104026.846</td>\n",
       "      <td>другой</td>\n",
       "      <td>0</td>\n",
       "      <td>2017</td>\n",
       "      <td>6</td>\n",
       "      <td>0.697987</td>\n",
       "      <td>0.114094</td>\n",
       "      <td>4</td>\n",
       "      <td>3875000.0</td>\n",
       "    </tr>\n",
       "    <tr>\n",
       "      <th>61</th>\n",
       "      <td>18</td>\n",
       "      <td>7990000.0</td>\n",
       "      <td>74.0</td>\n",
       "      <td>2017-08-24</td>\n",
       "      <td>2</td>\n",
       "      <td>2.5</td>\n",
       "      <td>4.0</td>\n",
       "      <td>43.0</td>\n",
       "      <td>4</td>\n",
       "      <td>False</td>\n",
       "      <td>...</td>\n",
       "      <td>609</td>\n",
       "      <td>107972.973</td>\n",
       "      <td>последний</td>\n",
       "      <td>3</td>\n",
       "      <td>2017</td>\n",
       "      <td>8</td>\n",
       "      <td>0.581081</td>\n",
       "      <td>0.270270</td>\n",
       "      <td>4</td>\n",
       "      <td>1997500.0</td>\n",
       "    </tr>\n",
       "    <tr>\n",
       "      <th>63</th>\n",
       "      <td>2</td>\n",
       "      <td>20000000.0</td>\n",
       "      <td>118.0</td>\n",
       "      <td>2018-09-11</td>\n",
       "      <td>3</td>\n",
       "      <td>3.0</td>\n",
       "      <td>9.0</td>\n",
       "      <td>68.0</td>\n",
       "      <td>7</td>\n",
       "      <td>False</td>\n",
       "      <td>...</td>\n",
       "      <td>37</td>\n",
       "      <td>169491.525</td>\n",
       "      <td>другой</td>\n",
       "      <td>1</td>\n",
       "      <td>2018</td>\n",
       "      <td>9</td>\n",
       "      <td>0.576271</td>\n",
       "      <td>0.135593</td>\n",
       "      <td>5</td>\n",
       "      <td>4000000.0</td>\n",
       "    </tr>\n",
       "    <tr>\n",
       "      <th>99</th>\n",
       "      <td>32</td>\n",
       "      <td>9600000.0</td>\n",
       "      <td>90.0</td>\n",
       "      <td>2017-09-26</td>\n",
       "      <td>4</td>\n",
       "      <td>2.5</td>\n",
       "      <td>5.0</td>\n",
       "      <td>67.0</td>\n",
       "      <td>2</td>\n",
       "      <td>False</td>\n",
       "      <td>...</td>\n",
       "      <td>104</td>\n",
       "      <td>106666.667</td>\n",
       "      <td>другой</td>\n",
       "      <td>1</td>\n",
       "      <td>2017</td>\n",
       "      <td>9</td>\n",
       "      <td>0.744444</td>\n",
       "      <td>0.088889</td>\n",
       "      <td>3</td>\n",
       "      <td>3200000.0</td>\n",
       "    </tr>\n",
       "  </tbody>\n",
       "</table>\n",
       "<p>5 rows × 31 columns</p>\n",
       "</div>"
      ],
      "text/plain": [
       "    total_images  last_price  total_area first_day_exposition  rooms  \\\n",
       "24             8   6500000.0        97.2           2015-10-31      2   \n",
       "35             6  15500000.0       149.0           2017-06-26      5   \n",
       "61            18   7990000.0        74.0           2017-08-24      2   \n",
       "63             2  20000000.0       118.0           2018-09-11      3   \n",
       "99            32   9600000.0        90.0           2017-09-26      4   \n",
       "\n",
       "    ceiling_height  floors_total  living_area  floor  is_apartment  ...  \\\n",
       "24             2.5           3.0         46.5      1         False  ...   \n",
       "35             2.5           5.0        104.0      4         False  ...   \n",
       "61             2.5           4.0         43.0      4         False  ...   \n",
       "63             3.0           9.0         68.0      7         False  ...   \n",
       "99             2.5           5.0         67.0      2         False  ...   \n",
       "\n",
       "    days_exposition  price_metr  floor_group weekday  year  month  \\\n",
       "24              265   66872.428       первый       5  2015     10   \n",
       "35              644  104026.846       другой       0  2017      6   \n",
       "61              609  107972.973    последний       3  2017      8   \n",
       "63               37  169491.525       другой       1  2018      9   \n",
       "99              104  106666.667       другой       1  2017      9   \n",
       "\n",
       "    living_total  kitchen_total  centr_km   price_km  \n",
       "24      0.478395       0.201646         2  3250000.0  \n",
       "35      0.697987       0.114094         4  3875000.0  \n",
       "61      0.581081       0.270270         4  1997500.0  \n",
       "63      0.576271       0.135593         5  4000000.0  \n",
       "99      0.744444       0.088889         3  3200000.0  \n",
       "\n",
       "[5 rows x 31 columns]"
      ]
     },
     "execution_count": 115,
     "metadata": {},
     "output_type": "execute_result"
    }
   ],
   "source": [
    "#создадим таблицу, отвечающую нашим требованиям\n",
    "piter_centr = piter.query('centr_km <= 5')\n",
    "piter_centr.head()"
   ]
  },
  {
   "cell_type": "code",
   "execution_count": 116,
   "metadata": {},
   "outputs": [
    {
     "data": {
      "text/plain": [
       "count    2480.000000\n",
       "mean       95.523085\n",
       "std        58.980695\n",
       "min        12.000000\n",
       "25%        60.000000\n",
       "50%        82.000000\n",
       "75%       112.000000\n",
       "max       631.200000\n",
       "Name: total_area, dtype: float64"
      ]
     },
     "execution_count": 116,
     "metadata": {},
     "output_type": "execute_result"
    }
   ],
   "source": [
    "#посмотрим площадь квартир\n",
    "\n",
    "piter_centr['total_area'].describe()"
   ]
  },
  {
   "cell_type": "code",
   "execution_count": 117,
   "metadata": {},
   "outputs": [
    {
     "data": {
      "text/plain": [
       "count    23613.000000\n",
       "mean        60.340678\n",
       "std         35.648988\n",
       "min         12.000000\n",
       "25%         40.000000\n",
       "50%         52.000000\n",
       "75%         69.800000\n",
       "max        900.000000\n",
       "Name: total_area, dtype: float64"
      ]
     },
     "execution_count": 117,
     "metadata": {},
     "output_type": "execute_result"
    }
   ],
   "source": [
    "#сравним с общей базой\n",
    "data['total_area'].describe()"
   ]
  },
  {
   "cell_type": "markdown",
   "metadata": {},
   "source": [
    "- Площадь квартир примерно одинаковая, но в центре Питера немного больше"
   ]
  },
  {
   "cell_type": "code",
   "execution_count": 118,
   "metadata": {
    "scrolled": true
   },
   "outputs": [
    {
     "data": {
      "text/plain": [
       "count         2480.0\n",
       "mean      14794996.0\n",
       "std       26147868.0\n",
       "min        1600000.0\n",
       "25%        6950000.0\n",
       "50%        9500000.0\n",
       "75%       14200000.0\n",
       "max      763000000.0\n",
       "Name: last_price, dtype: float64"
      ]
     },
     "execution_count": 118,
     "metadata": {},
     "output_type": "execute_result"
    }
   ],
   "source": [
    "#посмотрим цену\n",
    "\n",
    "piter_centr['last_price'].describe().round()"
   ]
  },
  {
   "cell_type": "code",
   "execution_count": 119,
   "metadata": {},
   "outputs": [
    {
     "data": {
      "text/plain": [
       "count        23613.0\n",
       "mean       6540560.0\n",
       "std       10901720.0\n",
       "min         121900.0\n",
       "25%        3400000.0\n",
       "50%        4650000.0\n",
       "75%        6799000.0\n",
       "max      763000000.0\n",
       "Name: last_price, dtype: float64"
      ]
     },
     "execution_count": 119,
     "metadata": {},
     "output_type": "execute_result"
    }
   ],
   "source": [
    "data['last_price'].describe().round()"
   ]
  },
  {
   "cell_type": "markdown",
   "metadata": {},
   "source": [
    "- Цены тоже отличаются. В центре Питера почти в 2 раза выше ценник"
   ]
  },
  {
   "cell_type": "code",
   "execution_count": 120,
   "metadata": {},
   "outputs": [
    {
     "data": {
      "text/plain": [
       "count    2480.000000\n",
       "mean        2.966935\n",
       "std         1.505039\n",
       "min         0.000000\n",
       "25%         2.000000\n",
       "50%         3.000000\n",
       "75%         4.000000\n",
       "max        19.000000\n",
       "Name: rooms, dtype: float64"
      ]
     },
     "execution_count": 120,
     "metadata": {},
     "output_type": "execute_result"
    }
   ],
   "source": [
    "#посмотрим число комнат\n",
    "\n",
    "piter_centr['rooms'].describe()"
   ]
  },
  {
   "cell_type": "code",
   "execution_count": 121,
   "metadata": {},
   "outputs": [
    {
     "data": {
      "text/plain": [
       "count    23613.000000\n",
       "mean         2.071147\n",
       "std          1.078380\n",
       "min          0.000000\n",
       "25%          1.000000\n",
       "50%          2.000000\n",
       "75%          3.000000\n",
       "max         19.000000\n",
       "Name: rooms, dtype: float64"
      ]
     },
     "execution_count": 121,
     "metadata": {},
     "output_type": "execute_result"
    }
   ],
   "source": [
    "data['rooms'].describe()"
   ]
  },
  {
   "cell_type": "markdown",
   "metadata": {},
   "source": [
    "- Количество комнат практически не различается"
   ]
  },
  {
   "cell_type": "code",
   "execution_count": 122,
   "metadata": {
    "scrolled": true
   },
   "outputs": [
    {
     "data": {
      "text/plain": [
       "count    2480.000000\n",
       "mean        2.928399\n",
       "std         0.425262\n",
       "min         2.400000\n",
       "25%         2.500000\n",
       "50%         2.900000\n",
       "75%         3.200000\n",
       "max         5.800000\n",
       "Name: ceiling_height, dtype: float64"
      ]
     },
     "execution_count": 122,
     "metadata": {},
     "output_type": "execute_result"
    }
   ],
   "source": [
    "#посмотрим высоту потолков\n",
    "\n",
    "piter_centr['ceiling_height'].describe()"
   ]
  },
  {
   "cell_type": "code",
   "execution_count": 123,
   "metadata": {},
   "outputs": [
    {
     "data": {
      "text/plain": [
       "count    23613.000000\n",
       "mean         2.640002\n",
       "std          0.259907\n",
       "min          1.000000\n",
       "25%          2.500000\n",
       "50%          2.500000\n",
       "75%          2.700000\n",
       "max         10.000000\n",
       "Name: ceiling_height, dtype: float64"
      ]
     },
     "execution_count": 123,
     "metadata": {},
     "output_type": "execute_result"
    }
   ],
   "source": [
    "data['ceiling_height'].describe()"
   ]
  },
  {
   "cell_type": "markdown",
   "metadata": {},
   "source": [
    "- Высота потолков немного отличается. В Питере нет потолков ниже 2.4"
   ]
  },
  {
   "cell_type": "markdown",
   "metadata": {},
   "source": [
    "Посмотрим, как влияют на цену число комнат, этаж, удалённость от центра, дата размещения объявления"
   ]
  },
  {
   "cell_type": "code",
   "execution_count": 124,
   "metadata": {
    "scrolled": true
   },
   "outputs": [
    {
     "data": {
      "text/html": [
       "<div>\n",
       "<style scoped>\n",
       "    .dataframe tbody tr th:only-of-type {\n",
       "        vertical-align: middle;\n",
       "    }\n",
       "\n",
       "    .dataframe tbody tr th {\n",
       "        vertical-align: top;\n",
       "    }\n",
       "\n",
       "    .dataframe thead th {\n",
       "        text-align: right;\n",
       "    }\n",
       "</style>\n",
       "<table border=\"1\" class=\"dataframe\">\n",
       "  <thead>\n",
       "    <tr style=\"text-align: right;\">\n",
       "      <th></th>\n",
       "      <th>last_price</th>\n",
       "      <th>floor_group</th>\n",
       "      <th>rooms</th>\n",
       "      <th>centr_km</th>\n",
       "    </tr>\n",
       "  </thead>\n",
       "  <tbody>\n",
       "    <tr>\n",
       "      <th>24</th>\n",
       "      <td>6500000.0</td>\n",
       "      <td>первый</td>\n",
       "      <td>2</td>\n",
       "      <td>2</td>\n",
       "    </tr>\n",
       "    <tr>\n",
       "      <th>35</th>\n",
       "      <td>15500000.0</td>\n",
       "      <td>другой</td>\n",
       "      <td>5</td>\n",
       "      <td>4</td>\n",
       "    </tr>\n",
       "    <tr>\n",
       "      <th>61</th>\n",
       "      <td>7990000.0</td>\n",
       "      <td>последний</td>\n",
       "      <td>2</td>\n",
       "      <td>4</td>\n",
       "    </tr>\n",
       "    <tr>\n",
       "      <th>63</th>\n",
       "      <td>20000000.0</td>\n",
       "      <td>другой</td>\n",
       "      <td>3</td>\n",
       "      <td>5</td>\n",
       "    </tr>\n",
       "    <tr>\n",
       "      <th>99</th>\n",
       "      <td>9600000.0</td>\n",
       "      <td>другой</td>\n",
       "      <td>4</td>\n",
       "      <td>3</td>\n",
       "    </tr>\n",
       "  </tbody>\n",
       "</table>\n",
       "</div>"
      ],
      "text/plain": [
       "    last_price floor_group  rooms  centr_km\n",
       "24   6500000.0      первый      2         2\n",
       "35  15500000.0      другой      5         4\n",
       "61   7990000.0   последний      2         4\n",
       "63  20000000.0      другой      3         5\n",
       "99   9600000.0      другой      4         3"
      ]
     },
     "execution_count": 124,
     "metadata": {},
     "output_type": "execute_result"
    }
   ],
   "source": [
    "piter_price_group = piter_centr[['last_price', 'floor_group', 'rooms', 'centr_km']]\n",
    "piter_price_group.head()"
   ]
  },
  {
   "cell_type": "code",
   "execution_count": 125,
   "metadata": {},
   "outputs": [
    {
     "data": {
      "text/plain": [
       "floor_group\n",
       "другой       9950000.0\n",
       "первый       6950000.0\n",
       "последний    9570000.0\n",
       "Name: last_price, dtype: float64"
      ]
     },
     "execution_count": 125,
     "metadata": {},
     "output_type": "execute_result"
    }
   ],
   "source": [
    "p_group = piter_price_group.groupby('floor_group')['last_price'].median()\n",
    "p_group.head()"
   ]
  },
  {
   "cell_type": "code",
   "execution_count": 126,
   "metadata": {
    "scrolled": false
   },
   "outputs": [
    {
     "data": {
      "text/plain": [
       "<AxesSubplot:xlabel='floor_group'>"
      ]
     },
     "execution_count": 126,
     "metadata": {},
     "output_type": "execute_result"
    },
    {
     "data": {
      "image/png": "[encoded data removed]",
      "text/plain": [
       "<Figure size 720x360 with 1 Axes>"
      ]
     },
     "metadata": {
      "needs_background": "light"
     },
     "output_type": "display_data"
    }
   ],
   "source": [
    "p_group.plot(x='floor_group', \n",
    "             y='last_price', \n",
    "             grid=True, \n",
    "             style='o', \n",
    "             figsize=(10,5),\n",
    "             )"
   ]
  },
  {
   "cell_type": "markdown",
   "metadata": {},
   "source": [
    "Самый высокий прайс у других этажей, средний у последний и низкий у первых. Аналогично и общей базе."
   ]
  },
  {
   "cell_type": "code",
   "execution_count": 127,
   "metadata": {},
   "outputs": [
    {
     "data": {
      "text/plain": [
       "rooms\n",
       "0      3150000.0\n",
       "1      6100000.0\n",
       "2      8000000.0\n",
       "3      9900000.0\n",
       "4     11703236.0\n",
       "5     14350000.0\n",
       "6     18338500.0\n",
       "7     24450000.0\n",
       "8     20095000.0\n",
       "9     29000000.0\n",
       "10    27750000.0\n",
       "11    25250000.0\n",
       "14    28659000.0\n",
       "15    65000000.0\n",
       "16    28500000.0\n",
       "19    32250000.0\n",
       "Name: last_price, dtype: float64"
      ]
     },
     "execution_count": 127,
     "metadata": {},
     "output_type": "execute_result"
    }
   ],
   "source": [
    "p_group_2 = piter_price_group.groupby('rooms')['last_price'].median()\n",
    "p_group_2"
   ]
  },
  {
   "cell_type": "code",
   "execution_count": 128,
   "metadata": {},
   "outputs": [
    {
     "data": {
      "text/plain": [
       "<AxesSubplot:xlabel='rooms'>"
      ]
     },
     "execution_count": 128,
     "metadata": {},
     "output_type": "execute_result"
    },
    {
     "data": {
      "image/png": "[encoded data removed]",
      "text/plain": [
       "<Figure size 720x360 with 1 Axes>"
      ]
     },
     "metadata": {
      "needs_background": "light"
     },
     "output_type": "display_data"
    }
   ],
   "source": [
    "p_group_2.plot(x='rooms', \n",
    "             y='last_price', \n",
    "             grid=True, \n",
    "             style='o', \n",
    "             figsize=(10,5),\n",
    "             )"
   ]
  },
  {
   "cell_type": "markdown",
   "metadata": {},
   "source": [
    "Чем больше комнат, тем выше цена. Но на графике видны провалы, линия не строго вверх."
   ]
  },
  {
   "cell_type": "code",
   "execution_count": 129,
   "metadata": {
    "scrolled": true
   },
   "outputs": [
    {
     "data": {
      "text/plain": [
       "centr_km\n",
       "0    17900000.0\n",
       "1    11395000.0\n",
       "2    10000000.0\n",
       "3     8409000.0\n",
       "4     9200000.0\n",
       "5     9490000.0\n",
       "Name: last_price, dtype: float64"
      ]
     },
     "execution_count": 129,
     "metadata": {},
     "output_type": "execute_result"
    }
   ],
   "source": [
    "p_group_3 = piter_price_group.groupby('centr_km')['last_price'].median()\n",
    "p_group_3"
   ]
  },
  {
   "cell_type": "code",
   "execution_count": 130,
   "metadata": {
    "scrolled": false
   },
   "outputs": [
    {
     "data": {
      "text/plain": [
       "<AxesSubplot:xlabel='centr_km'>"
      ]
     },
     "execution_count": 130,
     "metadata": {},
     "output_type": "execute_result"
    },
    {
     "data": {
      "image/png": "[encoded data removed]",
      "text/plain": [
       "<Figure size 720x360 with 1 Axes>"
      ]
     },
     "metadata": {
      "needs_background": "light"
     },
     "output_type": "display_data"
    }
   ],
   "source": [
    "p_group_3.plot(x='centr_km', \n",
    "             y='last_price', \n",
    "             grid=True, \n",
    "             style='o', \n",
    "             figsize=(10,5),\n",
    "             )"
   ]
  },
  {
   "cell_type": "markdown",
   "metadata": {},
   "source": [
    "Вроде логично, что чем ближе к центру, тем выше цена. Но тоже есть провалы. На 3км цена ниже, чем на 4 и 5.\n",
    "\n",
    "В целом картина такая же, как и в общей базе."
   ]
  },
  {
   "cell_type": "code",
   "execution_count": 131,
   "metadata": {},
   "outputs": [
    {
     "data": {
      "text/html": [
       "<div>\n",
       "<style scoped>\n",
       "    .dataframe tbody tr th:only-of-type {\n",
       "        vertical-align: middle;\n",
       "    }\n",
       "\n",
       "    .dataframe tbody tr th {\n",
       "        vertical-align: top;\n",
       "    }\n",
       "\n",
       "    .dataframe thead th {\n",
       "        text-align: right;\n",
       "    }\n",
       "</style>\n",
       "<table border=\"1\" class=\"dataframe\">\n",
       "  <thead>\n",
       "    <tr style=\"text-align: right;\">\n",
       "      <th>centr_km</th>\n",
       "      <th>0</th>\n",
       "      <th>1</th>\n",
       "      <th>2</th>\n",
       "      <th>3</th>\n",
       "      <th>4</th>\n",
       "      <th>5</th>\n",
       "      <th>6</th>\n",
       "      <th>7</th>\n",
       "      <th>8</th>\n",
       "      <th>9</th>\n",
       "      <th>...</th>\n",
       "      <th>20</th>\n",
       "      <th>21</th>\n",
       "      <th>22</th>\n",
       "      <th>23</th>\n",
       "      <th>24</th>\n",
       "      <th>25</th>\n",
       "      <th>26</th>\n",
       "      <th>27</th>\n",
       "      <th>28</th>\n",
       "      <th>29</th>\n",
       "    </tr>\n",
       "    <tr>\n",
       "      <th>year</th>\n",
       "      <th></th>\n",
       "      <th></th>\n",
       "      <th></th>\n",
       "      <th></th>\n",
       "      <th></th>\n",
       "      <th></th>\n",
       "      <th></th>\n",
       "      <th></th>\n",
       "      <th></th>\n",
       "      <th></th>\n",
       "      <th></th>\n",
       "      <th></th>\n",
       "      <th></th>\n",
       "      <th></th>\n",
       "      <th></th>\n",
       "      <th></th>\n",
       "      <th></th>\n",
       "      <th></th>\n",
       "      <th></th>\n",
       "      <th></th>\n",
       "      <th></th>\n",
       "    </tr>\n",
       "  </thead>\n",
       "  <tbody>\n",
       "    <tr>\n",
       "      <th>2014</th>\n",
       "      <td>40651314.0</td>\n",
       "      <td>NaN</td>\n",
       "      <td>72169500.0</td>\n",
       "      <td>16200000.0</td>\n",
       "      <td>11364000.0</td>\n",
       "      <td>17000000.0</td>\n",
       "      <td>19845000.0</td>\n",
       "      <td>65138176.0</td>\n",
       "      <td>10568000.0</td>\n",
       "      <td>11100000.0</td>\n",
       "      <td>...</td>\n",
       "      <td>NaN</td>\n",
       "      <td>9488500.0</td>\n",
       "      <td>3390000.0</td>\n",
       "      <td>NaN</td>\n",
       "      <td>NaN</td>\n",
       "      <td>NaN</td>\n",
       "      <td>NaN</td>\n",
       "      <td>NaN</td>\n",
       "      <td>NaN</td>\n",
       "      <td>NaN</td>\n",
       "    </tr>\n",
       "    <tr>\n",
       "      <th>2015</th>\n",
       "      <td>27000000.0</td>\n",
       "      <td>10770000.0</td>\n",
       "      <td>11498000.0</td>\n",
       "      <td>9750000.0</td>\n",
       "      <td>10800000.0</td>\n",
       "      <td>9900000.0</td>\n",
       "      <td>10990000.0</td>\n",
       "      <td>8400000.0</td>\n",
       "      <td>8300000.0</td>\n",
       "      <td>4940000.0</td>\n",
       "      <td>...</td>\n",
       "      <td>5550000.0</td>\n",
       "      <td>4800000.0</td>\n",
       "      <td>5680000.0</td>\n",
       "      <td>4370000.0</td>\n",
       "      <td>NaN</td>\n",
       "      <td>NaN</td>\n",
       "      <td>NaN</td>\n",
       "      <td>NaN</td>\n",
       "      <td>4072000.0</td>\n",
       "      <td>NaN</td>\n",
       "    </tr>\n",
       "    <tr>\n",
       "      <th>2016</th>\n",
       "      <td>5550000.0</td>\n",
       "      <td>11625000.0</td>\n",
       "      <td>10500000.0</td>\n",
       "      <td>8600000.0</td>\n",
       "      <td>8750000.0</td>\n",
       "      <td>8750000.0</td>\n",
       "      <td>9200000.0</td>\n",
       "      <td>13547500.0</td>\n",
       "      <td>8223076.0</td>\n",
       "      <td>4625000.0</td>\n",
       "      <td>...</td>\n",
       "      <td>5550000.0</td>\n",
       "      <td>5430000.0</td>\n",
       "      <td>4600000.0</td>\n",
       "      <td>3250000.0</td>\n",
       "      <td>3784000.0</td>\n",
       "      <td>3150000.0</td>\n",
       "      <td>2950000.0</td>\n",
       "      <td>NaN</td>\n",
       "      <td>NaN</td>\n",
       "      <td>4535000.0</td>\n",
       "    </tr>\n",
       "    <tr>\n",
       "      <th>2017</th>\n",
       "      <td>13500000.0</td>\n",
       "      <td>11000000.0</td>\n",
       "      <td>9500000.0</td>\n",
       "      <td>7575000.0</td>\n",
       "      <td>8900000.0</td>\n",
       "      <td>9700000.0</td>\n",
       "      <td>9330000.0</td>\n",
       "      <td>8100000.0</td>\n",
       "      <td>7070434.0</td>\n",
       "      <td>5400000.0</td>\n",
       "      <td>...</td>\n",
       "      <td>5100000.0</td>\n",
       "      <td>4700000.0</td>\n",
       "      <td>4570000.0</td>\n",
       "      <td>4200000.0</td>\n",
       "      <td>3120000.0</td>\n",
       "      <td>4500000.0</td>\n",
       "      <td>3327500.0</td>\n",
       "      <td>14350000.0</td>\n",
       "      <td>6950000.0</td>\n",
       "      <td>4850000.0</td>\n",
       "    </tr>\n",
       "    <tr>\n",
       "      <th>2018</th>\n",
       "      <td>22050000.0</td>\n",
       "      <td>10200000.0</td>\n",
       "      <td>9600000.0</td>\n",
       "      <td>8700000.0</td>\n",
       "      <td>8800000.0</td>\n",
       "      <td>9200000.0</td>\n",
       "      <td>8500000.0</td>\n",
       "      <td>6900000.0</td>\n",
       "      <td>6990000.0</td>\n",
       "      <td>5542500.0</td>\n",
       "      <td>...</td>\n",
       "      <td>4900000.0</td>\n",
       "      <td>5370000.0</td>\n",
       "      <td>5180000.0</td>\n",
       "      <td>4800000.0</td>\n",
       "      <td>3610000.0</td>\n",
       "      <td>3680000.0</td>\n",
       "      <td>3366166.5</td>\n",
       "      <td>2250000.0</td>\n",
       "      <td>NaN</td>\n",
       "      <td>3325000.0</td>\n",
       "    </tr>\n",
       "    <tr>\n",
       "      <th>2019</th>\n",
       "      <td>33000000.0</td>\n",
       "      <td>15900000.0</td>\n",
       "      <td>10950000.0</td>\n",
       "      <td>10199000.0</td>\n",
       "      <td>9999500.0</td>\n",
       "      <td>9674500.0</td>\n",
       "      <td>8342500.0</td>\n",
       "      <td>7000000.0</td>\n",
       "      <td>8100000.0</td>\n",
       "      <td>5635000.0</td>\n",
       "      <td>...</td>\n",
       "      <td>7150000.0</td>\n",
       "      <td>4894750.0</td>\n",
       "      <td>5600000.0</td>\n",
       "      <td>5047000.0</td>\n",
       "      <td>NaN</td>\n",
       "      <td>NaN</td>\n",
       "      <td>5645000.0</td>\n",
       "      <td>NaN</td>\n",
       "      <td>NaN</td>\n",
       "      <td>4850000.0</td>\n",
       "    </tr>\n",
       "  </tbody>\n",
       "</table>\n",
       "<p>6 rows × 30 columns</p>\n",
       "</div>"
      ],
      "text/plain": [
       "centr_km          0           1           2           3           4   \\\n",
       "year                                                                   \n",
       "2014      40651314.0         NaN  72169500.0  16200000.0  11364000.0   \n",
       "2015      27000000.0  10770000.0  11498000.0   9750000.0  10800000.0   \n",
       "2016       5550000.0  11625000.0  10500000.0   8600000.0   8750000.0   \n",
       "2017      13500000.0  11000000.0   9500000.0   7575000.0   8900000.0   \n",
       "2018      22050000.0  10200000.0   9600000.0   8700000.0   8800000.0   \n",
       "2019      33000000.0  15900000.0  10950000.0  10199000.0   9999500.0   \n",
       "\n",
       "centr_km          5           6           7           8           9   ...  \\\n",
       "year                                                                  ...   \n",
       "2014      17000000.0  19845000.0  65138176.0  10568000.0  11100000.0  ...   \n",
       "2015       9900000.0  10990000.0   8400000.0   8300000.0   4940000.0  ...   \n",
       "2016       8750000.0   9200000.0  13547500.0   8223076.0   4625000.0  ...   \n",
       "2017       9700000.0   9330000.0   8100000.0   7070434.0   5400000.0  ...   \n",
       "2018       9200000.0   8500000.0   6900000.0   6990000.0   5542500.0  ...   \n",
       "2019       9674500.0   8342500.0   7000000.0   8100000.0   5635000.0  ...   \n",
       "\n",
       "centr_km         20         21         22         23         24         25  \\\n",
       "year                                                                         \n",
       "2014            NaN  9488500.0  3390000.0        NaN        NaN        NaN   \n",
       "2015      5550000.0  4800000.0  5680000.0  4370000.0        NaN        NaN   \n",
       "2016      5550000.0  5430000.0  4600000.0  3250000.0  3784000.0  3150000.0   \n",
       "2017      5100000.0  4700000.0  4570000.0  4200000.0  3120000.0  4500000.0   \n",
       "2018      4900000.0  5370000.0  5180000.0  4800000.0  3610000.0  3680000.0   \n",
       "2019      7150000.0  4894750.0  5600000.0  5047000.0        NaN        NaN   \n",
       "\n",
       "centr_km         26          27         28         29  \n",
       "year                                                   \n",
       "2014            NaN         NaN        NaN        NaN  \n",
       "2015            NaN         NaN  4072000.0        NaN  \n",
       "2016      2950000.0         NaN        NaN  4535000.0  \n",
       "2017      3327500.0  14350000.0  6950000.0  4850000.0  \n",
       "2018      3366166.5   2250000.0        NaN  3325000.0  \n",
       "2019      5645000.0         NaN        NaN  4850000.0  \n",
       "\n",
       "[6 rows x 30 columns]"
      ]
     },
     "execution_count": 131,
     "metadata": {},
     "output_type": "execute_result"
    }
   ],
   "source": [
    "piter.pivot_table(index='year',\n",
    "                  columns='centr_km',\n",
    "                  values='last_price',\n",
    "                  aggfunc='median'\n",
    "                 )"
   ]
  },
  {
   "cell_type": "markdown",
   "metadata": {},
   "source": [
    "Прослеживается логика - чем ближе к центру, тем дороже. И эта зависимость сохраняется на протяжении всех годов."
   ]
  },
  {
   "cell_type": "code",
   "execution_count": 132,
   "metadata": {},
   "outputs": [
    {
     "data": {
      "text/html": [
       "<div>\n",
       "<style scoped>\n",
       "    .dataframe tbody tr th:only-of-type {\n",
       "        vertical-align: middle;\n",
       "    }\n",
       "\n",
       "    .dataframe tbody tr th {\n",
       "        vertical-align: top;\n",
       "    }\n",
       "\n",
       "    .dataframe thead th {\n",
       "        text-align: right;\n",
       "    }\n",
       "</style>\n",
       "<table border=\"1\" class=\"dataframe\">\n",
       "  <thead>\n",
       "    <tr style=\"text-align: right;\">\n",
       "      <th></th>\n",
       "      <th>last_price</th>\n",
       "      <th>weekday</th>\n",
       "      <th>month</th>\n",
       "      <th>year</th>\n",
       "      <th>centr_km</th>\n",
       "    </tr>\n",
       "  </thead>\n",
       "  <tbody>\n",
       "    <tr>\n",
       "      <th>0</th>\n",
       "      <td>13000000.0</td>\n",
       "      <td>3</td>\n",
       "      <td>3</td>\n",
       "      <td>2019</td>\n",
       "      <td>16</td>\n",
       "    </tr>\n",
       "    <tr>\n",
       "      <th>2</th>\n",
       "      <td>5196000.0</td>\n",
       "      <td>3</td>\n",
       "      <td>8</td>\n",
       "      <td>2015</td>\n",
       "      <td>14</td>\n",
       "    </tr>\n",
       "    <tr>\n",
       "      <th>3</th>\n",
       "      <td>64900000.0</td>\n",
       "      <td>4</td>\n",
       "      <td>7</td>\n",
       "      <td>2015</td>\n",
       "      <td>7</td>\n",
       "    </tr>\n",
       "    <tr>\n",
       "      <th>4</th>\n",
       "      <td>10000000.0</td>\n",
       "      <td>1</td>\n",
       "      <td>6</td>\n",
       "      <td>2018</td>\n",
       "      <td>8</td>\n",
       "    </tr>\n",
       "    <tr>\n",
       "      <th>7</th>\n",
       "      <td>7915000.0</td>\n",
       "      <td>3</td>\n",
       "      <td>4</td>\n",
       "      <td>2019</td>\n",
       "      <td>12</td>\n",
       "    </tr>\n",
       "  </tbody>\n",
       "</table>\n",
       "</div>"
      ],
      "text/plain": [
       "   last_price  weekday  month  year  centr_km\n",
       "0  13000000.0        3      3  2019        16\n",
       "2   5196000.0        3      8  2015        14\n",
       "3  64900000.0        4      7  2015         7\n",
       "4  10000000.0        1      6  2018         8\n",
       "7   7915000.0        3      4  2019        12"
      ]
     },
     "execution_count": 132,
     "metadata": {},
     "output_type": "execute_result"
    }
   ],
   "source": [
    "#второй способ поиска закономерностей\n",
    "data_price_group_piter = piter[['last_price','weekday', 'month', 'year', 'centr_km']]\n",
    "data_price_group_piter.head()"
   ]
  },
  {
   "cell_type": "code",
   "execution_count": 133,
   "metadata": {},
   "outputs": [
    {
     "data": {
      "image/png": "[encoded data removed]",
      "text/plain": [
       "<Figure size 648x648 with 25 Axes>"
      ]
     },
     "metadata": {
      "needs_background": "light"
     },
     "output_type": "display_data"
    }
   ],
   "source": [
    "pd.plotting.scatter_matrix(data_price_group_piter, figsize=(9,9));"
   ]
  },
  {
   "cell_type": "code",
   "execution_count": 134,
   "metadata": {},
   "outputs": [
    {
     "data": {
      "text/html": [
       "<div>\n",
       "<style scoped>\n",
       "    .dataframe tbody tr th:only-of-type {\n",
       "        vertical-align: middle;\n",
       "    }\n",
       "\n",
       "    .dataframe tbody tr th {\n",
       "        vertical-align: top;\n",
       "    }\n",
       "\n",
       "    .dataframe thead th {\n",
       "        text-align: right;\n",
       "    }\n",
       "</style>\n",
       "<table border=\"1\" class=\"dataframe\">\n",
       "  <thead>\n",
       "    <tr style=\"text-align: right;\">\n",
       "      <th></th>\n",
       "      <th>last_price</th>\n",
       "      <th>weekday</th>\n",
       "      <th>month</th>\n",
       "      <th>year</th>\n",
       "      <th>centr_km</th>\n",
       "    </tr>\n",
       "  </thead>\n",
       "  <tbody>\n",
       "    <tr>\n",
       "      <th>last_price</th>\n",
       "      <td>1.000000</td>\n",
       "      <td>0.006046</td>\n",
       "      <td>-0.000022</td>\n",
       "      <td>-0.044602</td>\n",
       "      <td>-0.257570</td>\n",
       "    </tr>\n",
       "    <tr>\n",
       "      <th>weekday</th>\n",
       "      <td>0.006046</td>\n",
       "      <td>1.000000</td>\n",
       "      <td>0.003689</td>\n",
       "      <td>-0.001939</td>\n",
       "      <td>0.000129</td>\n",
       "    </tr>\n",
       "    <tr>\n",
       "      <th>month</th>\n",
       "      <td>-0.000022</td>\n",
       "      <td>0.003689</td>\n",
       "      <td>1.000000</td>\n",
       "      <td>-0.278403</td>\n",
       "      <td>0.007046</td>\n",
       "    </tr>\n",
       "    <tr>\n",
       "      <th>year</th>\n",
       "      <td>-0.044602</td>\n",
       "      <td>-0.001939</td>\n",
       "      <td>-0.278403</td>\n",
       "      <td>1.000000</td>\n",
       "      <td>0.085103</td>\n",
       "    </tr>\n",
       "    <tr>\n",
       "      <th>centr_km</th>\n",
       "      <td>-0.257570</td>\n",
       "      <td>0.000129</td>\n",
       "      <td>0.007046</td>\n",
       "      <td>0.085103</td>\n",
       "      <td>1.000000</td>\n",
       "    </tr>\n",
       "  </tbody>\n",
       "</table>\n",
       "</div>"
      ],
      "text/plain": [
       "            last_price   weekday     month      year  centr_km\n",
       "last_price    1.000000  0.006046 -0.000022 -0.044602 -0.257570\n",
       "weekday       0.006046  1.000000  0.003689 -0.001939  0.000129\n",
       "month        -0.000022  0.003689  1.000000 -0.278403  0.007046\n",
       "year         -0.044602 -0.001939 -0.278403  1.000000  0.085103\n",
       "centr_km     -0.257570  0.000129  0.007046  0.085103  1.000000"
      ]
     },
     "execution_count": 134,
     "metadata": {},
     "output_type": "execute_result"
    }
   ],
   "source": [
    "data_price_group_piter.corr()"
   ]
  },
  {
   "cell_type": "markdown",
   "metadata": {},
   "source": [
    "- Напомню вывод по общей базе, правда здесь мы смотрели и другие показатели:\n",
    "\n",
    "Зависимость цены от площади: равно 0,65. Число положительное, ближе к единице. Говорит о том, что цена зависит от площади. С ростом площади растет и цена. Зависимость цены от количества комнат: равно 0,36. Число положительное, ближе к нулю. Говорит о том, что цена зависит от количества комнат, но не сильно. С ростом количества комнат цена растет медленно. Связь слабая. Зависимость цены от удаленности от центра: равно -0,04. Число отрицательное, ближе к нулю. Говорит о том, что цена не зависит от удаленности. С увеличением удаленности от центра цена снижается, при этом практически нет взаимосвязи.\n",
    "\n",
    "- Вывод по центру питера\n",
    "\n",
    "**Зависимость цены от дня недели:** практически равно 0. Число положительное, но совсем близко к 0. Говорит о том, что цена не зависит от дня недели, в который опубликовано объявление о продаже. Звучит даже логично, это не имеет значения. **Зависимость цены от года продаже:** равно -0,04. Число отрицательное, ближе к нулю. Говорит о том, что цена совершенно не зависит от года продажи. Квартиры продаются всегда. **Зависимость цены от удаленности от центра:** равно -0,25. Число отрицательное, но все же ближе к нулю. Говорит о том, что цена не зависит от удаленности. С увеличением удаленности от центра цена снижается, при этом практически нет взаимосвязи. Квартиры одинаково хорошо продаются в любой удаленности в центре Питера.\n",
    "\n",
    "Получается, что у нас с общей базой сходится один показатель: удаленность от центра. И там и там связи нет. "
   ]
  },
  {
   "cell_type": "code",
   "execution_count": 135,
   "metadata": {
    "scrolled": false
   },
   "outputs": [
    {
     "data": {
      "text/html": [
       "<div>\n",
       "<style scoped>\n",
       "    .dataframe tbody tr th:only-of-type {\n",
       "        vertical-align: middle;\n",
       "    }\n",
       "\n",
       "    .dataframe tbody tr th {\n",
       "        vertical-align: top;\n",
       "    }\n",
       "\n",
       "    .dataframe thead th {\n",
       "        text-align: right;\n",
       "    }\n",
       "</style>\n",
       "<table border=\"1\" class=\"dataframe\">\n",
       "  <thead>\n",
       "    <tr style=\"text-align: right;\">\n",
       "      <th>year</th>\n",
       "      <th>2014</th>\n",
       "      <th>2015</th>\n",
       "      <th>2016</th>\n",
       "      <th>2017</th>\n",
       "      <th>2018</th>\n",
       "      <th>2019</th>\n",
       "    </tr>\n",
       "    <tr>\n",
       "      <th>month</th>\n",
       "      <th></th>\n",
       "      <th></th>\n",
       "      <th></th>\n",
       "      <th></th>\n",
       "      <th></th>\n",
       "      <th></th>\n",
       "    </tr>\n",
       "  </thead>\n",
       "  <tbody>\n",
       "    <tr>\n",
       "      <th>1</th>\n",
       "      <td>NaN</td>\n",
       "      <td>70.0</td>\n",
       "      <td>122.0</td>\n",
       "      <td>289.0</td>\n",
       "      <td>592.0</td>\n",
       "      <td>423.0</td>\n",
       "    </tr>\n",
       "    <tr>\n",
       "      <th>2</th>\n",
       "      <td>NaN</td>\n",
       "      <td>62.0</td>\n",
       "      <td>256.0</td>\n",
       "      <td>433.0</td>\n",
       "      <td>1329.0</td>\n",
       "      <td>557.0</td>\n",
       "    </tr>\n",
       "    <tr>\n",
       "      <th>3</th>\n",
       "      <td>NaN</td>\n",
       "      <td>112.0</td>\n",
       "      <td>349.0</td>\n",
       "      <td>221.0</td>\n",
       "      <td>1021.0</td>\n",
       "      <td>877.0</td>\n",
       "    </tr>\n",
       "    <tr>\n",
       "      <th>4</th>\n",
       "      <td>NaN</td>\n",
       "      <td>50.0</td>\n",
       "      <td>418.0</td>\n",
       "      <td>638.0</td>\n",
       "      <td>303.0</td>\n",
       "      <td>953.0</td>\n",
       "    </tr>\n",
       "    <tr>\n",
       "      <th>5</th>\n",
       "      <td>NaN</td>\n",
       "      <td>65.0</td>\n",
       "      <td>434.0</td>\n",
       "      <td>553.0</td>\n",
       "      <td>152.0</td>\n",
       "      <td>61.0</td>\n",
       "    </tr>\n",
       "    <tr>\n",
       "      <th>6</th>\n",
       "      <td>NaN</td>\n",
       "      <td>95.0</td>\n",
       "      <td>460.0</td>\n",
       "      <td>668.0</td>\n",
       "      <td>529.0</td>\n",
       "      <td>NaN</td>\n",
       "    </tr>\n",
       "    <tr>\n",
       "      <th>7</th>\n",
       "      <td>NaN</td>\n",
       "      <td>93.0</td>\n",
       "      <td>139.0</td>\n",
       "      <td>586.0</td>\n",
       "      <td>872.0</td>\n",
       "      <td>NaN</td>\n",
       "    </tr>\n",
       "    <tr>\n",
       "      <th>8</th>\n",
       "      <td>NaN</td>\n",
       "      <td>92.0</td>\n",
       "      <td>88.0</td>\n",
       "      <td>738.0</td>\n",
       "      <td>823.0</td>\n",
       "      <td>NaN</td>\n",
       "    </tr>\n",
       "    <tr>\n",
       "      <th>9</th>\n",
       "      <td>NaN</td>\n",
       "      <td>92.0</td>\n",
       "      <td>119.0</td>\n",
       "      <td>994.0</td>\n",
       "      <td>769.0</td>\n",
       "      <td>NaN</td>\n",
       "    </tr>\n",
       "    <tr>\n",
       "      <th>10</th>\n",
       "      <td>NaN</td>\n",
       "      <td>144.0</td>\n",
       "      <td>123.0</td>\n",
       "      <td>929.0</td>\n",
       "      <td>915.0</td>\n",
       "      <td>NaN</td>\n",
       "    </tr>\n",
       "    <tr>\n",
       "      <th>11</th>\n",
       "      <td>20.0</td>\n",
       "      <td>155.0</td>\n",
       "      <td>133.0</td>\n",
       "      <td>1230.0</td>\n",
       "      <td>826.0</td>\n",
       "      <td>NaN</td>\n",
       "    </tr>\n",
       "    <tr>\n",
       "      <th>12</th>\n",
       "      <td>117.0</td>\n",
       "      <td>154.0</td>\n",
       "      <td>122.0</td>\n",
       "      <td>887.0</td>\n",
       "      <td>361.0</td>\n",
       "      <td>NaN</td>\n",
       "    </tr>\n",
       "  </tbody>\n",
       "</table>\n",
       "</div>"
      ],
      "text/plain": [
       "year    2014   2015   2016    2017    2018   2019\n",
       "month                                            \n",
       "1        NaN   70.0  122.0   289.0   592.0  423.0\n",
       "2        NaN   62.0  256.0   433.0  1329.0  557.0\n",
       "3        NaN  112.0  349.0   221.0  1021.0  877.0\n",
       "4        NaN   50.0  418.0   638.0   303.0  953.0\n",
       "5        NaN   65.0  434.0   553.0   152.0   61.0\n",
       "6        NaN   95.0  460.0   668.0   529.0    NaN\n",
       "7        NaN   93.0  139.0   586.0   872.0    NaN\n",
       "8        NaN   92.0   88.0   738.0   823.0    NaN\n",
       "9        NaN   92.0  119.0   994.0   769.0    NaN\n",
       "10       NaN  144.0  123.0   929.0   915.0    NaN\n",
       "11      20.0  155.0  133.0  1230.0   826.0    NaN\n",
       "12     117.0  154.0  122.0   887.0   361.0    NaN"
      ]
     },
     "execution_count": 135,
     "metadata": {},
     "output_type": "execute_result"
    }
   ],
   "source": [
    "#посмотрим, если ли закономерность в пропусках по годам (переменная data_0 была создана на момента предобработки данных)\n",
    "data_0.pivot_table(index = 'month',\n",
    "                  columns = 'year',\n",
    "                  values = 'days_exposition',\n",
    "                  aggfunc = 'count')\n",
    "                           \n"
   ]
  },
  {
   "cell_type": "code",
   "execution_count": 136,
   "metadata": {},
   "outputs": [
    {
     "data": {
      "text/html": [
       "<div>\n",
       "<style scoped>\n",
       "    .dataframe tbody tr th:only-of-type {\n",
       "        vertical-align: middle;\n",
       "    }\n",
       "\n",
       "    .dataframe tbody tr th {\n",
       "        vertical-align: top;\n",
       "    }\n",
       "\n",
       "    .dataframe thead th {\n",
       "        text-align: right;\n",
       "    }\n",
       "</style>\n",
       "<table border=\"1\" class=\"dataframe\">\n",
       "  <thead>\n",
       "    <tr style=\"text-align: right;\">\n",
       "      <th></th>\n",
       "      <th>total_images</th>\n",
       "      <th>last_price</th>\n",
       "      <th>total_area</th>\n",
       "      <th>first_day_exposition</th>\n",
       "      <th>rooms</th>\n",
       "      <th>ceiling_height</th>\n",
       "      <th>floors_total</th>\n",
       "      <th>living_area</th>\n",
       "      <th>floor</th>\n",
       "      <th>is_apartment</th>\n",
       "      <th>...</th>\n",
       "      <th>days_exposition</th>\n",
       "      <th>price_metr</th>\n",
       "      <th>floor_group</th>\n",
       "      <th>weekday</th>\n",
       "      <th>year</th>\n",
       "      <th>month</th>\n",
       "      <th>living_total</th>\n",
       "      <th>kitchen_total</th>\n",
       "      <th>centr_km</th>\n",
       "      <th>price_km</th>\n",
       "    </tr>\n",
       "  </thead>\n",
       "  <tbody>\n",
       "  </tbody>\n",
       "</table>\n",
       "<p>0 rows × 31 columns</p>\n",
       "</div>"
      ],
      "text/plain": [
       "Empty DataFrame\n",
       "Columns: [total_images, last_price, total_area, first_day_exposition, rooms, ceiling_height, floors_total, living_area, floor, is_apartment, studio, open_plan, kitchen_area, balcony, locality_name, airports_nearest, cityCenters_nearest, parks_around3000, parks_nearest, ponds_around3000, ponds_nearest, days_exposition, price_metr, floor_group, weekday, year, month, living_total, kitchen_total, centr_km, price_km]\n",
       "Index: []\n",
       "\n",
       "[0 rows x 31 columns]"
      ]
     },
     "execution_count": 136,
     "metadata": {},
     "output_type": "execute_result"
    }
   ],
   "source": [
    "data_0.loc[(data['month'] == 10) & (data['year'] == 2014)].head()"
   ]
  },
  {
   "cell_type": "markdown",
   "metadata": {},
   "source": [
    "Видно, что пропуски есть до ноября 2014 года и с июня 2019 года. Я проверила, что в этот период нет объявлений. Отсюда взялись и пропуски. Хотя мне кажется такую табличку нужно было создавать раньше "
   ]
  },
  {
   "cell_type": "markdown",
   "metadata": {},
   "source": [
    "## Общий вывод"
   ]
  },
  {
   "cell_type": "markdown",
   "metadata": {},
   "source": [
    "Это был очень долгий проект, решение которого вышло длинное. Причина в длительной предобработке таблицы. \n",
    "\n",
    "Рассматривая общую базу квартир и центр Питера, можно сделать вывод: формирование стоимости квартир имеет логический однородный характер. Одинаковые показатели влияют одинаково на любую квартиру, вне зависимости от локации. \n",
    "\n",
    "Например, наибольшее количесво комнат увеличивают стоимоть квартир как в центре Питера, так и в любом поселке. \n",
    "\n",
    "На стоимость больше всего влияют: месторасположение (город, поселок), удаленность от центра, площадь, количество комнат и этаж. "
   ]
  }
 ],
 "metadata": {
  "ExecuteTimeLog": [
   {
    "duration": 935,
    "start_time": "2022-06-06T21:04:43.850Z"
   },
   {
    "duration": 125,
    "start_time": "2022-06-06T21:05:00.046Z"
   },
   {
    "duration": 163,
    "start_time": "2022-06-06T21:06:14.782Z"
   },
   {
    "duration": 102,
    "start_time": "2022-06-06T21:06:19.567Z"
   },
   {
    "duration": 133,
    "start_time": "2022-06-06T21:14:24.794Z"
   },
   {
    "duration": 10,
    "start_time": "2022-06-06T21:15:50.732Z"
   },
   {
    "duration": 119,
    "start_time": "2022-06-06T21:16:02.437Z"
   },
   {
    "duration": 139,
    "start_time": "2022-06-06T21:16:19.414Z"
   },
   {
    "duration": 43,
    "start_time": "2022-06-06T21:17:09.630Z"
   },
   {
    "duration": 27,
    "start_time": "2022-06-06T21:24:13.927Z"
   },
   {
    "duration": 23,
    "start_time": "2022-06-06T21:44:28.007Z"
   },
   {
    "duration": 63,
    "start_time": "2022-06-06T21:48:53.284Z"
   },
   {
    "duration": 47,
    "start_time": "2022-06-06T21:49:06.752Z"
   },
   {
    "duration": 1030,
    "start_time": "2022-06-06T21:50:02.391Z"
   },
   {
    "duration": 8,
    "start_time": "2022-06-06T21:50:28.854Z"
   },
   {
    "duration": 12,
    "start_time": "2022-06-06T21:54:12.063Z"
   },
   {
    "duration": 12,
    "start_time": "2022-06-06T21:54:40.793Z"
   },
   {
    "duration": 10,
    "start_time": "2022-06-06T21:54:49.112Z"
   },
   {
    "duration": 13,
    "start_time": "2022-06-06T21:55:30.399Z"
   },
   {
    "duration": 14,
    "start_time": "2022-06-06T21:59:36.005Z"
   },
   {
    "duration": 14,
    "start_time": "2022-06-06T22:01:28.598Z"
   },
   {
    "duration": 251,
    "start_time": "2022-06-06T22:03:21.700Z"
   },
   {
    "duration": 90,
    "start_time": "2022-06-06T22:03:44.434Z"
   },
   {
    "duration": 10,
    "start_time": "2022-06-06T22:04:03.223Z"
   },
   {
    "duration": 9,
    "start_time": "2022-06-06T22:04:50.214Z"
   },
   {
    "duration": 914,
    "start_time": "2022-06-06T22:05:08.403Z"
   },
   {
    "duration": 43,
    "start_time": "2022-06-06T22:05:09.320Z"
   },
   {
    "duration": 58,
    "start_time": "2022-06-06T22:05:09.364Z"
   },
   {
    "duration": 22,
    "start_time": "2022-06-06T22:05:09.427Z"
   },
   {
    "duration": 46,
    "start_time": "2022-06-06T22:05:09.451Z"
   },
   {
    "duration": 12,
    "start_time": "2022-06-06T22:05:09.499Z"
   },
   {
    "duration": 12,
    "start_time": "2022-06-06T22:05:09.513Z"
   },
   {
    "duration": 46,
    "start_time": "2022-06-06T22:05:09.527Z"
   },
   {
    "duration": 36,
    "start_time": "2022-06-06T22:05:09.575Z"
   },
   {
    "duration": 200,
    "start_time": "2022-06-06T22:05:26.975Z"
   },
   {
    "duration": 60,
    "start_time": "2022-06-06T22:06:00.609Z"
   },
   {
    "duration": 810,
    "start_time": "2022-06-06T22:06:10.439Z"
   },
   {
    "duration": 35,
    "start_time": "2022-06-06T22:06:11.251Z"
   },
   {
    "duration": 33,
    "start_time": "2022-06-06T22:06:11.288Z"
   },
   {
    "duration": 26,
    "start_time": "2022-06-06T22:06:11.324Z"
   },
   {
    "duration": 49,
    "start_time": "2022-06-06T22:06:11.352Z"
   },
   {
    "duration": 10,
    "start_time": "2022-06-06T22:06:11.403Z"
   },
   {
    "duration": 8,
    "start_time": "2022-06-06T22:06:11.415Z"
   },
   {
    "duration": 11,
    "start_time": "2022-06-06T22:06:11.425Z"
   },
   {
    "duration": 192,
    "start_time": "2022-06-06T22:06:11.438Z"
   },
   {
    "duration": 57,
    "start_time": "2022-06-06T22:06:49.383Z"
   },
   {
    "duration": 8,
    "start_time": "2022-06-06T22:08:46.698Z"
   },
   {
    "duration": 1039,
    "start_time": "2022-06-06T22:08:53.923Z"
   },
   {
    "duration": 41,
    "start_time": "2022-06-06T22:08:54.964Z"
   },
   {
    "duration": 23,
    "start_time": "2022-06-06T22:08:55.007Z"
   },
   {
    "duration": 67,
    "start_time": "2022-06-06T22:08:55.033Z"
   },
   {
    "duration": 31,
    "start_time": "2022-06-06T22:08:55.102Z"
   },
   {
    "duration": 32,
    "start_time": "2022-06-06T22:08:55.136Z"
   },
   {
    "duration": 18,
    "start_time": "2022-06-06T22:08:55.171Z"
   },
   {
    "duration": 25,
    "start_time": "2022-06-06T22:08:55.193Z"
   },
   {
    "duration": 221,
    "start_time": "2022-06-06T22:09:03.214Z"
   },
   {
    "duration": 67,
    "start_time": "2022-06-06T22:13:33.851Z"
   },
   {
    "duration": 57,
    "start_time": "2022-06-06T22:13:43.635Z"
   },
   {
    "duration": 21,
    "start_time": "2022-06-06T22:14:24.424Z"
   },
   {
    "duration": 27,
    "start_time": "2022-06-06T22:14:46.842Z"
   },
   {
    "duration": 27,
    "start_time": "2022-06-06T22:14:54.181Z"
   },
   {
    "duration": 166,
    "start_time": "2022-06-06T22:16:35.060Z"
   },
   {
    "duration": 110,
    "start_time": "2022-06-06T22:16:54.173Z"
   },
   {
    "duration": 227,
    "start_time": "2022-06-06T22:18:08.625Z"
   },
   {
    "duration": 9,
    "start_time": "2022-06-06T22:22:09.284Z"
   },
   {
    "duration": 9,
    "start_time": "2022-06-06T22:22:20.649Z"
   },
   {
    "duration": 105,
    "start_time": "2022-06-06T22:24:25.388Z"
   },
   {
    "duration": 94,
    "start_time": "2022-06-06T22:25:06.164Z"
   },
   {
    "duration": 10,
    "start_time": "2022-06-06T22:28:30.180Z"
   },
   {
    "duration": 105,
    "start_time": "2022-06-06T22:30:23.077Z"
   },
   {
    "duration": 8,
    "start_time": "2022-06-06T22:31:19.800Z"
   },
   {
    "duration": 10,
    "start_time": "2022-06-06T22:31:56.771Z"
   },
   {
    "duration": 9,
    "start_time": "2022-06-06T22:40:27.120Z"
   },
   {
    "duration": 7,
    "start_time": "2022-06-06T22:40:47.583Z"
   },
   {
    "duration": 13,
    "start_time": "2022-06-06T22:40:52.211Z"
   },
   {
    "duration": 12,
    "start_time": "2022-06-06T22:41:02.979Z"
   },
   {
    "duration": 7,
    "start_time": "2022-06-06T22:41:11.023Z"
   },
   {
    "duration": 11,
    "start_time": "2022-06-06T22:42:31.924Z"
   },
   {
    "duration": 7,
    "start_time": "2022-06-06T22:42:42.034Z"
   },
   {
    "duration": 11,
    "start_time": "2022-06-06T22:43:12.839Z"
   },
   {
    "duration": 7,
    "start_time": "2022-06-06T22:43:18.342Z"
   },
   {
    "duration": 5,
    "start_time": "2022-06-06T22:43:50.112Z"
   },
   {
    "duration": 12,
    "start_time": "2022-06-06T22:44:19.036Z"
   },
   {
    "duration": 8,
    "start_time": "2022-06-06T22:46:38.793Z"
   },
   {
    "duration": 8,
    "start_time": "2022-06-06T22:46:46.837Z"
   },
   {
    "duration": 9,
    "start_time": "2022-06-06T22:46:53.899Z"
   },
   {
    "duration": 4,
    "start_time": "2022-06-06T22:47:07.891Z"
   },
   {
    "duration": 7,
    "start_time": "2022-06-06T22:47:18.640Z"
   },
   {
    "duration": 8,
    "start_time": "2022-06-06T22:49:12.092Z"
   },
   {
    "duration": 8,
    "start_time": "2022-06-06T22:49:19.883Z"
   },
   {
    "duration": 8,
    "start_time": "2022-06-06T22:49:41.488Z"
   },
   {
    "duration": 8,
    "start_time": "2022-06-06T22:49:52.797Z"
   },
   {
    "duration": 11,
    "start_time": "2022-06-06T22:52:05.851Z"
   },
   {
    "duration": 20,
    "start_time": "2022-06-06T22:55:02.643Z"
   },
   {
    "duration": 10,
    "start_time": "2022-06-06T22:55:26.522Z"
   },
   {
    "duration": 26,
    "start_time": "2022-06-06T22:56:32.145Z"
   },
   {
    "duration": 6,
    "start_time": "2022-06-06T22:58:01.082Z"
   },
   {
    "duration": 50,
    "start_time": "2022-06-14T09:22:21.575Z"
   },
   {
    "duration": 6,
    "start_time": "2022-06-14T09:23:25.103Z"
   },
   {
    "duration": 813,
    "start_time": "2022-06-14T09:23:30.298Z"
   },
   {
    "duration": 28,
    "start_time": "2022-06-14T09:23:31.113Z"
   },
   {
    "duration": 49,
    "start_time": "2022-06-14T09:23:31.143Z"
   },
   {
    "duration": 62,
    "start_time": "2022-06-14T09:23:31.194Z"
   },
   {
    "duration": 51,
    "start_time": "2022-06-14T09:23:31.258Z"
   },
   {
    "duration": 39,
    "start_time": "2022-06-14T09:23:31.311Z"
   },
   {
    "duration": 39,
    "start_time": "2022-06-14T09:23:31.351Z"
   },
   {
    "duration": 41,
    "start_time": "2022-06-14T09:23:31.391Z"
   },
   {
    "duration": 100,
    "start_time": "2022-06-14T09:23:31.434Z"
   },
   {
    "duration": 0,
    "start_time": "2022-06-14T09:23:31.536Z"
   },
   {
    "duration": 0,
    "start_time": "2022-06-14T09:23:31.538Z"
   },
   {
    "duration": 0,
    "start_time": "2022-06-14T09:23:31.539Z"
   },
   {
    "duration": 0,
    "start_time": "2022-06-14T09:23:31.540Z"
   },
   {
    "duration": 8,
    "start_time": "2022-06-14T09:23:56.068Z"
   },
   {
    "duration": 2,
    "start_time": "2022-06-14T09:27:23.166Z"
   },
   {
    "duration": 8,
    "start_time": "2022-06-14T09:27:27.696Z"
   },
   {
    "duration": 142,
    "start_time": "2022-06-14T09:27:48.556Z"
   },
   {
    "duration": 28,
    "start_time": "2022-06-14T09:27:48.700Z"
   },
   {
    "duration": 21,
    "start_time": "2022-06-14T09:27:48.729Z"
   },
   {
    "duration": 24,
    "start_time": "2022-06-14T09:27:48.753Z"
   },
   {
    "duration": 57,
    "start_time": "2022-06-14T09:27:48.779Z"
   },
   {
    "duration": 11,
    "start_time": "2022-06-14T09:27:48.838Z"
   },
   {
    "duration": 35,
    "start_time": "2022-06-14T09:27:48.851Z"
   },
   {
    "duration": 20,
    "start_time": "2022-06-14T09:27:48.888Z"
   },
   {
    "duration": 6,
    "start_time": "2022-06-14T09:27:48.910Z"
   },
   {
    "duration": 15,
    "start_time": "2022-06-14T09:27:48.919Z"
   },
   {
    "duration": 16,
    "start_time": "2022-06-14T09:27:48.936Z"
   },
   {
    "duration": 31,
    "start_time": "2022-06-14T09:27:48.954Z"
   },
   {
    "duration": 31,
    "start_time": "2022-06-14T09:27:48.987Z"
   },
   {
    "duration": 90,
    "start_time": "2022-06-14T09:32:56.844Z"
   },
   {
    "duration": 2,
    "start_time": "2022-06-14T09:35:36.979Z"
   },
   {
    "duration": 17,
    "start_time": "2022-06-14T09:37:46.338Z"
   },
   {
    "duration": 25,
    "start_time": "2022-06-14T09:40:19.060Z"
   },
   {
    "duration": 23,
    "start_time": "2022-06-14T09:40:31.972Z"
   },
   {
    "duration": 24,
    "start_time": "2022-06-14T09:41:18.751Z"
   },
   {
    "duration": 22,
    "start_time": "2022-06-14T09:41:22.591Z"
   },
   {
    "duration": 17,
    "start_time": "2022-06-14T09:43:31.316Z"
   },
   {
    "duration": 6,
    "start_time": "2022-06-14T09:43:39.904Z"
   },
   {
    "duration": 6,
    "start_time": "2022-06-14T09:43:58.518Z"
   },
   {
    "duration": 7,
    "start_time": "2022-06-14T09:44:31.941Z"
   },
   {
    "duration": 10,
    "start_time": "2022-06-14T09:44:37.837Z"
   },
   {
    "duration": 8,
    "start_time": "2022-06-14T09:44:47.071Z"
   },
   {
    "duration": 9,
    "start_time": "2022-06-14T09:44:54.794Z"
   },
   {
    "duration": 7,
    "start_time": "2022-06-14T09:45:09.986Z"
   },
   {
    "duration": 7,
    "start_time": "2022-06-14T09:45:13.497Z"
   },
   {
    "duration": 7,
    "start_time": "2022-06-14T09:45:21.021Z"
   },
   {
    "duration": 136,
    "start_time": "2022-06-14T09:45:32.191Z"
   },
   {
    "duration": 26,
    "start_time": "2022-06-14T09:45:32.329Z"
   },
   {
    "duration": 31,
    "start_time": "2022-06-14T09:45:32.357Z"
   },
   {
    "duration": 60,
    "start_time": "2022-06-14T09:45:32.390Z"
   },
   {
    "duration": 42,
    "start_time": "2022-06-14T09:45:32.452Z"
   },
   {
    "duration": 9,
    "start_time": "2022-06-14T09:45:32.495Z"
   },
   {
    "duration": 85,
    "start_time": "2022-06-14T09:45:32.505Z"
   },
   {
    "duration": 73,
    "start_time": "2022-06-14T09:45:32.591Z"
   },
   {
    "duration": 52,
    "start_time": "2022-06-14T09:45:32.666Z"
   },
   {
    "duration": 30,
    "start_time": "2022-06-14T09:45:32.720Z"
   },
   {
    "duration": 47,
    "start_time": "2022-06-14T09:45:32.752Z"
   },
   {
    "duration": 16,
    "start_time": "2022-06-14T09:45:32.800Z"
   },
   {
    "duration": 50,
    "start_time": "2022-06-14T09:45:32.818Z"
   },
   {
    "duration": 45,
    "start_time": "2022-06-14T09:45:32.869Z"
   },
   {
    "duration": 35,
    "start_time": "2022-06-14T09:45:32.916Z"
   },
   {
    "duration": 7,
    "start_time": "2022-06-14T09:45:46.743Z"
   },
   {
    "duration": 6,
    "start_time": "2022-06-14T09:46:03.397Z"
   },
   {
    "duration": 7,
    "start_time": "2022-06-14T09:46:13.824Z"
   },
   {
    "duration": 10,
    "start_time": "2022-06-14T09:46:28.157Z"
   },
   {
    "duration": 8,
    "start_time": "2022-06-14T09:46:45.221Z"
   },
   {
    "duration": 9,
    "start_time": "2022-06-14T09:47:16.108Z"
   },
   {
    "duration": 8,
    "start_time": "2022-06-14T09:47:56.656Z"
   },
   {
    "duration": 8,
    "start_time": "2022-06-14T09:48:10.002Z"
   },
   {
    "duration": 8,
    "start_time": "2022-06-14T09:48:15.593Z"
   },
   {
    "duration": 7,
    "start_time": "2022-06-14T09:48:19.236Z"
   },
   {
    "duration": 130,
    "start_time": "2022-06-14T09:48:24.026Z"
   },
   {
    "duration": 26,
    "start_time": "2022-06-14T09:48:24.158Z"
   },
   {
    "duration": 30,
    "start_time": "2022-06-14T09:48:24.186Z"
   },
   {
    "duration": 32,
    "start_time": "2022-06-14T09:48:24.218Z"
   },
   {
    "duration": 39,
    "start_time": "2022-06-14T09:48:24.252Z"
   },
   {
    "duration": 11,
    "start_time": "2022-06-14T09:48:24.293Z"
   },
   {
    "duration": 24,
    "start_time": "2022-06-14T09:48:24.305Z"
   },
   {
    "duration": 12,
    "start_time": "2022-06-14T09:48:24.331Z"
   },
   {
    "duration": 22,
    "start_time": "2022-06-14T09:48:24.345Z"
   },
   {
    "duration": 31,
    "start_time": "2022-06-14T09:48:24.370Z"
   },
   {
    "duration": 27,
    "start_time": "2022-06-14T09:48:24.403Z"
   },
   {
    "duration": 11,
    "start_time": "2022-06-14T09:48:24.433Z"
   },
   {
    "duration": 15,
    "start_time": "2022-06-14T09:48:24.446Z"
   },
   {
    "duration": 25,
    "start_time": "2022-06-14T09:48:24.463Z"
   },
   {
    "duration": 33,
    "start_time": "2022-06-14T09:48:24.490Z"
   },
   {
    "duration": 9,
    "start_time": "2022-06-14T09:49:09.180Z"
   },
   {
    "duration": 126,
    "start_time": "2022-06-14T09:49:18.229Z"
   },
   {
    "duration": 27,
    "start_time": "2022-06-14T09:49:18.357Z"
   },
   {
    "duration": 21,
    "start_time": "2022-06-14T09:49:18.386Z"
   },
   {
    "duration": 37,
    "start_time": "2022-06-14T09:49:18.409Z"
   },
   {
    "duration": 34,
    "start_time": "2022-06-14T09:49:18.448Z"
   },
   {
    "duration": 10,
    "start_time": "2022-06-14T09:49:18.484Z"
   },
   {
    "duration": 33,
    "start_time": "2022-06-14T09:49:18.496Z"
   },
   {
    "duration": 11,
    "start_time": "2022-06-14T09:49:18.531Z"
   },
   {
    "duration": 30,
    "start_time": "2022-06-14T09:49:18.543Z"
   },
   {
    "duration": 25,
    "start_time": "2022-06-14T09:49:18.575Z"
   },
   {
    "duration": 9,
    "start_time": "2022-06-14T09:49:18.602Z"
   },
   {
    "duration": 18,
    "start_time": "2022-06-14T09:49:18.613Z"
   },
   {
    "duration": 18,
    "start_time": "2022-06-14T09:49:18.632Z"
   },
   {
    "duration": 20,
    "start_time": "2022-06-14T09:49:18.652Z"
   },
   {
    "duration": 40,
    "start_time": "2022-06-14T09:49:18.673Z"
   },
   {
    "duration": 9,
    "start_time": "2022-06-14T09:51:54.795Z"
   },
   {
    "duration": 9,
    "start_time": "2022-06-14T09:52:01.304Z"
   },
   {
    "duration": 124,
    "start_time": "2022-06-14T09:52:18.651Z"
   },
   {
    "duration": 26,
    "start_time": "2022-06-14T09:52:18.776Z"
   },
   {
    "duration": 33,
    "start_time": "2022-06-14T09:52:18.803Z"
   },
   {
    "duration": 31,
    "start_time": "2022-06-14T09:52:18.838Z"
   },
   {
    "duration": 39,
    "start_time": "2022-06-14T09:52:18.870Z"
   },
   {
    "duration": 12,
    "start_time": "2022-06-14T09:52:18.910Z"
   },
   {
    "duration": 18,
    "start_time": "2022-06-14T09:52:18.924Z"
   },
   {
    "duration": 17,
    "start_time": "2022-06-14T09:52:18.944Z"
   },
   {
    "duration": 17,
    "start_time": "2022-06-14T09:52:18.962Z"
   },
   {
    "duration": 13,
    "start_time": "2022-06-14T09:52:18.981Z"
   },
   {
    "duration": 15,
    "start_time": "2022-06-14T09:52:18.995Z"
   },
   {
    "duration": 28,
    "start_time": "2022-06-14T09:52:19.011Z"
   },
   {
    "duration": 20,
    "start_time": "2022-06-14T09:52:19.041Z"
   },
   {
    "duration": 29,
    "start_time": "2022-06-14T09:52:19.062Z"
   },
   {
    "duration": 27,
    "start_time": "2022-06-14T09:52:19.092Z"
   },
   {
    "duration": 10,
    "start_time": "2022-06-14T09:52:36.024Z"
   },
   {
    "duration": 153,
    "start_time": "2022-06-14T09:52:49.078Z"
   },
   {
    "duration": 28,
    "start_time": "2022-06-14T09:52:49.234Z"
   },
   {
    "duration": 30,
    "start_time": "2022-06-14T09:52:49.264Z"
   },
   {
    "duration": 35,
    "start_time": "2022-06-14T09:52:49.297Z"
   },
   {
    "duration": 39,
    "start_time": "2022-06-14T09:52:49.334Z"
   },
   {
    "duration": 13,
    "start_time": "2022-06-14T09:52:49.376Z"
   },
   {
    "duration": 20,
    "start_time": "2022-06-14T09:52:49.391Z"
   },
   {
    "duration": 13,
    "start_time": "2022-06-14T09:52:49.427Z"
   },
   {
    "duration": 22,
    "start_time": "2022-06-14T09:52:49.442Z"
   },
   {
    "duration": 25,
    "start_time": "2022-06-14T09:52:49.468Z"
   },
   {
    "duration": 11,
    "start_time": "2022-06-14T09:52:49.495Z"
   },
   {
    "duration": 19,
    "start_time": "2022-06-14T09:52:49.508Z"
   },
   {
    "duration": 22,
    "start_time": "2022-06-14T09:52:49.529Z"
   },
   {
    "duration": 17,
    "start_time": "2022-06-14T09:52:49.553Z"
   },
   {
    "duration": 20,
    "start_time": "2022-06-14T09:52:49.572Z"
   },
   {
    "duration": 8,
    "start_time": "2022-06-14T09:53:51.033Z"
   },
   {
    "duration": 154,
    "start_time": "2022-06-14T09:53:54.393Z"
   },
   {
    "duration": 27,
    "start_time": "2022-06-14T09:53:54.550Z"
   },
   {
    "duration": 33,
    "start_time": "2022-06-14T09:53:54.578Z"
   },
   {
    "duration": 34,
    "start_time": "2022-06-14T09:53:54.613Z"
   },
   {
    "duration": 37,
    "start_time": "2022-06-14T09:53:54.649Z"
   },
   {
    "duration": 11,
    "start_time": "2022-06-14T09:53:54.688Z"
   },
   {
    "duration": 31,
    "start_time": "2022-06-14T09:53:54.700Z"
   },
   {
    "duration": 12,
    "start_time": "2022-06-14T09:53:54.733Z"
   },
   {
    "duration": 20,
    "start_time": "2022-06-14T09:53:54.747Z"
   },
   {
    "duration": 8,
    "start_time": "2022-06-14T09:53:54.770Z"
   },
   {
    "duration": 29,
    "start_time": "2022-06-14T09:53:54.779Z"
   },
   {
    "duration": 34,
    "start_time": "2022-06-14T09:53:54.810Z"
   },
   {
    "duration": 24,
    "start_time": "2022-06-14T09:53:54.845Z"
   },
   {
    "duration": 37,
    "start_time": "2022-06-14T09:53:54.870Z"
   },
   {
    "duration": 19,
    "start_time": "2022-06-14T09:53:54.909Z"
   },
   {
    "duration": 8,
    "start_time": "2022-06-14T09:54:15.901Z"
   },
   {
    "duration": 140,
    "start_time": "2022-06-14T09:54:30.480Z"
   },
   {
    "duration": 29,
    "start_time": "2022-06-14T09:54:30.622Z"
   },
   {
    "duration": 22,
    "start_time": "2022-06-14T09:54:30.653Z"
   },
   {
    "duration": 33,
    "start_time": "2022-06-14T09:54:30.677Z"
   },
   {
    "duration": 81,
    "start_time": "2022-06-14T09:54:30.712Z"
   },
   {
    "duration": 10,
    "start_time": "2022-06-14T09:54:30.795Z"
   },
   {
    "duration": 27,
    "start_time": "2022-06-14T09:54:30.807Z"
   },
   {
    "duration": 19,
    "start_time": "2022-06-14T09:54:30.836Z"
   },
   {
    "duration": 24,
    "start_time": "2022-06-14T09:54:30.857Z"
   },
   {
    "duration": 11,
    "start_time": "2022-06-14T09:54:30.883Z"
   },
   {
    "duration": 10,
    "start_time": "2022-06-14T09:54:30.896Z"
   },
   {
    "duration": 15,
    "start_time": "2022-06-14T09:54:30.907Z"
   },
   {
    "duration": 43,
    "start_time": "2022-06-14T09:54:30.926Z"
   },
   {
    "duration": 48,
    "start_time": "2022-06-14T09:54:30.970Z"
   },
   {
    "duration": 64,
    "start_time": "2022-06-14T09:54:31.020Z"
   },
   {
    "duration": 10,
    "start_time": "2022-06-14T09:54:45.878Z"
   },
   {
    "duration": 130,
    "start_time": "2022-06-14T09:54:49.637Z"
   },
   {
    "duration": 27,
    "start_time": "2022-06-14T09:54:49.770Z"
   },
   {
    "duration": 36,
    "start_time": "2022-06-14T09:54:49.799Z"
   },
   {
    "duration": 21,
    "start_time": "2022-06-14T09:54:49.838Z"
   },
   {
    "duration": 30,
    "start_time": "2022-06-14T09:54:49.861Z"
   },
   {
    "duration": 34,
    "start_time": "2022-06-14T09:54:49.893Z"
   },
   {
    "duration": 9,
    "start_time": "2022-06-14T09:54:49.928Z"
   },
   {
    "duration": 12,
    "start_time": "2022-06-14T09:54:49.939Z"
   },
   {
    "duration": 21,
    "start_time": "2022-06-14T09:54:49.953Z"
   },
   {
    "duration": 9,
    "start_time": "2022-06-14T09:54:49.976Z"
   },
   {
    "duration": 9,
    "start_time": "2022-06-14T09:54:49.987Z"
   },
   {
    "duration": 6,
    "start_time": "2022-06-14T09:54:50.027Z"
   },
   {
    "duration": 23,
    "start_time": "2022-06-14T09:54:50.035Z"
   },
   {
    "duration": 15,
    "start_time": "2022-06-14T09:54:50.060Z"
   },
   {
    "duration": 20,
    "start_time": "2022-06-14T09:54:50.077Z"
   },
   {
    "duration": 10,
    "start_time": "2022-06-14T09:55:03.238Z"
   },
   {
    "duration": 8,
    "start_time": "2022-06-14T09:55:04.723Z"
   },
   {
    "duration": 10,
    "start_time": "2022-06-14T09:55:06.864Z"
   },
   {
    "duration": 138,
    "start_time": "2022-06-14T09:55:19.898Z"
   },
   {
    "duration": 27,
    "start_time": "2022-06-14T09:55:20.038Z"
   },
   {
    "duration": 25,
    "start_time": "2022-06-14T09:55:20.067Z"
   },
   {
    "duration": 39,
    "start_time": "2022-06-14T09:55:20.094Z"
   },
   {
    "duration": 50,
    "start_time": "2022-06-14T09:55:20.134Z"
   },
   {
    "duration": 10,
    "start_time": "2022-06-14T09:55:20.186Z"
   },
   {
    "duration": 10,
    "start_time": "2022-06-14T09:55:20.198Z"
   },
   {
    "duration": 23,
    "start_time": "2022-06-14T09:55:20.210Z"
   },
   {
    "duration": 16,
    "start_time": "2022-06-14T09:55:20.235Z"
   },
   {
    "duration": 8,
    "start_time": "2022-06-14T09:55:20.254Z"
   },
   {
    "duration": 32,
    "start_time": "2022-06-14T09:55:20.263Z"
   },
   {
    "duration": 15,
    "start_time": "2022-06-14T09:55:20.296Z"
   },
   {
    "duration": 9,
    "start_time": "2022-06-14T09:55:20.313Z"
   },
   {
    "duration": 14,
    "start_time": "2022-06-14T09:55:20.323Z"
   },
   {
    "duration": 37,
    "start_time": "2022-06-14T09:55:20.338Z"
   },
   {
    "duration": 8,
    "start_time": "2022-06-14T09:55:37.938Z"
   },
   {
    "duration": 125,
    "start_time": "2022-06-14T09:55:40.640Z"
   },
   {
    "duration": 28,
    "start_time": "2022-06-14T09:55:40.768Z"
   },
   {
    "duration": 29,
    "start_time": "2022-06-14T09:55:40.798Z"
   },
   {
    "duration": 21,
    "start_time": "2022-06-14T09:55:40.829Z"
   },
   {
    "duration": 29,
    "start_time": "2022-06-14T09:55:40.852Z"
   },
   {
    "duration": 20,
    "start_time": "2022-06-14T09:55:40.883Z"
   },
   {
    "duration": 28,
    "start_time": "2022-06-14T09:55:40.904Z"
   },
   {
    "duration": 10,
    "start_time": "2022-06-14T09:55:40.934Z"
   },
   {
    "duration": 17,
    "start_time": "2022-06-14T09:55:40.946Z"
   },
   {
    "duration": 15,
    "start_time": "2022-06-14T09:55:40.965Z"
   },
   {
    "duration": 13,
    "start_time": "2022-06-14T09:55:40.981Z"
   },
   {
    "duration": 13,
    "start_time": "2022-06-14T09:55:40.996Z"
   },
   {
    "duration": 21,
    "start_time": "2022-06-14T09:55:41.011Z"
   },
   {
    "duration": 32,
    "start_time": "2022-06-14T09:55:41.034Z"
   },
   {
    "duration": 29,
    "start_time": "2022-06-14T09:55:41.068Z"
   },
   {
    "duration": 5,
    "start_time": "2022-06-14T10:15:16.628Z"
   },
   {
    "duration": 8,
    "start_time": "2022-06-14T10:16:58.624Z"
   },
   {
    "duration": 15,
    "start_time": "2022-06-14T10:17:08.122Z"
   },
   {
    "duration": 9,
    "start_time": "2022-06-14T10:17:30.410Z"
   },
   {
    "duration": 8,
    "start_time": "2022-06-14T10:17:36.864Z"
   },
   {
    "duration": 23,
    "start_time": "2022-06-14T10:17:42.039Z"
   },
   {
    "duration": 7,
    "start_time": "2022-06-14T10:17:55.676Z"
   },
   {
    "duration": 1580,
    "start_time": "2022-06-14T10:25:42.723Z"
   },
   {
    "duration": 1515,
    "start_time": "2022-06-14T10:26:10.596Z"
   },
   {
    "duration": 2302,
    "start_time": "2022-06-14T10:31:43.988Z"
   },
   {
    "duration": 148,
    "start_time": "2022-06-14T10:31:53.315Z"
   },
   {
    "duration": 25,
    "start_time": "2022-06-14T10:31:53.465Z"
   },
   {
    "duration": 20,
    "start_time": "2022-06-14T10:31:53.492Z"
   },
   {
    "duration": 29,
    "start_time": "2022-06-14T10:31:53.526Z"
   },
   {
    "duration": 46,
    "start_time": "2022-06-14T10:31:53.556Z"
   },
   {
    "duration": 9,
    "start_time": "2022-06-14T10:31:53.604Z"
   },
   {
    "duration": 40,
    "start_time": "2022-06-14T10:31:53.614Z"
   },
   {
    "duration": 12,
    "start_time": "2022-06-14T10:31:53.655Z"
   },
   {
    "duration": 20,
    "start_time": "2022-06-14T10:31:53.669Z"
   },
   {
    "duration": 7,
    "start_time": "2022-06-14T10:31:53.692Z"
   },
   {
    "duration": 30,
    "start_time": "2022-06-14T10:31:53.701Z"
   },
   {
    "duration": 2263,
    "start_time": "2022-06-14T10:31:53.733Z"
   },
   {
    "duration": 9,
    "start_time": "2022-06-14T10:31:55.998Z"
   },
   {
    "duration": 31,
    "start_time": "2022-06-14T10:31:56.008Z"
   },
   {
    "duration": 17,
    "start_time": "2022-06-14T10:31:56.040Z"
   },
   {
    "duration": 18,
    "start_time": "2022-06-14T10:31:56.059Z"
   },
   {
    "duration": 26,
    "start_time": "2022-06-14T10:31:56.079Z"
   },
   {
    "duration": 4,
    "start_time": "2022-06-14T10:34:39.984Z"
   },
   {
    "duration": 5,
    "start_time": "2022-06-14T10:34:54.855Z"
   },
   {
    "duration": 6,
    "start_time": "2022-06-14T10:35:04.410Z"
   },
   {
    "duration": 13,
    "start_time": "2022-06-14T10:35:44.204Z"
   },
   {
    "duration": 9,
    "start_time": "2022-06-14T10:36:00.208Z"
   },
   {
    "duration": 13,
    "start_time": "2022-06-14T10:36:07.765Z"
   },
   {
    "duration": 10,
    "start_time": "2022-06-14T10:36:20.586Z"
   },
   {
    "duration": 3,
    "start_time": "2022-06-14T10:39:24.096Z"
   },
   {
    "duration": 7,
    "start_time": "2022-06-14T10:39:51.615Z"
   },
   {
    "duration": 23,
    "start_time": "2022-06-14T10:42:17.702Z"
   },
   {
    "duration": 23,
    "start_time": "2022-06-14T10:43:36.043Z"
   },
   {
    "duration": 144,
    "start_time": "2022-06-14T10:43:44.801Z"
   },
   {
    "duration": 26,
    "start_time": "2022-06-14T10:43:44.947Z"
   },
   {
    "duration": 20,
    "start_time": "2022-06-14T10:43:44.974Z"
   },
   {
    "duration": 65,
    "start_time": "2022-06-14T10:43:44.996Z"
   },
   {
    "duration": 37,
    "start_time": "2022-06-14T10:43:45.063Z"
   },
   {
    "duration": 10,
    "start_time": "2022-06-14T10:43:45.102Z"
   },
   {
    "duration": 28,
    "start_time": "2022-06-14T10:43:45.114Z"
   },
   {
    "duration": 18,
    "start_time": "2022-06-14T10:43:45.144Z"
   },
   {
    "duration": 17,
    "start_time": "2022-06-14T10:43:45.164Z"
   },
   {
    "duration": 8,
    "start_time": "2022-06-14T10:43:45.184Z"
   },
   {
    "duration": 7,
    "start_time": "2022-06-14T10:43:45.194Z"
   },
   {
    "duration": 2177,
    "start_time": "2022-06-14T10:43:45.233Z"
   },
   {
    "duration": 33,
    "start_time": "2022-06-14T10:43:47.412Z"
   },
   {
    "duration": 7,
    "start_time": "2022-06-14T10:43:47.447Z"
   },
   {
    "duration": 12,
    "start_time": "2022-06-14T10:43:47.455Z"
   },
   {
    "duration": 9,
    "start_time": "2022-06-14T10:43:47.469Z"
   },
   {
    "duration": 11,
    "start_time": "2022-06-14T10:43:47.480Z"
   },
   {
    "duration": 13,
    "start_time": "2022-06-14T10:43:47.493Z"
   },
   {
    "duration": 29,
    "start_time": "2022-06-14T10:43:47.528Z"
   },
   {
    "duration": 8,
    "start_time": "2022-06-14T10:48:23.380Z"
   },
   {
    "duration": 16,
    "start_time": "2022-06-14T10:48:52.213Z"
   },
   {
    "duration": 5,
    "start_time": "2022-06-14T10:49:10.992Z"
   },
   {
    "duration": 6,
    "start_time": "2022-06-14T10:49:25.044Z"
   },
   {
    "duration": 4,
    "start_time": "2022-06-14T10:49:36.756Z"
   },
   {
    "duration": 3,
    "start_time": "2022-06-14T10:49:40.154Z"
   },
   {
    "duration": 8,
    "start_time": "2022-06-14T10:49:46.980Z"
   },
   {
    "duration": 10,
    "start_time": "2022-06-14T10:49:50.451Z"
   },
   {
    "duration": 25,
    "start_time": "2022-06-14T10:49:53.871Z"
   },
   {
    "duration": 7,
    "start_time": "2022-06-14T10:49:56.262Z"
   },
   {
    "duration": 9,
    "start_time": "2022-06-14T10:50:53.617Z"
   },
   {
    "duration": 125,
    "start_time": "2022-06-14T10:51:15.072Z"
   },
   {
    "duration": 36,
    "start_time": "2022-06-14T10:51:15.199Z"
   },
   {
    "duration": 21,
    "start_time": "2022-06-14T10:51:15.236Z"
   },
   {
    "duration": 34,
    "start_time": "2022-06-14T10:51:15.259Z"
   },
   {
    "duration": 35,
    "start_time": "2022-06-14T10:51:15.294Z"
   },
   {
    "duration": 10,
    "start_time": "2022-06-14T10:51:15.331Z"
   },
   {
    "duration": 10,
    "start_time": "2022-06-14T10:51:15.342Z"
   },
   {
    "duration": 11,
    "start_time": "2022-06-14T10:51:15.354Z"
   },
   {
    "duration": 19,
    "start_time": "2022-06-14T10:51:15.366Z"
   },
   {
    "duration": 43,
    "start_time": "2022-06-14T10:51:15.388Z"
   },
   {
    "duration": 7,
    "start_time": "2022-06-14T10:51:15.433Z"
   },
   {
    "duration": 1964,
    "start_time": "2022-06-14T10:51:15.441Z"
   },
   {
    "duration": 21,
    "start_time": "2022-06-14T10:51:17.407Z"
   },
   {
    "duration": 6,
    "start_time": "2022-06-14T10:51:17.430Z"
   },
   {
    "duration": 18,
    "start_time": "2022-06-14T10:51:17.437Z"
   },
   {
    "duration": 7,
    "start_time": "2022-06-14T10:51:17.457Z"
   },
   {
    "duration": 10,
    "start_time": "2022-06-14T10:51:17.465Z"
   },
   {
    "duration": 14,
    "start_time": "2022-06-14T10:51:17.477Z"
   },
   {
    "duration": 34,
    "start_time": "2022-06-14T10:51:17.493Z"
   },
   {
    "duration": 9,
    "start_time": "2022-06-14T10:51:17.528Z"
   },
   {
    "duration": 7,
    "start_time": "2022-06-14T10:55:37.644Z"
   },
   {
    "duration": 8,
    "start_time": "2022-06-14T10:55:45.186Z"
   },
   {
    "duration": 12,
    "start_time": "2022-06-14T10:57:11.967Z"
   },
   {
    "duration": 10,
    "start_time": "2022-06-14T10:57:15.424Z"
   },
   {
    "duration": 8,
    "start_time": "2022-06-14T10:57:23.849Z"
   },
   {
    "duration": 8,
    "start_time": "2022-06-14T10:57:38.598Z"
   },
   {
    "duration": 9,
    "start_time": "2022-06-14T10:58:27.384Z"
   },
   {
    "duration": 8,
    "start_time": "2022-06-14T10:58:31.644Z"
   },
   {
    "duration": 7,
    "start_time": "2022-06-14T10:58:51.063Z"
   },
   {
    "duration": 10,
    "start_time": "2022-06-14T11:00:18.314Z"
   },
   {
    "duration": 12,
    "start_time": "2022-06-14T11:00:35.395Z"
   },
   {
    "duration": 8,
    "start_time": "2022-06-14T11:01:23.677Z"
   },
   {
    "duration": 8,
    "start_time": "2022-06-14T11:06:38.240Z"
   },
   {
    "duration": 8,
    "start_time": "2022-06-14T11:07:23.494Z"
   },
   {
    "duration": 6,
    "start_time": "2022-06-14T11:10:00.741Z"
   },
   {
    "duration": 10,
    "start_time": "2022-06-14T11:10:15.101Z"
   },
   {
    "duration": 9,
    "start_time": "2022-06-14T11:15:34.840Z"
   },
   {
    "duration": 8,
    "start_time": "2022-06-14T11:17:57.701Z"
   },
   {
    "duration": 134,
    "start_time": "2022-06-14T11:18:07.575Z"
   },
   {
    "duration": 38,
    "start_time": "2022-06-14T11:18:07.712Z"
   },
   {
    "duration": 23,
    "start_time": "2022-06-14T11:18:07.752Z"
   },
   {
    "duration": 27,
    "start_time": "2022-06-14T11:18:07.778Z"
   },
   {
    "duration": 54,
    "start_time": "2022-06-14T11:18:07.807Z"
   },
   {
    "duration": 9,
    "start_time": "2022-06-14T11:18:07.863Z"
   },
   {
    "duration": 18,
    "start_time": "2022-06-14T11:18:07.874Z"
   },
   {
    "duration": 32,
    "start_time": "2022-06-14T11:18:07.894Z"
   },
   {
    "duration": 24,
    "start_time": "2022-06-14T11:18:07.928Z"
   },
   {
    "duration": 7,
    "start_time": "2022-06-14T11:18:07.955Z"
   },
   {
    "duration": 16,
    "start_time": "2022-06-14T11:18:07.964Z"
   },
   {
    "duration": 2220,
    "start_time": "2022-06-14T11:18:07.981Z"
   },
   {
    "duration": 10,
    "start_time": "2022-06-14T11:18:10.202Z"
   },
   {
    "duration": 9,
    "start_time": "2022-06-14T11:18:10.233Z"
   },
   {
    "duration": 17,
    "start_time": "2022-06-14T11:18:10.243Z"
   },
   {
    "duration": 20,
    "start_time": "2022-06-14T11:18:10.261Z"
   },
   {
    "duration": 15,
    "start_time": "2022-06-14T11:18:10.283Z"
   },
   {
    "duration": 22,
    "start_time": "2022-06-14T11:18:10.300Z"
   },
   {
    "duration": 28,
    "start_time": "2022-06-14T11:18:10.324Z"
   },
   {
    "duration": 7,
    "start_time": "2022-06-14T11:18:10.353Z"
   },
   {
    "duration": 16,
    "start_time": "2022-06-14T11:18:10.361Z"
   },
   {
    "duration": 19,
    "start_time": "2022-06-14T11:19:17.450Z"
   },
   {
    "duration": 11,
    "start_time": "2022-06-14T11:19:24.153Z"
   },
   {
    "duration": 14,
    "start_time": "2022-06-14T11:19:55.951Z"
   },
   {
    "duration": 11,
    "start_time": "2022-06-14T11:20:09.661Z"
   },
   {
    "duration": 20,
    "start_time": "2022-06-14T11:20:29.440Z"
   },
   {
    "duration": 8,
    "start_time": "2022-06-14T11:20:31.655Z"
   },
   {
    "duration": 143,
    "start_time": "2022-06-14T11:20:39.854Z"
   },
   {
    "duration": 36,
    "start_time": "2022-06-14T11:20:39.999Z"
   },
   {
    "duration": 39,
    "start_time": "2022-06-14T11:20:40.039Z"
   },
   {
    "duration": 27,
    "start_time": "2022-06-14T11:20:40.080Z"
   },
   {
    "duration": 50,
    "start_time": "2022-06-14T11:20:40.109Z"
   },
   {
    "duration": 20,
    "start_time": "2022-06-14T11:20:40.160Z"
   },
   {
    "duration": 16,
    "start_time": "2022-06-14T11:20:40.182Z"
   },
   {
    "duration": 19,
    "start_time": "2022-06-14T11:20:40.201Z"
   },
   {
    "duration": 52,
    "start_time": "2022-06-14T11:20:40.222Z"
   },
   {
    "duration": 20,
    "start_time": "2022-06-14T11:20:40.276Z"
   },
   {
    "duration": 17,
    "start_time": "2022-06-14T11:20:40.298Z"
   },
   {
    "duration": 2484,
    "start_time": "2022-06-14T11:20:40.317Z"
   },
   {
    "duration": 28,
    "start_time": "2022-06-14T11:20:42.803Z"
   },
   {
    "duration": 22,
    "start_time": "2022-06-14T11:20:42.838Z"
   },
   {
    "duration": 48,
    "start_time": "2022-06-14T11:20:42.862Z"
   },
   {
    "duration": 24,
    "start_time": "2022-06-14T11:20:42.912Z"
   },
   {
    "duration": 42,
    "start_time": "2022-06-14T11:20:42.938Z"
   },
   {
    "duration": 18,
    "start_time": "2022-06-14T11:20:42.982Z"
   },
   {
    "duration": 40,
    "start_time": "2022-06-14T11:20:43.002Z"
   },
   {
    "duration": 35,
    "start_time": "2022-06-14T11:20:43.044Z"
   },
   {
    "duration": 22,
    "start_time": "2022-06-14T11:20:43.081Z"
   },
   {
    "duration": 7,
    "start_time": "2022-06-14T11:21:08.671Z"
   },
   {
    "duration": 7,
    "start_time": "2022-06-14T11:21:11.802Z"
   },
   {
    "duration": 150,
    "start_time": "2022-06-14T11:21:14.880Z"
   },
   {
    "duration": 43,
    "start_time": "2022-06-14T11:21:15.037Z"
   },
   {
    "duration": 23,
    "start_time": "2022-06-14T11:21:15.082Z"
   },
   {
    "duration": 60,
    "start_time": "2022-06-14T11:21:15.107Z"
   },
   {
    "duration": 49,
    "start_time": "2022-06-14T11:21:15.169Z"
   },
   {
    "duration": 26,
    "start_time": "2022-06-14T11:21:15.220Z"
   },
   {
    "duration": 36,
    "start_time": "2022-06-14T11:21:15.248Z"
   },
   {
    "duration": 14,
    "start_time": "2022-06-14T11:21:15.287Z"
   },
   {
    "duration": 24,
    "start_time": "2022-06-14T11:21:15.303Z"
   },
   {
    "duration": 10,
    "start_time": "2022-06-14T11:21:15.330Z"
   },
   {
    "duration": 26,
    "start_time": "2022-06-14T11:21:15.344Z"
   },
   {
    "duration": 2541,
    "start_time": "2022-06-14T11:21:15.372Z"
   },
   {
    "duration": 24,
    "start_time": "2022-06-14T11:21:17.914Z"
   },
   {
    "duration": 31,
    "start_time": "2022-06-14T11:21:17.941Z"
   },
   {
    "duration": 18,
    "start_time": "2022-06-14T11:21:17.973Z"
   },
   {
    "duration": 20,
    "start_time": "2022-06-14T11:21:17.992Z"
   },
   {
    "duration": 12,
    "start_time": "2022-06-14T11:21:18.014Z"
   },
   {
    "duration": 59,
    "start_time": "2022-06-14T11:21:18.029Z"
   },
   {
    "duration": 25,
    "start_time": "2022-06-14T11:21:18.090Z"
   },
   {
    "duration": 31,
    "start_time": "2022-06-14T11:21:18.117Z"
   },
   {
    "duration": 53,
    "start_time": "2022-06-14T11:21:18.150Z"
   },
   {
    "duration": 9,
    "start_time": "2022-06-14T11:26:58.781Z"
   },
   {
    "duration": 17,
    "start_time": "2022-06-14T11:27:13.585Z"
   },
   {
    "duration": 29,
    "start_time": "2022-06-14T11:27:19.775Z"
   },
   {
    "duration": 9,
    "start_time": "2022-06-14T11:27:38.978Z"
   },
   {
    "duration": 11,
    "start_time": "2022-06-14T11:29:16.224Z"
   },
   {
    "duration": 6,
    "start_time": "2022-06-14T11:29:38.577Z"
   },
   {
    "duration": 6,
    "start_time": "2022-06-14T11:29:47.418Z"
   },
   {
    "duration": 8,
    "start_time": "2022-06-14T11:29:54.493Z"
   },
   {
    "duration": 168,
    "start_time": "2022-06-14T11:30:03.284Z"
   },
   {
    "duration": 28,
    "start_time": "2022-06-14T11:30:03.454Z"
   },
   {
    "duration": 29,
    "start_time": "2022-06-14T11:30:03.484Z"
   },
   {
    "duration": 31,
    "start_time": "2022-06-14T11:30:03.528Z"
   },
   {
    "duration": 33,
    "start_time": "2022-06-14T11:30:03.561Z"
   },
   {
    "duration": 35,
    "start_time": "2022-06-14T11:30:03.596Z"
   },
   {
    "duration": 15,
    "start_time": "2022-06-14T11:30:03.634Z"
   },
   {
    "duration": 16,
    "start_time": "2022-06-14T11:30:03.650Z"
   },
   {
    "duration": 25,
    "start_time": "2022-06-14T11:30:03.668Z"
   },
   {
    "duration": 8,
    "start_time": "2022-06-14T11:30:03.696Z"
   },
   {
    "duration": 9,
    "start_time": "2022-06-14T11:30:03.727Z"
   },
   {
    "duration": 2435,
    "start_time": "2022-06-14T11:30:03.738Z"
   },
   {
    "duration": 11,
    "start_time": "2022-06-14T11:30:06.176Z"
   },
   {
    "duration": 58,
    "start_time": "2022-06-14T11:30:06.189Z"
   },
   {
    "duration": 25,
    "start_time": "2022-06-14T11:30:06.248Z"
   },
   {
    "duration": 40,
    "start_time": "2022-06-14T11:30:06.275Z"
   },
   {
    "duration": 36,
    "start_time": "2022-06-14T11:30:06.316Z"
   },
   {
    "duration": 26,
    "start_time": "2022-06-14T11:30:06.354Z"
   },
   {
    "duration": 62,
    "start_time": "2022-06-14T11:30:06.381Z"
   },
   {
    "duration": 22,
    "start_time": "2022-06-14T11:30:06.446Z"
   },
   {
    "duration": 22,
    "start_time": "2022-06-14T11:30:06.471Z"
   },
   {
    "duration": 23,
    "start_time": "2022-06-14T11:30:06.495Z"
   },
   {
    "duration": 6,
    "start_time": "2022-06-14T11:31:09.590Z"
   },
   {
    "duration": 9,
    "start_time": "2022-06-14T11:31:19.498Z"
   },
   {
    "duration": 7,
    "start_time": "2022-06-14T11:31:34.355Z"
   },
   {
    "duration": 5,
    "start_time": "2022-06-14T11:31:59.406Z"
   },
   {
    "duration": 29,
    "start_time": "2022-06-14T11:33:07.178Z"
   },
   {
    "duration": 9,
    "start_time": "2022-06-14T11:33:29.617Z"
   },
   {
    "duration": 8,
    "start_time": "2022-06-14T11:33:35.319Z"
   },
   {
    "duration": 140,
    "start_time": "2022-06-14T11:33:41.919Z"
   },
   {
    "duration": 28,
    "start_time": "2022-06-14T11:33:42.061Z"
   },
   {
    "duration": 21,
    "start_time": "2022-06-14T11:33:42.091Z"
   },
   {
    "duration": 35,
    "start_time": "2022-06-14T11:33:42.131Z"
   },
   {
    "duration": 50,
    "start_time": "2022-06-14T11:33:42.167Z"
   },
   {
    "duration": 14,
    "start_time": "2022-06-14T11:33:42.219Z"
   },
   {
    "duration": 32,
    "start_time": "2022-06-14T11:33:42.236Z"
   },
   {
    "duration": 12,
    "start_time": "2022-06-14T11:33:42.270Z"
   },
   {
    "duration": 28,
    "start_time": "2022-06-14T11:33:42.284Z"
   },
   {
    "duration": 30,
    "start_time": "2022-06-14T11:33:42.315Z"
   },
   {
    "duration": 23,
    "start_time": "2022-06-14T11:33:42.347Z"
   },
   {
    "duration": 2162,
    "start_time": "2022-06-14T11:33:42.372Z"
   },
   {
    "duration": 12,
    "start_time": "2022-06-14T11:33:44.539Z"
   },
   {
    "duration": 6,
    "start_time": "2022-06-14T11:33:44.553Z"
   },
   {
    "duration": 23,
    "start_time": "2022-06-14T11:33:44.562Z"
   },
   {
    "duration": 19,
    "start_time": "2022-06-14T11:33:44.587Z"
   },
   {
    "duration": 25,
    "start_time": "2022-06-14T11:33:44.608Z"
   },
   {
    "duration": 15,
    "start_time": "2022-06-14T11:33:44.635Z"
   },
   {
    "duration": 48,
    "start_time": "2022-06-14T11:33:44.651Z"
   },
   {
    "duration": 16,
    "start_time": "2022-06-14T11:33:44.702Z"
   },
   {
    "duration": 42,
    "start_time": "2022-06-14T11:33:44.720Z"
   },
   {
    "duration": 0,
    "start_time": "2022-06-14T11:33:44.764Z"
   },
   {
    "duration": 8,
    "start_time": "2022-06-14T11:34:21.982Z"
   },
   {
    "duration": 12,
    "start_time": "2022-06-14T11:34:25.230Z"
   },
   {
    "duration": 6,
    "start_time": "2022-06-14T11:36:46.801Z"
   },
   {
    "duration": 27,
    "start_time": "2022-06-14T11:37:53.256Z"
   },
   {
    "duration": 22,
    "start_time": "2022-06-14T11:38:04.089Z"
   },
   {
    "duration": 7,
    "start_time": "2022-06-14T11:38:42.441Z"
   },
   {
    "duration": 1706,
    "start_time": "2022-06-14T11:38:44.877Z"
   },
   {
    "duration": 9,
    "start_time": "2022-06-14T11:40:19.864Z"
   },
   {
    "duration": 6,
    "start_time": "2022-06-14T11:42:19.640Z"
   },
   {
    "duration": 42,
    "start_time": "2022-06-14T11:44:14.357Z"
   },
   {
    "duration": 20,
    "start_time": "2022-06-14T11:44:18.461Z"
   },
   {
    "duration": 13,
    "start_time": "2022-06-14T11:47:00.840Z"
   },
   {
    "duration": 18,
    "start_time": "2022-06-14T11:47:15.225Z"
   },
   {
    "duration": 6,
    "start_time": "2022-06-14T11:48:33.804Z"
   },
   {
    "duration": 13,
    "start_time": "2022-06-14T11:49:17.271Z"
   },
   {
    "duration": 10,
    "start_time": "2022-06-14T11:49:24.450Z"
   },
   {
    "duration": 36,
    "start_time": "2022-06-14T11:50:13.004Z"
   },
   {
    "duration": 2450,
    "start_time": "2022-06-14T11:50:43.759Z"
   },
   {
    "duration": 6,
    "start_time": "2022-06-14T11:51:11.549Z"
   },
   {
    "duration": 6,
    "start_time": "2022-06-14T11:51:19.027Z"
   },
   {
    "duration": 6,
    "start_time": "2022-06-14T11:51:52.304Z"
   },
   {
    "duration": 11,
    "start_time": "2022-06-14T11:53:06.311Z"
   },
   {
    "duration": 2185,
    "start_time": "2022-06-14T11:53:49.551Z"
   },
   {
    "duration": 7,
    "start_time": "2022-06-14T11:54:20.297Z"
   },
   {
    "duration": 8,
    "start_time": "2022-06-14T11:55:07.091Z"
   },
   {
    "duration": 9,
    "start_time": "2022-06-14T11:56:24.362Z"
   },
   {
    "duration": 2335,
    "start_time": "2022-06-14T11:57:18.860Z"
   },
   {
    "duration": 6,
    "start_time": "2022-06-14T11:58:46.717Z"
   },
   {
    "duration": 12,
    "start_time": "2022-06-14T12:00:09.152Z"
   },
   {
    "duration": 1987,
    "start_time": "2022-06-14T12:01:04.713Z"
   },
   {
    "duration": 4,
    "start_time": "2022-06-14T12:01:28.302Z"
   },
   {
    "duration": 5,
    "start_time": "2022-06-14T12:01:36.765Z"
   },
   {
    "duration": 6,
    "start_time": "2022-06-14T12:02:33.592Z"
   },
   {
    "duration": 18,
    "start_time": "2022-06-14T12:03:33.896Z"
   },
   {
    "duration": 143,
    "start_time": "2022-06-14T12:03:40.839Z"
   },
   {
    "duration": 43,
    "start_time": "2022-06-14T12:03:40.983Z"
   },
   {
    "duration": 21,
    "start_time": "2022-06-14T12:03:41.028Z"
   },
   {
    "duration": 29,
    "start_time": "2022-06-14T12:03:41.051Z"
   },
   {
    "duration": 46,
    "start_time": "2022-06-14T12:03:41.081Z"
   },
   {
    "duration": 10,
    "start_time": "2022-06-14T12:03:41.129Z"
   },
   {
    "duration": 43,
    "start_time": "2022-06-14T12:03:41.140Z"
   },
   {
    "duration": 12,
    "start_time": "2022-06-14T12:03:41.184Z"
   },
   {
    "duration": 19,
    "start_time": "2022-06-14T12:03:41.198Z"
   },
   {
    "duration": 17,
    "start_time": "2022-06-14T12:03:41.219Z"
   },
   {
    "duration": 9,
    "start_time": "2022-06-14T12:03:41.238Z"
   },
   {
    "duration": 2010,
    "start_time": "2022-06-14T12:03:41.249Z"
   },
   {
    "duration": 13,
    "start_time": "2022-06-14T12:03:43.261Z"
   },
   {
    "duration": 8,
    "start_time": "2022-06-14T12:03:43.276Z"
   },
   {
    "duration": 23,
    "start_time": "2022-06-14T12:03:43.285Z"
   },
   {
    "duration": 24,
    "start_time": "2022-06-14T12:03:43.310Z"
   },
   {
    "duration": 17,
    "start_time": "2022-06-14T12:03:43.336Z"
   },
   {
    "duration": 27,
    "start_time": "2022-06-14T12:03:43.355Z"
   },
   {
    "duration": 26,
    "start_time": "2022-06-14T12:03:43.384Z"
   },
   {
    "duration": 9,
    "start_time": "2022-06-14T12:03:43.413Z"
   },
   {
    "duration": 11,
    "start_time": "2022-06-14T12:03:43.427Z"
   },
   {
    "duration": 13,
    "start_time": "2022-06-14T12:03:43.440Z"
   },
   {
    "duration": 1628,
    "start_time": "2022-06-14T12:03:43.455Z"
   },
   {
    "duration": 10,
    "start_time": "2022-06-14T12:03:45.085Z"
   },
   {
    "duration": 18,
    "start_time": "2022-06-14T12:03:45.096Z"
   },
   {
    "duration": 26,
    "start_time": "2022-06-14T12:03:45.116Z"
   },
   {
    "duration": 18,
    "start_time": "2022-06-14T12:03:45.144Z"
   },
   {
    "duration": 11,
    "start_time": "2022-06-14T12:03:45.165Z"
   },
   {
    "duration": 2119,
    "start_time": "2022-06-14T12:03:45.178Z"
   },
   {
    "duration": 6,
    "start_time": "2022-06-14T12:03:47.299Z"
   },
   {
    "duration": 9,
    "start_time": "2022-06-14T12:03:47.307Z"
   },
   {
    "duration": 12,
    "start_time": "2022-06-14T12:03:47.326Z"
   },
   {
    "duration": 2093,
    "start_time": "2022-06-14T12:03:47.340Z"
   },
   {
    "duration": 6,
    "start_time": "2022-06-14T12:03:49.435Z"
   },
   {
    "duration": 13,
    "start_time": "2022-06-14T12:03:49.443Z"
   },
   {
    "duration": 17,
    "start_time": "2022-06-14T12:03:49.457Z"
   },
   {
    "duration": 2091,
    "start_time": "2022-06-14T12:03:49.476Z"
   },
   {
    "duration": 5,
    "start_time": "2022-06-14T12:03:51.569Z"
   },
   {
    "duration": 15,
    "start_time": "2022-06-14T12:03:51.576Z"
   },
   {
    "duration": 2152,
    "start_time": "2022-06-14T12:03:51.592Z"
   },
   {
    "duration": 6,
    "start_time": "2022-06-14T12:03:53.746Z"
   },
   {
    "duration": 9,
    "start_time": "2022-06-14T12:03:53.756Z"
   },
   {
    "duration": 16,
    "start_time": "2022-06-14T12:09:35.534Z"
   },
   {
    "duration": 15,
    "start_time": "2022-06-14T12:10:21.221Z"
   },
   {
    "duration": 2234,
    "start_time": "2022-06-14T12:11:07.985Z"
   },
   {
    "duration": 6,
    "start_time": "2022-06-14T12:12:01.655Z"
   },
   {
    "duration": 6,
    "start_time": "2022-06-14T12:12:08.506Z"
   },
   {
    "duration": 8,
    "start_time": "2022-06-14T12:12:21.929Z"
   },
   {
    "duration": 16,
    "start_time": "2022-06-14T12:12:43.545Z"
   },
   {
    "duration": 2072,
    "start_time": "2022-06-14T12:12:49.065Z"
   },
   {
    "duration": 7,
    "start_time": "2022-06-14T12:13:17.087Z"
   },
   {
    "duration": 5,
    "start_time": "2022-06-14T12:13:57.987Z"
   },
   {
    "duration": 5,
    "start_time": "2022-06-14T12:14:10.509Z"
   },
   {
    "duration": 7,
    "start_time": "2022-06-14T12:14:24.299Z"
   },
   {
    "duration": 7,
    "start_time": "2022-06-14T12:14:32.903Z"
   },
   {
    "duration": 138,
    "start_time": "2022-06-14T12:14:43.990Z"
   },
   {
    "duration": 30,
    "start_time": "2022-06-14T12:14:44.131Z"
   },
   {
    "duration": 23,
    "start_time": "2022-06-14T12:14:44.164Z"
   },
   {
    "duration": 76,
    "start_time": "2022-06-14T12:14:44.189Z"
   },
   {
    "duration": 25,
    "start_time": "2022-06-14T12:14:44.266Z"
   },
   {
    "duration": 12,
    "start_time": "2022-06-14T12:14:44.293Z"
   },
   {
    "duration": 32,
    "start_time": "2022-06-14T12:14:44.307Z"
   },
   {
    "duration": 20,
    "start_time": "2022-06-14T12:14:44.342Z"
   },
   {
    "duration": 21,
    "start_time": "2022-06-14T12:14:44.364Z"
   },
   {
    "duration": 10,
    "start_time": "2022-06-14T12:14:44.390Z"
   },
   {
    "duration": 26,
    "start_time": "2022-06-14T12:14:44.402Z"
   },
   {
    "duration": 2373,
    "start_time": "2022-06-14T12:14:44.430Z"
   },
   {
    "duration": 23,
    "start_time": "2022-06-14T12:14:46.805Z"
   },
   {
    "duration": 9,
    "start_time": "2022-06-14T12:14:46.830Z"
   },
   {
    "duration": 16,
    "start_time": "2022-06-14T12:14:46.842Z"
   },
   {
    "duration": 10,
    "start_time": "2022-06-14T12:14:46.860Z"
   },
   {
    "duration": 15,
    "start_time": "2022-06-14T12:14:46.872Z"
   },
   {
    "duration": 18,
    "start_time": "2022-06-14T12:14:46.889Z"
   },
   {
    "duration": 36,
    "start_time": "2022-06-14T12:14:46.909Z"
   },
   {
    "duration": 10,
    "start_time": "2022-06-14T12:14:46.947Z"
   },
   {
    "duration": 10,
    "start_time": "2022-06-14T12:14:46.959Z"
   },
   {
    "duration": 16,
    "start_time": "2022-06-14T12:14:46.971Z"
   },
   {
    "duration": 1683,
    "start_time": "2022-06-14T12:14:46.989Z"
   },
   {
    "duration": 9,
    "start_time": "2022-06-14T12:14:48.674Z"
   },
   {
    "duration": 9,
    "start_time": "2022-06-14T12:14:48.685Z"
   },
   {
    "duration": 56,
    "start_time": "2022-06-14T12:14:48.696Z"
   },
   {
    "duration": 23,
    "start_time": "2022-06-14T12:14:48.754Z"
   },
   {
    "duration": 8,
    "start_time": "2022-06-14T12:14:48.781Z"
   },
   {
    "duration": 2297,
    "start_time": "2022-06-14T12:14:48.791Z"
   },
   {
    "duration": 5,
    "start_time": "2022-06-14T12:14:51.090Z"
   },
   {
    "duration": 12,
    "start_time": "2022-06-14T12:14:51.097Z"
   },
   {
    "duration": 41,
    "start_time": "2022-06-14T12:14:51.112Z"
   },
   {
    "duration": 2455,
    "start_time": "2022-06-14T12:14:51.155Z"
   },
   {
    "duration": 4,
    "start_time": "2022-06-14T12:14:53.612Z"
   },
   {
    "duration": 54,
    "start_time": "2022-06-14T12:14:53.618Z"
   },
   {
    "duration": 20,
    "start_time": "2022-06-14T12:14:53.674Z"
   },
   {
    "duration": 2476,
    "start_time": "2022-06-14T12:14:53.696Z"
   },
   {
    "duration": 6,
    "start_time": "2022-06-14T12:14:56.173Z"
   },
   {
    "duration": 11,
    "start_time": "2022-06-14T12:14:56.181Z"
   },
   {
    "duration": 2273,
    "start_time": "2022-06-14T12:14:56.193Z"
   },
   {
    "duration": 5,
    "start_time": "2022-06-14T12:14:58.468Z"
   },
   {
    "duration": 10,
    "start_time": "2022-06-14T12:14:58.475Z"
   },
   {
    "duration": 19,
    "start_time": "2022-06-14T12:14:58.487Z"
   },
   {
    "duration": 28,
    "start_time": "2022-06-14T12:14:58.507Z"
   },
   {
    "duration": 2141,
    "start_time": "2022-06-14T12:14:58.538Z"
   },
   {
    "duration": 6,
    "start_time": "2022-06-14T12:15:00.681Z"
   },
   {
    "duration": 23,
    "start_time": "2022-06-14T12:15:00.689Z"
   },
   {
    "duration": 8,
    "start_time": "2022-06-14T12:15:00.714Z"
   },
   {
    "duration": 27,
    "start_time": "2022-06-14T12:15:00.723Z"
   },
   {
    "duration": 10,
    "start_time": "2022-06-14T12:15:27.940Z"
   },
   {
    "duration": 12,
    "start_time": "2022-06-14T12:15:29.938Z"
   },
   {
    "duration": 5,
    "start_time": "2022-06-14T12:15:38.210Z"
   },
   {
    "duration": 7,
    "start_time": "2022-06-14T12:15:40.890Z"
   },
   {
    "duration": 132,
    "start_time": "2022-06-14T12:15:45.139Z"
   },
   {
    "duration": 28,
    "start_time": "2022-06-14T12:15:45.273Z"
   },
   {
    "duration": 48,
    "start_time": "2022-06-14T12:15:45.303Z"
   },
   {
    "duration": 27,
    "start_time": "2022-06-14T12:15:45.354Z"
   },
   {
    "duration": 56,
    "start_time": "2022-06-14T12:15:45.383Z"
   },
   {
    "duration": 14,
    "start_time": "2022-06-14T12:15:45.440Z"
   },
   {
    "duration": 15,
    "start_time": "2022-06-14T12:15:45.456Z"
   },
   {
    "duration": 11,
    "start_time": "2022-06-14T12:15:45.473Z"
   },
   {
    "duration": 45,
    "start_time": "2022-06-14T12:15:45.485Z"
   },
   {
    "duration": 10,
    "start_time": "2022-06-14T12:15:45.534Z"
   },
   {
    "duration": 18,
    "start_time": "2022-06-14T12:15:45.546Z"
   },
   {
    "duration": 2166,
    "start_time": "2022-06-14T12:15:45.566Z"
   },
   {
    "duration": 18,
    "start_time": "2022-06-14T12:15:47.735Z"
   },
   {
    "duration": 8,
    "start_time": "2022-06-14T12:15:47.755Z"
   },
   {
    "duration": 14,
    "start_time": "2022-06-14T12:15:47.764Z"
   },
   {
    "duration": 16,
    "start_time": "2022-06-14T12:15:47.780Z"
   },
   {
    "duration": 37,
    "start_time": "2022-06-14T12:15:47.798Z"
   },
   {
    "duration": 29,
    "start_time": "2022-06-14T12:15:47.838Z"
   },
   {
    "duration": 20,
    "start_time": "2022-06-14T12:15:47.869Z"
   },
   {
    "duration": 9,
    "start_time": "2022-06-14T12:15:47.892Z"
   },
   {
    "duration": 23,
    "start_time": "2022-06-14T12:15:47.903Z"
   },
   {
    "duration": 13,
    "start_time": "2022-06-14T12:15:47.929Z"
   },
   {
    "duration": 1870,
    "start_time": "2022-06-14T12:15:47.944Z"
   },
   {
    "duration": 21,
    "start_time": "2022-06-14T12:15:49.816Z"
   },
   {
    "duration": 9,
    "start_time": "2022-06-14T12:15:49.839Z"
   },
   {
    "duration": 29,
    "start_time": "2022-06-14T12:15:49.850Z"
   },
   {
    "duration": 14,
    "start_time": "2022-06-14T12:15:49.880Z"
   },
   {
    "duration": 38,
    "start_time": "2022-06-14T12:15:49.898Z"
   },
   {
    "duration": 2260,
    "start_time": "2022-06-14T12:15:49.938Z"
   },
   {
    "duration": 8,
    "start_time": "2022-06-14T12:15:52.200Z"
   },
   {
    "duration": 22,
    "start_time": "2022-06-14T12:15:52.209Z"
   },
   {
    "duration": 18,
    "start_time": "2022-06-14T12:15:52.233Z"
   },
   {
    "duration": 2155,
    "start_time": "2022-06-14T12:15:52.253Z"
   },
   {
    "duration": 6,
    "start_time": "2022-06-14T12:15:54.410Z"
   },
   {
    "duration": 15,
    "start_time": "2022-06-14T12:15:54.434Z"
   },
   {
    "duration": 48,
    "start_time": "2022-06-14T12:15:54.452Z"
   },
   {
    "duration": 2294,
    "start_time": "2022-06-14T12:15:54.504Z"
   },
   {
    "duration": 5,
    "start_time": "2022-06-14T12:15:56.800Z"
   },
   {
    "duration": 27,
    "start_time": "2022-06-14T12:15:56.807Z"
   },
   {
    "duration": 2074,
    "start_time": "2022-06-14T12:15:56.836Z"
   },
   {
    "duration": 5,
    "start_time": "2022-06-14T12:15:58.912Z"
   },
   {
    "duration": 15,
    "start_time": "2022-06-14T12:15:58.919Z"
   },
   {
    "duration": 26,
    "start_time": "2022-06-14T12:15:58.936Z"
   },
   {
    "duration": 9,
    "start_time": "2022-06-14T12:15:58.964Z"
   },
   {
    "duration": 2286,
    "start_time": "2022-06-14T12:15:58.975Z"
   },
   {
    "duration": 8,
    "start_time": "2022-06-14T12:16:01.263Z"
   },
   {
    "duration": 51,
    "start_time": "2022-06-14T12:16:01.273Z"
   },
   {
    "duration": 40,
    "start_time": "2022-06-14T12:16:01.326Z"
   },
   {
    "duration": 87,
    "start_time": "2022-06-14T12:16:01.367Z"
   },
   {
    "duration": 4,
    "start_time": "2022-06-14T12:17:35.017Z"
   },
   {
    "duration": 9,
    "start_time": "2022-06-14T12:17:43.946Z"
   },
   {
    "duration": 10,
    "start_time": "2022-06-14T12:19:35.444Z"
   },
   {
    "duration": 2171,
    "start_time": "2022-06-14T12:20:16.934Z"
   },
   {
    "duration": 14,
    "start_time": "2022-06-14T12:20:45.719Z"
   },
   {
    "duration": 9,
    "start_time": "2022-06-14T12:21:30.550Z"
   },
   {
    "duration": 5,
    "start_time": "2022-06-14T12:21:46.775Z"
   },
   {
    "duration": 6,
    "start_time": "2022-06-14T12:21:54.315Z"
   },
   {
    "duration": 7,
    "start_time": "2022-06-14T12:22:40.078Z"
   },
   {
    "duration": 8,
    "start_time": "2022-06-14T12:23:14.132Z"
   },
   {
    "duration": 9,
    "start_time": "2022-06-14T12:23:57.546Z"
   },
   {
    "duration": 11,
    "start_time": "2022-06-14T12:24:38.423Z"
   },
   {
    "duration": 9,
    "start_time": "2022-06-14T12:24:57.954Z"
   },
   {
    "duration": 10,
    "start_time": "2022-06-14T12:25:35.079Z"
   },
   {
    "duration": 8,
    "start_time": "2022-06-14T12:26:45.813Z"
   },
   {
    "duration": 9,
    "start_time": "2022-06-14T12:26:50.502Z"
   },
   {
    "duration": 174,
    "start_time": "2022-06-14T12:27:22.394Z"
   },
   {
    "duration": 25,
    "start_time": "2022-06-14T12:27:22.571Z"
   },
   {
    "duration": 65,
    "start_time": "2022-06-14T12:27:22.598Z"
   },
   {
    "duration": 46,
    "start_time": "2022-06-14T12:27:22.665Z"
   },
   {
    "duration": 43,
    "start_time": "2022-06-14T12:27:22.712Z"
   },
   {
    "duration": 11,
    "start_time": "2022-06-14T12:27:22.757Z"
   },
   {
    "duration": 22,
    "start_time": "2022-06-14T12:27:22.770Z"
   },
   {
    "duration": 22,
    "start_time": "2022-06-14T12:27:22.795Z"
   },
   {
    "duration": 36,
    "start_time": "2022-06-14T12:27:22.819Z"
   },
   {
    "duration": 22,
    "start_time": "2022-06-14T12:27:22.858Z"
   },
   {
    "duration": 8,
    "start_time": "2022-06-14T12:27:22.882Z"
   },
   {
    "duration": 2333,
    "start_time": "2022-06-14T12:27:22.892Z"
   },
   {
    "duration": 22,
    "start_time": "2022-06-14T12:27:25.228Z"
   },
   {
    "duration": 7,
    "start_time": "2022-06-14T12:27:25.254Z"
   },
   {
    "duration": 14,
    "start_time": "2022-06-14T12:27:25.263Z"
   },
   {
    "duration": 13,
    "start_time": "2022-06-14T12:27:25.278Z"
   },
   {
    "duration": 47,
    "start_time": "2022-06-14T12:27:25.293Z"
   },
   {
    "duration": 16,
    "start_time": "2022-06-14T12:27:25.343Z"
   },
   {
    "duration": 15,
    "start_time": "2022-06-14T12:27:25.360Z"
   },
   {
    "duration": 14,
    "start_time": "2022-06-14T12:27:25.378Z"
   },
   {
    "duration": 12,
    "start_time": "2022-06-14T12:27:25.394Z"
   },
   {
    "duration": 15,
    "start_time": "2022-06-14T12:27:25.426Z"
   },
   {
    "duration": 1727,
    "start_time": "2022-06-14T12:27:25.443Z"
   },
   {
    "duration": 8,
    "start_time": "2022-06-14T12:27:27.172Z"
   },
   {
    "duration": 19,
    "start_time": "2022-06-14T12:27:27.182Z"
   },
   {
    "duration": 25,
    "start_time": "2022-06-14T12:27:27.202Z"
   },
   {
    "duration": 20,
    "start_time": "2022-06-14T12:27:27.229Z"
   },
   {
    "duration": 8,
    "start_time": "2022-06-14T12:27:27.253Z"
   },
   {
    "duration": 2076,
    "start_time": "2022-06-14T12:27:27.262Z"
   },
   {
    "duration": 7,
    "start_time": "2022-06-14T12:27:29.341Z"
   },
   {
    "duration": 12,
    "start_time": "2022-06-14T12:27:29.349Z"
   },
   {
    "duration": 24,
    "start_time": "2022-06-14T12:27:29.363Z"
   },
   {
    "duration": 2289,
    "start_time": "2022-06-14T12:27:29.389Z"
   },
   {
    "duration": 5,
    "start_time": "2022-06-14T12:27:31.680Z"
   },
   {
    "duration": 30,
    "start_time": "2022-06-14T12:27:31.687Z"
   },
   {
    "duration": 43,
    "start_time": "2022-06-14T12:27:31.719Z"
   },
   {
    "duration": 2193,
    "start_time": "2022-06-14T12:27:31.763Z"
   },
   {
    "duration": 5,
    "start_time": "2022-06-14T12:27:33.958Z"
   },
   {
    "duration": 20,
    "start_time": "2022-06-14T12:27:33.965Z"
   },
   {
    "duration": 2219,
    "start_time": "2022-06-14T12:27:33.987Z"
   },
   {
    "duration": 6,
    "start_time": "2022-06-14T12:27:36.209Z"
   },
   {
    "duration": 41,
    "start_time": "2022-06-14T12:27:36.217Z"
   },
   {
    "duration": 24,
    "start_time": "2022-06-14T12:27:36.261Z"
   },
   {
    "duration": 36,
    "start_time": "2022-06-14T12:27:36.287Z"
   },
   {
    "duration": 2194,
    "start_time": "2022-06-14T12:27:36.325Z"
   },
   {
    "duration": 7,
    "start_time": "2022-06-14T12:27:38.521Z"
   },
   {
    "duration": 15,
    "start_time": "2022-06-14T12:27:38.530Z"
   },
   {
    "duration": 9,
    "start_time": "2022-06-14T12:27:38.547Z"
   },
   {
    "duration": 10,
    "start_time": "2022-06-14T12:27:38.558Z"
   },
   {
    "duration": 8,
    "start_time": "2022-06-14T12:27:38.571Z"
   },
   {
    "duration": 10,
    "start_time": "2022-06-14T12:27:38.581Z"
   },
   {
    "duration": 2224,
    "start_time": "2022-06-14T12:27:38.593Z"
   },
   {
    "duration": 21,
    "start_time": "2022-06-14T12:27:40.820Z"
   },
   {
    "duration": 23,
    "start_time": "2022-06-14T12:27:40.845Z"
   },
   {
    "duration": 7,
    "start_time": "2022-06-14T12:27:40.869Z"
   },
   {
    "duration": 15,
    "start_time": "2022-06-14T12:27:40.878Z"
   },
   {
    "duration": 7,
    "start_time": "2022-06-14T12:27:40.895Z"
   },
   {
    "duration": 48,
    "start_time": "2022-06-14T12:27:40.903Z"
   },
   {
    "duration": 44,
    "start_time": "2022-06-14T12:27:40.954Z"
   },
   {
    "duration": 16,
    "start_time": "2022-06-14T12:36:31.948Z"
   },
   {
    "duration": 24,
    "start_time": "2022-06-14T12:36:54.397Z"
   },
   {
    "duration": 35,
    "start_time": "2022-06-14T12:36:59.419Z"
   },
   {
    "duration": 27,
    "start_time": "2022-06-14T12:37:02.856Z"
   },
   {
    "duration": 22,
    "start_time": "2022-06-14T12:44:21.226Z"
   },
   {
    "duration": 415,
    "start_time": "2022-06-14T12:44:31.676Z"
   },
   {
    "duration": 230,
    "start_time": "2022-06-14T12:46:39.022Z"
   },
   {
    "duration": 9,
    "start_time": "2022-06-14T12:51:00.328Z"
   },
   {
    "duration": 9,
    "start_time": "2022-06-14T12:52:25.316Z"
   },
   {
    "duration": 9,
    "start_time": "2022-06-14T12:52:36.254Z"
   },
   {
    "duration": 19,
    "start_time": "2022-06-14T12:53:47.895Z"
   },
   {
    "duration": 84,
    "start_time": "2022-06-14T12:54:54.159Z"
   },
   {
    "duration": 7,
    "start_time": "2022-06-14T12:56:39.072Z"
   },
   {
    "duration": 17,
    "start_time": "2022-06-14T12:59:52.614Z"
   },
   {
    "duration": 19,
    "start_time": "2022-06-14T13:00:11.138Z"
   },
   {
    "duration": 21,
    "start_time": "2022-06-14T13:00:31.640Z"
   },
   {
    "duration": 100,
    "start_time": "2022-06-14T13:01:14.527Z"
   },
   {
    "duration": 7,
    "start_time": "2022-06-14T13:01:20.517Z"
   },
   {
    "duration": 18,
    "start_time": "2022-06-14T13:01:23.730Z"
   },
   {
    "duration": 19,
    "start_time": "2022-06-14T13:01:26.180Z"
   },
   {
    "duration": 7,
    "start_time": "2022-06-14T13:01:54.790Z"
   },
   {
    "duration": 8,
    "start_time": "2022-06-14T13:01:57.307Z"
   },
   {
    "duration": 9,
    "start_time": "2022-06-14T13:02:17.095Z"
   },
   {
    "duration": 33,
    "start_time": "2022-06-14T13:02:32.590Z"
   },
   {
    "duration": 563,
    "start_time": "2022-06-14T13:10:23.922Z"
   },
   {
    "duration": 443,
    "start_time": "2022-06-14T13:12:39.319Z"
   },
   {
    "duration": 95,
    "start_time": "2022-06-14T13:12:54.984Z"
   },
   {
    "duration": 8,
    "start_time": "2022-06-14T13:13:32.351Z"
   },
   {
    "duration": 166,
    "start_time": "2022-06-14T13:13:36.971Z"
   },
   {
    "duration": 96,
    "start_time": "2022-06-14T13:15:17.118Z"
   },
   {
    "duration": 84,
    "start_time": "2022-06-14T13:16:20.142Z"
   },
   {
    "duration": 86,
    "start_time": "2022-06-14T13:17:19.359Z"
   },
   {
    "duration": 104,
    "start_time": "2022-06-14T13:17:34.753Z"
   },
   {
    "duration": 90,
    "start_time": "2022-06-14T13:18:32.880Z"
   },
   {
    "duration": 86,
    "start_time": "2022-06-14T13:19:36.031Z"
   },
   {
    "duration": 126,
    "start_time": "2022-06-14T13:19:47.576Z"
   },
   {
    "duration": 99,
    "start_time": "2022-06-14T13:20:53.730Z"
   },
   {
    "duration": 93,
    "start_time": "2022-06-14T13:23:36.398Z"
   },
   {
    "duration": 8,
    "start_time": "2022-06-14T13:24:37.538Z"
   },
   {
    "duration": 33,
    "start_time": "2022-06-14T13:24:58.489Z"
   },
   {
    "duration": 89,
    "start_time": "2022-06-14T13:28:12.671Z"
   },
   {
    "duration": 181,
    "start_time": "2022-06-14T13:28:47.796Z"
   },
   {
    "duration": 89,
    "start_time": "2022-06-14T13:29:44.617Z"
   },
   {
    "duration": 85,
    "start_time": "2022-06-14T13:30:17.423Z"
   },
   {
    "duration": 336,
    "start_time": "2022-06-14T13:30:36.229Z"
   },
   {
    "duration": 413,
    "start_time": "2022-06-14T13:31:02.110Z"
   },
   {
    "duration": 341,
    "start_time": "2022-06-14T13:31:19.644Z"
   },
   {
    "duration": 13,
    "start_time": "2022-06-14T13:39:58.835Z"
   },
   {
    "duration": 9,
    "start_time": "2022-06-14T13:40:24.034Z"
   },
   {
    "duration": 8,
    "start_time": "2022-06-14T13:40:29.028Z"
   },
   {
    "duration": 8,
    "start_time": "2022-06-14T13:40:41.049Z"
   },
   {
    "duration": 5,
    "start_time": "2022-06-14T13:40:54.871Z"
   },
   {
    "duration": 5,
    "start_time": "2022-06-14T13:43:22.559Z"
   },
   {
    "duration": 5,
    "start_time": "2022-06-14T13:43:26.303Z"
   },
   {
    "duration": 6,
    "start_time": "2022-06-14T13:43:30.983Z"
   },
   {
    "duration": 143,
    "start_time": "2022-06-14T13:43:35.890Z"
   },
   {
    "duration": 32,
    "start_time": "2022-06-14T13:43:36.036Z"
   },
   {
    "duration": 56,
    "start_time": "2022-06-14T13:43:36.070Z"
   },
   {
    "duration": 23,
    "start_time": "2022-06-14T13:43:36.129Z"
   },
   {
    "duration": 24,
    "start_time": "2022-06-14T13:43:36.154Z"
   },
   {
    "duration": 9,
    "start_time": "2022-06-14T13:43:36.179Z"
   },
   {
    "duration": 54,
    "start_time": "2022-06-14T13:43:36.190Z"
   },
   {
    "duration": 11,
    "start_time": "2022-06-14T13:43:36.246Z"
   },
   {
    "duration": 35,
    "start_time": "2022-06-14T13:43:36.259Z"
   },
   {
    "duration": 7,
    "start_time": "2022-06-14T13:43:36.297Z"
   },
   {
    "duration": 23,
    "start_time": "2022-06-14T13:43:36.306Z"
   },
   {
    "duration": 2086,
    "start_time": "2022-06-14T13:43:36.331Z"
   },
   {
    "duration": 14,
    "start_time": "2022-06-14T13:43:38.419Z"
   },
   {
    "duration": 6,
    "start_time": "2022-06-14T13:43:38.435Z"
   },
   {
    "duration": 9,
    "start_time": "2022-06-14T13:43:38.443Z"
   },
   {
    "duration": 9,
    "start_time": "2022-06-14T13:43:38.454Z"
   },
   {
    "duration": 12,
    "start_time": "2022-06-14T13:43:38.464Z"
   },
   {
    "duration": 16,
    "start_time": "2022-06-14T13:43:38.477Z"
   },
   {
    "duration": 44,
    "start_time": "2022-06-14T13:43:38.495Z"
   },
   {
    "duration": 8,
    "start_time": "2022-06-14T13:43:38.541Z"
   },
   {
    "duration": 11,
    "start_time": "2022-06-14T13:43:38.551Z"
   },
   {
    "duration": 21,
    "start_time": "2022-06-14T13:43:38.564Z"
   },
   {
    "duration": 1589,
    "start_time": "2022-06-14T13:43:38.587Z"
   },
   {
    "duration": 8,
    "start_time": "2022-06-14T13:43:40.177Z"
   },
   {
    "duration": 18,
    "start_time": "2022-06-14T13:43:40.186Z"
   },
   {
    "duration": 25,
    "start_time": "2022-06-14T13:43:40.206Z"
   },
   {
    "duration": 32,
    "start_time": "2022-06-14T13:43:40.233Z"
   },
   {
    "duration": 9,
    "start_time": "2022-06-14T13:43:40.269Z"
   },
   {
    "duration": 2171,
    "start_time": "2022-06-14T13:43:40.280Z"
   },
   {
    "duration": 6,
    "start_time": "2022-06-14T13:43:42.453Z"
   },
   {
    "duration": 13,
    "start_time": "2022-06-14T13:43:42.460Z"
   },
   {
    "duration": 11,
    "start_time": "2022-06-14T13:43:42.475Z"
   },
   {
    "duration": 2137,
    "start_time": "2022-06-14T13:43:42.488Z"
   },
   {
    "duration": 6,
    "start_time": "2022-06-14T13:43:44.627Z"
   },
   {
    "duration": 24,
    "start_time": "2022-06-14T13:43:44.634Z"
   },
   {
    "duration": 15,
    "start_time": "2022-06-14T13:43:44.660Z"
   },
   {
    "duration": 1979,
    "start_time": "2022-06-14T13:43:44.677Z"
   },
   {
    "duration": 5,
    "start_time": "2022-06-14T13:43:46.658Z"
   },
   {
    "duration": 11,
    "start_time": "2022-06-14T13:43:46.665Z"
   },
   {
    "duration": 2099,
    "start_time": "2022-06-14T13:43:46.678Z"
   },
   {
    "duration": 5,
    "start_time": "2022-06-14T13:43:48.779Z"
   },
   {
    "duration": 7,
    "start_time": "2022-06-14T13:43:48.786Z"
   },
   {
    "duration": 36,
    "start_time": "2022-06-14T13:43:48.795Z"
   },
   {
    "duration": 9,
    "start_time": "2022-06-14T13:43:48.833Z"
   },
   {
    "duration": 2042,
    "start_time": "2022-06-14T13:43:48.844Z"
   },
   {
    "duration": 6,
    "start_time": "2022-06-14T13:43:50.888Z"
   },
   {
    "duration": 15,
    "start_time": "2022-06-14T13:43:50.895Z"
   },
   {
    "duration": 15,
    "start_time": "2022-06-14T13:43:50.912Z"
   },
   {
    "duration": 7,
    "start_time": "2022-06-14T13:43:50.928Z"
   },
   {
    "duration": 8,
    "start_time": "2022-06-14T13:43:50.937Z"
   },
   {
    "duration": 16,
    "start_time": "2022-06-14T13:43:50.947Z"
   },
   {
    "duration": 2001,
    "start_time": "2022-06-14T13:43:50.965Z"
   },
   {
    "duration": 6,
    "start_time": "2022-06-14T13:43:52.967Z"
   },
   {
    "duration": 12,
    "start_time": "2022-06-14T13:43:52.974Z"
   },
   {
    "duration": 7,
    "start_time": "2022-06-14T13:43:52.987Z"
   },
   {
    "duration": 7,
    "start_time": "2022-06-14T13:43:52.995Z"
   },
   {
    "duration": 26,
    "start_time": "2022-06-14T13:43:53.004Z"
   },
   {
    "duration": 9,
    "start_time": "2022-06-14T13:43:53.032Z"
   },
   {
    "duration": 15,
    "start_time": "2022-06-14T13:43:53.043Z"
   },
   {
    "duration": 9,
    "start_time": "2022-06-14T13:43:53.059Z"
   },
   {
    "duration": 16,
    "start_time": "2022-06-14T13:43:53.070Z"
   },
   {
    "duration": 40,
    "start_time": "2022-06-14T13:43:53.087Z"
   },
   {
    "duration": 8,
    "start_time": "2022-06-14T13:43:53.129Z"
   },
   {
    "duration": 328,
    "start_time": "2022-06-14T13:43:53.139Z"
   },
   {
    "duration": 5,
    "start_time": "2022-06-14T13:43:53.469Z"
   },
   {
    "duration": 8,
    "start_time": "2022-06-14T13:45:19.594Z"
   },
   {
    "duration": 9,
    "start_time": "2022-06-14T13:45:28.384Z"
   },
   {
    "duration": 7,
    "start_time": "2022-06-14T13:45:42.508Z"
   },
   {
    "duration": 9,
    "start_time": "2022-06-14T13:47:36.913Z"
   },
   {
    "duration": 9,
    "start_time": "2022-06-14T13:49:19.834Z"
   },
   {
    "duration": 21,
    "start_time": "2022-06-14T14:08:06.196Z"
   },
   {
    "duration": 72,
    "start_time": "2022-06-14T14:08:15.507Z"
   },
   {
    "duration": 20,
    "start_time": "2022-06-14T14:08:25.814Z"
   },
   {
    "duration": 21,
    "start_time": "2022-06-14T14:09:28.697Z"
   },
   {
    "duration": 10,
    "start_time": "2022-06-14T14:09:46.054Z"
   },
   {
    "duration": 11,
    "start_time": "2022-06-14T14:10:10.359Z"
   },
   {
    "duration": 6,
    "start_time": "2022-06-14T14:10:19.988Z"
   },
   {
    "duration": 10,
    "start_time": "2022-06-14T14:10:37.069Z"
   },
   {
    "duration": 8,
    "start_time": "2022-06-14T14:13:39.235Z"
   },
   {
    "duration": 9,
    "start_time": "2022-06-14T14:15:49.826Z"
   },
   {
    "duration": 6,
    "start_time": "2022-06-14T14:16:00.426Z"
   },
   {
    "duration": 9,
    "start_time": "2022-06-14T14:16:13.377Z"
   },
   {
    "duration": 6,
    "start_time": "2022-06-14T14:16:43.432Z"
   },
   {
    "duration": 11,
    "start_time": "2022-06-14T14:17:01.526Z"
   },
   {
    "duration": 25,
    "start_time": "2022-06-14T14:23:17.677Z"
   },
   {
    "duration": 8,
    "start_time": "2022-06-14T14:24:38.150Z"
   },
   {
    "duration": 10,
    "start_time": "2022-06-14T14:24:53.629Z"
   },
   {
    "duration": 6,
    "start_time": "2022-06-14T14:26:23.695Z"
   },
   {
    "duration": 136,
    "start_time": "2022-06-14T14:26:36.907Z"
   },
   {
    "duration": 26,
    "start_time": "2022-06-14T14:26:37.045Z"
   },
   {
    "duration": 21,
    "start_time": "2022-06-14T14:26:37.073Z"
   },
   {
    "duration": 22,
    "start_time": "2022-06-14T14:26:37.125Z"
   },
   {
    "duration": 25,
    "start_time": "2022-06-14T14:26:37.149Z"
   },
   {
    "duration": 12,
    "start_time": "2022-06-14T14:26:37.176Z"
   },
   {
    "duration": 41,
    "start_time": "2022-06-14T14:26:37.190Z"
   },
   {
    "duration": 11,
    "start_time": "2022-06-14T14:26:37.232Z"
   },
   {
    "duration": 22,
    "start_time": "2022-06-14T14:26:37.244Z"
   },
   {
    "duration": 8,
    "start_time": "2022-06-14T14:26:37.268Z"
   },
   {
    "duration": 7,
    "start_time": "2022-06-14T14:26:37.278Z"
   },
   {
    "duration": 2041,
    "start_time": "2022-06-14T14:26:37.287Z"
   },
   {
    "duration": 11,
    "start_time": "2022-06-14T14:26:39.330Z"
   },
   {
    "duration": 6,
    "start_time": "2022-06-14T14:26:39.343Z"
   },
   {
    "duration": 8,
    "start_time": "2022-06-14T14:26:39.350Z"
   },
   {
    "duration": 13,
    "start_time": "2022-06-14T14:26:39.359Z"
   },
   {
    "duration": 9,
    "start_time": "2022-06-14T14:26:39.374Z"
   },
   {
    "duration": 47,
    "start_time": "2022-06-14T14:26:39.384Z"
   },
   {
    "duration": 13,
    "start_time": "2022-06-14T14:26:39.432Z"
   },
   {
    "duration": 7,
    "start_time": "2022-06-14T14:26:39.447Z"
   },
   {
    "duration": 10,
    "start_time": "2022-06-14T14:26:39.456Z"
   },
   {
    "duration": 12,
    "start_time": "2022-06-14T14:26:39.467Z"
   },
   {
    "duration": 1479,
    "start_time": "2022-06-14T14:26:39.481Z"
   },
   {
    "duration": 10,
    "start_time": "2022-06-14T14:26:40.962Z"
   },
   {
    "duration": 6,
    "start_time": "2022-06-14T14:26:40.974Z"
   },
   {
    "duration": 21,
    "start_time": "2022-06-14T14:26:40.981Z"
   },
   {
    "duration": 13,
    "start_time": "2022-06-14T14:26:41.027Z"
   },
   {
    "duration": 9,
    "start_time": "2022-06-14T14:26:41.045Z"
   },
   {
    "duration": 1963,
    "start_time": "2022-06-14T14:26:41.055Z"
   },
   {
    "duration": 10,
    "start_time": "2022-06-14T14:26:43.019Z"
   },
   {
    "duration": 15,
    "start_time": "2022-06-14T14:26:43.030Z"
   },
   {
    "duration": 31,
    "start_time": "2022-06-14T14:26:43.047Z"
   },
   {
    "duration": 2052,
    "start_time": "2022-06-14T14:26:43.080Z"
   },
   {
    "duration": 5,
    "start_time": "2022-06-14T14:26:45.133Z"
   },
   {
    "duration": 17,
    "start_time": "2022-06-14T14:26:45.140Z"
   },
   {
    "duration": 14,
    "start_time": "2022-06-14T14:26:45.159Z"
   },
   {
    "duration": 1974,
    "start_time": "2022-06-14T14:26:45.175Z"
   },
   {
    "duration": 5,
    "start_time": "2022-06-14T14:26:47.151Z"
   },
   {
    "duration": 20,
    "start_time": "2022-06-14T14:26:47.157Z"
   },
   {
    "duration": 2026,
    "start_time": "2022-06-14T14:26:47.178Z"
   },
   {
    "duration": 5,
    "start_time": "2022-06-14T14:26:49.206Z"
   },
   {
    "duration": 17,
    "start_time": "2022-06-14T14:26:49.213Z"
   },
   {
    "duration": 21,
    "start_time": "2022-06-14T14:26:49.232Z"
   },
   {
    "duration": 9,
    "start_time": "2022-06-14T14:26:49.255Z"
   },
   {
    "duration": 2125,
    "start_time": "2022-06-14T14:26:49.266Z"
   },
   {
    "duration": 7,
    "start_time": "2022-06-14T14:26:51.394Z"
   },
   {
    "duration": 7,
    "start_time": "2022-06-14T14:26:51.403Z"
   },
   {
    "duration": 6,
    "start_time": "2022-06-14T14:26:51.426Z"
   },
   {
    "duration": 9,
    "start_time": "2022-06-14T14:26:51.434Z"
   },
   {
    "duration": 13,
    "start_time": "2022-06-14T14:26:51.444Z"
   },
   {
    "duration": 9,
    "start_time": "2022-06-14T14:26:51.458Z"
   },
   {
    "duration": 1984,
    "start_time": "2022-06-14T14:26:51.469Z"
   },
   {
    "duration": 6,
    "start_time": "2022-06-14T14:26:53.454Z"
   },
   {
    "duration": 23,
    "start_time": "2022-06-14T14:26:53.461Z"
   },
   {
    "duration": 23,
    "start_time": "2022-06-14T14:26:53.485Z"
   },
   {
    "duration": 19,
    "start_time": "2022-06-14T14:26:53.509Z"
   },
   {
    "duration": 23,
    "start_time": "2022-06-14T14:26:53.529Z"
   },
   {
    "duration": 43,
    "start_time": "2022-06-14T14:26:53.553Z"
   },
   {
    "duration": 26,
    "start_time": "2022-06-14T14:26:53.597Z"
   },
   {
    "duration": 19,
    "start_time": "2022-06-14T14:26:53.625Z"
   },
   {
    "duration": 22,
    "start_time": "2022-06-14T14:26:53.645Z"
   },
   {
    "duration": 23,
    "start_time": "2022-06-14T14:26:53.669Z"
   },
   {
    "duration": 12,
    "start_time": "2022-06-14T14:26:53.694Z"
   },
   {
    "duration": 337,
    "start_time": "2022-06-14T14:26:53.707Z"
   },
   {
    "duration": 6,
    "start_time": "2022-06-14T14:26:54.046Z"
   },
   {
    "duration": 41,
    "start_time": "2022-06-14T14:26:54.053Z"
   },
   {
    "duration": 28,
    "start_time": "2022-06-14T14:26:54.096Z"
   },
   {
    "duration": 29,
    "start_time": "2022-06-14T14:26:54.126Z"
   },
   {
    "duration": 34,
    "start_time": "2022-06-14T14:26:54.157Z"
   },
   {
    "duration": 27,
    "start_time": "2022-06-14T14:27:03.899Z"
   },
   {
    "duration": 548,
    "start_time": "2022-06-14T14:30:13.487Z"
   },
   {
    "duration": 114,
    "start_time": "2022-06-14T14:30:27.553Z"
   },
   {
    "duration": 235,
    "start_time": "2022-06-14T14:30:33.383Z"
   },
   {
    "duration": 121,
    "start_time": "2022-06-14T14:30:40.220Z"
   },
   {
    "duration": 291,
    "start_time": "2022-06-14T14:32:32.304Z"
   },
   {
    "duration": 339,
    "start_time": "2022-06-14T14:32:53.014Z"
   },
   {
    "duration": 5,
    "start_time": "2022-06-14T14:33:15.327Z"
   },
   {
    "duration": 245,
    "start_time": "2022-06-14T14:33:20.094Z"
   },
   {
    "duration": 5,
    "start_time": "2022-06-14T14:34:49.260Z"
   },
   {
    "duration": 243,
    "start_time": "2022-06-14T14:34:58.106Z"
   },
   {
    "duration": 135,
    "start_time": "2022-06-14T14:35:24.186Z"
   },
   {
    "duration": 183,
    "start_time": "2022-06-14T14:35:38.000Z"
   },
   {
    "duration": 383,
    "start_time": "2022-06-14T14:35:42.902Z"
   },
   {
    "duration": 370,
    "start_time": "2022-06-14T14:35:47.940Z"
   },
   {
    "duration": 4,
    "start_time": "2022-06-14T14:37:53.857Z"
   },
   {
    "duration": 248,
    "start_time": "2022-06-14T14:38:00.441Z"
   },
   {
    "duration": 245,
    "start_time": "2022-06-14T14:39:27.509Z"
   },
   {
    "duration": 245,
    "start_time": "2022-06-14T14:42:12.596Z"
   },
   {
    "duration": 15,
    "start_time": "2022-06-14T15:06:14.015Z"
   },
   {
    "duration": 265,
    "start_time": "2022-06-14T15:23:22.397Z"
   },
   {
    "duration": 263,
    "start_time": "2022-06-14T15:24:31.360Z"
   },
   {
    "duration": 341,
    "start_time": "2022-06-14T15:25:19.406Z"
   },
   {
    "duration": 308,
    "start_time": "2022-06-14T15:25:24.315Z"
   },
   {
    "duration": 264,
    "start_time": "2022-06-14T15:25:29.145Z"
   },
   {
    "duration": 218,
    "start_time": "2022-06-14T15:25:36.852Z"
   },
   {
    "duration": 237,
    "start_time": "2022-06-14T15:25:48.549Z"
   },
   {
    "duration": 220,
    "start_time": "2022-06-14T15:25:53.802Z"
   },
   {
    "duration": 253,
    "start_time": "2022-06-14T15:25:59.522Z"
   },
   {
    "duration": 239,
    "start_time": "2022-06-14T15:26:35.140Z"
   },
   {
    "duration": 235,
    "start_time": "2022-06-14T15:26:41.882Z"
   },
   {
    "duration": 273,
    "start_time": "2022-06-14T15:26:51.077Z"
   },
   {
    "duration": 424,
    "start_time": "2022-06-14T15:26:55.459Z"
   },
   {
    "duration": 245,
    "start_time": "2022-06-14T15:27:40.451Z"
   },
   {
    "duration": 308,
    "start_time": "2022-06-14T15:27:54.317Z"
   },
   {
    "duration": 242,
    "start_time": "2022-06-14T15:28:00.765Z"
   },
   {
    "duration": 235,
    "start_time": "2022-06-14T15:28:52.066Z"
   },
   {
    "duration": 278,
    "start_time": "2022-06-14T15:29:02.840Z"
   },
   {
    "duration": 276,
    "start_time": "2022-06-14T15:30:14.173Z"
   },
   {
    "duration": 163,
    "start_time": "2022-06-14T15:32:40.406Z"
   },
   {
    "duration": 16,
    "start_time": "2022-06-14T15:33:00.843Z"
   },
   {
    "duration": 25,
    "start_time": "2022-06-14T15:34:51.119Z"
   },
   {
    "duration": 16,
    "start_time": "2022-06-14T15:35:29.361Z"
   },
   {
    "duration": 14,
    "start_time": "2022-06-14T15:36:23.463Z"
   },
   {
    "duration": 17,
    "start_time": "2022-06-14T15:36:40.313Z"
   },
   {
    "duration": 24,
    "start_time": "2022-06-14T15:40:15.948Z"
   },
   {
    "duration": 12,
    "start_time": "2022-06-14T15:40:29.886Z"
   },
   {
    "duration": 157,
    "start_time": "2022-06-14T15:55:24.636Z"
   },
   {
    "duration": 44,
    "start_time": "2022-06-14T15:55:24.795Z"
   },
   {
    "duration": 25,
    "start_time": "2022-06-14T15:55:24.841Z"
   },
   {
    "duration": 29,
    "start_time": "2022-06-14T15:55:24.868Z"
   },
   {
    "duration": 50,
    "start_time": "2022-06-14T15:55:24.899Z"
   },
   {
    "duration": 11,
    "start_time": "2022-06-14T15:55:24.951Z"
   },
   {
    "duration": 20,
    "start_time": "2022-06-14T15:55:24.964Z"
   },
   {
    "duration": 41,
    "start_time": "2022-06-14T15:55:24.986Z"
   },
   {
    "duration": 17,
    "start_time": "2022-06-14T15:55:25.030Z"
   },
   {
    "duration": 12,
    "start_time": "2022-06-14T15:55:25.050Z"
   },
   {
    "duration": 7,
    "start_time": "2022-06-14T15:55:25.063Z"
   },
   {
    "duration": 2038,
    "start_time": "2022-06-14T15:55:25.071Z"
   },
   {
    "duration": 18,
    "start_time": "2022-06-14T15:55:27.110Z"
   },
   {
    "duration": 5,
    "start_time": "2022-06-14T15:55:27.130Z"
   },
   {
    "duration": 15,
    "start_time": "2022-06-14T15:55:27.137Z"
   },
   {
    "duration": 18,
    "start_time": "2022-06-14T15:55:27.153Z"
   },
   {
    "duration": 13,
    "start_time": "2022-06-14T15:55:27.172Z"
   },
   {
    "duration": 12,
    "start_time": "2022-06-14T15:55:27.187Z"
   },
   {
    "duration": 16,
    "start_time": "2022-06-14T15:55:27.200Z"
   },
   {
    "duration": 5,
    "start_time": "2022-06-14T15:55:27.226Z"
   },
   {
    "duration": 31,
    "start_time": "2022-06-14T15:55:27.233Z"
   },
   {
    "duration": 5,
    "start_time": "2022-06-14T15:55:27.265Z"
   },
   {
    "duration": 20,
    "start_time": "2022-06-14T15:55:27.272Z"
   },
   {
    "duration": 1508,
    "start_time": "2022-06-14T15:55:27.294Z"
   },
   {
    "duration": 8,
    "start_time": "2022-06-14T15:55:28.804Z"
   },
   {
    "duration": 24,
    "start_time": "2022-06-14T15:55:28.814Z"
   },
   {
    "duration": 26,
    "start_time": "2022-06-14T15:55:28.840Z"
   },
   {
    "duration": 12,
    "start_time": "2022-06-14T15:55:28.870Z"
   },
   {
    "duration": 11,
    "start_time": "2022-06-14T15:55:28.884Z"
   },
   {
    "duration": 2106,
    "start_time": "2022-06-14T15:55:28.897Z"
   },
   {
    "duration": 6,
    "start_time": "2022-06-14T15:55:31.005Z"
   },
   {
    "duration": 24,
    "start_time": "2022-06-14T15:55:31.013Z"
   },
   {
    "duration": 17,
    "start_time": "2022-06-14T15:55:31.039Z"
   },
   {
    "duration": 2169,
    "start_time": "2022-06-14T15:55:31.058Z"
   },
   {
    "duration": 5,
    "start_time": "2022-06-14T15:55:33.228Z"
   },
   {
    "duration": 10,
    "start_time": "2022-06-14T15:55:33.235Z"
   },
   {
    "duration": 14,
    "start_time": "2022-06-14T15:55:33.247Z"
   },
   {
    "duration": 2054,
    "start_time": "2022-06-14T15:55:33.262Z"
   },
   {
    "duration": 9,
    "start_time": "2022-06-14T15:55:35.318Z"
   },
   {
    "duration": 26,
    "start_time": "2022-06-14T15:55:35.329Z"
   },
   {
    "duration": 1954,
    "start_time": "2022-06-14T15:55:35.357Z"
   },
   {
    "duration": 14,
    "start_time": "2022-06-14T15:55:37.313Z"
   },
   {
    "duration": 5,
    "start_time": "2022-06-14T15:55:37.329Z"
   },
   {
    "duration": 19,
    "start_time": "2022-06-14T15:55:37.335Z"
   },
   {
    "duration": 8,
    "start_time": "2022-06-14T15:55:37.356Z"
   },
   {
    "duration": 1928,
    "start_time": "2022-06-14T15:55:37.365Z"
   },
   {
    "duration": 6,
    "start_time": "2022-06-14T15:55:39.295Z"
   },
   {
    "duration": 11,
    "start_time": "2022-06-14T15:55:39.302Z"
   },
   {
    "duration": 13,
    "start_time": "2022-06-14T15:55:39.315Z"
   },
   {
    "duration": 5,
    "start_time": "2022-06-14T15:55:39.330Z"
   },
   {
    "duration": 12,
    "start_time": "2022-06-14T15:55:39.336Z"
   },
   {
    "duration": 19,
    "start_time": "2022-06-14T15:55:39.350Z"
   },
   {
    "duration": 1939,
    "start_time": "2022-06-14T15:55:39.371Z"
   },
   {
    "duration": 7,
    "start_time": "2022-06-14T15:55:41.311Z"
   },
   {
    "duration": 5,
    "start_time": "2022-06-14T15:55:41.326Z"
   },
   {
    "duration": 15,
    "start_time": "2022-06-14T15:55:41.332Z"
   },
   {
    "duration": 8,
    "start_time": "2022-06-14T15:55:41.349Z"
   },
   {
    "duration": 7,
    "start_time": "2022-06-14T15:55:41.359Z"
   },
   {
    "duration": 14,
    "start_time": "2022-06-14T15:55:41.368Z"
   },
   {
    "duration": 16,
    "start_time": "2022-06-14T15:55:41.385Z"
   },
   {
    "duration": 11,
    "start_time": "2022-06-14T15:55:41.427Z"
   },
   {
    "duration": 29,
    "start_time": "2022-06-14T15:55:41.440Z"
   },
   {
    "duration": 22,
    "start_time": "2022-06-14T15:55:41.470Z"
   },
   {
    "duration": 13,
    "start_time": "2022-06-14T15:55:41.493Z"
   },
   {
    "duration": 334,
    "start_time": "2022-06-14T15:55:41.507Z"
   },
   {
    "duration": 5,
    "start_time": "2022-06-14T15:55:41.843Z"
   },
   {
    "duration": 18,
    "start_time": "2022-06-14T15:55:41.849Z"
   },
   {
    "duration": 16,
    "start_time": "2022-06-14T15:55:41.868Z"
   },
   {
    "duration": 30,
    "start_time": "2022-06-14T15:55:41.886Z"
   },
   {
    "duration": 34,
    "start_time": "2022-06-14T15:55:41.917Z"
   },
   {
    "duration": 5,
    "start_time": "2022-06-14T15:55:41.953Z"
   },
   {
    "duration": 236,
    "start_time": "2022-06-14T15:55:41.960Z"
   },
   {
    "duration": 5,
    "start_time": "2022-06-14T15:55:42.198Z"
   },
   {
    "duration": 242,
    "start_time": "2022-06-14T15:55:42.204Z"
   },
   {
    "duration": 4,
    "start_time": "2022-06-14T15:55:42.448Z"
   },
   {
    "duration": 233,
    "start_time": "2022-06-14T15:55:42.453Z"
   },
   {
    "duration": 378,
    "start_time": "2022-06-14T15:55:42.687Z"
   },
   {
    "duration": 265,
    "start_time": "2022-06-14T15:55:43.067Z"
   },
   {
    "duration": 6,
    "start_time": "2022-06-14T15:59:09.682Z"
   },
   {
    "duration": 7,
    "start_time": "2022-06-14T15:59:16.432Z"
   },
   {
    "duration": 43,
    "start_time": "2022-06-14T16:01:22.844Z"
   },
   {
    "duration": 5,
    "start_time": "2022-06-14T16:04:24.406Z"
   },
   {
    "duration": 7,
    "start_time": "2022-06-14T16:04:35.977Z"
   },
   {
    "duration": 146,
    "start_time": "2022-06-14T16:04:43.361Z"
   },
   {
    "duration": 46,
    "start_time": "2022-06-14T16:04:43.509Z"
   },
   {
    "duration": 22,
    "start_time": "2022-06-14T16:04:43.557Z"
   },
   {
    "duration": 57,
    "start_time": "2022-06-14T16:04:43.582Z"
   },
   {
    "duration": 43,
    "start_time": "2022-06-14T16:04:43.641Z"
   },
   {
    "duration": 12,
    "start_time": "2022-06-14T16:04:43.686Z"
   },
   {
    "duration": 42,
    "start_time": "2022-06-14T16:04:43.699Z"
   },
   {
    "duration": 12,
    "start_time": "2022-06-14T16:04:43.743Z"
   },
   {
    "duration": 18,
    "start_time": "2022-06-14T16:04:43.757Z"
   },
   {
    "duration": 7,
    "start_time": "2022-06-14T16:04:43.778Z"
   },
   {
    "duration": 44,
    "start_time": "2022-06-14T16:04:43.786Z"
   },
   {
    "duration": 2260,
    "start_time": "2022-06-14T16:04:43.833Z"
   },
   {
    "duration": 12,
    "start_time": "2022-06-14T16:04:46.095Z"
   },
   {
    "duration": 9,
    "start_time": "2022-06-14T16:04:46.128Z"
   },
   {
    "duration": 24,
    "start_time": "2022-06-14T16:04:46.139Z"
   },
   {
    "duration": 10,
    "start_time": "2022-06-14T16:04:46.164Z"
   },
   {
    "duration": 11,
    "start_time": "2022-06-14T16:04:46.175Z"
   },
   {
    "duration": 13,
    "start_time": "2022-06-14T16:04:46.188Z"
   },
   {
    "duration": 29,
    "start_time": "2022-06-14T16:04:46.203Z"
   },
   {
    "duration": 8,
    "start_time": "2022-06-14T16:04:46.237Z"
   },
   {
    "duration": 29,
    "start_time": "2022-06-14T16:04:46.246Z"
   },
   {
    "duration": 5,
    "start_time": "2022-06-14T16:04:46.278Z"
   },
   {
    "duration": 8,
    "start_time": "2022-06-14T16:04:46.285Z"
   },
   {
    "duration": 1606,
    "start_time": "2022-06-14T16:04:46.295Z"
   },
   {
    "duration": 9,
    "start_time": "2022-06-14T16:04:47.903Z"
   },
   {
    "duration": 6,
    "start_time": "2022-06-14T16:04:47.927Z"
   },
   {
    "duration": 49,
    "start_time": "2022-06-14T16:04:47.935Z"
   },
   {
    "duration": 13,
    "start_time": "2022-06-14T16:04:47.989Z"
   },
   {
    "duration": 9,
    "start_time": "2022-06-14T16:04:48.004Z"
   },
   {
    "duration": 2212,
    "start_time": "2022-06-14T16:04:48.015Z"
   },
   {
    "duration": 7,
    "start_time": "2022-06-14T16:04:50.229Z"
   },
   {
    "duration": 24,
    "start_time": "2022-06-14T16:04:50.238Z"
   },
   {
    "duration": 14,
    "start_time": "2022-06-14T16:04:50.263Z"
   },
   {
    "duration": 2195,
    "start_time": "2022-06-14T16:04:50.278Z"
   },
   {
    "duration": 5,
    "start_time": "2022-06-14T16:04:52.475Z"
   },
   {
    "duration": 11,
    "start_time": "2022-06-14T16:04:52.481Z"
   },
   {
    "duration": 10,
    "start_time": "2022-06-14T16:04:52.494Z"
   },
   {
    "duration": 2223,
    "start_time": "2022-06-14T16:04:52.506Z"
   },
   {
    "duration": 12,
    "start_time": "2022-06-14T16:04:54.732Z"
   },
   {
    "duration": 28,
    "start_time": "2022-06-14T16:04:54.746Z"
   },
   {
    "duration": 2471,
    "start_time": "2022-06-14T16:04:54.776Z"
   },
   {
    "duration": 5,
    "start_time": "2022-06-14T16:04:57.248Z"
   },
   {
    "duration": 27,
    "start_time": "2022-06-14T16:04:57.255Z"
   },
   {
    "duration": 34,
    "start_time": "2022-06-14T16:04:57.284Z"
   },
   {
    "duration": 19,
    "start_time": "2022-06-14T16:04:57.320Z"
   },
   {
    "duration": 2142,
    "start_time": "2022-06-14T16:04:57.342Z"
   },
   {
    "duration": 5,
    "start_time": "2022-06-14T16:04:59.486Z"
   },
   {
    "duration": 10,
    "start_time": "2022-06-14T16:04:59.493Z"
   },
   {
    "duration": 11,
    "start_time": "2022-06-14T16:04:59.505Z"
   },
   {
    "duration": 18,
    "start_time": "2022-06-14T16:04:59.528Z"
   },
   {
    "duration": 20,
    "start_time": "2022-06-14T16:04:59.548Z"
   },
   {
    "duration": 20,
    "start_time": "2022-06-14T16:04:59.570Z"
   },
   {
    "duration": 2137,
    "start_time": "2022-06-14T16:04:59.592Z"
   },
   {
    "duration": 8,
    "start_time": "2022-06-14T16:05:01.731Z"
   },
   {
    "duration": 39,
    "start_time": "2022-06-14T16:05:01.741Z"
   },
   {
    "duration": 27,
    "start_time": "2022-06-14T16:05:01.781Z"
   },
   {
    "duration": 48,
    "start_time": "2022-06-14T16:05:01.810Z"
   },
   {
    "duration": 47,
    "start_time": "2022-06-14T16:05:01.861Z"
   },
   {
    "duration": 26,
    "start_time": "2022-06-14T16:05:01.910Z"
   },
   {
    "duration": 30,
    "start_time": "2022-06-14T16:05:01.938Z"
   },
   {
    "duration": 73,
    "start_time": "2022-06-14T16:05:01.970Z"
   },
   {
    "duration": 138,
    "start_time": "2022-06-14T16:05:02.045Z"
   },
   {
    "duration": 169,
    "start_time": "2022-06-14T16:05:02.185Z"
   },
   {
    "duration": 65,
    "start_time": "2022-06-14T16:05:02.356Z"
   },
   {
    "duration": 58,
    "start_time": "2022-06-14T16:05:02.422Z"
   },
   {
    "duration": 420,
    "start_time": "2022-06-14T16:05:02.482Z"
   },
   {
    "duration": 5,
    "start_time": "2022-06-14T16:05:02.904Z"
   },
   {
    "duration": 47,
    "start_time": "2022-06-14T16:05:02.911Z"
   },
   {
    "duration": 21,
    "start_time": "2022-06-14T16:05:02.961Z"
   },
   {
    "duration": 40,
    "start_time": "2022-06-14T16:05:02.984Z"
   },
   {
    "duration": 58,
    "start_time": "2022-06-14T16:05:03.026Z"
   },
   {
    "duration": 20,
    "start_time": "2022-06-14T16:05:03.086Z"
   },
   {
    "duration": 282,
    "start_time": "2022-06-14T16:05:03.107Z"
   },
   {
    "duration": 6,
    "start_time": "2022-06-14T16:05:03.391Z"
   },
   {
    "duration": 307,
    "start_time": "2022-06-14T16:05:03.398Z"
   },
   {
    "duration": 5,
    "start_time": "2022-06-14T16:05:03.706Z"
   },
   {
    "duration": 263,
    "start_time": "2022-06-14T16:05:03.713Z"
   },
   {
    "duration": 278,
    "start_time": "2022-06-14T16:05:03.978Z"
   },
   {
    "duration": 493,
    "start_time": "2022-06-14T16:05:04.258Z"
   },
   {
    "duration": 8,
    "start_time": "2022-06-14T16:06:23.739Z"
   },
   {
    "duration": 6,
    "start_time": "2022-06-14T16:06:33.769Z"
   },
   {
    "duration": 27,
    "start_time": "2022-06-14T16:06:44.542Z"
   },
   {
    "duration": 24,
    "start_time": "2022-06-14T16:06:48.815Z"
   },
   {
    "duration": 20,
    "start_time": "2022-06-14T16:06:55.047Z"
   },
   {
    "duration": 27,
    "start_time": "2022-06-14T16:06:59.988Z"
   },
   {
    "duration": 20,
    "start_time": "2022-06-14T16:07:06.388Z"
   },
   {
    "duration": 7,
    "start_time": "2022-06-14T16:07:11.072Z"
   },
   {
    "duration": 11,
    "start_time": "2022-06-14T16:07:51.007Z"
   },
   {
    "duration": 13,
    "start_time": "2022-06-14T16:07:58.113Z"
   },
   {
    "duration": 19,
    "start_time": "2022-06-14T16:08:59.087Z"
   },
   {
    "duration": 20,
    "start_time": "2022-06-14T16:09:14.259Z"
   },
   {
    "duration": 17,
    "start_time": "2022-06-14T16:12:04.170Z"
   },
   {
    "duration": 6,
    "start_time": "2022-06-14T16:12:42.216Z"
   },
   {
    "duration": 12,
    "start_time": "2022-06-14T16:12:47.394Z"
   },
   {
    "duration": 886,
    "start_time": "2022-06-14T16:13:46.070Z"
   },
   {
    "duration": 169,
    "start_time": "2022-06-14T16:14:17.581Z"
   },
   {
    "duration": 12,
    "start_time": "2022-06-14T16:15:06.786Z"
   },
   {
    "duration": 10,
    "start_time": "2022-06-14T16:15:50.239Z"
   },
   {
    "duration": 8,
    "start_time": "2022-06-14T16:17:12.221Z"
   },
   {
    "duration": 8,
    "start_time": "2022-06-14T16:17:53.664Z"
   },
   {
    "duration": 6,
    "start_time": "2022-06-14T16:22:10.854Z"
   },
   {
    "duration": 5,
    "start_time": "2022-06-14T16:23:21.307Z"
   },
   {
    "duration": 6,
    "start_time": "2022-06-14T16:23:34.842Z"
   },
   {
    "duration": 8,
    "start_time": "2022-06-14T16:23:42.662Z"
   },
   {
    "duration": 7,
    "start_time": "2022-06-14T16:24:01.415Z"
   },
   {
    "duration": 14,
    "start_time": "2022-06-14T16:24:25.979Z"
   },
   {
    "duration": 9,
    "start_time": "2022-06-14T16:24:37.197Z"
   },
   {
    "duration": 215,
    "start_time": "2022-06-14T16:34:19.052Z"
   },
   {
    "duration": 13,
    "start_time": "2022-06-14T16:34:44.215Z"
   },
   {
    "duration": 117,
    "start_time": "2022-06-14T16:35:05.782Z"
   },
   {
    "duration": 10,
    "start_time": "2022-06-14T16:35:56.575Z"
   },
   {
    "duration": 208,
    "start_time": "2022-06-14T16:42:49.490Z"
   },
   {
    "duration": 208,
    "start_time": "2022-06-14T16:46:51.352Z"
   },
   {
    "duration": 229,
    "start_time": "2022-06-14T16:48:41.260Z"
   },
   {
    "duration": 48,
    "start_time": "2022-06-14T16:50:01.286Z"
   },
   {
    "duration": 241,
    "start_time": "2022-06-14T16:50:17.111Z"
   },
   {
    "duration": 253,
    "start_time": "2022-06-14T16:50:29.322Z"
   },
   {
    "duration": 319,
    "start_time": "2022-06-14T16:51:42.046Z"
   },
   {
    "duration": 302,
    "start_time": "2022-06-14T16:51:50.319Z"
   },
   {
    "duration": 253,
    "start_time": "2022-06-14T16:52:55.757Z"
   },
   {
    "duration": 373,
    "start_time": "2022-06-14T16:53:06.604Z"
   },
   {
    "duration": 250,
    "start_time": "2022-06-14T16:53:27.819Z"
   },
   {
    "duration": 7,
    "start_time": "2022-06-14T16:57:09.412Z"
   },
   {
    "duration": 10,
    "start_time": "2022-06-14T17:03:20.939Z"
   },
   {
    "duration": 10,
    "start_time": "2022-06-14T17:04:15.951Z"
   },
   {
    "duration": 1585,
    "start_time": "2022-06-14T17:05:26.859Z"
   },
   {
    "duration": 1576,
    "start_time": "2022-06-14T17:06:07.823Z"
   },
   {
    "duration": 1961,
    "start_time": "2022-06-14T17:06:22.060Z"
   },
   {
    "duration": 18,
    "start_time": "2022-06-14T17:07:10.585Z"
   },
   {
    "duration": 5,
    "start_time": "2022-06-14T17:17:49.060Z"
   },
   {
    "duration": 18,
    "start_time": "2022-06-14T17:18:00.124Z"
   },
   {
    "duration": 270,
    "start_time": "2022-06-14T17:22:04.685Z"
   },
   {
    "duration": 234,
    "start_time": "2022-06-14T17:22:55.346Z"
   },
   {
    "duration": 255,
    "start_time": "2022-06-14T17:23:39.043Z"
   },
   {
    "duration": 617,
    "start_time": "2022-06-14T17:25:57.146Z"
   },
   {
    "duration": 13,
    "start_time": "2022-06-14T17:27:11.239Z"
   },
   {
    "duration": 9,
    "start_time": "2022-06-14T17:28:01.499Z"
   },
   {
    "duration": 9,
    "start_time": "2022-06-14T17:31:20.242Z"
   },
   {
    "duration": 14,
    "start_time": "2022-06-14T17:31:59.651Z"
   },
   {
    "duration": 8,
    "start_time": "2022-06-14T17:32:23.754Z"
   },
   {
    "duration": 21,
    "start_time": "2022-06-14T17:32:34.523Z"
   },
   {
    "duration": 152,
    "start_time": "2022-06-14T17:33:04.218Z"
   },
   {
    "duration": 11,
    "start_time": "2022-06-14T17:34:42.843Z"
   },
   {
    "duration": 9,
    "start_time": "2022-06-14T17:35:17.827Z"
   },
   {
    "duration": 8,
    "start_time": "2022-06-14T17:35:29.954Z"
   },
   {
    "duration": 129,
    "start_time": "2022-06-14T17:35:52.972Z"
   },
   {
    "duration": 169,
    "start_time": "2022-06-14T17:36:49.724Z"
   },
   {
    "duration": 8,
    "start_time": "2022-06-14T17:38:58.903Z"
   },
   {
    "duration": 7,
    "start_time": "2022-06-14T17:39:05.499Z"
   },
   {
    "duration": 181,
    "start_time": "2022-06-14T17:39:26.728Z"
   },
   {
    "duration": 151,
    "start_time": "2022-06-14T17:39:40.053Z"
   },
   {
    "duration": 10,
    "start_time": "2022-06-14T17:40:47.518Z"
   },
   {
    "duration": 8,
    "start_time": "2022-06-14T17:40:54.702Z"
   },
   {
    "duration": 148,
    "start_time": "2022-06-14T17:42:11.010Z"
   },
   {
    "duration": 29,
    "start_time": "2022-06-14T17:48:06.156Z"
   },
   {
    "duration": 10,
    "start_time": "2022-06-14T17:50:09.882Z"
   },
   {
    "duration": 25,
    "start_time": "2022-06-14T17:52:33.634Z"
   },
   {
    "duration": 7192,
    "start_time": "2022-06-14T17:53:17.537Z"
   },
   {
    "duration": 10,
    "start_time": "2022-06-14T17:54:52.568Z"
   },
   {
    "duration": 224,
    "start_time": "2022-06-14T17:55:03.209Z"
   },
   {
    "duration": 9,
    "start_time": "2022-06-14T17:56:17.079Z"
   },
   {
    "duration": 9,
    "start_time": "2022-06-14T17:58:12.073Z"
   },
   {
    "duration": 32,
    "start_time": "2022-06-14T18:02:48.034Z"
   },
   {
    "duration": 27,
    "start_time": "2022-06-14T18:08:20.574Z"
   },
   {
    "duration": 39,
    "start_time": "2022-06-14T18:08:37.016Z"
   },
   {
    "duration": 33,
    "start_time": "2022-06-14T18:09:27.039Z"
   },
   {
    "duration": 47,
    "start_time": "2022-06-14T18:10:50.494Z"
   },
   {
    "duration": 7,
    "start_time": "2022-06-14T18:10:58.341Z"
   },
   {
    "duration": 38,
    "start_time": "2022-06-14T18:11:05.556Z"
   },
   {
    "duration": 20,
    "start_time": "2022-06-14T18:13:26.342Z"
   },
   {
    "duration": 20,
    "start_time": "2022-06-14T18:13:36.292Z"
   },
   {
    "duration": 156,
    "start_time": "2022-06-14T18:13:41.490Z"
   },
   {
    "duration": 28,
    "start_time": "2022-06-14T18:13:41.648Z"
   },
   {
    "duration": 36,
    "start_time": "2022-06-14T18:13:41.678Z"
   },
   {
    "duration": 43,
    "start_time": "2022-06-14T18:13:41.716Z"
   },
   {
    "duration": 31,
    "start_time": "2022-06-14T18:13:41.761Z"
   },
   {
    "duration": 33,
    "start_time": "2022-06-14T18:13:41.793Z"
   },
   {
    "duration": 16,
    "start_time": "2022-06-14T18:13:41.828Z"
   },
   {
    "duration": 31,
    "start_time": "2022-06-14T18:13:41.846Z"
   },
   {
    "duration": 24,
    "start_time": "2022-06-14T18:13:41.879Z"
   },
   {
    "duration": 24,
    "start_time": "2022-06-14T18:13:41.907Z"
   },
   {
    "duration": 11,
    "start_time": "2022-06-14T18:13:41.932Z"
   },
   {
    "duration": 2423,
    "start_time": "2022-06-14T18:13:41.945Z"
   },
   {
    "duration": 10,
    "start_time": "2022-06-14T18:13:44.370Z"
   },
   {
    "duration": 43,
    "start_time": "2022-06-14T18:13:44.382Z"
   },
   {
    "duration": 56,
    "start_time": "2022-06-14T18:13:44.427Z"
   },
   {
    "duration": 23,
    "start_time": "2022-06-14T18:13:44.485Z"
   },
   {
    "duration": 24,
    "start_time": "2022-06-14T18:13:44.510Z"
   },
   {
    "duration": 36,
    "start_time": "2022-06-14T18:13:44.537Z"
   },
   {
    "duration": 28,
    "start_time": "2022-06-14T18:13:44.575Z"
   },
   {
    "duration": 10,
    "start_time": "2022-06-14T18:13:44.605Z"
   },
   {
    "duration": 46,
    "start_time": "2022-06-14T18:13:44.617Z"
   },
   {
    "duration": 13,
    "start_time": "2022-06-14T18:13:44.666Z"
   },
   {
    "duration": 20,
    "start_time": "2022-06-14T18:13:44.681Z"
   },
   {
    "duration": 1711,
    "start_time": "2022-06-14T18:13:44.703Z"
   },
   {
    "duration": 28,
    "start_time": "2022-06-14T18:13:46.416Z"
   },
   {
    "duration": 7,
    "start_time": "2022-06-14T18:13:46.445Z"
   },
   {
    "duration": 24,
    "start_time": "2022-06-14T18:13:46.454Z"
   },
   {
    "duration": 15,
    "start_time": "2022-06-14T18:13:46.482Z"
   },
   {
    "duration": 18,
    "start_time": "2022-06-14T18:13:46.499Z"
   },
   {
    "duration": 2291,
    "start_time": "2022-06-14T18:13:46.519Z"
   },
   {
    "duration": 7,
    "start_time": "2022-06-14T18:13:48.812Z"
   },
   {
    "duration": 27,
    "start_time": "2022-06-14T18:13:48.825Z"
   },
   {
    "duration": 14,
    "start_time": "2022-06-14T18:13:48.854Z"
   },
   {
    "duration": 2446,
    "start_time": "2022-06-14T18:13:48.870Z"
   },
   {
    "duration": 9,
    "start_time": "2022-06-14T18:13:51.318Z"
   },
   {
    "duration": 27,
    "start_time": "2022-06-14T18:13:51.328Z"
   },
   {
    "duration": 11,
    "start_time": "2022-06-14T18:13:51.357Z"
   },
   {
    "duration": 2398,
    "start_time": "2022-06-14T18:13:51.370Z"
   },
   {
    "duration": 6,
    "start_time": "2022-06-14T18:13:53.770Z"
   },
   {
    "duration": 27,
    "start_time": "2022-06-14T18:13:53.777Z"
   },
   {
    "duration": 2280,
    "start_time": "2022-06-14T18:13:53.806Z"
   },
   {
    "duration": 4,
    "start_time": "2022-06-14T18:13:56.088Z"
   },
   {
    "duration": 8,
    "start_time": "2022-06-14T18:13:56.094Z"
   },
   {
    "duration": 46,
    "start_time": "2022-06-14T18:13:56.104Z"
   },
   {
    "duration": 9,
    "start_time": "2022-06-14T18:13:56.152Z"
   },
   {
    "duration": 2134,
    "start_time": "2022-06-14T18:13:56.163Z"
   },
   {
    "duration": 7,
    "start_time": "2022-06-14T18:13:58.299Z"
   },
   {
    "duration": 21,
    "start_time": "2022-06-14T18:13:58.308Z"
   },
   {
    "duration": 11,
    "start_time": "2022-06-14T18:13:58.330Z"
   },
   {
    "duration": 11,
    "start_time": "2022-06-14T18:13:58.343Z"
   },
   {
    "duration": 11,
    "start_time": "2022-06-14T18:13:58.356Z"
   },
   {
    "duration": 14,
    "start_time": "2022-06-14T18:13:58.368Z"
   },
   {
    "duration": 2209,
    "start_time": "2022-06-14T18:13:58.384Z"
   },
   {
    "duration": 6,
    "start_time": "2022-06-14T18:14:00.595Z"
   },
   {
    "duration": 54,
    "start_time": "2022-06-14T18:14:00.602Z"
   },
   {
    "duration": 59,
    "start_time": "2022-06-14T18:14:00.657Z"
   },
   {
    "duration": 56,
    "start_time": "2022-06-14T18:14:00.717Z"
   },
   {
    "duration": 20,
    "start_time": "2022-06-14T18:14:00.775Z"
   },
   {
    "duration": 54,
    "start_time": "2022-06-14T18:14:00.796Z"
   },
   {
    "duration": 34,
    "start_time": "2022-06-14T18:14:00.851Z"
   },
   {
    "duration": 69,
    "start_time": "2022-06-14T18:14:00.887Z"
   },
   {
    "duration": 38,
    "start_time": "2022-06-14T18:14:00.958Z"
   },
   {
    "duration": 56,
    "start_time": "2022-06-14T18:14:00.998Z"
   },
   {
    "duration": 22,
    "start_time": "2022-06-14T18:14:01.056Z"
   },
   {
    "duration": 35,
    "start_time": "2022-06-14T18:14:01.080Z"
   },
   {
    "duration": 365,
    "start_time": "2022-06-14T18:14:01.117Z"
   },
   {
    "duration": 5,
    "start_time": "2022-06-14T18:14:01.484Z"
   },
   {
    "duration": 52,
    "start_time": "2022-06-14T18:14:01.492Z"
   },
   {
    "duration": 25,
    "start_time": "2022-06-14T18:14:01.547Z"
   },
   {
    "duration": 33,
    "start_time": "2022-06-14T18:14:01.574Z"
   },
   {
    "duration": 44,
    "start_time": "2022-06-14T18:14:01.610Z"
   },
   {
    "duration": 87,
    "start_time": "2022-06-14T18:14:01.656Z"
   },
   {
    "duration": 311,
    "start_time": "2022-06-14T18:14:01.746Z"
   },
   {
    "duration": 5,
    "start_time": "2022-06-14T18:14:02.059Z"
   },
   {
    "duration": 350,
    "start_time": "2022-06-14T18:14:02.065Z"
   },
   {
    "duration": 13,
    "start_time": "2022-06-14T18:14:02.417Z"
   },
   {
    "duration": 518,
    "start_time": "2022-06-14T18:14:02.432Z"
   },
   {
    "duration": 271,
    "start_time": "2022-06-14T18:14:02.952Z"
   },
   {
    "duration": 289,
    "start_time": "2022-06-14T18:14:03.226Z"
   },
   {
    "duration": 37,
    "start_time": "2022-06-14T18:14:03.517Z"
   },
   {
    "duration": 154,
    "start_time": "2022-06-14T18:14:03.555Z"
   },
   {
    "duration": 9,
    "start_time": "2022-06-14T18:14:03.715Z"
   },
   {
    "duration": 7,
    "start_time": "2022-06-14T18:14:03.737Z"
   },
   {
    "duration": 333,
    "start_time": "2022-06-14T18:14:03.746Z"
   },
   {
    "duration": 9,
    "start_time": "2022-06-14T18:14:04.081Z"
   },
   {
    "duration": 23,
    "start_time": "2022-06-14T18:14:04.092Z"
   },
   {
    "duration": 1832,
    "start_time": "2022-06-14T18:14:04.126Z"
   },
   {
    "duration": 11,
    "start_time": "2022-06-14T18:14:05.960Z"
   },
   {
    "duration": 9,
    "start_time": "2022-06-14T18:14:05.973Z"
   },
   {
    "duration": 16,
    "start_time": "2022-06-14T18:14:05.984Z"
   },
   {
    "duration": 149,
    "start_time": "2022-06-14T18:14:06.002Z"
   },
   {
    "duration": 7,
    "start_time": "2022-06-14T18:14:06.153Z"
   },
   {
    "duration": 177,
    "start_time": "2022-06-14T18:14:06.162Z"
   },
   {
    "duration": 7,
    "start_time": "2022-06-14T18:14:06.341Z"
   },
   {
    "duration": 155,
    "start_time": "2022-06-14T18:14:06.350Z"
   },
   {
    "duration": 8,
    "start_time": "2022-06-14T18:14:06.506Z"
   },
   {
    "duration": 156,
    "start_time": "2022-06-14T18:14:06.516Z"
   },
   {
    "duration": 21,
    "start_time": "2022-06-14T18:14:06.674Z"
   },
   {
    "duration": 9,
    "start_time": "2022-06-14T18:14:06.697Z"
   },
   {
    "duration": 215,
    "start_time": "2022-06-14T18:14:06.729Z"
   },
   {
    "duration": 8,
    "start_time": "2022-06-14T18:14:06.946Z"
   },
   {
    "duration": 18,
    "start_time": "2022-06-14T18:14:06.957Z"
   },
   {
    "duration": 18,
    "start_time": "2022-06-14T18:15:13.864Z"
   },
   {
    "duration": 18,
    "start_time": "2022-06-14T18:15:19.258Z"
   },
   {
    "duration": 19,
    "start_time": "2022-06-14T18:17:00.588Z"
   },
   {
    "duration": 23,
    "start_time": "2022-06-14T18:17:23.445Z"
   },
   {
    "duration": 17,
    "start_time": "2022-06-14T18:17:26.709Z"
   },
   {
    "duration": 26,
    "start_time": "2022-06-14T18:17:41.423Z"
   },
   {
    "duration": 54,
    "start_time": "2022-06-14T18:17:46.997Z"
   },
   {
    "duration": 30,
    "start_time": "2022-06-14T18:17:57.687Z"
   },
   {
    "duration": 35,
    "start_time": "2022-06-14T18:18:16.018Z"
   },
   {
    "duration": 23,
    "start_time": "2022-06-14T18:19:08.970Z"
   },
   {
    "duration": 31,
    "start_time": "2022-06-14T18:19:46.112Z"
   },
   {
    "duration": 31,
    "start_time": "2022-06-14T18:19:56.774Z"
   },
   {
    "duration": 42,
    "start_time": "2022-06-14T18:21:44.224Z"
   },
   {
    "duration": 46,
    "start_time": "2022-06-14T18:21:49.164Z"
   },
   {
    "duration": 6,
    "start_time": "2022-06-14T18:22:30.339Z"
   },
   {
    "duration": 9,
    "start_time": "2022-06-14T18:23:13.278Z"
   },
   {
    "duration": 6,
    "start_time": "2022-06-14T18:23:23.690Z"
   },
   {
    "duration": 5,
    "start_time": "2022-06-14T18:24:53.399Z"
   },
   {
    "duration": 27,
    "start_time": "2022-06-14T18:25:17.315Z"
   },
   {
    "duration": 4,
    "start_time": "2022-06-14T18:25:52.567Z"
   },
   {
    "duration": 4,
    "start_time": "2022-06-14T18:26:52.610Z"
   },
   {
    "duration": 5,
    "start_time": "2022-06-14T18:27:31.768Z"
   },
   {
    "duration": 5,
    "start_time": "2022-06-14T18:27:37.940Z"
   },
   {
    "duration": 5,
    "start_time": "2022-06-14T18:27:43.268Z"
   },
   {
    "duration": 6,
    "start_time": "2022-06-14T18:31:44.609Z"
   },
   {
    "duration": 36,
    "start_time": "2022-06-14T18:32:16.409Z"
   },
   {
    "duration": 10,
    "start_time": "2022-06-14T18:40:27.161Z"
   },
   {
    "duration": 332,
    "start_time": "2022-06-14T18:47:58.884Z"
   },
   {
    "duration": 33,
    "start_time": "2022-06-14T18:48:39.397Z"
   },
   {
    "duration": 33,
    "start_time": "2022-06-14T18:49:44.317Z"
   },
   {
    "duration": 15,
    "start_time": "2022-06-14T18:54:34.386Z"
   },
   {
    "duration": 39,
    "start_time": "2022-06-14T18:56:21.911Z"
   },
   {
    "duration": 15,
    "start_time": "2022-06-14T18:56:47.088Z"
   },
   {
    "duration": 35,
    "start_time": "2022-06-14T18:57:07.710Z"
   },
   {
    "duration": 39,
    "start_time": "2022-06-14T18:57:24.315Z"
   },
   {
    "duration": 7,
    "start_time": "2022-06-14T18:57:45.847Z"
   },
   {
    "duration": 11,
    "start_time": "2022-06-14T18:57:57.085Z"
   },
   {
    "duration": 8,
    "start_time": "2022-06-14T18:58:39.797Z"
   },
   {
    "duration": 10,
    "start_time": "2022-06-14T19:00:13.164Z"
   },
   {
    "duration": 8,
    "start_time": "2022-06-14T19:00:20.997Z"
   },
   {
    "duration": 275,
    "start_time": "2022-06-14T19:06:01.808Z"
   },
   {
    "duration": 224,
    "start_time": "2022-06-14T19:08:11.844Z"
   },
   {
    "duration": 19,
    "start_time": "2022-06-14T19:08:59.811Z"
   },
   {
    "duration": 10,
    "start_time": "2022-06-14T19:09:46.400Z"
   },
   {
    "duration": 8,
    "start_time": "2022-06-14T19:12:51.086Z"
   },
   {
    "duration": 294,
    "start_time": "2022-06-14T19:16:38.104Z"
   },
   {
    "duration": 38,
    "start_time": "2022-06-14T19:17:19.510Z"
   },
   {
    "duration": 28,
    "start_time": "2022-06-14T19:18:13.104Z"
   },
   {
    "duration": 499,
    "start_time": "2022-06-14T19:18:17.512Z"
   },
   {
    "duration": 38,
    "start_time": "2022-06-14T19:18:39.514Z"
   },
   {
    "duration": 39,
    "start_time": "2022-06-14T19:20:02.725Z"
   },
   {
    "duration": 140,
    "start_time": "2022-06-14T19:20:19.592Z"
   },
   {
    "duration": 27,
    "start_time": "2022-06-14T19:20:19.734Z"
   },
   {
    "duration": 24,
    "start_time": "2022-06-14T19:20:19.763Z"
   },
   {
    "duration": 43,
    "start_time": "2022-06-14T19:20:19.789Z"
   },
   {
    "duration": 24,
    "start_time": "2022-06-14T19:20:19.835Z"
   },
   {
    "duration": 13,
    "start_time": "2022-06-14T19:20:19.860Z"
   },
   {
    "duration": 19,
    "start_time": "2022-06-14T19:20:19.875Z"
   },
   {
    "duration": 15,
    "start_time": "2022-06-14T19:20:19.930Z"
   },
   {
    "duration": 22,
    "start_time": "2022-06-14T19:20:19.947Z"
   },
   {
    "duration": 24,
    "start_time": "2022-06-14T19:20:19.972Z"
   },
   {
    "duration": 32,
    "start_time": "2022-06-14T19:20:19.998Z"
   },
   {
    "duration": 1994,
    "start_time": "2022-06-14T19:20:20.032Z"
   },
   {
    "duration": 10,
    "start_time": "2022-06-14T19:20:22.027Z"
   },
   {
    "duration": 10,
    "start_time": "2022-06-14T19:20:22.040Z"
   },
   {
    "duration": 13,
    "start_time": "2022-06-14T19:20:22.052Z"
   },
   {
    "duration": 17,
    "start_time": "2022-06-14T19:20:22.067Z"
   },
   {
    "duration": 17,
    "start_time": "2022-06-14T19:20:22.086Z"
   },
   {
    "duration": 45,
    "start_time": "2022-06-14T19:20:22.105Z"
   },
   {
    "duration": 15,
    "start_time": "2022-06-14T19:20:22.152Z"
   },
   {
    "duration": 5,
    "start_time": "2022-06-14T19:20:22.169Z"
   },
   {
    "duration": 36,
    "start_time": "2022-06-14T19:20:22.177Z"
   },
   {
    "duration": 14,
    "start_time": "2022-06-14T19:20:22.215Z"
   },
   {
    "duration": 8,
    "start_time": "2022-06-14T19:20:22.231Z"
   },
   {
    "duration": 1657,
    "start_time": "2022-06-14T19:20:22.241Z"
   },
   {
    "duration": 9,
    "start_time": "2022-06-14T19:20:23.899Z"
   },
   {
    "duration": 20,
    "start_time": "2022-06-14T19:20:23.909Z"
   },
   {
    "duration": 18,
    "start_time": "2022-06-14T19:20:23.931Z"
   },
   {
    "duration": 12,
    "start_time": "2022-06-14T19:20:23.951Z"
   },
   {
    "duration": 8,
    "start_time": "2022-06-14T19:20:23.964Z"
   },
   {
    "duration": 2247,
    "start_time": "2022-06-14T19:20:23.974Z"
   },
   {
    "duration": 5,
    "start_time": "2022-06-14T19:20:26.225Z"
   },
   {
    "duration": 7,
    "start_time": "2022-06-14T19:20:26.232Z"
   },
   {
    "duration": 10,
    "start_time": "2022-06-14T19:20:26.241Z"
   },
   {
    "duration": 2023,
    "start_time": "2022-06-14T19:20:26.253Z"
   },
   {
    "duration": 4,
    "start_time": "2022-06-14T19:20:28.278Z"
   },
   {
    "duration": 17,
    "start_time": "2022-06-14T19:20:28.284Z"
   },
   {
    "duration": 8,
    "start_time": "2022-06-14T19:20:28.303Z"
   },
   {
    "duration": 2205,
    "start_time": "2022-06-14T19:20:28.313Z"
   },
   {
    "duration": 10,
    "start_time": "2022-06-14T19:20:30.520Z"
   },
   {
    "duration": 39,
    "start_time": "2022-06-14T19:20:30.533Z"
   },
   {
    "duration": 2270,
    "start_time": "2022-06-14T19:20:30.578Z"
   },
   {
    "duration": 7,
    "start_time": "2022-06-14T19:20:32.850Z"
   },
   {
    "duration": 10,
    "start_time": "2022-06-14T19:20:32.860Z"
   },
   {
    "duration": 21,
    "start_time": "2022-06-14T19:20:32.872Z"
   },
   {
    "duration": 35,
    "start_time": "2022-06-14T19:20:32.894Z"
   },
   {
    "duration": 2117,
    "start_time": "2022-06-14T19:20:32.931Z"
   },
   {
    "duration": 7,
    "start_time": "2022-06-14T19:20:35.049Z"
   },
   {
    "duration": 8,
    "start_time": "2022-06-14T19:20:35.057Z"
   },
   {
    "duration": 8,
    "start_time": "2022-06-14T19:20:35.066Z"
   },
   {
    "duration": 8,
    "start_time": "2022-06-14T19:20:35.076Z"
   },
   {
    "duration": 13,
    "start_time": "2022-06-14T19:20:35.086Z"
   },
   {
    "duration": 28,
    "start_time": "2022-06-14T19:20:35.100Z"
   },
   {
    "duration": 2032,
    "start_time": "2022-06-14T19:20:35.130Z"
   },
   {
    "duration": 6,
    "start_time": "2022-06-14T19:20:37.164Z"
   },
   {
    "duration": 13,
    "start_time": "2022-06-14T19:20:37.172Z"
   },
   {
    "duration": 11,
    "start_time": "2022-06-14T19:20:37.186Z"
   },
   {
    "duration": 27,
    "start_time": "2022-06-14T19:20:37.199Z"
   },
   {
    "duration": 7,
    "start_time": "2022-06-14T19:20:37.227Z"
   },
   {
    "duration": 16,
    "start_time": "2022-06-14T19:20:37.236Z"
   },
   {
    "duration": 11,
    "start_time": "2022-06-14T19:20:37.254Z"
   },
   {
    "duration": 47,
    "start_time": "2022-06-14T19:20:37.267Z"
   },
   {
    "duration": 7,
    "start_time": "2022-06-14T19:20:37.315Z"
   },
   {
    "duration": 24,
    "start_time": "2022-06-14T19:20:37.326Z"
   },
   {
    "duration": 23,
    "start_time": "2022-06-14T19:20:37.352Z"
   },
   {
    "duration": 8,
    "start_time": "2022-06-14T19:20:37.376Z"
   },
   {
    "duration": 593,
    "start_time": "2022-06-14T19:20:37.386Z"
   },
   {
    "duration": 5,
    "start_time": "2022-06-14T19:20:37.981Z"
   },
   {
    "duration": 15,
    "start_time": "2022-06-14T19:20:37.988Z"
   },
   {
    "duration": 13,
    "start_time": "2022-06-14T19:20:38.004Z"
   },
   {
    "duration": 10,
    "start_time": "2022-06-14T19:20:38.026Z"
   },
   {
    "duration": 34,
    "start_time": "2022-06-14T19:20:38.039Z"
   },
   {
    "duration": 5,
    "start_time": "2022-06-14T19:20:38.075Z"
   },
   {
    "duration": 254,
    "start_time": "2022-06-14T19:20:38.082Z"
   },
   {
    "duration": 8,
    "start_time": "2022-06-14T19:20:38.338Z"
   },
   {
    "duration": 244,
    "start_time": "2022-06-14T19:20:38.347Z"
   },
   {
    "duration": 5,
    "start_time": "2022-06-14T19:20:38.593Z"
   },
   {
    "duration": 242,
    "start_time": "2022-06-14T19:20:38.599Z"
   },
   {
    "duration": 242,
    "start_time": "2022-06-14T19:20:38.842Z"
   },
   {
    "duration": 268,
    "start_time": "2022-06-14T19:20:39.086Z"
   },
   {
    "duration": 22,
    "start_time": "2022-06-14T19:20:39.356Z"
   },
   {
    "duration": 164,
    "start_time": "2022-06-14T19:20:39.380Z"
   },
   {
    "duration": 9,
    "start_time": "2022-06-14T19:20:39.546Z"
   },
   {
    "duration": 6,
    "start_time": "2022-06-14T19:20:39.557Z"
   },
   {
    "duration": 348,
    "start_time": "2022-06-14T19:20:39.564Z"
   },
   {
    "duration": 18,
    "start_time": "2022-06-14T19:20:39.913Z"
   },
   {
    "duration": 18,
    "start_time": "2022-06-14T19:20:39.933Z"
   },
   {
    "duration": 1750,
    "start_time": "2022-06-14T19:20:39.953Z"
   },
   {
    "duration": 11,
    "start_time": "2022-06-14T19:20:41.704Z"
   },
   {
    "duration": 16,
    "start_time": "2022-06-14T19:20:41.717Z"
   },
   {
    "duration": 12,
    "start_time": "2022-06-14T19:20:41.734Z"
   },
   {
    "duration": 168,
    "start_time": "2022-06-14T19:20:41.748Z"
   },
   {
    "duration": 12,
    "start_time": "2022-06-14T19:20:41.919Z"
   },
   {
    "duration": 187,
    "start_time": "2022-06-14T19:20:41.933Z"
   },
   {
    "duration": 9,
    "start_time": "2022-06-14T19:20:42.122Z"
   },
   {
    "duration": 182,
    "start_time": "2022-06-14T19:20:42.133Z"
   },
   {
    "duration": 15,
    "start_time": "2022-06-14T19:20:42.317Z"
   },
   {
    "duration": 159,
    "start_time": "2022-06-14T19:20:42.334Z"
   },
   {
    "duration": 22,
    "start_time": "2022-06-14T19:20:42.494Z"
   },
   {
    "duration": 23,
    "start_time": "2022-06-14T19:20:42.527Z"
   },
   {
    "duration": 206,
    "start_time": "2022-06-14T19:20:42.552Z"
   },
   {
    "duration": 16,
    "start_time": "2022-06-14T19:20:42.760Z"
   },
   {
    "duration": 345,
    "start_time": "2022-06-14T19:20:42.778Z"
   },
   {
    "duration": 36,
    "start_time": "2022-06-14T19:22:11.582Z"
   },
   {
    "duration": 29,
    "start_time": "2022-06-14T19:22:27.652Z"
   },
   {
    "duration": 36,
    "start_time": "2022-06-14T19:22:45.188Z"
   },
   {
    "duration": 289,
    "start_time": "2022-06-14T19:23:06.226Z"
   },
   {
    "duration": 37,
    "start_time": "2022-06-14T19:23:55.746Z"
   },
   {
    "duration": 38,
    "start_time": "2022-06-14T19:24:41.794Z"
   },
   {
    "duration": 14,
    "start_time": "2022-06-14T19:27:14.311Z"
   },
   {
    "duration": 13,
    "start_time": "2022-06-14T19:27:22.183Z"
   },
   {
    "duration": 9,
    "start_time": "2022-06-14T19:27:27.513Z"
   },
   {
    "duration": 10,
    "start_time": "2022-06-14T19:27:50.753Z"
   },
   {
    "duration": 15,
    "start_time": "2022-06-14T19:28:18.843Z"
   },
   {
    "duration": 11,
    "start_time": "2022-06-14T19:28:26.525Z"
   },
   {
    "duration": 10,
    "start_time": "2022-06-14T19:31:40.319Z"
   },
   {
    "duration": 9,
    "start_time": "2022-06-14T19:31:46.905Z"
   },
   {
    "duration": 10,
    "start_time": "2022-06-14T19:32:32.071Z"
   },
   {
    "duration": 139,
    "start_time": "2022-06-14T19:33:44.875Z"
   },
   {
    "duration": 18,
    "start_time": "2022-06-14T19:35:00.471Z"
   },
   {
    "duration": 38,
    "start_time": "2022-06-14T19:35:14.277Z"
   },
   {
    "duration": 16,
    "start_time": "2022-06-14T19:35:25.751Z"
   },
   {
    "duration": 42,
    "start_time": "2022-06-14T19:35:35.971Z"
   },
   {
    "duration": 184,
    "start_time": "2022-06-14T19:35:44.534Z"
   },
   {
    "duration": 8,
    "start_time": "2022-06-14T19:35:48.091Z"
   },
   {
    "duration": 37,
    "start_time": "2022-06-14T19:36:09.157Z"
   },
   {
    "duration": 13,
    "start_time": "2022-06-14T19:36:15.988Z"
   },
   {
    "duration": 45,
    "start_time": "2022-06-14T19:36:30.718Z"
   },
   {
    "duration": 20,
    "start_time": "2022-06-14T19:36:50.793Z"
   },
   {
    "duration": 38,
    "start_time": "2022-06-14T19:37:01.221Z"
   },
   {
    "duration": 7,
    "start_time": "2022-06-14T19:37:07.708Z"
   },
   {
    "duration": 5,
    "start_time": "2022-06-14T19:37:59.044Z"
   },
   {
    "duration": 9,
    "start_time": "2022-06-14T19:38:30.900Z"
   },
   {
    "duration": 9,
    "start_time": "2022-06-14T19:49:49.513Z"
   },
   {
    "duration": 9,
    "start_time": "2022-06-14T19:50:26.787Z"
   },
   {
    "duration": 9,
    "start_time": "2022-06-14T19:53:02.072Z"
   },
   {
    "duration": 24,
    "start_time": "2022-06-14T19:54:27.383Z"
   },
   {
    "duration": 19,
    "start_time": "2022-06-14T19:54:45.827Z"
   },
   {
    "duration": 22,
    "start_time": "2022-06-14T19:54:50.982Z"
   },
   {
    "duration": 17,
    "start_time": "2022-06-14T20:00:24.938Z"
   },
   {
    "duration": 20,
    "start_time": "2022-06-14T20:01:01.755Z"
   },
   {
    "duration": 13,
    "start_time": "2022-06-14T20:02:45.773Z"
   },
   {
    "duration": 333,
    "start_time": "2022-06-14T20:03:09.522Z"
   },
   {
    "duration": 15,
    "start_time": "2022-06-14T20:03:41.975Z"
   },
   {
    "duration": 40,
    "start_time": "2022-06-14T20:04:06.223Z"
   },
   {
    "duration": 18,
    "start_time": "2022-06-14T20:04:45.822Z"
   },
   {
    "duration": 19,
    "start_time": "2022-06-14T20:04:59.269Z"
   },
   {
    "duration": 17,
    "start_time": "2022-06-14T20:05:05.455Z"
   },
   {
    "duration": 15,
    "start_time": "2022-06-14T20:05:11.194Z"
   },
   {
    "duration": 42,
    "start_time": "2022-06-14T20:05:16.693Z"
   },
   {
    "duration": 141,
    "start_time": "2022-06-14T20:05:28.940Z"
   },
   {
    "duration": 457,
    "start_time": "2022-06-14T20:06:29.406Z"
   },
   {
    "duration": 14,
    "start_time": "2022-06-14T20:07:10.502Z"
   },
   {
    "duration": 132,
    "start_time": "2022-06-14T20:07:20.231Z"
   },
   {
    "duration": 60,
    "start_time": "2022-06-14T20:11:59.060Z"
   },
   {
    "duration": 27,
    "start_time": "2022-06-14T20:12:05.991Z"
   },
   {
    "duration": 8,
    "start_time": "2022-06-14T20:13:08.665Z"
   },
   {
    "duration": 5,
    "start_time": "2022-06-14T20:13:19.592Z"
   },
   {
    "duration": 6,
    "start_time": "2022-06-14T20:14:20.529Z"
   },
   {
    "duration": 27,
    "start_time": "2022-06-14T20:14:53.533Z"
   },
   {
    "duration": 82,
    "start_time": "2022-06-14T20:15:02.301Z"
   },
   {
    "duration": 8,
    "start_time": "2022-06-14T20:15:09.237Z"
   },
   {
    "duration": 11,
    "start_time": "2022-06-14T20:15:39.802Z"
   },
   {
    "duration": 13,
    "start_time": "2022-06-14T20:15:59.461Z"
   },
   {
    "duration": 14,
    "start_time": "2022-06-14T20:16:22.403Z"
   },
   {
    "duration": 19,
    "start_time": "2022-06-14T20:17:11.191Z"
   },
   {
    "duration": 9,
    "start_time": "2022-06-14T20:17:22.956Z"
   },
   {
    "duration": 9,
    "start_time": "2022-06-14T20:17:41.999Z"
   },
   {
    "duration": 10,
    "start_time": "2022-06-14T20:18:04.880Z"
   },
   {
    "duration": 10,
    "start_time": "2022-06-14T20:18:13.724Z"
   },
   {
    "duration": 9,
    "start_time": "2022-06-14T20:18:44.043Z"
   },
   {
    "duration": 12,
    "start_time": "2022-06-14T20:19:15.374Z"
   },
   {
    "duration": 43,
    "start_time": "2022-06-14T20:22:29.155Z"
   },
   {
    "duration": 12,
    "start_time": "2022-06-14T20:22:31.964Z"
   },
   {
    "duration": 11,
    "start_time": "2022-06-14T20:22:34.834Z"
   },
   {
    "duration": 9,
    "start_time": "2022-06-14T20:22:37.485Z"
   },
   {
    "duration": 10,
    "start_time": "2022-06-14T20:22:39.994Z"
   },
   {
    "duration": 10,
    "start_time": "2022-06-14T20:22:55.011Z"
   },
   {
    "duration": 8,
    "start_time": "2022-06-14T20:24:12.076Z"
   },
   {
    "duration": 7,
    "start_time": "2022-06-14T20:24:16.374Z"
   },
   {
    "duration": 162,
    "start_time": "2022-06-14T20:24:59.909Z"
   },
   {
    "duration": 9,
    "start_time": "2022-06-14T20:27:12.120Z"
   },
   {
    "duration": 10,
    "start_time": "2022-06-14T20:27:26.835Z"
   },
   {
    "duration": 201,
    "start_time": "2022-06-14T20:27:47.776Z"
   },
   {
    "duration": 9,
    "start_time": "2022-06-14T20:31:17.589Z"
   },
   {
    "duration": 215,
    "start_time": "2022-06-14T20:31:40.923Z"
   },
   {
    "duration": 134,
    "start_time": "2022-06-14T20:38:39.118Z"
   },
   {
    "duration": 29,
    "start_time": "2022-06-14T20:38:39.255Z"
   },
   {
    "duration": 44,
    "start_time": "2022-06-14T20:38:39.286Z"
   },
   {
    "duration": 42,
    "start_time": "2022-06-14T20:38:39.333Z"
   },
   {
    "duration": 50,
    "start_time": "2022-06-14T20:38:39.377Z"
   },
   {
    "duration": 11,
    "start_time": "2022-06-14T20:38:39.429Z"
   },
   {
    "duration": 43,
    "start_time": "2022-06-14T20:38:39.442Z"
   },
   {
    "duration": 97,
    "start_time": "2022-06-14T20:38:39.487Z"
   },
   {
    "duration": 52,
    "start_time": "2022-06-14T20:38:39.586Z"
   },
   {
    "duration": 20,
    "start_time": "2022-06-14T20:38:39.642Z"
   },
   {
    "duration": 14,
    "start_time": "2022-06-14T20:38:39.665Z"
   },
   {
    "duration": 2107,
    "start_time": "2022-06-14T20:38:39.681Z"
   },
   {
    "duration": 12,
    "start_time": "2022-06-14T20:38:41.790Z"
   },
   {
    "duration": 22,
    "start_time": "2022-06-14T20:38:41.804Z"
   },
   {
    "duration": 10,
    "start_time": "2022-06-14T20:38:41.828Z"
   },
   {
    "duration": 11,
    "start_time": "2022-06-14T20:38:41.840Z"
   },
   {
    "duration": 16,
    "start_time": "2022-06-14T20:38:41.854Z"
   },
   {
    "duration": 17,
    "start_time": "2022-06-14T20:38:41.871Z"
   },
   {
    "duration": 16,
    "start_time": "2022-06-14T20:38:41.890Z"
   },
   {
    "duration": 6,
    "start_time": "2022-06-14T20:38:41.926Z"
   },
   {
    "duration": 52,
    "start_time": "2022-06-14T20:38:41.935Z"
   },
   {
    "duration": 7,
    "start_time": "2022-06-14T20:38:41.989Z"
   },
   {
    "duration": 22,
    "start_time": "2022-06-14T20:38:41.997Z"
   },
   {
    "duration": 1491,
    "start_time": "2022-06-14T20:38:42.020Z"
   },
   {
    "duration": 16,
    "start_time": "2022-06-14T20:38:43.513Z"
   },
   {
    "duration": 5,
    "start_time": "2022-06-14T20:38:43.530Z"
   },
   {
    "duration": 19,
    "start_time": "2022-06-14T20:38:43.536Z"
   },
   {
    "duration": 13,
    "start_time": "2022-06-14T20:38:43.559Z"
   },
   {
    "duration": 8,
    "start_time": "2022-06-14T20:38:43.574Z"
   },
   {
    "duration": 2073,
    "start_time": "2022-06-14T20:38:43.583Z"
   },
   {
    "duration": 5,
    "start_time": "2022-06-14T20:38:45.658Z"
   },
   {
    "duration": 9,
    "start_time": "2022-06-14T20:38:45.665Z"
   },
   {
    "duration": 10,
    "start_time": "2022-06-14T20:38:45.675Z"
   },
   {
    "duration": 1958,
    "start_time": "2022-06-14T20:38:45.687Z"
   },
   {
    "duration": 5,
    "start_time": "2022-06-14T20:38:47.647Z"
   },
   {
    "duration": 9,
    "start_time": "2022-06-14T20:38:47.653Z"
   },
   {
    "duration": 21,
    "start_time": "2022-06-14T20:38:47.663Z"
   },
   {
    "duration": 2121,
    "start_time": "2022-06-14T20:38:47.686Z"
   },
   {
    "duration": 18,
    "start_time": "2022-06-14T20:38:49.809Z"
   },
   {
    "duration": 12,
    "start_time": "2022-06-14T20:38:49.830Z"
   },
   {
    "duration": 2156,
    "start_time": "2022-06-14T20:38:49.844Z"
   },
   {
    "duration": 5,
    "start_time": "2022-06-14T20:38:52.001Z"
   },
   {
    "duration": 20,
    "start_time": "2022-06-14T20:38:52.007Z"
   },
   {
    "duration": 15,
    "start_time": "2022-06-14T20:38:52.028Z"
   },
   {
    "duration": 8,
    "start_time": "2022-06-14T20:38:52.045Z"
   },
   {
    "duration": 2023,
    "start_time": "2022-06-14T20:38:52.054Z"
   },
   {
    "duration": 7,
    "start_time": "2022-06-14T20:38:54.079Z"
   },
   {
    "duration": 10,
    "start_time": "2022-06-14T20:38:54.087Z"
   },
   {
    "duration": 7,
    "start_time": "2022-06-14T20:38:54.098Z"
   },
   {
    "duration": 21,
    "start_time": "2022-06-14T20:38:54.106Z"
   },
   {
    "duration": 7,
    "start_time": "2022-06-14T20:38:54.128Z"
   },
   {
    "duration": 8,
    "start_time": "2022-06-14T20:38:54.136Z"
   },
   {
    "duration": 1981,
    "start_time": "2022-06-14T20:38:54.146Z"
   },
   {
    "duration": 6,
    "start_time": "2022-06-14T20:38:56.129Z"
   },
   {
    "duration": 6,
    "start_time": "2022-06-14T20:38:56.137Z"
   },
   {
    "duration": 11,
    "start_time": "2022-06-14T20:38:56.145Z"
   },
   {
    "duration": 19,
    "start_time": "2022-06-14T20:38:56.157Z"
   },
   {
    "duration": 19,
    "start_time": "2022-06-14T20:38:56.178Z"
   },
   {
    "duration": 21,
    "start_time": "2022-06-14T20:38:56.198Z"
   },
   {
    "duration": 15,
    "start_time": "2022-06-14T20:38:56.221Z"
   },
   {
    "duration": 25,
    "start_time": "2022-06-14T20:38:56.238Z"
   },
   {
    "duration": 6,
    "start_time": "2022-06-14T20:38:56.265Z"
   },
   {
    "duration": 20,
    "start_time": "2022-06-14T20:38:56.272Z"
   },
   {
    "duration": 40,
    "start_time": "2022-06-14T20:38:56.294Z"
   },
   {
    "duration": 7,
    "start_time": "2022-06-14T20:38:56.336Z"
   },
   {
    "duration": 326,
    "start_time": "2022-06-14T20:38:56.344Z"
   },
   {
    "duration": 5,
    "start_time": "2022-06-14T20:38:56.671Z"
   },
   {
    "duration": 16,
    "start_time": "2022-06-14T20:38:56.678Z"
   },
   {
    "duration": 6,
    "start_time": "2022-06-14T20:38:56.696Z"
   },
   {
    "duration": 24,
    "start_time": "2022-06-14T20:38:56.704Z"
   },
   {
    "duration": 26,
    "start_time": "2022-06-14T20:38:56.730Z"
   },
   {
    "duration": 5,
    "start_time": "2022-06-14T20:38:56.757Z"
   },
   {
    "duration": 239,
    "start_time": "2022-06-14T20:38:56.763Z"
   },
   {
    "duration": 5,
    "start_time": "2022-06-14T20:38:57.003Z"
   },
   {
    "duration": 237,
    "start_time": "2022-06-14T20:38:57.010Z"
   },
   {
    "duration": 4,
    "start_time": "2022-06-14T20:38:57.249Z"
   },
   {
    "duration": 250,
    "start_time": "2022-06-14T20:38:57.255Z"
   },
   {
    "duration": 239,
    "start_time": "2022-06-14T20:38:57.507Z"
   },
   {
    "duration": 239,
    "start_time": "2022-06-14T20:38:57.748Z"
   },
   {
    "duration": 40,
    "start_time": "2022-06-14T20:38:57.989Z"
   },
   {
    "duration": 223,
    "start_time": "2022-06-14T20:38:58.031Z"
   },
   {
    "duration": 12,
    "start_time": "2022-06-14T20:38:58.262Z"
   },
   {
    "duration": 6,
    "start_time": "2022-06-14T20:38:58.276Z"
   },
   {
    "duration": 430,
    "start_time": "2022-06-14T20:38:58.284Z"
   },
   {
    "duration": 15,
    "start_time": "2022-06-14T20:38:58.716Z"
   },
   {
    "duration": 13,
    "start_time": "2022-06-14T20:38:58.733Z"
   },
   {
    "duration": 1747,
    "start_time": "2022-06-14T20:38:58.748Z"
   },
   {
    "duration": 12,
    "start_time": "2022-06-14T20:39:00.498Z"
   },
   {
    "duration": 33,
    "start_time": "2022-06-14T20:39:00.526Z"
   },
   {
    "duration": 30,
    "start_time": "2022-06-14T20:39:00.561Z"
   },
   {
    "duration": 439,
    "start_time": "2022-06-14T20:39:00.593Z"
   },
   {
    "duration": 9,
    "start_time": "2022-06-14T20:39:01.033Z"
   },
   {
    "duration": 204,
    "start_time": "2022-06-14T20:39:01.044Z"
   },
   {
    "duration": 8,
    "start_time": "2022-06-14T20:39:01.250Z"
   },
   {
    "duration": 185,
    "start_time": "2022-06-14T20:39:01.259Z"
   },
   {
    "duration": 10,
    "start_time": "2022-06-14T20:39:01.446Z"
   },
   {
    "duration": 240,
    "start_time": "2022-06-14T20:39:01.458Z"
   },
   {
    "duration": 34,
    "start_time": "2022-06-14T20:39:01.700Z"
   },
   {
    "duration": 20,
    "start_time": "2022-06-14T20:39:01.736Z"
   },
   {
    "duration": 261,
    "start_time": "2022-06-14T20:39:01.759Z"
   },
   {
    "duration": 13,
    "start_time": "2022-06-14T20:39:02.025Z"
   },
   {
    "duration": 145,
    "start_time": "2022-06-14T20:39:02.041Z"
   },
   {
    "duration": 21,
    "start_time": "2022-06-14T20:39:02.188Z"
   },
   {
    "duration": 18,
    "start_time": "2022-06-14T20:39:02.211Z"
   },
   {
    "duration": 165,
    "start_time": "2022-06-14T20:39:02.230Z"
   },
   {
    "duration": 45,
    "start_time": "2022-06-14T20:39:02.398Z"
   },
   {
    "duration": 10,
    "start_time": "2022-06-14T20:39:02.445Z"
   },
   {
    "duration": 21,
    "start_time": "2022-06-14T20:39:02.457Z"
   },
   {
    "duration": 23,
    "start_time": "2022-06-14T20:39:02.480Z"
   },
   {
    "duration": 26,
    "start_time": "2022-06-14T20:39:02.505Z"
   },
   {
    "duration": 30,
    "start_time": "2022-06-14T20:39:02.533Z"
   },
   {
    "duration": 48,
    "start_time": "2022-06-14T20:39:02.565Z"
   },
   {
    "duration": 153,
    "start_time": "2022-06-14T20:39:02.615Z"
   },
   {
    "duration": 8,
    "start_time": "2022-06-14T20:39:02.771Z"
   },
   {
    "duration": 173,
    "start_time": "2022-06-14T20:39:02.781Z"
   },
   {
    "duration": 7,
    "start_time": "2022-06-14T20:39:02.956Z"
   },
   {
    "duration": 153,
    "start_time": "2022-06-14T20:39:02.964Z"
   },
   {
    "duration": 56,
    "start_time": "2022-06-15T14:22:21.042Z"
   },
   {
    "duration": 556,
    "start_time": "2022-06-15T14:22:35.895Z"
   },
   {
    "duration": 21,
    "start_time": "2022-06-15T14:22:36.453Z"
   },
   {
    "duration": 20,
    "start_time": "2022-06-15T14:22:36.475Z"
   },
   {
    "duration": 19,
    "start_time": "2022-06-15T14:22:36.497Z"
   },
   {
    "duration": 19,
    "start_time": "2022-06-15T14:22:36.517Z"
   },
   {
    "duration": 8,
    "start_time": "2022-06-15T14:22:36.537Z"
   },
   {
    "duration": 12,
    "start_time": "2022-06-15T14:22:36.546Z"
   },
   {
    "duration": 38,
    "start_time": "2022-06-15T14:22:36.560Z"
   },
   {
    "duration": 16,
    "start_time": "2022-06-15T14:22:36.599Z"
   },
   {
    "duration": 12,
    "start_time": "2022-06-15T14:22:36.619Z"
   },
   {
    "duration": 4,
    "start_time": "2022-06-15T14:22:36.633Z"
   },
   {
    "duration": 1756,
    "start_time": "2022-06-15T14:22:36.639Z"
   },
   {
    "duration": 9,
    "start_time": "2022-06-15T14:22:38.396Z"
   },
   {
    "duration": 4,
    "start_time": "2022-06-15T14:22:38.406Z"
   },
   {
    "duration": 7,
    "start_time": "2022-06-15T14:22:38.412Z"
   },
   {
    "duration": 5,
    "start_time": "2022-06-15T14:22:38.421Z"
   },
   {
    "duration": 7,
    "start_time": "2022-06-15T14:22:38.428Z"
   },
   {
    "duration": 9,
    "start_time": "2022-06-15T14:22:38.437Z"
   },
   {
    "duration": 51,
    "start_time": "2022-06-15T14:22:38.448Z"
   },
   {
    "duration": 5,
    "start_time": "2022-06-15T14:22:38.501Z"
   },
   {
    "duration": 20,
    "start_time": "2022-06-15T14:22:38.508Z"
   },
   {
    "duration": 4,
    "start_time": "2022-06-15T14:22:38.530Z"
   },
   {
    "duration": 12,
    "start_time": "2022-06-15T14:22:38.535Z"
   },
   {
    "duration": 1249,
    "start_time": "2022-06-15T14:22:38.549Z"
   },
   {
    "duration": 7,
    "start_time": "2022-06-15T14:22:39.800Z"
   },
   {
    "duration": 9,
    "start_time": "2022-06-15T14:22:39.808Z"
   },
   {
    "duration": 14,
    "start_time": "2022-06-15T14:22:39.818Z"
   },
   {
    "duration": 10,
    "start_time": "2022-06-15T14:22:39.835Z"
   },
   {
    "duration": 6,
    "start_time": "2022-06-15T14:22:39.847Z"
   },
   {
    "duration": 1653,
    "start_time": "2022-06-15T14:22:39.854Z"
   },
   {
    "duration": 4,
    "start_time": "2022-06-15T14:22:41.508Z"
   },
   {
    "duration": 7,
    "start_time": "2022-06-15T14:22:41.513Z"
   },
   {
    "duration": 6,
    "start_time": "2022-06-15T14:22:41.521Z"
   },
   {
    "duration": 1629,
    "start_time": "2022-06-15T14:22:41.529Z"
   },
   {
    "duration": 4,
    "start_time": "2022-06-15T14:22:43.159Z"
   },
   {
    "duration": 8,
    "start_time": "2022-06-15T14:22:43.164Z"
   },
   {
    "duration": 7,
    "start_time": "2022-06-15T14:22:43.173Z"
   },
   {
    "duration": 1636,
    "start_time": "2022-06-15T14:22:43.181Z"
   },
   {
    "duration": 6,
    "start_time": "2022-06-15T14:22:44.818Z"
   },
   {
    "duration": 11,
    "start_time": "2022-06-15T14:22:44.826Z"
   },
   {
    "duration": 1586,
    "start_time": "2022-06-15T14:22:44.839Z"
   },
   {
    "duration": 4,
    "start_time": "2022-06-15T14:22:46.426Z"
   },
   {
    "duration": 6,
    "start_time": "2022-06-15T14:22:46.431Z"
   },
   {
    "duration": 10,
    "start_time": "2022-06-15T14:22:46.439Z"
   },
   {
    "duration": 8,
    "start_time": "2022-06-15T14:22:46.451Z"
   },
   {
    "duration": 1680,
    "start_time": "2022-06-15T14:22:46.461Z"
   },
   {
    "duration": 6,
    "start_time": "2022-06-15T14:22:48.142Z"
   },
   {
    "duration": 4,
    "start_time": "2022-06-15T14:22:48.150Z"
   },
   {
    "duration": 7,
    "start_time": "2022-06-15T14:22:48.156Z"
   },
   {
    "duration": 6,
    "start_time": "2022-06-15T14:22:48.165Z"
   },
   {
    "duration": 6,
    "start_time": "2022-06-15T14:22:48.195Z"
   },
   {
    "duration": 6,
    "start_time": "2022-06-15T14:22:48.202Z"
   },
   {
    "duration": 1608,
    "start_time": "2022-06-15T14:22:48.209Z"
   },
   {
    "duration": 6,
    "start_time": "2022-06-15T14:22:49.819Z"
   },
   {
    "duration": 4,
    "start_time": "2022-06-15T14:22:49.826Z"
   },
   {
    "duration": 6,
    "start_time": "2022-06-15T14:22:49.831Z"
   },
   {
    "duration": 6,
    "start_time": "2022-06-15T14:22:49.838Z"
   },
   {
    "duration": 9,
    "start_time": "2022-06-15T14:22:49.846Z"
   },
   {
    "duration": 9,
    "start_time": "2022-06-15T14:22:49.857Z"
   },
   {
    "duration": 10,
    "start_time": "2022-06-15T14:22:49.894Z"
   },
   {
    "duration": 27,
    "start_time": "2022-06-15T14:22:49.905Z"
   },
   {
    "duration": 5,
    "start_time": "2022-06-15T14:22:49.933Z"
   },
   {
    "duration": 7,
    "start_time": "2022-06-15T14:22:49.940Z"
   },
   {
    "duration": 14,
    "start_time": "2022-06-15T14:22:49.948Z"
   },
   {
    "duration": 39,
    "start_time": "2022-06-15T14:22:49.963Z"
   },
   {
    "duration": 6,
    "start_time": "2022-06-15T14:22:50.004Z"
   },
   {
    "duration": 347,
    "start_time": "2022-06-15T14:22:50.012Z"
   },
   {
    "duration": 5,
    "start_time": "2022-06-15T14:22:50.360Z"
   },
   {
    "duration": 10,
    "start_time": "2022-06-15T14:22:50.367Z"
   },
   {
    "duration": 20,
    "start_time": "2022-06-15T14:22:50.379Z"
   },
   {
    "duration": 6,
    "start_time": "2022-06-15T14:22:50.401Z"
   },
   {
    "duration": 22,
    "start_time": "2022-06-15T14:22:50.408Z"
   },
   {
    "duration": 4,
    "start_time": "2022-06-15T14:22:50.432Z"
   },
   {
    "duration": 554,
    "start_time": "2022-06-15T14:22:50.437Z"
   },
   {
    "duration": 5,
    "start_time": "2022-06-15T14:22:50.994Z"
   },
   {
    "duration": 213,
    "start_time": "2022-06-15T14:22:51.000Z"
   },
   {
    "duration": 4,
    "start_time": "2022-06-15T14:22:51.215Z"
   },
   {
    "duration": 207,
    "start_time": "2022-06-15T14:22:51.220Z"
   },
   {
    "duration": 198,
    "start_time": "2022-06-15T14:22:51.429Z"
   },
   {
    "duration": 217,
    "start_time": "2022-06-15T14:22:51.628Z"
   },
   {
    "duration": 17,
    "start_time": "2022-06-15T14:22:51.847Z"
   },
   {
    "duration": 154,
    "start_time": "2022-06-15T14:22:51.871Z"
   },
   {
    "duration": 9,
    "start_time": "2022-06-15T14:22:52.027Z"
   },
   {
    "duration": 7,
    "start_time": "2022-06-15T14:22:52.038Z"
   },
   {
    "duration": 364,
    "start_time": "2022-06-15T14:22:52.047Z"
   },
   {
    "duration": 7,
    "start_time": "2022-06-15T14:22:52.412Z"
   },
   {
    "duration": 10,
    "start_time": "2022-06-15T14:22:52.421Z"
   },
   {
    "duration": 1783,
    "start_time": "2022-06-15T14:22:52.433Z"
   },
   {
    "duration": 11,
    "start_time": "2022-06-15T14:22:54.218Z"
   },
   {
    "duration": 19,
    "start_time": "2022-06-15T14:22:54.231Z"
   },
   {
    "duration": 18,
    "start_time": "2022-06-15T14:22:54.252Z"
   },
   {
    "duration": 128,
    "start_time": "2022-06-15T14:22:54.272Z"
   },
   {
    "duration": 8,
    "start_time": "2022-06-15T14:22:54.401Z"
   },
   {
    "duration": 167,
    "start_time": "2022-06-15T14:22:54.411Z"
   },
   {
    "duration": 14,
    "start_time": "2022-06-15T14:22:54.581Z"
   },
   {
    "duration": 150,
    "start_time": "2022-06-15T14:22:54.597Z"
   },
   {
    "duration": 7,
    "start_time": "2022-06-15T14:22:54.749Z"
   },
   {
    "duration": 157,
    "start_time": "2022-06-15T14:22:54.757Z"
   },
   {
    "duration": 21,
    "start_time": "2022-06-15T14:22:54.915Z"
   },
   {
    "duration": 8,
    "start_time": "2022-06-15T14:22:54.937Z"
   },
   {
    "duration": 276,
    "start_time": "2022-06-15T14:22:54.946Z"
   },
   {
    "duration": 7,
    "start_time": "2022-06-15T14:22:55.224Z"
   },
   {
    "duration": 43,
    "start_time": "2022-06-15T14:22:55.233Z"
   },
   {
    "duration": 22,
    "start_time": "2022-06-15T14:22:55.278Z"
   },
   {
    "duration": 16,
    "start_time": "2022-06-15T14:22:55.302Z"
   },
   {
    "duration": 154,
    "start_time": "2022-06-15T14:22:55.319Z"
   },
   {
    "duration": 34,
    "start_time": "2022-06-15T14:22:55.475Z"
   },
   {
    "duration": 8,
    "start_time": "2022-06-15T14:22:55.510Z"
   },
   {
    "duration": 8,
    "start_time": "2022-06-15T14:22:55.519Z"
   },
   {
    "duration": 7,
    "start_time": "2022-06-15T14:22:55.529Z"
   },
   {
    "duration": 8,
    "start_time": "2022-06-15T14:22:55.538Z"
   },
   {
    "duration": 10,
    "start_time": "2022-06-15T14:22:55.547Z"
   },
   {
    "duration": 7,
    "start_time": "2022-06-15T14:22:55.594Z"
   },
   {
    "duration": 137,
    "start_time": "2022-06-15T14:22:55.603Z"
   },
   {
    "duration": 6,
    "start_time": "2022-06-15T14:22:55.742Z"
   },
   {
    "duration": 147,
    "start_time": "2022-06-15T14:22:55.749Z"
   },
   {
    "duration": 6,
    "start_time": "2022-06-15T14:22:55.898Z"
   },
   {
    "duration": 128,
    "start_time": "2022-06-15T14:22:55.906Z"
   },
   {
    "duration": 6,
    "start_time": "2022-06-15T14:23:27.925Z"
   },
   {
    "duration": 41,
    "start_time": "2022-06-15T14:27:41.871Z"
   },
   {
    "duration": 15,
    "start_time": "2022-06-15T14:27:54.960Z"
   },
   {
    "duration": 13,
    "start_time": "2022-06-15T14:28:03.193Z"
   },
   {
    "duration": 18,
    "start_time": "2022-06-15T14:28:19.340Z"
   },
   {
    "duration": 47,
    "start_time": "2022-06-15T14:29:18.030Z"
   },
   {
    "duration": 42,
    "start_time": "2022-06-15T14:29:22.836Z"
   },
   {
    "duration": 9,
    "start_time": "2022-06-15T14:30:14.883Z"
   },
   {
    "duration": 1120,
    "start_time": "2022-06-15T14:30:29.896Z"
   },
   {
    "duration": 53,
    "start_time": "2022-06-15T14:30:49.556Z"
   },
   {
    "duration": 18,
    "start_time": "2022-06-15T14:30:57.184Z"
   },
   {
    "duration": 52,
    "start_time": "2022-06-15T14:31:02.221Z"
   },
   {
    "duration": 24,
    "start_time": "2022-06-15T14:31:40.479Z"
   },
   {
    "duration": 16,
    "start_time": "2022-06-15T14:31:45.037Z"
   },
   {
    "duration": 15,
    "start_time": "2022-06-15T14:32:02.181Z"
   },
   {
    "duration": 72,
    "start_time": "2022-06-15T16:24:08.901Z"
   },
   {
    "duration": 723,
    "start_time": "2022-06-15T16:24:13.978Z"
   },
   {
    "duration": 35,
    "start_time": "2022-06-15T16:24:14.702Z"
   },
   {
    "duration": 18,
    "start_time": "2022-06-15T16:24:14.739Z"
   },
   {
    "duration": 35,
    "start_time": "2022-06-15T16:24:14.759Z"
   },
   {
    "duration": 27,
    "start_time": "2022-06-15T16:24:14.796Z"
   },
   {
    "duration": 9,
    "start_time": "2022-06-15T16:24:14.825Z"
   },
   {
    "duration": 9,
    "start_time": "2022-06-15T16:24:14.835Z"
   },
   {
    "duration": 39,
    "start_time": "2022-06-15T16:24:14.846Z"
   },
   {
    "duration": 23,
    "start_time": "2022-06-15T16:24:14.886Z"
   },
   {
    "duration": 7,
    "start_time": "2022-06-15T16:24:14.913Z"
   },
   {
    "duration": 7,
    "start_time": "2022-06-15T16:24:14.922Z"
   },
   {
    "duration": 2077,
    "start_time": "2022-06-15T16:24:14.931Z"
   },
   {
    "duration": 10,
    "start_time": "2022-06-15T16:24:17.009Z"
   },
   {
    "duration": 7,
    "start_time": "2022-06-15T16:24:17.020Z"
   },
   {
    "duration": 10,
    "start_time": "2022-06-15T16:24:17.028Z"
   },
   {
    "duration": 8,
    "start_time": "2022-06-15T16:24:17.040Z"
   },
   {
    "duration": 36,
    "start_time": "2022-06-15T16:24:17.050Z"
   },
   {
    "duration": 25,
    "start_time": "2022-06-15T16:24:17.088Z"
   },
   {
    "duration": 21,
    "start_time": "2022-06-15T16:24:17.115Z"
   },
   {
    "duration": 7,
    "start_time": "2022-06-15T16:24:17.138Z"
   },
   {
    "duration": 21,
    "start_time": "2022-06-15T16:24:17.146Z"
   },
   {
    "duration": 10,
    "start_time": "2022-06-15T16:24:17.184Z"
   },
   {
    "duration": 29,
    "start_time": "2022-06-15T16:24:17.196Z"
   },
   {
    "duration": 1521,
    "start_time": "2022-06-15T16:24:17.226Z"
   },
   {
    "duration": 8,
    "start_time": "2022-06-15T16:24:18.748Z"
   },
   {
    "duration": 10,
    "start_time": "2022-06-15T16:24:18.757Z"
   },
   {
    "duration": 33,
    "start_time": "2022-06-15T16:24:18.779Z"
   },
   {
    "duration": 11,
    "start_time": "2022-06-15T16:24:18.816Z"
   },
   {
    "duration": 7,
    "start_time": "2022-06-15T16:24:18.828Z"
   },
   {
    "duration": 1797,
    "start_time": "2022-06-15T16:24:18.836Z"
   },
   {
    "duration": 6,
    "start_time": "2022-06-15T16:24:20.635Z"
   },
   {
    "duration": 14,
    "start_time": "2022-06-15T16:24:20.642Z"
   },
   {
    "duration": 25,
    "start_time": "2022-06-15T16:24:20.657Z"
   },
   {
    "duration": 1981,
    "start_time": "2022-06-15T16:24:20.684Z"
   },
   {
    "duration": 19,
    "start_time": "2022-06-15T16:24:22.667Z"
   },
   {
    "duration": 25,
    "start_time": "2022-06-15T16:24:22.692Z"
   },
   {
    "duration": 15,
    "start_time": "2022-06-15T16:24:22.719Z"
   },
   {
    "duration": 2185,
    "start_time": "2022-06-15T16:24:22.736Z"
   },
   {
    "duration": 7,
    "start_time": "2022-06-15T16:24:24.922Z"
   },
   {
    "duration": 9,
    "start_time": "2022-06-15T16:24:24.930Z"
   },
   {
    "duration": 1954,
    "start_time": "2022-06-15T16:24:24.941Z"
   },
   {
    "duration": 8,
    "start_time": "2022-06-15T16:24:26.907Z"
   },
   {
    "duration": 28,
    "start_time": "2022-06-15T16:24:26.917Z"
   },
   {
    "duration": 22,
    "start_time": "2022-06-15T16:24:26.946Z"
   },
   {
    "duration": 16,
    "start_time": "2022-06-15T16:24:26.970Z"
   },
   {
    "duration": 2151,
    "start_time": "2022-06-15T16:24:26.989Z"
   },
   {
    "duration": 6,
    "start_time": "2022-06-15T16:24:29.142Z"
   },
   {
    "duration": 10,
    "start_time": "2022-06-15T16:24:29.150Z"
   },
   {
    "duration": 20,
    "start_time": "2022-06-15T16:24:29.161Z"
   },
   {
    "duration": 39,
    "start_time": "2022-06-15T16:24:29.183Z"
   },
   {
    "duration": 12,
    "start_time": "2022-06-15T16:24:29.224Z"
   },
   {
    "duration": 15,
    "start_time": "2022-06-15T16:24:29.237Z"
   },
   {
    "duration": 1971,
    "start_time": "2022-06-15T16:24:29.253Z"
   },
   {
    "duration": 5,
    "start_time": "2022-06-15T16:24:31.225Z"
   },
   {
    "duration": 12,
    "start_time": "2022-06-15T16:24:31.232Z"
   },
   {
    "duration": 9,
    "start_time": "2022-06-15T16:24:31.245Z"
   },
   {
    "duration": 14,
    "start_time": "2022-06-15T16:24:31.256Z"
   },
   {
    "duration": 14,
    "start_time": "2022-06-15T16:24:31.272Z"
   },
   {
    "duration": 21,
    "start_time": "2022-06-15T16:24:31.287Z"
   },
   {
    "duration": 19,
    "start_time": "2022-06-15T16:24:31.310Z"
   },
   {
    "duration": 42,
    "start_time": "2022-06-15T16:24:31.331Z"
   },
   {
    "duration": 47,
    "start_time": "2022-06-15T16:24:31.375Z"
   },
   {
    "duration": 0,
    "start_time": "2022-06-15T16:24:31.424Z"
   },
   {
    "duration": 0,
    "start_time": "2022-06-15T16:24:31.426Z"
   },
   {
    "duration": 0,
    "start_time": "2022-06-15T16:24:31.427Z"
   },
   {
    "duration": 0,
    "start_time": "2022-06-15T16:24:31.428Z"
   },
   {
    "duration": 0,
    "start_time": "2022-06-15T16:24:31.430Z"
   },
   {
    "duration": 0,
    "start_time": "2022-06-15T16:24:31.431Z"
   },
   {
    "duration": 0,
    "start_time": "2022-06-15T16:24:31.432Z"
   },
   {
    "duration": 0,
    "start_time": "2022-06-15T16:24:31.433Z"
   },
   {
    "duration": 0,
    "start_time": "2022-06-15T16:24:31.434Z"
   },
   {
    "duration": 0,
    "start_time": "2022-06-15T16:24:31.435Z"
   },
   {
    "duration": 0,
    "start_time": "2022-06-15T16:24:31.436Z"
   },
   {
    "duration": 0,
    "start_time": "2022-06-15T16:24:31.437Z"
   },
   {
    "duration": 0,
    "start_time": "2022-06-15T16:24:31.438Z"
   },
   {
    "duration": 0,
    "start_time": "2022-06-15T16:24:31.440Z"
   },
   {
    "duration": 0,
    "start_time": "2022-06-15T16:24:31.441Z"
   },
   {
    "duration": 0,
    "start_time": "2022-06-15T16:24:31.441Z"
   },
   {
    "duration": 0,
    "start_time": "2022-06-15T16:24:31.442Z"
   },
   {
    "duration": 0,
    "start_time": "2022-06-15T16:24:31.443Z"
   },
   {
    "duration": 0,
    "start_time": "2022-06-15T16:24:31.481Z"
   },
   {
    "duration": 0,
    "start_time": "2022-06-15T16:24:31.482Z"
   },
   {
    "duration": 0,
    "start_time": "2022-06-15T16:24:31.483Z"
   },
   {
    "duration": 0,
    "start_time": "2022-06-15T16:24:31.484Z"
   },
   {
    "duration": 0,
    "start_time": "2022-06-15T16:24:31.485Z"
   },
   {
    "duration": 0,
    "start_time": "2022-06-15T16:24:31.486Z"
   },
   {
    "duration": 0,
    "start_time": "2022-06-15T16:24:31.487Z"
   },
   {
    "duration": 0,
    "start_time": "2022-06-15T16:24:31.488Z"
   },
   {
    "duration": 0,
    "start_time": "2022-06-15T16:24:31.489Z"
   },
   {
    "duration": 0,
    "start_time": "2022-06-15T16:24:31.490Z"
   },
   {
    "duration": 0,
    "start_time": "2022-06-15T16:24:31.495Z"
   },
   {
    "duration": 0,
    "start_time": "2022-06-15T16:24:31.496Z"
   },
   {
    "duration": 0,
    "start_time": "2022-06-15T16:24:31.497Z"
   },
   {
    "duration": 0,
    "start_time": "2022-06-15T16:24:31.499Z"
   },
   {
    "duration": 0,
    "start_time": "2022-06-15T16:24:31.500Z"
   },
   {
    "duration": 0,
    "start_time": "2022-06-15T16:24:31.502Z"
   },
   {
    "duration": 0,
    "start_time": "2022-06-15T16:24:31.503Z"
   },
   {
    "duration": 0,
    "start_time": "2022-06-15T16:24:31.504Z"
   },
   {
    "duration": 0,
    "start_time": "2022-06-15T16:24:31.505Z"
   },
   {
    "duration": 0,
    "start_time": "2022-06-15T16:24:31.506Z"
   },
   {
    "duration": 0,
    "start_time": "2022-06-15T16:24:31.507Z"
   },
   {
    "duration": 0,
    "start_time": "2022-06-15T16:24:31.508Z"
   },
   {
    "duration": 0,
    "start_time": "2022-06-15T16:24:31.509Z"
   },
   {
    "duration": 0,
    "start_time": "2022-06-15T16:24:31.510Z"
   },
   {
    "duration": 0,
    "start_time": "2022-06-15T16:24:31.511Z"
   },
   {
    "duration": 1,
    "start_time": "2022-06-15T16:24:31.512Z"
   },
   {
    "duration": 0,
    "start_time": "2022-06-15T16:24:31.513Z"
   },
   {
    "duration": 0,
    "start_time": "2022-06-15T16:24:31.514Z"
   },
   {
    "duration": 0,
    "start_time": "2022-06-15T16:24:31.515Z"
   },
   {
    "duration": 0,
    "start_time": "2022-06-15T16:24:31.517Z"
   },
   {
    "duration": 0,
    "start_time": "2022-06-15T16:24:31.518Z"
   },
   {
    "duration": 0,
    "start_time": "2022-06-15T16:24:31.519Z"
   },
   {
    "duration": 0,
    "start_time": "2022-06-15T16:24:31.520Z"
   },
   {
    "duration": 0,
    "start_time": "2022-06-15T16:24:31.521Z"
   },
   {
    "duration": 0,
    "start_time": "2022-06-15T16:24:31.522Z"
   },
   {
    "duration": 1,
    "start_time": "2022-06-15T16:24:31.523Z"
   },
   {
    "duration": 0,
    "start_time": "2022-06-15T16:24:31.525Z"
   },
   {
    "duration": 0,
    "start_time": "2022-06-15T16:24:31.526Z"
   },
   {
    "duration": 0,
    "start_time": "2022-06-15T16:24:31.579Z"
   },
   {
    "duration": 445,
    "start_time": "2022-06-15T16:25:48.406Z"
   },
   {
    "duration": 6,
    "start_time": "2022-06-15T16:26:01.457Z"
   },
   {
    "duration": 23,
    "start_time": "2022-06-15T16:26:16.762Z"
   },
   {
    "duration": 6,
    "start_time": "2022-06-15T16:26:22.051Z"
   },
   {
    "duration": 8,
    "start_time": "2022-06-15T16:26:24.217Z"
   },
   {
    "duration": 18,
    "start_time": "2022-06-15T16:26:30.994Z"
   },
   {
    "duration": 15,
    "start_time": "2022-06-15T16:26:33.733Z"
   },
   {
    "duration": 8,
    "start_time": "2022-06-15T16:26:51.116Z"
   },
   {
    "duration": 122,
    "start_time": "2022-06-15T16:27:01.366Z"
   },
   {
    "duration": 32,
    "start_time": "2022-06-15T16:27:01.490Z"
   },
   {
    "duration": 24,
    "start_time": "2022-06-15T16:27:01.524Z"
   },
   {
    "duration": 48,
    "start_time": "2022-06-15T16:27:01.550Z"
   },
   {
    "duration": 30,
    "start_time": "2022-06-15T16:27:01.600Z"
   },
   {
    "duration": 25,
    "start_time": "2022-06-15T16:27:01.631Z"
   },
   {
    "duration": 57,
    "start_time": "2022-06-15T16:27:01.657Z"
   },
   {
    "duration": 20,
    "start_time": "2022-06-15T16:27:01.716Z"
   },
   {
    "duration": 36,
    "start_time": "2022-06-15T16:27:01.738Z"
   },
   {
    "duration": 16,
    "start_time": "2022-06-15T16:27:01.777Z"
   },
   {
    "duration": 25,
    "start_time": "2022-06-15T16:27:01.796Z"
   },
   {
    "duration": 1928,
    "start_time": "2022-06-15T16:27:01.822Z"
   },
   {
    "duration": 9,
    "start_time": "2022-06-15T16:27:03.751Z"
   },
   {
    "duration": 26,
    "start_time": "2022-06-15T16:27:03.761Z"
   },
   {
    "duration": 18,
    "start_time": "2022-06-15T16:27:03.789Z"
   },
   {
    "duration": 6,
    "start_time": "2022-06-15T16:27:03.808Z"
   },
   {
    "duration": 7,
    "start_time": "2022-06-15T16:27:03.816Z"
   },
   {
    "duration": 9,
    "start_time": "2022-06-15T16:27:03.825Z"
   },
   {
    "duration": 19,
    "start_time": "2022-06-15T16:27:03.836Z"
   },
   {
    "duration": 10,
    "start_time": "2022-06-15T16:27:03.857Z"
   },
   {
    "duration": 39,
    "start_time": "2022-06-15T16:27:03.868Z"
   },
   {
    "duration": 6,
    "start_time": "2022-06-15T16:27:03.908Z"
   },
   {
    "duration": 13,
    "start_time": "2022-06-15T16:27:03.916Z"
   },
   {
    "duration": 1290,
    "start_time": "2022-06-15T16:27:03.930Z"
   },
   {
    "duration": 8,
    "start_time": "2022-06-15T16:27:05.222Z"
   },
   {
    "duration": 33,
    "start_time": "2022-06-15T16:27:05.232Z"
   },
   {
    "duration": 17,
    "start_time": "2022-06-15T16:27:05.266Z"
   },
   {
    "duration": 12,
    "start_time": "2022-06-15T16:27:05.288Z"
   },
   {
    "duration": 9,
    "start_time": "2022-06-15T16:27:05.302Z"
   },
   {
    "duration": 1811,
    "start_time": "2022-06-15T16:27:05.313Z"
   },
   {
    "duration": 5,
    "start_time": "2022-06-15T16:27:07.125Z"
   },
   {
    "duration": 10,
    "start_time": "2022-06-15T16:27:07.131Z"
   },
   {
    "duration": 12,
    "start_time": "2022-06-15T16:27:07.142Z"
   },
   {
    "duration": 1966,
    "start_time": "2022-06-15T16:27:07.155Z"
   },
   {
    "duration": 3,
    "start_time": "2022-06-15T16:27:09.123Z"
   },
   {
    "duration": 13,
    "start_time": "2022-06-15T16:27:09.128Z"
   },
   {
    "duration": 10,
    "start_time": "2022-06-15T16:27:09.142Z"
   },
   {
    "duration": 1952,
    "start_time": "2022-06-15T16:27:09.153Z"
   },
   {
    "duration": 5,
    "start_time": "2022-06-15T16:27:11.106Z"
   },
   {
    "duration": 12,
    "start_time": "2022-06-15T16:27:11.113Z"
   },
   {
    "duration": 1883,
    "start_time": "2022-06-15T16:27:11.126Z"
   },
   {
    "duration": 5,
    "start_time": "2022-06-15T16:27:13.010Z"
   },
   {
    "duration": 8,
    "start_time": "2022-06-15T16:27:13.016Z"
   },
   {
    "duration": 12,
    "start_time": "2022-06-15T16:27:13.025Z"
   },
   {
    "duration": 7,
    "start_time": "2022-06-15T16:27:13.039Z"
   },
   {
    "duration": 1884,
    "start_time": "2022-06-15T16:27:13.048Z"
   },
   {
    "duration": 5,
    "start_time": "2022-06-15T16:27:14.934Z"
   },
   {
    "duration": 7,
    "start_time": "2022-06-15T16:27:14.941Z"
   },
   {
    "duration": 12,
    "start_time": "2022-06-15T16:27:14.950Z"
   },
   {
    "duration": 18,
    "start_time": "2022-06-15T16:27:14.964Z"
   },
   {
    "duration": 10,
    "start_time": "2022-06-15T16:27:14.984Z"
   },
   {
    "duration": 26,
    "start_time": "2022-06-15T16:27:14.995Z"
   },
   {
    "duration": 1858,
    "start_time": "2022-06-15T16:27:15.023Z"
   },
   {
    "duration": 8,
    "start_time": "2022-06-15T16:27:16.883Z"
   },
   {
    "duration": 27,
    "start_time": "2022-06-15T16:27:16.892Z"
   },
   {
    "duration": 9,
    "start_time": "2022-06-15T16:27:16.921Z"
   },
   {
    "duration": 10,
    "start_time": "2022-06-15T16:27:16.931Z"
   },
   {
    "duration": 5,
    "start_time": "2022-06-15T16:27:16.942Z"
   },
   {
    "duration": 14,
    "start_time": "2022-06-15T16:27:16.948Z"
   },
   {
    "duration": 20,
    "start_time": "2022-06-15T16:27:16.963Z"
   },
   {
    "duration": 30,
    "start_time": "2022-06-15T16:27:16.984Z"
   },
   {
    "duration": 15,
    "start_time": "2022-06-15T16:27:17.015Z"
   },
   {
    "duration": 0,
    "start_time": "2022-06-15T16:27:17.032Z"
   },
   {
    "duration": 0,
    "start_time": "2022-06-15T16:27:17.033Z"
   },
   {
    "duration": 0,
    "start_time": "2022-06-15T16:27:17.035Z"
   },
   {
    "duration": 0,
    "start_time": "2022-06-15T16:27:17.036Z"
   },
   {
    "duration": 0,
    "start_time": "2022-06-15T16:27:17.038Z"
   },
   {
    "duration": 0,
    "start_time": "2022-06-15T16:27:17.039Z"
   },
   {
    "duration": 0,
    "start_time": "2022-06-15T16:27:17.040Z"
   },
   {
    "duration": 0,
    "start_time": "2022-06-15T16:27:17.041Z"
   },
   {
    "duration": 0,
    "start_time": "2022-06-15T16:27:17.042Z"
   },
   {
    "duration": 0,
    "start_time": "2022-06-15T16:27:17.044Z"
   },
   {
    "duration": 0,
    "start_time": "2022-06-15T16:27:17.045Z"
   },
   {
    "duration": 0,
    "start_time": "2022-06-15T16:27:17.046Z"
   },
   {
    "duration": 0,
    "start_time": "2022-06-15T16:27:17.047Z"
   },
   {
    "duration": 0,
    "start_time": "2022-06-15T16:27:17.048Z"
   },
   {
    "duration": 0,
    "start_time": "2022-06-15T16:27:17.086Z"
   },
   {
    "duration": 0,
    "start_time": "2022-06-15T16:27:17.087Z"
   },
   {
    "duration": 0,
    "start_time": "2022-06-15T16:27:17.088Z"
   },
   {
    "duration": 0,
    "start_time": "2022-06-15T16:27:17.089Z"
   },
   {
    "duration": 0,
    "start_time": "2022-06-15T16:27:17.090Z"
   },
   {
    "duration": 0,
    "start_time": "2022-06-15T16:27:17.092Z"
   },
   {
    "duration": 0,
    "start_time": "2022-06-15T16:27:17.093Z"
   },
   {
    "duration": 0,
    "start_time": "2022-06-15T16:27:17.094Z"
   },
   {
    "duration": 0,
    "start_time": "2022-06-15T16:27:17.095Z"
   },
   {
    "duration": 0,
    "start_time": "2022-06-15T16:27:17.096Z"
   },
   {
    "duration": 0,
    "start_time": "2022-06-15T16:27:17.098Z"
   },
   {
    "duration": 0,
    "start_time": "2022-06-15T16:27:17.100Z"
   },
   {
    "duration": 0,
    "start_time": "2022-06-15T16:27:17.102Z"
   },
   {
    "duration": 0,
    "start_time": "2022-06-15T16:27:17.103Z"
   },
   {
    "duration": 0,
    "start_time": "2022-06-15T16:27:17.105Z"
   },
   {
    "duration": 0,
    "start_time": "2022-06-15T16:27:17.106Z"
   },
   {
    "duration": 0,
    "start_time": "2022-06-15T16:27:17.107Z"
   },
   {
    "duration": 0,
    "start_time": "2022-06-15T16:27:17.109Z"
   },
   {
    "duration": 0,
    "start_time": "2022-06-15T16:27:17.110Z"
   },
   {
    "duration": 0,
    "start_time": "2022-06-15T16:27:17.111Z"
   },
   {
    "duration": 0,
    "start_time": "2022-06-15T16:27:17.112Z"
   },
   {
    "duration": 0,
    "start_time": "2022-06-15T16:27:17.114Z"
   },
   {
    "duration": 0,
    "start_time": "2022-06-15T16:27:17.115Z"
   },
   {
    "duration": 0,
    "start_time": "2022-06-15T16:27:17.116Z"
   },
   {
    "duration": 0,
    "start_time": "2022-06-15T16:27:17.117Z"
   },
   {
    "duration": 0,
    "start_time": "2022-06-15T16:27:17.118Z"
   },
   {
    "duration": 0,
    "start_time": "2022-06-15T16:27:17.119Z"
   },
   {
    "duration": 0,
    "start_time": "2022-06-15T16:27:17.120Z"
   },
   {
    "duration": 0,
    "start_time": "2022-06-15T16:27:17.121Z"
   },
   {
    "duration": 0,
    "start_time": "2022-06-15T16:27:17.122Z"
   },
   {
    "duration": 0,
    "start_time": "2022-06-15T16:27:17.123Z"
   },
   {
    "duration": 0,
    "start_time": "2022-06-15T16:27:17.124Z"
   },
   {
    "duration": 0,
    "start_time": "2022-06-15T16:27:17.178Z"
   },
   {
    "duration": 0,
    "start_time": "2022-06-15T16:27:17.179Z"
   },
   {
    "duration": 0,
    "start_time": "2022-06-15T16:27:17.180Z"
   },
   {
    "duration": 0,
    "start_time": "2022-06-15T16:27:17.181Z"
   },
   {
    "duration": 0,
    "start_time": "2022-06-15T16:27:17.181Z"
   },
   {
    "duration": 0,
    "start_time": "2022-06-15T16:27:17.182Z"
   },
   {
    "duration": 0,
    "start_time": "2022-06-15T16:27:17.183Z"
   },
   {
    "duration": 0,
    "start_time": "2022-06-15T16:27:17.186Z"
   },
   {
    "duration": 0,
    "start_time": "2022-06-15T16:27:17.186Z"
   },
   {
    "duration": 0,
    "start_time": "2022-06-15T16:27:17.187Z"
   },
   {
    "duration": 0,
    "start_time": "2022-06-15T16:27:17.188Z"
   },
   {
    "duration": 15,
    "start_time": "2022-06-15T16:27:48.698Z"
   },
   {
    "duration": 31,
    "start_time": "2022-06-15T16:27:56.913Z"
   },
   {
    "duration": 3,
    "start_time": "2022-06-15T16:28:03.908Z"
   },
   {
    "duration": 8,
    "start_time": "2022-06-15T16:28:11.892Z"
   },
   {
    "duration": 14,
    "start_time": "2022-06-15T16:28:13.963Z"
   },
   {
    "duration": 18,
    "start_time": "2022-06-15T16:28:20.625Z"
   },
   {
    "duration": 10,
    "start_time": "2022-06-15T16:28:25.931Z"
   },
   {
    "duration": 384,
    "start_time": "2022-06-15T16:28:30.676Z"
   },
   {
    "duration": 5,
    "start_time": "2022-06-15T16:28:36.067Z"
   },
   {
    "duration": 8,
    "start_time": "2022-06-15T16:28:38.501Z"
   },
   {
    "duration": 9,
    "start_time": "2022-06-15T16:28:45.958Z"
   },
   {
    "duration": 7,
    "start_time": "2022-06-15T16:28:48.529Z"
   },
   {
    "duration": 33,
    "start_time": "2022-06-15T16:28:55.354Z"
   },
   {
    "duration": 4,
    "start_time": "2022-06-15T16:29:01.620Z"
   },
   {
    "duration": 232,
    "start_time": "2022-06-15T16:29:04.444Z"
   },
   {
    "duration": 5,
    "start_time": "2022-06-15T16:29:10.618Z"
   },
   {
    "duration": 4,
    "start_time": "2022-06-15T16:29:11.450Z"
   },
   {
    "duration": 233,
    "start_time": "2022-06-15T16:29:12.245Z"
   },
   {
    "duration": 7,
    "start_time": "2022-06-15T16:29:40.041Z"
   },
   {
    "duration": 16,
    "start_time": "2022-06-15T16:30:38.197Z"
   },
   {
    "duration": 291,
    "start_time": "2022-06-15T16:30:40.353Z"
   },
   {
    "duration": 230,
    "start_time": "2022-06-15T16:31:39.002Z"
   },
   {
    "duration": 240,
    "start_time": "2022-06-15T16:32:51.702Z"
   },
   {
    "duration": 23,
    "start_time": "2022-06-15T16:32:57.221Z"
   },
   {
    "duration": 53,
    "start_time": "2022-06-15T20:31:56.016Z"
   },
   {
    "duration": 846,
    "start_time": "2022-06-15T20:32:00.760Z"
   },
   {
    "duration": 31,
    "start_time": "2022-06-15T20:32:01.609Z"
   },
   {
    "duration": 37,
    "start_time": "2022-06-15T20:32:01.641Z"
   },
   {
    "duration": 46,
    "start_time": "2022-06-15T20:32:01.681Z"
   },
   {
    "duration": 81,
    "start_time": "2022-06-15T20:32:01.729Z"
   },
   {
    "duration": 74,
    "start_time": "2022-06-15T20:32:01.812Z"
   },
   {
    "duration": 82,
    "start_time": "2022-06-15T20:32:01.888Z"
   },
   {
    "duration": 37,
    "start_time": "2022-06-15T20:32:01.972Z"
   },
   {
    "duration": 38,
    "start_time": "2022-06-15T20:32:02.011Z"
   },
   {
    "duration": 90,
    "start_time": "2022-06-15T20:32:02.052Z"
   },
   {
    "duration": 64,
    "start_time": "2022-06-15T20:32:02.144Z"
   },
   {
    "duration": 2146,
    "start_time": "2022-06-15T20:32:02.210Z"
   },
   {
    "duration": 16,
    "start_time": "2022-06-15T20:32:04.358Z"
   },
   {
    "duration": 13,
    "start_time": "2022-06-15T20:32:04.376Z"
   },
   {
    "duration": 18,
    "start_time": "2022-06-15T20:32:04.391Z"
   },
   {
    "duration": 13,
    "start_time": "2022-06-15T20:32:04.427Z"
   },
   {
    "duration": 22,
    "start_time": "2022-06-15T20:32:04.442Z"
   },
   {
    "duration": 21,
    "start_time": "2022-06-15T20:32:04.467Z"
   },
   {
    "duration": 26,
    "start_time": "2022-06-15T20:32:04.490Z"
   },
   {
    "duration": 21,
    "start_time": "2022-06-15T20:32:04.518Z"
   },
   {
    "duration": 44,
    "start_time": "2022-06-15T20:32:04.541Z"
   },
   {
    "duration": 7,
    "start_time": "2022-06-15T20:32:04.587Z"
   },
   {
    "duration": 14,
    "start_time": "2022-06-15T20:32:04.596Z"
   },
   {
    "duration": 1518,
    "start_time": "2022-06-15T20:32:04.613Z"
   },
   {
    "duration": 9,
    "start_time": "2022-06-15T20:32:06.132Z"
   },
   {
    "duration": 13,
    "start_time": "2022-06-15T20:32:06.144Z"
   },
   {
    "duration": 44,
    "start_time": "2022-06-15T20:32:06.159Z"
   },
   {
    "duration": 20,
    "start_time": "2022-06-15T20:32:06.208Z"
   },
   {
    "duration": 10,
    "start_time": "2022-06-15T20:32:06.230Z"
   },
   {
    "duration": 2201,
    "start_time": "2022-06-15T20:32:06.242Z"
   },
   {
    "duration": 5,
    "start_time": "2022-06-15T20:32:08.445Z"
   },
   {
    "duration": 9,
    "start_time": "2022-06-15T20:32:08.452Z"
   },
   {
    "duration": 10,
    "start_time": "2022-06-15T20:32:08.463Z"
   },
   {
    "duration": 2171,
    "start_time": "2022-06-15T20:32:08.474Z"
   },
   {
    "duration": 4,
    "start_time": "2022-06-15T20:32:10.647Z"
   },
   {
    "duration": 11,
    "start_time": "2022-06-15T20:32:10.652Z"
   },
   {
    "duration": 11,
    "start_time": "2022-06-15T20:32:10.664Z"
   },
   {
    "duration": 2088,
    "start_time": "2022-06-15T20:32:10.677Z"
   },
   {
    "duration": 6,
    "start_time": "2022-06-15T20:32:12.767Z"
   },
   {
    "duration": 16,
    "start_time": "2022-06-15T20:32:12.775Z"
   },
   {
    "duration": 2115,
    "start_time": "2022-06-15T20:32:12.793Z"
   },
   {
    "duration": 6,
    "start_time": "2022-06-15T20:32:14.909Z"
   },
   {
    "duration": 13,
    "start_time": "2022-06-15T20:32:14.917Z"
   },
   {
    "duration": 27,
    "start_time": "2022-06-15T20:32:14.932Z"
   },
   {
    "duration": 9,
    "start_time": "2022-06-15T20:32:14.960Z"
   },
   {
    "duration": 1972,
    "start_time": "2022-06-15T20:32:14.971Z"
   },
   {
    "duration": 5,
    "start_time": "2022-06-15T20:32:16.945Z"
   },
   {
    "duration": 20,
    "start_time": "2022-06-15T20:32:16.952Z"
   },
   {
    "duration": 12,
    "start_time": "2022-06-15T20:32:16.974Z"
   },
   {
    "duration": 11,
    "start_time": "2022-06-15T20:32:16.988Z"
   },
   {
    "duration": 7,
    "start_time": "2022-06-15T20:32:17.001Z"
   },
   {
    "duration": 16,
    "start_time": "2022-06-15T20:32:17.010Z"
   },
   {
    "duration": 1927,
    "start_time": "2022-06-15T20:32:17.027Z"
   },
   {
    "duration": 7,
    "start_time": "2022-06-15T20:32:18.956Z"
   },
   {
    "duration": 10,
    "start_time": "2022-06-15T20:32:18.965Z"
   },
   {
    "duration": 12,
    "start_time": "2022-06-15T20:32:18.977Z"
   },
   {
    "duration": 8,
    "start_time": "2022-06-15T20:32:18.992Z"
   },
   {
    "duration": 27,
    "start_time": "2022-06-15T20:32:19.002Z"
   },
   {
    "duration": 10,
    "start_time": "2022-06-15T20:32:19.031Z"
   },
   {
    "duration": 16,
    "start_time": "2022-06-15T20:32:19.043Z"
   },
   {
    "duration": 34,
    "start_time": "2022-06-15T20:32:19.060Z"
   },
   {
    "duration": 2,
    "start_time": "2022-06-15T20:32:19.096Z"
   },
   {
    "duration": 17,
    "start_time": "2022-06-15T20:32:19.099Z"
   },
   {
    "duration": 23,
    "start_time": "2022-06-15T20:32:19.118Z"
   },
   {
    "duration": 20,
    "start_time": "2022-06-15T20:32:19.143Z"
   },
   {
    "duration": 7,
    "start_time": "2022-06-15T20:32:19.165Z"
   },
   {
    "duration": 417,
    "start_time": "2022-06-15T20:32:19.174Z"
   },
   {
    "duration": 5,
    "start_time": "2022-06-15T20:32:19.593Z"
   },
   {
    "duration": 17,
    "start_time": "2022-06-15T20:32:19.600Z"
   },
   {
    "duration": 11,
    "start_time": "2022-06-15T20:32:19.618Z"
   },
   {
    "duration": 8,
    "start_time": "2022-06-15T20:32:19.631Z"
   },
   {
    "duration": 41,
    "start_time": "2022-06-15T20:32:19.641Z"
   },
   {
    "duration": 4,
    "start_time": "2022-06-15T20:32:19.684Z"
   },
   {
    "duration": 645,
    "start_time": "2022-06-15T20:32:19.690Z"
   },
   {
    "duration": 5,
    "start_time": "2022-06-15T20:32:20.337Z"
   },
   {
    "duration": 30,
    "start_time": "2022-06-15T20:32:20.344Z"
   },
   {
    "duration": 258,
    "start_time": "2022-06-15T20:32:20.376Z"
   },
   {
    "duration": 5,
    "start_time": "2022-06-15T20:32:20.635Z"
   },
   {
    "duration": 243,
    "start_time": "2022-06-15T20:32:20.642Z"
   },
   {
    "duration": 242,
    "start_time": "2022-06-15T20:32:20.887Z"
   },
   {
    "duration": 285,
    "start_time": "2022-06-15T20:32:21.131Z"
   },
   {
    "duration": 20,
    "start_time": "2022-06-15T20:32:21.423Z"
   },
   {
    "duration": 181,
    "start_time": "2022-06-15T20:32:21.445Z"
   },
   {
    "duration": 10,
    "start_time": "2022-06-15T20:32:21.628Z"
   },
   {
    "duration": 22,
    "start_time": "2022-06-15T20:32:21.640Z"
   },
   {
    "duration": 442,
    "start_time": "2022-06-15T20:32:21.665Z"
   },
   {
    "duration": 18,
    "start_time": "2022-06-15T20:32:22.109Z"
   },
   {
    "duration": 3,
    "start_time": "2022-06-15T20:32:22.129Z"
   },
   {
    "duration": 21,
    "start_time": "2022-06-15T20:32:22.134Z"
   },
   {
    "duration": 1861,
    "start_time": "2022-06-15T20:32:22.157Z"
   },
   {
    "duration": 13,
    "start_time": "2022-06-15T20:32:24.020Z"
   },
   {
    "duration": 14,
    "start_time": "2022-06-15T20:32:24.035Z"
   },
   {
    "duration": 24,
    "start_time": "2022-06-15T20:32:24.050Z"
   },
   {
    "duration": 134,
    "start_time": "2022-06-15T20:32:24.076Z"
   },
   {
    "duration": 17,
    "start_time": "2022-06-15T20:32:24.212Z"
   },
   {
    "duration": 174,
    "start_time": "2022-06-15T20:32:24.231Z"
   },
   {
    "duration": 20,
    "start_time": "2022-06-15T20:32:24.406Z"
   },
   {
    "duration": 207,
    "start_time": "2022-06-15T20:32:24.429Z"
   },
   {
    "duration": 9,
    "start_time": "2022-06-15T20:32:24.638Z"
   },
   {
    "duration": 188,
    "start_time": "2022-06-15T20:32:24.650Z"
   },
   {
    "duration": 23,
    "start_time": "2022-06-15T20:32:24.841Z"
   },
   {
    "duration": 9,
    "start_time": "2022-06-15T20:32:24.865Z"
   },
   {
    "duration": 318,
    "start_time": "2022-06-15T20:32:24.876Z"
   },
   {
    "duration": 9,
    "start_time": "2022-06-15T20:32:25.196Z"
   },
   {
    "duration": 62,
    "start_time": "2022-06-15T20:32:25.207Z"
   },
   {
    "duration": 7,
    "start_time": "2022-06-15T20:32:25.271Z"
   },
   {
    "duration": 15,
    "start_time": "2022-06-15T20:32:25.280Z"
   },
   {
    "duration": 166,
    "start_time": "2022-06-15T20:32:25.297Z"
   },
   {
    "duration": 28,
    "start_time": "2022-06-15T20:32:25.465Z"
   },
   {
    "duration": 24,
    "start_time": "2022-06-15T20:32:25.495Z"
   },
   {
    "duration": 29,
    "start_time": "2022-06-15T20:32:25.521Z"
   },
   {
    "duration": 17,
    "start_time": "2022-06-15T20:32:25.552Z"
   },
   {
    "duration": 14,
    "start_time": "2022-06-15T20:32:25.571Z"
   },
   {
    "duration": 18,
    "start_time": "2022-06-15T20:32:25.587Z"
   },
   {
    "duration": 19,
    "start_time": "2022-06-15T20:32:25.606Z"
   },
   {
    "duration": 178,
    "start_time": "2022-06-15T20:32:25.627Z"
   },
   {
    "duration": 7,
    "start_time": "2022-06-15T20:32:25.807Z"
   },
   {
    "duration": 212,
    "start_time": "2022-06-15T20:32:25.816Z"
   },
   {
    "duration": 8,
    "start_time": "2022-06-15T20:32:26.030Z"
   },
   {
    "duration": 142,
    "start_time": "2022-06-15T20:32:26.040Z"
   },
   {
    "duration": 11,
    "start_time": "2022-06-15T20:32:59.770Z"
   },
   {
    "duration": 11,
    "start_time": "2022-06-15T20:33:24.438Z"
   },
   {
    "duration": 8,
    "start_time": "2022-06-15T20:34:24.394Z"
   },
   {
    "duration": 35,
    "start_time": "2022-06-15T20:34:42.258Z"
   },
   {
    "duration": 5,
    "start_time": "2022-06-15T20:35:28.674Z"
   },
   {
    "duration": 5,
    "start_time": "2022-06-15T20:35:34.850Z"
   },
   {
    "duration": 5,
    "start_time": "2022-06-15T20:35:56.231Z"
   },
   {
    "duration": 5,
    "start_time": "2022-06-15T20:36:01.348Z"
   },
   {
    "duration": 7,
    "start_time": "2022-06-15T20:36:39.648Z"
   },
   {
    "duration": 7,
    "start_time": "2022-06-15T20:36:51.003Z"
   },
   {
    "duration": 6,
    "start_time": "2022-06-15T20:36:55.437Z"
   },
   {
    "duration": 8,
    "start_time": "2022-06-15T20:37:20.281Z"
   },
   {
    "duration": 10,
    "start_time": "2022-06-15T20:39:22.619Z"
   },
   {
    "duration": 10,
    "start_time": "2022-06-15T20:39:28.094Z"
   },
   {
    "duration": 11,
    "start_time": "2022-06-15T20:40:28.471Z"
   },
   {
    "duration": 10,
    "start_time": "2022-06-15T20:41:50.685Z"
   },
   {
    "duration": 12,
    "start_time": "2022-06-15T20:42:30.941Z"
   },
   {
    "duration": 42,
    "start_time": "2022-06-15T20:44:56.123Z"
   },
   {
    "duration": 13,
    "start_time": "2022-06-15T20:45:00.933Z"
   },
   {
    "duration": 14,
    "start_time": "2022-06-15T20:45:11.209Z"
   },
   {
    "duration": 10,
    "start_time": "2022-06-15T20:45:21.101Z"
   },
   {
    "duration": 12,
    "start_time": "2022-06-15T20:45:33.547Z"
   },
   {
    "duration": 30,
    "start_time": "2022-06-15T20:47:36.673Z"
   },
   {
    "duration": 8,
    "start_time": "2022-06-15T20:47:52.121Z"
   },
   {
    "duration": 31,
    "start_time": "2022-06-15T20:47:57.418Z"
   },
   {
    "duration": 46,
    "start_time": "2022-06-15T20:48:23.584Z"
   },
   {
    "duration": 16,
    "start_time": "2022-06-15T20:48:39.391Z"
   },
   {
    "duration": 8,
    "start_time": "2022-06-15T20:48:45.248Z"
   },
   {
    "duration": 33,
    "start_time": "2022-06-15T20:48:53.600Z"
   },
   {
    "duration": 33,
    "start_time": "2022-06-15T20:48:58.641Z"
   },
   {
    "duration": 43,
    "start_time": "2022-06-15T20:49:18.353Z"
   },
   {
    "duration": 41,
    "start_time": "2022-06-15T20:49:34.507Z"
   },
   {
    "duration": 31,
    "start_time": "2022-06-15T20:50:20.306Z"
   },
   {
    "duration": 34,
    "start_time": "2022-06-15T20:50:24.154Z"
   },
   {
    "duration": 33,
    "start_time": "2022-06-15T20:50:34.607Z"
   },
   {
    "duration": 595,
    "start_time": "2022-06-15T20:52:47.202Z"
   },
   {
    "duration": 65,
    "start_time": "2022-06-15T20:52:47.800Z"
   },
   {
    "duration": 59,
    "start_time": "2022-06-15T20:52:47.867Z"
   },
   {
    "duration": 46,
    "start_time": "2022-06-15T20:52:47.929Z"
   },
   {
    "duration": 25,
    "start_time": "2022-06-15T20:52:47.977Z"
   },
   {
    "duration": 15,
    "start_time": "2022-06-15T20:52:48.004Z"
   },
   {
    "duration": 25,
    "start_time": "2022-06-15T20:52:48.020Z"
   },
   {
    "duration": 17,
    "start_time": "2022-06-15T20:52:48.046Z"
   },
   {
    "duration": 21,
    "start_time": "2022-06-15T20:52:48.065Z"
   },
   {
    "duration": 14,
    "start_time": "2022-06-15T20:52:48.090Z"
   },
   {
    "duration": 9,
    "start_time": "2022-06-15T20:52:48.127Z"
   },
   {
    "duration": 2024,
    "start_time": "2022-06-15T20:52:48.138Z"
   },
   {
    "duration": 11,
    "start_time": "2022-06-15T20:52:50.164Z"
   },
   {
    "duration": 6,
    "start_time": "2022-06-15T20:52:50.177Z"
   },
   {
    "duration": 15,
    "start_time": "2022-06-15T20:52:50.185Z"
   },
   {
    "duration": 27,
    "start_time": "2022-06-15T20:52:50.202Z"
   },
   {
    "duration": 13,
    "start_time": "2022-06-15T20:52:50.230Z"
   },
   {
    "duration": 17,
    "start_time": "2022-06-15T20:52:50.245Z"
   },
   {
    "duration": 22,
    "start_time": "2022-06-15T20:52:50.263Z"
   },
   {
    "duration": 18,
    "start_time": "2022-06-15T20:52:50.287Z"
   },
   {
    "duration": 49,
    "start_time": "2022-06-15T20:52:50.307Z"
   },
   {
    "duration": 6,
    "start_time": "2022-06-15T20:52:50.358Z"
   },
   {
    "duration": 13,
    "start_time": "2022-06-15T20:52:50.366Z"
   },
   {
    "duration": 1590,
    "start_time": "2022-06-15T20:52:50.381Z"
   },
   {
    "duration": 11,
    "start_time": "2022-06-15T20:52:51.973Z"
   },
   {
    "duration": 7,
    "start_time": "2022-06-15T20:52:51.985Z"
   },
   {
    "duration": 42,
    "start_time": "2022-06-15T20:52:51.993Z"
   },
   {
    "duration": 20,
    "start_time": "2022-06-15T20:52:52.039Z"
   },
   {
    "duration": 27,
    "start_time": "2022-06-15T20:52:52.061Z"
   },
   {
    "duration": 1903,
    "start_time": "2022-06-15T20:52:52.089Z"
   },
   {
    "duration": 5,
    "start_time": "2022-06-15T20:52:53.994Z"
   },
   {
    "duration": 14,
    "start_time": "2022-06-15T20:52:54.000Z"
   },
   {
    "duration": 18,
    "start_time": "2022-06-15T20:52:54.016Z"
   },
   {
    "duration": 1998,
    "start_time": "2022-06-15T20:52:54.035Z"
   },
   {
    "duration": 5,
    "start_time": "2022-06-15T20:52:56.035Z"
   },
   {
    "duration": 10,
    "start_time": "2022-06-15T20:52:56.042Z"
   },
   {
    "duration": 8,
    "start_time": "2022-06-15T20:52:56.054Z"
   },
   {
    "duration": 1916,
    "start_time": "2022-06-15T20:52:56.063Z"
   },
   {
    "duration": 5,
    "start_time": "2022-06-15T20:52:57.980Z"
   },
   {
    "duration": 55,
    "start_time": "2022-06-15T20:52:57.987Z"
   },
   {
    "duration": 1894,
    "start_time": "2022-06-15T20:52:58.044Z"
   },
   {
    "duration": 5,
    "start_time": "2022-06-15T20:52:59.939Z"
   },
   {
    "duration": 8,
    "start_time": "2022-06-15T20:52:59.946Z"
   },
   {
    "duration": 15,
    "start_time": "2022-06-15T20:52:59.956Z"
   },
   {
    "duration": 9,
    "start_time": "2022-06-15T20:52:59.973Z"
   },
   {
    "duration": 2272,
    "start_time": "2022-06-15T20:52:59.984Z"
   },
   {
    "duration": 5,
    "start_time": "2022-06-15T20:53:02.258Z"
   },
   {
    "duration": 32,
    "start_time": "2022-06-15T20:53:02.264Z"
   },
   {
    "duration": 102,
    "start_time": "2022-06-15T20:53:02.298Z"
   },
   {
    "duration": 10,
    "start_time": "2022-06-15T20:53:02.402Z"
   },
   {
    "duration": 14,
    "start_time": "2022-06-15T20:53:02.414Z"
   },
   {
    "duration": 37,
    "start_time": "2022-06-15T20:53:02.430Z"
   },
   {
    "duration": 2027,
    "start_time": "2022-06-15T20:53:02.468Z"
   },
   {
    "duration": 8,
    "start_time": "2022-06-15T20:53:04.500Z"
   },
   {
    "duration": 19,
    "start_time": "2022-06-15T20:53:04.510Z"
   },
   {
    "duration": 16,
    "start_time": "2022-06-15T20:53:04.531Z"
   },
   {
    "duration": 20,
    "start_time": "2022-06-15T20:53:04.550Z"
   },
   {
    "duration": 14,
    "start_time": "2022-06-15T20:53:04.572Z"
   },
   {
    "duration": 31,
    "start_time": "2022-06-15T20:53:04.588Z"
   },
   {
    "duration": 30,
    "start_time": "2022-06-15T20:53:04.621Z"
   },
   {
    "duration": 30,
    "start_time": "2022-06-15T20:53:04.653Z"
   },
   {
    "duration": 3,
    "start_time": "2022-06-15T20:53:04.685Z"
   },
   {
    "duration": 20,
    "start_time": "2022-06-15T20:53:04.690Z"
   },
   {
    "duration": 30,
    "start_time": "2022-06-15T20:53:04.711Z"
   },
   {
    "duration": 30,
    "start_time": "2022-06-15T20:53:04.743Z"
   },
   {
    "duration": 8,
    "start_time": "2022-06-15T20:53:04.775Z"
   },
   {
    "duration": 381,
    "start_time": "2022-06-15T20:53:04.785Z"
   },
   {
    "duration": 6,
    "start_time": "2022-06-15T20:53:05.167Z"
   },
   {
    "duration": 18,
    "start_time": "2022-06-15T20:53:05.175Z"
   },
   {
    "duration": 8,
    "start_time": "2022-06-15T20:53:05.194Z"
   },
   {
    "duration": 25,
    "start_time": "2022-06-15T20:53:05.203Z"
   },
   {
    "duration": 25,
    "start_time": "2022-06-15T20:53:05.230Z"
   },
   {
    "duration": 5,
    "start_time": "2022-06-15T20:53:05.256Z"
   },
   {
    "duration": 481,
    "start_time": "2022-06-15T20:53:05.263Z"
   },
   {
    "duration": 5,
    "start_time": "2022-06-15T20:53:05.745Z"
   },
   {
    "duration": 14,
    "start_time": "2022-06-15T20:53:05.751Z"
   },
   {
    "duration": 243,
    "start_time": "2022-06-15T20:53:05.767Z"
   },
   {
    "duration": 4,
    "start_time": "2022-06-15T20:53:06.012Z"
   },
   {
    "duration": 230,
    "start_time": "2022-06-15T20:53:06.026Z"
   },
   {
    "duration": 250,
    "start_time": "2022-06-15T20:53:06.258Z"
   },
   {
    "duration": 248,
    "start_time": "2022-06-15T20:53:06.509Z"
   },
   {
    "duration": 19,
    "start_time": "2022-06-15T20:53:06.763Z"
   },
   {
    "duration": 164,
    "start_time": "2022-06-15T20:53:06.784Z"
   },
   {
    "duration": 11,
    "start_time": "2022-06-15T20:53:06.950Z"
   },
   {
    "duration": 15,
    "start_time": "2022-06-15T20:53:06.963Z"
   },
   {
    "duration": 328,
    "start_time": "2022-06-15T20:53:06.979Z"
   },
   {
    "duration": 19,
    "start_time": "2022-06-15T20:53:07.309Z"
   },
   {
    "duration": 11,
    "start_time": "2022-06-15T20:53:07.330Z"
   },
   {
    "duration": 8,
    "start_time": "2022-06-15T20:53:07.343Z"
   },
   {
    "duration": 27,
    "start_time": "2022-06-15T20:53:07.352Z"
   },
   {
    "duration": 6,
    "start_time": "2022-06-15T20:53:07.381Z"
   },
   {
    "duration": 39,
    "start_time": "2022-06-15T20:53:07.388Z"
   },
   {
    "duration": 1756,
    "start_time": "2022-06-15T20:53:07.429Z"
   },
   {
    "duration": 11,
    "start_time": "2022-06-15T20:53:09.187Z"
   },
   {
    "duration": 18,
    "start_time": "2022-06-15T20:53:09.200Z"
   },
   {
    "duration": 22,
    "start_time": "2022-06-15T20:53:09.220Z"
   },
   {
    "duration": 132,
    "start_time": "2022-06-15T20:53:09.244Z"
   },
   {
    "duration": 8,
    "start_time": "2022-06-15T20:53:09.377Z"
   },
   {
    "duration": 171,
    "start_time": "2022-06-15T20:53:09.387Z"
   },
   {
    "duration": 10,
    "start_time": "2022-06-15T20:53:09.560Z"
   },
   {
    "duration": 156,
    "start_time": "2022-06-15T20:53:09.572Z"
   },
   {
    "duration": 8,
    "start_time": "2022-06-15T20:53:09.729Z"
   },
   {
    "duration": 162,
    "start_time": "2022-06-15T20:53:09.739Z"
   },
   {
    "duration": 26,
    "start_time": "2022-06-15T20:53:09.902Z"
   },
   {
    "duration": 9,
    "start_time": "2022-06-15T20:53:09.929Z"
   },
   {
    "duration": 211,
    "start_time": "2022-06-15T20:53:09.940Z"
   },
   {
    "duration": 9,
    "start_time": "2022-06-15T20:53:10.153Z"
   },
   {
    "duration": 159,
    "start_time": "2022-06-15T20:53:10.164Z"
   },
   {
    "duration": 9,
    "start_time": "2022-06-15T20:53:10.324Z"
   },
   {
    "duration": 19,
    "start_time": "2022-06-15T20:53:10.335Z"
   },
   {
    "duration": 142,
    "start_time": "2022-06-15T20:53:10.357Z"
   },
   {
    "duration": 38,
    "start_time": "2022-06-15T20:53:10.501Z"
   },
   {
    "duration": 8,
    "start_time": "2022-06-15T20:53:10.541Z"
   },
   {
    "duration": 17,
    "start_time": "2022-06-15T20:53:10.551Z"
   },
   {
    "duration": 9,
    "start_time": "2022-06-15T20:53:10.570Z"
   },
   {
    "duration": 10,
    "start_time": "2022-06-15T20:53:10.580Z"
   },
   {
    "duration": 36,
    "start_time": "2022-06-15T20:53:10.592Z"
   },
   {
    "duration": 9,
    "start_time": "2022-06-15T20:53:10.630Z"
   },
   {
    "duration": 8,
    "start_time": "2022-06-15T20:53:10.640Z"
   },
   {
    "duration": 9,
    "start_time": "2022-06-15T20:53:10.650Z"
   },
   {
    "duration": 13,
    "start_time": "2022-06-15T20:53:10.660Z"
   },
   {
    "duration": 9,
    "start_time": "2022-06-15T20:53:10.675Z"
   },
   {
    "duration": 168,
    "start_time": "2022-06-15T20:53:10.685Z"
   },
   {
    "duration": 8,
    "start_time": "2022-06-15T20:53:10.855Z"
   },
   {
    "duration": 148,
    "start_time": "2022-06-15T20:53:10.865Z"
   },
   {
    "duration": 16,
    "start_time": "2022-06-15T20:53:11.015Z"
   },
   {
    "duration": 139,
    "start_time": "2022-06-15T20:53:11.034Z"
   },
   {
    "duration": 38,
    "start_time": "2022-06-15T20:53:11.175Z"
   },
   {
    "duration": 1279,
    "start_time": "2022-06-16T20:09:20.654Z"
   },
   {
    "duration": 28,
    "start_time": "2022-06-16T20:09:21.935Z"
   },
   {
    "duration": 31,
    "start_time": "2022-06-16T20:09:21.966Z"
   },
   {
    "duration": 34,
    "start_time": "2022-06-16T20:09:22.276Z"
   },
   {
    "duration": 35,
    "start_time": "2022-06-16T20:09:22.460Z"
   },
   {
    "duration": 10,
    "start_time": "2022-06-16T20:09:22.943Z"
   },
   {
    "duration": 12,
    "start_time": "2022-06-16T20:09:25.133Z"
   },
   {
    "duration": 12,
    "start_time": "2022-06-16T20:09:25.679Z"
   },
   {
    "duration": 21,
    "start_time": "2022-06-16T20:09:26.020Z"
   },
   {
    "duration": 9,
    "start_time": "2022-06-16T20:09:26.212Z"
   },
   {
    "duration": 7,
    "start_time": "2022-06-16T20:09:26.375Z"
   },
   {
    "duration": 2016,
    "start_time": "2022-06-16T20:09:26.943Z"
   },
   {
    "duration": 10,
    "start_time": "2022-06-16T20:09:28.961Z"
   },
   {
    "duration": 19,
    "start_time": "2022-06-16T20:09:28.973Z"
   },
   {
    "duration": 11,
    "start_time": "2022-06-16T20:09:28.995Z"
   },
   {
    "duration": 7,
    "start_time": "2022-06-16T20:09:29.026Z"
   },
   {
    "duration": 19,
    "start_time": "2022-06-16T20:09:29.034Z"
   },
   {
    "duration": 12,
    "start_time": "2022-06-16T20:09:29.054Z"
   },
   {
    "duration": 17,
    "start_time": "2022-06-16T20:09:29.303Z"
   },
   {
    "duration": 7,
    "start_time": "2022-06-16T20:09:29.461Z"
   },
   {
    "duration": 25,
    "start_time": "2022-06-16T20:09:29.653Z"
   },
   {
    "duration": 6,
    "start_time": "2022-06-16T20:09:30.387Z"
   },
   {
    "duration": 10,
    "start_time": "2022-06-16T20:09:30.575Z"
   },
   {
    "duration": 1624,
    "start_time": "2022-06-16T20:09:30.780Z"
   },
   {
    "duration": 24,
    "start_time": "2022-06-16T20:09:32.407Z"
   },
   {
    "duration": 7,
    "start_time": "2022-06-16T20:09:32.432Z"
   },
   {
    "duration": 24,
    "start_time": "2022-06-16T20:09:32.441Z"
   },
   {
    "duration": 13,
    "start_time": "2022-06-16T20:09:32.467Z"
   },
   {
    "duration": 9,
    "start_time": "2022-06-16T20:09:32.482Z"
   },
   {
    "duration": 2165,
    "start_time": "2022-06-16T20:09:32.531Z"
   },
   {
    "duration": 8,
    "start_time": "2022-06-16T20:09:34.699Z"
   },
   {
    "duration": 22,
    "start_time": "2022-06-16T20:09:34.709Z"
   },
   {
    "duration": 21,
    "start_time": "2022-06-16T20:09:34.733Z"
   },
   {
    "duration": 1932,
    "start_time": "2022-06-16T20:09:34.757Z"
   },
   {
    "duration": 5,
    "start_time": "2022-06-16T20:09:36.691Z"
   },
   {
    "duration": 8,
    "start_time": "2022-06-16T20:09:36.698Z"
   },
   {
    "duration": 23,
    "start_time": "2022-06-16T20:09:36.707Z"
   },
   {
    "duration": 1974,
    "start_time": "2022-06-16T20:09:36.732Z"
   },
   {
    "duration": 5,
    "start_time": "2022-06-16T20:09:38.709Z"
   },
   {
    "duration": 35,
    "start_time": "2022-06-16T20:09:38.715Z"
   },
   {
    "duration": 1904,
    "start_time": "2022-06-16T20:09:38.751Z"
   },
   {
    "duration": 5,
    "start_time": "2022-06-16T20:09:40.657Z"
   },
   {
    "duration": 9,
    "start_time": "2022-06-16T20:09:40.664Z"
   },
   {
    "duration": 15,
    "start_time": "2022-06-16T20:09:40.674Z"
   },
   {
    "duration": 17,
    "start_time": "2022-06-16T20:09:40.690Z"
   },
   {
    "duration": 1903,
    "start_time": "2022-06-16T20:09:40.726Z"
   },
   {
    "duration": 5,
    "start_time": "2022-06-16T20:09:42.631Z"
   },
   {
    "duration": 11,
    "start_time": "2022-06-16T20:09:42.638Z"
   },
   {
    "duration": 9,
    "start_time": "2022-06-16T20:09:42.650Z"
   },
   {
    "duration": 10,
    "start_time": "2022-06-16T20:09:42.661Z"
   },
   {
    "duration": 6,
    "start_time": "2022-06-16T20:09:42.673Z"
   },
   {
    "duration": 11,
    "start_time": "2022-06-16T20:09:42.681Z"
   },
   {
    "duration": 2010,
    "start_time": "2022-06-16T20:09:42.694Z"
   },
   {
    "duration": 19,
    "start_time": "2022-06-16T20:09:44.707Z"
   },
   {
    "duration": 167,
    "start_time": "2022-06-16T20:09:44.729Z"
   },
   {
    "duration": 15,
    "start_time": "2022-06-16T20:09:44.898Z"
   },
   {
    "duration": 12,
    "start_time": "2022-06-16T20:09:44.915Z"
   },
   {
    "duration": 8,
    "start_time": "2022-06-16T20:09:44.928Z"
   },
   {
    "duration": 14,
    "start_time": "2022-06-16T20:09:44.938Z"
   },
   {
    "duration": 11,
    "start_time": "2022-06-16T20:09:44.954Z"
   },
   {
    "duration": 29,
    "start_time": "2022-06-16T20:09:44.966Z"
   },
   {
    "duration": 2,
    "start_time": "2022-06-16T20:09:44.997Z"
   },
   {
    "duration": 30,
    "start_time": "2022-06-16T20:09:45.001Z"
   },
   {
    "duration": 30,
    "start_time": "2022-06-16T20:09:45.034Z"
   },
   {
    "duration": 29,
    "start_time": "2022-06-16T20:09:45.066Z"
   },
   {
    "duration": 7,
    "start_time": "2022-06-16T20:09:45.097Z"
   },
   {
    "duration": 389,
    "start_time": "2022-06-16T20:09:45.107Z"
   },
   {
    "duration": 6,
    "start_time": "2022-06-16T20:09:45.498Z"
   },
   {
    "duration": 10,
    "start_time": "2022-06-16T20:09:45.678Z"
   },
   {
    "duration": 10,
    "start_time": "2022-06-16T20:09:45.885Z"
   },
   {
    "duration": 11,
    "start_time": "2022-06-16T20:09:46.146Z"
   },
   {
    "duration": 27,
    "start_time": "2022-06-16T20:09:46.580Z"
   },
   {
    "duration": 5,
    "start_time": "2022-06-16T20:09:47.481Z"
   },
   {
    "duration": 431,
    "start_time": "2022-06-16T20:09:47.690Z"
   },
   {
    "duration": 5,
    "start_time": "2022-06-16T20:09:48.137Z"
   },
   {
    "duration": 7,
    "start_time": "2022-06-16T20:09:48.353Z"
   },
   {
    "duration": 238,
    "start_time": "2022-06-16T20:09:48.597Z"
   },
   {
    "duration": 5,
    "start_time": "2022-06-16T20:09:49.076Z"
   },
   {
    "duration": 233,
    "start_time": "2022-06-16T20:09:49.301Z"
   },
   {
    "duration": 250,
    "start_time": "2022-06-16T20:09:50.758Z"
   },
   {
    "duration": 250,
    "start_time": "2022-06-16T20:09:58.244Z"
   },
   {
    "duration": 34,
    "start_time": "2022-06-16T20:09:58.496Z"
   },
   {
    "duration": 128,
    "start_time": "2022-06-16T20:09:58.633Z"
   },
   {
    "duration": 10,
    "start_time": "2022-06-16T20:10:01.676Z"
   },
   {
    "duration": 6,
    "start_time": "2022-06-16T20:10:01.839Z"
   },
   {
    "duration": 332,
    "start_time": "2022-06-16T20:10:05.307Z"
   },
   {
    "duration": 11,
    "start_time": "2022-06-16T20:10:05.642Z"
   },
   {
    "duration": 176,
    "start_time": "2022-06-16T20:10:17.699Z"
   },
   {
    "duration": 47,
    "start_time": "2022-06-16T20:25:19.276Z"
   },
   {
    "duration": 810,
    "start_time": "2022-06-16T20:25:25.871Z"
   },
   {
    "duration": 28,
    "start_time": "2022-06-16T20:25:26.683Z"
   },
   {
    "duration": 19,
    "start_time": "2022-06-16T20:25:26.713Z"
   },
   {
    "duration": 21,
    "start_time": "2022-06-16T20:25:26.734Z"
   },
   {
    "duration": 44,
    "start_time": "2022-06-16T20:25:26.757Z"
   },
   {
    "duration": 9,
    "start_time": "2022-06-16T20:25:26.802Z"
   },
   {
    "duration": 9,
    "start_time": "2022-06-16T20:25:26.813Z"
   },
   {
    "duration": 10,
    "start_time": "2022-06-16T20:25:26.823Z"
   },
   {
    "duration": 19,
    "start_time": "2022-06-16T20:25:26.834Z"
   },
   {
    "duration": 44,
    "start_time": "2022-06-16T20:25:26.857Z"
   },
   {
    "duration": 5,
    "start_time": "2022-06-16T20:25:26.902Z"
   },
   {
    "duration": 1957,
    "start_time": "2022-06-16T20:25:26.909Z"
   },
   {
    "duration": 26,
    "start_time": "2022-06-16T20:25:28.868Z"
   },
   {
    "duration": 27,
    "start_time": "2022-06-16T20:25:28.896Z"
   },
   {
    "duration": 37,
    "start_time": "2022-06-16T20:25:28.925Z"
   },
   {
    "duration": 28,
    "start_time": "2022-06-16T20:25:28.963Z"
   },
   {
    "duration": 31,
    "start_time": "2022-06-16T20:25:28.992Z"
   },
   {
    "duration": 47,
    "start_time": "2022-06-16T20:25:29.025Z"
   },
   {
    "duration": 72,
    "start_time": "2022-06-16T20:25:29.074Z"
   },
   {
    "duration": 51,
    "start_time": "2022-06-16T20:25:29.148Z"
   },
   {
    "duration": 53,
    "start_time": "2022-06-16T20:25:29.200Z"
   },
   {
    "duration": 40,
    "start_time": "2022-06-16T20:25:29.254Z"
   },
   {
    "duration": 9,
    "start_time": "2022-06-16T20:25:29.296Z"
   },
   {
    "duration": 1567,
    "start_time": "2022-06-16T20:25:29.306Z"
   },
   {
    "duration": 7,
    "start_time": "2022-06-16T20:25:30.875Z"
   },
   {
    "duration": 19,
    "start_time": "2022-06-16T20:25:30.894Z"
   },
   {
    "duration": 23,
    "start_time": "2022-06-16T20:25:30.915Z"
   },
   {
    "duration": 26,
    "start_time": "2022-06-16T20:25:30.942Z"
   },
   {
    "duration": 10,
    "start_time": "2022-06-16T20:25:30.970Z"
   },
   {
    "duration": 1954,
    "start_time": "2022-06-16T20:25:30.981Z"
   },
   {
    "duration": 4,
    "start_time": "2022-06-16T20:25:32.937Z"
   },
   {
    "duration": 11,
    "start_time": "2022-06-16T20:25:32.942Z"
   },
   {
    "duration": 11,
    "start_time": "2022-06-16T20:25:32.954Z"
   },
   {
    "duration": 1945,
    "start_time": "2022-06-16T20:25:32.966Z"
   },
   {
    "duration": 4,
    "start_time": "2022-06-16T20:25:34.912Z"
   },
   {
    "duration": 7,
    "start_time": "2022-06-16T20:25:34.918Z"
   },
   {
    "duration": 9,
    "start_time": "2022-06-16T20:25:34.926Z"
   },
   {
    "duration": 1893,
    "start_time": "2022-06-16T20:25:34.937Z"
   },
   {
    "duration": 4,
    "start_time": "2022-06-16T20:25:36.832Z"
   },
   {
    "duration": 12,
    "start_time": "2022-06-16T20:25:36.837Z"
   },
   {
    "duration": 1846,
    "start_time": "2022-06-16T20:25:36.851Z"
   },
   {
    "duration": 6,
    "start_time": "2022-06-16T20:25:38.698Z"
   },
   {
    "duration": 16,
    "start_time": "2022-06-16T20:25:38.706Z"
   },
   {
    "duration": 31,
    "start_time": "2022-06-16T20:25:38.723Z"
   },
   {
    "duration": 8,
    "start_time": "2022-06-16T20:25:38.755Z"
   },
   {
    "duration": 1924,
    "start_time": "2022-06-16T20:25:38.764Z"
   },
   {
    "duration": 8,
    "start_time": "2022-06-16T20:25:40.690Z"
   },
   {
    "duration": 13,
    "start_time": "2022-06-16T20:25:40.699Z"
   },
   {
    "duration": 15,
    "start_time": "2022-06-16T20:25:40.714Z"
   },
   {
    "duration": 9,
    "start_time": "2022-06-16T20:25:40.731Z"
   },
   {
    "duration": 7,
    "start_time": "2022-06-16T20:25:40.742Z"
   },
   {
    "duration": 8,
    "start_time": "2022-06-16T20:25:40.750Z"
   },
   {
    "duration": 1875,
    "start_time": "2022-06-16T20:25:40.759Z"
   },
   {
    "duration": 6,
    "start_time": "2022-06-16T20:25:42.635Z"
   },
   {
    "duration": 5,
    "start_time": "2022-06-16T20:25:42.642Z"
   },
   {
    "duration": 7,
    "start_time": "2022-06-16T20:25:42.649Z"
   },
   {
    "duration": 8,
    "start_time": "2022-06-16T20:25:42.657Z"
   },
   {
    "duration": 30,
    "start_time": "2022-06-16T20:25:42.666Z"
   },
   {
    "duration": 8,
    "start_time": "2022-06-16T20:25:42.697Z"
   },
   {
    "duration": 12,
    "start_time": "2022-06-16T20:25:42.707Z"
   },
   {
    "duration": 25,
    "start_time": "2022-06-16T20:25:42.720Z"
   },
   {
    "duration": 2,
    "start_time": "2022-06-16T20:25:42.746Z"
   },
   {
    "duration": 8,
    "start_time": "2022-06-16T20:25:42.750Z"
   },
   {
    "duration": 42,
    "start_time": "2022-06-16T20:25:42.760Z"
   },
   {
    "duration": 16,
    "start_time": "2022-06-16T20:25:42.804Z"
   },
   {
    "duration": 8,
    "start_time": "2022-06-16T20:25:42.822Z"
   },
   {
    "duration": 367,
    "start_time": "2022-06-16T20:25:42.832Z"
   },
   {
    "duration": 4,
    "start_time": "2022-06-16T20:25:43.201Z"
   },
   {
    "duration": 18,
    "start_time": "2022-06-16T20:25:43.207Z"
   },
   {
    "duration": 9,
    "start_time": "2022-06-16T20:25:43.227Z"
   },
   {
    "duration": 9,
    "start_time": "2022-06-16T20:25:43.238Z"
   },
   {
    "duration": 48,
    "start_time": "2022-06-16T20:25:43.249Z"
   },
   {
    "duration": 4,
    "start_time": "2022-06-16T20:25:43.298Z"
   },
   {
    "duration": 607,
    "start_time": "2022-06-16T20:25:43.303Z"
   },
   {
    "duration": 4,
    "start_time": "2022-06-16T20:25:43.912Z"
   },
   {
    "duration": 9,
    "start_time": "2022-06-16T20:25:43.918Z"
   },
   {
    "duration": 247,
    "start_time": "2022-06-16T20:25:43.929Z"
   },
   {
    "duration": 5,
    "start_time": "2022-06-16T20:25:44.178Z"
   },
   {
    "duration": 226,
    "start_time": "2022-06-16T20:25:44.184Z"
   },
   {
    "duration": 227,
    "start_time": "2022-06-16T20:25:44.412Z"
   },
   {
    "duration": 231,
    "start_time": "2022-06-16T20:25:44.641Z"
   },
   {
    "duration": 25,
    "start_time": "2022-06-16T20:25:44.878Z"
   },
   {
    "duration": 140,
    "start_time": "2022-06-16T20:25:44.905Z"
   },
   {
    "duration": 9,
    "start_time": "2022-06-16T20:25:45.046Z"
   },
   {
    "duration": 7,
    "start_time": "2022-06-16T20:25:45.057Z"
   },
   {
    "duration": 311,
    "start_time": "2022-06-16T20:25:45.065Z"
   },
   {
    "duration": 19,
    "start_time": "2022-06-16T20:25:45.377Z"
   },
   {
    "duration": 8,
    "start_time": "2022-06-16T20:25:45.398Z"
   },
   {
    "duration": 8,
    "start_time": "2022-06-16T20:25:45.407Z"
   },
   {
    "duration": 23,
    "start_time": "2022-06-16T20:25:45.416Z"
   },
   {
    "duration": 5,
    "start_time": "2022-06-16T20:25:45.440Z"
   },
   {
    "duration": 10,
    "start_time": "2022-06-16T20:25:45.447Z"
   },
   {
    "duration": 1711,
    "start_time": "2022-06-16T20:25:45.458Z"
   },
   {
    "duration": 11,
    "start_time": "2022-06-16T20:25:47.170Z"
   },
   {
    "duration": 9,
    "start_time": "2022-06-16T20:25:47.182Z"
   },
   {
    "duration": 12,
    "start_time": "2022-06-16T20:25:47.192Z"
   },
   {
    "duration": 124,
    "start_time": "2022-06-16T20:25:47.206Z"
   },
   {
    "duration": 8,
    "start_time": "2022-06-16T20:25:47.332Z"
   },
   {
    "duration": 163,
    "start_time": "2022-06-16T20:25:47.342Z"
   },
   {
    "duration": 8,
    "start_time": "2022-06-16T20:25:47.506Z"
   },
   {
    "duration": 154,
    "start_time": "2022-06-16T20:25:47.515Z"
   },
   {
    "duration": 7,
    "start_time": "2022-06-16T20:25:47.670Z"
   },
   {
    "duration": 147,
    "start_time": "2022-06-16T20:25:47.679Z"
   },
   {
    "duration": 21,
    "start_time": "2022-06-16T20:25:47.828Z"
   },
   {
    "duration": 9,
    "start_time": "2022-06-16T20:25:47.851Z"
   },
   {
    "duration": 217,
    "start_time": "2022-06-16T20:25:47.861Z"
   },
   {
    "duration": 9,
    "start_time": "2022-06-16T20:25:48.080Z"
   },
   {
    "duration": 133,
    "start_time": "2022-06-16T20:25:48.093Z"
   },
   {
    "duration": 9,
    "start_time": "2022-06-16T20:25:48.228Z"
   },
   {
    "duration": 17,
    "start_time": "2022-06-16T20:25:48.239Z"
   },
   {
    "duration": 156,
    "start_time": "2022-06-16T20:25:48.257Z"
   },
   {
    "duration": 27,
    "start_time": "2022-06-16T20:25:48.415Z"
   },
   {
    "duration": 8,
    "start_time": "2022-06-16T20:25:48.444Z"
   },
   {
    "duration": 8,
    "start_time": "2022-06-16T20:25:48.453Z"
   },
   {
    "duration": 34,
    "start_time": "2022-06-16T20:25:48.463Z"
   },
   {
    "duration": 9,
    "start_time": "2022-06-16T20:25:48.498Z"
   },
   {
    "duration": 7,
    "start_time": "2022-06-16T20:25:48.509Z"
   },
   {
    "duration": 9,
    "start_time": "2022-06-16T20:25:48.518Z"
   },
   {
    "duration": 7,
    "start_time": "2022-06-16T20:25:48.529Z"
   },
   {
    "duration": 8,
    "start_time": "2022-06-16T20:25:48.537Z"
   },
   {
    "duration": 9,
    "start_time": "2022-06-16T20:25:48.547Z"
   },
   {
    "duration": 42,
    "start_time": "2022-06-16T20:25:48.557Z"
   },
   {
    "duration": 146,
    "start_time": "2022-06-16T20:25:48.601Z"
   },
   {
    "duration": 14,
    "start_time": "2022-06-16T20:25:48.749Z"
   },
   {
    "duration": 179,
    "start_time": "2022-06-16T20:25:48.765Z"
   },
   {
    "duration": 10,
    "start_time": "2022-06-16T20:25:48.946Z"
   },
   {
    "duration": 173,
    "start_time": "2022-06-16T20:25:48.958Z"
   },
   {
    "duration": 35,
    "start_time": "2022-06-16T20:25:49.133Z"
   },
   {
    "duration": 52,
    "start_time": "2022-06-16T20:25:49.170Z"
   },
   {
    "duration": 17,
    "start_time": "2022-06-16T20:25:59.270Z"
   },
   {
    "duration": 15,
    "start_time": "2022-06-16T20:28:51.605Z"
   },
   {
    "duration": 46,
    "start_time": "2022-06-16T20:29:04.059Z"
   },
   {
    "duration": 55,
    "start_time": "2022-06-16T20:29:10.266Z"
   },
   {
    "duration": 347,
    "start_time": "2022-06-16T20:29:38.095Z"
   },
   {
    "duration": 14,
    "start_time": "2022-06-16T20:31:46.717Z"
   },
   {
    "duration": 22,
    "start_time": "2022-06-16T20:32:10.373Z"
   },
   {
    "duration": 6,
    "start_time": "2022-06-16T20:33:18.458Z"
   },
   {
    "duration": 35,
    "start_time": "2022-06-16T20:33:28.313Z"
   },
   {
    "duration": 9,
    "start_time": "2022-06-16T20:34:09.241Z"
   },
   {
    "duration": 4,
    "start_time": "2022-06-16T20:35:06.332Z"
   },
   {
    "duration": 15,
    "start_time": "2022-06-16T20:36:47.593Z"
   },
   {
    "duration": 16,
    "start_time": "2022-06-16T20:36:53.604Z"
   },
   {
    "duration": 345,
    "start_time": "2022-06-16T20:37:27.534Z"
   },
   {
    "duration": 32,
    "start_time": "2022-06-16T20:39:57.064Z"
   },
   {
    "duration": 10,
    "start_time": "2022-06-16T20:40:05.270Z"
   },
   {
    "duration": 11,
    "start_time": "2022-06-16T20:40:16.830Z"
   },
   {
    "duration": 26,
    "start_time": "2022-06-16T20:40:55.000Z"
   },
   {
    "duration": 25,
    "start_time": "2022-06-16T20:42:07.218Z"
   },
   {
    "duration": 30,
    "start_time": "2022-06-16T20:42:19.000Z"
   },
   {
    "duration": 16,
    "start_time": "2022-06-16T20:42:36.101Z"
   },
   {
    "duration": 24,
    "start_time": "2022-06-16T20:42:46.177Z"
   },
   {
    "duration": 3,
    "start_time": "2022-06-16T20:43:55.006Z"
   },
   {
    "duration": 23,
    "start_time": "2022-06-16T20:44:03.594Z"
   },
   {
    "duration": 37,
    "start_time": "2022-06-16T20:45:58.133Z"
   },
   {
    "duration": 27,
    "start_time": "2022-06-16T20:46:08.776Z"
   },
   {
    "duration": 26,
    "start_time": "2022-06-16T20:47:02.557Z"
   },
   {
    "duration": 26,
    "start_time": "2022-06-16T20:47:11.501Z"
   },
   {
    "duration": 19,
    "start_time": "2022-06-16T20:47:14.898Z"
   },
   {
    "duration": 11,
    "start_time": "2022-06-16T20:49:56.589Z"
   },
   {
    "duration": 23,
    "start_time": "2022-06-16T20:49:59.614Z"
   },
   {
    "duration": 140,
    "start_time": "2022-06-16T20:50:07.757Z"
   },
   {
    "duration": 28,
    "start_time": "2022-06-16T20:50:07.899Z"
   },
   {
    "duration": 24,
    "start_time": "2022-06-16T20:50:07.929Z"
   },
   {
    "duration": 49,
    "start_time": "2022-06-16T20:50:07.955Z"
   },
   {
    "duration": 27,
    "start_time": "2022-06-16T20:50:08.006Z"
   },
   {
    "duration": 11,
    "start_time": "2022-06-16T20:50:08.035Z"
   },
   {
    "duration": 14,
    "start_time": "2022-06-16T20:50:08.048Z"
   },
   {
    "duration": 12,
    "start_time": "2022-06-16T20:50:08.096Z"
   },
   {
    "duration": 31,
    "start_time": "2022-06-16T20:50:08.110Z"
   },
   {
    "duration": 8,
    "start_time": "2022-06-16T20:50:08.144Z"
   },
   {
    "duration": 9,
    "start_time": "2022-06-16T20:50:08.154Z"
   },
   {
    "duration": 2149,
    "start_time": "2022-06-16T20:50:08.194Z"
   },
   {
    "duration": 9,
    "start_time": "2022-06-16T20:50:10.345Z"
   },
   {
    "duration": 8,
    "start_time": "2022-06-16T20:50:10.356Z"
   },
   {
    "duration": 9,
    "start_time": "2022-06-16T20:50:10.365Z"
   },
   {
    "duration": 6,
    "start_time": "2022-06-16T20:50:10.394Z"
   },
   {
    "duration": 11,
    "start_time": "2022-06-16T20:50:10.401Z"
   },
   {
    "duration": 12,
    "start_time": "2022-06-16T20:50:10.413Z"
   },
   {
    "duration": 15,
    "start_time": "2022-06-16T20:50:10.426Z"
   },
   {
    "duration": 6,
    "start_time": "2022-06-16T20:50:10.443Z"
   },
   {
    "duration": 60,
    "start_time": "2022-06-16T20:50:10.451Z"
   },
   {
    "duration": 6,
    "start_time": "2022-06-16T20:50:10.513Z"
   },
   {
    "duration": 11,
    "start_time": "2022-06-16T20:50:10.521Z"
   },
   {
    "duration": 1499,
    "start_time": "2022-06-16T20:50:10.534Z"
   },
   {
    "duration": 9,
    "start_time": "2022-06-16T20:50:12.035Z"
   },
   {
    "duration": 23,
    "start_time": "2022-06-16T20:50:12.046Z"
   },
   {
    "duration": 32,
    "start_time": "2022-06-16T20:50:12.071Z"
   },
   {
    "duration": 14,
    "start_time": "2022-06-16T20:50:12.108Z"
   },
   {
    "duration": 16,
    "start_time": "2022-06-16T20:50:12.124Z"
   },
   {
    "duration": 1957,
    "start_time": "2022-06-16T20:50:12.142Z"
   },
   {
    "duration": 4,
    "start_time": "2022-06-16T20:50:14.101Z"
   },
   {
    "duration": 7,
    "start_time": "2022-06-16T20:50:14.106Z"
   },
   {
    "duration": 9,
    "start_time": "2022-06-16T20:50:14.114Z"
   },
   {
    "duration": 1902,
    "start_time": "2022-06-16T20:50:14.124Z"
   },
   {
    "duration": 4,
    "start_time": "2022-06-16T20:50:16.028Z"
   },
   {
    "duration": 9,
    "start_time": "2022-06-16T20:50:16.034Z"
   },
   {
    "duration": 8,
    "start_time": "2022-06-16T20:50:16.045Z"
   },
   {
    "duration": 1917,
    "start_time": "2022-06-16T20:50:16.055Z"
   },
   {
    "duration": 4,
    "start_time": "2022-06-16T20:50:17.974Z"
   },
   {
    "duration": 24,
    "start_time": "2022-06-16T20:50:17.980Z"
   },
   {
    "duration": 1960,
    "start_time": "2022-06-16T20:50:18.006Z"
   },
   {
    "duration": 5,
    "start_time": "2022-06-16T20:50:19.968Z"
   },
   {
    "duration": 8,
    "start_time": "2022-06-16T20:50:19.974Z"
   },
   {
    "duration": 31,
    "start_time": "2022-06-16T20:50:19.984Z"
   },
   {
    "duration": 12,
    "start_time": "2022-06-16T20:50:20.017Z"
   },
   {
    "duration": 1943,
    "start_time": "2022-06-16T20:50:20.031Z"
   },
   {
    "duration": 5,
    "start_time": "2022-06-16T20:50:21.975Z"
   },
   {
    "duration": 18,
    "start_time": "2022-06-16T20:50:21.981Z"
   },
   {
    "duration": 6,
    "start_time": "2022-06-16T20:50:22.000Z"
   },
   {
    "duration": 7,
    "start_time": "2022-06-16T20:50:22.008Z"
   },
   {
    "duration": 8,
    "start_time": "2022-06-16T20:50:22.017Z"
   },
   {
    "duration": 11,
    "start_time": "2022-06-16T20:50:22.027Z"
   },
   {
    "duration": 1949,
    "start_time": "2022-06-16T20:50:22.040Z"
   },
   {
    "duration": 6,
    "start_time": "2022-06-16T20:50:23.993Z"
   },
   {
    "duration": 8,
    "start_time": "2022-06-16T20:50:24.001Z"
   },
   {
    "duration": 7,
    "start_time": "2022-06-16T20:50:24.011Z"
   },
   {
    "duration": 15,
    "start_time": "2022-06-16T20:50:24.020Z"
   },
   {
    "duration": 6,
    "start_time": "2022-06-16T20:50:24.037Z"
   },
   {
    "duration": 14,
    "start_time": "2022-06-16T20:50:24.045Z"
   },
   {
    "duration": 37,
    "start_time": "2022-06-16T20:50:24.061Z"
   },
   {
    "duration": 26,
    "start_time": "2022-06-16T20:50:24.100Z"
   },
   {
    "duration": 12,
    "start_time": "2022-06-16T20:50:24.128Z"
   },
   {
    "duration": 0,
    "start_time": "2022-06-16T20:50:24.145Z"
   },
   {
    "duration": 0,
    "start_time": "2022-06-16T20:50:24.146Z"
   },
   {
    "duration": 0,
    "start_time": "2022-06-16T20:50:24.147Z"
   },
   {
    "duration": 0,
    "start_time": "2022-06-16T20:50:24.148Z"
   },
   {
    "duration": 0,
    "start_time": "2022-06-16T20:50:24.149Z"
   },
   {
    "duration": 0,
    "start_time": "2022-06-16T20:50:24.150Z"
   },
   {
    "duration": 0,
    "start_time": "2022-06-16T20:50:24.151Z"
   },
   {
    "duration": 0,
    "start_time": "2022-06-16T20:50:24.152Z"
   },
   {
    "duration": 0,
    "start_time": "2022-06-16T20:50:24.153Z"
   },
   {
    "duration": 0,
    "start_time": "2022-06-16T20:50:24.154Z"
   },
   {
    "duration": 0,
    "start_time": "2022-06-16T20:50:24.156Z"
   },
   {
    "duration": 0,
    "start_time": "2022-06-16T20:50:24.195Z"
   },
   {
    "duration": 0,
    "start_time": "2022-06-16T20:50:24.196Z"
   },
   {
    "duration": 0,
    "start_time": "2022-06-16T20:50:24.197Z"
   },
   {
    "duration": 0,
    "start_time": "2022-06-16T20:50:24.198Z"
   },
   {
    "duration": 0,
    "start_time": "2022-06-16T20:50:24.200Z"
   },
   {
    "duration": 0,
    "start_time": "2022-06-16T20:50:24.201Z"
   },
   {
    "duration": 0,
    "start_time": "2022-06-16T20:50:24.202Z"
   },
   {
    "duration": 0,
    "start_time": "2022-06-16T20:50:24.203Z"
   },
   {
    "duration": 0,
    "start_time": "2022-06-16T20:50:24.204Z"
   },
   {
    "duration": 0,
    "start_time": "2022-06-16T20:50:24.205Z"
   },
   {
    "duration": 0,
    "start_time": "2022-06-16T20:50:24.206Z"
   },
   {
    "duration": 0,
    "start_time": "2022-06-16T20:50:24.207Z"
   },
   {
    "duration": 0,
    "start_time": "2022-06-16T20:50:24.208Z"
   },
   {
    "duration": 0,
    "start_time": "2022-06-16T20:50:24.209Z"
   },
   {
    "duration": 0,
    "start_time": "2022-06-16T20:50:24.210Z"
   },
   {
    "duration": 0,
    "start_time": "2022-06-16T20:50:24.210Z"
   },
   {
    "duration": 0,
    "start_time": "2022-06-16T20:50:24.212Z"
   },
   {
    "duration": 0,
    "start_time": "2022-06-16T20:50:24.213Z"
   },
   {
    "duration": 0,
    "start_time": "2022-06-16T20:50:24.215Z"
   },
   {
    "duration": 0,
    "start_time": "2022-06-16T20:50:24.217Z"
   },
   {
    "duration": 0,
    "start_time": "2022-06-16T20:50:24.218Z"
   },
   {
    "duration": 1,
    "start_time": "2022-06-16T20:50:24.219Z"
   },
   {
    "duration": 0,
    "start_time": "2022-06-16T20:50:24.221Z"
   },
   {
    "duration": 0,
    "start_time": "2022-06-16T20:50:24.223Z"
   },
   {
    "duration": 0,
    "start_time": "2022-06-16T20:50:24.224Z"
   },
   {
    "duration": 0,
    "start_time": "2022-06-16T20:50:24.226Z"
   },
   {
    "duration": 0,
    "start_time": "2022-06-16T20:50:24.227Z"
   },
   {
    "duration": 0,
    "start_time": "2022-06-16T20:50:24.229Z"
   },
   {
    "duration": 0,
    "start_time": "2022-06-16T20:50:24.230Z"
   },
   {
    "duration": 0,
    "start_time": "2022-06-16T20:50:24.231Z"
   },
   {
    "duration": 0,
    "start_time": "2022-06-16T20:50:24.295Z"
   },
   {
    "duration": 0,
    "start_time": "2022-06-16T20:50:24.297Z"
   },
   {
    "duration": 0,
    "start_time": "2022-06-16T20:50:24.298Z"
   },
   {
    "duration": 0,
    "start_time": "2022-06-16T20:50:24.300Z"
   },
   {
    "duration": 0,
    "start_time": "2022-06-16T20:50:24.301Z"
   },
   {
    "duration": 0,
    "start_time": "2022-06-16T20:50:24.302Z"
   },
   {
    "duration": 0,
    "start_time": "2022-06-16T20:50:24.303Z"
   },
   {
    "duration": 0,
    "start_time": "2022-06-16T20:50:24.304Z"
   },
   {
    "duration": 0,
    "start_time": "2022-06-16T20:50:24.306Z"
   },
   {
    "duration": 0,
    "start_time": "2022-06-16T20:50:24.307Z"
   },
   {
    "duration": 0,
    "start_time": "2022-06-16T20:50:24.308Z"
   },
   {
    "duration": 0,
    "start_time": "2022-06-16T20:50:24.310Z"
   },
   {
    "duration": 0,
    "start_time": "2022-06-16T20:50:24.312Z"
   },
   {
    "duration": 0,
    "start_time": "2022-06-16T20:50:24.313Z"
   },
   {
    "duration": 0,
    "start_time": "2022-06-16T20:50:24.314Z"
   },
   {
    "duration": 0,
    "start_time": "2022-06-16T20:50:24.316Z"
   },
   {
    "duration": 0,
    "start_time": "2022-06-16T20:50:24.317Z"
   },
   {
    "duration": 0,
    "start_time": "2022-06-16T20:50:24.319Z"
   },
   {
    "duration": 0,
    "start_time": "2022-06-16T20:50:24.320Z"
   },
   {
    "duration": 0,
    "start_time": "2022-06-16T20:50:24.322Z"
   },
   {
    "duration": 0,
    "start_time": "2022-06-16T20:50:24.323Z"
   },
   {
    "duration": 0,
    "start_time": "2022-06-16T20:50:24.324Z"
   },
   {
    "duration": 0,
    "start_time": "2022-06-16T20:50:24.326Z"
   },
   {
    "duration": 0,
    "start_time": "2022-06-16T20:50:24.327Z"
   },
   {
    "duration": 0,
    "start_time": "2022-06-16T20:50:24.329Z"
   },
   {
    "duration": 0,
    "start_time": "2022-06-16T20:50:24.330Z"
   },
   {
    "duration": 0,
    "start_time": "2022-06-16T20:50:24.332Z"
   },
   {
    "duration": 0,
    "start_time": "2022-06-16T20:50:24.395Z"
   },
   {
    "duration": 10,
    "start_time": "2022-06-16T20:55:36.156Z"
   },
   {
    "duration": 10,
    "start_time": "2022-06-16T20:56:08.691Z"
   },
   {
    "duration": 9,
    "start_time": "2022-06-16T20:56:14.937Z"
   },
   {
    "duration": 27,
    "start_time": "2022-06-16T20:56:24.870Z"
   },
   {
    "duration": 6,
    "start_time": "2022-06-16T20:56:27.538Z"
   },
   {
    "duration": 13,
    "start_time": "2022-06-16T20:56:56.690Z"
   },
   {
    "duration": 603,
    "start_time": "2022-06-16T20:57:30.549Z"
   },
   {
    "duration": 26,
    "start_time": "2022-06-16T20:57:31.154Z"
   },
   {
    "duration": 22,
    "start_time": "2022-06-16T20:57:31.194Z"
   },
   {
    "duration": 27,
    "start_time": "2022-06-16T20:57:31.218Z"
   },
   {
    "duration": 30,
    "start_time": "2022-06-16T20:57:31.247Z"
   },
   {
    "duration": 25,
    "start_time": "2022-06-16T20:57:31.278Z"
   },
   {
    "duration": 13,
    "start_time": "2022-06-16T20:57:31.305Z"
   },
   {
    "duration": 16,
    "start_time": "2022-06-16T20:57:31.320Z"
   },
   {
    "duration": 28,
    "start_time": "2022-06-16T20:57:31.338Z"
   },
   {
    "duration": 32,
    "start_time": "2022-06-16T20:57:31.369Z"
   },
   {
    "duration": 7,
    "start_time": "2022-06-16T20:57:31.403Z"
   },
   {
    "duration": 2070,
    "start_time": "2022-06-16T20:57:31.412Z"
   },
   {
    "duration": 15,
    "start_time": "2022-06-16T20:57:33.483Z"
   },
   {
    "duration": 7,
    "start_time": "2022-06-16T20:57:33.500Z"
   },
   {
    "duration": 10,
    "start_time": "2022-06-16T20:57:33.509Z"
   },
   {
    "duration": 6,
    "start_time": "2022-06-16T20:57:33.521Z"
   },
   {
    "duration": 8,
    "start_time": "2022-06-16T20:57:33.529Z"
   },
   {
    "duration": 10,
    "start_time": "2022-06-16T20:57:33.539Z"
   },
   {
    "duration": 50,
    "start_time": "2022-06-16T20:57:33.550Z"
   },
   {
    "duration": 6,
    "start_time": "2022-06-16T20:57:33.602Z"
   },
   {
    "duration": 30,
    "start_time": "2022-06-16T20:57:33.610Z"
   },
   {
    "duration": 5,
    "start_time": "2022-06-16T20:57:33.641Z"
   },
   {
    "duration": 11,
    "start_time": "2022-06-16T20:57:33.648Z"
   },
   {
    "duration": 1527,
    "start_time": "2022-06-16T20:57:33.661Z"
   },
   {
    "duration": 12,
    "start_time": "2022-06-16T20:57:35.190Z"
   },
   {
    "duration": 13,
    "start_time": "2022-06-16T20:57:35.204Z"
   },
   {
    "duration": 25,
    "start_time": "2022-06-16T20:57:35.219Z"
   },
   {
    "duration": 18,
    "start_time": "2022-06-16T20:57:35.248Z"
   },
   {
    "duration": 31,
    "start_time": "2022-06-16T20:57:35.268Z"
   },
   {
    "duration": 1935,
    "start_time": "2022-06-16T20:57:35.301Z"
   },
   {
    "duration": 5,
    "start_time": "2022-06-16T20:57:37.238Z"
   },
   {
    "duration": 16,
    "start_time": "2022-06-16T20:57:37.244Z"
   },
   {
    "duration": 21,
    "start_time": "2022-06-16T20:57:37.261Z"
   },
   {
    "duration": 1889,
    "start_time": "2022-06-16T20:57:37.283Z"
   },
   {
    "duration": 4,
    "start_time": "2022-06-16T20:57:39.174Z"
   },
   {
    "duration": 15,
    "start_time": "2022-06-16T20:57:39.180Z"
   },
   {
    "duration": 10,
    "start_time": "2022-06-16T20:57:39.197Z"
   },
   {
    "duration": 1838,
    "start_time": "2022-06-16T20:57:39.209Z"
   },
   {
    "duration": 5,
    "start_time": "2022-06-16T20:57:41.048Z"
   },
   {
    "duration": 12,
    "start_time": "2022-06-16T20:57:41.054Z"
   },
   {
    "duration": 1821,
    "start_time": "2022-06-16T20:57:41.067Z"
   },
   {
    "duration": 8,
    "start_time": "2022-06-16T20:57:42.889Z"
   },
   {
    "duration": 7,
    "start_time": "2022-06-16T20:57:42.898Z"
   },
   {
    "duration": 14,
    "start_time": "2022-06-16T20:57:42.906Z"
   },
   {
    "duration": 7,
    "start_time": "2022-06-16T20:57:42.922Z"
   },
   {
    "duration": 1929,
    "start_time": "2022-06-16T20:57:42.930Z"
   },
   {
    "duration": 5,
    "start_time": "2022-06-16T20:57:44.861Z"
   },
   {
    "duration": 8,
    "start_time": "2022-06-16T20:57:44.868Z"
   },
   {
    "duration": 16,
    "start_time": "2022-06-16T20:57:44.878Z"
   },
   {
    "duration": 5,
    "start_time": "2022-06-16T20:57:44.896Z"
   },
   {
    "duration": 26,
    "start_time": "2022-06-16T20:57:44.902Z"
   },
   {
    "duration": 10,
    "start_time": "2022-06-16T20:57:44.929Z"
   },
   {
    "duration": 1845,
    "start_time": "2022-06-16T20:57:44.940Z"
   },
   {
    "duration": 8,
    "start_time": "2022-06-16T20:57:46.787Z"
   },
   {
    "duration": 19,
    "start_time": "2022-06-16T20:57:46.796Z"
   },
   {
    "duration": 20,
    "start_time": "2022-06-16T20:57:46.817Z"
   },
   {
    "duration": 14,
    "start_time": "2022-06-16T20:57:46.839Z"
   },
   {
    "duration": 22,
    "start_time": "2022-06-16T20:57:46.854Z"
   },
   {
    "duration": 22,
    "start_time": "2022-06-16T20:57:46.878Z"
   },
   {
    "duration": 22,
    "start_time": "2022-06-16T20:57:46.902Z"
   },
   {
    "duration": 30,
    "start_time": "2022-06-16T20:57:46.926Z"
   },
   {
    "duration": 5,
    "start_time": "2022-06-16T20:57:46.958Z"
   },
   {
    "duration": 26,
    "start_time": "2022-06-16T20:57:46.964Z"
   },
   {
    "duration": 17,
    "start_time": "2022-06-16T20:57:46.992Z"
   },
   {
    "duration": 8,
    "start_time": "2022-06-16T20:57:47.011Z"
   },
   {
    "duration": 369,
    "start_time": "2022-06-16T20:57:47.020Z"
   },
   {
    "duration": 5,
    "start_time": "2022-06-16T20:57:47.393Z"
   },
   {
    "duration": 14,
    "start_time": "2022-06-16T20:57:47.399Z"
   },
   {
    "duration": 27,
    "start_time": "2022-06-16T20:57:47.415Z"
   },
   {
    "duration": 9,
    "start_time": "2022-06-16T20:57:47.444Z"
   },
   {
    "duration": 29,
    "start_time": "2022-06-16T20:57:47.455Z"
   },
   {
    "duration": 4,
    "start_time": "2022-06-16T20:57:47.486Z"
   },
   {
    "duration": 436,
    "start_time": "2022-06-16T20:57:47.492Z"
   },
   {
    "duration": 5,
    "start_time": "2022-06-16T20:57:47.930Z"
   },
   {
    "duration": 20,
    "start_time": "2022-06-16T20:57:47.936Z"
   },
   {
    "duration": 246,
    "start_time": "2022-06-16T20:57:47.958Z"
   },
   {
    "duration": 4,
    "start_time": "2022-06-16T20:57:48.207Z"
   },
   {
    "duration": 257,
    "start_time": "2022-06-16T20:57:48.213Z"
   },
   {
    "duration": 226,
    "start_time": "2022-06-16T20:57:48.471Z"
   },
   {
    "duration": 281,
    "start_time": "2022-06-16T20:57:48.699Z"
   },
   {
    "duration": 29,
    "start_time": "2022-06-16T20:57:48.984Z"
   },
   {
    "duration": 162,
    "start_time": "2022-06-16T20:57:49.020Z"
   },
   {
    "duration": 10,
    "start_time": "2022-06-16T20:57:49.193Z"
   },
   {
    "duration": 9,
    "start_time": "2022-06-16T20:57:49.204Z"
   },
   {
    "duration": 314,
    "start_time": "2022-06-16T20:57:49.215Z"
   },
   {
    "duration": 8,
    "start_time": "2022-06-16T20:57:49.530Z"
   },
   {
    "duration": 9,
    "start_time": "2022-06-16T20:57:49.540Z"
   },
   {
    "duration": 9,
    "start_time": "2022-06-16T20:57:49.550Z"
   },
   {
    "duration": 50,
    "start_time": "2022-06-16T20:57:49.560Z"
   },
   {
    "duration": 6,
    "start_time": "2022-06-16T20:57:49.611Z"
   },
   {
    "duration": 13,
    "start_time": "2022-06-16T20:57:49.618Z"
   },
   {
    "duration": 11,
    "start_time": "2022-06-16T20:57:49.632Z"
   },
   {
    "duration": 1745,
    "start_time": "2022-06-16T20:57:49.644Z"
   },
   {
    "duration": 11,
    "start_time": "2022-06-16T20:57:51.391Z"
   },
   {
    "duration": 19,
    "start_time": "2022-06-16T20:57:51.403Z"
   },
   {
    "duration": 15,
    "start_time": "2022-06-16T20:57:51.424Z"
   },
   {
    "duration": 117,
    "start_time": "2022-06-16T20:57:51.440Z"
   },
   {
    "duration": 7,
    "start_time": "2022-06-16T20:57:51.559Z"
   },
   {
    "duration": 159,
    "start_time": "2022-06-16T20:57:51.568Z"
   },
   {
    "duration": 8,
    "start_time": "2022-06-16T20:57:51.729Z"
   },
   {
    "duration": 158,
    "start_time": "2022-06-16T20:57:51.738Z"
   },
   {
    "duration": 7,
    "start_time": "2022-06-16T20:57:51.897Z"
   },
   {
    "duration": 144,
    "start_time": "2022-06-16T20:57:51.906Z"
   },
   {
    "duration": 20,
    "start_time": "2022-06-16T20:57:52.052Z"
   },
   {
    "duration": 21,
    "start_time": "2022-06-16T20:57:52.074Z"
   },
   {
    "duration": 185,
    "start_time": "2022-06-16T20:57:52.097Z"
   },
   {
    "duration": 14,
    "start_time": "2022-06-16T20:57:52.284Z"
   },
   {
    "duration": 136,
    "start_time": "2022-06-16T20:57:52.300Z"
   },
   {
    "duration": 8,
    "start_time": "2022-06-16T20:57:52.438Z"
   },
   {
    "duration": 16,
    "start_time": "2022-06-16T20:57:52.448Z"
   },
   {
    "duration": 158,
    "start_time": "2022-06-16T20:57:52.466Z"
   },
   {
    "duration": 25,
    "start_time": "2022-06-16T20:57:52.625Z"
   },
   {
    "duration": 6,
    "start_time": "2022-06-16T20:57:52.652Z"
   },
   {
    "duration": 7,
    "start_time": "2022-06-16T20:57:52.660Z"
   },
   {
    "duration": 27,
    "start_time": "2022-06-16T20:57:52.668Z"
   },
   {
    "duration": 9,
    "start_time": "2022-06-16T20:57:52.696Z"
   },
   {
    "duration": 7,
    "start_time": "2022-06-16T20:57:52.706Z"
   },
   {
    "duration": 8,
    "start_time": "2022-06-16T20:57:52.714Z"
   },
   {
    "duration": 6,
    "start_time": "2022-06-16T20:57:52.723Z"
   },
   {
    "duration": 6,
    "start_time": "2022-06-16T20:57:52.731Z"
   },
   {
    "duration": 9,
    "start_time": "2022-06-16T20:57:52.739Z"
   },
   {
    "duration": 48,
    "start_time": "2022-06-16T20:57:52.750Z"
   },
   {
    "duration": 134,
    "start_time": "2022-06-16T20:57:52.800Z"
   },
   {
    "duration": 7,
    "start_time": "2022-06-16T20:57:52.936Z"
   },
   {
    "duration": 142,
    "start_time": "2022-06-16T20:57:52.945Z"
   },
   {
    "duration": 7,
    "start_time": "2022-06-16T20:57:53.093Z"
   },
   {
    "duration": 139,
    "start_time": "2022-06-16T20:57:53.102Z"
   },
   {
    "duration": 33,
    "start_time": "2022-06-16T20:57:53.243Z"
   },
   {
    "duration": 81,
    "start_time": "2022-06-16T20:57:53.278Z"
   },
   {
    "duration": 0,
    "start_time": "2022-06-16T20:57:53.362Z"
   },
   {
    "duration": 22,
    "start_time": "2022-06-16T20:57:58.852Z"
   },
   {
    "duration": 3,
    "start_time": "2022-06-16T20:58:37.954Z"
   },
   {
    "duration": 33,
    "start_time": "2022-06-16T20:58:43.385Z"
   },
   {
    "duration": 19,
    "start_time": "2022-06-16T20:58:47.295Z"
   },
   {
    "duration": 14,
    "start_time": "2022-06-16T20:58:53.423Z"
   },
   {
    "duration": 9,
    "start_time": "2022-06-16T20:59:33.110Z"
   },
   {
    "duration": 21,
    "start_time": "2022-06-16T21:00:11.591Z"
   },
   {
    "duration": 4,
    "start_time": "2022-06-16T21:02:25.905Z"
   },
   {
    "duration": 6,
    "start_time": "2022-06-16T21:02:34.406Z"
   },
   {
    "duration": 11,
    "start_time": "2022-06-16T21:05:46.142Z"
   },
   {
    "duration": 8,
    "start_time": "2022-06-16T21:07:40.400Z"
   },
   {
    "duration": 8,
    "start_time": "2022-06-16T21:08:57.471Z"
   },
   {
    "duration": 10,
    "start_time": "2022-06-16T21:10:59.836Z"
   },
   {
    "duration": 5,
    "start_time": "2022-06-16T21:11:29.358Z"
   },
   {
    "duration": 5,
    "start_time": "2022-06-16T21:13:47.311Z"
   },
   {
    "duration": 7,
    "start_time": "2022-06-16T21:14:26.067Z"
   },
   {
    "duration": 6,
    "start_time": "2022-06-16T21:16:04.762Z"
   },
   {
    "duration": 7,
    "start_time": "2022-06-16T21:16:12.312Z"
   },
   {
    "duration": 2503,
    "start_time": "2022-06-16T21:18:42.272Z"
   },
   {
    "duration": 12,
    "start_time": "2022-06-16T21:19:06.111Z"
   },
   {
    "duration": 10,
    "start_time": "2022-06-16T21:21:29.503Z"
   },
   {
    "duration": 2025,
    "start_time": "2022-06-16T21:21:36.975Z"
   },
   {
    "duration": 12,
    "start_time": "2022-06-16T21:21:42.288Z"
   },
   {
    "duration": 599,
    "start_time": "2022-06-16T21:27:31.018Z"
   },
   {
    "duration": 27,
    "start_time": "2022-06-16T21:27:31.619Z"
   },
   {
    "duration": 56,
    "start_time": "2022-06-16T21:27:31.648Z"
   },
   {
    "duration": 33,
    "start_time": "2022-06-16T21:27:31.707Z"
   },
   {
    "duration": 25,
    "start_time": "2022-06-16T21:27:31.742Z"
   },
   {
    "duration": 35,
    "start_time": "2022-06-16T21:27:31.768Z"
   },
   {
    "duration": 18,
    "start_time": "2022-06-16T21:27:31.804Z"
   },
   {
    "duration": 18,
    "start_time": "2022-06-16T21:27:31.824Z"
   },
   {
    "duration": 21,
    "start_time": "2022-06-16T21:27:31.844Z"
   },
   {
    "duration": 13,
    "start_time": "2022-06-16T21:27:31.897Z"
   },
   {
    "duration": 9,
    "start_time": "2022-06-16T21:27:31.912Z"
   },
   {
    "duration": 2058,
    "start_time": "2022-06-16T21:27:31.923Z"
   },
   {
    "duration": 17,
    "start_time": "2022-06-16T21:27:33.983Z"
   },
   {
    "duration": 6,
    "start_time": "2022-06-16T21:27:34.001Z"
   },
   {
    "duration": 12,
    "start_time": "2022-06-16T21:27:34.008Z"
   },
   {
    "duration": 9,
    "start_time": "2022-06-16T21:27:34.021Z"
   },
   {
    "duration": 11,
    "start_time": "2022-06-16T21:27:34.032Z"
   },
   {
    "duration": 17,
    "start_time": "2022-06-16T21:27:34.045Z"
   },
   {
    "duration": 47,
    "start_time": "2022-06-16T21:27:34.063Z"
   },
   {
    "duration": 6,
    "start_time": "2022-06-16T21:27:34.112Z"
   },
   {
    "duration": 28,
    "start_time": "2022-06-16T21:27:34.119Z"
   },
   {
    "duration": 5,
    "start_time": "2022-06-16T21:27:34.149Z"
   },
   {
    "duration": 44,
    "start_time": "2022-06-16T21:27:34.155Z"
   },
   {
    "duration": 1499,
    "start_time": "2022-06-16T21:27:34.201Z"
   },
   {
    "duration": 10,
    "start_time": "2022-06-16T21:27:35.701Z"
   },
   {
    "duration": 5,
    "start_time": "2022-06-16T21:27:35.713Z"
   },
   {
    "duration": 24,
    "start_time": "2022-06-16T21:27:35.720Z"
   },
   {
    "duration": 50,
    "start_time": "2022-06-16T21:27:35.748Z"
   },
   {
    "duration": 11,
    "start_time": "2022-06-16T21:27:35.800Z"
   },
   {
    "duration": 1925,
    "start_time": "2022-06-16T21:27:35.813Z"
   },
   {
    "duration": 6,
    "start_time": "2022-06-16T21:27:37.739Z"
   },
   {
    "duration": 10,
    "start_time": "2022-06-16T21:27:37.746Z"
   },
   {
    "duration": 13,
    "start_time": "2022-06-16T21:27:37.757Z"
   },
   {
    "duration": 1983,
    "start_time": "2022-06-16T21:27:37.772Z"
   },
   {
    "duration": 4,
    "start_time": "2022-06-16T21:27:39.757Z"
   },
   {
    "duration": 25,
    "start_time": "2022-06-16T21:27:39.762Z"
   },
   {
    "duration": 27,
    "start_time": "2022-06-16T21:27:39.788Z"
   },
   {
    "duration": 1946,
    "start_time": "2022-06-16T21:27:39.816Z"
   },
   {
    "duration": 5,
    "start_time": "2022-06-16T21:27:41.764Z"
   },
   {
    "duration": 25,
    "start_time": "2022-06-16T21:27:41.771Z"
   },
   {
    "duration": 1952,
    "start_time": "2022-06-16T21:27:41.798Z"
   },
   {
    "duration": 5,
    "start_time": "2022-06-16T21:27:43.751Z"
   },
   {
    "duration": 6,
    "start_time": "2022-06-16T21:27:43.758Z"
   },
   {
    "duration": 34,
    "start_time": "2022-06-16T21:27:43.765Z"
   },
   {
    "duration": 7,
    "start_time": "2022-06-16T21:27:43.801Z"
   },
   {
    "duration": 1946,
    "start_time": "2022-06-16T21:27:43.810Z"
   },
   {
    "duration": 6,
    "start_time": "2022-06-16T21:27:45.757Z"
   },
   {
    "duration": 7,
    "start_time": "2022-06-16T21:27:45.764Z"
   },
   {
    "duration": 22,
    "start_time": "2022-06-16T21:27:45.773Z"
   },
   {
    "duration": 7,
    "start_time": "2022-06-16T21:27:45.796Z"
   },
   {
    "duration": 10,
    "start_time": "2022-06-16T21:27:45.805Z"
   },
   {
    "duration": 7,
    "start_time": "2022-06-16T21:27:45.817Z"
   },
   {
    "duration": 1952,
    "start_time": "2022-06-16T21:27:45.825Z"
   },
   {
    "duration": 16,
    "start_time": "2022-06-16T21:27:47.779Z"
   },
   {
    "duration": 12,
    "start_time": "2022-06-16T21:27:47.796Z"
   },
   {
    "duration": 13,
    "start_time": "2022-06-16T21:27:47.809Z"
   },
   {
    "duration": 7,
    "start_time": "2022-06-16T21:27:47.823Z"
   },
   {
    "duration": 6,
    "start_time": "2022-06-16T21:27:47.831Z"
   },
   {
    "duration": 9,
    "start_time": "2022-06-16T21:27:47.838Z"
   },
   {
    "duration": 13,
    "start_time": "2022-06-16T21:27:47.848Z"
   },
   {
    "duration": 26,
    "start_time": "2022-06-16T21:27:47.894Z"
   },
   {
    "duration": 2,
    "start_time": "2022-06-16T21:27:47.922Z"
   },
   {
    "duration": 8,
    "start_time": "2022-06-16T21:27:47.926Z"
   },
   {
    "duration": 18,
    "start_time": "2022-06-16T21:27:47.936Z"
   },
   {
    "duration": 49,
    "start_time": "2022-06-16T21:27:47.955Z"
   },
   {
    "duration": 9,
    "start_time": "2022-06-16T21:27:48.006Z"
   },
   {
    "duration": 397,
    "start_time": "2022-06-16T21:27:48.017Z"
   },
   {
    "duration": 5,
    "start_time": "2022-06-16T21:27:48.416Z"
   },
   {
    "duration": 12,
    "start_time": "2022-06-16T21:27:48.422Z"
   },
   {
    "duration": 10,
    "start_time": "2022-06-16T21:27:48.436Z"
   },
   {
    "duration": 9,
    "start_time": "2022-06-16T21:27:48.448Z"
   },
   {
    "duration": 53,
    "start_time": "2022-06-16T21:27:48.458Z"
   },
   {
    "duration": 4,
    "start_time": "2022-06-16T21:27:48.513Z"
   },
   {
    "duration": 453,
    "start_time": "2022-06-16T21:27:48.519Z"
   },
   {
    "duration": 5,
    "start_time": "2022-06-16T21:27:48.974Z"
   },
   {
    "duration": 17,
    "start_time": "2022-06-16T21:27:48.981Z"
   },
   {
    "duration": 249,
    "start_time": "2022-06-16T21:27:49.000Z"
   },
   {
    "duration": 5,
    "start_time": "2022-06-16T21:27:49.251Z"
   },
   {
    "duration": 337,
    "start_time": "2022-06-16T21:27:49.257Z"
   },
   {
    "duration": 242,
    "start_time": "2022-06-16T21:27:49.596Z"
   },
   {
    "duration": 268,
    "start_time": "2022-06-16T21:27:49.840Z"
   },
   {
    "duration": 17,
    "start_time": "2022-06-16T21:27:50.115Z"
   },
   {
    "duration": 163,
    "start_time": "2022-06-16T21:27:50.133Z"
   },
   {
    "duration": 9,
    "start_time": "2022-06-16T21:27:50.298Z"
   },
   {
    "duration": 5,
    "start_time": "2022-06-16T21:27:50.309Z"
   },
   {
    "duration": 347,
    "start_time": "2022-06-16T21:27:50.317Z"
   },
   {
    "duration": 9,
    "start_time": "2022-06-16T21:27:50.666Z"
   },
   {
    "duration": 27,
    "start_time": "2022-06-16T21:27:50.676Z"
   },
   {
    "duration": 11,
    "start_time": "2022-06-16T21:27:50.704Z"
   },
   {
    "duration": 29,
    "start_time": "2022-06-16T21:27:50.717Z"
   },
   {
    "duration": 6,
    "start_time": "2022-06-16T21:27:50.748Z"
   },
   {
    "duration": 44,
    "start_time": "2022-06-16T21:27:50.755Z"
   },
   {
    "duration": 22,
    "start_time": "2022-06-16T21:27:50.800Z"
   },
   {
    "duration": 7,
    "start_time": "2022-06-16T21:27:50.824Z"
   },
   {
    "duration": 14,
    "start_time": "2022-06-16T21:27:50.833Z"
   },
   {
    "duration": 1844,
    "start_time": "2022-06-16T21:27:50.849Z"
   },
   {
    "duration": 11,
    "start_time": "2022-06-16T21:27:52.695Z"
   },
   {
    "duration": 10,
    "start_time": "2022-06-16T21:27:52.708Z"
   },
   {
    "duration": 13,
    "start_time": "2022-06-16T21:27:52.720Z"
   },
   {
    "duration": 173,
    "start_time": "2022-06-16T21:27:52.735Z"
   },
   {
    "duration": 9,
    "start_time": "2022-06-16T21:27:52.910Z"
   },
   {
    "duration": 190,
    "start_time": "2022-06-16T21:27:52.920Z"
   },
   {
    "duration": 8,
    "start_time": "2022-06-16T21:27:53.112Z"
   },
   {
    "duration": 188,
    "start_time": "2022-06-16T21:27:53.122Z"
   },
   {
    "duration": 7,
    "start_time": "2022-06-16T21:27:53.312Z"
   },
   {
    "duration": 177,
    "start_time": "2022-06-16T21:27:53.321Z"
   },
   {
    "duration": 21,
    "start_time": "2022-06-16T21:27:53.500Z"
   },
   {
    "duration": 9,
    "start_time": "2022-06-16T21:27:53.523Z"
   },
   {
    "duration": 215,
    "start_time": "2022-06-16T21:27:53.533Z"
   },
   {
    "duration": 8,
    "start_time": "2022-06-16T21:27:53.750Z"
   },
   {
    "duration": 149,
    "start_time": "2022-06-16T21:27:53.760Z"
   },
   {
    "duration": 7,
    "start_time": "2022-06-16T21:27:53.911Z"
   },
   {
    "duration": 16,
    "start_time": "2022-06-16T21:27:53.920Z"
   },
   {
    "duration": 166,
    "start_time": "2022-06-16T21:27:53.938Z"
   },
   {
    "duration": 27,
    "start_time": "2022-06-16T21:27:54.106Z"
   },
   {
    "duration": 8,
    "start_time": "2022-06-16T21:27:54.135Z"
   },
   {
    "duration": 8,
    "start_time": "2022-06-16T21:27:54.145Z"
   },
   {
    "duration": 41,
    "start_time": "2022-06-16T21:27:54.154Z"
   },
   {
    "duration": 10,
    "start_time": "2022-06-16T21:27:54.197Z"
   },
   {
    "duration": 16,
    "start_time": "2022-06-16T21:27:54.208Z"
   },
   {
    "duration": 12,
    "start_time": "2022-06-16T21:27:54.226Z"
   },
   {
    "duration": 9,
    "start_time": "2022-06-16T21:27:54.240Z"
   },
   {
    "duration": 10,
    "start_time": "2022-06-16T21:27:54.250Z"
   },
   {
    "duration": 9,
    "start_time": "2022-06-16T21:27:54.262Z"
   },
   {
    "duration": 29,
    "start_time": "2022-06-16T21:27:54.272Z"
   },
   {
    "duration": 160,
    "start_time": "2022-06-16T21:27:54.303Z"
   },
   {
    "duration": 8,
    "start_time": "2022-06-16T21:27:54.465Z"
   },
   {
    "duration": 164,
    "start_time": "2022-06-16T21:27:54.474Z"
   },
   {
    "duration": 7,
    "start_time": "2022-06-16T21:27:54.640Z"
   },
   {
    "duration": 148,
    "start_time": "2022-06-16T21:27:54.649Z"
   },
   {
    "duration": 37,
    "start_time": "2022-06-16T21:27:54.799Z"
   },
   {
    "duration": 10,
    "start_time": "2022-06-16T21:27:54.837Z"
   },
   {
    "duration": 2124,
    "start_time": "2022-06-16T21:27:54.848Z"
   },
   {
    "duration": 24,
    "start_time": "2022-06-16T21:27:56.973Z"
   },
   {
    "duration": 25,
    "start_time": "2022-06-16T21:27:56.999Z"
   },
   {
    "duration": 16,
    "start_time": "2022-06-16T21:27:57.026Z"
   }
  ],
  "kernelspec": {
   "display_name": "Python 3 (ipykernel)",
   "language": "python",
   "name": "python3"
  },
  "language_info": {
   "codemirror_mode": {
    "name": "ipython",
    "version": 3
   },
   "file_extension": ".py",
   "mimetype": "text/x-python",
   "name": "python",
   "nbconvert_exporter": "python",
   "pygments_lexer": "ipython3",
   "version": "3.9.12"
  },
  "toc": {
   "base_numbering": 1,
   "nav_menu": {},
   "number_sections": true,
   "sideBar": true,
   "skip_h1_title": true,
   "title_cell": "Содержание",
   "title_sidebar": "Contents",
   "toc_cell": true,
   "toc_position": {
    "height": "calc(100% - 180px)",
    "left": "10px",
    "top": "150px",
    "width": "165px"
   },
   "toc_section_display": true,
   "toc_window_display": true
  }
 },
 "nbformat": 4,
 "nbformat_minor": 4
}
