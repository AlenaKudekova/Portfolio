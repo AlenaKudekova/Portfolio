{
 "cells": [
  {
   "cell_type": "markdown",
   "metadata": {},
   "source": [
    "**Описание проекта:**\n",
    "\n",
    "Сеть фитнес-центров «Культурист-датасаентист» разрабатывает стратегию взаимодействия с клиентами на основе аналитических данных. Распространённая проблема фитнес-клубов и других сервисов — отток клиентов. Чтобы бороться с оттоком, отдел по работе с клиентами «Культуриста-датасаентиста» перевёл в электронный вид множество клиентских анкет.Задача — провести анализ и подготовить план действий по удержанию клиентов."
   ]
  },
  {
   "cell_type": "markdown",
   "metadata": {},
   "source": [
    "## Загрузка данных"
   ]
  },
  {
   "cell_type": "code",
   "execution_count": 1,
   "metadata": {
    "scrolled": true
   },
   "outputs": [
    {
     "name": "stdout",
     "output_type": "stream",
     "text": [
      "Collecting package metadata (current_repodata.json): done\n",
      "Solving environment: done\n",
      "\n",
      "\n",
      "==> WARNING: A newer version of conda exists. <==\n",
      "  current version: 4.10.2\n",
      "  latest version: 22.9.0\n",
      "\n",
      "Please update conda by running\n",
      "\n",
      "    $ conda update -n base conda\n",
      "\n",
      "\n",
      "\n",
      "## Package Plan ##\n",
      "\n",
      "  environment location: /opt/conda\n",
      "\n",
      "  added / updated specs:\n",
      "    - imbalanced-learn\n",
      "\n",
      "\n",
      "The following packages will be downloaded:\n",
      "\n",
      "    package                    |            build\n",
      "    ---------------------------|-----------------\n",
      "    ca-certificates-2022.9.24  |       ha878542_0         150 KB  conda-forge\n",
      "    certifi-2022.9.24          |     pyhd8ed1ab_0         155 KB  conda-forge\n",
      "    imbalanced-learn-0.7.0     |             py_1          97 KB  conda-forge\n",
      "    joblib-1.2.0               |     pyhd8ed1ab_0         205 KB  conda-forge\n",
      "    scikit-learn-0.24.2        |   py39h4dfa638_0         7.6 MB  conda-forge\n",
      "    scipy-1.6.3                |   py39hee8e79c_0        20.7 MB  conda-forge\n",
      "    threadpoolctl-3.1.0        |     pyh8a188c0_0          18 KB  conda-forge\n",
      "    ------------------------------------------------------------\n",
      "                                           Total:        28.9 MB\n",
      "\n",
      "The following NEW packages will be INSTALLED:\n",
      "\n",
      "  imbalanced-learn   conda-forge/noarch::imbalanced-learn-0.7.0-py_1\n",
      "  joblib             conda-forge/noarch::joblib-1.2.0-pyhd8ed1ab_0\n",
      "  scikit-learn       conda-forge/linux-64::scikit-learn-0.24.2-py39h4dfa638_0\n",
      "  scipy              conda-forge/linux-64::scipy-1.6.3-py39hee8e79c_0\n",
      "  threadpoolctl      conda-forge/noarch::threadpoolctl-3.1.0-pyh8a188c0_0\n",
      "\n",
      "The following packages will be UPDATED:\n",
      "\n",
      "  ca-certificates                      2022.6.15-ha878542_0 --> 2022.9.24-ha878542_0\n",
      "  certifi                            2022.6.15-pyhd8ed1ab_1 --> 2022.9.24-pyhd8ed1ab_0\n",
      "\n",
      "\n",
      "\n",
      "Downloading and Extracting Packages\n",
      "scipy-1.6.3          | 20.7 MB   | ##################################### | 100% \n",
      "scikit-learn-0.24.2  | 7.6 MB    | ##################################### | 100% \n",
      "ca-certificates-2022 | 150 KB    | ##################################### | 100% \n",
      "threadpoolctl-3.1.0  | 18 KB     | ##################################### | 100% \n",
      "imbalanced-learn-0.7 | 97 KB     | ##################################### | 100% \n",
      "certifi-2022.9.24    | 155 KB    | ##################################### | 100% \n",
      "joblib-1.2.0         | 205 KB    | ##################################### | 100% \n",
      "Preparing transaction: done\n",
      "Verifying transaction: done\n",
      "Executing transaction: done\n",
      "\n",
      "Note: you may need to restart the kernel to use updated packages.\n"
     ]
    }
   ],
   "source": [
    "conda install -c conda-forge imbalanced-learn"
   ]
  },
  {
   "cell_type": "code",
   "execution_count": 2,
   "metadata": {},
   "outputs": [],
   "source": [
    "import imblearn"
   ]
  },
  {
   "cell_type": "code",
   "execution_count": 3,
   "metadata": {},
   "outputs": [],
   "source": [
    "#загружаем библиотеки\n",
    "import pandas as pd\n",
    "import seaborn as sns\n",
    "from matplotlib import pyplot as plt\n",
    "from sklearn.preprocessing import StandardScaler\n",
    "from sklearn.model_selection import train_test_split\n",
    "from sklearn.linear_model import LogisticRegression\n",
    "from sklearn.linear_model import Lasso, Ridge\n",
    "from sklearn.tree import DecisionTreeRegressor\n",
    "from sklearn.ensemble import RandomForestClassifier\n",
    "import matplotlib.pyplot as plt\n",
    "from sklearn.metrics import mean_absolute_error, mean_squared_error, r2_score\n",
    "from sklearn.metrics import accuracy_score, precision_score, recall_score, f1_score\n",
    "from sklearn.metrics import roc_auc_score\n",
    "from itertools import combinations\n",
    "from sklearn.cluster import KMeans\n",
    "from scipy.cluster.hierarchy import dendrogram, linkage \n",
    "from sklearn.metrics import silhouette_score\n",
    "import sklearn\n",
    "from sklearn.metrics import classification_report\n",
    "from imblearn.under_sampling import NearMiss\n",
    "\n",
    "import numpy as np\n",
    "import warnings\n",
    "import re \n",
    "warnings.filterwarnings(\"ignore\")"
   ]
  },
  {
   "cell_type": "code",
   "execution_count": 4,
   "metadata": {},
   "outputs": [],
   "source": [
    "#загружаем файл\n",
    "data = pd.read_csv('/datasets/gym_churn.csv')"
   ]
  },
  {
   "cell_type": "markdown",
   "metadata": {},
   "source": [
    "## EDA - исследовательский анализ данных"
   ]
  },
  {
   "cell_type": "markdown",
   "metadata": {},
   "source": [
    "### Анализ качества признаков"
   ]
  },
  {
   "cell_type": "code",
   "execution_count": 5,
   "metadata": {},
   "outputs": [
    {
     "data": {
      "text/html": [
       "<div>\n",
       "<style scoped>\n",
       "    .dataframe tbody tr th:only-of-type {\n",
       "        vertical-align: middle;\n",
       "    }\n",
       "\n",
       "    .dataframe tbody tr th {\n",
       "        vertical-align: top;\n",
       "    }\n",
       "\n",
       "    .dataframe thead th {\n",
       "        text-align: right;\n",
       "    }\n",
       "</style>\n",
       "<table border=\"1\" class=\"dataframe\">\n",
       "  <thead>\n",
       "    <tr style=\"text-align: right;\">\n",
       "      <th></th>\n",
       "      <th>gender</th>\n",
       "      <th>Near_Location</th>\n",
       "      <th>Partner</th>\n",
       "      <th>Promo_friends</th>\n",
       "      <th>Phone</th>\n",
       "      <th>Contract_period</th>\n",
       "      <th>Group_visits</th>\n",
       "      <th>Age</th>\n",
       "      <th>Avg_additional_charges_total</th>\n",
       "      <th>Month_to_end_contract</th>\n",
       "      <th>Lifetime</th>\n",
       "      <th>Avg_class_frequency_total</th>\n",
       "      <th>Avg_class_frequency_current_month</th>\n",
       "      <th>Churn</th>\n",
       "    </tr>\n",
       "  </thead>\n",
       "  <tbody>\n",
       "    <tr>\n",
       "      <th>0</th>\n",
       "      <td>1</td>\n",
       "      <td>1</td>\n",
       "      <td>1</td>\n",
       "      <td>1</td>\n",
       "      <td>0</td>\n",
       "      <td>6</td>\n",
       "      <td>1</td>\n",
       "      <td>29</td>\n",
       "      <td>14.227470</td>\n",
       "      <td>5.0</td>\n",
       "      <td>3</td>\n",
       "      <td>0.020398</td>\n",
       "      <td>0.000000</td>\n",
       "      <td>0</td>\n",
       "    </tr>\n",
       "    <tr>\n",
       "      <th>1</th>\n",
       "      <td>0</td>\n",
       "      <td>1</td>\n",
       "      <td>0</td>\n",
       "      <td>0</td>\n",
       "      <td>1</td>\n",
       "      <td>12</td>\n",
       "      <td>1</td>\n",
       "      <td>31</td>\n",
       "      <td>113.202938</td>\n",
       "      <td>12.0</td>\n",
       "      <td>7</td>\n",
       "      <td>1.922936</td>\n",
       "      <td>1.910244</td>\n",
       "      <td>0</td>\n",
       "    </tr>\n",
       "    <tr>\n",
       "      <th>2</th>\n",
       "      <td>0</td>\n",
       "      <td>1</td>\n",
       "      <td>1</td>\n",
       "      <td>0</td>\n",
       "      <td>1</td>\n",
       "      <td>1</td>\n",
       "      <td>0</td>\n",
       "      <td>28</td>\n",
       "      <td>129.448479</td>\n",
       "      <td>1.0</td>\n",
       "      <td>2</td>\n",
       "      <td>1.859098</td>\n",
       "      <td>1.736502</td>\n",
       "      <td>0</td>\n",
       "    </tr>\n",
       "    <tr>\n",
       "      <th>3</th>\n",
       "      <td>0</td>\n",
       "      <td>1</td>\n",
       "      <td>1</td>\n",
       "      <td>1</td>\n",
       "      <td>1</td>\n",
       "      <td>12</td>\n",
       "      <td>1</td>\n",
       "      <td>33</td>\n",
       "      <td>62.669863</td>\n",
       "      <td>12.0</td>\n",
       "      <td>2</td>\n",
       "      <td>3.205633</td>\n",
       "      <td>3.357215</td>\n",
       "      <td>0</td>\n",
       "    </tr>\n",
       "    <tr>\n",
       "      <th>4</th>\n",
       "      <td>1</td>\n",
       "      <td>1</td>\n",
       "      <td>1</td>\n",
       "      <td>1</td>\n",
       "      <td>1</td>\n",
       "      <td>1</td>\n",
       "      <td>0</td>\n",
       "      <td>26</td>\n",
       "      <td>198.362265</td>\n",
       "      <td>1.0</td>\n",
       "      <td>3</td>\n",
       "      <td>1.113884</td>\n",
       "      <td>1.120078</td>\n",
       "      <td>0</td>\n",
       "    </tr>\n",
       "  </tbody>\n",
       "</table>\n",
       "</div>"
      ],
      "text/plain": [
       "   gender  Near_Location  Partner  Promo_friends  Phone  Contract_period  \\\n",
       "0       1              1        1              1      0                6   \n",
       "1       0              1        0              0      1               12   \n",
       "2       0              1        1              0      1                1   \n",
       "3       0              1        1              1      1               12   \n",
       "4       1              1        1              1      1                1   \n",
       "\n",
       "   Group_visits  Age  Avg_additional_charges_total  Month_to_end_contract  \\\n",
       "0             1   29                     14.227470                    5.0   \n",
       "1             1   31                    113.202938                   12.0   \n",
       "2             0   28                    129.448479                    1.0   \n",
       "3             1   33                     62.669863                   12.0   \n",
       "4             0   26                    198.362265                    1.0   \n",
       "\n",
       "   Lifetime  Avg_class_frequency_total  Avg_class_frequency_current_month  \\\n",
       "0         3                   0.020398                           0.000000   \n",
       "1         7                   1.922936                           1.910244   \n",
       "2         2                   1.859098                           1.736502   \n",
       "3         2                   3.205633                           3.357215   \n",
       "4         3                   1.113884                           1.120078   \n",
       "\n",
       "   Churn  \n",
       "0      0  \n",
       "1      0  \n",
       "2      0  \n",
       "3      0  \n",
       "4      0  "
      ]
     },
     "execution_count": 5,
     "metadata": {},
     "output_type": "execute_result"
    }
   ],
   "source": [
    "data.head()"
   ]
  },
  {
   "cell_type": "markdown",
   "metadata": {},
   "source": [
    "Пока не понятна полная картина информации. Но мы знаем значения всех колонок. Данные клиента за предыдущий до проверки факта оттока месяц:\n",
    "- 'gender' — пол;\n",
    "- 'Near_Location' — проживание или работа в районе, где находится фитнес-центр;\n",
    "- 'Partner' — сотрудник компании-партнёра клуба (сотрудничество с компаниями, чьи сотрудники могут получать скидки на абонемент — в таком случае фитнес-центр хранит информацию о работодателе клиента);\n",
    "- Promo_friends — факт первоначальной записи в рамках акции «приведи друга» (использовал промо-код от знакомого при оплате первого абонемента);\n",
    "- 'Phone' — наличие контактного телефона;\n",
    "- 'Age' — возраст;\n",
    "- 'Lifetime' — время с момента первого обращения в фитнес-центр (в месяцах).\n",
    "\n",
    "\n",
    "Информация на основе журнала посещений, покупок и информация о текущем статусе абонемента клиента:\n",
    "- 'Contract_period' — длительность текущего действующего абонемента (месяц, 6 месяцев, год);\n",
    "- 'Month_to_end_contract' — срок до окончания текущего действующего абонемента (в месяцах);\n",
    "- 'Group_visits' — факт посещения групповых занятий;\n",
    "- 'Avg_class_frequency_total' — средняя частота посещений в неделю за все время с начала действия абонемента;\n",
    "- 'Avg_class_frequency_current_month' — средняя частота посещений в неделю за предыдущий месяц;\n",
    "- 'Avg_additional_charges_total' — суммарная выручка от других услуг фитнес-центра: кафе, спорттовары, косметический и массажный салон.\n",
    "- 'Churn' — факт оттока в текущем месяце."
   ]
  },
  {
   "cell_type": "code",
   "execution_count": 6,
   "metadata": {
    "scrolled": false
   },
   "outputs": [
    {
     "name": "stdout",
     "output_type": "stream",
     "text": [
      "<class 'pandas.core.frame.DataFrame'>\n",
      "RangeIndex: 4000 entries, 0 to 3999\n",
      "Data columns (total 14 columns):\n",
      " #   Column                             Non-Null Count  Dtype  \n",
      "---  ------                             --------------  -----  \n",
      " 0   gender                             4000 non-null   int64  \n",
      " 1   Near_Location                      4000 non-null   int64  \n",
      " 2   Partner                            4000 non-null   int64  \n",
      " 3   Promo_friends                      4000 non-null   int64  \n",
      " 4   Phone                              4000 non-null   int64  \n",
      " 5   Contract_period                    4000 non-null   int64  \n",
      " 6   Group_visits                       4000 non-null   int64  \n",
      " 7   Age                                4000 non-null   int64  \n",
      " 8   Avg_additional_charges_total       4000 non-null   float64\n",
      " 9   Month_to_end_contract              4000 non-null   float64\n",
      " 10  Lifetime                           4000 non-null   int64  \n",
      " 11  Avg_class_frequency_total          4000 non-null   float64\n",
      " 12  Avg_class_frequency_current_month  4000 non-null   float64\n",
      " 13  Churn                              4000 non-null   int64  \n",
      "dtypes: float64(4), int64(10)\n",
      "memory usage: 437.6 KB\n"
     ]
    }
   ],
   "source": [
    "data.info()"
   ]
  },
  {
   "cell_type": "code",
   "execution_count": 7,
   "metadata": {},
   "outputs": [
    {
     "data": {
      "text/plain": [
       "(4000, 14)"
      ]
     },
     "execution_count": 7,
     "metadata": {},
     "output_type": "execute_result"
    }
   ],
   "source": [
    "data.shape"
   ]
  },
  {
   "cell_type": "markdown",
   "metadata": {},
   "source": [
    "- В нашем датасете есть 4000 строк, 14 столбцов, нет пропусков. Два типа данных (`int`и `float`). Все признаки у нас численные, тип данных подходит. Переменных, имеющих временную структуру, несколько:  'Lifetime', 'Contract_period', 'Month_to_end_contract'. "
   ]
  },
  {
   "cell_type": "code",
   "execution_count": 8,
   "metadata": {},
   "outputs": [
    {
     "name": "stdout",
     "output_type": "stream",
     "text": [
      "<class 'pandas.core.frame.DataFrame'>\n",
      "RangeIndex: 4000 entries, 0 to 3999\n",
      "Data columns (total 14 columns):\n",
      " #   Column                             Non-Null Count  Dtype  \n",
      "---  ------                             --------------  -----  \n",
      " 0   gender                             4000 non-null   int64  \n",
      " 1   near_location                      4000 non-null   int64  \n",
      " 2   partner                            4000 non-null   int64  \n",
      " 3   promo_friends                      4000 non-null   int64  \n",
      " 4   phone                              4000 non-null   int64  \n",
      " 5   contract_period                    4000 non-null   int64  \n",
      " 6   group_visits                       4000 non-null   int64  \n",
      " 7   age                                4000 non-null   int64  \n",
      " 8   avg_additional_charges_total       4000 non-null   float64\n",
      " 9   month_to_end_contract              4000 non-null   float64\n",
      " 10  lifetime                           4000 non-null   int64  \n",
      " 11  avg_class_frequency_total          4000 non-null   float64\n",
      " 12  avg_class_frequency_current_month  4000 non-null   float64\n",
      " 13  churn                              4000 non-null   int64  \n",
      "dtypes: float64(4), int64(10)\n",
      "memory usage: 437.6 KB\n"
     ]
    }
   ],
   "source": [
    "#приведем все названия к нижнему регистру\n",
    "data.columns = data.columns.str.lower()\n",
    "data.info()"
   ]
  },
  {
   "cell_type": "code",
   "execution_count": 9,
   "metadata": {},
   "outputs": [
    {
     "data": {
      "text/plain": [
       "gender                               0\n",
       "near_location                        0\n",
       "partner                              0\n",
       "promo_friends                        0\n",
       "phone                                0\n",
       "contract_period                      0\n",
       "group_visits                         0\n",
       "age                                  0\n",
       "avg_additional_charges_total         0\n",
       "month_to_end_contract                0\n",
       "lifetime                             0\n",
       "avg_class_frequency_total            0\n",
       "avg_class_frequency_current_month    0\n",
       "churn                                0\n",
       "dtype: int64"
      ]
     },
     "execution_count": 9,
     "metadata": {},
     "output_type": "execute_result"
    }
   ],
   "source": [
    "#убедимся, что пропусков нет\n",
    "data.isna().sum()"
   ]
  },
  {
   "cell_type": "code",
   "execution_count": 10,
   "metadata": {},
   "outputs": [
    {
     "data": {
      "text/plain": [
       "0"
      ]
     },
     "execution_count": 10,
     "metadata": {},
     "output_type": "execute_result"
    }
   ],
   "source": [
    "#проверим полные дубликаты\n",
    "data.duplicated().sum()"
   ]
  },
  {
   "cell_type": "code",
   "execution_count": 11,
   "metadata": {
    "scrolled": false
   },
   "outputs": [
    {
     "data": {
      "text/html": [
       "<div>\n",
       "<style scoped>\n",
       "    .dataframe tbody tr th:only-of-type {\n",
       "        vertical-align: middle;\n",
       "    }\n",
       "\n",
       "    .dataframe tbody tr th {\n",
       "        vertical-align: top;\n",
       "    }\n",
       "\n",
       "    .dataframe thead th {\n",
       "        text-align: right;\n",
       "    }\n",
       "</style>\n",
       "<table border=\"1\" class=\"dataframe\">\n",
       "  <thead>\n",
       "    <tr style=\"text-align: right;\">\n",
       "      <th></th>\n",
       "      <th>gender</th>\n",
       "      <th>near_location</th>\n",
       "      <th>partner</th>\n",
       "      <th>promo_friends</th>\n",
       "      <th>phone</th>\n",
       "      <th>contract_period</th>\n",
       "      <th>group_visits</th>\n",
       "      <th>age</th>\n",
       "      <th>avg_additional_charges_total</th>\n",
       "      <th>month_to_end_contract</th>\n",
       "      <th>lifetime</th>\n",
       "      <th>avg_class_frequency_total</th>\n",
       "      <th>avg_class_frequency_current_month</th>\n",
       "      <th>churn</th>\n",
       "    </tr>\n",
       "  </thead>\n",
       "  <tbody>\n",
       "    <tr>\n",
       "      <th>count</th>\n",
       "      <td>4000.000000</td>\n",
       "      <td>4000.000000</td>\n",
       "      <td>4000.000000</td>\n",
       "      <td>4000.000000</td>\n",
       "      <td>4000.000000</td>\n",
       "      <td>4000.000000</td>\n",
       "      <td>4000.000000</td>\n",
       "      <td>4000.000000</td>\n",
       "      <td>4000.000000</td>\n",
       "      <td>4000.000000</td>\n",
       "      <td>4000.000000</td>\n",
       "      <td>4000.000000</td>\n",
       "      <td>4000.000000</td>\n",
       "      <td>4000.000000</td>\n",
       "    </tr>\n",
       "    <tr>\n",
       "      <th>mean</th>\n",
       "      <td>0.510250</td>\n",
       "      <td>0.845250</td>\n",
       "      <td>0.486750</td>\n",
       "      <td>0.308500</td>\n",
       "      <td>0.903500</td>\n",
       "      <td>4.681250</td>\n",
       "      <td>0.412250</td>\n",
       "      <td>29.184250</td>\n",
       "      <td>146.943728</td>\n",
       "      <td>4.322750</td>\n",
       "      <td>3.724750</td>\n",
       "      <td>1.879020</td>\n",
       "      <td>1.767052</td>\n",
       "      <td>0.265250</td>\n",
       "    </tr>\n",
       "    <tr>\n",
       "      <th>std</th>\n",
       "      <td>0.499957</td>\n",
       "      <td>0.361711</td>\n",
       "      <td>0.499887</td>\n",
       "      <td>0.461932</td>\n",
       "      <td>0.295313</td>\n",
       "      <td>4.549706</td>\n",
       "      <td>0.492301</td>\n",
       "      <td>3.258367</td>\n",
       "      <td>96.355602</td>\n",
       "      <td>4.191297</td>\n",
       "      <td>3.749267</td>\n",
       "      <td>0.972245</td>\n",
       "      <td>1.052906</td>\n",
       "      <td>0.441521</td>\n",
       "    </tr>\n",
       "    <tr>\n",
       "      <th>min</th>\n",
       "      <td>0.000000</td>\n",
       "      <td>0.000000</td>\n",
       "      <td>0.000000</td>\n",
       "      <td>0.000000</td>\n",
       "      <td>0.000000</td>\n",
       "      <td>1.000000</td>\n",
       "      <td>0.000000</td>\n",
       "      <td>18.000000</td>\n",
       "      <td>0.148205</td>\n",
       "      <td>1.000000</td>\n",
       "      <td>0.000000</td>\n",
       "      <td>0.000000</td>\n",
       "      <td>0.000000</td>\n",
       "      <td>0.000000</td>\n",
       "    </tr>\n",
       "    <tr>\n",
       "      <th>25%</th>\n",
       "      <td>0.000000</td>\n",
       "      <td>1.000000</td>\n",
       "      <td>0.000000</td>\n",
       "      <td>0.000000</td>\n",
       "      <td>1.000000</td>\n",
       "      <td>1.000000</td>\n",
       "      <td>0.000000</td>\n",
       "      <td>27.000000</td>\n",
       "      <td>68.868830</td>\n",
       "      <td>1.000000</td>\n",
       "      <td>1.000000</td>\n",
       "      <td>1.180875</td>\n",
       "      <td>0.963003</td>\n",
       "      <td>0.000000</td>\n",
       "    </tr>\n",
       "    <tr>\n",
       "      <th>50%</th>\n",
       "      <td>1.000000</td>\n",
       "      <td>1.000000</td>\n",
       "      <td>0.000000</td>\n",
       "      <td>0.000000</td>\n",
       "      <td>1.000000</td>\n",
       "      <td>1.000000</td>\n",
       "      <td>0.000000</td>\n",
       "      <td>29.000000</td>\n",
       "      <td>136.220159</td>\n",
       "      <td>1.000000</td>\n",
       "      <td>3.000000</td>\n",
       "      <td>1.832768</td>\n",
       "      <td>1.719574</td>\n",
       "      <td>0.000000</td>\n",
       "    </tr>\n",
       "    <tr>\n",
       "      <th>75%</th>\n",
       "      <td>1.000000</td>\n",
       "      <td>1.000000</td>\n",
       "      <td>1.000000</td>\n",
       "      <td>1.000000</td>\n",
       "      <td>1.000000</td>\n",
       "      <td>6.000000</td>\n",
       "      <td>1.000000</td>\n",
       "      <td>31.000000</td>\n",
       "      <td>210.949625</td>\n",
       "      <td>6.000000</td>\n",
       "      <td>5.000000</td>\n",
       "      <td>2.536078</td>\n",
       "      <td>2.510336</td>\n",
       "      <td>1.000000</td>\n",
       "    </tr>\n",
       "    <tr>\n",
       "      <th>max</th>\n",
       "      <td>1.000000</td>\n",
       "      <td>1.000000</td>\n",
       "      <td>1.000000</td>\n",
       "      <td>1.000000</td>\n",
       "      <td>1.000000</td>\n",
       "      <td>12.000000</td>\n",
       "      <td>1.000000</td>\n",
       "      <td>41.000000</td>\n",
       "      <td>552.590740</td>\n",
       "      <td>12.000000</td>\n",
       "      <td>31.000000</td>\n",
       "      <td>6.023668</td>\n",
       "      <td>6.146783</td>\n",
       "      <td>1.000000</td>\n",
       "    </tr>\n",
       "  </tbody>\n",
       "</table>\n",
       "</div>"
      ],
      "text/plain": [
       "            gender  near_location      partner  promo_friends        phone  \\\n",
       "count  4000.000000    4000.000000  4000.000000    4000.000000  4000.000000   \n",
       "mean      0.510250       0.845250     0.486750       0.308500     0.903500   \n",
       "std       0.499957       0.361711     0.499887       0.461932     0.295313   \n",
       "min       0.000000       0.000000     0.000000       0.000000     0.000000   \n",
       "25%       0.000000       1.000000     0.000000       0.000000     1.000000   \n",
       "50%       1.000000       1.000000     0.000000       0.000000     1.000000   \n",
       "75%       1.000000       1.000000     1.000000       1.000000     1.000000   \n",
       "max       1.000000       1.000000     1.000000       1.000000     1.000000   \n",
       "\n",
       "       contract_period  group_visits          age  \\\n",
       "count      4000.000000   4000.000000  4000.000000   \n",
       "mean          4.681250      0.412250    29.184250   \n",
       "std           4.549706      0.492301     3.258367   \n",
       "min           1.000000      0.000000    18.000000   \n",
       "25%           1.000000      0.000000    27.000000   \n",
       "50%           1.000000      0.000000    29.000000   \n",
       "75%           6.000000      1.000000    31.000000   \n",
       "max          12.000000      1.000000    41.000000   \n",
       "\n",
       "       avg_additional_charges_total  month_to_end_contract     lifetime  \\\n",
       "count                   4000.000000            4000.000000  4000.000000   \n",
       "mean                     146.943728               4.322750     3.724750   \n",
       "std                       96.355602               4.191297     3.749267   \n",
       "min                        0.148205               1.000000     0.000000   \n",
       "25%                       68.868830               1.000000     1.000000   \n",
       "50%                      136.220159               1.000000     3.000000   \n",
       "75%                      210.949625               6.000000     5.000000   \n",
       "max                      552.590740              12.000000    31.000000   \n",
       "\n",
       "       avg_class_frequency_total  avg_class_frequency_current_month  \\\n",
       "count                4000.000000                        4000.000000   \n",
       "mean                    1.879020                           1.767052   \n",
       "std                     0.972245                           1.052906   \n",
       "min                     0.000000                           0.000000   \n",
       "25%                     1.180875                           0.963003   \n",
       "50%                     1.832768                           1.719574   \n",
       "75%                     2.536078                           2.510336   \n",
       "max                     6.023668                           6.146783   \n",
       "\n",
       "             churn  \n",
       "count  4000.000000  \n",
       "mean      0.265250  \n",
       "std       0.441521  \n",
       "min       0.000000  \n",
       "25%       0.000000  \n",
       "50%       0.000000  \n",
       "75%       1.000000  \n",
       "max       1.000000  "
      ]
     },
     "execution_count": 11,
     "metadata": {},
     "output_type": "execute_result"
    }
   ],
   "source": [
    "#посмотрим средние значения и стандартные отклонения\n",
    "data.describe()"
   ]
  },
  {
   "cell_type": "markdown",
   "metadata": {},
   "source": [
    "_____"
   ]
  },
  {
   "cell_type": "markdown",
   "metadata": {},
   "source": [
    "#### Cредние значения признаков в двух группах"
   ]
  },
  {
   "cell_type": "markdown",
   "metadata": {},
   "source": [
    "- **Посмотрим на средние значения признаков в двух группах — тех, кто ушел в отток и тех, кто остался**"
   ]
  },
  {
   "cell_type": "code",
   "execution_count": 12,
   "metadata": {},
   "outputs": [
    {
     "data": {
      "text/html": [
       "<div>\n",
       "<style scoped>\n",
       "    .dataframe tbody tr th:only-of-type {\n",
       "        vertical-align: middle;\n",
       "    }\n",
       "\n",
       "    .dataframe tbody tr th {\n",
       "        vertical-align: top;\n",
       "    }\n",
       "\n",
       "    .dataframe thead th {\n",
       "        text-align: right;\n",
       "    }\n",
       "</style>\n",
       "<table border=\"1\" class=\"dataframe\">\n",
       "  <thead>\n",
       "    <tr style=\"text-align: right;\">\n",
       "      <th></th>\n",
       "      <th>gender</th>\n",
       "      <th>near_location</th>\n",
       "      <th>partner</th>\n",
       "      <th>promo_friends</th>\n",
       "      <th>phone</th>\n",
       "      <th>contract_period</th>\n",
       "      <th>group_visits</th>\n",
       "      <th>age</th>\n",
       "      <th>avg_additional_charges_total</th>\n",
       "      <th>month_to_end_contract</th>\n",
       "      <th>lifetime</th>\n",
       "      <th>avg_class_frequency_total</th>\n",
       "      <th>avg_class_frequency_current_month</th>\n",
       "    </tr>\n",
       "    <tr>\n",
       "      <th>churn</th>\n",
       "      <th></th>\n",
       "      <th></th>\n",
       "      <th></th>\n",
       "      <th></th>\n",
       "      <th></th>\n",
       "      <th></th>\n",
       "      <th></th>\n",
       "      <th></th>\n",
       "      <th></th>\n",
       "      <th></th>\n",
       "      <th></th>\n",
       "      <th></th>\n",
       "      <th></th>\n",
       "    </tr>\n",
       "  </thead>\n",
       "  <tbody>\n",
       "    <tr>\n",
       "      <th>0</th>\n",
       "      <td>0.510037</td>\n",
       "      <td>0.873086</td>\n",
       "      <td>0.534195</td>\n",
       "      <td>0.353522</td>\n",
       "      <td>0.903709</td>\n",
       "      <td>5.747193</td>\n",
       "      <td>0.464103</td>\n",
       "      <td>29.976523</td>\n",
       "      <td>158.445715</td>\n",
       "      <td>5.283089</td>\n",
       "      <td>4.711807</td>\n",
       "      <td>2.024876</td>\n",
       "      <td>2.027882</td>\n",
       "    </tr>\n",
       "    <tr>\n",
       "      <th>1</th>\n",
       "      <td>0.510839</td>\n",
       "      <td>0.768143</td>\n",
       "      <td>0.355325</td>\n",
       "      <td>0.183789</td>\n",
       "      <td>0.902922</td>\n",
       "      <td>1.728558</td>\n",
       "      <td>0.268615</td>\n",
       "      <td>26.989632</td>\n",
       "      <td>115.082899</td>\n",
       "      <td>1.662582</td>\n",
       "      <td>0.990575</td>\n",
       "      <td>1.474995</td>\n",
       "      <td>1.044546</td>\n",
       "    </tr>\n",
       "  </tbody>\n",
       "</table>\n",
       "</div>"
      ],
      "text/plain": [
       "         gender  near_location   partner  promo_friends     phone  \\\n",
       "churn                                                               \n",
       "0      0.510037       0.873086  0.534195       0.353522  0.903709   \n",
       "1      0.510839       0.768143  0.355325       0.183789  0.902922   \n",
       "\n",
       "       contract_period  group_visits        age  avg_additional_charges_total  \\\n",
       "churn                                                                           \n",
       "0             5.747193      0.464103  29.976523                    158.445715   \n",
       "1             1.728558      0.268615  26.989632                    115.082899   \n",
       "\n",
       "       month_to_end_contract  lifetime  avg_class_frequency_total  \\\n",
       "churn                                                               \n",
       "0                   5.283089  4.711807                   2.024876   \n",
       "1                   1.662582  0.990575                   1.474995   \n",
       "\n",
       "       avg_class_frequency_current_month  \n",
       "churn                                     \n",
       "0                               2.027882  \n",
       "1                               1.044546  "
      ]
     },
     "execution_count": 12,
     "metadata": {},
     "output_type": "execute_result"
    }
   ],
   "source": [
    "churn = data.groupby('churn').mean()\n",
    "churn"
   ]
  },
  {
   "cell_type": "code",
   "execution_count": 13,
   "metadata": {
    "scrolled": false
   },
   "outputs": [
    {
     "data": {
      "image/png": "[encoded data removed]",
      "text/plain": [
       "<Figure size 800x400 with 1 Axes>"
      ]
     },
     "metadata": {
      "needs_background": "light"
     },
     "output_type": "display_data"
    }
   ],
   "source": [
    "#построим столбчатые гистограммы по каждому признаку\n",
    "plt.figure(figsize=(10,5))\n",
    "churn['near_location'].plot(kind='bar')\n",
    "plt.gcf().set_dpi(80)\n",
    "\n",
    "old_ticks, old_labels = plt.xticks()\n",
    "plt.xticks(old_ticks, ['\\n'.join(label.get_text().split()) for label in old_labels], rotation=0)\n",
    "\n",
    "plt.ylabel('Среднее значение')\n",
    "plt.xlabel('Факт оттока')\n",
    "plt.title('1. Признак: проживание или работа в районе, где находится фитнес-центр')\n",
    "plt.show()"
   ]
  },
  {
   "cell_type": "markdown",
   "metadata": {},
   "source": [
    "**Признак: проживание или работа в районе, где находится фитнес-центр** - клиенты, оказавшиеся в числе оттока, в большей степени не живут\\работают рядом с фитнесом, что и влияет на их не посещение центра. "
   ]
  },
  {
   "cell_type": "code",
   "execution_count": 14,
   "metadata": {
    "scrolled": false
   },
   "outputs": [
    {
     "data": {
      "image/png": "[encoded data removed]",
      "text/plain": [
       "<Figure size 800x400 with 1 Axes>"
      ]
     },
     "metadata": {
      "needs_background": "light"
     },
     "output_type": "display_data"
    }
   ],
   "source": [
    "plt.figure(figsize=(10,5))\n",
    "churn['partner'].plot(kind='bar')\n",
    "plt.gcf().set_dpi(80)\n",
    "\n",
    "old_ticks, old_labels = plt.xticks()\n",
    "plt.xticks(old_ticks, ['\\n'.join(label.get_text().split()) for label in old_labels], rotation=0)\n",
    "\n",
    "plt.ylabel('Среднее значение')\n",
    "plt.xlabel('Факт оттока')\n",
    "plt.title('2. Признак: сотрудник компании-партнёра клуба')\n",
    "plt.show()"
   ]
  },
  {
   "cell_type": "markdown",
   "metadata": {},
   "source": [
    "**Признак: сотрудник компании-партнёра клуба** - клиенты, имеющие скидки за счет парнерства, реже попадают в отток"
   ]
  },
  {
   "cell_type": "code",
   "execution_count": 15,
   "metadata": {
    "scrolled": false
   },
   "outputs": [
    {
     "data": {
      "image/png": "[encoded data removed]",
      "text/plain": [
       "<Figure size 800x400 with 1 Axes>"
      ]
     },
     "metadata": {
      "needs_background": "light"
     },
     "output_type": "display_data"
    }
   ],
   "source": [
    "plt.figure(figsize=(10,5))\n",
    "churn['promo_friends'].plot(kind='bar')\n",
    "plt.gcf().set_dpi(80)\n",
    "\n",
    "old_ticks, old_labels = plt.xticks()\n",
    "plt.xticks(old_ticks, ['\\n'.join(label.get_text().split()) for label in old_labels], rotation=0)\n",
    "\n",
    "plt.ylabel('Среднее значение')\n",
    "plt.xlabel('Факт оттока')\n",
    "plt.title('3. Признак: факт первоначальной записи в рамках акции «приведи друга»')\n",
    "plt.show()"
   ]
  },
  {
   "cell_type": "markdown",
   "metadata": {},
   "source": [
    "**Признак: факт первоначальной записи в рамках акции «приведи друга»** - большинство те, кто не участвовал в этой акции, попали в отток"
   ]
  },
  {
   "cell_type": "code",
   "execution_count": 16,
   "metadata": {},
   "outputs": [
    {
     "data": {
      "image/png": "[encoded data removed]",
      "text/plain": [
       "<Figure size 800x400 with 1 Axes>"
      ]
     },
     "metadata": {
      "needs_background": "light"
     },
     "output_type": "display_data"
    }
   ],
   "source": [
    "plt.figure(figsize=(10,5))\n",
    "churn['phone'].plot(kind='bar')\n",
    "plt.gcf().set_dpi(80)\n",
    "\n",
    "old_ticks, old_labels = plt.xticks()\n",
    "plt.xticks(old_ticks, ['\\n'.join(label.get_text().split()) for label in old_labels], rotation=0)\n",
    "\n",
    "plt.ylabel('Среднее значение')\n",
    "plt.xlabel('Факт оттока')\n",
    "plt.title('4. Признак: наличие контактного телефона')\n",
    "plt.show()"
   ]
  },
  {
   "cell_type": "markdown",
   "metadata": {},
   "source": [
    "**Признак: наличие контактного телефона** - этот признак никак не влияет на факт оттока"
   ]
  },
  {
   "cell_type": "code",
   "execution_count": 17,
   "metadata": {},
   "outputs": [
    {
     "data": {
      "image/png": "[encoded data removed]",
      "text/plain": [
       "<Figure size 800x400 with 1 Axes>"
      ]
     },
     "metadata": {
      "needs_background": "light"
     },
     "output_type": "display_data"
    }
   ],
   "source": [
    "plt.figure(figsize=(10,5))\n",
    "churn['contract_period'].plot(kind='bar')\n",
    "plt.gcf().set_dpi(80)\n",
    "\n",
    "old_ticks, old_labels = plt.xticks()\n",
    "plt.xticks(old_ticks, ['\\n'.join(label.get_text().split()) for label in old_labels], rotation=0)\n",
    "\n",
    "plt.ylabel('Среднее значение')\n",
    "plt.xlabel('Факт оттока')\n",
    "plt.title('5. Признак: длительность текущего действующего абонемента (месяц, 6 месяцев, год)')\n",
    "plt.show()"
   ]
  },
  {
   "cell_type": "markdown",
   "metadata": {},
   "source": [
    "**Признак: длительность текущего действующего абонемента (месяц, 6 месяцев, год)** - в оттоке оказались те клиенты, у кого чаще встречаются абонементы на месяц"
   ]
  },
  {
   "cell_type": "code",
   "execution_count": 18,
   "metadata": {},
   "outputs": [
    {
     "data": {
      "image/png": "[encoded data removed]",
      "text/plain": [
       "<Figure size 800x400 with 1 Axes>"
      ]
     },
     "metadata": {
      "needs_background": "light"
     },
     "output_type": "display_data"
    }
   ],
   "source": [
    "plt.figure(figsize=(10,5))\n",
    "churn['group_visits'].plot(kind='bar')\n",
    "plt.gcf().set_dpi(80)\n",
    "\n",
    "old_ticks, old_labels = plt.xticks()\n",
    "plt.xticks(old_ticks, ['\\n'.join(label.get_text().split()) for label in old_labels], rotation=0)\n",
    "\n",
    "plt.ylabel('Среднее значение')\n",
    "plt.xlabel('Факт оттока')\n",
    "plt.title('6. Признак: факт посещения групповых занятий')\n",
    "plt.show()"
   ]
  },
  {
   "cell_type": "markdown",
   "metadata": {},
   "source": [
    "**Признак: факт посещения групповых занятий** - посещают групповые занятия чаще те, кто не попал в отток. "
   ]
  },
  {
   "cell_type": "code",
   "execution_count": 19,
   "metadata": {},
   "outputs": [
    {
     "data": {
      "image/png": "[encoded data removed]",
      "text/plain": [
       "<Figure size 800x400 with 1 Axes>"
      ]
     },
     "metadata": {
      "needs_background": "light"
     },
     "output_type": "display_data"
    }
   ],
   "source": [
    "plt.figure(figsize=(10,5))\n",
    "churn['age'].plot(kind='bar')\n",
    "plt.gcf().set_dpi(80)\n",
    "\n",
    "old_ticks, old_labels = plt.xticks()\n",
    "plt.xticks(old_ticks, ['\\n'.join(label.get_text().split()) for label in old_labels], rotation=0)\n",
    "\n",
    "plt.ylabel('Среднее значение')\n",
    "plt.xlabel('Факт оттока')\n",
    "plt.title('7. Признак: Возраст')\n",
    "plt.show()"
   ]
  },
  {
   "cell_type": "markdown",
   "metadata": {},
   "source": [
    "**Признак: Возраст** - в оттоке клиенты младше, чем те, кто стабильно посещает зал. Разница не большая, думаю этот признак не сильно влияет на факт оттока"
   ]
  },
  {
   "cell_type": "code",
   "execution_count": 20,
   "metadata": {},
   "outputs": [
    {
     "data": {
      "image/png": "[encoded data removed]",
      "text/plain": [
       "<Figure size 800x400 with 1 Axes>"
      ]
     },
     "metadata": {
      "needs_background": "light"
     },
     "output_type": "display_data"
    }
   ],
   "source": [
    "plt.figure(figsize=(10,5))\n",
    "churn['avg_additional_charges_total'].plot(kind='bar')\n",
    "plt.gcf().set_dpi(80)\n",
    "\n",
    "old_ticks, old_labels = plt.xticks()\n",
    "plt.xticks(old_ticks, ['\\n'.join(label.get_text().split()) for label in old_labels], rotation=0)\n",
    "\n",
    "plt.ylabel('Среднее значение')\n",
    "plt.xlabel('Факт оттока')\n",
    "plt.title('8. Признак: суммарная выручка от других услуг фитнес-центра: кафе, спорттовары, косметический и массажный салон')\n",
    "plt.show()"
   ]
  },
  {
   "cell_type": "markdown",
   "metadata": {},
   "source": [
    "**Признак: суммарная выручка от других услуг фитнес-центра: кафе, спорттовары, косметический и массажный салон** - заметно ниже у группы оттока"
   ]
  },
  {
   "cell_type": "code",
   "execution_count": 21,
   "metadata": {},
   "outputs": [
    {
     "data": {
      "image/png": "[encoded data removed]",
      "text/plain": [
       "<Figure size 800x400 with 1 Axes>"
      ]
     },
     "metadata": {
      "needs_background": "light"
     },
     "output_type": "display_data"
    }
   ],
   "source": [
    "plt.figure(figsize=(10,5))\n",
    "churn['month_to_end_contract'].plot(kind='bar')\n",
    "plt.gcf().set_dpi(80)\n",
    "\n",
    "old_ticks, old_labels = plt.xticks()\n",
    "plt.xticks(old_ticks, ['\\n'.join(label.get_text().split()) for label in old_labels], rotation=0)\n",
    "\n",
    "plt.ylabel('Среднее значение')\n",
    "plt.xlabel('Факт оттока')\n",
    "plt.title('9. Признак: срок до окончания текущего действующего абонемента (в месяцах)')\n",
    "plt.show()"
   ]
  },
  {
   "cell_type": "markdown",
   "metadata": {},
   "source": [
    "**Признак: срок до окончания текущего действующего абонемента (в месяцах)** - у группы оттока абонементы почти закончились"
   ]
  },
  {
   "cell_type": "code",
   "execution_count": 22,
   "metadata": {},
   "outputs": [
    {
     "data": {
      "image/png": "[encoded data removed]",
      "text/plain": [
       "<Figure size 800x400 with 1 Axes>"
      ]
     },
     "metadata": {
      "needs_background": "light"
     },
     "output_type": "display_data"
    }
   ],
   "source": [
    "plt.figure(figsize=(10,5))\n",
    "churn['lifetime'].plot(kind='bar')\n",
    "plt.gcf().set_dpi(80)\n",
    "\n",
    "old_ticks, old_labels = plt.xticks()\n",
    "plt.xticks(old_ticks, ['\\n'.join(label.get_text().split()) for label in old_labels], rotation=0)\n",
    "\n",
    "plt.ylabel('Среднее значение')\n",
    "plt.xlabel('Факт оттока')\n",
    "plt.title('10. Признак: время с момента первого обращения в фитнес-центр (в месяцах)')\n",
    "plt.show()"
   ]
  },
  {
   "cell_type": "markdown",
   "metadata": {},
   "source": [
    "**Признак: время с момента первого обращения в фитнес-центр (в месяцах)** - в группу оттока попали те, кто обратился в центр недавно"
   ]
  },
  {
   "cell_type": "code",
   "execution_count": 23,
   "metadata": {},
   "outputs": [
    {
     "data": {
      "image/png": "[encoded data removed]",
      "text/plain": [
       "<Figure size 800x400 with 1 Axes>"
      ]
     },
     "metadata": {
      "needs_background": "light"
     },
     "output_type": "display_data"
    }
   ],
   "source": [
    "plt.figure(figsize=(10,5))\n",
    "churn['avg_class_frequency_total'].plot(kind='bar')\n",
    "plt.gcf().set_dpi(80)\n",
    "\n",
    "old_ticks, old_labels = plt.xticks()\n",
    "plt.xticks(old_ticks, ['\\n'.join(label.get_text().split()) for label in old_labels], rotation=0)\n",
    "\n",
    "plt.ylabel('Среднее значение')\n",
    "plt.xlabel('Факт оттока')\n",
    "plt.title('11. Признак: средняя частота посещений в неделю за все время с начала действия абонемента')\n",
    "plt.show()"
   ]
  },
  {
   "cell_type": "markdown",
   "metadata": {},
   "source": [
    "**Признак: средняя частота посещений в неделю за все время с начала действия абонемента** - клиенты, попавшие в отток, даже за за все время посещали фитнес реже, не чаще 1-2 раз в неделю. "
   ]
  },
  {
   "cell_type": "code",
   "execution_count": 24,
   "metadata": {},
   "outputs": [
    {
     "data": {
      "image/png": "[encoded data removed]",
      "text/plain": [
       "<Figure size 800x400 with 1 Axes>"
      ]
     },
     "metadata": {
      "needs_background": "light"
     },
     "output_type": "display_data"
    }
   ],
   "source": [
    "plt.figure(figsize=(10,5))\n",
    "churn['avg_class_frequency_current_month'].plot(kind='bar')\n",
    "plt.gcf().set_dpi(80)\n",
    "\n",
    "old_ticks, old_labels = plt.xticks()\n",
    "plt.xticks(old_ticks, ['\\n'.join(label.get_text().split()) for label in old_labels], rotation=0)\n",
    "\n",
    "plt.ylabel('Среднее значение')\n",
    "plt.xlabel('Факт оттока')\n",
    "plt.title('12. Признак: средняя частота посещений в неделю за предыдущий месяц')\n",
    "plt.show()"
   ]
  },
  {
   "cell_type": "markdown",
   "metadata": {},
   "source": [
    "**Признак: средняя частота посещений в неделю за предыдущий месяц** - за последний месяц, клиенты из группы оттока посещали раз в неделю фитнес"
   ]
  },
  {
   "cell_type": "code",
   "execution_count": 25,
   "metadata": {},
   "outputs": [
    {
     "data": {
      "image/png": "[encoded data removed]",
      "text/plain": [
       "<Figure size 800x400 with 1 Axes>"
      ]
     },
     "metadata": {
      "needs_background": "light"
     },
     "output_type": "display_data"
    }
   ],
   "source": [
    "plt.figure(figsize=(10,5))\n",
    "churn['gender'].plot(kind='bar')\n",
    "plt.gcf().set_dpi(80)\n",
    "\n",
    "old_ticks, old_labels = plt.xticks()\n",
    "plt.xticks(old_ticks, ['\\n'.join(label.get_text().split()) for label in old_labels], rotation=0)\n",
    "\n",
    "plt.ylabel('Среднее значение')\n",
    "plt.xlabel('Факт оттока')\n",
    "plt.title('13. Признак: пол')\n",
    "plt.show()"
   ]
  },
  {
   "cell_type": "markdown",
   "metadata": {},
   "source": [
    "**Признак: пол** - это никак не влияет на факт оттока. Всех поровну"
   ]
  },
  {
   "cell_type": "markdown",
   "metadata": {},
   "source": [
    "_____"
   ]
  },
  {
   "cell_type": "markdown",
   "metadata": {},
   "source": [
    "#### Матрица корреляции"
   ]
  },
  {
   "cell_type": "code",
   "execution_count": 26,
   "metadata": {},
   "outputs": [
    {
     "data": {
      "image/png": "[encoded data removed]",
      "text/plain": [
       "<Figure size 1440x1224 with 2 Axes>"
      ]
     },
     "metadata": {
      "needs_background": "light"
     },
     "output_type": "display_data"
    }
   ],
   "source": [
    "#построим и отрисуем матрицу корреляций\n",
    "cm = data.corr() \n",
    "\n",
    "plt.figure(figsize=(20,17))\n",
    "sns.heatmap(cm, annot=True, square=True)\n",
    "\n",
    "#old_ticks, old_labels = plt.xticks()\n",
    "#plt.xticks(old_ticks, ['\\n'.join(label.get_text().split()) for label in old_labels], rotation=0)\n",
    "#подписи в перевернутом виде нечитабельны\n",
    "\n",
    "plt.title('Матрица корреляции')\n",
    "plt.show()\n"
   ]
  },
  {
   "cell_type": "markdown",
   "metadata": {},
   "source": [
    "- Есть несколько признаков, пересечение которых, влияют друг на друга заметно больше остальных. Но в целом матрица распределена равномерно. "
   ]
  },
  {
   "cell_type": "code",
   "execution_count": 28,
   "metadata": {},
   "outputs": [
    {
     "data": {
      "text/html": [
       "<div>\n",
       "<style scoped>\n",
       "    .dataframe tbody tr th:only-of-type {\n",
       "        vertical-align: middle;\n",
       "    }\n",
       "\n",
       "    .dataframe tbody tr th {\n",
       "        vertical-align: top;\n",
       "    }\n",
       "\n",
       "    .dataframe thead th {\n",
       "        text-align: right;\n",
       "    }\n",
       "</style>\n",
       "<table border=\"1\" class=\"dataframe\">\n",
       "  <thead>\n",
       "    <tr style=\"text-align: right;\">\n",
       "      <th></th>\n",
       "      <th>gender</th>\n",
       "      <th>near_location</th>\n",
       "      <th>partner</th>\n",
       "      <th>promo_friends</th>\n",
       "      <th>phone</th>\n",
       "      <th>group_visits</th>\n",
       "    </tr>\n",
       "  </thead>\n",
       "  <tbody>\n",
       "    <tr>\n",
       "      <th>0</th>\n",
       "      <td>1</td>\n",
       "      <td>1</td>\n",
       "      <td>1</td>\n",
       "      <td>1</td>\n",
       "      <td>0</td>\n",
       "      <td>1</td>\n",
       "    </tr>\n",
       "    <tr>\n",
       "      <th>1</th>\n",
       "      <td>0</td>\n",
       "      <td>1</td>\n",
       "      <td>0</td>\n",
       "      <td>0</td>\n",
       "      <td>1</td>\n",
       "      <td>1</td>\n",
       "    </tr>\n",
       "    <tr>\n",
       "      <th>2</th>\n",
       "      <td>0</td>\n",
       "      <td>1</td>\n",
       "      <td>1</td>\n",
       "      <td>0</td>\n",
       "      <td>1</td>\n",
       "      <td>0</td>\n",
       "    </tr>\n",
       "    <tr>\n",
       "      <th>3</th>\n",
       "      <td>0</td>\n",
       "      <td>1</td>\n",
       "      <td>1</td>\n",
       "      <td>1</td>\n",
       "      <td>1</td>\n",
       "      <td>1</td>\n",
       "    </tr>\n",
       "    <tr>\n",
       "      <th>4</th>\n",
       "      <td>1</td>\n",
       "      <td>1</td>\n",
       "      <td>1</td>\n",
       "      <td>1</td>\n",
       "      <td>1</td>\n",
       "      <td>0</td>\n",
       "    </tr>\n",
       "  </tbody>\n",
       "</table>\n",
       "</div>"
      ],
      "text/plain": [
       "   gender  near_location  partner  promo_friends  phone  group_visits\n",
       "0       1              1        1              1      0             1\n",
       "1       0              1        0              0      1             1\n",
       "2       0              1        1              0      1             0\n",
       "3       0              1        1              1      1             1\n",
       "4       1              1        1              1      1             0"
      ]
     },
     "execution_count": 28,
     "metadata": {},
     "output_type": "execute_result"
    }
   ],
   "source": [
    "#разделим признаки на бинарные и небинарные\n",
    "binar = data[['gender', 'near_location', 'partner', 'promo_friends', 'phone', 'group_visits']]\n",
    "binar.head()"
   ]
  },
  {
   "cell_type": "code",
   "execution_count": 29,
   "metadata": {},
   "outputs": [
    {
     "data": {
      "text/html": [
       "<div>\n",
       "<style scoped>\n",
       "    .dataframe tbody tr th:only-of-type {\n",
       "        vertical-align: middle;\n",
       "    }\n",
       "\n",
       "    .dataframe tbody tr th {\n",
       "        vertical-align: top;\n",
       "    }\n",
       "\n",
       "    .dataframe thead th {\n",
       "        text-align: right;\n",
       "    }\n",
       "</style>\n",
       "<table border=\"1\" class=\"dataframe\">\n",
       "  <thead>\n",
       "    <tr style=\"text-align: right;\">\n",
       "      <th></th>\n",
       "      <th>contract_period</th>\n",
       "      <th>age</th>\n",
       "      <th>avg_additional_charges_total</th>\n",
       "      <th>month_to_end_contract</th>\n",
       "      <th>lifetime</th>\n",
       "      <th>avg_class_frequency_total</th>\n",
       "      <th>avg_class_frequency_current_month</th>\n",
       "    </tr>\n",
       "  </thead>\n",
       "  <tbody>\n",
       "    <tr>\n",
       "      <th>0</th>\n",
       "      <td>6</td>\n",
       "      <td>29</td>\n",
       "      <td>14.227470</td>\n",
       "      <td>5.0</td>\n",
       "      <td>3</td>\n",
       "      <td>0.020398</td>\n",
       "      <td>0.000000</td>\n",
       "    </tr>\n",
       "    <tr>\n",
       "      <th>1</th>\n",
       "      <td>12</td>\n",
       "      <td>31</td>\n",
       "      <td>113.202938</td>\n",
       "      <td>12.0</td>\n",
       "      <td>7</td>\n",
       "      <td>1.922936</td>\n",
       "      <td>1.910244</td>\n",
       "    </tr>\n",
       "    <tr>\n",
       "      <th>2</th>\n",
       "      <td>1</td>\n",
       "      <td>28</td>\n",
       "      <td>129.448479</td>\n",
       "      <td>1.0</td>\n",
       "      <td>2</td>\n",
       "      <td>1.859098</td>\n",
       "      <td>1.736502</td>\n",
       "    </tr>\n",
       "    <tr>\n",
       "      <th>3</th>\n",
       "      <td>12</td>\n",
       "      <td>33</td>\n",
       "      <td>62.669863</td>\n",
       "      <td>12.0</td>\n",
       "      <td>2</td>\n",
       "      <td>3.205633</td>\n",
       "      <td>3.357215</td>\n",
       "    </tr>\n",
       "    <tr>\n",
       "      <th>4</th>\n",
       "      <td>1</td>\n",
       "      <td>26</td>\n",
       "      <td>198.362265</td>\n",
       "      <td>1.0</td>\n",
       "      <td>3</td>\n",
       "      <td>1.113884</td>\n",
       "      <td>1.120078</td>\n",
       "    </tr>\n",
       "  </tbody>\n",
       "</table>\n",
       "</div>"
      ],
      "text/plain": [
       "   contract_period  age  avg_additional_charges_total  month_to_end_contract  \\\n",
       "0                6   29                     14.227470                    5.0   \n",
       "1               12   31                    113.202938                   12.0   \n",
       "2                1   28                    129.448479                    1.0   \n",
       "3               12   33                     62.669863                   12.0   \n",
       "4                1   26                    198.362265                    1.0   \n",
       "\n",
       "   lifetime  avg_class_frequency_total  avg_class_frequency_current_month  \n",
       "0         3                   0.020398                           0.000000  \n",
       "1         7                   1.922936                           1.910244  \n",
       "2         2                   1.859098                           1.736502  \n",
       "3         2                   3.205633                           3.357215  \n",
       "4         3                   1.113884                           1.120078  "
      ]
     },
     "execution_count": 29,
     "metadata": {},
     "output_type": "execute_result"
    }
   ],
   "source": [
    "nobinar = data[['contract_period', 'age', 'avg_additional_charges_total', 'month_to_end_contract', 'lifetime', 'avg_class_frequency_total', 'avg_class_frequency_current_month']]\n",
    "nobinar.head()"
   ]
  },
  {
   "cell_type": "code",
   "execution_count": 30,
   "metadata": {
    "scrolled": false
   },
   "outputs": [
    {
     "data": {
      "image/png": "[encoded data removed]",
      "text/plain": [
       "<Figure size 720x1080 with 6 Axes>"
      ]
     },
     "metadata": {
      "needs_background": "light"
     },
     "output_type": "display_data"
    }
   ],
   "source": [
    "#распределение бинарных признаков\n",
    "fig, axes = plt.subplots(nrows=2, ncols=3, figsize=(10,15))\n",
    "axes_list = [item for sublist in axes for item in sublist]\n",
    "fig.tight_layout(pad=5.0)\n",
    "fig.suptitle('Распределение бинарных признаков', fontsize=10)\n",
    "for b in binar:\n",
    "    ax = axes_list.pop(0)\n",
    "    sns.distplot(data.query('churn == 1')[b].astype(int), bins=4, ax=ax, kde=False)\n",
    "    sns.distplot(data.query('churn == 0')[b].astype(int), bins=4, ax=ax, kde=False)\n",
    "    ax.set_xticks([0,1])\n",
    "    ax.set_xlabel(b, fontsize=12)\n",
    "    ax.set_ylabel('Количество клиентов', fontsize=12)\n",
    "    "
   ]
  },
  {
   "cell_type": "markdown",
   "metadata": {},
   "source": [
    "На графиках значение 0 - нет, 1 - да. Цветное распределение - это распределение по оттоку (розовый - остались, коричневый - ушли). \n",
    "\n",
    "- gender - мужчин больше, чем женщин. Правда доли оттока у них одинаковые\n",
    "- near_location - все клиенты, кто живет ближе намного больше больше и их доля оставшихся тоже больше\n",
    "- partner - те кто пришел от компаний-партнеров, продолжают ходить в фитнес центр\n",
    "- promo_friends - по акции клиентов меньше, но зато доля оставшихся среди них значительно больше\n",
    "- phone - большинство клиентов оставили свой телефон\n",
    "- group_visits - почти все, кто ходит на групповые занятия остались"
   ]
  },
  {
   "cell_type": "code",
   "execution_count": 31,
   "metadata": {
    "scrolled": false
   },
   "outputs": [
    {
     "data": {
      "image/png": "[encoded data removed]",
      "text/plain": [
       "<Figure size 720x1080 with 8 Axes>"
      ]
     },
     "metadata": {
      "needs_background": "light"
     },
     "output_type": "display_data"
    }
   ],
   "source": [
    "fig, axes = plt.subplots(nrows=4, ncols=2, figsize=(10,15))\n",
    "axes_list = [item for sublist in axes for item in sublist]\n",
    "fig.tight_layout(pad=5.0)\n",
    "fig.suptitle('Распределение небинарных признаков', fontsize=10)\n",
    "for d in nobinar:\n",
    "    ax = axes_list.pop(0)\n",
    "    sns.distplot(data.query('churn == 1')[d], bins=10, ax=ax, kde=False)\n",
    "    sns.distplot(data.query('churn == 0')[d], bins=10, ax=ax, kde=False)\n",
    "    ax.set_xlabel(d, fontsize=12)\n",
    "    ax.set_ylabel('Количество клиентов', fontsize=12)\n"
   ]
  },
  {
   "cell_type": "markdown",
   "metadata": {},
   "source": [
    "Цвета: розовый - остались, коричневый(он же голубой) - ушли.\n",
    "\n",
    "- contract_period -  отток клиентов с годовым абонементом меньше. Те у кого месячный абонемент, почти все ушли\n",
    "\n",
    "- age - клиенты до 30 уходят чаще\n",
    "\n",
    "- avg_additional_charges_total - нет четкой зависимости кто ушел, но вот плятят много в основном те, кто остался\n",
    "\n",
    "- month_to_end_contract - основной отток идет среди тех у кого осталься 1 месяц\n",
    "\n",
    "- lifetime - основной отток среди тех, кто ходил до 2 месяцев\n",
    "\n",
    "- avg_class_frequency_total - маловероятный отток среди тех клиентов, если они ходят 3 раза и более \n",
    "\n",
    "- avg_class_frequency_current_month - чем чаще клиент ходил в фитнес за последний месяц, тем и отток меньше"
   ]
  },
  {
   "cell_type": "markdown",
   "metadata": {},
   "source": [
    "- Явных выбросов или перекосов на диаграммах рассеивания не видно. Значит на этих данных можно строить модель"
   ]
  },
  {
   "cell_type": "code",
   "execution_count": 32,
   "metadata": {
    "scrolled": false
   },
   "outputs": [
    {
     "data": {
      "text/plain": [
       "0    0.73475\n",
       "1    0.26525\n",
       "Name: churn, dtype: float64"
      ]
     },
     "execution_count": 32,
     "metadata": {},
     "output_type": "execute_result"
    }
   ],
   "source": [
    "data['churn'].value_counts(normalize=True)"
   ]
  },
  {
   "cell_type": "markdown",
   "metadata": {},
   "source": [
    "**Вывод 2 шага:**\n",
    "\n",
    "- Всего записей в таблице 4000 и 14 признаков.\n",
    "- Данные без пропусков и дубликатов, выбросов так же нет\n",
    "- Построили столбчатые гистограммы по каждому признаку относительно факта оттока\n",
    "- Все признаки имеют отрицательную корреляцию с целевой переменной `churn` (то есть - чем сильнее признак, тем слабее отток клиентов)\n",
    "- Есть несколько признаков, пересечение которых, влияют друг на друга заметно больше остальных. Но в целом матрица распределена равномерно. \n",
    "- Явных выбросов или перекосов на диаграммах рассеивания не видно. Значит на этих данных можно строить модель"
   ]
  },
  {
   "cell_type": "markdown",
   "metadata": {},
   "source": [
    "______"
   ]
  },
  {
   "cell_type": "markdown",
   "metadata": {},
   "source": [
    "## Модель прогнозирования оттока клиентов"
   ]
  },
  {
   "cell_type": "markdown",
   "metadata": {},
   "source": [
    "**Что будем делать:** Строить модель бинарной классификации клиентов, где целевой признак — факт оттока клиента в следующем месяце:\n",
    "- Разделим данные на обучающую и валидационную выборку\n",
    "- Обучим модель на train-выборке двумя способами: логистической регрессией и случайным лесом.\n",
    "- Оценим метрики accuracy, precision и recall для обеих моделей на валидационной выборке. Сравним по ним модели."
   ]
  },
  {
   "cell_type": "code",
   "execution_count": 33,
   "metadata": {},
   "outputs": [],
   "source": [
    "#разделим наши данные на признаки (матрица X) и целевую переменную (y)\n",
    "X = data.drop('churn', axis=1)\n",
    "y = data['churn']"
   ]
  },
  {
   "cell_type": "code",
   "execution_count": 34,
   "metadata": {},
   "outputs": [],
   "source": [
    "#разделяем модель на обучающую и валидационную выборки (80\\20)\n",
    "X_train, X_test, y_train, y_test = train_test_split(X, y, test_size=0.2)"
   ]
  },
  {
   "cell_type": "code",
   "execution_count": 35,
   "metadata": {
    "scrolled": true
   },
   "outputs": [
    {
     "name": "stdout",
     "output_type": "stream",
     "text": [
      "[[ 0.96922337  0.42828957 -0.97774752 -0.66001618  0.33101366  0.28547433\n",
      "  -0.84551652 -0.6751115   0.55774211  0.39229432 -0.73247135 -1.39319368\n",
      "  -0.99042717]\n",
      " [ 0.96922337  0.42828957  1.02275892  1.51511438  0.33101366  1.60463372\n",
      "  -0.84551652  2.41995556  1.9436112   1.82071285  0.58997749 -0.28702977\n",
      "  -0.05884851]\n",
      " [ 0.96922337  0.42828957  1.02275892 -0.66001618  0.33101366  0.28547433\n",
      "  -0.84551652 -0.98461821  1.30953728  0.39229432 -0.73247135 -0.18044928\n",
      "   0.24615351]\n",
      " [-1.03175391  0.42828957 -0.97774752  1.51511438  0.33101366 -0.81382515\n",
      "  -0.84551652  0.87242203 -0.19535012 -0.79805446 -0.73247135  1.23546122\n",
      "   1.35850659]\n",
      " [ 0.96922337  0.42828957  1.02275892 -0.66001618  0.33101366 -0.81382515\n",
      "  -0.84551652  0.87242203  0.05174628 -0.79805446 -0.20349182  1.27672464\n",
      "   1.25869033]]\n"
     ]
    }
   ],
   "source": [
    "#создадим объект класса StandardScaler и применим его к обучающей выборке\n",
    "scaler = StandardScaler()\n",
    "\n",
    "#обучаем scaler и одновременно трансформируем матрицу для обучающей выборки\n",
    "X_train_st = scaler.fit_transform(X_train) \n",
    "print(X_train_st[:5])\n",
    "\n",
    "#применяем стандартизацию к матрице признаков для тестовой выборки\n",
    "X_test_st = scaler.transform(X_test)\n"
   ]
  },
  {
   "cell_type": "markdown",
   "metadata": {},
   "source": [
    "### Логистическая регрессия"
   ]
  },
  {
   "cell_type": "code",
   "execution_count": 36,
   "metadata": {},
   "outputs": [],
   "source": [
    "# задаем модель логистической регрессии\n",
    "model = LogisticRegression(class_weight='balanced', solver='liblinear')\n",
    "model.fit(X_train, y_train)\n",
    "predictions = model.predict(X_test)\n",
    "probabilities = model.predict_proba(X_test)[:, 1]"
   ]
  },
  {
   "cell_type": "markdown",
   "metadata": {},
   "source": [
    "- Оценим метриками - Доля правильных ответов (англ. accuracy), Точность (англ. precision) и полнота (англ. recall)\n"
   ]
  },
  {
   "cell_type": "code",
   "execution_count": 37,
   "metadata": {},
   "outputs": [
    {
     "name": "stdout",
     "output_type": "stream",
     "text": [
      "Accuracy: 0.90\n",
      "Precision: 0.75\n",
      "Recall: 0.97\n",
      "F1: 0.85\n"
     ]
    }
   ],
   "source": [
    "print('Accuracy: {:.2f}'.format(accuracy_score(y_test, predictions)))\n",
    "print('Precision: {:.2f}'.format(precision_score(y_test, predictions)))\n",
    "print('Recall: {:.2f}'.format(recall_score(y_test, predictions)))\n",
    "print('F1: {:.2f}'.format(f1_score(y_test, predictions)))"
   ]
  },
  {
   "cell_type": "markdown",
   "metadata": {},
   "source": [
    "- Правильно прогнозируем более 90% ответов. Точность - 91%, а полнота 83%. \n",
    "\n",
    "- Так как precision и recall направлены на избежание противоположных рисков, нужна сводная метрика, учитывающая баланс между метриками. Это F1-score. Чем ближе к 1, тем лучше)\n",
    "\n",
    "Проверим другую модель"
   ]
  },
  {
   "cell_type": "markdown",
   "metadata": {},
   "source": [
    "### Случайный лес"
   ]
  },
  {
   "cell_type": "code",
   "execution_count": 38,
   "metadata": {
    "scrolled": true
   },
   "outputs": [
    {
     "name": "stdout",
     "output_type": "stream",
     "text": [
      "Accuracy: 0.92\n",
      "Precision: 0.86\n",
      "Recall: 0.84\n",
      "F1: 0.85\n"
     ]
    }
   ],
   "source": [
    "# зададим алгоритм для новой модели на основе алгоритма случайного леса\n",
    "rf_model = RandomForestClassifier(class_weight='balanced', n_estimators = 100, random_state=0) \n",
    "\n",
    "# обучим модель случайного леса\n",
    "rf_model.fit(X_train, y_train)\n",
    "\n",
    "# воспользуемся уже обученной моделью, чтобы сделать прогнозы\n",
    "rf_predictions = rf_model.predict(X_test) \n",
    "rf_probabilities = rf_model.predict_proba(X_test)[:, 1]\n",
    "\n",
    "# выведем все метрики\n",
    "print('Accuracy: {:.2f}'.format(accuracy_score(y_test, rf_predictions)))\n",
    "print('Precision: {:.2f}'.format(precision_score(y_test, rf_predictions)))\n",
    "print('Recall: {:.2f}'.format(recall_score(y_test, rf_predictions)))\n",
    "print('F1: {:.2f}'.format(f1_score(y_test, rf_predictions)))"
   ]
  },
  {
   "cell_type": "markdown",
   "metadata": {},
   "source": [
    "- Результат почти одинаковый, разве что Recall немного хуже"
   ]
  },
  {
   "cell_type": "markdown",
   "metadata": {},
   "source": [
    "### Сравнение"
   ]
  },
  {
   "cell_type": "markdown",
   "metadata": {},
   "source": [
    "Так как все модели и метрики работают, предлагаю все это объеденить в функцию и сделать удобный вариант для сравнения"
   ]
  },
  {
   "cell_type": "code",
   "execution_count": 39,
   "metadata": {},
   "outputs": [],
   "source": [
    "# определим функцию, которая будет выводить наши метрики\n",
    "def print_all_metrics(y_true, y_pred, y_proba, title='Метрики классификации'):\n",
    "    print(title)\n",
    "    print('\\tAccuracy: {:.2f}'.format(accuracy_score(y_true, y_pred)))\n",
    "    print('\\tPrecision: {:.2f}'.format(precision_score(y_true, y_pred)))\n",
    "    print('\\tRecall: {:.2f}'.format(recall_score(y_true, y_pred)))\n",
    "    print('\\tF1: {:.2f}'.format(f1_score(y_true, y_pred)))\n",
    "    print('\\tROC_AUC: {:.2f}'.format(roc_auc_score(y_true, y_proba)))\n"
   ]
  },
  {
   "cell_type": "code",
   "execution_count": 40,
   "metadata": {},
   "outputs": [
    {
     "name": "stdout",
     "output_type": "stream",
     "text": [
      "Метрики для модели логистической регрессии:\n",
      "\tAccuracy: 0.90\n",
      "\tPrecision: 0.75\n",
      "\tRecall: 0.97\n",
      "\tF1: 0.85\n",
      "\tROC_AUC: 0.98\n",
      "Метрики для модели случайного леса:\n",
      "\tAccuracy: 0.92\n",
      "\tPrecision: 0.86\n",
      "\tRecall: 0.84\n",
      "\tF1: 0.85\n",
      "\tROC_AUC: 0.97\n"
     ]
    }
   ],
   "source": [
    "print_all_metrics(\n",
    "    y_test,\n",
    "    predictions,\n",
    "    probabilities,\n",
    "    title='Метрики для модели логистической регрессии:',\n",
    ")\n",
    "\n",
    "\n",
    "print_all_metrics(\n",
    "    y_test,\n",
    "    rf_predictions,\n",
    "    rf_probabilities, \n",
    "    title='Метрики для модели случайного леса:'\n",
    ")\n"
   ]
  },
  {
   "cell_type": "markdown",
   "metadata": {},
   "source": [
    "Добавили метрику ROC_AUC - она содержит в себе максимальное количество информации по качеству модели. Показатели метрик у нас одинаковые, но логистическая регрессия немного выигрывает"
   ]
  },
  {
   "cell_type": "markdown",
   "metadata": {},
   "source": [
    "**Вывод 3 шага:**\n",
    "\n",
    "- По параметру Accuracy \"Логистическая регрессия\" немного выигрывает у \"Случайный лес\" (0,94 против 0,92)\n",
    "- По параметру Precision тоже \"Логистическая регрессия\" лучше (0,95 проитив 0,91)\n",
    "- По параметру Recall снова выигрывает \"Логистическая регрессия\" (0,82 против 0,78)\n",
    "- По параметру F1 \"Логистическая регрессия\" тоже опережает \"Случайный лес\" (0,88 против 0,84)\n",
    "- По параметру ROC_AUC \"Логистическая регрессия\" и \"Случайный лес\" почти равны (0,98 против 0,97)\n",
    "- Показатели метрик у моделей почти одинаковые, но \"Логистическая регрессия\" немного выигрывает\n",
    "- У моделей очень высокий показатели"
   ]
  },
  {
   "cell_type": "markdown",
   "metadata": {},
   "source": [
    "_____"
   ]
  },
  {
   "cell_type": "markdown",
   "metadata": {},
   "source": [
    "#### Передискредитированная модель"
   ]
  },
  {
   "cell_type": "markdown",
   "metadata": {},
   "source": [
    "**Предлагаю рассмотреть еще один вариант модели, сравнить текущую с передискредитированной**"
   ]
  },
  {
   "cell_type": "code",
   "execution_count": 41,
   "metadata": {
    "scrolled": true
   },
   "outputs": [
    {
     "data": {
      "text/plain": [
       "(4000, 14)"
      ]
     },
     "execution_count": 41,
     "metadata": {},
     "output_type": "execute_result"
    }
   ],
   "source": [
    "data.shape"
   ]
  },
  {
   "cell_type": "code",
   "execution_count": 42,
   "metadata": {},
   "outputs": [
    {
     "data": {
      "text/plain": [
       "0    2939\n",
       "1    1061\n",
       "Name: churn, dtype: int64"
      ]
     },
     "execution_count": 42,
     "metadata": {},
     "output_type": "execute_result"
    }
   ],
   "source": [
    "data['churn'].value_counts()"
   ]
  },
  {
   "cell_type": "code",
   "execution_count": 43,
   "metadata": {},
   "outputs": [
    {
     "name": "stdout",
     "output_type": "stream",
     "text": [
      "Размерность набора данных X_train:  (3200, 13)\n",
      "Размерность набора данных Y_train:  (3200,)\n",
      "Размерность набора данных X_test:  (800, 13)\n",
      "Размерность набора данных Y_test:  (800,)\n"
     ]
    }
   ],
   "source": [
    "#посмотрим размер выборок\n",
    "y_1 = data['churn']\n",
    "X_1 = data.drop('churn', axis = 1)\n",
    "feature_names = X_1.columns\n",
    "X1_train, X1_test, Y1_train, Y1_test = train_test_split(X_1, y_1, test_size = 0.2, random_state = 0)\n",
    "\n",
    "print('Размерность набора данных X_train: ', X1_train.shape)\n",
    "print('Размерность набора данных Y_train: ', Y1_train.shape)\n",
    "print('Размерность набора данных X_test: ', X1_test.shape)\n",
    "print('Размерность набора данных Y_test: ', Y1_test.shape)"
   ]
  },
  {
   "cell_type": "code",
   "execution_count": 44,
   "metadata": {},
   "outputs": [
    {
     "name": "stdout",
     "output_type": "stream",
     "text": [
      "              precision    recall  f1-score   support\n",
      "\n",
      "           0       0.94      0.94      0.94       602\n",
      "           1       0.82      0.80      0.81       198\n",
      "\n",
      "    accuracy                           0.91       800\n",
      "   macro avg       0.88      0.87      0.87       800\n",
      "weighted avg       0.91      0.91      0.91       800\n",
      "\n"
     ]
    }
   ],
   "source": [
    "#посмотрим метрики в текущем варианте\n",
    "lregress1 = LogisticRegression()\n",
    "lregress1.fit(X1_train, Y1_train.ravel())\n",
    "prediction1 = lregress1.predict(X1_test)\n",
    "print(classification_report(Y1_test, prediction1))"
   ]
  },
  {
   "cell_type": "code",
   "execution_count": 45,
   "metadata": {},
   "outputs": [
    {
     "name": "stdout",
     "output_type": "stream",
     "text": [
      "Перед применением метода кол-во меток со значением True: 863\n",
      "Перед применением метода кол-во меток со значением False: 2337\n"
     ]
    }
   ],
   "source": [
    "print('Перед применением метода кол-во меток со значением True: {}'.format(sum(Y1_train == True)))\n",
    "print('Перед применением метода кол-во меток со значением False: {}'.format(sum(Y1_train == False)))"
   ]
  },
  {
   "cell_type": "code",
   "execution_count": 46,
   "metadata": {},
   "outputs": [
    {
     "name": "stdout",
     "output_type": "stream",
     "text": [
      "После применения метода кол-во меток со значением True: 863\n",
      "После применения метода кол-во меток со значением False: 863\n"
     ]
    }
   ],
   "source": [
    "#уравняем группы\n",
    "nm = NearMiss()\n",
    "X1_train_miss, Y1_train_miss = nm.fit_resample(X1_train, Y1_train.ravel())\n",
    "\n",
    "print('После применения метода кол-во меток со значением True: {}'.format(sum(Y1_train_miss == True)))\n",
    "print('После применения метода кол-во меток со значением False: {}'.format(sum(Y1_train_miss == False)))"
   ]
  },
  {
   "cell_type": "code",
   "execution_count": 47,
   "metadata": {},
   "outputs": [
    {
     "name": "stdout",
     "output_type": "stream",
     "text": [
      "              precision    recall  f1-score   support\n",
      "\n",
      "           0       0.94      0.94      0.94       602\n",
      "           1       0.82      0.80      0.81       198\n",
      "\n",
      "    accuracy                           0.91       800\n",
      "   macro avg       0.88      0.87      0.87       800\n",
      "weighted avg       0.91      0.91      0.91       800\n",
      "\n",
      "              precision    recall  f1-score   support\n",
      "\n",
      "           0       0.94      0.93      0.93       602\n",
      "           1       0.80      0.81      0.80       198\n",
      "\n",
      "    accuracy                           0.90       800\n",
      "   macro avg       0.87      0.87      0.87       800\n",
      "weighted avg       0.90      0.90      0.90       800\n",
      "\n"
     ]
    }
   ],
   "source": [
    "#сравним новые метрики\n",
    "lregress2 = LogisticRegression()\n",
    "lregress2.fit(X1_train_miss, Y1_train_miss.ravel())\n",
    "prediction2 = lregress2.predict(X1_test)\n",
    "\n",
    "print(classification_report(Y1_test, prediction1))\n",
    "print(classification_report(Y1_test, prediction2))"
   ]
  },
  {
   "cell_type": "markdown",
   "metadata": {},
   "source": [
    "Значение меньшинства повысилось до 82%. Но из-за того, что выборка большего класса значительно уменьшилась, понизилась точность модели на 1%. Таким образом, этот метод помог справиться с несбалансированностью классов, но не сильно повлиял на результат. В целом считаю, что можно воспользоваться первоначальным вариантом"
   ]
  },
  {
   "cell_type": "markdown",
   "metadata": {},
   "source": [
    "_____"
   ]
  },
  {
   "cell_type": "markdown",
   "metadata": {},
   "source": [
    "#### Бинарная модель"
   ]
  },
  {
   "cell_type": "code",
   "execution_count": 48,
   "metadata": {},
   "outputs": [],
   "source": [
    "#разделим наши данные на признаки (матрица X) и целевую переменную (y)\n",
    "X_b = binar\n",
    "y_b = data['churn']"
   ]
  },
  {
   "cell_type": "code",
   "execution_count": 49,
   "metadata": {},
   "outputs": [],
   "source": [
    "#разделяем модель на обучающую и валидационную выборки (80\\20)\n",
    "Xb_train, Xb_test, yb_train, yb_test = train_test_split(X_b, y_b, test_size=0.2)"
   ]
  },
  {
   "cell_type": "code",
   "execution_count": 50,
   "metadata": {
    "scrolled": true
   },
   "outputs": [
    {
     "name": "stdout",
     "output_type": "stream",
     "text": [
      "[[ 0.97530483  0.42777851 -0.97104404 -0.66636576  0.32517073 -0.83361577]\n",
      " [-1.02532046  0.42777851 -0.97104404 -0.66636576  0.32517073 -0.83361577]\n",
      " [-1.02532046  0.42777851  1.02981941 -0.66636576  0.32517073 -0.83361577]\n",
      " [-1.02532046 -2.33765833  1.02981941 -0.66636576  0.32517073  1.19959343]\n",
      " [ 0.97530483  0.42777851  1.02981941 -0.66636576  0.32517073 -0.83361577]]\n"
     ]
    }
   ],
   "source": [
    "#создадим объект класса StandardScaler и применим его к обучающей выборке\n",
    "scaler_b = StandardScaler()\n",
    "\n",
    "#обучаем scaler и одновременно трансформируем матрицу для обучающей выборки\n",
    "Xb_train_st = scaler_b.fit_transform(Xb_train) \n",
    "print(Xb_train_st[:5])\n",
    "\n",
    "#применяем стандартизацию к матрице признаков для тестовой выборки\n",
    "Xb_test_st = scaler_b.transform(Xb_test)"
   ]
  },
  {
   "cell_type": "code",
   "execution_count": 51,
   "metadata": {},
   "outputs": [],
   "source": [
    "# задаем модель логистической регрессии\n",
    "model = LogisticRegression(class_weight='balanced', solver='liblinear')\n",
    "model.fit(Xb_train, yb_train)\n",
    "predictions_b = model.predict(Xb_test)\n",
    "probabilities_b = model.predict_proba(Xb_test)[:, 1]"
   ]
  },
  {
   "cell_type": "code",
   "execution_count": 52,
   "metadata": {},
   "outputs": [],
   "source": [
    "# зададим алгоритм для новой модели на основе алгоритма случайного леса\n",
    "rf_model_b = RandomForestClassifier(class_weight='balanced', n_estimators = 100, random_state=0) \n",
    "\n",
    "# обучим модель случайного леса\n",
    "rf_model_b.fit(Xb_train, yb_train)\n",
    "\n",
    "# воспользуемся уже обученной моделью, чтобы сделать прогнозы\n",
    "rf_predictions_b = rf_model_b.predict(Xb_test) \n",
    "rf_probabilities_b = rf_model_b.predict_proba(Xb_test)[:, 1]"
   ]
  },
  {
   "cell_type": "code",
   "execution_count": 53,
   "metadata": {},
   "outputs": [
    {
     "name": "stdout",
     "output_type": "stream",
     "text": [
      "Метрики для бинарной модели логистической регрессии:\n",
      "\tAccuracy: 0.62\n",
      "\tPrecision: 0.38\n",
      "\tRecall: 0.50\n",
      "\tF1: 0.43\n",
      "\tROC_AUC: 0.64\n",
      "Метрики для бинарной модели случайного леса:\n",
      "\tAccuracy: 0.62\n",
      "\tPrecision: 0.37\n",
      "\tRecall: 0.49\n",
      "\tF1: 0.42\n",
      "\tROC_AUC: 0.61\n"
     ]
    }
   ],
   "source": [
    "print_all_metrics(\n",
    "    yb_test,\n",
    "    predictions_b,\n",
    "    probabilities_b,\n",
    "    title='Метрики для бинарной модели логистической регрессии:',\n",
    ")\n",
    "\n",
    "\n",
    "print_all_metrics(\n",
    "    yb_test,\n",
    "    rf_predictions_b,\n",
    "    rf_probabilities_b, \n",
    "    title='Метрики для бинарной модели случайного леса:'\n",
    ")"
   ]
  },
  {
   "cell_type": "markdown",
   "metadata": {},
   "source": [
    "**Вывод по бинарной модели:**\n",
    "\n",
    "По параметру Accuracy \"Логистическая регрессия\" и \"Случайный лес\" равны\n",
    "По параметру Precision \"Логистическая регрессия\" проигрывает (0,39 проитив 0,40)\n",
    "По параметру Recall выигрывает \"Логистическая регрессия\" (0,54 против 0,52)\n",
    "По параметру F1 \"Логистическая регрессия\" тоже опережает \"Случайный лес\" (0,46 против 0,45)\n",
    "По параметру ROC_AUC \"Логистическая регрессия\" и \"Случайный лес\" почти равны (0,64 против 0,63)\n",
    "Показатели метрик у моделей почти одинаковые, но \"Логистическая регрессия\" немного выигрывает и на этот раз\n",
    "У моделей средние показатели"
   ]
  },
  {
   "cell_type": "markdown",
   "metadata": {},
   "source": [
    "_____"
   ]
  },
  {
   "cell_type": "markdown",
   "metadata": {},
   "source": [
    "#### Небинарная модель"
   ]
  },
  {
   "cell_type": "code",
   "execution_count": 54,
   "metadata": {},
   "outputs": [],
   "source": [
    "#разделим наши данные на признаки (матрица X) и целевую переменную (y)\n",
    "X_nb = nobinar\n",
    "y_nb = data['churn']"
   ]
  },
  {
   "cell_type": "code",
   "execution_count": 55,
   "metadata": {
    "scrolled": true
   },
   "outputs": [
    {
     "name": "stdout",
     "output_type": "stream",
     "text": [
      "[[ 0.29318582 -0.06028723  0.88180757  0.16672073  0.32902117 -0.24994315\n",
      "   0.00525354]\n",
      " [-0.80669065 -0.06028723 -0.12031406 -0.7893838   0.06408213  0.18170158\n",
      "   0.30666642]\n",
      " [-0.80669065  0.85983585 -1.22171763 -0.7893838  -0.46579595  0.99471742\n",
      "   0.96241346]\n",
      " [ 1.61303758  0.55312816  0.36997265  1.83990364 -0.46579595 -0.83190459\n",
      "  -0.43975046]\n",
      " [-0.80669065 -1.9005334   0.07863208 -0.7893838  -0.99567404 -0.82073208\n",
      "  -1.68512588]]\n"
     ]
    }
   ],
   "source": [
    "#разделяем модель на обучающую и валидационную выборки (80\\20)\n",
    "Xnb_train, Xnb_test, ynb_train, ynb_test = train_test_split(X_nb, y_nb, test_size=0.2)\n",
    "\n",
    "#создадим объект класса StandardScaler и применим его к обучающей выборке\n",
    "scaler_nb = StandardScaler()\n",
    "\n",
    "#обучаем scaler и одновременно трансформируем матрицу для обучающей выборки\n",
    "Xnb_train_st = scaler_nb.fit_transform(Xnb_train) \n",
    "print(Xnb_train_st[:5])\n",
    "\n",
    "#применяем стандартизацию к матрице признаков для тестовой выборки\n",
    "Xnb_test_st = scaler_nb.transform(Xnb_test)"
   ]
  },
  {
   "cell_type": "code",
   "execution_count": 56,
   "metadata": {},
   "outputs": [],
   "source": [
    "# задаем модель логистической регрессии\n",
    "model = LogisticRegression(class_weight='balanced', solver='liblinear')\n",
    "model.fit(Xnb_train, ynb_train)\n",
    "predictions_nb = model.predict(Xnb_test)\n",
    "probabilities_nb = model.predict_proba(Xnb_test)[:, 1]"
   ]
  },
  {
   "cell_type": "code",
   "execution_count": 57,
   "metadata": {},
   "outputs": [],
   "source": [
    "# зададим алгоритм для новой модели на основе алгоритма случайного леса\n",
    "rf_model_nb = RandomForestClassifier(class_weight='balanced', n_estimators = 100, random_state=0) \n",
    "\n",
    "# обучим модель случайного леса\n",
    "rf_model_nb.fit(Xnb_train, ynb_train)\n",
    "\n",
    "# воспользуемся уже обученной моделью, чтобы сделать прогнозы\n",
    "rf_predictions_nb = rf_model_nb.predict(Xnb_test) \n",
    "rf_probabilities_nb = rf_model_nb.predict_proba(Xnb_test)[:, 1]"
   ]
  },
  {
   "cell_type": "code",
   "execution_count": 58,
   "metadata": {},
   "outputs": [
    {
     "name": "stdout",
     "output_type": "stream",
     "text": [
      "Метрики для НЕбинарной модели логистической регрессии:\n",
      "\tAccuracy: 0.89\n",
      "\tPrecision: 0.73\n",
      "\tRecall: 0.91\n",
      "\tF1: 0.81\n",
      "\tROC_AUC: 0.97\n",
      "Метрики для НЕбинарной модели случайного леса:\n",
      "\tAccuracy: 0.91\n",
      "\tPrecision: 0.84\n",
      "\tRecall: 0.82\n",
      "\tF1: 0.83\n",
      "\tROC_AUC: 0.97\n"
     ]
    }
   ],
   "source": [
    "print_all_metrics(\n",
    "    ynb_test,\n",
    "    predictions_nb,\n",
    "    probabilities_nb,\n",
    "    title='Метрики для НЕбинарной модели логистической регрессии:',\n",
    ")\n",
    "\n",
    "\n",
    "print_all_metrics(\n",
    "    ynb_test,\n",
    "    rf_predictions_nb,\n",
    "    rf_probabilities_nb, \n",
    "    title='Метрики для НЕбинарной модели случайного леса:'\n",
    ")"
   ]
  },
  {
   "cell_type": "markdown",
   "metadata": {},
   "source": [
    "**Вывод по НЕбинарной модели:**\n",
    "\n",
    "- По параметру Accuracy \"Логистическая регрессия\" проигрывает \"Случайный лес\" (0,90 против 0,91) \n",
    "- По параметру Precision \"Логистическая регрессия\" проигрывает (0,78 проитив 0,87) \n",
    "- По параметру Recall выигрывает \"Логистическая регрессия\" (0,89 против 0,81) \n",
    "- По параметру F1 \"Логистическая регрессия\" меньше чем \"Случайный лес\" (0,83 против 0,84) \n",
    "- По параметру ROC_AUC \"Логистическая регрессия\" и \"Случайный лес\" равны \n",
    "\n",
    "Показатели метрик у моделей почти одинаковые, но \"Случайный лес\" немного выигрывает. У моделей высокие показатели\n",
    "\n",
    "Это первый случай победы модели \"Случайный лес\", но в большинстве всех экспериментов побеждает модель \"Логистическая регрессия\"."
   ]
  },
  {
   "cell_type": "markdown",
   "metadata": {},
   "source": [
    "____"
   ]
  },
  {
   "cell_type": "markdown",
   "metadata": {},
   "source": [
    "_____"
   ]
  },
  {
   "cell_type": "markdown",
   "metadata": {},
   "source": [
    "## Кластеризация клиентов"
   ]
  },
  {
   "cell_type": "markdown",
   "metadata": {},
   "source": [
    "### Стандартизация данных"
   ]
  },
  {
   "cell_type": "code",
   "execution_count": 59,
   "metadata": {},
   "outputs": [],
   "source": [
    "# стандартизируем данные\n",
    "# создаём объект класса scaler (нормализатор)\n",
    "sc = StandardScaler()\n",
    "\n",
    "# обучаем нормализатор и преобразуем набор данных \n",
    "x_sc = sc.fit_transform(X)"
   ]
  },
  {
   "cell_type": "code",
   "execution_count": 60,
   "metadata": {},
   "outputs": [],
   "source": [
    "linked = linkage(x_sc, method = 'ward')"
   ]
  },
  {
   "cell_type": "markdown",
   "metadata": {},
   "source": [
    "### Матрица расстояний и дендрограмма"
   ]
  },
  {
   "cell_type": "code",
   "execution_count": 61,
   "metadata": {
    "scrolled": false
   },
   "outputs": [
    {
     "data": {
      "image/png": "[encoded data removed]",
      "text/plain": [
       "<Figure size 1080x720 with 1 Axes>"
      ]
     },
     "metadata": {
      "needs_background": "light"
     },
     "output_type": "display_data"
    }
   ],
   "source": [
    "#В переменной linked сохранена таблица «связок» между объектами. Её можно визуализировать как дендрограмму:\n",
    "plt.figure(figsize=(15, 10))  \n",
    "dendrogram(linked, orientation='top')\n",
    "plt.title('Дендрограмма')\n",
    "plt.show() "
   ]
  },
  {
   "cell_type": "markdown",
   "metadata": {},
   "source": [
    "### Кластеризации по алгоритму K-Means и прогноз кластеров клиентов"
   ]
  },
  {
   "cell_type": "code",
   "execution_count": 62,
   "metadata": {},
   "outputs": [
    {
     "data": {
      "text/html": [
       "<div>\n",
       "<style scoped>\n",
       "    .dataframe tbody tr th:only-of-type {\n",
       "        vertical-align: middle;\n",
       "    }\n",
       "\n",
       "    .dataframe tbody tr th {\n",
       "        vertical-align: top;\n",
       "    }\n",
       "\n",
       "    .dataframe thead th {\n",
       "        text-align: right;\n",
       "    }\n",
       "</style>\n",
       "<table border=\"1\" class=\"dataframe\">\n",
       "  <thead>\n",
       "    <tr style=\"text-align: right;\">\n",
       "      <th></th>\n",
       "      <th>gender</th>\n",
       "      <th>near_location</th>\n",
       "      <th>partner</th>\n",
       "      <th>promo_friends</th>\n",
       "      <th>phone</th>\n",
       "      <th>contract_period</th>\n",
       "      <th>group_visits</th>\n",
       "      <th>age</th>\n",
       "      <th>avg_additional_charges_total</th>\n",
       "      <th>month_to_end_contract</th>\n",
       "      <th>lifetime</th>\n",
       "      <th>avg_class_frequency_total</th>\n",
       "      <th>avg_class_frequency_current_month</th>\n",
       "      <th>churn</th>\n",
       "    </tr>\n",
       "    <tr>\n",
       "      <th>cluster</th>\n",
       "      <th></th>\n",
       "      <th></th>\n",
       "      <th></th>\n",
       "      <th></th>\n",
       "      <th></th>\n",
       "      <th></th>\n",
       "      <th></th>\n",
       "      <th></th>\n",
       "      <th></th>\n",
       "      <th></th>\n",
       "      <th></th>\n",
       "      <th></th>\n",
       "      <th></th>\n",
       "      <th></th>\n",
       "    </tr>\n",
       "  </thead>\n",
       "  <tbody>\n",
       "    <tr>\n",
       "      <th>0</th>\n",
       "      <td>0.502970</td>\n",
       "      <td>0.959406</td>\n",
       "      <td>0.783168</td>\n",
       "      <td>0.574257</td>\n",
       "      <td>1.000000</td>\n",
       "      <td>10.889109</td>\n",
       "      <td>0.542574</td>\n",
       "      <td>29.982178</td>\n",
       "      <td>160.761016</td>\n",
       "      <td>9.954455</td>\n",
       "      <td>4.736634</td>\n",
       "      <td>1.982055</td>\n",
       "      <td>1.974789</td>\n",
       "      <td>0.027723</td>\n",
       "    </tr>\n",
       "    <tr>\n",
       "      <th>1</th>\n",
       "      <td>0.522078</td>\n",
       "      <td>0.862338</td>\n",
       "      <td>0.470130</td>\n",
       "      <td>0.306494</td>\n",
       "      <td>0.000000</td>\n",
       "      <td>4.787013</td>\n",
       "      <td>0.425974</td>\n",
       "      <td>29.301299</td>\n",
       "      <td>143.957664</td>\n",
       "      <td>4.475325</td>\n",
       "      <td>3.924675</td>\n",
       "      <td>1.847220</td>\n",
       "      <td>1.716369</td>\n",
       "      <td>0.267532</td>\n",
       "    </tr>\n",
       "    <tr>\n",
       "      <th>2</th>\n",
       "      <td>0.495050</td>\n",
       "      <td>0.000000</td>\n",
       "      <td>0.463366</td>\n",
       "      <td>0.079208</td>\n",
       "      <td>1.000000</td>\n",
       "      <td>2.352475</td>\n",
       "      <td>0.215842</td>\n",
       "      <td>28.477228</td>\n",
       "      <td>135.457501</td>\n",
       "      <td>2.198020</td>\n",
       "      <td>2.809901</td>\n",
       "      <td>1.660461</td>\n",
       "      <td>1.477324</td>\n",
       "      <td>0.443564</td>\n",
       "    </tr>\n",
       "    <tr>\n",
       "      <th>3</th>\n",
       "      <td>0.485737</td>\n",
       "      <td>1.000000</td>\n",
       "      <td>0.350238</td>\n",
       "      <td>0.240095</td>\n",
       "      <td>1.000000</td>\n",
       "      <td>1.948494</td>\n",
       "      <td>0.341521</td>\n",
       "      <td>28.167987</td>\n",
       "      <td>131.622204</td>\n",
       "      <td>1.856577</td>\n",
       "      <td>2.440571</td>\n",
       "      <td>1.247634</td>\n",
       "      <td>1.012983</td>\n",
       "      <td>0.514263</td>\n",
       "    </tr>\n",
       "    <tr>\n",
       "      <th>4</th>\n",
       "      <td>0.559666</td>\n",
       "      <td>0.976134</td>\n",
       "      <td>0.356802</td>\n",
       "      <td>0.230310</td>\n",
       "      <td>0.998807</td>\n",
       "      <td>2.669451</td>\n",
       "      <td>0.473747</td>\n",
       "      <td>30.125298</td>\n",
       "      <td>161.657905</td>\n",
       "      <td>2.459427</td>\n",
       "      <td>4.898568</td>\n",
       "      <td>2.852002</td>\n",
       "      <td>2.850161</td>\n",
       "      <td>0.068019</td>\n",
       "    </tr>\n",
       "  </tbody>\n",
       "</table>\n",
       "</div>"
      ],
      "text/plain": [
       "           gender  near_location   partner  promo_friends     phone  \\\n",
       "cluster                                                               \n",
       "0        0.502970       0.959406  0.783168       0.574257  1.000000   \n",
       "1        0.522078       0.862338  0.470130       0.306494  0.000000   \n",
       "2        0.495050       0.000000  0.463366       0.079208  1.000000   \n",
       "3        0.485737       1.000000  0.350238       0.240095  1.000000   \n",
       "4        0.559666       0.976134  0.356802       0.230310  0.998807   \n",
       "\n",
       "         contract_period  group_visits        age  \\\n",
       "cluster                                             \n",
       "0              10.889109      0.542574  29.982178   \n",
       "1               4.787013      0.425974  29.301299   \n",
       "2               2.352475      0.215842  28.477228   \n",
       "3               1.948494      0.341521  28.167987   \n",
       "4               2.669451      0.473747  30.125298   \n",
       "\n",
       "         avg_additional_charges_total  month_to_end_contract  lifetime  \\\n",
       "cluster                                                                  \n",
       "0                          160.761016               9.954455  4.736634   \n",
       "1                          143.957664               4.475325  3.924675   \n",
       "2                          135.457501               2.198020  2.809901   \n",
       "3                          131.622204               1.856577  2.440571   \n",
       "4                          161.657905               2.459427  4.898568   \n",
       "\n",
       "         avg_class_frequency_total  avg_class_frequency_current_month  \\\n",
       "cluster                                                                 \n",
       "0                         1.982055                           1.974789   \n",
       "1                         1.847220                           1.716369   \n",
       "2                         1.660461                           1.477324   \n",
       "3                         1.247634                           1.012983   \n",
       "4                         2.852002                           2.850161   \n",
       "\n",
       "            churn  \n",
       "cluster            \n",
       "0        0.027723  \n",
       "1        0.267532  \n",
       "2        0.443564  \n",
       "3        0.514263  \n",
       "4        0.068019  "
      ]
     },
     "execution_count": 62,
     "metadata": {},
     "output_type": "execute_result"
    }
   ],
   "source": [
    "# задаём модель k_means с числом кластеров 5 и фиксируем значение random_state\n",
    "km = KMeans(n_clusters=5, random_state=0)\n",
    "\n",
    "# прогнозируем кластеры для наблюдений (алгоритм присваивает им номера от 0 до 2)\n",
    "labels = km.fit_predict(x_sc)\n",
    "\n",
    "# сохраняем метки кластера в поле нашего датасета\n",
    "data['cluster'] = labels\n",
    "\n",
    "# выводим статистику по средним значениям наших признаков по кластеру\n",
    "data.groupby('cluster').mean()"
   ]
  },
  {
   "cell_type": "code",
   "execution_count": 63,
   "metadata": {
    "scrolled": true
   },
   "outputs": [
    {
     "data": {
      "text/plain": [
       "cluster\n",
       "0    1010\n",
       "1     385\n",
       "2     505\n",
       "3    1262\n",
       "4     838\n",
       "Name: gender, dtype: int64"
      ]
     },
     "execution_count": 63,
     "metadata": {},
     "output_type": "execute_result"
    }
   ],
   "source": [
    "#посмторим сколько человек в каждом кластере\n",
    "data.groupby(['cluster'])['gender'].count()"
   ]
  },
  {
   "cell_type": "markdown",
   "metadata": {},
   "source": [
    "- Самаая большая группа 3, а самая маленькая 1. Разница почти в 3,5 раза."
   ]
  },
  {
   "cell_type": "code",
   "execution_count": 65,
   "metadata": {},
   "outputs": [
    {
     "data": {
      "text/plain": [
       "0.14140953623023353"
      ]
     },
     "execution_count": 65,
     "metadata": {},
     "output_type": "execute_result"
    }
   ],
   "source": [
    "silhouette_score(x_sc, labels)"
   ]
  },
  {
   "cell_type": "markdown",
   "metadata": {},
   "source": [
    "На вход передаём нормализованную или стандартизованную матрицу признаков и метки, которые спрогнозировал алгоритм кластеризации, в виде списка.\n",
    "Значение метрики силуэта принимает значения от -1 до 1. Чем ближе к 1, тем качественнее кластеризация. У нас значение `0,14`\n",
    "\n",
    "Значение этой метрики не очень высокое, но, если вспомнить графики, там не было четко отделяемых групп на попарных графиках. Сложн найти процесс, в котором наблюдения имеют явную структуру и ярко выраженное разделение"
   ]
  },
  {
   "cell_type": "markdown",
   "metadata": {},
   "source": [
    "### Средние значения признаков для каждого кластера"
   ]
  },
  {
   "cell_type": "code",
   "execution_count": 66,
   "metadata": {},
   "outputs": [
    {
     "data": {
      "text/html": [
       "<div>\n",
       "<style scoped>\n",
       "    .dataframe tbody tr th:only-of-type {\n",
       "        vertical-align: middle;\n",
       "    }\n",
       "\n",
       "    .dataframe tbody tr th {\n",
       "        vertical-align: top;\n",
       "    }\n",
       "\n",
       "    .dataframe thead th {\n",
       "        text-align: right;\n",
       "    }\n",
       "</style>\n",
       "<table border=\"1\" class=\"dataframe\">\n",
       "  <thead>\n",
       "    <tr style=\"text-align: right;\">\n",
       "      <th>cluster</th>\n",
       "      <th>0</th>\n",
       "      <th>1</th>\n",
       "      <th>2</th>\n",
       "      <th>3</th>\n",
       "      <th>4</th>\n",
       "    </tr>\n",
       "  </thead>\n",
       "  <tbody>\n",
       "    <tr>\n",
       "      <th>gender</th>\n",
       "      <td>0.502970</td>\n",
       "      <td>0.522078</td>\n",
       "      <td>0.495050</td>\n",
       "      <td>0.485737</td>\n",
       "      <td>0.559666</td>\n",
       "    </tr>\n",
       "    <tr>\n",
       "      <th>near_location</th>\n",
       "      <td>0.959406</td>\n",
       "      <td>0.862338</td>\n",
       "      <td>0.000000</td>\n",
       "      <td>1.000000</td>\n",
       "      <td>0.976134</td>\n",
       "    </tr>\n",
       "    <tr>\n",
       "      <th>partner</th>\n",
       "      <td>0.783168</td>\n",
       "      <td>0.470130</td>\n",
       "      <td>0.463366</td>\n",
       "      <td>0.350238</td>\n",
       "      <td>0.356802</td>\n",
       "    </tr>\n",
       "    <tr>\n",
       "      <th>promo_friends</th>\n",
       "      <td>0.574257</td>\n",
       "      <td>0.306494</td>\n",
       "      <td>0.079208</td>\n",
       "      <td>0.240095</td>\n",
       "      <td>0.230310</td>\n",
       "    </tr>\n",
       "    <tr>\n",
       "      <th>phone</th>\n",
       "      <td>1.000000</td>\n",
       "      <td>0.000000</td>\n",
       "      <td>1.000000</td>\n",
       "      <td>1.000000</td>\n",
       "      <td>0.998807</td>\n",
       "    </tr>\n",
       "    <tr>\n",
       "      <th>contract_period</th>\n",
       "      <td>10.889109</td>\n",
       "      <td>4.787013</td>\n",
       "      <td>2.352475</td>\n",
       "      <td>1.948494</td>\n",
       "      <td>2.669451</td>\n",
       "    </tr>\n",
       "    <tr>\n",
       "      <th>group_visits</th>\n",
       "      <td>0.542574</td>\n",
       "      <td>0.425974</td>\n",
       "      <td>0.215842</td>\n",
       "      <td>0.341521</td>\n",
       "      <td>0.473747</td>\n",
       "    </tr>\n",
       "    <tr>\n",
       "      <th>age</th>\n",
       "      <td>29.982178</td>\n",
       "      <td>29.301299</td>\n",
       "      <td>28.477228</td>\n",
       "      <td>28.167987</td>\n",
       "      <td>30.125298</td>\n",
       "    </tr>\n",
       "    <tr>\n",
       "      <th>avg_additional_charges_total</th>\n",
       "      <td>160.761016</td>\n",
       "      <td>143.957664</td>\n",
       "      <td>135.457501</td>\n",
       "      <td>131.622204</td>\n",
       "      <td>161.657905</td>\n",
       "    </tr>\n",
       "    <tr>\n",
       "      <th>month_to_end_contract</th>\n",
       "      <td>9.954455</td>\n",
       "      <td>4.475325</td>\n",
       "      <td>2.198020</td>\n",
       "      <td>1.856577</td>\n",
       "      <td>2.459427</td>\n",
       "    </tr>\n",
       "    <tr>\n",
       "      <th>lifetime</th>\n",
       "      <td>4.736634</td>\n",
       "      <td>3.924675</td>\n",
       "      <td>2.809901</td>\n",
       "      <td>2.440571</td>\n",
       "      <td>4.898568</td>\n",
       "    </tr>\n",
       "    <tr>\n",
       "      <th>avg_class_frequency_total</th>\n",
       "      <td>1.982055</td>\n",
       "      <td>1.847220</td>\n",
       "      <td>1.660461</td>\n",
       "      <td>1.247634</td>\n",
       "      <td>2.852002</td>\n",
       "    </tr>\n",
       "    <tr>\n",
       "      <th>avg_class_frequency_current_month</th>\n",
       "      <td>1.974789</td>\n",
       "      <td>1.716369</td>\n",
       "      <td>1.477324</td>\n",
       "      <td>1.012983</td>\n",
       "      <td>2.850161</td>\n",
       "    </tr>\n",
       "  </tbody>\n",
       "</table>\n",
       "</div>"
      ],
      "text/plain": [
       "cluster                                     0           1           2  \\\n",
       "gender                               0.502970    0.522078    0.495050   \n",
       "near_location                        0.959406    0.862338    0.000000   \n",
       "partner                              0.783168    0.470130    0.463366   \n",
       "promo_friends                        0.574257    0.306494    0.079208   \n",
       "phone                                1.000000    0.000000    1.000000   \n",
       "contract_period                     10.889109    4.787013    2.352475   \n",
       "group_visits                         0.542574    0.425974    0.215842   \n",
       "age                                 29.982178   29.301299   28.477228   \n",
       "avg_additional_charges_total       160.761016  143.957664  135.457501   \n",
       "month_to_end_contract                9.954455    4.475325    2.198020   \n",
       "lifetime                             4.736634    3.924675    2.809901   \n",
       "avg_class_frequency_total            1.982055    1.847220    1.660461   \n",
       "avg_class_frequency_current_month    1.974789    1.716369    1.477324   \n",
       "\n",
       "cluster                                     3           4  \n",
       "gender                               0.485737    0.559666  \n",
       "near_location                        1.000000    0.976134  \n",
       "partner                              0.350238    0.356802  \n",
       "promo_friends                        0.240095    0.230310  \n",
       "phone                                1.000000    0.998807  \n",
       "contract_period                      1.948494    2.669451  \n",
       "group_visits                         0.341521    0.473747  \n",
       "age                                 28.167987   30.125298  \n",
       "avg_additional_charges_total       131.622204  161.657905  \n",
       "month_to_end_contract                1.856577    2.459427  \n",
       "lifetime                             2.440571    4.898568  \n",
       "avg_class_frequency_total            1.247634    2.852002  \n",
       "avg_class_frequency_current_month    1.012983    2.850161  "
      ]
     },
     "execution_count": 66,
     "metadata": {},
     "output_type": "execute_result"
    }
   ],
   "source": [
    "#средние значения признаков по кластерам\n",
    "data.drop('churn', axis=1).groupby('cluster').mean().T"
   ]
  },
  {
   "cell_type": "markdown",
   "metadata": {},
   "source": [
    "**Посмотрим характерные черты, которые сразу бросаются в галаза**\n",
    "\n",
    "**Кластер 0:**\n",
    "- самая высокая доля партнерства, видимо это те самые клиенты, которые ходят в зал, частично за счет компании. \n",
    "- достаточно весомая доля клиентов, участвовавшая в акции \"приведи друга\"\n",
    "- самые длительные абонементы и большой период до окончания действия абонементов\n",
    "\n",
    "**Кластер 1:**\n",
    "- единственная группа, которая не оставила свой номер телефона\n",
    "\n",
    "**Кластер 2:**\n",
    "- единственные, кто не находится рядом с фитнес-центром\n",
    "- эти клиенты почти не участвовали в акции \"приведи друга\"\n",
    "- те, кто меньше всего посещают групповые занятия\n",
    "\n",
    "**Кластер 3:**\n",
    "- те, кто ходят реже всех\n",
    "- за последний месяц вообще раз в неделю (вороятно скоро попадут в отток)\n",
    "\n",
    "**Кластер 4:**\n",
    "- те клиенты, которые ходят чаще всех, почти 3 раза в неделю. Полная противоположность кластеру 3 "
   ]
  },
  {
   "cell_type": "markdown",
   "metadata": {},
   "source": [
    "### Распределения признаков для кластеров"
   ]
  },
  {
   "cell_type": "code",
   "execution_count": 67,
   "metadata": {
    "scrolled": true
   },
   "outputs": [
    {
     "data": {
      "image/png": "[encoded data removed]",
      "text/plain": [
       "<Figure size 1080x432 with 1 Axes>"
      ]
     },
     "metadata": {
      "needs_background": "light"
     },
     "output_type": "display_data"
    },
    {
     "data": {
      "image/png": "[encoded data removed]",
      "text/plain": [
       "<Figure size 1080x432 with 1 Axes>"
      ]
     },
     "metadata": {
      "needs_background": "light"
     },
     "output_type": "display_data"
    },
    {
     "data": {
      "image/png": "[encoded data removed]",
      "text/plain": [
       "<Figure size 1080x432 with 1 Axes>"
      ]
     },
     "metadata": {
      "needs_background": "light"
     },
     "output_type": "display_data"
    },
    {
     "data": {
      "image/png": "[encoded data removed]",
      "text/plain": [
       "<Figure size 1080x432 with 1 Axes>"
      ]
     },
     "metadata": {
      "needs_background": "light"
     },
     "output_type": "display_data"
    },
    {
     "data": {
      "image/png": "[encoded data removed]",
      "text/plain": [
       "<Figure size 1080x432 with 1 Axes>"
      ]
     },
     "metadata": {
      "needs_background": "light"
     },
     "output_type": "display_data"
    },
    {
     "data": {
      "image/png": "[encoded data removed]",
      "text/plain": [
       "<Figure size 1080x432 with 1 Axes>"
      ]
     },
     "metadata": {
      "needs_background": "light"
     },
     "output_type": "display_data"
    },
    {
     "data": {
      "image/png": "[encoded data removed]",
      "text/plain": [
       "<Figure size 1080x432 with 1 Axes>"
      ]
     },
     "metadata": {
      "needs_background": "light"
     },
     "output_type": "display_data"
    },
    {
     "data": {
      "image/png": "[encoded data removed]",
      "text/plain": [
       "<Figure size 1080x432 with 1 Axes>"
      ]
     },
     "metadata": {
      "needs_background": "light"
     },
     "output_type": "display_data"
    },
    {
     "data": {
      "image/png": "[encoded data removed]",
      "text/plain": [
       "<Figure size 1080x432 with 1 Axes>"
      ]
     },
     "metadata": {
      "needs_background": "light"
     },
     "output_type": "display_data"
    },
    {
     "data": {
      "image/png": "[encoded data removed]",
      "text/plain": [
       "<Figure size 1080x432 with 1 Axes>"
      ]
     },
     "metadata": {
      "needs_background": "light"
     },
     "output_type": "display_data"
    },
    {
     "data": {
      "image/png": "[encoded data removed]",
      "text/plain": [
       "<Figure size 1080x432 with 1 Axes>"
      ]
     },
     "metadata": {
      "needs_background": "light"
     },
     "output_type": "display_data"
    },
    {
     "data": {
      "image/png": "[encoded data removed]",
      "text/plain": [
       "<Figure size 1080x432 with 1 Axes>"
      ]
     },
     "metadata": {
      "needs_background": "light"
     },
     "output_type": "display_data"
    },
    {
     "data": {
      "image/png": "[encoded data removed]",
      "text/plain": [
       "<Figure size 1080x432 with 1 Axes>"
      ]
     },
     "metadata": {
      "needs_background": "light"
     },
     "output_type": "display_data"
    },
    {
     "data": {
      "image/png": "[encoded data removed]",
      "text/plain": [
       "<Figure size 1080x432 with 1 Axes>"
      ]
     },
     "metadata": {
      "needs_background": "light"
     },
     "output_type": "display_data"
    },
    {
     "data": {
      "image/png": "[encoded data removed]",
      "text/plain": [
       "<Figure size 1080x432 with 1 Axes>"
      ]
     },
     "metadata": {
      "needs_background": "light"
     },
     "output_type": "display_data"
    }
   ],
   "source": [
    "for i in data:\n",
    "    g = sns.displot(data, x=data[i], hue='cluster', palette=\"tab10\", kind='hist' ) \n",
    "    plt.title(f'Признак - {i}')\n",
    "    plt.ylabel(\"Количество клиентов\")\n",
    "    plt.xlabel(\"\")\n",
    "    g.fig.set_figwidth(15)\n",
    "    g.fig.set_figheight(6)\n",
    "    g.fig.patch.set_linewidth(5)\n",
    "    g.fig.patch.set_edgecolor('cornflowerblue')\n",
    "    plt.show()\n"
   ]
  },
  {
   "cell_type": "markdown",
   "metadata": {},
   "source": [
    "**Рассмотрим графики:**\n",
    "1. Gender - ровное распределение\n",
    "2. Near_location - кластер 2 живет совсем не близко и сильно выделяется\n",
    "3. Partner -кластеры 0 является партнером\n",
    "4. Promo_friends - похож на предыдущий график\n",
    "5. Phone - кластер 1, кто не оставлял свой номер\n",
    "6. Contract_period - в кластере 0 преимущественно годовые абонементы, и в нем нет тех у кого абонемент 1 мес.\n",
    "7. Group_visits - кластер 3 не любители групповых занятий, в отличие от кластера 0\n",
    "8. Age - кластер 3 выделяется на фоне остальных и преимущественно состоит из тех кому до 30 лет, а кластер 0 - кому больше 30 лет\n",
    "9. Avg_additional_charges_total - снова выделяется кластер 3, который тратит меньше всех (молодые) и кластер 0 - тратят свыше 200 (и старше 30 лет). Чем старше - тем больше тратят.\n",
    "10. Month_to_end_contract - здесь можно опять выделить кластер 0 - у них осталось 6мес и больше от абонемента. Меньше всего у 3 кластера\n",
    "11. Lifetime - кластер 3 - те кто ходили 2мес и меньше, а в 0 самые старенькие клиенты.\n",
    "12. Avg_class_frequency_total - Кластер3 - те кто ходит в среднем 1 раз в неделю, а кластер 0 - те кто ходит 2-3раза. Сильно на графиках выделяются именно эти два кластера\n",
    "13. Avg_class_frequency_current_month - схож с предыдущим графиком\n"
   ]
  },
  {
   "cell_type": "markdown",
   "metadata": {},
   "source": [
    "### Доли оттока в кластерах"
   ]
  },
  {
   "cell_type": "code",
   "execution_count": 68,
   "metadata": {},
   "outputs": [
    {
     "data": {
      "text/plain": [
       "cluster\n",
       "0    0.027723\n",
       "1    0.267532\n",
       "2    0.443564\n",
       "3    0.514263\n",
       "4    0.068019\n",
       "Name: churn, dtype: float64"
      ]
     },
     "execution_count": 68,
     "metadata": {},
     "output_type": "execute_result"
    }
   ],
   "source": [
    "#Для каждого полученного кластера посчитаем долю оттока\n",
    "data.groupby('cluster')['churn'].mean()"
   ]
  },
  {
   "cell_type": "markdown",
   "metadata": {},
   "source": [
    "Для кластера 2 и 3 доля оттока выше (44 и 51%), самый низний показатель у 0 и 4 группы (2% и 6%). Согласно разбору выше, это было очевидно."
   ]
  },
  {
   "cell_type": "markdown",
   "metadata": {},
   "source": [
    "**Вывод 4 шага:**\n",
    "\n",
    "- Разделили клиентов на кластеры\n",
    "- Посмотрели характерные черты для каждого кластера в виде распределения средних значений\n",
    "- Создали графики распределения признаков для кластеров, где посмотрели основные показатели и свойства\n",
    "- Самый большой отток в 51% из 3 кластера. А самый маленький отток из 0 (2%)\n",
    "- Во 2 кластере, клиенты живут неблизко и ходят мало (1 раз в неделю, потому что живут или работают далеко) отток в 26%.\n",
    "- Клиенты из 1 кластера, которые не оставляют телефона, по большей части, тоже склонны продолжать ходить в фитнес. этот признак никак не влияет\n",
    "\n"
   ]
  },
  {
   "cell_type": "markdown",
   "metadata": {},
   "source": [
    "_____"
   ]
  },
  {
   "cell_type": "markdown",
   "metadata": {},
   "source": [
    "## Общий вывод и рекомендации"
   ]
  },
  {
   "cell_type": "markdown",
   "metadata": {},
   "source": [
    "- При построении моделей прогнозирования оттока клиентов были использованы модели \"Логистическая регрессия\" и \"Случайный лес\". Обе модели одинаково хороши, но \"Логистическая регрессия\" немного лучше.\n",
    "\n",
    "- Создав матрицу расстояния и дендрограмму, разделили клиентов на 5 кластеров. Показатель метрики Silhouette_score = 0.14, говорит о том, что кластеризация прошла не очень хорошо, но нормально.\n",
    "\n",
    "- Результаты оттока по кластерам (доля от общего числа оттока):\n",
    "\n",
    "Кластер 0 - самый маленький показатель - 2% (Это те клиенты, кто купил годовой абонемент по акции \"Приведи друга\" или является сотрудником компании-партнером. Те, кто часто ходит 2-3раза в неделю и те кому больше 30 лет. Эти клиенты много тратят на доп услуги и посещают групповые занятия. Идеальный портрет клиента)\n",
    "\n",
    "Кластер 1 - доля оттока около 26% (Те клиенты, кто не оставил телефон. не является партнерами и без промо-акций)\n",
    "\n",
    "Кластер 2 - доля оттока большая 44% (Это те клиенты, кто живет не близко и мало посещает групповые занятия)\n",
    "\n",
    "Кластер 3 - лидер оттока 51% (Клиенты, которые очень мало посещают фитнес, а являются клиентамине более двух месяцев. Им менее 30 лет, они очень мало тратят по сравнению с другими группами. Не ходят на групповые занятия и не участвуют в акциях. Странные клиенты) \n",
    "\n",
    "Кластер 4 - маленький отток 6% (Эти клиенты противоположны кластеру 3 - ходят часто, фитнес любят)\n",
    "\n",
    "\n",
    "**Рекомендации:**\n",
    "1. Придумать новую стратегию ценовой политики для увеличения продаж годовых абонементов, сделать месячный абонемент абсолютно не выгодным клиенту.\n",
    "2. Расширить круг компаний-партнеров и ввести новые промо-акции.\n",
    "3. Увеличить поток на групповые занятия. Ввести новые \"плюшки\" только для клиентов с годовым абонементом\n",
    "4. Увеличивать желание клиентов на частое посещение зала (акции, подарки, скидки тем, кто ходит больше 3 раз в неделю) \n",
    "5. Искать новых клиентов согласно \"портрету\": клиент живет или работает близко, ему за 30 лет, работает в компании-партнере\n",
    "6. Предлагать больше платных услуг для клиентов, которые способны платить (то есть таким клиентам, как из кластера 0)\n"
   ]
  }
 ],
 "metadata": {
  "ExecuteTimeLog": [
   {
    "duration": 1334,
    "start_time": "2022-10-05T20:22:50.639Z"
   },
   {
    "duration": 234,
    "start_time": "2022-10-05T20:23:52.424Z"
   },
   {
    "duration": 21,
    "start_time": "2022-10-05T20:23:55.528Z"
   },
   {
    "duration": 11,
    "start_time": "2022-10-05T20:24:23.955Z"
   },
   {
    "duration": 11,
    "start_time": "2022-10-05T20:24:35.273Z"
   },
   {
    "duration": 6,
    "start_time": "2022-10-05T20:28:47.718Z"
   },
   {
    "duration": 6,
    "start_time": "2022-10-05T20:29:11.178Z"
   },
   {
    "duration": 3,
    "start_time": "2022-10-05T21:45:54.593Z"
   },
   {
    "duration": 1120,
    "start_time": "2022-10-05T21:46:40.146Z"
   },
   {
    "duration": 30,
    "start_time": "2022-10-05T21:46:41.268Z"
   },
   {
    "duration": 13,
    "start_time": "2022-10-05T21:46:41.299Z"
   },
   {
    "duration": 17,
    "start_time": "2022-10-05T21:46:41.314Z"
   },
   {
    "duration": 5,
    "start_time": "2022-10-05T21:46:41.332Z"
   },
   {
    "duration": 8,
    "start_time": "2022-10-05T21:46:41.339Z"
   },
   {
    "duration": 40,
    "start_time": "2022-10-05T21:47:31.272Z"
   },
   {
    "duration": 44,
    "start_time": "2022-10-05T21:48:35.593Z"
   },
   {
    "duration": 4,
    "start_time": "2022-10-05T21:57:05.681Z"
   },
   {
    "duration": 85,
    "start_time": "2022-10-05T21:57:57.677Z"
   },
   {
    "duration": 91,
    "start_time": "2022-10-05T21:58:09.834Z"
   },
   {
    "duration": 1216,
    "start_time": "2022-10-05T21:58:36.216Z"
   },
   {
    "duration": 1291,
    "start_time": "2022-10-05T21:59:37.934Z"
   },
   {
    "duration": 1319,
    "start_time": "2022-10-05T22:00:04.513Z"
   },
   {
    "duration": 1243,
    "start_time": "2022-10-05T22:04:55.375Z"
   },
   {
    "duration": 1280,
    "start_time": "2022-10-05T22:05:04.295Z"
   },
   {
    "duration": 1225,
    "start_time": "2022-10-05T22:07:59.453Z"
   },
   {
    "duration": 1387,
    "start_time": "2022-10-05T22:08:13.973Z"
   },
   {
    "duration": 1318,
    "start_time": "2022-10-05T22:08:39.733Z"
   },
   {
    "duration": 1335,
    "start_time": "2022-10-05T22:09:12.393Z"
   },
   {
    "duration": 1393,
    "start_time": "2022-10-05T22:09:23.593Z"
   },
   {
    "duration": 12,
    "start_time": "2022-10-05T22:17:22.703Z"
   },
   {
    "duration": 11,
    "start_time": "2022-10-05T22:19:57.087Z"
   },
   {
    "duration": 9,
    "start_time": "2022-10-05T22:20:58.580Z"
   },
   {
    "duration": 10,
    "start_time": "2022-10-05T22:21:24.693Z"
   },
   {
    "duration": 40,
    "start_time": "2022-10-05T22:21:31.912Z"
   },
   {
    "duration": 15,
    "start_time": "2022-10-05T22:21:34.460Z"
   },
   {
    "duration": 256,
    "start_time": "2022-10-05T22:24:07.433Z"
   },
   {
    "duration": 226,
    "start_time": "2022-10-05T22:24:23.733Z"
   },
   {
    "duration": 228,
    "start_time": "2022-10-05T22:24:39.873Z"
   },
   {
    "duration": 226,
    "start_time": "2022-10-05T22:25:42.740Z"
   },
   {
    "duration": 232,
    "start_time": "2022-10-05T22:26:16.213Z"
   },
   {
    "duration": 175,
    "start_time": "2022-10-05T22:29:50.380Z"
   },
   {
    "duration": 102,
    "start_time": "2022-10-05T22:30:00.541Z"
   },
   {
    "duration": 99,
    "start_time": "2022-10-05T22:30:28.981Z"
   },
   {
    "duration": 103,
    "start_time": "2022-10-05T22:30:43.622Z"
   },
   {
    "duration": 206,
    "start_time": "2022-10-05T22:31:09.796Z"
   },
   {
    "duration": 124,
    "start_time": "2022-10-05T22:31:36.060Z"
   },
   {
    "duration": 1399,
    "start_time": "2022-10-06T10:58:19.426Z"
   },
   {
    "duration": 73,
    "start_time": "2022-10-06T10:58:20.828Z"
   },
   {
    "duration": 15,
    "start_time": "2022-10-06T10:58:20.903Z"
   },
   {
    "duration": 12,
    "start_time": "2022-10-06T10:58:20.920Z"
   },
   {
    "duration": 18,
    "start_time": "2022-10-06T10:58:20.935Z"
   },
   {
    "duration": 16,
    "start_time": "2022-10-06T10:58:20.955Z"
   },
   {
    "duration": 12,
    "start_time": "2022-10-06T10:58:20.973Z"
   },
   {
    "duration": 15,
    "start_time": "2022-10-06T10:58:20.987Z"
   },
   {
    "duration": 55,
    "start_time": "2022-10-06T10:58:21.003Z"
   },
   {
    "duration": 16,
    "start_time": "2022-10-06T10:58:21.059Z"
   },
   {
    "duration": 166,
    "start_time": "2022-10-06T10:58:21.077Z"
   },
   {
    "duration": 1742,
    "start_time": "2022-10-06T10:58:21.247Z"
   },
   {
    "duration": 137,
    "start_time": "2022-10-06T10:59:31.618Z"
   },
   {
    "duration": 157,
    "start_time": "2022-10-06T11:02:41.900Z"
   },
   {
    "duration": 128,
    "start_time": "2022-10-06T11:03:05.868Z"
   },
   {
    "duration": 168,
    "start_time": "2022-10-06T11:03:18.305Z"
   },
   {
    "duration": 221,
    "start_time": "2022-10-06T11:05:47.528Z"
   },
   {
    "duration": 134,
    "start_time": "2022-10-06T11:05:52.421Z"
   },
   {
    "duration": 134,
    "start_time": "2022-10-06T11:06:32.497Z"
   },
   {
    "duration": 123,
    "start_time": "2022-10-06T11:08:30.597Z"
   },
   {
    "duration": 157,
    "start_time": "2022-10-06T11:10:18.721Z"
   },
   {
    "duration": 125,
    "start_time": "2022-10-06T11:10:32.385Z"
   },
   {
    "duration": 130,
    "start_time": "2022-10-06T11:12:10.588Z"
   },
   {
    "duration": 127,
    "start_time": "2022-10-06T11:13:44.249Z"
   },
   {
    "duration": 2052,
    "start_time": "2022-10-06T11:16:19.982Z"
   },
   {
    "duration": 156,
    "start_time": "2022-10-06T11:16:32.052Z"
   },
   {
    "duration": 126,
    "start_time": "2022-10-06T11:18:40.572Z"
   },
   {
    "duration": 123,
    "start_time": "2022-10-06T11:19:57.643Z"
   },
   {
    "duration": 151,
    "start_time": "2022-10-06T11:21:16.919Z"
   },
   {
    "duration": 238,
    "start_time": "2022-10-06T11:23:08.920Z"
   },
   {
    "duration": 157,
    "start_time": "2022-10-06T11:24:05.520Z"
   },
   {
    "duration": 150,
    "start_time": "2022-10-06T11:25:36.473Z"
   },
   {
    "duration": 158,
    "start_time": "2022-10-06T11:26:08.719Z"
   },
   {
    "duration": 171,
    "start_time": "2022-10-06T11:26:11.695Z"
   },
   {
    "duration": 184,
    "start_time": "2022-10-06T11:27:36.322Z"
   },
   {
    "duration": 1567,
    "start_time": "2022-10-06T11:29:32.824Z"
   },
   {
    "duration": 1692,
    "start_time": "2022-10-06T11:29:51.902Z"
   },
   {
    "duration": 1729,
    "start_time": "2022-10-06T11:32:16.617Z"
   },
   {
    "duration": 5,
    "start_time": "2022-10-06T11:38:36.421Z"
   },
   {
    "duration": 11,
    "start_time": "2022-10-06T11:39:01.175Z"
   },
   {
    "duration": 383,
    "start_time": "2022-10-06T11:39:20.828Z"
   },
   {
    "duration": 5,
    "start_time": "2022-10-06T11:39:25.718Z"
   },
   {
    "duration": 11,
    "start_time": "2022-10-06T11:40:39.462Z"
   },
   {
    "duration": 48,
    "start_time": "2022-10-06T11:41:35.463Z"
   },
   {
    "duration": 5,
    "start_time": "2022-10-06T11:42:52.566Z"
   },
   {
    "duration": 5,
    "start_time": "2022-10-06T11:44:37.540Z"
   },
   {
    "duration": 4,
    "start_time": "2022-10-06T11:47:57.032Z"
   },
   {
    "duration": 3,
    "start_time": "2022-10-06T11:48:24.807Z"
   },
   {
    "duration": 2,
    "start_time": "2022-10-06T11:49:36.759Z"
   },
   {
    "duration": 50,
    "start_time": "2022-10-06T11:52:38.211Z"
   },
   {
    "duration": 0,
    "start_time": "2022-10-06T11:57:57.847Z"
   },
   {
    "duration": 1519,
    "start_time": "2022-10-06T11:58:09.193Z"
   },
   {
    "duration": 32,
    "start_time": "2022-10-06T11:58:10.714Z"
   },
   {
    "duration": 17,
    "start_time": "2022-10-06T11:58:10.747Z"
   },
   {
    "duration": 17,
    "start_time": "2022-10-06T11:58:10.765Z"
   },
   {
    "duration": 10,
    "start_time": "2022-10-06T11:58:10.784Z"
   },
   {
    "duration": 17,
    "start_time": "2022-10-06T11:58:10.796Z"
   },
   {
    "duration": 8,
    "start_time": "2022-10-06T11:58:10.815Z"
   },
   {
    "duration": 9,
    "start_time": "2022-10-06T11:58:10.833Z"
   },
   {
    "duration": 48,
    "start_time": "2022-10-06T11:58:10.843Z"
   },
   {
    "duration": 13,
    "start_time": "2022-10-06T11:58:10.893Z"
   },
   {
    "duration": 146,
    "start_time": "2022-10-06T11:58:10.908Z"
   },
   {
    "duration": 136,
    "start_time": "2022-10-06T11:58:11.055Z"
   },
   {
    "duration": 143,
    "start_time": "2022-10-06T11:58:11.193Z"
   },
   {
    "duration": 216,
    "start_time": "2022-10-06T11:58:11.339Z"
   },
   {
    "duration": 143,
    "start_time": "2022-10-06T11:58:11.557Z"
   },
   {
    "duration": 131,
    "start_time": "2022-10-06T11:58:11.702Z"
   },
   {
    "duration": 127,
    "start_time": "2022-10-06T11:58:11.835Z"
   },
   {
    "duration": 158,
    "start_time": "2022-10-06T11:58:11.963Z"
   },
   {
    "duration": 139,
    "start_time": "2022-10-06T11:58:12.123Z"
   },
   {
    "duration": 128,
    "start_time": "2022-10-06T11:58:12.264Z"
   },
   {
    "duration": 153,
    "start_time": "2022-10-06T11:58:12.394Z"
   },
   {
    "duration": 154,
    "start_time": "2022-10-06T11:58:12.549Z"
   },
   {
    "duration": 131,
    "start_time": "2022-10-06T11:58:12.704Z"
   },
   {
    "duration": 1652,
    "start_time": "2022-10-06T11:58:12.837Z"
   },
   {
    "duration": 1626,
    "start_time": "2022-10-06T11:58:14.490Z"
   },
   {
    "duration": 4,
    "start_time": "2022-10-06T11:58:16.119Z"
   },
   {
    "duration": 5,
    "start_time": "2022-10-06T11:58:16.133Z"
   },
   {
    "duration": 13,
    "start_time": "2022-10-06T11:58:16.140Z"
   },
   {
    "duration": 89,
    "start_time": "2022-10-06T11:58:16.154Z"
   },
   {
    "duration": 227,
    "start_time": "2022-10-06T11:58:16.335Z"
   },
   {
    "duration": 5,
    "start_time": "2022-10-06T11:58:44.597Z"
   },
   {
    "duration": 9,
    "start_time": "2022-10-06T11:58:49.056Z"
   },
   {
    "duration": 11,
    "start_time": "2022-10-06T12:03:53.755Z"
   },
   {
    "duration": 6,
    "start_time": "2022-10-06T12:04:26.253Z"
   },
   {
    "duration": 364,
    "start_time": "2022-10-06T12:04:29.950Z"
   },
   {
    "duration": 378,
    "start_time": "2022-10-06T12:05:28.038Z"
   },
   {
    "duration": 359,
    "start_time": "2022-10-06T12:05:51.987Z"
   },
   {
    "duration": 369,
    "start_time": "2022-10-06T12:06:18.390Z"
   },
   {
    "duration": 358,
    "start_time": "2022-10-06T12:07:38.393Z"
   },
   {
    "duration": 3,
    "start_time": "2022-10-06T12:10:44.709Z"
   },
   {
    "duration": 13,
    "start_time": "2022-10-06T12:11:49.619Z"
   },
   {
    "duration": 3,
    "start_time": "2022-10-06T12:12:07.765Z"
   },
   {
    "duration": 11,
    "start_time": "2022-10-06T12:12:09.726Z"
   },
   {
    "duration": 4,
    "start_time": "2022-10-06T12:13:01.597Z"
   },
   {
    "duration": 18,
    "start_time": "2022-10-06T12:13:29.090Z"
   },
   {
    "duration": 6,
    "start_time": "2022-10-06T12:14:12.725Z"
   },
   {
    "duration": 30,
    "start_time": "2022-10-06T12:14:17.260Z"
   },
   {
    "duration": 3,
    "start_time": "2022-10-06T12:14:20.549Z"
   },
   {
    "duration": 26,
    "start_time": "2022-10-06T12:14:22.486Z"
   },
   {
    "duration": 6,
    "start_time": "2022-10-06T12:16:00.043Z"
   },
   {
    "duration": 202,
    "start_time": "2022-10-06T12:16:48.033Z"
   },
   {
    "duration": 17,
    "start_time": "2022-10-06T12:16:54.289Z"
   },
   {
    "duration": 36,
    "start_time": "2022-10-06T12:19:56.320Z"
   },
   {
    "duration": 20,
    "start_time": "2022-10-06T12:23:03.471Z"
   },
   {
    "duration": 11,
    "start_time": "2022-10-06T12:25:22.982Z"
   },
   {
    "duration": 7,
    "start_time": "2022-10-06T12:25:30.133Z"
   },
   {
    "duration": 10,
    "start_time": "2022-10-06T12:26:39.732Z"
   },
   {
    "duration": 8,
    "start_time": "2022-10-06T12:27:36.126Z"
   },
   {
    "duration": 1416,
    "start_time": "2022-10-06T12:33:08.725Z"
   },
   {
    "duration": 1309,
    "start_time": "2022-10-06T12:33:47.326Z"
   },
   {
    "duration": 1651,
    "start_time": "2022-10-06T12:33:51.192Z"
   },
   {
    "duration": 1369,
    "start_time": "2022-10-06T12:34:02.569Z"
   },
   {
    "duration": 1287,
    "start_time": "2022-10-06T12:34:24.453Z"
   },
   {
    "duration": 1116,
    "start_time": "2022-10-06T12:34:37.420Z"
   },
   {
    "duration": 1429,
    "start_time": "2022-10-06T12:35:01.406Z"
   },
   {
    "duration": 1501,
    "start_time": "2022-10-06T12:35:19.534Z"
   },
   {
    "duration": 1459,
    "start_time": "2022-10-06T12:35:23.990Z"
   },
   {
    "duration": 11,
    "start_time": "2022-10-06T12:35:51.296Z"
   },
   {
    "duration": 12,
    "start_time": "2022-10-06T12:36:16.095Z"
   },
   {
    "duration": 12,
    "start_time": "2022-10-06T12:36:50.450Z"
   },
   {
    "duration": 29224,
    "start_time": "2022-10-06T12:36:58.961Z"
   },
   {
    "duration": 5,
    "start_time": "2022-10-06T12:39:38.761Z"
   },
   {
    "duration": 15,
    "start_time": "2022-10-06T12:40:24.196Z"
   },
   {
    "duration": 9,
    "start_time": "2022-10-06T12:40:29.536Z"
   },
   {
    "duration": 550,
    "start_time": "2022-10-06T12:40:34.081Z"
   },
   {
    "duration": 1462,
    "start_time": "2022-10-06T12:44:18.589Z"
   },
   {
    "duration": 31,
    "start_time": "2022-10-06T12:44:20.053Z"
   },
   {
    "duration": 17,
    "start_time": "2022-10-06T12:44:20.086Z"
   },
   {
    "duration": 10,
    "start_time": "2022-10-06T12:44:20.105Z"
   },
   {
    "duration": 3,
    "start_time": "2022-10-06T12:44:20.117Z"
   },
   {
    "duration": 13,
    "start_time": "2022-10-06T12:44:20.122Z"
   },
   {
    "duration": 6,
    "start_time": "2022-10-06T12:44:20.137Z"
   },
   {
    "duration": 14,
    "start_time": "2022-10-06T12:44:20.144Z"
   },
   {
    "duration": 53,
    "start_time": "2022-10-06T12:44:20.160Z"
   },
   {
    "duration": 35,
    "start_time": "2022-10-06T12:44:20.215Z"
   },
   {
    "duration": 144,
    "start_time": "2022-10-06T12:44:20.251Z"
   },
   {
    "duration": 141,
    "start_time": "2022-10-06T12:44:20.397Z"
   },
   {
    "duration": 137,
    "start_time": "2022-10-06T12:44:20.539Z"
   },
   {
    "duration": 200,
    "start_time": "2022-10-06T12:44:20.679Z"
   },
   {
    "duration": 131,
    "start_time": "2022-10-06T12:44:20.881Z"
   },
   {
    "duration": 123,
    "start_time": "2022-10-06T12:44:21.013Z"
   },
   {
    "duration": 129,
    "start_time": "2022-10-06T12:44:21.137Z"
   },
   {
    "duration": 157,
    "start_time": "2022-10-06T12:44:21.268Z"
   },
   {
    "duration": 132,
    "start_time": "2022-10-06T12:44:21.427Z"
   },
   {
    "duration": 126,
    "start_time": "2022-10-06T12:44:21.561Z"
   },
   {
    "duration": 150,
    "start_time": "2022-10-06T12:44:21.689Z"
   },
   {
    "duration": 135,
    "start_time": "2022-10-06T12:44:21.840Z"
   },
   {
    "duration": 128,
    "start_time": "2022-10-06T12:44:21.977Z"
   },
   {
    "duration": 1634,
    "start_time": "2022-10-06T12:44:22.107Z"
   },
   {
    "duration": 1572,
    "start_time": "2022-10-06T12:44:23.742Z"
   },
   {
    "duration": 4,
    "start_time": "2022-10-06T12:44:25.316Z"
   },
   {
    "duration": 16,
    "start_time": "2022-10-06T12:44:25.321Z"
   },
   {
    "duration": 15,
    "start_time": "2022-10-06T12:44:25.338Z"
   },
   {
    "duration": 28,
    "start_time": "2022-10-06T12:44:25.354Z"
   },
   {
    "duration": 102,
    "start_time": "2022-10-06T12:44:25.435Z"
   },
   {
    "duration": 373,
    "start_time": "2022-10-06T12:44:25.539Z"
   },
   {
    "duration": 4,
    "start_time": "2022-10-06T12:44:25.913Z"
   },
   {
    "duration": 26,
    "start_time": "2022-10-06T12:44:25.919Z"
   },
   {
    "duration": 7,
    "start_time": "2022-10-06T12:44:25.946Z"
   },
   {
    "duration": 682,
    "start_time": "2022-10-06T12:44:25.955Z"
   },
   {
    "duration": 108694,
    "start_time": "2022-10-06T12:44:26.639Z"
   },
   {
    "duration": 1605,
    "start_time": "2022-10-06T12:46:15.335Z"
   },
   {
    "duration": 29161,
    "start_time": "2022-10-06T12:46:16.943Z"
   },
   {
    "duration": 1461,
    "start_time": "2022-10-06T12:47:18.481Z"
   },
   {
    "duration": 7,
    "start_time": "2022-10-06T12:48:56.412Z"
   },
   {
    "duration": 492,
    "start_time": "2022-10-06T12:49:17.518Z"
   },
   {
    "duration": 1605,
    "start_time": "2022-10-06T12:55:11.837Z"
   },
   {
    "duration": 34167,
    "start_time": "2022-10-06T12:55:22.574Z"
   },
   {
    "duration": 3,
    "start_time": "2022-10-06T12:56:33.310Z"
   },
   {
    "duration": 114,
    "start_time": "2022-10-06T12:56:36.529Z"
   },
   {
    "duration": 7,
    "start_time": "2022-10-06T12:56:48.213Z"
   },
   {
    "duration": 6,
    "start_time": "2022-10-06T13:05:10.704Z"
   },
   {
    "duration": 14,
    "start_time": "2022-10-06T13:07:35.225Z"
   },
   {
    "duration": 10,
    "start_time": "2022-10-06T13:23:21.877Z"
   },
   {
    "duration": 736,
    "start_time": "2022-10-06T13:27:25.538Z"
   },
   {
    "duration": 11578,
    "start_time": "2022-10-06T13:28:27.225Z"
   },
   {
    "duration": 12069,
    "start_time": "2022-10-06T13:28:51.925Z"
   },
   {
    "duration": 353,
    "start_time": "2022-10-06T13:32:46.245Z"
   },
   {
    "duration": 12146,
    "start_time": "2022-10-06T13:32:52.965Z"
   },
   {
    "duration": 12059,
    "start_time": "2022-10-06T13:34:14.652Z"
   },
   {
    "duration": 51,
    "start_time": "2022-10-06T13:34:27.762Z"
   },
   {
    "duration": 591,
    "start_time": "2022-10-06T13:34:32.759Z"
   },
   {
    "duration": 618,
    "start_time": "2022-10-06T13:34:41.847Z"
   },
   {
    "duration": 782,
    "start_time": "2022-10-06T13:35:03.591Z"
   },
   {
    "duration": 664,
    "start_time": "2022-10-06T13:35:19.993Z"
   },
   {
    "duration": 634,
    "start_time": "2022-10-06T13:35:33.644Z"
   },
   {
    "duration": 12208,
    "start_time": "2022-10-06T13:35:56.045Z"
   },
   {
    "duration": 12140,
    "start_time": "2022-10-06T13:36:10.382Z"
   },
   {
    "duration": 1557,
    "start_time": "2022-10-06T13:36:28.586Z"
   },
   {
    "duration": 12009,
    "start_time": "2022-10-06T13:36:58.895Z"
   },
   {
    "duration": 12490,
    "start_time": "2022-10-06T13:40:55.969Z"
   },
   {
    "duration": 1458,
    "start_time": "2022-10-06T14:33:30.767Z"
   },
   {
    "duration": 31,
    "start_time": "2022-10-06T14:33:32.228Z"
   },
   {
    "duration": 14,
    "start_time": "2022-10-06T14:33:32.261Z"
   },
   {
    "duration": 17,
    "start_time": "2022-10-06T14:33:32.276Z"
   },
   {
    "duration": 3,
    "start_time": "2022-10-06T14:33:32.296Z"
   },
   {
    "duration": 16,
    "start_time": "2022-10-06T14:33:32.301Z"
   },
   {
    "duration": 6,
    "start_time": "2022-10-06T14:33:32.318Z"
   },
   {
    "duration": 17,
    "start_time": "2022-10-06T14:33:32.325Z"
   },
   {
    "duration": 44,
    "start_time": "2022-10-06T14:33:32.344Z"
   },
   {
    "duration": 16,
    "start_time": "2022-10-06T14:33:32.389Z"
   },
   {
    "duration": 146,
    "start_time": "2022-10-06T14:33:32.407Z"
   },
   {
    "duration": 133,
    "start_time": "2022-10-06T14:33:32.554Z"
   },
   {
    "duration": 142,
    "start_time": "2022-10-06T14:33:32.688Z"
   },
   {
    "duration": 202,
    "start_time": "2022-10-06T14:33:32.835Z"
   },
   {
    "duration": 130,
    "start_time": "2022-10-06T14:33:33.039Z"
   },
   {
    "duration": 127,
    "start_time": "2022-10-06T14:33:33.171Z"
   },
   {
    "duration": 128,
    "start_time": "2022-10-06T14:33:33.300Z"
   },
   {
    "duration": 158,
    "start_time": "2022-10-06T14:33:33.432Z"
   },
   {
    "duration": 128,
    "start_time": "2022-10-06T14:33:33.592Z"
   },
   {
    "duration": 127,
    "start_time": "2022-10-06T14:33:33.721Z"
   },
   {
    "duration": 142,
    "start_time": "2022-10-06T14:33:33.850Z"
   },
   {
    "duration": 146,
    "start_time": "2022-10-06T14:33:33.994Z"
   },
   {
    "duration": 124,
    "start_time": "2022-10-06T14:33:34.142Z"
   },
   {
    "duration": 1537,
    "start_time": "2022-10-06T14:33:34.268Z"
   },
   {
    "duration": 1688,
    "start_time": "2022-10-06T14:33:35.807Z"
   },
   {
    "duration": 4,
    "start_time": "2022-10-06T14:33:37.497Z"
   },
   {
    "duration": 21,
    "start_time": "2022-10-06T14:33:37.503Z"
   },
   {
    "duration": 15,
    "start_time": "2022-10-06T14:33:37.525Z"
   },
   {
    "duration": 27,
    "start_time": "2022-10-06T14:33:37.541Z"
   },
   {
    "duration": 163,
    "start_time": "2022-10-06T14:33:37.570Z"
   },
   {
    "duration": 367,
    "start_time": "2022-10-06T14:33:37.735Z"
   },
   {
    "duration": 4,
    "start_time": "2022-10-06T14:33:38.104Z"
   },
   {
    "duration": 26,
    "start_time": "2022-10-06T14:33:38.109Z"
   },
   {
    "duration": 8,
    "start_time": "2022-10-06T14:33:38.138Z"
   },
   {
    "duration": 605,
    "start_time": "2022-10-06T14:33:38.147Z"
   },
   {
    "duration": 108610,
    "start_time": "2022-10-06T14:33:38.754Z"
   },
   {
    "duration": 1573,
    "start_time": "2022-10-06T14:35:27.365Z"
   },
   {
    "duration": 5,
    "start_time": "2022-10-06T14:35:28.940Z"
   },
   {
    "duration": 34526,
    "start_time": "2022-10-06T14:35:28.947Z"
   },
   {
    "duration": 546,
    "start_time": "2022-10-06T14:36:03.475Z"
   },
   {
    "duration": 16,
    "start_time": "2022-10-06T14:36:04.024Z"
   },
   {
    "duration": 11698,
    "start_time": "2022-10-06T14:36:04.041Z"
   },
   {
    "duration": 7,
    "start_time": "2022-10-06T14:36:15.741Z"
   },
   {
    "duration": 5,
    "start_time": "2022-10-06T14:37:47.376Z"
   },
   {
    "duration": 1433,
    "start_time": "2022-10-06T14:38:07.798Z"
   },
   {
    "duration": 32,
    "start_time": "2022-10-06T14:38:09.233Z"
   },
   {
    "duration": 15,
    "start_time": "2022-10-06T14:38:09.268Z"
   },
   {
    "duration": 12,
    "start_time": "2022-10-06T14:38:09.285Z"
   },
   {
    "duration": 3,
    "start_time": "2022-10-06T14:38:09.299Z"
   },
   {
    "duration": 15,
    "start_time": "2022-10-06T14:38:09.303Z"
   },
   {
    "duration": 10,
    "start_time": "2022-10-06T14:38:09.319Z"
   },
   {
    "duration": 14,
    "start_time": "2022-10-06T14:38:09.331Z"
   },
   {
    "duration": 45,
    "start_time": "2022-10-06T14:38:09.347Z"
   },
   {
    "duration": 15,
    "start_time": "2022-10-06T14:38:09.394Z"
   },
   {
    "duration": 152,
    "start_time": "2022-10-06T14:38:09.411Z"
   },
   {
    "duration": 153,
    "start_time": "2022-10-06T14:38:09.565Z"
   },
   {
    "duration": 137,
    "start_time": "2022-10-06T14:38:09.721Z"
   },
   {
    "duration": 120,
    "start_time": "2022-10-06T14:38:09.859Z"
   },
   {
    "duration": 211,
    "start_time": "2022-10-06T14:38:09.981Z"
   },
   {
    "duration": 127,
    "start_time": "2022-10-06T14:38:10.194Z"
   },
   {
    "duration": 123,
    "start_time": "2022-10-06T14:38:10.322Z"
   },
   {
    "duration": 147,
    "start_time": "2022-10-06T14:38:10.447Z"
   },
   {
    "duration": 125,
    "start_time": "2022-10-06T14:38:10.596Z"
   },
   {
    "duration": 141,
    "start_time": "2022-10-06T14:38:10.722Z"
   },
   {
    "duration": 145,
    "start_time": "2022-10-06T14:38:10.865Z"
   },
   {
    "duration": 145,
    "start_time": "2022-10-06T14:38:11.012Z"
   },
   {
    "duration": 130,
    "start_time": "2022-10-06T14:38:11.159Z"
   },
   {
    "duration": 1634,
    "start_time": "2022-10-06T14:38:11.290Z"
   },
   {
    "duration": 1568,
    "start_time": "2022-10-06T14:38:12.926Z"
   },
   {
    "duration": 4,
    "start_time": "2022-10-06T14:38:14.495Z"
   },
   {
    "duration": 17,
    "start_time": "2022-10-06T14:38:14.500Z"
   },
   {
    "duration": 16,
    "start_time": "2022-10-06T14:38:14.518Z"
   },
   {
    "duration": 33,
    "start_time": "2022-10-06T14:38:14.536Z"
   },
   {
    "duration": 102,
    "start_time": "2022-10-06T14:38:14.635Z"
   },
   {
    "duration": 369,
    "start_time": "2022-10-06T14:38:14.738Z"
   },
   {
    "duration": 4,
    "start_time": "2022-10-06T14:38:15.109Z"
   },
   {
    "duration": 42,
    "start_time": "2022-10-06T14:38:15.116Z"
   },
   {
    "duration": 13,
    "start_time": "2022-10-06T14:38:15.159Z"
   },
   {
    "duration": 593,
    "start_time": "2022-10-06T14:38:15.174Z"
   },
   {
    "duration": 3,
    "start_time": "2022-10-06T14:38:15.768Z"
   },
   {
    "duration": 1268,
    "start_time": "2022-10-06T14:38:15.772Z"
   },
   {
    "duration": 5,
    "start_time": "2022-10-06T14:38:17.042Z"
   },
   {
    "duration": 33489,
    "start_time": "2022-10-06T14:38:17.048Z"
   },
   {
    "duration": 563,
    "start_time": "2022-10-06T14:38:50.542Z"
   },
   {
    "duration": 15,
    "start_time": "2022-10-06T14:38:51.106Z"
   },
   {
    "duration": 11572,
    "start_time": "2022-10-06T14:38:51.122Z"
   },
   {
    "duration": 6,
    "start_time": "2022-10-06T14:39:02.696Z"
   },
   {
    "duration": 5,
    "start_time": "2022-10-06T14:41:26.542Z"
   },
   {
    "duration": 1378,
    "start_time": "2022-10-06T14:41:40.887Z"
   },
   {
    "duration": 33,
    "start_time": "2022-10-06T14:41:42.267Z"
   },
   {
    "duration": 17,
    "start_time": "2022-10-06T14:41:42.302Z"
   },
   {
    "duration": 19,
    "start_time": "2022-10-06T14:41:42.320Z"
   },
   {
    "duration": 12,
    "start_time": "2022-10-06T14:41:42.341Z"
   },
   {
    "duration": 18,
    "start_time": "2022-10-06T14:41:42.354Z"
   },
   {
    "duration": 7,
    "start_time": "2022-10-06T14:41:42.374Z"
   },
   {
    "duration": 10,
    "start_time": "2022-10-06T14:41:42.383Z"
   },
   {
    "duration": 54,
    "start_time": "2022-10-06T14:41:42.395Z"
   },
   {
    "duration": 15,
    "start_time": "2022-10-06T14:41:42.451Z"
   },
   {
    "duration": 153,
    "start_time": "2022-10-06T14:41:42.468Z"
   },
   {
    "duration": 129,
    "start_time": "2022-10-06T14:41:42.623Z"
   },
   {
    "duration": 145,
    "start_time": "2022-10-06T14:41:42.754Z"
   },
   {
    "duration": 125,
    "start_time": "2022-10-06T14:41:42.902Z"
   },
   {
    "duration": 193,
    "start_time": "2022-10-06T14:41:43.029Z"
   },
   {
    "duration": 121,
    "start_time": "2022-10-06T14:41:43.223Z"
   },
   {
    "duration": 134,
    "start_time": "2022-10-06T14:41:43.346Z"
   },
   {
    "duration": 165,
    "start_time": "2022-10-06T14:41:43.481Z"
   },
   {
    "duration": 134,
    "start_time": "2022-10-06T14:41:43.648Z"
   },
   {
    "duration": 125,
    "start_time": "2022-10-06T14:41:43.784Z"
   },
   {
    "duration": 149,
    "start_time": "2022-10-06T14:41:43.911Z"
   },
   {
    "duration": 148,
    "start_time": "2022-10-06T14:41:44.062Z"
   },
   {
    "duration": 128,
    "start_time": "2022-10-06T14:41:44.212Z"
   },
   {
    "duration": 1595,
    "start_time": "2022-10-06T14:41:44.342Z"
   },
   {
    "duration": 1708,
    "start_time": "2022-10-06T14:41:45.938Z"
   },
   {
    "duration": 4,
    "start_time": "2022-10-06T14:41:47.649Z"
   },
   {
    "duration": 8,
    "start_time": "2022-10-06T14:41:47.655Z"
   },
   {
    "duration": 15,
    "start_time": "2022-10-06T14:41:47.665Z"
   },
   {
    "duration": 55,
    "start_time": "2022-10-06T14:41:47.682Z"
   },
   {
    "duration": 96,
    "start_time": "2022-10-06T14:41:47.740Z"
   },
   {
    "duration": 470,
    "start_time": "2022-10-06T14:41:47.837Z"
   },
   {
    "duration": 3,
    "start_time": "2022-10-06T14:41:48.309Z"
   },
   {
    "duration": 28,
    "start_time": "2022-10-06T14:41:48.314Z"
   },
   {
    "duration": 8,
    "start_time": "2022-10-06T14:41:48.344Z"
   },
   {
    "duration": 571,
    "start_time": "2022-10-06T14:41:48.353Z"
   },
   {
    "duration": 108580,
    "start_time": "2022-10-06T14:41:48.926Z"
   },
   {
    "duration": 1531,
    "start_time": "2022-10-06T14:43:37.508Z"
   },
   {
    "duration": 5,
    "start_time": "2022-10-06T14:43:39.041Z"
   },
   {
    "duration": 47,
    "start_time": "2022-10-07T03:41:29.372Z"
   },
   {
    "duration": 5,
    "start_time": "2022-10-07T03:41:34.314Z"
   },
   {
    "duration": 5,
    "start_time": "2022-10-07T03:41:49.434Z"
   },
   {
    "duration": 1713,
    "start_time": "2022-10-07T03:41:58.075Z"
   },
   {
    "duration": 66,
    "start_time": "2022-10-07T03:41:59.791Z"
   },
   {
    "duration": 15,
    "start_time": "2022-10-07T03:41:59.858Z"
   },
   {
    "duration": 9,
    "start_time": "2022-10-07T03:41:59.875Z"
   },
   {
    "duration": 7,
    "start_time": "2022-10-07T03:41:59.885Z"
   },
   {
    "duration": 15,
    "start_time": "2022-10-07T03:41:59.894Z"
   },
   {
    "duration": 5,
    "start_time": "2022-10-07T03:41:59.911Z"
   },
   {
    "duration": 10,
    "start_time": "2022-10-07T03:41:59.917Z"
   },
   {
    "duration": 39,
    "start_time": "2022-10-07T03:41:59.928Z"
   },
   {
    "duration": 13,
    "start_time": "2022-10-07T03:41:59.970Z"
   },
   {
    "duration": 160,
    "start_time": "2022-10-07T03:41:59.984Z"
   },
   {
    "duration": 132,
    "start_time": "2022-10-07T03:42:00.146Z"
   },
   {
    "duration": 138,
    "start_time": "2022-10-07T03:42:00.280Z"
   },
   {
    "duration": 126,
    "start_time": "2022-10-07T03:42:00.420Z"
   },
   {
    "duration": 195,
    "start_time": "2022-10-07T03:42:00.547Z"
   },
   {
    "duration": 122,
    "start_time": "2022-10-07T03:42:00.743Z"
   },
   {
    "duration": 124,
    "start_time": "2022-10-07T03:42:00.866Z"
   },
   {
    "duration": 149,
    "start_time": "2022-10-07T03:42:00.992Z"
   },
   {
    "duration": 122,
    "start_time": "2022-10-07T03:42:01.142Z"
   },
   {
    "duration": 125,
    "start_time": "2022-10-07T03:42:01.266Z"
   },
   {
    "duration": 146,
    "start_time": "2022-10-07T03:42:01.392Z"
   },
   {
    "duration": 132,
    "start_time": "2022-10-07T03:42:01.540Z"
   },
   {
    "duration": 124,
    "start_time": "2022-10-07T03:42:01.673Z"
   },
   {
    "duration": 1477,
    "start_time": "2022-10-07T03:42:01.799Z"
   },
   {
    "duration": 1567,
    "start_time": "2022-10-07T03:42:03.278Z"
   },
   {
    "duration": 1040,
    "start_time": "2022-10-07T03:42:04.846Z"
   },
   {
    "duration": 0,
    "start_time": "2022-10-07T03:42:05.888Z"
   },
   {
    "duration": 0,
    "start_time": "2022-10-07T03:42:05.890Z"
   },
   {
    "duration": 0,
    "start_time": "2022-10-07T03:42:05.891Z"
   },
   {
    "duration": 0,
    "start_time": "2022-10-07T03:42:05.892Z"
   },
   {
    "duration": 0,
    "start_time": "2022-10-07T03:42:05.893Z"
   },
   {
    "duration": 0,
    "start_time": "2022-10-07T03:42:05.894Z"
   },
   {
    "duration": 0,
    "start_time": "2022-10-07T03:42:05.895Z"
   },
   {
    "duration": 0,
    "start_time": "2022-10-07T03:42:05.897Z"
   },
   {
    "duration": 0,
    "start_time": "2022-10-07T03:42:05.898Z"
   },
   {
    "duration": 0,
    "start_time": "2022-10-07T03:42:05.899Z"
   },
   {
    "duration": 0,
    "start_time": "2022-10-07T03:42:05.899Z"
   },
   {
    "duration": 1,
    "start_time": "2022-10-07T03:42:05.900Z"
   },
   {
    "duration": 0,
    "start_time": "2022-10-07T03:42:05.902Z"
   },
   {
    "duration": 0,
    "start_time": "2022-10-07T03:42:05.903Z"
   },
   {
    "duration": 0,
    "start_time": "2022-10-07T03:42:05.904Z"
   },
   {
    "duration": 0,
    "start_time": "2022-10-07T03:42:05.906Z"
   },
   {
    "duration": 0,
    "start_time": "2022-10-07T03:42:05.907Z"
   },
   {
    "duration": 0,
    "start_time": "2022-10-07T03:42:05.909Z"
   },
   {
    "duration": 9,
    "start_time": "2022-10-07T03:42:31.687Z"
   },
   {
    "duration": 6,
    "start_time": "2022-10-07T03:43:04.467Z"
   },
   {
    "duration": 1455,
    "start_time": "2022-10-07T03:43:12.036Z"
   },
   {
    "duration": 31,
    "start_time": "2022-10-07T03:43:13.493Z"
   },
   {
    "duration": 14,
    "start_time": "2022-10-07T03:43:13.525Z"
   },
   {
    "duration": 10,
    "start_time": "2022-10-07T03:43:13.540Z"
   },
   {
    "duration": 3,
    "start_time": "2022-10-07T03:43:13.552Z"
   },
   {
    "duration": 13,
    "start_time": "2022-10-07T03:43:13.557Z"
   },
   {
    "duration": 6,
    "start_time": "2022-10-07T03:43:13.571Z"
   },
   {
    "duration": 7,
    "start_time": "2022-10-07T03:43:13.578Z"
   },
   {
    "duration": 58,
    "start_time": "2022-10-07T03:43:13.586Z"
   },
   {
    "duration": 13,
    "start_time": "2022-10-07T03:43:13.646Z"
   },
   {
    "duration": 145,
    "start_time": "2022-10-07T03:43:13.661Z"
   },
   {
    "duration": 125,
    "start_time": "2022-10-07T03:43:13.808Z"
   },
   {
    "duration": 133,
    "start_time": "2022-10-07T03:43:13.934Z"
   },
   {
    "duration": 119,
    "start_time": "2022-10-07T03:43:14.069Z"
   },
   {
    "duration": 346,
    "start_time": "2022-10-07T03:43:14.189Z"
   },
   {
    "duration": 274,
    "start_time": "2022-10-07T03:43:14.537Z"
   },
   {
    "duration": 217,
    "start_time": "2022-10-07T03:43:14.812Z"
   },
   {
    "duration": 293,
    "start_time": "2022-10-07T03:43:15.030Z"
   },
   {
    "duration": 218,
    "start_time": "2022-10-07T03:43:15.325Z"
   },
   {
    "duration": 286,
    "start_time": "2022-10-07T03:43:15.544Z"
   },
   {
    "duration": 215,
    "start_time": "2022-10-07T03:43:15.832Z"
   },
   {
    "duration": 138,
    "start_time": "2022-10-07T03:43:16.049Z"
   },
   {
    "duration": 124,
    "start_time": "2022-10-07T03:43:16.188Z"
   },
   {
    "duration": 1434,
    "start_time": "2022-10-07T03:43:16.314Z"
   },
   {
    "duration": 1481,
    "start_time": "2022-10-07T03:43:17.750Z"
   },
   {
    "duration": 5,
    "start_time": "2022-10-07T03:43:19.233Z"
   },
   {
    "duration": 6,
    "start_time": "2022-10-07T03:43:19.240Z"
   },
   {
    "duration": 7,
    "start_time": "2022-10-07T03:43:19.248Z"
   },
   {
    "duration": 11,
    "start_time": "2022-10-07T03:43:19.257Z"
   },
   {
    "duration": 51,
    "start_time": "2022-10-07T03:43:19.269Z"
   },
   {
    "duration": 86,
    "start_time": "2022-10-07T03:43:19.324Z"
   },
   {
    "duration": 466,
    "start_time": "2022-10-07T03:43:19.412Z"
   },
   {
    "duration": 4,
    "start_time": "2022-10-07T03:43:19.879Z"
   },
   {
    "duration": 25,
    "start_time": "2022-10-07T03:43:19.884Z"
   },
   {
    "duration": 6,
    "start_time": "2022-10-07T03:43:19.910Z"
   },
   {
    "duration": 442,
    "start_time": "2022-10-07T03:43:19.918Z"
   },
   {
    "duration": 91191,
    "start_time": "2022-10-07T03:43:20.361Z"
   },
   {
    "duration": 1256,
    "start_time": "2022-10-07T03:44:51.554Z"
   },
   {
    "duration": 7,
    "start_time": "2022-10-07T03:44:52.811Z"
   },
   {
    "duration": 30661,
    "start_time": "2022-10-07T03:44:52.819Z"
   },
   {
    "duration": 504,
    "start_time": "2022-10-07T03:45:23.484Z"
   },
   {
    "duration": 13,
    "start_time": "2022-10-07T03:45:23.989Z"
   },
   {
    "duration": 10941,
    "start_time": "2022-10-07T03:45:24.009Z"
   },
   {
    "duration": 6,
    "start_time": "2022-10-07T03:45:34.951Z"
   },
   {
    "duration": 1164,
    "start_time": "2022-10-07T04:00:17.955Z"
   },
   {
    "duration": 1731,
    "start_time": "2022-10-07T09:13:51.751Z"
   },
   {
    "duration": 76,
    "start_time": "2022-10-07T09:13:53.484Z"
   },
   {
    "duration": 18,
    "start_time": "2022-10-07T09:13:53.562Z"
   },
   {
    "duration": 23,
    "start_time": "2022-10-07T09:13:53.581Z"
   },
   {
    "duration": 6,
    "start_time": "2022-10-07T09:13:53.607Z"
   },
   {
    "duration": 13,
    "start_time": "2022-10-07T09:13:53.615Z"
   },
   {
    "duration": 8,
    "start_time": "2022-10-07T09:13:53.630Z"
   },
   {
    "duration": 15,
    "start_time": "2022-10-07T09:13:53.640Z"
   },
   {
    "duration": 51,
    "start_time": "2022-10-07T09:13:53.657Z"
   },
   {
    "duration": 18,
    "start_time": "2022-10-07T09:13:53.710Z"
   },
   {
    "duration": 154,
    "start_time": "2022-10-07T09:13:53.753Z"
   },
   {
    "duration": 148,
    "start_time": "2022-10-07T09:13:53.908Z"
   },
   {
    "duration": 154,
    "start_time": "2022-10-07T09:13:54.058Z"
   },
   {
    "duration": 134,
    "start_time": "2022-10-07T09:13:54.216Z"
   },
   {
    "duration": 235,
    "start_time": "2022-10-07T09:13:54.354Z"
   },
   {
    "duration": 144,
    "start_time": "2022-10-07T09:13:54.590Z"
   },
   {
    "duration": 140,
    "start_time": "2022-10-07T09:13:54.736Z"
   },
   {
    "duration": 169,
    "start_time": "2022-10-07T09:13:54.878Z"
   },
   {
    "duration": 148,
    "start_time": "2022-10-07T09:13:55.049Z"
   },
   {
    "duration": 138,
    "start_time": "2022-10-07T09:13:55.199Z"
   },
   {
    "duration": 175,
    "start_time": "2022-10-07T09:13:55.339Z"
   },
   {
    "duration": 170,
    "start_time": "2022-10-07T09:13:55.516Z"
   },
   {
    "duration": 134,
    "start_time": "2022-10-07T09:13:55.687Z"
   },
   {
    "duration": 1715,
    "start_time": "2022-10-07T09:13:55.822Z"
   },
   {
    "duration": 1720,
    "start_time": "2022-10-07T09:13:57.538Z"
   },
   {
    "duration": 6,
    "start_time": "2022-10-07T09:13:59.260Z"
   },
   {
    "duration": 12,
    "start_time": "2022-10-07T09:13:59.268Z"
   },
   {
    "duration": 11,
    "start_time": "2022-10-07T09:13:59.282Z"
   },
   {
    "duration": 23,
    "start_time": "2022-10-07T09:13:59.295Z"
   },
   {
    "duration": 40,
    "start_time": "2022-10-07T09:13:59.320Z"
   },
   {
    "duration": 99,
    "start_time": "2022-10-07T09:13:59.362Z"
   },
   {
    "duration": 486,
    "start_time": "2022-10-07T09:13:59.463Z"
   },
   {
    "duration": 4,
    "start_time": "2022-10-07T09:13:59.953Z"
   },
   {
    "duration": 41,
    "start_time": "2022-10-07T09:13:59.959Z"
   },
   {
    "duration": 9,
    "start_time": "2022-10-07T09:14:00.002Z"
   },
   {
    "duration": 641,
    "start_time": "2022-10-07T09:14:00.013Z"
   },
   {
    "duration": 2,
    "start_time": "2022-10-07T09:14:00.657Z"
   },
   {
    "duration": 1400,
    "start_time": "2022-10-07T09:14:00.661Z"
   },
   {
    "duration": 6,
    "start_time": "2022-10-07T09:14:02.062Z"
   },
   {
    "duration": 37031,
    "start_time": "2022-10-07T09:14:02.070Z"
   },
   {
    "duration": 564,
    "start_time": "2022-10-07T09:14:39.105Z"
   },
   {
    "duration": 16,
    "start_time": "2022-10-07T09:14:39.670Z"
   },
   {
    "duration": 12686,
    "start_time": "2022-10-07T09:14:39.689Z"
   },
   {
    "duration": 7,
    "start_time": "2022-10-07T09:14:52.376Z"
   },
   {
    "duration": 3,
    "start_time": "2022-10-07T09:25:00.914Z"
   },
   {
    "duration": 9,
    "start_time": "2022-10-07T09:28:24.479Z"
   },
   {
    "duration": 11,
    "start_time": "2022-10-07T09:28:59.885Z"
   },
   {
    "duration": 10,
    "start_time": "2022-10-07T09:30:42.213Z"
   },
   {
    "duration": 841,
    "start_time": "2022-10-07T09:31:45.085Z"
   },
   {
    "duration": 1124,
    "start_time": "2022-10-07T09:31:56.119Z"
   },
   {
    "duration": 944,
    "start_time": "2022-10-07T09:32:21.945Z"
   },
   {
    "duration": 898,
    "start_time": "2022-10-07T09:34:17.398Z"
   },
   {
    "duration": 980,
    "start_time": "2022-10-07T09:34:26.792Z"
   },
   {
    "duration": 852,
    "start_time": "2022-10-07T09:43:24.680Z"
   },
   {
    "duration": 870,
    "start_time": "2022-10-07T09:44:58.820Z"
   },
   {
    "duration": 832,
    "start_time": "2022-10-07T09:45:11.991Z"
   },
   {
    "duration": 1030,
    "start_time": "2022-10-07T09:45:22.235Z"
   },
   {
    "duration": 1563,
    "start_time": "2022-10-07T09:45:30.211Z"
   },
   {
    "duration": 18,
    "start_time": "2022-10-07T09:53:34.690Z"
   },
   {
    "duration": 14,
    "start_time": "2022-10-07T09:53:50.797Z"
   },
   {
    "duration": 8,
    "start_time": "2022-10-07T09:54:02.657Z"
   },
   {
    "duration": 45,
    "start_time": "2022-10-07T09:59:55.485Z"
   },
   {
    "duration": 6,
    "start_time": "2022-10-07T10:01:07.805Z"
   },
   {
    "duration": 9,
    "start_time": "2022-10-07T10:01:48.808Z"
   },
   {
    "duration": 7,
    "start_time": "2022-10-07T10:02:23.201Z"
   },
   {
    "duration": 20,
    "start_time": "2022-10-07T10:04:28.176Z"
   },
   {
    "duration": 92,
    "start_time": "2022-10-07T10:04:54.196Z"
   },
   {
    "duration": 15,
    "start_time": "2022-10-07T10:06:11.401Z"
   },
   {
    "duration": 6,
    "start_time": "2022-10-07T10:06:49.744Z"
   },
   {
    "duration": 41246,
    "start_time": "2022-10-07T10:06:57.535Z"
   },
   {
    "duration": 23,
    "start_time": "2022-10-07T10:07:53.570Z"
   },
   {
    "duration": 6,
    "start_time": "2022-10-07T10:08:36.345Z"
   },
   {
    "duration": 11,
    "start_time": "2022-10-07T10:08:56.950Z"
   },
   {
    "duration": 7,
    "start_time": "2022-10-07T10:09:02.528Z"
   },
   {
    "duration": 10,
    "start_time": "2022-10-07T10:10:31.267Z"
   },
   {
    "duration": 11,
    "start_time": "2022-10-07T10:10:49.398Z"
   },
   {
    "duration": 698,
    "start_time": "2022-10-07T10:11:22.370Z"
   },
   {
    "duration": 12,
    "start_time": "2022-10-07T10:11:57.690Z"
   },
   {
    "duration": 6,
    "start_time": "2022-10-07T10:13:17.983Z"
   },
   {
    "duration": 510,
    "start_time": "2022-10-07T10:13:25.254Z"
   },
   {
    "duration": 12,
    "start_time": "2022-10-07T10:13:53.405Z"
   },
   {
    "duration": 6,
    "start_time": "2022-10-07T10:14:12.777Z"
   },
   {
    "duration": 17,
    "start_time": "2022-10-07T10:14:59.649Z"
   },
   {
    "duration": 6,
    "start_time": "2022-10-07T10:15:09.537Z"
   },
   {
    "duration": 32,
    "start_time": "2022-10-07T10:15:14.311Z"
   },
   {
    "duration": 1484,
    "start_time": "2022-10-07T10:15:50.283Z"
   },
   {
    "duration": 1548,
    "start_time": "2022-10-07T10:16:20.109Z"
   },
   {
    "duration": 1702,
    "start_time": "2022-10-07T19:57:03.215Z"
   },
   {
    "duration": 0,
    "start_time": "2022-10-07T19:57:04.919Z"
   },
   {
    "duration": 0,
    "start_time": "2022-10-07T19:57:04.920Z"
   },
   {
    "duration": 0,
    "start_time": "2022-10-07T19:57:04.921Z"
   },
   {
    "duration": 0,
    "start_time": "2022-10-07T19:57:04.923Z"
   },
   {
    "duration": 0,
    "start_time": "2022-10-07T19:57:04.924Z"
   },
   {
    "duration": 0,
    "start_time": "2022-10-07T19:57:04.924Z"
   },
   {
    "duration": 0,
    "start_time": "2022-10-07T19:57:04.925Z"
   },
   {
    "duration": 0,
    "start_time": "2022-10-07T19:57:04.926Z"
   },
   {
    "duration": 0,
    "start_time": "2022-10-07T19:57:04.927Z"
   },
   {
    "duration": 0,
    "start_time": "2022-10-07T19:57:04.928Z"
   },
   {
    "duration": 0,
    "start_time": "2022-10-07T19:57:04.929Z"
   },
   {
    "duration": 0,
    "start_time": "2022-10-07T19:57:04.930Z"
   },
   {
    "duration": 0,
    "start_time": "2022-10-07T19:57:04.930Z"
   },
   {
    "duration": 0,
    "start_time": "2022-10-07T19:57:04.931Z"
   },
   {
    "duration": 0,
    "start_time": "2022-10-07T19:57:04.932Z"
   },
   {
    "duration": 0,
    "start_time": "2022-10-07T19:57:04.933Z"
   },
   {
    "duration": 0,
    "start_time": "2022-10-07T19:57:04.934Z"
   },
   {
    "duration": 0,
    "start_time": "2022-10-07T19:57:04.935Z"
   },
   {
    "duration": 0,
    "start_time": "2022-10-07T19:57:04.936Z"
   },
   {
    "duration": 0,
    "start_time": "2022-10-07T19:57:04.937Z"
   },
   {
    "duration": 0,
    "start_time": "2022-10-07T19:57:04.938Z"
   },
   {
    "duration": 0,
    "start_time": "2022-10-07T19:57:04.939Z"
   },
   {
    "duration": 0,
    "start_time": "2022-10-07T19:57:04.940Z"
   },
   {
    "duration": 0,
    "start_time": "2022-10-07T19:57:04.940Z"
   },
   {
    "duration": 0,
    "start_time": "2022-10-07T19:57:04.941Z"
   },
   {
    "duration": 0,
    "start_time": "2022-10-07T19:57:04.942Z"
   },
   {
    "duration": 0,
    "start_time": "2022-10-07T19:57:04.943Z"
   },
   {
    "duration": 0,
    "start_time": "2022-10-07T19:57:04.944Z"
   },
   {
    "duration": 0,
    "start_time": "2022-10-07T19:57:04.945Z"
   },
   {
    "duration": 0,
    "start_time": "2022-10-07T19:57:04.945Z"
   },
   {
    "duration": 0,
    "start_time": "2022-10-07T19:57:04.946Z"
   },
   {
    "duration": 0,
    "start_time": "2022-10-07T19:57:04.947Z"
   },
   {
    "duration": 0,
    "start_time": "2022-10-07T19:57:04.947Z"
   },
   {
    "duration": 0,
    "start_time": "2022-10-07T19:57:04.948Z"
   },
   {
    "duration": 0,
    "start_time": "2022-10-07T19:57:04.949Z"
   },
   {
    "duration": 1,
    "start_time": "2022-10-07T19:57:04.949Z"
   },
   {
    "duration": 0,
    "start_time": "2022-10-07T19:57:04.950Z"
   },
   {
    "duration": 0,
    "start_time": "2022-10-07T19:57:04.951Z"
   },
   {
    "duration": 0,
    "start_time": "2022-10-07T19:57:04.952Z"
   },
   {
    "duration": 0,
    "start_time": "2022-10-07T19:57:05.009Z"
   },
   {
    "duration": 0,
    "start_time": "2022-10-07T19:57:05.010Z"
   },
   {
    "duration": 0,
    "start_time": "2022-10-07T19:57:05.011Z"
   },
   {
    "duration": 0,
    "start_time": "2022-10-07T19:57:05.012Z"
   },
   {
    "duration": 0,
    "start_time": "2022-10-07T19:57:05.013Z"
   },
   {
    "duration": 0,
    "start_time": "2022-10-07T19:57:05.014Z"
   },
   {
    "duration": 0,
    "start_time": "2022-10-07T19:57:05.015Z"
   },
   {
    "duration": 0,
    "start_time": "2022-10-07T19:57:05.015Z"
   },
   {
    "duration": 0,
    "start_time": "2022-10-07T19:57:05.016Z"
   },
   {
    "duration": 0,
    "start_time": "2022-10-07T19:57:05.016Z"
   },
   {
    "duration": 0,
    "start_time": "2022-10-07T19:57:05.017Z"
   },
   {
    "duration": 0,
    "start_time": "2022-10-07T19:57:05.018Z"
   },
   {
    "duration": 0,
    "start_time": "2022-10-07T19:57:05.018Z"
   },
   {
    "duration": 0,
    "start_time": "2022-10-07T19:57:05.019Z"
   },
   {
    "duration": 0,
    "start_time": "2022-10-07T19:57:05.020Z"
   },
   {
    "duration": 0,
    "start_time": "2022-10-07T19:57:05.021Z"
   },
   {
    "duration": 0,
    "start_time": "2022-10-07T19:57:05.022Z"
   },
   {
    "duration": 42364,
    "start_time": "2022-10-07T19:57:31.351Z"
   },
   {
    "duration": 754,
    "start_time": "2022-10-07T19:58:13.717Z"
   },
   {
    "duration": 442,
    "start_time": "2022-10-07T19:58:14.472Z"
   },
   {
    "duration": 71,
    "start_time": "2022-10-07T19:58:14.916Z"
   },
   {
    "duration": 15,
    "start_time": "2022-10-07T19:58:14.989Z"
   },
   {
    "duration": 41,
    "start_time": "2022-10-07T19:58:15.006Z"
   },
   {
    "duration": 31,
    "start_time": "2022-10-07T19:58:15.049Z"
   },
   {
    "duration": 23,
    "start_time": "2022-10-07T19:58:15.081Z"
   },
   {
    "duration": 14,
    "start_time": "2022-10-07T19:58:15.106Z"
   },
   {
    "duration": 24,
    "start_time": "2022-10-07T19:58:15.123Z"
   },
   {
    "duration": 48,
    "start_time": "2022-10-07T19:58:15.149Z"
   },
   {
    "duration": 14,
    "start_time": "2022-10-07T19:58:15.198Z"
   },
   {
    "duration": 177,
    "start_time": "2022-10-07T19:58:15.213Z"
   },
   {
    "duration": 124,
    "start_time": "2022-10-07T19:58:15.392Z"
   },
   {
    "duration": 140,
    "start_time": "2022-10-07T19:58:15.518Z"
   },
   {
    "duration": 130,
    "start_time": "2022-10-07T19:58:15.659Z"
   },
   {
    "duration": 192,
    "start_time": "2022-10-07T19:58:15.791Z"
   },
   {
    "duration": 140,
    "start_time": "2022-10-07T19:58:15.984Z"
   },
   {
    "duration": 130,
    "start_time": "2022-10-07T19:58:16.126Z"
   },
   {
    "duration": 153,
    "start_time": "2022-10-07T19:58:16.257Z"
   },
   {
    "duration": 126,
    "start_time": "2022-10-07T19:58:16.412Z"
   },
   {
    "duration": 124,
    "start_time": "2022-10-07T19:58:16.539Z"
   },
   {
    "duration": 142,
    "start_time": "2022-10-07T19:58:16.665Z"
   },
   {
    "duration": 147,
    "start_time": "2022-10-07T19:58:16.809Z"
   },
   {
    "duration": 128,
    "start_time": "2022-10-07T19:58:16.957Z"
   },
   {
    "duration": 1502,
    "start_time": "2022-10-07T19:58:17.087Z"
   },
   {
    "duration": 2,
    "start_time": "2022-10-07T19:58:18.590Z"
   },
   {
    "duration": 14,
    "start_time": "2022-10-07T19:58:18.596Z"
   },
   {
    "duration": 12,
    "start_time": "2022-10-07T19:58:18.611Z"
   },
   {
    "duration": 742,
    "start_time": "2022-10-07T19:58:18.624Z"
   },
   {
    "duration": 1172,
    "start_time": "2022-10-07T19:58:19.367Z"
   },
   {
    "duration": 6,
    "start_time": "2022-10-07T19:58:20.540Z"
   },
   {
    "duration": 6,
    "start_time": "2022-10-07T19:58:20.547Z"
   },
   {
    "duration": 6,
    "start_time": "2022-10-07T19:58:20.555Z"
   },
   {
    "duration": 12,
    "start_time": "2022-10-07T19:58:20.563Z"
   },
   {
    "duration": 45,
    "start_time": "2022-10-07T19:58:20.576Z"
   },
   {
    "duration": 87,
    "start_time": "2022-10-07T19:58:20.623Z"
   },
   {
    "duration": 512,
    "start_time": "2022-10-07T19:58:20.711Z"
   },
   {
    "duration": 5,
    "start_time": "2022-10-07T19:58:21.225Z"
   },
   {
    "duration": 19,
    "start_time": "2022-10-07T19:58:21.231Z"
   },
   {
    "duration": 3,
    "start_time": "2022-10-07T19:58:21.252Z"
   },
   {
    "duration": 7,
    "start_time": "2022-10-07T19:58:21.257Z"
   },
   {
    "duration": 11,
    "start_time": "2022-10-07T19:58:21.266Z"
   },
   {
    "duration": 637,
    "start_time": "2022-10-07T19:58:21.278Z"
   },
   {
    "duration": 94,
    "start_time": "2022-10-07T19:58:21.917Z"
   },
   {
    "duration": 38,
    "start_time": "2022-10-07T19:58:22.013Z"
   },
   {
    "duration": 462,
    "start_time": "2022-10-07T19:58:22.053Z"
   },
   {
    "duration": 98,
    "start_time": "2022-10-07T19:58:22.517Z"
   },
   {
    "duration": 1015,
    "start_time": "2022-10-07T19:58:22.617Z"
   },
   {
    "duration": 2,
    "start_time": "2022-10-07T19:58:23.634Z"
   },
   {
    "duration": 1577,
    "start_time": "2022-10-07T19:58:23.638Z"
   },
   {
    "duration": 5,
    "start_time": "2022-10-07T19:58:25.216Z"
   },
   {
    "duration": 32478,
    "start_time": "2022-10-07T19:58:25.222Z"
   },
   {
    "duration": 497,
    "start_time": "2022-10-07T19:58:57.701Z"
   },
   {
    "duration": 18,
    "start_time": "2022-10-07T19:58:58.200Z"
   },
   {
    "duration": 11032,
    "start_time": "2022-10-07T19:58:58.220Z"
   },
   {
    "duration": 6,
    "start_time": "2022-10-07T19:59:09.254Z"
   },
   {
    "duration": 14,
    "start_time": "2022-10-07T20:02:18.010Z"
   },
   {
    "duration": 503,
    "start_time": "2022-10-07T20:02:33.010Z"
   },
   {
    "duration": 28,
    "start_time": "2022-10-07T20:03:26.610Z"
   },
   {
    "duration": 441,
    "start_time": "2022-10-07T20:03:44.069Z"
   },
   {
    "duration": 156,
    "start_time": "2022-10-07T20:25:11.605Z"
   },
   {
    "duration": 3,
    "start_time": "2022-10-07T20:26:17.297Z"
   },
   {
    "duration": 11,
    "start_time": "2022-10-07T20:26:53.909Z"
   },
   {
    "duration": 18,
    "start_time": "2022-10-07T20:27:44.969Z"
   },
   {
    "duration": 9,
    "start_time": "2022-10-07T20:27:58.197Z"
   },
   {
    "duration": 13,
    "start_time": "2022-10-07T20:28:39.310Z"
   },
   {
    "duration": 214,
    "start_time": "2022-10-07T20:29:33.101Z"
   },
   {
    "duration": 14,
    "start_time": "2022-10-07T20:30:13.457Z"
   },
   {
    "duration": 3,
    "start_time": "2022-10-07T20:33:52.870Z"
   },
   {
    "duration": 3,
    "start_time": "2022-10-07T20:34:33.269Z"
   },
   {
    "duration": 10,
    "start_time": "2022-10-07T20:34:53.255Z"
   },
   {
    "duration": 3,
    "start_time": "2022-10-07T20:35:09.156Z"
   },
   {
    "duration": 9,
    "start_time": "2022-10-07T20:35:10.687Z"
   },
   {
    "duration": 2,
    "start_time": "2022-10-07T20:35:20.453Z"
   },
   {
    "duration": 2,
    "start_time": "2022-10-07T20:35:24.039Z"
   },
   {
    "duration": 9,
    "start_time": "2022-10-07T20:35:25.757Z"
   },
   {
    "duration": 20474,
    "start_time": "2022-10-07T20:35:33.375Z"
   },
   {
    "duration": 3,
    "start_time": "2022-10-07T20:35:53.851Z"
   },
   {
    "duration": 17,
    "start_time": "2022-10-07T20:35:53.856Z"
   },
   {
    "duration": 61,
    "start_time": "2022-10-07T20:35:53.876Z"
   },
   {
    "duration": 12,
    "start_time": "2022-10-07T20:35:53.939Z"
   },
   {
    "duration": 20,
    "start_time": "2022-10-07T20:35:53.952Z"
   },
   {
    "duration": 6,
    "start_time": "2022-10-07T20:35:53.973Z"
   },
   {
    "duration": 12,
    "start_time": "2022-10-07T20:35:53.980Z"
   },
   {
    "duration": 5,
    "start_time": "2022-10-07T20:35:53.993Z"
   },
   {
    "duration": 6,
    "start_time": "2022-10-07T20:35:54.001Z"
   },
   {
    "duration": 42,
    "start_time": "2022-10-07T20:35:54.009Z"
   },
   {
    "duration": 16,
    "start_time": "2022-10-07T20:35:54.052Z"
   },
   {
    "duration": 168,
    "start_time": "2022-10-07T20:35:54.070Z"
   },
   {
    "duration": 130,
    "start_time": "2022-10-07T20:35:54.240Z"
   },
   {
    "duration": 169,
    "start_time": "2022-10-07T20:35:54.372Z"
   },
   {
    "duration": 126,
    "start_time": "2022-10-07T20:35:54.542Z"
   },
   {
    "duration": 140,
    "start_time": "2022-10-07T20:35:54.669Z"
   },
   {
    "duration": 137,
    "start_time": "2022-10-07T20:35:54.810Z"
   },
   {
    "duration": 293,
    "start_time": "2022-10-07T20:35:54.949Z"
   },
   {
    "duration": 163,
    "start_time": "2022-10-07T20:35:55.244Z"
   },
   {
    "duration": 143,
    "start_time": "2022-10-07T20:35:55.409Z"
   },
   {
    "duration": 149,
    "start_time": "2022-10-07T20:35:55.555Z"
   },
   {
    "duration": 170,
    "start_time": "2022-10-07T20:35:55.705Z"
   },
   {
    "duration": 154,
    "start_time": "2022-10-07T20:35:55.876Z"
   },
   {
    "duration": 134,
    "start_time": "2022-10-07T20:35:56.031Z"
   },
   {
    "duration": 1526,
    "start_time": "2022-10-07T20:35:56.166Z"
   },
   {
    "duration": 3,
    "start_time": "2022-10-07T20:35:57.694Z"
   },
   {
    "duration": 10,
    "start_time": "2022-10-07T20:35:57.710Z"
   },
   {
    "duration": 15,
    "start_time": "2022-10-07T20:35:57.723Z"
   },
   {
    "duration": 756,
    "start_time": "2022-10-07T20:35:57.740Z"
   },
   {
    "duration": 1393,
    "start_time": "2022-10-07T20:35:58.497Z"
   },
   {
    "duration": 5,
    "start_time": "2022-10-07T20:35:59.892Z"
   },
   {
    "duration": 11,
    "start_time": "2022-10-07T20:35:59.898Z"
   },
   {
    "duration": 11,
    "start_time": "2022-10-07T20:35:59.911Z"
   },
   {
    "duration": 13,
    "start_time": "2022-10-07T20:35:59.923Z"
   },
   {
    "duration": 72,
    "start_time": "2022-10-07T20:35:59.938Z"
   },
   {
    "duration": 99,
    "start_time": "2022-10-07T20:36:00.011Z"
   },
   {
    "duration": 436,
    "start_time": "2022-10-07T20:36:00.112Z"
   },
   {
    "duration": 3,
    "start_time": "2022-10-07T20:36:00.550Z"
   },
   {
    "duration": 36,
    "start_time": "2022-10-07T20:36:00.555Z"
   },
   {
    "duration": 23,
    "start_time": "2022-10-07T20:36:00.593Z"
   },
   {
    "duration": 36,
    "start_time": "2022-10-07T20:36:00.618Z"
   },
   {
    "duration": 13,
    "start_time": "2022-10-07T20:36:00.656Z"
   },
   {
    "duration": 944,
    "start_time": "2022-10-07T20:36:00.671Z"
   },
   {
    "duration": 7,
    "start_time": "2022-10-07T20:36:01.617Z"
   },
   {
    "duration": 150,
    "start_time": "2022-10-07T20:36:01.626Z"
   },
   {
    "duration": 942,
    "start_time": "2022-10-07T20:36:01.777Z"
   },
   {
    "duration": 2,
    "start_time": "2022-10-07T20:36:02.721Z"
   },
   {
    "duration": 87,
    "start_time": "2022-10-07T20:36:02.725Z"
   },
   {
    "duration": 33,
    "start_time": "2022-10-07T20:36:02.814Z"
   },
   {
    "duration": 18,
    "start_time": "2022-10-07T20:36:02.849Z"
   },
   {
    "duration": 215,
    "start_time": "2022-10-07T20:36:02.869Z"
   },
   {
    "duration": 15,
    "start_time": "2022-10-07T20:36:03.086Z"
   },
   {
    "duration": 6,
    "start_time": "2022-10-07T20:36:03.103Z"
   },
   {
    "duration": 13,
    "start_time": "2022-10-07T20:36:25.911Z"
   },
   {
    "duration": 17,
    "start_time": "2022-10-07T20:36:38.689Z"
   },
   {
    "duration": 415,
    "start_time": "2022-10-07T20:37:11.730Z"
   },
   {
    "duration": 17,
    "start_time": "2022-10-07T20:37:44.566Z"
   },
   {
    "duration": 750,
    "start_time": "2022-10-07T20:50:08.691Z"
   },
   {
    "duration": 11,
    "start_time": "2022-10-07T20:52:23.392Z"
   },
   {
    "duration": 28680,
    "start_time": "2022-10-07T20:52:31.987Z"
   },
   {
    "duration": 699,
    "start_time": "2022-10-07T20:53:08.803Z"
   },
   {
    "duration": 206947,
    "start_time": "2022-10-07T20:57:32.522Z"
   },
   {
    "duration": 12690,
    "start_time": "2022-10-07T21:07:18.858Z"
   },
   {
    "duration": 712,
    "start_time": "2022-10-07T21:07:31.550Z"
   },
   {
    "duration": 500,
    "start_time": "2022-10-07T21:07:32.264Z"
   },
   {
    "duration": 34,
    "start_time": "2022-10-07T21:07:32.767Z"
   },
   {
    "duration": 15,
    "start_time": "2022-10-07T21:07:32.802Z"
   },
   {
    "duration": 11,
    "start_time": "2022-10-07T21:07:32.818Z"
   },
   {
    "duration": 15,
    "start_time": "2022-10-07T21:07:32.831Z"
   },
   {
    "duration": 21,
    "start_time": "2022-10-07T21:07:32.847Z"
   },
   {
    "duration": 6,
    "start_time": "2022-10-07T21:07:32.870Z"
   },
   {
    "duration": 6,
    "start_time": "2022-10-07T21:07:32.879Z"
   },
   {
    "duration": 63,
    "start_time": "2022-10-07T21:07:32.887Z"
   },
   {
    "duration": 14,
    "start_time": "2022-10-07T21:07:32.952Z"
   },
   {
    "duration": 175,
    "start_time": "2022-10-07T21:07:32.968Z"
   },
   {
    "duration": 128,
    "start_time": "2022-10-07T21:07:33.145Z"
   },
   {
    "duration": 145,
    "start_time": "2022-10-07T21:07:33.275Z"
   },
   {
    "duration": 131,
    "start_time": "2022-10-07T21:07:33.422Z"
   },
   {
    "duration": 192,
    "start_time": "2022-10-07T21:07:33.555Z"
   },
   {
    "duration": 129,
    "start_time": "2022-10-07T21:07:33.749Z"
   },
   {
    "duration": 129,
    "start_time": "2022-10-07T21:07:33.880Z"
   },
   {
    "duration": 168,
    "start_time": "2022-10-07T21:07:34.010Z"
   },
   {
    "duration": 132,
    "start_time": "2022-10-07T21:07:34.180Z"
   },
   {
    "duration": 124,
    "start_time": "2022-10-07T21:07:34.313Z"
   },
   {
    "duration": 144,
    "start_time": "2022-10-07T21:07:34.438Z"
   },
   {
    "duration": 143,
    "start_time": "2022-10-07T21:07:34.583Z"
   },
   {
    "duration": 137,
    "start_time": "2022-10-07T21:07:34.728Z"
   },
   {
    "duration": 1523,
    "start_time": "2022-10-07T21:07:34.866Z"
   },
   {
    "duration": 2,
    "start_time": "2022-10-07T21:07:36.391Z"
   },
   {
    "duration": 29,
    "start_time": "2022-10-07T21:07:36.398Z"
   },
   {
    "duration": 16,
    "start_time": "2022-10-07T21:07:36.429Z"
   },
   {
    "duration": 732,
    "start_time": "2022-10-07T21:07:36.447Z"
   },
   {
    "duration": 1214,
    "start_time": "2022-10-07T21:07:37.181Z"
   },
   {
    "duration": 12,
    "start_time": "2022-10-07T21:07:38.397Z"
   },
   {
    "duration": 4,
    "start_time": "2022-10-07T21:07:38.411Z"
   },
   {
    "duration": 6,
    "start_time": "2022-10-07T21:07:38.416Z"
   },
   {
    "duration": 12,
    "start_time": "2022-10-07T21:07:38.423Z"
   },
   {
    "duration": 81,
    "start_time": "2022-10-07T21:07:38.436Z"
   },
   {
    "duration": 99,
    "start_time": "2022-10-07T21:07:38.610Z"
   },
   {
    "duration": 403,
    "start_time": "2022-10-07T21:07:38.711Z"
   },
   {
    "duration": 4,
    "start_time": "2022-10-07T21:07:39.115Z"
   },
   {
    "duration": 31,
    "start_time": "2022-10-07T21:07:39.121Z"
   },
   {
    "duration": 4,
    "start_time": "2022-10-07T21:07:39.154Z"
   },
   {
    "duration": 7,
    "start_time": "2022-10-07T21:07:39.160Z"
   },
   {
    "duration": 25,
    "start_time": "2022-10-07T21:07:39.168Z"
   },
   {
    "duration": 424,
    "start_time": "2022-10-07T21:07:39.195Z"
   },
   {
    "duration": 6,
    "start_time": "2022-10-07T21:07:39.709Z"
   },
   {
    "duration": 129,
    "start_time": "2022-10-07T21:07:39.718Z"
   },
   {
    "duration": 363,
    "start_time": "2022-10-07T21:07:39.849Z"
   },
   {
    "duration": 4,
    "start_time": "2022-10-07T21:07:40.214Z"
   },
   {
    "duration": 28,
    "start_time": "2022-10-07T21:07:40.310Z"
   },
   {
    "duration": 28,
    "start_time": "2022-10-07T21:07:40.340Z"
   },
   {
    "duration": 30,
    "start_time": "2022-10-07T21:07:40.369Z"
   },
   {
    "duration": 221,
    "start_time": "2022-10-07T21:07:40.401Z"
   },
   {
    "duration": 16,
    "start_time": "2022-10-07T21:07:40.624Z"
   },
   {
    "duration": 19,
    "start_time": "2022-10-07T21:07:40.642Z"
   },
   {
    "duration": 23,
    "start_time": "2022-10-07T21:07:40.662Z"
   },
   {
    "duration": 56,
    "start_time": "2022-10-07T21:07:40.686Z"
   },
   {
    "duration": 394,
    "start_time": "2022-10-07T21:07:40.744Z"
   },
   {
    "duration": 15,
    "start_time": "2022-10-07T21:07:41.140Z"
   },
   {
    "duration": 18,
    "start_time": "2022-10-07T21:07:41.157Z"
   },
   {
    "duration": 550,
    "start_time": "2022-10-07T21:07:41.177Z"
   },
   {
    "duration": 96550,
    "start_time": "2022-10-07T21:07:41.729Z"
   },
   {
    "duration": 1142,
    "start_time": "2022-10-07T21:09:18.281Z"
   },
   {
    "duration": 5,
    "start_time": "2022-10-07T21:09:19.424Z"
   },
   {
    "duration": 227779,
    "start_time": "2022-10-07T21:09:19.430Z"
   },
   {
    "duration": 498,
    "start_time": "2022-10-07T21:13:07.211Z"
   },
   {
    "duration": 14,
    "start_time": "2022-10-07T21:13:07.711Z"
   },
   {
    "duration": 11245,
    "start_time": "2022-10-07T21:13:07.727Z"
   },
   {
    "duration": 6,
    "start_time": "2022-10-07T21:13:18.974Z"
   },
   {
    "duration": 60146,
    "start_time": "2022-10-08T07:57:27.410Z"
   },
   {
    "duration": 1375,
    "start_time": "2022-10-08T07:58:27.558Z"
   },
   {
    "duration": 810,
    "start_time": "2022-10-08T07:58:28.935Z"
   },
   {
    "duration": 123,
    "start_time": "2022-10-08T07:58:29.747Z"
   },
   {
    "duration": 14,
    "start_time": "2022-10-08T07:58:29.871Z"
   },
   {
    "duration": 42,
    "start_time": "2022-10-08T07:58:29.886Z"
   },
   {
    "duration": 3,
    "start_time": "2022-10-08T07:58:29.930Z"
   },
   {
    "duration": 20,
    "start_time": "2022-10-08T07:58:29.934Z"
   },
   {
    "duration": 5,
    "start_time": "2022-10-08T07:58:29.955Z"
   },
   {
    "duration": 72,
    "start_time": "2022-10-08T07:58:29.962Z"
   },
   {
    "duration": 96,
    "start_time": "2022-10-08T07:58:30.036Z"
   },
   {
    "duration": 15,
    "start_time": "2022-10-08T07:58:30.134Z"
   },
   {
    "duration": 303,
    "start_time": "2022-10-08T07:58:30.150Z"
   },
   {
    "duration": 284,
    "start_time": "2022-10-08T07:58:30.454Z"
   },
   {
    "duration": 227,
    "start_time": "2022-10-08T07:58:30.740Z"
   },
   {
    "duration": 221,
    "start_time": "2022-10-08T07:58:31.023Z"
   },
   {
    "duration": 394,
    "start_time": "2022-10-08T07:58:31.245Z"
   },
   {
    "duration": 209,
    "start_time": "2022-10-08T07:58:31.641Z"
   },
   {
    "duration": 215,
    "start_time": "2022-10-08T07:58:31.851Z"
   },
   {
    "duration": 288,
    "start_time": "2022-10-08T07:58:32.067Z"
   },
   {
    "duration": 274,
    "start_time": "2022-10-08T07:58:32.357Z"
   },
   {
    "duration": 212,
    "start_time": "2022-10-08T07:58:32.633Z"
   },
   {
    "duration": 289,
    "start_time": "2022-10-08T07:58:32.846Z"
   },
   {
    "duration": 286,
    "start_time": "2022-10-08T07:58:33.136Z"
   },
   {
    "duration": 212,
    "start_time": "2022-10-08T07:58:33.424Z"
   },
   {
    "duration": 2942,
    "start_time": "2022-10-08T07:58:33.638Z"
   },
   {
    "duration": 40,
    "start_time": "2022-10-08T07:58:36.582Z"
   },
   {
    "duration": 9,
    "start_time": "2022-10-08T07:58:36.627Z"
   },
   {
    "duration": 15,
    "start_time": "2022-10-08T07:58:36.638Z"
   },
   {
    "duration": 1401,
    "start_time": "2022-10-08T07:58:36.655Z"
   },
   {
    "duration": 2207,
    "start_time": "2022-10-08T07:58:38.058Z"
   },
   {
    "duration": 59,
    "start_time": "2022-10-08T07:58:40.267Z"
   },
   {
    "duration": 8,
    "start_time": "2022-10-08T07:58:40.327Z"
   },
   {
    "duration": 7,
    "start_time": "2022-10-08T07:58:40.337Z"
   },
   {
    "duration": 11,
    "start_time": "2022-10-08T07:58:40.345Z"
   },
   {
    "duration": 84,
    "start_time": "2022-10-08T07:58:40.358Z"
   },
   {
    "duration": 100,
    "start_time": "2022-10-08T07:58:40.522Z"
   },
   {
    "duration": 705,
    "start_time": "2022-10-08T07:58:40.624Z"
   },
   {
    "duration": 4,
    "start_time": "2022-10-08T07:58:41.331Z"
   },
   {
    "duration": 21,
    "start_time": "2022-10-08T07:58:41.336Z"
   },
   {
    "duration": 64,
    "start_time": "2022-10-08T07:58:41.358Z"
   },
   {
    "duration": 5,
    "start_time": "2022-10-08T07:58:41.424Z"
   },
   {
    "duration": 10,
    "start_time": "2022-10-08T07:58:41.431Z"
   },
   {
    "duration": 1385,
    "start_time": "2022-10-08T07:58:41.443Z"
   },
   {
    "duration": 94,
    "start_time": "2022-10-08T07:58:42.829Z"
   },
   {
    "duration": 33,
    "start_time": "2022-10-08T07:58:42.925Z"
   },
   {
    "duration": 570,
    "start_time": "2022-10-08T07:58:42.959Z"
   },
   {
    "duration": 93,
    "start_time": "2022-10-08T07:58:43.530Z"
   },
   {
    "duration": 16,
    "start_time": "2022-10-08T07:58:43.625Z"
   },
   {
    "duration": 17,
    "start_time": "2022-10-08T07:58:43.642Z"
   },
   {
    "duration": 62,
    "start_time": "2022-10-08T07:58:43.660Z"
   },
   {
    "duration": 338,
    "start_time": "2022-10-08T07:58:43.724Z"
   },
   {
    "duration": 71,
    "start_time": "2022-10-08T07:58:44.063Z"
   },
   {
    "duration": 3,
    "start_time": "2022-10-08T07:58:44.135Z"
   },
   {
    "duration": 12,
    "start_time": "2022-10-08T07:58:44.140Z"
   },
   {
    "duration": 81,
    "start_time": "2022-10-08T07:58:44.153Z"
   },
   {
    "duration": 632,
    "start_time": "2022-10-08T07:58:44.235Z"
   },
   {
    "duration": 67,
    "start_time": "2022-10-08T07:58:44.869Z"
   },
   {
    "duration": 7,
    "start_time": "2022-10-08T07:58:44.938Z"
   },
   {
    "duration": 1124,
    "start_time": "2022-10-08T07:58:44.946Z"
   },
   {
    "duration": 207703,
    "start_time": "2022-10-08T07:58:46.124Z"
   },
   {
    "duration": 1495,
    "start_time": "2022-10-08T08:02:13.828Z"
   },
   {
    "duration": 5,
    "start_time": "2022-10-08T08:02:15.325Z"
   },
   {
    "duration": 439332,
    "start_time": "2022-10-08T08:02:15.331Z"
   },
   {
    "duration": 699,
    "start_time": "2022-10-08T08:09:34.665Z"
   },
   {
    "duration": 72,
    "start_time": "2022-10-08T08:09:35.366Z"
   },
   {
    "duration": 19291,
    "start_time": "2022-10-08T08:09:35.440Z"
   },
   {
    "duration": 6,
    "start_time": "2022-10-08T08:09:54.732Z"
   },
   {
    "duration": 41637,
    "start_time": "2022-10-08T15:10:16.891Z"
   },
   {
    "duration": 815,
    "start_time": "2022-10-08T15:10:58.530Z"
   },
   {
    "duration": 621,
    "start_time": "2022-10-08T15:10:59.347Z"
   },
   {
    "duration": 126,
    "start_time": "2022-10-08T15:10:59.970Z"
   },
   {
    "duration": 16,
    "start_time": "2022-10-08T15:11:00.098Z"
   },
   {
    "duration": 19,
    "start_time": "2022-10-08T15:11:00.116Z"
   },
   {
    "duration": 4,
    "start_time": "2022-10-08T15:11:00.137Z"
   },
   {
    "duration": 13,
    "start_time": "2022-10-08T15:11:00.142Z"
   },
   {
    "duration": 5,
    "start_time": "2022-10-08T15:11:00.157Z"
   },
   {
    "duration": 32,
    "start_time": "2022-10-08T15:11:00.164Z"
   },
   {
    "duration": 46,
    "start_time": "2022-10-08T15:11:00.198Z"
   },
   {
    "duration": 16,
    "start_time": "2022-10-08T15:11:00.246Z"
   },
   {
    "duration": 152,
    "start_time": "2022-10-08T15:11:00.264Z"
   },
   {
    "duration": 141,
    "start_time": "2022-10-08T15:11:00.419Z"
   },
   {
    "duration": 174,
    "start_time": "2022-10-08T15:11:00.561Z"
   },
   {
    "duration": 213,
    "start_time": "2022-10-08T15:11:00.737Z"
   },
   {
    "duration": 137,
    "start_time": "2022-10-08T15:11:00.952Z"
   },
   {
    "duration": 129,
    "start_time": "2022-10-08T15:11:01.095Z"
   },
   {
    "duration": 136,
    "start_time": "2022-10-08T15:11:01.226Z"
   },
   {
    "duration": 167,
    "start_time": "2022-10-08T15:11:01.364Z"
   },
   {
    "duration": 134,
    "start_time": "2022-10-08T15:11:01.532Z"
   },
   {
    "duration": 129,
    "start_time": "2022-10-08T15:11:01.668Z"
   },
   {
    "duration": 149,
    "start_time": "2022-10-08T15:11:01.799Z"
   },
   {
    "duration": 147,
    "start_time": "2022-10-08T15:11:01.950Z"
   },
   {
    "duration": 138,
    "start_time": "2022-10-08T15:11:02.098Z"
   },
   {
    "duration": 2558,
    "start_time": "2022-10-08T15:11:02.238Z"
   },
   {
    "duration": 3,
    "start_time": "2022-10-08T15:11:04.798Z"
   },
   {
    "duration": 13,
    "start_time": "2022-10-08T15:11:04.803Z"
   },
   {
    "duration": 18,
    "start_time": "2022-10-08T15:11:04.818Z"
   },
   {
    "duration": 766,
    "start_time": "2022-10-08T15:11:04.838Z"
   },
   {
    "duration": 1320,
    "start_time": "2022-10-08T15:11:05.606Z"
   },
   {
    "duration": 6,
    "start_time": "2022-10-08T15:11:06.928Z"
   },
   {
    "duration": 7,
    "start_time": "2022-10-08T15:11:06.936Z"
   },
   {
    "duration": 6,
    "start_time": "2022-10-08T15:11:06.944Z"
   },
   {
    "duration": 12,
    "start_time": "2022-10-08T15:11:06.952Z"
   },
   {
    "duration": 50,
    "start_time": "2022-10-08T15:11:06.966Z"
   },
   {
    "duration": 84,
    "start_time": "2022-10-08T15:11:07.018Z"
   },
   {
    "duration": 456,
    "start_time": "2022-10-08T15:11:07.104Z"
   },
   {
    "duration": 4,
    "start_time": "2022-10-08T15:11:07.562Z"
   },
   {
    "duration": 29,
    "start_time": "2022-10-08T15:11:07.567Z"
   },
   {
    "duration": 3,
    "start_time": "2022-10-08T15:11:07.600Z"
   },
   {
    "duration": 6,
    "start_time": "2022-10-08T15:11:07.605Z"
   },
   {
    "duration": 9,
    "start_time": "2022-10-08T15:11:07.613Z"
   },
   {
    "duration": 580,
    "start_time": "2022-10-08T15:11:07.624Z"
   },
   {
    "duration": 5,
    "start_time": "2022-10-08T15:11:08.296Z"
   },
   {
    "duration": 118,
    "start_time": "2022-10-08T15:11:08.302Z"
   },
   {
    "duration": 574,
    "start_time": "2022-10-08T15:11:08.422Z"
   },
   {
    "duration": 3,
    "start_time": "2022-10-08T15:11:08.998Z"
   },
   {
    "duration": 93,
    "start_time": "2022-10-08T15:11:09.002Z"
   },
   {
    "duration": 10,
    "start_time": "2022-10-08T15:11:09.097Z"
   },
   {
    "duration": 12,
    "start_time": "2022-10-08T15:11:09.108Z"
   },
   {
    "duration": 209,
    "start_time": "2022-10-08T15:11:09.121Z"
   },
   {
    "duration": 16,
    "start_time": "2022-10-08T15:11:09.331Z"
   },
   {
    "duration": 3,
    "start_time": "2022-10-08T15:11:09.348Z"
   },
   {
    "duration": 14,
    "start_time": "2022-10-08T15:11:09.353Z"
   },
   {
    "duration": 38,
    "start_time": "2022-10-08T15:11:09.369Z"
   },
   {
    "duration": 365,
    "start_time": "2022-10-08T15:11:09.408Z"
   },
   {
    "duration": 26,
    "start_time": "2022-10-08T15:11:09.775Z"
   },
   {
    "duration": 9,
    "start_time": "2022-10-08T15:11:09.803Z"
   },
   {
    "duration": 603,
    "start_time": "2022-10-08T15:11:09.814Z"
   },
   {
    "duration": 107923,
    "start_time": "2022-10-08T15:11:10.419Z"
   },
   {
    "duration": 1157,
    "start_time": "2022-10-08T15:12:58.344Z"
   },
   {
    "duration": 6,
    "start_time": "2022-10-08T15:12:59.502Z"
   },
   {
    "duration": 223651,
    "start_time": "2022-10-08T15:12:59.509Z"
   },
   {
    "duration": 503,
    "start_time": "2022-10-08T15:16:43.162Z"
   },
   {
    "duration": 16,
    "start_time": "2022-10-08T15:16:43.667Z"
   },
   {
    "duration": 11974,
    "start_time": "2022-10-08T15:16:43.694Z"
   },
   {
    "duration": 7,
    "start_time": "2022-10-08T15:16:55.669Z"
   }
  ],
  "kernelspec": {
   "display_name": "Python 3 (ipykernel)",
   "language": "python",
   "name": "python3"
  },
  "language_info": {
   "codemirror_mode": {
    "name": "ipython",
    "version": 3
   },
   "file_extension": ".py",
   "mimetype": "text/x-python",
   "name": "python",
   "nbconvert_exporter": "python",
   "pygments_lexer": "ipython3",
   "version": "3.9.12"
  },
  "toc": {
   "base_numbering": 1,
   "nav_menu": {},
   "number_sections": true,
   "sideBar": true,
   "skip_h1_title": true,
   "title_cell": "Table of Contents",
   "title_sidebar": "Contents",
   "toc_cell": false,
   "toc_position": {
    "height": "calc(100% - 180px)",
    "left": "10px",
    "top": "150px",
    "width": "165px"
   },
   "toc_section_display": true,
   "toc_window_display": true
  }
 },
 "nbformat": 4,
 "nbformat_minor": 2
}
