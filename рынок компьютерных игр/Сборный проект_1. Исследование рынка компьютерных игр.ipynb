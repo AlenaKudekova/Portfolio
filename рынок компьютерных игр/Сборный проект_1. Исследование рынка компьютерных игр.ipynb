{
 "cells": [
  {
   "cell_type": "markdown",
   "metadata": {},
   "source": [
    "# Описание проекта\n",
    "\n",
    "Вы работаете в интернет-магазине «Стримчик», который продаёт по всему миру компьютерные игры. Из открытых источников доступны исторические данные о продажах игр, оценки пользователей и экспертов, жанры и платформы (например, Xbox или PlayStation). Вам нужно выявить определяющие успешность игры закономерности. Это позволит сделать ставку на потенциально популярный продукт и спланировать рекламные кампании.\n",
    "Перед вами данные до 2016 года. Представим, что сейчас декабрь 2016 г., и вы планируете кампанию на 2017-й. Нужно отработать принцип работы с данными. Неважно, прогнозируете ли вы продажи на 2017 год по данным 2016-го или же 2027-й — по данным 2026 года.\n",
    "В наборе данных попадается аббревиатура ESRB (Entertainment Software Rating Board) — это ассоциация, определяющая возрастной рейтинг компьютерных игр. ESRB оценивает игровой контент и присваивает ему подходящую возрастную категорию, например, «Для взрослых», «Для детей младшего возраста» или «Для подростков»."
   ]
  },
  {
   "cell_type": "markdown",
   "metadata": {},
   "source": [
    "## Шаг 1\n",
    "\n",
    "Откройте файл с данными и изучите общую информацию\n",
    "Путь к файлу: /datasets/games.csv. Скачать датасет"
   ]
  },
  {
   "cell_type": "code",
   "execution_count": 1,
   "metadata": {},
   "outputs": [],
   "source": [
    "import pandas as pd\n",
    "from datetime import datetime as dt\n",
    "import numpy as np\n",
    "from scipy import stats as st\n",
    "\n",
    "import warnings\n",
    "warnings.filterwarnings(\"ignore\")"
   ]
  },
  {
   "cell_type": "code",
   "execution_count": 2,
   "metadata": {},
   "outputs": [
    {
     "data": {
      "text/html": [
       "<div>\n",
       "<style scoped>\n",
       "    .dataframe tbody tr th:only-of-type {\n",
       "        vertical-align: middle;\n",
       "    }\n",
       "\n",
       "    .dataframe tbody tr th {\n",
       "        vertical-align: top;\n",
       "    }\n",
       "\n",
       "    .dataframe thead th {\n",
       "        text-align: right;\n",
       "    }\n",
       "</style>\n",
       "<table border=\"1\" class=\"dataframe\">\n",
       "  <thead>\n",
       "    <tr style=\"text-align: right;\">\n",
       "      <th></th>\n",
       "      <th>Name</th>\n",
       "      <th>Platform</th>\n",
       "      <th>Year_of_Release</th>\n",
       "      <th>Genre</th>\n",
       "      <th>NA_sales</th>\n",
       "      <th>EU_sales</th>\n",
       "      <th>JP_sales</th>\n",
       "      <th>Other_sales</th>\n",
       "      <th>Critic_Score</th>\n",
       "      <th>User_Score</th>\n",
       "      <th>Rating</th>\n",
       "    </tr>\n",
       "  </thead>\n",
       "  <tbody>\n",
       "    <tr>\n",
       "      <th>0</th>\n",
       "      <td>Wii Sports</td>\n",
       "      <td>Wii</td>\n",
       "      <td>2006.0</td>\n",
       "      <td>Sports</td>\n",
       "      <td>41.36</td>\n",
       "      <td>28.96</td>\n",
       "      <td>3.77</td>\n",
       "      <td>8.45</td>\n",
       "      <td>76.0</td>\n",
       "      <td>8</td>\n",
       "      <td>E</td>\n",
       "    </tr>\n",
       "    <tr>\n",
       "      <th>1</th>\n",
       "      <td>Super Mario Bros.</td>\n",
       "      <td>NES</td>\n",
       "      <td>1985.0</td>\n",
       "      <td>Platform</td>\n",
       "      <td>29.08</td>\n",
       "      <td>3.58</td>\n",
       "      <td>6.81</td>\n",
       "      <td>0.77</td>\n",
       "      <td>NaN</td>\n",
       "      <td>NaN</td>\n",
       "      <td>NaN</td>\n",
       "    </tr>\n",
       "    <tr>\n",
       "      <th>2</th>\n",
       "      <td>Mario Kart Wii</td>\n",
       "      <td>Wii</td>\n",
       "      <td>2008.0</td>\n",
       "      <td>Racing</td>\n",
       "      <td>15.68</td>\n",
       "      <td>12.76</td>\n",
       "      <td>3.79</td>\n",
       "      <td>3.29</td>\n",
       "      <td>82.0</td>\n",
       "      <td>8.3</td>\n",
       "      <td>E</td>\n",
       "    </tr>\n",
       "    <tr>\n",
       "      <th>3</th>\n",
       "      <td>Wii Sports Resort</td>\n",
       "      <td>Wii</td>\n",
       "      <td>2009.0</td>\n",
       "      <td>Sports</td>\n",
       "      <td>15.61</td>\n",
       "      <td>10.93</td>\n",
       "      <td>3.28</td>\n",
       "      <td>2.95</td>\n",
       "      <td>80.0</td>\n",
       "      <td>8</td>\n",
       "      <td>E</td>\n",
       "    </tr>\n",
       "    <tr>\n",
       "      <th>4</th>\n",
       "      <td>Pokemon Red/Pokemon Blue</td>\n",
       "      <td>GB</td>\n",
       "      <td>1996.0</td>\n",
       "      <td>Role-Playing</td>\n",
       "      <td>11.27</td>\n",
       "      <td>8.89</td>\n",
       "      <td>10.22</td>\n",
       "      <td>1.00</td>\n",
       "      <td>NaN</td>\n",
       "      <td>NaN</td>\n",
       "      <td>NaN</td>\n",
       "    </tr>\n",
       "  </tbody>\n",
       "</table>\n",
       "</div>"
      ],
      "text/plain": [
       "                       Name Platform  Year_of_Release         Genre  NA_sales  \\\n",
       "0                Wii Sports      Wii           2006.0        Sports     41.36   \n",
       "1         Super Mario Bros.      NES           1985.0      Platform     29.08   \n",
       "2            Mario Kart Wii      Wii           2008.0        Racing     15.68   \n",
       "3         Wii Sports Resort      Wii           2009.0        Sports     15.61   \n",
       "4  Pokemon Red/Pokemon Blue       GB           1996.0  Role-Playing     11.27   \n",
       "\n",
       "   EU_sales  JP_sales  Other_sales  Critic_Score User_Score Rating  \n",
       "0     28.96      3.77         8.45          76.0          8      E  \n",
       "1      3.58      6.81         0.77           NaN        NaN    NaN  \n",
       "2     12.76      3.79         3.29          82.0        8.3      E  \n",
       "3     10.93      3.28         2.95          80.0          8      E  \n",
       "4      8.89     10.22         1.00           NaN        NaN    NaN  "
      ]
     },
     "execution_count": 2,
     "metadata": {},
     "output_type": "execute_result"
    }
   ],
   "source": [
    "data = pd.read_csv('/datasets/games.csv')\n",
    "data.head()"
   ]
  },
  {
   "cell_type": "code",
   "execution_count": 3,
   "metadata": {},
   "outputs": [
    {
     "name": "stdout",
     "output_type": "stream",
     "text": [
      "<class 'pandas.core.frame.DataFrame'>\n",
      "RangeIndex: 16715 entries, 0 to 16714\n",
      "Data columns (total 11 columns):\n",
      " #   Column           Non-Null Count  Dtype  \n",
      "---  ------           --------------  -----  \n",
      " 0   Name             16713 non-null  object \n",
      " 1   Platform         16715 non-null  object \n",
      " 2   Year_of_Release  16446 non-null  float64\n",
      " 3   Genre            16713 non-null  object \n",
      " 4   NA_sales         16715 non-null  float64\n",
      " 5   EU_sales         16715 non-null  float64\n",
      " 6   JP_sales         16715 non-null  float64\n",
      " 7   Other_sales      16715 non-null  float64\n",
      " 8   Critic_Score     8137 non-null   float64\n",
      " 9   User_Score       10014 non-null  object \n",
      " 10  Rating           9949 non-null   object \n",
      "dtypes: float64(6), object(5)\n",
      "memory usage: 1.4+ MB\n"
     ]
    }
   ],
   "source": [
    "data.info()"
   ]
  },
  {
   "cell_type": "markdown",
   "metadata": {},
   "source": [
    "Итак, вот наш файл открыт. Что видим: у нас 11 столбцов, есть пропуски. Два типа данных: `float64, object` . Пока сложно сказать, но возможно будем типы данных менять. Строк у нас 16715. Названия столбцов \"скачут\", будем переименовывать. "
   ]
  },
  {
   "cell_type": "markdown",
   "metadata": {},
   "source": [
    "**Наши колонки:**\n",
    "\n",
    "- Name — название игры\n",
    "- Platform — платформа\n",
    "- Year_of_Release — год выпуска\n",
    "- Genre — жанр игры\n",
    "- NA_sales — продажи в Северной Америке (миллионы проданных копий)\n",
    "- EU_sales — продажи в Европе (миллионы проданных копий)\n",
    "- JP_sales — продажи в Японии (миллионы проданных копий)\n",
    "- Other_sales — продажи в других странах (миллионы проданных копий)\n",
    "- Critic_Score — оценка критиков (максимум 100)\n",
    "- User_Score — оценка пользователей (максимум 10)\n",
    "- Rating — рейтинг от организации ESRB (англ. Entertainment Software Rating Board). Эта ассоциация определяет рейтинг компьютерных игр и присваивает им подходящую возрастную категорию."
   ]
  },
  {
   "cell_type": "markdown",
   "metadata": {},
   "source": [
    "## Шаг 2. Подготовьте данные\n",
    "\n",
    "- Замените названия столбцов (приведите к нижнему регистру);\n",
    "- Преобразуйте данные в нужные типы. Опишите, в каких столбцах заменили тип данных и почему;\n",
    "- Обработайте пропуски при необходимости:\n",
    "    - Объясните, почему заполнили пропуски определённым образом или почему не стали это делать;\n",
    "    - Опишите причины, которые могли привести к пропускам;\n",
    "    - Обратите внимание на аббревиатуру 'tbd' в столбце с оценкой пользователей. Отдельно разберите это значение и опишите, как его обработать;\n",
    "- Посчитайте суммарные продажи во всех регионах и запишите их в отдельный столбец."
   ]
  },
  {
   "cell_type": "code",
   "execution_count": 4,
   "metadata": {
    "scrolled": true
   },
   "outputs": [
    {
     "data": {
      "text/html": [
       "<div>\n",
       "<style scoped>\n",
       "    .dataframe tbody tr th:only-of-type {\n",
       "        vertical-align: middle;\n",
       "    }\n",
       "\n",
       "    .dataframe tbody tr th {\n",
       "        vertical-align: top;\n",
       "    }\n",
       "\n",
       "    .dataframe thead th {\n",
       "        text-align: right;\n",
       "    }\n",
       "</style>\n",
       "<table border=\"1\" class=\"dataframe\">\n",
       "  <thead>\n",
       "    <tr style=\"text-align: right;\">\n",
       "      <th></th>\n",
       "      <th>name</th>\n",
       "      <th>platform</th>\n",
       "      <th>year</th>\n",
       "      <th>genre</th>\n",
       "      <th>na_sales</th>\n",
       "      <th>eu_sales</th>\n",
       "      <th>jp_sales</th>\n",
       "      <th>other_sales</th>\n",
       "      <th>critic_score</th>\n",
       "      <th>user_score</th>\n",
       "      <th>rating</th>\n",
       "    </tr>\n",
       "  </thead>\n",
       "  <tbody>\n",
       "    <tr>\n",
       "      <th>0</th>\n",
       "      <td>Wii Sports</td>\n",
       "      <td>Wii</td>\n",
       "      <td>2006.0</td>\n",
       "      <td>Sports</td>\n",
       "      <td>41.36</td>\n",
       "      <td>28.96</td>\n",
       "      <td>3.77</td>\n",
       "      <td>8.45</td>\n",
       "      <td>76.0</td>\n",
       "      <td>8</td>\n",
       "      <td>E</td>\n",
       "    </tr>\n",
       "    <tr>\n",
       "      <th>1</th>\n",
       "      <td>Super Mario Bros.</td>\n",
       "      <td>NES</td>\n",
       "      <td>1985.0</td>\n",
       "      <td>Platform</td>\n",
       "      <td>29.08</td>\n",
       "      <td>3.58</td>\n",
       "      <td>6.81</td>\n",
       "      <td>0.77</td>\n",
       "      <td>NaN</td>\n",
       "      <td>NaN</td>\n",
       "      <td>NaN</td>\n",
       "    </tr>\n",
       "    <tr>\n",
       "      <th>2</th>\n",
       "      <td>Mario Kart Wii</td>\n",
       "      <td>Wii</td>\n",
       "      <td>2008.0</td>\n",
       "      <td>Racing</td>\n",
       "      <td>15.68</td>\n",
       "      <td>12.76</td>\n",
       "      <td>3.79</td>\n",
       "      <td>3.29</td>\n",
       "      <td>82.0</td>\n",
       "      <td>8.3</td>\n",
       "      <td>E</td>\n",
       "    </tr>\n",
       "    <tr>\n",
       "      <th>3</th>\n",
       "      <td>Wii Sports Resort</td>\n",
       "      <td>Wii</td>\n",
       "      <td>2009.0</td>\n",
       "      <td>Sports</td>\n",
       "      <td>15.61</td>\n",
       "      <td>10.93</td>\n",
       "      <td>3.28</td>\n",
       "      <td>2.95</td>\n",
       "      <td>80.0</td>\n",
       "      <td>8</td>\n",
       "      <td>E</td>\n",
       "    </tr>\n",
       "    <tr>\n",
       "      <th>4</th>\n",
       "      <td>Pokemon Red/Pokemon Blue</td>\n",
       "      <td>GB</td>\n",
       "      <td>1996.0</td>\n",
       "      <td>Role-Playing</td>\n",
       "      <td>11.27</td>\n",
       "      <td>8.89</td>\n",
       "      <td>10.22</td>\n",
       "      <td>1.00</td>\n",
       "      <td>NaN</td>\n",
       "      <td>NaN</td>\n",
       "      <td>NaN</td>\n",
       "    </tr>\n",
       "  </tbody>\n",
       "</table>\n",
       "</div>"
      ],
      "text/plain": [
       "                       name platform    year         genre  na_sales  \\\n",
       "0                Wii Sports      Wii  2006.0        Sports     41.36   \n",
       "1         Super Mario Bros.      NES  1985.0      Platform     29.08   \n",
       "2            Mario Kart Wii      Wii  2008.0        Racing     15.68   \n",
       "3         Wii Sports Resort      Wii  2009.0        Sports     15.61   \n",
       "4  Pokemon Red/Pokemon Blue       GB  1996.0  Role-Playing     11.27   \n",
       "\n",
       "   eu_sales  jp_sales  other_sales  critic_score user_score rating  \n",
       "0     28.96      3.77         8.45          76.0          8      E  \n",
       "1      3.58      6.81         0.77           NaN        NaN    NaN  \n",
       "2     12.76      3.79         3.29          82.0        8.3      E  \n",
       "3     10.93      3.28         2.95          80.0          8      E  \n",
       "4      8.89     10.22         1.00           NaN        NaN    NaN  "
      ]
     },
     "execution_count": 4,
     "metadata": {},
     "output_type": "execute_result"
    }
   ],
   "source": [
    "#меняем названия столбцов\n",
    "data = data.rename(columns={'Name':'name', 'Platform':'platform', 'Year_of_Release':'year', 'Genre':'genre',\n",
    "                           'NA_sales':'na_sales', 'EU_sales':'eu_sales', 'JP_sales':'jp_sales',\n",
    "                           'Other_sales':'other_sales', 'Critic_Score':'critic_score', 'User_Score':'user_score',\n",
    "                           'Rating':'rating'})\n",
    "data.head()"
   ]
  },
  {
   "cell_type": "code",
   "execution_count": 5,
   "metadata": {},
   "outputs": [
    {
     "data": {
      "text/plain": [
       "array(['8', nan, '8.3', '8.5', '6.6', '8.4', '8.6', '7.7', '6.3', '7.4',\n",
       "       '8.2', '9', '7.9', '8.1', '8.7', '7.1', '3.4', '5.3', '4.8', '3.2',\n",
       "       '8.9', '6.4', '7.8', '7.5', '2.6', '7.2', '9.2', '7', '7.3', '4.3',\n",
       "       '7.6', '5.7', '5', '9.1', '6.5', 'tbd', '8.8', '6.9', '9.4', '6.8',\n",
       "       '6.1', '6.7', '5.4', '4', '4.9', '4.5', '9.3', '6.2', '4.2', '6',\n",
       "       '3.7', '4.1', '5.8', '5.6', '5.5', '4.4', '4.6', '5.9', '3.9',\n",
       "       '3.1', '2.9', '5.2', '3.3', '4.7', '5.1', '3.5', '2.5', '1.9', '3',\n",
       "       '2.7', '2.2', '2', '9.5', '2.1', '3.6', '2.8', '1.8', '3.8', '0',\n",
       "       '1.6', '9.6', '2.4', '1.7', '1.1', '0.3', '1.5', '0.7', '1.2',\n",
       "       '2.3', '0.5', '1.3', '0.2', '0.6', '1.4', '0.9', '1', '9.7'],\n",
       "      dtype=object)"
      ]
     },
     "execution_count": 5,
     "metadata": {},
     "output_type": "execute_result"
    }
   ],
   "source": [
    "data['user_score'].unique()"
   ]
  },
  {
   "cell_type": "markdown",
   "metadata": {},
   "source": [
    "Из-за этого tbd не возможно перевести колонку в тип float. Говорит о том, что рейтинг или оценка еще не известны. Дабы это обойти, заменим на -1."
   ]
  },
  {
   "cell_type": "code",
   "execution_count": 6,
   "metadata": {},
   "outputs": [
    {
     "data": {
      "text/plain": [
       "array(['E', nan, 'M', 'T', 'E10+', 'K-A', 'AO', 'EC', 'RP'], dtype=object)"
      ]
     },
     "execution_count": 6,
     "metadata": {},
     "output_type": "execute_result"
    }
   ],
   "source": [
    "data['rating'].unique()"
   ]
  },
  {
   "cell_type": "markdown",
   "metadata": {},
   "source": [
    "**обозначения:**\n",
    "- «EC» («Early childhood») — «Для детей младшего возраста»: Игра подходит для детей от 3 лет и не содержит материалов, которые родители могли бы счесть неподходящими. Продукты, получившие данный рейтинг, изначально разрабатываются для детей и обычно представляют собой развивающие игры. Некоторые усложнённые развивающие игры могут иметь рейтинг «Everyone».\n",
    "- «E» («Everyone») — «Для всех»: Содержание вполне подходит для возрастной категории от 6 лет. Такие игры могут понравиться и взрослым. Игры с этим рейтингом могут содержать минимальное насилие, в основном «мультяшного» характера. Первой игрой, которая получила данный рейтинг, стала The Simpsons Cartoon Studio, выпущенная в 1996 году. Первоначально \"K-A\" (\"Kids to Adults\")\n",
    "- «E10+» («Everyone 10 and older») — «Для всех от 10 лет и старше»: Проекты с данным рейтингом могут содержать или немного больше мультипликационного или мягкого насилия, или несколько откровенные сцены, или минимальное количество крови. Рейтинг был принят ESRB 2 марта 2005 года. Первой игрой, которая получила данный рейтинг, стала Donkey Kong: Jungle Beat.\n",
    "- «T» («Teen») — «Подросткам»: Игра подходит для лиц от 13 лет. Проекты из данной категории могут содержать насилие, непристойные сцены, грубый юмор, в меру откровенное сексуальное содержимое, кровь или нечастое использование ненормативной лексики.\n",
    "- «M» («Mature») — «Для взрослых»: Материалы игры не подходят для подростков младше 17 лет. Проекты с данным рейтингом могут содержать достаточно жестокое насилие, большое количество крови с расчленением, непристойные сексуальные сцены или грубую ненормативную лексику, нежелательную для младшей аудитории.\n",
    "- «AO» («Adults Only 18+») — «Только для взрослых»:  Содержание игры только для взрослых старше 18 лет. Продукты из данной категории могут содержать длительные сцены жестокого насилия и/или очень откровенное сексуальное содержимое, а также сцены с обнажением. Большинство таких игр предназначено для персональных компьютеров под управлением Microsoft Windows и Apple Macintosh. Рейтинг «Только для взрослых» является предметом многочисленных дискуссий, так как накладывает серьёзные ограничения на продажи игры. Первой игрой, которая получила данный рейтинг, стала The Joy of Sex, выпущенная в 1993 году.\n",
    "- «RP» («Rating Pending») — «Рейтинг ожидается»\n",
    "\n",
    "Спасибо, Википедия!))"
   ]
  },
  {
   "cell_type": "markdown",
   "metadata": {},
   "source": [
    "предлагаю пропуски тут заменить на RP, а К-А на Е. "
   ]
  },
  {
   "cell_type": "code",
   "execution_count": 7,
   "metadata": {},
   "outputs": [
    {
     "data": {
      "text/plain": [
       "array(['8', nan, '8.3', '8.5', '6.6', '8.4', '8.6', '7.7', '6.3', '7.4',\n",
       "       '8.2', '9', '7.9', '8.1', '8.7', '7.1', '3.4', '5.3', '4.8', '3.2',\n",
       "       '8.9', '6.4', '7.8', '7.5', '2.6', '7.2', '9.2', '7', '7.3', '4.3',\n",
       "       '7.6', '5.7', '5', '9.1', '6.5', '-1', '8.8', '6.9', '9.4', '6.8',\n",
       "       '6.1', '6.7', '5.4', '4', '4.9', '4.5', '9.3', '6.2', '4.2', '6',\n",
       "       '3.7', '4.1', '5.8', '5.6', '5.5', '4.4', '4.6', '5.9', '3.9',\n",
       "       '3.1', '2.9', '5.2', '3.3', '4.7', '5.1', '3.5', '2.5', '1.9', '3',\n",
       "       '2.7', '2.2', '2', '9.5', '2.1', '3.6', '2.8', '1.8', '3.8', '0',\n",
       "       '1.6', '9.6', '2.4', '1.7', '1.1', '0.3', '1.5', '0.7', '1.2',\n",
       "       '2.3', '0.5', '1.3', '0.2', '0.6', '1.4', '0.9', '1', '9.7'],\n",
       "      dtype=object)"
      ]
     },
     "execution_count": 7,
     "metadata": {},
     "output_type": "execute_result"
    }
   ],
   "source": [
    "data.loc[data['user_score'] == 'tbd', 'user_score'] = '-1'\n",
    "data['user_score'].unique()"
   ]
  },
  {
   "cell_type": "code",
   "execution_count": 8,
   "metadata": {},
   "outputs": [
    {
     "data": {
      "text/plain": [
       "array(['E', nan, 'M', 'T', 'E10+', 'AO', 'EC', 'RP'], dtype=object)"
      ]
     },
     "execution_count": 8,
     "metadata": {},
     "output_type": "execute_result"
    }
   ],
   "source": [
    "data.loc[data['rating'] == 'K-A', 'rating'] = 'E'\n",
    "data['rating'].unique()"
   ]
  },
  {
   "cell_type": "code",
   "execution_count": 9,
   "metadata": {
    "scrolled": true
   },
   "outputs": [
    {
     "name": "stdout",
     "output_type": "stream",
     "text": [
      "<class 'pandas.core.frame.DataFrame'>\n",
      "RangeIndex: 16715 entries, 0 to 16714\n",
      "Data columns (total 11 columns):\n",
      " #   Column        Non-Null Count  Dtype  \n",
      "---  ------        --------------  -----  \n",
      " 0   name          16713 non-null  object \n",
      " 1   platform      16715 non-null  object \n",
      " 2   year          16446 non-null  float64\n",
      " 3   genre         16713 non-null  object \n",
      " 4   na_sales      16715 non-null  float64\n",
      " 5   eu_sales      16715 non-null  float64\n",
      " 6   jp_sales      16715 non-null  float64\n",
      " 7   other_sales   16715 non-null  float64\n",
      " 8   critic_score  8137 non-null   float64\n",
      " 9   user_score    10014 non-null  float64\n",
      " 10  rating        9949 non-null   object \n",
      "dtypes: float64(7), object(4)\n",
      "memory usage: 1.4+ MB\n"
     ]
    }
   ],
   "source": [
    "#изменим тип данных\n",
    "data['user_score'] = data['user_score'].astype(float)\n",
    "data.info()"
   ]
  },
  {
   "cell_type": "code",
   "execution_count": 10,
   "metadata": {},
   "outputs": [
    {
     "data": {
      "text/plain": [
       "0"
      ]
     },
     "execution_count": 10,
     "metadata": {},
     "output_type": "execute_result"
    }
   ],
   "source": [
    "#проверим дубликаты\n",
    "data.duplicated().sum()"
   ]
  },
  {
   "cell_type": "code",
   "execution_count": 11,
   "metadata": {},
   "outputs": [
    {
     "data": {
      "text/html": [
       "<div>\n",
       "<style scoped>\n",
       "    .dataframe tbody tr th:only-of-type {\n",
       "        vertical-align: middle;\n",
       "    }\n",
       "\n",
       "    .dataframe tbody tr th {\n",
       "        vertical-align: top;\n",
       "    }\n",
       "\n",
       "    .dataframe thead th {\n",
       "        text-align: right;\n",
       "    }\n",
       "</style>\n",
       "<table border=\"1\" class=\"dataframe\">\n",
       "  <thead>\n",
       "    <tr style=\"text-align: right;\">\n",
       "      <th></th>\n",
       "      <th>name</th>\n",
       "      <th>platform</th>\n",
       "      <th>year</th>\n",
       "      <th>genre</th>\n",
       "      <th>na_sales</th>\n",
       "      <th>eu_sales</th>\n",
       "      <th>jp_sales</th>\n",
       "      <th>other_sales</th>\n",
       "      <th>critic_score</th>\n",
       "      <th>user_score</th>\n",
       "      <th>rating</th>\n",
       "    </tr>\n",
       "  </thead>\n",
       "  <tbody>\n",
       "  </tbody>\n",
       "</table>\n",
       "</div>"
      ],
      "text/plain": [
       "Empty DataFrame\n",
       "Columns: [name, platform, year, genre, na_sales, eu_sales, jp_sales, other_sales, critic_score, user_score, rating]\n",
       "Index: []"
      ]
     },
     "execution_count": 11,
     "metadata": {},
     "output_type": "execute_result"
    }
   ],
   "source": [
    "data[data.duplicated()].head()"
   ]
  },
  {
   "cell_type": "markdown",
   "metadata": {},
   "source": [
    "Дубликаты отсутствуют, это хорошо"
   ]
  },
  {
   "cell_type": "code",
   "execution_count": 12,
   "metadata": {
    "scrolled": true
   },
   "outputs": [
    {
     "data": {
      "text/plain": [
       "name               2\n",
       "platform           0\n",
       "year             269\n",
       "genre              2\n",
       "na_sales           0\n",
       "eu_sales           0\n",
       "jp_sales           0\n",
       "other_sales        0\n",
       "critic_score    8578\n",
       "user_score      6701\n",
       "rating          6766\n",
       "dtype: int64"
      ]
     },
     "execution_count": 12,
     "metadata": {},
     "output_type": "execute_result"
    }
   ],
   "source": [
    "#проверим пропуски\n",
    "data.isna().sum()"
   ]
  },
  {
   "cell_type": "code",
   "execution_count": 13,
   "metadata": {},
   "outputs": [
    {
     "data": {
      "text/plain": [
       "name             0.011965\n",
       "platform         0.000000\n",
       "year             1.609333\n",
       "genre            0.011965\n",
       "na_sales         0.000000\n",
       "eu_sales         0.000000\n",
       "jp_sales         0.000000\n",
       "other_sales      0.000000\n",
       "critic_score    51.319174\n",
       "user_score      40.089740\n",
       "rating          40.478612\n",
       "dtype: float64"
      ]
     },
     "execution_count": 13,
     "metadata": {},
     "output_type": "execute_result"
    }
   ],
   "source": [
    "data.isna().mean()*100"
   ]
  },
  {
   "cell_type": "markdown",
   "metadata": {},
   "source": [
    "Что по пропускам: в году у нас 269 игр не имеют дату выхода. 8578 не имеют оценки критиков, 6701 не имеет оценки пользователей и 6766 не имеют рейтинга. Ну такое...слишком большая доля пропусков. \n",
    "\n",
    "*На что можно заменить года. Я заменю их пока на 0, потому что невозможно даже предугадать дату выхода.*\n",
    " - **ПРАВКА: Доля пропущеных значений по годам 1.6%, можно удалить те игры, где год пропущен. Доля пропущенных значений в имени 0.01%, тем более можно удалить. Пропуски в оценках заменяем на -2**  \n"
   ]
  },
  {
   "cell_type": "code",
   "execution_count": 14,
   "metadata": {},
   "outputs": [
    {
     "data": {
      "text/plain": [
       "name            0\n",
       "platform        0\n",
       "year            0\n",
       "genre           0\n",
       "na_sales        0\n",
       "eu_sales        0\n",
       "jp_sales        0\n",
       "other_sales     0\n",
       "critic_score    0\n",
       "user_score      0\n",
       "rating          0\n",
       "dtype: int64"
      ]
     },
     "execution_count": 14,
     "metadata": {},
     "output_type": "execute_result"
    }
   ],
   "source": [
    "data['critic_score'] = data['critic_score'].fillna(-2)\n",
    "data['user_score'] = data['user_score'].fillna(-2)\n",
    "data['rating'] = data['rating'].fillna('RP')\n",
    "data = data.dropna(subset=['year', 'name', 'genre'])\n",
    "data.isna().sum()"
   ]
  },
  {
   "cell_type": "code",
   "execution_count": 15,
   "metadata": {},
   "outputs": [
    {
     "name": "stdout",
     "output_type": "stream",
     "text": [
      "<class 'pandas.core.frame.DataFrame'>\n",
      "Int64Index: 16444 entries, 0 to 16714\n",
      "Data columns (total 11 columns):\n",
      " #   Column        Non-Null Count  Dtype  \n",
      "---  ------        --------------  -----  \n",
      " 0   name          16444 non-null  object \n",
      " 1   platform      16444 non-null  object \n",
      " 2   year          16444 non-null  float64\n",
      " 3   genre         16444 non-null  object \n",
      " 4   na_sales      16444 non-null  float64\n",
      " 5   eu_sales      16444 non-null  float64\n",
      " 6   jp_sales      16444 non-null  float64\n",
      " 7   other_sales   16444 non-null  float64\n",
      " 8   critic_score  16444 non-null  float64\n",
      " 9   user_score    16444 non-null  float64\n",
      " 10  rating        16444 non-null  object \n",
      "dtypes: float64(7), object(4)\n",
      "memory usage: 1.5+ MB\n"
     ]
    }
   ],
   "source": [
    "data.info()"
   ]
  },
  {
   "cell_type": "markdown",
   "metadata": {},
   "source": [
    "Итак, мы убедились, что все пропуски заполнены, типы данных верные."
   ]
  },
  {
   "cell_type": "code",
   "execution_count": 16,
   "metadata": {},
   "outputs": [
    {
     "data": {
      "text/html": [
       "<div>\n",
       "<style scoped>\n",
       "    .dataframe tbody tr th:only-of-type {\n",
       "        vertical-align: middle;\n",
       "    }\n",
       "\n",
       "    .dataframe tbody tr th {\n",
       "        vertical-align: top;\n",
       "    }\n",
       "\n",
       "    .dataframe thead th {\n",
       "        text-align: right;\n",
       "    }\n",
       "</style>\n",
       "<table border=\"1\" class=\"dataframe\">\n",
       "  <thead>\n",
       "    <tr style=\"text-align: right;\">\n",
       "      <th></th>\n",
       "      <th>name</th>\n",
       "      <th>platform</th>\n",
       "      <th>year</th>\n",
       "      <th>genre</th>\n",
       "      <th>na_sales</th>\n",
       "      <th>eu_sales</th>\n",
       "      <th>jp_sales</th>\n",
       "      <th>other_sales</th>\n",
       "      <th>critic_score</th>\n",
       "      <th>user_score</th>\n",
       "      <th>rating</th>\n",
       "      <th>all_sales</th>\n",
       "    </tr>\n",
       "  </thead>\n",
       "  <tbody>\n",
       "    <tr>\n",
       "      <th>0</th>\n",
       "      <td>Wii Sports</td>\n",
       "      <td>Wii</td>\n",
       "      <td>2006.0</td>\n",
       "      <td>Sports</td>\n",
       "      <td>41.36</td>\n",
       "      <td>28.96</td>\n",
       "      <td>3.77</td>\n",
       "      <td>8.45</td>\n",
       "      <td>76.0</td>\n",
       "      <td>8.0</td>\n",
       "      <td>E</td>\n",
       "      <td>82.54</td>\n",
       "    </tr>\n",
       "    <tr>\n",
       "      <th>1</th>\n",
       "      <td>Super Mario Bros.</td>\n",
       "      <td>NES</td>\n",
       "      <td>1985.0</td>\n",
       "      <td>Platform</td>\n",
       "      <td>29.08</td>\n",
       "      <td>3.58</td>\n",
       "      <td>6.81</td>\n",
       "      <td>0.77</td>\n",
       "      <td>-2.0</td>\n",
       "      <td>-2.0</td>\n",
       "      <td>RP</td>\n",
       "      <td>40.24</td>\n",
       "    </tr>\n",
       "    <tr>\n",
       "      <th>2</th>\n",
       "      <td>Mario Kart Wii</td>\n",
       "      <td>Wii</td>\n",
       "      <td>2008.0</td>\n",
       "      <td>Racing</td>\n",
       "      <td>15.68</td>\n",
       "      <td>12.76</td>\n",
       "      <td>3.79</td>\n",
       "      <td>3.29</td>\n",
       "      <td>82.0</td>\n",
       "      <td>8.3</td>\n",
       "      <td>E</td>\n",
       "      <td>35.52</td>\n",
       "    </tr>\n",
       "    <tr>\n",
       "      <th>3</th>\n",
       "      <td>Wii Sports Resort</td>\n",
       "      <td>Wii</td>\n",
       "      <td>2009.0</td>\n",
       "      <td>Sports</td>\n",
       "      <td>15.61</td>\n",
       "      <td>10.93</td>\n",
       "      <td>3.28</td>\n",
       "      <td>2.95</td>\n",
       "      <td>80.0</td>\n",
       "      <td>8.0</td>\n",
       "      <td>E</td>\n",
       "      <td>32.77</td>\n",
       "    </tr>\n",
       "    <tr>\n",
       "      <th>4</th>\n",
       "      <td>Pokemon Red/Pokemon Blue</td>\n",
       "      <td>GB</td>\n",
       "      <td>1996.0</td>\n",
       "      <td>Role-Playing</td>\n",
       "      <td>11.27</td>\n",
       "      <td>8.89</td>\n",
       "      <td>10.22</td>\n",
       "      <td>1.00</td>\n",
       "      <td>-2.0</td>\n",
       "      <td>-2.0</td>\n",
       "      <td>RP</td>\n",
       "      <td>31.38</td>\n",
       "    </tr>\n",
       "  </tbody>\n",
       "</table>\n",
       "</div>"
      ],
      "text/plain": [
       "                       name platform    year         genre  na_sales  \\\n",
       "0                Wii Sports      Wii  2006.0        Sports     41.36   \n",
       "1         Super Mario Bros.      NES  1985.0      Platform     29.08   \n",
       "2            Mario Kart Wii      Wii  2008.0        Racing     15.68   \n",
       "3         Wii Sports Resort      Wii  2009.0        Sports     15.61   \n",
       "4  Pokemon Red/Pokemon Blue       GB  1996.0  Role-Playing     11.27   \n",
       "\n",
       "   eu_sales  jp_sales  other_sales  critic_score  user_score rating  all_sales  \n",
       "0     28.96      3.77         8.45          76.0         8.0      E      82.54  \n",
       "1      3.58      6.81         0.77          -2.0        -2.0     RP      40.24  \n",
       "2     12.76      3.79         3.29          82.0         8.3      E      35.52  \n",
       "3     10.93      3.28         2.95          80.0         8.0      E      32.77  \n",
       "4      8.89     10.22         1.00          -2.0        -2.0     RP      31.38  "
      ]
     },
     "execution_count": 16,
     "metadata": {},
     "output_type": "execute_result"
    }
   ],
   "source": [
    "#Посчитайем суммарные продажи во всех регионах и запишите их в отдельный столбец\n",
    "data['all_sales'] = data['na_sales']+data['eu_sales']+data['jp_sales']+data['other_sales']\n",
    "data.head()"
   ]
  },
  {
   "cell_type": "code",
   "execution_count": 17,
   "metadata": {},
   "outputs": [
    {
     "name": "stdout",
     "output_type": "stream",
     "text": [
      "<class 'pandas.core.frame.DataFrame'>\n",
      "Int64Index: 16444 entries, 0 to 16714\n",
      "Data columns (total 12 columns):\n",
      " #   Column        Non-Null Count  Dtype  \n",
      "---  ------        --------------  -----  \n",
      " 0   name          16444 non-null  object \n",
      " 1   platform      16444 non-null  object \n",
      " 2   year          16444 non-null  float64\n",
      " 3   genre         16444 non-null  object \n",
      " 4   na_sales      16444 non-null  float64\n",
      " 5   eu_sales      16444 non-null  float64\n",
      " 6   jp_sales      16444 non-null  float64\n",
      " 7   other_sales   16444 non-null  float64\n",
      " 8   critic_score  16444 non-null  float64\n",
      " 9   user_score    16444 non-null  float64\n",
      " 10  rating        16444 non-null  object \n",
      " 11  all_sales     16444 non-null  float64\n",
      "dtypes: float64(8), object(4)\n",
      "memory usage: 1.6+ MB\n",
      "None\n",
      "-------------------------\n",
      "name [' Beyblade Burst' ' Fire Emblem Fates' \" Frozen: Olaf's Quest\" ...\n",
      " 'uDraw Studio' 'uDraw Studio: Instant Artist'\n",
      " '¡Shin Chan Flipa en colores!']\n",
      "name : кол-во NaN 0 , процент NaN 0.0 %\n",
      "-------------------------\n",
      "platform ['2600' '3DO' '3DS' 'DC' 'DS' 'GB' 'GBA' 'GC' 'GEN' 'GG' 'N64' 'NES' 'NG'\n",
      " 'PC' 'PCFX' 'PS' 'PS2' 'PS3' 'PS4' 'PSP' 'PSV' 'SAT' 'SCD' 'SNES' 'TG16'\n",
      " 'WS' 'Wii' 'WiiU' 'X360' 'XB' 'XOne']\n",
      "platform : кол-во NaN 0 , процент NaN 0.0 %\n",
      "-------------------------\n",
      "year [1980. 1981. 1982. 1983. 1984. 1985. 1986. 1987. 1988. 1989. 1990. 1991.\n",
      " 1992. 1993. 1994. 1995. 1996. 1997. 1998. 1999. 2000. 2001. 2002. 2003.\n",
      " 2004. 2005. 2006. 2007. 2008. 2009. 2010. 2011. 2012. 2013. 2014. 2015.\n",
      " 2016.]\n",
      "year : кол-во NaN 0 , процент NaN 0.0 %\n",
      "-------------------------\n",
      "genre ['Action' 'Adventure' 'Fighting' 'Misc' 'Platform' 'Puzzle' 'Racing'\n",
      " 'Role-Playing' 'Shooter' 'Simulation' 'Sports' 'Strategy']\n",
      "genre : кол-во NaN 0 , процент NaN 0.0 %\n",
      "-------------------------\n",
      "critic_score [-2. 13. 17. 19. 20. 21. 23. 24. 25. 26. 27. 28. 29. 30. 31. 32. 33. 34.\n",
      " 35. 36. 37. 38. 39. 40. 41. 42. 43. 44. 45. 46. 47. 48. 49. 50. 51. 52.\n",
      " 53. 54. 55. 56. 57. 58. 59. 60. 61. 62. 63. 64. 65. 66. 67. 68. 69. 70.\n",
      " 71. 72. 73. 74. 75. 76. 77. 78. 79. 80. 81. 82. 83. 84. 85. 86. 87. 88.\n",
      " 89. 90. 91. 92. 93. 94. 95. 96. 97. 98.]\n",
      "critic_score : кол-во NaN 0 , процент NaN 0.0 %\n",
      "-------------------------\n",
      "user_score [-2.  -1.   0.   0.2  0.3  0.5  0.6  0.7  0.9  1.   1.1  1.2  1.3  1.4\n",
      "  1.5  1.6  1.7  1.8  1.9  2.   2.1  2.2  2.3  2.4  2.5  2.6  2.7  2.8\n",
      "  2.9  3.   3.1  3.2  3.3  3.4  3.5  3.6  3.7  3.8  3.9  4.   4.1  4.2\n",
      "  4.3  4.4  4.5  4.6  4.7  4.8  4.9  5.   5.1  5.2  5.3  5.4  5.5  5.6\n",
      "  5.7  5.8  5.9  6.   6.1  6.2  6.3  6.4  6.5  6.6  6.7  6.8  6.9  7.\n",
      "  7.1  7.2  7.3  7.4  7.5  7.6  7.7  7.8  7.9  8.   8.1  8.2  8.3  8.4\n",
      "  8.5  8.6  8.7  8.8  8.9  9.   9.1  9.2  9.3  9.4  9.5  9.6  9.7]\n",
      "user_score : кол-во NaN 0 , процент NaN 0.0 %\n",
      "-------------------------\n",
      "rating ['AO' 'E' 'E10+' 'EC' 'M' 'RP' 'T']\n",
      "rating : кол-во NaN 0 , процент NaN 0.0 %\n"
     ]
    }
   ],
   "source": [
    "# Посмотрим, что у нас осталось\n",
    "temp = data.copy() \n",
    "list_c = ['name', 'platform', 'year', 'genre', 'critic_score', 'user_score', 'rating']\n",
    "print(temp.info())\n",
    "for col_l in list_c:\n",
    "  print('-'* 25)\n",
    "  print(col_l, temp[col_l].sort_values().unique())\n",
    "  print(col_l,': кол-во NaN',temp[col_l].isna().sum(),\n",
    "        ', процент NaN', round(temp[col_l].isna().sum()/len(temp)*100, 2),'%')"
   ]
  },
  {
   "cell_type": "markdown",
   "metadata": {},
   "source": [
    "## Шаг 3. Проведите исследовательский анализ данных\n",
    "- Посмотрите, сколько игр выпускалось в разные годы. Важны ли данные за все периоды?\n",
    "- Посмотрите, как менялись продажи по платформам. Выберите платформы с наибольшими суммарными продажами и постройте распределение по годам. За какой характерный срок появляются новые и исчезают старые платформы?\n",
    "- Возьмите данные за соответствующий актуальный период. Актуальный период определите самостоятельно в результате исследования предыдущих вопросов. Основной фактор — эти данные помогут построить прогноз на 2017 год.\n",
    "- Не учитывайте в работе данные за предыдущие годы.\n",
    "- Какие платформы лидируют по продажам, растут или падают? Выберите несколько потенциально прибыльных платформ.\n",
    "- Постройте график «ящик с усами» по глобальным продажам игр в разбивке по платформам. Опишите результат.\n",
    "- Посмотрите, как влияют на продажи внутри одной популярной платформы отзывы пользователей и критиков. Постройте диаграмму рассеяния и посчитайте корреляцию между отзывами и продажами. Сформулируйте выводы.\n",
    "- Соотнесите выводы с продажами игр на других платформах.\n",
    "- Посмотрите на общее распределение игр по жанрам. Что можно сказать о самых прибыльных жанрах? Выделяются ли жанры с высокими и низкими продажами?"
   ]
  },
  {
   "cell_type": "markdown",
   "metadata": {},
   "source": [
    "### Сколько игр выпускалось в разные годы. Важны ли данные за все периоды?"
   ]
  },
  {
   "cell_type": "code",
   "execution_count": 18,
   "metadata": {},
   "outputs": [
    {
     "data": {
      "text/plain": [
       "array([1980., 1981., 1982., 1983., 1984., 1985., 1986., 1987., 1988.,\n",
       "       1989., 1990., 1991., 1992., 1993., 1994., 1995., 1996., 1997.,\n",
       "       1998., 1999., 2000., 2001., 2002., 2003., 2004., 2005., 2006.,\n",
       "       2007., 2008., 2009., 2010., 2011., 2012., 2013., 2014., 2015.,\n",
       "       2016.])"
      ]
     },
     "execution_count": 18,
     "metadata": {},
     "output_type": "execute_result"
    }
   ],
   "source": [
    "data['year'].sort_values().unique()"
   ]
  },
  {
   "cell_type": "markdown",
   "metadata": {},
   "source": [
    "У нас есть данные от 1980 до 2016 года. Сгруппируем по годам все строки и посчитаем в каждом году количество игр"
   ]
  },
  {
   "cell_type": "code",
   "execution_count": 19,
   "metadata": {},
   "outputs": [
    {
     "data": {
      "text/plain": [
       "year\n",
       "1980.0       9\n",
       "1981.0      46\n",
       "1982.0      36\n",
       "1983.0      17\n",
       "1984.0      14\n",
       "1985.0      14\n",
       "1986.0      21\n",
       "1987.0      16\n",
       "1988.0      15\n",
       "1989.0      17\n",
       "1990.0      16\n",
       "1991.0      41\n",
       "1992.0      43\n",
       "1993.0      60\n",
       "1994.0     121\n",
       "1995.0     219\n",
       "1996.0     263\n",
       "1997.0     289\n",
       "1998.0     379\n",
       "1999.0     338\n",
       "2000.0     350\n",
       "2001.0     482\n",
       "2002.0     829\n",
       "2003.0     775\n",
       "2004.0     762\n",
       "2005.0     939\n",
       "2006.0    1006\n",
       "2007.0    1197\n",
       "2008.0    1427\n",
       "2009.0    1426\n",
       "2010.0    1255\n",
       "2011.0    1136\n",
       "2012.0     653\n",
       "2013.0     544\n",
       "2014.0     581\n",
       "2015.0     606\n",
       "2016.0     502\n",
       "Name: name, dtype: int64"
      ]
     },
     "execution_count": 19,
     "metadata": {},
     "output_type": "execute_result"
    }
   ],
   "source": [
    "data.groupby('year')['name'].count()"
   ]
  },
  {
   "cell_type": "code",
   "execution_count": 20,
   "metadata": {},
   "outputs": [
    {
     "data": {
      "text/plain": [
       "<AxesSubplot:xlabel='year'>"
      ]
     },
     "execution_count": 20,
     "metadata": {},
     "output_type": "execute_result"
    },
    {
     "data": {
      "image/png": "[encoded data removed]",
      "text/plain": [
       "<Figure size 864x360 with 1 Axes>"
      ]
     },
     "metadata": {
      "needs_background": "light"
     },
     "output_type": "display_data"
    }
   ],
   "source": [
    "data.groupby('year')['name'].count().plot(kind='bar', figsize=(12,5))"
   ]
  },
  {
   "cell_type": "markdown",
   "metadata": {},
   "source": [
    "В целом, выпуск игр за каждый год - это интересная статистика, но так как мы будем строить прогноз на 2017 год, то интересуют нас в основном последние 5 лет, а именно 2012-2016 года, самые главные ориентир - 2016 год. Вернемся к этому в пункте 3.3 "
   ]
  },
  {
   "cell_type": "markdown",
   "metadata": {},
   "source": [
    "### Как менялись продажи по платформам. Выбераем платформы с наибольшими суммарными продажами и строим распределение по годам. За какой характерный срок появляются новые и исчезают старые платформы?"
   ]
  },
  {
   "cell_type": "code",
   "execution_count": 21,
   "metadata": {},
   "outputs": [
    {
     "data": {
      "text/plain": [
       "array(['Wii', 'NES', 'GB', 'DS', 'X360', 'PS3', 'PS2', 'SNES', 'GBA',\n",
       "       'PS4', '3DS', 'N64', 'PS', 'XB', 'PC', '2600', 'PSP', 'XOne',\n",
       "       'WiiU', 'GC', 'GEN', 'DC', 'PSV', 'SAT', 'SCD', 'WS', 'NG', 'TG16',\n",
       "       '3DO', 'GG', 'PCFX'], dtype=object)"
      ]
     },
     "execution_count": 21,
     "metadata": {},
     "output_type": "execute_result"
    }
   ],
   "source": [
    "data['platform'].unique()"
   ]
  },
  {
   "cell_type": "code",
   "execution_count": 22,
   "metadata": {},
   "outputs": [
    {
     "data": {
      "text/plain": [
       "platform\n",
       "PCFX       0.03\n",
       "GG         0.04\n",
       "3DO        0.10\n",
       "TG16       0.16\n",
       "WS         1.42\n",
       "NG         1.44\n",
       "SCD        1.86\n",
       "DC        15.95\n",
       "GEN       28.35\n",
       "SAT       33.59\n",
       "PSV       53.81\n",
       "WiiU      82.19\n",
       "2600      86.48\n",
       "XOne     159.32\n",
       "GC       196.73\n",
       "SNES     200.04\n",
       "N64      218.01\n",
       "NES      251.05\n",
       "XB       251.57\n",
       "GB       254.43\n",
       "PC       255.76\n",
       "3DS      257.81\n",
       "PSP      289.53\n",
       "GBA      312.88\n",
       "PS4      314.14\n",
       "PS       727.58\n",
       "DS       802.78\n",
       "Wii      891.18\n",
       "PS3      931.34\n",
       "X360     961.24\n",
       "PS2     1233.56\n",
       "Name: all_sales, dtype: float64"
      ]
     },
     "execution_count": 22,
     "metadata": {},
     "output_type": "execute_result"
    }
   ],
   "source": [
    "data.groupby('platform')['all_sales'].sum().sort_values()"
   ]
  },
  {
   "cell_type": "code",
   "execution_count": 23,
   "metadata": {},
   "outputs": [
    {
     "data": {
      "text/plain": [
       "<AxesSubplot:xlabel='platform'>"
      ]
     },
     "execution_count": 23,
     "metadata": {},
     "output_type": "execute_result"
    },
    {
     "data": {
      "image/png": "[encoded data removed]",
      "text/plain": [
       "<Figure size 720x360 with 1 Axes>"
      ]
     },
     "metadata": {
      "needs_background": "light"
     },
     "output_type": "display_data"
    }
   ],
   "source": [
    "data.groupby('platform')['all_sales'].sum().sort_values().plot(kind='bar', figsize=(10,5))"
   ]
  },
  {
   "cell_type": "markdown",
   "metadata": {},
   "source": [
    "Выберем три платформы с наиболее высокими продажами: \n",
    "   - `PS3` - 939.65, \n",
    "   - `X360` - 971.42, \n",
    "   - `PS2` - 1255.77"
   ]
  },
  {
   "cell_type": "markdown",
   "metadata": {},
   "source": [
    "**PS3**"
   ]
  },
  {
   "cell_type": "code",
   "execution_count": 24,
   "metadata": {},
   "outputs": [
    {
     "data": {
      "text/html": [
       "<div>\n",
       "<style scoped>\n",
       "    .dataframe tbody tr th:only-of-type {\n",
       "        vertical-align: middle;\n",
       "    }\n",
       "\n",
       "    .dataframe tbody tr th {\n",
       "        vertical-align: top;\n",
       "    }\n",
       "\n",
       "    .dataframe thead th {\n",
       "        text-align: right;\n",
       "    }\n",
       "</style>\n",
       "<table border=\"1\" class=\"dataframe\">\n",
       "  <thead>\n",
       "    <tr style=\"text-align: right;\">\n",
       "      <th></th>\n",
       "      <th>year</th>\n",
       "      <th>all_sales</th>\n",
       "    </tr>\n",
       "  </thead>\n",
       "  <tbody>\n",
       "    <tr>\n",
       "      <th>0</th>\n",
       "      <td>2006.0</td>\n",
       "      <td>20.96</td>\n",
       "    </tr>\n",
       "    <tr>\n",
       "      <th>1</th>\n",
       "      <td>2007.0</td>\n",
       "      <td>73.19</td>\n",
       "    </tr>\n",
       "    <tr>\n",
       "      <th>2</th>\n",
       "      <td>2008.0</td>\n",
       "      <td>118.52</td>\n",
       "    </tr>\n",
       "    <tr>\n",
       "      <th>3</th>\n",
       "      <td>2009.0</td>\n",
       "      <td>130.93</td>\n",
       "    </tr>\n",
       "    <tr>\n",
       "      <th>4</th>\n",
       "      <td>2010.0</td>\n",
       "      <td>142.17</td>\n",
       "    </tr>\n",
       "    <tr>\n",
       "      <th>5</th>\n",
       "      <td>2011.0</td>\n",
       "      <td>156.78</td>\n",
       "    </tr>\n",
       "    <tr>\n",
       "      <th>6</th>\n",
       "      <td>2012.0</td>\n",
       "      <td>107.36</td>\n",
       "    </tr>\n",
       "    <tr>\n",
       "      <th>7</th>\n",
       "      <td>2013.0</td>\n",
       "      <td>113.25</td>\n",
       "    </tr>\n",
       "    <tr>\n",
       "      <th>8</th>\n",
       "      <td>2014.0</td>\n",
       "      <td>47.76</td>\n",
       "    </tr>\n",
       "    <tr>\n",
       "      <th>9</th>\n",
       "      <td>2015.0</td>\n",
       "      <td>16.82</td>\n",
       "    </tr>\n",
       "    <tr>\n",
       "      <th>10</th>\n",
       "      <td>2016.0</td>\n",
       "      <td>3.60</td>\n",
       "    </tr>\n",
       "  </tbody>\n",
       "</table>\n",
       "</div>"
      ],
      "text/plain": [
       "      year  all_sales\n",
       "0   2006.0      20.96\n",
       "1   2007.0      73.19\n",
       "2   2008.0     118.52\n",
       "3   2009.0     130.93\n",
       "4   2010.0     142.17\n",
       "5   2011.0     156.78\n",
       "6   2012.0     107.36\n",
       "7   2013.0     113.25\n",
       "8   2014.0      47.76\n",
       "9   2015.0      16.82\n",
       "10  2016.0       3.60"
      ]
     },
     "execution_count": 24,
     "metadata": {},
     "output_type": "execute_result"
    }
   ],
   "source": [
    "#строим распределение продаж по годам для платформы PS3\n",
    "data_ps3 = data.query('platform == \"PS3\"')\n",
    "data_ps3 = data_ps3.pivot_table(index='year', values='all_sales', aggfunc='sum')\n",
    "data_ps3.reset_index()"
   ]
  },
  {
   "cell_type": "code",
   "execution_count": 25,
   "metadata": {},
   "outputs": [
    {
     "data": {
      "text/plain": [
       "<AxesSubplot:xlabel='year'>"
      ]
     },
     "execution_count": 25,
     "metadata": {},
     "output_type": "execute_result"
    },
    {
     "data": {
      "image/png": "[encoded data removed]",
      "text/plain": [
       "<Figure size 432x288 with 1 Axes>"
      ]
     },
     "metadata": {
      "needs_background": "light"
     },
     "output_type": "display_data"
    }
   ],
   "source": [
    "data_ps3.plot(kind='bar')"
   ]
  },
  {
   "cell_type": "markdown",
   "metadata": {},
   "source": [
    "Большинство игр было продано в 2010 и 2011 году"
   ]
  },
  {
   "cell_type": "markdown",
   "metadata": {},
   "source": [
    "**X360**"
   ]
  },
  {
   "cell_type": "code",
   "execution_count": 26,
   "metadata": {},
   "outputs": [
    {
     "data": {
      "text/plain": [
       "<AxesSubplot:xlabel='year'>"
      ]
     },
     "execution_count": 26,
     "metadata": {},
     "output_type": "execute_result"
    },
    {
     "data": {
      "image/png": "[encoded data removed]",
      "text/plain": [
       "<Figure size 432x288 with 1 Axes>"
      ]
     },
     "metadata": {
      "needs_background": "light"
     },
     "output_type": "display_data"
    }
   ],
   "source": [
    "#строим распределение продаж по годам для платформы X360\n",
    "data_x360 = data.query('platform == \"X360\"')\n",
    "data_x360 = data_x360.pivot_table(index='year', values='all_sales', aggfunc='sum')\n",
    "data_x360.reset_index()\n",
    "data_x360.plot(kind='bar')"
   ]
  },
  {
   "cell_type": "markdown",
   "metadata": {},
   "source": [
    "Основная масса игр была продана так же в 2010 году"
   ]
  },
  {
   "cell_type": "markdown",
   "metadata": {},
   "source": [
    "**PS2**"
   ]
  },
  {
   "cell_type": "code",
   "execution_count": 27,
   "metadata": {},
   "outputs": [
    {
     "data": {
      "text/plain": [
       "<AxesSubplot:xlabel='year'>"
      ]
     },
     "execution_count": 27,
     "metadata": {},
     "output_type": "execute_result"
    },
    {
     "data": {
      "image/png": "[encoded data removed]",
      "text/plain": [
       "<Figure size 432x288 with 1 Axes>"
      ]
     },
     "metadata": {
      "needs_background": "light"
     },
     "output_type": "display_data"
    }
   ],
   "source": [
    "#строим распределение продаж по годам для платформы PS2\n",
    "data_ps2 = data.query('platform == \"PS2\"')\n",
    "data_ps2 = data_ps2.pivot_table(index='year', values='all_sales', aggfunc='sum')\n",
    "data_ps2.reset_index()\n",
    "data_ps2.plot(kind='bar')"
   ]
  },
  {
   "cell_type": "markdown",
   "metadata": {},
   "source": [
    "Здесь ситуация изменилась, виной всему отсутствие выпуска игр на жту платформу с 2012 года. Так, большинство игр было продано в 2002 и 2004 годах."
   ]
  },
  {
   "cell_type": "markdown",
   "metadata": {},
   "source": [
    "### Данные за соответствующий актуальный период. \n"
   ]
  },
  {
   "cell_type": "code",
   "execution_count": 28,
   "metadata": {},
   "outputs": [
    {
     "data": {
      "text/html": [
       "<div>\n",
       "<style scoped>\n",
       "    .dataframe tbody tr th:only-of-type {\n",
       "        vertical-align: middle;\n",
       "    }\n",
       "\n",
       "    .dataframe tbody tr th {\n",
       "        vertical-align: top;\n",
       "    }\n",
       "\n",
       "    .dataframe thead th {\n",
       "        text-align: right;\n",
       "    }\n",
       "</style>\n",
       "<table border=\"1\" class=\"dataframe\">\n",
       "  <thead>\n",
       "    <tr style=\"text-align: right;\">\n",
       "      <th></th>\n",
       "      <th>name</th>\n",
       "      <th>platform</th>\n",
       "      <th>year</th>\n",
       "      <th>genre</th>\n",
       "      <th>na_sales</th>\n",
       "      <th>eu_sales</th>\n",
       "      <th>jp_sales</th>\n",
       "      <th>other_sales</th>\n",
       "      <th>critic_score</th>\n",
       "      <th>user_score</th>\n",
       "      <th>rating</th>\n",
       "      <th>all_sales</th>\n",
       "    </tr>\n",
       "  </thead>\n",
       "  <tbody>\n",
       "    <tr>\n",
       "      <th>16</th>\n",
       "      <td>Grand Theft Auto V</td>\n",
       "      <td>PS3</td>\n",
       "      <td>2013.0</td>\n",
       "      <td>Action</td>\n",
       "      <td>7.02</td>\n",
       "      <td>9.09</td>\n",
       "      <td>0.98</td>\n",
       "      <td>3.96</td>\n",
       "      <td>97.0</td>\n",
       "      <td>8.2</td>\n",
       "      <td>M</td>\n",
       "      <td>21.05</td>\n",
       "    </tr>\n",
       "    <tr>\n",
       "      <th>23</th>\n",
       "      <td>Grand Theft Auto V</td>\n",
       "      <td>X360</td>\n",
       "      <td>2013.0</td>\n",
       "      <td>Action</td>\n",
       "      <td>9.66</td>\n",
       "      <td>5.14</td>\n",
       "      <td>0.06</td>\n",
       "      <td>1.41</td>\n",
       "      <td>97.0</td>\n",
       "      <td>8.1</td>\n",
       "      <td>M</td>\n",
       "      <td>16.27</td>\n",
       "    </tr>\n",
       "    <tr>\n",
       "      <th>31</th>\n",
       "      <td>Call of Duty: Black Ops 3</td>\n",
       "      <td>PS4</td>\n",
       "      <td>2015.0</td>\n",
       "      <td>Shooter</td>\n",
       "      <td>6.03</td>\n",
       "      <td>5.86</td>\n",
       "      <td>0.36</td>\n",
       "      <td>2.38</td>\n",
       "      <td>-2.0</td>\n",
       "      <td>-2.0</td>\n",
       "      <td>RP</td>\n",
       "      <td>14.63</td>\n",
       "    </tr>\n",
       "    <tr>\n",
       "      <th>33</th>\n",
       "      <td>Pokemon X/Pokemon Y</td>\n",
       "      <td>3DS</td>\n",
       "      <td>2013.0</td>\n",
       "      <td>Role-Playing</td>\n",
       "      <td>5.28</td>\n",
       "      <td>4.19</td>\n",
       "      <td>4.35</td>\n",
       "      <td>0.78</td>\n",
       "      <td>-2.0</td>\n",
       "      <td>-2.0</td>\n",
       "      <td>RP</td>\n",
       "      <td>14.60</td>\n",
       "    </tr>\n",
       "    <tr>\n",
       "      <th>34</th>\n",
       "      <td>Call of Duty: Black Ops II</td>\n",
       "      <td>PS3</td>\n",
       "      <td>2012.0</td>\n",
       "      <td>Shooter</td>\n",
       "      <td>4.99</td>\n",
       "      <td>5.73</td>\n",
       "      <td>0.65</td>\n",
       "      <td>2.42</td>\n",
       "      <td>83.0</td>\n",
       "      <td>5.3</td>\n",
       "      <td>M</td>\n",
       "      <td>13.79</td>\n",
       "    </tr>\n",
       "  </tbody>\n",
       "</table>\n",
       "</div>"
      ],
      "text/plain": [
       "                          name platform    year         genre  na_sales  \\\n",
       "16          Grand Theft Auto V      PS3  2013.0        Action      7.02   \n",
       "23          Grand Theft Auto V     X360  2013.0        Action      9.66   \n",
       "31   Call of Duty: Black Ops 3      PS4  2015.0       Shooter      6.03   \n",
       "33         Pokemon X/Pokemon Y      3DS  2013.0  Role-Playing      5.28   \n",
       "34  Call of Duty: Black Ops II      PS3  2012.0       Shooter      4.99   \n",
       "\n",
       "    eu_sales  jp_sales  other_sales  critic_score  user_score rating  \\\n",
       "16      9.09      0.98         3.96          97.0         8.2      M   \n",
       "23      5.14      0.06         1.41          97.0         8.1      M   \n",
       "31      5.86      0.36         2.38          -2.0        -2.0     RP   \n",
       "33      4.19      4.35         0.78          -2.0        -2.0     RP   \n",
       "34      5.73      0.65         2.42          83.0         5.3      M   \n",
       "\n",
       "    all_sales  \n",
       "16      21.05  \n",
       "23      16.27  \n",
       "31      14.63  \n",
       "33      14.60  \n",
       "34      13.79  "
      ]
     },
     "execution_count": 28,
     "metadata": {},
     "output_type": "execute_result"
    }
   ],
   "source": [
    "#создадим новый датафрейм, куда поместим информацию по играм выпуска 2012-2016гг.  \n",
    "data_1216 = data.query('year == [2016, 2015, 2014, 2013, 2012]')\n",
    "data_1216.head()"
   ]
  },
  {
   "cell_type": "markdown",
   "metadata": {},
   "source": [
    "### Выбор потенциально прибыльных платформ."
   ]
  },
  {
   "cell_type": "code",
   "execution_count": 29,
   "metadata": {},
   "outputs": [
    {
     "data": {
      "text/plain": [
       "platform\n",
       "PSP      11.19\n",
       "DS       12.55\n",
       "Wii      35.37\n",
       "PSV      49.18\n",
       "PC       62.65\n",
       "WiiU     82.19\n",
       "XOne    159.32\n",
       "3DS     194.61\n",
       "X360    236.54\n",
       "PS3     288.79\n",
       "PS4     314.14\n",
       "Name: all_sales, dtype: float64"
      ]
     },
     "execution_count": 29,
     "metadata": {},
     "output_type": "execute_result"
    }
   ],
   "source": [
    "data_1216.groupby('platform')['all_sales'].sum().sort_values()"
   ]
  },
  {
   "cell_type": "markdown",
   "metadata": {},
   "source": [
    "За последние 5 лет рейтинг популярных и прибыльных платформ изменился. Теперь можно выделить 5 платформ, значительно оторвавшихся от других:\n",
    "   - `XOne`    159.32\n",
    "   - `3DS`     194.61\n",
    "   - `X360`    236.54\n",
    "   - `PS3`     288.79\n",
    "   - `PS4`     314.14"
   ]
  },
  {
   "cell_type": "code",
   "execution_count": 30,
   "metadata": {},
   "outputs": [
    {
     "data": {
      "text/plain": [
       "<AxesSubplot:xlabel='year'>"
      ]
     },
     "execution_count": 30,
     "metadata": {},
     "output_type": "execute_result"
    },
    {
     "data": {
      "image/png": "[encoded data removed]",
      "text/plain": [
       "<Figure size 432x288 with 1 Axes>"
      ]
     },
     "metadata": {
      "needs_background": "light"
     },
     "output_type": "display_data"
    }
   ],
   "source": [
    "#заново строим распределение продаж по годам для платформ\n",
    "data_XOne = data_1216.query('platform == \"XOne\"')\n",
    "data_XOne = data_XOne.pivot_table(index='year', values='all_sales', aggfunc='sum')\n",
    "data_XOne.reset_index()\n",
    "data_XOne.plot(kind='bar')"
   ]
  },
  {
   "cell_type": "markdown",
   "metadata": {},
   "source": [
    "Пик популярности игр на этой платформе был в 2015 году, 2016 значительный спад."
   ]
  },
  {
   "cell_type": "code",
   "execution_count": 31,
   "metadata": {},
   "outputs": [
    {
     "data": {
      "text/plain": [
       "<AxesSubplot:xlabel='year'>"
      ]
     },
     "execution_count": 31,
     "metadata": {},
     "output_type": "execute_result"
    },
    {
     "data": {
      "image/png": "[encoded data removed]",
      "text/plain": [
       "<Figure size 432x288 with 1 Axes>"
      ]
     },
     "metadata": {
      "needs_background": "light"
     },
     "output_type": "display_data"
    }
   ],
   "source": [
    "data_3DS = data_1216.query('platform == \"3DS\"')\n",
    "data_3DS = data_3DS.pivot_table(index='year', values='all_sales', aggfunc='sum')\n",
    "data_3DS.reset_index()\n",
    "data_3DS.plot(kind='bar')"
   ]
  },
  {
   "cell_type": "markdown",
   "metadata": {},
   "source": [
    "3DS теряла свою популярность постепенно, начиная с 2013 года."
   ]
  },
  {
   "cell_type": "code",
   "execution_count": 32,
   "metadata": {},
   "outputs": [
    {
     "data": {
      "text/plain": [
       "<AxesSubplot:xlabel='year'>"
      ]
     },
     "execution_count": 32,
     "metadata": {},
     "output_type": "execute_result"
    },
    {
     "data": {
      "image/png": "[encoded data removed]",
      "text/plain": [
       "<Figure size 432x288 with 1 Axes>"
      ]
     },
     "metadata": {
      "needs_background": "light"
     },
     "output_type": "display_data"
    }
   ],
   "source": [
    "data_X360 = data_1216.query('platform == \"X360\"')\n",
    "data_X360 = data_X360.pivot_table(index='year', values='all_sales', aggfunc='sum')\n",
    "data_X360.reset_index()\n",
    "data_X360.plot(kind='bar')"
   ]
  },
  {
   "cell_type": "markdown",
   "metadata": {},
   "source": [
    "На этой платформе ситуация в 2015 и 2016 годах вообще крайне не очень) Наибольшее количество продаж было в 2012 году, а с 2014 резкий спад."
   ]
  },
  {
   "cell_type": "code",
   "execution_count": 33,
   "metadata": {},
   "outputs": [
    {
     "data": {
      "text/plain": [
       "<AxesSubplot:xlabel='year'>"
      ]
     },
     "execution_count": 33,
     "metadata": {},
     "output_type": "execute_result"
    },
    {
     "data": {
      "image/png": "[encoded data removed]",
      "text/plain": [
       "<Figure size 432x288 with 1 Axes>"
      ]
     },
     "metadata": {
      "needs_background": "light"
     },
     "output_type": "display_data"
    }
   ],
   "source": [
    "data_PS3 = data_1216.query('platform == \"PS3\"')\n",
    "data_PS3 = data_PS3.pivot_table(index='year', values='all_sales', aggfunc='sum')\n",
    "data_PS3.reset_index()\n",
    "data_PS3.plot(kind='bar')"
   ]
  },
  {
   "cell_type": "markdown",
   "metadata": {},
   "source": [
    "Аналогично и предыдущей платформе видим резкий спад с 2014 год. а пик приходился на 2013 год. "
   ]
  },
  {
   "cell_type": "code",
   "execution_count": 34,
   "metadata": {},
   "outputs": [
    {
     "data": {
      "text/plain": [
       "<AxesSubplot:xlabel='year'>"
      ]
     },
     "execution_count": 34,
     "metadata": {},
     "output_type": "execute_result"
    },
    {
     "data": {
      "image/png": "[encoded data removed]",
      "text/plain": [
       "<Figure size 432x288 with 1 Axes>"
      ]
     },
     "metadata": {
      "needs_background": "light"
     },
     "output_type": "display_data"
    }
   ],
   "source": [
    "data_PS4 = data_1216.query('platform == \"PS4\"')\n",
    "data_PS4 = data_PS4.pivot_table(index='year', values='all_sales', aggfunc='sum')\n",
    "data_PS4.reset_index()\n",
    "data_PS4.plot(kind='bar')"
   ]
  },
  {
   "cell_type": "markdown",
   "metadata": {},
   "source": [
    "Выход новой модели консоли PS вызвал спад продаж игр на предыдущую версию. Но при этом видно что в 2016 году продаж было меньше, чем в пиковый 2015 год."
   ]
  },
  {
   "cell_type": "code",
   "execution_count": 35,
   "metadata": {},
   "outputs": [
    {
     "data": {
      "text/html": [
       "<div>\n",
       "<style scoped>\n",
       "    .dataframe tbody tr th:only-of-type {\n",
       "        vertical-align: middle;\n",
       "    }\n",
       "\n",
       "    .dataframe tbody tr th {\n",
       "        vertical-align: top;\n",
       "    }\n",
       "\n",
       "    .dataframe thead th {\n",
       "        text-align: right;\n",
       "    }\n",
       "</style>\n",
       "<table border=\"1\" class=\"dataframe\">\n",
       "  <thead>\n",
       "    <tr style=\"text-align: right;\">\n",
       "      <th></th>\n",
       "      <th>na_sales</th>\n",
       "      <th>eu_sales</th>\n",
       "      <th>jp_sales</th>\n",
       "      <th>other_sales</th>\n",
       "      <th>critic_score</th>\n",
       "      <th>user_score</th>\n",
       "      <th>all_sales</th>\n",
       "    </tr>\n",
       "    <tr>\n",
       "      <th>year</th>\n",
       "      <th></th>\n",
       "      <th></th>\n",
       "      <th></th>\n",
       "      <th></th>\n",
       "      <th></th>\n",
       "      <th></th>\n",
       "      <th></th>\n",
       "    </tr>\n",
       "  </thead>\n",
       "  <tbody>\n",
       "    <tr>\n",
       "      <th>2015.0</th>\n",
       "      <td>106.86</td>\n",
       "      <td>96.72</td>\n",
       "      <td>34.09</td>\n",
       "      <td>30.31</td>\n",
       "      <td>15634.0</td>\n",
       "      <td>1399.8</td>\n",
       "      <td>267.98</td>\n",
       "    </tr>\n",
       "    <tr>\n",
       "      <th>2016.0</th>\n",
       "      <td>44.93</td>\n",
       "      <td>51.22</td>\n",
       "      <td>19.31</td>\n",
       "      <td>14.48</td>\n",
       "      <td>16432.0</td>\n",
       "      <td>1291.0</td>\n",
       "      <td>129.94</td>\n",
       "    </tr>\n",
       "  </tbody>\n",
       "</table>\n",
       "</div>"
      ],
      "text/plain": [
       "        na_sales  eu_sales  jp_sales  other_sales  critic_score  user_score  \\\n",
       "year                                                                          \n",
       "2015.0    106.86     96.72     34.09        30.31       15634.0      1399.8   \n",
       "2016.0     44.93     51.22     19.31        14.48       16432.0      1291.0   \n",
       "\n",
       "        all_sales  \n",
       "year               \n",
       "2015.0     267.98  \n",
       "2016.0     129.94  "
      ]
     },
     "execution_count": 35,
     "metadata": {},
     "output_type": "execute_result"
    }
   ],
   "source": [
    "#посмотрим в сравнении 2015 и 2016 года\n",
    "data_1216.query('year == [2015,2016]').groupby('year').sum()"
   ]
  },
  {
   "cell_type": "markdown",
   "metadata": {},
   "source": [
    "*неактуалочка... Что видим, что продажи 2016 года почти в два раза ниже. Но если вспомнить, у нас были игры без указания года, их было 269. Хочу посмотреть для какой платформы их покупали, для новых или старых.*"
   ]
  },
  {
   "cell_type": "code",
   "execution_count": 36,
   "metadata": {
    "scrolled": true
   },
   "outputs": [],
   "source": [
    "#data.query('year == ').groupby('platform').sum()"
   ]
  },
  {
   "cell_type": "markdown",
   "metadata": {},
   "source": [
    "*неактуалочка 2.0 так как нет платформы PS4, можно сделать вывод, что это старые игры и они нас мало интересуют.*\n",
    "\n",
    "В какчестве лидирующий платформ берем все 5"
   ]
  },
  {
   "cell_type": "code",
   "execution_count": 37,
   "metadata": {},
   "outputs": [
    {
     "data": {
      "text/html": [
       "<div>\n",
       "<style scoped>\n",
       "    .dataframe tbody tr th:only-of-type {\n",
       "        vertical-align: middle;\n",
       "    }\n",
       "\n",
       "    .dataframe tbody tr th {\n",
       "        vertical-align: top;\n",
       "    }\n",
       "\n",
       "    .dataframe thead th {\n",
       "        text-align: right;\n",
       "    }\n",
       "</style>\n",
       "<table border=\"1\" class=\"dataframe\">\n",
       "  <thead>\n",
       "    <tr style=\"text-align: right;\">\n",
       "      <th></th>\n",
       "      <th>name</th>\n",
       "      <th>platform</th>\n",
       "      <th>year</th>\n",
       "      <th>genre</th>\n",
       "      <th>na_sales</th>\n",
       "      <th>eu_sales</th>\n",
       "      <th>jp_sales</th>\n",
       "      <th>other_sales</th>\n",
       "      <th>critic_score</th>\n",
       "      <th>user_score</th>\n",
       "      <th>rating</th>\n",
       "      <th>all_sales</th>\n",
       "    </tr>\n",
       "  </thead>\n",
       "  <tbody>\n",
       "    <tr>\n",
       "      <th>16</th>\n",
       "      <td>Grand Theft Auto V</td>\n",
       "      <td>PS3</td>\n",
       "      <td>2013.0</td>\n",
       "      <td>Action</td>\n",
       "      <td>7.02</td>\n",
       "      <td>9.09</td>\n",
       "      <td>0.98</td>\n",
       "      <td>3.96</td>\n",
       "      <td>97.0</td>\n",
       "      <td>8.2</td>\n",
       "      <td>M</td>\n",
       "      <td>21.05</td>\n",
       "    </tr>\n",
       "    <tr>\n",
       "      <th>23</th>\n",
       "      <td>Grand Theft Auto V</td>\n",
       "      <td>X360</td>\n",
       "      <td>2013.0</td>\n",
       "      <td>Action</td>\n",
       "      <td>9.66</td>\n",
       "      <td>5.14</td>\n",
       "      <td>0.06</td>\n",
       "      <td>1.41</td>\n",
       "      <td>97.0</td>\n",
       "      <td>8.1</td>\n",
       "      <td>M</td>\n",
       "      <td>16.27</td>\n",
       "    </tr>\n",
       "    <tr>\n",
       "      <th>31</th>\n",
       "      <td>Call of Duty: Black Ops 3</td>\n",
       "      <td>PS4</td>\n",
       "      <td>2015.0</td>\n",
       "      <td>Shooter</td>\n",
       "      <td>6.03</td>\n",
       "      <td>5.86</td>\n",
       "      <td>0.36</td>\n",
       "      <td>2.38</td>\n",
       "      <td>-2.0</td>\n",
       "      <td>-2.0</td>\n",
       "      <td>RP</td>\n",
       "      <td>14.63</td>\n",
       "    </tr>\n",
       "    <tr>\n",
       "      <th>33</th>\n",
       "      <td>Pokemon X/Pokemon Y</td>\n",
       "      <td>3DS</td>\n",
       "      <td>2013.0</td>\n",
       "      <td>Role-Playing</td>\n",
       "      <td>5.28</td>\n",
       "      <td>4.19</td>\n",
       "      <td>4.35</td>\n",
       "      <td>0.78</td>\n",
       "      <td>-2.0</td>\n",
       "      <td>-2.0</td>\n",
       "      <td>RP</td>\n",
       "      <td>14.60</td>\n",
       "    </tr>\n",
       "    <tr>\n",
       "      <th>34</th>\n",
       "      <td>Call of Duty: Black Ops II</td>\n",
       "      <td>PS3</td>\n",
       "      <td>2012.0</td>\n",
       "      <td>Shooter</td>\n",
       "      <td>4.99</td>\n",
       "      <td>5.73</td>\n",
       "      <td>0.65</td>\n",
       "      <td>2.42</td>\n",
       "      <td>83.0</td>\n",
       "      <td>5.3</td>\n",
       "      <td>M</td>\n",
       "      <td>13.79</td>\n",
       "    </tr>\n",
       "  </tbody>\n",
       "</table>\n",
       "</div>"
      ],
      "text/plain": [
       "                          name platform    year         genre  na_sales  \\\n",
       "16          Grand Theft Auto V      PS3  2013.0        Action      7.02   \n",
       "23          Grand Theft Auto V     X360  2013.0        Action      9.66   \n",
       "31   Call of Duty: Black Ops 3      PS4  2015.0       Shooter      6.03   \n",
       "33         Pokemon X/Pokemon Y      3DS  2013.0  Role-Playing      5.28   \n",
       "34  Call of Duty: Black Ops II      PS3  2012.0       Shooter      4.99   \n",
       "\n",
       "    eu_sales  jp_sales  other_sales  critic_score  user_score rating  \\\n",
       "16      9.09      0.98         3.96          97.0         8.2      M   \n",
       "23      5.14      0.06         1.41          97.0         8.1      M   \n",
       "31      5.86      0.36         2.38          -2.0        -2.0     RP   \n",
       "33      4.19      4.35         0.78          -2.0        -2.0     RP   \n",
       "34      5.73      0.65         2.42          83.0         5.3      M   \n",
       "\n",
       "    all_sales  \n",
       "16      21.05  \n",
       "23      16.27  \n",
       "31      14.63  \n",
       "33      14.60  \n",
       "34      13.79  "
      ]
     },
     "execution_count": 37,
     "metadata": {},
     "output_type": "execute_result"
    }
   ],
   "source": [
    "data_lider = data_1216.query('platform == [\"PS4\", \"PS3\", \"X360\", \"3DS\", \"XOne\"]')\n",
    "data_lider.head()"
   ]
  },
  {
   "cell_type": "markdown",
   "metadata": {},
   "source": [
    "### График «ящик с усами» по глобальным продажам игр в разбивке по платформам"
   ]
  },
  {
   "cell_type": "code",
   "execution_count": 38,
   "metadata": {},
   "outputs": [
    {
     "data": {
      "text/plain": [
       "<AxesSubplot:xlabel='platform', ylabel='all_sales'>"
      ]
     },
     "execution_count": 38,
     "metadata": {},
     "output_type": "execute_result"
    },
    {
     "data": {
      "image/png": "[encoded data removed]",
      "text/plain": [
       "<Figure size 432x288 with 1 Axes>"
      ]
     },
     "metadata": {
      "needs_background": "light"
     },
     "output_type": "display_data"
    }
   ],
   "source": [
    "import matplotlib.pyplot as plt\n",
    "import seaborn as sns\n",
    "\n",
    "sns.boxplot(data=data_lider, x=\"platform\", y=\"all_sales\", showfliers = False)\n",
    "# с помощью параметра showfliers мы убрали все выбросы"
   ]
  },
  {
   "cell_type": "code",
   "execution_count": 39,
   "metadata": {
    "scrolled": true
   },
   "outputs": [
    {
     "data": {
      "text/plain": [
       "[(0.0, 1.0)]"
      ]
     },
     "execution_count": 39,
     "metadata": {},
     "output_type": "execute_result"
    },
    {
     "data": {
      "image/png": "[encoded data removed]",
      "text/plain": [
       "<Figure size 432x288 with 1 Axes>"
      ]
     },
     "metadata": {
      "needs_background": "light"
     },
     "output_type": "display_data"
    }
   ],
   "source": [
    "a=sns.boxplot(data=data_lider, x=\"platform\", y=\"all_sales\", showfliers = False)\n",
    "a.set(ylim=(0,1))"
   ]
  },
  {
   "cell_type": "markdown",
   "metadata": {},
   "source": [
    "На графике видно, что платформа 3DS значительно отстает\n",
    "\n",
    "**медиана**\n",
    "- PS3 - 0.2\n",
    "- X360 - 0.3\n",
    "- PS4 - 0.2\n",
    "- 3DS - 0.1\n",
    "- XOne - 0.2\n",
    "\n",
    "**Q1  и  Q2**\n",
    "- PS3 - 0.05 / 0.6\n",
    "- X360 - 0.01 / 0.9\n",
    "- PS4 - 0.05 / 0.7\n",
    "- 3DS - 0.03 / 0.3\n",
    "- XOne - 0.05 / 0.65\n",
    "\n"
   ]
  },
  {
   "cell_type": "markdown",
   "metadata": {},
   "source": [
    "### Как влияют на продажи внутри одной популярной платформы отзывы пользователей и критиков. Строим диаграмму рассеяния и считаем корреляцию между отзывами и продажами."
   ]
  },
  {
   "cell_type": "code",
   "execution_count": 40,
   "metadata": {},
   "outputs": [
    {
     "data": {
      "text/html": [
       "<div>\n",
       "<style scoped>\n",
       "    .dataframe tbody tr th:only-of-type {\n",
       "        vertical-align: middle;\n",
       "    }\n",
       "\n",
       "    .dataframe tbody tr th {\n",
       "        vertical-align: top;\n",
       "    }\n",
       "\n",
       "    .dataframe thead th {\n",
       "        text-align: right;\n",
       "    }\n",
       "</style>\n",
       "<table border=\"1\" class=\"dataframe\">\n",
       "  <thead>\n",
       "    <tr style=\"text-align: right;\">\n",
       "      <th></th>\n",
       "      <th>name</th>\n",
       "      <th>platform</th>\n",
       "      <th>year</th>\n",
       "      <th>genre</th>\n",
       "      <th>na_sales</th>\n",
       "      <th>eu_sales</th>\n",
       "      <th>jp_sales</th>\n",
       "      <th>other_sales</th>\n",
       "      <th>critic_score</th>\n",
       "      <th>user_score</th>\n",
       "      <th>rating</th>\n",
       "      <th>all_sales</th>\n",
       "    </tr>\n",
       "  </thead>\n",
       "  <tbody>\n",
       "    <tr>\n",
       "      <th>16</th>\n",
       "      <td>Grand Theft Auto V</td>\n",
       "      <td>PS3</td>\n",
       "      <td>2013.0</td>\n",
       "      <td>Action</td>\n",
       "      <td>7.02</td>\n",
       "      <td>9.09</td>\n",
       "      <td>0.98</td>\n",
       "      <td>3.96</td>\n",
       "      <td>97.0</td>\n",
       "      <td>8.2</td>\n",
       "      <td>M</td>\n",
       "      <td>21.05</td>\n",
       "    </tr>\n",
       "    <tr>\n",
       "      <th>23</th>\n",
       "      <td>Grand Theft Auto V</td>\n",
       "      <td>X360</td>\n",
       "      <td>2013.0</td>\n",
       "      <td>Action</td>\n",
       "      <td>9.66</td>\n",
       "      <td>5.14</td>\n",
       "      <td>0.06</td>\n",
       "      <td>1.41</td>\n",
       "      <td>97.0</td>\n",
       "      <td>8.1</td>\n",
       "      <td>M</td>\n",
       "      <td>16.27</td>\n",
       "    </tr>\n",
       "    <tr>\n",
       "      <th>31</th>\n",
       "      <td>Call of Duty: Black Ops 3</td>\n",
       "      <td>PS4</td>\n",
       "      <td>2015.0</td>\n",
       "      <td>Shooter</td>\n",
       "      <td>6.03</td>\n",
       "      <td>5.86</td>\n",
       "      <td>0.36</td>\n",
       "      <td>2.38</td>\n",
       "      <td>-2.0</td>\n",
       "      <td>-2.0</td>\n",
       "      <td>RP</td>\n",
       "      <td>14.63</td>\n",
       "    </tr>\n",
       "    <tr>\n",
       "      <th>33</th>\n",
       "      <td>Pokemon X/Pokemon Y</td>\n",
       "      <td>3DS</td>\n",
       "      <td>2013.0</td>\n",
       "      <td>Role-Playing</td>\n",
       "      <td>5.28</td>\n",
       "      <td>4.19</td>\n",
       "      <td>4.35</td>\n",
       "      <td>0.78</td>\n",
       "      <td>-2.0</td>\n",
       "      <td>-2.0</td>\n",
       "      <td>RP</td>\n",
       "      <td>14.60</td>\n",
       "    </tr>\n",
       "    <tr>\n",
       "      <th>34</th>\n",
       "      <td>Call of Duty: Black Ops II</td>\n",
       "      <td>PS3</td>\n",
       "      <td>2012.0</td>\n",
       "      <td>Shooter</td>\n",
       "      <td>4.99</td>\n",
       "      <td>5.73</td>\n",
       "      <td>0.65</td>\n",
       "      <td>2.42</td>\n",
       "      <td>83.0</td>\n",
       "      <td>5.3</td>\n",
       "      <td>M</td>\n",
       "      <td>13.79</td>\n",
       "    </tr>\n",
       "  </tbody>\n",
       "</table>\n",
       "</div>"
      ],
      "text/plain": [
       "                          name platform    year         genre  na_sales  \\\n",
       "16          Grand Theft Auto V      PS3  2013.0        Action      7.02   \n",
       "23          Grand Theft Auto V     X360  2013.0        Action      9.66   \n",
       "31   Call of Duty: Black Ops 3      PS4  2015.0       Shooter      6.03   \n",
       "33         Pokemon X/Pokemon Y      3DS  2013.0  Role-Playing      5.28   \n",
       "34  Call of Duty: Black Ops II      PS3  2012.0       Shooter      4.99   \n",
       "\n",
       "    eu_sales  jp_sales  other_sales  critic_score  user_score rating  \\\n",
       "16      9.09      0.98         3.96          97.0         8.2      M   \n",
       "23      5.14      0.06         1.41          97.0         8.1      M   \n",
       "31      5.86      0.36         2.38          -2.0        -2.0     RP   \n",
       "33      4.19      4.35         0.78          -2.0        -2.0     RP   \n",
       "34      5.73      0.65         2.42          83.0         5.3      M   \n",
       "\n",
       "    all_sales  \n",
       "16      21.05  \n",
       "23      16.27  \n",
       "31      14.63  \n",
       "33      14.60  \n",
       "34      13.79  "
      ]
     },
     "execution_count": 40,
     "metadata": {},
     "output_type": "execute_result"
    }
   ],
   "source": [
    "data_lider.head()"
   ]
  },
  {
   "cell_type": "code",
   "execution_count": 53,
   "metadata": {},
   "outputs": [
    {
     "data": {
      "text/plain": [
       "<AxesSubplot:xlabel='user_score', ylabel='all_sales'>"
      ]
     },
     "execution_count": 53,
     "metadata": {},
     "output_type": "execute_result"
    },
    {
     "data": {
      "image/png": "[encoded data removed]",
      "text/plain": [
       "<Figure size 432x288 with 1 Axes>"
      ]
     },
     "metadata": {
      "needs_background": "light"
     },
     "output_type": "display_data"
    }
   ],
   "source": [
    "data_lider.query('user_score > 0').plot(x='user_score', \n",
    "                                        y='all_sales', \n",
    "                                        kind='scatter')"
   ]
  },
  {
   "cell_type": "markdown",
   "metadata": {},
   "source": [
    "Если посмотреть общую картину, то среди пользователей лидирует оценка 8. А корреляция 0.04, что говорит о почти нулевой зависимости покупок от оценки пользователей. "
   ]
  },
  {
   "cell_type": "code",
   "execution_count": 54,
   "metadata": {},
   "outputs": [
    {
     "data": {
      "text/plain": [
       "0.0044288176754932575"
      ]
     },
     "execution_count": 54,
     "metadata": {},
     "output_type": "execute_result"
    }
   ],
   "source": [
    "us_corr = data_1216.query('user_score>0').reset_index()\n",
    "us_corr['user_score'].corr(us_corr['all_sales'])"
   ]
  },
  {
   "cell_type": "code",
   "execution_count": 55,
   "metadata": {},
   "outputs": [
    {
     "data": {
      "text/plain": [
       "<AxesSubplot:xlabel='critic_score', ylabel='all_sales'>"
      ]
     },
     "execution_count": 55,
     "metadata": {},
     "output_type": "execute_result"
    },
    {
     "data": {
      "image/png": "[encoded data removed]",
      "text/plain": [
       "<Figure size 432x288 with 1 Axes>"
      ]
     },
     "metadata": {
      "needs_background": "light"
     },
     "output_type": "display_data"
    }
   ],
   "source": [
    "data_lider.query('critic_score > 0').plot(x='critic_score', \n",
    "                                        y='all_sales', \n",
    "                                        kind='scatter')"
   ]
  },
  {
   "cell_type": "code",
   "execution_count": 56,
   "metadata": {},
   "outputs": [
    {
     "data": {
      "text/plain": [
       "0.3081967459207781"
      ]
     },
     "execution_count": 56,
     "metadata": {},
     "output_type": "execute_result"
    }
   ],
   "source": [
    "cr_corr = data_1216.query('critic_score>0').reset_index()\n",
    "cr_corr['critic_score'].corr(cr_corr['all_sales'])"
   ]
  },
  {
   "cell_type": "markdown",
   "metadata": {},
   "source": [
    "Если псомотреть на оценки критиков, то больше покупок игр с оценками от 80 до 100. Корреляция тут 0.3, что значительно больще чем в оценках пользователей, то все так же достаточно мало, чтобы можно было сказать о прямой зависимости."
   ]
  },
  {
   "cell_type": "code",
   "execution_count": 57,
   "metadata": {},
   "outputs": [
    {
     "data": {
      "text/plain": [
       "<AxesSubplot:xlabel='user_score', ylabel='all_sales'>"
      ]
     },
     "execution_count": 57,
     "metadata": {},
     "output_type": "execute_result"
    },
    {
     "data": {
      "image/png": "[encoded data removed]",
      "text/plain": [
       "<Figure size 432x288 with 1 Axes>"
      ]
     },
     "metadata": {
      "needs_background": "light"
     },
     "output_type": "display_data"
    }
   ],
   "source": [
    "#рассмотрим оценки и корреляции в разрезе каждой платформы\n",
    "data_1216.query('platform == \"3DS\" and user_score>0').plot(x='user_score', \n",
    "                                                                       y='all_sales', \n",
    "                                                                       kind='scatter')"
   ]
  },
  {
   "cell_type": "code",
   "execution_count": 58,
   "metadata": {},
   "outputs": [
    {
     "data": {
      "text/plain": [
       "0.19758263411038599"
      ]
     },
     "execution_count": 58,
     "metadata": {},
     "output_type": "execute_result"
    }
   ],
   "source": [
    "DS = data_1216.query('platform == \"3DS\" and user_score>0').reset_index()\n",
    "DS['user_score'].corr(DS['all_sales'])"
   ]
  },
  {
   "cell_type": "code",
   "execution_count": 59,
   "metadata": {},
   "outputs": [
    {
     "data": {
      "text/plain": [
       "<AxesSubplot:xlabel='user_score', ylabel='all_sales'>"
      ]
     },
     "execution_count": 59,
     "metadata": {},
     "output_type": "execute_result"
    },
    {
     "data": {
      "image/png": "[encoded data removed]",
      "text/plain": [
       "<Figure size 432x288 with 1 Axes>"
      ]
     },
     "metadata": {
      "needs_background": "light"
     },
     "output_type": "display_data"
    }
   ],
   "source": [
    "data_lider.query('platform == \"PS4\" and user_score > 0').plot(x='user_score', \n",
    "                                                                       y='all_sales', \n",
    "                                                                       kind='scatter')"
   ]
  },
  {
   "cell_type": "code",
   "execution_count": 60,
   "metadata": {
    "scrolled": true
   },
   "outputs": [
    {
     "data": {
      "text/plain": [
       "-0.031957110204556376"
      ]
     },
     "execution_count": 60,
     "metadata": {},
     "output_type": "execute_result"
    }
   ],
   "source": [
    "PS4 = data_lider.query('platform == \"PS4\" and user_score > 0').reset_index()\n",
    "PS4['user_score'].corr(PS4['all_sales'])"
   ]
  },
  {
   "cell_type": "code",
   "execution_count": 61,
   "metadata": {
    "scrolled": true
   },
   "outputs": [
    {
     "data": {
      "text/plain": [
       "<AxesSubplot:xlabel='user_score', ylabel='all_sales'>"
      ]
     },
     "execution_count": 61,
     "metadata": {},
     "output_type": "execute_result"
    },
    {
     "data": {
      "image/png": "[encoded data removed]",
      "text/plain": [
       "<Figure size 432x288 with 1 Axes>"
      ]
     },
     "metadata": {
      "needs_background": "light"
     },
     "output_type": "display_data"
    }
   ],
   "source": [
    "data_lider.query('platform == \"PS3\" and user_score > 0').plot(x='user_score', \n",
    "                                                              y='all_sales', \n",
    "                                                              kind='scatter')"
   ]
  },
  {
   "cell_type": "code",
   "execution_count": 62,
   "metadata": {},
   "outputs": [
    {
     "data": {
      "text/plain": [
       "-0.005143522887113828"
      ]
     },
     "execution_count": 62,
     "metadata": {},
     "output_type": "execute_result"
    }
   ],
   "source": [
    "PS3 = data_lider.query('platform == \"PS3\" and user_score > 0').reset_index()\n",
    "PS3['user_score'].corr(PS3['all_sales'])"
   ]
  },
  {
   "cell_type": "code",
   "execution_count": 63,
   "metadata": {},
   "outputs": [
    {
     "data": {
      "text/plain": [
       "<AxesSubplot:xlabel='user_score', ylabel='all_sales'>"
      ]
     },
     "execution_count": 63,
     "metadata": {},
     "output_type": "execute_result"
    },
    {
     "data": {
      "image/png": "[encoded data removed]",
      "text/plain": [
       "<Figure size 432x288 with 1 Axes>"
      ]
     },
     "metadata": {
      "needs_background": "light"
     },
     "output_type": "display_data"
    }
   ],
   "source": [
    "data_lider.query('platform == \"X360\" and user_score > 0').plot(x='user_score', \n",
    "                                                                       y='all_sales', \n",
    "                                                                       kind='scatter')"
   ]
  },
  {
   "cell_type": "code",
   "execution_count": 64,
   "metadata": {},
   "outputs": [
    {
     "data": {
      "text/plain": [
       "0.006163978646213326"
      ]
     },
     "execution_count": 64,
     "metadata": {},
     "output_type": "execute_result"
    }
   ],
   "source": [
    "X360 = data_lider.query('platform == \"X360\" and user_score > 0').reset_index()\n",
    "X360['user_score'].corr(X360['all_sales'])"
   ]
  },
  {
   "cell_type": "code",
   "execution_count": 65,
   "metadata": {},
   "outputs": [
    {
     "data": {
      "text/plain": [
       "<AxesSubplot:xlabel='user_score', ylabel='all_sales'>"
      ]
     },
     "execution_count": 65,
     "metadata": {},
     "output_type": "execute_result"
    },
    {
     "data": {
      "image/png": "[encoded data removed]",
      "text/plain": [
       "<Figure size 432x288 with 1 Axes>"
      ]
     },
     "metadata": {
      "needs_background": "light"
     },
     "output_type": "display_data"
    }
   ],
   "source": [
    "data_1216.query('platform == \"XOne\" and user_score>0').plot(x='user_score', \n",
    "                                                                       y='all_sales', \n",
    "                                                                       kind='scatter')"
   ]
  },
  {
   "cell_type": "code",
   "execution_count": 66,
   "metadata": {},
   "outputs": [
    {
     "data": {
      "text/plain": [
       "-0.06892505328279414"
      ]
     },
     "execution_count": 66,
     "metadata": {},
     "output_type": "execute_result"
    }
   ],
   "source": [
    "XOne = data_lider.query('platform == \"XOne\" and user_score>0').reset_index()\n",
    "XOne['user_score'].corr(XOne['all_sales'])"
   ]
  },
  {
   "cell_type": "markdown",
   "metadata": {},
   "source": [
    "Платформы:\n",
    "- XOne : Больше покупок у оценрк 5, 8. Корреляция почти нулевая\n",
    "\n",
    "- X360 : Лидирует так же оценка 5 и 8, корреляция почти на нуле\n",
    "\n",
    "- PS3 : Оценка 8, корреляция тоже нулевая\n",
    "\n",
    "- PS4 : Оценка 8 и 4, кореляция так же ноль\n",
    "\n",
    "- 3DS : Оценка 7 и 8,5. Но корреляция здесь больше, чем на других платформах, но все же ближе к нулю\n",
    "\n",
    "Можно сделать вывод, что нет зависимости покупки от рейтинга пользователей"
   ]
  },
  {
   "cell_type": "code",
   "execution_count": 67,
   "metadata": {},
   "outputs": [
    {
     "data": {
      "text/plain": [
       "<AxesSubplot:xlabel='critic_score', ylabel='all_sales'>"
      ]
     },
     "execution_count": 67,
     "metadata": {},
     "output_type": "execute_result"
    },
    {
     "data": {
      "image/png": "[encoded data removed]",
      "text/plain": [
       "<Figure size 432x288 with 1 Axes>"
      ]
     },
     "metadata": {
      "needs_background": "light"
     },
     "output_type": "display_data"
    }
   ],
   "source": [
    "data_1216.query('platform == \"3DS\" and critic_score>0').plot(x='critic_score', \n",
    "                                                                       y='all_sales', \n",
    "                                                                       kind='scatter')"
   ]
  },
  {
   "cell_type": "code",
   "execution_count": 68,
   "metadata": {},
   "outputs": [
    {
     "data": {
      "text/plain": [
       "0.3208028695360785"
      ]
     },
     "execution_count": 68,
     "metadata": {},
     "output_type": "execute_result"
    }
   ],
   "source": [
    "DS = data_lider.query('platform == \"3DS\" and critic_score>0').reset_index()\n",
    "DS['critic_score'].corr(DS['all_sales'])"
   ]
  },
  {
   "cell_type": "code",
   "execution_count": 69,
   "metadata": {},
   "outputs": [
    {
     "data": {
      "text/plain": [
       "<AxesSubplot:xlabel='critic_score', ylabel='all_sales'>"
      ]
     },
     "execution_count": 69,
     "metadata": {},
     "output_type": "execute_result"
    },
    {
     "data": {
      "image/png": "[encoded data removed]",
      "text/plain": [
       "<Figure size 432x288 with 1 Axes>"
      ]
     },
     "metadata": {
      "needs_background": "light"
     },
     "output_type": "display_data"
    }
   ],
   "source": [
    "data_1216.query('platform == \"XOne\" and critic_score>0').plot(x='critic_score', \n",
    "                                                                       y='all_sales', \n",
    "                                                                       kind='scatter')"
   ]
  },
  {
   "cell_type": "code",
   "execution_count": 70,
   "metadata": {},
   "outputs": [
    {
     "data": {
      "text/plain": [
       "0.4169983280084017"
      ]
     },
     "execution_count": 70,
     "metadata": {},
     "output_type": "execute_result"
    }
   ],
   "source": [
    "XOne = data_lider.query('platform == \"XOne\" and critic_score>0').reset_index()\n",
    "XOne['critic_score'].corr(XOne['all_sales'])"
   ]
  },
  {
   "cell_type": "code",
   "execution_count": 71,
   "metadata": {},
   "outputs": [
    {
     "data": {
      "text/plain": [
       "<AxesSubplot:xlabel='critic_score', ylabel='all_sales'>"
      ]
     },
     "execution_count": 71,
     "metadata": {},
     "output_type": "execute_result"
    },
    {
     "data": {
      "image/png": "[encoded data removed]",
      "text/plain": [
       "<Figure size 432x288 with 1 Axes>"
      ]
     },
     "metadata": {
      "needs_background": "light"
     },
     "output_type": "display_data"
    }
   ],
   "source": [
    "data_1216.query('platform == \"X360\" and critic_score>0').plot(x='critic_score', \n",
    "                                                                       y='all_sales', \n",
    "                                                                       kind='scatter')"
   ]
  },
  {
   "cell_type": "code",
   "execution_count": 72,
   "metadata": {},
   "outputs": [
    {
     "data": {
      "text/plain": [
       "0.3605734888507336"
      ]
     },
     "execution_count": 72,
     "metadata": {},
     "output_type": "execute_result"
    }
   ],
   "source": [
    "X360 = data_lider.query('platform == \"X360\" and critic_score>0').reset_index()\n",
    "X360['critic_score'].corr(X360['all_sales'])"
   ]
  },
  {
   "cell_type": "code",
   "execution_count": 73,
   "metadata": {},
   "outputs": [
    {
     "data": {
      "text/plain": [
       "<AxesSubplot:xlabel='critic_score', ylabel='all_sales'>"
      ]
     },
     "execution_count": 73,
     "metadata": {},
     "output_type": "execute_result"
    },
    {
     "data": {
      "image/png": "[encoded data removed]",
      "text/plain": [
       "<Figure size 432x288 with 1 Axes>"
      ]
     },
     "metadata": {
      "needs_background": "light"
     },
     "output_type": "display_data"
    }
   ],
   "source": [
    "data_1216.query('platform == \"PS3\" and critic_score>0').plot(x='critic_score', \n",
    "                                                                       y='all_sales', \n",
    "                                                                       kind='scatter')"
   ]
  },
  {
   "cell_type": "code",
   "execution_count": 74,
   "metadata": {},
   "outputs": [
    {
     "data": {
      "text/plain": [
       "0.3314972592629587"
      ]
     },
     "execution_count": 74,
     "metadata": {},
     "output_type": "execute_result"
    }
   ],
   "source": [
    "PS3 = data_lider.query('platform == \"PS3\" and critic_score>0').reset_index()\n",
    "PS3['critic_score'].corr(PS3['all_sales'])"
   ]
  },
  {
   "cell_type": "code",
   "execution_count": 75,
   "metadata": {},
   "outputs": [
    {
     "data": {
      "text/plain": [
       "<AxesSubplot:xlabel='critic_score', ylabel='all_sales'>"
      ]
     },
     "execution_count": 75,
     "metadata": {},
     "output_type": "execute_result"
    },
    {
     "data": {
      "image/png": "[encoded data removed]",
      "text/plain": [
       "<Figure size 432x288 with 1 Axes>"
      ]
     },
     "metadata": {
      "needs_background": "light"
     },
     "output_type": "display_data"
    }
   ],
   "source": [
    "data_1216.query('platform == \"PS4\" and critic_score>0').plot(x='critic_score', \n",
    "                                                                       y='all_sales', \n",
    "                                                                       kind='scatter')"
   ]
  },
  {
   "cell_type": "code",
   "execution_count": 76,
   "metadata": {},
   "outputs": [
    {
     "data": {
      "text/plain": [
       "0.40656790206178095"
      ]
     },
     "execution_count": 76,
     "metadata": {},
     "output_type": "execute_result"
    }
   ],
   "source": [
    "PS4 = data_lider.query('platform == \"PS4\" and critic_score>0').reset_index()\n",
    "PS4['critic_score'].corr(PS4['all_sales'])"
   ]
  },
  {
   "cell_type": "markdown",
   "metadata": {},
   "source": [
    "Не смотря на то, что корреляция здесь тоже везде близка к нулю, все же зависимость от оценки критиков гораздо больше, чем от отценки пользователей, хотя сильной назвать ее нельзя.\n",
    "Пользователи больше покупают игры с оценкой критиков от 90 до 100, хотя на платформе 3DS больше покупок с оценкой 70-85"
   ]
  },
  {
   "cell_type": "code",
   "execution_count": 77,
   "metadata": {},
   "outputs": [
    {
     "data": {
      "text/plain": [
       "<AxesSubplot:xlabel='critic_score', ylabel='all_sales'>"
      ]
     },
     "execution_count": 77,
     "metadata": {},
     "output_type": "execute_result"
    },
    {
     "data": {
      "image/png": "[encoded data removed]",
      "text/plain": [
       "<Figure size 432x288 with 1 Axes>"
      ]
     },
     "metadata": {
      "needs_background": "light"
     },
     "output_type": "display_data"
    }
   ],
   "source": [
    "#посмотрим еще общую картину по всем платформам\n",
    "data_1216.query('critic_score>0').plot(x='critic_score', \n",
    "                                        y='all_sales', \n",
    "                                        kind='scatter')"
   ]
  },
  {
   "cell_type": "code",
   "execution_count": 78,
   "metadata": {},
   "outputs": [
    {
     "data": {
      "text/plain": [
       "0.3081967459207781"
      ]
     },
     "execution_count": 78,
     "metadata": {},
     "output_type": "execute_result"
    }
   ],
   "source": [
    "all_cr = data_1216.query('critic_score>0').reset_index()\n",
    "all_cr['critic_score'].corr(all_cr['all_sales'])"
   ]
  },
  {
   "cell_type": "code",
   "execution_count": 79,
   "metadata": {},
   "outputs": [
    {
     "data": {
      "text/plain": [
       "<AxesSubplot:xlabel='user_score', ylabel='all_sales'>"
      ]
     },
     "execution_count": 79,
     "metadata": {},
     "output_type": "execute_result"
    },
    {
     "data": {
      "image/png": "[encoded data removed]",
      "text/plain": [
       "<Figure size 432x288 with 1 Axes>"
      ]
     },
     "metadata": {
      "needs_background": "light"
     },
     "output_type": "display_data"
    }
   ],
   "source": [
    "data_1216.query('user_score>0').plot(x='user_score', \n",
    "                                        y='all_sales', \n",
    "                                        kind='scatter')"
   ]
  },
  {
   "cell_type": "code",
   "execution_count": 80,
   "metadata": {},
   "outputs": [
    {
     "data": {
      "text/plain": [
       "0.0044288176754932575"
      ]
     },
     "execution_count": 80,
     "metadata": {},
     "output_type": "execute_result"
    }
   ],
   "source": [
    "all_us = data_1216.query('user_score>0').reset_index()\n",
    "all_us['user_score'].corr(all_us['all_sales'])"
   ]
  },
  {
   "cell_type": "markdown",
   "metadata": {},
   "source": [
    "Да, вывод тут такой же, так же пользовательские оценки меньше влияют, чем критиков, но и то и то не имеет прямой зависимости. Оценка пользователей - 8, оценка критиков - 90-100"
   ]
  },
  {
   "cell_type": "markdown",
   "metadata": {},
   "source": [
    "### Смотрим общее распределение игр по жанрам. "
   ]
  },
  {
   "cell_type": "code",
   "execution_count": 81,
   "metadata": {},
   "outputs": [
    {
     "data": {
      "text/plain": [
       "genre\n",
       "Adventure       0.060\n",
       "Puzzle          0.070\n",
       "Strategy        0.085\n",
       "Simulation      0.130\n",
       "Misc            0.150\n",
       "Action          0.170\n",
       "Fighting        0.180\n",
       "Role-Playing    0.200\n",
       "Platform        0.210\n",
       "Racing          0.225\n",
       "Sports          0.390\n",
       "Shooter         0.585\n",
       "Name: all_sales, dtype: float64"
      ]
     },
     "execution_count": 81,
     "metadata": {},
     "output_type": "execute_result"
    }
   ],
   "source": [
    "data_lider.groupby('genre')['all_sales'].median().sort_values()"
   ]
  },
  {
   "cell_type": "code",
   "execution_count": 82,
   "metadata": {},
   "outputs": [
    {
     "data": {
      "text/plain": [
       "<AxesSubplot:xlabel='genre', ylabel='all_sales'>"
      ]
     },
     "execution_count": 82,
     "metadata": {},
     "output_type": "execute_result"
    },
    {
     "data": {
      "image/png": "[encoded data removed]",
      "text/plain": [
       "<Figure size 1008x288 with 1 Axes>"
      ]
     },
     "metadata": {
      "needs_background": "light"
     },
     "output_type": "display_data"
    }
   ],
   "source": [
    "data_lider.groupby('genre')['all_sales'].median().reset_index().plot(x='genre', y='all_sales', kind='scatter', figsize=(14,4))"
   ]
  },
  {
   "cell_type": "markdown",
   "metadata": {},
   "source": [
    "Три жанра значительно вырываются вперед: Racing, Sports, Shooter"
   ]
  },
  {
   "cell_type": "code",
   "execution_count": 83,
   "metadata": {},
   "outputs": [
    {
     "data": {
      "text/plain": [
       "genre\n",
       "Adventure       0.050\n",
       "Misc            0.050\n",
       "Puzzle          0.060\n",
       "Strategy        0.070\n",
       "Action          0.080\n",
       "Racing          0.085\n",
       "Fighting        0.095\n",
       "Platform        0.100\n",
       "Sports          0.140\n",
       "Simulation      0.160\n",
       "Role-Playing    0.165\n",
       "Shooter         0.490\n",
       "Name: all_sales, dtype: float64"
      ]
     },
     "execution_count": 83,
     "metadata": {},
     "output_type": "execute_result"
    }
   ],
   "source": [
    "#сравним с популярными жанрами в 2015 и 2016 годах\n",
    "data_lider.query('year == [2015,2016]').groupby('genre')['all_sales'].median().sort_values()"
   ]
  },
  {
   "cell_type": "code",
   "execution_count": 84,
   "metadata": {},
   "outputs": [
    {
     "data": {
      "text/plain": [
       "<AxesSubplot:xlabel='genre', ylabel='all_sales'>"
      ]
     },
     "execution_count": 84,
     "metadata": {},
     "output_type": "execute_result"
    },
    {
     "data": {
      "image/png": "[encoded data removed]",
      "text/plain": [
       "<Figure size 1008x288 with 1 Axes>"
      ]
     },
     "metadata": {
      "needs_background": "light"
     },
     "output_type": "display_data"
    }
   ],
   "source": [
    "data_lider.query('year == [2015,2016]').groupby('genre')['all_sales'].median().reset_index().plot(\n",
    "    x='genre', y='all_sales', kind='scatter', figsize=(14,4))"
   ]
  },
  {
   "cell_type": "markdown",
   "metadata": {},
   "source": [
    "Лидеры сменились. За последние два года чаще покупают Simulation, Role-Playing, Shooter"
   ]
  },
  {
   "cell_type": "markdown",
   "metadata": {},
   "source": [
    "## Шаг 4. Портрет пользователя каждого региона\n",
    "Определить для пользователя каждого региона (NA, EU, JP):\n",
    "- Самые популярные платформы (топ-5). Описать различия в долях продаж.\n",
    "- Самые популярные жанры (топ-5). Пояснить разницу.\n",
    "- Влияет ли рейтинг ESRB на продажи в отдельном регионе?"
   ]
  },
  {
   "cell_type": "markdown",
   "metadata": {},
   "source": [
    "### Платформы топ-5"
   ]
  },
  {
   "cell_type": "code",
   "execution_count": 85,
   "metadata": {},
   "outputs": [
    {
     "data": {
      "text/plain": [
       "platform\n",
       "PSP       0.13\n",
       "DS        4.59\n",
       "PSV      10.98\n",
       "Wii      17.45\n",
       "PC       19.12\n",
       "WiiU     38.10\n",
       "3DS      55.31\n",
       "XOne     93.12\n",
       "PS3     103.38\n",
       "PS4     108.74\n",
       "X360    140.05\n",
       "Name: na_sales, dtype: float64"
      ]
     },
     "execution_count": 85,
     "metadata": {},
     "output_type": "execute_result"
    }
   ],
   "source": [
    "#делим пользователей по регионам, за основу возьмем общую таблицу за 12-16 года\n",
    "data_1216.groupby('platform')['na_sales'].sum().sort_values()"
   ]
  },
  {
   "cell_type": "markdown",
   "metadata": {},
   "source": [
    "В Северной Америке топ-5 платформ: \n",
    "- 3DS   -   55.31\n",
    "- XOne  -   93.12\n",
    "- PS3  -   103.38\n",
    "- PS4  -   108.74\n",
    "- ЛИДЕР **X360**  -  140.05"
   ]
  },
  {
   "cell_type": "code",
   "execution_count": 86,
   "metadata": {},
   "outputs": [
    {
     "data": {
      "text/plain": [
       "platform\n",
       "PSP       0.42\n",
       "DS        3.53\n",
       "PSV      11.36\n",
       "Wii      11.92\n",
       "WiiU     25.13\n",
       "PC       37.76\n",
       "3DS      42.64\n",
       "XOne     51.59\n",
       "X360     74.52\n",
       "PS3     106.86\n",
       "PS4     141.09\n",
       "Name: eu_sales, dtype: float64"
      ]
     },
     "execution_count": 86,
     "metadata": {},
     "output_type": "execute_result"
    }
   ],
   "source": [
    "data_1216.groupby('platform')['eu_sales'].sum().sort_values()"
   ]
  },
  {
   "cell_type": "markdown",
   "metadata": {},
   "source": [
    "В Европе:\n",
    "- 3DS   -   42.64\n",
    "- XOne   -  51.59\n",
    "- X360  -   74.52\n",
    "- PS3   -  106.86\n",
    "- ЛИДЕР **PS4**   -  141.09"
   ]
  },
  {
   "cell_type": "code",
   "execution_count": 87,
   "metadata": {},
   "outputs": [
    {
     "data": {
      "text/plain": [
       "platform\n",
       "PC       0.00\n",
       "XOne     0.34\n",
       "X360     1.57\n",
       "Wii      3.39\n",
       "DS       3.72\n",
       "PSP     10.47\n",
       "WiiU    13.01\n",
       "PS4     15.96\n",
       "PSV     21.04\n",
       "PS3     35.29\n",
       "3DS     87.79\n",
       "Name: jp_sales, dtype: float64"
      ]
     },
     "execution_count": 87,
     "metadata": {},
     "output_type": "execute_result"
    }
   ],
   "source": [
    "data_1216.groupby('platform')['jp_sales'].sum().sort_values()"
   ]
  },
  {
   "cell_type": "markdown",
   "metadata": {},
   "source": [
    "Топ-5 в Японии:\n",
    "- WiiU  -  13.01\n",
    "- PS4   -  15.96\n",
    "- PSV  -   21.04\n",
    "- PS3   -  35.29\n",
    "- ЛИДЕР **3DS**  -   87.79"
   ]
  },
  {
   "cell_type": "markdown",
   "metadata": {},
   "source": [
    "Если в Америке и Европе примерно одинаковые популярные платфоомы, то в Японии это совершенно другие"
   ]
  },
  {
   "cell_type": "code",
   "execution_count": 88,
   "metadata": {},
   "outputs": [
    {
     "data": {
      "text/plain": [
       "Text(0.5, 1.0, 'JP')"
      ]
     },
     "execution_count": 88,
     "metadata": {},
     "output_type": "execute_result"
    },
    {
     "data": {
      "image/png": "[encoded data removed]",
      "text/plain": [
       "<Figure size 432x288 with 1 Axes>"
      ]
     },
     "metadata": {},
     "output_type": "display_data"
    },
    {
     "data": {
      "image/png": "[encoded data removed]",
      "text/plain": [
       "<Figure size 432x288 with 1 Axes>"
      ]
     },
     "metadata": {},
     "output_type": "display_data"
    },
    {
     "data": {
      "image/png": "[encoded data removed]",
      "text/plain": [
       "<Figure size 432x288 with 1 Axes>"
      ]
     },
     "metadata": {},
     "output_type": "display_data"
    }
   ],
   "source": [
    "#создали новые датафраймы по каждому региону\n",
    "#и создадим сводные таблицы, где у нас будет по 5 лидирующих платформ и остальные\n",
    "eu_plat = data_1216.pivot_table(index='platform', values = 'eu_sales', aggfunc = 'sum' ).reset_index()\n",
    "na_plat = data_1216.pivot_table(index='platform', values = 'na_sales', aggfunc = 'sum' ).reset_index()\n",
    "jp_plat = data_1216.pivot_table(index='platform', values = 'jp_sales', aggfunc = 'sum' ).reset_index()\n",
    "\n",
    "eu_p = eu_plat.query('platform == [\"3DS\",\"XOne\",\"X360\",\"PS3\",\"PS4\"]')\n",
    "eu_1_plat = eu_plat.query('platform != [\"3DS\",\"XOne\",\"X360\",\"PS3\",\"PS4\"]')\n",
    "eu_1_plat = {'platform':'other', 'eu_sales': 90.12}\n",
    "eu_p = eu_p.append(eu_1_plat, ignore_index=True)\n",
    "\n",
    "na_p = na_plat.query('platform == [\"3DS\",\"XOne\",\"PS3\",\"PS4\",\"X360\"]')\n",
    "na_1_plat = na_plat.query('platform != [\"3DS\",\"XOne\",\"PS3\",\"PS4\",\"X360\"]')\n",
    "na_1_plat = {'platform':'other', 'na_sales': 90.37}\n",
    "na_p = na_p.append(na_1_plat, ignore_index=True)\n",
    "\n",
    "jp_p = jp_plat.query('platform == [\"WiiU\",\"PS4\",\"PSV\",\"PS3\",\"3DS\"]')\n",
    "jp_1_plat = jp_plat.query('platform != [\"WiiU\",\"PS4\",\"PSV\",\"PS3\",\"3DS\"]')\n",
    "jp_1_plat = {'platform':'other', 'jp_sales': 19.48}\n",
    "jp_p = jp_p.append(jp_1_plat, ignore_index=True)\n",
    "\n",
    "\n",
    "eu_p.groupby(['platform']).sum().plot(y='eu_sales', kind='pie', autopct='%1.1f%%')\n",
    "plt.title('EU')\n",
    "na_p.groupby(['platform']).sum().plot(y='na_sales', kind='pie', autopct='%1.1f%%')\n",
    "plt.title('NA')\n",
    "jp_p.groupby(['platform']).sum().plot(y='jp_sales', kind='pie', autopct='%1.1f%%')\n",
    "plt.title('JP')"
   ]
  },
  {
   "cell_type": "markdown",
   "metadata": {},
   "source": [
    "### Жанры топ-5"
   ]
  },
  {
   "cell_type": "code",
   "execution_count": 89,
   "metadata": {},
   "outputs": [
    {
     "data": {
      "text/plain": [
       "genre\n",
       "Puzzle           2.14\n",
       "Racing           2.50\n",
       "Strategy         2.88\n",
       "Sports           8.01\n",
       "Adventure        8.24\n",
       "Platform         8.63\n",
       "Shooter          9.23\n",
       "Fighting         9.44\n",
       "Simulation      10.41\n",
       "Misc            12.86\n",
       "Action          52.80\n",
       "Role-Playing    65.44\n",
       "Name: jp_sales, dtype: float64"
      ]
     },
     "execution_count": 89,
     "metadata": {},
     "output_type": "execute_result"
    }
   ],
   "source": [
    "data_1216.groupby('genre')['jp_sales'].sum().sort_values()"
   ]
  },
  {
   "cell_type": "markdown",
   "metadata": {},
   "source": [
    "Топ-5 популярных жанров в Японии:\n",
    "- Fighting      -   9.44\n",
    "- Simulation   -   10.41\n",
    "- Misc       -     12.86\n",
    "- Action     -     52.80\n",
    "- Role-Playing -   65.44"
   ]
  },
  {
   "cell_type": "code",
   "execution_count": 90,
   "metadata": {},
   "outputs": [
    {
     "data": {
      "text/plain": [
       "genre\n",
       "Puzzle            1.13\n",
       "Strategy          4.23\n",
       "Simulation        7.97\n",
       "Adventure         8.92\n",
       "Racing           17.22\n",
       "Fighting         19.79\n",
       "Platform         25.38\n",
       "Misc             38.19\n",
       "Role-Playing     64.00\n",
       "Sports           81.53\n",
       "Shooter         144.77\n",
       "Action          177.84\n",
       "Name: na_sales, dtype: float64"
      ]
     },
     "execution_count": 90,
     "metadata": {},
     "output_type": "execute_result"
    }
   ],
   "source": [
    "data_1216.groupby('genre')['na_sales'].sum().sort_values()"
   ]
  },
  {
   "cell_type": "markdown",
   "metadata": {},
   "source": [
    "В Америке:\n",
    "- Misc       -      38.19\n",
    "- Role-Playing-     64.00\n",
    "- Sports      -     81.53\n",
    "- Shooter     -    144.77\n",
    "- Action      -    177.84"
   ]
  },
  {
   "cell_type": "code",
   "execution_count": 91,
   "metadata": {},
   "outputs": [
    {
     "data": {
      "text/plain": [
       "genre\n",
       "Puzzle            1.40\n",
       "Strategy          5.17\n",
       "Adventure         9.46\n",
       "Fighting         10.79\n",
       "Simulation       14.55\n",
       "Platform         21.41\n",
       "Misc             26.32\n",
       "Racing           27.29\n",
       "Role-Playing     48.53\n",
       "Sports           69.09\n",
       "Shooter         113.47\n",
       "Action          159.34\n",
       "Name: eu_sales, dtype: float64"
      ]
     },
     "execution_count": 91,
     "metadata": {},
     "output_type": "execute_result"
    }
   ],
   "source": [
    "data_1216.groupby('genre')['eu_sales'].sum().sort_values()"
   ]
  },
  {
   "cell_type": "markdown",
   "metadata": {},
   "source": [
    "В Европе:\n",
    "- Racing       -    27.29\n",
    "- Role-Playing -    48.53\n",
    "- Sports       -    69.09\n",
    "- Shooter    -     113.47\n",
    "- Action     -     159.34"
   ]
  },
  {
   "cell_type": "markdown",
   "metadata": {},
   "source": [
    "В Европе и Америке топ это Action , а вот в Японии Role-Playing. Скорее всего такая разница, что в жанрах, что в платформах связана с разными интересами в странах и культурой среди молодежи и игроманов. "
   ]
  },
  {
   "cell_type": "code",
   "execution_count": 92,
   "metadata": {
    "scrolled": false
   },
   "outputs": [
    {
     "data": {
      "text/plain": [
       "Text(0.5, 1.0, 'JP')"
      ]
     },
     "execution_count": 92,
     "metadata": {},
     "output_type": "execute_result"
    },
    {
     "data": {
      "image/png": "[encoded data removed]",
      "text/plain": [
       "<Figure size 432x288 with 1 Axes>"
      ]
     },
     "metadata": {},
     "output_type": "display_data"
    },
    {
     "data": {
      "image/png": "[encoded data removed]",
      "text/plain": [
       "<Figure size 432x288 with 1 Axes>"
      ]
     },
     "metadata": {},
     "output_type": "display_data"
    },
    {
     "data": {
      "image/png": "[encoded data removed]",
      "text/plain": [
       "<Figure size 432x288 with 1 Axes>"
      ]
     },
     "metadata": {},
     "output_type": "display_data"
    }
   ],
   "source": [
    "#создали новые датафраймы по каждому региону\n",
    "#и создадим сводные таблицы, где у нас будет по 5 лидирующих жанров и остальные\n",
    "eu_genre = data_1216.pivot_table(index='genre', values = 'eu_sales', aggfunc = 'sum' ).reset_index()\n",
    "na_genre = data_1216.pivot_table(index='genre', values = 'na_sales', aggfunc = 'sum' ).reset_index()\n",
    "jp_genre = data_1216.pivot_table(index='genre', values = 'jp_sales', aggfunc = 'sum' ).reset_index()\n",
    "\n",
    "eu = eu_genre.query('genre == [\"Action\", \"Racing\", \"Role-Playing\", \"Sports\", \"Shooter\"]')\n",
    "eu_1 = eu_genre.query('genre != [\"Action\", \"Racing\", \"Role-Playing\", \"Sports\", \"Shooter\"]')\n",
    "eu_1 = {'genre':'other', 'eu_sales': 89.09}\n",
    "eu = eu.append(eu_1, ignore_index=True)\n",
    "\n",
    "na = na_genre.query('genre == [\"Misc\", \"Role-Playing\", \"Sports\", \"Shooter\", \"Action\"]')\n",
    "na_1 = na_genre.query('genre != [\"Misc\", \"Role-Playing\", \"Sports\", \"Shooter\", \"Action\"]')\n",
    "na_1 = {'genre':'other', 'na_sales': 84.64}\n",
    "na = na.append(na_1, ignore_index=True)\n",
    "\n",
    "jp = jp_genre.query('genre == [\"Fighting\", \"Simulation\", \"Misc\", \"Action\", \"Role-Playing\"]')\n",
    "jp_1 = jp_genre.query('genre != [\"Fighting\", \"Simulation\", \"Misc\", \"Action\", \"Role-Playing\"]')\n",
    "jp_1 = {'genre':'other', 'jp_sales': 41.62}\n",
    "jp = jp.append(jp_1, ignore_index=True)\n",
    "\n",
    "\n",
    "eu.groupby(['genre']).sum().plot(y='eu_sales', kind='pie', autopct='%1.1f%%')\n",
    "plt.title('EU')\n",
    "na.groupby(['genre']).sum().plot(y='na_sales', kind='pie', autopct='%1.1f%%')\n",
    "plt.title('NA')\n",
    "jp.groupby(['genre']).sum().plot(y='jp_sales', kind='pie', autopct='%1.1f%%')\n",
    "plt.title('JP')"
   ]
  },
  {
   "cell_type": "markdown",
   "metadata": {},
   "source": [
    "### Рейтинг ESRB"
   ]
  },
  {
   "cell_type": "code",
   "execution_count": 93,
   "metadata": {},
   "outputs": [
    {
     "data": {
      "text/plain": [
       "rating\n",
       "T        52.96\n",
       "E10+     55.37\n",
       "RP       91.50\n",
       "E       113.03\n",
       "M       193.96\n",
       "Name: eu_sales, dtype: float64"
      ]
     },
     "execution_count": 93,
     "metadata": {},
     "output_type": "execute_result"
    }
   ],
   "source": [
    "data_1216.groupby('rating')['eu_sales'].sum().sort_values()"
   ]
  },
  {
   "cell_type": "code",
   "execution_count": 94,
   "metadata": {},
   "outputs": [
    {
     "data": {
      "text/plain": [
       "rating\n",
       "T        66.02\n",
       "E10+     75.70\n",
       "RP      103.31\n",
       "E       114.37\n",
       "M       231.57\n",
       "Name: na_sales, dtype: float64"
      ]
     },
     "execution_count": 94,
     "metadata": {},
     "output_type": "execute_result"
    }
   ],
   "source": [
    "data_1216.groupby('rating')['na_sales'].sum().sort_values()"
   ]
  },
  {
   "cell_type": "code",
   "execution_count": 95,
   "metadata": {},
   "outputs": [
    {
     "data": {
      "text/plain": [
       "rating\n",
       "E10+      8.19\n",
       "M        21.20\n",
       "T        26.02\n",
       "E        28.33\n",
       "RP      108.84\n",
       "Name: jp_sales, dtype: float64"
      ]
     },
     "execution_count": 95,
     "metadata": {},
     "output_type": "execute_result"
    }
   ],
   "source": [
    "data_1216.groupby('rating')['jp_sales'].sum().sort_values()"
   ]
  },
  {
   "cell_type": "markdown",
   "metadata": {},
   "source": [
    "В Европе и Америке топ - игры с рейтингом М и Е, а вот в Японии - RP и Е. \n",
    "\n",
    "«E» («Everyone») — «Для всех»: Содержание вполне подходит для возрастной категории от 6 лет. Такие игры могут понравиться и взрослым. Игры с этим рейтингом могут содержать минимальное насилие, в основном «мультяшного» характера. Первой игрой, которая получила данный рейтинг, стала The Simpsons Cartoon Studio, выпущенная в 1996 году. Первоначально \"K-A\" (\"Kids to Adults\")\n",
    "\n",
    "«M» («Mature») — «Для взрослых»: Материалы игры не подходят для подростков младше 17 лет. Проекты с данным рейтингом могут содержать достаточно жестокое насилие, большое количество крови с расчленением, непристойные сексуальные сцены или грубую ненормативную лексику, нежелательную для младшей аудитории.\n",
    "\n",
    "«RP» («Rating Pending») — «Рейтинг ожидается»\n",
    "\n"
   ]
  },
  {
   "cell_type": "code",
   "execution_count": 96,
   "metadata": {},
   "outputs": [
    {
     "data": {
      "text/plain": [
       "year\n",
       "2012.0    23.79\n",
       "2013.0    28.15\n",
       "2014.0    24.01\n",
       "2015.0    18.57\n",
       "2016.0    14.32\n",
       "Name: jp_sales, dtype: float64"
      ]
     },
     "execution_count": 96,
     "metadata": {},
     "output_type": "execute_result"
    }
   ],
   "source": [
    "data_1216.query('rating == \"RP\"').groupby('year')['jp_sales'].sum()"
   ]
  },
  {
   "cell_type": "markdown",
   "metadata": {},
   "source": [
    "Я сначала подумала, что может это игры новые, но нет, такие игр встречаются в каждом году. "
   ]
  },
  {
   "cell_type": "code",
   "execution_count": 97,
   "metadata": {},
   "outputs": [
    {
     "data": {
      "text/plain": [
       "<AxesSubplot:xlabel='year', ylabel='na_sales'>"
      ]
     },
     "execution_count": 97,
     "metadata": {},
     "output_type": "execute_result"
    },
    {
     "data": {
      "image/png": "[encoded data removed]",
      "text/plain": [
       "<Figure size 432x288 with 1 Axes>"
      ]
     },
     "metadata": {
      "needs_background": "light"
     },
     "output_type": "display_data"
    }
   ],
   "source": [
    "data_1216.query('rating == \"M\"').groupby('year')['na_sales'].sum().reset_index().plot(\n",
    "                                                                       x='year', \n",
    "                                                                       y='na_sales', \n",
    "                                                                       kind='scatter')"
   ]
  },
  {
   "cell_type": "code",
   "execution_count": 98,
   "metadata": {},
   "outputs": [
    {
     "data": {
      "text/plain": [
       "<AxesSubplot:xlabel='year', ylabel='eu_sales'>"
      ]
     },
     "execution_count": 98,
     "metadata": {},
     "output_type": "execute_result"
    },
    {
     "data": {
      "image/png": "[encoded data removed]",
      "text/plain": [
       "<Figure size 432x288 with 1 Axes>"
      ]
     },
     "metadata": {
      "needs_background": "light"
     },
     "output_type": "display_data"
    }
   ],
   "source": [
    "data_1216.query('rating == \"M\"').groupby('year')['eu_sales'].sum().reset_index().plot(\n",
    "                                                                       x='year', \n",
    "                                                                       y='eu_sales', \n",
    "                                                                       kind='scatter')"
   ]
  },
  {
   "cell_type": "markdown",
   "metadata": {},
   "source": [
    "Рейтинг М - самый популярный вид игр в Европе и Америке, но продажи значительно снилизись в 2015 и 2016 годах"
   ]
  },
  {
   "cell_type": "code",
   "execution_count": 99,
   "metadata": {},
   "outputs": [
    {
     "data": {
      "text/plain": [
       "<AxesSubplot:xlabel='year', ylabel='jp_sales'>"
      ]
     },
     "execution_count": 99,
     "metadata": {},
     "output_type": "execute_result"
    },
    {
     "data": {
      "image/png": "[encoded data removed]",
      "text/plain": [
       "<Figure size 432x288 with 1 Axes>"
      ]
     },
     "metadata": {
      "needs_background": "light"
     },
     "output_type": "display_data"
    }
   ],
   "source": [
    "data_1216.query('rating == \"RP\"').groupby('year')['jp_sales'].sum().reset_index().plot(\n",
    "                                                                       x='year', \n",
    "                                                                       y='jp_sales', \n",
    "                                                                       kind='scatter')"
   ]
  },
  {
   "cell_type": "markdown",
   "metadata": {},
   "source": [
    "В Японии картина похожая, тоже спад продаж, хотя рейтинг игр RP - самый популярный "
   ]
  },
  {
   "cell_type": "markdown",
   "metadata": {},
   "source": [
    "В целом зависимость от рейтинга ESRB конечно есть, пользователи покупают игры по интересам, а благодаря этому рейтингу они могут отфильтравать определенные категории. "
   ]
  },
  {
   "cell_type": "markdown",
   "metadata": {},
   "source": [
    "## Шаг 5. Проверка гипотез\n",
    "\n"
   ]
  },
  {
   "cell_type": "markdown",
   "metadata": {},
   "source": [
    "### Средние пользовательские рейтинги платформ Xbox One и PC одинаковые"
   ]
  },
  {
   "cell_type": "markdown",
   "metadata": {},
   "source": [
    "- Гипотеза Н0 - \"Рейтинги платформ Xbox One и PC одинаковые\"\n",
    "- Гипотеза Н1 - \"Рейтинги платформ Xbox One и PC не одинаковые\""
   ]
  },
  {
   "cell_type": "code",
   "execution_count": 100,
   "metadata": {},
   "outputs": [
    {
     "name": "stdout",
     "output_type": "stream",
     "text": [
      "p-значение: 0.17951812027167968\n",
      "Рейтинг не одинаковый\n"
     ]
    }
   ],
   "source": [
    "Xbox = data_1216.query('platform == \"X360\" and user_score > 0')\n",
    "PC = data_1216.query('platform == \"PC\" and user_score > 0')\n",
    "\n",
    "pay_1 = Xbox['user_score']\n",
    "pay_2 = PC['user_score']\n",
    "alpha=0.05\n",
    "results = st.ttest_ind(pay_1,pay_2)\n",
    "print('p-значение:', results.pvalue)\n",
    "\n",
    "if results.pvalue == alpha:\n",
    "    print('Рейтинг одинаковый')\n",
    "else:\n",
    "    print('Рейтинг не одинаковый')"
   ]
  },
  {
   "cell_type": "markdown",
   "metadata": {},
   "source": [
    "- Гипотеза Н0 отвергается, а Н1 не отвергается."
   ]
  },
  {
   "cell_type": "markdown",
   "metadata": {},
   "source": [
    "### Средние пользовательские рейтинги жанров Action (англ. «действие», экшен-игры) и Sports (англ. «спортивные соревнования») разные."
   ]
  },
  {
   "cell_type": "markdown",
   "metadata": {},
   "source": [
    "- Гипотеза Н0 - \"Рейтинги жанров Action и Sports разные\"\n",
    "- Гипотеза Н1 - \"Рейтинги жанров Action и Sports одинаковые\""
   ]
  },
  {
   "cell_type": "code",
   "execution_count": 101,
   "metadata": {},
   "outputs": [
    {
     "name": "stdout",
     "output_type": "stream",
     "text": [
      "p-значение: 3.7163089460934874e-26\n",
      "Рейтинг разный\n"
     ]
    }
   ],
   "source": [
    "Action = data_1216.query('genre == \"Action\" and user_score > 0')\n",
    "Sports = data_1216.query('genre == \"Sports\" and user_score > 0')\n",
    "\n",
    "pay_1 = Action['user_score']\n",
    "pay_2 = Sports['user_score']\n",
    "alpha=0.05\n",
    "results = st.ttest_ind(pay_1,pay_2)\n",
    "print('p-значение:', results.pvalue)\n",
    "\n",
    "if results.pvalue != alpha:\n",
    "    print('Рейтинг разный')\n",
    "else:\n",
    "    print('Рейтинг одинаковый')"
   ]
  },
  {
   "cell_type": "markdown",
   "metadata": {},
   "source": [
    "- Гипотеза Н0 не отвергается, а Н1 отвергается."
   ]
  },
  {
   "cell_type": "code",
   "execution_count": 102,
   "metadata": {},
   "outputs": [
    {
     "data": {
      "text/plain": [
       "6.220851063829787"
      ]
     },
     "execution_count": 102,
     "metadata": {},
     "output_type": "execute_result"
    }
   ],
   "source": [
    "Xbox['user_score'].mean()"
   ]
  },
  {
   "cell_type": "code",
   "execution_count": 103,
   "metadata": {},
   "outputs": [
    {
     "data": {
      "text/plain": [
       "6.4286407766990274"
      ]
     },
     "execution_count": 103,
     "metadata": {},
     "output_type": "execute_result"
    }
   ],
   "source": [
    "PC['user_score'].mean()"
   ]
  },
  {
   "cell_type": "markdown",
   "metadata": {},
   "source": [
    "- Как видно, средний рейтинг отличается, но не сильно."
   ]
  },
  {
   "cell_type": "code",
   "execution_count": 104,
   "metadata": {},
   "outputs": [
    {
     "data": {
      "text/plain": [
       "6.825047801147227"
      ]
     },
     "execution_count": 104,
     "metadata": {},
     "output_type": "execute_result"
    }
   ],
   "source": [
    "Action['user_score'].mean()"
   ]
  },
  {
   "cell_type": "code",
   "execution_count": 105,
   "metadata": {},
   "outputs": [
    {
     "data": {
      "text/plain": [
       "5.455897435897437"
      ]
     },
     "execution_count": 105,
     "metadata": {},
     "output_type": "execute_result"
    }
   ],
   "source": [
    "Sports['user_score'].mean()"
   ]
  },
  {
   "cell_type": "markdown",
   "metadata": {},
   "source": [
    "- Здесь тоже наглядно видно, что рейтинг разный"
   ]
  },
  {
   "cell_type": "markdown",
   "metadata": {},
   "source": [
    "## Вывод"
   ]
  },
  {
   "cell_type": "markdown",
   "metadata": {},
   "source": [
    "Задача этого проекта была построить план на слебующий год. В 2016 году продаж было гораздо меньше, чем в предыдущие года. Поэтому мы смотрели данные за последние 5 лет. \n",
    "\n",
    "Для Европы: игры для взрослых (рейтинг М) или игры для всех (рейтинг Е). Жанры - Sports, Shooter, Action. Для платформ - XOne, X360, PS3, PS4. \n",
    "\n",
    "Для Америки: игры для взрослых (рейтинг М) или игры для всех (рейтинг Е). Жанры - Sports, Shooter, Action. Для платформ - XOne, PS3, PS4, X360.\n",
    "\n",
    "Для Японии: игры с рейтингом RP(то есть отсутствие) или игры для всех (рейтинг Е). Жанры - Misc, Action, Role-Playing. Для платформ - PS4, PSV, PS3, 3DS."
   ]
  }
 ],
 "metadata": {
  "ExecuteTimeLog": [
   {
    "duration": 1031,
    "start_time": "2022-06-27T12:14:19.085Z"
   },
   {
    "duration": 15,
    "start_time": "2022-06-27T12:14:50.749Z"
   },
   {
    "duration": 17,
    "start_time": "2022-06-27T12:22:08.201Z"
   },
   {
    "duration": 19,
    "start_time": "2022-06-27T12:23:17.129Z"
   },
   {
    "duration": 18,
    "start_time": "2022-06-27T12:25:51.209Z"
   },
   {
    "duration": 106,
    "start_time": "2022-06-27T12:27:27.159Z"
   },
   {
    "duration": 14,
    "start_time": "2022-06-27T12:27:36.645Z"
   },
   {
    "duration": 10,
    "start_time": "2022-06-27T12:27:47.782Z"
   },
   {
    "duration": 10,
    "start_time": "2022-06-27T12:28:10.204Z"
   },
   {
    "duration": 16,
    "start_time": "2022-06-27T12:28:19.713Z"
   },
   {
    "duration": 14,
    "start_time": "2022-06-27T12:28:30.204Z"
   },
   {
    "duration": 4,
    "start_time": "2022-06-27T12:31:15.467Z"
   },
   {
    "duration": 10,
    "start_time": "2022-06-27T12:31:22.496Z"
   },
   {
    "duration": 15,
    "start_time": "2022-06-27T12:34:45.770Z"
   },
   {
    "duration": 10,
    "start_time": "2022-06-27T12:34:58.285Z"
   },
   {
    "duration": 16,
    "start_time": "2022-06-27T12:35:07.077Z"
   },
   {
    "duration": 16,
    "start_time": "2022-06-27T12:35:49.238Z"
   },
   {
    "duration": 17,
    "start_time": "2022-06-27T12:38:32.758Z"
   },
   {
    "duration": 11,
    "start_time": "2022-06-27T12:38:42.674Z"
   },
   {
    "duration": 75,
    "start_time": "2022-06-27T12:38:48.548Z"
   },
   {
    "duration": 16,
    "start_time": "2022-06-27T12:38:52.858Z"
   },
   {
    "duration": 6,
    "start_time": "2022-06-27T12:39:07.469Z"
   },
   {
    "duration": 5,
    "start_time": "2022-06-27T12:39:19.102Z"
   },
   {
    "duration": 21,
    "start_time": "2022-06-27T12:42:06.368Z"
   },
   {
    "duration": 437,
    "start_time": "2022-06-27T12:44:08.034Z"
   },
   {
    "duration": 83,
    "start_time": "2022-06-27T12:44:33.401Z"
   },
   {
    "duration": 24,
    "start_time": "2022-06-27T12:44:33.487Z"
   },
   {
    "duration": 52,
    "start_time": "2022-06-27T12:44:33.514Z"
   },
   {
    "duration": 25,
    "start_time": "2022-06-27T12:44:33.571Z"
   },
   {
    "duration": 0,
    "start_time": "2022-06-27T12:44:33.599Z"
   },
   {
    "duration": 0,
    "start_time": "2022-06-27T12:44:33.602Z"
   },
   {
    "duration": 0,
    "start_time": "2022-06-27T12:44:33.604Z"
   },
   {
    "duration": 0,
    "start_time": "2022-06-27T12:44:33.606Z"
   },
   {
    "duration": 0,
    "start_time": "2022-06-27T12:44:33.607Z"
   },
   {
    "duration": 6,
    "start_time": "2022-06-27T12:45:07.473Z"
   },
   {
    "duration": 16,
    "start_time": "2022-06-27T12:45:27.361Z"
   },
   {
    "duration": 18,
    "start_time": "2022-06-27T12:45:38.987Z"
   },
   {
    "duration": 30,
    "start_time": "2022-06-27T12:48:26.623Z"
   },
   {
    "duration": 28,
    "start_time": "2022-06-27T12:49:03.987Z"
   },
   {
    "duration": 15,
    "start_time": "2022-06-27T12:49:10.177Z"
   },
   {
    "duration": 67,
    "start_time": "2022-06-27T12:49:17.779Z"
   },
   {
    "duration": 47,
    "start_time": "2022-06-27T12:49:17.848Z"
   },
   {
    "duration": 24,
    "start_time": "2022-06-27T12:49:17.898Z"
   },
   {
    "duration": 11,
    "start_time": "2022-06-27T12:49:17.924Z"
   },
   {
    "duration": 67,
    "start_time": "2022-06-27T12:49:17.937Z"
   },
   {
    "duration": 0,
    "start_time": "2022-06-27T12:49:18.006Z"
   },
   {
    "duration": 0,
    "start_time": "2022-06-27T12:49:18.010Z"
   },
   {
    "duration": 0,
    "start_time": "2022-06-27T12:49:18.015Z"
   },
   {
    "duration": 16,
    "start_time": "2022-06-27T12:50:36.989Z"
   },
   {
    "duration": 14,
    "start_time": "2022-06-27T12:50:47.490Z"
   },
   {
    "duration": 18,
    "start_time": "2022-06-27T12:51:16.688Z"
   },
   {
    "duration": 451,
    "start_time": "2022-06-27T12:51:48.022Z"
   },
   {
    "duration": 21,
    "start_time": "2022-06-27T12:52:02.092Z"
   },
   {
    "duration": 9,
    "start_time": "2022-06-27T12:52:47.977Z"
   },
   {
    "duration": 6,
    "start_time": "2022-06-27T12:56:25.969Z"
   },
   {
    "duration": 6,
    "start_time": "2022-06-27T13:00:25.878Z"
   },
   {
    "duration": 7,
    "start_time": "2022-06-27T13:00:44.324Z"
   },
   {
    "duration": 17,
    "start_time": "2022-06-27T13:00:50.240Z"
   },
   {
    "duration": 85,
    "start_time": "2022-06-27T13:01:39.116Z"
   },
   {
    "duration": 14,
    "start_time": "2022-06-27T13:01:39.202Z"
   },
   {
    "duration": 110,
    "start_time": "2022-06-27T13:01:39.217Z"
   },
   {
    "duration": 0,
    "start_time": "2022-06-27T13:01:39.329Z"
   },
   {
    "duration": 0,
    "start_time": "2022-06-27T13:01:39.330Z"
   },
   {
    "duration": 0,
    "start_time": "2022-06-27T13:01:39.332Z"
   },
   {
    "duration": 0,
    "start_time": "2022-06-27T13:01:39.333Z"
   },
   {
    "duration": 43,
    "start_time": "2022-06-27T13:01:58.242Z"
   },
   {
    "duration": 8,
    "start_time": "2022-06-27T13:02:05.591Z"
   },
   {
    "duration": 5,
    "start_time": "2022-06-27T13:02:50.705Z"
   },
   {
    "duration": 15,
    "start_time": "2022-06-27T13:02:59.282Z"
   },
   {
    "duration": 5,
    "start_time": "2022-06-27T13:03:20.100Z"
   },
   {
    "duration": 14,
    "start_time": "2022-06-27T13:03:36.667Z"
   },
   {
    "duration": 12,
    "start_time": "2022-06-27T13:03:42.465Z"
   },
   {
    "duration": 11,
    "start_time": "2022-06-27T13:03:51.382Z"
   },
   {
    "duration": 25,
    "start_time": "2022-06-27T13:04:00.636Z"
   },
   {
    "duration": 22,
    "start_time": "2022-06-27T13:04:07.700Z"
   },
   {
    "duration": 8,
    "start_time": "2022-06-27T13:04:30.061Z"
   },
   {
    "duration": 10,
    "start_time": "2022-06-27T13:04:31.859Z"
   },
   {
    "duration": 9,
    "start_time": "2022-06-27T13:11:31.648Z"
   },
   {
    "duration": 18,
    "start_time": "2022-06-27T13:12:52.504Z"
   },
   {
    "duration": 17,
    "start_time": "2022-06-27T13:13:01.167Z"
   },
   {
    "duration": 72,
    "start_time": "2022-06-27T13:13:28.405Z"
   },
   {
    "duration": 18,
    "start_time": "2022-06-27T13:13:28.480Z"
   },
   {
    "duration": 33,
    "start_time": "2022-06-27T13:13:28.501Z"
   },
   {
    "duration": 17,
    "start_time": "2022-06-27T13:13:28.544Z"
   },
   {
    "duration": 8,
    "start_time": "2022-06-27T13:13:28.563Z"
   },
   {
    "duration": 12,
    "start_time": "2022-06-27T13:13:28.573Z"
   },
   {
    "duration": 25,
    "start_time": "2022-06-27T13:13:28.586Z"
   },
   {
    "duration": 34,
    "start_time": "2022-06-27T13:13:28.613Z"
   },
   {
    "duration": 24,
    "start_time": "2022-06-27T13:13:28.649Z"
   },
   {
    "duration": 20,
    "start_time": "2022-06-27T13:13:52.436Z"
   },
   {
    "duration": 8,
    "start_time": "2022-06-27T13:15:24.669Z"
   },
   {
    "duration": 92,
    "start_time": "2022-06-27T13:15:32.494Z"
   },
   {
    "duration": 21,
    "start_time": "2022-06-27T13:15:32.589Z"
   },
   {
    "duration": 40,
    "start_time": "2022-06-27T13:15:32.612Z"
   },
   {
    "duration": 7,
    "start_time": "2022-06-27T13:15:32.655Z"
   },
   {
    "duration": 19,
    "start_time": "2022-06-27T13:15:32.665Z"
   },
   {
    "duration": 27,
    "start_time": "2022-06-27T13:15:32.685Z"
   },
   {
    "duration": 9,
    "start_time": "2022-06-27T13:15:32.714Z"
   },
   {
    "duration": 37,
    "start_time": "2022-06-27T13:15:32.725Z"
   },
   {
    "duration": 11,
    "start_time": "2022-06-27T13:15:32.765Z"
   },
   {
    "duration": 26,
    "start_time": "2022-06-27T13:15:32.779Z"
   },
   {
    "duration": 50,
    "start_time": "2022-06-27T13:15:32.807Z"
   },
   {
    "duration": 25,
    "start_time": "2022-06-27T13:21:01.462Z"
   },
   {
    "duration": 6,
    "start_time": "2022-06-27T13:21:42.585Z"
   },
   {
    "duration": 5,
    "start_time": "2022-06-27T13:21:53.719Z"
   },
   {
    "duration": 4,
    "start_time": "2022-06-27T13:26:20.763Z"
   },
   {
    "duration": 10,
    "start_time": "2022-06-27T13:26:37.597Z"
   },
   {
    "duration": 8,
    "start_time": "2022-06-27T13:26:40.258Z"
   },
   {
    "duration": 7,
    "start_time": "2022-06-27T13:26:55.064Z"
   },
   {
    "duration": 10,
    "start_time": "2022-06-27T13:28:28.175Z"
   },
   {
    "duration": 10,
    "start_time": "2022-06-27T13:33:07.959Z"
   },
   {
    "duration": 11,
    "start_time": "2022-06-27T13:33:52.640Z"
   },
   {
    "duration": 13,
    "start_time": "2022-06-27T13:34:01.505Z"
   },
   {
    "duration": 15,
    "start_time": "2022-06-27T13:34:16.763Z"
   },
   {
    "duration": 66,
    "start_time": "2022-06-27T13:34:21.269Z"
   },
   {
    "duration": 24,
    "start_time": "2022-06-27T13:34:21.337Z"
   },
   {
    "duration": 30,
    "start_time": "2022-06-27T13:34:21.363Z"
   },
   {
    "duration": 5,
    "start_time": "2022-06-27T13:34:21.395Z"
   },
   {
    "duration": 11,
    "start_time": "2022-06-27T13:34:21.402Z"
   },
   {
    "duration": 16,
    "start_time": "2022-06-27T13:34:21.414Z"
   },
   {
    "duration": 18,
    "start_time": "2022-06-27T13:34:21.432Z"
   },
   {
    "duration": 35,
    "start_time": "2022-06-27T13:34:21.452Z"
   },
   {
    "duration": 10,
    "start_time": "2022-06-27T13:34:21.489Z"
   },
   {
    "duration": 19,
    "start_time": "2022-06-27T13:34:21.502Z"
   },
   {
    "duration": 32,
    "start_time": "2022-06-27T13:34:21.523Z"
   },
   {
    "duration": 32,
    "start_time": "2022-06-27T13:34:21.557Z"
   },
   {
    "duration": 6,
    "start_time": "2022-06-27T13:34:21.591Z"
   },
   {
    "duration": 8,
    "start_time": "2022-06-27T13:34:21.599Z"
   },
   {
    "duration": 45,
    "start_time": "2022-06-27T13:34:21.609Z"
   },
   {
    "duration": 14,
    "start_time": "2022-06-27T13:35:00.858Z"
   },
   {
    "duration": 27,
    "start_time": "2022-06-27T13:35:09.063Z"
   },
   {
    "duration": 2415,
    "start_time": "2022-06-27T13:35:15.855Z"
   },
   {
    "duration": 19,
    "start_time": "2022-06-27T13:35:54.869Z"
   },
   {
    "duration": 21,
    "start_time": "2022-06-27T13:36:11.526Z"
   },
   {
    "duration": 1425,
    "start_time": "2022-06-27T13:38:28.854Z"
   },
   {
    "duration": 5,
    "start_time": "2022-06-27T13:38:39.081Z"
   },
   {
    "duration": 7,
    "start_time": "2022-06-27T13:39:12.658Z"
   },
   {
    "duration": 9,
    "start_time": "2022-06-27T13:39:17.379Z"
   },
   {
    "duration": 9,
    "start_time": "2022-06-27T13:39:31.337Z"
   },
   {
    "duration": 18,
    "start_time": "2022-06-27T13:44:21.962Z"
   },
   {
    "duration": 1198,
    "start_time": "2022-06-27T13:45:08.459Z"
   },
   {
    "duration": 15,
    "start_time": "2022-06-27T13:45:26.701Z"
   },
   {
    "duration": 177,
    "start_time": "2022-06-27T13:45:28.570Z"
   },
   {
    "duration": 19,
    "start_time": "2022-06-27T13:46:03.907Z"
   },
   {
    "duration": 184,
    "start_time": "2022-06-27T13:46:07.461Z"
   },
   {
    "duration": 208,
    "start_time": "2022-06-27T13:46:49.436Z"
   },
   {
    "duration": 201,
    "start_time": "2022-06-27T13:49:02.956Z"
   },
   {
    "duration": 200,
    "start_time": "2022-06-27T13:50:40.158Z"
   },
   {
    "duration": 19,
    "start_time": "2022-06-27T13:53:10.556Z"
   },
   {
    "duration": 12,
    "start_time": "2022-06-27T13:55:56.885Z"
   },
   {
    "duration": 23,
    "start_time": "2022-06-27T14:00:13.243Z"
   },
   {
    "duration": 236,
    "start_time": "2022-06-27T14:00:27.395Z"
   },
   {
    "duration": 1010,
    "start_time": "2022-06-28T14:24:49.148Z"
   },
   {
    "duration": 13,
    "start_time": "2022-06-28T14:24:50.159Z"
   },
   {
    "duration": 14,
    "start_time": "2022-06-28T14:24:50.174Z"
   },
   {
    "duration": 6,
    "start_time": "2022-06-28T14:24:50.190Z"
   },
   {
    "duration": 6,
    "start_time": "2022-06-28T14:24:50.198Z"
   },
   {
    "duration": 19,
    "start_time": "2022-06-28T14:24:50.205Z"
   },
   {
    "duration": 6,
    "start_time": "2022-06-28T14:24:50.242Z"
   },
   {
    "duration": 16,
    "start_time": "2022-06-28T14:24:50.250Z"
   },
   {
    "duration": 10,
    "start_time": "2022-06-28T14:24:50.268Z"
   },
   {
    "duration": 25,
    "start_time": "2022-06-28T14:24:50.280Z"
   },
   {
    "duration": 37,
    "start_time": "2022-06-28T14:24:50.306Z"
   },
   {
    "duration": 26,
    "start_time": "2022-06-28T14:24:50.345Z"
   },
   {
    "duration": 6,
    "start_time": "2022-06-28T14:24:50.373Z"
   },
   {
    "duration": 8,
    "start_time": "2022-06-28T14:24:50.381Z"
   },
   {
    "duration": 5,
    "start_time": "2022-06-28T14:24:50.391Z"
   },
   {
    "duration": 47,
    "start_time": "2022-06-28T14:24:50.397Z"
   },
   {
    "duration": 19,
    "start_time": "2022-06-28T14:24:50.445Z"
   },
   {
    "duration": 594,
    "start_time": "2022-06-28T14:24:50.466Z"
   },
   {
    "duration": 196,
    "start_time": "2022-06-28T14:24:51.061Z"
   },
   {
    "duration": 211,
    "start_time": "2022-06-28T14:24:51.259Z"
   },
   {
    "duration": 18,
    "start_time": "2022-06-28T14:24:51.472Z"
   },
   {
    "duration": 8,
    "start_time": "2022-06-28T14:24:51.492Z"
   },
   {
    "duration": 161,
    "start_time": "2022-06-28T14:24:51.502Z"
   },
   {
    "duration": 132,
    "start_time": "2022-06-28T14:26:40.035Z"
   },
   {
    "duration": 144,
    "start_time": "2022-06-28T14:28:02.493Z"
   },
   {
    "duration": 131,
    "start_time": "2022-06-28T14:29:32.245Z"
   },
   {
    "duration": 124,
    "start_time": "2022-06-28T14:29:41.162Z"
   },
   {
    "duration": 197,
    "start_time": "2022-06-28T14:30:45.933Z"
   },
   {
    "duration": 17,
    "start_time": "2022-06-28T14:34:26.809Z"
   },
   {
    "duration": 15,
    "start_time": "2022-06-28T14:35:17.684Z"
   },
   {
    "duration": 13,
    "start_time": "2022-06-28T14:38:34.538Z"
   },
   {
    "duration": 22,
    "start_time": "2022-06-28T14:38:40.020Z"
   },
   {
    "duration": 126,
    "start_time": "2022-06-28T14:41:19.385Z"
   },
   {
    "duration": 140,
    "start_time": "2022-06-28T14:41:46.665Z"
   },
   {
    "duration": 6,
    "start_time": "2022-06-28T14:42:36.365Z"
   },
   {
    "duration": 18,
    "start_time": "2022-06-28T14:42:47.296Z"
   },
   {
    "duration": 226,
    "start_time": "2022-06-28T14:44:22.733Z"
   },
   {
    "duration": 18,
    "start_time": "2022-06-28T14:44:54.057Z"
   },
   {
    "duration": 5,
    "start_time": "2022-06-28T14:45:05.390Z"
   },
   {
    "duration": 16,
    "start_time": "2022-06-28T14:45:17.398Z"
   },
   {
    "duration": 16,
    "start_time": "2022-06-28T14:46:07.310Z"
   },
   {
    "duration": 16,
    "start_time": "2022-06-28T14:47:27.538Z"
   },
   {
    "duration": 129,
    "start_time": "2022-06-28T14:47:34.326Z"
   },
   {
    "duration": 281,
    "start_time": "2022-06-28T14:47:42.354Z"
   },
   {
    "duration": 100,
    "start_time": "2022-06-28T14:48:31.163Z"
   },
   {
    "duration": 10,
    "start_time": "2022-06-28T14:50:23.859Z"
   },
   {
    "duration": 14,
    "start_time": "2022-06-28T14:50:36.254Z"
   },
   {
    "duration": 9,
    "start_time": "2022-06-28T14:50:51.708Z"
   },
   {
    "duration": 13,
    "start_time": "2022-06-28T14:51:03.215Z"
   },
   {
    "duration": 16,
    "start_time": "2022-06-28T14:51:14.449Z"
   },
   {
    "duration": 24,
    "start_time": "2022-06-28T14:51:36.530Z"
   },
   {
    "duration": 15,
    "start_time": "2022-06-28T14:51:59.891Z"
   },
   {
    "duration": 22,
    "start_time": "2022-06-28T14:52:09.332Z"
   },
   {
    "duration": 124,
    "start_time": "2022-06-28T14:52:16.690Z"
   },
   {
    "duration": 13,
    "start_time": "2022-06-28T14:54:49.014Z"
   },
   {
    "duration": 10,
    "start_time": "2022-06-28T14:55:12.627Z"
   },
   {
    "duration": 12,
    "start_time": "2022-06-28T14:55:30.391Z"
   },
   {
    "duration": 113,
    "start_time": "2022-06-28T14:55:46.786Z"
   },
   {
    "duration": 12,
    "start_time": "2022-06-28T14:55:52.271Z"
   },
   {
    "duration": 8,
    "start_time": "2022-06-28T14:57:31.255Z"
   },
   {
    "duration": 129,
    "start_time": "2022-06-28T14:58:36.701Z"
   },
   {
    "duration": 9,
    "start_time": "2022-06-28T14:58:48.564Z"
   },
   {
    "duration": 14,
    "start_time": "2022-06-28T15:00:31.978Z"
   },
   {
    "duration": 100,
    "start_time": "2022-06-28T15:00:36.423Z"
   },
   {
    "duration": 126,
    "start_time": "2022-06-28T15:00:44.276Z"
   },
   {
    "duration": 17,
    "start_time": "2022-06-28T15:01:08.440Z"
   },
   {
    "duration": 8,
    "start_time": "2022-06-28T15:03:54.887Z"
   },
   {
    "duration": 29,
    "start_time": "2022-06-28T15:04:38.838Z"
   },
   {
    "duration": 1380,
    "start_time": "2022-06-28T15:05:03.991Z"
   },
   {
    "duration": 70,
    "start_time": "2022-06-28T15:05:57.384Z"
   },
   {
    "duration": 14,
    "start_time": "2022-06-28T15:05:57.459Z"
   },
   {
    "duration": 17,
    "start_time": "2022-06-28T15:05:57.475Z"
   },
   {
    "duration": 12,
    "start_time": "2022-06-28T15:05:57.494Z"
   },
   {
    "duration": 35,
    "start_time": "2022-06-28T15:05:57.508Z"
   },
   {
    "duration": 20,
    "start_time": "2022-06-28T15:05:57.553Z"
   },
   {
    "duration": 9,
    "start_time": "2022-06-28T15:05:57.574Z"
   },
   {
    "duration": 21,
    "start_time": "2022-06-28T15:05:57.585Z"
   },
   {
    "duration": 12,
    "start_time": "2022-06-28T15:05:57.609Z"
   },
   {
    "duration": 41,
    "start_time": "2022-06-28T15:05:57.624Z"
   },
   {
    "duration": 23,
    "start_time": "2022-06-28T15:05:57.667Z"
   },
   {
    "duration": 20,
    "start_time": "2022-06-28T15:05:57.692Z"
   },
   {
    "duration": 7,
    "start_time": "2022-06-28T15:05:57.714Z"
   },
   {
    "duration": 30,
    "start_time": "2022-06-28T15:05:57.722Z"
   },
   {
    "duration": 23,
    "start_time": "2022-06-28T15:05:57.754Z"
   },
   {
    "duration": 12,
    "start_time": "2022-06-28T15:05:57.779Z"
   },
   {
    "duration": 33,
    "start_time": "2022-06-28T15:05:57.793Z"
   },
   {
    "duration": 231,
    "start_time": "2022-06-28T15:05:57.829Z"
   },
   {
    "duration": 308,
    "start_time": "2022-06-28T15:05:58.062Z"
   },
   {
    "duration": 214,
    "start_time": "2022-06-28T15:05:58.372Z"
   },
   {
    "duration": 18,
    "start_time": "2022-06-28T15:05:58.588Z"
   },
   {
    "duration": 7,
    "start_time": "2022-06-28T15:05:58.608Z"
   },
   {
    "duration": 178,
    "start_time": "2022-06-28T15:05:58.617Z"
   },
   {
    "duration": 179,
    "start_time": "2022-06-28T15:05:58.797Z"
   },
   {
    "duration": 160,
    "start_time": "2022-06-28T15:05:58.978Z"
   },
   {
    "duration": 154,
    "start_time": "2022-06-28T15:05:59.144Z"
   },
   {
    "duration": 171,
    "start_time": "2022-06-28T15:05:59.299Z"
   },
   {
    "duration": 17,
    "start_time": "2022-06-28T15:05:59.474Z"
   },
   {
    "duration": 25,
    "start_time": "2022-06-28T15:05:59.492Z"
   },
   {
    "duration": 44,
    "start_time": "2022-06-28T15:05:59.519Z"
   },
   {
    "duration": 116,
    "start_time": "2022-06-28T15:05:59.564Z"
   },
   {
    "duration": 7,
    "start_time": "2022-06-28T15:05:59.682Z"
   },
   {
    "duration": 116,
    "start_time": "2022-06-28T15:05:59.691Z"
   },
   {
    "duration": 8,
    "start_time": "2022-06-28T15:05:59.809Z"
   },
   {
    "duration": 130,
    "start_time": "2022-06-28T15:05:59.819Z"
   },
   {
    "duration": 11,
    "start_time": "2022-06-28T15:05:59.956Z"
   },
   {
    "duration": 6,
    "start_time": "2022-06-28T15:05:59.968Z"
   },
   {
    "duration": 1072,
    "start_time": "2022-06-28T15:06:05.075Z"
   },
   {
    "duration": 7,
    "start_time": "2022-06-28T15:06:35.575Z"
   },
   {
    "duration": 6,
    "start_time": "2022-06-28T15:07:09.889Z"
   },
   {
    "duration": 903,
    "start_time": "2022-06-28T15:07:21.974Z"
   },
   {
    "duration": 16,
    "start_time": "2022-06-28T15:07:22.878Z"
   },
   {
    "duration": 17,
    "start_time": "2022-06-28T15:07:22.896Z"
   },
   {
    "duration": 6,
    "start_time": "2022-06-28T15:07:22.914Z"
   },
   {
    "duration": 26,
    "start_time": "2022-06-28T15:07:22.922Z"
   },
   {
    "duration": 19,
    "start_time": "2022-06-28T15:07:22.949Z"
   },
   {
    "duration": 8,
    "start_time": "2022-06-28T15:07:22.970Z"
   },
   {
    "duration": 21,
    "start_time": "2022-06-28T15:07:22.980Z"
   },
   {
    "duration": 11,
    "start_time": "2022-06-28T15:07:23.003Z"
   },
   {
    "duration": 40,
    "start_time": "2022-06-28T15:07:23.016Z"
   },
   {
    "duration": 13,
    "start_time": "2022-06-28T15:07:23.058Z"
   },
   {
    "duration": 18,
    "start_time": "2022-06-28T15:07:23.072Z"
   },
   {
    "duration": 7,
    "start_time": "2022-06-28T15:07:23.091Z"
   },
   {
    "duration": 8,
    "start_time": "2022-06-28T15:07:23.101Z"
   },
   {
    "duration": 44,
    "start_time": "2022-06-28T15:07:23.111Z"
   },
   {
    "duration": 9,
    "start_time": "2022-06-28T15:07:23.157Z"
   },
   {
    "duration": 21,
    "start_time": "2022-06-28T15:07:23.167Z"
   },
   {
    "duration": 500,
    "start_time": "2022-06-28T15:07:23.189Z"
   },
   {
    "duration": 224,
    "start_time": "2022-06-28T15:07:23.690Z"
   },
   {
    "duration": 237,
    "start_time": "2022-06-28T15:07:23.923Z"
   },
   {
    "duration": 21,
    "start_time": "2022-06-28T15:07:24.162Z"
   },
   {
    "duration": 8,
    "start_time": "2022-06-28T15:07:24.184Z"
   },
   {
    "duration": 168,
    "start_time": "2022-06-28T15:07:24.194Z"
   },
   {
    "duration": 168,
    "start_time": "2022-06-28T15:07:24.363Z"
   },
   {
    "duration": 151,
    "start_time": "2022-06-28T15:07:24.533Z"
   },
   {
    "duration": 173,
    "start_time": "2022-06-28T15:07:24.685Z"
   },
   {
    "duration": 159,
    "start_time": "2022-06-28T15:07:24.860Z"
   },
   {
    "duration": 33,
    "start_time": "2022-06-28T15:07:25.021Z"
   },
   {
    "duration": 23,
    "start_time": "2022-06-28T15:07:25.056Z"
   },
   {
    "duration": 19,
    "start_time": "2022-06-28T15:07:25.081Z"
   },
   {
    "duration": 119,
    "start_time": "2022-06-28T15:07:25.102Z"
   },
   {
    "duration": 8,
    "start_time": "2022-06-28T15:07:25.223Z"
   },
   {
    "duration": 121,
    "start_time": "2022-06-28T15:07:25.242Z"
   },
   {
    "duration": 8,
    "start_time": "2022-06-28T15:07:25.365Z"
   },
   {
    "duration": 194,
    "start_time": "2022-06-28T15:07:25.375Z"
   },
   {
    "duration": 9,
    "start_time": "2022-06-28T15:07:25.571Z"
   },
   {
    "duration": 24,
    "start_time": "2022-06-28T15:07:25.581Z"
   },
   {
    "duration": 3,
    "start_time": "2022-06-28T15:07:44.430Z"
   },
   {
    "duration": 1184,
    "start_time": "2022-06-28T15:07:54.354Z"
   },
   {
    "duration": 978,
    "start_time": "2022-06-28T15:08:11.737Z"
   },
   {
    "duration": 16,
    "start_time": "2022-06-28T15:08:12.717Z"
   },
   {
    "duration": 21,
    "start_time": "2022-06-28T15:08:12.735Z"
   },
   {
    "duration": 16,
    "start_time": "2022-06-28T15:08:12.761Z"
   },
   {
    "duration": 19,
    "start_time": "2022-06-28T15:08:12.779Z"
   },
   {
    "duration": 10,
    "start_time": "2022-06-28T15:08:12.799Z"
   },
   {
    "duration": 9,
    "start_time": "2022-06-28T15:08:12.810Z"
   },
   {
    "duration": 33,
    "start_time": "2022-06-28T15:08:12.821Z"
   },
   {
    "duration": 11,
    "start_time": "2022-06-28T15:08:12.855Z"
   },
   {
    "duration": 26,
    "start_time": "2022-06-28T15:08:12.868Z"
   },
   {
    "duration": 20,
    "start_time": "2022-06-28T15:08:12.896Z"
   },
   {
    "duration": 43,
    "start_time": "2022-06-28T15:08:12.918Z"
   },
   {
    "duration": 8,
    "start_time": "2022-06-28T15:08:12.963Z"
   },
   {
    "duration": 12,
    "start_time": "2022-06-28T15:08:12.973Z"
   },
   {
    "duration": 5,
    "start_time": "2022-06-28T15:08:12.987Z"
   },
   {
    "duration": 13,
    "start_time": "2022-06-28T15:08:12.994Z"
   },
   {
    "duration": 50,
    "start_time": "2022-06-28T15:08:13.009Z"
   },
   {
    "duration": 531,
    "start_time": "2022-06-28T15:08:13.061Z"
   },
   {
    "duration": 228,
    "start_time": "2022-06-28T15:08:13.593Z"
   },
   {
    "duration": 253,
    "start_time": "2022-06-28T15:08:13.823Z"
   },
   {
    "duration": 23,
    "start_time": "2022-06-28T15:08:14.078Z"
   },
   {
    "duration": 7,
    "start_time": "2022-06-28T15:08:14.103Z"
   },
   {
    "duration": 181,
    "start_time": "2022-06-28T15:08:14.112Z"
   },
   {
    "duration": 169,
    "start_time": "2022-06-28T15:08:14.295Z"
   },
   {
    "duration": 158,
    "start_time": "2022-06-28T15:08:14.466Z"
   },
   {
    "duration": 166,
    "start_time": "2022-06-28T15:08:14.626Z"
   },
   {
    "duration": 170,
    "start_time": "2022-06-28T15:08:14.794Z"
   },
   {
    "duration": 19,
    "start_time": "2022-06-28T15:08:14.968Z"
   },
   {
    "duration": 24,
    "start_time": "2022-06-28T15:08:14.990Z"
   },
   {
    "duration": 24,
    "start_time": "2022-06-28T15:08:15.045Z"
   },
   {
    "duration": 113,
    "start_time": "2022-06-28T15:08:15.070Z"
   },
   {
    "duration": 8,
    "start_time": "2022-06-28T15:08:15.185Z"
   },
   {
    "duration": 121,
    "start_time": "2022-06-28T15:08:15.194Z"
   },
   {
    "duration": 8,
    "start_time": "2022-06-28T15:08:15.317Z"
   },
   {
    "duration": 181,
    "start_time": "2022-06-28T15:08:15.327Z"
   },
   {
    "duration": 8,
    "start_time": "2022-06-28T15:08:15.509Z"
   },
   {
    "duration": 28,
    "start_time": "2022-06-28T15:08:15.519Z"
   },
   {
    "duration": 1175,
    "start_time": "2022-06-28T15:08:48.392Z"
   },
   {
    "duration": 956,
    "start_time": "2022-06-28T15:09:02.717Z"
   },
   {
    "duration": 15,
    "start_time": "2022-06-28T15:09:03.674Z"
   },
   {
    "duration": 17,
    "start_time": "2022-06-28T15:09:03.691Z"
   },
   {
    "duration": 10,
    "start_time": "2022-06-28T15:09:03.711Z"
   },
   {
    "duration": 30,
    "start_time": "2022-06-28T15:09:03.722Z"
   },
   {
    "duration": 18,
    "start_time": "2022-06-28T15:09:03.754Z"
   },
   {
    "duration": 9,
    "start_time": "2022-06-28T15:09:03.774Z"
   },
   {
    "duration": 17,
    "start_time": "2022-06-28T15:09:03.784Z"
   },
   {
    "duration": 8,
    "start_time": "2022-06-28T15:09:03.803Z"
   },
   {
    "duration": 40,
    "start_time": "2022-06-28T15:09:03.814Z"
   },
   {
    "duration": 13,
    "start_time": "2022-06-28T15:09:03.855Z"
   },
   {
    "duration": 18,
    "start_time": "2022-06-28T15:09:03.870Z"
   },
   {
    "duration": 7,
    "start_time": "2022-06-28T15:09:03.889Z"
   },
   {
    "duration": 11,
    "start_time": "2022-06-28T15:09:03.897Z"
   },
   {
    "duration": 5,
    "start_time": "2022-06-28T15:09:03.909Z"
   },
   {
    "duration": 38,
    "start_time": "2022-06-28T15:09:03.916Z"
   },
   {
    "duration": 40,
    "start_time": "2022-06-28T15:09:03.956Z"
   },
   {
    "duration": 509,
    "start_time": "2022-06-28T15:09:03.998Z"
   },
   {
    "duration": 242,
    "start_time": "2022-06-28T15:09:04.510Z"
   },
   {
    "duration": 203,
    "start_time": "2022-06-28T15:09:04.756Z"
   },
   {
    "duration": 22,
    "start_time": "2022-06-28T15:09:04.961Z"
   },
   {
    "duration": 7,
    "start_time": "2022-06-28T15:09:04.985Z"
   },
   {
    "duration": 167,
    "start_time": "2022-06-28T15:09:04.994Z"
   },
   {
    "duration": 164,
    "start_time": "2022-06-28T15:09:05.162Z"
   },
   {
    "duration": 159,
    "start_time": "2022-06-28T15:09:05.328Z"
   },
   {
    "duration": 175,
    "start_time": "2022-06-28T15:09:05.489Z"
   },
   {
    "duration": 155,
    "start_time": "2022-06-28T15:09:05.666Z"
   },
   {
    "duration": 31,
    "start_time": "2022-06-28T15:09:05.825Z"
   },
   {
    "duration": 24,
    "start_time": "2022-06-28T15:09:05.858Z"
   },
   {
    "duration": 20,
    "start_time": "2022-06-28T15:09:05.884Z"
   },
   {
    "duration": 116,
    "start_time": "2022-06-28T15:09:05.906Z"
   },
   {
    "duration": 33,
    "start_time": "2022-06-28T15:09:06.024Z"
   },
   {
    "duration": 105,
    "start_time": "2022-06-28T15:09:06.060Z"
   },
   {
    "duration": 8,
    "start_time": "2022-06-28T15:09:06.167Z"
   },
   {
    "duration": 186,
    "start_time": "2022-06-28T15:09:06.177Z"
   },
   {
    "duration": 8,
    "start_time": "2022-06-28T15:09:06.364Z"
   },
   {
    "duration": 23,
    "start_time": "2022-06-28T15:09:06.373Z"
   },
   {
    "duration": 27,
    "start_time": "2022-06-28T15:09:39.945Z"
   },
   {
    "duration": 11,
    "start_time": "2022-06-28T15:11:13.917Z"
   },
   {
    "duration": 166,
    "start_time": "2022-06-28T15:11:43.394Z"
   },
   {
    "duration": 142,
    "start_time": "2022-06-28T15:12:17.842Z"
   },
   {
    "duration": 85,
    "start_time": "2022-06-28T15:12:22.975Z"
   },
   {
    "duration": 85,
    "start_time": "2022-06-28T15:12:32.301Z"
   },
   {
    "duration": 95,
    "start_time": "2022-06-28T15:12:42.320Z"
   },
   {
    "duration": 101,
    "start_time": "2022-06-28T15:12:49.720Z"
   },
   {
    "duration": 118,
    "start_time": "2022-06-28T15:13:03.619Z"
   },
   {
    "duration": 88,
    "start_time": "2022-06-28T15:13:18.479Z"
   },
   {
    "duration": 100,
    "start_time": "2022-06-28T15:13:26.754Z"
   },
   {
    "duration": 136,
    "start_time": "2022-06-28T15:15:27.568Z"
   },
   {
    "duration": 143,
    "start_time": "2022-06-28T15:15:35.919Z"
   },
   {
    "duration": 139,
    "start_time": "2022-06-28T15:15:52.542Z"
   },
   {
    "duration": 154,
    "start_time": "2022-06-28T15:18:17.820Z"
   },
   {
    "duration": 109,
    "start_time": "2022-06-28T15:20:44.487Z"
   },
   {
    "duration": 21,
    "start_time": "2022-06-28T15:20:50.990Z"
   },
   {
    "duration": 17,
    "start_time": "2022-06-28T15:20:56.454Z"
   },
   {
    "duration": 147,
    "start_time": "2022-06-28T15:21:44.781Z"
   },
   {
    "duration": 88,
    "start_time": "2022-06-28T15:21:55.694Z"
   },
   {
    "duration": 18,
    "start_time": "2022-06-28T15:22:39.709Z"
   },
   {
    "duration": 8,
    "start_time": "2022-06-28T15:23:42.631Z"
   },
   {
    "duration": 18,
    "start_time": "2022-06-28T15:24:14.054Z"
   },
   {
    "duration": 9,
    "start_time": "2022-06-28T15:24:41.670Z"
   },
   {
    "duration": 13,
    "start_time": "2022-06-28T15:26:22.972Z"
   },
   {
    "duration": 117,
    "start_time": "2022-06-28T15:28:24.187Z"
   },
   {
    "duration": 8,
    "start_time": "2022-06-28T15:29:09.267Z"
   },
   {
    "duration": 129,
    "start_time": "2022-06-28T15:29:51.786Z"
   },
   {
    "duration": 9,
    "start_time": "2022-06-28T15:30:46.375Z"
   },
   {
    "duration": 9,
    "start_time": "2022-06-28T15:30:59.491Z"
   },
   {
    "duration": 9,
    "start_time": "2022-06-28T15:32:35.342Z"
   },
   {
    "duration": 21,
    "start_time": "2022-06-28T15:32:46.532Z"
   },
   {
    "duration": 7,
    "start_time": "2022-06-28T15:32:50.388Z"
   },
   {
    "duration": 9,
    "start_time": "2022-06-28T15:35:05.715Z"
   },
   {
    "duration": 7,
    "start_time": "2022-06-28T15:39:28.366Z"
   },
   {
    "duration": 7,
    "start_time": "2022-06-28T15:39:38.865Z"
   },
   {
    "duration": 7,
    "start_time": "2022-06-28T15:41:35.469Z"
   },
   {
    "duration": 9,
    "start_time": "2022-06-28T15:43:06.618Z"
   },
   {
    "duration": 7,
    "start_time": "2022-06-28T15:45:59.689Z"
   },
   {
    "duration": 7,
    "start_time": "2022-06-28T15:46:52.134Z"
   },
   {
    "duration": 8,
    "start_time": "2022-06-28T15:47:44.465Z"
   },
   {
    "duration": 6,
    "start_time": "2022-06-28T15:51:53.751Z"
   },
   {
    "duration": 7,
    "start_time": "2022-06-28T15:52:10.135Z"
   },
   {
    "duration": 10,
    "start_time": "2022-06-28T15:52:20.580Z"
   },
   {
    "duration": 14,
    "start_time": "2022-06-28T15:55:18.180Z"
   },
   {
    "duration": 8,
    "start_time": "2022-06-28T15:55:39.365Z"
   },
   {
    "duration": 1050,
    "start_time": "2022-06-30T14:44:51.606Z"
   },
   {
    "duration": 21,
    "start_time": "2022-06-30T14:44:52.658Z"
   },
   {
    "duration": 22,
    "start_time": "2022-06-30T14:44:52.681Z"
   },
   {
    "duration": 29,
    "start_time": "2022-06-30T14:44:52.705Z"
   },
   {
    "duration": 30,
    "start_time": "2022-06-30T14:44:52.735Z"
   },
   {
    "duration": 16,
    "start_time": "2022-06-30T14:44:52.767Z"
   },
   {
    "duration": 9,
    "start_time": "2022-06-30T14:44:52.785Z"
   },
   {
    "duration": 33,
    "start_time": "2022-06-30T14:44:52.796Z"
   },
   {
    "duration": 17,
    "start_time": "2022-06-30T14:44:52.831Z"
   },
   {
    "duration": 18,
    "start_time": "2022-06-30T14:44:52.850Z"
   },
   {
    "duration": 13,
    "start_time": "2022-06-30T14:44:52.869Z"
   },
   {
    "duration": 23,
    "start_time": "2022-06-30T14:44:52.883Z"
   },
   {
    "duration": 26,
    "start_time": "2022-06-30T14:44:52.907Z"
   },
   {
    "duration": 29,
    "start_time": "2022-06-30T14:44:52.935Z"
   },
   {
    "duration": 13,
    "start_time": "2022-06-30T14:44:52.967Z"
   },
   {
    "duration": 16,
    "start_time": "2022-06-30T14:44:52.981Z"
   },
   {
    "duration": 23,
    "start_time": "2022-06-30T14:44:52.999Z"
   },
   {
    "duration": 706,
    "start_time": "2022-06-30T14:44:53.024Z"
   },
   {
    "duration": 274,
    "start_time": "2022-06-30T14:44:53.733Z"
   },
   {
    "duration": 284,
    "start_time": "2022-06-30T14:44:54.009Z"
   },
   {
    "duration": 33,
    "start_time": "2022-06-30T14:44:54.295Z"
   },
   {
    "duration": 17,
    "start_time": "2022-06-30T14:44:54.335Z"
   },
   {
    "duration": 148,
    "start_time": "2022-06-30T14:44:54.354Z"
   },
   {
    "duration": 154,
    "start_time": "2022-06-30T14:44:54.504Z"
   },
   {
    "duration": 197,
    "start_time": "2022-06-30T14:44:54.660Z"
   },
   {
    "duration": 154,
    "start_time": "2022-06-30T14:44:54.860Z"
   },
   {
    "duration": 151,
    "start_time": "2022-06-30T14:44:55.017Z"
   },
   {
    "duration": 16,
    "start_time": "2022-06-30T14:44:55.173Z"
   },
   {
    "duration": 44,
    "start_time": "2022-06-30T14:44:55.191Z"
   },
   {
    "duration": 36,
    "start_time": "2022-06-30T14:44:55.238Z"
   },
   {
    "duration": 174,
    "start_time": "2022-06-30T14:44:55.276Z"
   },
   {
    "duration": 10,
    "start_time": "2022-06-30T14:44:55.452Z"
   },
   {
    "duration": 114,
    "start_time": "2022-06-30T14:44:55.464Z"
   },
   {
    "duration": 9,
    "start_time": "2022-06-30T14:44:55.580Z"
   },
   {
    "duration": 126,
    "start_time": "2022-06-30T14:44:55.591Z"
   },
   {
    "duration": 15,
    "start_time": "2022-06-30T14:44:55.719Z"
   },
   {
    "duration": 62,
    "start_time": "2022-06-30T14:44:55.737Z"
   },
   {
    "duration": 181,
    "start_time": "2022-06-30T14:44:55.801Z"
   },
   {
    "duration": 10,
    "start_time": "2022-06-30T14:44:55.984Z"
   },
   {
    "duration": 152,
    "start_time": "2022-06-30T14:44:55.996Z"
   },
   {
    "duration": 10,
    "start_time": "2022-06-30T14:44:56.150Z"
   },
   {
    "duration": 169,
    "start_time": "2022-06-30T14:44:56.161Z"
   },
   {
    "duration": 17,
    "start_time": "2022-06-30T14:44:56.338Z"
   },
   {
    "duration": 20,
    "start_time": "2022-06-30T14:44:56.359Z"
   },
   {
    "duration": 23,
    "start_time": "2022-06-30T14:44:56.381Z"
   },
   {
    "duration": 18,
    "start_time": "2022-06-30T14:44:56.406Z"
   },
   {
    "duration": 23,
    "start_time": "2022-06-30T14:44:56.428Z"
   },
   {
    "duration": 21,
    "start_time": "2022-06-30T14:44:56.452Z"
   },
   {
    "duration": 15,
    "start_time": "2022-06-30T14:44:56.474Z"
   },
   {
    "duration": 20,
    "start_time": "2022-06-30T14:44:56.490Z"
   },
   {
    "duration": 13,
    "start_time": "2022-06-30T14:44:56.512Z"
   },
   {
    "duration": 28,
    "start_time": "2022-06-30T14:44:56.530Z"
   },
   {
    "duration": 21,
    "start_time": "2022-06-30T14:44:56.560Z"
   },
   {
    "duration": 14,
    "start_time": "2022-06-30T14:44:56.583Z"
   },
   {
    "duration": 23,
    "start_time": "2022-06-30T14:44:56.599Z"
   },
   {
    "duration": 158,
    "start_time": "2022-06-30T14:50:16.800Z"
   },
   {
    "duration": 2779,
    "start_time": "2022-06-30T14:50:51.184Z"
   },
   {
    "duration": 181,
    "start_time": "2022-06-30T14:51:06.106Z"
   },
   {
    "duration": 231,
    "start_time": "2022-06-30T14:51:34.788Z"
   },
   {
    "duration": 161,
    "start_time": "2022-06-30T14:52:58.546Z"
   },
   {
    "duration": 16,
    "start_time": "2022-06-30T15:00:14.505Z"
   },
   {
    "duration": 15,
    "start_time": "2022-06-30T15:00:47.335Z"
   },
   {
    "duration": 11,
    "start_time": "2022-06-30T15:01:34.851Z"
   },
   {
    "duration": 78,
    "start_time": "2022-06-30T15:05:20.313Z"
   },
   {
    "duration": 10,
    "start_time": "2022-06-30T15:05:25.290Z"
   },
   {
    "duration": 1017,
    "start_time": "2022-06-30T15:18:00.259Z"
   },
   {
    "duration": 15,
    "start_time": "2022-06-30T15:18:01.279Z"
   },
   {
    "duration": 37,
    "start_time": "2022-06-30T15:18:01.296Z"
   },
   {
    "duration": 34,
    "start_time": "2022-06-30T15:18:01.338Z"
   },
   {
    "duration": 17,
    "start_time": "2022-06-30T15:18:01.374Z"
   },
   {
    "duration": 20,
    "start_time": "2022-06-30T15:18:01.394Z"
   },
   {
    "duration": 79,
    "start_time": "2022-06-30T15:18:01.416Z"
   },
   {
    "duration": 78,
    "start_time": "2022-06-30T15:18:01.497Z"
   },
   {
    "duration": 42,
    "start_time": "2022-06-30T15:18:01.578Z"
   },
   {
    "duration": 47,
    "start_time": "2022-06-30T15:18:01.624Z"
   },
   {
    "duration": 25,
    "start_time": "2022-06-30T15:18:01.681Z"
   },
   {
    "duration": 34,
    "start_time": "2022-06-30T15:18:01.708Z"
   },
   {
    "duration": 48,
    "start_time": "2022-06-30T15:18:01.744Z"
   },
   {
    "duration": 18,
    "start_time": "2022-06-30T15:18:01.794Z"
   },
   {
    "duration": 41,
    "start_time": "2022-06-30T15:18:01.815Z"
   },
   {
    "duration": 34,
    "start_time": "2022-06-30T15:18:01.858Z"
   },
   {
    "duration": 25,
    "start_time": "2022-06-30T15:18:01.894Z"
   },
   {
    "duration": 577,
    "start_time": "2022-06-30T15:18:01.921Z"
   },
   {
    "duration": 249,
    "start_time": "2022-06-30T15:18:02.500Z"
   },
   {
    "duration": 229,
    "start_time": "2022-06-30T15:18:02.752Z"
   },
   {
    "duration": 19,
    "start_time": "2022-06-30T15:18:02.983Z"
   },
   {
    "duration": 36,
    "start_time": "2022-06-30T15:18:03.004Z"
   },
   {
    "duration": 186,
    "start_time": "2022-06-30T15:18:03.042Z"
   },
   {
    "duration": 183,
    "start_time": "2022-06-30T15:18:03.230Z"
   },
   {
    "duration": 204,
    "start_time": "2022-06-30T15:18:03.415Z"
   },
   {
    "duration": 207,
    "start_time": "2022-06-30T15:18:03.622Z"
   },
   {
    "duration": 215,
    "start_time": "2022-06-30T15:18:03.833Z"
   },
   {
    "duration": 21,
    "start_time": "2022-06-30T15:18:04.056Z"
   },
   {
    "duration": 23,
    "start_time": "2022-06-30T15:18:04.079Z"
   },
   {
    "duration": 49,
    "start_time": "2022-06-30T15:18:04.104Z"
   },
   {
    "duration": 138,
    "start_time": "2022-06-30T15:18:04.155Z"
   },
   {
    "duration": 12,
    "start_time": "2022-06-30T15:18:04.295Z"
   },
   {
    "duration": 143,
    "start_time": "2022-06-30T15:18:04.309Z"
   },
   {
    "duration": 18,
    "start_time": "2022-06-30T15:18:04.454Z"
   },
   {
    "duration": 199,
    "start_time": "2022-06-30T15:18:04.474Z"
   },
   {
    "duration": 12,
    "start_time": "2022-06-30T15:18:04.675Z"
   },
   {
    "duration": 24,
    "start_time": "2022-06-30T15:18:04.689Z"
   },
   {
    "duration": 178,
    "start_time": "2022-06-30T15:18:04.715Z"
   },
   {
    "duration": 9,
    "start_time": "2022-06-30T15:18:04.895Z"
   },
   {
    "duration": 168,
    "start_time": "2022-06-30T15:18:04.906Z"
   },
   {
    "duration": 10,
    "start_time": "2022-06-30T15:18:05.076Z"
   },
   {
    "duration": 173,
    "start_time": "2022-06-30T15:18:05.087Z"
   },
   {
    "duration": 9,
    "start_time": "2022-06-30T15:18:05.262Z"
   },
   {
    "duration": 19,
    "start_time": "2022-06-30T15:18:05.273Z"
   },
   {
    "duration": 13,
    "start_time": "2022-06-30T15:18:05.294Z"
   },
   {
    "duration": 22,
    "start_time": "2022-06-30T15:18:05.309Z"
   },
   {
    "duration": 10,
    "start_time": "2022-06-30T15:18:05.332Z"
   },
   {
    "duration": 29,
    "start_time": "2022-06-30T15:18:05.344Z"
   },
   {
    "duration": 9,
    "start_time": "2022-06-30T15:18:05.375Z"
   },
   {
    "duration": 14,
    "start_time": "2022-06-30T15:18:05.385Z"
   },
   {
    "duration": 7,
    "start_time": "2022-06-30T15:18:05.401Z"
   },
   {
    "duration": 22,
    "start_time": "2022-06-30T15:18:05.410Z"
   },
   {
    "duration": 13,
    "start_time": "2022-06-30T15:18:05.435Z"
   },
   {
    "duration": 21,
    "start_time": "2022-06-30T15:18:05.451Z"
   },
   {
    "duration": 11,
    "start_time": "2022-06-30T15:18:05.474Z"
   },
   {
    "duration": 197,
    "start_time": "2022-06-30T15:18:05.487Z"
   },
   {
    "duration": 227,
    "start_time": "2022-06-30T15:18:05.686Z"
   },
   {
    "duration": 230,
    "start_time": "2022-06-30T15:18:05.915Z"
   },
   {
    "duration": 18,
    "start_time": "2022-06-30T15:18:06.147Z"
   },
   {
    "duration": 19,
    "start_time": "2022-06-30T15:18:06.167Z"
   },
   {
    "duration": 25,
    "start_time": "2022-06-30T15:21:00.251Z"
   },
   {
    "duration": 882,
    "start_time": "2022-06-30T15:48:28.524Z"
   },
   {
    "duration": 13,
    "start_time": "2022-06-30T15:48:29.408Z"
   },
   {
    "duration": 15,
    "start_time": "2022-06-30T15:48:29.422Z"
   },
   {
    "duration": 6,
    "start_time": "2022-06-30T15:48:29.439Z"
   },
   {
    "duration": 7,
    "start_time": "2022-06-30T15:48:29.447Z"
   },
   {
    "duration": 10,
    "start_time": "2022-06-30T15:48:29.455Z"
   },
   {
    "duration": 7,
    "start_time": "2022-06-30T15:48:29.466Z"
   },
   {
    "duration": 15,
    "start_time": "2022-06-30T15:48:29.475Z"
   },
   {
    "duration": 7,
    "start_time": "2022-06-30T15:48:29.492Z"
   },
   {
    "duration": 41,
    "start_time": "2022-06-30T15:48:29.501Z"
   },
   {
    "duration": 11,
    "start_time": "2022-06-30T15:48:29.544Z"
   },
   {
    "duration": 16,
    "start_time": "2022-06-30T15:48:29.557Z"
   },
   {
    "duration": 6,
    "start_time": "2022-06-30T15:48:29.574Z"
   },
   {
    "duration": 9,
    "start_time": "2022-06-30T15:48:29.583Z"
   },
   {
    "duration": 5,
    "start_time": "2022-06-30T15:48:29.593Z"
   },
   {
    "duration": 35,
    "start_time": "2022-06-30T15:48:29.599Z"
   },
   {
    "duration": 17,
    "start_time": "2022-06-30T15:48:29.636Z"
   },
   {
    "duration": 429,
    "start_time": "2022-06-30T15:48:29.654Z"
   },
   {
    "duration": 192,
    "start_time": "2022-06-30T15:48:30.085Z"
   },
   {
    "duration": 198,
    "start_time": "2022-06-30T15:48:30.279Z"
   },
   {
    "duration": 16,
    "start_time": "2022-06-30T15:48:30.479Z"
   },
   {
    "duration": 8,
    "start_time": "2022-06-30T15:48:30.497Z"
   },
   {
    "duration": 145,
    "start_time": "2022-06-30T15:48:30.506Z"
   },
   {
    "duration": 130,
    "start_time": "2022-06-30T15:48:30.652Z"
   },
   {
    "duration": 125,
    "start_time": "2022-06-30T15:48:30.784Z"
   },
   {
    "duration": 143,
    "start_time": "2022-06-30T15:48:30.911Z"
   },
   {
    "duration": 150,
    "start_time": "2022-06-30T15:48:31.056Z"
   },
   {
    "duration": 15,
    "start_time": "2022-06-30T15:48:31.207Z"
   },
   {
    "duration": 29,
    "start_time": "2022-06-30T15:48:31.230Z"
   },
   {
    "duration": 15,
    "start_time": "2022-06-30T15:48:31.260Z"
   },
   {
    "duration": 99,
    "start_time": "2022-06-30T15:48:31.276Z"
   },
   {
    "duration": 7,
    "start_time": "2022-06-30T15:48:31.377Z"
   },
   {
    "duration": 102,
    "start_time": "2022-06-30T15:48:31.386Z"
   },
   {
    "duration": 10,
    "start_time": "2022-06-30T15:48:31.490Z"
   },
   {
    "duration": 166,
    "start_time": "2022-06-30T15:48:31.501Z"
   },
   {
    "duration": 7,
    "start_time": "2022-06-30T15:48:31.669Z"
   },
   {
    "duration": 19,
    "start_time": "2022-06-30T15:48:31.677Z"
   },
   {
    "duration": 151,
    "start_time": "2022-06-30T15:48:31.697Z"
   },
   {
    "duration": 7,
    "start_time": "2022-06-30T15:48:31.850Z"
   },
   {
    "duration": 132,
    "start_time": "2022-06-30T15:48:31.859Z"
   },
   {
    "duration": 8,
    "start_time": "2022-06-30T15:48:31.995Z"
   },
   {
    "duration": 137,
    "start_time": "2022-06-30T15:48:32.004Z"
   },
   {
    "duration": 7,
    "start_time": "2022-06-30T15:48:32.142Z"
   },
   {
    "duration": 12,
    "start_time": "2022-06-30T15:48:32.151Z"
   },
   {
    "duration": 10,
    "start_time": "2022-06-30T15:48:32.165Z"
   },
   {
    "duration": 13,
    "start_time": "2022-06-30T15:48:32.176Z"
   },
   {
    "duration": 9,
    "start_time": "2022-06-30T15:48:32.190Z"
   },
   {
    "duration": 13,
    "start_time": "2022-06-30T15:48:32.200Z"
   },
   {
    "duration": 19,
    "start_time": "2022-06-30T15:48:32.215Z"
   },
   {
    "duration": 10,
    "start_time": "2022-06-30T15:48:32.235Z"
   },
   {
    "duration": 12,
    "start_time": "2022-06-30T15:48:32.247Z"
   },
   {
    "duration": 9,
    "start_time": "2022-06-30T15:48:32.261Z"
   },
   {
    "duration": 6,
    "start_time": "2022-06-30T15:48:32.271Z"
   },
   {
    "duration": 5,
    "start_time": "2022-06-30T15:48:32.279Z"
   },
   {
    "duration": 10,
    "start_time": "2022-06-30T15:48:32.286Z"
   },
   {
    "duration": 168,
    "start_time": "2022-06-30T15:48:32.298Z"
   },
   {
    "duration": 157,
    "start_time": "2022-06-30T15:48:32.468Z"
   },
   {
    "duration": 155,
    "start_time": "2022-06-30T15:48:32.629Z"
   },
   {
    "duration": 9,
    "start_time": "2022-06-30T15:48:32.786Z"
   },
   {
    "duration": 12,
    "start_time": "2022-06-30T15:48:32.796Z"
   },
   {
    "duration": 1877,
    "start_time": "2022-06-30T16:01:21.654Z"
   },
   {
    "duration": 1991,
    "start_time": "2022-06-30T16:01:44.017Z"
   },
   {
    "duration": 68,
    "start_time": "2022-06-30T16:02:14.212Z"
   },
   {
    "duration": 837,
    "start_time": "2022-06-30T21:23:17.560Z"
   },
   {
    "duration": 91,
    "start_time": "2022-06-30T21:23:18.856Z"
   },
   {
    "duration": 17,
    "start_time": "2022-06-30T21:30:22.809Z"
   },
   {
    "duration": 809,
    "start_time": "2022-06-30T21:31:46.228Z"
   },
   {
    "duration": 15,
    "start_time": "2022-06-30T21:32:45.476Z"
   },
   {
    "duration": 21,
    "start_time": "2022-06-30T21:33:27.787Z"
   },
   {
    "duration": 21,
    "start_time": "2022-06-30T21:33:33.297Z"
   },
   {
    "duration": 25,
    "start_time": "2022-06-30T21:34:05.270Z"
   },
   {
    "duration": 16,
    "start_time": "2022-06-30T21:34:08.430Z"
   },
   {
    "duration": 807,
    "start_time": "2022-06-30T21:34:17.602Z"
   },
   {
    "duration": 59,
    "start_time": "2022-06-30T21:34:18.412Z"
   },
   {
    "duration": 15,
    "start_time": "2022-06-30T21:34:18.474Z"
   },
   {
    "duration": 17,
    "start_time": "2022-06-30T21:34:18.491Z"
   },
   {
    "duration": 11,
    "start_time": "2022-06-30T21:34:18.511Z"
   },
   {
    "duration": 16,
    "start_time": "2022-06-30T21:34:18.524Z"
   },
   {
    "duration": 23,
    "start_time": "2022-06-30T21:34:18.542Z"
   },
   {
    "duration": 9,
    "start_time": "2022-06-30T21:34:18.567Z"
   },
   {
    "duration": 19,
    "start_time": "2022-06-30T21:34:18.578Z"
   },
   {
    "duration": 16,
    "start_time": "2022-06-30T21:34:18.598Z"
   },
   {
    "duration": 46,
    "start_time": "2022-06-30T21:34:18.616Z"
   },
   {
    "duration": 7,
    "start_time": "2022-06-30T21:34:18.664Z"
   },
   {
    "duration": 17,
    "start_time": "2022-06-30T21:34:18.673Z"
   },
   {
    "duration": 16,
    "start_time": "2022-06-30T21:34:18.693Z"
   },
   {
    "duration": 49,
    "start_time": "2022-06-30T21:34:18.711Z"
   },
   {
    "duration": 75,
    "start_time": "2022-06-30T21:34:18.762Z"
   },
   {
    "duration": 22,
    "start_time": "2022-06-30T21:34:18.839Z"
   },
   {
    "duration": 11,
    "start_time": "2022-06-30T21:34:18.863Z"
   },
   {
    "duration": 6,
    "start_time": "2022-06-30T21:34:18.876Z"
   },
   {
    "duration": 12,
    "start_time": "2022-06-30T21:34:18.883Z"
   },
   {
    "duration": 17,
    "start_time": "2022-06-30T21:34:18.897Z"
   },
   {
    "duration": 611,
    "start_time": "2022-06-30T21:34:18.916Z"
   },
   {
    "duration": 199,
    "start_time": "2022-06-30T21:34:19.529Z"
   },
   {
    "duration": 189,
    "start_time": "2022-06-30T21:34:19.730Z"
   },
   {
    "duration": 18,
    "start_time": "2022-06-30T21:34:19.922Z"
   },
   {
    "duration": 23,
    "start_time": "2022-06-30T21:34:19.942Z"
   },
   {
    "duration": 143,
    "start_time": "2022-06-30T21:34:19.967Z"
   },
   {
    "duration": 139,
    "start_time": "2022-06-30T21:34:20.112Z"
   },
   {
    "duration": 142,
    "start_time": "2022-06-30T21:34:20.258Z"
   },
   {
    "duration": 140,
    "start_time": "2022-06-30T21:34:20.402Z"
   },
   {
    "duration": 149,
    "start_time": "2022-06-30T21:34:20.544Z"
   },
   {
    "duration": 16,
    "start_time": "2022-06-30T21:34:20.694Z"
   },
   {
    "duration": 20,
    "start_time": "2022-06-30T21:34:20.711Z"
   },
   {
    "duration": 37,
    "start_time": "2022-06-30T21:34:20.733Z"
   },
   {
    "duration": 172,
    "start_time": "2022-06-30T21:34:20.772Z"
   },
   {
    "duration": 20,
    "start_time": "2022-06-30T21:34:20.946Z"
   },
   {
    "duration": 110,
    "start_time": "2022-06-30T21:34:20.968Z"
   },
   {
    "duration": 8,
    "start_time": "2022-06-30T21:34:21.080Z"
   },
   {
    "duration": 101,
    "start_time": "2022-06-30T21:34:21.089Z"
   },
   {
    "duration": 8,
    "start_time": "2022-06-30T21:34:21.192Z"
   },
   {
    "duration": 17,
    "start_time": "2022-06-30T21:34:21.204Z"
   },
   {
    "duration": 147,
    "start_time": "2022-06-30T21:34:21.222Z"
   },
   {
    "duration": 9,
    "start_time": "2022-06-30T21:34:21.370Z"
   },
   {
    "duration": 149,
    "start_time": "2022-06-30T21:34:21.381Z"
   },
   {
    "duration": 9,
    "start_time": "2022-06-30T21:34:21.532Z"
   },
   {
    "duration": 143,
    "start_time": "2022-06-30T21:34:21.542Z"
   },
   {
    "duration": 8,
    "start_time": "2022-06-30T21:34:21.686Z"
   },
   {
    "duration": 10,
    "start_time": "2022-06-30T21:34:21.695Z"
   },
   {
    "duration": 14,
    "start_time": "2022-06-30T21:34:21.706Z"
   },
   {
    "duration": 7,
    "start_time": "2022-06-30T21:34:21.721Z"
   },
   {
    "duration": 34,
    "start_time": "2022-06-30T21:34:21.730Z"
   },
   {
    "duration": 8,
    "start_time": "2022-06-30T21:34:21.766Z"
   },
   {
    "duration": 8,
    "start_time": "2022-06-30T21:34:21.776Z"
   },
   {
    "duration": 11,
    "start_time": "2022-06-30T21:34:21.785Z"
   },
   {
    "duration": 16,
    "start_time": "2022-06-30T21:34:21.797Z"
   },
   {
    "duration": 8,
    "start_time": "2022-06-30T21:34:21.815Z"
   },
   {
    "duration": 35,
    "start_time": "2022-06-30T21:34:21.824Z"
   },
   {
    "duration": 7,
    "start_time": "2022-06-30T21:34:21.860Z"
   },
   {
    "duration": 12,
    "start_time": "2022-06-30T21:34:21.868Z"
   },
   {
    "duration": 157,
    "start_time": "2022-06-30T21:34:21.881Z"
   },
   {
    "duration": 148,
    "start_time": "2022-06-30T21:34:22.040Z"
   },
   {
    "duration": 154,
    "start_time": "2022-06-30T21:34:22.190Z"
   },
   {
    "duration": 14,
    "start_time": "2022-06-30T21:34:22.346Z"
   },
   {
    "duration": 13,
    "start_time": "2022-06-30T21:34:22.361Z"
   },
   {
    "duration": 10,
    "start_time": "2022-06-30T21:38:39.544Z"
   },
   {
    "duration": 10,
    "start_time": "2022-06-30T21:38:51.875Z"
   },
   {
    "duration": 10,
    "start_time": "2022-06-30T21:39:23.402Z"
   },
   {
    "duration": 3,
    "start_time": "2022-06-30T21:39:31.283Z"
   },
   {
    "duration": 73,
    "start_time": "2022-06-30T21:39:31.288Z"
   },
   {
    "duration": 15,
    "start_time": "2022-06-30T21:39:31.362Z"
   },
   {
    "duration": 30,
    "start_time": "2022-06-30T21:39:31.378Z"
   },
   {
    "duration": 13,
    "start_time": "2022-06-30T21:39:31.410Z"
   },
   {
    "duration": 36,
    "start_time": "2022-06-30T21:39:31.425Z"
   },
   {
    "duration": 22,
    "start_time": "2022-06-30T21:39:31.462Z"
   },
   {
    "duration": 21,
    "start_time": "2022-06-30T21:39:31.486Z"
   },
   {
    "duration": 53,
    "start_time": "2022-06-30T21:39:31.509Z"
   },
   {
    "duration": 16,
    "start_time": "2022-06-30T21:39:31.564Z"
   },
   {
    "duration": 25,
    "start_time": "2022-06-30T21:39:31.581Z"
   },
   {
    "duration": 33,
    "start_time": "2022-06-30T21:39:31.607Z"
   },
   {
    "duration": 37,
    "start_time": "2022-06-30T21:39:31.643Z"
   },
   {
    "duration": 26,
    "start_time": "2022-06-30T21:39:31.682Z"
   },
   {
    "duration": 24,
    "start_time": "2022-06-30T21:39:31.710Z"
   },
   {
    "duration": 95,
    "start_time": "2022-06-30T21:39:31.735Z"
   },
   {
    "duration": 6,
    "start_time": "2022-06-30T21:39:31.832Z"
   },
   {
    "duration": 36,
    "start_time": "2022-06-30T21:39:31.839Z"
   },
   {
    "duration": 31,
    "start_time": "2022-06-30T21:39:31.877Z"
   },
   {
    "duration": 26,
    "start_time": "2022-06-30T21:39:31.909Z"
   },
   {
    "duration": 29,
    "start_time": "2022-06-30T21:39:31.936Z"
   },
   {
    "duration": 171,
    "start_time": "2022-06-30T21:39:31.967Z"
   },
   {
    "duration": 194,
    "start_time": "2022-06-30T21:39:32.141Z"
   },
   {
    "duration": 184,
    "start_time": "2022-06-30T21:39:32.337Z"
   },
   {
    "duration": 19,
    "start_time": "2022-06-30T21:39:32.524Z"
   },
   {
    "duration": 40,
    "start_time": "2022-06-30T21:39:32.545Z"
   },
   {
    "duration": 235,
    "start_time": "2022-06-30T21:39:32.587Z"
   },
   {
    "duration": 145,
    "start_time": "2022-06-30T21:39:32.824Z"
   },
   {
    "duration": 159,
    "start_time": "2022-06-30T21:39:32.971Z"
   },
   {
    "duration": 135,
    "start_time": "2022-06-30T21:39:33.132Z"
   },
   {
    "duration": 138,
    "start_time": "2022-06-30T21:39:33.269Z"
   },
   {
    "duration": 15,
    "start_time": "2022-06-30T21:39:33.409Z"
   },
   {
    "duration": 34,
    "start_time": "2022-06-30T21:39:33.426Z"
   },
   {
    "duration": 18,
    "start_time": "2022-06-30T21:39:33.461Z"
   },
   {
    "duration": 106,
    "start_time": "2022-06-30T21:39:33.483Z"
   },
   {
    "duration": 8,
    "start_time": "2022-06-30T21:39:33.591Z"
   },
   {
    "duration": 98,
    "start_time": "2022-06-30T21:39:33.600Z"
   },
   {
    "duration": 7,
    "start_time": "2022-06-30T21:39:33.700Z"
   },
   {
    "duration": 99,
    "start_time": "2022-06-30T21:39:33.708Z"
   },
   {
    "duration": 7,
    "start_time": "2022-06-30T21:39:33.809Z"
   },
   {
    "duration": 20,
    "start_time": "2022-06-30T21:39:33.818Z"
   },
   {
    "duration": 140,
    "start_time": "2022-06-30T21:39:33.840Z"
   },
   {
    "duration": 9,
    "start_time": "2022-06-30T21:39:33.982Z"
   },
   {
    "duration": 132,
    "start_time": "2022-06-30T21:39:33.993Z"
   },
   {
    "duration": 8,
    "start_time": "2022-06-30T21:39:34.127Z"
   },
   {
    "duration": 135,
    "start_time": "2022-06-30T21:39:34.137Z"
   },
   {
    "duration": 8,
    "start_time": "2022-06-30T21:39:34.273Z"
   },
   {
    "duration": 18,
    "start_time": "2022-06-30T21:39:34.283Z"
   },
   {
    "duration": 10,
    "start_time": "2022-06-30T21:39:34.303Z"
   },
   {
    "duration": 9,
    "start_time": "2022-06-30T21:39:34.314Z"
   },
   {
    "duration": 12,
    "start_time": "2022-06-30T21:39:34.325Z"
   },
   {
    "duration": 20,
    "start_time": "2022-06-30T21:39:34.339Z"
   },
   {
    "duration": 6,
    "start_time": "2022-06-30T21:39:34.361Z"
   },
   {
    "duration": 9,
    "start_time": "2022-06-30T21:39:34.368Z"
   },
   {
    "duration": 6,
    "start_time": "2022-06-30T21:39:34.378Z"
   },
   {
    "duration": 5,
    "start_time": "2022-06-30T21:39:34.386Z"
   },
   {
    "duration": 6,
    "start_time": "2022-06-30T21:39:34.392Z"
   },
   {
    "duration": 7,
    "start_time": "2022-06-30T21:39:34.399Z"
   },
   {
    "duration": 9,
    "start_time": "2022-06-30T21:39:34.407Z"
   },
   {
    "duration": 181,
    "start_time": "2022-06-30T21:39:34.417Z"
   },
   {
    "duration": 179,
    "start_time": "2022-06-30T21:39:34.600Z"
   },
   {
    "duration": 159,
    "start_time": "2022-06-30T21:39:34.780Z"
   },
   {
    "duration": 10,
    "start_time": "2022-06-30T21:39:34.941Z"
   },
   {
    "duration": 10,
    "start_time": "2022-06-30T21:39:34.959Z"
   },
   {
    "duration": 15,
    "start_time": "2022-06-30T21:39:51.594Z"
   },
   {
    "duration": 3,
    "start_time": "2022-06-30T21:39:57.685Z"
   },
   {
    "duration": 63,
    "start_time": "2022-06-30T21:39:57.690Z"
   },
   {
    "duration": 16,
    "start_time": "2022-06-30T21:39:57.756Z"
   },
   {
    "duration": 18,
    "start_time": "2022-06-30T21:39:57.774Z"
   },
   {
    "duration": 11,
    "start_time": "2022-06-30T21:39:57.794Z"
   },
   {
    "duration": 11,
    "start_time": "2022-06-30T21:39:57.807Z"
   },
   {
    "duration": 9,
    "start_time": "2022-06-30T21:39:57.820Z"
   },
   {
    "duration": 8,
    "start_time": "2022-06-30T21:39:57.859Z"
   },
   {
    "duration": 25,
    "start_time": "2022-06-30T21:39:57.868Z"
   },
   {
    "duration": 17,
    "start_time": "2022-06-30T21:39:57.895Z"
   },
   {
    "duration": 10,
    "start_time": "2022-06-30T21:39:57.915Z"
   },
   {
    "duration": 41,
    "start_time": "2022-06-30T21:39:57.927Z"
   },
   {
    "duration": 21,
    "start_time": "2022-06-30T21:39:57.970Z"
   },
   {
    "duration": 14,
    "start_time": "2022-06-30T21:39:57.992Z"
   },
   {
    "duration": 16,
    "start_time": "2022-06-30T21:39:58.008Z"
   },
   {
    "duration": 105,
    "start_time": "2022-06-30T21:39:58.026Z"
   },
   {
    "duration": 29,
    "start_time": "2022-06-30T21:39:58.133Z"
   },
   {
    "duration": 8,
    "start_time": "2022-06-30T21:39:58.164Z"
   },
   {
    "duration": 5,
    "start_time": "2022-06-30T21:39:58.173Z"
   },
   {
    "duration": 11,
    "start_time": "2022-06-30T21:39:58.180Z"
   },
   {
    "duration": 18,
    "start_time": "2022-06-30T21:39:58.193Z"
   },
   {
    "duration": 207,
    "start_time": "2022-06-30T21:39:58.213Z"
   },
   {
    "duration": 295,
    "start_time": "2022-06-30T21:39:58.422Z"
   },
   {
    "duration": 198,
    "start_time": "2022-06-30T21:39:58.718Z"
   },
   {
    "duration": 17,
    "start_time": "2022-06-30T21:39:58.918Z"
   },
   {
    "duration": 23,
    "start_time": "2022-06-30T21:39:58.937Z"
   },
   {
    "duration": 171,
    "start_time": "2022-06-30T21:39:58.962Z"
   },
   {
    "duration": 136,
    "start_time": "2022-06-30T21:39:59.136Z"
   },
   {
    "duration": 206,
    "start_time": "2022-06-30T21:39:59.273Z"
   },
   {
    "duration": 193,
    "start_time": "2022-06-30T21:39:59.481Z"
   },
   {
    "duration": 147,
    "start_time": "2022-06-30T21:39:59.675Z"
   },
   {
    "duration": 15,
    "start_time": "2022-06-30T21:39:59.824Z"
   },
   {
    "duration": 30,
    "start_time": "2022-06-30T21:39:59.841Z"
   },
   {
    "duration": 16,
    "start_time": "2022-06-30T21:39:59.872Z"
   },
   {
    "duration": 113,
    "start_time": "2022-06-30T21:39:59.890Z"
   },
   {
    "duration": 9,
    "start_time": "2022-06-30T21:40:00.004Z"
   },
   {
    "duration": 113,
    "start_time": "2022-06-30T21:40:00.015Z"
   },
   {
    "duration": 7,
    "start_time": "2022-06-30T21:40:00.130Z"
   },
   {
    "duration": 99,
    "start_time": "2022-06-30T21:40:00.138Z"
   },
   {
    "duration": 7,
    "start_time": "2022-06-30T21:40:00.238Z"
   },
   {
    "duration": 28,
    "start_time": "2022-06-30T21:40:00.258Z"
   },
   {
    "duration": 139,
    "start_time": "2022-06-30T21:40:00.287Z"
   },
   {
    "duration": 8,
    "start_time": "2022-06-30T21:40:00.428Z"
   },
   {
    "duration": 197,
    "start_time": "2022-06-30T21:40:00.437Z"
   },
   {
    "duration": 9,
    "start_time": "2022-06-30T21:40:00.635Z"
   },
   {
    "duration": 163,
    "start_time": "2022-06-30T21:40:00.645Z"
   },
   {
    "duration": 9,
    "start_time": "2022-06-30T21:40:00.810Z"
   },
   {
    "duration": 22,
    "start_time": "2022-06-30T21:40:00.821Z"
   },
   {
    "duration": 17,
    "start_time": "2022-06-30T21:40:00.845Z"
   },
   {
    "duration": 12,
    "start_time": "2022-06-30T21:40:00.864Z"
   },
   {
    "duration": 13,
    "start_time": "2022-06-30T21:40:00.878Z"
   },
   {
    "duration": 51,
    "start_time": "2022-06-30T21:40:00.893Z"
   },
   {
    "duration": 25,
    "start_time": "2022-06-30T21:40:00.945Z"
   },
   {
    "duration": 13,
    "start_time": "2022-06-30T21:40:00.971Z"
   },
   {
    "duration": 13,
    "start_time": "2022-06-30T21:40:00.986Z"
   },
   {
    "duration": 17,
    "start_time": "2022-06-30T21:40:01.001Z"
   },
   {
    "duration": 18,
    "start_time": "2022-06-30T21:40:01.020Z"
   },
   {
    "duration": 29,
    "start_time": "2022-06-30T21:40:01.040Z"
   },
   {
    "duration": 30,
    "start_time": "2022-06-30T21:40:01.071Z"
   },
   {
    "duration": 189,
    "start_time": "2022-06-30T21:40:01.103Z"
   },
   {
    "duration": 166,
    "start_time": "2022-06-30T21:40:01.293Z"
   },
   {
    "duration": 160,
    "start_time": "2022-06-30T21:40:01.460Z"
   },
   {
    "duration": 9,
    "start_time": "2022-06-30T21:40:01.622Z"
   },
   {
    "duration": 25,
    "start_time": "2022-06-30T21:40:01.633Z"
   },
   {
    "duration": 18,
    "start_time": "2022-06-30T21:44:22.840Z"
   },
   {
    "duration": 29,
    "start_time": "2022-06-30T21:46:19.660Z"
   },
   {
    "duration": 19,
    "start_time": "2022-06-30T21:46:23.920Z"
   },
   {
    "duration": 16,
    "start_time": "2022-06-30T21:47:13.278Z"
   },
   {
    "duration": 20,
    "start_time": "2022-06-30T21:48:55.694Z"
   },
   {
    "duration": 891,
    "start_time": "2022-06-30T21:49:38.529Z"
   },
   {
    "duration": 58,
    "start_time": "2022-06-30T21:49:39.422Z"
   },
   {
    "duration": 15,
    "start_time": "2022-06-30T21:49:39.482Z"
   },
   {
    "duration": 17,
    "start_time": "2022-06-30T21:49:39.498Z"
   },
   {
    "duration": 12,
    "start_time": "2022-06-30T21:49:39.517Z"
   },
   {
    "duration": 8,
    "start_time": "2022-06-30T21:49:39.531Z"
   },
   {
    "duration": 8,
    "start_time": "2022-06-30T21:49:39.559Z"
   },
   {
    "duration": 11,
    "start_time": "2022-06-30T21:49:39.569Z"
   },
   {
    "duration": 24,
    "start_time": "2022-06-30T21:49:39.582Z"
   },
   {
    "duration": 22,
    "start_time": "2022-06-30T21:49:39.609Z"
   },
   {
    "duration": 8,
    "start_time": "2022-06-30T21:49:39.659Z"
   },
   {
    "duration": 11,
    "start_time": "2022-06-30T21:49:39.669Z"
   },
   {
    "duration": 23,
    "start_time": "2022-06-30T21:49:39.681Z"
   },
   {
    "duration": 14,
    "start_time": "2022-06-30T21:49:39.707Z"
   },
   {
    "duration": 47,
    "start_time": "2022-06-30T21:49:39.723Z"
   },
   {
    "duration": 90,
    "start_time": "2022-06-30T21:49:39.772Z"
   },
   {
    "duration": 6,
    "start_time": "2022-06-30T21:49:39.864Z"
   },
   {
    "duration": 9,
    "start_time": "2022-06-30T21:49:39.872Z"
   },
   {
    "duration": 5,
    "start_time": "2022-06-30T21:49:39.883Z"
   },
   {
    "duration": 12,
    "start_time": "2022-06-30T21:49:39.889Z"
   },
   {
    "duration": 21,
    "start_time": "2022-06-30T21:49:39.903Z"
   },
   {
    "duration": 457,
    "start_time": "2022-06-30T21:49:39.926Z"
   },
   {
    "duration": 204,
    "start_time": "2022-06-30T21:49:40.385Z"
   },
   {
    "duration": 211,
    "start_time": "2022-06-30T21:49:40.590Z"
   },
   {
    "duration": 17,
    "start_time": "2022-06-30T21:49:40.803Z"
   },
   {
    "duration": 9,
    "start_time": "2022-06-30T21:49:40.822Z"
   },
   {
    "duration": 155,
    "start_time": "2022-06-30T21:49:40.832Z"
   },
   {
    "duration": 149,
    "start_time": "2022-06-30T21:49:40.989Z"
   },
   {
    "duration": 137,
    "start_time": "2022-06-30T21:49:41.140Z"
   },
   {
    "duration": 137,
    "start_time": "2022-06-30T21:49:41.279Z"
   },
   {
    "duration": 146,
    "start_time": "2022-06-30T21:49:41.418Z"
   },
   {
    "duration": 16,
    "start_time": "2022-06-30T21:49:41.566Z"
   },
   {
    "duration": 12,
    "start_time": "2022-06-30T21:49:41.583Z"
   },
   {
    "duration": 20,
    "start_time": "2022-06-30T21:49:41.597Z"
   },
   {
    "duration": 127,
    "start_time": "2022-06-30T21:49:41.619Z"
   },
   {
    "duration": 11,
    "start_time": "2022-06-30T21:49:41.748Z"
   },
   {
    "duration": 126,
    "start_time": "2022-06-30T21:49:41.762Z"
   },
   {
    "duration": 7,
    "start_time": "2022-06-30T21:49:41.890Z"
   },
   {
    "duration": 108,
    "start_time": "2022-06-30T21:49:41.900Z"
   },
   {
    "duration": 8,
    "start_time": "2022-06-30T21:49:42.009Z"
   },
   {
    "duration": 17,
    "start_time": "2022-06-30T21:49:42.021Z"
   },
   {
    "duration": 259,
    "start_time": "2022-06-30T21:49:42.039Z"
   },
   {
    "duration": 8,
    "start_time": "2022-06-30T21:49:42.300Z"
   },
   {
    "duration": 149,
    "start_time": "2022-06-30T21:49:42.310Z"
   },
   {
    "duration": 8,
    "start_time": "2022-06-30T21:49:42.460Z"
   },
   {
    "duration": 148,
    "start_time": "2022-06-30T21:49:42.470Z"
   },
   {
    "duration": 8,
    "start_time": "2022-06-30T21:49:42.619Z"
   },
   {
    "duration": 9,
    "start_time": "2022-06-30T21:49:42.629Z"
   },
   {
    "duration": 25,
    "start_time": "2022-06-30T21:49:42.640Z"
   },
   {
    "duration": 11,
    "start_time": "2022-06-30T21:49:42.667Z"
   },
   {
    "duration": 18,
    "start_time": "2022-06-30T21:49:42.680Z"
   },
   {
    "duration": 16,
    "start_time": "2022-06-30T21:49:42.700Z"
   },
   {
    "duration": 8,
    "start_time": "2022-06-30T21:49:42.718Z"
   },
   {
    "duration": 10,
    "start_time": "2022-06-30T21:49:42.727Z"
   },
   {
    "duration": 21,
    "start_time": "2022-06-30T21:49:42.739Z"
   },
   {
    "duration": 7,
    "start_time": "2022-06-30T21:49:42.761Z"
   },
   {
    "duration": 9,
    "start_time": "2022-06-30T21:49:42.770Z"
   },
   {
    "duration": 13,
    "start_time": "2022-06-30T21:49:42.781Z"
   },
   {
    "duration": 12,
    "start_time": "2022-06-30T21:49:42.795Z"
   },
   {
    "duration": 176,
    "start_time": "2022-06-30T21:49:42.808Z"
   },
   {
    "duration": 187,
    "start_time": "2022-06-30T21:49:42.986Z"
   },
   {
    "duration": 169,
    "start_time": "2022-06-30T21:49:43.175Z"
   },
   {
    "duration": 18,
    "start_time": "2022-06-30T21:49:43.346Z"
   },
   {
    "duration": 16,
    "start_time": "2022-06-30T21:49:43.366Z"
   },
   {
    "duration": 290,
    "start_time": "2022-06-30T21:51:05.404Z"
   },
   {
    "duration": 340,
    "start_time": "2022-06-30T21:51:24.875Z"
   },
   {
    "duration": 392,
    "start_time": "2022-06-30T21:51:33.820Z"
   },
   {
    "duration": 259,
    "start_time": "2022-06-30T21:52:23.672Z"
   },
   {
    "duration": 3,
    "start_time": "2022-06-30T21:56:59.219Z"
   },
   {
    "duration": 83,
    "start_time": "2022-06-30T22:02:45.135Z"
   },
   {
    "duration": 114,
    "start_time": "2022-06-30T22:03:02.935Z"
   },
   {
    "duration": 105,
    "start_time": "2022-06-30T22:03:12.355Z"
   },
   {
    "duration": 87,
    "start_time": "2022-06-30T22:03:35.734Z"
   },
   {
    "duration": 15,
    "start_time": "2022-06-30T22:07:24.093Z"
   },
   {
    "duration": 842,
    "start_time": "2022-06-30T22:07:38.556Z"
   },
   {
    "duration": 58,
    "start_time": "2022-06-30T22:07:39.400Z"
   },
   {
    "duration": 14,
    "start_time": "2022-06-30T22:07:39.460Z"
   },
   {
    "duration": 19,
    "start_time": "2022-06-30T22:07:39.475Z"
   },
   {
    "duration": 5,
    "start_time": "2022-06-30T22:07:39.497Z"
   },
   {
    "duration": 10,
    "start_time": "2022-06-30T22:07:39.503Z"
   },
   {
    "duration": 12,
    "start_time": "2022-06-30T22:07:39.514Z"
   },
   {
    "duration": 31,
    "start_time": "2022-06-30T22:07:39.528Z"
   },
   {
    "duration": 16,
    "start_time": "2022-06-30T22:07:39.560Z"
   },
   {
    "duration": 16,
    "start_time": "2022-06-30T22:07:39.578Z"
   },
   {
    "duration": 20,
    "start_time": "2022-06-30T22:07:39.596Z"
   },
   {
    "duration": 9,
    "start_time": "2022-06-30T22:07:39.617Z"
   },
   {
    "duration": 40,
    "start_time": "2022-06-30T22:07:39.627Z"
   },
   {
    "duration": 18,
    "start_time": "2022-06-30T22:07:39.671Z"
   },
   {
    "duration": 13,
    "start_time": "2022-06-30T22:07:39.690Z"
   },
   {
    "duration": 18,
    "start_time": "2022-06-30T22:07:39.704Z"
   },
   {
    "duration": 107,
    "start_time": "2022-06-30T22:07:39.723Z"
   },
   {
    "duration": 6,
    "start_time": "2022-06-30T22:07:39.832Z"
   },
   {
    "duration": 24,
    "start_time": "2022-06-30T22:07:39.841Z"
   },
   {
    "duration": 580,
    "start_time": "2022-06-30T22:07:39.867Z"
   },
   {
    "duration": 11,
    "start_time": "2022-06-30T22:07:40.449Z"
   },
   {
    "duration": 12,
    "start_time": "2022-06-30T22:07:40.461Z"
   },
   {
    "duration": 257,
    "start_time": "2022-06-30T22:07:40.475Z"
   },
   {
    "duration": 27,
    "start_time": "2022-06-30T22:07:40.734Z"
   },
   {
    "duration": 175,
    "start_time": "2022-06-30T22:07:40.763Z"
   },
   {
    "duration": 187,
    "start_time": "2022-06-30T22:07:40.940Z"
   },
   {
    "duration": 188,
    "start_time": "2022-06-30T22:07:41.129Z"
   },
   {
    "duration": 17,
    "start_time": "2022-06-30T22:07:41.319Z"
   },
   {
    "duration": 23,
    "start_time": "2022-06-30T22:07:41.337Z"
   },
   {
    "duration": 134,
    "start_time": "2022-06-30T22:07:41.362Z"
   },
   {
    "duration": 140,
    "start_time": "2022-06-30T22:07:41.498Z"
   },
   {
    "duration": 157,
    "start_time": "2022-06-30T22:07:41.642Z"
   },
   {
    "duration": 159,
    "start_time": "2022-06-30T22:07:41.801Z"
   },
   {
    "duration": 220,
    "start_time": "2022-06-30T22:07:41.962Z"
   },
   {
    "duration": 15,
    "start_time": "2022-06-30T22:07:42.184Z"
   },
   {
    "duration": 4,
    "start_time": "2022-06-30T22:07:42.200Z"
   },
   {
    "duration": 21,
    "start_time": "2022-06-30T22:07:42.205Z"
   },
   {
    "duration": 117,
    "start_time": "2022-06-30T22:07:42.228Z"
   },
   {
    "duration": 17,
    "start_time": "2022-06-30T22:07:42.347Z"
   },
   {
    "duration": 117,
    "start_time": "2022-06-30T22:07:42.366Z"
   },
   {
    "duration": 8,
    "start_time": "2022-06-30T22:07:42.487Z"
   },
   {
    "duration": 111,
    "start_time": "2022-06-30T22:07:42.496Z"
   },
   {
    "duration": 12,
    "start_time": "2022-06-30T22:07:42.608Z"
   },
   {
    "duration": 21,
    "start_time": "2022-06-30T22:07:42.622Z"
   },
   {
    "duration": 152,
    "start_time": "2022-06-30T22:07:42.645Z"
   },
   {
    "duration": 8,
    "start_time": "2022-06-30T22:07:42.799Z"
   },
   {
    "duration": 157,
    "start_time": "2022-06-30T22:07:42.808Z"
   },
   {
    "duration": 8,
    "start_time": "2022-06-30T22:07:42.967Z"
   },
   {
    "duration": 176,
    "start_time": "2022-06-30T22:07:42.976Z"
   },
   {
    "duration": 8,
    "start_time": "2022-06-30T22:07:43.158Z"
   },
   {
    "duration": 14,
    "start_time": "2022-06-30T22:07:43.168Z"
   },
   {
    "duration": 20,
    "start_time": "2022-06-30T22:07:43.183Z"
   },
   {
    "duration": 15,
    "start_time": "2022-06-30T22:07:43.204Z"
   },
   {
    "duration": 11,
    "start_time": "2022-06-30T22:07:43.220Z"
   },
   {
    "duration": 23,
    "start_time": "2022-06-30T22:07:43.233Z"
   },
   {
    "duration": 34,
    "start_time": "2022-06-30T22:07:43.258Z"
   },
   {
    "duration": 9,
    "start_time": "2022-06-30T22:07:43.293Z"
   },
   {
    "duration": 17,
    "start_time": "2022-06-30T22:07:43.304Z"
   },
   {
    "duration": 8,
    "start_time": "2022-06-30T22:07:43.322Z"
   },
   {
    "duration": 13,
    "start_time": "2022-06-30T22:07:43.332Z"
   },
   {
    "duration": 11,
    "start_time": "2022-06-30T22:07:43.353Z"
   },
   {
    "duration": 14,
    "start_time": "2022-06-30T22:07:43.366Z"
   },
   {
    "duration": 150,
    "start_time": "2022-06-30T22:07:43.381Z"
   },
   {
    "duration": 163,
    "start_time": "2022-06-30T22:07:43.533Z"
   },
   {
    "duration": 164,
    "start_time": "2022-06-30T22:07:43.698Z"
   },
   {
    "duration": 10,
    "start_time": "2022-06-30T22:07:43.864Z"
   },
   {
    "duration": 22,
    "start_time": "2022-06-30T22:07:43.876Z"
   },
   {
    "duration": 139,
    "start_time": "2022-06-30T22:08:30.557Z"
   },
   {
    "duration": 149,
    "start_time": "2022-06-30T22:09:07.754Z"
   },
   {
    "duration": 120,
    "start_time": "2022-06-30T22:10:36.943Z"
   },
   {
    "duration": 9,
    "start_time": "2022-06-30T22:11:09.019Z"
   },
   {
    "duration": 128,
    "start_time": "2022-06-30T22:11:25.454Z"
   },
   {
    "duration": 5,
    "start_time": "2022-06-30T22:20:26.212Z"
   },
   {
    "duration": 5,
    "start_time": "2022-06-30T22:20:36.974Z"
   },
   {
    "duration": 5,
    "start_time": "2022-06-30T22:23:46.325Z"
   },
   {
    "duration": 33,
    "start_time": "2022-06-30T22:23:53.283Z"
   },
   {
    "duration": 6,
    "start_time": "2022-06-30T22:24:01.431Z"
   },
   {
    "duration": 243,
    "start_time": "2022-06-30T22:25:53.044Z"
   },
   {
    "duration": 123,
    "start_time": "2022-06-30T22:26:16.715Z"
   },
   {
    "duration": 139,
    "start_time": "2022-06-30T22:26:30.838Z"
   },
   {
    "duration": 141,
    "start_time": "2022-06-30T22:26:49.776Z"
   },
   {
    "duration": 10,
    "start_time": "2022-06-30T22:28:17.356Z"
   },
   {
    "duration": 9,
    "start_time": "2022-06-30T22:28:28.675Z"
   },
   {
    "duration": 8,
    "start_time": "2022-06-30T22:28:38.716Z"
   },
   {
    "duration": 9,
    "start_time": "2022-06-30T22:28:52.215Z"
   },
   {
    "duration": 48,
    "start_time": "2022-06-30T22:29:34.136Z"
   },
   {
    "duration": 11,
    "start_time": "2022-06-30T22:29:42.256Z"
   },
   {
    "duration": 88,
    "start_time": "2022-06-30T22:31:15.129Z"
   },
   {
    "duration": 107,
    "start_time": "2022-06-30T22:31:23.829Z"
   },
   {
    "duration": 119,
    "start_time": "2022-06-30T22:31:30.569Z"
   },
   {
    "duration": 106,
    "start_time": "2022-06-30T22:31:36.230Z"
   },
   {
    "duration": 90,
    "start_time": "2022-06-30T22:31:55.930Z"
   },
   {
    "duration": 86,
    "start_time": "2022-06-30T22:32:11.329Z"
   },
   {
    "duration": 10,
    "start_time": "2022-06-30T22:33:45.509Z"
   },
   {
    "duration": 14,
    "start_time": "2022-06-30T22:36:22.329Z"
   },
   {
    "duration": 4,
    "start_time": "2022-06-30T22:36:27.469Z"
   },
   {
    "duration": 71,
    "start_time": "2022-06-30T22:36:27.476Z"
   },
   {
    "duration": 14,
    "start_time": "2022-06-30T22:36:27.549Z"
   },
   {
    "duration": 16,
    "start_time": "2022-06-30T22:36:27.564Z"
   },
   {
    "duration": 8,
    "start_time": "2022-06-30T22:36:27.582Z"
   },
   {
    "duration": 14,
    "start_time": "2022-06-30T22:36:27.592Z"
   },
   {
    "duration": 10,
    "start_time": "2022-06-30T22:36:27.608Z"
   },
   {
    "duration": 39,
    "start_time": "2022-06-30T22:36:27.620Z"
   },
   {
    "duration": 23,
    "start_time": "2022-06-30T22:36:27.661Z"
   },
   {
    "duration": 16,
    "start_time": "2022-06-30T22:36:27.685Z"
   },
   {
    "duration": 20,
    "start_time": "2022-06-30T22:36:27.704Z"
   },
   {
    "duration": 39,
    "start_time": "2022-06-30T22:36:27.726Z"
   },
   {
    "duration": 10,
    "start_time": "2022-06-30T22:36:27.767Z"
   },
   {
    "duration": 18,
    "start_time": "2022-06-30T22:36:27.779Z"
   },
   {
    "duration": 13,
    "start_time": "2022-06-30T22:36:27.799Z"
   },
   {
    "duration": 18,
    "start_time": "2022-06-30T22:36:27.858Z"
   },
   {
    "duration": 112,
    "start_time": "2022-06-30T22:36:27.877Z"
   },
   {
    "duration": 8,
    "start_time": "2022-06-30T22:36:27.992Z"
   },
   {
    "duration": 11,
    "start_time": "2022-06-30T22:36:28.002Z"
   },
   {
    "duration": 348,
    "start_time": "2022-06-30T22:36:28.015Z"
   },
   {
    "duration": 5,
    "start_time": "2022-06-30T22:36:28.365Z"
   },
   {
    "duration": 16,
    "start_time": "2022-06-30T22:36:28.372Z"
   },
   {
    "duration": 280,
    "start_time": "2022-06-30T22:36:28.389Z"
   },
   {
    "duration": 18,
    "start_time": "2022-06-30T22:36:28.671Z"
   },
   {
    "duration": 196,
    "start_time": "2022-06-30T22:36:28.691Z"
   },
   {
    "duration": 201,
    "start_time": "2022-06-30T22:36:28.888Z"
   },
   {
    "duration": 306,
    "start_time": "2022-06-30T22:36:29.091Z"
   },
   {
    "duration": 19,
    "start_time": "2022-06-30T22:36:29.399Z"
   },
   {
    "duration": 7,
    "start_time": "2022-06-30T22:36:29.422Z"
   },
   {
    "duration": 153,
    "start_time": "2022-06-30T22:36:29.431Z"
   },
   {
    "duration": 153,
    "start_time": "2022-06-30T22:36:29.586Z"
   },
   {
    "duration": 145,
    "start_time": "2022-06-30T22:36:29.741Z"
   },
   {
    "duration": 153,
    "start_time": "2022-06-30T22:36:29.887Z"
   },
   {
    "duration": 158,
    "start_time": "2022-06-30T22:36:30.042Z"
   },
   {
    "duration": 16,
    "start_time": "2022-06-30T22:36:30.202Z"
   },
   {
    "duration": 7,
    "start_time": "2022-06-30T22:36:30.220Z"
   },
   {
    "duration": 35,
    "start_time": "2022-06-30T22:36:30.229Z"
   },
   {
    "duration": 132,
    "start_time": "2022-06-30T22:36:30.265Z"
   },
   {
    "duration": 8,
    "start_time": "2022-06-30T22:36:30.399Z"
   },
   {
    "duration": 104,
    "start_time": "2022-06-30T22:36:30.409Z"
   },
   {
    "duration": 8,
    "start_time": "2022-06-30T22:36:30.515Z"
   },
   {
    "duration": 159,
    "start_time": "2022-06-30T22:36:30.525Z"
   },
   {
    "duration": 8,
    "start_time": "2022-06-30T22:36:30.686Z"
   },
   {
    "duration": 29,
    "start_time": "2022-06-30T22:36:30.696Z"
   },
   {
    "duration": 185,
    "start_time": "2022-06-30T22:36:30.727Z"
   },
   {
    "duration": 10,
    "start_time": "2022-06-30T22:36:30.914Z"
   },
   {
    "duration": 143,
    "start_time": "2022-06-30T22:36:30.925Z"
   },
   {
    "duration": 9,
    "start_time": "2022-06-30T22:36:31.070Z"
   },
   {
    "duration": 154,
    "start_time": "2022-06-30T22:36:31.081Z"
   },
   {
    "duration": 21,
    "start_time": "2022-06-30T22:36:31.237Z"
   },
   {
    "duration": 159,
    "start_time": "2022-06-30T22:36:31.261Z"
   },
   {
    "duration": 8,
    "start_time": "2022-06-30T22:36:31.422Z"
   },
   {
    "duration": 156,
    "start_time": "2022-06-30T22:36:31.432Z"
   },
   {
    "duration": 11,
    "start_time": "2022-06-30T22:36:31.591Z"
   },
   {
    "duration": 10,
    "start_time": "2022-06-30T22:36:31.603Z"
   },
   {
    "duration": 12,
    "start_time": "2022-06-30T22:36:31.615Z"
   },
   {
    "duration": 33,
    "start_time": "2022-06-30T22:36:31.658Z"
   },
   {
    "duration": 15,
    "start_time": "2022-06-30T22:36:31.693Z"
   },
   {
    "duration": 21,
    "start_time": "2022-06-30T22:36:31.710Z"
   },
   {
    "duration": 13,
    "start_time": "2022-06-30T22:36:31.733Z"
   },
   {
    "duration": 21,
    "start_time": "2022-06-30T22:36:31.747Z"
   },
   {
    "duration": 25,
    "start_time": "2022-06-30T22:36:31.770Z"
   },
   {
    "duration": 12,
    "start_time": "2022-06-30T22:36:31.797Z"
   },
   {
    "duration": 15,
    "start_time": "2022-06-30T22:36:31.811Z"
   },
   {
    "duration": 8,
    "start_time": "2022-06-30T22:36:31.828Z"
   },
   {
    "duration": 27,
    "start_time": "2022-06-30T22:36:31.837Z"
   },
   {
    "duration": 18,
    "start_time": "2022-06-30T22:36:31.866Z"
   },
   {
    "duration": 153,
    "start_time": "2022-06-30T22:36:31.886Z"
   },
   {
    "duration": 167,
    "start_time": "2022-06-30T22:36:32.041Z"
   },
   {
    "duration": 160,
    "start_time": "2022-06-30T22:36:32.210Z"
   },
   {
    "duration": 13,
    "start_time": "2022-06-30T22:36:32.372Z"
   },
   {
    "duration": 11,
    "start_time": "2022-06-30T22:36:32.387Z"
   },
   {
    "duration": 11,
    "start_time": "2022-06-30T22:36:54.890Z"
   },
   {
    "duration": 3,
    "start_time": "2022-06-30T22:36:58.650Z"
   },
   {
    "duration": 64,
    "start_time": "2022-06-30T22:36:58.657Z"
   },
   {
    "duration": 14,
    "start_time": "2022-06-30T22:36:58.723Z"
   },
   {
    "duration": 22,
    "start_time": "2022-06-30T22:36:58.740Z"
   },
   {
    "duration": 9,
    "start_time": "2022-06-30T22:36:58.764Z"
   },
   {
    "duration": 21,
    "start_time": "2022-06-30T22:36:58.775Z"
   },
   {
    "duration": 11,
    "start_time": "2022-06-30T22:36:58.799Z"
   },
   {
    "duration": 10,
    "start_time": "2022-06-30T22:36:58.812Z"
   },
   {
    "duration": 50,
    "start_time": "2022-06-30T22:36:58.824Z"
   },
   {
    "duration": 26,
    "start_time": "2022-06-30T22:36:58.876Z"
   },
   {
    "duration": 56,
    "start_time": "2022-06-30T22:36:58.904Z"
   },
   {
    "duration": 10,
    "start_time": "2022-06-30T22:36:58.961Z"
   },
   {
    "duration": 11,
    "start_time": "2022-06-30T22:36:58.972Z"
   },
   {
    "duration": 22,
    "start_time": "2022-06-30T22:36:58.985Z"
   },
   {
    "duration": 54,
    "start_time": "2022-06-30T22:36:59.010Z"
   },
   {
    "duration": 18,
    "start_time": "2022-06-30T22:36:59.066Z"
   },
   {
    "duration": 112,
    "start_time": "2022-06-30T22:36:59.085Z"
   },
   {
    "duration": 7,
    "start_time": "2022-06-30T22:36:59.199Z"
   },
   {
    "duration": 12,
    "start_time": "2022-06-30T22:36:59.208Z"
   },
   {
    "duration": 378,
    "start_time": "2022-06-30T22:36:59.222Z"
   },
   {
    "duration": 7,
    "start_time": "2022-06-30T22:36:59.603Z"
   },
   {
    "duration": 12,
    "start_time": "2022-06-30T22:36:59.612Z"
   },
   {
    "duration": 417,
    "start_time": "2022-06-30T22:36:59.626Z"
   },
   {
    "duration": 27,
    "start_time": "2022-06-30T22:37:00.045Z"
   },
   {
    "duration": 196,
    "start_time": "2022-06-30T22:37:00.074Z"
   },
   {
    "duration": 222,
    "start_time": "2022-06-30T22:37:00.272Z"
   },
   {
    "duration": 209,
    "start_time": "2022-06-30T22:37:00.496Z"
   },
   {
    "duration": 20,
    "start_time": "2022-06-30T22:37:00.707Z"
   },
   {
    "duration": 12,
    "start_time": "2022-06-30T22:37:00.728Z"
   },
   {
    "duration": 155,
    "start_time": "2022-06-30T22:37:00.759Z"
   },
   {
    "duration": 170,
    "start_time": "2022-06-30T22:37:00.916Z"
   },
   {
    "duration": 150,
    "start_time": "2022-06-30T22:37:01.088Z"
   },
   {
    "duration": 149,
    "start_time": "2022-06-30T22:37:01.240Z"
   },
   {
    "duration": 161,
    "start_time": "2022-06-30T22:37:01.392Z"
   },
   {
    "duration": 19,
    "start_time": "2022-06-30T22:37:01.559Z"
   },
   {
    "duration": 10,
    "start_time": "2022-06-30T22:37:01.580Z"
   },
   {
    "duration": 34,
    "start_time": "2022-06-30T22:37:01.592Z"
   },
   {
    "duration": 121,
    "start_time": "2022-06-30T22:37:01.628Z"
   },
   {
    "duration": 7,
    "start_time": "2022-06-30T22:37:01.758Z"
   },
   {
    "duration": 129,
    "start_time": "2022-06-30T22:37:01.767Z"
   },
   {
    "duration": 8,
    "start_time": "2022-06-30T22:37:01.899Z"
   },
   {
    "duration": 105,
    "start_time": "2022-06-30T22:37:01.911Z"
   },
   {
    "duration": 8,
    "start_time": "2022-06-30T22:37:02.018Z"
   },
   {
    "duration": 133,
    "start_time": "2022-06-30T22:37:02.028Z"
   },
   {
    "duration": 358,
    "start_time": "2022-06-30T22:37:02.164Z"
   },
   {
    "duration": 11,
    "start_time": "2022-06-30T22:37:02.524Z"
   },
   {
    "duration": 159,
    "start_time": "2022-06-30T22:37:02.537Z"
   },
   {
    "duration": 9,
    "start_time": "2022-06-30T22:37:02.698Z"
   },
   {
    "duration": 158,
    "start_time": "2022-06-30T22:37:02.709Z"
   },
   {
    "duration": 8,
    "start_time": "2022-06-30T22:37:02.869Z"
   },
   {
    "duration": 190,
    "start_time": "2022-06-30T22:37:02.879Z"
   },
   {
    "duration": 9,
    "start_time": "2022-06-30T22:37:03.071Z"
   },
   {
    "duration": 170,
    "start_time": "2022-06-30T22:37:03.082Z"
   },
   {
    "duration": 14,
    "start_time": "2022-06-30T22:37:03.254Z"
   },
   {
    "duration": 12,
    "start_time": "2022-06-30T22:37:03.269Z"
   },
   {
    "duration": 20,
    "start_time": "2022-06-30T22:37:03.283Z"
   },
   {
    "duration": 11,
    "start_time": "2022-06-30T22:37:03.304Z"
   },
   {
    "duration": 15,
    "start_time": "2022-06-30T22:37:03.317Z"
   },
   {
    "duration": 26,
    "start_time": "2022-06-30T22:37:03.334Z"
   },
   {
    "duration": 10,
    "start_time": "2022-06-30T22:37:03.362Z"
   },
   {
    "duration": 11,
    "start_time": "2022-06-30T22:37:03.374Z"
   },
   {
    "duration": 9,
    "start_time": "2022-06-30T22:37:03.388Z"
   },
   {
    "duration": 20,
    "start_time": "2022-06-30T22:37:03.399Z"
   },
   {
    "duration": 8,
    "start_time": "2022-06-30T22:37:03.422Z"
   },
   {
    "duration": 10,
    "start_time": "2022-06-30T22:37:03.458Z"
   },
   {
    "duration": 22,
    "start_time": "2022-06-30T22:37:03.470Z"
   },
   {
    "duration": 18,
    "start_time": "2022-06-30T22:37:03.495Z"
   },
   {
    "duration": 151,
    "start_time": "2022-06-30T22:37:03.515Z"
   },
   {
    "duration": 164,
    "start_time": "2022-06-30T22:37:03.668Z"
   },
   {
    "duration": 160,
    "start_time": "2022-06-30T22:37:03.834Z"
   },
   {
    "duration": 12,
    "start_time": "2022-06-30T22:37:03.996Z"
   },
   {
    "duration": 20,
    "start_time": "2022-06-30T22:37:04.009Z"
   },
   {
    "duration": 99,
    "start_time": "2022-06-30T22:39:18.815Z"
   },
   {
    "duration": 84,
    "start_time": "2022-06-30T22:39:32.589Z"
   },
   {
    "duration": 87,
    "start_time": "2022-06-30T22:39:38.169Z"
   },
   {
    "duration": 257,
    "start_time": "2022-06-30T22:39:51.548Z"
   },
   {
    "duration": 8,
    "start_time": "2022-06-30T22:40:39.949Z"
   },
   {
    "duration": 96,
    "start_time": "2022-06-30T22:41:11.868Z"
   },
   {
    "duration": 132,
    "start_time": "2022-06-30T22:46:21.029Z"
   },
   {
    "duration": 176,
    "start_time": "2022-06-30T22:47:17.049Z"
   },
   {
    "duration": 94,
    "start_time": "2022-06-30T22:50:03.629Z"
   },
   {
    "duration": 12,
    "start_time": "2022-06-30T22:50:24.497Z"
   },
   {
    "duration": 155,
    "start_time": "2022-06-30T22:50:54.178Z"
   },
   {
    "duration": 12,
    "start_time": "2022-06-30T22:54:15.629Z"
   },
   {
    "duration": 834,
    "start_time": "2022-06-30T22:54:33.049Z"
   },
   {
    "duration": 823,
    "start_time": "2022-06-30T22:54:53.669Z"
   },
   {
    "duration": 162,
    "start_time": "2022-06-30T22:56:27.308Z"
   },
   {
    "duration": 290,
    "start_time": "2022-06-30T22:57:13.417Z"
   },
   {
    "duration": 304,
    "start_time": "2022-06-30T22:58:24.389Z"
   },
   {
    "duration": 456,
    "start_time": "2022-06-30T23:02:48.709Z"
   },
   {
    "duration": 103,
    "start_time": "2022-06-30T23:05:19.349Z"
   },
   {
    "duration": 515,
    "start_time": "2022-06-30T23:05:26.837Z"
   },
   {
    "duration": 11,
    "start_time": "2022-06-30T23:08:57.904Z"
   },
   {
    "duration": 10,
    "start_time": "2022-06-30T23:09:27.428Z"
   },
   {
    "duration": 7,
    "start_time": "2022-06-30T23:11:06.621Z"
   },
   {
    "duration": 4,
    "start_time": "2022-06-30T23:11:16.915Z"
   },
   {
    "duration": 5,
    "start_time": "2022-06-30T23:11:34.767Z"
   },
   {
    "duration": 4,
    "start_time": "2022-06-30T23:12:44.632Z"
   },
   {
    "duration": 4,
    "start_time": "2022-06-30T23:12:51.876Z"
   },
   {
    "duration": 667,
    "start_time": "2022-07-01T09:27:01.343Z"
   },
   {
    "duration": 862,
    "start_time": "2022-07-01T09:27:11.045Z"
   },
   {
    "duration": 212,
    "start_time": "2022-07-01T09:27:11.909Z"
   },
   {
    "duration": 15,
    "start_time": "2022-07-01T09:27:12.123Z"
   },
   {
    "duration": 32,
    "start_time": "2022-07-01T09:27:12.141Z"
   },
   {
    "duration": 8,
    "start_time": "2022-07-01T09:27:12.175Z"
   },
   {
    "duration": 10,
    "start_time": "2022-07-01T09:27:12.185Z"
   },
   {
    "duration": 15,
    "start_time": "2022-07-01T09:27:12.197Z"
   },
   {
    "duration": 23,
    "start_time": "2022-07-01T09:27:12.214Z"
   },
   {
    "duration": 35,
    "start_time": "2022-07-01T09:27:12.239Z"
   },
   {
    "duration": 16,
    "start_time": "2022-07-01T09:27:12.277Z"
   },
   {
    "duration": 26,
    "start_time": "2022-07-01T09:27:12.295Z"
   },
   {
    "duration": 13,
    "start_time": "2022-07-01T09:27:12.323Z"
   },
   {
    "duration": 32,
    "start_time": "2022-07-01T09:27:12.338Z"
   },
   {
    "duration": 27,
    "start_time": "2022-07-01T09:27:12.372Z"
   },
   {
    "duration": 15,
    "start_time": "2022-07-01T09:27:12.400Z"
   },
   {
    "duration": 20,
    "start_time": "2022-07-01T09:27:12.416Z"
   },
   {
    "duration": 89,
    "start_time": "2022-07-01T09:27:12.438Z"
   },
   {
    "duration": 6,
    "start_time": "2022-07-01T09:27:12.529Z"
   },
   {
    "duration": 11,
    "start_time": "2022-07-01T09:27:12.537Z"
   },
   {
    "duration": 598,
    "start_time": "2022-07-01T09:27:12.550Z"
   },
   {
    "duration": 5,
    "start_time": "2022-07-01T09:27:13.150Z"
   },
   {
    "duration": 19,
    "start_time": "2022-07-01T09:27:13.157Z"
   },
   {
    "duration": 273,
    "start_time": "2022-07-01T09:27:13.178Z"
   },
   {
    "duration": 19,
    "start_time": "2022-07-01T09:27:13.453Z"
   },
   {
    "duration": 203,
    "start_time": "2022-07-01T09:27:13.474Z"
   },
   {
    "duration": 211,
    "start_time": "2022-07-01T09:27:13.679Z"
   },
   {
    "duration": 215,
    "start_time": "2022-07-01T09:27:13.893Z"
   },
   {
    "duration": 28,
    "start_time": "2022-07-01T09:27:14.114Z"
   },
   {
    "duration": 7,
    "start_time": "2022-07-01T09:27:14.144Z"
   },
   {
    "duration": 160,
    "start_time": "2022-07-01T09:27:14.153Z"
   },
   {
    "duration": 161,
    "start_time": "2022-07-01T09:27:14.315Z"
   },
   {
    "duration": 153,
    "start_time": "2022-07-01T09:27:14.478Z"
   },
   {
    "duration": 166,
    "start_time": "2022-07-01T09:27:14.634Z"
   },
   {
    "duration": 218,
    "start_time": "2022-07-01T09:27:14.801Z"
   },
   {
    "duration": 17,
    "start_time": "2022-07-01T09:27:15.024Z"
   },
   {
    "duration": 2,
    "start_time": "2022-07-01T09:27:15.043Z"
   },
   {
    "duration": 24,
    "start_time": "2022-07-01T09:27:15.047Z"
   },
   {
    "duration": 1410,
    "start_time": "2022-07-01T09:27:15.073Z"
   },
   {
    "duration": 0,
    "start_time": "2022-07-01T09:27:16.485Z"
   },
   {
    "duration": 0,
    "start_time": "2022-07-01T09:27:16.486Z"
   },
   {
    "duration": 0,
    "start_time": "2022-07-01T09:27:16.488Z"
   },
   {
    "duration": 0,
    "start_time": "2022-07-01T09:27:16.489Z"
   },
   {
    "duration": 0,
    "start_time": "2022-07-01T09:27:16.497Z"
   },
   {
    "duration": 0,
    "start_time": "2022-07-01T09:27:16.498Z"
   },
   {
    "duration": 0,
    "start_time": "2022-07-01T09:27:16.500Z"
   },
   {
    "duration": 0,
    "start_time": "2022-07-01T09:27:16.501Z"
   },
   {
    "duration": 0,
    "start_time": "2022-07-01T09:27:16.503Z"
   },
   {
    "duration": 1,
    "start_time": "2022-07-01T09:27:16.504Z"
   },
   {
    "duration": 0,
    "start_time": "2022-07-01T09:27:16.506Z"
   },
   {
    "duration": 0,
    "start_time": "2022-07-01T09:27:16.507Z"
   },
   {
    "duration": 0,
    "start_time": "2022-07-01T09:27:16.508Z"
   },
   {
    "duration": 0,
    "start_time": "2022-07-01T09:27:16.509Z"
   },
   {
    "duration": 0,
    "start_time": "2022-07-01T09:27:16.510Z"
   },
   {
    "duration": 0,
    "start_time": "2022-07-01T09:27:16.512Z"
   },
   {
    "duration": 0,
    "start_time": "2022-07-01T09:27:16.513Z"
   },
   {
    "duration": 0,
    "start_time": "2022-07-01T09:27:16.515Z"
   },
   {
    "duration": 0,
    "start_time": "2022-07-01T09:27:16.516Z"
   },
   {
    "duration": 0,
    "start_time": "2022-07-01T09:27:16.518Z"
   },
   {
    "duration": 0,
    "start_time": "2022-07-01T09:27:16.519Z"
   },
   {
    "duration": 0,
    "start_time": "2022-07-01T09:27:16.521Z"
   },
   {
    "duration": 0,
    "start_time": "2022-07-01T09:27:16.522Z"
   },
   {
    "duration": 0,
    "start_time": "2022-07-01T09:27:16.523Z"
   },
   {
    "duration": 0,
    "start_time": "2022-07-01T09:27:16.524Z"
   },
   {
    "duration": 0,
    "start_time": "2022-07-01T09:27:16.527Z"
   },
   {
    "duration": 0,
    "start_time": "2022-07-01T09:27:16.528Z"
   },
   {
    "duration": 0,
    "start_time": "2022-07-01T09:27:16.529Z"
   },
   {
    "duration": 0,
    "start_time": "2022-07-01T09:27:16.531Z"
   },
   {
    "duration": 0,
    "start_time": "2022-07-01T09:27:16.534Z"
   },
   {
    "duration": 0,
    "start_time": "2022-07-01T09:27:16.535Z"
   },
   {
    "duration": 0,
    "start_time": "2022-07-01T09:27:16.537Z"
   },
   {
    "duration": 0,
    "start_time": "2022-07-01T09:27:16.539Z"
   },
   {
    "duration": 0,
    "start_time": "2022-07-01T09:27:16.541Z"
   },
   {
    "duration": 0,
    "start_time": "2022-07-01T09:27:16.542Z"
   },
   {
    "duration": 0,
    "start_time": "2022-07-01T09:27:16.544Z"
   },
   {
    "duration": 0,
    "start_time": "2022-07-01T09:27:16.546Z"
   },
   {
    "duration": 0,
    "start_time": "2022-07-01T09:27:16.547Z"
   },
   {
    "duration": 0,
    "start_time": "2022-07-01T09:27:16.548Z"
   },
   {
    "duration": 0,
    "start_time": "2022-07-01T09:27:16.550Z"
   },
   {
    "duration": 0,
    "start_time": "2022-07-01T09:27:16.551Z"
   },
   {
    "duration": 0,
    "start_time": "2022-07-01T09:27:16.553Z"
   },
   {
    "duration": 32,
    "start_time": "2022-07-01T09:29:20.898Z"
   },
   {
    "duration": 21,
    "start_time": "2022-07-01T09:29:50.259Z"
   },
   {
    "duration": 12,
    "start_time": "2022-07-01T09:30:18.055Z"
   },
   {
    "duration": 12,
    "start_time": "2022-07-01T09:30:25.259Z"
   },
   {
    "duration": 60,
    "start_time": "2022-07-01T09:30:30.774Z"
   },
   {
    "duration": 17,
    "start_time": "2022-07-01T09:31:22.229Z"
   },
   {
    "duration": 19,
    "start_time": "2022-07-01T09:31:35.507Z"
   },
   {
    "duration": 15,
    "start_time": "2022-07-01T09:32:55.773Z"
   },
   {
    "duration": 14,
    "start_time": "2022-07-01T09:33:13.098Z"
   },
   {
    "duration": 3,
    "start_time": "2022-07-01T09:33:18.129Z"
   },
   {
    "duration": 63,
    "start_time": "2022-07-01T09:33:18.134Z"
   },
   {
    "duration": 13,
    "start_time": "2022-07-01T09:33:18.199Z"
   },
   {
    "duration": 16,
    "start_time": "2022-07-01T09:33:18.213Z"
   },
   {
    "duration": 5,
    "start_time": "2022-07-01T09:33:18.231Z"
   },
   {
    "duration": 6,
    "start_time": "2022-07-01T09:33:18.238Z"
   },
   {
    "duration": 10,
    "start_time": "2022-07-01T09:33:18.245Z"
   },
   {
    "duration": 8,
    "start_time": "2022-07-01T09:33:18.256Z"
   },
   {
    "duration": 16,
    "start_time": "2022-07-01T09:33:18.265Z"
   },
   {
    "duration": 52,
    "start_time": "2022-07-01T09:33:18.282Z"
   },
   {
    "duration": 15,
    "start_time": "2022-07-01T09:33:18.336Z"
   },
   {
    "duration": 8,
    "start_time": "2022-07-01T09:33:18.352Z"
   },
   {
    "duration": 8,
    "start_time": "2022-07-01T09:33:18.361Z"
   },
   {
    "duration": 15,
    "start_time": "2022-07-01T09:33:18.370Z"
   },
   {
    "duration": 49,
    "start_time": "2022-07-01T09:33:18.387Z"
   },
   {
    "duration": 40,
    "start_time": "2022-07-01T09:33:18.438Z"
   },
   {
    "duration": 88,
    "start_time": "2022-07-01T09:33:18.480Z"
   },
   {
    "duration": 6,
    "start_time": "2022-07-01T09:33:18.569Z"
   },
   {
    "duration": 15,
    "start_time": "2022-07-01T09:33:18.577Z"
   },
   {
    "duration": 356,
    "start_time": "2022-07-01T09:33:18.594Z"
   },
   {
    "duration": 4,
    "start_time": "2022-07-01T09:33:18.952Z"
   },
   {
    "duration": 14,
    "start_time": "2022-07-01T09:33:18.958Z"
   },
   {
    "duration": 266,
    "start_time": "2022-07-01T09:33:18.974Z"
   },
   {
    "duration": 16,
    "start_time": "2022-07-01T09:33:19.241Z"
   },
   {
    "duration": 171,
    "start_time": "2022-07-01T09:33:19.259Z"
   },
   {
    "duration": 182,
    "start_time": "2022-07-01T09:33:19.432Z"
   },
   {
    "duration": 181,
    "start_time": "2022-07-01T09:33:19.615Z"
   },
   {
    "duration": 28,
    "start_time": "2022-07-01T09:33:19.797Z"
   },
   {
    "duration": 6,
    "start_time": "2022-07-01T09:33:19.827Z"
   },
   {
    "duration": 144,
    "start_time": "2022-07-01T09:33:19.834Z"
   },
   {
    "duration": 145,
    "start_time": "2022-07-01T09:33:19.980Z"
   },
   {
    "duration": 141,
    "start_time": "2022-07-01T09:33:20.127Z"
   },
   {
    "duration": 215,
    "start_time": "2022-07-01T09:33:20.270Z"
   },
   {
    "duration": 144,
    "start_time": "2022-07-01T09:33:20.487Z"
   },
   {
    "duration": 14,
    "start_time": "2022-07-01T09:33:20.633Z"
   },
   {
    "duration": 3,
    "start_time": "2022-07-01T09:33:20.649Z"
   },
   {
    "duration": 17,
    "start_time": "2022-07-01T09:33:20.653Z"
   },
   {
    "duration": 16,
    "start_time": "2022-07-01T09:33:20.672Z"
   },
   {
    "duration": 0,
    "start_time": "2022-07-01T09:33:20.691Z"
   },
   {
    "duration": 0,
    "start_time": "2022-07-01T09:33:20.692Z"
   },
   {
    "duration": 0,
    "start_time": "2022-07-01T09:33:20.693Z"
   },
   {
    "duration": 0,
    "start_time": "2022-07-01T09:33:20.694Z"
   },
   {
    "duration": 0,
    "start_time": "2022-07-01T09:33:20.726Z"
   },
   {
    "duration": 0,
    "start_time": "2022-07-01T09:33:20.727Z"
   },
   {
    "duration": 0,
    "start_time": "2022-07-01T09:33:20.729Z"
   },
   {
    "duration": 0,
    "start_time": "2022-07-01T09:33:20.730Z"
   },
   {
    "duration": 0,
    "start_time": "2022-07-01T09:33:20.732Z"
   },
   {
    "duration": 0,
    "start_time": "2022-07-01T09:33:20.733Z"
   },
   {
    "duration": 0,
    "start_time": "2022-07-01T09:33:20.735Z"
   },
   {
    "duration": 0,
    "start_time": "2022-07-01T09:33:20.736Z"
   },
   {
    "duration": 0,
    "start_time": "2022-07-01T09:33:20.738Z"
   },
   {
    "duration": 0,
    "start_time": "2022-07-01T09:33:20.739Z"
   },
   {
    "duration": 0,
    "start_time": "2022-07-01T09:33:20.740Z"
   },
   {
    "duration": 0,
    "start_time": "2022-07-01T09:33:20.741Z"
   },
   {
    "duration": 0,
    "start_time": "2022-07-01T09:33:20.743Z"
   },
   {
    "duration": 0,
    "start_time": "2022-07-01T09:33:20.744Z"
   },
   {
    "duration": 0,
    "start_time": "2022-07-01T09:33:20.745Z"
   },
   {
    "duration": 0,
    "start_time": "2022-07-01T09:33:20.747Z"
   },
   {
    "duration": 0,
    "start_time": "2022-07-01T09:33:20.748Z"
   },
   {
    "duration": 0,
    "start_time": "2022-07-01T09:33:20.749Z"
   },
   {
    "duration": 0,
    "start_time": "2022-07-01T09:33:20.751Z"
   },
   {
    "duration": 0,
    "start_time": "2022-07-01T09:33:20.752Z"
   },
   {
    "duration": 0,
    "start_time": "2022-07-01T09:33:20.754Z"
   },
   {
    "duration": 0,
    "start_time": "2022-07-01T09:33:20.760Z"
   },
   {
    "duration": 0,
    "start_time": "2022-07-01T09:33:20.762Z"
   },
   {
    "duration": 0,
    "start_time": "2022-07-01T09:33:20.763Z"
   },
   {
    "duration": 0,
    "start_time": "2022-07-01T09:33:20.764Z"
   },
   {
    "duration": 0,
    "start_time": "2022-07-01T09:33:20.765Z"
   },
   {
    "duration": 0,
    "start_time": "2022-07-01T09:33:20.766Z"
   },
   {
    "duration": 0,
    "start_time": "2022-07-01T09:33:20.826Z"
   },
   {
    "duration": 0,
    "start_time": "2022-07-01T09:33:20.827Z"
   },
   {
    "duration": 0,
    "start_time": "2022-07-01T09:33:20.828Z"
   },
   {
    "duration": 0,
    "start_time": "2022-07-01T09:33:20.829Z"
   },
   {
    "duration": 0,
    "start_time": "2022-07-01T09:33:20.830Z"
   },
   {
    "duration": 0,
    "start_time": "2022-07-01T09:33:20.830Z"
   },
   {
    "duration": 0,
    "start_time": "2022-07-01T09:33:20.832Z"
   },
   {
    "duration": 0,
    "start_time": "2022-07-01T09:33:20.833Z"
   },
   {
    "duration": 0,
    "start_time": "2022-07-01T09:33:20.833Z"
   },
   {
    "duration": 0,
    "start_time": "2022-07-01T09:33:20.834Z"
   },
   {
    "duration": 0,
    "start_time": "2022-07-01T09:33:20.835Z"
   },
   {
    "duration": 20,
    "start_time": "2022-07-01T09:34:02.345Z"
   },
   {
    "duration": 20,
    "start_time": "2022-07-01T09:34:29.018Z"
   },
   {
    "duration": 15,
    "start_time": "2022-07-01T09:34:38.457Z"
   },
   {
    "duration": 17,
    "start_time": "2022-07-01T09:34:56.013Z"
   },
   {
    "duration": 924,
    "start_time": "2022-07-01T09:45:49.604Z"
   },
   {
    "duration": 66,
    "start_time": "2022-07-01T09:45:50.530Z"
   },
   {
    "duration": 16,
    "start_time": "2022-07-01T09:45:50.598Z"
   },
   {
    "duration": 19,
    "start_time": "2022-07-01T09:45:50.616Z"
   },
   {
    "duration": 7,
    "start_time": "2022-07-01T09:45:50.637Z"
   },
   {
    "duration": 6,
    "start_time": "2022-07-01T09:45:50.645Z"
   },
   {
    "duration": 11,
    "start_time": "2022-07-01T09:45:50.653Z"
   },
   {
    "duration": 7,
    "start_time": "2022-07-01T09:45:50.666Z"
   },
   {
    "duration": 15,
    "start_time": "2022-07-01T09:45:50.674Z"
   },
   {
    "duration": 44,
    "start_time": "2022-07-01T09:45:50.691Z"
   },
   {
    "duration": 21,
    "start_time": "2022-07-01T09:45:50.737Z"
   },
   {
    "duration": 9,
    "start_time": "2022-07-01T09:45:50.760Z"
   },
   {
    "duration": 15,
    "start_time": "2022-07-01T09:45:50.770Z"
   },
   {
    "duration": 38,
    "start_time": "2022-07-01T09:45:50.788Z"
   },
   {
    "duration": 13,
    "start_time": "2022-07-01T09:45:50.828Z"
   },
   {
    "duration": 23,
    "start_time": "2022-07-01T09:45:50.843Z"
   },
   {
    "duration": 91,
    "start_time": "2022-07-01T09:45:50.867Z"
   },
   {
    "duration": 6,
    "start_time": "2022-07-01T09:45:50.960Z"
   },
   {
    "duration": 14,
    "start_time": "2022-07-01T09:45:50.967Z"
   },
   {
    "duration": 587,
    "start_time": "2022-07-01T09:45:50.983Z"
   },
   {
    "duration": 5,
    "start_time": "2022-07-01T09:45:51.572Z"
   },
   {
    "duration": 12,
    "start_time": "2022-07-01T09:45:51.578Z"
   },
   {
    "duration": 272,
    "start_time": "2022-07-01T09:45:51.591Z"
   },
   {
    "duration": 17,
    "start_time": "2022-07-01T09:45:51.864Z"
   },
   {
    "duration": 178,
    "start_time": "2022-07-01T09:45:51.883Z"
   },
   {
    "duration": 181,
    "start_time": "2022-07-01T09:45:52.063Z"
   },
   {
    "duration": 175,
    "start_time": "2022-07-01T09:45:52.245Z"
   },
   {
    "duration": 16,
    "start_time": "2022-07-01T09:45:52.425Z"
   },
   {
    "duration": 8,
    "start_time": "2022-07-01T09:45:52.442Z"
   },
   {
    "duration": 149,
    "start_time": "2022-07-01T09:45:52.451Z"
   },
   {
    "duration": 146,
    "start_time": "2022-07-01T09:45:52.602Z"
   },
   {
    "duration": 157,
    "start_time": "2022-07-01T09:45:52.750Z"
   },
   {
    "duration": 154,
    "start_time": "2022-07-01T09:45:52.909Z"
   },
   {
    "duration": 210,
    "start_time": "2022-07-01T09:45:53.065Z"
   },
   {
    "duration": 16,
    "start_time": "2022-07-01T09:45:53.277Z"
   },
   {
    "duration": 2,
    "start_time": "2022-07-01T09:45:53.295Z"
   },
   {
    "duration": 36,
    "start_time": "2022-07-01T09:45:53.299Z"
   },
   {
    "duration": 29,
    "start_time": "2022-07-01T09:45:53.336Z"
   },
   {
    "duration": 29,
    "start_time": "2022-07-01T09:45:53.368Z"
   },
   {
    "duration": 103,
    "start_time": "2022-07-01T09:45:53.399Z"
   },
   {
    "duration": 21,
    "start_time": "2022-07-01T09:45:53.506Z"
   },
   {
    "duration": 102,
    "start_time": "2022-07-01T09:45:53.528Z"
   },
   {
    "duration": 7,
    "start_time": "2022-07-01T09:45:53.631Z"
   },
   {
    "duration": 17,
    "start_time": "2022-07-01T09:45:53.640Z"
   },
   {
    "duration": 157,
    "start_time": "2022-07-01T09:45:53.659Z"
   },
   {
    "duration": 8,
    "start_time": "2022-07-01T09:45:53.825Z"
   },
   {
    "duration": 139,
    "start_time": "2022-07-01T09:45:53.834Z"
   },
   {
    "duration": 9,
    "start_time": "2022-07-01T09:45:53.976Z"
   },
   {
    "duration": 177,
    "start_time": "2022-07-01T09:45:53.988Z"
   },
   {
    "duration": 8,
    "start_time": "2022-07-01T09:45:54.167Z"
   },
   {
    "duration": 130,
    "start_time": "2022-07-01T09:45:54.176Z"
   },
   {
    "duration": 21,
    "start_time": "2022-07-01T09:45:54.307Z"
   },
   {
    "duration": 153,
    "start_time": "2022-07-01T09:45:54.330Z"
   },
   {
    "duration": 8,
    "start_time": "2022-07-01T09:45:54.484Z"
   },
   {
    "duration": 11,
    "start_time": "2022-07-01T09:45:54.494Z"
   },
   {
    "duration": 9,
    "start_time": "2022-07-01T09:45:54.526Z"
   },
   {
    "duration": 11,
    "start_time": "2022-07-01T09:45:54.537Z"
   },
   {
    "duration": 112,
    "start_time": "2022-07-01T09:45:54.550Z"
   },
   {
    "duration": 9,
    "start_time": "2022-07-01T09:45:54.663Z"
   },
   {
    "duration": 107,
    "start_time": "2022-07-01T09:45:54.673Z"
   },
   {
    "duration": 7,
    "start_time": "2022-07-01T09:45:54.782Z"
   },
   {
    "duration": 12,
    "start_time": "2022-07-01T09:45:54.791Z"
   },
   {
    "duration": 21,
    "start_time": "2022-07-01T09:45:54.805Z"
   },
   {
    "duration": 7,
    "start_time": "2022-07-01T09:45:54.828Z"
   },
   {
    "duration": 9,
    "start_time": "2022-07-01T09:45:54.836Z"
   },
   {
    "duration": 8,
    "start_time": "2022-07-01T09:45:54.846Z"
   },
   {
    "duration": 490,
    "start_time": "2022-07-01T09:45:54.856Z"
   },
   {
    "duration": 6,
    "start_time": "2022-07-01T09:45:55.348Z"
   },
   {
    "duration": 9,
    "start_time": "2022-07-01T09:45:55.356Z"
   },
   {
    "duration": 8,
    "start_time": "2022-07-01T09:45:55.366Z"
   },
   {
    "duration": 9,
    "start_time": "2022-07-01T09:45:55.376Z"
   },
   {
    "duration": 240,
    "start_time": "2022-07-01T09:45:55.387Z"
   },
   {
    "duration": 167,
    "start_time": "2022-07-01T09:45:55.628Z"
   },
   {
    "duration": 156,
    "start_time": "2022-07-01T09:45:55.796Z"
   },
   {
    "duration": 18,
    "start_time": "2022-07-01T09:45:55.953Z"
   },
   {
    "duration": 16,
    "start_time": "2022-07-01T09:45:55.973Z"
   },
   {
    "duration": 5,
    "start_time": "2022-07-01T09:45:55.991Z"
   },
   {
    "duration": 7,
    "start_time": "2022-07-01T09:45:55.998Z"
   },
   {
    "duration": 20,
    "start_time": "2022-07-01T09:45:56.006Z"
   },
   {
    "duration": 8,
    "start_time": "2022-07-01T09:45:56.027Z"
   },
   {
    "duration": 107,
    "start_time": "2022-07-01T09:53:39.514Z"
   },
   {
    "duration": 14,
    "start_time": "2022-07-01T09:53:43.152Z"
   },
   {
    "duration": 13,
    "start_time": "2022-07-01T09:54:51.496Z"
   },
   {
    "duration": 936,
    "start_time": "2022-07-01T09:55:06.507Z"
   },
   {
    "duration": 77,
    "start_time": "2022-07-01T09:55:07.444Z"
   },
   {
    "duration": 19,
    "start_time": "2022-07-01T09:55:07.523Z"
   },
   {
    "duration": 39,
    "start_time": "2022-07-01T09:55:07.546Z"
   },
   {
    "duration": 5,
    "start_time": "2022-07-01T09:55:07.587Z"
   },
   {
    "duration": 8,
    "start_time": "2022-07-01T09:55:07.593Z"
   },
   {
    "duration": 9,
    "start_time": "2022-07-01T09:55:07.602Z"
   },
   {
    "duration": 14,
    "start_time": "2022-07-01T09:55:07.612Z"
   },
   {
    "duration": 36,
    "start_time": "2022-07-01T09:55:07.631Z"
   },
   {
    "duration": 16,
    "start_time": "2022-07-01T09:55:07.670Z"
   },
   {
    "duration": 24,
    "start_time": "2022-07-01T09:55:07.687Z"
   },
   {
    "duration": 9,
    "start_time": "2022-07-01T09:55:07.712Z"
   },
   {
    "duration": 41,
    "start_time": "2022-07-01T09:55:07.722Z"
   },
   {
    "duration": 22,
    "start_time": "2022-07-01T09:55:07.765Z"
   },
   {
    "duration": 11,
    "start_time": "2022-07-01T09:55:07.789Z"
   },
   {
    "duration": 19,
    "start_time": "2022-07-01T09:55:07.802Z"
   },
   {
    "duration": 84,
    "start_time": "2022-07-01T09:55:07.823Z"
   },
   {
    "duration": 24,
    "start_time": "2022-07-01T09:55:07.909Z"
   },
   {
    "duration": 31,
    "start_time": "2022-07-01T09:55:07.934Z"
   },
   {
    "duration": 599,
    "start_time": "2022-07-01T09:55:07.967Z"
   },
   {
    "duration": 5,
    "start_time": "2022-07-01T09:55:08.567Z"
   },
   {
    "duration": 14,
    "start_time": "2022-07-01T09:55:08.574Z"
   },
   {
    "duration": 292,
    "start_time": "2022-07-01T09:55:08.589Z"
   },
   {
    "duration": 22,
    "start_time": "2022-07-01T09:55:08.883Z"
   },
   {
    "duration": 190,
    "start_time": "2022-07-01T09:55:08.907Z"
   },
   {
    "duration": 204,
    "start_time": "2022-07-01T09:55:09.099Z"
   },
   {
    "duration": 196,
    "start_time": "2022-07-01T09:55:09.304Z"
   },
   {
    "duration": 32,
    "start_time": "2022-07-01T09:55:09.504Z"
   },
   {
    "duration": 18,
    "start_time": "2022-07-01T09:55:09.540Z"
   },
   {
    "duration": 135,
    "start_time": "2022-07-01T09:55:09.560Z"
   },
   {
    "duration": 151,
    "start_time": "2022-07-01T09:55:09.697Z"
   },
   {
    "duration": 140,
    "start_time": "2022-07-01T09:55:09.854Z"
   },
   {
    "duration": 165,
    "start_time": "2022-07-01T09:55:09.996Z"
   },
   {
    "duration": 223,
    "start_time": "2022-07-01T09:55:10.163Z"
   },
   {
    "duration": 15,
    "start_time": "2022-07-01T09:55:10.387Z"
   },
   {
    "duration": 6,
    "start_time": "2022-07-01T09:55:10.403Z"
   },
   {
    "duration": 40,
    "start_time": "2022-07-01T09:55:10.410Z"
   },
   {
    "duration": 26,
    "start_time": "2022-07-01T09:55:10.456Z"
   },
   {
    "duration": 41,
    "start_time": "2022-07-01T09:55:10.483Z"
   },
   {
    "duration": 109,
    "start_time": "2022-07-01T09:55:10.526Z"
   },
   {
    "duration": 13,
    "start_time": "2022-07-01T09:55:10.643Z"
   },
   {
    "duration": 98,
    "start_time": "2022-07-01T09:55:10.658Z"
   },
   {
    "duration": 9,
    "start_time": "2022-07-01T09:55:10.758Z"
   },
   {
    "duration": 25,
    "start_time": "2022-07-01T09:55:10.769Z"
   },
   {
    "duration": 180,
    "start_time": "2022-07-01T09:55:10.796Z"
   },
   {
    "duration": 8,
    "start_time": "2022-07-01T09:55:10.977Z"
   },
   {
    "duration": 164,
    "start_time": "2022-07-01T09:55:10.987Z"
   },
   {
    "duration": 12,
    "start_time": "2022-07-01T09:55:11.156Z"
   },
   {
    "duration": 163,
    "start_time": "2022-07-01T09:55:11.170Z"
   },
   {
    "duration": 20,
    "start_time": "2022-07-01T09:55:11.335Z"
   },
   {
    "duration": 140,
    "start_time": "2022-07-01T09:55:11.359Z"
   },
   {
    "duration": 9,
    "start_time": "2022-07-01T09:55:11.500Z"
   },
   {
    "duration": 163,
    "start_time": "2022-07-01T09:55:11.510Z"
   },
   {
    "duration": 9,
    "start_time": "2022-07-01T09:55:11.675Z"
   },
   {
    "duration": 30,
    "start_time": "2022-07-01T09:55:11.686Z"
   },
   {
    "duration": 17,
    "start_time": "2022-07-01T09:55:11.718Z"
   },
   {
    "duration": 34,
    "start_time": "2022-07-01T09:55:11.740Z"
   },
   {
    "duration": 109,
    "start_time": "2022-07-01T09:55:11.776Z"
   },
   {
    "duration": 14,
    "start_time": "2022-07-01T09:55:11.887Z"
   },
   {
    "duration": 131,
    "start_time": "2022-07-01T09:55:11.903Z"
   },
   {
    "duration": 14,
    "start_time": "2022-07-01T09:55:12.044Z"
   },
   {
    "duration": 10,
    "start_time": "2022-07-01T09:55:12.062Z"
   },
   {
    "duration": 11,
    "start_time": "2022-07-01T09:55:12.074Z"
   },
   {
    "duration": 8,
    "start_time": "2022-07-01T09:55:12.087Z"
   },
   {
    "duration": 7,
    "start_time": "2022-07-01T09:55:12.097Z"
   },
   {
    "duration": 9,
    "start_time": "2022-07-01T09:55:12.106Z"
   },
   {
    "duration": 113,
    "start_time": "2022-07-01T09:55:12.128Z"
   },
   {
    "duration": 0,
    "start_time": "2022-07-01T09:55:12.242Z"
   },
   {
    "duration": 0,
    "start_time": "2022-07-01T09:55:12.243Z"
   },
   {
    "duration": 0,
    "start_time": "2022-07-01T09:55:12.244Z"
   },
   {
    "duration": 0,
    "start_time": "2022-07-01T09:55:12.245Z"
   },
   {
    "duration": 0,
    "start_time": "2022-07-01T09:55:12.246Z"
   },
   {
    "duration": 0,
    "start_time": "2022-07-01T09:55:12.247Z"
   },
   {
    "duration": 0,
    "start_time": "2022-07-01T09:55:12.248Z"
   },
   {
    "duration": 0,
    "start_time": "2022-07-01T09:55:12.249Z"
   },
   {
    "duration": 0,
    "start_time": "2022-07-01T09:55:12.250Z"
   },
   {
    "duration": 0,
    "start_time": "2022-07-01T09:55:12.251Z"
   },
   {
    "duration": 0,
    "start_time": "2022-07-01T09:55:12.252Z"
   },
   {
    "duration": 0,
    "start_time": "2022-07-01T09:55:12.253Z"
   },
   {
    "duration": 0,
    "start_time": "2022-07-01T09:55:12.254Z"
   },
   {
    "duration": 15,
    "start_time": "2022-07-01T09:55:25.056Z"
   },
   {
    "duration": 15,
    "start_time": "2022-07-01T09:58:21.525Z"
   },
   {
    "duration": 9,
    "start_time": "2022-07-01T10:00:10.587Z"
   },
   {
    "duration": 9,
    "start_time": "2022-07-01T10:00:31.036Z"
   },
   {
    "duration": 15,
    "start_time": "2022-07-01T10:01:26.498Z"
   },
   {
    "duration": 23,
    "start_time": "2022-07-01T10:04:09.096Z"
   },
   {
    "duration": 23,
    "start_time": "2022-07-01T10:04:17.817Z"
   },
   {
    "duration": 20,
    "start_time": "2022-07-01T10:05:00.349Z"
   },
   {
    "duration": 18,
    "start_time": "2022-07-01T10:05:27.446Z"
   },
   {
    "duration": 18,
    "start_time": "2022-07-01T10:05:31.370Z"
   },
   {
    "duration": 1338,
    "start_time": "2022-07-01T10:07:50.392Z"
   },
   {
    "duration": 28,
    "start_time": "2022-07-01T10:08:21.403Z"
   },
   {
    "duration": 1307,
    "start_time": "2022-07-01T10:09:01.310Z"
   },
   {
    "duration": 894,
    "start_time": "2022-07-01T10:09:11.121Z"
   },
   {
    "duration": 74,
    "start_time": "2022-07-01T10:09:12.017Z"
   },
   {
    "duration": 15,
    "start_time": "2022-07-01T10:09:12.094Z"
   },
   {
    "duration": 46,
    "start_time": "2022-07-01T10:09:12.112Z"
   },
   {
    "duration": 38,
    "start_time": "2022-07-01T10:09:12.160Z"
   },
   {
    "duration": 26,
    "start_time": "2022-07-01T10:09:12.201Z"
   },
   {
    "duration": 33,
    "start_time": "2022-07-01T10:09:12.229Z"
   },
   {
    "duration": 43,
    "start_time": "2022-07-01T10:09:12.264Z"
   },
   {
    "duration": 42,
    "start_time": "2022-07-01T10:09:12.310Z"
   },
   {
    "duration": 61,
    "start_time": "2022-07-01T10:09:12.356Z"
   },
   {
    "duration": 56,
    "start_time": "2022-07-01T10:09:12.419Z"
   },
   {
    "duration": 12,
    "start_time": "2022-07-01T10:09:12.477Z"
   },
   {
    "duration": 22,
    "start_time": "2022-07-01T10:09:12.491Z"
   },
   {
    "duration": 49,
    "start_time": "2022-07-01T10:09:12.515Z"
   },
   {
    "duration": 20,
    "start_time": "2022-07-01T10:09:12.567Z"
   },
   {
    "duration": 31,
    "start_time": "2022-07-01T10:09:12.589Z"
   },
   {
    "duration": 84,
    "start_time": "2022-07-01T10:09:12.622Z"
   },
   {
    "duration": 6,
    "start_time": "2022-07-01T10:09:12.708Z"
   },
   {
    "duration": 18,
    "start_time": "2022-07-01T10:09:12.725Z"
   },
   {
    "duration": 615,
    "start_time": "2022-07-01T10:09:12.745Z"
   },
   {
    "duration": 5,
    "start_time": "2022-07-01T10:09:13.361Z"
   },
   {
    "duration": 28,
    "start_time": "2022-07-01T10:09:13.368Z"
   },
   {
    "duration": 283,
    "start_time": "2022-07-01T10:09:13.398Z"
   },
   {
    "duration": 19,
    "start_time": "2022-07-01T10:09:13.683Z"
   },
   {
    "duration": 203,
    "start_time": "2022-07-01T10:09:13.704Z"
   },
   {
    "duration": 230,
    "start_time": "2022-07-01T10:09:13.908Z"
   },
   {
    "duration": 202,
    "start_time": "2022-07-01T10:09:14.139Z"
   },
   {
    "duration": 28,
    "start_time": "2022-07-01T10:09:14.346Z"
   },
   {
    "duration": 10,
    "start_time": "2022-07-01T10:09:14.376Z"
   },
   {
    "duration": 186,
    "start_time": "2022-07-01T10:09:14.388Z"
   },
   {
    "duration": 165,
    "start_time": "2022-07-01T10:09:14.576Z"
   },
   {
    "duration": 157,
    "start_time": "2022-07-01T10:09:14.743Z"
   },
   {
    "duration": 168,
    "start_time": "2022-07-01T10:09:14.901Z"
   },
   {
    "duration": 223,
    "start_time": "2022-07-01T10:09:15.070Z"
   },
   {
    "duration": 14,
    "start_time": "2022-07-01T10:09:15.294Z"
   },
   {
    "duration": 16,
    "start_time": "2022-07-01T10:09:15.310Z"
   },
   {
    "duration": 40,
    "start_time": "2022-07-01T10:09:15.328Z"
   },
   {
    "duration": 40,
    "start_time": "2022-07-01T10:09:15.370Z"
   },
   {
    "duration": 46,
    "start_time": "2022-07-01T10:09:15.411Z"
   },
   {
    "duration": 103,
    "start_time": "2022-07-01T10:09:15.458Z"
   },
   {
    "duration": 7,
    "start_time": "2022-07-01T10:09:15.562Z"
   },
   {
    "duration": 105,
    "start_time": "2022-07-01T10:09:15.571Z"
   },
   {
    "duration": 8,
    "start_time": "2022-07-01T10:09:15.678Z"
   },
   {
    "duration": 40,
    "start_time": "2022-07-01T10:09:15.687Z"
   },
   {
    "duration": 170,
    "start_time": "2022-07-01T10:09:15.729Z"
   },
   {
    "duration": 10,
    "start_time": "2022-07-01T10:09:15.900Z"
   },
   {
    "duration": 137,
    "start_time": "2022-07-01T10:09:15.911Z"
   },
   {
    "duration": 9,
    "start_time": "2022-07-01T10:09:16.049Z"
   },
   {
    "duration": 153,
    "start_time": "2022-07-01T10:09:16.060Z"
   },
   {
    "duration": 16,
    "start_time": "2022-07-01T10:09:16.215Z"
   },
   {
    "duration": 137,
    "start_time": "2022-07-01T10:09:16.233Z"
   },
   {
    "duration": 8,
    "start_time": "2022-07-01T10:09:16.372Z"
   },
   {
    "duration": 212,
    "start_time": "2022-07-01T10:09:16.383Z"
   },
   {
    "duration": 10,
    "start_time": "2022-07-01T10:09:16.597Z"
   },
   {
    "duration": 36,
    "start_time": "2022-07-01T10:09:16.609Z"
   },
   {
    "duration": 22,
    "start_time": "2022-07-01T10:09:16.648Z"
   },
   {
    "duration": 10,
    "start_time": "2022-07-01T10:09:16.673Z"
   },
   {
    "duration": 132,
    "start_time": "2022-07-01T10:09:16.686Z"
   },
   {
    "duration": 17,
    "start_time": "2022-07-01T10:09:16.821Z"
   },
   {
    "duration": 105,
    "start_time": "2022-07-01T10:09:16.840Z"
   },
   {
    "duration": 10,
    "start_time": "2022-07-01T10:09:16.947Z"
   },
   {
    "duration": 20,
    "start_time": "2022-07-01T10:09:16.959Z"
   },
   {
    "duration": 13,
    "start_time": "2022-07-01T10:09:16.981Z"
   },
   {
    "duration": 28,
    "start_time": "2022-07-01T10:09:16.997Z"
   },
   {
    "duration": 15,
    "start_time": "2022-07-01T10:09:17.027Z"
   },
   {
    "duration": 11,
    "start_time": "2022-07-01T10:09:17.044Z"
   },
   {
    "duration": 119,
    "start_time": "2022-07-01T10:09:17.057Z"
   },
   {
    "duration": 0,
    "start_time": "2022-07-01T10:09:17.178Z"
   },
   {
    "duration": 0,
    "start_time": "2022-07-01T10:09:17.179Z"
   },
   {
    "duration": 0,
    "start_time": "2022-07-01T10:09:17.180Z"
   },
   {
    "duration": 0,
    "start_time": "2022-07-01T10:09:17.182Z"
   },
   {
    "duration": 0,
    "start_time": "2022-07-01T10:09:17.183Z"
   },
   {
    "duration": 0,
    "start_time": "2022-07-01T10:09:17.185Z"
   },
   {
    "duration": 0,
    "start_time": "2022-07-01T10:09:17.186Z"
   },
   {
    "duration": 0,
    "start_time": "2022-07-01T10:09:17.187Z"
   },
   {
    "duration": 0,
    "start_time": "2022-07-01T10:09:17.188Z"
   },
   {
    "duration": 0,
    "start_time": "2022-07-01T10:09:17.189Z"
   },
   {
    "duration": 0,
    "start_time": "2022-07-01T10:09:17.191Z"
   },
   {
    "duration": 0,
    "start_time": "2022-07-01T10:09:17.192Z"
   },
   {
    "duration": 0,
    "start_time": "2022-07-01T10:09:17.194Z"
   },
   {
    "duration": 28,
    "start_time": "2022-07-01T10:09:56.309Z"
   },
   {
    "duration": 26,
    "start_time": "2022-07-01T10:10:16.580Z"
   },
   {
    "duration": 20,
    "start_time": "2022-07-01T10:10:28.447Z"
   },
   {
    "duration": 15,
    "start_time": "2022-07-01T10:11:47.280Z"
   },
   {
    "duration": 21,
    "start_time": "2022-07-01T10:13:23.029Z"
   },
   {
    "duration": 22,
    "start_time": "2022-07-01T10:13:35.849Z"
   },
   {
    "duration": 1502,
    "start_time": "2022-07-01T10:13:41.889Z"
   },
   {
    "duration": 21,
    "start_time": "2022-07-01T10:14:44.349Z"
   },
   {
    "duration": 3,
    "start_time": "2022-07-01T10:14:53.023Z"
   },
   {
    "duration": 66,
    "start_time": "2022-07-01T10:14:53.029Z"
   },
   {
    "duration": 14,
    "start_time": "2022-07-01T10:14:53.097Z"
   },
   {
    "duration": 16,
    "start_time": "2022-07-01T10:14:53.113Z"
   },
   {
    "duration": 10,
    "start_time": "2022-07-01T10:14:53.131Z"
   },
   {
    "duration": 13,
    "start_time": "2022-07-01T10:14:53.143Z"
   },
   {
    "duration": 9,
    "start_time": "2022-07-01T10:14:53.158Z"
   },
   {
    "duration": 21,
    "start_time": "2022-07-01T10:14:53.169Z"
   },
   {
    "duration": 20,
    "start_time": "2022-07-01T10:14:53.193Z"
   },
   {
    "duration": 25,
    "start_time": "2022-07-01T10:14:53.215Z"
   },
   {
    "duration": 22,
    "start_time": "2022-07-01T10:14:53.242Z"
   },
   {
    "duration": 10,
    "start_time": "2022-07-01T10:14:53.266Z"
   },
   {
    "duration": 19,
    "start_time": "2022-07-01T10:14:53.278Z"
   },
   {
    "duration": 43,
    "start_time": "2022-07-01T10:14:53.299Z"
   },
   {
    "duration": 14,
    "start_time": "2022-07-01T10:14:53.343Z"
   },
   {
    "duration": 31,
    "start_time": "2022-07-01T10:14:53.359Z"
   },
   {
    "duration": 96,
    "start_time": "2022-07-01T10:14:53.391Z"
   },
   {
    "duration": 7,
    "start_time": "2022-07-01T10:14:53.488Z"
   },
   {
    "duration": 33,
    "start_time": "2022-07-01T10:14:53.496Z"
   },
   {
    "duration": 344,
    "start_time": "2022-07-01T10:14:53.531Z"
   },
   {
    "duration": 5,
    "start_time": "2022-07-01T10:14:53.878Z"
   },
   {
    "duration": 14,
    "start_time": "2022-07-01T10:14:53.885Z"
   },
   {
    "duration": 357,
    "start_time": "2022-07-01T10:14:53.900Z"
   },
   {
    "duration": 16,
    "start_time": "2022-07-01T10:14:54.259Z"
   },
   {
    "duration": 176,
    "start_time": "2022-07-01T10:14:54.277Z"
   },
   {
    "duration": 184,
    "start_time": "2022-07-01T10:14:54.455Z"
   },
   {
    "duration": 198,
    "start_time": "2022-07-01T10:14:54.641Z"
   },
   {
    "duration": 20,
    "start_time": "2022-07-01T10:14:54.840Z"
   },
   {
    "duration": 7,
    "start_time": "2022-07-01T10:14:54.861Z"
   },
   {
    "duration": 156,
    "start_time": "2022-07-01T10:14:54.870Z"
   },
   {
    "duration": 142,
    "start_time": "2022-07-01T10:14:55.028Z"
   },
   {
    "duration": 132,
    "start_time": "2022-07-01T10:14:55.172Z"
   },
   {
    "duration": 141,
    "start_time": "2022-07-01T10:14:55.305Z"
   },
   {
    "duration": 136,
    "start_time": "2022-07-01T10:14:55.448Z"
   },
   {
    "duration": 15,
    "start_time": "2022-07-01T10:14:55.586Z"
   },
   {
    "duration": 3,
    "start_time": "2022-07-01T10:14:55.603Z"
   },
   {
    "duration": 18,
    "start_time": "2022-07-01T10:14:55.626Z"
   },
   {
    "duration": 25,
    "start_time": "2022-07-01T10:14:55.646Z"
   },
   {
    "duration": 34,
    "start_time": "2022-07-01T10:14:55.673Z"
   },
   {
    "duration": 101,
    "start_time": "2022-07-01T10:14:55.726Z"
   },
   {
    "duration": 7,
    "start_time": "2022-07-01T10:14:55.829Z"
   },
   {
    "duration": 99,
    "start_time": "2022-07-01T10:14:55.837Z"
   },
   {
    "duration": 7,
    "start_time": "2022-07-01T10:14:55.938Z"
   },
   {
    "duration": 16,
    "start_time": "2022-07-01T10:14:55.947Z"
   },
   {
    "duration": 163,
    "start_time": "2022-07-01T10:14:55.964Z"
   },
   {
    "duration": 8,
    "start_time": "2022-07-01T10:14:56.128Z"
   },
   {
    "duration": 142,
    "start_time": "2022-07-01T10:14:56.138Z"
   },
   {
    "duration": 8,
    "start_time": "2022-07-01T10:14:56.281Z"
   },
   {
    "duration": 144,
    "start_time": "2022-07-01T10:14:56.290Z"
   },
   {
    "duration": 9,
    "start_time": "2022-07-01T10:14:56.435Z"
   },
   {
    "duration": 173,
    "start_time": "2022-07-01T10:14:56.446Z"
   },
   {
    "duration": 10,
    "start_time": "2022-07-01T10:14:56.621Z"
   },
   {
    "duration": 239,
    "start_time": "2022-07-01T10:14:56.633Z"
   },
   {
    "duration": 10,
    "start_time": "2022-07-01T10:14:56.873Z"
   },
   {
    "duration": 11,
    "start_time": "2022-07-01T10:14:56.884Z"
   },
   {
    "duration": 9,
    "start_time": "2022-07-01T10:14:56.899Z"
   },
   {
    "duration": 6,
    "start_time": "2022-07-01T10:14:56.926Z"
   },
   {
    "duration": 114,
    "start_time": "2022-07-01T10:14:56.934Z"
   },
   {
    "duration": 12,
    "start_time": "2022-07-01T10:14:57.050Z"
   },
   {
    "duration": 205,
    "start_time": "2022-07-01T10:14:57.063Z"
   },
   {
    "duration": 7,
    "start_time": "2022-07-01T10:14:57.269Z"
   },
   {
    "duration": 13,
    "start_time": "2022-07-01T10:14:57.278Z"
   },
   {
    "duration": 8,
    "start_time": "2022-07-01T10:14:57.293Z"
   },
   {
    "duration": 7,
    "start_time": "2022-07-01T10:14:57.326Z"
   },
   {
    "duration": 8,
    "start_time": "2022-07-01T10:14:57.334Z"
   },
   {
    "duration": 13,
    "start_time": "2022-07-01T10:14:57.344Z"
   },
   {
    "duration": 35,
    "start_time": "2022-07-01T10:14:57.358Z"
   },
   {
    "duration": 0,
    "start_time": "2022-07-01T10:14:57.395Z"
   },
   {
    "duration": 0,
    "start_time": "2022-07-01T10:14:57.397Z"
   },
   {
    "duration": 0,
    "start_time": "2022-07-01T10:14:57.398Z"
   },
   {
    "duration": 0,
    "start_time": "2022-07-01T10:14:57.399Z"
   },
   {
    "duration": 0,
    "start_time": "2022-07-01T10:14:57.400Z"
   },
   {
    "duration": 0,
    "start_time": "2022-07-01T10:14:57.401Z"
   },
   {
    "duration": 0,
    "start_time": "2022-07-01T10:14:57.425Z"
   },
   {
    "duration": 0,
    "start_time": "2022-07-01T10:14:57.427Z"
   },
   {
    "duration": 0,
    "start_time": "2022-07-01T10:14:57.428Z"
   },
   {
    "duration": 0,
    "start_time": "2022-07-01T10:14:57.429Z"
   },
   {
    "duration": 0,
    "start_time": "2022-07-01T10:14:57.430Z"
   },
   {
    "duration": 0,
    "start_time": "2022-07-01T10:14:57.431Z"
   },
   {
    "duration": 0,
    "start_time": "2022-07-01T10:14:57.432Z"
   },
   {
    "duration": 810,
    "start_time": "2022-07-01T10:15:21.964Z"
   },
   {
    "duration": 70,
    "start_time": "2022-07-01T10:15:22.776Z"
   },
   {
    "duration": 13,
    "start_time": "2022-07-01T10:15:22.848Z"
   },
   {
    "duration": 20,
    "start_time": "2022-07-01T10:15:22.863Z"
   },
   {
    "duration": 5,
    "start_time": "2022-07-01T10:15:22.885Z"
   },
   {
    "duration": 7,
    "start_time": "2022-07-01T10:15:22.891Z"
   },
   {
    "duration": 32,
    "start_time": "2022-07-01T10:15:22.900Z"
   },
   {
    "duration": 22,
    "start_time": "2022-07-01T10:15:22.934Z"
   },
   {
    "duration": 19,
    "start_time": "2022-07-01T10:15:22.957Z"
   },
   {
    "duration": 15,
    "start_time": "2022-07-01T10:15:22.978Z"
   },
   {
    "duration": 19,
    "start_time": "2022-07-01T10:15:22.995Z"
   },
   {
    "duration": 19,
    "start_time": "2022-07-01T10:15:23.025Z"
   },
   {
    "duration": 11,
    "start_time": "2022-07-01T10:15:23.045Z"
   },
   {
    "duration": 17,
    "start_time": "2022-07-01T10:15:23.059Z"
   },
   {
    "duration": 13,
    "start_time": "2022-07-01T10:15:23.078Z"
   },
   {
    "duration": 54,
    "start_time": "2022-07-01T10:15:23.094Z"
   },
   {
    "duration": 95,
    "start_time": "2022-07-01T10:15:23.150Z"
   },
   {
    "duration": 6,
    "start_time": "2022-07-01T10:15:23.248Z"
   },
   {
    "duration": 11,
    "start_time": "2022-07-01T10:15:23.256Z"
   },
   {
    "duration": 609,
    "start_time": "2022-07-01T10:15:23.268Z"
   },
   {
    "duration": 5,
    "start_time": "2022-07-01T10:15:23.879Z"
   },
   {
    "duration": 15,
    "start_time": "2022-07-01T10:15:23.885Z"
   },
   {
    "duration": 278,
    "start_time": "2022-07-01T10:15:23.902Z"
   },
   {
    "duration": 19,
    "start_time": "2022-07-01T10:15:24.182Z"
   },
   {
    "duration": 194,
    "start_time": "2022-07-01T10:15:24.203Z"
   },
   {
    "duration": 194,
    "start_time": "2022-07-01T10:15:24.399Z"
   },
   {
    "duration": 206,
    "start_time": "2022-07-01T10:15:24.595Z"
   },
   {
    "duration": 32,
    "start_time": "2022-07-01T10:15:24.804Z"
   },
   {
    "duration": 7,
    "start_time": "2022-07-01T10:15:24.840Z"
   },
   {
    "duration": 143,
    "start_time": "2022-07-01T10:15:24.849Z"
   },
   {
    "duration": 149,
    "start_time": "2022-07-01T10:15:24.994Z"
   },
   {
    "duration": 159,
    "start_time": "2022-07-01T10:15:25.145Z"
   },
   {
    "duration": 147,
    "start_time": "2022-07-01T10:15:25.305Z"
   },
   {
    "duration": 231,
    "start_time": "2022-07-01T10:15:25.453Z"
   },
   {
    "duration": 15,
    "start_time": "2022-07-01T10:15:25.686Z"
   },
   {
    "duration": 7,
    "start_time": "2022-07-01T10:15:25.703Z"
   },
   {
    "duration": 18,
    "start_time": "2022-07-01T10:15:25.734Z"
   },
   {
    "duration": 25,
    "start_time": "2022-07-01T10:15:25.754Z"
   },
   {
    "duration": 63,
    "start_time": "2022-07-01T10:15:25.780Z"
   },
   {
    "duration": 117,
    "start_time": "2022-07-01T10:15:25.845Z"
   },
   {
    "duration": 7,
    "start_time": "2022-07-01T10:15:25.966Z"
   },
   {
    "duration": 114,
    "start_time": "2022-07-01T10:15:25.975Z"
   },
   {
    "duration": 7,
    "start_time": "2022-07-01T10:15:26.091Z"
   },
   {
    "duration": 32,
    "start_time": "2022-07-01T10:15:26.100Z"
   },
   {
    "duration": 160,
    "start_time": "2022-07-01T10:15:26.135Z"
   },
   {
    "duration": 8,
    "start_time": "2022-07-01T10:15:26.297Z"
   },
   {
    "duration": 168,
    "start_time": "2022-07-01T10:15:26.306Z"
   },
   {
    "duration": 9,
    "start_time": "2022-07-01T10:15:26.477Z"
   },
   {
    "duration": 204,
    "start_time": "2022-07-01T10:15:26.488Z"
   },
   {
    "duration": 9,
    "start_time": "2022-07-01T10:15:26.695Z"
   },
   {
    "duration": 198,
    "start_time": "2022-07-01T10:15:26.706Z"
   },
   {
    "duration": 21,
    "start_time": "2022-07-01T10:15:26.906Z"
   },
   {
    "duration": 162,
    "start_time": "2022-07-01T10:15:26.929Z"
   },
   {
    "duration": 9,
    "start_time": "2022-07-01T10:15:27.092Z"
   },
   {
    "duration": 52,
    "start_time": "2022-07-01T10:15:27.103Z"
   },
   {
    "duration": 32,
    "start_time": "2022-07-01T10:15:27.156Z"
   },
   {
    "duration": 38,
    "start_time": "2022-07-01T10:15:27.190Z"
   },
   {
    "duration": 104,
    "start_time": "2022-07-01T10:15:27.234Z"
   },
   {
    "duration": 11,
    "start_time": "2022-07-01T10:15:27.342Z"
   },
   {
    "duration": 107,
    "start_time": "2022-07-01T10:15:27.355Z"
   },
   {
    "duration": 8,
    "start_time": "2022-07-01T10:15:27.464Z"
   },
   {
    "duration": 8,
    "start_time": "2022-07-01T10:15:27.475Z"
   },
   {
    "duration": 9,
    "start_time": "2022-07-01T10:15:27.485Z"
   },
   {
    "duration": 54,
    "start_time": "2022-07-01T10:15:27.495Z"
   },
   {
    "duration": 10,
    "start_time": "2022-07-01T10:15:27.551Z"
   },
   {
    "duration": 10,
    "start_time": "2022-07-01T10:15:27.563Z"
   },
   {
    "duration": 103,
    "start_time": "2022-07-01T10:15:27.575Z"
   },
   {
    "duration": 0,
    "start_time": "2022-07-01T10:15:27.679Z"
   },
   {
    "duration": 0,
    "start_time": "2022-07-01T10:15:27.680Z"
   },
   {
    "duration": 0,
    "start_time": "2022-07-01T10:15:27.681Z"
   },
   {
    "duration": 0,
    "start_time": "2022-07-01T10:15:27.682Z"
   },
   {
    "duration": 0,
    "start_time": "2022-07-01T10:15:27.683Z"
   },
   {
    "duration": 0,
    "start_time": "2022-07-01T10:15:27.684Z"
   },
   {
    "duration": 0,
    "start_time": "2022-07-01T10:15:27.685Z"
   },
   {
    "duration": 0,
    "start_time": "2022-07-01T10:15:27.686Z"
   },
   {
    "duration": 0,
    "start_time": "2022-07-01T10:15:27.687Z"
   },
   {
    "duration": 0,
    "start_time": "2022-07-01T10:15:27.688Z"
   },
   {
    "duration": 0,
    "start_time": "2022-07-01T10:15:27.689Z"
   },
   {
    "duration": 0,
    "start_time": "2022-07-01T10:15:27.690Z"
   },
   {
    "duration": 0,
    "start_time": "2022-07-01T10:15:27.691Z"
   },
   {
    "duration": 18,
    "start_time": "2022-07-01T10:15:48.639Z"
   },
   {
    "duration": 20,
    "start_time": "2022-07-01T10:16:59.936Z"
   },
   {
    "duration": 21,
    "start_time": "2022-07-01T10:17:06.551Z"
   },
   {
    "duration": 12,
    "start_time": "2022-07-01T10:17:15.611Z"
   },
   {
    "duration": 16,
    "start_time": "2022-07-01T10:17:21.791Z"
   },
   {
    "duration": 1851,
    "start_time": "2022-07-01T10:17:52.405Z"
   },
   {
    "duration": 19,
    "start_time": "2022-07-01T10:18:18.512Z"
   },
   {
    "duration": 18,
    "start_time": "2022-07-01T10:18:25.586Z"
   },
   {
    "duration": 18,
    "start_time": "2022-07-01T10:20:58.346Z"
   },
   {
    "duration": 19,
    "start_time": "2022-07-01T10:22:48.942Z"
   },
   {
    "duration": 111,
    "start_time": "2022-07-01T10:25:45.250Z"
   },
   {
    "duration": 18,
    "start_time": "2022-07-01T10:26:10.479Z"
   },
   {
    "duration": 22,
    "start_time": "2022-07-01T10:27:35.311Z"
   },
   {
    "duration": 18,
    "start_time": "2022-07-01T10:27:57.598Z"
   },
   {
    "duration": 18,
    "start_time": "2022-07-01T10:28:28.574Z"
   },
   {
    "duration": 19,
    "start_time": "2022-07-01T10:28:41.996Z"
   },
   {
    "duration": 19,
    "start_time": "2022-07-01T10:29:04.159Z"
   },
   {
    "duration": 18,
    "start_time": "2022-07-01T10:29:45.700Z"
   },
   {
    "duration": 24,
    "start_time": "2022-07-01T10:31:24.234Z"
   },
   {
    "duration": 23,
    "start_time": "2022-07-01T10:36:21.111Z"
   },
   {
    "duration": 24,
    "start_time": "2022-07-01T10:37:16.752Z"
   },
   {
    "duration": 23,
    "start_time": "2022-07-01T10:37:27.680Z"
   },
   {
    "duration": 34,
    "start_time": "2022-07-01T10:39:22.287Z"
   },
   {
    "duration": 27,
    "start_time": "2022-07-01T10:39:38.413Z"
   },
   {
    "duration": 22,
    "start_time": "2022-07-01T10:39:48.172Z"
   },
   {
    "duration": 131,
    "start_time": "2022-07-01T10:40:28.907Z"
   },
   {
    "duration": 301,
    "start_time": "2022-07-01T10:41:17.548Z"
   },
   {
    "duration": 289,
    "start_time": "2022-07-01T10:41:28.156Z"
   },
   {
    "duration": 227,
    "start_time": "2022-07-01T10:42:11.673Z"
   },
   {
    "duration": 373,
    "start_time": "2022-07-01T10:42:21.514Z"
   },
   {
    "duration": 298,
    "start_time": "2022-07-01T10:42:31.989Z"
   },
   {
    "duration": 305,
    "start_time": "2022-07-01T10:42:42.701Z"
   },
   {
    "duration": 317,
    "start_time": "2022-07-01T10:44:38.783Z"
   },
   {
    "duration": 796,
    "start_time": "2022-07-01T10:45:01.732Z"
   },
   {
    "duration": 341,
    "start_time": "2022-07-01T10:45:08.532Z"
   },
   {
    "duration": 790,
    "start_time": "2022-07-01T10:45:53.113Z"
   },
   {
    "duration": 292,
    "start_time": "2022-07-01T10:46:23.660Z"
   },
   {
    "duration": 330,
    "start_time": "2022-07-01T10:47:14.172Z"
   },
   {
    "duration": 309,
    "start_time": "2022-07-01T10:47:31.952Z"
   },
   {
    "duration": 382,
    "start_time": "2022-07-01T10:47:37.699Z"
   },
   {
    "duration": 284,
    "start_time": "2022-07-01T10:47:47.846Z"
   },
   {
    "duration": 306,
    "start_time": "2022-07-01T10:47:54.000Z"
   },
   {
    "duration": 86,
    "start_time": "2022-07-04T08:59:58.205Z"
   },
   {
    "duration": 1179,
    "start_time": "2022-07-04T09:00:05.994Z"
   },
   {
    "duration": 198,
    "start_time": "2022-07-04T09:00:07.178Z"
   },
   {
    "duration": 23,
    "start_time": "2022-07-04T09:00:07.378Z"
   },
   {
    "duration": 25,
    "start_time": "2022-07-04T09:00:07.405Z"
   },
   {
    "duration": 49,
    "start_time": "2022-07-04T09:00:07.432Z"
   },
   {
    "duration": 15,
    "start_time": "2022-07-04T09:00:07.484Z"
   },
   {
    "duration": 25,
    "start_time": "2022-07-04T09:00:07.502Z"
   },
   {
    "duration": 72,
    "start_time": "2022-07-04T09:00:07.531Z"
   },
   {
    "duration": 47,
    "start_time": "2022-07-04T09:00:07.605Z"
   },
   {
    "duration": 76,
    "start_time": "2022-07-04T09:00:07.660Z"
   },
   {
    "duration": 91,
    "start_time": "2022-07-04T09:00:07.739Z"
   },
   {
    "duration": 28,
    "start_time": "2022-07-04T09:00:07.832Z"
   },
   {
    "duration": 33,
    "start_time": "2022-07-04T09:00:07.863Z"
   },
   {
    "duration": 71,
    "start_time": "2022-07-04T09:00:07.899Z"
   },
   {
    "duration": 32,
    "start_time": "2022-07-04T09:00:07.975Z"
   },
   {
    "duration": 80,
    "start_time": "2022-07-04T09:00:08.009Z"
   },
   {
    "duration": 160,
    "start_time": "2022-07-04T09:00:08.093Z"
   },
   {
    "duration": 9,
    "start_time": "2022-07-04T09:00:08.256Z"
   },
   {
    "duration": 46,
    "start_time": "2022-07-04T09:00:08.267Z"
   },
   {
    "duration": 1178,
    "start_time": "2022-07-04T09:00:08.315Z"
   },
   {
    "duration": 8,
    "start_time": "2022-07-04T09:00:09.496Z"
   },
   {
    "duration": 21,
    "start_time": "2022-07-04T09:00:09.506Z"
   },
   {
    "duration": 419,
    "start_time": "2022-07-04T09:00:09.533Z"
   },
   {
    "duration": 33,
    "start_time": "2022-07-04T09:00:09.958Z"
   },
   {
    "duration": 371,
    "start_time": "2022-07-04T09:00:09.995Z"
   },
   {
    "duration": 297,
    "start_time": "2022-07-04T09:00:10.368Z"
   },
   {
    "duration": 316,
    "start_time": "2022-07-04T09:00:10.668Z"
   },
   {
    "duration": 30,
    "start_time": "2022-07-04T09:00:10.991Z"
   },
   {
    "duration": 18,
    "start_time": "2022-07-04T09:00:11.033Z"
   },
   {
    "duration": 196,
    "start_time": "2022-07-04T09:00:11.053Z"
   },
   {
    "duration": 192,
    "start_time": "2022-07-04T09:00:11.252Z"
   },
   {
    "duration": 303,
    "start_time": "2022-07-04T09:00:11.446Z"
   },
   {
    "duration": 226,
    "start_time": "2022-07-04T09:00:11.752Z"
   },
   {
    "duration": 194,
    "start_time": "2022-07-04T09:00:11.986Z"
   },
   {
    "duration": 20,
    "start_time": "2022-07-04T09:00:12.182Z"
   },
   {
    "duration": 25,
    "start_time": "2022-07-04T09:00:12.204Z"
   },
   {
    "duration": 51,
    "start_time": "2022-07-04T09:00:12.232Z"
   },
   {
    "duration": 51,
    "start_time": "2022-07-04T09:00:12.286Z"
   },
   {
    "duration": 67,
    "start_time": "2022-07-04T09:00:12.340Z"
   },
   {
    "duration": 153,
    "start_time": "2022-07-04T09:00:12.409Z"
   },
   {
    "duration": 23,
    "start_time": "2022-07-04T09:00:12.569Z"
   },
   {
    "duration": 172,
    "start_time": "2022-07-04T09:00:12.595Z"
   },
   {
    "duration": 12,
    "start_time": "2022-07-04T09:00:12.773Z"
   },
   {
    "duration": 53,
    "start_time": "2022-07-04T09:00:12.789Z"
   },
   {
    "duration": 377,
    "start_time": "2022-07-04T09:00:12.844Z"
   },
   {
    "duration": 17,
    "start_time": "2022-07-04T09:00:13.228Z"
   },
   {
    "duration": 262,
    "start_time": "2022-07-04T09:00:13.253Z"
   },
   {
    "duration": 19,
    "start_time": "2022-07-04T09:00:13.521Z"
   },
   {
    "duration": 258,
    "start_time": "2022-07-04T09:00:13.542Z"
   },
   {
    "duration": 27,
    "start_time": "2022-07-04T09:00:13.803Z"
   },
   {
    "duration": 218,
    "start_time": "2022-07-04T09:00:13.832Z"
   },
   {
    "duration": 15,
    "start_time": "2022-07-04T09:00:14.052Z"
   },
   {
    "duration": 270,
    "start_time": "2022-07-04T09:00:14.070Z"
   },
   {
    "duration": 14,
    "start_time": "2022-07-04T09:00:14.344Z"
   },
   {
    "duration": 58,
    "start_time": "2022-07-04T09:00:14.360Z"
   },
   {
    "duration": 47,
    "start_time": "2022-07-04T09:00:14.420Z"
   },
   {
    "duration": 42,
    "start_time": "2022-07-04T09:00:14.474Z"
   },
   {
    "duration": 161,
    "start_time": "2022-07-04T09:00:14.518Z"
   },
   {
    "duration": 14,
    "start_time": "2022-07-04T09:00:14.681Z"
   },
   {
    "duration": 196,
    "start_time": "2022-07-04T09:00:14.698Z"
   },
   {
    "duration": 11,
    "start_time": "2022-07-04T09:00:14.896Z"
   },
   {
    "duration": 33,
    "start_time": "2022-07-04T09:00:14.910Z"
   },
   {
    "duration": 57,
    "start_time": "2022-07-04T09:00:14.946Z"
   },
   {
    "duration": 40,
    "start_time": "2022-07-04T09:00:15.005Z"
   },
   {
    "duration": 40,
    "start_time": "2022-07-04T09:00:15.047Z"
   },
   {
    "duration": 30,
    "start_time": "2022-07-04T09:00:15.090Z"
   },
   {
    "duration": 589,
    "start_time": "2022-07-04T09:00:15.122Z"
   },
   {
    "duration": 24,
    "start_time": "2022-07-04T09:00:15.714Z"
   },
   {
    "duration": 59,
    "start_time": "2022-07-04T09:00:15.744Z"
   },
   {
    "duration": 67,
    "start_time": "2022-07-04T09:00:15.805Z"
   },
   {
    "duration": 35,
    "start_time": "2022-07-04T09:00:15.874Z"
   },
   {
    "duration": 219,
    "start_time": "2022-07-04T09:00:15.912Z"
   },
   {
    "duration": 383,
    "start_time": "2022-07-04T09:00:16.134Z"
   },
   {
    "duration": 217,
    "start_time": "2022-07-04T09:00:16.525Z"
   },
   {
    "duration": 18,
    "start_time": "2022-07-04T09:00:16.743Z"
   },
   {
    "duration": 33,
    "start_time": "2022-07-04T09:00:16.765Z"
   },
   {
    "duration": 47,
    "start_time": "2022-07-04T09:00:16.800Z"
   },
   {
    "duration": 29,
    "start_time": "2022-07-04T09:00:16.850Z"
   },
   {
    "duration": 43,
    "start_time": "2022-07-04T09:00:16.882Z"
   },
   {
    "duration": 29,
    "start_time": "2022-07-04T09:00:16.928Z"
   },
   {
    "duration": 43,
    "start_time": "2022-07-04T09:06:09.572Z"
   },
   {
    "duration": 167,
    "start_time": "2022-07-04T09:08:40.875Z"
   },
   {
    "duration": 1008,
    "start_time": "2022-07-04T09:09:34.003Z"
   },
   {
    "duration": 967,
    "start_time": "2022-07-04T09:10:18.923Z"
   },
   {
    "duration": 783,
    "start_time": "2022-07-04T09:12:14.255Z"
   },
   {
    "duration": 29,
    "start_time": "2022-07-04T09:18:57.774Z"
   },
   {
    "duration": 461,
    "start_time": "2022-07-04T09:21:09.983Z"
   },
   {
    "duration": 15,
    "start_time": "2022-07-04T09:25:28.165Z"
   },
   {
    "duration": 259,
    "start_time": "2022-07-04T09:27:03.617Z"
   },
   {
    "duration": 21,
    "start_time": "2022-07-04T09:27:20.619Z"
   },
   {
    "duration": 309,
    "start_time": "2022-07-04T09:27:27.150Z"
   },
   {
    "duration": 190,
    "start_time": "2022-07-04T09:28:20.805Z"
   },
   {
    "duration": 184,
    "start_time": "2022-07-04T09:28:25.002Z"
   },
   {
    "duration": 209,
    "start_time": "2022-07-04T09:31:03.247Z"
   },
   {
    "duration": 187,
    "start_time": "2022-07-04T09:31:12.277Z"
   },
   {
    "duration": 198,
    "start_time": "2022-07-04T09:31:16.822Z"
   },
   {
    "duration": 220,
    "start_time": "2022-07-04T09:32:08.849Z"
   },
   {
    "duration": 187,
    "start_time": "2022-07-04T09:32:16.285Z"
   },
   {
    "duration": 198,
    "start_time": "2022-07-04T09:34:13.868Z"
   },
   {
    "duration": 187,
    "start_time": "2022-07-04T09:37:29.107Z"
   },
   {
    "duration": 223,
    "start_time": "2022-07-04T09:37:44.705Z"
   },
   {
    "duration": 280,
    "start_time": "2022-07-04T09:37:51.604Z"
   },
   {
    "duration": 380,
    "start_time": "2022-07-04T09:38:03.885Z"
   },
   {
    "duration": 220,
    "start_time": "2022-07-04T09:38:15.345Z"
   },
   {
    "duration": 200,
    "start_time": "2022-07-04T09:38:33.263Z"
   },
   {
    "duration": 183,
    "start_time": "2022-07-04T09:38:39.566Z"
   },
   {
    "duration": 169,
    "start_time": "2022-07-04T09:39:10.968Z"
   },
   {
    "duration": 233,
    "start_time": "2022-07-04T09:43:15.416Z"
   },
   {
    "duration": 9,
    "start_time": "2022-07-04T09:46:27.112Z"
   },
   {
    "duration": 44,
    "start_time": "2022-07-04T09:47:18.304Z"
   },
   {
    "duration": 61,
    "start_time": "2022-07-04T09:48:32.405Z"
   },
   {
    "duration": 17,
    "start_time": "2022-07-04T09:49:01.866Z"
   },
   {
    "duration": 189,
    "start_time": "2022-07-04T10:04:47.710Z"
   },
   {
    "duration": 157,
    "start_time": "2022-07-04T10:05:05.351Z"
   },
   {
    "duration": 11,
    "start_time": "2022-07-04T10:06:41.988Z"
   },
   {
    "duration": 12,
    "start_time": "2022-07-04T10:07:58.855Z"
   },
   {
    "duration": 15,
    "start_time": "2022-07-04T10:10:45.242Z"
   },
   {
    "duration": 24,
    "start_time": "2022-07-04T10:13:10.801Z"
   },
   {
    "duration": 130,
    "start_time": "2022-07-04T10:13:21.170Z"
   },
   {
    "duration": 178,
    "start_time": "2022-07-04T10:14:03.742Z"
   },
   {
    "duration": 17,
    "start_time": "2022-07-04T10:14:15.053Z"
   },
   {
    "duration": 177,
    "start_time": "2022-07-04T10:14:32.362Z"
   },
   {
    "duration": 166,
    "start_time": "2022-07-04T10:15:33.298Z"
   },
   {
    "duration": 65,
    "start_time": "2022-07-04T10:16:49.747Z"
   },
   {
    "duration": 19,
    "start_time": "2022-07-04T10:16:54.716Z"
   },
   {
    "duration": 18,
    "start_time": "2022-07-04T10:17:20.839Z"
   },
   {
    "duration": 16,
    "start_time": "2022-07-04T10:17:46.099Z"
   },
   {
    "duration": 16,
    "start_time": "2022-07-04T10:17:51.545Z"
   },
   {
    "duration": 21,
    "start_time": "2022-07-04T10:18:38.950Z"
   },
   {
    "duration": 876,
    "start_time": "2022-07-04T10:18:49.107Z"
   },
   {
    "duration": 110,
    "start_time": "2022-07-04T10:18:49.986Z"
   },
   {
    "duration": 22,
    "start_time": "2022-07-04T10:18:50.098Z"
   },
   {
    "duration": 27,
    "start_time": "2022-07-04T10:18:50.126Z"
   },
   {
    "duration": 22,
    "start_time": "2022-07-04T10:18:50.156Z"
   },
   {
    "duration": 10,
    "start_time": "2022-07-04T10:18:50.180Z"
   },
   {
    "duration": 17,
    "start_time": "2022-07-04T10:18:50.191Z"
   },
   {
    "duration": 9,
    "start_time": "2022-07-04T10:18:50.210Z"
   },
   {
    "duration": 49,
    "start_time": "2022-07-04T10:18:50.221Z"
   },
   {
    "duration": 18,
    "start_time": "2022-07-04T10:18:50.273Z"
   },
   {
    "duration": 33,
    "start_time": "2022-07-04T10:18:50.293Z"
   },
   {
    "duration": 23,
    "start_time": "2022-07-04T10:18:50.328Z"
   },
   {
    "duration": 32,
    "start_time": "2022-07-04T10:18:50.354Z"
   },
   {
    "duration": 32,
    "start_time": "2022-07-04T10:18:50.390Z"
   },
   {
    "duration": 49,
    "start_time": "2022-07-04T10:18:50.426Z"
   },
   {
    "duration": 21,
    "start_time": "2022-07-04T10:18:50.477Z"
   },
   {
    "duration": 129,
    "start_time": "2022-07-04T10:18:50.500Z"
   },
   {
    "duration": 15,
    "start_time": "2022-07-04T10:18:50.636Z"
   },
   {
    "duration": 16,
    "start_time": "2022-07-04T10:18:50.657Z"
   },
   {
    "duration": 704,
    "start_time": "2022-07-04T10:18:50.675Z"
   },
   {
    "duration": 6,
    "start_time": "2022-07-04T10:18:51.381Z"
   },
   {
    "duration": 23,
    "start_time": "2022-07-04T10:18:51.389Z"
   },
   {
    "duration": 357,
    "start_time": "2022-07-04T10:18:51.430Z"
   },
   {
    "duration": 20,
    "start_time": "2022-07-04T10:18:51.790Z"
   },
   {
    "duration": 239,
    "start_time": "2022-07-04T10:18:51.812Z"
   },
   {
    "duration": 283,
    "start_time": "2022-07-04T10:18:52.053Z"
   },
   {
    "duration": 233,
    "start_time": "2022-07-04T10:18:52.346Z"
   },
   {
    "duration": 24,
    "start_time": "2022-07-04T10:18:52.581Z"
   },
   {
    "duration": 26,
    "start_time": "2022-07-04T10:18:52.608Z"
   },
   {
    "duration": 235,
    "start_time": "2022-07-04T10:18:52.636Z"
   },
   {
    "duration": 195,
    "start_time": "2022-07-04T10:18:52.875Z"
   },
   {
    "duration": 153,
    "start_time": "2022-07-04T10:18:53.072Z"
   },
   {
    "duration": 170,
    "start_time": "2022-07-04T10:18:53.227Z"
   },
   {
    "duration": 262,
    "start_time": "2022-07-04T10:18:53.399Z"
   },
   {
    "duration": 17,
    "start_time": "2022-07-04T10:18:53.663Z"
   },
   {
    "duration": 2,
    "start_time": "2022-07-04T10:18:53.682Z"
   },
   {
    "duration": 44,
    "start_time": "2022-07-04T10:18:53.686Z"
   },
   {
    "duration": 261,
    "start_time": "2022-07-04T10:18:53.733Z"
   },
   {
    "duration": 182,
    "start_time": "2022-07-04T10:18:53.996Z"
   },
   {
    "duration": 18,
    "start_time": "2022-07-04T10:18:54.180Z"
   },
   {
    "duration": 184,
    "start_time": "2022-07-04T10:18:54.203Z"
   },
   {
    "duration": 10,
    "start_time": "2022-07-04T10:18:54.389Z"
   },
   {
    "duration": 192,
    "start_time": "2022-07-04T10:18:54.402Z"
   },
   {
    "duration": 14,
    "start_time": "2022-07-04T10:18:54.596Z"
   },
   {
    "duration": 213,
    "start_time": "2022-07-04T10:18:54.623Z"
   },
   {
    "duration": 12,
    "start_time": "2022-07-04T10:18:54.842Z"
   },
   {
    "duration": 146,
    "start_time": "2022-07-04T10:18:54.858Z"
   },
   {
    "duration": 11,
    "start_time": "2022-07-04T10:18:55.006Z"
   },
   {
    "duration": 228,
    "start_time": "2022-07-04T10:18:55.027Z"
   },
   {
    "duration": 10,
    "start_time": "2022-07-04T10:18:55.257Z"
   },
   {
    "duration": 182,
    "start_time": "2022-07-04T10:18:55.270Z"
   },
   {
    "duration": 11,
    "start_time": "2022-07-04T10:18:55.454Z"
   },
   {
    "duration": 13,
    "start_time": "2022-07-04T10:18:55.467Z"
   },
   {
    "duration": 125,
    "start_time": "2022-07-04T10:18:55.484Z"
   },
   {
    "duration": 0,
    "start_time": "2022-07-04T10:18:55.611Z"
   },
   {
    "duration": 0,
    "start_time": "2022-07-04T10:18:55.613Z"
   },
   {
    "duration": 0,
    "start_time": "2022-07-04T10:18:55.627Z"
   },
   {
    "duration": 0,
    "start_time": "2022-07-04T10:18:55.634Z"
   },
   {
    "duration": 0,
    "start_time": "2022-07-04T10:18:55.638Z"
   },
   {
    "duration": 0,
    "start_time": "2022-07-04T10:18:55.638Z"
   },
   {
    "duration": 0,
    "start_time": "2022-07-04T10:18:55.644Z"
   },
   {
    "duration": 0,
    "start_time": "2022-07-04T10:18:55.647Z"
   },
   {
    "duration": 0,
    "start_time": "2022-07-04T10:18:55.651Z"
   },
   {
    "duration": 0,
    "start_time": "2022-07-04T10:18:55.653Z"
   },
   {
    "duration": 0,
    "start_time": "2022-07-04T10:18:55.654Z"
   },
   {
    "duration": 0,
    "start_time": "2022-07-04T10:18:55.656Z"
   },
   {
    "duration": 0,
    "start_time": "2022-07-04T10:18:55.657Z"
   },
   {
    "duration": 0,
    "start_time": "2022-07-04T10:18:55.659Z"
   },
   {
    "duration": 0,
    "start_time": "2022-07-04T10:18:55.663Z"
   },
   {
    "duration": 0,
    "start_time": "2022-07-04T10:18:55.664Z"
   },
   {
    "duration": 0,
    "start_time": "2022-07-04T10:18:55.666Z"
   },
   {
    "duration": 0,
    "start_time": "2022-07-04T10:18:55.669Z"
   },
   {
    "duration": 0,
    "start_time": "2022-07-04T10:18:55.670Z"
   },
   {
    "duration": 0,
    "start_time": "2022-07-04T10:18:55.671Z"
   },
   {
    "duration": 0,
    "start_time": "2022-07-04T10:18:55.674Z"
   },
   {
    "duration": 0,
    "start_time": "2022-07-04T10:18:55.675Z"
   },
   {
    "duration": 0,
    "start_time": "2022-07-04T10:18:55.676Z"
   },
   {
    "duration": 0,
    "start_time": "2022-07-04T10:18:55.677Z"
   },
   {
    "duration": 0,
    "start_time": "2022-07-04T10:18:55.678Z"
   },
   {
    "duration": 0,
    "start_time": "2022-07-04T10:18:55.680Z"
   },
   {
    "duration": 12,
    "start_time": "2022-07-04T10:19:51.043Z"
   },
   {
    "duration": 28,
    "start_time": "2022-07-04T10:20:06.300Z"
   },
   {
    "duration": 165,
    "start_time": "2022-07-04T10:20:28.499Z"
   },
   {
    "duration": 259,
    "start_time": "2022-07-04T10:20:55.311Z"
   },
   {
    "duration": 321,
    "start_time": "2022-07-04T10:21:02.146Z"
   },
   {
    "duration": 190,
    "start_time": "2022-07-04T10:21:08.523Z"
   },
   {
    "duration": 17,
    "start_time": "2022-07-04T10:21:19.615Z"
   },
   {
    "duration": 202,
    "start_time": "2022-07-04T10:21:48.244Z"
   },
   {
    "duration": 192,
    "start_time": "2022-07-04T10:22:15.455Z"
   },
   {
    "duration": 15,
    "start_time": "2022-07-04T10:22:25.231Z"
   },
   {
    "duration": 960,
    "start_time": "2022-07-04T10:22:43.070Z"
   },
   {
    "duration": 77,
    "start_time": "2022-07-04T10:22:44.039Z"
   },
   {
    "duration": 31,
    "start_time": "2022-07-04T10:22:44.117Z"
   },
   {
    "duration": 19,
    "start_time": "2022-07-04T10:22:44.151Z"
   },
   {
    "duration": 7,
    "start_time": "2022-07-04T10:22:44.171Z"
   },
   {
    "duration": 8,
    "start_time": "2022-07-04T10:22:44.180Z"
   },
   {
    "duration": 12,
    "start_time": "2022-07-04T10:22:44.190Z"
   },
   {
    "duration": 30,
    "start_time": "2022-07-04T10:22:44.204Z"
   },
   {
    "duration": 41,
    "start_time": "2022-07-04T10:22:44.236Z"
   },
   {
    "duration": 17,
    "start_time": "2022-07-04T10:22:44.280Z"
   },
   {
    "duration": 27,
    "start_time": "2022-07-04T10:22:44.299Z"
   },
   {
    "duration": 17,
    "start_time": "2022-07-04T10:22:44.331Z"
   },
   {
    "duration": 19,
    "start_time": "2022-07-04T10:22:44.350Z"
   },
   {
    "duration": 19,
    "start_time": "2022-07-04T10:22:44.372Z"
   },
   {
    "duration": 35,
    "start_time": "2022-07-04T10:22:44.393Z"
   },
   {
    "duration": 24,
    "start_time": "2022-07-04T10:22:44.431Z"
   },
   {
    "duration": 113,
    "start_time": "2022-07-04T10:22:44.457Z"
   },
   {
    "duration": 7,
    "start_time": "2022-07-04T10:22:44.572Z"
   },
   {
    "duration": 13,
    "start_time": "2022-07-04T10:22:44.582Z"
   },
   {
    "duration": 657,
    "start_time": "2022-07-04T10:22:44.597Z"
   },
   {
    "duration": 6,
    "start_time": "2022-07-04T10:22:45.256Z"
   },
   {
    "duration": 23,
    "start_time": "2022-07-04T10:22:45.264Z"
   },
   {
    "duration": 311,
    "start_time": "2022-07-04T10:22:45.289Z"
   },
   {
    "duration": 36,
    "start_time": "2022-07-04T10:22:45.602Z"
   },
   {
    "duration": 211,
    "start_time": "2022-07-04T10:22:45.639Z"
   },
   {
    "duration": 245,
    "start_time": "2022-07-04T10:22:45.852Z"
   },
   {
    "duration": 287,
    "start_time": "2022-07-04T10:22:46.099Z"
   },
   {
    "duration": 24,
    "start_time": "2022-07-04T10:22:46.394Z"
   },
   {
    "duration": 10,
    "start_time": "2022-07-04T10:22:46.420Z"
   },
   {
    "duration": 225,
    "start_time": "2022-07-04T10:22:46.432Z"
   },
   {
    "duration": 192,
    "start_time": "2022-07-04T10:22:46.660Z"
   },
   {
    "duration": 153,
    "start_time": "2022-07-04T10:22:46.854Z"
   },
   {
    "duration": 194,
    "start_time": "2022-07-04T10:22:47.009Z"
   },
   {
    "duration": 258,
    "start_time": "2022-07-04T10:22:47.204Z"
   },
   {
    "duration": 20,
    "start_time": "2022-07-04T10:22:47.463Z"
   },
   {
    "duration": 2,
    "start_time": "2022-07-04T10:22:47.485Z"
   },
   {
    "duration": 37,
    "start_time": "2022-07-04T10:22:47.489Z"
   },
   {
    "duration": 322,
    "start_time": "2022-07-04T10:22:47.528Z"
   },
   {
    "duration": 192,
    "start_time": "2022-07-04T10:22:47.852Z"
   },
   {
    "duration": 16,
    "start_time": "2022-07-04T10:22:48.046Z"
   },
   {
    "duration": 163,
    "start_time": "2022-07-04T10:22:48.064Z"
   },
   {
    "duration": 9,
    "start_time": "2022-07-04T10:22:48.230Z"
   },
   {
    "duration": 166,
    "start_time": "2022-07-04T10:22:48.240Z"
   },
   {
    "duration": 24,
    "start_time": "2022-07-04T10:22:48.408Z"
   },
   {
    "duration": 195,
    "start_time": "2022-07-04T10:22:48.434Z"
   },
   {
    "duration": 14,
    "start_time": "2022-07-04T10:22:48.631Z"
   },
   {
    "duration": 139,
    "start_time": "2022-07-04T10:22:48.647Z"
   },
   {
    "duration": 10,
    "start_time": "2022-07-04T10:22:48.788Z"
   },
   {
    "duration": 217,
    "start_time": "2022-07-04T10:22:48.800Z"
   },
   {
    "duration": 21,
    "start_time": "2022-07-04T10:22:49.019Z"
   },
   {
    "duration": 157,
    "start_time": "2022-07-04T10:22:49.046Z"
   },
   {
    "duration": 18,
    "start_time": "2022-07-04T10:22:49.205Z"
   },
   {
    "duration": 19,
    "start_time": "2022-07-04T10:22:49.225Z"
   },
   {
    "duration": 255,
    "start_time": "2022-07-04T10:22:49.250Z"
   },
   {
    "duration": 24,
    "start_time": "2022-07-04T10:22:49.507Z"
   },
   {
    "duration": 289,
    "start_time": "2022-07-04T10:22:49.533Z"
   },
   {
    "duration": 10,
    "start_time": "2022-07-04T10:22:49.831Z"
   },
   {
    "duration": 294,
    "start_time": "2022-07-04T10:22:49.843Z"
   },
   {
    "duration": 34,
    "start_time": "2022-07-04T10:22:50.139Z"
   },
   {
    "duration": 209,
    "start_time": "2022-07-04T10:22:50.175Z"
   },
   {
    "duration": 9,
    "start_time": "2022-07-04T10:22:50.386Z"
   },
   {
    "duration": 35,
    "start_time": "2022-07-04T10:22:50.397Z"
   },
   {
    "duration": 59,
    "start_time": "2022-07-04T10:22:50.435Z"
   },
   {
    "duration": 21,
    "start_time": "2022-07-04T10:22:50.497Z"
   },
   {
    "duration": 32,
    "start_time": "2022-07-04T10:22:50.520Z"
   },
   {
    "duration": 48,
    "start_time": "2022-07-04T10:22:50.556Z"
   },
   {
    "duration": 916,
    "start_time": "2022-07-04T10:22:50.607Z"
   },
   {
    "duration": 9,
    "start_time": "2022-07-04T10:22:51.526Z"
   },
   {
    "duration": 37,
    "start_time": "2022-07-04T10:22:51.538Z"
   },
   {
    "duration": 11,
    "start_time": "2022-07-04T10:22:51.576Z"
   },
   {
    "duration": 23,
    "start_time": "2022-07-04T10:22:51.589Z"
   },
   {
    "duration": 189,
    "start_time": "2022-07-04T10:22:51.615Z"
   },
   {
    "duration": 186,
    "start_time": "2022-07-04T10:22:51.806Z"
   },
   {
    "duration": 195,
    "start_time": "2022-07-04T10:22:51.995Z"
   },
   {
    "duration": 12,
    "start_time": "2022-07-04T10:22:52.192Z"
   },
   {
    "duration": 28,
    "start_time": "2022-07-04T10:22:52.206Z"
   },
   {
    "duration": 13,
    "start_time": "2022-07-04T10:22:52.241Z"
   },
   {
    "duration": 6,
    "start_time": "2022-07-04T10:22:52.257Z"
   },
   {
    "duration": 14,
    "start_time": "2022-07-04T10:22:52.265Z"
   },
   {
    "duration": 9,
    "start_time": "2022-07-04T10:22:52.281Z"
   },
   {
    "duration": 271,
    "start_time": "2022-07-04T10:24:30.511Z"
   },
   {
    "duration": 355,
    "start_time": "2022-07-04T10:25:01.314Z"
   },
   {
    "duration": 287,
    "start_time": "2022-07-04T10:25:17.342Z"
   },
   {
    "duration": 201,
    "start_time": "2022-07-04T10:25:22.898Z"
   },
   {
    "duration": 440,
    "start_time": "2022-07-04T10:25:33.127Z"
   },
   {
    "duration": 900,
    "start_time": "2022-07-04T14:15:47.201Z"
   },
   {
    "duration": 99,
    "start_time": "2022-07-04T14:15:48.103Z"
   },
   {
    "duration": 14,
    "start_time": "2022-07-04T14:15:48.204Z"
   },
   {
    "duration": 24,
    "start_time": "2022-07-04T14:15:48.221Z"
   },
   {
    "duration": 10,
    "start_time": "2022-07-04T14:15:48.247Z"
   },
   {
    "duration": 7,
    "start_time": "2022-07-04T14:15:48.259Z"
   },
   {
    "duration": 12,
    "start_time": "2022-07-04T14:15:48.268Z"
   },
   {
    "duration": 6,
    "start_time": "2022-07-04T14:15:48.282Z"
   },
   {
    "duration": 46,
    "start_time": "2022-07-04T14:15:48.290Z"
   },
   {
    "duration": 16,
    "start_time": "2022-07-04T14:15:48.339Z"
   },
   {
    "duration": 19,
    "start_time": "2022-07-04T14:15:48.357Z"
   },
   {
    "duration": 8,
    "start_time": "2022-07-04T14:15:48.378Z"
   },
   {
    "duration": 39,
    "start_time": "2022-07-04T14:15:48.387Z"
   },
   {
    "duration": 27,
    "start_time": "2022-07-04T14:15:48.432Z"
   },
   {
    "duration": 21,
    "start_time": "2022-07-04T14:15:48.461Z"
   },
   {
    "duration": 20,
    "start_time": "2022-07-04T14:15:48.484Z"
   },
   {
    "duration": 76,
    "start_time": "2022-07-04T14:15:48.523Z"
   },
   {
    "duration": 26,
    "start_time": "2022-07-04T14:15:48.600Z"
   },
   {
    "duration": 13,
    "start_time": "2022-07-04T14:15:48.627Z"
   },
   {
    "duration": 939,
    "start_time": "2022-07-04T14:15:48.642Z"
   },
   {
    "duration": 6,
    "start_time": "2022-07-04T14:15:49.583Z"
   },
   {
    "duration": 11,
    "start_time": "2022-07-04T14:15:49.590Z"
   },
   {
    "duration": 330,
    "start_time": "2022-07-04T14:15:49.603Z"
   },
   {
    "duration": 20,
    "start_time": "2022-07-04T14:15:49.935Z"
   },
   {
    "duration": 193,
    "start_time": "2022-07-04T14:15:49.957Z"
   },
   {
    "duration": 207,
    "start_time": "2022-07-04T14:15:50.152Z"
   },
   {
    "duration": 204,
    "start_time": "2022-07-04T14:15:50.361Z"
   },
   {
    "duration": 26,
    "start_time": "2022-07-04T14:15:50.571Z"
   },
   {
    "duration": 7,
    "start_time": "2022-07-04T14:15:50.598Z"
   },
   {
    "duration": 170,
    "start_time": "2022-07-04T14:15:50.606Z"
   },
   {
    "duration": 168,
    "start_time": "2022-07-04T14:15:50.777Z"
   },
   {
    "duration": 219,
    "start_time": "2022-07-04T14:15:50.947Z"
   },
   {
    "duration": 164,
    "start_time": "2022-07-04T14:15:51.168Z"
   },
   {
    "duration": 154,
    "start_time": "2022-07-04T14:15:51.335Z"
   },
   {
    "duration": 15,
    "start_time": "2022-07-04T14:15:51.491Z"
   },
   {
    "duration": 18,
    "start_time": "2022-07-04T14:15:51.508Z"
   },
   {
    "duration": 31,
    "start_time": "2022-07-04T14:15:51.528Z"
   },
   {
    "duration": 232,
    "start_time": "2022-07-04T14:15:51.561Z"
   },
   {
    "duration": 180,
    "start_time": "2022-07-04T14:15:51.795Z"
   },
   {
    "duration": 16,
    "start_time": "2022-07-04T14:15:51.977Z"
   },
   {
    "duration": 185,
    "start_time": "2022-07-04T14:15:51.996Z"
   },
   {
    "duration": 10,
    "start_time": "2022-07-04T14:15:52.183Z"
   },
   {
    "duration": 160,
    "start_time": "2022-07-04T14:15:52.195Z"
   },
   {
    "duration": 10,
    "start_time": "2022-07-04T14:15:52.356Z"
   },
   {
    "duration": 163,
    "start_time": "2022-07-04T14:15:52.368Z"
   },
   {
    "duration": 9,
    "start_time": "2022-07-04T14:15:52.534Z"
   },
   {
    "duration": 150,
    "start_time": "2022-07-04T14:15:52.544Z"
   },
   {
    "duration": 10,
    "start_time": "2022-07-04T14:15:52.696Z"
   },
   {
    "duration": 166,
    "start_time": "2022-07-04T14:15:52.708Z"
   },
   {
    "duration": 10,
    "start_time": "2022-07-04T14:15:52.876Z"
   },
   {
    "duration": 267,
    "start_time": "2022-07-04T14:15:52.888Z"
   },
   {
    "duration": 9,
    "start_time": "2022-07-04T14:15:53.157Z"
   },
   {
    "duration": 23,
    "start_time": "2022-07-04T14:15:53.168Z"
   },
   {
    "duration": 198,
    "start_time": "2022-07-04T14:15:53.192Z"
   },
   {
    "duration": 9,
    "start_time": "2022-07-04T14:15:53.392Z"
   },
   {
    "duration": 186,
    "start_time": "2022-07-04T14:15:53.403Z"
   },
   {
    "duration": 7,
    "start_time": "2022-07-04T14:15:53.591Z"
   },
   {
    "duration": 27,
    "start_time": "2022-07-04T14:15:53.599Z"
   },
   {
    "duration": 34,
    "start_time": "2022-07-04T14:15:53.629Z"
   },
   {
    "duration": 14,
    "start_time": "2022-07-04T14:15:53.665Z"
   },
   {
    "duration": 36,
    "start_time": "2022-07-04T14:15:53.681Z"
   },
   {
    "duration": 32,
    "start_time": "2022-07-04T14:15:53.718Z"
   },
   {
    "duration": 681,
    "start_time": "2022-07-04T14:15:53.751Z"
   },
   {
    "duration": 9,
    "start_time": "2022-07-04T14:15:54.437Z"
   },
   {
    "duration": 8,
    "start_time": "2022-07-04T14:15:54.447Z"
   },
   {
    "duration": 8,
    "start_time": "2022-07-04T14:15:54.456Z"
   },
   {
    "duration": 11,
    "start_time": "2022-07-04T14:15:54.466Z"
   },
   {
    "duration": 175,
    "start_time": "2022-07-04T14:15:54.478Z"
   },
   {
    "duration": 181,
    "start_time": "2022-07-04T14:15:54.655Z"
   },
   {
    "duration": 171,
    "start_time": "2022-07-04T14:15:54.842Z"
   },
   {
    "duration": 25,
    "start_time": "2022-07-04T14:15:55.015Z"
   },
   {
    "duration": 16,
    "start_time": "2022-07-04T14:15:55.045Z"
   },
   {
    "duration": 5,
    "start_time": "2022-07-04T14:15:55.063Z"
   },
   {
    "duration": 8,
    "start_time": "2022-07-04T14:15:55.070Z"
   },
   {
    "duration": 6,
    "start_time": "2022-07-04T14:15:55.080Z"
   },
   {
    "duration": 7,
    "start_time": "2022-07-04T14:15:55.088Z"
   },
   {
    "duration": 43,
    "start_time": "2022-07-04T16:25:10.964Z"
   },
   {
    "duration": 838,
    "start_time": "2022-07-04T16:25:18.145Z"
   },
   {
    "duration": 102,
    "start_time": "2022-07-04T16:25:18.985Z"
   },
   {
    "duration": 14,
    "start_time": "2022-07-04T16:25:19.089Z"
   },
   {
    "duration": 14,
    "start_time": "2022-07-04T16:25:19.105Z"
   },
   {
    "duration": 5,
    "start_time": "2022-07-04T16:25:19.121Z"
   },
   {
    "duration": 16,
    "start_time": "2022-07-04T16:25:19.129Z"
   },
   {
    "duration": 8,
    "start_time": "2022-07-04T16:25:19.146Z"
   },
   {
    "duration": 6,
    "start_time": "2022-07-04T16:25:19.155Z"
   },
   {
    "duration": 14,
    "start_time": "2022-07-04T16:25:19.163Z"
   },
   {
    "duration": 13,
    "start_time": "2022-07-04T16:25:19.180Z"
   },
   {
    "duration": 48,
    "start_time": "2022-07-04T16:25:19.194Z"
   },
   {
    "duration": 8,
    "start_time": "2022-07-04T16:25:19.243Z"
   },
   {
    "duration": 11,
    "start_time": "2022-07-04T16:25:19.252Z"
   },
   {
    "duration": 16,
    "start_time": "2022-07-04T16:25:19.264Z"
   },
   {
    "duration": 11,
    "start_time": "2022-07-04T16:25:19.282Z"
   },
   {
    "duration": 18,
    "start_time": "2022-07-04T16:25:19.295Z"
   },
   {
    "duration": 64,
    "start_time": "2022-07-04T16:25:19.342Z"
   },
   {
    "duration": 5,
    "start_time": "2022-07-04T16:25:19.407Z"
   },
   {
    "duration": 29,
    "start_time": "2022-07-04T16:25:19.414Z"
   },
   {
    "duration": 675,
    "start_time": "2022-07-04T16:25:19.444Z"
   },
   {
    "duration": 4,
    "start_time": "2022-07-04T16:25:20.121Z"
   },
   {
    "duration": 17,
    "start_time": "2022-07-04T16:25:20.126Z"
   },
   {
    "duration": 242,
    "start_time": "2022-07-04T16:25:20.144Z"
   },
   {
    "duration": 17,
    "start_time": "2022-07-04T16:25:20.388Z"
   },
   {
    "duration": 168,
    "start_time": "2022-07-04T16:25:20.406Z"
   },
   {
    "duration": 187,
    "start_time": "2022-07-04T16:25:20.576Z"
   },
   {
    "duration": 180,
    "start_time": "2022-07-04T16:25:20.764Z"
   },
   {
    "duration": 18,
    "start_time": "2022-07-04T16:25:20.949Z"
   },
   {
    "duration": 8,
    "start_time": "2022-07-04T16:25:20.968Z"
   },
   {
    "duration": 150,
    "start_time": "2022-07-04T16:25:20.977Z"
   },
   {
    "duration": 129,
    "start_time": "2022-07-04T16:25:21.129Z"
   },
   {
    "duration": 208,
    "start_time": "2022-07-04T16:25:21.259Z"
   },
   {
    "duration": 144,
    "start_time": "2022-07-04T16:25:21.469Z"
   },
   {
    "duration": 133,
    "start_time": "2022-07-04T16:25:21.614Z"
   },
   {
    "duration": 14,
    "start_time": "2022-07-04T16:25:21.749Z"
   },
   {
    "duration": 2,
    "start_time": "2022-07-04T16:25:21.765Z"
   },
   {
    "duration": 17,
    "start_time": "2022-07-04T16:25:21.768Z"
   },
   {
    "duration": 212,
    "start_time": "2022-07-04T16:25:21.786Z"
   },
   {
    "duration": 133,
    "start_time": "2022-07-04T16:25:22.000Z"
   },
   {
    "duration": 16,
    "start_time": "2022-07-04T16:25:22.141Z"
   },
   {
    "duration": 146,
    "start_time": "2022-07-04T16:25:22.159Z"
   },
   {
    "duration": 122,
    "start_time": "2022-07-04T16:25:22.307Z"
   },
   {
    "duration": 15,
    "start_time": "2022-07-04T16:25:22.431Z"
   },
   {
    "duration": 127,
    "start_time": "2022-07-04T16:25:22.448Z"
   },
   {
    "duration": 7,
    "start_time": "2022-07-04T16:25:22.577Z"
   },
   {
    "duration": 132,
    "start_time": "2022-07-04T16:25:22.586Z"
   },
   {
    "duration": 8,
    "start_time": "2022-07-04T16:25:22.719Z"
   },
   {
    "duration": 144,
    "start_time": "2022-07-04T16:25:22.729Z"
   },
   {
    "duration": 8,
    "start_time": "2022-07-04T16:25:22.875Z"
   },
   {
    "duration": 142,
    "start_time": "2022-07-04T16:25:22.884Z"
   },
   {
    "duration": 15,
    "start_time": "2022-07-04T16:25:23.028Z"
   },
   {
    "duration": 208,
    "start_time": "2022-07-04T16:25:23.044Z"
   },
   {
    "duration": 9,
    "start_time": "2022-07-04T16:25:23.253Z"
   },
   {
    "duration": 15,
    "start_time": "2022-07-04T16:25:23.263Z"
   },
   {
    "duration": 166,
    "start_time": "2022-07-04T16:25:23.279Z"
   },
   {
    "duration": 8,
    "start_time": "2022-07-04T16:25:23.447Z"
   },
   {
    "duration": 157,
    "start_time": "2022-07-04T16:25:23.457Z"
   },
   {
    "duration": 6,
    "start_time": "2022-07-04T16:25:23.615Z"
   },
   {
    "duration": 11,
    "start_time": "2022-07-04T16:25:23.622Z"
   },
   {
    "duration": 7,
    "start_time": "2022-07-04T16:25:23.641Z"
   },
   {
    "duration": 5,
    "start_time": "2022-07-04T16:25:23.650Z"
   },
   {
    "duration": 8,
    "start_time": "2022-07-04T16:25:23.656Z"
   },
   {
    "duration": 8,
    "start_time": "2022-07-04T16:25:23.665Z"
   },
   {
    "duration": 603,
    "start_time": "2022-07-04T16:25:23.675Z"
   },
   {
    "duration": 7,
    "start_time": "2022-07-04T16:25:24.279Z"
   },
   {
    "duration": 8,
    "start_time": "2022-07-04T16:25:24.287Z"
   },
   {
    "duration": 6,
    "start_time": "2022-07-04T16:25:24.297Z"
   },
   {
    "duration": 10,
    "start_time": "2022-07-04T16:25:24.304Z"
   },
   {
    "duration": 184,
    "start_time": "2022-07-04T16:25:24.316Z"
   },
   {
    "duration": 171,
    "start_time": "2022-07-04T16:25:24.501Z"
   },
   {
    "duration": 161,
    "start_time": "2022-07-04T16:25:24.674Z"
   },
   {
    "duration": 11,
    "start_time": "2022-07-04T16:25:24.841Z"
   },
   {
    "duration": 24,
    "start_time": "2022-07-04T16:25:24.853Z"
   },
   {
    "duration": 19,
    "start_time": "2022-07-04T16:25:24.878Z"
   },
   {
    "duration": 17,
    "start_time": "2022-07-04T16:25:24.899Z"
   },
   {
    "duration": 18,
    "start_time": "2022-07-04T16:25:24.917Z"
   },
   {
    "duration": 13,
    "start_time": "2022-07-04T16:25:24.937Z"
   },
   {
    "duration": 120,
    "start_time": "2022-07-04T16:28:47.744Z"
   },
   {
    "duration": 114,
    "start_time": "2022-07-04T16:29:15.040Z"
   },
   {
    "duration": 109,
    "start_time": "2022-07-04T16:37:09.388Z"
   },
   {
    "duration": 8,
    "start_time": "2022-07-04T16:39:13.753Z"
   },
   {
    "duration": 8,
    "start_time": "2022-07-04T16:40:15.977Z"
   },
   {
    "duration": 8,
    "start_time": "2022-07-04T16:40:47.088Z"
   },
   {
    "duration": 128,
    "start_time": "2022-07-04T16:44:00.958Z"
   },
   {
    "duration": 8,
    "start_time": "2022-07-04T16:44:32.937Z"
   },
   {
    "duration": 130,
    "start_time": "2022-07-04T16:45:18.888Z"
   },
   {
    "duration": 8,
    "start_time": "2022-07-04T16:45:50.440Z"
   },
   {
    "duration": 108,
    "start_time": "2022-07-04T16:46:25.181Z"
   },
   {
    "duration": 8,
    "start_time": "2022-07-04T16:46:45.688Z"
   },
   {
    "duration": 127,
    "start_time": "2022-07-04T16:47:12.454Z"
   },
   {
    "duration": 8,
    "start_time": "2022-07-04T16:47:40.304Z"
   },
   {
    "duration": 35,
    "start_time": "2022-07-04T16:47:52.636Z"
   },
   {
    "duration": 8,
    "start_time": "2022-07-04T16:48:03.996Z"
   },
   {
    "duration": 121,
    "start_time": "2022-07-04T16:48:40.605Z"
   },
   {
    "duration": 9,
    "start_time": "2022-07-04T16:49:30.069Z"
   },
   {
    "duration": 8,
    "start_time": "2022-07-04T16:49:43.042Z"
   },
   {
    "duration": 8,
    "start_time": "2022-07-04T16:49:49.050Z"
   },
   {
    "duration": 217,
    "start_time": "2022-07-04T16:50:39.185Z"
   },
   {
    "duration": 8,
    "start_time": "2022-07-04T16:50:57.919Z"
   },
   {
    "duration": 122,
    "start_time": "2022-07-04T16:55:58.997Z"
   },
   {
    "duration": 63,
    "start_time": "2022-07-04T16:56:44.477Z"
   },
   {
    "duration": 51,
    "start_time": "2022-07-04T16:56:58.732Z"
   },
   {
    "duration": 8,
    "start_time": "2022-07-04T16:57:02.489Z"
   },
   {
    "duration": 135,
    "start_time": "2022-07-04T16:57:24.015Z"
   },
   {
    "duration": 9,
    "start_time": "2022-07-04T16:57:56.564Z"
   },
   {
    "duration": 155,
    "start_time": "2022-07-04T16:58:16.672Z"
   },
   {
    "duration": 8,
    "start_time": "2022-07-04T16:58:47.546Z"
   },
   {
    "duration": 115,
    "start_time": "2022-07-04T16:59:05.053Z"
   },
   {
    "duration": 10,
    "start_time": "2022-07-04T16:59:47.964Z"
   },
   {
    "duration": 137,
    "start_time": "2022-07-04T17:00:14.046Z"
   },
   {
    "duration": 9,
    "start_time": "2022-07-04T17:00:30.533Z"
   },
   {
    "duration": 3,
    "start_time": "2022-07-04T17:03:43.472Z"
   },
   {
    "duration": 2,
    "start_time": "2022-07-04T17:03:50.013Z"
   },
   {
    "duration": 3,
    "start_time": "2022-07-04T17:03:57.072Z"
   },
   {
    "duration": 2,
    "start_time": "2022-07-04T17:04:04.988Z"
   },
   {
    "duration": 2,
    "start_time": "2022-07-04T17:04:18.444Z"
   },
   {
    "duration": 3,
    "start_time": "2022-07-04T17:04:25.101Z"
   },
   {
    "duration": 2,
    "start_time": "2022-07-04T17:04:32.702Z"
   },
   {
    "duration": 2,
    "start_time": "2022-07-04T17:04:40.378Z"
   },
   {
    "duration": 2,
    "start_time": "2022-07-04T17:04:44.109Z"
   },
   {
    "duration": 2,
    "start_time": "2022-07-04T17:04:52.874Z"
   },
   {
    "duration": 3,
    "start_time": "2022-07-04T17:04:56.268Z"
   },
   {
    "duration": 2,
    "start_time": "2022-07-04T17:05:12.988Z"
   },
   {
    "duration": 115,
    "start_time": "2022-07-04T17:06:10.961Z"
   },
   {
    "duration": 8,
    "start_time": "2022-07-04T17:07:06.766Z"
   },
   {
    "duration": 110,
    "start_time": "2022-07-04T17:07:33.880Z"
   },
   {
    "duration": 8,
    "start_time": "2022-07-04T17:08:05.085Z"
   },
   {
    "duration": 793,
    "start_time": "2022-07-04T17:09:53.383Z"
   },
   {
    "duration": 54,
    "start_time": "2022-07-04T17:09:54.178Z"
   },
   {
    "duration": 17,
    "start_time": "2022-07-04T17:09:54.233Z"
   },
   {
    "duration": 14,
    "start_time": "2022-07-04T17:09:54.252Z"
   },
   {
    "duration": 7,
    "start_time": "2022-07-04T17:09:54.267Z"
   },
   {
    "duration": 6,
    "start_time": "2022-07-04T17:09:54.275Z"
   },
   {
    "duration": 8,
    "start_time": "2022-07-04T17:09:54.283Z"
   },
   {
    "duration": 9,
    "start_time": "2022-07-04T17:09:54.292Z"
   },
   {
    "duration": 40,
    "start_time": "2022-07-04T17:09:54.302Z"
   },
   {
    "duration": 13,
    "start_time": "2022-07-04T17:09:54.344Z"
   },
   {
    "duration": 18,
    "start_time": "2022-07-04T17:09:54.359Z"
   },
   {
    "duration": 9,
    "start_time": "2022-07-04T17:09:54.379Z"
   },
   {
    "duration": 41,
    "start_time": "2022-07-04T17:09:54.390Z"
   },
   {
    "duration": 26,
    "start_time": "2022-07-04T17:09:54.433Z"
   },
   {
    "duration": 14,
    "start_time": "2022-07-04T17:09:54.461Z"
   },
   {
    "duration": 18,
    "start_time": "2022-07-04T17:09:54.477Z"
   },
   {
    "duration": 106,
    "start_time": "2022-07-04T17:09:54.497Z"
   },
   {
    "duration": 7,
    "start_time": "2022-07-04T17:09:54.605Z"
   },
   {
    "duration": 30,
    "start_time": "2022-07-04T17:09:54.613Z"
   },
   {
    "duration": 518,
    "start_time": "2022-07-04T17:09:54.644Z"
   },
   {
    "duration": 5,
    "start_time": "2022-07-04T17:09:55.164Z"
   },
   {
    "duration": 12,
    "start_time": "2022-07-04T17:09:55.170Z"
   },
   {
    "duration": 274,
    "start_time": "2022-07-04T17:09:55.183Z"
   },
   {
    "duration": 16,
    "start_time": "2022-07-04T17:09:55.459Z"
   },
   {
    "duration": 165,
    "start_time": "2022-07-04T17:09:55.477Z"
   },
   {
    "duration": 178,
    "start_time": "2022-07-04T17:09:55.644Z"
   },
   {
    "duration": 170,
    "start_time": "2022-07-04T17:09:55.824Z"
   },
   {
    "duration": 17,
    "start_time": "2022-07-04T17:09:55.999Z"
   },
   {
    "duration": 6,
    "start_time": "2022-07-04T17:09:56.017Z"
   },
   {
    "duration": 142,
    "start_time": "2022-07-04T17:09:56.025Z"
   },
   {
    "duration": 134,
    "start_time": "2022-07-04T17:09:56.168Z"
   },
   {
    "duration": 124,
    "start_time": "2022-07-04T17:09:56.303Z"
   },
   {
    "duration": 138,
    "start_time": "2022-07-04T17:09:56.428Z"
   },
   {
    "duration": 197,
    "start_time": "2022-07-04T17:09:56.569Z"
   },
   {
    "duration": 15,
    "start_time": "2022-07-04T17:09:56.768Z"
   },
   {
    "duration": 3,
    "start_time": "2022-07-04T17:09:56.785Z"
   },
   {
    "duration": 37,
    "start_time": "2022-07-04T17:09:56.790Z"
   },
   {
    "duration": 188,
    "start_time": "2022-07-04T17:09:56.829Z"
   },
   {
    "duration": 141,
    "start_time": "2022-07-04T17:09:57.019Z"
   },
   {
    "duration": 15,
    "start_time": "2022-07-04T17:09:57.161Z"
   },
   {
    "duration": 5,
    "start_time": "2022-07-04T17:09:57.177Z"
   },
   {
    "duration": 7,
    "start_time": "2022-07-04T17:09:57.183Z"
   },
   {
    "duration": 5,
    "start_time": "2022-07-04T17:09:57.191Z"
   },
   {
    "duration": 4,
    "start_time": "2022-07-04T17:09:57.198Z"
   },
   {
    "duration": 5,
    "start_time": "2022-07-04T17:09:57.203Z"
   },
   {
    "duration": 7,
    "start_time": "2022-07-04T17:09:57.210Z"
   },
   {
    "duration": 8,
    "start_time": "2022-07-04T17:09:57.218Z"
   },
   {
    "duration": 15,
    "start_time": "2022-07-04T17:09:57.227Z"
   },
   {
    "duration": 2,
    "start_time": "2022-07-04T17:09:57.244Z"
   },
   {
    "duration": 7,
    "start_time": "2022-07-04T17:09:57.247Z"
   },
   {
    "duration": 4,
    "start_time": "2022-07-04T17:09:57.256Z"
   },
   {
    "duration": 4,
    "start_time": "2022-07-04T17:09:57.261Z"
   },
   {
    "duration": 119,
    "start_time": "2022-07-04T17:09:57.267Z"
   },
   {
    "duration": 7,
    "start_time": "2022-07-04T17:09:57.388Z"
   },
   {
    "duration": 120,
    "start_time": "2022-07-04T17:09:57.396Z"
   },
   {
    "duration": 7,
    "start_time": "2022-07-04T17:09:57.517Z"
   },
   {
    "duration": 140,
    "start_time": "2022-07-04T17:09:57.526Z"
   },
   {
    "duration": 9,
    "start_time": "2022-07-04T17:09:57.669Z"
   },
   {
    "duration": 144,
    "start_time": "2022-07-04T17:09:57.679Z"
   },
   {
    "duration": 8,
    "start_time": "2022-07-04T17:09:57.825Z"
   },
   {
    "duration": 125,
    "start_time": "2022-07-04T17:09:57.834Z"
   },
   {
    "duration": 8,
    "start_time": "2022-07-04T17:09:57.961Z"
   },
   {
    "duration": 133,
    "start_time": "2022-07-04T17:09:57.970Z"
   },
   {
    "duration": 9,
    "start_time": "2022-07-04T17:09:58.105Z"
   },
   {
    "duration": 139,
    "start_time": "2022-07-04T17:09:58.115Z"
   },
   {
    "duration": 8,
    "start_time": "2022-07-04T17:09:58.256Z"
   },
   {
    "duration": 145,
    "start_time": "2022-07-04T17:09:58.266Z"
   },
   {
    "duration": 8,
    "start_time": "2022-07-04T17:09:58.413Z"
   },
   {
    "duration": 222,
    "start_time": "2022-07-04T17:09:58.423Z"
   },
   {
    "duration": 8,
    "start_time": "2022-07-04T17:09:58.647Z"
   },
   {
    "duration": 156,
    "start_time": "2022-07-04T17:09:58.657Z"
   },
   {
    "duration": 8,
    "start_time": "2022-07-04T17:09:58.815Z"
   },
   {
    "duration": 126,
    "start_time": "2022-07-04T17:09:58.825Z"
   },
   {
    "duration": 8,
    "start_time": "2022-07-04T17:09:58.952Z"
   },
   {
    "duration": 143,
    "start_time": "2022-07-04T17:09:58.961Z"
   },
   {
    "duration": 8,
    "start_time": "2022-07-04T17:09:59.105Z"
   },
   {
    "duration": 119,
    "start_time": "2022-07-04T17:09:59.114Z"
   },
   {
    "duration": 14,
    "start_time": "2022-07-04T17:09:59.235Z"
   },
   {
    "duration": 122,
    "start_time": "2022-07-04T17:09:59.250Z"
   },
   {
    "duration": 9,
    "start_time": "2022-07-04T17:09:59.374Z"
   },
   {
    "duration": 10,
    "start_time": "2022-07-04T17:09:59.384Z"
   },
   {
    "duration": 159,
    "start_time": "2022-07-04T17:09:59.399Z"
   },
   {
    "duration": 9,
    "start_time": "2022-07-04T17:09:59.559Z"
   },
   {
    "duration": 159,
    "start_time": "2022-07-04T17:09:59.569Z"
   },
   {
    "duration": 7,
    "start_time": "2022-07-04T17:09:59.729Z"
   },
   {
    "duration": 9,
    "start_time": "2022-07-04T17:09:59.742Z"
   },
   {
    "duration": 12,
    "start_time": "2022-07-04T17:09:59.752Z"
   },
   {
    "duration": 8,
    "start_time": "2022-07-04T17:09:59.765Z"
   },
   {
    "duration": 12,
    "start_time": "2022-07-04T17:09:59.775Z"
   },
   {
    "duration": 21,
    "start_time": "2022-07-04T17:09:59.788Z"
   },
   {
    "duration": 572,
    "start_time": "2022-07-04T17:09:59.811Z"
   },
   {
    "duration": 6,
    "start_time": "2022-07-04T17:10:00.384Z"
   },
   {
    "duration": 13,
    "start_time": "2022-07-04T17:10:00.392Z"
   },
   {
    "duration": 13,
    "start_time": "2022-07-04T17:10:00.406Z"
   },
   {
    "duration": 28,
    "start_time": "2022-07-04T17:10:00.421Z"
   },
   {
    "duration": 132,
    "start_time": "2022-07-04T17:10:00.451Z"
   },
   {
    "duration": 150,
    "start_time": "2022-07-04T17:10:00.585Z"
   },
   {
    "duration": 156,
    "start_time": "2022-07-04T17:10:00.742Z"
   },
   {
    "duration": 11,
    "start_time": "2022-07-04T17:10:00.900Z"
   },
   {
    "duration": 15,
    "start_time": "2022-07-04T17:10:00.912Z"
   },
   {
    "duration": 5,
    "start_time": "2022-07-04T17:10:00.941Z"
   },
   {
    "duration": 8,
    "start_time": "2022-07-04T17:10:00.948Z"
   },
   {
    "duration": 6,
    "start_time": "2022-07-04T17:10:00.958Z"
   },
   {
    "duration": 16,
    "start_time": "2022-07-04T17:10:00.966Z"
   },
   {
    "duration": 26,
    "start_time": "2022-07-04T17:21:39.371Z"
   },
   {
    "duration": 26,
    "start_time": "2022-07-04T17:22:11.389Z"
   },
   {
    "duration": 2,
    "start_time": "2022-07-04T17:23:03.094Z"
   },
   {
    "duration": 48,
    "start_time": "2022-07-04T17:23:03.106Z"
   },
   {
    "duration": 11,
    "start_time": "2022-07-04T17:23:03.157Z"
   },
   {
    "duration": 13,
    "start_time": "2022-07-04T17:23:03.170Z"
   },
   {
    "duration": 8,
    "start_time": "2022-07-04T17:23:03.185Z"
   },
   {
    "duration": 6,
    "start_time": "2022-07-04T17:23:03.195Z"
   },
   {
    "duration": 11,
    "start_time": "2022-07-04T17:23:03.202Z"
   },
   {
    "duration": 31,
    "start_time": "2022-07-04T17:23:03.214Z"
   },
   {
    "duration": 15,
    "start_time": "2022-07-04T17:23:03.247Z"
   },
   {
    "duration": 14,
    "start_time": "2022-07-04T17:23:03.264Z"
   },
   {
    "duration": 17,
    "start_time": "2022-07-04T17:23:03.280Z"
   },
   {
    "duration": 8,
    "start_time": "2022-07-04T17:23:03.298Z"
   },
   {
    "duration": 9,
    "start_time": "2022-07-04T17:23:03.341Z"
   },
   {
    "duration": 17,
    "start_time": "2022-07-04T17:23:03.352Z"
   },
   {
    "duration": 11,
    "start_time": "2022-07-04T17:23:03.371Z"
   },
   {
    "duration": 15,
    "start_time": "2022-07-04T17:23:03.383Z"
   },
   {
    "duration": 93,
    "start_time": "2022-07-04T17:23:03.399Z"
   },
   {
    "duration": 6,
    "start_time": "2022-07-04T17:23:03.495Z"
   },
   {
    "duration": 8,
    "start_time": "2022-07-04T17:23:03.502Z"
   },
   {
    "duration": 434,
    "start_time": "2022-07-04T17:23:03.512Z"
   },
   {
    "duration": 5,
    "start_time": "2022-07-04T17:23:03.947Z"
   },
   {
    "duration": 10,
    "start_time": "2022-07-04T17:23:03.954Z"
   },
   {
    "duration": 259,
    "start_time": "2022-07-04T17:23:03.965Z"
   },
   {
    "duration": 23,
    "start_time": "2022-07-04T17:23:04.226Z"
   },
   {
    "duration": 171,
    "start_time": "2022-07-04T17:23:04.250Z"
   },
   {
    "duration": 226,
    "start_time": "2022-07-04T17:23:04.423Z"
   },
   {
    "duration": 187,
    "start_time": "2022-07-04T17:23:04.652Z"
   },
   {
    "duration": 18,
    "start_time": "2022-07-04T17:23:04.842Z"
   },
   {
    "duration": 7,
    "start_time": "2022-07-04T17:23:04.861Z"
   },
   {
    "duration": 143,
    "start_time": "2022-07-04T17:23:04.869Z"
   },
   {
    "duration": 132,
    "start_time": "2022-07-04T17:23:05.013Z"
   },
   {
    "duration": 127,
    "start_time": "2022-07-04T17:23:05.147Z"
   },
   {
    "duration": 135,
    "start_time": "2022-07-04T17:23:05.276Z"
   },
   {
    "duration": 141,
    "start_time": "2022-07-04T17:23:05.412Z"
   },
   {
    "duration": 15,
    "start_time": "2022-07-04T17:23:05.554Z"
   },
   {
    "duration": 2,
    "start_time": "2022-07-04T17:23:05.570Z"
   },
   {
    "duration": 21,
    "start_time": "2022-07-04T17:23:05.574Z"
   },
   {
    "duration": 165,
    "start_time": "2022-07-04T17:23:05.597Z"
   },
   {
    "duration": 149,
    "start_time": "2022-07-04T17:23:05.764Z"
   },
   {
    "duration": 14,
    "start_time": "2022-07-04T17:23:05.917Z"
   },
   {
    "duration": 11,
    "start_time": "2022-07-04T17:23:05.932Z"
   },
   {
    "duration": 7,
    "start_time": "2022-07-04T17:23:05.945Z"
   },
   {
    "duration": 4,
    "start_time": "2022-07-04T17:23:05.954Z"
   },
   {
    "duration": 7,
    "start_time": "2022-07-04T17:23:05.959Z"
   },
   {
    "duration": 5,
    "start_time": "2022-07-04T17:23:05.968Z"
   },
   {
    "duration": 4,
    "start_time": "2022-07-04T17:23:05.974Z"
   },
   {
    "duration": 4,
    "start_time": "2022-07-04T17:23:05.980Z"
   },
   {
    "duration": 5,
    "start_time": "2022-07-04T17:23:05.985Z"
   },
   {
    "duration": 4,
    "start_time": "2022-07-04T17:23:05.991Z"
   },
   {
    "duration": 5,
    "start_time": "2022-07-04T17:23:05.997Z"
   },
   {
    "duration": 5,
    "start_time": "2022-07-04T17:23:06.004Z"
   },
   {
    "duration": 4,
    "start_time": "2022-07-04T17:23:06.010Z"
   },
   {
    "duration": 132,
    "start_time": "2022-07-04T17:23:06.016Z"
   },
   {
    "duration": 8,
    "start_time": "2022-07-04T17:23:06.149Z"
   },
   {
    "duration": 132,
    "start_time": "2022-07-04T17:23:06.159Z"
   },
   {
    "duration": 8,
    "start_time": "2022-07-04T17:23:06.292Z"
   },
   {
    "duration": 146,
    "start_time": "2022-07-04T17:23:06.301Z"
   },
   {
    "duration": 8,
    "start_time": "2022-07-04T17:23:06.449Z"
   },
   {
    "duration": 138,
    "start_time": "2022-07-04T17:23:06.469Z"
   },
   {
    "duration": 8,
    "start_time": "2022-07-04T17:23:06.608Z"
   },
   {
    "duration": 242,
    "start_time": "2022-07-04T17:23:06.617Z"
   },
   {
    "duration": 8,
    "start_time": "2022-07-04T17:23:06.861Z"
   },
   {
    "duration": 128,
    "start_time": "2022-07-04T17:23:06.870Z"
   },
   {
    "duration": 8,
    "start_time": "2022-07-04T17:23:07.000Z"
   },
   {
    "duration": 148,
    "start_time": "2022-07-04T17:23:07.009Z"
   },
   {
    "duration": 8,
    "start_time": "2022-07-04T17:23:07.158Z"
   },
   {
    "duration": 130,
    "start_time": "2022-07-04T17:23:07.168Z"
   },
   {
    "duration": 9,
    "start_time": "2022-07-04T17:23:07.300Z"
   },
   {
    "duration": 170,
    "start_time": "2022-07-04T17:23:07.311Z"
   },
   {
    "duration": 8,
    "start_time": "2022-07-04T17:23:07.483Z"
   },
   {
    "duration": 156,
    "start_time": "2022-07-04T17:23:07.493Z"
   },
   {
    "duration": 8,
    "start_time": "2022-07-04T17:23:07.652Z"
   },
   {
    "duration": 131,
    "start_time": "2022-07-04T17:23:07.662Z"
   },
   {
    "duration": 9,
    "start_time": "2022-07-04T17:23:07.795Z"
   },
   {
    "duration": 146,
    "start_time": "2022-07-04T17:23:07.806Z"
   },
   {
    "duration": 9,
    "start_time": "2022-07-04T17:23:07.954Z"
   },
   {
    "duration": 129,
    "start_time": "2022-07-04T17:23:07.965Z"
   },
   {
    "duration": 8,
    "start_time": "2022-07-04T17:23:08.096Z"
   },
   {
    "duration": 126,
    "start_time": "2022-07-04T17:23:08.105Z"
   },
   {
    "duration": 14,
    "start_time": "2022-07-04T17:23:08.232Z"
   },
   {
    "duration": 6,
    "start_time": "2022-07-04T17:23:08.247Z"
   },
   {
    "duration": 159,
    "start_time": "2022-07-04T17:23:08.255Z"
   },
   {
    "duration": 9,
    "start_time": "2022-07-04T17:23:08.415Z"
   },
   {
    "duration": 159,
    "start_time": "2022-07-04T17:23:08.425Z"
   },
   {
    "duration": 6,
    "start_time": "2022-07-04T17:23:08.586Z"
   },
   {
    "duration": 17,
    "start_time": "2022-07-04T17:23:08.594Z"
   },
   {
    "duration": 11,
    "start_time": "2022-07-04T17:23:08.612Z"
   },
   {
    "duration": 30,
    "start_time": "2022-07-04T17:23:08.624Z"
   },
   {
    "duration": 16,
    "start_time": "2022-07-04T17:23:08.655Z"
   },
   {
    "duration": 12,
    "start_time": "2022-07-04T17:23:08.673Z"
   },
   {
    "duration": 13,
    "start_time": "2022-07-04T17:23:08.686Z"
   },
   {
    "duration": 589,
    "start_time": "2022-07-04T17:23:08.701Z"
   },
   {
    "duration": 7,
    "start_time": "2022-07-04T17:23:09.292Z"
   },
   {
    "duration": 8,
    "start_time": "2022-07-04T17:23:09.300Z"
   },
   {
    "duration": 8,
    "start_time": "2022-07-04T17:23:09.309Z"
   },
   {
    "duration": 25,
    "start_time": "2022-07-04T17:23:09.318Z"
   },
   {
    "duration": 153,
    "start_time": "2022-07-04T17:23:09.345Z"
   },
   {
    "duration": 147,
    "start_time": "2022-07-04T17:23:09.500Z"
   },
   {
    "duration": 148,
    "start_time": "2022-07-04T17:23:09.649Z"
   },
   {
    "duration": 10,
    "start_time": "2022-07-04T17:23:09.799Z"
   },
   {
    "duration": 10,
    "start_time": "2022-07-04T17:23:09.811Z"
   },
   {
    "duration": 21,
    "start_time": "2022-07-04T17:23:09.822Z"
   },
   {
    "duration": 4,
    "start_time": "2022-07-04T17:23:09.845Z"
   },
   {
    "duration": 5,
    "start_time": "2022-07-04T17:23:09.851Z"
   },
   {
    "duration": 3,
    "start_time": "2022-07-04T17:23:09.862Z"
   },
   {
    "duration": 109,
    "start_time": "2022-07-04T17:24:05.772Z"
   },
   {
    "duration": 30,
    "start_time": "2022-07-04T17:24:13.020Z"
   },
   {
    "duration": 31,
    "start_time": "2022-07-04T17:24:29.475Z"
   },
   {
    "duration": 29,
    "start_time": "2022-07-04T17:25:00.920Z"
   },
   {
    "duration": 48,
    "start_time": "2022-07-04T17:25:14.914Z"
   },
   {
    "duration": 30,
    "start_time": "2022-07-04T17:25:31.851Z"
   },
   {
    "duration": 32,
    "start_time": "2022-07-04T17:26:37.197Z"
   },
   {
    "duration": 29,
    "start_time": "2022-07-04T17:26:51.511Z"
   },
   {
    "duration": 944,
    "start_time": "2022-07-04T17:27:33.185Z"
   },
   {
    "duration": 28,
    "start_time": "2022-07-04T17:27:45.785Z"
   },
   {
    "duration": 31,
    "start_time": "2022-07-04T17:28:18.904Z"
   },
   {
    "duration": 542,
    "start_time": "2022-07-04T17:29:25.094Z"
   },
   {
    "duration": 850,
    "start_time": "2022-07-04T17:30:14.158Z"
   },
   {
    "duration": 55,
    "start_time": "2022-07-04T17:30:15.010Z"
   },
   {
    "duration": 13,
    "start_time": "2022-07-04T17:30:15.066Z"
   },
   {
    "duration": 13,
    "start_time": "2022-07-04T17:30:15.081Z"
   },
   {
    "duration": 10,
    "start_time": "2022-07-04T17:30:15.096Z"
   },
   {
    "duration": 7,
    "start_time": "2022-07-04T17:30:15.107Z"
   },
   {
    "duration": 30,
    "start_time": "2022-07-04T17:30:15.115Z"
   },
   {
    "duration": 7,
    "start_time": "2022-07-04T17:30:15.147Z"
   },
   {
    "duration": 15,
    "start_time": "2022-07-04T17:30:15.155Z"
   },
   {
    "duration": 14,
    "start_time": "2022-07-04T17:30:15.173Z"
   },
   {
    "duration": 18,
    "start_time": "2022-07-04T17:30:15.189Z"
   },
   {
    "duration": 38,
    "start_time": "2022-07-04T17:30:15.209Z"
   },
   {
    "duration": 8,
    "start_time": "2022-07-04T17:30:15.249Z"
   },
   {
    "duration": 17,
    "start_time": "2022-07-04T17:30:15.258Z"
   },
   {
    "duration": 14,
    "start_time": "2022-07-04T17:30:15.277Z"
   },
   {
    "duration": 15,
    "start_time": "2022-07-04T17:30:15.292Z"
   },
   {
    "duration": 62,
    "start_time": "2022-07-04T17:30:15.343Z"
   },
   {
    "duration": 5,
    "start_time": "2022-07-04T17:30:15.406Z"
   },
   {
    "duration": 7,
    "start_time": "2022-07-04T17:30:15.413Z"
   },
   {
    "duration": 539,
    "start_time": "2022-07-04T17:30:15.422Z"
   },
   {
    "duration": 4,
    "start_time": "2022-07-04T17:30:15.963Z"
   },
   {
    "duration": 9,
    "start_time": "2022-07-04T17:30:15.969Z"
   },
   {
    "duration": 241,
    "start_time": "2022-07-04T17:30:15.979Z"
   },
   {
    "duration": 22,
    "start_time": "2022-07-04T17:30:16.222Z"
   },
   {
    "duration": 168,
    "start_time": "2022-07-04T17:30:16.245Z"
   },
   {
    "duration": 183,
    "start_time": "2022-07-04T17:30:16.414Z"
   },
   {
    "duration": 191,
    "start_time": "2022-07-04T17:30:16.599Z"
   },
   {
    "duration": 17,
    "start_time": "2022-07-04T17:30:16.794Z"
   },
   {
    "duration": 8,
    "start_time": "2022-07-04T17:30:16.813Z"
   },
   {
    "duration": 145,
    "start_time": "2022-07-04T17:30:16.823Z"
   },
   {
    "duration": 136,
    "start_time": "2022-07-04T17:30:16.970Z"
   },
   {
    "duration": 137,
    "start_time": "2022-07-04T17:30:17.107Z"
   },
   {
    "duration": 154,
    "start_time": "2022-07-04T17:30:17.246Z"
   },
   {
    "duration": 195,
    "start_time": "2022-07-04T17:30:17.402Z"
   },
   {
    "duration": 13,
    "start_time": "2022-07-04T17:30:17.599Z"
   },
   {
    "duration": 2,
    "start_time": "2022-07-04T17:30:17.614Z"
   },
   {
    "duration": 28,
    "start_time": "2022-07-04T17:30:17.617Z"
   },
   {
    "duration": 199,
    "start_time": "2022-07-04T17:30:17.646Z"
   },
   {
    "duration": 138,
    "start_time": "2022-07-04T17:30:17.847Z"
   },
   {
    "duration": 15,
    "start_time": "2022-07-04T17:30:17.986Z"
   },
   {
    "duration": 7,
    "start_time": "2022-07-04T17:30:18.003Z"
   },
   {
    "duration": 8,
    "start_time": "2022-07-04T17:30:18.011Z"
   },
   {
    "duration": 4,
    "start_time": "2022-07-04T17:30:18.020Z"
   },
   {
    "duration": 8,
    "start_time": "2022-07-04T17:30:18.026Z"
   },
   {
    "duration": 3,
    "start_time": "2022-07-04T17:30:18.042Z"
   },
   {
    "duration": 5,
    "start_time": "2022-07-04T17:30:18.046Z"
   },
   {
    "duration": 5,
    "start_time": "2022-07-04T17:30:18.052Z"
   },
   {
    "duration": 6,
    "start_time": "2022-07-04T17:30:18.059Z"
   },
   {
    "duration": 4,
    "start_time": "2022-07-04T17:30:18.066Z"
   },
   {
    "duration": 7,
    "start_time": "2022-07-04T17:30:18.072Z"
   },
   {
    "duration": 5,
    "start_time": "2022-07-04T17:30:18.080Z"
   },
   {
    "duration": 5,
    "start_time": "2022-07-04T17:30:18.086Z"
   },
   {
    "duration": 122,
    "start_time": "2022-07-04T17:30:18.092Z"
   },
   {
    "duration": 9,
    "start_time": "2022-07-04T17:30:18.215Z"
   },
   {
    "duration": 129,
    "start_time": "2022-07-04T17:30:18.225Z"
   },
   {
    "duration": 7,
    "start_time": "2022-07-04T17:30:18.355Z"
   },
   {
    "duration": 136,
    "start_time": "2022-07-04T17:30:18.363Z"
   },
   {
    "duration": 8,
    "start_time": "2022-07-04T17:30:18.501Z"
   },
   {
    "duration": 142,
    "start_time": "2022-07-04T17:30:18.511Z"
   },
   {
    "duration": 8,
    "start_time": "2022-07-04T17:30:18.655Z"
   },
   {
    "duration": 127,
    "start_time": "2022-07-04T17:30:18.665Z"
   },
   {
    "duration": 7,
    "start_time": "2022-07-04T17:30:18.794Z"
   },
   {
    "duration": 145,
    "start_time": "2022-07-04T17:30:18.803Z"
   },
   {
    "duration": 8,
    "start_time": "2022-07-04T17:30:18.950Z"
   },
   {
    "duration": 146,
    "start_time": "2022-07-04T17:30:18.960Z"
   },
   {
    "duration": 8,
    "start_time": "2022-07-04T17:30:19.108Z"
   },
   {
    "duration": 137,
    "start_time": "2022-07-04T17:30:19.117Z"
   },
   {
    "duration": 9,
    "start_time": "2022-07-04T17:30:19.255Z"
   },
   {
    "duration": 243,
    "start_time": "2022-07-04T17:30:19.266Z"
   },
   {
    "duration": 7,
    "start_time": "2022-07-04T17:30:19.510Z"
   },
   {
    "duration": 153,
    "start_time": "2022-07-04T17:30:19.519Z"
   },
   {
    "duration": 7,
    "start_time": "2022-07-04T17:30:19.674Z"
   },
   {
    "duration": 121,
    "start_time": "2022-07-04T17:30:19.683Z"
   },
   {
    "duration": 8,
    "start_time": "2022-07-04T17:30:19.806Z"
   },
   {
    "duration": 143,
    "start_time": "2022-07-04T17:30:19.815Z"
   },
   {
    "duration": 7,
    "start_time": "2022-07-04T17:30:19.960Z"
   },
   {
    "duration": 125,
    "start_time": "2022-07-04T17:30:19.969Z"
   },
   {
    "duration": 7,
    "start_time": "2022-07-04T17:30:20.096Z"
   },
   {
    "duration": 127,
    "start_time": "2022-07-04T17:30:20.105Z"
   },
   {
    "duration": 12,
    "start_time": "2022-07-04T17:30:20.234Z"
   },
   {
    "duration": 6,
    "start_time": "2022-07-04T17:30:20.247Z"
   },
   {
    "duration": 172,
    "start_time": "2022-07-04T17:30:20.258Z"
   },
   {
    "duration": 16,
    "start_time": "2022-07-04T17:30:20.431Z"
   },
   {
    "duration": 164,
    "start_time": "2022-07-04T17:30:20.448Z"
   },
   {
    "duration": 6,
    "start_time": "2022-07-04T17:30:20.614Z"
   },
   {
    "duration": 10,
    "start_time": "2022-07-04T17:30:20.621Z"
   },
   {
    "duration": 6,
    "start_time": "2022-07-04T17:30:20.642Z"
   },
   {
    "duration": 574,
    "start_time": "2022-07-04T17:30:20.649Z"
   },
   {
    "duration": 7,
    "start_time": "2022-07-04T17:30:21.224Z"
   },
   {
    "duration": 6,
    "start_time": "2022-07-04T17:30:21.241Z"
   },
   {
    "duration": 7,
    "start_time": "2022-07-04T17:30:21.248Z"
   },
   {
    "duration": 603,
    "start_time": "2022-07-04T17:30:21.257Z"
   },
   {
    "duration": 6,
    "start_time": "2022-07-04T17:30:21.861Z"
   },
   {
    "duration": 8,
    "start_time": "2022-07-04T17:30:21.869Z"
   },
   {
    "duration": 9,
    "start_time": "2022-07-04T17:30:21.878Z"
   },
   {
    "duration": 10,
    "start_time": "2022-07-04T17:30:21.888Z"
   },
   {
    "duration": 144,
    "start_time": "2022-07-04T17:30:21.899Z"
   },
   {
    "duration": 143,
    "start_time": "2022-07-04T17:30:22.045Z"
   },
   {
    "duration": 239,
    "start_time": "2022-07-04T17:30:22.190Z"
   },
   {
    "duration": 16,
    "start_time": "2022-07-04T17:30:22.431Z"
   },
   {
    "duration": 11,
    "start_time": "2022-07-04T17:30:22.448Z"
   },
   {
    "duration": 4,
    "start_time": "2022-07-04T17:30:22.460Z"
   },
   {
    "duration": 5,
    "start_time": "2022-07-04T17:30:22.465Z"
   },
   {
    "duration": 5,
    "start_time": "2022-07-04T17:30:22.471Z"
   },
   {
    "duration": 6,
    "start_time": "2022-07-04T17:30:22.477Z"
   }
  ],
  "kernelspec": {
   "display_name": "Python 3 (ipykernel)",
   "language": "python",
   "name": "python3"
  },
  "language_info": {
   "codemirror_mode": {
    "name": "ipython",
    "version": 3
   },
   "file_extension": ".py",
   "mimetype": "text/x-python",
   "name": "python",
   "nbconvert_exporter": "python",
   "pygments_lexer": "ipython3",
   "version": "3.9.12"
  },
  "toc": {
   "base_numbering": 1,
   "nav_menu": {},
   "number_sections": true,
   "sideBar": true,
   "skip_h1_title": true,
   "title_cell": "Table of Contents",
   "title_sidebar": "Contents",
   "toc_cell": false,
   "toc_position": {
    "height": "calc(100% - 180px)",
    "left": "10px",
    "top": "150px",
    "width": "165px"
   },
   "toc_section_display": true,
   "toc_window_display": true
  }
 },
 "nbformat": 4,
 "nbformat_minor": 2
}
