{
 "cells": [
  {
   "cell_type": "markdown",
   "id": "91e6d30c",
   "metadata": {},
   "source": [
    "**Сегментация клиентов барбершопа Pablo's в Химках**\n",
    "\n",
    "\n",
    "Задача: провести анализ клиентов и услуг, изучить отзывы и впечатление от заведения. Узнать причину оттока клиентов и дать рекомендации бизнесу\n",
    "\n",
    "Цель: увеличение прибыли и борьба с оттоком клиентов"
   ]
  },
  {
   "cell_type": "markdown",
   "id": "d8095056",
   "metadata": {},
   "source": [
    "## Загрузка библиотек и датасетов"
   ]
  },
  {
   "cell_type": "code",
   "execution_count": 1,
   "id": "54d9107a",
   "metadata": {},
   "outputs": [],
   "source": [
    "#загружаем библиотеки\n",
    "import pandas as pd\n",
    "import seaborn as sns\n",
    "from datetime import datetime, timedelta\n",
    "import datetime as dt\n",
    "from matplotlib import pyplot as plt\n",
    "from sklearn.preprocessing import StandardScaler\n",
    "from sklearn.model_selection import train_test_split\n",
    "from sklearn.linear_model import LogisticRegression\n",
    "from sklearn.linear_model import Lasso, Ridge\n",
    "from sklearn.tree import DecisionTreeRegressor\n",
    "from sklearn.ensemble import RandomForestClassifier\n",
    "import matplotlib.pyplot as plt\n",
    "from sklearn.metrics import mean_absolute_error, mean_squared_error, r2_score\n",
    "from sklearn.metrics import accuracy_score, precision_score, recall_score, f1_score\n",
    "from sklearn.metrics import roc_auc_score\n",
    "from itertools import combinations\n",
    "from sklearn.cluster import KMeans\n",
    "from scipy.cluster.hierarchy import dendrogram, linkage \n",
    "from sklearn.metrics import silhouette_score\n",
    "import sklearn\n",
    "from sklearn.metrics import classification_report\n",
    "from imblearn.under_sampling import NearMiss\n",
    "import plotly.graph_objs as go\n",
    "from scipy import stats as st\n",
    "import math as mth\n",
    "from scipy.stats import mannwhitneyu\n",
    "from scipy.stats import wilcoxon\n",
    "from sklearn.feature_selection import SelectFromModel\n",
    "import numpy as np\n",
    "import warnings\n",
    "import re \n",
    "warnings.filterwarnings(\"ignore\")\n",
    "import imblearn\n"
   ]
  },
  {
   "cell_type": "code",
   "execution_count": 2,
   "id": "f26850ea",
   "metadata": {},
   "outputs": [],
   "source": [
    "data = pd.read_excel('clients_advanced-2.xls')"
   ]
  },
  {
   "cell_type": "code",
   "execution_count": 3,
   "id": "c530a4a0",
   "metadata": {},
   "outputs": [],
   "source": [
    "rev = pd.read_excel('reviews.xls')"
   ]
  },
  {
   "cell_type": "code",
   "execution_count": 4,
   "id": "4769ad2b",
   "metadata": {},
   "outputs": [
    {
     "data": {
      "text/html": [
       "<div>\n",
       "<style scoped>\n",
       "    .dataframe tbody tr th:only-of-type {\n",
       "        vertical-align: middle;\n",
       "    }\n",
       "\n",
       "    .dataframe tbody tr th {\n",
       "        vertical-align: top;\n",
       "    }\n",
       "\n",
       "    .dataframe thead th {\n",
       "        text-align: right;\n",
       "    }\n",
       "</style>\n",
       "<table border=\"1\" class=\"dataframe\">\n",
       "  <thead>\n",
       "    <tr style=\"text-align: right;\">\n",
       "      <th></th>\n",
       "      <th>Клиент</th>\n",
       "      <th>Телефон</th>\n",
       "      <th>Email</th>\n",
       "      <th>Выручка, ₽</th>\n",
       "      <th>% от общей выручки, ₽</th>\n",
       "      <th>Средний чек, ₽</th>\n",
       "      <th>Количество посещений</th>\n",
       "      <th>Дата</th>\n",
       "      <th>Сотрудник</th>\n",
       "      <th>Услуга/товар</th>\n",
       "      <th>Стоимость, ₽</th>\n",
       "      <th>Скидка, %</th>\n",
       "      <th>Статус визита</th>\n",
       "    </tr>\n",
       "  </thead>\n",
       "  <tbody>\n",
       "    <tr>\n",
       "      <th>0</th>\n",
       "      <td>Игорь</td>\n",
       "      <td>+7 977 504-63-14</td>\n",
       "      <td>NaN</td>\n",
       "      <td>62346.0</td>\n",
       "      <td>1.0</td>\n",
       "      <td>1484.43</td>\n",
       "      <td>42.0</td>\n",
       "      <td>NaN</td>\n",
       "      <td>NaN</td>\n",
       "      <td>NaN</td>\n",
       "      <td>NaN</td>\n",
       "      <td>NaN</td>\n",
       "      <td>NaN</td>\n",
       "    </tr>\n",
       "    <tr>\n",
       "      <th>1</th>\n",
       "      <td>Игорь</td>\n",
       "      <td>+7 977 504-63-14</td>\n",
       "      <td>NaN</td>\n",
       "      <td>NaN</td>\n",
       "      <td>NaN</td>\n",
       "      <td>NaN</td>\n",
       "      <td>NaN</td>\n",
       "      <td>2022-11-01 10:00:00</td>\n",
       "      <td>Рахман (Capitan)</td>\n",
       "      <td>Стрижка</td>\n",
       "      <td>1600.0</td>\n",
       "      <td>0.0</td>\n",
       "      <td>Клиент пришёл</td>\n",
       "    </tr>\n",
       "    <tr>\n",
       "      <th>2</th>\n",
       "      <td>Игорь</td>\n",
       "      <td>+7 977 504-63-14</td>\n",
       "      <td>NaN</td>\n",
       "      <td>NaN</td>\n",
       "      <td>NaN</td>\n",
       "      <td>NaN</td>\n",
       "      <td>NaN</td>\n",
       "      <td>2022-10-19 18:30:00</td>\n",
       "      <td>Максим (Soldado)</td>\n",
       "      <td>Стрижка</td>\n",
       "      <td>1300.0</td>\n",
       "      <td>0.0</td>\n",
       "      <td>Клиент пришёл</td>\n",
       "    </tr>\n",
       "    <tr>\n",
       "      <th>3</th>\n",
       "      <td>Игорь</td>\n",
       "      <td>+7 977 504-63-14</td>\n",
       "      <td>NaN</td>\n",
       "      <td>NaN</td>\n",
       "      <td>NaN</td>\n",
       "      <td>NaN</td>\n",
       "      <td>NaN</td>\n",
       "      <td>2022-09-28 18:30:00</td>\n",
       "      <td>Рахман (Capitan)</td>\n",
       "      <td>Стрижка</td>\n",
       "      <td>1600.0</td>\n",
       "      <td>0.0</td>\n",
       "      <td>Клиент пришёл</td>\n",
       "    </tr>\n",
       "    <tr>\n",
       "      <th>4</th>\n",
       "      <td>Игорь</td>\n",
       "      <td>+7 977 504-63-14</td>\n",
       "      <td>NaN</td>\n",
       "      <td>NaN</td>\n",
       "      <td>NaN</td>\n",
       "      <td>NaN</td>\n",
       "      <td>NaN</td>\n",
       "      <td>2022-09-11 14:30:00</td>\n",
       "      <td>Рахман (Capitan)</td>\n",
       "      <td>Стрижка</td>\n",
       "      <td>1600.0</td>\n",
       "      <td>0.0</td>\n",
       "      <td>Клиент пришёл</td>\n",
       "    </tr>\n",
       "  </tbody>\n",
       "</table>\n",
       "</div>"
      ],
      "text/plain": [
       "  Клиент           Телефон Email  Выручка, ₽  % от общей выручки, ₽  \\\n",
       "0  Игорь  +7 977 504-63-14   NaN     62346.0                    1.0   \n",
       "1  Игорь  +7 977 504-63-14   NaN         NaN                    NaN   \n",
       "2  Игорь  +7 977 504-63-14   NaN         NaN                    NaN   \n",
       "3  Игорь  +7 977 504-63-14   NaN         NaN                    NaN   \n",
       "4  Игорь  +7 977 504-63-14   NaN         NaN                    NaN   \n",
       "\n",
       "   Средний чек, ₽  Количество посещений                 Дата  \\\n",
       "0         1484.43                  42.0                  NaN   \n",
       "1             NaN                   NaN  2022-11-01 10:00:00   \n",
       "2             NaN                   NaN  2022-10-19 18:30:00   \n",
       "3             NaN                   NaN  2022-09-28 18:30:00   \n",
       "4             NaN                   NaN  2022-09-11 14:30:00   \n",
       "\n",
       "          Сотрудник Услуга/товар  Стоимость, ₽  Скидка, %  Статус визита  \n",
       "0               NaN          NaN           NaN        NaN            NaN  \n",
       "1  Рахман (Capitan)      Стрижка        1600.0        0.0  Клиент пришёл  \n",
       "2  Максим (Soldado)      Стрижка        1300.0        0.0  Клиент пришёл  \n",
       "3  Рахман (Capitan)      Стрижка        1600.0        0.0  Клиент пришёл  \n",
       "4  Рахман (Capitan)      Стрижка        1600.0        0.0  Клиент пришёл  "
      ]
     },
     "execution_count": 4,
     "metadata": {},
     "output_type": "execute_result"
    }
   ],
   "source": [
    "data.head()"
   ]
  },
  {
   "cell_type": "code",
   "execution_count": 5,
   "id": "1d668a12",
   "metadata": {
    "scrolled": true
   },
   "outputs": [
    {
     "data": {
      "text/html": [
       "<div>\n",
       "<style scoped>\n",
       "    .dataframe tbody tr th:only-of-type {\n",
       "        vertical-align: middle;\n",
       "    }\n",
       "\n",
       "    .dataframe tbody tr th {\n",
       "        vertical-align: top;\n",
       "    }\n",
       "\n",
       "    .dataframe thead th {\n",
       "        text-align: right;\n",
       "    }\n",
       "</style>\n",
       "<table border=\"1\" class=\"dataframe\">\n",
       "  <thead>\n",
       "    <tr style=\"text-align: right;\">\n",
       "      <th></th>\n",
       "      <th>Имя</th>\n",
       "      <th>Телефон</th>\n",
       "      <th>Email</th>\n",
       "      <th>Дата</th>\n",
       "      <th>О сотруднике</th>\n",
       "      <th>Отзыв</th>\n",
       "    </tr>\n",
       "  </thead>\n",
       "  <tbody>\n",
       "    <tr>\n",
       "      <th>0</th>\n",
       "      <td>Данила</td>\n",
       "      <td>+7 925 700-56-99</td>\n",
       "      <td>dmv_97@mail.ru</td>\n",
       "      <td>2022-11-16 17:37:53</td>\n",
       "      <td>Рахман (Capitan)</td>\n",
       "      <td>NaN</td>\n",
       "    </tr>\n",
       "    <tr>\n",
       "      <th>1</th>\n",
       "      <td>Олег</td>\n",
       "      <td>+7 916 535-26-32</td>\n",
       "      <td>NaN</td>\n",
       "      <td>2022-11-16 16:40:57</td>\n",
       "      <td>Рахман (Capitan)</td>\n",
       "      <td>Отличный мастер!</td>\n",
       "    </tr>\n",
       "    <tr>\n",
       "      <th>2</th>\n",
       "      <td>Юрий</td>\n",
       "      <td>+7 916 122-20-21</td>\n",
       "      <td>NaN</td>\n",
       "      <td>2022-11-15 21:07:27</td>\n",
       "      <td>Максим (Soldado)</td>\n",
       "      <td>NaN</td>\n",
       "    </tr>\n",
       "    <tr>\n",
       "      <th>3</th>\n",
       "      <td>Евгений</td>\n",
       "      <td>+7 910 227-70-27</td>\n",
       "      <td>Production@amteng.ru</td>\n",
       "      <td>2022-11-12 19:17:10</td>\n",
       "      <td>Рахман (Capitan)</td>\n",
       "      <td>Рахман как всегда на отлично! Спасибо!</td>\n",
       "    </tr>\n",
       "    <tr>\n",
       "      <th>4</th>\n",
       "      <td>Антон</td>\n",
       "      <td>+7 926 796-68-11</td>\n",
       "      <td>anton236@yandex.ru</td>\n",
       "      <td>2022-11-12 16:06:07</td>\n",
       "      <td>Максим (Soldado)</td>\n",
       "      <td>Все супер!</td>\n",
       "    </tr>\n",
       "  </tbody>\n",
       "</table>\n",
       "</div>"
      ],
      "text/plain": [
       "       Имя           Телефон                 Email                 Дата  \\\n",
       "0   Данила  +7 925 700-56-99        dmv_97@mail.ru  2022-11-16 17:37:53   \n",
       "1     Олег  +7 916 535-26-32                   NaN  2022-11-16 16:40:57   \n",
       "2     Юрий  +7 916 122-20-21                   NaN  2022-11-15 21:07:27   \n",
       "3  Евгений  +7 910 227-70-27  Production@amteng.ru  2022-11-12 19:17:10   \n",
       "4    Антон  +7 926 796-68-11    anton236@yandex.ru  2022-11-12 16:06:07   \n",
       "\n",
       "       О сотруднике                                   Отзыв  \n",
       "0  Рахман (Capitan)                                     NaN  \n",
       "1  Рахман (Capitan)                        Отличный мастер!  \n",
       "2  Максим (Soldado)                                     NaN  \n",
       "3  Рахман (Capitan)  Рахман как всегда на отлично! Спасибо!  \n",
       "4  Максим (Soldado)                              Все супер!  "
      ]
     },
     "execution_count": 5,
     "metadata": {},
     "output_type": "execute_result"
    }
   ],
   "source": [
    "rev.head()"
   ]
  },
  {
   "cell_type": "markdown",
   "id": "9648fc7a",
   "metadata": {},
   "source": [
    "## Предобработка данных"
   ]
  },
  {
   "cell_type": "markdown",
   "id": "4707bea3",
   "metadata": {},
   "source": [
    "### Обзор данных"
   ]
  },
  {
   "cell_type": "code",
   "execution_count": 6,
   "id": "e8fe2ec4",
   "metadata": {},
   "outputs": [
    {
     "name": "stdout",
     "output_type": "stream",
     "text": [
      "<class 'pandas.core.frame.DataFrame'>\n",
      "RangeIndex: 5543 entries, 0 to 5542\n",
      "Data columns (total 13 columns):\n",
      " #   Column                 Non-Null Count  Dtype  \n",
      "---  ------                 --------------  -----  \n",
      " 0   Клиент                 5542 non-null   object \n",
      " 1   Телефон                5542 non-null   object \n",
      " 2   Email                  257 non-null    object \n",
      " 3   Выручка, ₽             1294 non-null   float64\n",
      " 4   % от общей выручки, ₽  1294 non-null   float64\n",
      " 5   Средний чек, ₽         1294 non-null   float64\n",
      " 6   Количество посещений   1294 non-null   float64\n",
      " 7   Дата                   4249 non-null   object \n",
      " 8   Сотрудник              4249 non-null   object \n",
      " 9   Услуга/товар           4218 non-null   object \n",
      " 10  Стоимость, ₽           4249 non-null   float64\n",
      " 11  Скидка, %              4249 non-null   float64\n",
      " 12  Статус визита          4028 non-null   object \n",
      "dtypes: float64(6), object(7)\n",
      "memory usage: 563.1+ KB\n"
     ]
    }
   ],
   "source": [
    "data.info()"
   ]
  },
  {
   "cell_type": "code",
   "execution_count": 7,
   "id": "a613af21",
   "metadata": {},
   "outputs": [
    {
     "name": "stdout",
     "output_type": "stream",
     "text": [
      "<class 'pandas.core.frame.DataFrame'>\n",
      "RangeIndex: 93 entries, 0 to 92\n",
      "Data columns (total 6 columns):\n",
      " #   Column        Non-Null Count  Dtype \n",
      "---  ------        --------------  ----- \n",
      " 0   Имя           93 non-null     object\n",
      " 1   Телефон       93 non-null     object\n",
      " 2   Email         41 non-null     object\n",
      " 3   Дата          93 non-null     object\n",
      " 4   О сотруднике  93 non-null     object\n",
      " 5   Отзыв         60 non-null     object\n",
      "dtypes: object(6)\n",
      "memory usage: 4.5+ KB\n"
     ]
    }
   ],
   "source": [
    "rev.info()"
   ]
  },
  {
   "cell_type": "markdown",
   "id": "bd13cbb2",
   "metadata": {},
   "source": [
    "В нашем распоряжении два файла\n",
    "\n",
    "`data` - общие сведения о клиентах и посещениях. Нужно поменять все типы данных, заполнить пропуски и проверить полные дубликаты\n",
    "\n",
    "`rev` - список отзывов. которые оставляли клиенты. Тоже нужно поменять типы данных и заполнить пропуски"
   ]
  },
  {
   "cell_type": "code",
   "execution_count": 8,
   "id": "c38abc4a",
   "metadata": {},
   "outputs": [
    {
     "data": {
      "text/html": [
       "<div>\n",
       "<style scoped>\n",
       "    .dataframe tbody tr th:only-of-type {\n",
       "        vertical-align: middle;\n",
       "    }\n",
       "\n",
       "    .dataframe tbody tr th {\n",
       "        vertical-align: top;\n",
       "    }\n",
       "\n",
       "    .dataframe thead th {\n",
       "        text-align: right;\n",
       "    }\n",
       "</style>\n",
       "<table border=\"1\" class=\"dataframe\">\n",
       "  <thead>\n",
       "    <tr style=\"text-align: right;\">\n",
       "      <th></th>\n",
       "      <th>Выручка, ₽</th>\n",
       "      <th>% от общей выручки, ₽</th>\n",
       "      <th>Средний чек, ₽</th>\n",
       "      <th>Количество посещений</th>\n",
       "      <th>Стоимость, ₽</th>\n",
       "      <th>Скидка, %</th>\n",
       "    </tr>\n",
       "  </thead>\n",
       "  <tbody>\n",
       "    <tr>\n",
       "      <th>count</th>\n",
       "      <td>1294.000000</td>\n",
       "      <td>1294.000000</td>\n",
       "      <td>1294.000000</td>\n",
       "      <td>1294.000000</td>\n",
       "      <td>4249.000000</td>\n",
       "      <td>4249.000000</td>\n",
       "    </tr>\n",
       "    <tr>\n",
       "      <th>mean</th>\n",
       "      <td>4558.088099</td>\n",
       "      <td>0.063369</td>\n",
       "      <td>1479.854583</td>\n",
       "      <td>2.932767</td>\n",
       "      <td>1317.532361</td>\n",
       "      <td>3.900993</td>\n",
       "    </tr>\n",
       "    <tr>\n",
       "      <th>std</th>\n",
       "      <td>6461.212676</td>\n",
       "      <td>0.116483</td>\n",
       "      <td>574.943367</td>\n",
       "      <td>3.921025</td>\n",
       "      <td>499.206657</td>\n",
       "      <td>14.330466</td>\n",
       "    </tr>\n",
       "    <tr>\n",
       "      <th>min</th>\n",
       "      <td>0.000000</td>\n",
       "      <td>0.000000</td>\n",
       "      <td>0.000000</td>\n",
       "      <td>0.000000</td>\n",
       "      <td>0.000000</td>\n",
       "      <td>0.000000</td>\n",
       "    </tr>\n",
       "    <tr>\n",
       "      <th>25%</th>\n",
       "      <td>1250.000000</td>\n",
       "      <td>0.000000</td>\n",
       "      <td>1200.000000</td>\n",
       "      <td>1.000000</td>\n",
       "      <td>1100.000000</td>\n",
       "      <td>0.000000</td>\n",
       "    </tr>\n",
       "    <tr>\n",
       "      <th>50%</th>\n",
       "      <td>2080.000000</td>\n",
       "      <td>0.000000</td>\n",
       "      <td>1300.000000</td>\n",
       "      <td>1.000000</td>\n",
       "      <td>1250.000000</td>\n",
       "      <td>0.000000</td>\n",
       "    </tr>\n",
       "    <tr>\n",
       "      <th>75%</th>\n",
       "      <td>4797.500000</td>\n",
       "      <td>0.100000</td>\n",
       "      <td>1676.652500</td>\n",
       "      <td>3.000000</td>\n",
       "      <td>1600.000000</td>\n",
       "      <td>0.000000</td>\n",
       "    </tr>\n",
       "    <tr>\n",
       "      <th>max</th>\n",
       "      <td>62346.000000</td>\n",
       "      <td>1.000000</td>\n",
       "      <td>8963.000000</td>\n",
       "      <td>42.000000</td>\n",
       "      <td>2950.000000</td>\n",
       "      <td>100.000000</td>\n",
       "    </tr>\n",
       "  </tbody>\n",
       "</table>\n",
       "</div>"
      ],
      "text/plain": [
       "         Выручка, ₽  % от общей выручки, ₽  Средний чек, ₽  \\\n",
       "count   1294.000000            1294.000000     1294.000000   \n",
       "mean    4558.088099               0.063369     1479.854583   \n",
       "std     6461.212676               0.116483      574.943367   \n",
       "min        0.000000               0.000000        0.000000   \n",
       "25%     1250.000000               0.000000     1200.000000   \n",
       "50%     2080.000000               0.000000     1300.000000   \n",
       "75%     4797.500000               0.100000     1676.652500   \n",
       "max    62346.000000               1.000000     8963.000000   \n",
       "\n",
       "       Количество посещений  Стоимость, ₽    Скидка, %  \n",
       "count           1294.000000   4249.000000  4249.000000  \n",
       "mean               2.932767   1317.532361     3.900993  \n",
       "std                3.921025    499.206657    14.330466  \n",
       "min                0.000000      0.000000     0.000000  \n",
       "25%                1.000000   1100.000000     0.000000  \n",
       "50%                1.000000   1250.000000     0.000000  \n",
       "75%                3.000000   1600.000000     0.000000  \n",
       "max               42.000000   2950.000000   100.000000  "
      ]
     },
     "execution_count": 8,
     "metadata": {},
     "output_type": "execute_result"
    }
   ],
   "source": [
    "data.describe()"
   ]
  },
  {
   "cell_type": "markdown",
   "id": "6ff6f4d5",
   "metadata": {},
   "source": [
    "- У нас 1294 уникальных клиента. \n",
    "- Средняя цена визита 1479р.\n",
    "- Среднее количество визитов 2,9\n",
    "- Средняя скидка 3,9%\n",
    "- Средний % от общего оборота 0,06\n",
    "- Максимальная выручка 62.346р.\n",
    "- Максимальное количество визитов  42"
   ]
  },
  {
   "cell_type": "markdown",
   "id": "7acc3141",
   "metadata": {},
   "source": [
    "### Названия колонок"
   ]
  },
  {
   "cell_type": "code",
   "execution_count": 9,
   "id": "8b59908a",
   "metadata": {},
   "outputs": [],
   "source": [
    "#переименовываем столбцы\n",
    "data.columns = ['client', 'phone', 'email', 'cost', 'perc_cost', 'mean_visits', 'visits', 'date', 'employee', 'order', 'price', 'sale', 'status_visits']\n",
    "rev.columns = ['client', 'phone', 'email', 'date', 'employee', 'review']"
   ]
  },
  {
   "cell_type": "code",
   "execution_count": 10,
   "id": "47f6a5bc",
   "metadata": {},
   "outputs": [
    {
     "data": {
      "text/html": [
       "<div>\n",
       "<style scoped>\n",
       "    .dataframe tbody tr th:only-of-type {\n",
       "        vertical-align: middle;\n",
       "    }\n",
       "\n",
       "    .dataframe tbody tr th {\n",
       "        vertical-align: top;\n",
       "    }\n",
       "\n",
       "    .dataframe thead th {\n",
       "        text-align: right;\n",
       "    }\n",
       "</style>\n",
       "<table border=\"1\" class=\"dataframe\">\n",
       "  <thead>\n",
       "    <tr style=\"text-align: right;\">\n",
       "      <th></th>\n",
       "      <th>client</th>\n",
       "      <th>phone</th>\n",
       "      <th>email</th>\n",
       "      <th>cost</th>\n",
       "      <th>perc_cost</th>\n",
       "      <th>mean_visits</th>\n",
       "      <th>visits</th>\n",
       "      <th>date</th>\n",
       "      <th>employee</th>\n",
       "      <th>order</th>\n",
       "      <th>price</th>\n",
       "      <th>sale</th>\n",
       "      <th>status_visits</th>\n",
       "    </tr>\n",
       "  </thead>\n",
       "  <tbody>\n",
       "    <tr>\n",
       "      <th>0</th>\n",
       "      <td>Игорь</td>\n",
       "      <td>+7 977 504-63-14</td>\n",
       "      <td>NaN</td>\n",
       "      <td>62346.0</td>\n",
       "      <td>1.0</td>\n",
       "      <td>1484.43</td>\n",
       "      <td>42.0</td>\n",
       "      <td>NaN</td>\n",
       "      <td>NaN</td>\n",
       "      <td>NaN</td>\n",
       "      <td>NaN</td>\n",
       "      <td>NaN</td>\n",
       "      <td>NaN</td>\n",
       "    </tr>\n",
       "    <tr>\n",
       "      <th>1</th>\n",
       "      <td>Игорь</td>\n",
       "      <td>+7 977 504-63-14</td>\n",
       "      <td>NaN</td>\n",
       "      <td>NaN</td>\n",
       "      <td>NaN</td>\n",
       "      <td>NaN</td>\n",
       "      <td>NaN</td>\n",
       "      <td>2022-11-01 10:00:00</td>\n",
       "      <td>Рахман (Capitan)</td>\n",
       "      <td>Стрижка</td>\n",
       "      <td>1600.0</td>\n",
       "      <td>0.0</td>\n",
       "      <td>Клиент пришёл</td>\n",
       "    </tr>\n",
       "  </tbody>\n",
       "</table>\n",
       "</div>"
      ],
      "text/plain": [
       "  client             phone email     cost  perc_cost  mean_visits  visits  \\\n",
       "0  Игорь  +7 977 504-63-14   NaN  62346.0        1.0      1484.43    42.0   \n",
       "1  Игорь  +7 977 504-63-14   NaN      NaN        NaN          NaN     NaN   \n",
       "\n",
       "                  date          employee    order   price  sale  status_visits  \n",
       "0                  NaN               NaN      NaN     NaN   NaN            NaN  \n",
       "1  2022-11-01 10:00:00  Рахман (Capitan)  Стрижка  1600.0   0.0  Клиент пришёл  "
      ]
     },
     "execution_count": 10,
     "metadata": {},
     "output_type": "execute_result"
    }
   ],
   "source": [
    "data.head(2)"
   ]
  },
  {
   "cell_type": "code",
   "execution_count": 11,
   "id": "27eedc70",
   "metadata": {},
   "outputs": [
    {
     "data": {
      "text/html": [
       "<div>\n",
       "<style scoped>\n",
       "    .dataframe tbody tr th:only-of-type {\n",
       "        vertical-align: middle;\n",
       "    }\n",
       "\n",
       "    .dataframe tbody tr th {\n",
       "        vertical-align: top;\n",
       "    }\n",
       "\n",
       "    .dataframe thead th {\n",
       "        text-align: right;\n",
       "    }\n",
       "</style>\n",
       "<table border=\"1\" class=\"dataframe\">\n",
       "  <thead>\n",
       "    <tr style=\"text-align: right;\">\n",
       "      <th></th>\n",
       "      <th>client</th>\n",
       "      <th>phone</th>\n",
       "      <th>email</th>\n",
       "      <th>date</th>\n",
       "      <th>employee</th>\n",
       "      <th>review</th>\n",
       "    </tr>\n",
       "  </thead>\n",
       "  <tbody>\n",
       "    <tr>\n",
       "      <th>0</th>\n",
       "      <td>Данила</td>\n",
       "      <td>+7 925 700-56-99</td>\n",
       "      <td>dmv_97@mail.ru</td>\n",
       "      <td>2022-11-16 17:37:53</td>\n",
       "      <td>Рахман (Capitan)</td>\n",
       "      <td>NaN</td>\n",
       "    </tr>\n",
       "    <tr>\n",
       "      <th>1</th>\n",
       "      <td>Олег</td>\n",
       "      <td>+7 916 535-26-32</td>\n",
       "      <td>NaN</td>\n",
       "      <td>2022-11-16 16:40:57</td>\n",
       "      <td>Рахман (Capitan)</td>\n",
       "      <td>Отличный мастер!</td>\n",
       "    </tr>\n",
       "  </tbody>\n",
       "</table>\n",
       "</div>"
      ],
      "text/plain": [
       "   client             phone           email                 date  \\\n",
       "0  Данила  +7 925 700-56-99  dmv_97@mail.ru  2022-11-16 17:37:53   \n",
       "1    Олег  +7 916 535-26-32             NaN  2022-11-16 16:40:57   \n",
       "\n",
       "           employee            review  \n",
       "0  Рахман (Capitan)               NaN  \n",
       "1  Рахман (Capitan)  Отличный мастер!  "
      ]
     },
     "execution_count": 11,
     "metadata": {},
     "output_type": "execute_result"
    }
   ],
   "source": [
    "rev.head(2)"
   ]
  },
  {
   "cell_type": "markdown",
   "id": "0ab1f733",
   "metadata": {},
   "source": [
    "### Пропущенные значения"
   ]
  },
  {
   "cell_type": "code",
   "execution_count": 12,
   "id": "f8933e42",
   "metadata": {},
   "outputs": [
    {
     "data": {
      "text/plain": [
       "client              1\n",
       "phone               1\n",
       "email            5286\n",
       "cost             4249\n",
       "perc_cost        4249\n",
       "mean_visits      4249\n",
       "visits           4249\n",
       "date             1294\n",
       "employee         1294\n",
       "order            1325\n",
       "price            1294\n",
       "sale             1294\n",
       "status_visits    1515\n",
       "dtype: int64"
      ]
     },
     "execution_count": 12,
     "metadata": {},
     "output_type": "execute_result"
    }
   ],
   "source": [
    "data.isna().sum()"
   ]
  },
  {
   "cell_type": "code",
   "execution_count": 13,
   "id": "6280dcb7",
   "metadata": {},
   "outputs": [
    {
     "data": {
      "text/plain": [
       "client       0\n",
       "phone        0\n",
       "email       52\n",
       "date         0\n",
       "employee     0\n",
       "review      33\n",
       "dtype: int64"
      ]
     },
     "execution_count": 13,
     "metadata": {},
     "output_type": "execute_result"
    }
   ],
   "source": [
    "rev.isna().sum()"
   ]
  },
  {
   "cell_type": "markdown",
   "id": "6931cd77",
   "metadata": {},
   "source": [
    "Есть пропуски, заменим на \"-\", а в столбце `status_visits` на \"итог\" - сроки в которых отсутствует эта строка, относится к каждому клиенту с общей информацией по визитам, тратам и тд. янужно будет для фильтрации"
   ]
  },
  {
   "cell_type": "code",
   "execution_count": 14,
   "id": "46136d8b",
   "metadata": {},
   "outputs": [],
   "source": [
    "data['status_visits'] = data['status_visits'].fillna('итог') \n",
    "data['email'] = data['email'].fillna('-')"
   ]
  },
  {
   "cell_type": "code",
   "execution_count": 15,
   "id": "615c2ce3",
   "metadata": {
    "scrolled": true
   },
   "outputs": [
    {
     "data": {
      "text/html": [
       "<div>\n",
       "<style scoped>\n",
       "    .dataframe tbody tr th:only-of-type {\n",
       "        vertical-align: middle;\n",
       "    }\n",
       "\n",
       "    .dataframe tbody tr th {\n",
       "        vertical-align: top;\n",
       "    }\n",
       "\n",
       "    .dataframe thead th {\n",
       "        text-align: right;\n",
       "    }\n",
       "</style>\n",
       "<table border=\"1\" class=\"dataframe\">\n",
       "  <thead>\n",
       "    <tr style=\"text-align: right;\">\n",
       "      <th></th>\n",
       "      <th>client</th>\n",
       "      <th>phone</th>\n",
       "      <th>email</th>\n",
       "      <th>cost</th>\n",
       "      <th>perc_cost</th>\n",
       "      <th>mean_visits</th>\n",
       "      <th>visits</th>\n",
       "      <th>date</th>\n",
       "      <th>employee</th>\n",
       "      <th>order</th>\n",
       "      <th>price</th>\n",
       "      <th>sale</th>\n",
       "      <th>status_visits</th>\n",
       "    </tr>\n",
       "  </thead>\n",
       "  <tbody>\n",
       "    <tr>\n",
       "      <th>0</th>\n",
       "      <td>Игорь</td>\n",
       "      <td>+7 977 504-63-14</td>\n",
       "      <td>-</td>\n",
       "      <td>62346.0</td>\n",
       "      <td>1.0</td>\n",
       "      <td>1484.43</td>\n",
       "      <td>42.0</td>\n",
       "      <td>NaN</td>\n",
       "      <td>NaN</td>\n",
       "      <td>NaN</td>\n",
       "      <td>NaN</td>\n",
       "      <td>NaN</td>\n",
       "      <td>итог</td>\n",
       "    </tr>\n",
       "    <tr>\n",
       "      <th>1</th>\n",
       "      <td>Игорь</td>\n",
       "      <td>+7 977 504-63-14</td>\n",
       "      <td>-</td>\n",
       "      <td>NaN</td>\n",
       "      <td>NaN</td>\n",
       "      <td>NaN</td>\n",
       "      <td>NaN</td>\n",
       "      <td>2022-11-01 10:00:00</td>\n",
       "      <td>Рахман (Capitan)</td>\n",
       "      <td>Стрижка</td>\n",
       "      <td>1600.0</td>\n",
       "      <td>0.0</td>\n",
       "      <td>Клиент пришёл</td>\n",
       "    </tr>\n",
       "    <tr>\n",
       "      <th>2</th>\n",
       "      <td>Игорь</td>\n",
       "      <td>+7 977 504-63-14</td>\n",
       "      <td>-</td>\n",
       "      <td>NaN</td>\n",
       "      <td>NaN</td>\n",
       "      <td>NaN</td>\n",
       "      <td>NaN</td>\n",
       "      <td>2022-10-19 18:30:00</td>\n",
       "      <td>Максим (Soldado)</td>\n",
       "      <td>Стрижка</td>\n",
       "      <td>1300.0</td>\n",
       "      <td>0.0</td>\n",
       "      <td>Клиент пришёл</td>\n",
       "    </tr>\n",
       "    <tr>\n",
       "      <th>3</th>\n",
       "      <td>Игорь</td>\n",
       "      <td>+7 977 504-63-14</td>\n",
       "      <td>-</td>\n",
       "      <td>NaN</td>\n",
       "      <td>NaN</td>\n",
       "      <td>NaN</td>\n",
       "      <td>NaN</td>\n",
       "      <td>2022-09-28 18:30:00</td>\n",
       "      <td>Рахман (Capitan)</td>\n",
       "      <td>Стрижка</td>\n",
       "      <td>1600.0</td>\n",
       "      <td>0.0</td>\n",
       "      <td>Клиент пришёл</td>\n",
       "    </tr>\n",
       "    <tr>\n",
       "      <th>4</th>\n",
       "      <td>Игорь</td>\n",
       "      <td>+7 977 504-63-14</td>\n",
       "      <td>-</td>\n",
       "      <td>NaN</td>\n",
       "      <td>NaN</td>\n",
       "      <td>NaN</td>\n",
       "      <td>NaN</td>\n",
       "      <td>2022-09-11 14:30:00</td>\n",
       "      <td>Рахман (Capitan)</td>\n",
       "      <td>Стрижка</td>\n",
       "      <td>1600.0</td>\n",
       "      <td>0.0</td>\n",
       "      <td>Клиент пришёл</td>\n",
       "    </tr>\n",
       "  </tbody>\n",
       "</table>\n",
       "</div>"
      ],
      "text/plain": [
       "  client             phone email     cost  perc_cost  mean_visits  visits  \\\n",
       "0  Игорь  +7 977 504-63-14     -  62346.0        1.0      1484.43    42.0   \n",
       "1  Игорь  +7 977 504-63-14     -      NaN        NaN          NaN     NaN   \n",
       "2  Игорь  +7 977 504-63-14     -      NaN        NaN          NaN     NaN   \n",
       "3  Игорь  +7 977 504-63-14     -      NaN        NaN          NaN     NaN   \n",
       "4  Игорь  +7 977 504-63-14     -      NaN        NaN          NaN     NaN   \n",
       "\n",
       "                  date          employee    order   price  sale  status_visits  \n",
       "0                  NaN               NaN      NaN     NaN   NaN           итог  \n",
       "1  2022-11-01 10:00:00  Рахман (Capitan)  Стрижка  1600.0   0.0  Клиент пришёл  \n",
       "2  2022-10-19 18:30:00  Максим (Soldado)  Стрижка  1300.0   0.0  Клиент пришёл  \n",
       "3  2022-09-28 18:30:00  Рахман (Capitan)  Стрижка  1600.0   0.0  Клиент пришёл  \n",
       "4  2022-09-11 14:30:00  Рахман (Capitan)  Стрижка  1600.0   0.0  Клиент пришёл  "
      ]
     },
     "execution_count": 15,
     "metadata": {},
     "output_type": "execute_result"
    }
   ],
   "source": [
    "data.head()"
   ]
  },
  {
   "cell_type": "code",
   "execution_count": 16,
   "id": "eaaadf91",
   "metadata": {},
   "outputs": [
    {
     "data": {
      "text/html": [
       "<div>\n",
       "<style scoped>\n",
       "    .dataframe tbody tr th:only-of-type {\n",
       "        vertical-align: middle;\n",
       "    }\n",
       "\n",
       "    .dataframe tbody tr th {\n",
       "        vertical-align: top;\n",
       "    }\n",
       "\n",
       "    .dataframe thead th {\n",
       "        text-align: right;\n",
       "    }\n",
       "</style>\n",
       "<table border=\"1\" class=\"dataframe\">\n",
       "  <thead>\n",
       "    <tr style=\"text-align: right;\">\n",
       "      <th></th>\n",
       "      <th>client</th>\n",
       "      <th>phone</th>\n",
       "      <th>email</th>\n",
       "      <th>date</th>\n",
       "      <th>employee</th>\n",
       "      <th>review</th>\n",
       "    </tr>\n",
       "  </thead>\n",
       "  <tbody>\n",
       "    <tr>\n",
       "      <th>0</th>\n",
       "      <td>Данила</td>\n",
       "      <td>+7 925 700-56-99</td>\n",
       "      <td>dmv_97@mail.ru</td>\n",
       "      <td>2022-11-16 17:37:53</td>\n",
       "      <td>Рахман (Capitan)</td>\n",
       "      <td>только оценка</td>\n",
       "    </tr>\n",
       "    <tr>\n",
       "      <th>1</th>\n",
       "      <td>Олег</td>\n",
       "      <td>+7 916 535-26-32</td>\n",
       "      <td>-</td>\n",
       "      <td>2022-11-16 16:40:57</td>\n",
       "      <td>Рахман (Capitan)</td>\n",
       "      <td>Отличный мастер!</td>\n",
       "    </tr>\n",
       "    <tr>\n",
       "      <th>2</th>\n",
       "      <td>Юрий</td>\n",
       "      <td>+7 916 122-20-21</td>\n",
       "      <td>-</td>\n",
       "      <td>2022-11-15 21:07:27</td>\n",
       "      <td>Максим (Soldado)</td>\n",
       "      <td>только оценка</td>\n",
       "    </tr>\n",
       "    <tr>\n",
       "      <th>3</th>\n",
       "      <td>Евгений</td>\n",
       "      <td>+7 910 227-70-27</td>\n",
       "      <td>Production@amteng.ru</td>\n",
       "      <td>2022-11-12 19:17:10</td>\n",
       "      <td>Рахман (Capitan)</td>\n",
       "      <td>Рахман как всегда на отлично! Спасибо!</td>\n",
       "    </tr>\n",
       "    <tr>\n",
       "      <th>4</th>\n",
       "      <td>Антон</td>\n",
       "      <td>+7 926 796-68-11</td>\n",
       "      <td>anton236@yandex.ru</td>\n",
       "      <td>2022-11-12 16:06:07</td>\n",
       "      <td>Максим (Soldado)</td>\n",
       "      <td>Все супер!</td>\n",
       "    </tr>\n",
       "  </tbody>\n",
       "</table>\n",
       "</div>"
      ],
      "text/plain": [
       "    client             phone                 email                 date  \\\n",
       "0   Данила  +7 925 700-56-99        dmv_97@mail.ru  2022-11-16 17:37:53   \n",
       "1     Олег  +7 916 535-26-32                     -  2022-11-16 16:40:57   \n",
       "2     Юрий  +7 916 122-20-21                     -  2022-11-15 21:07:27   \n",
       "3  Евгений  +7 910 227-70-27  Production@amteng.ru  2022-11-12 19:17:10   \n",
       "4    Антон  +7 926 796-68-11    anton236@yandex.ru  2022-11-12 16:06:07   \n",
       "\n",
       "           employee                                  review  \n",
       "0  Рахман (Capitan)                           только оценка  \n",
       "1  Рахман (Capitan)                        Отличный мастер!  \n",
       "2  Максим (Soldado)                           только оценка  \n",
       "3  Рахман (Capitan)  Рахман как всегда на отлично! Спасибо!  \n",
       "4  Максим (Soldado)                              Все супер!  "
      ]
     },
     "execution_count": 16,
     "metadata": {},
     "output_type": "execute_result"
    }
   ],
   "source": [
    "rev['review'] = rev['review'].fillna('только оценка') \n",
    "rev = rev.fillna('-')\n",
    "rev.head()"
   ]
  },
  {
   "cell_type": "markdown",
   "id": "9e8640ed",
   "metadata": {},
   "source": [
    "### Создание новых датасетов"
   ]
  },
  {
   "cell_type": "code",
   "execution_count": 17,
   "id": "bd7c8a6b",
   "metadata": {},
   "outputs": [
    {
     "data": {
      "text/html": [
       "<div>\n",
       "<style scoped>\n",
       "    .dataframe tbody tr th:only-of-type {\n",
       "        vertical-align: middle;\n",
       "    }\n",
       "\n",
       "    .dataframe tbody tr th {\n",
       "        vertical-align: top;\n",
       "    }\n",
       "\n",
       "    .dataframe thead th {\n",
       "        text-align: right;\n",
       "    }\n",
       "</style>\n",
       "<table border=\"1\" class=\"dataframe\">\n",
       "  <thead>\n",
       "    <tr style=\"text-align: right;\">\n",
       "      <th></th>\n",
       "      <th>client</th>\n",
       "      <th>phone</th>\n",
       "      <th>cost</th>\n",
       "      <th>perc_cost</th>\n",
       "      <th>mean_visits</th>\n",
       "      <th>visits</th>\n",
       "    </tr>\n",
       "  </thead>\n",
       "  <tbody>\n",
       "    <tr>\n",
       "      <th>0</th>\n",
       "      <td>Игорь</td>\n",
       "      <td>+7 977 504-63-14</td>\n",
       "      <td>62346</td>\n",
       "      <td>1.0</td>\n",
       "      <td>1484.43</td>\n",
       "      <td>42.0</td>\n",
       "    </tr>\n",
       "    <tr>\n",
       "      <th>1</th>\n",
       "      <td>Сергей Александрович</td>\n",
       "      <td>+7 985 994-22-27</td>\n",
       "      <td>53940</td>\n",
       "      <td>0.9</td>\n",
       "      <td>3371.25</td>\n",
       "      <td>16.0</td>\n",
       "    </tr>\n",
       "    <tr>\n",
       "      <th>2</th>\n",
       "      <td>Сергей</td>\n",
       "      <td>+7 925 492-82-47</td>\n",
       "      <td>53450</td>\n",
       "      <td>0.9</td>\n",
       "      <td>1619.70</td>\n",
       "      <td>33.0</td>\n",
       "    </tr>\n",
       "    <tr>\n",
       "      <th>3</th>\n",
       "      <td>Николай</td>\n",
       "      <td>+7 925 443-97-65</td>\n",
       "      <td>44689</td>\n",
       "      <td>0.7</td>\n",
       "      <td>1718.81</td>\n",
       "      <td>26.0</td>\n",
       "    </tr>\n",
       "    <tr>\n",
       "      <th>4</th>\n",
       "      <td>Армен</td>\n",
       "      <td>+7 930 333-30-00</td>\n",
       "      <td>44450</td>\n",
       "      <td>0.7</td>\n",
       "      <td>1778.00</td>\n",
       "      <td>25.0</td>\n",
       "    </tr>\n",
       "  </tbody>\n",
       "</table>\n",
       "</div>"
      ],
      "text/plain": [
       "                 client             phone   cost  perc_cost  mean_visits  \\\n",
       "0                 Игорь  +7 977 504-63-14  62346        1.0      1484.43   \n",
       "1  Сергей Александрович  +7 985 994-22-27  53940        0.9      3371.25   \n",
       "2                Сергей  +7 925 492-82-47  53450        0.9      1619.70   \n",
       "3               Николай  +7 925 443-97-65  44689        0.7      1718.81   \n",
       "4                 Армен  +7 930 333-30-00  44450        0.7      1778.00   \n",
       "\n",
       "   visits  \n",
       "0    42.0  \n",
       "1    16.0  \n",
       "2    33.0  \n",
       "3    26.0  \n",
       "4    25.0  "
      ]
     },
     "execution_count": 17,
     "metadata": {},
     "output_type": "execute_result"
    }
   ],
   "source": [
    "users = data[['client', 'phone', 'cost', 'perc_cost', 'mean_visits', 'visits']]\n",
    "users = users.fillna(-11)\n",
    "users['cost'] = users['cost'].astype(int)\n",
    "users = users.query('cost != -11').reset_index(drop=True)\n",
    "users.head()"
   ]
  },
  {
   "cell_type": "markdown",
   "id": "7fd1c345",
   "metadata": {},
   "source": [
    "В таблице `users` - собраны данные о клиентах, сумме визитов, количестве визитов."
   ]
  },
  {
   "cell_type": "code",
   "execution_count": 18,
   "id": "ed186811",
   "metadata": {},
   "outputs": [
    {
     "data": {
      "text/html": [
       "<div>\n",
       "<style scoped>\n",
       "    .dataframe tbody tr th:only-of-type {\n",
       "        vertical-align: middle;\n",
       "    }\n",
       "\n",
       "    .dataframe tbody tr th {\n",
       "        vertical-align: top;\n",
       "    }\n",
       "\n",
       "    .dataframe thead th {\n",
       "        text-align: right;\n",
       "    }\n",
       "</style>\n",
       "<table border=\"1\" class=\"dataframe\">\n",
       "  <thead>\n",
       "    <tr style=\"text-align: right;\">\n",
       "      <th></th>\n",
       "      <th>client</th>\n",
       "      <th>phone</th>\n",
       "      <th>email</th>\n",
       "      <th>date</th>\n",
       "      <th>employee</th>\n",
       "      <th>order</th>\n",
       "      <th>price</th>\n",
       "      <th>sale</th>\n",
       "      <th>status_visits</th>\n",
       "    </tr>\n",
       "  </thead>\n",
       "  <tbody>\n",
       "    <tr>\n",
       "      <th>1</th>\n",
       "      <td>Игорь</td>\n",
       "      <td>+7 977 504-63-14</td>\n",
       "      <td>-</td>\n",
       "      <td>2022-11-01 10:00:00</td>\n",
       "      <td>Рахман (Capitan)</td>\n",
       "      <td>Стрижка</td>\n",
       "      <td>1600.0</td>\n",
       "      <td>0.0</td>\n",
       "      <td>Клиент пришёл</td>\n",
       "    </tr>\n",
       "    <tr>\n",
       "      <th>2</th>\n",
       "      <td>Игорь</td>\n",
       "      <td>+7 977 504-63-14</td>\n",
       "      <td>-</td>\n",
       "      <td>2022-10-19 18:30:00</td>\n",
       "      <td>Максим (Soldado)</td>\n",
       "      <td>Стрижка</td>\n",
       "      <td>1300.0</td>\n",
       "      <td>0.0</td>\n",
       "      <td>Клиент пришёл</td>\n",
       "    </tr>\n",
       "    <tr>\n",
       "      <th>3</th>\n",
       "      <td>Игорь</td>\n",
       "      <td>+7 977 504-63-14</td>\n",
       "      <td>-</td>\n",
       "      <td>2022-09-28 18:30:00</td>\n",
       "      <td>Рахман (Capitan)</td>\n",
       "      <td>Стрижка</td>\n",
       "      <td>1600.0</td>\n",
       "      <td>0.0</td>\n",
       "      <td>Клиент пришёл</td>\n",
       "    </tr>\n",
       "    <tr>\n",
       "      <th>4</th>\n",
       "      <td>Игорь</td>\n",
       "      <td>+7 977 504-63-14</td>\n",
       "      <td>-</td>\n",
       "      <td>2022-09-11 14:30:00</td>\n",
       "      <td>Рахман (Capitan)</td>\n",
       "      <td>Стрижка</td>\n",
       "      <td>1600.0</td>\n",
       "      <td>0.0</td>\n",
       "      <td>Клиент пришёл</td>\n",
       "    </tr>\n",
       "    <tr>\n",
       "      <th>5</th>\n",
       "      <td>Игорь</td>\n",
       "      <td>+7 977 504-63-14</td>\n",
       "      <td>-</td>\n",
       "      <td>2022-09-11 14:30:00</td>\n",
       "      <td>Максим (Soldado)</td>\n",
       "      <td>Стрижка</td>\n",
       "      <td>1300.0</td>\n",
       "      <td>0.0</td>\n",
       "      <td>Клиент пришёл</td>\n",
       "    </tr>\n",
       "  </tbody>\n",
       "</table>\n",
       "</div>"
      ],
      "text/plain": [
       "  client             phone email                 date          employee  \\\n",
       "1  Игорь  +7 977 504-63-14     -  2022-11-01 10:00:00  Рахман (Capitan)   \n",
       "2  Игорь  +7 977 504-63-14     -  2022-10-19 18:30:00  Максим (Soldado)   \n",
       "3  Игорь  +7 977 504-63-14     -  2022-09-28 18:30:00  Рахман (Capitan)   \n",
       "4  Игорь  +7 977 504-63-14     -  2022-09-11 14:30:00  Рахман (Capitan)   \n",
       "5  Игорь  +7 977 504-63-14     -  2022-09-11 14:30:00  Максим (Soldado)   \n",
       "\n",
       "     order   price  sale  status_visits  \n",
       "1  Стрижка  1600.0   0.0  Клиент пришёл  \n",
       "2  Стрижка  1300.0   0.0  Клиент пришёл  \n",
       "3  Стрижка  1600.0   0.0  Клиент пришёл  \n",
       "4  Стрижка  1600.0   0.0  Клиент пришёл  \n",
       "5  Стрижка  1300.0   0.0  Клиент пришёл  "
      ]
     },
     "execution_count": 18,
     "metadata": {},
     "output_type": "execute_result"
    }
   ],
   "source": [
    "visits = data.query('status_visits != \"итог\"')\n",
    "visits = visits[['client', 'phone', 'email', 'date', 'employee', 'order', 'price', 'sale', 'status_visits']]\n",
    "visits.head()"
   ]
  },
  {
   "cell_type": "markdown",
   "id": "8f9d87d8",
   "metadata": {},
   "source": [
    "Таблица `visits` - все данные о визитах клиентов, потраченной стоимости и купленных товаров"
   ]
  },
  {
   "cell_type": "markdown",
   "id": "a9a0effe",
   "metadata": {},
   "source": [
    "### Типы данных"
   ]
  },
  {
   "cell_type": "code",
   "execution_count": 19,
   "id": "a78d8d72",
   "metadata": {},
   "outputs": [],
   "source": [
    "#меняем типы данных\n",
    "users['perc_cost'] = users['perc_cost'].astype(int)\n",
    "users['mean_visits'] = users['mean_visits'].astype(int)\n",
    "users['visits'] = users['visits'].astype(int)"
   ]
  },
  {
   "cell_type": "code",
   "execution_count": 20,
   "id": "b6ca2097",
   "metadata": {},
   "outputs": [
    {
     "name": "stdout",
     "output_type": "stream",
     "text": [
      "<class 'pandas.core.frame.DataFrame'>\n",
      "RangeIndex: 1294 entries, 0 to 1293\n",
      "Data columns (total 6 columns):\n",
      " #   Column       Non-Null Count  Dtype \n",
      "---  ------       --------------  ----- \n",
      " 0   client       1294 non-null   object\n",
      " 1   phone        1294 non-null   object\n",
      " 2   cost         1294 non-null   int32 \n",
      " 3   perc_cost    1294 non-null   int32 \n",
      " 4   mean_visits  1294 non-null   int32 \n",
      " 5   visits       1294 non-null   int32 \n",
      "dtypes: int32(4), object(2)\n",
      "memory usage: 40.6+ KB\n"
     ]
    }
   ],
   "source": [
    "users.info()"
   ]
  },
  {
   "cell_type": "code",
   "execution_count": 21,
   "id": "3962fa18",
   "metadata": {},
   "outputs": [
    {
     "name": "stdout",
     "output_type": "stream",
     "text": [
      "<class 'pandas.core.frame.DataFrame'>\n",
      "Int64Index: 4028 entries, 1 to 5542\n",
      "Data columns (total 9 columns):\n",
      " #   Column         Non-Null Count  Dtype         \n",
      "---  ------         --------------  -----         \n",
      " 0   client         4027 non-null   object        \n",
      " 1   phone          4027 non-null   object        \n",
      " 2   email          4028 non-null   object        \n",
      " 3   date           4028 non-null   datetime64[ns]\n",
      " 4   employee       4028 non-null   object        \n",
      " 5   order          3998 non-null   object        \n",
      " 6   price          4028 non-null   float64       \n",
      " 7   sale           4028 non-null   float64       \n",
      " 8   status_visits  4028 non-null   object        \n",
      "dtypes: datetime64[ns](1), float64(2), object(6)\n",
      "memory usage: 314.7+ KB\n"
     ]
    }
   ],
   "source": [
    "visits['date'] = visits['date'].astype('datetime64[ns]')\n",
    "visits.info()"
   ]
  },
  {
   "cell_type": "markdown",
   "id": "a439e125",
   "metadata": {},
   "source": [
    "### Новые колонки"
   ]
  },
  {
   "cell_type": "code",
   "execution_count": 22,
   "id": "4f916ca4",
   "metadata": {},
   "outputs": [
    {
     "data": {
      "text/html": [
       "<div>\n",
       "<style scoped>\n",
       "    .dataframe tbody tr th:only-of-type {\n",
       "        vertical-align: middle;\n",
       "    }\n",
       "\n",
       "    .dataframe tbody tr th {\n",
       "        vertical-align: top;\n",
       "    }\n",
       "\n",
       "    .dataframe thead th {\n",
       "        text-align: right;\n",
       "    }\n",
       "</style>\n",
       "<table border=\"1\" class=\"dataframe\">\n",
       "  <thead>\n",
       "    <tr style=\"text-align: right;\">\n",
       "      <th></th>\n",
       "      <th>client</th>\n",
       "      <th>phone</th>\n",
       "      <th>email</th>\n",
       "      <th>date</th>\n",
       "      <th>employee</th>\n",
       "      <th>order</th>\n",
       "      <th>price</th>\n",
       "      <th>sale</th>\n",
       "      <th>status_visits</th>\n",
       "      <th>data_visit</th>\n",
       "      <th>time_visit</th>\n",
       "      <th>month_visit</th>\n",
       "    </tr>\n",
       "  </thead>\n",
       "  <tbody>\n",
       "    <tr>\n",
       "      <th>1</th>\n",
       "      <td>Игорь</td>\n",
       "      <td>+7 977 504-63-14</td>\n",
       "      <td>-</td>\n",
       "      <td>2022-11-01 10:00:00</td>\n",
       "      <td>Рахман (Capitan)</td>\n",
       "      <td>Стрижка</td>\n",
       "      <td>1600.0</td>\n",
       "      <td>0.0</td>\n",
       "      <td>Клиент пришёл</td>\n",
       "      <td>2022-11-01</td>\n",
       "      <td>10:00:00</td>\n",
       "      <td>11</td>\n",
       "    </tr>\n",
       "  </tbody>\n",
       "</table>\n",
       "</div>"
      ],
      "text/plain": [
       "  client             phone email                date          employee  \\\n",
       "1  Игорь  +7 977 504-63-14     - 2022-11-01 10:00:00  Рахман (Capitan)   \n",
       "\n",
       "     order   price  sale  status_visits  data_visit time_visit  month_visit  \n",
       "1  Стрижка  1600.0   0.0  Клиент пришёл  2022-11-01   10:00:00           11  "
      ]
     },
     "execution_count": 22,
     "metadata": {},
     "output_type": "execute_result"
    }
   ],
   "source": [
    "#добавим несколько новых колонок\n",
    "visits['data_visit'] = visits['date'].dt.date\n",
    "visits['time_visit'] = visits['date'].dt.time\n",
    "visits['month_visit'] = visits['date'].dt.month\n",
    "visits.head(1)"
   ]
  },
  {
   "cell_type": "code",
   "execution_count": 23,
   "id": "3868b8af",
   "metadata": {},
   "outputs": [
    {
     "data": {
      "text/plain": [
       "(1294, 6)"
      ]
     },
     "execution_count": 23,
     "metadata": {},
     "output_type": "execute_result"
    }
   ],
   "source": [
    "users.shape"
   ]
  },
  {
   "cell_type": "code",
   "execution_count": 24,
   "id": "d5208edc",
   "metadata": {
    "scrolled": true
   },
   "outputs": [
    {
     "data": {
      "text/html": [
       "<div>\n",
       "<style scoped>\n",
       "    .dataframe tbody tr th:only-of-type {\n",
       "        vertical-align: middle;\n",
       "    }\n",
       "\n",
       "    .dataframe tbody tr th {\n",
       "        vertical-align: top;\n",
       "    }\n",
       "\n",
       "    .dataframe thead th {\n",
       "        text-align: right;\n",
       "    }\n",
       "</style>\n",
       "<table border=\"1\" class=\"dataframe\">\n",
       "  <thead>\n",
       "    <tr style=\"text-align: right;\">\n",
       "      <th></th>\n",
       "      <th>client</th>\n",
       "      <th>phone</th>\n",
       "      <th>cost</th>\n",
       "      <th>perc_cost</th>\n",
       "      <th>mean_visits</th>\n",
       "      <th>visits</th>\n",
       "      <th>first_visits</th>\n",
       "    </tr>\n",
       "  </thead>\n",
       "  <tbody>\n",
       "    <tr>\n",
       "      <th>0</th>\n",
       "      <td>Игорь</td>\n",
       "      <td>+7 977 504-63-14</td>\n",
       "      <td>62346</td>\n",
       "      <td>1</td>\n",
       "      <td>1484</td>\n",
       "      <td>42</td>\n",
       "      <td>2021-03-01</td>\n",
       "    </tr>\n",
       "    <tr>\n",
       "      <th>1</th>\n",
       "      <td>Сергей Александрович</td>\n",
       "      <td>+7 985 994-22-27</td>\n",
       "      <td>53940</td>\n",
       "      <td>0</td>\n",
       "      <td>3371</td>\n",
       "      <td>16</td>\n",
       "      <td>2021-04-01</td>\n",
       "    </tr>\n",
       "    <tr>\n",
       "      <th>2</th>\n",
       "      <td>Сергей</td>\n",
       "      <td>+7 925 492-82-47</td>\n",
       "      <td>53450</td>\n",
       "      <td>0</td>\n",
       "      <td>1619</td>\n",
       "      <td>33</td>\n",
       "      <td>2021-03-04</td>\n",
       "    </tr>\n",
       "    <tr>\n",
       "      <th>3</th>\n",
       "      <td>Николай</td>\n",
       "      <td>+7 925 443-97-65</td>\n",
       "      <td>44689</td>\n",
       "      <td>0</td>\n",
       "      <td>1718</td>\n",
       "      <td>26</td>\n",
       "      <td>2021-03-13</td>\n",
       "    </tr>\n",
       "    <tr>\n",
       "      <th>4</th>\n",
       "      <td>Армен</td>\n",
       "      <td>+7 930 333-30-00</td>\n",
       "      <td>44450</td>\n",
       "      <td>0</td>\n",
       "      <td>1778</td>\n",
       "      <td>25</td>\n",
       "      <td>2021-09-29</td>\n",
       "    </tr>\n",
       "  </tbody>\n",
       "</table>\n",
       "</div>"
      ],
      "text/plain": [
       "                 client             phone   cost  perc_cost  mean_visits  \\\n",
       "0                 Игорь  +7 977 504-63-14  62346          1         1484   \n",
       "1  Сергей Александрович  +7 985 994-22-27  53940          0         3371   \n",
       "2                Сергей  +7 925 492-82-47  53450          0         1619   \n",
       "3               Николай  +7 925 443-97-65  44689          0         1718   \n",
       "4                 Армен  +7 930 333-30-00  44450          0         1778   \n",
       "\n",
       "   visits first_visits  \n",
       "0      42   2021-03-01  \n",
       "1      16   2021-04-01  \n",
       "2      33   2021-03-04  \n",
       "3      26   2021-03-13  \n",
       "4      25   2021-09-29  "
      ]
     },
     "execution_count": 24,
     "metadata": {},
     "output_type": "execute_result"
    }
   ],
   "source": [
    "x = visits.groupby('phone')['data_visit'].min().reset_index()\n",
    "x\n",
    "users = users.merge(x, on='phone', how='left')\n",
    "users.columns = ['client', 'phone', 'cost', 'perc_cost', 'mean_visits', 'visits', 'first_visits']\n",
    "users.head()"
   ]
  },
  {
   "cell_type": "code",
   "execution_count": 25,
   "id": "d5e25170",
   "metadata": {},
   "outputs": [
    {
     "data": {
      "text/html": [
       "<div>\n",
       "<style scoped>\n",
       "    .dataframe tbody tr th:only-of-type {\n",
       "        vertical-align: middle;\n",
       "    }\n",
       "\n",
       "    .dataframe tbody tr th {\n",
       "        vertical-align: top;\n",
       "    }\n",
       "\n",
       "    .dataframe thead th {\n",
       "        text-align: right;\n",
       "    }\n",
       "</style>\n",
       "<table border=\"1\" class=\"dataframe\">\n",
       "  <thead>\n",
       "    <tr style=\"text-align: right;\">\n",
       "      <th></th>\n",
       "      <th>client</th>\n",
       "      <th>phone</th>\n",
       "      <th>cost</th>\n",
       "      <th>perc_cost</th>\n",
       "      <th>mean_visits</th>\n",
       "      <th>visits</th>\n",
       "      <th>first_visit</th>\n",
       "      <th>last_visit</th>\n",
       "    </tr>\n",
       "  </thead>\n",
       "  <tbody>\n",
       "    <tr>\n",
       "      <th>0</th>\n",
       "      <td>Игорь</td>\n",
       "      <td>+7 977 504-63-14</td>\n",
       "      <td>62346</td>\n",
       "      <td>1</td>\n",
       "      <td>1484</td>\n",
       "      <td>42</td>\n",
       "      <td>2021-03-01</td>\n",
       "      <td>2022-11-01</td>\n",
       "    </tr>\n",
       "    <tr>\n",
       "      <th>1</th>\n",
       "      <td>Сергей Александрович</td>\n",
       "      <td>+7 985 994-22-27</td>\n",
       "      <td>53940</td>\n",
       "      <td>0</td>\n",
       "      <td>3371</td>\n",
       "      <td>16</td>\n",
       "      <td>2021-04-01</td>\n",
       "      <td>2022-09-15</td>\n",
       "    </tr>\n",
       "    <tr>\n",
       "      <th>2</th>\n",
       "      <td>Сергей</td>\n",
       "      <td>+7 925 492-82-47</td>\n",
       "      <td>53450</td>\n",
       "      <td>0</td>\n",
       "      <td>1619</td>\n",
       "      <td>33</td>\n",
       "      <td>2021-03-04</td>\n",
       "      <td>2022-09-12</td>\n",
       "    </tr>\n",
       "    <tr>\n",
       "      <th>3</th>\n",
       "      <td>Николай</td>\n",
       "      <td>+7 925 443-97-65</td>\n",
       "      <td>44689</td>\n",
       "      <td>0</td>\n",
       "      <td>1718</td>\n",
       "      <td>26</td>\n",
       "      <td>2021-03-13</td>\n",
       "      <td>2022-11-05</td>\n",
       "    </tr>\n",
       "    <tr>\n",
       "      <th>4</th>\n",
       "      <td>Армен</td>\n",
       "      <td>+7 930 333-30-00</td>\n",
       "      <td>44450</td>\n",
       "      <td>0</td>\n",
       "      <td>1778</td>\n",
       "      <td>25</td>\n",
       "      <td>2021-09-29</td>\n",
       "      <td>2022-11-09</td>\n",
       "    </tr>\n",
       "  </tbody>\n",
       "</table>\n",
       "</div>"
      ],
      "text/plain": [
       "                 client             phone   cost  perc_cost  mean_visits  \\\n",
       "0                 Игорь  +7 977 504-63-14  62346          1         1484   \n",
       "1  Сергей Александрович  +7 985 994-22-27  53940          0         3371   \n",
       "2                Сергей  +7 925 492-82-47  53450          0         1619   \n",
       "3               Николай  +7 925 443-97-65  44689          0         1718   \n",
       "4                 Армен  +7 930 333-30-00  44450          0         1778   \n",
       "\n",
       "   visits first_visit  last_visit  \n",
       "0      42  2021-03-01  2022-11-01  \n",
       "1      16  2021-04-01  2022-09-15  \n",
       "2      33  2021-03-04  2022-09-12  \n",
       "3      26  2021-03-13  2022-11-05  \n",
       "4      25  2021-09-29  2022-11-09  "
      ]
     },
     "execution_count": 25,
     "metadata": {},
     "output_type": "execute_result"
    }
   ],
   "source": [
    "y = visits.groupby('phone')['data_visit'].max().reset_index()\n",
    "\n",
    "users = users.merge(y, on='phone', how='left')\n",
    "users.columns = ['client', 'phone', 'cost', 'perc_cost', 'mean_visits', 'visits', 'first_visit', 'last_visit']\n",
    "users.head()"
   ]
  },
  {
   "cell_type": "code",
   "execution_count": 26,
   "id": "52bc9c2b",
   "metadata": {},
   "outputs": [
    {
     "name": "stdout",
     "output_type": "stream",
     "text": [
      "<class 'pandas.core.frame.DataFrame'>\n",
      "Int64Index: 1294 entries, 0 to 1293\n",
      "Data columns (total 8 columns):\n",
      " #   Column       Non-Null Count  Dtype         \n",
      "---  ------       --------------  -----         \n",
      " 0   client       1294 non-null   object        \n",
      " 1   phone        1294 non-null   object        \n",
      " 2   cost         1294 non-null   int32         \n",
      " 3   perc_cost    1294 non-null   int32         \n",
      " 4   mean_visits  1294 non-null   int32         \n",
      " 5   visits       1294 non-null   int32         \n",
      " 6   first_visit  1230 non-null   datetime64[ns]\n",
      " 7   last_visit   1230 non-null   datetime64[ns]\n",
      "dtypes: datetime64[ns](2), int32(4), object(2)\n",
      "memory usage: 70.8+ KB\n"
     ]
    }
   ],
   "source": [
    "users['last_visit'] = users['last_visit'].astype('datetime64[ns]')\n",
    "users['first_visit'] = users['first_visit'].astype('datetime64[ns]')\n",
    "users.info()"
   ]
  },
  {
   "cell_type": "code",
   "execution_count": 27,
   "id": "4abbe66f",
   "metadata": {},
   "outputs": [
    {
     "data": {
      "text/html": [
       "<div>\n",
       "<style scoped>\n",
       "    .dataframe tbody tr th:only-of-type {\n",
       "        vertical-align: middle;\n",
       "    }\n",
       "\n",
       "    .dataframe tbody tr th {\n",
       "        vertical-align: top;\n",
       "    }\n",
       "\n",
       "    .dataframe thead th {\n",
       "        text-align: right;\n",
       "    }\n",
       "</style>\n",
       "<table border=\"1\" class=\"dataframe\">\n",
       "  <thead>\n",
       "    <tr style=\"text-align: right;\">\n",
       "      <th></th>\n",
       "      <th>client</th>\n",
       "      <th>phone</th>\n",
       "      <th>cost</th>\n",
       "      <th>perc_cost</th>\n",
       "      <th>mean_visits</th>\n",
       "      <th>visits</th>\n",
       "      <th>first_visit</th>\n",
       "      <th>last_visit</th>\n",
       "      <th>delta</th>\n",
       "    </tr>\n",
       "  </thead>\n",
       "  <tbody>\n",
       "    <tr>\n",
       "      <th>0</th>\n",
       "      <td>Игорь</td>\n",
       "      <td>+7 977 504-63-14</td>\n",
       "      <td>62346</td>\n",
       "      <td>1</td>\n",
       "      <td>1484</td>\n",
       "      <td>42</td>\n",
       "      <td>2021-03-01</td>\n",
       "      <td>2022-11-01</td>\n",
       "      <td>20</td>\n",
       "    </tr>\n",
       "    <tr>\n",
       "      <th>1</th>\n",
       "      <td>Сергей Александрович</td>\n",
       "      <td>+7 985 994-22-27</td>\n",
       "      <td>53940</td>\n",
       "      <td>0</td>\n",
       "      <td>3371</td>\n",
       "      <td>16</td>\n",
       "      <td>2021-04-01</td>\n",
       "      <td>2022-09-15</td>\n",
       "      <td>67</td>\n",
       "    </tr>\n",
       "    <tr>\n",
       "      <th>2</th>\n",
       "      <td>Сергей</td>\n",
       "      <td>+7 925 492-82-47</td>\n",
       "      <td>53450</td>\n",
       "      <td>0</td>\n",
       "      <td>1619</td>\n",
       "      <td>33</td>\n",
       "      <td>2021-03-04</td>\n",
       "      <td>2022-09-12</td>\n",
       "      <td>70</td>\n",
       "    </tr>\n",
       "    <tr>\n",
       "      <th>3</th>\n",
       "      <td>Николай</td>\n",
       "      <td>+7 925 443-97-65</td>\n",
       "      <td>44689</td>\n",
       "      <td>0</td>\n",
       "      <td>1718</td>\n",
       "      <td>26</td>\n",
       "      <td>2021-03-13</td>\n",
       "      <td>2022-11-05</td>\n",
       "      <td>16</td>\n",
       "    </tr>\n",
       "    <tr>\n",
       "      <th>4</th>\n",
       "      <td>Армен</td>\n",
       "      <td>+7 930 333-30-00</td>\n",
       "      <td>44450</td>\n",
       "      <td>0</td>\n",
       "      <td>1778</td>\n",
       "      <td>25</td>\n",
       "      <td>2021-09-29</td>\n",
       "      <td>2022-11-09</td>\n",
       "      <td>12</td>\n",
       "    </tr>\n",
       "  </tbody>\n",
       "</table>\n",
       "</div>"
      ],
      "text/plain": [
       "                 client             phone   cost  perc_cost  mean_visits  \\\n",
       "0                 Игорь  +7 977 504-63-14  62346          1         1484   \n",
       "1  Сергей Александрович  +7 985 994-22-27  53940          0         3371   \n",
       "2                Сергей  +7 925 492-82-47  53450          0         1619   \n",
       "3               Николай  +7 925 443-97-65  44689          0         1718   \n",
       "4                 Армен  +7 930 333-30-00  44450          0         1778   \n",
       "\n",
       "   visits first_visit last_visit  delta  \n",
       "0      42  2021-03-01 2022-11-01     20  \n",
       "1      16  2021-04-01 2022-09-15     67  \n",
       "2      33  2021-03-04 2022-09-12     70  \n",
       "3      26  2021-03-13 2022-11-05     16  \n",
       "4      25  2021-09-29 2022-11-09     12  "
      ]
     },
     "execution_count": 27,
     "metadata": {},
     "output_type": "execute_result"
    }
   ],
   "source": [
    "#добавляем столбец delta - количество дней с последнего визита и столбец последнего визита\n",
    "users['delta'] = dt.datetime.now() - users['last_visit']\n",
    "users['delta'] = users['delta'].dt.days\n",
    "users['delta'] = users['delta'].fillna(-10)\n",
    "users['delta'] = users['delta'].astype(int)\n",
    "users.head()"
   ]
  },
  {
   "cell_type": "code",
   "execution_count": 28,
   "id": "7a855dc2",
   "metadata": {},
   "outputs": [
    {
     "data": {
      "text/html": [
       "<div>\n",
       "<style scoped>\n",
       "    .dataframe tbody tr th:only-of-type {\n",
       "        vertical-align: middle;\n",
       "    }\n",
       "\n",
       "    .dataframe tbody tr th {\n",
       "        vertical-align: top;\n",
       "    }\n",
       "\n",
       "    .dataframe thead th {\n",
       "        text-align: right;\n",
       "    }\n",
       "</style>\n",
       "<table border=\"1\" class=\"dataframe\">\n",
       "  <thead>\n",
       "    <tr style=\"text-align: right;\">\n",
       "      <th></th>\n",
       "      <th>client</th>\n",
       "      <th>phone</th>\n",
       "      <th>cost</th>\n",
       "      <th>perc_cost</th>\n",
       "      <th>mean_visits</th>\n",
       "      <th>visits</th>\n",
       "      <th>first_visit</th>\n",
       "      <th>last_visit</th>\n",
       "      <th>delta</th>\n",
       "      <th>churn</th>\n",
       "    </tr>\n",
       "  </thead>\n",
       "  <tbody>\n",
       "    <tr>\n",
       "      <th>0</th>\n",
       "      <td>Игорь</td>\n",
       "      <td>+7 977 504-63-14</td>\n",
       "      <td>62346</td>\n",
       "      <td>1</td>\n",
       "      <td>1484</td>\n",
       "      <td>42</td>\n",
       "      <td>2021-03-01</td>\n",
       "      <td>2022-11-01</td>\n",
       "      <td>20</td>\n",
       "      <td>0</td>\n",
       "    </tr>\n",
       "    <tr>\n",
       "      <th>1</th>\n",
       "      <td>Сергей Александрович</td>\n",
       "      <td>+7 985 994-22-27</td>\n",
       "      <td>53940</td>\n",
       "      <td>0</td>\n",
       "      <td>3371</td>\n",
       "      <td>16</td>\n",
       "      <td>2021-04-01</td>\n",
       "      <td>2022-09-15</td>\n",
       "      <td>67</td>\n",
       "      <td>0</td>\n",
       "    </tr>\n",
       "    <tr>\n",
       "      <th>2</th>\n",
       "      <td>Сергей</td>\n",
       "      <td>+7 925 492-82-47</td>\n",
       "      <td>53450</td>\n",
       "      <td>0</td>\n",
       "      <td>1619</td>\n",
       "      <td>33</td>\n",
       "      <td>2021-03-04</td>\n",
       "      <td>2022-09-12</td>\n",
       "      <td>70</td>\n",
       "      <td>0</td>\n",
       "    </tr>\n",
       "    <tr>\n",
       "      <th>3</th>\n",
       "      <td>Николай</td>\n",
       "      <td>+7 925 443-97-65</td>\n",
       "      <td>44689</td>\n",
       "      <td>0</td>\n",
       "      <td>1718</td>\n",
       "      <td>26</td>\n",
       "      <td>2021-03-13</td>\n",
       "      <td>2022-11-05</td>\n",
       "      <td>16</td>\n",
       "      <td>0</td>\n",
       "    </tr>\n",
       "    <tr>\n",
       "      <th>4</th>\n",
       "      <td>Армен</td>\n",
       "      <td>+7 930 333-30-00</td>\n",
       "      <td>44450</td>\n",
       "      <td>0</td>\n",
       "      <td>1778</td>\n",
       "      <td>25</td>\n",
       "      <td>2021-09-29</td>\n",
       "      <td>2022-11-09</td>\n",
       "      <td>12</td>\n",
       "      <td>0</td>\n",
       "    </tr>\n",
       "    <tr>\n",
       "      <th>...</th>\n",
       "      <td>...</td>\n",
       "      <td>...</td>\n",
       "      <td>...</td>\n",
       "      <td>...</td>\n",
       "      <td>...</td>\n",
       "      <td>...</td>\n",
       "      <td>...</td>\n",
       "      <td>...</td>\n",
       "      <td>...</td>\n",
       "      <td>...</td>\n",
       "    </tr>\n",
       "    <tr>\n",
       "      <th>1289</th>\n",
       "      <td>Артем</td>\n",
       "      <td>+7 929 959-93-57</td>\n",
       "      <td>400</td>\n",
       "      <td>0</td>\n",
       "      <td>400</td>\n",
       "      <td>1</td>\n",
       "      <td>2021-05-31</td>\n",
       "      <td>2021-05-31</td>\n",
       "      <td>539</td>\n",
       "      <td>1</td>\n",
       "    </tr>\n",
       "    <tr>\n",
       "      <th>1290</th>\n",
       "      <td>Юрген</td>\n",
       "      <td>+7 977 394-02-41</td>\n",
       "      <td>300</td>\n",
       "      <td>0</td>\n",
       "      <td>300</td>\n",
       "      <td>1</td>\n",
       "      <td>2022-03-04</td>\n",
       "      <td>2022-03-04</td>\n",
       "      <td>262</td>\n",
       "      <td>1</td>\n",
       "    </tr>\n",
       "    <tr>\n",
       "      <th>1291</th>\n",
       "      <td>Настя</td>\n",
       "      <td>+7 977 444-96-67</td>\n",
       "      <td>0</td>\n",
       "      <td>0</td>\n",
       "      <td>0</td>\n",
       "      <td>2</td>\n",
       "      <td>2021-11-20</td>\n",
       "      <td>2022-06-08</td>\n",
       "      <td>166</td>\n",
       "      <td>1</td>\n",
       "    </tr>\n",
       "    <tr>\n",
       "      <th>1292</th>\n",
       "      <td>Юрий</td>\n",
       "      <td>+7 916 102-60-43</td>\n",
       "      <td>0</td>\n",
       "      <td>0</td>\n",
       "      <td>0</td>\n",
       "      <td>5</td>\n",
       "      <td>NaT</td>\n",
       "      <td>NaT</td>\n",
       "      <td>-10</td>\n",
       "      <td>1</td>\n",
       "    </tr>\n",
       "    <tr>\n",
       "      <th>1293</th>\n",
       "      <td>Иван</td>\n",
       "      <td>+7 985 225-29-42</td>\n",
       "      <td>0</td>\n",
       "      <td>0</td>\n",
       "      <td>0</td>\n",
       "      <td>1</td>\n",
       "      <td>NaT</td>\n",
       "      <td>NaT</td>\n",
       "      <td>-10</td>\n",
       "      <td>1</td>\n",
       "    </tr>\n",
       "  </tbody>\n",
       "</table>\n",
       "<p>1294 rows × 10 columns</p>\n",
       "</div>"
      ],
      "text/plain": [
       "                    client             phone   cost  perc_cost  mean_visits  \\\n",
       "0                    Игорь  +7 977 504-63-14  62346          1         1484   \n",
       "1     Сергей Александрович  +7 985 994-22-27  53940          0         3371   \n",
       "2                   Сергей  +7 925 492-82-47  53450          0         1619   \n",
       "3                  Николай  +7 925 443-97-65  44689          0         1718   \n",
       "4                    Армен  +7 930 333-30-00  44450          0         1778   \n",
       "...                    ...               ...    ...        ...          ...   \n",
       "1289                 Артем  +7 929 959-93-57    400          0          400   \n",
       "1290                 Юрген  +7 977 394-02-41    300          0          300   \n",
       "1291                 Настя  +7 977 444-96-67      0          0            0   \n",
       "1292                  Юрий  +7 916 102-60-43      0          0            0   \n",
       "1293                  Иван  +7 985 225-29-42      0          0            0   \n",
       "\n",
       "      visits first_visit last_visit  delta  churn  \n",
       "0         42  2021-03-01 2022-11-01     20      0  \n",
       "1         16  2021-04-01 2022-09-15     67      0  \n",
       "2         33  2021-03-04 2022-09-12     70      0  \n",
       "3         26  2021-03-13 2022-11-05     16      0  \n",
       "4         25  2021-09-29 2022-11-09     12      0  \n",
       "...      ...         ...        ...    ...    ...  \n",
       "1289       1  2021-05-31 2021-05-31    539      1  \n",
       "1290       1  2022-03-04 2022-03-04    262      1  \n",
       "1291       2  2021-11-20 2022-06-08    166      1  \n",
       "1292       5         NaT        NaT    -10      1  \n",
       "1293       1         NaT        NaT    -10      1  \n",
       "\n",
       "[1294 rows x 10 columns]"
      ]
     },
     "execution_count": 28,
     "metadata": {},
     "output_type": "execute_result"
    }
   ],
   "source": [
    "#добавляем столбец оттока. Если клиент не был более 3 месяцев, то он попадает в отток\n",
    "def churn(delta):\n",
    "    if delta > 90:\n",
    "        return 1\n",
    "    elif delta == -10:\n",
    "        return 1\n",
    "    else:\n",
    "        return 0\n",
    "        \n",
    "users['churn'] = users['delta'].apply(churn)\n",
    "users"
   ]
  },
  {
   "cell_type": "markdown",
   "id": "9394222f",
   "metadata": {},
   "source": [
    "## EDA - исследовательский анализ данных"
   ]
  },
  {
   "cell_type": "markdown",
   "id": "25253955",
   "metadata": {},
   "source": [
    "### Визиты и дни с последнего визита"
   ]
  },
  {
   "cell_type": "code",
   "execution_count": 29,
   "id": "1d45d101",
   "metadata": {},
   "outputs": [
    {
     "data": {
      "image/png": "[encoded data removed]",
      "text/plain": [
       "<Figure size 360x360 with 1 Axes>"
      ]
     },
     "metadata": {
      "needs_background": "light"
     },
     "output_type": "display_data"
    }
   ],
   "source": [
    "#создадим диаграмму рассеивания\n",
    "\n",
    "sns.displot(users, x='visits', palette=\"tab10\", kind='hist', bins = 60)\n",
    "plt.ylabel('Количество клиентов')\n",
    "plt.xlabel('Количество визитов')\n",
    "plt.show()"
   ]
  },
  {
   "cell_type": "code",
   "execution_count": 30,
   "id": "fa40443e",
   "metadata": {},
   "outputs": [
    {
     "data": {
      "image/png": "[encoded data removed]",
      "text/plain": [
       "<Figure size 360x360 with 1 Axes>"
      ]
     },
     "metadata": {
      "needs_background": "light"
     },
     "output_type": "display_data"
    }
   ],
   "source": [
    "#посмотрим ближе\n",
    "sns.displot(users, x='visits', palette=\"tab10\", kind='hist', bins = 60)\n",
    "plt.ylabel('Количество клиентов')\n",
    "plt.xlabel('Количество визитов')\n",
    "plt.ylim(0, 100)\n",
    "plt.show()"
   ]
  },
  {
   "cell_type": "markdown",
   "id": "af6f1f24",
   "metadata": {},
   "source": [
    "Большинство клиентов ходят 1-2 раза (до 5). Встречаются клиенты, которые ходят от 20 до 40 раз, но таких очень мало"
   ]
  },
  {
   "cell_type": "code",
   "execution_count": 31,
   "id": "433f0a0c",
   "metadata": {},
   "outputs": [
    {
     "data": {
      "image/png": "[encoded data removed]",
      "text/plain": [
       "<Figure size 360x360 with 1 Axes>"
      ]
     },
     "metadata": {
      "needs_background": "light"
     },
     "output_type": "display_data"
    }
   ],
   "source": [
    "sns.displot(users, x='delta', palette=\"tab10\", kind='hist', bins = 60)\n",
    "plt.ylabel('Количество клиентов')\n",
    "plt.xlabel('Количество дней с последней записи')\n",
    "plt.xlim(0, 800)\n",
    "plt.show()"
   ]
  },
  {
   "cell_type": "code",
   "execution_count": 32,
   "id": "342ecff8",
   "metadata": {},
   "outputs": [
    {
     "data": {
      "image/png": "[encoded data removed]",
      "text/plain": [
       "<Figure size 360x360 with 1 Axes>"
      ]
     },
     "metadata": {
      "needs_background": "light"
     },
     "output_type": "display_data"
    }
   ],
   "source": [
    "sns.displot(users, x='delta', palette=\"tab10\", kind='hist', bins = 60)\n",
    "plt.ylabel('Количество клиентов')\n",
    "plt.xlabel('Количество дней с последней записи')\n",
    "plt.xlim(0, 200)\n",
    "plt.show()"
   ]
  },
  {
   "cell_type": "markdown",
   "id": "35f820b3",
   "metadata": {},
   "source": [
    "Есть клиенты, которые не ходят уже более 200 дней, встречаются даже более 600. Но в основном до месяца.\n",
    "\n",
    "Предлагаю разделить клиентов на группы и посмотреть сколько дней большинство уже не ходит"
   ]
  },
  {
   "cell_type": "code",
   "execution_count": 33,
   "id": "d75b4192",
   "metadata": {},
   "outputs": [
    {
     "data": {
      "text/html": [
       "<div>\n",
       "<style scoped>\n",
       "    .dataframe tbody tr th:only-of-type {\n",
       "        vertical-align: middle;\n",
       "    }\n",
       "\n",
       "    .dataframe tbody tr th {\n",
       "        vertical-align: top;\n",
       "    }\n",
       "\n",
       "    .dataframe thead th {\n",
       "        text-align: right;\n",
       "    }\n",
       "</style>\n",
       "<table border=\"1\" class=\"dataframe\">\n",
       "  <thead>\n",
       "    <tr style=\"text-align: right;\">\n",
       "      <th></th>\n",
       "      <th>phone</th>\n",
       "      <th>delta</th>\n",
       "      <th>group</th>\n",
       "    </tr>\n",
       "  </thead>\n",
       "  <tbody>\n",
       "    <tr>\n",
       "      <th>0</th>\n",
       "      <td>+7 977 504-63-14</td>\n",
       "      <td>20</td>\n",
       "      <td>1 месяц</td>\n",
       "    </tr>\n",
       "    <tr>\n",
       "      <th>1</th>\n",
       "      <td>+7 985 994-22-27</td>\n",
       "      <td>67</td>\n",
       "      <td>3 месяца</td>\n",
       "    </tr>\n",
       "    <tr>\n",
       "      <th>2</th>\n",
       "      <td>+7 925 492-82-47</td>\n",
       "      <td>70</td>\n",
       "      <td>3 месяца</td>\n",
       "    </tr>\n",
       "    <tr>\n",
       "      <th>3</th>\n",
       "      <td>+7 925 443-97-65</td>\n",
       "      <td>16</td>\n",
       "      <td>1 месяц</td>\n",
       "    </tr>\n",
       "    <tr>\n",
       "      <th>4</th>\n",
       "      <td>+7 930 333-30-00</td>\n",
       "      <td>12</td>\n",
       "      <td>1 месяц</td>\n",
       "    </tr>\n",
       "    <tr>\n",
       "      <th>...</th>\n",
       "      <td>...</td>\n",
       "      <td>...</td>\n",
       "      <td>...</td>\n",
       "    </tr>\n",
       "    <tr>\n",
       "      <th>1289</th>\n",
       "      <td>+7 929 959-93-57</td>\n",
       "      <td>539</td>\n",
       "      <td>более 6 месяцев</td>\n",
       "    </tr>\n",
       "    <tr>\n",
       "      <th>1290</th>\n",
       "      <td>+7 977 394-02-41</td>\n",
       "      <td>262</td>\n",
       "      <td>более 6 месяцев</td>\n",
       "    </tr>\n",
       "    <tr>\n",
       "      <th>1291</th>\n",
       "      <td>+7 977 444-96-67</td>\n",
       "      <td>166</td>\n",
       "      <td>более 6 месяцев</td>\n",
       "    </tr>\n",
       "    <tr>\n",
       "      <th>1292</th>\n",
       "      <td>+7 916 102-60-43</td>\n",
       "      <td>-10</td>\n",
       "      <td>более 6 месяцев</td>\n",
       "    </tr>\n",
       "    <tr>\n",
       "      <th>1293</th>\n",
       "      <td>+7 985 225-29-42</td>\n",
       "      <td>-10</td>\n",
       "      <td>более 6 месяцев</td>\n",
       "    </tr>\n",
       "  </tbody>\n",
       "</table>\n",
       "<p>1294 rows × 3 columns</p>\n",
       "</div>"
      ],
      "text/plain": [
       "                 phone  delta            group\n",
       "0     +7 977 504-63-14     20          1 месяц\n",
       "1     +7 985 994-22-27     67         3 месяца\n",
       "2     +7 925 492-82-47     70         3 месяца\n",
       "3     +7 925 443-97-65     16          1 месяц\n",
       "4     +7 930 333-30-00     12          1 месяц\n",
       "...                ...    ...              ...\n",
       "1289  +7 929 959-93-57    539  более 6 месяцев\n",
       "1290  +7 977 394-02-41    262  более 6 месяцев\n",
       "1291  +7 977 444-96-67    166  более 6 месяцев\n",
       "1292  +7 916 102-60-43    -10  более 6 месяцев\n",
       "1293  +7 985 225-29-42    -10  более 6 месяцев\n",
       "\n",
       "[1294 rows x 3 columns]"
      ]
     },
     "execution_count": 33,
     "metadata": {},
     "output_type": "execute_result"
    }
   ],
   "source": [
    "test = users[['phone', 'delta']]\n",
    "\n",
    "def group(delta):\n",
    "    if 0 < delta < 30:\n",
    "        return '1 месяц'\n",
    "    elif 31 < delta < 60:\n",
    "        return '2 месяца'\n",
    "    elif 61 < delta < 90:\n",
    "        return '3 месяца'\n",
    "    elif 91 < delta < 120:\n",
    "        return '4 месяца'\n",
    "    elif 121 < delta < 150:\n",
    "        return '5 месяцев'\n",
    "    else:\n",
    "        return 'более 6 месяцев'\n",
    "    \n",
    "test['group'] = test['delta'].apply(group)\n",
    "test"
   ]
  },
  {
   "cell_type": "code",
   "execution_count": 34,
   "id": "92bb8394",
   "metadata": {},
   "outputs": [
    {
     "data": {
      "image/png": "[encoded data removed]",
      "text/plain": [
       "<Figure size 576x576 with 1 Axes>"
      ]
     },
     "metadata": {},
     "output_type": "display_data"
    }
   ],
   "source": [
    "plt.rcParams['figure.figsize'] = [8, 8]\n",
    "test.groupby('group')['phone'].count().plot(y='phone', kind='pie', autopct='%1.1f%%')\n",
    "plt.show()"
   ]
  },
  {
   "cell_type": "markdown",
   "id": "0e0e3616",
   "metadata": {},
   "source": [
    "- Почти 70% клиентов не ходят уже более 6 месяцев. \n",
    "- Те, кто не посещал месяц или был в этом месяце (то есть активные клиенты), составляют всего 11,4%. Это очень мало от всей базы. \n",
    "- 2-3 месяца не посещали - 7% и 5,8%. \n",
    "- Если клиент не был более 1,5-2 месяцев, то его можно считать потеряным, именно так мы определили группу оттока. \n",
    "- Если клиент не был более 3х месяцев он точно сходил в другое место.\n",
    "- Нужно выяснить причину такого дикого оттока."
   ]
  },
  {
   "cell_type": "markdown",
   "id": "1a1199cc",
   "metadata": {},
   "source": [
    "### Время посещения"
   ]
  },
  {
   "cell_type": "code",
   "execution_count": 35,
   "id": "097a9152",
   "metadata": {},
   "outputs": [
    {
     "data": {
      "text/plain": [
       "12:00:00    210\n",
       "20:00:00    182\n",
       "19:00:00    180\n",
       "13:00:00    175\n",
       "18:00:00    167\n",
       "14:00:00    164\n",
       "10:00:00    164\n",
       "17:00:00    163\n",
       "15:00:00    158\n",
       "16:00:00    155\n",
       "Name: time_visit, dtype: int64"
      ]
     },
     "execution_count": 35,
     "metadata": {},
     "output_type": "execute_result"
    }
   ],
   "source": [
    "#самое популярное время\n",
    "visits['time_visit'].value_counts().head(10)"
   ]
  },
  {
   "cell_type": "code",
   "execution_count": 36,
   "id": "c1d8d49e",
   "metadata": {},
   "outputs": [
    {
     "data": {
      "text/html": [
       "<div>\n",
       "<style scoped>\n",
       "    .dataframe tbody tr th:only-of-type {\n",
       "        vertical-align: middle;\n",
       "    }\n",
       "\n",
       "    .dataframe tbody tr th {\n",
       "        vertical-align: top;\n",
       "    }\n",
       "\n",
       "    .dataframe thead th {\n",
       "        text-align: right;\n",
       "    }\n",
       "</style>\n",
       "<table border=\"1\" class=\"dataframe\">\n",
       "  <thead>\n",
       "    <tr style=\"text-align: right;\">\n",
       "      <th></th>\n",
       "      <th>phone</th>\n",
       "      <th>time_visit</th>\n",
       "      <th>date</th>\n",
       "    </tr>\n",
       "  </thead>\n",
       "  <tbody>\n",
       "    <tr>\n",
       "      <th>1</th>\n",
       "      <td>+7 977 504-63-14</td>\n",
       "      <td>10:00:00</td>\n",
       "      <td>2022-11-01 10:00:00</td>\n",
       "    </tr>\n",
       "    <tr>\n",
       "      <th>2</th>\n",
       "      <td>+7 977 504-63-14</td>\n",
       "      <td>18:30:00</td>\n",
       "      <td>2022-10-19 18:30:00</td>\n",
       "    </tr>\n",
       "    <tr>\n",
       "      <th>3</th>\n",
       "      <td>+7 977 504-63-14</td>\n",
       "      <td>18:30:00</td>\n",
       "      <td>2022-09-28 18:30:00</td>\n",
       "    </tr>\n",
       "    <tr>\n",
       "      <th>4</th>\n",
       "      <td>+7 977 504-63-14</td>\n",
       "      <td>14:30:00</td>\n",
       "      <td>2022-09-11 14:30:00</td>\n",
       "    </tr>\n",
       "    <tr>\n",
       "      <th>5</th>\n",
       "      <td>+7 977 504-63-14</td>\n",
       "      <td>14:30:00</td>\n",
       "      <td>2022-09-11 14:30:00</td>\n",
       "    </tr>\n",
       "  </tbody>\n",
       "</table>\n",
       "</div>"
      ],
      "text/plain": [
       "              phone time_visit                date\n",
       "1  +7 977 504-63-14   10:00:00 2022-11-01 10:00:00\n",
       "2  +7 977 504-63-14   18:30:00 2022-10-19 18:30:00\n",
       "3  +7 977 504-63-14   18:30:00 2022-09-28 18:30:00\n",
       "4  +7 977 504-63-14   14:30:00 2022-09-11 14:30:00\n",
       "5  +7 977 504-63-14   14:30:00 2022-09-11 14:30:00"
      ]
     },
     "execution_count": 36,
     "metadata": {},
     "output_type": "execute_result"
    }
   ],
   "source": [
    "time = visits[['phone', 'time_visit', 'date']]\n",
    "time.head()"
   ]
  },
  {
   "cell_type": "code",
   "execution_count": 37,
   "id": "89ae1dd0",
   "metadata": {},
   "outputs": [
    {
     "data": {
      "text/html": [
       "<div>\n",
       "<style scoped>\n",
       "    .dataframe tbody tr th:only-of-type {\n",
       "        vertical-align: middle;\n",
       "    }\n",
       "\n",
       "    .dataframe tbody tr th {\n",
       "        vertical-align: top;\n",
       "    }\n",
       "\n",
       "    .dataframe thead th {\n",
       "        text-align: right;\n",
       "    }\n",
       "</style>\n",
       "<table border=\"1\" class=\"dataframe\">\n",
       "  <thead>\n",
       "    <tr style=\"text-align: right;\">\n",
       "      <th></th>\n",
       "      <th>phone</th>\n",
       "      <th>time_visit</th>\n",
       "      <th>date</th>\n",
       "      <th>hour_visit</th>\n",
       "    </tr>\n",
       "  </thead>\n",
       "  <tbody>\n",
       "    <tr>\n",
       "      <th>1</th>\n",
       "      <td>+7 977 504-63-14</td>\n",
       "      <td>10:00:00</td>\n",
       "      <td>2022-11-01 10:00:00</td>\n",
       "      <td>10</td>\n",
       "    </tr>\n",
       "    <tr>\n",
       "      <th>2</th>\n",
       "      <td>+7 977 504-63-14</td>\n",
       "      <td>18:30:00</td>\n",
       "      <td>2022-10-19 18:30:00</td>\n",
       "      <td>18</td>\n",
       "    </tr>\n",
       "    <tr>\n",
       "      <th>3</th>\n",
       "      <td>+7 977 504-63-14</td>\n",
       "      <td>18:30:00</td>\n",
       "      <td>2022-09-28 18:30:00</td>\n",
       "      <td>18</td>\n",
       "    </tr>\n",
       "    <tr>\n",
       "      <th>4</th>\n",
       "      <td>+7 977 504-63-14</td>\n",
       "      <td>14:30:00</td>\n",
       "      <td>2022-09-11 14:30:00</td>\n",
       "      <td>14</td>\n",
       "    </tr>\n",
       "    <tr>\n",
       "      <th>5</th>\n",
       "      <td>+7 977 504-63-14</td>\n",
       "      <td>14:30:00</td>\n",
       "      <td>2022-09-11 14:30:00</td>\n",
       "      <td>14</td>\n",
       "    </tr>\n",
       "  </tbody>\n",
       "</table>\n",
       "</div>"
      ],
      "text/plain": [
       "              phone time_visit                date  hour_visit\n",
       "1  +7 977 504-63-14   10:00:00 2022-11-01 10:00:00          10\n",
       "2  +7 977 504-63-14   18:30:00 2022-10-19 18:30:00          18\n",
       "3  +7 977 504-63-14   18:30:00 2022-09-28 18:30:00          18\n",
       "4  +7 977 504-63-14   14:30:00 2022-09-11 14:30:00          14\n",
       "5  +7 977 504-63-14   14:30:00 2022-09-11 14:30:00          14"
      ]
     },
     "execution_count": 37,
     "metadata": {},
     "output_type": "execute_result"
    }
   ],
   "source": [
    "time['hour_visit'] = visits['date'].dt.hour\n",
    "time.head()"
   ]
  },
  {
   "cell_type": "code",
   "execution_count": 38,
   "id": "17286c79",
   "metadata": {},
   "outputs": [],
   "source": [
    "time['hour_visit'] = time['hour_visit'].astype(int)"
   ]
  },
  {
   "cell_type": "code",
   "execution_count": 39,
   "id": "c536aed0",
   "metadata": {},
   "outputs": [
    {
     "data": {
      "text/html": [
       "<div>\n",
       "<style scoped>\n",
       "    .dataframe tbody tr th:only-of-type {\n",
       "        vertical-align: middle;\n",
       "    }\n",
       "\n",
       "    .dataframe tbody tr th {\n",
       "        vertical-align: top;\n",
       "    }\n",
       "\n",
       "    .dataframe thead th {\n",
       "        text-align: right;\n",
       "    }\n",
       "</style>\n",
       "<table border=\"1\" class=\"dataframe\">\n",
       "  <thead>\n",
       "    <tr style=\"text-align: right;\">\n",
       "      <th></th>\n",
       "      <th>phone</th>\n",
       "      <th>time_visit</th>\n",
       "      <th>date</th>\n",
       "      <th>hour_visit</th>\n",
       "      <th>group_time</th>\n",
       "    </tr>\n",
       "  </thead>\n",
       "  <tbody>\n",
       "    <tr>\n",
       "      <th>1</th>\n",
       "      <td>+7 977 504-63-14</td>\n",
       "      <td>10:00:00</td>\n",
       "      <td>2022-11-01 10:00:00</td>\n",
       "      <td>10</td>\n",
       "      <td>С 10:00 до 12:00</td>\n",
       "    </tr>\n",
       "    <tr>\n",
       "      <th>2</th>\n",
       "      <td>+7 977 504-63-14</td>\n",
       "      <td>18:30:00</td>\n",
       "      <td>2022-10-19 18:30:00</td>\n",
       "      <td>18</td>\n",
       "      <td>С 18:00 до 20:00</td>\n",
       "    </tr>\n",
       "    <tr>\n",
       "      <th>3</th>\n",
       "      <td>+7 977 504-63-14</td>\n",
       "      <td>18:30:00</td>\n",
       "      <td>2022-09-28 18:30:00</td>\n",
       "      <td>18</td>\n",
       "      <td>С 18:00 до 20:00</td>\n",
       "    </tr>\n",
       "    <tr>\n",
       "      <th>4</th>\n",
       "      <td>+7 977 504-63-14</td>\n",
       "      <td>14:30:00</td>\n",
       "      <td>2022-09-11 14:30:00</td>\n",
       "      <td>14</td>\n",
       "      <td>С 14:00 до 16:00</td>\n",
       "    </tr>\n",
       "    <tr>\n",
       "      <th>5</th>\n",
       "      <td>+7 977 504-63-14</td>\n",
       "      <td>14:30:00</td>\n",
       "      <td>2022-09-11 14:30:00</td>\n",
       "      <td>14</td>\n",
       "      <td>С 14:00 до 16:00</td>\n",
       "    </tr>\n",
       "  </tbody>\n",
       "</table>\n",
       "</div>"
      ],
      "text/plain": [
       "              phone time_visit                date  hour_visit  \\\n",
       "1  +7 977 504-63-14   10:00:00 2022-11-01 10:00:00          10   \n",
       "2  +7 977 504-63-14   18:30:00 2022-10-19 18:30:00          18   \n",
       "3  +7 977 504-63-14   18:30:00 2022-09-28 18:30:00          18   \n",
       "4  +7 977 504-63-14   14:30:00 2022-09-11 14:30:00          14   \n",
       "5  +7 977 504-63-14   14:30:00 2022-09-11 14:30:00          14   \n",
       "\n",
       "         group_time  \n",
       "1  С 10:00 до 12:00  \n",
       "2  С 18:00 до 20:00  \n",
       "3  С 18:00 до 20:00  \n",
       "4  С 14:00 до 16:00  \n",
       "5  С 14:00 до 16:00  "
      ]
     },
     "execution_count": 39,
     "metadata": {},
     "output_type": "execute_result"
    }
   ],
   "source": [
    "#посмотрим в какой час ходят больше всего, чтобы выяснить провальное время\n",
    "\n",
    "def group_time(time):\n",
    "    if 8 <= time < 10:\n",
    "        return 'С 8:00 до 10:00'\n",
    "    elif 10 <= time < 12:\n",
    "        return 'С 10:00 до 12:00'\n",
    "    elif 12 <= time < 14:\n",
    "        return 'С 12:00 до 14:00'\n",
    "    elif 14 <= time < 16:\n",
    "        return 'С 14:00 до 16:00'\n",
    "    elif 16 <= time < 18:\n",
    "        return 'С 16:00 до 18:00'\n",
    "    elif 18 <= time < 20:\n",
    "        return 'С 18:00 до 20:00'\n",
    "    elif 20 <= time <= 23:\n",
    "        return 'С 20:00 до 23:00'\n",
    "    else:\n",
    "        return 'другое'\n",
    "    \n",
    "time['group_time'] = time['hour_visit'].apply(group_time)\n",
    "time.head()"
   ]
  },
  {
   "cell_type": "code",
   "execution_count": 40,
   "id": "b5f61df1",
   "metadata": {},
   "outputs": [
    {
     "data": {
      "image/png": "[encoded data removed]",
      "text/plain": [
       "<Figure size 1600x400 with 1 Axes>"
      ]
     },
     "metadata": {
      "needs_background": "light"
     },
     "output_type": "display_data"
    }
   ],
   "source": [
    "plt.figure(figsize=(20,5))\n",
    "time.groupby('group_time')['phone'].count().plot(kind='bar')\n",
    "plt.gcf().set_dpi(80)\n",
    "\n",
    "old_ticks, old_labels = plt.xticks()\n",
    "plt.xticks(old_ticks, ['\\n'.join(label.get_text().split()) for label in old_labels], rotation=0)\n",
    "\n",
    "plt.xlabel('Время визита')\n",
    "plt.ylabel('Количество клиентов')\n",
    "plt.title('Количество клиентов по времени записей')\n",
    "plt.show()"
   ]
  },
  {
   "cell_type": "code",
   "execution_count": 41,
   "id": "6d70423b",
   "metadata": {},
   "outputs": [
    {
     "data": {
      "image/png": "[encoded data removed]",
      "text/plain": [
       "<Figure size 576x576 with 1 Axes>"
      ]
     },
     "metadata": {},
     "output_type": "display_data"
    }
   ],
   "source": [
    "plt.rcParams['figure.figsize'] = [8, 8]\n",
    "time.groupby('group_time')['phone'].count().plot(y='phone', kind='pie', autopct='%1.1f%%')\n",
    "plt.show()"
   ]
  },
  {
   "cell_type": "code",
   "execution_count": 42,
   "id": "d66e58da",
   "metadata": {},
   "outputs": [
    {
     "data": {
      "text/plain": [
       "group_time\n",
       "С 18:00 до 20:00    830\n",
       "С 16:00 до 18:00    789\n",
       "С 12:00 до 14:00    765\n",
       "С 14:00 до 16:00    728\n",
       "С 10:00 до 12:00    634\n",
       "С 20:00 до 23:00    280\n",
       "С 8:00 до 10:00       1\n",
       "Name: phone, dtype: int64"
      ]
     },
     "execution_count": 42,
     "metadata": {},
     "output_type": "execute_result"
    }
   ],
   "source": [
    "time.groupby('group_time')['phone'].count().sort_values(ascending = False)"
   ]
  },
  {
   "cell_type": "markdown",
   "id": "d10bbc3c",
   "metadata": {},
   "source": [
    "- Самый пик популярности у записей с 18 до 20 - 20,5%, это логично, клиенты чаще приходят после работы. \n",
    "- На втором месте время с 16 до 18 - 19,5% - либо те, кто раньше заканчивает, либо те, кто является студентами\n",
    "- Меньше всего записей с 20 до 23 - всего 7%. "
   ]
  },
  {
   "cell_type": "markdown",
   "id": "6fc43f99",
   "metadata": {},
   "source": [
    "### Дни недели"
   ]
  },
  {
   "cell_type": "code",
   "execution_count": 43,
   "id": "d8074144",
   "metadata": {},
   "outputs": [
    {
     "data": {
      "text/html": [
       "<div>\n",
       "<style scoped>\n",
       "    .dataframe tbody tr th:only-of-type {\n",
       "        vertical-align: middle;\n",
       "    }\n",
       "\n",
       "    .dataframe tbody tr th {\n",
       "        vertical-align: top;\n",
       "    }\n",
       "\n",
       "    .dataframe thead th {\n",
       "        text-align: right;\n",
       "    }\n",
       "</style>\n",
       "<table border=\"1\" class=\"dataframe\">\n",
       "  <thead>\n",
       "    <tr style=\"text-align: right;\">\n",
       "      <th></th>\n",
       "      <th>phone</th>\n",
       "      <th>time_visit</th>\n",
       "      <th>date</th>\n",
       "      <th>hour_visit</th>\n",
       "      <th>group_time</th>\n",
       "      <th>day</th>\n",
       "    </tr>\n",
       "  </thead>\n",
       "  <tbody>\n",
       "    <tr>\n",
       "      <th>1</th>\n",
       "      <td>+7 977 504-63-14</td>\n",
       "      <td>10:00:00</td>\n",
       "      <td>2022-11-01 10:00:00</td>\n",
       "      <td>10</td>\n",
       "      <td>С 10:00 до 12:00</td>\n",
       "      <td>1</td>\n",
       "    </tr>\n",
       "    <tr>\n",
       "      <th>2</th>\n",
       "      <td>+7 977 504-63-14</td>\n",
       "      <td>18:30:00</td>\n",
       "      <td>2022-10-19 18:30:00</td>\n",
       "      <td>18</td>\n",
       "      <td>С 18:00 до 20:00</td>\n",
       "      <td>2</td>\n",
       "    </tr>\n",
       "    <tr>\n",
       "      <th>3</th>\n",
       "      <td>+7 977 504-63-14</td>\n",
       "      <td>18:30:00</td>\n",
       "      <td>2022-09-28 18:30:00</td>\n",
       "      <td>18</td>\n",
       "      <td>С 18:00 до 20:00</td>\n",
       "      <td>2</td>\n",
       "    </tr>\n",
       "    <tr>\n",
       "      <th>4</th>\n",
       "      <td>+7 977 504-63-14</td>\n",
       "      <td>14:30:00</td>\n",
       "      <td>2022-09-11 14:30:00</td>\n",
       "      <td>14</td>\n",
       "      <td>С 14:00 до 16:00</td>\n",
       "      <td>6</td>\n",
       "    </tr>\n",
       "    <tr>\n",
       "      <th>5</th>\n",
       "      <td>+7 977 504-63-14</td>\n",
       "      <td>14:30:00</td>\n",
       "      <td>2022-09-11 14:30:00</td>\n",
       "      <td>14</td>\n",
       "      <td>С 14:00 до 16:00</td>\n",
       "      <td>6</td>\n",
       "    </tr>\n",
       "    <tr>\n",
       "      <th>...</th>\n",
       "      <td>...</td>\n",
       "      <td>...</td>\n",
       "      <td>...</td>\n",
       "      <td>...</td>\n",
       "      <td>...</td>\n",
       "      <td>...</td>\n",
       "    </tr>\n",
       "    <tr>\n",
       "      <th>5537</th>\n",
       "      <td>+7 916 102-60-45</td>\n",
       "      <td>13:45:00</td>\n",
       "      <td>2022-08-11 13:45:00</td>\n",
       "      <td>13</td>\n",
       "      <td>С 12:00 до 14:00</td>\n",
       "      <td>3</td>\n",
       "    </tr>\n",
       "    <tr>\n",
       "      <th>5538</th>\n",
       "      <td>+7 916 102-60-46</td>\n",
       "      <td>11:30:00</td>\n",
       "      <td>2022-06-10 11:30:00</td>\n",
       "      <td>11</td>\n",
       "      <td>С 10:00 до 12:00</td>\n",
       "      <td>4</td>\n",
       "    </tr>\n",
       "    <tr>\n",
       "      <th>5539</th>\n",
       "      <td>+7 916 102-60-47</td>\n",
       "      <td>16:30:00</td>\n",
       "      <td>2022-04-17 16:30:00</td>\n",
       "      <td>16</td>\n",
       "      <td>С 16:00 до 18:00</td>\n",
       "      <td>6</td>\n",
       "    </tr>\n",
       "    <tr>\n",
       "      <th>5540</th>\n",
       "      <td>+7 916 102-60-48</td>\n",
       "      <td>12:00:00</td>\n",
       "      <td>2022-01-29 12:00:00</td>\n",
       "      <td>12</td>\n",
       "      <td>С 12:00 до 14:00</td>\n",
       "      <td>5</td>\n",
       "    </tr>\n",
       "    <tr>\n",
       "      <th>5542</th>\n",
       "      <td>NaN</td>\n",
       "      <td>13:45:00</td>\n",
       "      <td>2022-04-11 13:45:00</td>\n",
       "      <td>13</td>\n",
       "      <td>С 12:00 до 14:00</td>\n",
       "      <td>0</td>\n",
       "    </tr>\n",
       "  </tbody>\n",
       "</table>\n",
       "<p>4028 rows × 6 columns</p>\n",
       "</div>"
      ],
      "text/plain": [
       "                 phone time_visit                date  hour_visit  \\\n",
       "1     +7 977 504-63-14   10:00:00 2022-11-01 10:00:00          10   \n",
       "2     +7 977 504-63-14   18:30:00 2022-10-19 18:30:00          18   \n",
       "3     +7 977 504-63-14   18:30:00 2022-09-28 18:30:00          18   \n",
       "4     +7 977 504-63-14   14:30:00 2022-09-11 14:30:00          14   \n",
       "5     +7 977 504-63-14   14:30:00 2022-09-11 14:30:00          14   \n",
       "...                ...        ...                 ...         ...   \n",
       "5537  +7 916 102-60-45   13:45:00 2022-08-11 13:45:00          13   \n",
       "5538  +7 916 102-60-46   11:30:00 2022-06-10 11:30:00          11   \n",
       "5539  +7 916 102-60-47   16:30:00 2022-04-17 16:30:00          16   \n",
       "5540  +7 916 102-60-48   12:00:00 2022-01-29 12:00:00          12   \n",
       "5542               NaN   13:45:00 2022-04-11 13:45:00          13   \n",
       "\n",
       "            group_time  day  \n",
       "1     С 10:00 до 12:00    1  \n",
       "2     С 18:00 до 20:00    2  \n",
       "3     С 18:00 до 20:00    2  \n",
       "4     С 14:00 до 16:00    6  \n",
       "5     С 14:00 до 16:00    6  \n",
       "...                ...  ...  \n",
       "5537  С 12:00 до 14:00    3  \n",
       "5538  С 10:00 до 12:00    4  \n",
       "5539  С 16:00 до 18:00    6  \n",
       "5540  С 12:00 до 14:00    5  \n",
       "5542  С 12:00 до 14:00    0  \n",
       "\n",
       "[4028 rows x 6 columns]"
      ]
     },
     "execution_count": 43,
     "metadata": {},
     "output_type": "execute_result"
    }
   ],
   "source": [
    "time['date'] = time['date'].astype('datetime64[ns]')\n",
    "time['day'] = time['date'].dt.weekday\n",
    "time"
   ]
  },
  {
   "cell_type": "markdown",
   "id": "ea653060",
   "metadata": {},
   "source": [
    "- 0 это понедельник, 6 - это воскресенье"
   ]
  },
  {
   "cell_type": "code",
   "execution_count": 44,
   "id": "391b9469",
   "metadata": {},
   "outputs": [
    {
     "data": {
      "image/png": "[encoded data removed]",
      "text/plain": [
       "<Figure size 1600x400 with 1 Axes>"
      ]
     },
     "metadata": {
      "needs_background": "light"
     },
     "output_type": "display_data"
    }
   ],
   "source": [
    "plt.figure(figsize=(20,5))\n",
    "time.groupby('day')['phone'].count().plot(kind='bar')\n",
    "plt.gcf().set_dpi(80)\n",
    "\n",
    "old_ticks, old_labels = plt.xticks()\n",
    "plt.xticks(old_ticks, ['\\n'.join(label.get_text().split()) for label in old_labels], rotation=0)\n",
    "\n",
    "plt.xlabel('День визита')\n",
    "plt.ylabel('Количество клиентов')\n",
    "plt.title('Количество клиентов по дням записей')\n",
    "plt.show()"
   ]
  },
  {
   "cell_type": "markdown",
   "id": "6f3f30f4",
   "metadata": {},
   "source": [
    "- Логично, что по выходным клиентов больше, чем в будни.\n",
    "- Самый проавльный день это понедельник"
   ]
  },
  {
   "cell_type": "markdown",
   "id": "4d5b0fd3",
   "metadata": {},
   "source": [
    "### Количество визитов"
   ]
  },
  {
   "cell_type": "code",
   "execution_count": 45,
   "id": "c16595a7",
   "metadata": {},
   "outputs": [
    {
     "data": {
      "text/plain": [
       "visits\n",
       "1     701\n",
       "2     192\n",
       "3      96\n",
       "4      66\n",
       "5      40\n",
       "6      32\n",
       "8      25\n",
       "7      25\n",
       "9      24\n",
       "10     22\n",
       "0      13\n",
       "11     11\n",
       "12      9\n",
       "13      7\n",
       "16      5\n",
       "15      4\n",
       "18      3\n",
       "14      3\n",
       "17      3\n",
       "19      2\n",
       "20      2\n",
       "21      2\n",
       "25      1\n",
       "26      1\n",
       "30      1\n",
       "32      1\n",
       "33      1\n",
       "40      1\n",
       "42      1\n",
       "Name: phone, dtype: int64"
      ]
     },
     "execution_count": 45,
     "metadata": {},
     "output_type": "execute_result"
    }
   ],
   "source": [
    "users.groupby('visits')['phone'].count().sort_values(ascending = False)"
   ]
  },
  {
   "cell_type": "code",
   "execution_count": 46,
   "id": "68ba0fe8",
   "metadata": {},
   "outputs": [
    {
     "data": {
      "text/plain": [
       "2.9327666151468317"
      ]
     },
     "execution_count": 46,
     "metadata": {},
     "output_type": "execute_result"
    }
   ],
   "source": [
    "users['visits'].mean()"
   ]
  },
  {
   "cell_type": "markdown",
   "id": "739bb55f",
   "metadata": {},
   "source": [
    "- Больше всего клиентов, кто был 1 раз. Нужно более подробно расмотреть таких клиентов.\n",
    "- В среднем клиенты ходят 3 раза\n",
    "- Встречаются клиенты, у которых более 20 визитов"
   ]
  },
  {
   "cell_type": "markdown",
   "id": "3151c764",
   "metadata": {},
   "source": [
    "### E-mail"
   ]
  },
  {
   "cell_type": "code",
   "execution_count": 47,
   "id": "2c7ca888",
   "metadata": {},
   "outputs": [
    {
     "name": "stdout",
     "output_type": "stream",
     "text": [
      "Всего оставили эл.почту: 257\n"
     ]
    }
   ],
   "source": [
    "print('Всего оставили эл.почту:', (data.query('email != \"-\"')['email'].count()))"
   ]
  },
  {
   "cell_type": "markdown",
   "id": "e5982e3e",
   "metadata": {},
   "source": [
    "- Не так много клиентов оставляют свою почту, поэтоу лучше использовать мобильный телефон для массовых рассылок акций и спецпредложений"
   ]
  },
  {
   "cell_type": "markdown",
   "id": "558ccb1c",
   "metadata": {},
   "source": [
    "### Стоимость визитов"
   ]
  },
  {
   "cell_type": "code",
   "execution_count": 48,
   "id": "33d6e37b",
   "metadata": {},
   "outputs": [
    {
     "data": {
      "text/plain": [
       "count    1294.000000\n",
       "mean     1479.778980\n",
       "std       574.932135\n",
       "min         0.000000\n",
       "25%      1200.000000\n",
       "50%      1300.000000\n",
       "75%      1676.500000\n",
       "max      8963.000000\n",
       "Name: mean_visits, dtype: float64"
      ]
     },
     "execution_count": 48,
     "metadata": {},
     "output_type": "execute_result"
    }
   ],
   "source": [
    "users['mean_visits'].describe()"
   ]
  },
  {
   "cell_type": "markdown",
   "id": "de066bb0",
   "metadata": {},
   "source": [
    "- В среднем каждый клиент оставляет 1480р, а самый большой чек - почти 9тыс.р"
   ]
  },
  {
   "cell_type": "markdown",
   "id": "d2efec53",
   "metadata": {},
   "source": [
    "### Прайс и услуги"
   ]
  },
  {
   "cell_type": "code",
   "execution_count": 49,
   "id": "b1632653",
   "metadata": {},
   "outputs": [],
   "source": [
    "#многие услуги записаны по разному, поэтому приведем все буквы к нижнему регистру\n",
    "visits['order'] = visits['order'].str.lower()"
   ]
  },
  {
   "cell_type": "code",
   "execution_count": 50,
   "id": "78f60370",
   "metadata": {},
   "outputs": [],
   "source": [
    "#поменяем названия услуг, чтобы избавиться от задвоения\n",
    "def ord (order):\n",
    "    if order == 'стрижка головы машинкой (2 насадки)':\n",
    "        return 'стрижка головы машинкой 2 насадки'\n",
    "    elif order == 'стрижка головы + моделирование бороды':\n",
    "        return 'стрижка + моделирование бороды'\n",
    "    elif order == 'мытье головы+ окантовка + укладка':\n",
    "        return 'мытье головы + окантовка + укладка'\n",
    "    elif order == 'отец+ сын':\n",
    "        return 'отец + сын'\n",
    "    else:\n",
    "        return order\n",
    "visits['order'] = visits['order'].apply(ord)"
   ]
  },
  {
   "cell_type": "code",
   "execution_count": 51,
   "id": "1a7ea8da",
   "metadata": {},
   "outputs": [
    {
     "data": {
      "text/plain": [
       "стрижка                               2477\n",
       "стрижка + моделирование бороды         505\n",
       "детская стрижка (с 5 до 12 лет)        252\n",
       "стрижка головы машинкой 2 насадки      218\n",
       "моделирование бороды                   128\n",
       "стрижка бороды (машинкой)               91\n",
       "стрижка головы (машинкой)               74\n",
       "воск                                    71\n",
       "традиционное бритье                     37\n",
       "отец + сын                              32\n",
       "тонировка бороды                        23\n",
       "камуфляж седины                         17\n",
       "премиум стрижка                         17\n",
       "мытье головы + окантовка + укладка      14\n",
       "воск (все зоны)                         14\n",
       "черная маска                             9\n",
       "премиум мытье головы                     7\n",
       "мытье головы + укладка                   7\n",
       "премиум моделирование                    4\n",
       "премиальный уход за лицом                1\n",
       "Name: order, dtype: int64"
      ]
     },
     "execution_count": 51,
     "metadata": {},
     "output_type": "execute_result"
    }
   ],
   "source": [
    "visits['order'].value_counts().sort_values(ascending = False)"
   ]
  },
  {
   "cell_type": "code",
   "execution_count": 52,
   "id": "dcd9c9d2",
   "metadata": {},
   "outputs": [
    {
     "data": {
      "text/plain": [
       "order\n",
       "воск (все зоны)                        300.0\n",
       "премиум мытье головы                   350.0\n",
       "воск                                   400.0\n",
       "мытье головы + окантовка + укладка     500.0\n",
       "мытье головы + укладка                 500.0\n",
       "стрижка головы (машинкой)              650.0\n",
       "стрижка бороды (машинкой)              700.0\n",
       "тонировка бороды                       800.0\n",
       "черная маска                           800.0\n",
       "камуфляж седины                        850.0\n",
       "стрижка головы машинкой 2 насадки      900.0\n",
       "традиционное бритье                   1000.0\n",
       "детская стрижка (с 5 до 12 лет)       1000.0\n",
       "моделирование бороды                  1050.0\n",
       "стрижка                               1300.0\n",
       "премиальный уход за лицом             1500.0\n",
       "премиум моделирование                 1700.0\n",
       "отец + сын                            2000.0\n",
       "стрижка + моделирование бороды        2100.0\n",
       "премиум стрижка                       2200.0\n",
       "Name: price, dtype: float64"
      ]
     },
     "execution_count": 52,
     "metadata": {},
     "output_type": "execute_result"
    }
   ],
   "source": [
    "visits.groupby('order')['price'].median().sort_values()"
   ]
  },
  {
   "cell_type": "markdown",
   "id": "65cf5300",
   "metadata": {},
   "source": [
    "- Чаще всего приходят на `стрижку`\n",
    "- на втором месте : `Стрижка + моделирование бороды`\n",
    "- Не много посещений на услугу `отец + сын`\n",
    "- Редко делают `Премиум моделирование` , `премиальный уход за лицом`"
   ]
  },
  {
   "cell_type": "markdown",
   "id": "c2c4131b",
   "metadata": {},
   "source": [
    "### Количество записей по месяцам"
   ]
  },
  {
   "cell_type": "code",
   "execution_count": 53,
   "id": "0b08c45d",
   "metadata": {},
   "outputs": [
    {
     "data": {
      "image/png": "[encoded data removed]",
      "text/plain": [
       "<Figure size 1600x400 with 1 Axes>"
      ]
     },
     "metadata": {
      "needs_background": "light"
     },
     "output_type": "display_data"
    }
   ],
   "source": [
    "plt.figure(figsize=(20,5))\n",
    "visits.groupby('month_visit')['phone'].count().plot(kind='bar')\n",
    "plt.gcf().set_dpi(80)\n",
    "\n",
    "old_ticks, old_labels = plt.xticks()\n",
    "plt.xticks(old_ticks, ['\\n'.join(label.get_text().split()) for label in old_labels], rotation=0)\n",
    "\n",
    "plt.xlabel('Месяц визита')\n",
    "plt.ylabel('Количество клиентов')\n",
    "plt.title('Количество клиентов по месяцам')\n",
    "plt.show()"
   ]
  },
  {
   "cell_type": "markdown",
   "id": "04f6c5aa",
   "metadata": {},
   "source": [
    " - Как и в любом бизнесе самый провал в январе и начале февраля. Очень странно, что в декабре тоже упадок"
   ]
  },
  {
   "cell_type": "code",
   "execution_count": 54,
   "id": "ce176f06",
   "metadata": {},
   "outputs": [],
   "source": [
    "visits['year'] = visits['date'].dt.year"
   ]
  },
  {
   "cell_type": "code",
   "execution_count": 55,
   "id": "05912f20",
   "metadata": {
    "scrolled": false
   },
   "outputs": [
    {
     "data": {
      "image/png": "[encoded data removed]",
      "text/plain": [
       "<Figure size 1600x400 with 1 Axes>"
      ]
     },
     "metadata": {
      "needs_background": "light"
     },
     "output_type": "display_data"
    }
   ],
   "source": [
    "plt.figure(figsize=(20,5))\n",
    "visits.groupby('year')['phone'].count().plot(kind='bar')\n",
    "plt.gcf().set_dpi(80)\n",
    "\n",
    "old_ticks, old_labels = plt.xticks()\n",
    "plt.xticks(old_ticks, ['\\n'.join(label.get_text().split()) for label in old_labels], rotation=0)\n",
    "\n",
    "plt.xlabel('Год визита')\n",
    "plt.ylabel('Количество клиентов')\n",
    "plt.title('Количество клиентов по годам')\n",
    "plt.show()"
   ]
  },
  {
   "cell_type": "code",
   "execution_count": 56,
   "id": "8792ad4e",
   "metadata": {},
   "outputs": [
    {
     "data": {
      "image/png": "[encoded data removed]",
      "text/plain": [
       "<Figure size 1080x360 with 1 Axes>"
      ]
     },
     "metadata": {
      "needs_background": "light"
     },
     "output_type": "display_data"
    }
   ],
   "source": [
    "data_test = visits[['year', 'month_visit', 'phone']]\n",
    "x = data_test.query('year == 2021')\n",
    "y = data_test.query('year == 2022')\n",
    "\n",
    "xy = pd.DataFrame({'2021' : x['month_visit'],\n",
    "                   '2022' : y['month_visit'],\n",
    "                   'month' : data_test['month_visit']})\n",
    "xy = xy.groupby('month').count()\n",
    "xy.plot(kind='bar', figsize=(15,5))\n",
    "plt.show()"
   ]
  },
  {
   "cell_type": "markdown",
   "id": "3bb4c0c5",
   "metadata": {},
   "source": [
    "- В сравнение двух годов, ситуация следущая: провал в январе и декабре, объясняется тем, что в 2021 не было работы в январе, а в 2022 декабрь еще не наступил. \n",
    "- Февраль в 2022 неплох. Провал есть в апреле. \n",
    "- За ноябрь данные еще не полные, но нужно перегнать прошлый год\n",
    "- Август самый рекордный в 2022 году"
   ]
  },
  {
   "cell_type": "markdown",
   "id": "28cd9901",
   "metadata": {},
   "source": [
    "### Новые клиенты"
   ]
  },
  {
   "cell_type": "code",
   "execution_count": 57,
   "id": "76664d04",
   "metadata": {},
   "outputs": [
    {
     "data": {
      "text/html": [
       "<div>\n",
       "<style scoped>\n",
       "    .dataframe tbody tr th:only-of-type {\n",
       "        vertical-align: middle;\n",
       "    }\n",
       "\n",
       "    .dataframe tbody tr th {\n",
       "        vertical-align: top;\n",
       "    }\n",
       "\n",
       "    .dataframe thead th {\n",
       "        text-align: right;\n",
       "    }\n",
       "</style>\n",
       "<table border=\"1\" class=\"dataframe\">\n",
       "  <thead>\n",
       "    <tr style=\"text-align: right;\">\n",
       "      <th></th>\n",
       "      <th>phone</th>\n",
       "      <th>first_visit</th>\n",
       "      <th>month</th>\n",
       "      <th>year</th>\n",
       "    </tr>\n",
       "  </thead>\n",
       "  <tbody>\n",
       "    <tr>\n",
       "      <th>0</th>\n",
       "      <td>+7 977 504-63-14</td>\n",
       "      <td>2021-03-01</td>\n",
       "      <td>3</td>\n",
       "      <td>2021</td>\n",
       "    </tr>\n",
       "    <tr>\n",
       "      <th>1</th>\n",
       "      <td>+7 985 994-22-27</td>\n",
       "      <td>2021-04-01</td>\n",
       "      <td>4</td>\n",
       "      <td>2021</td>\n",
       "    </tr>\n",
       "    <tr>\n",
       "      <th>2</th>\n",
       "      <td>+7 925 492-82-47</td>\n",
       "      <td>2021-03-04</td>\n",
       "      <td>3</td>\n",
       "      <td>2021</td>\n",
       "    </tr>\n",
       "    <tr>\n",
       "      <th>3</th>\n",
       "      <td>+7 925 443-97-65</td>\n",
       "      <td>2021-03-13</td>\n",
       "      <td>3</td>\n",
       "      <td>2021</td>\n",
       "    </tr>\n",
       "    <tr>\n",
       "      <th>4</th>\n",
       "      <td>+7 930 333-30-00</td>\n",
       "      <td>2021-09-29</td>\n",
       "      <td>9</td>\n",
       "      <td>2021</td>\n",
       "    </tr>\n",
       "    <tr>\n",
       "      <th>...</th>\n",
       "      <td>...</td>\n",
       "      <td>...</td>\n",
       "      <td>...</td>\n",
       "      <td>...</td>\n",
       "    </tr>\n",
       "    <tr>\n",
       "      <th>1287</th>\n",
       "      <td>+7 916 436-61-71</td>\n",
       "      <td>2021-03-21</td>\n",
       "      <td>3</td>\n",
       "      <td>2021</td>\n",
       "    </tr>\n",
       "    <tr>\n",
       "      <th>1288</th>\n",
       "      <td>+7 910 699-31-25</td>\n",
       "      <td>2021-04-15</td>\n",
       "      <td>4</td>\n",
       "      <td>2021</td>\n",
       "    </tr>\n",
       "    <tr>\n",
       "      <th>1289</th>\n",
       "      <td>+7 929 959-93-57</td>\n",
       "      <td>2021-05-31</td>\n",
       "      <td>5</td>\n",
       "      <td>2021</td>\n",
       "    </tr>\n",
       "    <tr>\n",
       "      <th>1290</th>\n",
       "      <td>+7 977 394-02-41</td>\n",
       "      <td>2022-03-04</td>\n",
       "      <td>3</td>\n",
       "      <td>2022</td>\n",
       "    </tr>\n",
       "    <tr>\n",
       "      <th>1291</th>\n",
       "      <td>+7 977 444-96-67</td>\n",
       "      <td>2021-11-20</td>\n",
       "      <td>11</td>\n",
       "      <td>2021</td>\n",
       "    </tr>\n",
       "  </tbody>\n",
       "</table>\n",
       "<p>1230 rows × 4 columns</p>\n",
       "</div>"
      ],
      "text/plain": [
       "                 phone first_visit  month  year\n",
       "0     +7 977 504-63-14  2021-03-01      3  2021\n",
       "1     +7 985 994-22-27  2021-04-01      4  2021\n",
       "2     +7 925 492-82-47  2021-03-04      3  2021\n",
       "3     +7 925 443-97-65  2021-03-13      3  2021\n",
       "4     +7 930 333-30-00  2021-09-29      9  2021\n",
       "...                ...         ...    ...   ...\n",
       "1287  +7 916 436-61-71  2021-03-21      3  2021\n",
       "1288  +7 910 699-31-25  2021-04-15      4  2021\n",
       "1289  +7 929 959-93-57  2021-05-31      5  2021\n",
       "1290  +7 977 394-02-41  2022-03-04      3  2022\n",
       "1291  +7 977 444-96-67  2021-11-20     11  2021\n",
       "\n",
       "[1230 rows x 4 columns]"
      ]
     },
     "execution_count": 57,
     "metadata": {},
     "output_type": "execute_result"
    }
   ],
   "source": [
    "new_client = users[['phone', 'first_visit']]\n",
    "new_client['month'] = new_client['first_visit'].dt.month\n",
    "new_client['year'] = new_client['first_visit'].dt.year\n",
    "new_client = new_client.dropna(subset=['month'])\n",
    "new_client['month'] = new_client['month'].astype(int)\n",
    "new_client['year'] = new_client['year'].astype(int)\n",
    "new_client"
   ]
  },
  {
   "cell_type": "code",
   "execution_count": 58,
   "id": "2e0f8353",
   "metadata": {},
   "outputs": [
    {
     "data": {
      "image/png": "[encoded data removed]",
      "text/plain": [
       "<Figure size 1080x360 with 1 Axes>"
      ]
     },
     "metadata": {
      "needs_background": "light"
     },
     "output_type": "display_data"
    }
   ],
   "source": [
    "data_test_1 = new_client[['year', 'month', 'phone']]\n",
    "x1 = data_test_1.query('year == 2021')\n",
    "y1 = data_test_1.query('year == 2022')\n",
    "\n",
    "xy1 = pd.DataFrame({'2021' : x1['month'],\n",
    "                   '2022' : y1['month'],\n",
    "                   'month' : data_test_1['month']})\n",
    "xy1 = xy1.groupby('month').count()\n",
    "xy1.plot(kind='bar', figsize=(15,5), grid=True)\n",
    "plt.show()"
   ]
  },
  {
   "cell_type": "code",
   "execution_count": 59,
   "id": "ad733a3c",
   "metadata": {},
   "outputs": [
    {
     "name": "stdout",
     "output_type": "stream",
     "text": [
      "Новые клиенты в 2021 году: 777 или 63.17 % от общего числа\n",
      "Новые клиенты в 2022 году: 453 или 36.83 % от общего числа\n"
     ]
    }
   ],
   "source": [
    "print('Новые клиенты в 2021 году:', x1['phone'].count(), 'или', (x1['phone'].count() * 100 / data_test_1['phone'].count()).round(2) , '% от общего числа')\n",
    "print('Новые клиенты в 2022 году:', y1['phone'].count(), 'или', (y1['phone'].count() * 100 / data_test_1['phone'].count()).round(2) , '% от общего числа')"
   ]
  },
  {
   "cell_type": "markdown",
   "id": "078b32ed",
   "metadata": {},
   "source": [
    "- В 2022 году заметно снизилось прибавление новых клиентов\n",
    "- Самый пик в 2021 году - март и апрель\n",
    "- Самый пик в 2022 году - август и май\n",
    "- Необходимо добится стабильности в привлечении клиентов, искать новые каналы и способы рекламы\n",
    "- В 2022 году было привлечено только 37% новых клиентов от общего числа новичков. Показатели не должны падать"
   ]
  },
  {
   "cell_type": "markdown",
   "id": "85e6e1e3",
   "metadata": {},
   "source": [
    "### Скидки"
   ]
  },
  {
   "cell_type": "markdown",
   "id": "12d8c2eb",
   "metadata": {},
   "source": [
    "Пока не очень понятно за что дают скидки, или первый визит, или исправление косяков, или что-то другое"
   ]
  },
  {
   "cell_type": "code",
   "execution_count": 60,
   "id": "354156fe",
   "metadata": {},
   "outputs": [
    {
     "data": {
      "text/plain": [
       "0.00      3541\n",
       "20.00      374\n",
       "10.00       63\n",
       "100.00      15\n",
       "50.00       11\n",
       "23.08        8\n",
       "23.53        3\n",
       "15.00        3\n",
       "12.00        3\n",
       "40.00        1\n",
       "5.00         1\n",
       "25.00        1\n",
       "59.38        1\n",
       "18.75        1\n",
       "14.29        1\n",
       "16.67        1\n",
       "Name: sale, dtype: int64"
      ]
     },
     "execution_count": 60,
     "metadata": {},
     "output_type": "execute_result"
    }
   ],
   "source": [
    "visits['sale'].value_counts()"
   ]
  },
  {
   "cell_type": "markdown",
   "id": "4f2ed7d4",
   "metadata": {},
   "source": [
    "- 20% - это скорее всего скидка новым клиентам, надо посмотреть действует ли она до сих пор, потому что 374 человека это явно не все новенькие клиенты\n",
    "- 100% - отличная скидка)) за что же повезло 15 клиентам, возможно это были подарки или коррекции стрижек"
   ]
  },
  {
   "cell_type": "code",
   "execution_count": 61,
   "id": "3b74e8e2",
   "metadata": {},
   "outputs": [
    {
     "name": "stdout",
     "output_type": "stream",
     "text": [
      "month_visit  sale\n",
      "3            20.0     9\n",
      "4            20.0     8\n",
      "5            20.0    21\n",
      "6            20.0    30\n",
      "9            20.0     7\n",
      "12           20.0     2\n",
      "Name: sale, dtype: int64\n",
      "month_visit  sale\n",
      "2            20.0     2\n",
      "5            20.0    44\n",
      "6            20.0    38\n",
      "7            20.0    47\n",
      "8            20.0    62\n",
      "9            20.0    41\n",
      "10           20.0    40\n",
      "11           20.0    23\n",
      "Name: sale, dtype: int64\n"
     ]
    }
   ],
   "source": [
    "sale = visits[['phone', 'sale', 'data_visit', 'month_visit', 'year']]\n",
    "print(sale.query('sale == 20.00 and year == 2021').groupby('month_visit')['sale'].value_counts())\n",
    "print(sale.query('sale == 20.00 and year == 2022').groupby('month_visit')['sale'].value_counts())"
   ]
  },
  {
   "cell_type": "markdown",
   "id": "325d5c46",
   "metadata": {},
   "source": [
    "- Согласно одному отзыву, клиенту дали скидку 20% как новому клиенту при первом визите. Удивительно, что такая скидка дается не каждому."
   ]
  },
  {
   "cell_type": "markdown",
   "id": "bca5349a",
   "metadata": {},
   "source": [
    "### Статус визита"
   ]
  },
  {
   "cell_type": "code",
   "execution_count": 62,
   "id": "4ede0eb5",
   "metadata": {},
   "outputs": [
    {
     "data": {
      "text/plain": [
       "Клиент пришёл        3863\n",
       "Клиент не пришёл      162\n",
       "Ожидание клиента        2\n",
       "Клиент подтвердил       1\n",
       "Name: status_visits, dtype: int64"
      ]
     },
     "execution_count": 62,
     "metadata": {},
     "output_type": "execute_result"
    }
   ],
   "source": [
    "visits['status_visits'].value_counts()"
   ]
  },
  {
   "cell_type": "markdown",
   "id": "41cd32d9",
   "metadata": {},
   "source": [
    "- Если клиент не пришел, стоит ему предложить перезаписаться"
   ]
  },
  {
   "cell_type": "markdown",
   "id": "9c324f9b",
   "metadata": {},
   "source": [
    "### Отток"
   ]
  },
  {
   "cell_type": "code",
   "execution_count": 63,
   "id": "4fb85808",
   "metadata": {},
   "outputs": [
    {
     "data": {
      "image/png": "[encoded data removed]",
      "text/plain": [
       "<Figure size 360x360 with 1 Axes>"
      ]
     },
     "metadata": {},
     "output_type": "display_data"
    }
   ],
   "source": [
    "plt.rcParams['figure.figsize'] = [5, 5]\n",
    "users.groupby('churn')['phone'].count().plot(y='phone', kind='pie', autopct='%1.1f%%')\n",
    "plt.show()"
   ]
  },
  {
   "cell_type": "markdown",
   "id": "51d7f474",
   "metadata": {},
   "source": [
    "- 75% клиентов находятся в оттоке. Их срочно нужно оттуда доставать"
   ]
  },
  {
   "cell_type": "markdown",
   "id": "3a9b4ed9",
   "metadata": {},
   "source": [
    "### Мастера"
   ]
  },
  {
   "cell_type": "code",
   "execution_count": 64,
   "id": "a2b27e81",
   "metadata": {},
   "outputs": [
    {
     "data": {
      "text/plain": [
       "employee\n",
       "Рахман (Capitan)     1175\n",
       "Максим (Soldado)      339\n",
       "Макс (Capitan)        271\n",
       "Павел (Capitan)        63\n",
       "Давид  (Soldado)       56\n",
       "Валерия                47\n",
       "Татьяна (Soldado)      22\n",
       "Хамза (Soldado)        21\n",
       "Елена (Capitan)        10\n",
       "Ирина                  10\n",
       "Иван(Soldado)           6\n",
       "Алена                   5\n",
       "Кроки(Soldato)          5\n",
       "Мария                   5\n",
       "Шах (Soldado)           4\n",
       "Макс                    3\n",
       "Аннет (Стажер)          1\n",
       "Евгения                 1\n",
       "Name: phone, dtype: int64"
      ]
     },
     "execution_count": 64,
     "metadata": {},
     "output_type": "execute_result"
    }
   ],
   "source": [
    "visits.query('year == 2022').groupby('employee')['phone'].count().sort_values(ascending=False)"
   ]
  },
  {
   "cell_type": "code",
   "execution_count": 65,
   "id": "5bd0ef43",
   "metadata": {},
   "outputs": [
    {
     "data": {
      "text/plain": [
       "employee\n",
       "Шах (Soldado)        2022-11-16\n",
       "Рахман (Capitan)     2022-11-16\n",
       "Максим (Soldado)     2022-11-15\n",
       "Макс                 2022-11-14\n",
       "Аннет (Стажер)       2022-11-09\n",
       "Валерия              2022-11-07\n",
       "Мария                2022-10-29\n",
       "Павел (Capitan)      2022-09-23\n",
       "Алена                2022-09-11\n",
       "Елена (Capitan)      2022-09-03\n",
       "Макс (Capitan)       2022-06-12\n",
       "Евгения              2022-04-23\n",
       "Хамза (Soldado)      2022-04-19\n",
       "Давид  (Soldado)     2022-03-06\n",
       "Ирина                2022-03-02\n",
       "Иван(Soldado)        2022-02-02\n",
       "Кроки(Soldato)       2022-01-20\n",
       "Татьяна (Soldado)    2022-01-19\n",
       "Name: data_visit, dtype: object"
      ]
     },
     "execution_count": 65,
     "metadata": {},
     "output_type": "execute_result"
    }
   ],
   "source": [
    "visits.query('year == 2022').groupby('employee')['data_visit'].max().sort_values(ascending=False)"
   ]
  },
  {
   "cell_type": "markdown",
   "id": "e0da07b3",
   "metadata": {},
   "source": [
    "- Рахман видимо самый старый мастер в барбершопе\n",
    "- Судя по датам последних записей, работают сейчас: Шах (Soldado), Рахман (Capitan), Максим (Soldado), Макс, Аннет (Стажер) и Валерия"
   ]
  },
  {
   "cell_type": "markdown",
   "id": "c8c4d4ba",
   "metadata": {},
   "source": [
    "## Единоразовые клиенты"
   ]
  },
  {
   "cell_type": "markdown",
   "id": "f1e7e34c",
   "metadata": {},
   "source": [
    "### Клиенты, посетившие один раз"
   ]
  },
  {
   "cell_type": "markdown",
   "id": "9c3e779a",
   "metadata": {},
   "source": [
    "Так как в базе очень много клиентов, посетившие заведение единожды, рассмотрим их подробнее"
   ]
  },
  {
   "cell_type": "code",
   "execution_count": 66,
   "id": "fa34887e",
   "metadata": {},
   "outputs": [
    {
     "data": {
      "text/html": [
       "<div>\n",
       "<style scoped>\n",
       "    .dataframe tbody tr th:only-of-type {\n",
       "        vertical-align: middle;\n",
       "    }\n",
       "\n",
       "    .dataframe tbody tr th {\n",
       "        vertical-align: top;\n",
       "    }\n",
       "\n",
       "    .dataframe thead th {\n",
       "        text-align: right;\n",
       "    }\n",
       "</style>\n",
       "<table border=\"1\" class=\"dataframe\">\n",
       "  <thead>\n",
       "    <tr style=\"text-align: right;\">\n",
       "      <th></th>\n",
       "      <th>client</th>\n",
       "      <th>phone</th>\n",
       "      <th>cost</th>\n",
       "      <th>perc_cost</th>\n",
       "      <th>mean_visits</th>\n",
       "      <th>visits</th>\n",
       "      <th>first_visit</th>\n",
       "      <th>last_visit</th>\n",
       "      <th>delta</th>\n",
       "      <th>churn</th>\n",
       "    </tr>\n",
       "  </thead>\n",
       "  <tbody>\n",
       "    <tr>\n",
       "      <th>310</th>\n",
       "      <td>Юрий</td>\n",
       "      <td>+7 963 081-22-85</td>\n",
       "      <td>4960</td>\n",
       "      <td>0</td>\n",
       "      <td>4960</td>\n",
       "      <td>1</td>\n",
       "      <td>2022-06-06</td>\n",
       "      <td>2022-06-06</td>\n",
       "      <td>168</td>\n",
       "      <td>1</td>\n",
       "    </tr>\n",
       "    <tr>\n",
       "      <th>332</th>\n",
       "      <td>Роман</td>\n",
       "      <td>+7 915 457-81-19</td>\n",
       "      <td>4600</td>\n",
       "      <td>0</td>\n",
       "      <td>4600</td>\n",
       "      <td>1</td>\n",
       "      <td>2022-03-02</td>\n",
       "      <td>2022-03-02</td>\n",
       "      <td>264</td>\n",
       "      <td>1</td>\n",
       "    </tr>\n",
       "    <tr>\n",
       "      <th>347</th>\n",
       "      <td>Андрей</td>\n",
       "      <td>+7 999 982-61-87</td>\n",
       "      <td>4400</td>\n",
       "      <td>0</td>\n",
       "      <td>4400</td>\n",
       "      <td>1</td>\n",
       "      <td>2021-02-18</td>\n",
       "      <td>2021-02-18</td>\n",
       "      <td>641</td>\n",
       "      <td>1</td>\n",
       "    </tr>\n",
       "    <tr>\n",
       "      <th>350</th>\n",
       "      <td>Павел</td>\n",
       "      <td>+7 985 612-46-75</td>\n",
       "      <td>4320</td>\n",
       "      <td>0</td>\n",
       "      <td>4320</td>\n",
       "      <td>1</td>\n",
       "      <td>2022-07-01</td>\n",
       "      <td>2022-07-01</td>\n",
       "      <td>143</td>\n",
       "      <td>1</td>\n",
       "    </tr>\n",
       "    <tr>\n",
       "      <th>351</th>\n",
       "      <td>Дмитрий</td>\n",
       "      <td>+7 925 873-40-02</td>\n",
       "      <td>4250</td>\n",
       "      <td>0</td>\n",
       "      <td>4250</td>\n",
       "      <td>1</td>\n",
       "      <td>2022-03-07</td>\n",
       "      <td>2022-03-07</td>\n",
       "      <td>259</td>\n",
       "      <td>1</td>\n",
       "    </tr>\n",
       "  </tbody>\n",
       "</table>\n",
       "</div>"
      ],
      "text/plain": [
       "      client             phone  cost  perc_cost  mean_visits  visits  \\\n",
       "310     Юрий  +7 963 081-22-85  4960          0         4960       1   \n",
       "332    Роман  +7 915 457-81-19  4600          0         4600       1   \n",
       "347   Андрей  +7 999 982-61-87  4400          0         4400       1   \n",
       "350    Павел  +7 985 612-46-75  4320          0         4320       1   \n",
       "351  Дмитрий  +7 925 873-40-02  4250          0         4250       1   \n",
       "\n",
       "    first_visit last_visit  delta  churn  \n",
       "310  2022-06-06 2022-06-06    168      1  \n",
       "332  2022-03-02 2022-03-02    264      1  \n",
       "347  2021-02-18 2021-02-18    641      1  \n",
       "350  2022-07-01 2022-07-01    143      1  \n",
       "351  2022-03-07 2022-03-07    259      1  "
      ]
     },
     "execution_count": 66,
     "metadata": {},
     "output_type": "execute_result"
    }
   ],
   "source": [
    "one = users.query('visits == 1')\n",
    "one.head()"
   ]
  },
  {
   "cell_type": "code",
   "execution_count": 67,
   "id": "5005b467",
   "metadata": {},
   "outputs": [
    {
     "name": "stdout",
     "output_type": "stream",
     "text": [
      "Всего клиентов: 1294\n",
      "Всего единоразовых клиентов: 701 или 54.17 %\n"
     ]
    }
   ],
   "source": [
    "print('Всего клиентов:', users['phone'].count())\n",
    "print('Всего единоразовых клиентов:', one['phone'].count(), 'или', (one['phone'].count() * 100 / users['phone'].count()).round(2), '%')"
   ]
  },
  {
   "cell_type": "markdown",
   "id": "5ef6f7f4",
   "metadata": {},
   "source": [
    "- Половина клиентов пришли только один раз"
   ]
  },
  {
   "cell_type": "code",
   "execution_count": 68,
   "id": "bf48efff",
   "metadata": {},
   "outputs": [
    {
     "data": {
      "text/html": [
       "<div>\n",
       "<style scoped>\n",
       "    .dataframe tbody tr th:only-of-type {\n",
       "        vertical-align: middle;\n",
       "    }\n",
       "\n",
       "    .dataframe tbody tr th {\n",
       "        vertical-align: top;\n",
       "    }\n",
       "\n",
       "    .dataframe thead th {\n",
       "        text-align: right;\n",
       "    }\n",
       "</style>\n",
       "<table border=\"1\" class=\"dataframe\">\n",
       "  <thead>\n",
       "    <tr style=\"text-align: right;\">\n",
       "      <th></th>\n",
       "      <th>client</th>\n",
       "      <th>phone</th>\n",
       "      <th>cost</th>\n",
       "      <th>perc_cost</th>\n",
       "      <th>mean_visits</th>\n",
       "      <th>visits</th>\n",
       "      <th>first_visit</th>\n",
       "      <th>last_visit</th>\n",
       "      <th>delta</th>\n",
       "      <th>churn</th>\n",
       "      <th>first_month</th>\n",
       "      <th>first_year</th>\n",
       "    </tr>\n",
       "  </thead>\n",
       "  <tbody>\n",
       "    <tr>\n",
       "      <th>310</th>\n",
       "      <td>Юрий</td>\n",
       "      <td>+7 963 081-22-85</td>\n",
       "      <td>4960</td>\n",
       "      <td>0</td>\n",
       "      <td>4960</td>\n",
       "      <td>1</td>\n",
       "      <td>2022-06-06</td>\n",
       "      <td>2022-06-06</td>\n",
       "      <td>168</td>\n",
       "      <td>1</td>\n",
       "      <td>6</td>\n",
       "      <td>2022</td>\n",
       "    </tr>\n",
       "    <tr>\n",
       "      <th>332</th>\n",
       "      <td>Роман</td>\n",
       "      <td>+7 915 457-81-19</td>\n",
       "      <td>4600</td>\n",
       "      <td>0</td>\n",
       "      <td>4600</td>\n",
       "      <td>1</td>\n",
       "      <td>2022-03-02</td>\n",
       "      <td>2022-03-02</td>\n",
       "      <td>264</td>\n",
       "      <td>1</td>\n",
       "      <td>3</td>\n",
       "      <td>2022</td>\n",
       "    </tr>\n",
       "    <tr>\n",
       "      <th>347</th>\n",
       "      <td>Андрей</td>\n",
       "      <td>+7 999 982-61-87</td>\n",
       "      <td>4400</td>\n",
       "      <td>0</td>\n",
       "      <td>4400</td>\n",
       "      <td>1</td>\n",
       "      <td>2021-02-18</td>\n",
       "      <td>2021-02-18</td>\n",
       "      <td>641</td>\n",
       "      <td>1</td>\n",
       "      <td>2</td>\n",
       "      <td>2021</td>\n",
       "    </tr>\n",
       "    <tr>\n",
       "      <th>350</th>\n",
       "      <td>Павел</td>\n",
       "      <td>+7 985 612-46-75</td>\n",
       "      <td>4320</td>\n",
       "      <td>0</td>\n",
       "      <td>4320</td>\n",
       "      <td>1</td>\n",
       "      <td>2022-07-01</td>\n",
       "      <td>2022-07-01</td>\n",
       "      <td>143</td>\n",
       "      <td>1</td>\n",
       "      <td>7</td>\n",
       "      <td>2022</td>\n",
       "    </tr>\n",
       "    <tr>\n",
       "      <th>351</th>\n",
       "      <td>Дмитрий</td>\n",
       "      <td>+7 925 873-40-02</td>\n",
       "      <td>4250</td>\n",
       "      <td>0</td>\n",
       "      <td>4250</td>\n",
       "      <td>1</td>\n",
       "      <td>2022-03-07</td>\n",
       "      <td>2022-03-07</td>\n",
       "      <td>259</td>\n",
       "      <td>1</td>\n",
       "      <td>3</td>\n",
       "      <td>2022</td>\n",
       "    </tr>\n",
       "  </tbody>\n",
       "</table>\n",
       "</div>"
      ],
      "text/plain": [
       "      client             phone  cost  perc_cost  mean_visits  visits  \\\n",
       "310     Юрий  +7 963 081-22-85  4960          0         4960       1   \n",
       "332    Роман  +7 915 457-81-19  4600          0         4600       1   \n",
       "347   Андрей  +7 999 982-61-87  4400          0         4400       1   \n",
       "350    Павел  +7 985 612-46-75  4320          0         4320       1   \n",
       "351  Дмитрий  +7 925 873-40-02  4250          0         4250       1   \n",
       "\n",
       "    first_visit last_visit  delta  churn  first_month  first_year  \n",
       "310  2022-06-06 2022-06-06    168      1            6        2022  \n",
       "332  2022-03-02 2022-03-02    264      1            3        2022  \n",
       "347  2021-02-18 2021-02-18    641      1            2        2021  \n",
       "350  2022-07-01 2022-07-01    143      1            7        2022  \n",
       "351  2022-03-07 2022-03-07    259      1            3        2022  "
      ]
     },
     "execution_count": 68,
     "metadata": {},
     "output_type": "execute_result"
    }
   ],
   "source": [
    "one['first_month'] = one['first_visit'].dt.month\n",
    "one = one.dropna(subset=['first_month'])\n",
    "one['first_year'] = one['first_visit'].dt.year\n",
    "one['first_month'] = one['first_month'].astype(int)\n",
    "one['first_year'] = one['first_year'].astype(int)\n",
    "one.head()"
   ]
  },
  {
   "cell_type": "code",
   "execution_count": 69,
   "id": "b137c89b",
   "metadata": {},
   "outputs": [
    {
     "data": {
      "image/png": "[encoded data removed]",
      "text/plain": [
       "<Figure size 1080x360 with 1 Axes>"
      ]
     },
     "metadata": {
      "needs_background": "light"
     },
     "output_type": "display_data"
    }
   ],
   "source": [
    "one_test = one[['first_year', 'first_month', 'phone']]\n",
    "o21 = one_test.query('first_year == 2021')\n",
    "o22 = one_test.query('first_year == 2022')\n",
    "\n",
    "oo = pd.DataFrame({'2021' : o21['first_month'],\n",
    "                   '2022' : o22['first_month'],\n",
    "                   'month' : one_test['first_month']})\n",
    "oo = oo.groupby('month').count()\n",
    "oo.plot(kind='bar', figsize=(15,5), grid=True)\n",
    "plt.show()"
   ]
  },
  {
   "cell_type": "markdown",
   "id": "7cf197ca",
   "metadata": {},
   "source": [
    "- Хоть в 2022 одноразовых поменьше, но все же их много. \n",
    "- Если вспомнить количество новых клиентов, привлеченных по месяцам, то заметно, что большая часть из них не возвращаются."
   ]
  },
  {
   "cell_type": "code",
   "execution_count": 70,
   "id": "69462ace",
   "metadata": {},
   "outputs": [
    {
     "data": {
      "text/html": [
       "<div>\n",
       "<style scoped>\n",
       "    .dataframe tbody tr th:only-of-type {\n",
       "        vertical-align: middle;\n",
       "    }\n",
       "\n",
       "    .dataframe tbody tr th {\n",
       "        vertical-align: top;\n",
       "    }\n",
       "\n",
       "    .dataframe thead th {\n",
       "        text-align: right;\n",
       "    }\n",
       "</style>\n",
       "<table border=\"1\" class=\"dataframe\">\n",
       "  <thead>\n",
       "    <tr style=\"text-align: right;\">\n",
       "      <th></th>\n",
       "      <th>phone</th>\n",
       "      <th>date</th>\n",
       "      <th>review</th>\n",
       "    </tr>\n",
       "  </thead>\n",
       "  <tbody>\n",
       "    <tr>\n",
       "      <th>0</th>\n",
       "      <td>+7 926 354-45-09</td>\n",
       "      <td>2022-01-19 15:58:37</td>\n",
       "      <td>Добрый день, друзья! Сегодня у меня был первый визит в Pablo`s. Нашёл этот салон на просторах интернета. Порадовало то, что оправдались все положительные отзывы прочитанные ранее. Отдельное спасибо мастеру Рахману.</td>\n",
       "    </tr>\n",
       "    <tr>\n",
       "      <th>1</th>\n",
       "      <td>+7 905 450-51-55</td>\n",
       "      <td>2021-12-13 19:52:49</td>\n",
       "      <td>Всё чётко!!!</td>\n",
       "    </tr>\n",
       "    <tr>\n",
       "      <th>2</th>\n",
       "      <td>+7 911 046-64-96</td>\n",
       "      <td>2022-10-16 18:25:17</td>\n",
       "      <td>Все супер, теперь только к Вам!)</td>\n",
       "    </tr>\n",
       "    <tr>\n",
       "      <th>3</th>\n",
       "      <td>+7 925 849-99-27</td>\n",
       "      <td>2021-11-30 21:03:25</td>\n",
       "      <td>Спасибо огромное Татьяне \\nВсе огонь !\\nВсем бородачам рекомендую !!!</td>\n",
       "    </tr>\n",
       "    <tr>\n",
       "      <th>4</th>\n",
       "      <td>+7 903 670-13-18</td>\n",
       "      <td>2022-10-29 16:09:35</td>\n",
       "      <td>только оценка</td>\n",
       "    </tr>\n",
       "    <tr>\n",
       "      <th>5</th>\n",
       "      <td>+7 916 390-01-90</td>\n",
       "      <td>2022-11-09 21:04:55</td>\n",
       "      <td>Был первый раз. Все понравилось.</td>\n",
       "    </tr>\n",
       "    <tr>\n",
       "      <th>6</th>\n",
       "      <td>+7 977 490-60-09</td>\n",
       "      <td>2022-09-30 22:01:04</td>\n",
       "      <td>Знает свое дело. Рекомендую</td>\n",
       "    </tr>\n",
       "    <tr>\n",
       "      <th>7</th>\n",
       "      <td>+7 966 154-20-00</td>\n",
       "      <td>2022-05-07 22:17:44</td>\n",
       "      <td>Человек знает свою работу, Спасибо!всё идеально как я и хотел.</td>\n",
       "    </tr>\n",
       "    <tr>\n",
       "      <th>8</th>\n",
       "      <td>+7 999 999-26-08</td>\n",
       "      <td>2022-06-01 14:05:18</td>\n",
       "      <td>только оценка</td>\n",
       "    </tr>\n",
       "    <tr>\n",
       "      <th>9</th>\n",
       "      <td>+7 910 737-23-15</td>\n",
       "      <td>2022-10-22 19:42:13</td>\n",
       "      <td>Был первый раз в барбершопе! \\nРаботаю мастера доволен на все 100%, скидку сделали 20% как новому клиенту. Меня стриг Максим.</td>\n",
       "    </tr>\n",
       "    <tr>\n",
       "      <th>10</th>\n",
       "      <td>+7 931 252-67-00</td>\n",
       "      <td>2022-10-28 19:37:40</td>\n",
       "      <td>Все супер. Молодец пацан, дал дельные советы</td>\n",
       "    </tr>\n",
       "    <tr>\n",
       "      <th>11</th>\n",
       "      <td>+7 925 057-13-44</td>\n",
       "      <td>2022-10-23 12:21:37</td>\n",
       "      <td>Постриг, не плохо!\\nНо мы ходили к нему, как к крутому специалисту… но стрижка была обычной(</td>\n",
       "    </tr>\n",
       "    <tr>\n",
       "      <th>12</th>\n",
       "      <td>+7 977 394-02-41</td>\n",
       "      <td>2022-03-04 16:11:07</td>\n",
       "      <td>Мастер высочайшего уровня. Все легко и профессионально.</td>\n",
       "    </tr>\n",
       "  </tbody>\n",
       "</table>\n",
       "</div>"
      ],
      "text/plain": [
       "               phone                 date  \\\n",
       "0   +7 926 354-45-09  2022-01-19 15:58:37   \n",
       "1   +7 905 450-51-55  2021-12-13 19:52:49   \n",
       "2   +7 911 046-64-96  2022-10-16 18:25:17   \n",
       "3   +7 925 849-99-27  2021-11-30 21:03:25   \n",
       "4   +7 903 670-13-18  2022-10-29 16:09:35   \n",
       "5   +7 916 390-01-90  2022-11-09 21:04:55   \n",
       "6   +7 977 490-60-09  2022-09-30 22:01:04   \n",
       "7   +7 966 154-20-00  2022-05-07 22:17:44   \n",
       "8   +7 999 999-26-08  2022-06-01 14:05:18   \n",
       "9   +7 910 737-23-15  2022-10-22 19:42:13   \n",
       "10  +7 931 252-67-00  2022-10-28 19:37:40   \n",
       "11  +7 925 057-13-44  2022-10-23 12:21:37   \n",
       "12  +7 977 394-02-41  2022-03-04 16:11:07   \n",
       "\n",
       "                                                                                                                                                                                                                    review  \n",
       "0   Добрый день, друзья! Сегодня у меня был первый визит в Pablo`s. Нашёл этот салон на просторах интернета. Порадовало то, что оправдались все положительные отзывы прочитанные ранее. Отдельное спасибо мастеру Рахману.  \n",
       "1   Всё чётко!!!                                                                                                                                                                                                            \n",
       "2   Все супер, теперь только к Вам!)                                                                                                                                                                                        \n",
       "3   Спасибо огромное Татьяне \\nВсе огонь !\\nВсем бородачам рекомендую !!!                                                                                                                                                   \n",
       "4   только оценка                                                                                                                                                                                                           \n",
       "5   Был первый раз. Все понравилось.                                                                                                                                                                                        \n",
       "6   Знает свое дело. Рекомендую                                                                                                                                                                                             \n",
       "7   Человек знает свою работу, Спасибо!всё идеально как я и хотел.                                                                                                                                                          \n",
       "8   только оценка                                                                                                                                                                                                           \n",
       "9   Был первый раз в барбершопе! \\nРаботаю мастера доволен на все 100%, скидку сделали 20% как новому клиенту. Меня стриг Максим.                                                                                           \n",
       "10  Все супер. Молодец пацан, дал дельные советы                                                                                                                                                                            \n",
       "11  Постриг, не плохо!\\nНо мы ходили к нему, как к крутому специалисту… но стрижка была обычной(                                                                                                                            \n",
       "12  Мастер высочайшего уровня. Все легко и профессионально.                                                                                                                                                                 "
      ]
     },
     "execution_count": 70,
     "metadata": {},
     "output_type": "execute_result"
    }
   ],
   "source": [
    "one_rev = one.merge(rev, on='phone')\n",
    "one_rev = one_rev[['phone', 'date', 'review']]\n",
    "pd.options.display.max_colwidth = 3\n",
    "one_rev"
   ]
  },
  {
   "cell_type": "markdown",
   "id": "c8fc9206",
   "metadata": {},
   "source": [
    "- Все отызвы положительные, но при этом, клиенты не возвращаются. Либо это первое впечатление и оно оказалось обманчивым, либо клиент случайно попал и не может ездить в этот район, либо иная причина"
   ]
  },
  {
   "cell_type": "markdown",
   "id": "de219231",
   "metadata": {},
   "source": [
    "### Визиты одноразовых клиентов"
   ]
  },
  {
   "cell_type": "code",
   "execution_count": 71,
   "id": "a73745e9",
   "metadata": {},
   "outputs": [
    {
     "data": {
      "text/html": [
       "<div>\n",
       "<style scoped>\n",
       "    .dataframe tbody tr th:only-of-type {\n",
       "        vertical-align: middle;\n",
       "    }\n",
       "\n",
       "    .dataframe tbody tr th {\n",
       "        vertical-align: top;\n",
       "    }\n",
       "\n",
       "    .dataframe thead th {\n",
       "        text-align: right;\n",
       "    }\n",
       "</style>\n",
       "<table border=\"1\" class=\"dataframe\">\n",
       "  <thead>\n",
       "    <tr style=\"text-align: right;\">\n",
       "      <th></th>\n",
       "      <th>index</th>\n",
       "      <th>phone</th>\n",
       "      <th>client</th>\n",
       "      <th>email</th>\n",
       "      <th>date</th>\n",
       "      <th>employee</th>\n",
       "      <th>order</th>\n",
       "      <th>price</th>\n",
       "      <th>sale</th>\n",
       "      <th>status_visits</th>\n",
       "      <th>data_visit</th>\n",
       "      <th>time_visit</th>\n",
       "      <th>month_visit</th>\n",
       "      <th>year</th>\n",
       "    </tr>\n",
       "  </thead>\n",
       "  <tbody>\n",
       "    <tr>\n",
       "      <th>0</th>\n",
       "      <td>310</td>\n",
       "      <td>+7 963 081-22-85</td>\n",
       "      <td>Юрий</td>\n",
       "      <td>-</td>\n",
       "      <td>2022-06-06 17:00:00</td>\n",
       "      <td>Рахман (Capitan)</td>\n",
       "      <td>тонировка бороды</td>\n",
       "      <td>800.0</td>\n",
       "      <td>20.0</td>\n",
       "      <td>Клиент пришёл</td>\n",
       "      <td>2022-06-06</td>\n",
       "      <td>17:00:00</td>\n",
       "      <td>6</td>\n",
       "      <td>2022</td>\n",
       "    </tr>\n",
       "    <tr>\n",
       "      <th>1</th>\n",
       "      <td>310</td>\n",
       "      <td>+7 963 081-22-85</td>\n",
       "      <td>Юрий</td>\n",
       "      <td>-</td>\n",
       "      <td>2022-06-06 15:45:00</td>\n",
       "      <td>Рахман (Capitan)</td>\n",
       "      <td>тонировка бороды</td>\n",
       "      <td>800.0</td>\n",
       "      <td>20.0</td>\n",
       "      <td>Клиент пришёл</td>\n",
       "      <td>2022-06-06</td>\n",
       "      <td>15:45:00</td>\n",
       "      <td>6</td>\n",
       "      <td>2022</td>\n",
       "    </tr>\n",
       "    <tr>\n",
       "      <th>2</th>\n",
       "      <td>332</td>\n",
       "      <td>+7 915 457-81-19</td>\n",
       "      <td>Роман</td>\n",
       "      <td>-</td>\n",
       "      <td>2022-03-02 19:00:00</td>\n",
       "      <td>Рахман (Capitan)</td>\n",
       "      <td>стрижка</td>\n",
       "      <td>1300.0</td>\n",
       "      <td>0.0</td>\n",
       "      <td>Клиент пришёл</td>\n",
       "      <td>2022-03-02</td>\n",
       "      <td>19:00:00</td>\n",
       "      <td>3</td>\n",
       "      <td>2022</td>\n",
       "    </tr>\n",
       "    <tr>\n",
       "      <th>3</th>\n",
       "      <td>347</td>\n",
       "      <td>+7 999 982-61-87</td>\n",
       "      <td>Андрей</td>\n",
       "      <td>-</td>\n",
       "      <td>2021-02-18 13:30:00</td>\n",
       "      <td>Роберт*</td>\n",
       "      <td>стрижка + моделирование бороды</td>\n",
       "      <td>2000.0</td>\n",
       "      <td>0.0</td>\n",
       "      <td>Клиент пришёл</td>\n",
       "      <td>2021-02-18</td>\n",
       "      <td>13:30:00</td>\n",
       "      <td>2</td>\n",
       "      <td>2021</td>\n",
       "    </tr>\n",
       "    <tr>\n",
       "      <th>4</th>\n",
       "      <td>350</td>\n",
       "      <td>+7 985 612-46-75</td>\n",
       "      <td>Павел</td>\n",
       "      <td>-</td>\n",
       "      <td>2022-07-01 20:45:00</td>\n",
       "      <td>Рахман (Capitan)</td>\n",
       "      <td>воск (все зоны)</td>\n",
       "      <td>400.0</td>\n",
       "      <td>20.0</td>\n",
       "      <td>Клиент пришёл</td>\n",
       "      <td>2022-07-01</td>\n",
       "      <td>20:45:00</td>\n",
       "      <td>7</td>\n",
       "      <td>2022</td>\n",
       "    </tr>\n",
       "  </tbody>\n",
       "</table>\n",
       "</div>"
      ],
      "text/plain": [
       "   index             phone  client email                date  \\\n",
       "0  310    +7 963 081-22-85  Юрий     -   2022-06-06 17:00:00   \n",
       "1  310    +7 963 081-22-85  Юрий     -   2022-06-06 15:45:00   \n",
       "2  332    +7 915 457-81-19  Роман    -   2022-03-02 19:00:00   \n",
       "3  347    +7 999 982-61-87  Андрей   -   2021-02-18 13:30:00   \n",
       "4  350    +7 985 612-46-75  Павел    -   2022-07-01 20:45:00   \n",
       "\n",
       "           employee                           order   price  sale  \\\n",
       "0  Рахман (Capitan)  тонировка бороды                800.0   20.0   \n",
       "1  Рахман (Capitan)  тонировка бороды                800.0   20.0   \n",
       "2  Рахман (Capitan)  стрижка                         1300.0  0.0    \n",
       "3  Роберт*           стрижка + моделирование бороды  2000.0  0.0    \n",
       "4  Рахман (Capitan)  воск (все зоны)                 400.0   20.0   \n",
       "\n",
       "   status_visits  data_visit time_visit  month_visit  year  \n",
       "0  Клиент пришёл  2022-06-06  17:00:00    6           2022  \n",
       "1  Клиент пришёл  2022-06-06  15:45:00    6           2022  \n",
       "2  Клиент пришёл  2022-03-02  19:00:00    3           2022  \n",
       "3  Клиент пришёл  2021-02-18  13:30:00    2           2021  \n",
       "4  Клиент пришёл  2022-07-01  20:45:00    7           2022  "
      ]
     },
     "execution_count": 71,
     "metadata": {},
     "output_type": "execute_result"
    }
   ],
   "source": [
    "one_phone = one['phone'].reset_index()\n",
    "one_visits = one_phone.merge(visits, on='phone')\n",
    "one_visits.head()"
   ]
  },
  {
   "cell_type": "code",
   "execution_count": 72,
   "id": "677d4c42",
   "metadata": {},
   "outputs": [
    {
     "data": {
      "text/plain": [
       "стрижка                               420\n",
       "стрижка + моделирование бороды        94 \n",
       "моделирование бороды                  43 \n",
       "детская стрижка (с 5 до 12 лет)       40 \n",
       "стрижка бороды (машинкой)             20 \n",
       "стрижка головы (машинкой)             17 \n",
       "традиционное бритье                   11 \n",
       "стрижка головы машинкой 2 насадки     10 \n",
       "воск                                   9 \n",
       "премиум стрижка                        4 \n",
       "отец + сын                             4 \n",
       "премиум мытье головы                   3 \n",
       "воск (все зоны)                        3 \n",
       "тонировка бороды                       3 \n",
       "камуфляж седины                        2 \n",
       "мытье головы + окантовка + укладка     2 \n",
       "мытье головы + укладка                 2 \n",
       "премиум моделирование                  1 \n",
       "черная маска                           1 \n",
       "Name: order, dtype: int64"
      ]
     },
     "execution_count": 72,
     "metadata": {},
     "output_type": "execute_result"
    }
   ],
   "source": [
    "one_visits['order'].value_counts()"
   ]
  },
  {
   "cell_type": "markdown",
   "id": "75b67816",
   "metadata": {},
   "source": [
    "- Большинство клиентов выбирают на первый и единственный визит стрижку. Это понятно, самая популярная услуга. Стоит сделать на ней акцент и повысить качество работ, чтобы исключить этот факт влияния на отток"
   ]
  },
  {
   "cell_type": "code",
   "execution_count": 73,
   "id": "577ee02e",
   "metadata": {},
   "outputs": [
    {
     "data": {
      "text/plain": [
       "Клиент пришёл        665\n",
       "Клиент не пришёл     26 \n",
       "Клиент подтвердил     1 \n",
       "Name: status_visits, dtype: int64"
      ]
     },
     "execution_count": 73,
     "metadata": {},
     "output_type": "execute_result"
    }
   ],
   "source": [
    "one_visits['status_visits'].value_counts()"
   ]
  },
  {
   "cell_type": "markdown",
   "id": "93354504",
   "metadata": {},
   "source": [
    "- Если новенький клиент не приходит, и не возвращается, стоит ему напомнить о визите"
   ]
  },
  {
   "cell_type": "markdown",
   "id": "897d297c",
   "metadata": {},
   "source": [
    "### Отток среди единоразовых"
   ]
  },
  {
   "cell_type": "code",
   "execution_count": 74,
   "id": "d2c4504f",
   "metadata": {},
   "outputs": [
    {
     "data": {
      "image/png": "[encoded data removed]",
      "text/plain": [
       "<Figure size 360x360 with 1 Axes>"
      ]
     },
     "metadata": {},
     "output_type": "display_data"
    }
   ],
   "source": [
    "plt.rcParams['figure.figsize'] = [5, 5]\n",
    "one.groupby('churn')['phone'].count().plot(y='phone', kind='pie', autopct='%1.1f%%')\n",
    "plt.show()"
   ]
  },
  {
   "cell_type": "markdown",
   "id": "70320784",
   "metadata": {},
   "source": [
    "- 86% клиентов попали в отток уже после одного визита"
   ]
  },
  {
   "cell_type": "markdown",
   "id": "d1852a35",
   "metadata": {},
   "source": [
    "## Сегментация клиентов"
   ]
  },
  {
   "cell_type": "markdown",
   "id": "ffc258d6",
   "metadata": {},
   "source": [
    "**Предлагаю разделить наших клиентов на 4 группы по кол-ву визитов**"
   ]
  },
  {
   "cell_type": "code",
   "execution_count": 75,
   "id": "8f9302bb",
   "metadata": {},
   "outputs": [
    {
     "data": {
      "text/plain": [
       "1     701\n",
       "2     192\n",
       "3     96 \n",
       "4     66 \n",
       "5     40 \n",
       "6     32 \n",
       "7     25 \n",
       "8     25 \n",
       "9     24 \n",
       "10    22 \n",
       "0     13 \n",
       "11    11 \n",
       "12     9 \n",
       "13     7 \n",
       "16     5 \n",
       "15     4 \n",
       "14     3 \n",
       "17     3 \n",
       "18     3 \n",
       "21     2 \n",
       "19     2 \n",
       "20     2 \n",
       "32     1 \n",
       "30     1 \n",
       "40     1 \n",
       "25     1 \n",
       "26     1 \n",
       "33     1 \n",
       "42     1 \n",
       "Name: visits, dtype: int64"
      ]
     },
     "execution_count": 75,
     "metadata": {},
     "output_type": "execute_result"
    }
   ],
   "source": [
    "users['visits'].value_counts()"
   ]
  },
  {
   "cell_type": "code",
   "execution_count": 76,
   "id": "4efc7c8c",
   "metadata": {},
   "outputs": [
    {
     "data": {
      "text/html": [
       "<div>\n",
       "<style scoped>\n",
       "    .dataframe tbody tr th:only-of-type {\n",
       "        vertical-align: middle;\n",
       "    }\n",
       "\n",
       "    .dataframe tbody tr th {\n",
       "        vertical-align: top;\n",
       "    }\n",
       "\n",
       "    .dataframe thead th {\n",
       "        text-align: right;\n",
       "    }\n",
       "</style>\n",
       "<table border=\"1\" class=\"dataframe\">\n",
       "  <thead>\n",
       "    <tr style=\"text-align: right;\">\n",
       "      <th></th>\n",
       "      <th>client</th>\n",
       "      <th>phone</th>\n",
       "      <th>cost</th>\n",
       "      <th>perc_cost</th>\n",
       "      <th>mean_visits</th>\n",
       "      <th>visits</th>\n",
       "      <th>first_visit</th>\n",
       "      <th>last_visit</th>\n",
       "      <th>delta</th>\n",
       "      <th>churn</th>\n",
       "      <th>segment</th>\n",
       "    </tr>\n",
       "  </thead>\n",
       "  <tbody>\n",
       "    <tr>\n",
       "      <th>0</th>\n",
       "      <td>Игорь</td>\n",
       "      <td>+7 977 504-63-14</td>\n",
       "      <td>62346</td>\n",
       "      <td>1</td>\n",
       "      <td>1484</td>\n",
       "      <td>42</td>\n",
       "      <td>2021-03-01</td>\n",
       "      <td>2022-11-01</td>\n",
       "      <td>20</td>\n",
       "      <td>0</td>\n",
       "      <td>4</td>\n",
       "    </tr>\n",
       "    <tr>\n",
       "      <th>1</th>\n",
       "      <td>Сергей Александрович</td>\n",
       "      <td>+7 985 994-22-27</td>\n",
       "      <td>53940</td>\n",
       "      <td>0</td>\n",
       "      <td>3371</td>\n",
       "      <td>16</td>\n",
       "      <td>2021-04-01</td>\n",
       "      <td>2022-09-15</td>\n",
       "      <td>67</td>\n",
       "      <td>0</td>\n",
       "      <td>4</td>\n",
       "    </tr>\n",
       "    <tr>\n",
       "      <th>2</th>\n",
       "      <td>Сергей</td>\n",
       "      <td>+7 925 492-82-47</td>\n",
       "      <td>53450</td>\n",
       "      <td>0</td>\n",
       "      <td>1619</td>\n",
       "      <td>33</td>\n",
       "      <td>2021-03-04</td>\n",
       "      <td>2022-09-12</td>\n",
       "      <td>70</td>\n",
       "      <td>0</td>\n",
       "      <td>4</td>\n",
       "    </tr>\n",
       "    <tr>\n",
       "      <th>3</th>\n",
       "      <td>Николай</td>\n",
       "      <td>+7 925 443-97-65</td>\n",
       "      <td>44689</td>\n",
       "      <td>0</td>\n",
       "      <td>1718</td>\n",
       "      <td>26</td>\n",
       "      <td>2021-03-13</td>\n",
       "      <td>2022-11-05</td>\n",
       "      <td>16</td>\n",
       "      <td>0</td>\n",
       "      <td>4</td>\n",
       "    </tr>\n",
       "    <tr>\n",
       "      <th>4</th>\n",
       "      <td>Армен</td>\n",
       "      <td>+7 930 333-30-00</td>\n",
       "      <td>44450</td>\n",
       "      <td>0</td>\n",
       "      <td>1778</td>\n",
       "      <td>25</td>\n",
       "      <td>2021-09-29</td>\n",
       "      <td>2022-11-09</td>\n",
       "      <td>12</td>\n",
       "      <td>0</td>\n",
       "      <td>4</td>\n",
       "    </tr>\n",
       "  </tbody>\n",
       "</table>\n",
       "</div>"
      ],
      "text/plain": [
       "                 client             phone   cost  perc_cost  mean_visits  \\\n",
       "0  Игорь                 +7 977 504-63-14  62346   1         1484          \n",
       "1  Сергей Александрович  +7 985 994-22-27  53940   0         3371          \n",
       "2  Сергей                +7 925 492-82-47  53450   0         1619          \n",
       "3  Николай               +7 925 443-97-65  44689   0         1718          \n",
       "4  Армен                 +7 930 333-30-00  44450   0         1778          \n",
       "\n",
       "   visits first_visit last_visit  delta  churn  segment  \n",
       "0  42     2021-03-01  2022-11-01  20      0      4       \n",
       "1  16     2021-04-01  2022-09-15  67      0      4       \n",
       "2  33     2021-03-04  2022-09-12  70      0      4       \n",
       "3  26     2021-03-13  2022-11-05  16      0      4       \n",
       "4  25     2021-09-29  2022-11-09  12      0      4       "
      ]
     },
     "execution_count": 76,
     "metadata": {},
     "output_type": "execute_result"
    }
   ],
   "source": [
    "def vis(v):\n",
    "    if 0 <= v <= 2:\n",
    "        return 1\n",
    "    elif 3 <= v <= 5:\n",
    "        return 2\n",
    "    elif 5 <= v <= 10:\n",
    "        return 3\n",
    "    else:\n",
    "        return 4\n",
    "    \n",
    "users['segment'] = users['visits'].apply(vis)\n",
    "users.head()"
   ]
  },
  {
   "cell_type": "code",
   "execution_count": 77,
   "id": "c244515c",
   "metadata": {},
   "outputs": [
    {
     "data": {
      "text/html": [
       "<div>\n",
       "<style scoped>\n",
       "    .dataframe tbody tr th:only-of-type {\n",
       "        vertical-align: middle;\n",
       "    }\n",
       "\n",
       "    .dataframe tbody tr th {\n",
       "        vertical-align: top;\n",
       "    }\n",
       "\n",
       "    .dataframe thead th {\n",
       "        text-align: right;\n",
       "    }\n",
       "</style>\n",
       "<table border=\"1\" class=\"dataframe\">\n",
       "  <thead>\n",
       "    <tr style=\"text-align: right;\">\n",
       "      <th></th>\n",
       "      <th>phone</th>\n",
       "      <th>segment</th>\n",
       "      <th>client</th>\n",
       "      <th>email</th>\n",
       "      <th>date</th>\n",
       "      <th>employee</th>\n",
       "      <th>order</th>\n",
       "      <th>price</th>\n",
       "      <th>sale</th>\n",
       "      <th>status_visits</th>\n",
       "      <th>data_visit</th>\n",
       "      <th>time_visit</th>\n",
       "      <th>month_visit</th>\n",
       "      <th>year</th>\n",
       "    </tr>\n",
       "  </thead>\n",
       "  <tbody>\n",
       "    <tr>\n",
       "      <th>0</th>\n",
       "      <td>+7 977 504-63-14</td>\n",
       "      <td>4</td>\n",
       "      <td>Игорь</td>\n",
       "      <td>-</td>\n",
       "      <td>2022-11-01 10:00:00</td>\n",
       "      <td>Рахман (Capitan)</td>\n",
       "      <td>стрижка</td>\n",
       "      <td>1600.0</td>\n",
       "      <td>0.0</td>\n",
       "      <td>Клиент пришёл</td>\n",
       "      <td>2022-11-01</td>\n",
       "      <td>10:00:00</td>\n",
       "      <td>11</td>\n",
       "      <td>2022</td>\n",
       "    </tr>\n",
       "    <tr>\n",
       "      <th>1</th>\n",
       "      <td>+7 977 504-63-14</td>\n",
       "      <td>4</td>\n",
       "      <td>Игорь</td>\n",
       "      <td>-</td>\n",
       "      <td>2022-10-19 18:30:00</td>\n",
       "      <td>Максим (Soldado)</td>\n",
       "      <td>стрижка</td>\n",
       "      <td>1300.0</td>\n",
       "      <td>0.0</td>\n",
       "      <td>Клиент пришёл</td>\n",
       "      <td>2022-10-19</td>\n",
       "      <td>18:30:00</td>\n",
       "      <td>10</td>\n",
       "      <td>2022</td>\n",
       "    </tr>\n",
       "    <tr>\n",
       "      <th>2</th>\n",
       "      <td>+7 977 504-63-14</td>\n",
       "      <td>4</td>\n",
       "      <td>Игорь</td>\n",
       "      <td>-</td>\n",
       "      <td>2022-09-28 18:30:00</td>\n",
       "      <td>Рахман (Capitan)</td>\n",
       "      <td>стрижка</td>\n",
       "      <td>1600.0</td>\n",
       "      <td>0.0</td>\n",
       "      <td>Клиент пришёл</td>\n",
       "      <td>2022-09-28</td>\n",
       "      <td>18:30:00</td>\n",
       "      <td>9</td>\n",
       "      <td>2022</td>\n",
       "    </tr>\n",
       "    <tr>\n",
       "      <th>3</th>\n",
       "      <td>+7 977 504-63-14</td>\n",
       "      <td>4</td>\n",
       "      <td>Игорь</td>\n",
       "      <td>-</td>\n",
       "      <td>2022-09-11 14:30:00</td>\n",
       "      <td>Рахман (Capitan)</td>\n",
       "      <td>стрижка</td>\n",
       "      <td>1600.0</td>\n",
       "      <td>0.0</td>\n",
       "      <td>Клиент пришёл</td>\n",
       "      <td>2022-09-11</td>\n",
       "      <td>14:30:00</td>\n",
       "      <td>9</td>\n",
       "      <td>2022</td>\n",
       "    </tr>\n",
       "    <tr>\n",
       "      <th>4</th>\n",
       "      <td>+7 977 504-63-14</td>\n",
       "      <td>4</td>\n",
       "      <td>Игорь</td>\n",
       "      <td>-</td>\n",
       "      <td>2022-09-11 14:30:00</td>\n",
       "      <td>Максим (Soldado)</td>\n",
       "      <td>стрижка</td>\n",
       "      <td>1300.0</td>\n",
       "      <td>0.0</td>\n",
       "      <td>Клиент пришёл</td>\n",
       "      <td>2022-09-11</td>\n",
       "      <td>14:30:00</td>\n",
       "      <td>9</td>\n",
       "      <td>2022</td>\n",
       "    </tr>\n",
       "    <tr>\n",
       "      <th>...</th>\n",
       "      <td>...</td>\n",
       "      <td>...</td>\n",
       "      <td>...</td>\n",
       "      <td>...</td>\n",
       "      <td>...</td>\n",
       "      <td>...</td>\n",
       "      <td>...</td>\n",
       "      <td>...</td>\n",
       "      <td>...</td>\n",
       "      <td>...</td>\n",
       "      <td>...</td>\n",
       "      <td>...</td>\n",
       "      <td>...</td>\n",
       "      <td>...</td>\n",
       "    </tr>\n",
       "    <tr>\n",
       "      <th>3944</th>\n",
       "      <td>+7 977 394-02-41</td>\n",
       "      <td>1</td>\n",
       "      <td>Юрген</td>\n",
       "      <td>-</td>\n",
       "      <td>2022-03-04 14:45:00</td>\n",
       "      <td>Макс (Capitan)</td>\n",
       "      <td>воск (все зоны)</td>\n",
       "      <td>300.0</td>\n",
       "      <td>0.0</td>\n",
       "      <td>Клиент пришёл</td>\n",
       "      <td>2022-03-04</td>\n",
       "      <td>14:45:00</td>\n",
       "      <td>3</td>\n",
       "      <td>2022</td>\n",
       "    </tr>\n",
       "    <tr>\n",
       "      <th>3945</th>\n",
       "      <td>+7 977 444-96-67</td>\n",
       "      <td>1</td>\n",
       "      <td>Настя</td>\n",
       "      <td>-</td>\n",
       "      <td>2022-06-08 13:45:00</td>\n",
       "      <td>Валерия</td>\n",
       "      <td>NaN</td>\n",
       "      <td>0.0</td>\n",
       "      <td>0.0</td>\n",
       "      <td>Клиент не пришёл</td>\n",
       "      <td>2022-06-08</td>\n",
       "      <td>13:45:00</td>\n",
       "      <td>6</td>\n",
       "      <td>2022</td>\n",
       "    </tr>\n",
       "    <tr>\n",
       "      <th>3946</th>\n",
       "      <td>+7 977 444-96-67</td>\n",
       "      <td>1</td>\n",
       "      <td>Настя</td>\n",
       "      <td>-</td>\n",
       "      <td>2021-11-27 15:00:00</td>\n",
       "      <td>Татьяна (Soldado)</td>\n",
       "      <td>воск (все зоны)</td>\n",
       "      <td>300.0</td>\n",
       "      <td>100.0</td>\n",
       "      <td>Клиент пришёл</td>\n",
       "      <td>2021-11-27</td>\n",
       "      <td>15:00:00</td>\n",
       "      <td>11</td>\n",
       "      <td>2021</td>\n",
       "    </tr>\n",
       "    <tr>\n",
       "      <th>3947</th>\n",
       "      <td>+7 977 444-96-67</td>\n",
       "      <td>1</td>\n",
       "      <td>Настя</td>\n",
       "      <td>-</td>\n",
       "      <td>2021-11-26 14:30:00</td>\n",
       "      <td>Хамза (Soldado)</td>\n",
       "      <td>воск (все зоны)</td>\n",
       "      <td>300.0</td>\n",
       "      <td>100.0</td>\n",
       "      <td>Клиент пришёл</td>\n",
       "      <td>2021-11-26</td>\n",
       "      <td>14:30:00</td>\n",
       "      <td>11</td>\n",
       "      <td>2021</td>\n",
       "    </tr>\n",
       "    <tr>\n",
       "      <th>3948</th>\n",
       "      <td>+7 977 444-96-67</td>\n",
       "      <td>1</td>\n",
       "      <td>Настя</td>\n",
       "      <td>-</td>\n",
       "      <td>2021-11-20 17:00:00</td>\n",
       "      <td>Ирина</td>\n",
       "      <td>воск</td>\n",
       "      <td>300.0</td>\n",
       "      <td>0.0</td>\n",
       "      <td>Клиент не пришёл</td>\n",
       "      <td>2021-11-20</td>\n",
       "      <td>17:00:00</td>\n",
       "      <td>11</td>\n",
       "      <td>2021</td>\n",
       "    </tr>\n",
       "  </tbody>\n",
       "</table>\n",
       "<p>3949 rows × 14 columns</p>\n",
       "</div>"
      ],
      "text/plain": [
       "                 phone  segment client email                date  \\\n",
       "0     +7 977 504-63-14   4       Игорь   -   2022-11-01 10:00:00   \n",
       "1     +7 977 504-63-14   4       Игорь   -   2022-10-19 18:30:00   \n",
       "2     +7 977 504-63-14   4       Игорь   -   2022-09-28 18:30:00   \n",
       "3     +7 977 504-63-14   4       Игорь   -   2022-09-11 14:30:00   \n",
       "4     +7 977 504-63-14   4       Игорь   -   2022-09-11 14:30:00   \n",
       "...                ...  ..         ...  ..                   ...   \n",
       "3944  +7 977 394-02-41   1       Юрген   -   2022-03-04 14:45:00   \n",
       "3945  +7 977 444-96-67   1       Настя   -   2022-06-08 13:45:00   \n",
       "3946  +7 977 444-96-67   1       Настя   -   2021-11-27 15:00:00   \n",
       "3947  +7 977 444-96-67   1       Настя   -   2021-11-26 14:30:00   \n",
       "3948  +7 977 444-96-67   1       Настя   -   2021-11-20 17:00:00   \n",
       "\n",
       "               employee            order   price   sale     status_visits  \\\n",
       "0     Рахман (Capitan)   стрижка          1600.0  0.0    Клиент пришёл      \n",
       "1     Максим (Soldado)   стрижка          1300.0  0.0    Клиент пришёл      \n",
       "2     Рахман (Capitan)   стрижка          1600.0  0.0    Клиент пришёл      \n",
       "3     Рахман (Capitan)   стрижка          1600.0  0.0    Клиент пришёл      \n",
       "4     Максим (Soldado)   стрижка          1300.0  0.0    Клиент пришёл      \n",
       "...                ...       ...             ...  ...              ...      \n",
       "3944  Макс (Capitan)     воск (все зоны)  300.0   0.0    Клиент пришёл      \n",
       "3945  Валерия            NaN              0.0     0.0    Клиент не пришёл   \n",
       "3946  Татьяна (Soldado)  воск (все зоны)  300.0   100.0  Клиент пришёл      \n",
       "3947  Хамза (Soldado)    воск (все зоны)  300.0   100.0  Клиент пришёл      \n",
       "3948  Ирина              воск             300.0   0.0    Клиент не пришёл   \n",
       "\n",
       "      data_visit time_visit  month_visit  year  \n",
       "0     2022-11-01  10:00:00   11           2022  \n",
       "1     2022-10-19  18:30:00   10           2022  \n",
       "2     2022-09-28  18:30:00    9           2022  \n",
       "3     2022-09-11  14:30:00    9           2022  \n",
       "4     2022-09-11  14:30:00    9           2022  \n",
       "...          ...       ...   ..            ...  \n",
       "3944  2022-03-04  14:45:00    3           2022  \n",
       "3945  2022-06-08  13:45:00    6           2022  \n",
       "3946  2021-11-27  15:00:00   11           2021  \n",
       "3947  2021-11-26  14:30:00   11           2021  \n",
       "3948  2021-11-20  17:00:00   11           2021  \n",
       "\n",
       "[3949 rows x 14 columns]"
      ]
     },
     "execution_count": 77,
     "metadata": {},
     "output_type": "execute_result"
    }
   ],
   "source": [
    "all_vis = users[['phone', 'segment']]\n",
    "all_vis = all_vis.merge(visits, on = 'phone')\n",
    "all_vis"
   ]
  },
  {
   "cell_type": "markdown",
   "id": "25f7c441",
   "metadata": {},
   "source": [
    "### Средние значения в группах"
   ]
  },
  {
   "cell_type": "code",
   "execution_count": 78,
   "id": "5c2b1b9e",
   "metadata": {},
   "outputs": [
    {
     "data": {
      "text/html": [
       "<div>\n",
       "<style scoped>\n",
       "    .dataframe tbody tr th:only-of-type {\n",
       "        vertical-align: middle;\n",
       "    }\n",
       "\n",
       "    .dataframe tbody tr th {\n",
       "        vertical-align: top;\n",
       "    }\n",
       "\n",
       "    .dataframe thead th {\n",
       "        text-align: right;\n",
       "    }\n",
       "</style>\n",
       "<table border=\"1\" class=\"dataframe\">\n",
       "  <thead>\n",
       "    <tr style=\"text-align: right;\">\n",
       "      <th>segment</th>\n",
       "      <th>1</th>\n",
       "      <th>2</th>\n",
       "      <th>3</th>\n",
       "      <th>4</th>\n",
       "    </tr>\n",
       "  </thead>\n",
       "  <tbody>\n",
       "    <tr>\n",
       "      <th>cost</th>\n",
       "      <td>1752.0</td>\n",
       "      <td>5704.9</td>\n",
       "      <td>12815.6</td>\n",
       "      <td>26173.3</td>\n",
       "    </tr>\n",
       "    <tr>\n",
       "      <th>perc_cost</th>\n",
       "      <td>0.0</td>\n",
       "      <td>0.0</td>\n",
       "      <td>0.0</td>\n",
       "      <td>0.0</td>\n",
       "    </tr>\n",
       "    <tr>\n",
       "      <th>mean_visits</th>\n",
       "      <td>1438.2</td>\n",
       "      <td>1524.8</td>\n",
       "      <td>1634.1</td>\n",
       "      <td>1632.6</td>\n",
       "    </tr>\n",
       "    <tr>\n",
       "      <th>visits</th>\n",
       "      <td>1.2</td>\n",
       "      <td>3.7</td>\n",
       "      <td>7.8</td>\n",
       "      <td>16.5</td>\n",
       "    </tr>\n",
       "    <tr>\n",
       "      <th>delta</th>\n",
       "      <td>305.0</td>\n",
       "      <td>216.0</td>\n",
       "      <td>126.0</td>\n",
       "      <td>59.5</td>\n",
       "    </tr>\n",
       "    <tr>\n",
       "      <th>churn</th>\n",
       "      <td>0.8</td>\n",
       "      <td>0.7</td>\n",
       "      <td>0.4</td>\n",
       "      <td>0.2</td>\n",
       "    </tr>\n",
       "  </tbody>\n",
       "</table>\n",
       "</div>"
      ],
      "text/plain": [
       "segment           1       2        3        4\n",
       "cost         1752.0  5704.9  12815.6  26173.3\n",
       "perc_cost    0.0     0.0     0.0      0.0    \n",
       "mean_visits  1438.2  1524.8  1634.1   1632.6 \n",
       "visits       1.2     3.7     7.8      16.5   \n",
       "delta        305.0   216.0   126.0    59.5   \n",
       "churn        0.8     0.7     0.4      0.2    "
      ]
     },
     "execution_count": 78,
     "metadata": {},
     "output_type": "execute_result"
    }
   ],
   "source": [
    "users.groupby('segment').mean().T.round(1)"
   ]
  },
  {
   "cell_type": "markdown",
   "id": "52fc81ad",
   "metadata": {},
   "source": [
    "- Заметно, что отток 70 и 80% в 1 и 2 группе. То есть даже те клиенты, у кого в среднем 3,7 визита, так же попадают в отток"
   ]
  },
  {
   "cell_type": "code",
   "execution_count": 79,
   "id": "6b4a3bb7",
   "metadata": {},
   "outputs": [
    {
     "data": {
      "text/html": [
       "<div>\n",
       "<style scoped>\n",
       "    .dataframe tbody tr th:only-of-type {\n",
       "        vertical-align: middle;\n",
       "    }\n",
       "\n",
       "    .dataframe tbody tr th {\n",
       "        vertical-align: top;\n",
       "    }\n",
       "\n",
       "    .dataframe thead th {\n",
       "        text-align: right;\n",
       "    }\n",
       "</style>\n",
       "<table border=\"1\" class=\"dataframe\">\n",
       "  <thead>\n",
       "    <tr style=\"text-align: right;\">\n",
       "      <th>segment</th>\n",
       "      <th>1</th>\n",
       "      <th>2</th>\n",
       "      <th>3</th>\n",
       "      <th>4</th>\n",
       "    </tr>\n",
       "  </thead>\n",
       "  <tbody>\n",
       "    <tr>\n",
       "      <th>price</th>\n",
       "      <td>1342.2</td>\n",
       "      <td>1379.7</td>\n",
       "      <td>1418.3</td>\n",
       "      <td>1270.1</td>\n",
       "    </tr>\n",
       "    <tr>\n",
       "      <th>sale</th>\n",
       "      <td>5.7</td>\n",
       "      <td>2.0</td>\n",
       "      <td>1.0</td>\n",
       "      <td>1.0</td>\n",
       "    </tr>\n",
       "    <tr>\n",
       "      <th>month_visit</th>\n",
       "      <td>6.6</td>\n",
       "      <td>6.5</td>\n",
       "      <td>6.7</td>\n",
       "      <td>6.7</td>\n",
       "    </tr>\n",
       "    <tr>\n",
       "      <th>year</th>\n",
       "      <td>2021.5</td>\n",
       "      <td>2021.5</td>\n",
       "      <td>2021.5</td>\n",
       "      <td>2021.5</td>\n",
       "    </tr>\n",
       "  </tbody>\n",
       "</table>\n",
       "</div>"
      ],
      "text/plain": [
       "segment           1       2       3       4\n",
       "price        1342.2  1379.7  1418.3  1270.1\n",
       "sale         5.7     2.0     1.0     1.0   \n",
       "month_visit  6.6     6.5     6.7     6.7   \n",
       "year         2021.5  2021.5  2021.5  2021.5"
      ]
     },
     "execution_count": 79,
     "metadata": {},
     "output_type": "execute_result"
    }
   ],
   "source": [
    "all_vis.groupby('segment').mean().T.round(1)"
   ]
  },
  {
   "cell_type": "markdown",
   "id": "b8c8d88d",
   "metadata": {},
   "source": [
    "- Не смотря на количество визитов, стоимость услуг выше у 3 сегмента, а ниже всего у 4"
   ]
  },
  {
   "cell_type": "markdown",
   "id": "b761a166",
   "metadata": {},
   "source": [
    "### Частые услуги по сегментам"
   ]
  },
  {
   "cell_type": "code",
   "execution_count": 80,
   "id": "a7a8e997",
   "metadata": {},
   "outputs": [
    {
     "data": {
      "text/plain": [
       "order\n",
       "стрижка                            672\n",
       "стрижка + моделирование бороды     142\n",
       "детская стрижка (с 5 до 12 лет)    68 \n",
       "моделирование бороды               63 \n",
       "стрижка бороды (машинкой)          30 \n",
       "dtype: int64"
      ]
     },
     "execution_count": 80,
     "metadata": {},
     "output_type": "execute_result"
    }
   ],
   "source": [
    "all_vis.query('segment == 1').value_counts('order').head(5)"
   ]
  },
  {
   "cell_type": "code",
   "execution_count": 81,
   "id": "f2bf2e14",
   "metadata": {},
   "outputs": [
    {
     "data": {
      "text/plain": [
       "order\n",
       "стрижка                            496\n",
       "стрижка + моделирование бороды     113\n",
       "детская стрижка (с 5 до 12 лет)    38 \n",
       "моделирование бороды               33 \n",
       "стрижка бороды (машинкой)          22 \n",
       "dtype: int64"
      ]
     },
     "execution_count": 81,
     "metadata": {},
     "output_type": "execute_result"
    }
   ],
   "source": [
    "all_vis.query('segment == 2').value_counts('order').head(5)"
   ]
  },
  {
   "cell_type": "code",
   "execution_count": 82,
   "id": "c178cc63",
   "metadata": {
    "scrolled": true
   },
   "outputs": [
    {
     "data": {
      "text/plain": [
       "order\n",
       "стрижка                              671\n",
       "стрижка + моделирование бороды       166\n",
       "детская стрижка (с 5 до 12 лет)      66 \n",
       "стрижка головы машинкой 2 насадки    52 \n",
       "моделирование бороды                 22 \n",
       "dtype: int64"
      ]
     },
     "execution_count": 82,
     "metadata": {},
     "output_type": "execute_result"
    }
   ],
   "source": [
    "all_vis.query('segment == 3').value_counts('order').head(5)"
   ]
  },
  {
   "cell_type": "code",
   "execution_count": 83,
   "id": "7adcea29",
   "metadata": {},
   "outputs": [
    {
     "data": {
      "text/plain": [
       "order\n",
       "стрижка                              587\n",
       "стрижка головы машинкой 2 насадки    129\n",
       "стрижка + моделирование бороды       81 \n",
       "детская стрижка (с 5 до 12 лет)      69 \n",
       "воск                                 36 \n",
       "dtype: int64"
      ]
     },
     "execution_count": 83,
     "metadata": {},
     "output_type": "execute_result"
    }
   ],
   "source": [
    "all_vis.query('segment == 4').value_counts('order').head(5)"
   ]
  },
  {
   "cell_type": "markdown",
   "id": "28642279",
   "metadata": {},
   "source": [
    "- Во всех сигментах лидируют одни и те же услуги, но в 4 сегменте вместо `стрижка головы + моделирование бороды` появилась услуга `стрижка головы машинкой 2 насадки`\n",
    "- Помимо стрижки и бороды в топе должна быть услуга \"отец+сын\". Детская стрижка есть в каждом сегенте, так почему бы не привлечь клиентов на комплекс услуг"
   ]
  },
  {
   "cell_type": "markdown",
   "id": "fabd8a9f",
   "metadata": {},
   "source": [
    "### Любимые мастера по сегментам"
   ]
  },
  {
   "cell_type": "code",
   "execution_count": 84,
   "id": "786708a3",
   "metadata": {},
   "outputs": [
    {
     "data": {
      "text/plain": [
       "employee\n",
       "Рахман (Capitan)    243\n",
       "Максим (Soldado)    124\n",
       "Макс (Capitan)      68 \n",
       "Давид  (Soldado)    21 \n",
       "Валерия             20 \n",
       "dtype: int64"
      ]
     },
     "execution_count": 84,
     "metadata": {},
     "output_type": "execute_result"
    }
   ],
   "source": [
    "all_vis.query('segment == 1 and year == 2022').value_counts('employee').head(5)"
   ]
  },
  {
   "cell_type": "code",
   "execution_count": 85,
   "id": "b15dc5e7",
   "metadata": {},
   "outputs": [
    {
     "data": {
      "text/plain": [
       "employee\n",
       "Рахман (Capitan)    192\n",
       "Максим (Soldado)    67 \n",
       "Макс (Capitan)      62 \n",
       "Павел (Capitan)     14 \n",
       "Давид  (Soldado)    12 \n",
       "dtype: int64"
      ]
     },
     "execution_count": 85,
     "metadata": {},
     "output_type": "execute_result"
    }
   ],
   "source": [
    "all_vis.query('segment == 2 and year == 2022').value_counts('employee').head(5)"
   ]
  },
  {
   "cell_type": "code",
   "execution_count": 86,
   "id": "99011dec",
   "metadata": {},
   "outputs": [
    {
     "data": {
      "text/plain": [
       "employee\n",
       "Рахман (Capitan)    336\n",
       "Максим (Soldado)    82 \n",
       "Макс (Capitan)      78 \n",
       "Павел (Capitan)     29 \n",
       "Валерия             12 \n",
       "dtype: int64"
      ]
     },
     "execution_count": 86,
     "metadata": {},
     "output_type": "execute_result"
    }
   ],
   "source": [
    "all_vis.query('segment == 3 and year == 2022').value_counts('employee').head(5)"
   ]
  },
  {
   "cell_type": "code",
   "execution_count": 87,
   "id": "3361514c",
   "metadata": {},
   "outputs": [
    {
     "data": {
      "text/plain": [
       "employee\n",
       "Рахман (Capitan)    395\n",
       "Макс (Capitan)      60 \n",
       "Максим (Soldado)    47 \n",
       "Давид  (Soldado)    11 \n",
       "Валерия              8 \n",
       "dtype: int64"
      ]
     },
     "execution_count": 87,
     "metadata": {},
     "output_type": "execute_result"
    }
   ],
   "source": [
    "all_vis.query('segment == 4 and year == 2022').value_counts('employee').head(5)"
   ]
  },
  {
   "cell_type": "markdown",
   "id": "8d6b7313",
   "metadata": {},
   "source": [
    "- Во всех категориях один и тот же мастер в лидерах, скорее всего на него падает большая часть записей, либо из-за графика, либо из-за хорошей работы, либо из-за срока работы"
   ]
  },
  {
   "cell_type": "markdown",
   "id": "9ed60ebe",
   "metadata": {},
   "source": [
    "## Прогнозирование оттока клиентов"
   ]
  },
  {
   "cell_type": "markdown",
   "id": "2c47dd87",
   "metadata": {},
   "source": [
    "### Подготовка данных"
   ]
  },
  {
   "cell_type": "markdown",
   "id": "8b8c50a2",
   "metadata": {},
   "source": [
    "Для того чтобы спрогнозировать отток, нужно пересести текст в цифры, присвоив им номера и группы"
   ]
  },
  {
   "cell_type": "code",
   "execution_count": 88,
   "id": "62904b0a",
   "metadata": {},
   "outputs": [
    {
     "data": {
      "text/html": [
       "<div>\n",
       "<style scoped>\n",
       "    .dataframe tbody tr th:only-of-type {\n",
       "        vertical-align: middle;\n",
       "    }\n",
       "\n",
       "    .dataframe tbody tr th {\n",
       "        vertical-align: top;\n",
       "    }\n",
       "\n",
       "    .dataframe thead th {\n",
       "        text-align: right;\n",
       "    }\n",
       "</style>\n",
       "<table border=\"1\" class=\"dataframe\">\n",
       "  <thead>\n",
       "    <tr style=\"text-align: right;\">\n",
       "      <th></th>\n",
       "      <th>cost</th>\n",
       "      <th>mean_visits</th>\n",
       "      <th>visits</th>\n",
       "      <th>delta</th>\n",
       "      <th>churn</th>\n",
       "      <th>segment</th>\n",
       "      <th>employee</th>\n",
       "      <th>order</th>\n",
       "      <th>price</th>\n",
       "      <th>sale</th>\n",
       "      <th>status_visits</th>\n",
       "      <th>month_visit</th>\n",
       "      <th>year</th>\n",
       "      <th>hour</th>\n",
       "    </tr>\n",
       "  </thead>\n",
       "  <tbody>\n",
       "    <tr>\n",
       "      <th>0</th>\n",
       "      <td>62346</td>\n",
       "      <td>1484</td>\n",
       "      <td>42</td>\n",
       "      <td>20</td>\n",
       "      <td>0</td>\n",
       "      <td>4</td>\n",
       "      <td>Рахман (Capitan)</td>\n",
       "      <td>стрижка</td>\n",
       "      <td>1600.0</td>\n",
       "      <td>0.0</td>\n",
       "      <td>Клиент пришёл</td>\n",
       "      <td>11</td>\n",
       "      <td>2022</td>\n",
       "      <td>10</td>\n",
       "    </tr>\n",
       "    <tr>\n",
       "      <th>1</th>\n",
       "      <td>62346</td>\n",
       "      <td>1484</td>\n",
       "      <td>42</td>\n",
       "      <td>20</td>\n",
       "      <td>0</td>\n",
       "      <td>4</td>\n",
       "      <td>Максим (Soldado)</td>\n",
       "      <td>стрижка</td>\n",
       "      <td>1300.0</td>\n",
       "      <td>0.0</td>\n",
       "      <td>Клиент пришёл</td>\n",
       "      <td>10</td>\n",
       "      <td>2022</td>\n",
       "      <td>18</td>\n",
       "    </tr>\n",
       "  </tbody>\n",
       "</table>\n",
       "</div>"
      ],
      "text/plain": [
       "    cost  mean_visits  visits  delta  churn  segment          employee  \\\n",
       "0  62346  1484         42      20      0      4       Рахман (Capitan)   \n",
       "1  62346  1484         42      20      0      4       Максим (Soldado)   \n",
       "\n",
       "     order   price  sale  status_visits  month_visit  year  hour  \n",
       "0  стрижка  1600.0  0.0   Клиент пришёл  11           2022  10    \n",
       "1  стрижка  1300.0  0.0   Клиент пришёл  10           2022  18    "
      ]
     },
     "execution_count": 88,
     "metadata": {},
     "output_type": "execute_result"
    }
   ],
   "source": [
    "da = users[['phone', 'cost', 'mean_visits', 'visits', 'delta', 'churn', 'segment']]\n",
    "da = da.merge(visits, on = 'phone')\n",
    "da = da[['phone', 'cost', 'mean_visits', 'date', 'visits', 'delta', 'churn', 'segment', 'employee', 'order', 'price', 'sale', 'status_visits', 'month_visit', 'year']]\n",
    "da['hour'] = da['date'].dt.hour\n",
    "da = da[['cost', 'mean_visits', 'visits', 'delta', 'churn', 'segment', 'employee', 'order', 'price', 'sale', 'status_visits', 'month_visit', 'year', 'hour']]\n",
    "da.head(2)"
   ]
  },
  {
   "cell_type": "code",
   "execution_count": 89,
   "id": "fdec901a",
   "metadata": {},
   "outputs": [],
   "source": [
    "def empl(em):\n",
    "    if em == 'Рахман (Capitan)':\n",
    "        return 1\n",
    "    elif em == 'Максим (Soldado)':\n",
    "        return 2\n",
    "    elif em == 'Макс':\n",
    "        return 3\n",
    "    elif em == 'Шах(Capitan)':\n",
    "        return 4\n",
    "    elif em == 'Аннет (Стажер)':\n",
    "        return 5\n",
    "    elif em == 'Валерия':\n",
    "        return 6\n",
    "    else:\n",
    "        return 0\n",
    "\n",
    "da['employee'] = da['employee'].apply(empl)"
   ]
  },
  {
   "cell_type": "code",
   "execution_count": 90,
   "id": "d5604ed0",
   "metadata": {},
   "outputs": [],
   "source": [
    "def status(st):\n",
    "    if st == 'Клиент пришёл':\n",
    "        return 1\n",
    "    else:\n",
    "        return 0\n",
    "\n",
    "da['status_visits'] = da['status_visits'].apply(status)"
   ]
  },
  {
   "cell_type": "code",
   "execution_count": 91,
   "id": "424ae566",
   "metadata": {},
   "outputs": [
    {
     "data": {
      "text/html": [
       "<div>\n",
       "<style scoped>\n",
       "    .dataframe tbody tr th:only-of-type {\n",
       "        vertical-align: middle;\n",
       "    }\n",
       "\n",
       "    .dataframe tbody tr th {\n",
       "        vertical-align: top;\n",
       "    }\n",
       "\n",
       "    .dataframe thead th {\n",
       "        text-align: right;\n",
       "    }\n",
       "</style>\n",
       "<table border=\"1\" class=\"dataframe\">\n",
       "  <thead>\n",
       "    <tr style=\"text-align: right;\">\n",
       "      <th></th>\n",
       "      <th>cost</th>\n",
       "      <th>mean_visits</th>\n",
       "      <th>visits</th>\n",
       "      <th>delta</th>\n",
       "      <th>churn</th>\n",
       "      <th>segment</th>\n",
       "      <th>employee</th>\n",
       "      <th>order</th>\n",
       "      <th>price</th>\n",
       "      <th>sale</th>\n",
       "      <th>status_visits</th>\n",
       "      <th>month_visit</th>\n",
       "      <th>year</th>\n",
       "      <th>hour</th>\n",
       "    </tr>\n",
       "  </thead>\n",
       "  <tbody>\n",
       "    <tr>\n",
       "      <th>0</th>\n",
       "      <td>62346</td>\n",
       "      <td>1484</td>\n",
       "      <td>42</td>\n",
       "      <td>20</td>\n",
       "      <td>0</td>\n",
       "      <td>4</td>\n",
       "      <td>1</td>\n",
       "      <td>1</td>\n",
       "      <td>1600.0</td>\n",
       "      <td>0.0</td>\n",
       "      <td>1</td>\n",
       "      <td>11</td>\n",
       "      <td>2022</td>\n",
       "      <td>10</td>\n",
       "    </tr>\n",
       "    <tr>\n",
       "      <th>1</th>\n",
       "      <td>62346</td>\n",
       "      <td>1484</td>\n",
       "      <td>42</td>\n",
       "      <td>20</td>\n",
       "      <td>0</td>\n",
       "      <td>4</td>\n",
       "      <td>2</td>\n",
       "      <td>1</td>\n",
       "      <td>1300.0</td>\n",
       "      <td>0.0</td>\n",
       "      <td>1</td>\n",
       "      <td>10</td>\n",
       "      <td>2022</td>\n",
       "      <td>18</td>\n",
       "    </tr>\n",
       "    <tr>\n",
       "      <th>2</th>\n",
       "      <td>62346</td>\n",
       "      <td>1484</td>\n",
       "      <td>42</td>\n",
       "      <td>20</td>\n",
       "      <td>0</td>\n",
       "      <td>4</td>\n",
       "      <td>1</td>\n",
       "      <td>1</td>\n",
       "      <td>1600.0</td>\n",
       "      <td>0.0</td>\n",
       "      <td>1</td>\n",
       "      <td>9</td>\n",
       "      <td>2022</td>\n",
       "      <td>18</td>\n",
       "    </tr>\n",
       "    <tr>\n",
       "      <th>3</th>\n",
       "      <td>62346</td>\n",
       "      <td>1484</td>\n",
       "      <td>42</td>\n",
       "      <td>20</td>\n",
       "      <td>0</td>\n",
       "      <td>4</td>\n",
       "      <td>1</td>\n",
       "      <td>1</td>\n",
       "      <td>1600.0</td>\n",
       "      <td>0.0</td>\n",
       "      <td>1</td>\n",
       "      <td>9</td>\n",
       "      <td>2022</td>\n",
       "      <td>14</td>\n",
       "    </tr>\n",
       "    <tr>\n",
       "      <th>4</th>\n",
       "      <td>62346</td>\n",
       "      <td>1484</td>\n",
       "      <td>42</td>\n",
       "      <td>20</td>\n",
       "      <td>0</td>\n",
       "      <td>4</td>\n",
       "      <td>2</td>\n",
       "      <td>1</td>\n",
       "      <td>1300.0</td>\n",
       "      <td>0.0</td>\n",
       "      <td>1</td>\n",
       "      <td>9</td>\n",
       "      <td>2022</td>\n",
       "      <td>14</td>\n",
       "    </tr>\n",
       "  </tbody>\n",
       "</table>\n",
       "</div>"
      ],
      "text/plain": [
       "    cost  mean_visits  visits  delta  churn  segment  employee  order   price  \\\n",
       "0  62346  1484         42      20      0      4        1         1     1600.0   \n",
       "1  62346  1484         42      20      0      4        2         1     1300.0   \n",
       "2  62346  1484         42      20      0      4        1         1     1600.0   \n",
       "3  62346  1484         42      20      0      4        1         1     1600.0   \n",
       "4  62346  1484         42      20      0      4        2         1     1300.0   \n",
       "\n",
       "   sale  status_visits  month_visit  year  hour  \n",
       "0  0.0    1             11           2022  10    \n",
       "1  0.0    1             10           2022  18    \n",
       "2  0.0    1              9           2022  18    \n",
       "3  0.0    1              9           2022  14    \n",
       "4  0.0    1              9           2022  14    "
      ]
     },
     "execution_count": 91,
     "metadata": {},
     "output_type": "execute_result"
    }
   ],
   "source": [
    "def order(ord):\n",
    "    if ord == 'стрижка':\n",
    "        return 1\n",
    "    elif ord == 'детская стрижка (с 5 до 12 лет)':\n",
    "        return 1\n",
    "    elif ord == 'стрижка + моделирование бороды':\n",
    "        return 2\n",
    "    elif ord == 'стрижка бороды (машинкой)':\n",
    "        return 3\n",
    "    elif ord == 'моделирование бороды':\n",
    "        return 3\n",
    "    elif ord == 'воск (все зоны)':\n",
    "        return 4\n",
    "    elif ord == 'воск':\n",
    "        return 4\n",
    "    elif ord == 'камуфляж седины':\n",
    "        return 4\n",
    "    elif ord == 'стрижка головы машинкой 2 насадки':\n",
    "        return 1\n",
    "    elif ord == 'стрижка головы (машинкой)':\n",
    "        return 1\n",
    "    elif ord == 'тонировка бороды':\n",
    "        return 4\n",
    "    elif ord == 'традиционное бритье':\n",
    "        return 5\n",
    "    elif ord == 'мытье головы + окантовка + укладка':\n",
    "        return 6\n",
    "    elif ord == 'черная маска':\n",
    "        return 4\n",
    "    elif ord == 'отец + сын':\n",
    "        return 1\n",
    "    elif ord == 'премиум мытье головы':\n",
    "        return 7\n",
    "    elif ord == 'премиальный уход за лицом':\n",
    "        return 7\n",
    "    elif ord == 'премиум стрижка':\n",
    "        return 7\n",
    "    elif ord == 'премиум моделирование':\n",
    "        return 7\n",
    "    elif ord == 'мытье головы + укладка':\n",
    "        return 6\n",
    "    else:\n",
    "        return 0\n",
    "    \n",
    "da['order'] = da['order'].apply(order)\n",
    "da.head() "
   ]
  },
  {
   "cell_type": "markdown",
   "id": "1f0da89a",
   "metadata": {},
   "source": [
    "Итак, что мы тут наменяли:\n",
    "- колонка `employee`\n",
    " - 1 - 'Рахман (Capitan)'\n",
    " - 2 - 'Максим (Soldado)'\n",
    " - 3 - 'Макс'\n",
    " - 4 - 'Шах(Capitan)'\n",
    " - 5 - 'Аннет (Стажер)'\n",
    " - 6 - 'Валерия' \n",
    " - 0 - все остальные\n",
    " \n",
    " \n",
    "- колонка `order`:\n",
    " - 1 - все стрижки\n",
    " - 2 - комплекс стрижка и борода\n",
    " - 3 - борода\n",
    " - 4 - доп.услуги\n",
    " - 5 - бритье\n",
    " - 6 - укладки\n",
    " - 7 - премиум услуги\n",
    " - 0 - все остальное\n",
    " \n",
    " \n",
    "- колонка `status_visits`:\n",
    " - 1 - Клиент пришел\n",
    " - 0 - все остальное"
   ]
  },
  {
   "cell_type": "markdown",
   "id": "d60e445f",
   "metadata": {},
   "source": [
    "**Таблица готова к прогнозу**"
   ]
  },
  {
   "cell_type": "markdown",
   "id": "a9c6283d",
   "metadata": {},
   "source": [
    "### Сравнение моделей прогрозирования"
   ]
  },
  {
   "cell_type": "markdown",
   "id": "36ca76ae",
   "metadata": {},
   "source": [
    "**Что будем делать:** Строить модель классификации клиентов, где целевой признак — факт оттока клиента:\n",
    "\n",
    "- Разделим данные на обучающую и валидационную выборку\n",
    "- Обучим модель на train-выборке двумя способами: логистической регрессией и случайным лесом.\n",
    "- Оценим метрики accuracy, precision и recall для моделей на валидационной выборке. Сравним по ним модели."
   ]
  },
  {
   "cell_type": "code",
   "execution_count": 92,
   "id": "59a1c191",
   "metadata": {},
   "outputs": [],
   "source": [
    "#разделим наши данные на признаки (матрица X) и целевую переменную (y)\n",
    "X = da.drop('churn', axis=1)\n",
    "y = da['churn']"
   ]
  },
  {
   "cell_type": "code",
   "execution_count": 93,
   "id": "c87f76df",
   "metadata": {},
   "outputs": [],
   "source": [
    "#разделяем модель на обучающую и валидационную выборки (80\\20)\n",
    "X_train, X_test, y_train, y_test = train_test_split(X, y, test_size=0.2)"
   ]
  },
  {
   "cell_type": "code",
   "execution_count": 94,
   "id": "45279cc5",
   "metadata": {},
   "outputs": [
    {
     "name": "stdout",
     "output_type": "stream",
     "text": [
      "[[-0.12329318 -0.59495439  0.09072964 -0.72652532  0.42659961 -0.7044727\n",
      "  -0.43808068 -0.24121751 -0.30512465  0.21128856 -0.52383076 -1.01050148\n",
      "   1.59311166]\n",
      " [-0.60687211 -0.48207374 -0.51573447  0.56957975 -0.44848361 -0.7044727\n",
      "  -0.43808068 -0.24121751 -0.30512465  0.21128856 -0.20517461 -1.01050148\n",
      "   0.94361308]\n",
      " [-0.92701231 -0.62465983 -0.87961293  1.83763059 -1.32356683 -0.7044727\n",
      "  -0.43808068 -0.24121751 -0.30512465  0.21128856  0.11348153 -1.01050148\n",
      "   0.61886379]\n",
      " [-0.76848782 -0.95538034 -0.63702729  0.43491948 -0.44848361 -0.7044727\n",
      "  -0.43808068 -0.13316985 -0.30512465  0.21128856  1.70676227 -1.01050148\n",
      "  -1.65438123]\n",
      " [ 0.816757    1.50422972  0.21202246 -0.5357566   0.42659961  0.38163236\n",
      "   5.67183932 -2.18607533 -0.30512465  0.21128856  0.43213768  0.98960765\n",
      "   0.94361308]]\n"
     ]
    }
   ],
   "source": [
    "#создадим объект класса StandardScaler и применим его к обучающей выборке\n",
    "scaler = StandardScaler()\n",
    "\n",
    "#обучаем scaler и одновременно трансформируем матрицу для обучающей выборки\n",
    "X_train_st = scaler.fit_transform(X_train) \n",
    "print(X_train_st[:5])\n",
    "\n",
    "#применяем стандартизацию к матрице признаков для тестовой выборки\n",
    "X_test_st = scaler.transform(X_test)"
   ]
  },
  {
   "cell_type": "markdown",
   "id": "0dabb642",
   "metadata": {},
   "source": [
    "**Случайный лес**"
   ]
  },
  {
   "cell_type": "code",
   "execution_count": 95,
   "id": "5ba2b0c3",
   "metadata": {},
   "outputs": [
    {
     "name": "stdout",
     "output_type": "stream",
     "text": [
      "Accuracy: 1.00\n",
      "Precision: 1.00\n",
      "Recall: 1.00\n",
      "F1: 1.00\n"
     ]
    }
   ],
   "source": [
    "# зададим алгоритм для новой модели на основе алгоритма случайного леса\n",
    "rf_model = RandomForestClassifier(class_weight='balanced', n_estimators = 100, random_state=0) \n",
    "\n",
    "# обучим модель случайного леса\n",
    "rf_model.fit(X_train, y_train)\n",
    "\n",
    "# воспользуемся уже обученной моделью, чтобы сделать прогнозы\n",
    "rf_predictions = rf_model.predict(X_test) \n",
    "rf_probabilities = rf_model.predict_proba(X_test)[:, 1]\n",
    "\n",
    "# выведем все метрики\n",
    "print('Accuracy: {:.2f}'.format(accuracy_score(y_test, rf_predictions)))\n",
    "print('Precision: {:.2f}'.format(precision_score(y_test, rf_predictions)))\n",
    "print('Recall: {:.2f}'.format(recall_score(y_test, rf_predictions)))\n",
    "print('F1: {:.2f}'.format(f1_score(y_test, rf_predictions)))"
   ]
  },
  {
   "cell_type": "markdown",
   "id": "7a101c03",
   "metadata": {},
   "source": [
    "### Прогнозирование"
   ]
  },
  {
   "cell_type": "code",
   "execution_count": 96,
   "id": "dabebc48",
   "metadata": {},
   "outputs": [
    {
     "data": {
      "text/plain": [
       "SelectFromModel(estimator=RandomForestClassifier())"
      ]
     },
     "execution_count": 96,
     "metadata": {},
     "output_type": "execute_result"
    }
   ],
   "source": [
    "#SelectFromModel выберет те функции, важность которых больше, чем средняя важность всех функций по умолчанию.\n",
    "sel = SelectFromModel(RandomForestClassifier(n_estimators = 100))\n",
    "sel.fit(X_train, y_train)"
   ]
  },
  {
   "cell_type": "code",
   "execution_count": 97,
   "id": "87de23b6",
   "metadata": {},
   "outputs": [
    {
     "data": {
      "text/plain": [
       "array([ True, False, False,  True, False, False, False, False, False,\n",
       "       False, False, False, False])"
      ]
     },
     "execution_count": 97,
     "metadata": {},
     "output_type": "execute_result"
    }
   ],
   "source": [
    "#какие функции важны, мы можем использовать get_support метод на подогнанной модели\n",
    "#Он вернет массив логический значения.\n",
    "sel.get_support()"
   ]
  },
  {
   "cell_type": "code",
   "execution_count": 98,
   "id": "153192f5",
   "metadata": {},
   "outputs": [
    {
     "data": {
      "text/plain": [
       "2"
      ]
     },
     "execution_count": 98,
     "metadata": {},
     "output_type": "execute_result"
    }
   ],
   "source": [
    "#Теперь мы можем составить список и сосчитать выбранные функции.\n",
    "selected_feat= X_train.columns[(sel.get_support())]\n",
    "len(selected_feat)"
   ]
  },
  {
   "cell_type": "code",
   "execution_count": 99,
   "id": "6954d5e9",
   "metadata": {},
   "outputs": [
    {
     "data": {
      "text/plain": [
       "Index(['cost', 'delta'], dtype='object')"
      ]
     },
     "execution_count": 99,
     "metadata": {},
     "output_type": "execute_result"
    }
   ],
   "source": [
    "#название выбранных функций\n",
    "selected_feat"
   ]
  },
  {
   "cell_type": "code",
   "execution_count": 100,
   "id": "4e789f57",
   "metadata": {},
   "outputs": [
    {
     "data": {
      "image/png": "[encoded data removed]",
      "text/plain": [
       "<Figure size 360x360 with 1 Axes>"
      ]
     },
     "metadata": {
      "needs_background": "light"
     },
     "output_type": "display_data"
    }
   ],
   "source": [
    "importances = sel.estimator_.feature_importances_\n",
    "indices = np.argsort(importances)[::-1]\n",
    "\n",
    "plt.figure()\n",
    "plt.title(\"Важность признаков\")\n",
    "plt.bar(range(X.shape[1]), importances[indices],\n",
    "       color=\"r\", align=\"center\")\n",
    "plt.xticks(range(X.shape[1]), indices)\n",
    "plt.xlim([-1, X.shape[1]])\n",
    "plt.show()"
   ]
  },
  {
   "cell_type": "code",
   "execution_count": 101,
   "id": "7a58578c",
   "metadata": {},
   "outputs": [
    {
     "data": {
      "text/html": [
       "<div>\n",
       "<style scoped>\n",
       "    .dataframe tbody tr th:only-of-type {\n",
       "        vertical-align: middle;\n",
       "    }\n",
       "\n",
       "    .dataframe tbody tr th {\n",
       "        vertical-align: top;\n",
       "    }\n",
       "\n",
       "    .dataframe thead th {\n",
       "        text-align: right;\n",
       "    }\n",
       "</style>\n",
       "<table border=\"1\" class=\"dataframe\">\n",
       "  <thead>\n",
       "    <tr style=\"text-align: right;\">\n",
       "      <th></th>\n",
       "      <th>feature</th>\n",
       "      <th>importance</th>\n",
       "    </tr>\n",
       "  </thead>\n",
       "  <tbody>\n",
       "    <tr>\n",
       "      <th>3</th>\n",
       "      <td>delta</td>\n",
       "      <td>0.665070</td>\n",
       "    </tr>\n",
       "    <tr>\n",
       "      <th>0</th>\n",
       "      <td>cost</td>\n",
       "      <td>0.085464</td>\n",
       "    </tr>\n",
       "    <tr>\n",
       "      <th>2</th>\n",
       "      <td>visits</td>\n",
       "      <td>0.057409</td>\n",
       "    </tr>\n",
       "    <tr>\n",
       "      <th>4</th>\n",
       "      <td>segment</td>\n",
       "      <td>0.048551</td>\n",
       "    </tr>\n",
       "    <tr>\n",
       "      <th>11</th>\n",
       "      <td>year</td>\n",
       "      <td>0.042655</td>\n",
       "    </tr>\n",
       "    <tr>\n",
       "      <th>10</th>\n",
       "      <td>month_visit</td>\n",
       "      <td>0.027879</td>\n",
       "    </tr>\n",
       "    <tr>\n",
       "      <th>1</th>\n",
       "      <td>mean_visits</td>\n",
       "      <td>0.027616</td>\n",
       "    </tr>\n",
       "    <tr>\n",
       "      <th>5</th>\n",
       "      <td>employee</td>\n",
       "      <td>0.022092</td>\n",
       "    </tr>\n",
       "    <tr>\n",
       "      <th>7</th>\n",
       "      <td>price</td>\n",
       "      <td>0.011305</td>\n",
       "    </tr>\n",
       "    <tr>\n",
       "      <th>12</th>\n",
       "      <td>hour</td>\n",
       "      <td>0.004624</td>\n",
       "    </tr>\n",
       "    <tr>\n",
       "      <th>8</th>\n",
       "      <td>sale</td>\n",
       "      <td>0.003727</td>\n",
       "    </tr>\n",
       "    <tr>\n",
       "      <th>6</th>\n",
       "      <td>order</td>\n",
       "      <td>0.003184</td>\n",
       "    </tr>\n",
       "    <tr>\n",
       "      <th>9</th>\n",
       "      <td>status_visits</td>\n",
       "      <td>0.000424</td>\n",
       "    </tr>\n",
       "  </tbody>\n",
       "</table>\n",
       "</div>"
      ],
      "text/plain": [
       "          feature  importance\n",
       "3   delta          0.665070  \n",
       "0   cost           0.085464  \n",
       "2   visits         0.057409  \n",
       "4   segment        0.048551  \n",
       "11  year           0.042655  \n",
       "10  month_visit    0.027879  \n",
       "1   mean_visits    0.027616  \n",
       "5   employee       0.022092  \n",
       "7   price          0.011305  \n",
       "12  hour           0.004624  \n",
       "8   sale           0.003727  \n",
       "6   order          0.003184  \n",
       "9   status_visits  0.000424  "
      ]
     },
     "execution_count": 101,
     "metadata": {},
     "output_type": "execute_result"
    }
   ],
   "source": [
    "importance = pd.DataFrame({'feature': X.columns, 'importance':rf_model.feature_importances_})\n",
    "importance.sort_values(by='importance', ascending=False)"
   ]
  },
  {
   "cell_type": "markdown",
   "id": "4f834beb",
   "metadata": {},
   "source": [
    "- Получается, что на отток больше всего влияют `delta`, `cost`, `visits`\n",
    "- Очень важно работать над удержанием клиента и не допускать большого разрыва между записями\n",
    "- Общий счет выручки клиента сильно влияет на отток, поэтому нужно повышать продажи\n",
    "- Как мы видим скидка вообще не влияет на факт оттока, так же как и услуга\n"
   ]
  },
  {
   "cell_type": "markdown",
   "id": "97c25ac4",
   "metadata": {},
   "source": [
    "## Выводы и рекомендации"
   ]
  },
  {
   "cell_type": "markdown",
   "id": "48d53c25",
   "metadata": {},
   "source": [
    "- В условиях новых реалий мира очень многие клиенты попали в зону жесткой экономии, поэтому необходимо делать упор на удешевление услуг, сохраняя качество. Это не значит, что нужно срочно закупать дешевые материалы, но стоит поискать более дешевую альтернативу, например, поддерживая российских производителей (как бы странно это ни звучало), потому что премиум услугами пользуется малое количество клиентов\n",
    "\n",
    "\n",
    "- Следует пересмотреть прайс и сделать его более ёмким. Мытье головы можно автоматически включить в стоимость и не указывать его в прайсе (это и так необходимо делать при любой услуге). Сделать несколько комплексов, чтобы у клиентов был выбор премиум комплекса и обычного. Рекомендую рассмотреть вариант системы \"Все включено\", сделав 3-5 вариантов на каждого клиента. Во-первых, это упростит прайс, во-вторых, это возможность заработать на тех клиентах, кто не может платить много. Дополнительные услуги можно оставить допом. Идельно в прайсе иметь не такой сильны разброс в ценах, они все разные, упростить и сократить. Нужно позволить клиентам пользоваться услугами, когда для них 1600 это дорого, предложите альтернативу\n",
    "\n",
    "\n",
    "- Очень малая часть клиентов ходит вместе с детьми и пользуются услугой `отец + сын`, рекомендую провести акцию, рассказать клеинтам о выгодной цене и проинформировать о таком комплексе. Возможно, многие клиенты барбершопа даже не знают, что при комплексе отец+сын они получают скидку на обе стрижки. Десткие стрижки делают часто, значит нужно привлекать клиентов на клмплекс услуг. Так же стоит сделать комплекс для друзей\n",
    "\n",
    "\n",
    "- Самое провальное время с 20:00 и до закрытия, в это время стоит поставить скидку на посещение и тем самым забить запись мастерам. Раз в неделю по понедельникам можно делать скидку на утреннее время, в этот день недели самое меньшее количество записей\n",
    "\n",
    "\n",
    "- Нужно поднимать средний чек, предлагая домашний уход и аксессуары. Чтобы клиент совершил покупку, следует еще на этапе стрижки и мытья головы презентовать продукцию в качестве дружеского совета профессионала, рассказывая о преимуществах и вреде обычного масмаркета. Если у мастеров возникают проблемы с \"мягкими\" продажами, то рекомендую отправить весь персонал на курс по продажам, ориентированном именно на барбершопах (во многих школах барберов такие есть)\n",
    "\n",
    "\n",
    "- Нужно подготовится к предстоящим новогодним праздникам и сделать подарки постоянным клиентам в виде промокодов на стрижку в январе (нужно не опуститься ниже уровня 2022 года). На будущее нужно активно привлекать клиентов в апреле, чтобы не допускать \"просадки\". Например: промокод каждому, кто был в марте на следующий месяц\n",
    "\n",
    "\n",
    "- Необходимо пересмотреть каналы привлечения новых клиентов, потому что в 2022 году заметен резкий спад по количеству новых клиентов (таргет, бартер, блогеры, спонсорство мероприятий, офлайн реклама...). Хороший поиск новых клиентов - привлечение через текущих, а именно акция \"приведи друга\". Рекомендация своим знакомым дает скидку и клиенту и его другу (желательно в денежном эквиваленте, например 300-500р), при условии, что друг воспользуется услугами барбершопа и оплатит их. За каждую отметку в инстаграме выдавать бонусы на счет в CRM\n",
    "\n",
    "\n",
    "- Необходимо проводить работу с клиентами, кто пришел один раз и не возвращается. Если спустя два месяца клиент не вернулся, то стоит ему напомнить о визите в барбершоп, предложив промокод\n",
    "\n",
    "\n",
    "- У каждого нового клиента после визита нужно запрашивать обратную связь. И желательно не сразу, а через пару дней, когда клиент уже помыл голову дома, его прическу увидели домашние и у него сложилась полная картина о стрижке и заведении. Можно предложить таким клиентам промокод за публикацию отзыва, желательно в яндексе. Не удалять плохие отзывы, а работать над ними. Возможно, все дело в некачественных услугах\n",
    "\n",
    "\n",
    "- Скидки новым клиентам это хорошо, но нет гарантии, что без скидки он сможет позволить себе данную услугу. Считаю нужным сократить размер первой скидки или вводить дополнительные кампании по удержанию клиентов. Скидка на первый визит должна полагаться каждому новому клиенту и это нужно контролировать, возможности Yclients это позволяют\n",
    "\n",
    "\n",
    "- Ввести бонусную систему в CRM, автоматически копить клиентам кэшбек 5%. Начислять бонусы можно самостоятельно и временно, оповещая об этом клиентов, например, начислить потеряшке 500р бонусов на следующий визит сроком в один месяц. 1 бонус = 1 рубль, потратить можно до 50% оплаты чека\n",
    "\n",
    "\n",
    "- Рассылки клиентам нельзя делать часто, чтобы не отправиться в спам или блок. Если клиент за 2-3 рассылки с промокодами и баллами не вернулся, то он оканчательно останется в оттоке, оставьте его в покое, вы уже его потеряли. \n",
    "\n",
    "\n",
    "- Проводить анализ клиентов необходимо ежемесячно и работаь с потеряшками, которые докатились до текущего периода (потерей можно считать непосещение заведения более 60-90 дней)\n",
    "\n",
    "\n",
    "- Стоит регулярно отправлять мастеров на повышения и мастер-классы для повышения уровня предоставляемых услуг\n",
    "\n",
    "\n",
    "- Напоминать о визите тем, кто не пришел на запись и не записался вновь\n",
    "\n",
    "\n",
    "- Очень важно работать над удержанием клиента и не допускать большого разрыва между записями.\n",
    "\n",
    "\n",
    "- Общий счет выручки клиента сильно влияет на отток, поэтому нужно повышать продажи, предлагать доп услуги (но не навязывать).\n",
    "\n",
    "\n",
    "- Максимально дружеское расположение клиента повышает его лояльность\n",
    "\n",
    "\n",
    "- Для внедрения новой системы, новых акций и прочих мероприятий можно провести опрос среди клиентов относящихся к 3 и 4 категориям\n",
    "\n",
    "\n",
    "- Пока таргет в инстаграме невозможен, нужно работать над таргетом в яндексе и Вконтакте. Поиск новых клиентов по всем доступным площадкам. Работать над карточкой заведения в Яндексе и заполучить заведную звезду \"Отличное место\" с рейтингом (уже более свежую) и гордится этим\n",
    "\n",
    "\n",
    "- Изучив отзывы могу сказать следущее (все эти пункты влияют на мнение клиентов о барбершопе): \n",
    " - Мастерам стоит поработать над качеством услуг. \n",
    " - Стиль одежды администраторов должен быть строгим и элегантным, единым\n",
    " - Форма мастеров должна быть одинаковой, чистой и опрятной\n",
    " - Создавать первое впечатление необходимо с первой секунды гостя (а именно с записи и входа). Никогда нельзя второй раз создать первой впечатление\n",
    " - Обратить внимание на кресло и мойку, многие клиенты жалуются на неудобство\n",
    " - Гостям не приятно находится в зале, где есть другой заведение и через них ходят покупатели. Это \"проходной двор\" и такое недопустимо для создания комфортной атмосферы. Нужно как-то решаить такую проблему\n",
    " - В комнате персонала должна быть чистота и порядок и дверь должна быть всегда закрыта. Никакие запахи не должны разносится по общему залу. В таких заведения запрещено употреблять еду с сильными запахами (фаст фуд, рыба..)\n",
    " - Нельзя спорить с клиентом и предлагать свое видение, если клиент изначально указал на четкий план стрижки\n",
    " - Внимание к клиенту важный момент, это касается и внимательного слушания и аккуратного внимания со стороны администратора\n",
    " - При стрижки голову нужно мыть всегда два раза: до и после\n",
    " - Некоторые клиенты жалуются на дискомфорт при мытье головы. Грубо и жестко\n",
    " - Много отзывов на следующий день после стрижки, где клиенты замечают косяки. Это важный пункт после которого клиент не вернется\n",
    " - Нужно отвечать на каждый отзыв и давать обратную связь, не важно плохой он или хороший. Многие ответы в Яндексе выглядят с насмешкой, наличие большого количества \"))))\", лучше использовать подходящие смайлики для дружелюбного настроя\n",
    " - Очень много отзывов (и не только на яндексе) о некачетсвенных стрижках и многие замечают это уже после мытья головы дома. Укладывать и скрывать недостатки плохое качество мастера\n",
    " - Нужно искать и привлекать более опытных специалистов, предлагая лучшие условия (выходы, премии, другой %)\n",
    " - Музыка не может быть громкой и мешать клиентам. Стоит выбрать онлайн радио с универсальной музыкой, более подходящей заведению и каждому клиенту\n",
    " - Общение между персоналом на личные темы не допустимы. Нужно поработать над сервисом"
   ]
  }
 ],
 "metadata": {
  "kernelspec": {
   "display_name": "Python 3 (ipykernel)",
   "language": "python",
   "name": "python3"
  },
  "language_info": {
   "codemirror_mode": {
    "name": "ipython",
    "version": 3
   },
   "file_extension": ".py",
   "mimetype": "text/x-python",
   "name": "python",
   "nbconvert_exporter": "python",
   "pygments_lexer": "ipython3",
   "version": "3.9.12"
  },
  "toc": {
   "base_numbering": 1,
   "nav_menu": {},
   "number_sections": true,
   "sideBar": true,
   "skip_h1_title": false,
   "title_cell": "Table of Contents",
   "title_sidebar": "Contents",
   "toc_cell": false,
   "toc_position": {
    "height": "calc(100% - 180px)",
    "left": "10px",
    "top": "150px",
    "width": "165px"
   },
   "toc_section_display": true,
   "toc_window_display": true
  }
 },
 "nbformat": 4,
 "nbformat_minor": 5
}
