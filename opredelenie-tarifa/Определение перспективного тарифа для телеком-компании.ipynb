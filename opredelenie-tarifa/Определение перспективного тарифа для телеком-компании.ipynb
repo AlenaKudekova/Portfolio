{
 "cells": [
  {
   "cell_type": "markdown",
   "metadata": {},
   "source": [
    "# Определение перспективного тарифа для телеком-компании\n",
    "\n",
    "\n",
    "**Описание проекта**\n",
    "\n",
    "Вы аналитик компании «Мегалайн» — федерального оператора сотовой связи. Клиентам предлагают два тарифных плана: «Смарт» и «Ультра». Чтобы скорректировать рекламный бюджет, коммерческий департамент хочет понять, какой тариф приносит больше денег.\n",
    "\n",
    "Вам предстоит сделать предварительный анализ тарифов на небольшой выборке клиентов. В вашем распоряжении данные 500 пользователей «Мегалайна»: кто они, откуда, каким тарифом пользуются, сколько звонков и сообщений каждый отправил за 2018 год. Нужно проанализировать поведение клиентов и сделать вывод — какой тариф лучше."
   ]
  },
  {
   "cell_type": "markdown",
   "metadata": {},
   "source": [
    "## Изучение данных из файлов"
   ]
  },
  {
   "cell_type": "markdown",
   "metadata": {},
   "source": [
    "### Загрузка файлов"
   ]
  },
  {
   "cell_type": "code",
   "execution_count": 1,
   "metadata": {},
   "outputs": [],
   "source": [
    "import pandas as pd\n",
    "from datetime import datetime as dt\n",
    "import numpy as np\n",
    "from scipy import stats as st\n",
    "\n",
    "import warnings\n",
    "\n",
    "warnings.filterwarnings(\"ignore\")\n",
    "\n",
    "calls = pd.read_csv('/datasets/calls.csv')\n",
    "internet = pd.read_csv('/datasets/internet.csv', index_col=0)\n",
    "messages = pd.read_csv('/datasets/messages.csv')\n",
    "tariffs = pd.read_csv('/datasets/tariffs.csv')\n",
    "users = pd.read_csv('/datasets/users.csv')"
   ]
  },
  {
   "cell_type": "code",
   "execution_count": 2,
   "metadata": {},
   "outputs": [
    {
     "data": {
      "text/html": [
       "<div>\n",
       "<style scoped>\n",
       "    .dataframe tbody tr th:only-of-type {\n",
       "        vertical-align: middle;\n",
       "    }\n",
       "\n",
       "    .dataframe tbody tr th {\n",
       "        vertical-align: top;\n",
       "    }\n",
       "\n",
       "    .dataframe thead th {\n",
       "        text-align: right;\n",
       "    }\n",
       "</style>\n",
       "<table border=\"1\" class=\"dataframe\">\n",
       "  <thead>\n",
       "    <tr style=\"text-align: right;\">\n",
       "      <th></th>\n",
       "      <th>id</th>\n",
       "      <th>call_date</th>\n",
       "      <th>duration</th>\n",
       "      <th>user_id</th>\n",
       "    </tr>\n",
       "  </thead>\n",
       "  <tbody>\n",
       "    <tr>\n",
       "      <th>0</th>\n",
       "      <td>1000_0</td>\n",
       "      <td>2018-07-25</td>\n",
       "      <td>0.00</td>\n",
       "      <td>1000</td>\n",
       "    </tr>\n",
       "    <tr>\n",
       "      <th>1</th>\n",
       "      <td>1000_1</td>\n",
       "      <td>2018-08-17</td>\n",
       "      <td>0.00</td>\n",
       "      <td>1000</td>\n",
       "    </tr>\n",
       "    <tr>\n",
       "      <th>2</th>\n",
       "      <td>1000_2</td>\n",
       "      <td>2018-06-11</td>\n",
       "      <td>2.85</td>\n",
       "      <td>1000</td>\n",
       "    </tr>\n",
       "    <tr>\n",
       "      <th>3</th>\n",
       "      <td>1000_3</td>\n",
       "      <td>2018-09-21</td>\n",
       "      <td>13.80</td>\n",
       "      <td>1000</td>\n",
       "    </tr>\n",
       "    <tr>\n",
       "      <th>4</th>\n",
       "      <td>1000_4</td>\n",
       "      <td>2018-12-15</td>\n",
       "      <td>5.18</td>\n",
       "      <td>1000</td>\n",
       "    </tr>\n",
       "  </tbody>\n",
       "</table>\n",
       "</div>"
      ],
      "text/plain": [
       "       id   call_date  duration  user_id\n",
       "0  1000_0  2018-07-25      0.00     1000\n",
       "1  1000_1  2018-08-17      0.00     1000\n",
       "2  1000_2  2018-06-11      2.85     1000\n",
       "3  1000_3  2018-09-21     13.80     1000\n",
       "4  1000_4  2018-12-15      5.18     1000"
      ]
     },
     "execution_count": 2,
     "metadata": {},
     "output_type": "execute_result"
    }
   ],
   "source": [
    "calls.head()"
   ]
  },
  {
   "cell_type": "code",
   "execution_count": 3,
   "metadata": {},
   "outputs": [
    {
     "name": "stdout",
     "output_type": "stream",
     "text": [
      "<class 'pandas.core.frame.DataFrame'>\n",
      "RangeIndex: 202607 entries, 0 to 202606\n",
      "Data columns (total 4 columns):\n",
      " #   Column     Non-Null Count   Dtype  \n",
      "---  ------     --------------   -----  \n",
      " 0   id         202607 non-null  object \n",
      " 1   call_date  202607 non-null  object \n",
      " 2   duration   202607 non-null  float64\n",
      " 3   user_id    202607 non-null  int64  \n",
      "dtypes: float64(1), int64(1), object(2)\n",
      "memory usage: 6.2+ MB\n"
     ]
    }
   ],
   "source": [
    "calls.info()"
   ]
  },
  {
   "cell_type": "markdown",
   "metadata": {},
   "source": [
    "- У нас есть 5 файлов, из которых мы будем получать всю необходимую информацию. \n",
    "\n",
    "Первый файл `calls` - 4 столбца, 202.607 строк, пропуски не наблюдаю. Сразу видим, что колонку с датой надо будет перевести в другой тип. \n"
   ]
  },
  {
   "cell_type": "code",
   "execution_count": 4,
   "metadata": {},
   "outputs": [
    {
     "data": {
      "text/html": [
       "<div>\n",
       "<style scoped>\n",
       "    .dataframe tbody tr th:only-of-type {\n",
       "        vertical-align: middle;\n",
       "    }\n",
       "\n",
       "    .dataframe tbody tr th {\n",
       "        vertical-align: top;\n",
       "    }\n",
       "\n",
       "    .dataframe thead th {\n",
       "        text-align: right;\n",
       "    }\n",
       "</style>\n",
       "<table border=\"1\" class=\"dataframe\">\n",
       "  <thead>\n",
       "    <tr style=\"text-align: right;\">\n",
       "      <th></th>\n",
       "      <th>id</th>\n",
       "      <th>mb_used</th>\n",
       "      <th>session_date</th>\n",
       "      <th>user_id</th>\n",
       "    </tr>\n",
       "  </thead>\n",
       "  <tbody>\n",
       "    <tr>\n",
       "      <th>0</th>\n",
       "      <td>1000_0</td>\n",
       "      <td>112.95</td>\n",
       "      <td>2018-11-25</td>\n",
       "      <td>1000</td>\n",
       "    </tr>\n",
       "    <tr>\n",
       "      <th>1</th>\n",
       "      <td>1000_1</td>\n",
       "      <td>1052.81</td>\n",
       "      <td>2018-09-07</td>\n",
       "      <td>1000</td>\n",
       "    </tr>\n",
       "    <tr>\n",
       "      <th>2</th>\n",
       "      <td>1000_2</td>\n",
       "      <td>1197.26</td>\n",
       "      <td>2018-06-25</td>\n",
       "      <td>1000</td>\n",
       "    </tr>\n",
       "    <tr>\n",
       "      <th>3</th>\n",
       "      <td>1000_3</td>\n",
       "      <td>550.27</td>\n",
       "      <td>2018-08-22</td>\n",
       "      <td>1000</td>\n",
       "    </tr>\n",
       "    <tr>\n",
       "      <th>4</th>\n",
       "      <td>1000_4</td>\n",
       "      <td>302.56</td>\n",
       "      <td>2018-09-24</td>\n",
       "      <td>1000</td>\n",
       "    </tr>\n",
       "  </tbody>\n",
       "</table>\n",
       "</div>"
      ],
      "text/plain": [
       "       id  mb_used session_date  user_id\n",
       "0  1000_0   112.95   2018-11-25     1000\n",
       "1  1000_1  1052.81   2018-09-07     1000\n",
       "2  1000_2  1197.26   2018-06-25     1000\n",
       "3  1000_3   550.27   2018-08-22     1000\n",
       "4  1000_4   302.56   2018-09-24     1000"
      ]
     },
     "execution_count": 4,
     "metadata": {},
     "output_type": "execute_result"
    }
   ],
   "source": [
    "internet.head()"
   ]
  },
  {
   "cell_type": "code",
   "execution_count": 5,
   "metadata": {},
   "outputs": [
    {
     "name": "stdout",
     "output_type": "stream",
     "text": [
      "<class 'pandas.core.frame.DataFrame'>\n",
      "Int64Index: 149396 entries, 0 to 149395\n",
      "Data columns (total 4 columns):\n",
      " #   Column        Non-Null Count   Dtype  \n",
      "---  ------        --------------   -----  \n",
      " 0   id            149396 non-null  object \n",
      " 1   mb_used       149396 non-null  float64\n",
      " 2   session_date  149396 non-null  object \n",
      " 3   user_id       149396 non-null  int64  \n",
      "dtypes: float64(1), int64(1), object(2)\n",
      "memory usage: 5.7+ MB\n"
     ]
    }
   ],
   "source": [
    "internet.info()"
   ]
  },
  {
   "cell_type": "markdown",
   "metadata": {},
   "source": [
    "Второй - `internet`. Тут у нас 5 столбцов, 149.396 строк (что гораздо меньше первого файла). Надо будет отже поработать с типом данных в этом датасете. Кстати, общий столбец - user_id. Возможно, именно по нему придеться объеденить файлы. "
   ]
  },
  {
   "cell_type": "code",
   "execution_count": 6,
   "metadata": {},
   "outputs": [
    {
     "data": {
      "text/html": [
       "<div>\n",
       "<style scoped>\n",
       "    .dataframe tbody tr th:only-of-type {\n",
       "        vertical-align: middle;\n",
       "    }\n",
       "\n",
       "    .dataframe tbody tr th {\n",
       "        vertical-align: top;\n",
       "    }\n",
       "\n",
       "    .dataframe thead th {\n",
       "        text-align: right;\n",
       "    }\n",
       "</style>\n",
       "<table border=\"1\" class=\"dataframe\">\n",
       "  <thead>\n",
       "    <tr style=\"text-align: right;\">\n",
       "      <th></th>\n",
       "      <th>id</th>\n",
       "      <th>message_date</th>\n",
       "      <th>user_id</th>\n",
       "    </tr>\n",
       "  </thead>\n",
       "  <tbody>\n",
       "    <tr>\n",
       "      <th>0</th>\n",
       "      <td>1000_0</td>\n",
       "      <td>2018-06-27</td>\n",
       "      <td>1000</td>\n",
       "    </tr>\n",
       "    <tr>\n",
       "      <th>1</th>\n",
       "      <td>1000_1</td>\n",
       "      <td>2018-10-08</td>\n",
       "      <td>1000</td>\n",
       "    </tr>\n",
       "    <tr>\n",
       "      <th>2</th>\n",
       "      <td>1000_2</td>\n",
       "      <td>2018-08-04</td>\n",
       "      <td>1000</td>\n",
       "    </tr>\n",
       "    <tr>\n",
       "      <th>3</th>\n",
       "      <td>1000_3</td>\n",
       "      <td>2018-06-16</td>\n",
       "      <td>1000</td>\n",
       "    </tr>\n",
       "    <tr>\n",
       "      <th>4</th>\n",
       "      <td>1000_4</td>\n",
       "      <td>2018-12-05</td>\n",
       "      <td>1000</td>\n",
       "    </tr>\n",
       "  </tbody>\n",
       "</table>\n",
       "</div>"
      ],
      "text/plain": [
       "       id message_date  user_id\n",
       "0  1000_0   2018-06-27     1000\n",
       "1  1000_1   2018-10-08     1000\n",
       "2  1000_2   2018-08-04     1000\n",
       "3  1000_3   2018-06-16     1000\n",
       "4  1000_4   2018-12-05     1000"
      ]
     },
     "execution_count": 6,
     "metadata": {},
     "output_type": "execute_result"
    }
   ],
   "source": [
    "messages.head()"
   ]
  },
  {
   "cell_type": "code",
   "execution_count": 7,
   "metadata": {},
   "outputs": [
    {
     "name": "stdout",
     "output_type": "stream",
     "text": [
      "<class 'pandas.core.frame.DataFrame'>\n",
      "RangeIndex: 123036 entries, 0 to 123035\n",
      "Data columns (total 3 columns):\n",
      " #   Column        Non-Null Count   Dtype \n",
      "---  ------        --------------   ----- \n",
      " 0   id            123036 non-null  object\n",
      " 1   message_date  123036 non-null  object\n",
      " 2   user_id       123036 non-null  int64 \n",
      "dtypes: int64(1), object(2)\n",
      "memory usage: 2.8+ MB\n"
     ]
    }
   ],
   "source": [
    "messages.info()"
   ]
  },
  {
   "cell_type": "markdown",
   "metadata": {},
   "source": [
    "Третий - `messages`. 3 столбца, 123.036 строк. Еще меньше. Зато до сих пор без пропусков. Общий все тот же столбец с id."
   ]
  },
  {
   "cell_type": "code",
   "execution_count": 8,
   "metadata": {},
   "outputs": [
    {
     "data": {
      "text/html": [
       "<div>\n",
       "<style scoped>\n",
       "    .dataframe tbody tr th:only-of-type {\n",
       "        vertical-align: middle;\n",
       "    }\n",
       "\n",
       "    .dataframe tbody tr th {\n",
       "        vertical-align: top;\n",
       "    }\n",
       "\n",
       "    .dataframe thead th {\n",
       "        text-align: right;\n",
       "    }\n",
       "</style>\n",
       "<table border=\"1\" class=\"dataframe\">\n",
       "  <thead>\n",
       "    <tr style=\"text-align: right;\">\n",
       "      <th></th>\n",
       "      <th>messages_included</th>\n",
       "      <th>mb_per_month_included</th>\n",
       "      <th>minutes_included</th>\n",
       "      <th>rub_monthly_fee</th>\n",
       "      <th>rub_per_gb</th>\n",
       "      <th>rub_per_message</th>\n",
       "      <th>rub_per_minute</th>\n",
       "      <th>tariff_name</th>\n",
       "    </tr>\n",
       "  </thead>\n",
       "  <tbody>\n",
       "    <tr>\n",
       "      <th>0</th>\n",
       "      <td>50</td>\n",
       "      <td>15360</td>\n",
       "      <td>500</td>\n",
       "      <td>550</td>\n",
       "      <td>200</td>\n",
       "      <td>3</td>\n",
       "      <td>3</td>\n",
       "      <td>smart</td>\n",
       "    </tr>\n",
       "    <tr>\n",
       "      <th>1</th>\n",
       "      <td>1000</td>\n",
       "      <td>30720</td>\n",
       "      <td>3000</td>\n",
       "      <td>1950</td>\n",
       "      <td>150</td>\n",
       "      <td>1</td>\n",
       "      <td>1</td>\n",
       "      <td>ultra</td>\n",
       "    </tr>\n",
       "  </tbody>\n",
       "</table>\n",
       "</div>"
      ],
      "text/plain": [
       "   messages_included  mb_per_month_included  minutes_included  \\\n",
       "0                 50                  15360               500   \n",
       "1               1000                  30720              3000   \n",
       "\n",
       "   rub_monthly_fee  rub_per_gb  rub_per_message  rub_per_minute tariff_name  \n",
       "0              550         200                3               3       smart  \n",
       "1             1950         150                1               1       ultra  "
      ]
     },
     "execution_count": 8,
     "metadata": {},
     "output_type": "execute_result"
    }
   ],
   "source": [
    "tariffs.head()"
   ]
  },
  {
   "cell_type": "code",
   "execution_count": 9,
   "metadata": {},
   "outputs": [
    {
     "name": "stdout",
     "output_type": "stream",
     "text": [
      "<class 'pandas.core.frame.DataFrame'>\n",
      "RangeIndex: 2 entries, 0 to 1\n",
      "Data columns (total 8 columns):\n",
      " #   Column                 Non-Null Count  Dtype \n",
      "---  ------                 --------------  ----- \n",
      " 0   messages_included      2 non-null      int64 \n",
      " 1   mb_per_month_included  2 non-null      int64 \n",
      " 2   minutes_included       2 non-null      int64 \n",
      " 3   rub_monthly_fee        2 non-null      int64 \n",
      " 4   rub_per_gb             2 non-null      int64 \n",
      " 5   rub_per_message        2 non-null      int64 \n",
      " 6   rub_per_minute         2 non-null      int64 \n",
      " 7   tariff_name            2 non-null      object\n",
      "dtypes: int64(7), object(1)\n",
      "memory usage: 256.0+ bytes\n"
     ]
    }
   ],
   "source": [
    "tariffs.info()"
   ]
  },
  {
   "cell_type": "markdown",
   "metadata": {},
   "source": [
    "Четвертый - `tariffs`. 8 столбцов и 2 строки. У нас всего два тарифа, поэтому очевидно. "
   ]
  },
  {
   "cell_type": "code",
   "execution_count": 10,
   "metadata": {},
   "outputs": [
    {
     "data": {
      "text/html": [
       "<div>\n",
       "<style scoped>\n",
       "    .dataframe tbody tr th:only-of-type {\n",
       "        vertical-align: middle;\n",
       "    }\n",
       "\n",
       "    .dataframe tbody tr th {\n",
       "        vertical-align: top;\n",
       "    }\n",
       "\n",
       "    .dataframe thead th {\n",
       "        text-align: right;\n",
       "    }\n",
       "</style>\n",
       "<table border=\"1\" class=\"dataframe\">\n",
       "  <thead>\n",
       "    <tr style=\"text-align: right;\">\n",
       "      <th></th>\n",
       "      <th>user_id</th>\n",
       "      <th>age</th>\n",
       "      <th>churn_date</th>\n",
       "      <th>city</th>\n",
       "      <th>first_name</th>\n",
       "      <th>last_name</th>\n",
       "      <th>reg_date</th>\n",
       "      <th>tariff</th>\n",
       "    </tr>\n",
       "  </thead>\n",
       "  <tbody>\n",
       "    <tr>\n",
       "      <th>0</th>\n",
       "      <td>1000</td>\n",
       "      <td>52</td>\n",
       "      <td>NaN</td>\n",
       "      <td>Краснодар</td>\n",
       "      <td>Рафаил</td>\n",
       "      <td>Верещагин</td>\n",
       "      <td>2018-05-25</td>\n",
       "      <td>ultra</td>\n",
       "    </tr>\n",
       "    <tr>\n",
       "      <th>1</th>\n",
       "      <td>1001</td>\n",
       "      <td>41</td>\n",
       "      <td>NaN</td>\n",
       "      <td>Москва</td>\n",
       "      <td>Иван</td>\n",
       "      <td>Ежов</td>\n",
       "      <td>2018-11-01</td>\n",
       "      <td>smart</td>\n",
       "    </tr>\n",
       "    <tr>\n",
       "      <th>2</th>\n",
       "      <td>1002</td>\n",
       "      <td>59</td>\n",
       "      <td>NaN</td>\n",
       "      <td>Стерлитамак</td>\n",
       "      <td>Евгений</td>\n",
       "      <td>Абрамович</td>\n",
       "      <td>2018-06-17</td>\n",
       "      <td>smart</td>\n",
       "    </tr>\n",
       "    <tr>\n",
       "      <th>3</th>\n",
       "      <td>1003</td>\n",
       "      <td>23</td>\n",
       "      <td>NaN</td>\n",
       "      <td>Москва</td>\n",
       "      <td>Белла</td>\n",
       "      <td>Белякова</td>\n",
       "      <td>2018-08-17</td>\n",
       "      <td>ultra</td>\n",
       "    </tr>\n",
       "    <tr>\n",
       "      <th>4</th>\n",
       "      <td>1004</td>\n",
       "      <td>68</td>\n",
       "      <td>NaN</td>\n",
       "      <td>Новокузнецк</td>\n",
       "      <td>Татьяна</td>\n",
       "      <td>Авдеенко</td>\n",
       "      <td>2018-05-14</td>\n",
       "      <td>ultra</td>\n",
       "    </tr>\n",
       "  </tbody>\n",
       "</table>\n",
       "</div>"
      ],
      "text/plain": [
       "   user_id  age churn_date         city first_name  last_name    reg_date  \\\n",
       "0     1000   52        NaN    Краснодар     Рафаил  Верещагин  2018-05-25   \n",
       "1     1001   41        NaN       Москва       Иван       Ежов  2018-11-01   \n",
       "2     1002   59        NaN  Стерлитамак    Евгений  Абрамович  2018-06-17   \n",
       "3     1003   23        NaN       Москва      Белла   Белякова  2018-08-17   \n",
       "4     1004   68        NaN  Новокузнецк    Татьяна   Авдеенко  2018-05-14   \n",
       "\n",
       "  tariff  \n",
       "0  ultra  \n",
       "1  smart  \n",
       "2  smart  \n",
       "3  ultra  \n",
       "4  ultra  "
      ]
     },
     "execution_count": 10,
     "metadata": {},
     "output_type": "execute_result"
    }
   ],
   "source": [
    "users.head()"
   ]
  },
  {
   "cell_type": "code",
   "execution_count": 11,
   "metadata": {},
   "outputs": [
    {
     "name": "stdout",
     "output_type": "stream",
     "text": [
      "<class 'pandas.core.frame.DataFrame'>\n",
      "RangeIndex: 500 entries, 0 to 499\n",
      "Data columns (total 8 columns):\n",
      " #   Column      Non-Null Count  Dtype \n",
      "---  ------      --------------  ----- \n",
      " 0   user_id     500 non-null    int64 \n",
      " 1   age         500 non-null    int64 \n",
      " 2   churn_date  38 non-null     object\n",
      " 3   city        500 non-null    object\n",
      " 4   first_name  500 non-null    object\n",
      " 5   last_name   500 non-null    object\n",
      " 6   reg_date    500 non-null    object\n",
      " 7   tariff      500 non-null    object\n",
      "dtypes: int64(2), object(6)\n",
      "memory usage: 31.4+ KB\n"
     ]
    }
   ],
   "source": [
    "users.info()"
   ]
  },
  {
   "cell_type": "markdown",
   "metadata": {},
   "source": [
    "И, наконец, пятый - `users`. Здесь у нас 8 столбцов, 500 строк. Скорее всего это та самая выборка по 500 пользователям. "
   ]
  },
  {
   "cell_type": "markdown",
   "metadata": {},
   "source": [
    "### Вывод\n",
    "\n",
    "Методом `.info()` мы проверили все датасеты и узнали информацию. Сейчас предстоит немного привести в порядок данные и объединить таблицы для дальнейшей работы. \n",
    "\n",
    "Названия колонок: \n",
    "\n",
    "**Таблица users (информация о пользователях):**\n",
    "- user_id — уникальный идентификатор пользователя\n",
    "- first_name — имя пользователя\n",
    "- last_name — фамилия пользователя\n",
    "- age — возраст пользователя (годы)\n",
    "- reg_date — дата подключения тарифа (день, месяц, год)\n",
    "- churn_date — дата прекращения пользования тарифом (если значение пропущено, то тариф ещё действовал на момент выгрузки данных)\n",
    "- city — город проживания пользователя\n",
    "- tariff — название тарифного плана\n",
    "\n",
    "**Таблица calls (информация о звонках):**\n",
    "- id — уникальный номер звонка\n",
    "- call_date — дата звонка\n",
    "- duration — длительность звонка в минутах\n",
    "- user_id — идентификатор пользователя, сделавшего звонок\n",
    "\n",
    "**Таблица messages (информация о сообщениях):**\n",
    "- id — уникальный номер сообщения\n",
    "- message_date — дата сообщения\n",
    "- user_id — идентификатор пользователя, отправившего сообщение\n",
    "\n",
    "**Таблица internet (информация об интернет-сессиях):**\n",
    "- id — уникальный номер сессии\n",
    "- mb_used — объём потраченного за сессию интернет-трафика (в мегабайтах)\n",
    "- session_date — дата интернет-сессии\n",
    "- user_id — идентификатор пользователя\n",
    "\n",
    "**Таблица tariffs (информация о тарифах):**\n",
    "- tariff_name — название тарифа\n",
    "- rub_monthly_fee — ежемесячная абонентская плата в рублях\n",
    "- minutes_included — количество минут разговора в месяц, включённых в абонентскую плату\n",
    "- messages_included — количество сообщений в месяц, включённых в абонентскую плату\n",
    "- mb_per_month_included — объём интернет-трафика, включённого в абонентскую плату (в мегабайтах)\n",
    "- rub_per_minute — стоимость минуты разговора сверх тарифного пакета (например, если в тарифе 100 минут разговора в месяц, то со 101 минуты будет взиматься плата)\n",
    "- rub_per_message — стоимость отправки сообщения сверх тарифного пакета\n",
    "- rub_per_gb — стоимость дополнительного гигабайта интернет-трафика сверх тарифного пакета (1 гигабайт = 1024 мегабайта)"
   ]
  },
  {
   "cell_type": "markdown",
   "metadata": {},
   "source": [
    "## Предобработка данных"
   ]
  },
  {
   "cell_type": "markdown",
   "metadata": {},
   "source": [
    "### Проверка пропусков"
   ]
  },
  {
   "cell_type": "code",
   "execution_count": 12,
   "metadata": {},
   "outputs": [
    {
     "data": {
      "text/plain": [
       "user_id         0\n",
       "age             0\n",
       "churn_date    462\n",
       "city            0\n",
       "first_name      0\n",
       "last_name       0\n",
       "reg_date        0\n",
       "tariff          0\n",
       "dtype: int64"
      ]
     },
     "execution_count": 12,
     "metadata": {},
     "output_type": "execute_result"
    }
   ],
   "source": [
    "#на всякий случай проверим пропуски во всех датасетах\n",
    "\n",
    "users.isna().sum()"
   ]
  },
  {
   "cell_type": "markdown",
   "metadata": {},
   "source": [
    "Пропуск только в столбце даты прекращения пользования тарифом. Указано, что пропуск является основанием полагать, что на момент выгрузки тариф все еще действует) "
   ]
  },
  {
   "cell_type": "code",
   "execution_count": 13,
   "metadata": {},
   "outputs": [
    {
     "data": {
      "text/plain": [
       "id              0\n",
       "message_date    0\n",
       "user_id         0\n",
       "dtype: int64"
      ]
     },
     "execution_count": 13,
     "metadata": {},
     "output_type": "execute_result"
    }
   ],
   "source": [
    "messages.isna().sum()"
   ]
  },
  {
   "cell_type": "code",
   "execution_count": 14,
   "metadata": {},
   "outputs": [
    {
     "data": {
      "text/plain": [
       "id              0\n",
       "mb_used         0\n",
       "session_date    0\n",
       "user_id         0\n",
       "dtype: int64"
      ]
     },
     "execution_count": 14,
     "metadata": {},
     "output_type": "execute_result"
    }
   ],
   "source": [
    "internet.isna().sum()"
   ]
  },
  {
   "cell_type": "code",
   "execution_count": 15,
   "metadata": {},
   "outputs": [
    {
     "data": {
      "text/plain": [
       "id           0\n",
       "call_date    0\n",
       "duration     0\n",
       "user_id      0\n",
       "dtype: int64"
      ]
     },
     "execution_count": 15,
     "metadata": {},
     "output_type": "execute_result"
    }
   ],
   "source": [
    "calls.isna().sum()"
   ]
  },
  {
   "cell_type": "code",
   "execution_count": 16,
   "metadata": {},
   "outputs": [
    {
     "data": {
      "text/plain": [
       "messages_included        0\n",
       "mb_per_month_included    0\n",
       "minutes_included         0\n",
       "rub_monthly_fee          0\n",
       "rub_per_gb               0\n",
       "rub_per_message          0\n",
       "rub_per_minute           0\n",
       "tariff_name              0\n",
       "dtype: int64"
      ]
     },
     "execution_count": 16,
     "metadata": {},
     "output_type": "execute_result"
    }
   ],
   "source": [
    "tariffs.isna().sum()"
   ]
  },
  {
   "cell_type": "markdown",
   "metadata": {},
   "source": [
    "Как здорово, пропуски отсутствуют) Едем дальше!"
   ]
  },
  {
   "cell_type": "markdown",
   "metadata": {},
   "source": [
    "### Изменение типов данных"
   ]
  },
  {
   "cell_type": "code",
   "execution_count": 17,
   "metadata": {},
   "outputs": [
    {
     "name": "stdout",
     "output_type": "stream",
     "text": [
      "<class 'pandas.core.frame.DataFrame'>\n",
      "RangeIndex: 202607 entries, 0 to 202606\n",
      "Data columns (total 4 columns):\n",
      " #   Column     Non-Null Count   Dtype         \n",
      "---  ------     --------------   -----         \n",
      " 0   id         202607 non-null  object        \n",
      " 1   call_date  202607 non-null  datetime64[ns]\n",
      " 2   duration   202607 non-null  float64       \n",
      " 3   user_id    202607 non-null  int64         \n",
      "dtypes: datetime64[ns](1), float64(1), int64(1), object(1)\n",
      "memory usage: 6.2+ MB\n"
     ]
    }
   ],
   "source": [
    "#поменяем везде дату на тип данных даты\n",
    "\n",
    "calls['call_date'] = pd.to_datetime(calls['call_date'], format = '%Y-%m-%d')\n",
    "calls.info()\n",
    "#с помощью метода info проверяем, что Dtype изменился на нужный"
   ]
  },
  {
   "cell_type": "code",
   "execution_count": 18,
   "metadata": {},
   "outputs": [
    {
     "name": "stdout",
     "output_type": "stream",
     "text": [
      "<class 'pandas.core.frame.DataFrame'>\n",
      "Int64Index: 149396 entries, 0 to 149395\n",
      "Data columns (total 4 columns):\n",
      " #   Column        Non-Null Count   Dtype         \n",
      "---  ------        --------------   -----         \n",
      " 0   id            149396 non-null  object        \n",
      " 1   mb_used       149396 non-null  float64       \n",
      " 2   session_date  149396 non-null  datetime64[ns]\n",
      " 3   user_id       149396 non-null  int64         \n",
      "dtypes: datetime64[ns](1), float64(1), int64(1), object(1)\n",
      "memory usage: 5.7+ MB\n"
     ]
    }
   ],
   "source": [
    "internet['session_date'] = pd.to_datetime(internet['session_date'], format = '%Y-%m-%d')\n",
    "internet.info()"
   ]
  },
  {
   "cell_type": "code",
   "execution_count": 19,
   "metadata": {},
   "outputs": [
    {
     "name": "stdout",
     "output_type": "stream",
     "text": [
      "<class 'pandas.core.frame.DataFrame'>\n",
      "RangeIndex: 123036 entries, 0 to 123035\n",
      "Data columns (total 3 columns):\n",
      " #   Column        Non-Null Count   Dtype         \n",
      "---  ------        --------------   -----         \n",
      " 0   id            123036 non-null  object        \n",
      " 1   message_date  123036 non-null  datetime64[ns]\n",
      " 2   user_id       123036 non-null  int64         \n",
      "dtypes: datetime64[ns](1), int64(1), object(1)\n",
      "memory usage: 2.8+ MB\n"
     ]
    }
   ],
   "source": [
    "messages['message_date'] = pd.to_datetime(messages['message_date'], format = '%Y-%m-%d')\n",
    "messages.info()"
   ]
  },
  {
   "cell_type": "code",
   "execution_count": 20,
   "metadata": {
    "scrolled": true
   },
   "outputs": [
    {
     "name": "stdout",
     "output_type": "stream",
     "text": [
      "<class 'pandas.core.frame.DataFrame'>\n",
      "RangeIndex: 500 entries, 0 to 499\n",
      "Data columns (total 8 columns):\n",
      " #   Column      Non-Null Count  Dtype         \n",
      "---  ------      --------------  -----         \n",
      " 0   user_id     500 non-null    int64         \n",
      " 1   age         500 non-null    int64         \n",
      " 2   churn_date  38 non-null     datetime64[ns]\n",
      " 3   city        500 non-null    object        \n",
      " 4   first_name  500 non-null    object        \n",
      " 5   last_name   500 non-null    object        \n",
      " 6   reg_date    500 non-null    datetime64[ns]\n",
      " 7   tariff      500 non-null    object        \n",
      "dtypes: datetime64[ns](2), int64(2), object(4)\n",
      "memory usage: 31.4+ KB\n"
     ]
    }
   ],
   "source": [
    "users['churn_date'] = pd.to_datetime(users['churn_date'], format = '%Y-%m-%d')\n",
    "users['reg_date'] = pd.to_datetime(users['reg_date'], format = '%Y-%m-%d')\n",
    "users.info()"
   ]
  },
  {
   "cell_type": "markdown",
   "metadata": {},
   "source": [
    "### Добавление столбца month"
   ]
  },
  {
   "cell_type": "code",
   "execution_count": 21,
   "metadata": {},
   "outputs": [
    {
     "data": {
      "text/html": [
       "<div>\n",
       "<style scoped>\n",
       "    .dataframe tbody tr th:only-of-type {\n",
       "        vertical-align: middle;\n",
       "    }\n",
       "\n",
       "    .dataframe tbody tr th {\n",
       "        vertical-align: top;\n",
       "    }\n",
       "\n",
       "    .dataframe thead th {\n",
       "        text-align: right;\n",
       "    }\n",
       "</style>\n",
       "<table border=\"1\" class=\"dataframe\">\n",
       "  <thead>\n",
       "    <tr style=\"text-align: right;\">\n",
       "      <th></th>\n",
       "      <th>id</th>\n",
       "      <th>user_id</th>\n",
       "      <th>month</th>\n",
       "    </tr>\n",
       "  </thead>\n",
       "  <tbody>\n",
       "    <tr>\n",
       "      <th>0</th>\n",
       "      <td>1000_0</td>\n",
       "      <td>1000</td>\n",
       "      <td>6</td>\n",
       "    </tr>\n",
       "    <tr>\n",
       "      <th>1</th>\n",
       "      <td>1000_1</td>\n",
       "      <td>1000</td>\n",
       "      <td>10</td>\n",
       "    </tr>\n",
       "    <tr>\n",
       "      <th>2</th>\n",
       "      <td>1000_2</td>\n",
       "      <td>1000</td>\n",
       "      <td>8</td>\n",
       "    </tr>\n",
       "    <tr>\n",
       "      <th>3</th>\n",
       "      <td>1000_3</td>\n",
       "      <td>1000</td>\n",
       "      <td>6</td>\n",
       "    </tr>\n",
       "    <tr>\n",
       "      <th>4</th>\n",
       "      <td>1000_4</td>\n",
       "      <td>1000</td>\n",
       "      <td>12</td>\n",
       "    </tr>\n",
       "  </tbody>\n",
       "</table>\n",
       "</div>"
      ],
      "text/plain": [
       "       id  user_id  month\n",
       "0  1000_0     1000      6\n",
       "1  1000_1     1000     10\n",
       "2  1000_2     1000      8\n",
       "3  1000_3     1000      6\n",
       "4  1000_4     1000     12"
      ]
     },
     "execution_count": 21,
     "metadata": {},
     "output_type": "execute_result"
    }
   ],
   "source": [
    "messages['month'] = messages['message_date'].dt.month\n",
    "messages.pop('message_date')\n",
    "messages.head()"
   ]
  },
  {
   "cell_type": "code",
   "execution_count": 22,
   "metadata": {},
   "outputs": [
    {
     "data": {
      "text/html": [
       "<div>\n",
       "<style scoped>\n",
       "    .dataframe tbody tr th:only-of-type {\n",
       "        vertical-align: middle;\n",
       "    }\n",
       "\n",
       "    .dataframe tbody tr th {\n",
       "        vertical-align: top;\n",
       "    }\n",
       "\n",
       "    .dataframe thead th {\n",
       "        text-align: right;\n",
       "    }\n",
       "</style>\n",
       "<table border=\"1\" class=\"dataframe\">\n",
       "  <thead>\n",
       "    <tr style=\"text-align: right;\">\n",
       "      <th></th>\n",
       "      <th>id</th>\n",
       "      <th>mb_used</th>\n",
       "      <th>user_id</th>\n",
       "      <th>month</th>\n",
       "    </tr>\n",
       "  </thead>\n",
       "  <tbody>\n",
       "    <tr>\n",
       "      <th>0</th>\n",
       "      <td>1000_0</td>\n",
       "      <td>112.95</td>\n",
       "      <td>1000</td>\n",
       "      <td>11</td>\n",
       "    </tr>\n",
       "    <tr>\n",
       "      <th>1</th>\n",
       "      <td>1000_1</td>\n",
       "      <td>1052.81</td>\n",
       "      <td>1000</td>\n",
       "      <td>9</td>\n",
       "    </tr>\n",
       "    <tr>\n",
       "      <th>2</th>\n",
       "      <td>1000_2</td>\n",
       "      <td>1197.26</td>\n",
       "      <td>1000</td>\n",
       "      <td>6</td>\n",
       "    </tr>\n",
       "    <tr>\n",
       "      <th>3</th>\n",
       "      <td>1000_3</td>\n",
       "      <td>550.27</td>\n",
       "      <td>1000</td>\n",
       "      <td>8</td>\n",
       "    </tr>\n",
       "    <tr>\n",
       "      <th>4</th>\n",
       "      <td>1000_4</td>\n",
       "      <td>302.56</td>\n",
       "      <td>1000</td>\n",
       "      <td>9</td>\n",
       "    </tr>\n",
       "  </tbody>\n",
       "</table>\n",
       "</div>"
      ],
      "text/plain": [
       "       id  mb_used  user_id  month\n",
       "0  1000_0   112.95     1000     11\n",
       "1  1000_1  1052.81     1000      9\n",
       "2  1000_2  1197.26     1000      6\n",
       "3  1000_3   550.27     1000      8\n",
       "4  1000_4   302.56     1000      9"
      ]
     },
     "execution_count": 22,
     "metadata": {},
     "output_type": "execute_result"
    }
   ],
   "source": [
    "internet['month'] = internet['session_date'].dt.month\n",
    "internet.pop('session_date')\n",
    "internet.head()"
   ]
  },
  {
   "cell_type": "code",
   "execution_count": 23,
   "metadata": {
    "scrolled": true
   },
   "outputs": [
    {
     "data": {
      "text/html": [
       "<div>\n",
       "<style scoped>\n",
       "    .dataframe tbody tr th:only-of-type {\n",
       "        vertical-align: middle;\n",
       "    }\n",
       "\n",
       "    .dataframe tbody tr th {\n",
       "        vertical-align: top;\n",
       "    }\n",
       "\n",
       "    .dataframe thead th {\n",
       "        text-align: right;\n",
       "    }\n",
       "</style>\n",
       "<table border=\"1\" class=\"dataframe\">\n",
       "  <thead>\n",
       "    <tr style=\"text-align: right;\">\n",
       "      <th></th>\n",
       "      <th>id</th>\n",
       "      <th>duration</th>\n",
       "      <th>user_id</th>\n",
       "      <th>month</th>\n",
       "    </tr>\n",
       "  </thead>\n",
       "  <tbody>\n",
       "    <tr>\n",
       "      <th>0</th>\n",
       "      <td>1000_0</td>\n",
       "      <td>0.00</td>\n",
       "      <td>1000</td>\n",
       "      <td>7</td>\n",
       "    </tr>\n",
       "    <tr>\n",
       "      <th>1</th>\n",
       "      <td>1000_1</td>\n",
       "      <td>0.00</td>\n",
       "      <td>1000</td>\n",
       "      <td>8</td>\n",
       "    </tr>\n",
       "    <tr>\n",
       "      <th>2</th>\n",
       "      <td>1000_2</td>\n",
       "      <td>2.85</td>\n",
       "      <td>1000</td>\n",
       "      <td>6</td>\n",
       "    </tr>\n",
       "    <tr>\n",
       "      <th>3</th>\n",
       "      <td>1000_3</td>\n",
       "      <td>13.80</td>\n",
       "      <td>1000</td>\n",
       "      <td>9</td>\n",
       "    </tr>\n",
       "    <tr>\n",
       "      <th>4</th>\n",
       "      <td>1000_4</td>\n",
       "      <td>5.18</td>\n",
       "      <td>1000</td>\n",
       "      <td>12</td>\n",
       "    </tr>\n",
       "  </tbody>\n",
       "</table>\n",
       "</div>"
      ],
      "text/plain": [
       "       id  duration  user_id  month\n",
       "0  1000_0      0.00     1000      7\n",
       "1  1000_1      0.00     1000      8\n",
       "2  1000_2      2.85     1000      6\n",
       "3  1000_3     13.80     1000      9\n",
       "4  1000_4      5.18     1000     12"
      ]
     },
     "execution_count": 23,
     "metadata": {},
     "output_type": "execute_result"
    }
   ],
   "source": [
    "calls['month'] = calls['call_date'].dt.month\n",
    "calls.pop('call_date')\n",
    "calls.head()"
   ]
  },
  {
   "cell_type": "markdown",
   "metadata": {},
   "source": [
    "Теперь у нас есть номер месяца, в который совершали действия"
   ]
  },
  {
   "cell_type": "markdown",
   "metadata": {},
   "source": [
    "### Округление данных"
   ]
  },
  {
   "cell_type": "code",
   "execution_count": 24,
   "metadata": {
    "scrolled": true
   },
   "outputs": [
    {
     "data": {
      "text/html": [
       "<div>\n",
       "<style scoped>\n",
       "    .dataframe tbody tr th:only-of-type {\n",
       "        vertical-align: middle;\n",
       "    }\n",
       "\n",
       "    .dataframe tbody tr th {\n",
       "        vertical-align: top;\n",
       "    }\n",
       "\n",
       "    .dataframe thead th {\n",
       "        text-align: right;\n",
       "    }\n",
       "</style>\n",
       "<table border=\"1\" class=\"dataframe\">\n",
       "  <thead>\n",
       "    <tr style=\"text-align: right;\">\n",
       "      <th></th>\n",
       "      <th>id</th>\n",
       "      <th>mb_used</th>\n",
       "      <th>user_id</th>\n",
       "      <th>month</th>\n",
       "    </tr>\n",
       "  </thead>\n",
       "  <tbody>\n",
       "    <tr>\n",
       "      <th>0</th>\n",
       "      <td>1000_0</td>\n",
       "      <td>112.95</td>\n",
       "      <td>1000</td>\n",
       "      <td>11</td>\n",
       "    </tr>\n",
       "    <tr>\n",
       "      <th>1</th>\n",
       "      <td>1000_1</td>\n",
       "      <td>1052.81</td>\n",
       "      <td>1000</td>\n",
       "      <td>9</td>\n",
       "    </tr>\n",
       "    <tr>\n",
       "      <th>2</th>\n",
       "      <td>1000_2</td>\n",
       "      <td>1197.26</td>\n",
       "      <td>1000</td>\n",
       "      <td>6</td>\n",
       "    </tr>\n",
       "    <tr>\n",
       "      <th>3</th>\n",
       "      <td>1000_3</td>\n",
       "      <td>550.27</td>\n",
       "      <td>1000</td>\n",
       "      <td>8</td>\n",
       "    </tr>\n",
       "    <tr>\n",
       "      <th>4</th>\n",
       "      <td>1000_4</td>\n",
       "      <td>302.56</td>\n",
       "      <td>1000</td>\n",
       "      <td>9</td>\n",
       "    </tr>\n",
       "  </tbody>\n",
       "</table>\n",
       "</div>"
      ],
      "text/plain": [
       "       id  mb_used  user_id  month\n",
       "0  1000_0   112.95     1000     11\n",
       "1  1000_1  1052.81     1000      9\n",
       "2  1000_2  1197.26     1000      6\n",
       "3  1000_3   550.27     1000      8\n",
       "4  1000_4   302.56     1000      9"
      ]
     },
     "execution_count": 24,
     "metadata": {},
     "output_type": "execute_result"
    }
   ],
   "source": [
    "#согласно условиям, округление в компании происходит в большую сторону.\n",
    "internet.head()"
   ]
  },
  {
   "cell_type": "code",
   "execution_count": 25,
   "metadata": {},
   "outputs": [
    {
     "data": {
      "text/html": [
       "<div>\n",
       "<style scoped>\n",
       "    .dataframe tbody tr th:only-of-type {\n",
       "        vertical-align: middle;\n",
       "    }\n",
       "\n",
       "    .dataframe tbody tr th {\n",
       "        vertical-align: top;\n",
       "    }\n",
       "\n",
       "    .dataframe thead th {\n",
       "        text-align: right;\n",
       "    }\n",
       "</style>\n",
       "<table border=\"1\" class=\"dataframe\">\n",
       "  <thead>\n",
       "    <tr style=\"text-align: right;\">\n",
       "      <th></th>\n",
       "      <th>id</th>\n",
       "      <th>gb_used</th>\n",
       "      <th>user_id</th>\n",
       "      <th>month</th>\n",
       "    </tr>\n",
       "  </thead>\n",
       "  <tbody>\n",
       "    <tr>\n",
       "      <th>0</th>\n",
       "      <td>1000_0</td>\n",
       "      <td>0.110303</td>\n",
       "      <td>1000</td>\n",
       "      <td>11</td>\n",
       "    </tr>\n",
       "    <tr>\n",
       "      <th>1</th>\n",
       "      <td>1000_1</td>\n",
       "      <td>1.028135</td>\n",
       "      <td>1000</td>\n",
       "      <td>9</td>\n",
       "    </tr>\n",
       "    <tr>\n",
       "      <th>2</th>\n",
       "      <td>1000_2</td>\n",
       "      <td>1.169199</td>\n",
       "      <td>1000</td>\n",
       "      <td>6</td>\n",
       "    </tr>\n",
       "    <tr>\n",
       "      <th>3</th>\n",
       "      <td>1000_3</td>\n",
       "      <td>0.537373</td>\n",
       "      <td>1000</td>\n",
       "      <td>8</td>\n",
       "    </tr>\n",
       "    <tr>\n",
       "      <th>4</th>\n",
       "      <td>1000_4</td>\n",
       "      <td>0.295469</td>\n",
       "      <td>1000</td>\n",
       "      <td>9</td>\n",
       "    </tr>\n",
       "  </tbody>\n",
       "</table>\n",
       "</div>"
      ],
      "text/plain": [
       "       id   gb_used  user_id  month\n",
       "0  1000_0  0.110303     1000     11\n",
       "1  1000_1  1.028135     1000      9\n",
       "2  1000_2  1.169199     1000      6\n",
       "3  1000_3  0.537373     1000      8\n",
       "4  1000_4  0.295469     1000      9"
      ]
     },
     "execution_count": 25,
     "metadata": {},
     "output_type": "execute_result"
    }
   ],
   "source": [
    "#столбец mb_used переведем в гигабайты и округлим\n",
    "\n",
    "internet = internet.rename(columns={'mb_used':'gb_used'})\n",
    "internet['gb_used'] = internet['gb_used']/1024\n",
    "#internet['gb_used'] = np.ceil(internet['gb_used'])\n",
    "#internet['gb_used'] = internet['gb_used'].astype(int)\n",
    "internet.head()"
   ]
  },
  {
   "cell_type": "code",
   "execution_count": 26,
   "metadata": {},
   "outputs": [
    {
     "data": {
      "text/html": [
       "<div>\n",
       "<style scoped>\n",
       "    .dataframe tbody tr th:only-of-type {\n",
       "        vertical-align: middle;\n",
       "    }\n",
       "\n",
       "    .dataframe tbody tr th {\n",
       "        vertical-align: top;\n",
       "    }\n",
       "\n",
       "    .dataframe thead th {\n",
       "        text-align: right;\n",
       "    }\n",
       "</style>\n",
       "<table border=\"1\" class=\"dataframe\">\n",
       "  <thead>\n",
       "    <tr style=\"text-align: right;\">\n",
       "      <th></th>\n",
       "      <th>id</th>\n",
       "      <th>duration</th>\n",
       "      <th>user_id</th>\n",
       "      <th>month</th>\n",
       "    </tr>\n",
       "  </thead>\n",
       "  <tbody>\n",
       "    <tr>\n",
       "      <th>0</th>\n",
       "      <td>1000_0</td>\n",
       "      <td>0.00</td>\n",
       "      <td>1000</td>\n",
       "      <td>7</td>\n",
       "    </tr>\n",
       "    <tr>\n",
       "      <th>1</th>\n",
       "      <td>1000_1</td>\n",
       "      <td>0.00</td>\n",
       "      <td>1000</td>\n",
       "      <td>8</td>\n",
       "    </tr>\n",
       "    <tr>\n",
       "      <th>2</th>\n",
       "      <td>1000_2</td>\n",
       "      <td>2.85</td>\n",
       "      <td>1000</td>\n",
       "      <td>6</td>\n",
       "    </tr>\n",
       "    <tr>\n",
       "      <th>3</th>\n",
       "      <td>1000_3</td>\n",
       "      <td>13.80</td>\n",
       "      <td>1000</td>\n",
       "      <td>9</td>\n",
       "    </tr>\n",
       "    <tr>\n",
       "      <th>4</th>\n",
       "      <td>1000_4</td>\n",
       "      <td>5.18</td>\n",
       "      <td>1000</td>\n",
       "      <td>12</td>\n",
       "    </tr>\n",
       "  </tbody>\n",
       "</table>\n",
       "</div>"
      ],
      "text/plain": [
       "       id  duration  user_id  month\n",
       "0  1000_0      0.00     1000      7\n",
       "1  1000_1      0.00     1000      8\n",
       "2  1000_2      2.85     1000      6\n",
       "3  1000_3     13.80     1000      9\n",
       "4  1000_4      5.18     1000     12"
      ]
     },
     "execution_count": 26,
     "metadata": {},
     "output_type": "execute_result"
    }
   ],
   "source": [
    "#повторим со звонками\n",
    "calls.head()"
   ]
  },
  {
   "cell_type": "code",
   "execution_count": 27,
   "metadata": {},
   "outputs": [
    {
     "data": {
      "text/html": [
       "<div>\n",
       "<style scoped>\n",
       "    .dataframe tbody tr th:only-of-type {\n",
       "        vertical-align: middle;\n",
       "    }\n",
       "\n",
       "    .dataframe tbody tr th {\n",
       "        vertical-align: top;\n",
       "    }\n",
       "\n",
       "    .dataframe thead th {\n",
       "        text-align: right;\n",
       "    }\n",
       "</style>\n",
       "<table border=\"1\" class=\"dataframe\">\n",
       "  <thead>\n",
       "    <tr style=\"text-align: right;\">\n",
       "      <th></th>\n",
       "      <th>id</th>\n",
       "      <th>duration</th>\n",
       "      <th>user_id</th>\n",
       "      <th>month</th>\n",
       "    </tr>\n",
       "  </thead>\n",
       "  <tbody>\n",
       "    <tr>\n",
       "      <th>0</th>\n",
       "      <td>1000_0</td>\n",
       "      <td>0</td>\n",
       "      <td>1000</td>\n",
       "      <td>7</td>\n",
       "    </tr>\n",
       "    <tr>\n",
       "      <th>1</th>\n",
       "      <td>1000_1</td>\n",
       "      <td>0</td>\n",
       "      <td>1000</td>\n",
       "      <td>8</td>\n",
       "    </tr>\n",
       "    <tr>\n",
       "      <th>2</th>\n",
       "      <td>1000_2</td>\n",
       "      <td>3</td>\n",
       "      <td>1000</td>\n",
       "      <td>6</td>\n",
       "    </tr>\n",
       "    <tr>\n",
       "      <th>3</th>\n",
       "      <td>1000_3</td>\n",
       "      <td>14</td>\n",
       "      <td>1000</td>\n",
       "      <td>9</td>\n",
       "    </tr>\n",
       "    <tr>\n",
       "      <th>4</th>\n",
       "      <td>1000_4</td>\n",
       "      <td>6</td>\n",
       "      <td>1000</td>\n",
       "      <td>12</td>\n",
       "    </tr>\n",
       "  </tbody>\n",
       "</table>\n",
       "</div>"
      ],
      "text/plain": [
       "       id  duration  user_id  month\n",
       "0  1000_0         0     1000      7\n",
       "1  1000_1         0     1000      8\n",
       "2  1000_2         3     1000      6\n",
       "3  1000_3        14     1000      9\n",
       "4  1000_4         6     1000     12"
      ]
     },
     "execution_count": 27,
     "metadata": {},
     "output_type": "execute_result"
    }
   ],
   "source": [
    "calls['duration'] = np.ceil(calls['duration'])\n",
    "calls['duration'] = calls['duration'].astype(int)\n",
    "calls.head()"
   ]
  },
  {
   "cell_type": "markdown",
   "metadata": {},
   "source": [
    "### Добавление расчетов"
   ]
  },
  {
   "cell_type": "markdown",
   "metadata": {},
   "source": [
    "**Количество сделанных звонков и израсходованных минут разговора по месяцам**"
   ]
  },
  {
   "cell_type": "code",
   "execution_count": 28,
   "metadata": {},
   "outputs": [
    {
     "data": {
      "text/html": [
       "<div>\n",
       "<style scoped>\n",
       "    .dataframe tbody tr th:only-of-type {\n",
       "        vertical-align: middle;\n",
       "    }\n",
       "\n",
       "    .dataframe tbody tr th {\n",
       "        vertical-align: top;\n",
       "    }\n",
       "\n",
       "    .dataframe thead th {\n",
       "        text-align: right;\n",
       "    }\n",
       "</style>\n",
       "<table border=\"1\" class=\"dataframe\">\n",
       "  <thead>\n",
       "    <tr style=\"text-align: right;\">\n",
       "      <th></th>\n",
       "      <th>user_id</th>\n",
       "      <th>month</th>\n",
       "      <th>duration</th>\n",
       "    </tr>\n",
       "  </thead>\n",
       "  <tbody>\n",
       "    <tr>\n",
       "      <th>0</th>\n",
       "      <td>1000</td>\n",
       "      <td>5</td>\n",
       "      <td>159</td>\n",
       "    </tr>\n",
       "    <tr>\n",
       "      <th>1</th>\n",
       "      <td>1000</td>\n",
       "      <td>6</td>\n",
       "      <td>172</td>\n",
       "    </tr>\n",
       "    <tr>\n",
       "      <th>2</th>\n",
       "      <td>1000</td>\n",
       "      <td>7</td>\n",
       "      <td>340</td>\n",
       "    </tr>\n",
       "    <tr>\n",
       "      <th>3</th>\n",
       "      <td>1000</td>\n",
       "      <td>8</td>\n",
       "      <td>408</td>\n",
       "    </tr>\n",
       "    <tr>\n",
       "      <th>4</th>\n",
       "      <td>1000</td>\n",
       "      <td>9</td>\n",
       "      <td>466</td>\n",
       "    </tr>\n",
       "  </tbody>\n",
       "</table>\n",
       "</div>"
      ],
      "text/plain": [
       "   user_id  month  duration\n",
       "0     1000      5       159\n",
       "1     1000      6       172\n",
       "2     1000      7       340\n",
       "3     1000      8       408\n",
       "4     1000      9       466"
      ]
     },
     "execution_count": 28,
     "metadata": {},
     "output_type": "execute_result"
    }
   ],
   "source": [
    "#количество минут в месяц\n",
    "calls_min_sum = calls.pivot_table(index = ['user_id', 'month'],\n",
    "                    \n",
    "                     values = 'duration',\n",
    "                     aggfunc = 'sum')\n",
    "calls_min_sum = calls_min_sum.reset_index()\n",
    "calls_min_sum.head()"
   ]
  },
  {
   "cell_type": "code",
   "execution_count": 29,
   "metadata": {},
   "outputs": [
    {
     "data": {
      "text/html": [
       "<div>\n",
       "<style scoped>\n",
       "    .dataframe tbody tr th:only-of-type {\n",
       "        vertical-align: middle;\n",
       "    }\n",
       "\n",
       "    .dataframe tbody tr th {\n",
       "        vertical-align: top;\n",
       "    }\n",
       "\n",
       "    .dataframe thead th {\n",
       "        text-align: right;\n",
       "    }\n",
       "</style>\n",
       "<table border=\"1\" class=\"dataframe\">\n",
       "  <thead>\n",
       "    <tr style=\"text-align: right;\">\n",
       "      <th></th>\n",
       "      <th>user_id</th>\n",
       "      <th>month</th>\n",
       "      <th>duration</th>\n",
       "    </tr>\n",
       "  </thead>\n",
       "  <tbody>\n",
       "    <tr>\n",
       "      <th>0</th>\n",
       "      <td>1000</td>\n",
       "      <td>5</td>\n",
       "      <td>22</td>\n",
       "    </tr>\n",
       "    <tr>\n",
       "      <th>1</th>\n",
       "      <td>1000</td>\n",
       "      <td>6</td>\n",
       "      <td>43</td>\n",
       "    </tr>\n",
       "    <tr>\n",
       "      <th>2</th>\n",
       "      <td>1000</td>\n",
       "      <td>7</td>\n",
       "      <td>47</td>\n",
       "    </tr>\n",
       "    <tr>\n",
       "      <th>3</th>\n",
       "      <td>1000</td>\n",
       "      <td>8</td>\n",
       "      <td>52</td>\n",
       "    </tr>\n",
       "    <tr>\n",
       "      <th>4</th>\n",
       "      <td>1000</td>\n",
       "      <td>9</td>\n",
       "      <td>58</td>\n",
       "    </tr>\n",
       "  </tbody>\n",
       "</table>\n",
       "</div>"
      ],
      "text/plain": [
       "   user_id  month  duration\n",
       "0     1000      5        22\n",
       "1     1000      6        43\n",
       "2     1000      7        47\n",
       "3     1000      8        52\n",
       "4     1000      9        58"
      ]
     },
     "execution_count": 29,
     "metadata": {},
     "output_type": "execute_result"
    }
   ],
   "source": [
    "#количество звонков в месяц\n",
    "calls_count = calls.pivot_table(index = ['user_id', 'month'],\n",
    "                     \n",
    "                     values = 'duration',\n",
    "                     aggfunc = 'count')\n",
    "calls_count = calls_count.reset_index()\n",
    "calls_count.head()"
   ]
  },
  {
   "cell_type": "markdown",
   "metadata": {},
   "source": [
    "**Количество отправленных сообщений по месяцам**"
   ]
  },
  {
   "cell_type": "code",
   "execution_count": 30,
   "metadata": {},
   "outputs": [
    {
     "data": {
      "text/html": [
       "<div>\n",
       "<style scoped>\n",
       "    .dataframe tbody tr th:only-of-type {\n",
       "        vertical-align: middle;\n",
       "    }\n",
       "\n",
       "    .dataframe tbody tr th {\n",
       "        vertical-align: top;\n",
       "    }\n",
       "\n",
       "    .dataframe thead th {\n",
       "        text-align: right;\n",
       "    }\n",
       "</style>\n",
       "<table border=\"1\" class=\"dataframe\">\n",
       "  <thead>\n",
       "    <tr style=\"text-align: right;\">\n",
       "      <th></th>\n",
       "      <th>user_id</th>\n",
       "      <th>month</th>\n",
       "      <th>id</th>\n",
       "    </tr>\n",
       "  </thead>\n",
       "  <tbody>\n",
       "    <tr>\n",
       "      <th>0</th>\n",
       "      <td>1000</td>\n",
       "      <td>5</td>\n",
       "      <td>22</td>\n",
       "    </tr>\n",
       "    <tr>\n",
       "      <th>1</th>\n",
       "      <td>1000</td>\n",
       "      <td>6</td>\n",
       "      <td>60</td>\n",
       "    </tr>\n",
       "    <tr>\n",
       "      <th>2</th>\n",
       "      <td>1000</td>\n",
       "      <td>7</td>\n",
       "      <td>75</td>\n",
       "    </tr>\n",
       "    <tr>\n",
       "      <th>3</th>\n",
       "      <td>1000</td>\n",
       "      <td>8</td>\n",
       "      <td>81</td>\n",
       "    </tr>\n",
       "    <tr>\n",
       "      <th>4</th>\n",
       "      <td>1000</td>\n",
       "      <td>9</td>\n",
       "      <td>57</td>\n",
       "    </tr>\n",
       "  </tbody>\n",
       "</table>\n",
       "</div>"
      ],
      "text/plain": [
       "   user_id  month  id\n",
       "0     1000      5  22\n",
       "1     1000      6  60\n",
       "2     1000      7  75\n",
       "3     1000      8  81\n",
       "4     1000      9  57"
      ]
     },
     "execution_count": 30,
     "metadata": {},
     "output_type": "execute_result"
    }
   ],
   "source": [
    "messages_sum = messages.pivot_table(index = ['user_id', 'month'],\n",
    "                     \n",
    "                     values = 'id',\n",
    "                     aggfunc = 'count')\n",
    "messages_sum = messages_sum.reset_index()\n",
    "messages_sum.head()"
   ]
  },
  {
   "cell_type": "markdown",
   "metadata": {},
   "source": [
    "**Объем израсходованного интернет-трафика по месяцам**"
   ]
  },
  {
   "cell_type": "code",
   "execution_count": 31,
   "metadata": {},
   "outputs": [
    {
     "data": {
      "text/html": [
       "<div>\n",
       "<style scoped>\n",
       "    .dataframe tbody tr th:only-of-type {\n",
       "        vertical-align: middle;\n",
       "    }\n",
       "\n",
       "    .dataframe tbody tr th {\n",
       "        vertical-align: top;\n",
       "    }\n",
       "\n",
       "    .dataframe thead th {\n",
       "        text-align: right;\n",
       "    }\n",
       "</style>\n",
       "<table border=\"1\" class=\"dataframe\">\n",
       "  <thead>\n",
       "    <tr style=\"text-align: right;\">\n",
       "      <th></th>\n",
       "      <th>user_id</th>\n",
       "      <th>month</th>\n",
       "      <th>gb_used</th>\n",
       "    </tr>\n",
       "  </thead>\n",
       "  <tbody>\n",
       "    <tr>\n",
       "      <th>0</th>\n",
       "      <td>1000</td>\n",
       "      <td>5</td>\n",
       "      <td>2.200674</td>\n",
       "    </tr>\n",
       "    <tr>\n",
       "      <th>1</th>\n",
       "      <td>1000</td>\n",
       "      <td>6</td>\n",
       "      <td>22.689229</td>\n",
       "    </tr>\n",
       "    <tr>\n",
       "      <th>2</th>\n",
       "      <td>1000</td>\n",
       "      <td>7</td>\n",
       "      <td>13.675430</td>\n",
       "    </tr>\n",
       "    <tr>\n",
       "      <th>3</th>\n",
       "      <td>1000</td>\n",
       "      <td>8</td>\n",
       "      <td>13.726494</td>\n",
       "    </tr>\n",
       "    <tr>\n",
       "      <th>4</th>\n",
       "      <td>1000</td>\n",
       "      <td>9</td>\n",
       "      <td>14.227451</td>\n",
       "    </tr>\n",
       "  </tbody>\n",
       "</table>\n",
       "</div>"
      ],
      "text/plain": [
       "   user_id  month    gb_used\n",
       "0     1000      5   2.200674\n",
       "1     1000      6  22.689229\n",
       "2     1000      7  13.675430\n",
       "3     1000      8  13.726494\n",
       "4     1000      9  14.227451"
      ]
     },
     "execution_count": 31,
     "metadata": {},
     "output_type": "execute_result"
    }
   ],
   "source": [
    "internet_sum = internet.pivot_table(index = ['user_id','month'],\n",
    "                      \n",
    "                     values = 'gb_used',\n",
    "                     aggfunc = 'sum')\n",
    "\n",
    "internet_sum = internet_sum.reset_index()\n",
    "internet_sum.head()"
   ]
  },
  {
   "cell_type": "code",
   "execution_count": 32,
   "metadata": {
    "scrolled": true
   },
   "outputs": [
    {
     "data": {
      "text/html": [
       "<div>\n",
       "<style scoped>\n",
       "    .dataframe tbody tr th:only-of-type {\n",
       "        vertical-align: middle;\n",
       "    }\n",
       "\n",
       "    .dataframe tbody tr th {\n",
       "        vertical-align: top;\n",
       "    }\n",
       "\n",
       "    .dataframe thead th {\n",
       "        text-align: right;\n",
       "    }\n",
       "</style>\n",
       "<table border=\"1\" class=\"dataframe\">\n",
       "  <thead>\n",
       "    <tr style=\"text-align: right;\">\n",
       "      <th></th>\n",
       "      <th>user_id</th>\n",
       "      <th>tariff</th>\n",
       "    </tr>\n",
       "  </thead>\n",
       "  <tbody>\n",
       "    <tr>\n",
       "      <th>0</th>\n",
       "      <td>1000</td>\n",
       "      <td>ultra</td>\n",
       "    </tr>\n",
       "    <tr>\n",
       "      <th>1</th>\n",
       "      <td>1001</td>\n",
       "      <td>smart</td>\n",
       "    </tr>\n",
       "    <tr>\n",
       "      <th>2</th>\n",
       "      <td>1002</td>\n",
       "      <td>smart</td>\n",
       "    </tr>\n",
       "    <tr>\n",
       "      <th>3</th>\n",
       "      <td>1003</td>\n",
       "      <td>ultra</td>\n",
       "    </tr>\n",
       "    <tr>\n",
       "      <th>4</th>\n",
       "      <td>1004</td>\n",
       "      <td>ultra</td>\n",
       "    </tr>\n",
       "  </tbody>\n",
       "</table>\n",
       "</div>"
      ],
      "text/plain": [
       "   user_id tariff\n",
       "0     1000  ultra\n",
       "1     1001  smart\n",
       "2     1002  smart\n",
       "3     1003  ultra\n",
       "4     1004  ultra"
      ]
     },
     "execution_count": 32,
     "metadata": {},
     "output_type": "execute_result"
    }
   ],
   "source": [
    "tariff = users[['user_id', 'tariff']]\n",
    "tariff.head()"
   ]
  },
  {
   "cell_type": "code",
   "execution_count": 33,
   "metadata": {},
   "outputs": [
    {
     "data": {
      "text/html": [
       "<div>\n",
       "<style scoped>\n",
       "    .dataframe tbody tr th:only-of-type {\n",
       "        vertical-align: middle;\n",
       "    }\n",
       "\n",
       "    .dataframe tbody tr th {\n",
       "        vertical-align: top;\n",
       "    }\n",
       "\n",
       "    .dataframe thead th {\n",
       "        text-align: right;\n",
       "    }\n",
       "</style>\n",
       "<table border=\"1\" class=\"dataframe\">\n",
       "  <thead>\n",
       "    <tr style=\"text-align: right;\">\n",
       "      <th></th>\n",
       "      <th>user_id</th>\n",
       "      <th>age</th>\n",
       "      <th>churn_date</th>\n",
       "      <th>city</th>\n",
       "      <th>first_name</th>\n",
       "      <th>last_name</th>\n",
       "      <th>reg_date</th>\n",
       "      <th>tariff</th>\n",
       "      <th>month</th>\n",
       "      <th>gb_used</th>\n",
       "      <th>minut</th>\n",
       "      <th>message</th>\n",
       "    </tr>\n",
       "  </thead>\n",
       "  <tbody>\n",
       "    <tr>\n",
       "      <th>0</th>\n",
       "      <td>1000</td>\n",
       "      <td>52.0</td>\n",
       "      <td>NaT</td>\n",
       "      <td>Краснодар</td>\n",
       "      <td>Рафаил</td>\n",
       "      <td>Верещагин</td>\n",
       "      <td>2018-05-25</td>\n",
       "      <td>ultra</td>\n",
       "      <td>5.0</td>\n",
       "      <td>2.200674</td>\n",
       "      <td>159.0</td>\n",
       "      <td>22.0</td>\n",
       "    </tr>\n",
       "    <tr>\n",
       "      <th>1</th>\n",
       "      <td>1000</td>\n",
       "      <td>52.0</td>\n",
       "      <td>NaT</td>\n",
       "      <td>Краснодар</td>\n",
       "      <td>Рафаил</td>\n",
       "      <td>Верещагин</td>\n",
       "      <td>2018-05-25</td>\n",
       "      <td>ultra</td>\n",
       "      <td>6.0</td>\n",
       "      <td>22.689229</td>\n",
       "      <td>172.0</td>\n",
       "      <td>60.0</td>\n",
       "    </tr>\n",
       "    <tr>\n",
       "      <th>2</th>\n",
       "      <td>1000</td>\n",
       "      <td>52.0</td>\n",
       "      <td>NaT</td>\n",
       "      <td>Краснодар</td>\n",
       "      <td>Рафаил</td>\n",
       "      <td>Верещагин</td>\n",
       "      <td>2018-05-25</td>\n",
       "      <td>ultra</td>\n",
       "      <td>7.0</td>\n",
       "      <td>13.675430</td>\n",
       "      <td>340.0</td>\n",
       "      <td>75.0</td>\n",
       "    </tr>\n",
       "    <tr>\n",
       "      <th>3</th>\n",
       "      <td>1000</td>\n",
       "      <td>52.0</td>\n",
       "      <td>NaT</td>\n",
       "      <td>Краснодар</td>\n",
       "      <td>Рафаил</td>\n",
       "      <td>Верещагин</td>\n",
       "      <td>2018-05-25</td>\n",
       "      <td>ultra</td>\n",
       "      <td>8.0</td>\n",
       "      <td>13.726494</td>\n",
       "      <td>408.0</td>\n",
       "      <td>81.0</td>\n",
       "    </tr>\n",
       "    <tr>\n",
       "      <th>4</th>\n",
       "      <td>1000</td>\n",
       "      <td>52.0</td>\n",
       "      <td>NaT</td>\n",
       "      <td>Краснодар</td>\n",
       "      <td>Рафаил</td>\n",
       "      <td>Верещагин</td>\n",
       "      <td>2018-05-25</td>\n",
       "      <td>ultra</td>\n",
       "      <td>9.0</td>\n",
       "      <td>14.227451</td>\n",
       "      <td>466.0</td>\n",
       "      <td>57.0</td>\n",
       "    </tr>\n",
       "    <tr>\n",
       "      <th>5</th>\n",
       "      <td>1000</td>\n",
       "      <td>52.0</td>\n",
       "      <td>NaT</td>\n",
       "      <td>Краснодар</td>\n",
       "      <td>Рафаил</td>\n",
       "      <td>Верещагин</td>\n",
       "      <td>2018-05-25</td>\n",
       "      <td>ultra</td>\n",
       "      <td>10.0</td>\n",
       "      <td>14.357900</td>\n",
       "      <td>350.0</td>\n",
       "      <td>73.0</td>\n",
       "    </tr>\n",
       "    <tr>\n",
       "      <th>6</th>\n",
       "      <td>1000</td>\n",
       "      <td>52.0</td>\n",
       "      <td>NaT</td>\n",
       "      <td>Краснодар</td>\n",
       "      <td>Рафаил</td>\n",
       "      <td>Верещагин</td>\n",
       "      <td>2018-05-25</td>\n",
       "      <td>ultra</td>\n",
       "      <td>11.0</td>\n",
       "      <td>14.410615</td>\n",
       "      <td>338.0</td>\n",
       "      <td>58.0</td>\n",
       "    </tr>\n",
       "    <tr>\n",
       "      <th>7</th>\n",
       "      <td>1000</td>\n",
       "      <td>52.0</td>\n",
       "      <td>NaT</td>\n",
       "      <td>Краснодар</td>\n",
       "      <td>Рафаил</td>\n",
       "      <td>Верещагин</td>\n",
       "      <td>2018-05-25</td>\n",
       "      <td>ultra</td>\n",
       "      <td>12.0</td>\n",
       "      <td>9.587510</td>\n",
       "      <td>333.0</td>\n",
       "      <td>70.0</td>\n",
       "    </tr>\n",
       "    <tr>\n",
       "      <th>8</th>\n",
       "      <td>1001</td>\n",
       "      <td>41.0</td>\n",
       "      <td>NaT</td>\n",
       "      <td>Москва</td>\n",
       "      <td>Иван</td>\n",
       "      <td>Ежов</td>\n",
       "      <td>2018-11-01</td>\n",
       "      <td>smart</td>\n",
       "      <td>11.0</td>\n",
       "      <td>17.997402</td>\n",
       "      <td>430.0</td>\n",
       "      <td>NaN</td>\n",
       "    </tr>\n",
       "    <tr>\n",
       "      <th>9</th>\n",
       "      <td>1001</td>\n",
       "      <td>41.0</td>\n",
       "      <td>NaT</td>\n",
       "      <td>Москва</td>\n",
       "      <td>Иван</td>\n",
       "      <td>Ежов</td>\n",
       "      <td>2018-11-01</td>\n",
       "      <td>smart</td>\n",
       "      <td>12.0</td>\n",
       "      <td>13.707676</td>\n",
       "      <td>414.0</td>\n",
       "      <td>NaN</td>\n",
       "    </tr>\n",
       "  </tbody>\n",
       "</table>\n",
       "</div>"
      ],
      "text/plain": [
       "   user_id   age churn_date       city first_name  last_name   reg_date  \\\n",
       "0     1000  52.0        NaT  Краснодар     Рафаил  Верещагин 2018-05-25   \n",
       "1     1000  52.0        NaT  Краснодар     Рафаил  Верещагин 2018-05-25   \n",
       "2     1000  52.0        NaT  Краснодар     Рафаил  Верещагин 2018-05-25   \n",
       "3     1000  52.0        NaT  Краснодар     Рафаил  Верещагин 2018-05-25   \n",
       "4     1000  52.0        NaT  Краснодар     Рафаил  Верещагин 2018-05-25   \n",
       "5     1000  52.0        NaT  Краснодар     Рафаил  Верещагин 2018-05-25   \n",
       "6     1000  52.0        NaT  Краснодар     Рафаил  Верещагин 2018-05-25   \n",
       "7     1000  52.0        NaT  Краснодар     Рафаил  Верещагин 2018-05-25   \n",
       "8     1001  41.0        NaT     Москва       Иван       Ежов 2018-11-01   \n",
       "9     1001  41.0        NaT     Москва       Иван       Ежов 2018-11-01   \n",
       "\n",
       "  tariff  month    gb_used  minut  message  \n",
       "0  ultra    5.0   2.200674  159.0     22.0  \n",
       "1  ultra    6.0  22.689229  172.0     60.0  \n",
       "2  ultra    7.0  13.675430  340.0     75.0  \n",
       "3  ultra    8.0  13.726494  408.0     81.0  \n",
       "4  ultra    9.0  14.227451  466.0     57.0  \n",
       "5  ultra   10.0  14.357900  350.0     73.0  \n",
       "6  ultra   11.0  14.410615  338.0     58.0  \n",
       "7  ultra   12.0   9.587510  333.0     70.0  \n",
       "8  smart   11.0  17.997402  430.0      NaN  \n",
       "9  smart   12.0  13.707676  414.0      NaN  "
      ]
     },
     "execution_count": 33,
     "metadata": {},
     "output_type": "execute_result"
    }
   ],
   "source": [
    "#создаем общую таблицу\n",
    "data = users.merge(internet_sum, on='user_id', how='outer')\n",
    "data = data.merge(calls_min_sum, on=['user_id', 'month'], how='outer')\n",
    "data = data.merge(messages_sum, on=['user_id', 'month'], how='outer')\n",
    "\n",
    "data = data.rename(columns={'duration':'minut'})\n",
    "data = data.rename(columns={'id':'message'})\n",
    "data.head(10)"
   ]
  },
  {
   "cell_type": "code",
   "execution_count": 34,
   "metadata": {
    "scrolled": false
   },
   "outputs": [
    {
     "data": {
      "text/plain": [
       "500"
      ]
     },
     "execution_count": 34,
     "metadata": {},
     "output_type": "execute_result"
    }
   ],
   "source": [
    "len(data['user_id'].unique())"
   ]
  },
  {
   "cell_type": "markdown",
   "metadata": {},
   "source": [
    "Число уникальных пользователей 497. Выборка достаточна для проведения анализа. Из 500 трое куда-то потерялись, я думаю это пустые клиенты, которые не совершали звонков и тд. "
   ]
  },
  {
   "cell_type": "markdown",
   "metadata": {},
   "source": [
    "**Помесячная выручка с каждого пользователя**\n",
    "\n",
    "(вычтите бесплатный лимит из суммарного количества звонков, сообщений и интернет-трафика; остаток умножьте на значение из тарифного плана; прибавьте абонентскую плату, соответствующую тарифному плану)"
   ]
  },
  {
   "cell_type": "code",
   "execution_count": 35,
   "metadata": {},
   "outputs": [
    {
     "data": {
      "text/html": [
       "<div>\n",
       "<style scoped>\n",
       "    .dataframe tbody tr th:only-of-type {\n",
       "        vertical-align: middle;\n",
       "    }\n",
       "\n",
       "    .dataframe tbody tr th {\n",
       "        vertical-align: top;\n",
       "    }\n",
       "\n",
       "    .dataframe thead th {\n",
       "        text-align: right;\n",
       "    }\n",
       "</style>\n",
       "<table border=\"1\" class=\"dataframe\">\n",
       "  <thead>\n",
       "    <tr style=\"text-align: right;\">\n",
       "      <th></th>\n",
       "      <th>messages_included</th>\n",
       "      <th>mb_per_month_included</th>\n",
       "      <th>minutes_included</th>\n",
       "      <th>rub_monthly_fee</th>\n",
       "      <th>rub_per_gb</th>\n",
       "      <th>rub_per_message</th>\n",
       "      <th>rub_per_minute</th>\n",
       "      <th>tariff_name</th>\n",
       "    </tr>\n",
       "  </thead>\n",
       "  <tbody>\n",
       "    <tr>\n",
       "      <th>0</th>\n",
       "      <td>50</td>\n",
       "      <td>15360</td>\n",
       "      <td>500</td>\n",
       "      <td>550</td>\n",
       "      <td>200</td>\n",
       "      <td>3</td>\n",
       "      <td>3</td>\n",
       "      <td>smart</td>\n",
       "    </tr>\n",
       "    <tr>\n",
       "      <th>1</th>\n",
       "      <td>1000</td>\n",
       "      <td>30720</td>\n",
       "      <td>3000</td>\n",
       "      <td>1950</td>\n",
       "      <td>150</td>\n",
       "      <td>1</td>\n",
       "      <td>1</td>\n",
       "      <td>ultra</td>\n",
       "    </tr>\n",
       "  </tbody>\n",
       "</table>\n",
       "</div>"
      ],
      "text/plain": [
       "   messages_included  mb_per_month_included  minutes_included  \\\n",
       "0                 50                  15360               500   \n",
       "1               1000                  30720              3000   \n",
       "\n",
       "   rub_monthly_fee  rub_per_gb  rub_per_message  rub_per_minute tariff_name  \n",
       "0              550         200                3               3       smart  \n",
       "1             1950         150                1               1       ultra  "
      ]
     },
     "execution_count": 35,
     "metadata": {},
     "output_type": "execute_result"
    }
   ],
   "source": [
    "tariffs.head()"
   ]
  },
  {
   "cell_type": "markdown",
   "metadata": {},
   "source": [
    "Напоминалка о значениях столбцов:\n",
    "\n",
    "- ariff_name — название тарифа\n",
    "- rub_monthly_fee — ежемесячная абонентская плата в рублях\n",
    "- minutes_included — количество минут разговора в месяц, включённых в абонентскую плату\n",
    "- messages_included — количество сообщений в месяц, включённых в абонентскую плату\n",
    "- mb_per_month_included — объём интернет-трафика, включённого в абонентскую плату (в мегабайтах)\n",
    "- rub_per_minute — стоимость минуты разговора сверх тарифного пакета (например, если в тарифе 100 минут разговора в месяц, то со 101 минуты будет взиматься плата)\n",
    "- rub_per_message — стоимость отправки сообщения сверх тарифного пакета\n",
    "- rub_per_gb — стоимость дополнительного гигабайта интернет-трафика сверх тарифного пакета (1 гигабайт = 1024 мегабайта)"
   ]
  },
  {
   "cell_type": "code",
   "execution_count": 36,
   "metadata": {
    "scrolled": true
   },
   "outputs": [
    {
     "data": {
      "text/html": [
       "<div>\n",
       "<style scoped>\n",
       "    .dataframe tbody tr th:only-of-type {\n",
       "        vertical-align: middle;\n",
       "    }\n",
       "\n",
       "    .dataframe tbody tr th {\n",
       "        vertical-align: top;\n",
       "    }\n",
       "\n",
       "    .dataframe thead th {\n",
       "        text-align: right;\n",
       "    }\n",
       "</style>\n",
       "<table border=\"1\" class=\"dataframe\">\n",
       "  <thead>\n",
       "    <tr style=\"text-align: right;\">\n",
       "      <th></th>\n",
       "      <th>messages_included</th>\n",
       "      <th>mb_per_month_included</th>\n",
       "      <th>minutes_included</th>\n",
       "      <th>rub_monthly_fee</th>\n",
       "      <th>rub_per_gb</th>\n",
       "      <th>rub_per_message</th>\n",
       "      <th>rub_per_minute</th>\n",
       "      <th>tariff_name</th>\n",
       "    </tr>\n",
       "  </thead>\n",
       "  <tbody>\n",
       "    <tr>\n",
       "      <th>0</th>\n",
       "      <td>50</td>\n",
       "      <td>15</td>\n",
       "      <td>500</td>\n",
       "      <td>550</td>\n",
       "      <td>200</td>\n",
       "      <td>3</td>\n",
       "      <td>3</td>\n",
       "      <td>smart</td>\n",
       "    </tr>\n",
       "    <tr>\n",
       "      <th>1</th>\n",
       "      <td>1000</td>\n",
       "      <td>30</td>\n",
       "      <td>3000</td>\n",
       "      <td>1950</td>\n",
       "      <td>150</td>\n",
       "      <td>1</td>\n",
       "      <td>1</td>\n",
       "      <td>ultra</td>\n",
       "    </tr>\n",
       "  </tbody>\n",
       "</table>\n",
       "</div>"
      ],
      "text/plain": [
       "   messages_included  mb_per_month_included  minutes_included  \\\n",
       "0                 50                     15               500   \n",
       "1               1000                     30              3000   \n",
       "\n",
       "   rub_monthly_fee  rub_per_gb  rub_per_message  rub_per_minute tariff_name  \n",
       "0              550         200                3               3       smart  \n",
       "1             1950         150                1               1       ultra  "
      ]
     },
     "execution_count": 36,
     "metadata": {},
     "output_type": "execute_result"
    }
   ],
   "source": [
    "#переведем мегабайты в гигабайты\n",
    "tariffs['mb_per_month_included'] = tariffs['mb_per_month_included']/1024\n",
    "tariffs['mb_per_month_included'] = tariffs['mb_per_month_included'].astype(int)\n",
    "tariffs\n"
   ]
  },
  {
   "cell_type": "code",
   "execution_count": 37,
   "metadata": {},
   "outputs": [
    {
     "data": {
      "text/html": [
       "<div>\n",
       "<style scoped>\n",
       "    .dataframe tbody tr th:only-of-type {\n",
       "        vertical-align: middle;\n",
       "    }\n",
       "\n",
       "    .dataframe tbody tr th {\n",
       "        vertical-align: top;\n",
       "    }\n",
       "\n",
       "    .dataframe thead th {\n",
       "        text-align: right;\n",
       "    }\n",
       "</style>\n",
       "<table border=\"1\" class=\"dataframe\">\n",
       "  <thead>\n",
       "    <tr style=\"text-align: right;\">\n",
       "      <th></th>\n",
       "      <th>user_id</th>\n",
       "      <th>age</th>\n",
       "      <th>churn_date</th>\n",
       "      <th>city</th>\n",
       "      <th>first_name</th>\n",
       "      <th>last_name</th>\n",
       "      <th>reg_date</th>\n",
       "      <th>tariff</th>\n",
       "      <th>month</th>\n",
       "      <th>gb_used</th>\n",
       "      <th>minut</th>\n",
       "      <th>message</th>\n",
       "    </tr>\n",
       "  </thead>\n",
       "  <tbody>\n",
       "    <tr>\n",
       "      <th>0</th>\n",
       "      <td>1000</td>\n",
       "      <td>52.0</td>\n",
       "      <td>NaT</td>\n",
       "      <td>Краснодар</td>\n",
       "      <td>Рафаил</td>\n",
       "      <td>Верещагин</td>\n",
       "      <td>2018-05-25</td>\n",
       "      <td>ultra</td>\n",
       "      <td>5.0</td>\n",
       "      <td>3.0</td>\n",
       "      <td>159.0</td>\n",
       "      <td>22.0</td>\n",
       "    </tr>\n",
       "    <tr>\n",
       "      <th>1</th>\n",
       "      <td>1000</td>\n",
       "      <td>52.0</td>\n",
       "      <td>NaT</td>\n",
       "      <td>Краснодар</td>\n",
       "      <td>Рафаил</td>\n",
       "      <td>Верещагин</td>\n",
       "      <td>2018-05-25</td>\n",
       "      <td>ultra</td>\n",
       "      <td>6.0</td>\n",
       "      <td>23.0</td>\n",
       "      <td>172.0</td>\n",
       "      <td>60.0</td>\n",
       "    </tr>\n",
       "    <tr>\n",
       "      <th>2</th>\n",
       "      <td>1000</td>\n",
       "      <td>52.0</td>\n",
       "      <td>NaT</td>\n",
       "      <td>Краснодар</td>\n",
       "      <td>Рафаил</td>\n",
       "      <td>Верещагин</td>\n",
       "      <td>2018-05-25</td>\n",
       "      <td>ultra</td>\n",
       "      <td>7.0</td>\n",
       "      <td>14.0</td>\n",
       "      <td>340.0</td>\n",
       "      <td>75.0</td>\n",
       "    </tr>\n",
       "    <tr>\n",
       "      <th>3</th>\n",
       "      <td>1000</td>\n",
       "      <td>52.0</td>\n",
       "      <td>NaT</td>\n",
       "      <td>Краснодар</td>\n",
       "      <td>Рафаил</td>\n",
       "      <td>Верещагин</td>\n",
       "      <td>2018-05-25</td>\n",
       "      <td>ultra</td>\n",
       "      <td>8.0</td>\n",
       "      <td>14.0</td>\n",
       "      <td>408.0</td>\n",
       "      <td>81.0</td>\n",
       "    </tr>\n",
       "    <tr>\n",
       "      <th>4</th>\n",
       "      <td>1000</td>\n",
       "      <td>52.0</td>\n",
       "      <td>NaT</td>\n",
       "      <td>Краснодар</td>\n",
       "      <td>Рафаил</td>\n",
       "      <td>Верещагин</td>\n",
       "      <td>2018-05-25</td>\n",
       "      <td>ultra</td>\n",
       "      <td>9.0</td>\n",
       "      <td>15.0</td>\n",
       "      <td>466.0</td>\n",
       "      <td>57.0</td>\n",
       "    </tr>\n",
       "  </tbody>\n",
       "</table>\n",
       "</div>"
      ],
      "text/plain": [
       "   user_id   age churn_date       city first_name  last_name   reg_date  \\\n",
       "0     1000  52.0        NaT  Краснодар     Рафаил  Верещагин 2018-05-25   \n",
       "1     1000  52.0        NaT  Краснодар     Рафаил  Верещагин 2018-05-25   \n",
       "2     1000  52.0        NaT  Краснодар     Рафаил  Верещагин 2018-05-25   \n",
       "3     1000  52.0        NaT  Краснодар     Рафаил  Верещагин 2018-05-25   \n",
       "4     1000  52.0        NaT  Краснодар     Рафаил  Верещагин 2018-05-25   \n",
       "\n",
       "  tariff  month  gb_used  minut  message  \n",
       "0  ultra    5.0      3.0  159.0     22.0  \n",
       "1  ultra    6.0     23.0  172.0     60.0  \n",
       "2  ultra    7.0     14.0  340.0     75.0  \n",
       "3  ultra    8.0     14.0  408.0     81.0  \n",
       "4  ultra    9.0     15.0  466.0     57.0  "
      ]
     },
     "execution_count": 37,
     "metadata": {},
     "output_type": "execute_result"
    }
   ],
   "source": [
    "#округлим теперь в нашей таблице Гб до целого числа\n",
    "data['gb_used'] = np.ceil(data['gb_used'])\n",
    "\n",
    "data.head()"
   ]
  },
  {
   "cell_type": "code",
   "execution_count": 38,
   "metadata": {},
   "outputs": [
    {
     "data": {
      "text/html": [
       "<div>\n",
       "<style scoped>\n",
       "    .dataframe tbody tr th:only-of-type {\n",
       "        vertical-align: middle;\n",
       "    }\n",
       "\n",
       "    .dataframe tbody tr th {\n",
       "        vertical-align: top;\n",
       "    }\n",
       "\n",
       "    .dataframe thead th {\n",
       "        text-align: right;\n",
       "    }\n",
       "</style>\n",
       "<table border=\"1\" class=\"dataframe\">\n",
       "  <thead>\n",
       "    <tr style=\"text-align: right;\">\n",
       "      <th></th>\n",
       "      <th>user_id</th>\n",
       "      <th>age</th>\n",
       "      <th>churn_date</th>\n",
       "      <th>city</th>\n",
       "      <th>first_name</th>\n",
       "      <th>last_name</th>\n",
       "      <th>reg_date</th>\n",
       "      <th>tariff</th>\n",
       "      <th>month</th>\n",
       "      <th>gb_used</th>\n",
       "      <th>minut</th>\n",
       "      <th>message</th>\n",
       "      <th>tariff_pay</th>\n",
       "    </tr>\n",
       "  </thead>\n",
       "  <tbody>\n",
       "    <tr>\n",
       "      <th>0</th>\n",
       "      <td>1000</td>\n",
       "      <td>52.0</td>\n",
       "      <td>NaT</td>\n",
       "      <td>Краснодар</td>\n",
       "      <td>Рафаил</td>\n",
       "      <td>Верещагин</td>\n",
       "      <td>2018-05-25</td>\n",
       "      <td>ultra</td>\n",
       "      <td>5.0</td>\n",
       "      <td>3.0</td>\n",
       "      <td>159.0</td>\n",
       "      <td>22.0</td>\n",
       "      <td>1950</td>\n",
       "    </tr>\n",
       "    <tr>\n",
       "      <th>1</th>\n",
       "      <td>1000</td>\n",
       "      <td>52.0</td>\n",
       "      <td>NaT</td>\n",
       "      <td>Краснодар</td>\n",
       "      <td>Рафаил</td>\n",
       "      <td>Верещагин</td>\n",
       "      <td>2018-05-25</td>\n",
       "      <td>ultra</td>\n",
       "      <td>6.0</td>\n",
       "      <td>23.0</td>\n",
       "      <td>172.0</td>\n",
       "      <td>60.0</td>\n",
       "      <td>1950</td>\n",
       "    </tr>\n",
       "    <tr>\n",
       "      <th>2</th>\n",
       "      <td>1000</td>\n",
       "      <td>52.0</td>\n",
       "      <td>NaT</td>\n",
       "      <td>Краснодар</td>\n",
       "      <td>Рафаил</td>\n",
       "      <td>Верещагин</td>\n",
       "      <td>2018-05-25</td>\n",
       "      <td>ultra</td>\n",
       "      <td>7.0</td>\n",
       "      <td>14.0</td>\n",
       "      <td>340.0</td>\n",
       "      <td>75.0</td>\n",
       "      <td>1950</td>\n",
       "    </tr>\n",
       "    <tr>\n",
       "      <th>3</th>\n",
       "      <td>1000</td>\n",
       "      <td>52.0</td>\n",
       "      <td>NaT</td>\n",
       "      <td>Краснодар</td>\n",
       "      <td>Рафаил</td>\n",
       "      <td>Верещагин</td>\n",
       "      <td>2018-05-25</td>\n",
       "      <td>ultra</td>\n",
       "      <td>8.0</td>\n",
       "      <td>14.0</td>\n",
       "      <td>408.0</td>\n",
       "      <td>81.0</td>\n",
       "      <td>1950</td>\n",
       "    </tr>\n",
       "    <tr>\n",
       "      <th>4</th>\n",
       "      <td>1000</td>\n",
       "      <td>52.0</td>\n",
       "      <td>NaT</td>\n",
       "      <td>Краснодар</td>\n",
       "      <td>Рафаил</td>\n",
       "      <td>Верещагин</td>\n",
       "      <td>2018-05-25</td>\n",
       "      <td>ultra</td>\n",
       "      <td>9.0</td>\n",
       "      <td>15.0</td>\n",
       "      <td>466.0</td>\n",
       "      <td>57.0</td>\n",
       "      <td>1950</td>\n",
       "    </tr>\n",
       "    <tr>\n",
       "      <th>5</th>\n",
       "      <td>1000</td>\n",
       "      <td>52.0</td>\n",
       "      <td>NaT</td>\n",
       "      <td>Краснодар</td>\n",
       "      <td>Рафаил</td>\n",
       "      <td>Верещагин</td>\n",
       "      <td>2018-05-25</td>\n",
       "      <td>ultra</td>\n",
       "      <td>10.0</td>\n",
       "      <td>15.0</td>\n",
       "      <td>350.0</td>\n",
       "      <td>73.0</td>\n",
       "      <td>1950</td>\n",
       "    </tr>\n",
       "    <tr>\n",
       "      <th>6</th>\n",
       "      <td>1000</td>\n",
       "      <td>52.0</td>\n",
       "      <td>NaT</td>\n",
       "      <td>Краснодар</td>\n",
       "      <td>Рафаил</td>\n",
       "      <td>Верещагин</td>\n",
       "      <td>2018-05-25</td>\n",
       "      <td>ultra</td>\n",
       "      <td>11.0</td>\n",
       "      <td>15.0</td>\n",
       "      <td>338.0</td>\n",
       "      <td>58.0</td>\n",
       "      <td>1950</td>\n",
       "    </tr>\n",
       "    <tr>\n",
       "      <th>7</th>\n",
       "      <td>1000</td>\n",
       "      <td>52.0</td>\n",
       "      <td>NaT</td>\n",
       "      <td>Краснодар</td>\n",
       "      <td>Рафаил</td>\n",
       "      <td>Верещагин</td>\n",
       "      <td>2018-05-25</td>\n",
       "      <td>ultra</td>\n",
       "      <td>12.0</td>\n",
       "      <td>10.0</td>\n",
       "      <td>333.0</td>\n",
       "      <td>70.0</td>\n",
       "      <td>1950</td>\n",
       "    </tr>\n",
       "    <tr>\n",
       "      <th>8</th>\n",
       "      <td>1001</td>\n",
       "      <td>41.0</td>\n",
       "      <td>NaT</td>\n",
       "      <td>Москва</td>\n",
       "      <td>Иван</td>\n",
       "      <td>Ежов</td>\n",
       "      <td>2018-11-01</td>\n",
       "      <td>smart</td>\n",
       "      <td>11.0</td>\n",
       "      <td>18.0</td>\n",
       "      <td>430.0</td>\n",
       "      <td>NaN</td>\n",
       "      <td>550</td>\n",
       "    </tr>\n",
       "    <tr>\n",
       "      <th>9</th>\n",
       "      <td>1001</td>\n",
       "      <td>41.0</td>\n",
       "      <td>NaT</td>\n",
       "      <td>Москва</td>\n",
       "      <td>Иван</td>\n",
       "      <td>Ежов</td>\n",
       "      <td>2018-11-01</td>\n",
       "      <td>smart</td>\n",
       "      <td>12.0</td>\n",
       "      <td>14.0</td>\n",
       "      <td>414.0</td>\n",
       "      <td>NaN</td>\n",
       "      <td>550</td>\n",
       "    </tr>\n",
       "  </tbody>\n",
       "</table>\n",
       "</div>"
      ],
      "text/plain": [
       "   user_id   age churn_date       city first_name  last_name   reg_date  \\\n",
       "0     1000  52.0        NaT  Краснодар     Рафаил  Верещагин 2018-05-25   \n",
       "1     1000  52.0        NaT  Краснодар     Рафаил  Верещагин 2018-05-25   \n",
       "2     1000  52.0        NaT  Краснодар     Рафаил  Верещагин 2018-05-25   \n",
       "3     1000  52.0        NaT  Краснодар     Рафаил  Верещагин 2018-05-25   \n",
       "4     1000  52.0        NaT  Краснодар     Рафаил  Верещагин 2018-05-25   \n",
       "5     1000  52.0        NaT  Краснодар     Рафаил  Верещагин 2018-05-25   \n",
       "6     1000  52.0        NaT  Краснодар     Рафаил  Верещагин 2018-05-25   \n",
       "7     1000  52.0        NaT  Краснодар     Рафаил  Верещагин 2018-05-25   \n",
       "8     1001  41.0        NaT     Москва       Иван       Ежов 2018-11-01   \n",
       "9     1001  41.0        NaT     Москва       Иван       Ежов 2018-11-01   \n",
       "\n",
       "  tariff  month  gb_used  minut  message  tariff_pay  \n",
       "0  ultra    5.0      3.0  159.0     22.0        1950  \n",
       "1  ultra    6.0     23.0  172.0     60.0        1950  \n",
       "2  ultra    7.0     14.0  340.0     75.0        1950  \n",
       "3  ultra    8.0     14.0  408.0     81.0        1950  \n",
       "4  ultra    9.0     15.0  466.0     57.0        1950  \n",
       "5  ultra   10.0     15.0  350.0     73.0        1950  \n",
       "6  ultra   11.0     15.0  338.0     58.0        1950  \n",
       "7  ultra   12.0     10.0  333.0     70.0        1950  \n",
       "8  smart   11.0     18.0  430.0      NaN         550  \n",
       "9  smart   12.0     14.0  414.0      NaN         550  "
      ]
     },
     "execution_count": 38,
     "metadata": {},
     "output_type": "execute_result"
    }
   ],
   "source": [
    "#создаем функцию для подсчета выручки с каждого пользователя за оплату тарифа\n",
    "def t_pay (row):\n",
    "    tariff = row['tariff']\n",
    "    if tariff == 'smart':\n",
    "        return 550\n",
    "    return 1950\n",
    "\n",
    "data['tariff_pay'] = data.apply(t_pay, axis=1)\n",
    "data.head(10)\n",
    "        "
   ]
  },
  {
   "cell_type": "markdown",
   "metadata": {},
   "source": [
    "Теперь у нас появилась колонка с сумой оплаты пользователем за тариф в каждый месяц, в зависимости от тарифа"
   ]
  },
  {
   "cell_type": "code",
   "execution_count": 39,
   "metadata": {},
   "outputs": [
    {
     "data": {
      "text/html": [
       "<div>\n",
       "<style scoped>\n",
       "    .dataframe tbody tr th:only-of-type {\n",
       "        vertical-align: middle;\n",
       "    }\n",
       "\n",
       "    .dataframe tbody tr th {\n",
       "        vertical-align: top;\n",
       "    }\n",
       "\n",
       "    .dataframe thead th {\n",
       "        text-align: right;\n",
       "    }\n",
       "</style>\n",
       "<table border=\"1\" class=\"dataframe\">\n",
       "  <thead>\n",
       "    <tr style=\"text-align: right;\">\n",
       "      <th></th>\n",
       "      <th>user_id</th>\n",
       "      <th>age</th>\n",
       "      <th>churn_date</th>\n",
       "      <th>city</th>\n",
       "      <th>first_name</th>\n",
       "      <th>last_name</th>\n",
       "      <th>reg_date</th>\n",
       "      <th>tariff</th>\n",
       "      <th>month</th>\n",
       "      <th>gb_used</th>\n",
       "      <th>minut</th>\n",
       "      <th>message</th>\n",
       "      <th>tariff_pay</th>\n",
       "      <th>dop_pay</th>\n",
       "    </tr>\n",
       "  </thead>\n",
       "  <tbody>\n",
       "    <tr>\n",
       "      <th>0</th>\n",
       "      <td>1000</td>\n",
       "      <td>52.0</td>\n",
       "      <td>NaT</td>\n",
       "      <td>Краснодар</td>\n",
       "      <td>Рафаил</td>\n",
       "      <td>Верещагин</td>\n",
       "      <td>2018-05-25</td>\n",
       "      <td>ultra</td>\n",
       "      <td>5.0</td>\n",
       "      <td>3.0</td>\n",
       "      <td>159.0</td>\n",
       "      <td>22.0</td>\n",
       "      <td>1950</td>\n",
       "      <td>0.0</td>\n",
       "    </tr>\n",
       "    <tr>\n",
       "      <th>1</th>\n",
       "      <td>1000</td>\n",
       "      <td>52.0</td>\n",
       "      <td>NaT</td>\n",
       "      <td>Краснодар</td>\n",
       "      <td>Рафаил</td>\n",
       "      <td>Верещагин</td>\n",
       "      <td>2018-05-25</td>\n",
       "      <td>ultra</td>\n",
       "      <td>6.0</td>\n",
       "      <td>23.0</td>\n",
       "      <td>172.0</td>\n",
       "      <td>60.0</td>\n",
       "      <td>1950</td>\n",
       "      <td>0.0</td>\n",
       "    </tr>\n",
       "    <tr>\n",
       "      <th>2</th>\n",
       "      <td>1000</td>\n",
       "      <td>52.0</td>\n",
       "      <td>NaT</td>\n",
       "      <td>Краснодар</td>\n",
       "      <td>Рафаил</td>\n",
       "      <td>Верещагин</td>\n",
       "      <td>2018-05-25</td>\n",
       "      <td>ultra</td>\n",
       "      <td>7.0</td>\n",
       "      <td>14.0</td>\n",
       "      <td>340.0</td>\n",
       "      <td>75.0</td>\n",
       "      <td>1950</td>\n",
       "      <td>0.0</td>\n",
       "    </tr>\n",
       "    <tr>\n",
       "      <th>3</th>\n",
       "      <td>1000</td>\n",
       "      <td>52.0</td>\n",
       "      <td>NaT</td>\n",
       "      <td>Краснодар</td>\n",
       "      <td>Рафаил</td>\n",
       "      <td>Верещагин</td>\n",
       "      <td>2018-05-25</td>\n",
       "      <td>ultra</td>\n",
       "      <td>8.0</td>\n",
       "      <td>14.0</td>\n",
       "      <td>408.0</td>\n",
       "      <td>81.0</td>\n",
       "      <td>1950</td>\n",
       "      <td>0.0</td>\n",
       "    </tr>\n",
       "    <tr>\n",
       "      <th>4</th>\n",
       "      <td>1000</td>\n",
       "      <td>52.0</td>\n",
       "      <td>NaT</td>\n",
       "      <td>Краснодар</td>\n",
       "      <td>Рафаил</td>\n",
       "      <td>Верещагин</td>\n",
       "      <td>2018-05-25</td>\n",
       "      <td>ultra</td>\n",
       "      <td>9.0</td>\n",
       "      <td>15.0</td>\n",
       "      <td>466.0</td>\n",
       "      <td>57.0</td>\n",
       "      <td>1950</td>\n",
       "      <td>0.0</td>\n",
       "    </tr>\n",
       "    <tr>\n",
       "      <th>5</th>\n",
       "      <td>1000</td>\n",
       "      <td>52.0</td>\n",
       "      <td>NaT</td>\n",
       "      <td>Краснодар</td>\n",
       "      <td>Рафаил</td>\n",
       "      <td>Верещагин</td>\n",
       "      <td>2018-05-25</td>\n",
       "      <td>ultra</td>\n",
       "      <td>10.0</td>\n",
       "      <td>15.0</td>\n",
       "      <td>350.0</td>\n",
       "      <td>73.0</td>\n",
       "      <td>1950</td>\n",
       "      <td>0.0</td>\n",
       "    </tr>\n",
       "    <tr>\n",
       "      <th>6</th>\n",
       "      <td>1000</td>\n",
       "      <td>52.0</td>\n",
       "      <td>NaT</td>\n",
       "      <td>Краснодар</td>\n",
       "      <td>Рафаил</td>\n",
       "      <td>Верещагин</td>\n",
       "      <td>2018-05-25</td>\n",
       "      <td>ultra</td>\n",
       "      <td>11.0</td>\n",
       "      <td>15.0</td>\n",
       "      <td>338.0</td>\n",
       "      <td>58.0</td>\n",
       "      <td>1950</td>\n",
       "      <td>0.0</td>\n",
       "    </tr>\n",
       "    <tr>\n",
       "      <th>7</th>\n",
       "      <td>1000</td>\n",
       "      <td>52.0</td>\n",
       "      <td>NaT</td>\n",
       "      <td>Краснодар</td>\n",
       "      <td>Рафаил</td>\n",
       "      <td>Верещагин</td>\n",
       "      <td>2018-05-25</td>\n",
       "      <td>ultra</td>\n",
       "      <td>12.0</td>\n",
       "      <td>10.0</td>\n",
       "      <td>333.0</td>\n",
       "      <td>70.0</td>\n",
       "      <td>1950</td>\n",
       "      <td>0.0</td>\n",
       "    </tr>\n",
       "    <tr>\n",
       "      <th>8</th>\n",
       "      <td>1001</td>\n",
       "      <td>41.0</td>\n",
       "      <td>NaT</td>\n",
       "      <td>Москва</td>\n",
       "      <td>Иван</td>\n",
       "      <td>Ежов</td>\n",
       "      <td>2018-11-01</td>\n",
       "      <td>smart</td>\n",
       "      <td>11.0</td>\n",
       "      <td>18.0</td>\n",
       "      <td>430.0</td>\n",
       "      <td>NaN</td>\n",
       "      <td>550</td>\n",
       "      <td>600.0</td>\n",
       "    </tr>\n",
       "    <tr>\n",
       "      <th>9</th>\n",
       "      <td>1001</td>\n",
       "      <td>41.0</td>\n",
       "      <td>NaT</td>\n",
       "      <td>Москва</td>\n",
       "      <td>Иван</td>\n",
       "      <td>Ежов</td>\n",
       "      <td>2018-11-01</td>\n",
       "      <td>smart</td>\n",
       "      <td>12.0</td>\n",
       "      <td>14.0</td>\n",
       "      <td>414.0</td>\n",
       "      <td>NaN</td>\n",
       "      <td>550</td>\n",
       "      <td>0.0</td>\n",
       "    </tr>\n",
       "  </tbody>\n",
       "</table>\n",
       "</div>"
      ],
      "text/plain": [
       "   user_id   age churn_date       city first_name  last_name   reg_date  \\\n",
       "0     1000  52.0        NaT  Краснодар     Рафаил  Верещагин 2018-05-25   \n",
       "1     1000  52.0        NaT  Краснодар     Рафаил  Верещагин 2018-05-25   \n",
       "2     1000  52.0        NaT  Краснодар     Рафаил  Верещагин 2018-05-25   \n",
       "3     1000  52.0        NaT  Краснодар     Рафаил  Верещагин 2018-05-25   \n",
       "4     1000  52.0        NaT  Краснодар     Рафаил  Верещагин 2018-05-25   \n",
       "5     1000  52.0        NaT  Краснодар     Рафаил  Верещагин 2018-05-25   \n",
       "6     1000  52.0        NaT  Краснодар     Рафаил  Верещагин 2018-05-25   \n",
       "7     1000  52.0        NaT  Краснодар     Рафаил  Верещагин 2018-05-25   \n",
       "8     1001  41.0        NaT     Москва       Иван       Ежов 2018-11-01   \n",
       "9     1001  41.0        NaT     Москва       Иван       Ежов 2018-11-01   \n",
       "\n",
       "  tariff  month  gb_used  minut  message  tariff_pay  dop_pay  \n",
       "0  ultra    5.0      3.0  159.0     22.0        1950      0.0  \n",
       "1  ultra    6.0     23.0  172.0     60.0        1950      0.0  \n",
       "2  ultra    7.0     14.0  340.0     75.0        1950      0.0  \n",
       "3  ultra    8.0     14.0  408.0     81.0        1950      0.0  \n",
       "4  ultra    9.0     15.0  466.0     57.0        1950      0.0  \n",
       "5  ultra   10.0     15.0  350.0     73.0        1950      0.0  \n",
       "6  ultra   11.0     15.0  338.0     58.0        1950      0.0  \n",
       "7  ultra   12.0     10.0  333.0     70.0        1950      0.0  \n",
       "8  smart   11.0     18.0  430.0      NaN         550    600.0  \n",
       "9  smart   12.0     14.0  414.0      NaN         550      0.0  "
      ]
     },
     "execution_count": 39,
     "metadata": {},
     "output_type": "execute_result"
    }
   ],
   "source": [
    "#создаем функцию для подсчета платежей сверх лимита\n",
    "def pay (row):\n",
    "    minut = row['minut']\n",
    "    gb = row['gb_used']\n",
    "    sms = row['message']\n",
    "    tariff = row['tariff']\n",
    "    summa = 0\n",
    "    if tariff == 'smart':\n",
    "        if minut > 500:\n",
    "            summa+=(minut-500)*3\n",
    "        if gb > 15:\n",
    "            summa+=(gb-15)*200\n",
    "        if sms > 50:\n",
    "            summa+=(sms-50)*3\n",
    "        return summa\n",
    "    \n",
    "    if tariff == 'ultra':\n",
    "        if minut > 3000:\n",
    "            summa+=(minut-3000)*1\n",
    "        if gb > 30:\n",
    "            summa+=(gb-30)*150\n",
    "        if sms > 1000:\n",
    "            summa+=(sms-1000)*1\n",
    "        return summa\n",
    "        \n",
    "data['dop_pay'] = data.apply(pay, axis=1)\n",
    "data.head(10)\n",
    "        "
   ]
  },
  {
   "cell_type": "code",
   "execution_count": 40,
   "metadata": {},
   "outputs": [
    {
     "data": {
      "text/html": [
       "<div>\n",
       "<style scoped>\n",
       "    .dataframe tbody tr th:only-of-type {\n",
       "        vertical-align: middle;\n",
       "    }\n",
       "\n",
       "    .dataframe tbody tr th {\n",
       "        vertical-align: top;\n",
       "    }\n",
       "\n",
       "    .dataframe thead th {\n",
       "        text-align: right;\n",
       "    }\n",
       "</style>\n",
       "<table border=\"1\" class=\"dataframe\">\n",
       "  <thead>\n",
       "    <tr style=\"text-align: right;\">\n",
       "      <th></th>\n",
       "      <th>user_id</th>\n",
       "      <th>age</th>\n",
       "      <th>churn_date</th>\n",
       "      <th>city</th>\n",
       "      <th>first_name</th>\n",
       "      <th>last_name</th>\n",
       "      <th>reg_date</th>\n",
       "      <th>tariff</th>\n",
       "      <th>month</th>\n",
       "      <th>gb_used</th>\n",
       "      <th>minut</th>\n",
       "      <th>message</th>\n",
       "      <th>tariff_pay</th>\n",
       "      <th>dop_pay</th>\n",
       "      <th>profit</th>\n",
       "    </tr>\n",
       "  </thead>\n",
       "  <tbody>\n",
       "    <tr>\n",
       "      <th>0</th>\n",
       "      <td>1000</td>\n",
       "      <td>52.0</td>\n",
       "      <td>NaT</td>\n",
       "      <td>Краснодар</td>\n",
       "      <td>Рафаил</td>\n",
       "      <td>Верещагин</td>\n",
       "      <td>2018-05-25</td>\n",
       "      <td>ultra</td>\n",
       "      <td>5.0</td>\n",
       "      <td>3.0</td>\n",
       "      <td>159.0</td>\n",
       "      <td>22.0</td>\n",
       "      <td>1950</td>\n",
       "      <td>0.0</td>\n",
       "      <td>1950.0</td>\n",
       "    </tr>\n",
       "    <tr>\n",
       "      <th>1</th>\n",
       "      <td>1000</td>\n",
       "      <td>52.0</td>\n",
       "      <td>NaT</td>\n",
       "      <td>Краснодар</td>\n",
       "      <td>Рафаил</td>\n",
       "      <td>Верещагин</td>\n",
       "      <td>2018-05-25</td>\n",
       "      <td>ultra</td>\n",
       "      <td>6.0</td>\n",
       "      <td>23.0</td>\n",
       "      <td>172.0</td>\n",
       "      <td>60.0</td>\n",
       "      <td>1950</td>\n",
       "      <td>0.0</td>\n",
       "      <td>1950.0</td>\n",
       "    </tr>\n",
       "    <tr>\n",
       "      <th>2</th>\n",
       "      <td>1000</td>\n",
       "      <td>52.0</td>\n",
       "      <td>NaT</td>\n",
       "      <td>Краснодар</td>\n",
       "      <td>Рафаил</td>\n",
       "      <td>Верещагин</td>\n",
       "      <td>2018-05-25</td>\n",
       "      <td>ultra</td>\n",
       "      <td>7.0</td>\n",
       "      <td>14.0</td>\n",
       "      <td>340.0</td>\n",
       "      <td>75.0</td>\n",
       "      <td>1950</td>\n",
       "      <td>0.0</td>\n",
       "      <td>1950.0</td>\n",
       "    </tr>\n",
       "    <tr>\n",
       "      <th>3</th>\n",
       "      <td>1000</td>\n",
       "      <td>52.0</td>\n",
       "      <td>NaT</td>\n",
       "      <td>Краснодар</td>\n",
       "      <td>Рафаил</td>\n",
       "      <td>Верещагин</td>\n",
       "      <td>2018-05-25</td>\n",
       "      <td>ultra</td>\n",
       "      <td>8.0</td>\n",
       "      <td>14.0</td>\n",
       "      <td>408.0</td>\n",
       "      <td>81.0</td>\n",
       "      <td>1950</td>\n",
       "      <td>0.0</td>\n",
       "      <td>1950.0</td>\n",
       "    </tr>\n",
       "    <tr>\n",
       "      <th>4</th>\n",
       "      <td>1000</td>\n",
       "      <td>52.0</td>\n",
       "      <td>NaT</td>\n",
       "      <td>Краснодар</td>\n",
       "      <td>Рафаил</td>\n",
       "      <td>Верещагин</td>\n",
       "      <td>2018-05-25</td>\n",
       "      <td>ultra</td>\n",
       "      <td>9.0</td>\n",
       "      <td>15.0</td>\n",
       "      <td>466.0</td>\n",
       "      <td>57.0</td>\n",
       "      <td>1950</td>\n",
       "      <td>0.0</td>\n",
       "      <td>1950.0</td>\n",
       "    </tr>\n",
       "    <tr>\n",
       "      <th>5</th>\n",
       "      <td>1000</td>\n",
       "      <td>52.0</td>\n",
       "      <td>NaT</td>\n",
       "      <td>Краснодар</td>\n",
       "      <td>Рафаил</td>\n",
       "      <td>Верещагин</td>\n",
       "      <td>2018-05-25</td>\n",
       "      <td>ultra</td>\n",
       "      <td>10.0</td>\n",
       "      <td>15.0</td>\n",
       "      <td>350.0</td>\n",
       "      <td>73.0</td>\n",
       "      <td>1950</td>\n",
       "      <td>0.0</td>\n",
       "      <td>1950.0</td>\n",
       "    </tr>\n",
       "    <tr>\n",
       "      <th>6</th>\n",
       "      <td>1000</td>\n",
       "      <td>52.0</td>\n",
       "      <td>NaT</td>\n",
       "      <td>Краснодар</td>\n",
       "      <td>Рафаил</td>\n",
       "      <td>Верещагин</td>\n",
       "      <td>2018-05-25</td>\n",
       "      <td>ultra</td>\n",
       "      <td>11.0</td>\n",
       "      <td>15.0</td>\n",
       "      <td>338.0</td>\n",
       "      <td>58.0</td>\n",
       "      <td>1950</td>\n",
       "      <td>0.0</td>\n",
       "      <td>1950.0</td>\n",
       "    </tr>\n",
       "    <tr>\n",
       "      <th>7</th>\n",
       "      <td>1000</td>\n",
       "      <td>52.0</td>\n",
       "      <td>NaT</td>\n",
       "      <td>Краснодар</td>\n",
       "      <td>Рафаил</td>\n",
       "      <td>Верещагин</td>\n",
       "      <td>2018-05-25</td>\n",
       "      <td>ultra</td>\n",
       "      <td>12.0</td>\n",
       "      <td>10.0</td>\n",
       "      <td>333.0</td>\n",
       "      <td>70.0</td>\n",
       "      <td>1950</td>\n",
       "      <td>0.0</td>\n",
       "      <td>1950.0</td>\n",
       "    </tr>\n",
       "    <tr>\n",
       "      <th>8</th>\n",
       "      <td>1001</td>\n",
       "      <td>41.0</td>\n",
       "      <td>NaT</td>\n",
       "      <td>Москва</td>\n",
       "      <td>Иван</td>\n",
       "      <td>Ежов</td>\n",
       "      <td>2018-11-01</td>\n",
       "      <td>smart</td>\n",
       "      <td>11.0</td>\n",
       "      <td>18.0</td>\n",
       "      <td>430.0</td>\n",
       "      <td>NaN</td>\n",
       "      <td>550</td>\n",
       "      <td>600.0</td>\n",
       "      <td>1150.0</td>\n",
       "    </tr>\n",
       "    <tr>\n",
       "      <th>9</th>\n",
       "      <td>1001</td>\n",
       "      <td>41.0</td>\n",
       "      <td>NaT</td>\n",
       "      <td>Москва</td>\n",
       "      <td>Иван</td>\n",
       "      <td>Ежов</td>\n",
       "      <td>2018-11-01</td>\n",
       "      <td>smart</td>\n",
       "      <td>12.0</td>\n",
       "      <td>14.0</td>\n",
       "      <td>414.0</td>\n",
       "      <td>NaN</td>\n",
       "      <td>550</td>\n",
       "      <td>0.0</td>\n",
       "      <td>550.0</td>\n",
       "    </tr>\n",
       "  </tbody>\n",
       "</table>\n",
       "</div>"
      ],
      "text/plain": [
       "   user_id   age churn_date       city first_name  last_name   reg_date  \\\n",
       "0     1000  52.0        NaT  Краснодар     Рафаил  Верещагин 2018-05-25   \n",
       "1     1000  52.0        NaT  Краснодар     Рафаил  Верещагин 2018-05-25   \n",
       "2     1000  52.0        NaT  Краснодар     Рафаил  Верещагин 2018-05-25   \n",
       "3     1000  52.0        NaT  Краснодар     Рафаил  Верещагин 2018-05-25   \n",
       "4     1000  52.0        NaT  Краснодар     Рафаил  Верещагин 2018-05-25   \n",
       "5     1000  52.0        NaT  Краснодар     Рафаил  Верещагин 2018-05-25   \n",
       "6     1000  52.0        NaT  Краснодар     Рафаил  Верещагин 2018-05-25   \n",
       "7     1000  52.0        NaT  Краснодар     Рафаил  Верещагин 2018-05-25   \n",
       "8     1001  41.0        NaT     Москва       Иван       Ежов 2018-11-01   \n",
       "9     1001  41.0        NaT     Москва       Иван       Ежов 2018-11-01   \n",
       "\n",
       "  tariff  month  gb_used  minut  message  tariff_pay  dop_pay  profit  \n",
       "0  ultra    5.0      3.0  159.0     22.0        1950      0.0  1950.0  \n",
       "1  ultra    6.0     23.0  172.0     60.0        1950      0.0  1950.0  \n",
       "2  ultra    7.0     14.0  340.0     75.0        1950      0.0  1950.0  \n",
       "3  ultra    8.0     14.0  408.0     81.0        1950      0.0  1950.0  \n",
       "4  ultra    9.0     15.0  466.0     57.0        1950      0.0  1950.0  \n",
       "5  ultra   10.0     15.0  350.0     73.0        1950      0.0  1950.0  \n",
       "6  ultra   11.0     15.0  338.0     58.0        1950      0.0  1950.0  \n",
       "7  ultra   12.0     10.0  333.0     70.0        1950      0.0  1950.0  \n",
       "8  smart   11.0     18.0  430.0      NaN         550    600.0  1150.0  \n",
       "9  smart   12.0     14.0  414.0      NaN         550      0.0   550.0  "
      ]
     },
     "execution_count": 40,
     "metadata": {},
     "output_type": "execute_result"
    }
   ],
   "source": [
    "data['profit'] = data['tariff_pay'] + data['dop_pay']\n",
    "data.head(10)"
   ]
  },
  {
   "cell_type": "markdown",
   "metadata": {},
   "source": [
    "Ура! У нас есть в таблице столбец с доп оплатами сверх тарифного лимита. И сложили эти два столбца и получли выручку по пользователям в каждый месяц!"
   ]
  },
  {
   "cell_type": "markdown",
   "metadata": {},
   "source": [
    "## Тарифы"
   ]
  },
  {
   "cell_type": "markdown",
   "metadata": {},
   "source": [
    "### Средняя выручка по тарифам"
   ]
  },
  {
   "cell_type": "code",
   "execution_count": 41,
   "metadata": {},
   "outputs": [
    {
     "data": {
      "text/plain": [
       "tariff\n",
       "smart    1289.973531\n",
       "ultra    2071.136131\n",
       "Name: profit, dtype: float64"
      ]
     },
     "execution_count": 41,
     "metadata": {},
     "output_type": "execute_result"
    }
   ],
   "source": [
    "data.groupby('tariff')['profit'].mean()"
   ]
  },
  {
   "cell_type": "markdown",
   "metadata": {},
   "source": [
    "Средняя выручка в месяц по тарифу Смарт - 1289 рублей, а по тарифу Ультра - 2071 рубля"
   ]
  },
  {
   "cell_type": "code",
   "execution_count": 42,
   "metadata": {},
   "outputs": [
    {
     "data": {
      "text/html": [
       "<div>\n",
       "<style scoped>\n",
       "    .dataframe tbody tr th:only-of-type {\n",
       "        vertical-align: middle;\n",
       "    }\n",
       "\n",
       "    .dataframe tbody tr th {\n",
       "        vertical-align: top;\n",
       "    }\n",
       "\n",
       "    .dataframe thead th {\n",
       "        text-align: right;\n",
       "    }\n",
       "</style>\n",
       "<table border=\"1\" class=\"dataframe\">\n",
       "  <thead>\n",
       "    <tr style=\"text-align: right;\">\n",
       "      <th></th>\n",
       "      <th></th>\n",
       "      <th>user_id</th>\n",
       "      <th>age</th>\n",
       "      <th>gb_used</th>\n",
       "      <th>minut</th>\n",
       "      <th>message</th>\n",
       "      <th>tariff_pay</th>\n",
       "      <th>dop_pay</th>\n",
       "      <th>profit</th>\n",
       "    </tr>\n",
       "    <tr>\n",
       "      <th>month</th>\n",
       "      <th>tariff</th>\n",
       "      <th></th>\n",
       "      <th></th>\n",
       "      <th></th>\n",
       "      <th></th>\n",
       "      <th></th>\n",
       "      <th></th>\n",
       "      <th></th>\n",
       "      <th></th>\n",
       "    </tr>\n",
       "  </thead>\n",
       "  <tbody>\n",
       "    <tr>\n",
       "      <th rowspan=\"2\" valign=\"top\">1.0</th>\n",
       "      <th>smart</th>\n",
       "      <td>43100</td>\n",
       "      <td>1672.0</td>\n",
       "      <td>297.0</td>\n",
       "      <td>6931.0</td>\n",
       "      <td>620.0</td>\n",
       "      <td>18700</td>\n",
       "      <td>5825.0</td>\n",
       "      <td>24525.0</td>\n",
       "    </tr>\n",
       "    <tr>\n",
       "      <th>ultra</th>\n",
       "      <td>11658</td>\n",
       "      <td>415.0</td>\n",
       "      <td>119.0</td>\n",
       "      <td>3853.0</td>\n",
       "      <td>304.0</td>\n",
       "      <td>17550</td>\n",
       "      <td>0.0</td>\n",
       "      <td>17550.0</td>\n",
       "    </tr>\n",
       "    <tr>\n",
       "      <th rowspan=\"2\" valign=\"top\">2.0</th>\n",
       "      <th>smart</th>\n",
       "      <td>74292</td>\n",
       "      <td>2726.0</td>\n",
       "      <td>687.0</td>\n",
       "      <td>17324.0</td>\n",
       "      <td>1397.0</td>\n",
       "      <td>31900</td>\n",
       "      <td>16101.0</td>\n",
       "      <td>48001.0</td>\n",
       "    </tr>\n",
       "    <tr>\n",
       "      <th>ultra</th>\n",
       "      <td>28266</td>\n",
       "      <td>967.0</td>\n",
       "      <td>288.0</td>\n",
       "      <td>6939.0</td>\n",
       "      <td>522.0</td>\n",
       "      <td>42900</td>\n",
       "      <td>600.0</td>\n",
       "      <td>43500.0</td>\n",
       "    </tr>\n",
       "    <tr>\n",
       "      <th rowspan=\"2\" valign=\"top\">3.0</th>\n",
       "      <th>smart</th>\n",
       "      <td>96773</td>\n",
       "      <td>3592.0</td>\n",
       "      <td>1173.0</td>\n",
       "      <td>30034.0</td>\n",
       "      <td>2453.0</td>\n",
       "      <td>42350</td>\n",
       "      <td>47326.0</td>\n",
       "      <td>89676.0</td>\n",
       "    </tr>\n",
       "    <tr>\n",
       "      <th>ultra</th>\n",
       "      <td>47322</td>\n",
       "      <td>1680.0</td>\n",
       "      <td>653.0</td>\n",
       "      <td>18117.0</td>\n",
       "      <td>1195.0</td>\n",
       "      <td>72150</td>\n",
       "      <td>2400.0</td>\n",
       "      <td>74550.0</td>\n",
       "    </tr>\n",
       "    <tr>\n",
       "      <th rowspan=\"2\" valign=\"top\">4.0</th>\n",
       "      <th>smart</th>\n",
       "      <td>139655</td>\n",
       "      <td>5232.0</td>\n",
       "      <td>1526.0</td>\n",
       "      <td>41119.0</td>\n",
       "      <td>3443.0</td>\n",
       "      <td>61600</td>\n",
       "      <td>46266.0</td>\n",
       "      <td>107866.0</td>\n",
       "    </tr>\n",
       "    <tr>\n",
       "      <th>ultra</th>\n",
       "      <td>69743</td>\n",
       "      <td>2621.0</td>\n",
       "      <td>933.0</td>\n",
       "      <td>25191.0</td>\n",
       "      <td>1736.0</td>\n",
       "      <td>107250</td>\n",
       "      <td>2850.0</td>\n",
       "      <td>110100.0</td>\n",
       "    </tr>\n",
       "    <tr>\n",
       "      <th rowspan=\"2\" valign=\"top\">5.0</th>\n",
       "      <th>smart</th>\n",
       "      <td>174737</td>\n",
       "      <td>6558.0</td>\n",
       "      <td>2243.0</td>\n",
       "      <td>54618.0</td>\n",
       "      <td>4762.0</td>\n",
       "      <td>77550</td>\n",
       "      <td>91299.0</td>\n",
       "      <td>168849.0</td>\n",
       "    </tr>\n",
       "    <tr>\n",
       "      <th>ultra</th>\n",
       "      <td>82992</td>\n",
       "      <td>3126.0</td>\n",
       "      <td>1298.0</td>\n",
       "      <td>33972.0</td>\n",
       "      <td>2515.0</td>\n",
       "      <td>128700</td>\n",
       "      <td>7350.0</td>\n",
       "      <td>136050.0</td>\n",
       "    </tr>\n",
       "    <tr>\n",
       "      <th rowspan=\"2\" valign=\"top\">6.0</th>\n",
       "      <th>smart</th>\n",
       "      <td>202197</td>\n",
       "      <td>7704.0</td>\n",
       "      <td>2616.0</td>\n",
       "      <td>64885.0</td>\n",
       "      <td>5478.0</td>\n",
       "      <td>90200</td>\n",
       "      <td>107259.0</td>\n",
       "      <td>197459.0</td>\n",
       "    </tr>\n",
       "    <tr>\n",
       "      <th>ultra</th>\n",
       "      <td>104317</td>\n",
       "      <td>3972.0</td>\n",
       "      <td>1591.0</td>\n",
       "      <td>40065.0</td>\n",
       "      <td>3467.0</td>\n",
       "      <td>161850</td>\n",
       "      <td>7500.0</td>\n",
       "      <td>169350.0</td>\n",
       "    </tr>\n",
       "    <tr>\n",
       "      <th rowspan=\"2\" valign=\"top\">7.0</th>\n",
       "      <th>smart</th>\n",
       "      <td>248318</td>\n",
       "      <td>9448.0</td>\n",
       "      <td>3191.0</td>\n",
       "      <td>82079.0</td>\n",
       "      <td>6784.0</td>\n",
       "      <td>110550</td>\n",
       "      <td>135464.0</td>\n",
       "      <td>246014.0</td>\n",
       "    </tr>\n",
       "    <tr>\n",
       "      <th>ultra</th>\n",
       "      <td>113692</td>\n",
       "      <td>4295.0</td>\n",
       "      <td>1866.0</td>\n",
       "      <td>49414.0</td>\n",
       "      <td>4499.0</td>\n",
       "      <td>175500</td>\n",
       "      <td>15300.0</td>\n",
       "      <td>190800.0</td>\n",
       "    </tr>\n",
       "    <tr>\n",
       "      <th rowspan=\"2\" valign=\"top\">8.0</th>\n",
       "      <th>smart</th>\n",
       "      <td>291863</td>\n",
       "      <td>11013.0</td>\n",
       "      <td>3933.0</td>\n",
       "      <td>98995.0</td>\n",
       "      <td>7904.0</td>\n",
       "      <td>128700</td>\n",
       "      <td>181090.0</td>\n",
       "      <td>309790.0</td>\n",
       "    </tr>\n",
       "    <tr>\n",
       "      <th>ultra</th>\n",
       "      <td>133860</td>\n",
       "      <td>4988.0</td>\n",
       "      <td>2097.0</td>\n",
       "      <td>54400.0</td>\n",
       "      <td>5142.0</td>\n",
       "      <td>206700</td>\n",
       "      <td>14250.0</td>\n",
       "      <td>220950.0</td>\n",
       "    </tr>\n",
       "    <tr>\n",
       "      <th rowspan=\"2\" valign=\"top\">9.0</th>\n",
       "      <th>smart</th>\n",
       "      <td>325487</td>\n",
       "      <td>12087.0</td>\n",
       "      <td>4262.0</td>\n",
       "      <td>111439.0</td>\n",
       "      <td>8746.0</td>\n",
       "      <td>143000</td>\n",
       "      <td>181986.0</td>\n",
       "      <td>324986.0</td>\n",
       "    </tr>\n",
       "    <tr>\n",
       "      <th>ultra</th>\n",
       "      <td>143696</td>\n",
       "      <td>5291.0</td>\n",
       "      <td>2213.0</td>\n",
       "      <td>61813.0</td>\n",
       "      <td>5981.0</td>\n",
       "      <td>222300</td>\n",
       "      <td>8550.0</td>\n",
       "      <td>230850.0</td>\n",
       "    </tr>\n",
       "    <tr>\n",
       "      <th rowspan=\"2\" valign=\"top\">10.0</th>\n",
       "      <th>smart</th>\n",
       "      <td>367519</td>\n",
       "      <td>13619.0</td>\n",
       "      <td>4963.0</td>\n",
       "      <td>125284.0</td>\n",
       "      <td>9927.0</td>\n",
       "      <td>161700</td>\n",
       "      <td>239567.0</td>\n",
       "      <td>401267.0</td>\n",
       "    </tr>\n",
       "    <tr>\n",
       "      <th>ultra</th>\n",
       "      <td>153204</td>\n",
       "      <td>5603.0</td>\n",
       "      <td>2468.0</td>\n",
       "      <td>68329.0</td>\n",
       "      <td>7152.0</td>\n",
       "      <td>237900</td>\n",
       "      <td>14250.0</td>\n",
       "      <td>252150.0</td>\n",
       "    </tr>\n",
       "    <tr>\n",
       "      <th rowspan=\"2\" valign=\"top\">11.0</th>\n",
       "      <th>smart</th>\n",
       "      <td>393901</td>\n",
       "      <td>14462.0</td>\n",
       "      <td>5372.0</td>\n",
       "      <td>137544.0</td>\n",
       "      <td>10768.0</td>\n",
       "      <td>173800</td>\n",
       "      <td>250603.0</td>\n",
       "      <td>424403.0</td>\n",
       "    </tr>\n",
       "    <tr>\n",
       "      <th>ultra</th>\n",
       "      <td>168003</td>\n",
       "      <td>6244.0</td>\n",
       "      <td>2654.0</td>\n",
       "      <td>72273.0</td>\n",
       "      <td>7447.0</td>\n",
       "      <td>259350</td>\n",
       "      <td>19050.0</td>\n",
       "      <td>278400.0</td>\n",
       "    </tr>\n",
       "    <tr>\n",
       "      <th rowspan=\"2\" valign=\"top\">12.0</th>\n",
       "      <th>smart</th>\n",
       "      <td>419175</td>\n",
       "      <td>15597.0</td>\n",
       "      <td>6134.0</td>\n",
       "      <td>161275.0</td>\n",
       "      <td>12130.0</td>\n",
       "      <td>185350</td>\n",
       "      <td>346615.0</td>\n",
       "      <td>531965.0</td>\n",
       "    </tr>\n",
       "    <tr>\n",
       "      <th>ultra</th>\n",
       "      <td>174442</td>\n",
       "      <td>6449.0</td>\n",
       "      <td>3022.0</td>\n",
       "      <td>82140.0</td>\n",
       "      <td>8386.0</td>\n",
       "      <td>269100</td>\n",
       "      <td>26250.0</td>\n",
       "      <td>295350.0</td>\n",
       "    </tr>\n",
       "  </tbody>\n",
       "</table>\n",
       "</div>"
      ],
      "text/plain": [
       "              user_id      age  gb_used     minut  message  tariff_pay  \\\n",
       "month tariff                                                             \n",
       "1.0   smart     43100   1672.0    297.0    6931.0    620.0       18700   \n",
       "      ultra     11658    415.0    119.0    3853.0    304.0       17550   \n",
       "2.0   smart     74292   2726.0    687.0   17324.0   1397.0       31900   \n",
       "      ultra     28266    967.0    288.0    6939.0    522.0       42900   \n",
       "3.0   smart     96773   3592.0   1173.0   30034.0   2453.0       42350   \n",
       "      ultra     47322   1680.0    653.0   18117.0   1195.0       72150   \n",
       "4.0   smart    139655   5232.0   1526.0   41119.0   3443.0       61600   \n",
       "      ultra     69743   2621.0    933.0   25191.0   1736.0      107250   \n",
       "5.0   smart    174737   6558.0   2243.0   54618.0   4762.0       77550   \n",
       "      ultra     82992   3126.0   1298.0   33972.0   2515.0      128700   \n",
       "6.0   smart    202197   7704.0   2616.0   64885.0   5478.0       90200   \n",
       "      ultra    104317   3972.0   1591.0   40065.0   3467.0      161850   \n",
       "7.0   smart    248318   9448.0   3191.0   82079.0   6784.0      110550   \n",
       "      ultra    113692   4295.0   1866.0   49414.0   4499.0      175500   \n",
       "8.0   smart    291863  11013.0   3933.0   98995.0   7904.0      128700   \n",
       "      ultra    133860   4988.0   2097.0   54400.0   5142.0      206700   \n",
       "9.0   smart    325487  12087.0   4262.0  111439.0   8746.0      143000   \n",
       "      ultra    143696   5291.0   2213.0   61813.0   5981.0      222300   \n",
       "10.0  smart    367519  13619.0   4963.0  125284.0   9927.0      161700   \n",
       "      ultra    153204   5603.0   2468.0   68329.0   7152.0      237900   \n",
       "11.0  smart    393901  14462.0   5372.0  137544.0  10768.0      173800   \n",
       "      ultra    168003   6244.0   2654.0   72273.0   7447.0      259350   \n",
       "12.0  smart    419175  15597.0   6134.0  161275.0  12130.0      185350   \n",
       "      ultra    174442   6449.0   3022.0   82140.0   8386.0      269100   \n",
       "\n",
       "               dop_pay    profit  \n",
       "month tariff                      \n",
       "1.0   smart     5825.0   24525.0  \n",
       "      ultra        0.0   17550.0  \n",
       "2.0   smart    16101.0   48001.0  \n",
       "      ultra      600.0   43500.0  \n",
       "3.0   smart    47326.0   89676.0  \n",
       "      ultra     2400.0   74550.0  \n",
       "4.0   smart    46266.0  107866.0  \n",
       "      ultra     2850.0  110100.0  \n",
       "5.0   smart    91299.0  168849.0  \n",
       "      ultra     7350.0  136050.0  \n",
       "6.0   smart   107259.0  197459.0  \n",
       "      ultra     7500.0  169350.0  \n",
       "7.0   smart   135464.0  246014.0  \n",
       "      ultra    15300.0  190800.0  \n",
       "8.0   smart   181090.0  309790.0  \n",
       "      ultra    14250.0  220950.0  \n",
       "9.0   smart   181986.0  324986.0  \n",
       "      ultra     8550.0  230850.0  \n",
       "10.0  smart   239567.0  401267.0  \n",
       "      ultra    14250.0  252150.0  \n",
       "11.0  smart   250603.0  424403.0  \n",
       "      ultra    19050.0  278400.0  \n",
       "12.0  smart   346615.0  531965.0  \n",
       "      ultra    26250.0  295350.0  "
      ]
     },
     "execution_count": 42,
     "metadata": {},
     "output_type": "execute_result"
    }
   ],
   "source": [
    "data_group = data.groupby(['month', 'tariff']).sum()\n",
    "\n",
    "data_group"
   ]
  },
  {
   "cell_type": "markdown",
   "metadata": {},
   "source": [
    "## Анализ данных"
   ]
  },
  {
   "cell_type": "markdown",
   "metadata": {},
   "source": [
    "Предлагаю выбрать несколько показателей, по которым будем сравнивать данные по тарифам: \n",
    " \n",
    " * Потраченные Гб\n",
    " * Потраченные Смс\n",
    " * Потраченные минуты"
   ]
  },
  {
   "cell_type": "markdown",
   "metadata": {},
   "source": [
    "**Задача**\n",
    "\n",
    "Проанализируйте данные\n",
    "\n",
    "Опишите поведение клиентов оператора, исходя из выборки. Сколько минут разговора, сколько сообщений и какой объём интернет-трафика требуется пользователям каждого тарифа в месяц? Посчитайте среднее количество, дисперсию и стандартное отклонение. Постройте гистограммы. Опишите распределения."
   ]
  },
  {
   "cell_type": "code",
   "execution_count": 43,
   "metadata": {},
   "outputs": [
    {
     "data": {
      "text/plain": [
       "<AxesSubplot:xlabel='month'>"
      ]
     },
     "execution_count": 43,
     "metadata": {},
     "output_type": "execute_result"
    },
    {
     "data": {
      "image/png": "[encoded data removed]",
      "text/plain": [
       "<Figure size 1080x360 with 1 Axes>"
      ]
     },
     "metadata": {
      "needs_background": "light"
     },
     "output_type": "display_data"
    }
   ],
   "source": [
    "data_sms = data[['month', 'message', 'tariff']]\n",
    "data_sms_smart = data_sms.query('tariff == \"smart\"')\n",
    "data_sms_smart\n",
    "data_sms_ultra = data_sms.query('tariff == \"ultra\"')\n",
    "sms = pd.DataFrame({'sms_smart' : data_sms_smart['message'],\n",
    "                   'sms_ultra' : data_sms_ultra['message'],\n",
    "                   'month' : data_sms['month']})\n",
    "sms = sms.groupby('month').mean()\n",
    "sms.plot(kind='bar', figsize=(15,5))\n"
   ]
  },
  {
   "cell_type": "markdown",
   "metadata": {},
   "source": [
    "Итак на графике мы видим, что пользователи тарифа Ультра отправляют больше смс в любой месяц, но больше всего в октябре, ноябре и декабре. Пользователи тарифа Смарт отправляют примерно одинаковое количество сообщений в среднем, но меньше всего в январе."
   ]
  },
  {
   "cell_type": "code",
   "execution_count": 44,
   "metadata": {
    "scrolled": false
   },
   "outputs": [
    {
     "data": {
      "text/plain": [
       "<AxesSubplot:xlabel='month'>"
      ]
     },
     "execution_count": 44,
     "metadata": {},
     "output_type": "execute_result"
    },
    {
     "data": {
      "image/png": "[encoded data removed]",
      "text/plain": [
       "<Figure size 1080x360 with 1 Axes>"
      ]
     },
     "metadata": {
      "needs_background": "light"
     },
     "output_type": "display_data"
    }
   ],
   "source": [
    "data_gb = data[['month', 'gb_used', 'tariff']]\n",
    "data_gb_smart = data_gb.query('tariff == \"smart\"')\n",
    "data_gb_ultra = data_gb.query('tariff == \"ultra\"')\n",
    "gb = pd.DataFrame({'gb_smart' : data_gb_smart['gb_used'],\n",
    "                   'gb_ultra' : data_gb_ultra['gb_used'],\n",
    "                   'month' : data_gb['month']})\n",
    "gb = gb.groupby('month').mean()\n",
    "gb.plot(kind='bar', figsize=(15,5))"
   ]
  },
  {
   "cell_type": "markdown",
   "metadata": {},
   "source": [
    "Аналогично графику с смс, мы построили график по использованию трафика интернета. Пользователи Ультра используют в среднем больше Гб, чем Смарт. Однако в январе и феврале количество интернета меньше в обоих тарифах."
   ]
  },
  {
   "cell_type": "code",
   "execution_count": 45,
   "metadata": {},
   "outputs": [
    {
     "data": {
      "text/plain": [
       "<AxesSubplot:xlabel='month'>"
      ]
     },
     "execution_count": 45,
     "metadata": {},
     "output_type": "execute_result"
    },
    {
     "data": {
      "image/png": "[encoded data removed]",
      "text/plain": [
       "<Figure size 1080x360 with 1 Axes>"
      ]
     },
     "metadata": {
      "needs_background": "light"
     },
     "output_type": "display_data"
    }
   ],
   "source": [
    "data_call = data[['month', 'minut', 'tariff']]\n",
    "data_call_smart = data_call.query('tariff == \"smart\"')\n",
    "data_call_ultra = data_call.query('tariff == \"ultra\"')\n",
    "call = pd.DataFrame({'call_smart' : data_call_smart['minut'],\n",
    "                   'call_ultra' : data_call_ultra['minut'],\n",
    "                   'month' : data_call['month']})\n",
    "call = call.groupby('month').mean()\n",
    "call.plot(kind='bar', figsize=(15,5))"
   ]
  },
  {
   "cell_type": "markdown",
   "metadata": {},
   "source": [
    "Звонят больше в тарифе Ультра. И январь с февралем опять проседают в двух тарифах, примерно как и во всех показателях."
   ]
  },
  {
   "cell_type": "code",
   "execution_count": 46,
   "metadata": {},
   "outputs": [
    {
     "data": {
      "text/html": [
       "<div>\n",
       "<style scoped>\n",
       "    .dataframe tbody tr th:only-of-type {\n",
       "        vertical-align: middle;\n",
       "    }\n",
       "\n",
       "    .dataframe tbody tr th {\n",
       "        vertical-align: top;\n",
       "    }\n",
       "\n",
       "    .dataframe thead th {\n",
       "        text-align: right;\n",
       "    }\n",
       "</style>\n",
       "<table border=\"1\" class=\"dataframe\">\n",
       "  <thead>\n",
       "    <tr style=\"text-align: right;\">\n",
       "      <th></th>\n",
       "      <th>user_id</th>\n",
       "      <th>age</th>\n",
       "      <th>month</th>\n",
       "      <th>gb_used</th>\n",
       "      <th>minut</th>\n",
       "      <th>message</th>\n",
       "      <th>tariff_pay</th>\n",
       "      <th>dop_pay</th>\n",
       "      <th>profit</th>\n",
       "    </tr>\n",
       "    <tr>\n",
       "      <th>tariff</th>\n",
       "      <th></th>\n",
       "      <th></th>\n",
       "      <th></th>\n",
       "      <th></th>\n",
       "      <th></th>\n",
       "      <th></th>\n",
       "      <th></th>\n",
       "      <th></th>\n",
       "      <th></th>\n",
       "    </tr>\n",
       "  </thead>\n",
       "  <tbody>\n",
       "    <tr>\n",
       "      <th>smart</th>\n",
       "      <td>1246.472858</td>\n",
       "      <td>46.550022</td>\n",
       "      <td>8.346948</td>\n",
       "      <td>16.336176</td>\n",
       "      <td>419.229073</td>\n",
       "      <td>38.736075</td>\n",
       "      <td>550.0</td>\n",
       "      <td>739.973531</td>\n",
       "      <td>1289.973531</td>\n",
       "    </tr>\n",
       "    <tr>\n",
       "      <th>ultra</th>\n",
       "      <td>1262.636643</td>\n",
       "      <td>46.824974</td>\n",
       "      <td>8.261538</td>\n",
       "      <td>19.694359</td>\n",
       "      <td>548.890542</td>\n",
       "      <td>61.587261</td>\n",
       "      <td>1950.0</td>\n",
       "      <td>121.136131</td>\n",
       "      <td>2071.136131</td>\n",
       "    </tr>\n",
       "  </tbody>\n",
       "</table>\n",
       "</div>"
      ],
      "text/plain": [
       "            user_id        age     month    gb_used       minut    message  \\\n",
       "tariff                                                                       \n",
       "smart   1246.472858  46.550022  8.346948  16.336176  419.229073  38.736075   \n",
       "ultra   1262.636643  46.824974  8.261538  19.694359  548.890542  61.587261   \n",
       "\n",
       "        tariff_pay     dop_pay       profit  \n",
       "tariff                                       \n",
       "smart        550.0  739.973531  1289.973531  \n",
       "ultra       1950.0  121.136131  2071.136131  "
      ]
     },
     "execution_count": 46,
     "metadata": {},
     "output_type": "execute_result"
    }
   ],
   "source": [
    "#сгруппируем таблицу по тарифам\n",
    "data_all_tariff = data.groupby('tariff').mean()\n",
    "data_all_tariff"
   ]
  },
  {
   "cell_type": "code",
   "execution_count": 47,
   "metadata": {},
   "outputs": [
    {
     "data": {
      "text/plain": [
       "<AxesSubplot:xlabel='tariff'>"
      ]
     },
     "execution_count": 47,
     "metadata": {},
     "output_type": "execute_result"
    },
    {
     "data": {
      "image/png": "[encoded data removed]",
      "text/plain": [
       "<Figure size 504x216 with 1 Axes>"
      ]
     },
     "metadata": {
      "needs_background": "light"
     },
     "output_type": "display_data"
    }
   ],
   "source": [
    "data_all_tariff_gb = data_all_tariff[['gb_used']]\n",
    "\n",
    "data_all_tariff_gb.plot(kind='bar', figsize=(7,3))"
   ]
  },
  {
   "cell_type": "markdown",
   "metadata": {},
   "source": [
    "На графике видим разницу средних между двумя тарифами. Ежемесячно в тарифе ультра используют больше Гб, чем в смарте"
   ]
  },
  {
   "cell_type": "code",
   "execution_count": 48,
   "metadata": {},
   "outputs": [
    {
     "data": {
      "text/plain": [
       "<AxesSubplot:xlabel='tariff'>"
      ]
     },
     "execution_count": 48,
     "metadata": {},
     "output_type": "execute_result"
    },
    {
     "data": {
      "image/png": "[encoded data removed]",
      "text/plain": [
       "<Figure size 504x216 with 1 Axes>"
      ]
     },
     "metadata": {
      "needs_background": "light"
     },
     "output_type": "display_data"
    }
   ],
   "source": [
    "data_all_tariff_call = data_all_tariff[['minut']]\n",
    "\n",
    "data_all_tariff_call.plot(kind='bar', figsize=(7,3))"
   ]
  },
  {
   "cell_type": "code",
   "execution_count": 49,
   "metadata": {},
   "outputs": [
    {
     "data": {
      "text/plain": [
       "<AxesSubplot:xlabel='tariff'>"
      ]
     },
     "execution_count": 49,
     "metadata": {},
     "output_type": "execute_result"
    },
    {
     "data": {
      "image/png": "[encoded data removed]",
      "text/plain": [
       "<Figure size 504x216 with 1 Axes>"
      ]
     },
     "metadata": {
      "needs_background": "light"
     },
     "output_type": "display_data"
    }
   ],
   "source": [
    "data_all_tariff_sms = data_all_tariff[['message']]\n",
    "\n",
    "data_all_tariff_sms.plot(kind='bar', figsize=(7,3))"
   ]
  },
  {
   "cell_type": "code",
   "execution_count": 50,
   "metadata": {},
   "outputs": [
    {
     "data": {
      "text/plain": [
       "<AxesSubplot:xlabel='tariff'>"
      ]
     },
     "execution_count": 50,
     "metadata": {},
     "output_type": "execute_result"
    },
    {
     "data": {
      "image/png": "[encoded data removed]",
      "text/plain": [
       "<Figure size 504x216 with 1 Axes>"
      ]
     },
     "metadata": {
      "needs_background": "light"
     },
     "output_type": "display_data"
    }
   ],
   "source": [
    "data_all_tariff_pay = data_all_tariff[['dop_pay']]\n",
    "\n",
    "data_all_tariff_pay.plot(kind='bar', figsize=(7,3))"
   ]
  },
  {
   "cell_type": "code",
   "execution_count": 51,
   "metadata": {},
   "outputs": [
    {
     "data": {
      "text/plain": [
       "<AxesSubplot:xlabel='tariff'>"
      ]
     },
     "execution_count": 51,
     "metadata": {},
     "output_type": "execute_result"
    },
    {
     "data": {
      "image/png": "[encoded data removed]",
      "text/plain": [
       "<Figure size 504x216 with 1 Axes>"
      ]
     },
     "metadata": {
      "needs_background": "light"
     },
     "output_type": "display_data"
    }
   ],
   "source": [
    "data_all_tariff_p = data_all_tariff[['profit']]\n",
    "\n",
    "data_all_tariff_p.plot(kind='bar', figsize=(7,3))"
   ]
  },
  {
   "cell_type": "markdown",
   "metadata": {},
   "source": [
    "И звонков и сообщений больше в тарифе ультра, если смотреть по показателю \"в среднем в месяц\". Пользователи тарифа Смарт доплачивают намного больше, чем Ультра, но при этом выручка компании больше с пользователей Ультра"
   ]
  },
  {
   "cell_type": "markdown",
   "metadata": {},
   "source": [
    "### Стандартное отклонение и дисперсия"
   ]
  },
  {
   "cell_type": "markdown",
   "metadata": {},
   "source": [
    "**Стандартное отклонение по звонкам**"
   ]
  },
  {
   "cell_type": "code",
   "execution_count": 52,
   "metadata": {},
   "outputs": [
    {
     "data": {
      "text/plain": [
       "count    2222.000000\n",
       "mean      419.229073\n",
       "std       189.206167\n",
       "min         0.000000\n",
       "25%       285.000000\n",
       "50%       423.000000\n",
       "75%       545.750000\n",
       "max      1435.000000\n",
       "Name: minut, dtype: float64"
      ]
     },
     "execution_count": 52,
     "metadata": {},
     "output_type": "execute_result"
    }
   ],
   "source": [
    "data_call_smart['minut'].describe()"
   ]
  },
  {
   "cell_type": "code",
   "execution_count": 53,
   "metadata": {},
   "outputs": [
    {
     "data": {
      "text/plain": [
       "count     941.000000\n",
       "mean      548.890542\n",
       "std       306.619353\n",
       "min         0.000000\n",
       "25%       315.000000\n",
       "50%       531.000000\n",
       "75%       760.000000\n",
       "max      1673.000000\n",
       "Name: minut, dtype: float64"
      ]
     },
     "execution_count": 53,
     "metadata": {},
     "output_type": "execute_result"
    }
   ],
   "source": [
    "data_call_ultra['minut'].describe()"
   ]
  },
  {
   "cell_type": "markdown",
   "metadata": {},
   "source": [
    "В тарифе Смарт стандартное отклонение - 189, а в Ультра - 306. \n"
   ]
  },
  {
   "cell_type": "markdown",
   "metadata": {},
   "source": [
    "**Стандартное отклонение по смс**"
   ]
  },
  {
   "cell_type": "code",
   "execution_count": 54,
   "metadata": {
    "scrolled": true
   },
   "outputs": [
    {
     "data": {
      "text/plain": [
       "count    1921.000000\n",
       "mean       38.736075\n",
       "std        26.781088\n",
       "min         1.000000\n",
       "25%        17.000000\n",
       "50%        34.000000\n",
       "75%        55.000000\n",
       "max       143.000000\n",
       "Name: message, dtype: float64"
      ]
     },
     "execution_count": 54,
     "metadata": {},
     "output_type": "execute_result"
    }
   ],
   "source": [
    "data_sms_smart['message'].describe()"
   ]
  },
  {
   "cell_type": "code",
   "execution_count": 55,
   "metadata": {},
   "outputs": [
    {
     "data": {
      "text/plain": [
       "count    785.000000\n",
       "mean      61.587261\n",
       "std       46.040193\n",
       "min        1.000000\n",
       "25%       24.000000\n",
       "50%       51.000000\n",
       "75%       88.000000\n",
       "max      224.000000\n",
       "Name: message, dtype: float64"
      ]
     },
     "execution_count": 55,
     "metadata": {},
     "output_type": "execute_result"
    }
   ],
   "source": [
    "data_sms_ultra['message'].describe()"
   ]
  },
  {
   "cell_type": "markdown",
   "metadata": {},
   "source": [
    "С помощью метода `describe()` мы видим максимальные и минимальные числа, а так же стандартное отклонение. \n",
    "\n",
    "Стандартное отклонение по отправленым сообщениям в Смарте - 26, в Ультра - 46"
   ]
  },
  {
   "cell_type": "markdown",
   "metadata": {},
   "source": [
    "**Стандартное отклонение в интернет трафике**"
   ]
  },
  {
   "cell_type": "code",
   "execution_count": 56,
   "metadata": {},
   "outputs": [
    {
     "data": {
      "text/plain": [
       "count    2228.000000\n",
       "mean       16.336176\n",
       "std         5.737923\n",
       "min         0.000000\n",
       "25%        13.000000\n",
       "50%        17.000000\n",
       "75%        20.000000\n",
       "max        38.000000\n",
       "Name: gb_used, dtype: float64"
      ]
     },
     "execution_count": 56,
     "metadata": {},
     "output_type": "execute_result"
    }
   ],
   "source": [
    "data_gb_smart['gb_used'].describe()"
   ]
  },
  {
   "cell_type": "code",
   "execution_count": 57,
   "metadata": {},
   "outputs": [
    {
     "data": {
      "text/plain": [
       "count    975.000000\n",
       "mean      19.694359\n",
       "std        9.702924\n",
       "min        0.000000\n",
       "25%       12.000000\n",
       "50%       19.000000\n",
       "75%       27.000000\n",
       "max       49.000000\n",
       "Name: gb_used, dtype: float64"
      ]
     },
     "execution_count": 57,
     "metadata": {},
     "output_type": "execute_result"
    }
   ],
   "source": [
    "data_gb_ultra['gb_used'].describe()"
   ]
  },
  {
   "cell_type": "markdown",
   "metadata": {},
   "source": [
    "Стандартное отклонение в трафике интернета в Смарте - 14, в Ультра - 19"
   ]
  },
  {
   "cell_type": "code",
   "execution_count": 58,
   "metadata": {},
   "outputs": [
    {
     "data": {
      "text/html": [
       "<div>\n",
       "<style scoped>\n",
       "    .dataframe tbody tr th:only-of-type {\n",
       "        vertical-align: middle;\n",
       "    }\n",
       "\n",
       "    .dataframe tbody tr th {\n",
       "        vertical-align: top;\n",
       "    }\n",
       "\n",
       "    .dataframe thead tr th {\n",
       "        text-align: left;\n",
       "    }\n",
       "\n",
       "    .dataframe thead tr:last-of-type th {\n",
       "        text-align: right;\n",
       "    }\n",
       "</style>\n",
       "<table border=\"1\" class=\"dataframe\">\n",
       "  <thead>\n",
       "    <tr>\n",
       "      <th></th>\n",
       "      <th>mean</th>\n",
       "      <th>var</th>\n",
       "      <th>std</th>\n",
       "    </tr>\n",
       "    <tr>\n",
       "      <th></th>\n",
       "      <th>minut</th>\n",
       "      <th>minut</th>\n",
       "      <th>minut</th>\n",
       "    </tr>\n",
       "    <tr>\n",
       "      <th>tariff</th>\n",
       "      <th></th>\n",
       "      <th></th>\n",
       "      <th></th>\n",
       "    </tr>\n",
       "  </thead>\n",
       "  <tbody>\n",
       "    <tr>\n",
       "      <th>smart</th>\n",
       "      <td>419.229073</td>\n",
       "      <td>35798.973616</td>\n",
       "      <td>189.206167</td>\n",
       "    </tr>\n",
       "    <tr>\n",
       "      <th>ultra</th>\n",
       "      <td>548.890542</td>\n",
       "      <td>94015.427368</td>\n",
       "      <td>306.619353</td>\n",
       "    </tr>\n",
       "  </tbody>\n",
       "</table>\n",
       "</div>"
      ],
      "text/plain": [
       "              mean           var         std\n",
       "             minut         minut       minut\n",
       "tariff                                      \n",
       "smart   419.229073  35798.973616  189.206167\n",
       "ultra   548.890542  94015.427368  306.619353"
      ]
     },
     "execution_count": 58,
     "metadata": {},
     "output_type": "execute_result"
    }
   ],
   "source": [
    "data.pivot_table(index= 'tariff', values= 'minut', aggfunc= ['mean', 'var','std'])"
   ]
  },
  {
   "cell_type": "markdown",
   "metadata": {},
   "source": [
    "**Дисперсия**"
   ]
  },
  {
   "cell_type": "markdown",
   "metadata": {},
   "source": [
    "С помощью метода `var()` мы найдем Дисперсию, укажем параметр ddof=1, потому что работаем с выборкой"
   ]
  },
  {
   "cell_type": "code",
   "execution_count": 59,
   "metadata": {},
   "outputs": [
    {
     "data": {
      "text/plain": [
       "32.92375582354312"
      ]
     },
     "execution_count": 59,
     "metadata": {},
     "output_type": "execute_result"
    }
   ],
   "source": [
    "data_gb_smart['gb_used'].var(ddof=1)"
   ]
  },
  {
   "cell_type": "code",
   "execution_count": 60,
   "metadata": {},
   "outputs": [
    {
     "data": {
      "text/plain": [
       "94.14673405991681"
      ]
     },
     "execution_count": 60,
     "metadata": {},
     "output_type": "execute_result"
    }
   ],
   "source": [
    "data_gb_ultra['gb_used'].var(ddof=1)"
   ]
  },
  {
   "cell_type": "code",
   "execution_count": 61,
   "metadata": {},
   "outputs": [
    {
     "data": {
      "text/plain": [
       "35798.97361633957"
      ]
     },
     "execution_count": 61,
     "metadata": {},
     "output_type": "execute_result"
    }
   ],
   "source": [
    "data_call_smart['minut'].var(ddof=1)"
   ]
  },
  {
   "cell_type": "code",
   "execution_count": 62,
   "metadata": {},
   "outputs": [
    {
     "data": {
      "text/plain": [
       "94015.42736789743"
      ]
     },
     "execution_count": 62,
     "metadata": {},
     "output_type": "execute_result"
    }
   ],
   "source": [
    "data_call_ultra['minut'].var(ddof=1)"
   ]
  },
  {
   "cell_type": "code",
   "execution_count": 63,
   "metadata": {},
   "outputs": [
    {
     "data": {
      "text/plain": [
       "717.2266614610446"
      ]
     },
     "execution_count": 63,
     "metadata": {},
     "output_type": "execute_result"
    }
   ],
   "source": [
    "data_sms_smart['message'].var(ddof=1)"
   ]
  },
  {
   "cell_type": "code",
   "execution_count": 64,
   "metadata": {},
   "outputs": [
    {
     "data": {
      "text/plain": [
       "2119.699327310542"
      ]
     },
     "execution_count": 64,
     "metadata": {},
     "output_type": "execute_result"
    }
   ],
   "source": [
    "data_sms_ultra['message'].var(ddof=1)"
   ]
  },
  {
   "cell_type": "markdown",
   "metadata": {},
   "source": [
    "Дисперсия в тарифе Ультра больше, чем в Смарте во всех показателях"
   ]
  },
  {
   "cell_type": "markdown",
   "metadata": {},
   "source": [
    "## Проверка гипотез"
   ]
  },
  {
   "cell_type": "markdown",
   "metadata": {},
   "source": [
    "### Гипотеза 1"
   ]
  },
  {
   "cell_type": "markdown",
   "metadata": {},
   "source": [
    "**Средняя выручка пользователей тарифов «Ультра» и «Смарт» различаются**"
   ]
  },
  {
   "cell_type": "code",
   "execution_count": 65,
   "metadata": {},
   "outputs": [],
   "source": [
    "data_ultra = data.query('tariff == \"ultra\"')\n",
    "data_smart = data.query('tariff == \"smart\"')"
   ]
  },
  {
   "cell_type": "markdown",
   "metadata": {},
   "source": [
    "- Н0 - \"Средняя выручка пользователей различается\"\n",
    "- Н1 - \"Средняя выручка пользователей не различается\""
   ]
  },
  {
   "cell_type": "code",
   "execution_count": 66,
   "metadata": {},
   "outputs": [
    {
     "name": "stdout",
     "output_type": "stream",
     "text": [
      "p-значение: 9.59472004286221e-160\n",
      "Выручка различается\n"
     ]
    }
   ],
   "source": [
    "pay_1 = data_smart['profit']\n",
    "pay_2 = data_ultra['profit']\n",
    "alpha=0.05\n",
    "results = st.ttest_ind(pay_1,pay_2)\n",
    "print('p-значение:', results.pvalue)\n",
    "\n",
    "if results.pvalue < alpha:\n",
    "    print('Выручка различается')\n",
    "else:\n",
    "    print('Выручка не различается')"
   ]
  },
  {
   "cell_type": "markdown",
   "metadata": {},
   "source": [
    "- Значит гипотеза: Средняя выручка в тарифах различается верно"
   ]
  },
  {
   "cell_type": "markdown",
   "metadata": {},
   "source": [
    "### Гипотеза 2"
   ]
  },
  {
   "cell_type": "markdown",
   "metadata": {},
   "source": [
    "**средняя выручка пользователей из Москвы отличается от выручки пользователей из других регионов**"
   ]
  },
  {
   "cell_type": "markdown",
   "metadata": {},
   "source": [
    "Для начала надо выделить пользователей Москвы"
   ]
  },
  {
   "cell_type": "code",
   "execution_count": 67,
   "metadata": {},
   "outputs": [
    {
     "data": {
      "text/html": [
       "<div>\n",
       "<style scoped>\n",
       "    .dataframe tbody tr th:only-of-type {\n",
       "        vertical-align: middle;\n",
       "    }\n",
       "\n",
       "    .dataframe tbody tr th {\n",
       "        vertical-align: top;\n",
       "    }\n",
       "\n",
       "    .dataframe thead th {\n",
       "        text-align: right;\n",
       "    }\n",
       "</style>\n",
       "<table border=\"1\" class=\"dataframe\">\n",
       "  <thead>\n",
       "    <tr style=\"text-align: right;\">\n",
       "      <th></th>\n",
       "      <th>user_id</th>\n",
       "      <th>age</th>\n",
       "      <th>churn_date</th>\n",
       "      <th>city</th>\n",
       "      <th>first_name</th>\n",
       "      <th>last_name</th>\n",
       "      <th>reg_date</th>\n",
       "      <th>tariff</th>\n",
       "      <th>month</th>\n",
       "      <th>gb_used</th>\n",
       "      <th>minut</th>\n",
       "      <th>message</th>\n",
       "      <th>tariff_pay</th>\n",
       "      <th>dop_pay</th>\n",
       "      <th>profit</th>\n",
       "    </tr>\n",
       "  </thead>\n",
       "  <tbody>\n",
       "    <tr>\n",
       "      <th>8</th>\n",
       "      <td>1001</td>\n",
       "      <td>41.0</td>\n",
       "      <td>NaT</td>\n",
       "      <td>Москва</td>\n",
       "      <td>Иван</td>\n",
       "      <td>Ежов</td>\n",
       "      <td>2018-11-01</td>\n",
       "      <td>smart</td>\n",
       "      <td>11.0</td>\n",
       "      <td>18.0</td>\n",
       "      <td>430.0</td>\n",
       "      <td>NaN</td>\n",
       "      <td>550</td>\n",
       "      <td>600.0</td>\n",
       "      <td>1150.0</td>\n",
       "    </tr>\n",
       "    <tr>\n",
       "      <th>9</th>\n",
       "      <td>1001</td>\n",
       "      <td>41.0</td>\n",
       "      <td>NaT</td>\n",
       "      <td>Москва</td>\n",
       "      <td>Иван</td>\n",
       "      <td>Ежов</td>\n",
       "      <td>2018-11-01</td>\n",
       "      <td>smart</td>\n",
       "      <td>12.0</td>\n",
       "      <td>14.0</td>\n",
       "      <td>414.0</td>\n",
       "      <td>NaN</td>\n",
       "      <td>550</td>\n",
       "      <td>0.0</td>\n",
       "      <td>550.0</td>\n",
       "    </tr>\n",
       "    <tr>\n",
       "      <th>17</th>\n",
       "      <td>1003</td>\n",
       "      <td>23.0</td>\n",
       "      <td>NaT</td>\n",
       "      <td>Москва</td>\n",
       "      <td>Белла</td>\n",
       "      <td>Белякова</td>\n",
       "      <td>2018-08-17</td>\n",
       "      <td>ultra</td>\n",
       "      <td>8.0</td>\n",
       "      <td>9.0</td>\n",
       "      <td>380.0</td>\n",
       "      <td>37.0</td>\n",
       "      <td>1950</td>\n",
       "      <td>0.0</td>\n",
       "      <td>1950.0</td>\n",
       "    </tr>\n",
       "    <tr>\n",
       "      <th>18</th>\n",
       "      <td>1003</td>\n",
       "      <td>23.0</td>\n",
       "      <td>NaT</td>\n",
       "      <td>Москва</td>\n",
       "      <td>Белла</td>\n",
       "      <td>Белякова</td>\n",
       "      <td>2018-08-17</td>\n",
       "      <td>ultra</td>\n",
       "      <td>9.0</td>\n",
       "      <td>13.0</td>\n",
       "      <td>961.0</td>\n",
       "      <td>91.0</td>\n",
       "      <td>1950</td>\n",
       "      <td>0.0</td>\n",
       "      <td>1950.0</td>\n",
       "    </tr>\n",
       "    <tr>\n",
       "      <th>19</th>\n",
       "      <td>1003</td>\n",
       "      <td>23.0</td>\n",
       "      <td>NaT</td>\n",
       "      <td>Москва</td>\n",
       "      <td>Белла</td>\n",
       "      <td>Белякова</td>\n",
       "      <td>2018-08-17</td>\n",
       "      <td>ultra</td>\n",
       "      <td>10.0</td>\n",
       "      <td>15.0</td>\n",
       "      <td>855.0</td>\n",
       "      <td>83.0</td>\n",
       "      <td>1950</td>\n",
       "      <td>0.0</td>\n",
       "      <td>1950.0</td>\n",
       "    </tr>\n",
       "  </tbody>\n",
       "</table>\n",
       "</div>"
      ],
      "text/plain": [
       "    user_id   age churn_date    city first_name last_name   reg_date tariff  \\\n",
       "8      1001  41.0        NaT  Москва       Иван      Ежов 2018-11-01  smart   \n",
       "9      1001  41.0        NaT  Москва       Иван      Ежов 2018-11-01  smart   \n",
       "17     1003  23.0        NaT  Москва      Белла  Белякова 2018-08-17  ultra   \n",
       "18     1003  23.0        NaT  Москва      Белла  Белякова 2018-08-17  ultra   \n",
       "19     1003  23.0        NaT  Москва      Белла  Белякова 2018-08-17  ultra   \n",
       "\n",
       "    month  gb_used  minut  message  tariff_pay  dop_pay  profit  \n",
       "8    11.0     18.0  430.0      NaN         550    600.0  1150.0  \n",
       "9    12.0     14.0  414.0      NaN         550      0.0   550.0  \n",
       "17    8.0      9.0  380.0     37.0        1950      0.0  1950.0  \n",
       "18    9.0     13.0  961.0     91.0        1950      0.0  1950.0  \n",
       "19   10.0     15.0  855.0     83.0        1950      0.0  1950.0  "
      ]
     },
     "execution_count": 67,
     "metadata": {},
     "output_type": "execute_result"
    }
   ],
   "source": [
    "data_moscow = data.query('city == \"Москва\"')\n",
    "data_all_city = data.query('city != \"Москва\"')\n",
    "data_moscow.head()"
   ]
  },
  {
   "cell_type": "code",
   "execution_count": 68,
   "metadata": {},
   "outputs": [
    {
     "data": {
      "text/html": [
       "<div>\n",
       "<style scoped>\n",
       "    .dataframe tbody tr th:only-of-type {\n",
       "        vertical-align: middle;\n",
       "    }\n",
       "\n",
       "    .dataframe tbody tr th {\n",
       "        vertical-align: top;\n",
       "    }\n",
       "\n",
       "    .dataframe thead th {\n",
       "        text-align: right;\n",
       "    }\n",
       "</style>\n",
       "<table border=\"1\" class=\"dataframe\">\n",
       "  <thead>\n",
       "    <tr style=\"text-align: right;\">\n",
       "      <th></th>\n",
       "      <th>user_id</th>\n",
       "      <th>age</th>\n",
       "      <th>churn_date</th>\n",
       "      <th>city</th>\n",
       "      <th>first_name</th>\n",
       "      <th>last_name</th>\n",
       "      <th>reg_date</th>\n",
       "      <th>tariff</th>\n",
       "      <th>month</th>\n",
       "      <th>gb_used</th>\n",
       "      <th>minut</th>\n",
       "      <th>message</th>\n",
       "      <th>tariff_pay</th>\n",
       "      <th>dop_pay</th>\n",
       "      <th>profit</th>\n",
       "    </tr>\n",
       "  </thead>\n",
       "  <tbody>\n",
       "    <tr>\n",
       "      <th>0</th>\n",
       "      <td>1000</td>\n",
       "      <td>52.0</td>\n",
       "      <td>NaT</td>\n",
       "      <td>Краснодар</td>\n",
       "      <td>Рафаил</td>\n",
       "      <td>Верещагин</td>\n",
       "      <td>2018-05-25</td>\n",
       "      <td>ultra</td>\n",
       "      <td>5.0</td>\n",
       "      <td>3.0</td>\n",
       "      <td>159.0</td>\n",
       "      <td>22.0</td>\n",
       "      <td>1950</td>\n",
       "      <td>0.0</td>\n",
       "      <td>1950.0</td>\n",
       "    </tr>\n",
       "    <tr>\n",
       "      <th>1</th>\n",
       "      <td>1000</td>\n",
       "      <td>52.0</td>\n",
       "      <td>NaT</td>\n",
       "      <td>Краснодар</td>\n",
       "      <td>Рафаил</td>\n",
       "      <td>Верещагин</td>\n",
       "      <td>2018-05-25</td>\n",
       "      <td>ultra</td>\n",
       "      <td>6.0</td>\n",
       "      <td>23.0</td>\n",
       "      <td>172.0</td>\n",
       "      <td>60.0</td>\n",
       "      <td>1950</td>\n",
       "      <td>0.0</td>\n",
       "      <td>1950.0</td>\n",
       "    </tr>\n",
       "    <tr>\n",
       "      <th>2</th>\n",
       "      <td>1000</td>\n",
       "      <td>52.0</td>\n",
       "      <td>NaT</td>\n",
       "      <td>Краснодар</td>\n",
       "      <td>Рафаил</td>\n",
       "      <td>Верещагин</td>\n",
       "      <td>2018-05-25</td>\n",
       "      <td>ultra</td>\n",
       "      <td>7.0</td>\n",
       "      <td>14.0</td>\n",
       "      <td>340.0</td>\n",
       "      <td>75.0</td>\n",
       "      <td>1950</td>\n",
       "      <td>0.0</td>\n",
       "      <td>1950.0</td>\n",
       "    </tr>\n",
       "    <tr>\n",
       "      <th>3</th>\n",
       "      <td>1000</td>\n",
       "      <td>52.0</td>\n",
       "      <td>NaT</td>\n",
       "      <td>Краснодар</td>\n",
       "      <td>Рафаил</td>\n",
       "      <td>Верещагин</td>\n",
       "      <td>2018-05-25</td>\n",
       "      <td>ultra</td>\n",
       "      <td>8.0</td>\n",
       "      <td>14.0</td>\n",
       "      <td>408.0</td>\n",
       "      <td>81.0</td>\n",
       "      <td>1950</td>\n",
       "      <td>0.0</td>\n",
       "      <td>1950.0</td>\n",
       "    </tr>\n",
       "    <tr>\n",
       "      <th>4</th>\n",
       "      <td>1000</td>\n",
       "      <td>52.0</td>\n",
       "      <td>NaT</td>\n",
       "      <td>Краснодар</td>\n",
       "      <td>Рафаил</td>\n",
       "      <td>Верещагин</td>\n",
       "      <td>2018-05-25</td>\n",
       "      <td>ultra</td>\n",
       "      <td>9.0</td>\n",
       "      <td>15.0</td>\n",
       "      <td>466.0</td>\n",
       "      <td>57.0</td>\n",
       "      <td>1950</td>\n",
       "      <td>0.0</td>\n",
       "      <td>1950.0</td>\n",
       "    </tr>\n",
       "  </tbody>\n",
       "</table>\n",
       "</div>"
      ],
      "text/plain": [
       "   user_id   age churn_date       city first_name  last_name   reg_date  \\\n",
       "0     1000  52.0        NaT  Краснодар     Рафаил  Верещагин 2018-05-25   \n",
       "1     1000  52.0        NaT  Краснодар     Рафаил  Верещагин 2018-05-25   \n",
       "2     1000  52.0        NaT  Краснодар     Рафаил  Верещагин 2018-05-25   \n",
       "3     1000  52.0        NaT  Краснодар     Рафаил  Верещагин 2018-05-25   \n",
       "4     1000  52.0        NaT  Краснодар     Рафаил  Верещагин 2018-05-25   \n",
       "\n",
       "  tariff  month  gb_used  minut  message  tariff_pay  dop_pay  profit  \n",
       "0  ultra    5.0      3.0  159.0     22.0        1950      0.0  1950.0  \n",
       "1  ultra    6.0     23.0  172.0     60.0        1950      0.0  1950.0  \n",
       "2  ultra    7.0     14.0  340.0     75.0        1950      0.0  1950.0  \n",
       "3  ultra    8.0     14.0  408.0     81.0        1950      0.0  1950.0  \n",
       "4  ultra    9.0     15.0  466.0     57.0        1950      0.0  1950.0  "
      ]
     },
     "execution_count": 68,
     "metadata": {},
     "output_type": "execute_result"
    }
   ],
   "source": [
    "data_all_city.head()"
   ]
  },
  {
   "cell_type": "markdown",
   "metadata": {},
   "source": [
    "- Н0 - \"Средняя выручка Москвы отличается от других городов\"\n",
    "- Н1 - \"Средняя выручка Москвы не отличается от других городов\""
   ]
  },
  {
   "cell_type": "code",
   "execution_count": 69,
   "metadata": {},
   "outputs": [
    {
     "name": "stdout",
     "output_type": "stream",
     "text": [
      "p-значение: nan\n",
      "Выручка не различается\n"
     ]
    }
   ],
   "source": [
    "pay_3 = data_moscow['profit']\n",
    "pay_4 = data_all_city['profit']\n",
    "alpha=0.05\n",
    "results = st.ttest_ind(pay_3,pay_4)\n",
    "print('p-значение:', results.pvalue)\n",
    "\n",
    "if results.pvalue < alpha:\n",
    "    print('Выручка различается')\n",
    "else:\n",
    "    print('Выручка не различается')"
   ]
  },
  {
   "cell_type": "markdown",
   "metadata": {},
   "source": [
    "Получается, что выручка не зависит от того, в каком регионе проживает пользователь"
   ]
  },
  {
   "cell_type": "markdown",
   "metadata": {},
   "source": [
    "- Гипотеза Н0 отвергается, а Н1 не отвергается. "
   ]
  },
  {
   "cell_type": "markdown",
   "metadata": {},
   "source": [
    "### Перепроверка гипотез"
   ]
  },
  {
   "cell_type": "markdown",
   "metadata": {},
   "source": [
    "Я люблю быть уверенной в своих утверждениях, поэтому давайте простым методом убедимся в правильности гипотез."
   ]
  },
  {
   "cell_type": "code",
   "execution_count": 70,
   "metadata": {},
   "outputs": [
    {
     "data": {
      "text/plain": [
       "1289.9735307312696"
      ]
     },
     "execution_count": 70,
     "metadata": {},
     "output_type": "execute_result"
    }
   ],
   "source": [
    "data_smart['profit'].mean()"
   ]
  },
  {
   "cell_type": "code",
   "execution_count": 71,
   "metadata": {},
   "outputs": [
    {
     "data": {
      "text/plain": [
       "2071.136131013306"
      ]
     },
     "execution_count": 71,
     "metadata": {},
     "output_type": "execute_result"
    }
   ],
   "source": [
    "data_ultra['profit'].mean()"
   ]
  },
  {
   "cell_type": "code",
   "execution_count": 72,
   "metadata": {},
   "outputs": [
    {
     "data": {
      "text/plain": [
       "1546.7135842880523"
      ]
     },
     "execution_count": 72,
     "metadata": {},
     "output_type": "execute_result"
    }
   ],
   "source": [
    "data_moscow['profit'].mean()"
   ]
  },
  {
   "cell_type": "code",
   "execution_count": 73,
   "metadata": {},
   "outputs": [
    {
     "data": {
      "text/plain": [
       "1523.6258188824663"
      ]
     },
     "execution_count": 73,
     "metadata": {},
     "output_type": "execute_result"
    }
   ],
   "source": [
    "data_all_city['profit'].mean()"
   ]
  },
  {
   "cell_type": "markdown",
   "metadata": {},
   "source": [
    "## Вывод"
   ]
  },
  {
   "cell_type": "markdown",
   "metadata": {},
   "source": [
    "Простым способом поиска среднего числа по столбцу, мы нашли четыре показателя. Наглядно видно, что выручка по тарифам действительно различается, а по городам нет. \n",
    "\n",
    "Пользователи тарифа Ультра приносят больше денег чем в тарифе Смарт. Не смотря на небольшую стоимость тарифа Смарт, пользователи часто выходят за лимит и доплачивают, но даже эта сумма меньше платежей пользователей Ультра. Разница в ежемесячном платеже в среднем в 60%. Поэтому вывод напрашивается сам собой: выгоднее предлагать новым пользователям тариф Ультра, если судить по средней выручке.\n",
    "\n",
    "Проведя подробное исследование проекта, можно заметить, что пользователи Ультра во всем опережают Смарт, ну кроме доплат за превышение лимитов. При стоимости тарифов в 550 и 1950 рублей, пользователи смарта доплачивают сверху в среднем еще 123%, а Ультра всего 5%. Так вот если посмотреть с этой точки зрения, то тариф Смарт выгоднее предлагать, он приносит больше доплат, намного больше.\n",
    "\n",
    "На графиках было видно, что в январе и феврале очень проседает использование вообще всего: и звонков и смс и интернета. Я бы в период спада активно предлагала тариф Смарт для новых пользователей, он дешевле, но компанию знает, что пользователь заплатит в два раза больше в итоге. А вот в периоды ноября и декабря, когда спрос и так велик, можно продавать тарифы Ультра."
   ]
  }
 ],
 "metadata": {
  "ExecuteTimeLog": [
   {
    "duration": 460,
    "start_time": "2022-06-22T11:30:57.464Z"
   },
   {
    "duration": 936,
    "start_time": "2022-06-22T11:31:26.706Z"
   },
   {
    "duration": 12,
    "start_time": "2022-06-22T11:31:37.215Z"
   },
   {
    "duration": 430,
    "start_time": "2022-06-22T11:31:49.470Z"
   },
   {
    "duration": 9,
    "start_time": "2022-06-22T11:31:51.778Z"
   },
   {
    "duration": 432,
    "start_time": "2022-06-22T11:32:08.044Z"
   },
   {
    "duration": 39,
    "start_time": "2022-06-22T11:32:17.328Z"
   },
   {
    "duration": 24,
    "start_time": "2022-06-22T11:37:04.297Z"
   },
   {
    "duration": 32,
    "start_time": "2022-06-22T11:39:37.030Z"
   },
   {
    "duration": 10,
    "start_time": "2022-06-22T11:41:20.581Z"
   },
   {
    "duration": 8,
    "start_time": "2022-06-22T11:42:29.719Z"
   },
   {
    "duration": 12,
    "start_time": "2022-06-22T11:42:35.279Z"
   },
   {
    "duration": 3,
    "start_time": "2022-06-22T11:49:16.275Z"
   },
   {
    "duration": 9,
    "start_time": "2022-06-22T11:49:49.786Z"
   },
   {
    "duration": 15,
    "start_time": "2022-06-22T11:50:11.371Z"
   },
   {
    "duration": 28,
    "start_time": "2022-06-22T11:52:04.001Z"
   },
   {
    "duration": 36,
    "start_time": "2022-06-22T11:52:18.240Z"
   },
   {
    "duration": 10,
    "start_time": "2022-06-22T11:52:40.200Z"
   },
   {
    "duration": 8,
    "start_time": "2022-06-22T11:55:57.659Z"
   },
   {
    "duration": 8,
    "start_time": "2022-06-22T11:56:15.239Z"
   },
   {
    "duration": 13,
    "start_time": "2022-06-22T11:56:31.027Z"
   },
   {
    "duration": 11,
    "start_time": "2022-06-22T11:56:44.585Z"
   },
   {
    "duration": 30,
    "start_time": "2022-06-22T12:00:23.278Z"
   },
   {
    "duration": 33,
    "start_time": "2022-06-22T12:00:41.214Z"
   },
   {
    "duration": 54,
    "start_time": "2022-06-22T12:00:56.945Z"
   },
   {
    "duration": 31,
    "start_time": "2022-06-22T12:01:01.827Z"
   },
   {
    "duration": 32,
    "start_time": "2022-06-22T12:01:29.680Z"
   },
   {
    "duration": 37,
    "start_time": "2022-06-22T12:02:27.527Z"
   },
   {
    "duration": 31,
    "start_time": "2022-06-22T12:03:42.930Z"
   },
   {
    "duration": 30,
    "start_time": "2022-06-22T12:04:19.584Z"
   },
   {
    "duration": 13,
    "start_time": "2022-06-22T12:05:37.366Z"
   },
   {
    "duration": 13,
    "start_time": "2022-06-22T12:05:55.051Z"
   },
   {
    "duration": 8,
    "start_time": "2022-06-22T12:11:27.534Z"
   },
   {
    "duration": 5,
    "start_time": "2022-06-22T12:11:49.467Z"
   },
   {
    "duration": 7,
    "start_time": "2022-06-22T12:12:09.568Z"
   },
   {
    "duration": 5,
    "start_time": "2022-06-22T12:13:00.062Z"
   },
   {
    "duration": 9,
    "start_time": "2022-06-22T12:13:15.727Z"
   },
   {
    "duration": 25,
    "start_time": "2022-06-22T12:13:23.570Z"
   },
   {
    "duration": 9,
    "start_time": "2022-06-22T12:15:47.375Z"
   },
   {
    "duration": 6,
    "start_time": "2022-06-22T12:17:05.661Z"
   },
   {
    "duration": 77,
    "start_time": "2022-06-22T12:25:21.693Z"
   },
   {
    "duration": 8,
    "start_time": "2022-06-22T12:25:25.437Z"
   },
   {
    "duration": 798,
    "start_time": "2022-06-22T12:26:27.590Z"
   },
   {
    "duration": 11,
    "start_time": "2022-06-22T12:27:40.236Z"
   },
   {
    "duration": 22,
    "start_time": "2022-06-22T12:27:51.478Z"
   },
   {
    "duration": 16,
    "start_time": "2022-06-22T12:28:08.650Z"
   },
   {
    "duration": 8,
    "start_time": "2022-06-22T12:29:26.179Z"
   },
   {
    "duration": 18,
    "start_time": "2022-06-22T12:31:05.521Z"
   },
   {
    "duration": 13,
    "start_time": "2022-06-22T12:31:10.029Z"
   },
   {
    "duration": 8,
    "start_time": "2022-06-22T12:31:46.678Z"
   },
   {
    "duration": 18,
    "start_time": "2022-06-22T12:33:58.633Z"
   },
   {
    "duration": 11,
    "start_time": "2022-06-22T12:34:21.892Z"
   },
   {
    "duration": 9,
    "start_time": "2022-06-22T12:34:32.876Z"
   },
   {
    "duration": 7,
    "start_time": "2022-06-22T12:35:36.773Z"
   },
   {
    "duration": 8,
    "start_time": "2022-06-22T12:35:47.199Z"
   },
   {
    "duration": 11,
    "start_time": "2022-06-22T12:36:44.644Z"
   },
   {
    "duration": 10,
    "start_time": "2022-06-22T12:36:51.323Z"
   },
   {
    "duration": 9,
    "start_time": "2022-06-22T12:37:10.995Z"
   },
   {
    "duration": 15,
    "start_time": "2022-06-22T12:37:24.485Z"
   },
   {
    "duration": 12,
    "start_time": "2022-06-22T12:37:44.339Z"
   },
   {
    "duration": 10,
    "start_time": "2022-06-22T12:37:53.134Z"
   },
   {
    "duration": 12,
    "start_time": "2022-06-22T12:38:41.638Z"
   },
   {
    "duration": 16,
    "start_time": "2022-06-22T12:38:47.712Z"
   },
   {
    "duration": 9,
    "start_time": "2022-06-22T12:39:19.014Z"
   },
   {
    "duration": 36,
    "start_time": "2022-06-22T12:40:22.265Z"
   },
   {
    "duration": 47,
    "start_time": "2022-06-22T12:41:12.725Z"
   },
   {
    "duration": 29,
    "start_time": "2022-06-22T12:41:31.805Z"
   },
   {
    "duration": 9,
    "start_time": "2022-06-22T12:41:50.450Z"
   },
   {
    "duration": 7,
    "start_time": "2022-06-22T12:42:03.316Z"
   },
   {
    "duration": 14,
    "start_time": "2022-06-22T12:42:13.005Z"
   },
   {
    "duration": 9,
    "start_time": "2022-06-22T12:45:13.091Z"
   },
   {
    "duration": 13,
    "start_time": "2022-06-22T12:46:32.575Z"
   },
   {
    "duration": 9,
    "start_time": "2022-06-22T12:46:49.228Z"
   },
   {
    "duration": 15,
    "start_time": "2022-06-22T12:47:07.895Z"
   },
   {
    "duration": 7,
    "start_time": "2022-06-22T12:47:17.514Z"
   },
   {
    "duration": 10,
    "start_time": "2022-06-22T12:47:22.321Z"
   },
   {
    "duration": 8,
    "start_time": "2022-06-22T12:54:42.842Z"
   },
   {
    "duration": 9,
    "start_time": "2022-06-22T12:55:44.196Z"
   },
   {
    "duration": 688,
    "start_time": "2022-06-22T12:56:12.802Z"
   },
   {
    "duration": 457,
    "start_time": "2022-06-22T12:58:12.193Z"
   },
   {
    "duration": 9,
    "start_time": "2022-06-22T12:58:12.653Z"
   },
   {
    "duration": 39,
    "start_time": "2022-06-22T12:58:12.664Z"
   },
   {
    "duration": 10,
    "start_time": "2022-06-22T12:58:12.705Z"
   },
   {
    "duration": 37,
    "start_time": "2022-06-22T12:58:12.716Z"
   },
   {
    "duration": 8,
    "start_time": "2022-06-22T12:58:12.755Z"
   },
   {
    "duration": 36,
    "start_time": "2022-06-22T12:58:12.765Z"
   },
   {
    "duration": 24,
    "start_time": "2022-06-22T12:58:12.804Z"
   },
   {
    "duration": 29,
    "start_time": "2022-06-22T12:58:12.830Z"
   },
   {
    "duration": 14,
    "start_time": "2022-06-22T12:58:12.863Z"
   },
   {
    "duration": 15,
    "start_time": "2022-06-22T12:58:12.879Z"
   },
   {
    "duration": 20,
    "start_time": "2022-06-22T12:58:12.896Z"
   },
   {
    "duration": 17,
    "start_time": "2022-06-22T12:58:12.917Z"
   },
   {
    "duration": 43,
    "start_time": "2022-06-22T12:58:12.936Z"
   },
   {
    "duration": 19,
    "start_time": "2022-06-22T12:58:12.981Z"
   },
   {
    "duration": 34,
    "start_time": "2022-06-22T12:58:13.002Z"
   },
   {
    "duration": 11,
    "start_time": "2022-06-22T12:58:13.039Z"
   },
   {
    "duration": 102,
    "start_time": "2022-06-22T12:58:13.052Z"
   },
   {
    "duration": 76,
    "start_time": "2022-06-22T12:58:13.156Z"
   },
   {
    "duration": 54,
    "start_time": "2022-06-22T12:58:13.235Z"
   },
   {
    "duration": 625,
    "start_time": "2022-06-22T12:58:13.292Z"
   },
   {
    "duration": 0,
    "start_time": "2022-06-22T12:58:13.919Z"
   },
   {
    "duration": 0,
    "start_time": "2022-06-22T12:58:13.921Z"
   },
   {
    "duration": 0,
    "start_time": "2022-06-22T12:58:13.923Z"
   },
   {
    "duration": 0,
    "start_time": "2022-06-22T12:58:13.924Z"
   },
   {
    "duration": 0,
    "start_time": "2022-06-22T12:58:13.925Z"
   },
   {
    "duration": 0,
    "start_time": "2022-06-22T12:58:13.926Z"
   },
   {
    "duration": 0,
    "start_time": "2022-06-22T12:58:13.928Z"
   },
   {
    "duration": 0,
    "start_time": "2022-06-22T12:58:13.929Z"
   },
   {
    "duration": 1060,
    "start_time": "2022-06-22T12:58:28.786Z"
   },
   {
    "duration": 18,
    "start_time": "2022-06-22T12:58:29.848Z"
   },
   {
    "duration": 49,
    "start_time": "2022-06-22T12:58:29.869Z"
   },
   {
    "duration": 11,
    "start_time": "2022-06-22T12:58:29.921Z"
   },
   {
    "duration": 30,
    "start_time": "2022-06-22T12:58:29.934Z"
   },
   {
    "duration": 9,
    "start_time": "2022-06-22T12:58:29.966Z"
   },
   {
    "duration": 49,
    "start_time": "2022-06-22T12:58:29.977Z"
   },
   {
    "duration": 17,
    "start_time": "2022-06-22T12:58:30.029Z"
   },
   {
    "duration": 26,
    "start_time": "2022-06-22T12:58:30.049Z"
   },
   {
    "duration": 25,
    "start_time": "2022-06-22T12:58:30.083Z"
   },
   {
    "duration": 31,
    "start_time": "2022-06-22T12:58:30.110Z"
   },
   {
    "duration": 15,
    "start_time": "2022-06-22T12:58:30.144Z"
   },
   {
    "duration": 18,
    "start_time": "2022-06-22T12:58:30.161Z"
   },
   {
    "duration": 22,
    "start_time": "2022-06-22T12:58:30.180Z"
   },
   {
    "duration": 34,
    "start_time": "2022-06-22T12:58:30.204Z"
   },
   {
    "duration": 72,
    "start_time": "2022-06-22T12:58:30.240Z"
   },
   {
    "duration": 18,
    "start_time": "2022-06-22T12:58:30.314Z"
   },
   {
    "duration": 80,
    "start_time": "2022-06-22T12:58:30.335Z"
   },
   {
    "duration": 68,
    "start_time": "2022-06-22T12:58:30.418Z"
   },
   {
    "duration": 69,
    "start_time": "2022-06-22T12:58:30.491Z"
   },
   {
    "duration": 913,
    "start_time": "2022-06-22T12:58:30.562Z"
   },
   {
    "duration": 0,
    "start_time": "2022-06-22T12:58:31.479Z"
   },
   {
    "duration": 0,
    "start_time": "2022-06-22T12:58:31.480Z"
   },
   {
    "duration": 0,
    "start_time": "2022-06-22T12:58:31.482Z"
   },
   {
    "duration": 0,
    "start_time": "2022-06-22T12:58:31.484Z"
   },
   {
    "duration": 0,
    "start_time": "2022-06-22T12:58:31.486Z"
   },
   {
    "duration": 0,
    "start_time": "2022-06-22T12:58:31.489Z"
   },
   {
    "duration": 0,
    "start_time": "2022-06-22T12:58:31.490Z"
   },
   {
    "duration": 0,
    "start_time": "2022-06-22T12:58:31.492Z"
   },
   {
    "duration": 16,
    "start_time": "2022-06-22T12:58:39.207Z"
   },
   {
    "duration": 494,
    "start_time": "2022-06-22T12:59:40.004Z"
   },
   {
    "duration": 15,
    "start_time": "2022-06-22T12:59:51.955Z"
   },
   {
    "duration": 13,
    "start_time": "2022-06-22T12:59:56.159Z"
   },
   {
    "duration": 14,
    "start_time": "2022-06-22T13:00:32.113Z"
   },
   {
    "duration": 13,
    "start_time": "2022-06-22T13:01:13.439Z"
   },
   {
    "duration": 11,
    "start_time": "2022-06-22T13:01:40.595Z"
   },
   {
    "duration": 16,
    "start_time": "2022-06-22T13:01:42.402Z"
   },
   {
    "duration": 15,
    "start_time": "2022-06-22T13:01:51.022Z"
   },
   {
    "duration": 20,
    "start_time": "2022-06-22T13:03:13.649Z"
   },
   {
    "duration": 7,
    "start_time": "2022-06-22T13:03:19.620Z"
   },
   {
    "duration": 13,
    "start_time": "2022-06-22T13:03:26.564Z"
   },
   {
    "duration": 10,
    "start_time": "2022-06-22T13:03:33.335Z"
   },
   {
    "duration": 48,
    "start_time": "2022-06-22T13:04:56.046Z"
   },
   {
    "duration": 58,
    "start_time": "2022-06-22T13:05:04.951Z"
   },
   {
    "duration": 65,
    "start_time": "2022-06-22T13:05:07.189Z"
   },
   {
    "duration": 952,
    "start_time": "2022-06-22T13:05:18.417Z"
   },
   {
    "duration": 18,
    "start_time": "2022-06-22T13:05:19.371Z"
   },
   {
    "duration": 30,
    "start_time": "2022-06-22T13:05:19.391Z"
   },
   {
    "duration": 11,
    "start_time": "2022-06-22T13:05:19.424Z"
   },
   {
    "duration": 36,
    "start_time": "2022-06-22T13:05:19.437Z"
   },
   {
    "duration": 10,
    "start_time": "2022-06-22T13:05:19.476Z"
   },
   {
    "duration": 58,
    "start_time": "2022-06-22T13:05:19.488Z"
   },
   {
    "duration": 18,
    "start_time": "2022-06-22T13:05:19.549Z"
   },
   {
    "duration": 14,
    "start_time": "2022-06-22T13:05:19.569Z"
   },
   {
    "duration": 13,
    "start_time": "2022-06-22T13:05:19.588Z"
   },
   {
    "duration": 30,
    "start_time": "2022-06-22T13:05:19.603Z"
   },
   {
    "duration": 26,
    "start_time": "2022-06-22T13:05:19.635Z"
   },
   {
    "duration": 19,
    "start_time": "2022-06-22T13:05:19.663Z"
   },
   {
    "duration": 33,
    "start_time": "2022-06-22T13:05:19.684Z"
   },
   {
    "duration": 36,
    "start_time": "2022-06-22T13:05:19.719Z"
   },
   {
    "duration": 25,
    "start_time": "2022-06-22T13:05:19.756Z"
   },
   {
    "duration": 6,
    "start_time": "2022-06-22T13:05:19.783Z"
   },
   {
    "duration": 83,
    "start_time": "2022-06-22T13:05:19.791Z"
   },
   {
    "duration": 50,
    "start_time": "2022-06-22T13:05:19.876Z"
   },
   {
    "duration": 42,
    "start_time": "2022-06-22T13:05:19.932Z"
   },
   {
    "duration": 48,
    "start_time": "2022-06-22T13:05:19.976Z"
   },
   {
    "duration": 0,
    "start_time": "2022-06-22T13:05:20.026Z"
   },
   {
    "duration": 0,
    "start_time": "2022-06-22T13:05:20.028Z"
   },
   {
    "duration": 1,
    "start_time": "2022-06-22T13:05:20.029Z"
   },
   {
    "duration": 0,
    "start_time": "2022-06-22T13:05:20.031Z"
   },
   {
    "duration": 0,
    "start_time": "2022-06-22T13:05:20.032Z"
   },
   {
    "duration": 0,
    "start_time": "2022-06-22T13:05:20.034Z"
   },
   {
    "duration": 0,
    "start_time": "2022-06-22T13:05:20.035Z"
   },
   {
    "duration": 0,
    "start_time": "2022-06-22T13:05:20.036Z"
   },
   {
    "duration": 71,
    "start_time": "2022-06-22T13:05:22.744Z"
   },
   {
    "duration": 9,
    "start_time": "2022-06-22T13:05:27.500Z"
   },
   {
    "duration": 31,
    "start_time": "2022-06-22T13:05:28.491Z"
   },
   {
    "duration": 16,
    "start_time": "2022-06-22T13:05:30.024Z"
   },
   {
    "duration": 30,
    "start_time": "2022-06-22T13:05:32.326Z"
   },
   {
    "duration": 79,
    "start_time": "2022-06-22T13:05:38.470Z"
   },
   {
    "duration": 13,
    "start_time": "2022-06-22T13:05:39.786Z"
   },
   {
    "duration": 764,
    "start_time": "2022-06-22T13:05:48.231Z"
   },
   {
    "duration": 474,
    "start_time": "2022-06-22T13:06:34.601Z"
   },
   {
    "duration": 15,
    "start_time": "2022-06-22T13:06:41.101Z"
   },
   {
    "duration": 12,
    "start_time": "2022-06-22T13:06:46.808Z"
   },
   {
    "duration": 12,
    "start_time": "2022-06-22T13:09:01.785Z"
   },
   {
    "duration": 15,
    "start_time": "2022-06-22T13:09:11.858Z"
   },
   {
    "duration": 14,
    "start_time": "2022-06-22T13:09:14.909Z"
   },
   {
    "duration": 11,
    "start_time": "2022-06-22T13:09:42.949Z"
   },
   {
    "duration": 12,
    "start_time": "2022-06-22T13:09:47.833Z"
   },
   {
    "duration": 17,
    "start_time": "2022-06-22T13:10:44.449Z"
   },
   {
    "duration": 13,
    "start_time": "2022-06-22T13:10:48.215Z"
   },
   {
    "duration": 442,
    "start_time": "2022-06-22T13:11:05.005Z"
   },
   {
    "duration": 10,
    "start_time": "2022-06-22T13:11:05.449Z"
   },
   {
    "duration": 70,
    "start_time": "2022-06-22T13:11:05.460Z"
   },
   {
    "duration": 8,
    "start_time": "2022-06-22T13:11:05.533Z"
   },
   {
    "duration": 27,
    "start_time": "2022-06-22T13:11:05.543Z"
   },
   {
    "duration": 7,
    "start_time": "2022-06-22T13:11:05.572Z"
   },
   {
    "duration": 21,
    "start_time": "2022-06-22T13:11:05.580Z"
   },
   {
    "duration": 27,
    "start_time": "2022-06-22T13:11:05.603Z"
   },
   {
    "duration": 16,
    "start_time": "2022-06-22T13:11:05.631Z"
   },
   {
    "duration": 14,
    "start_time": "2022-06-22T13:11:05.650Z"
   },
   {
    "duration": 11,
    "start_time": "2022-06-22T13:11:05.666Z"
   },
   {
    "duration": 7,
    "start_time": "2022-06-22T13:11:05.679Z"
   },
   {
    "duration": 10,
    "start_time": "2022-06-22T13:11:05.688Z"
   },
   {
    "duration": 36,
    "start_time": "2022-06-22T13:11:05.699Z"
   },
   {
    "duration": 21,
    "start_time": "2022-06-22T13:11:05.736Z"
   },
   {
    "duration": 28,
    "start_time": "2022-06-22T13:11:05.758Z"
   },
   {
    "duration": 7,
    "start_time": "2022-06-22T13:11:05.788Z"
   },
   {
    "duration": 76,
    "start_time": "2022-06-22T13:11:05.797Z"
   },
   {
    "duration": 40,
    "start_time": "2022-06-22T13:11:05.875Z"
   },
   {
    "duration": 37,
    "start_time": "2022-06-22T13:11:05.927Z"
   },
   {
    "duration": 11,
    "start_time": "2022-06-22T13:11:05.966Z"
   },
   {
    "duration": 11,
    "start_time": "2022-06-22T13:11:05.979Z"
   },
   {
    "duration": 0,
    "start_time": "2022-06-22T13:11:05.992Z"
   },
   {
    "duration": 0,
    "start_time": "2022-06-22T13:11:05.994Z"
   },
   {
    "duration": 0,
    "start_time": "2022-06-22T13:11:05.996Z"
   },
   {
    "duration": 0,
    "start_time": "2022-06-22T13:11:06.026Z"
   },
   {
    "duration": 0,
    "start_time": "2022-06-22T13:11:06.028Z"
   },
   {
    "duration": 0,
    "start_time": "2022-06-22T13:11:06.029Z"
   },
   {
    "duration": 0,
    "start_time": "2022-06-22T13:11:06.030Z"
   },
   {
    "duration": 720,
    "start_time": "2022-06-22T13:11:20.841Z"
   },
   {
    "duration": 602,
    "start_time": "2022-06-22T13:12:15.983Z"
   },
   {
    "duration": 430,
    "start_time": "2022-06-22T13:12:34.978Z"
   },
   {
    "duration": 16,
    "start_time": "2022-06-22T13:12:39.490Z"
   },
   {
    "duration": 17,
    "start_time": "2022-06-22T13:12:41.201Z"
   },
   {
    "duration": 13,
    "start_time": "2022-06-22T13:12:45.877Z"
   },
   {
    "duration": 19,
    "start_time": "2022-06-22T13:12:52.107Z"
   },
   {
    "duration": 14,
    "start_time": "2022-06-22T13:13:17.266Z"
   },
   {
    "duration": 14,
    "start_time": "2022-06-22T13:13:36.564Z"
   },
   {
    "duration": 21,
    "start_time": "2022-06-22T13:13:41.578Z"
   },
   {
    "duration": 7,
    "start_time": "2022-06-22T13:14:18.538Z"
   },
   {
    "duration": 11,
    "start_time": "2022-06-22T13:14:24.278Z"
   },
   {
    "duration": 16,
    "start_time": "2022-06-22T13:14:30.947Z"
   },
   {
    "duration": 899,
    "start_time": "2022-06-22T13:14:32.694Z"
   },
   {
    "duration": 845,
    "start_time": "2022-06-22T13:15:29.235Z"
   },
   {
    "duration": 822,
    "start_time": "2022-06-22T13:15:42.264Z"
   },
   {
    "duration": 17,
    "start_time": "2022-06-22T13:15:43.088Z"
   },
   {
    "duration": 27,
    "start_time": "2022-06-22T13:15:43.106Z"
   },
   {
    "duration": 9,
    "start_time": "2022-06-22T13:15:43.135Z"
   },
   {
    "duration": 25,
    "start_time": "2022-06-22T13:15:43.146Z"
   },
   {
    "duration": 7,
    "start_time": "2022-06-22T13:15:43.172Z"
   },
   {
    "duration": 22,
    "start_time": "2022-06-22T13:15:43.181Z"
   },
   {
    "duration": 9,
    "start_time": "2022-06-22T13:15:43.226Z"
   },
   {
    "duration": 17,
    "start_time": "2022-06-22T13:15:43.236Z"
   },
   {
    "duration": 19,
    "start_time": "2022-06-22T13:15:43.258Z"
   },
   {
    "duration": 16,
    "start_time": "2022-06-22T13:15:43.278Z"
   },
   {
    "duration": 11,
    "start_time": "2022-06-22T13:15:43.295Z"
   },
   {
    "duration": 27,
    "start_time": "2022-06-22T13:15:43.308Z"
   },
   {
    "duration": 21,
    "start_time": "2022-06-22T13:15:43.336Z"
   },
   {
    "duration": 23,
    "start_time": "2022-06-22T13:15:43.359Z"
   },
   {
    "duration": 7,
    "start_time": "2022-06-22T13:15:43.385Z"
   },
   {
    "duration": 84,
    "start_time": "2022-06-22T13:15:43.394Z"
   },
   {
    "duration": 47,
    "start_time": "2022-06-22T13:15:43.481Z"
   },
   {
    "duration": 34,
    "start_time": "2022-06-22T13:15:43.529Z"
   },
   {
    "duration": 13,
    "start_time": "2022-06-22T13:15:43.565Z"
   },
   {
    "duration": 46,
    "start_time": "2022-06-22T13:15:43.580Z"
   },
   {
    "duration": 11,
    "start_time": "2022-06-22T13:15:43.628Z"
   },
   {
    "duration": 27,
    "start_time": "2022-06-22T13:15:43.640Z"
   },
   {
    "duration": 8,
    "start_time": "2022-06-22T13:15:43.668Z"
   },
   {
    "duration": 14,
    "start_time": "2022-06-22T13:15:43.678Z"
   },
   {
    "duration": 37,
    "start_time": "2022-06-22T13:15:43.694Z"
   },
   {
    "duration": 13,
    "start_time": "2022-06-22T13:15:43.733Z"
   },
   {
    "duration": 87,
    "start_time": "2022-06-22T13:15:43.750Z"
   },
   {
    "duration": 19,
    "start_time": "2022-06-22T13:17:09.796Z"
   },
   {
    "duration": 20,
    "start_time": "2022-06-22T13:17:18.581Z"
   },
   {
    "duration": 23,
    "start_time": "2022-06-22T13:18:09.789Z"
   },
   {
    "duration": 25,
    "start_time": "2022-06-22T13:18:22.746Z"
   },
   {
    "duration": 30,
    "start_time": "2022-06-22T13:19:00.925Z"
   },
   {
    "duration": 16,
    "start_time": "2022-06-22T13:20:16.034Z"
   },
   {
    "duration": 23,
    "start_time": "2022-06-22T13:20:36.004Z"
   },
   {
    "duration": 24,
    "start_time": "2022-06-22T13:20:50.439Z"
   },
   {
    "duration": 25,
    "start_time": "2022-06-22T13:21:00.471Z"
   },
   {
    "duration": 439,
    "start_time": "2022-06-22T13:21:05.450Z"
   },
   {
    "duration": 8,
    "start_time": "2022-06-22T13:21:05.891Z"
   },
   {
    "duration": 33,
    "start_time": "2022-06-22T13:21:05.900Z"
   },
   {
    "duration": 9,
    "start_time": "2022-06-22T13:21:05.936Z"
   },
   {
    "duration": 28,
    "start_time": "2022-06-22T13:21:05.947Z"
   },
   {
    "duration": 9,
    "start_time": "2022-06-22T13:21:05.977Z"
   },
   {
    "duration": 42,
    "start_time": "2022-06-22T13:21:05.988Z"
   },
   {
    "duration": 8,
    "start_time": "2022-06-22T13:21:06.032Z"
   },
   {
    "duration": 16,
    "start_time": "2022-06-22T13:21:06.042Z"
   },
   {
    "duration": 14,
    "start_time": "2022-06-22T13:21:06.061Z"
   },
   {
    "duration": 23,
    "start_time": "2022-06-22T13:21:06.077Z"
   },
   {
    "duration": 21,
    "start_time": "2022-06-22T13:21:06.102Z"
   },
   {
    "duration": 18,
    "start_time": "2022-06-22T13:21:06.125Z"
   },
   {
    "duration": 18,
    "start_time": "2022-06-22T13:21:06.145Z"
   },
   {
    "duration": 23,
    "start_time": "2022-06-22T13:21:06.165Z"
   },
   {
    "duration": 6,
    "start_time": "2022-06-22T13:21:06.190Z"
   },
   {
    "duration": 78,
    "start_time": "2022-06-22T13:21:06.198Z"
   },
   {
    "duration": 52,
    "start_time": "2022-06-22T13:21:06.278Z"
   },
   {
    "duration": 33,
    "start_time": "2022-06-22T13:21:06.332Z"
   },
   {
    "duration": 14,
    "start_time": "2022-06-22T13:21:06.367Z"
   },
   {
    "duration": 49,
    "start_time": "2022-06-22T13:21:06.382Z"
   },
   {
    "duration": 25,
    "start_time": "2022-06-22T13:21:06.433Z"
   },
   {
    "duration": 29,
    "start_time": "2022-06-22T13:21:06.460Z"
   },
   {
    "duration": 10,
    "start_time": "2022-06-22T13:21:06.491Z"
   },
   {
    "duration": 21,
    "start_time": "2022-06-22T13:21:06.526Z"
   },
   {
    "duration": 9,
    "start_time": "2022-06-22T13:21:06.549Z"
   },
   {
    "duration": 16,
    "start_time": "2022-06-22T13:21:06.560Z"
   },
   {
    "duration": 10,
    "start_time": "2022-06-22T13:21:06.579Z"
   },
   {
    "duration": 44,
    "start_time": "2022-06-22T13:21:06.590Z"
   },
   {
    "duration": 8,
    "start_time": "2022-06-22T13:21:06.636Z"
   },
   {
    "duration": 12,
    "start_time": "2022-06-22T13:22:05.275Z"
   },
   {
    "duration": 11,
    "start_time": "2022-06-22T13:22:59.046Z"
   },
   {
    "duration": 11,
    "start_time": "2022-06-22T13:23:52.042Z"
   },
   {
    "duration": 10,
    "start_time": "2022-06-22T13:24:15.423Z"
   },
   {
    "duration": 46,
    "start_time": "2022-06-22T13:25:18.314Z"
   },
   {
    "duration": 23,
    "start_time": "2022-06-22T13:26:51.588Z"
   },
   {
    "duration": 10,
    "start_time": "2022-06-22T13:27:59.663Z"
   },
   {
    "duration": 25,
    "start_time": "2022-06-22T13:28:26.635Z"
   },
   {
    "duration": 26,
    "start_time": "2022-06-22T13:28:48.145Z"
   },
   {
    "duration": 8,
    "start_time": "2022-06-22T13:29:02.805Z"
   },
   {
    "duration": 8,
    "start_time": "2022-06-22T13:29:22.201Z"
   },
   {
    "duration": 34,
    "start_time": "2022-06-22T13:31:42.381Z"
   },
   {
    "duration": 76,
    "start_time": "2022-06-22T13:32:52.530Z"
   },
   {
    "duration": 51,
    "start_time": "2022-06-22T13:32:58.369Z"
   },
   {
    "duration": 47,
    "start_time": "2022-06-22T13:34:04.248Z"
   },
   {
    "duration": 43,
    "start_time": "2022-06-22T13:34:43.133Z"
   },
   {
    "duration": 8,
    "start_time": "2022-06-22T13:37:06.294Z"
   },
   {
    "duration": 37,
    "start_time": "2022-06-22T13:37:12.767Z"
   },
   {
    "duration": 38,
    "start_time": "2022-06-22T13:38:48.485Z"
   },
   {
    "duration": 7,
    "start_time": "2022-06-22T13:40:12.985Z"
   },
   {
    "duration": 12,
    "start_time": "2022-06-22T13:40:26.691Z"
   },
   {
    "duration": 3,
    "start_time": "2022-06-22T13:52:58.554Z"
   },
   {
    "duration": 21,
    "start_time": "2022-06-22T13:53:55.574Z"
   },
   {
    "duration": 8,
    "start_time": "2022-06-22T13:56:17.075Z"
   },
   {
    "duration": 10,
    "start_time": "2022-06-22T13:56:25.702Z"
   },
   {
    "duration": 9,
    "start_time": "2022-06-22T13:56:52.810Z"
   },
   {
    "duration": 10,
    "start_time": "2022-06-22T13:57:13.456Z"
   },
   {
    "duration": 9,
    "start_time": "2022-06-22T13:57:20.113Z"
   },
   {
    "duration": 10,
    "start_time": "2022-06-22T13:57:24.006Z"
   },
   {
    "duration": 459,
    "start_time": "2022-06-22T13:57:28.523Z"
   },
   {
    "duration": 9,
    "start_time": "2022-06-22T13:57:28.984Z"
   },
   {
    "duration": 41,
    "start_time": "2022-06-22T13:57:28.995Z"
   },
   {
    "duration": 10,
    "start_time": "2022-06-22T13:57:29.040Z"
   },
   {
    "duration": 30,
    "start_time": "2022-06-22T13:57:29.052Z"
   },
   {
    "duration": 8,
    "start_time": "2022-06-22T13:57:29.084Z"
   },
   {
    "duration": 23,
    "start_time": "2022-06-22T13:57:29.093Z"
   },
   {
    "duration": 18,
    "start_time": "2022-06-22T13:57:29.125Z"
   },
   {
    "duration": 14,
    "start_time": "2022-06-22T13:57:29.145Z"
   },
   {
    "duration": 10,
    "start_time": "2022-06-22T13:57:29.163Z"
   },
   {
    "duration": 14,
    "start_time": "2022-06-22T13:57:29.175Z"
   },
   {
    "duration": 11,
    "start_time": "2022-06-22T13:57:29.190Z"
   },
   {
    "duration": 42,
    "start_time": "2022-06-22T13:57:29.203Z"
   },
   {
    "duration": 22,
    "start_time": "2022-06-22T13:57:29.247Z"
   },
   {
    "duration": 23,
    "start_time": "2022-06-22T13:57:29.271Z"
   },
   {
    "duration": 31,
    "start_time": "2022-06-22T13:57:29.296Z"
   },
   {
    "duration": 66,
    "start_time": "2022-06-22T13:57:29.329Z"
   },
   {
    "duration": 64,
    "start_time": "2022-06-22T13:57:29.397Z"
   },
   {
    "duration": 36,
    "start_time": "2022-06-22T13:57:29.463Z"
   },
   {
    "duration": 38,
    "start_time": "2022-06-22T13:57:29.500Z"
   },
   {
    "duration": 33,
    "start_time": "2022-06-22T13:57:29.539Z"
   },
   {
    "duration": 25,
    "start_time": "2022-06-22T13:57:29.574Z"
   },
   {
    "duration": 42,
    "start_time": "2022-06-22T13:57:29.600Z"
   },
   {
    "duration": 10,
    "start_time": "2022-06-22T13:57:29.644Z"
   },
   {
    "duration": 31,
    "start_time": "2022-06-22T13:57:29.655Z"
   },
   {
    "duration": 9,
    "start_time": "2022-06-22T13:57:29.688Z"
   },
   {
    "duration": 36,
    "start_time": "2022-06-22T13:57:29.699Z"
   },
   {
    "duration": 54,
    "start_time": "2022-06-22T13:57:29.739Z"
   },
   {
    "duration": 60,
    "start_time": "2022-06-22T13:57:29.794Z"
   },
   {
    "duration": 36,
    "start_time": "2022-06-22T13:57:29.856Z"
   },
   {
    "duration": 63,
    "start_time": "2022-06-22T13:57:29.894Z"
   },
   {
    "duration": 11,
    "start_time": "2022-06-22T13:57:29.969Z"
   },
   {
    "duration": 11,
    "start_time": "2022-06-22T13:57:29.982Z"
   },
   {
    "duration": 10,
    "start_time": "2022-06-22T13:57:59.158Z"
   },
   {
    "duration": 437,
    "start_time": "2022-06-22T13:58:09.688Z"
   },
   {
    "duration": 16,
    "start_time": "2022-06-22T13:58:10.127Z"
   },
   {
    "duration": 30,
    "start_time": "2022-06-22T13:58:10.145Z"
   },
   {
    "duration": 10,
    "start_time": "2022-06-22T13:58:10.178Z"
   },
   {
    "duration": 40,
    "start_time": "2022-06-22T13:58:10.190Z"
   },
   {
    "duration": 14,
    "start_time": "2022-06-22T13:58:10.231Z"
   },
   {
    "duration": 33,
    "start_time": "2022-06-22T13:58:10.246Z"
   },
   {
    "duration": 12,
    "start_time": "2022-06-22T13:58:10.281Z"
   },
   {
    "duration": 25,
    "start_time": "2022-06-22T13:58:10.295Z"
   },
   {
    "duration": 32,
    "start_time": "2022-06-22T13:58:10.324Z"
   },
   {
    "duration": 16,
    "start_time": "2022-06-22T13:58:10.358Z"
   },
   {
    "duration": 14,
    "start_time": "2022-06-22T13:58:10.376Z"
   },
   {
    "duration": 45,
    "start_time": "2022-06-22T13:58:10.392Z"
   },
   {
    "duration": 34,
    "start_time": "2022-06-22T13:58:10.442Z"
   },
   {
    "duration": 35,
    "start_time": "2022-06-22T13:58:10.478Z"
   },
   {
    "duration": 14,
    "start_time": "2022-06-22T13:58:10.515Z"
   },
   {
    "duration": 57,
    "start_time": "2022-06-22T13:58:10.530Z"
   },
   {
    "duration": 53,
    "start_time": "2022-06-22T13:58:10.590Z"
   },
   {
    "duration": 32,
    "start_time": "2022-06-22T13:58:10.645Z"
   },
   {
    "duration": 26,
    "start_time": "2022-06-22T13:58:10.678Z"
   },
   {
    "duration": 32,
    "start_time": "2022-06-22T13:58:10.706Z"
   },
   {
    "duration": 23,
    "start_time": "2022-06-22T13:58:10.739Z"
   },
   {
    "duration": 26,
    "start_time": "2022-06-22T13:58:10.763Z"
   },
   {
    "duration": 8,
    "start_time": "2022-06-22T13:58:10.791Z"
   },
   {
    "duration": 41,
    "start_time": "2022-06-22T13:58:10.801Z"
   },
   {
    "duration": 9,
    "start_time": "2022-06-22T13:58:10.843Z"
   },
   {
    "duration": 17,
    "start_time": "2022-06-22T13:58:10.854Z"
   },
   {
    "duration": 59,
    "start_time": "2022-06-22T13:58:10.874Z"
   },
   {
    "duration": 42,
    "start_time": "2022-06-22T13:58:10.934Z"
   },
   {
    "duration": 33,
    "start_time": "2022-06-22T13:58:10.977Z"
   },
   {
    "duration": 58,
    "start_time": "2022-06-22T13:58:11.011Z"
   },
   {
    "duration": 9,
    "start_time": "2022-06-22T13:58:11.071Z"
   },
   {
    "duration": 13,
    "start_time": "2022-06-22T13:58:11.082Z"
   },
   {
    "duration": 13,
    "start_time": "2022-06-22T13:58:34.650Z"
   },
   {
    "duration": 419,
    "start_time": "2022-06-22T13:58:40.084Z"
   },
   {
    "duration": 9,
    "start_time": "2022-06-22T13:58:40.505Z"
   },
   {
    "duration": 42,
    "start_time": "2022-06-22T13:58:40.516Z"
   },
   {
    "duration": 35,
    "start_time": "2022-06-22T13:58:40.560Z"
   },
   {
    "duration": 53,
    "start_time": "2022-06-22T13:58:40.597Z"
   },
   {
    "duration": 10,
    "start_time": "2022-06-22T13:58:40.652Z"
   },
   {
    "duration": 26,
    "start_time": "2022-06-22T13:58:40.663Z"
   },
   {
    "duration": 8,
    "start_time": "2022-06-22T13:58:40.692Z"
   },
   {
    "duration": 68,
    "start_time": "2022-06-22T13:58:40.701Z"
   },
   {
    "duration": 13,
    "start_time": "2022-06-22T13:58:40.772Z"
   },
   {
    "duration": 14,
    "start_time": "2022-06-22T13:58:40.786Z"
   },
   {
    "duration": 12,
    "start_time": "2022-06-22T13:58:40.802Z"
   },
   {
    "duration": 33,
    "start_time": "2022-06-22T13:58:40.815Z"
   },
   {
    "duration": 18,
    "start_time": "2022-06-22T13:58:40.849Z"
   },
   {
    "duration": 21,
    "start_time": "2022-06-22T13:58:40.869Z"
   },
   {
    "duration": 6,
    "start_time": "2022-06-22T13:58:40.893Z"
   },
   {
    "duration": 51,
    "start_time": "2022-06-22T13:58:40.931Z"
   },
   {
    "duration": 56,
    "start_time": "2022-06-22T13:58:40.983Z"
   },
   {
    "duration": 29,
    "start_time": "2022-06-22T13:58:41.043Z"
   },
   {
    "duration": 15,
    "start_time": "2022-06-22T13:58:41.075Z"
   },
   {
    "duration": 39,
    "start_time": "2022-06-22T13:58:41.092Z"
   },
   {
    "duration": 29,
    "start_time": "2022-06-22T13:58:41.133Z"
   },
   {
    "duration": 31,
    "start_time": "2022-06-22T13:58:41.164Z"
   },
   {
    "duration": 44,
    "start_time": "2022-06-22T13:58:41.197Z"
   },
   {
    "duration": 23,
    "start_time": "2022-06-22T13:58:41.245Z"
   },
   {
    "duration": 13,
    "start_time": "2022-06-22T13:58:41.270Z"
   },
   {
    "duration": 20,
    "start_time": "2022-06-22T13:58:41.285Z"
   },
   {
    "duration": 58,
    "start_time": "2022-06-22T13:58:41.309Z"
   },
   {
    "duration": 37,
    "start_time": "2022-06-22T13:58:41.369Z"
   },
   {
    "duration": 57,
    "start_time": "2022-06-22T13:58:41.407Z"
   },
   {
    "duration": 39,
    "start_time": "2022-06-22T13:58:41.466Z"
   },
   {
    "duration": 7,
    "start_time": "2022-06-22T13:58:41.507Z"
   },
   {
    "duration": 30,
    "start_time": "2022-06-22T13:58:41.528Z"
   },
   {
    "duration": 27,
    "start_time": "2022-06-22T13:59:24.842Z"
   },
   {
    "duration": 22,
    "start_time": "2022-06-22T14:00:01.669Z"
   },
   {
    "duration": 18,
    "start_time": "2022-06-22T14:00:23.042Z"
   },
   {
    "duration": 27,
    "start_time": "2022-06-22T14:00:48.886Z"
   },
   {
    "duration": 35,
    "start_time": "2022-06-22T14:01:06.516Z"
   },
   {
    "duration": 15,
    "start_time": "2022-06-22T14:01:34.365Z"
   },
   {
    "duration": 93,
    "start_time": "2022-06-22T14:06:20.419Z"
   },
   {
    "duration": 64,
    "start_time": "2022-06-22T14:06:30.799Z"
   },
   {
    "duration": 33,
    "start_time": "2022-06-22T14:06:38.918Z"
   },
   {
    "duration": 16,
    "start_time": "2022-06-22T14:07:10.082Z"
   },
   {
    "duration": 20,
    "start_time": "2022-06-22T14:07:29.075Z"
   },
   {
    "duration": 20,
    "start_time": "2022-06-22T14:08:40.385Z"
   },
   {
    "duration": 53,
    "start_time": "2022-06-22T14:08:48.024Z"
   },
   {
    "duration": 187,
    "start_time": "2022-06-22T14:09:45.372Z"
   },
   {
    "duration": 26,
    "start_time": "2022-06-22T14:10:14.671Z"
   },
   {
    "duration": 24,
    "start_time": "2022-06-22T14:12:27.049Z"
   },
   {
    "duration": 25,
    "start_time": "2022-06-22T14:12:54.344Z"
   },
   {
    "duration": 24,
    "start_time": "2022-06-22T14:13:14.906Z"
   },
   {
    "duration": 27,
    "start_time": "2022-06-22T14:15:42.989Z"
   },
   {
    "duration": 77,
    "start_time": "2022-06-22T14:16:04.821Z"
   },
   {
    "duration": 26,
    "start_time": "2022-06-22T14:16:37.086Z"
   },
   {
    "duration": 26,
    "start_time": "2022-06-22T14:18:48.461Z"
   },
   {
    "duration": 29,
    "start_time": "2022-06-22T14:19:53.183Z"
   },
   {
    "duration": 30,
    "start_time": "2022-06-22T14:21:06.874Z"
   },
   {
    "duration": 29,
    "start_time": "2022-06-22T14:22:05.079Z"
   },
   {
    "duration": 6,
    "start_time": "2022-06-22T14:22:41.216Z"
   },
   {
    "duration": 21,
    "start_time": "2022-06-22T14:22:49.849Z"
   },
   {
    "duration": 21,
    "start_time": "2022-06-22T14:24:18.244Z"
   },
   {
    "duration": 7,
    "start_time": "2022-06-22T14:24:44.686Z"
   },
   {
    "duration": 18,
    "start_time": "2022-06-22T14:28:39.886Z"
   },
   {
    "duration": 449,
    "start_time": "2022-06-22T14:28:48.855Z"
   },
   {
    "duration": 10,
    "start_time": "2022-06-22T14:28:49.306Z"
   },
   {
    "duration": 39,
    "start_time": "2022-06-22T14:28:49.317Z"
   },
   {
    "duration": 10,
    "start_time": "2022-06-22T14:28:49.358Z"
   },
   {
    "duration": 27,
    "start_time": "2022-06-22T14:28:49.370Z"
   },
   {
    "duration": 28,
    "start_time": "2022-06-22T14:28:49.399Z"
   },
   {
    "duration": 28,
    "start_time": "2022-06-22T14:28:49.429Z"
   },
   {
    "duration": 10,
    "start_time": "2022-06-22T14:28:49.459Z"
   },
   {
    "duration": 32,
    "start_time": "2022-06-22T14:28:49.471Z"
   },
   {
    "duration": 21,
    "start_time": "2022-06-22T14:28:49.505Z"
   },
   {
    "duration": 23,
    "start_time": "2022-06-22T14:28:49.528Z"
   },
   {
    "duration": 8,
    "start_time": "2022-06-22T14:28:49.554Z"
   },
   {
    "duration": 18,
    "start_time": "2022-06-22T14:28:49.564Z"
   },
   {
    "duration": 24,
    "start_time": "2022-06-22T14:28:49.584Z"
   },
   {
    "duration": 24,
    "start_time": "2022-06-22T14:28:49.625Z"
   },
   {
    "duration": 6,
    "start_time": "2022-06-22T14:28:49.651Z"
   },
   {
    "duration": 71,
    "start_time": "2022-06-22T14:28:49.659Z"
   },
   {
    "duration": 43,
    "start_time": "2022-06-22T14:28:49.732Z"
   },
   {
    "duration": 58,
    "start_time": "2022-06-22T14:28:49.777Z"
   },
   {
    "duration": 16,
    "start_time": "2022-06-22T14:28:49.837Z"
   },
   {
    "duration": 36,
    "start_time": "2022-06-22T14:28:49.855Z"
   },
   {
    "duration": 42,
    "start_time": "2022-06-22T14:28:49.892Z"
   },
   {
    "duration": 33,
    "start_time": "2022-06-22T14:28:49.936Z"
   },
   {
    "duration": 13,
    "start_time": "2022-06-22T14:28:49.971Z"
   },
   {
    "duration": 49,
    "start_time": "2022-06-22T14:28:49.986Z"
   },
   {
    "duration": 11,
    "start_time": "2022-06-22T14:28:50.038Z"
   },
   {
    "duration": 23,
    "start_time": "2022-06-22T14:28:50.051Z"
   },
   {
    "duration": 52,
    "start_time": "2022-06-22T14:28:50.078Z"
   },
   {
    "duration": 27,
    "start_time": "2022-06-22T14:28:50.132Z"
   },
   {
    "duration": 32,
    "start_time": "2022-06-22T14:28:50.161Z"
   },
   {
    "duration": 62,
    "start_time": "2022-06-22T14:28:50.194Z"
   },
   {
    "duration": 23,
    "start_time": "2022-06-22T14:28:50.258Z"
   },
   {
    "duration": 24,
    "start_time": "2022-06-22T14:28:50.283Z"
   },
   {
    "duration": 25,
    "start_time": "2022-06-22T14:28:50.309Z"
   },
   {
    "duration": 60,
    "start_time": "2022-06-22T14:28:50.336Z"
   },
   {
    "duration": 21,
    "start_time": "2022-06-22T14:28:58.841Z"
   },
   {
    "duration": 31,
    "start_time": "2022-06-22T14:29:18.609Z"
   },
   {
    "duration": 24,
    "start_time": "2022-06-22T14:29:23.310Z"
   },
   {
    "duration": 970,
    "start_time": "2022-06-22T14:31:16.485Z"
   },
   {
    "duration": 29,
    "start_time": "2022-06-22T14:31:26.607Z"
   },
   {
    "duration": 31,
    "start_time": "2022-06-22T14:32:50.345Z"
   },
   {
    "duration": 29,
    "start_time": "2022-06-22T14:33:03.183Z"
   },
   {
    "duration": 856,
    "start_time": "2022-06-22T14:39:09.192Z"
   },
   {
    "duration": 5,
    "start_time": "2022-06-22T14:39:17.360Z"
   },
   {
    "duration": 7,
    "start_time": "2022-06-22T14:39:26.380Z"
   },
   {
    "duration": 15,
    "start_time": "2022-06-22T14:39:36.883Z"
   },
   {
    "duration": 1467,
    "start_time": "2022-06-22T14:41:38.184Z"
   },
   {
    "duration": 11,
    "start_time": "2022-06-22T14:43:43.770Z"
   },
   {
    "duration": 10,
    "start_time": "2022-06-22T14:44:29.120Z"
   },
   {
    "duration": 9,
    "start_time": "2022-06-22T14:45:31.240Z"
   },
   {
    "duration": 41,
    "start_time": "2022-06-22T14:45:43.054Z"
   },
   {
    "duration": 801,
    "start_time": "2022-06-22T14:46:39.443Z"
   },
   {
    "duration": 422,
    "start_time": "2022-06-22T14:46:55.440Z"
   },
   {
    "duration": 9,
    "start_time": "2022-06-22T14:46:55.864Z"
   },
   {
    "duration": 33,
    "start_time": "2022-06-22T14:46:55.875Z"
   },
   {
    "duration": 10,
    "start_time": "2022-06-22T14:46:55.910Z"
   },
   {
    "duration": 32,
    "start_time": "2022-06-22T14:46:55.922Z"
   },
   {
    "duration": 7,
    "start_time": "2022-06-22T14:46:55.956Z"
   },
   {
    "duration": 29,
    "start_time": "2022-06-22T14:46:55.965Z"
   },
   {
    "duration": 15,
    "start_time": "2022-06-22T14:46:55.996Z"
   },
   {
    "duration": 16,
    "start_time": "2022-06-22T14:46:56.013Z"
   },
   {
    "duration": 14,
    "start_time": "2022-06-22T14:46:56.032Z"
   },
   {
    "duration": 14,
    "start_time": "2022-06-22T14:46:56.048Z"
   },
   {
    "duration": 7,
    "start_time": "2022-06-22T14:46:56.063Z"
   },
   {
    "duration": 19,
    "start_time": "2022-06-22T14:46:56.071Z"
   },
   {
    "duration": 29,
    "start_time": "2022-06-22T14:46:56.091Z"
   },
   {
    "duration": 22,
    "start_time": "2022-06-22T14:46:56.126Z"
   },
   {
    "duration": 6,
    "start_time": "2022-06-22T14:46:56.150Z"
   },
   {
    "duration": 69,
    "start_time": "2022-06-22T14:46:56.158Z"
   },
   {
    "duration": 38,
    "start_time": "2022-06-22T14:46:56.229Z"
   },
   {
    "duration": 56,
    "start_time": "2022-06-22T14:46:56.269Z"
   },
   {
    "duration": 14,
    "start_time": "2022-06-22T14:46:56.327Z"
   },
   {
    "duration": 26,
    "start_time": "2022-06-22T14:46:56.342Z"
   },
   {
    "duration": 23,
    "start_time": "2022-06-22T14:46:56.369Z"
   },
   {
    "duration": 49,
    "start_time": "2022-06-22T14:46:56.393Z"
   },
   {
    "duration": 8,
    "start_time": "2022-06-22T14:46:56.444Z"
   },
   {
    "duration": 21,
    "start_time": "2022-06-22T14:46:56.454Z"
   },
   {
    "duration": 8,
    "start_time": "2022-06-22T14:46:56.477Z"
   },
   {
    "duration": 19,
    "start_time": "2022-06-22T14:46:56.486Z"
   },
   {
    "duration": 35,
    "start_time": "2022-06-22T14:46:56.525Z"
   },
   {
    "duration": 21,
    "start_time": "2022-06-22T14:46:56.562Z"
   },
   {
    "duration": 19,
    "start_time": "2022-06-22T14:46:56.584Z"
   },
   {
    "duration": 34,
    "start_time": "2022-06-22T14:46:56.626Z"
   },
   {
    "duration": 8,
    "start_time": "2022-06-22T14:46:56.661Z"
   },
   {
    "duration": 771,
    "start_time": "2022-06-22T14:46:56.670Z"
   },
   {
    "duration": 0,
    "start_time": "2022-06-22T14:46:57.443Z"
   },
   {
    "duration": 0,
    "start_time": "2022-06-22T14:46:57.444Z"
   },
   {
    "duration": 0,
    "start_time": "2022-06-22T14:46:57.446Z"
   },
   {
    "duration": 0,
    "start_time": "2022-06-22T14:46:57.447Z"
   },
   {
    "duration": 29,
    "start_time": "2022-06-22T14:47:24.195Z"
   },
   {
    "duration": 48,
    "start_time": "2022-06-22T14:47:43.718Z"
   },
   {
    "duration": 16,
    "start_time": "2022-06-22T14:48:02.717Z"
   },
   {
    "duration": 16,
    "start_time": "2022-06-22T14:50:16.915Z"
   },
   {
    "duration": 17,
    "start_time": "2022-06-22T14:50:24.082Z"
   },
   {
    "duration": 18,
    "start_time": "2022-06-22T14:50:28.036Z"
   },
   {
    "duration": 13,
    "start_time": "2022-06-22T14:50:50.053Z"
   },
   {
    "duration": 23,
    "start_time": "2022-06-22T14:51:01.006Z"
   },
   {
    "duration": 883,
    "start_time": "2022-06-22T14:51:14.406Z"
   },
   {
    "duration": 16,
    "start_time": "2022-06-22T14:51:15.292Z"
   },
   {
    "duration": 27,
    "start_time": "2022-06-22T14:51:15.312Z"
   },
   {
    "duration": 8,
    "start_time": "2022-06-22T14:51:15.341Z"
   },
   {
    "duration": 24,
    "start_time": "2022-06-22T14:51:15.351Z"
   },
   {
    "duration": 7,
    "start_time": "2022-06-22T14:51:15.377Z"
   },
   {
    "duration": 44,
    "start_time": "2022-06-22T14:51:15.386Z"
   },
   {
    "duration": 8,
    "start_time": "2022-06-22T14:51:15.432Z"
   },
   {
    "duration": 14,
    "start_time": "2022-06-22T14:51:15.442Z"
   },
   {
    "duration": 23,
    "start_time": "2022-06-22T14:51:15.457Z"
   },
   {
    "duration": 14,
    "start_time": "2022-06-22T14:51:15.482Z"
   },
   {
    "duration": 9,
    "start_time": "2022-06-22T14:51:15.498Z"
   },
   {
    "duration": 26,
    "start_time": "2022-06-22T14:51:15.509Z"
   },
   {
    "duration": 16,
    "start_time": "2022-06-22T14:51:15.537Z"
   },
   {
    "duration": 20,
    "start_time": "2022-06-22T14:51:15.555Z"
   },
   {
    "duration": 6,
    "start_time": "2022-06-22T14:51:15.576Z"
   },
   {
    "duration": 79,
    "start_time": "2022-06-22T14:51:15.583Z"
   },
   {
    "duration": 37,
    "start_time": "2022-06-22T14:51:15.664Z"
   },
   {
    "duration": 46,
    "start_time": "2022-06-22T14:51:15.702Z"
   },
   {
    "duration": 13,
    "start_time": "2022-06-22T14:51:15.749Z"
   },
   {
    "duration": 23,
    "start_time": "2022-06-22T14:51:15.764Z"
   },
   {
    "duration": 47,
    "start_time": "2022-06-22T14:51:15.788Z"
   },
   {
    "duration": 30,
    "start_time": "2022-06-22T14:51:15.837Z"
   },
   {
    "duration": 9,
    "start_time": "2022-06-22T14:51:15.868Z"
   },
   {
    "duration": 47,
    "start_time": "2022-06-22T14:51:15.879Z"
   },
   {
    "duration": 9,
    "start_time": "2022-06-22T14:51:15.928Z"
   },
   {
    "duration": 16,
    "start_time": "2022-06-22T14:51:15.939Z"
   },
   {
    "duration": 39,
    "start_time": "2022-06-22T14:51:15.957Z"
   },
   {
    "duration": 49,
    "start_time": "2022-06-22T14:51:15.998Z"
   },
   {
    "duration": 23,
    "start_time": "2022-06-22T14:51:16.049Z"
   },
   {
    "duration": 90,
    "start_time": "2022-06-22T14:51:16.074Z"
   },
   {
    "duration": 7,
    "start_time": "2022-06-22T14:51:16.166Z"
   },
   {
    "duration": 20,
    "start_time": "2022-06-22T14:51:16.174Z"
   },
   {
    "duration": 7,
    "start_time": "2022-06-22T14:51:16.196Z"
   },
   {
    "duration": 13,
    "start_time": "2022-06-22T14:51:16.225Z"
   },
   {
    "duration": 67,
    "start_time": "2022-06-22T14:51:16.240Z"
   },
   {
    "duration": 28,
    "start_time": "2022-06-22T14:55:40.207Z"
   },
   {
    "duration": 15,
    "start_time": "2022-06-22T14:59:14.565Z"
   },
   {
    "duration": 29,
    "start_time": "2022-06-22T15:00:27.213Z"
   },
   {
    "duration": 14,
    "start_time": "2022-06-22T15:00:52.115Z"
   },
   {
    "duration": 31,
    "start_time": "2022-06-22T15:01:06.885Z"
   },
   {
    "duration": 16,
    "start_time": "2022-06-22T15:01:11.045Z"
   },
   {
    "duration": 38,
    "start_time": "2022-06-22T15:21:22.304Z"
   },
   {
    "duration": 16,
    "start_time": "2022-06-22T15:21:30.583Z"
   },
   {
    "duration": 72,
    "start_time": "2022-06-22T15:25:27.787Z"
   },
   {
    "duration": 12,
    "start_time": "2022-06-22T15:25:47.486Z"
   },
   {
    "duration": 13,
    "start_time": "2022-06-22T15:26:15.238Z"
   },
   {
    "duration": 14,
    "start_time": "2022-06-22T15:26:20.074Z"
   },
   {
    "duration": 9,
    "start_time": "2022-06-22T15:26:53.768Z"
   },
   {
    "duration": 14,
    "start_time": "2022-06-22T15:27:02.548Z"
   },
   {
    "duration": 14,
    "start_time": "2022-06-22T15:27:12.275Z"
   },
   {
    "duration": 10,
    "start_time": "2022-06-22T15:27:29.495Z"
   },
   {
    "duration": 16,
    "start_time": "2022-06-22T15:28:03.645Z"
   },
   {
    "duration": 12,
    "start_time": "2022-06-22T15:28:22.498Z"
   },
   {
    "duration": 465,
    "start_time": "2022-06-22T15:28:31.935Z"
   },
   {
    "duration": 9,
    "start_time": "2022-06-22T15:28:32.402Z"
   },
   {
    "duration": 32,
    "start_time": "2022-06-22T15:28:32.412Z"
   },
   {
    "duration": 9,
    "start_time": "2022-06-22T15:28:32.446Z"
   },
   {
    "duration": 25,
    "start_time": "2022-06-22T15:28:32.457Z"
   },
   {
    "duration": 9,
    "start_time": "2022-06-22T15:28:32.484Z"
   },
   {
    "duration": 47,
    "start_time": "2022-06-22T15:28:32.495Z"
   },
   {
    "duration": 10,
    "start_time": "2022-06-22T15:28:32.544Z"
   },
   {
    "duration": 23,
    "start_time": "2022-06-22T15:28:32.555Z"
   },
   {
    "duration": 16,
    "start_time": "2022-06-22T15:28:32.580Z"
   },
   {
    "duration": 28,
    "start_time": "2022-06-22T15:28:32.598Z"
   },
   {
    "duration": 7,
    "start_time": "2022-06-22T15:28:32.628Z"
   },
   {
    "duration": 32,
    "start_time": "2022-06-22T15:28:32.637Z"
   },
   {
    "duration": 20,
    "start_time": "2022-06-22T15:28:32.670Z"
   },
   {
    "duration": 35,
    "start_time": "2022-06-22T15:28:32.692Z"
   },
   {
    "duration": 6,
    "start_time": "2022-06-22T15:28:32.729Z"
   },
   {
    "duration": 57,
    "start_time": "2022-06-22T15:28:32.737Z"
   },
   {
    "duration": 44,
    "start_time": "2022-06-22T15:28:32.796Z"
   },
   {
    "duration": 31,
    "start_time": "2022-06-22T15:28:32.843Z"
   },
   {
    "duration": 14,
    "start_time": "2022-06-22T15:28:32.876Z"
   },
   {
    "duration": 42,
    "start_time": "2022-06-22T15:28:32.892Z"
   },
   {
    "duration": 24,
    "start_time": "2022-06-22T15:28:32.936Z"
   },
   {
    "duration": 28,
    "start_time": "2022-06-22T15:28:32.961Z"
   },
   {
    "duration": 8,
    "start_time": "2022-06-22T15:28:32.990Z"
   },
   {
    "duration": 21,
    "start_time": "2022-06-22T15:28:33.025Z"
   },
   {
    "duration": 8,
    "start_time": "2022-06-22T15:28:33.048Z"
   },
   {
    "duration": 27,
    "start_time": "2022-06-22T15:28:33.058Z"
   },
   {
    "duration": 48,
    "start_time": "2022-06-22T15:28:33.089Z"
   },
   {
    "duration": 28,
    "start_time": "2022-06-22T15:28:33.139Z"
   },
   {
    "duration": 21,
    "start_time": "2022-06-22T15:28:33.168Z"
   },
   {
    "duration": 65,
    "start_time": "2022-06-22T15:28:33.191Z"
   },
   {
    "duration": 9,
    "start_time": "2022-06-22T15:28:33.258Z"
   },
   {
    "duration": 19,
    "start_time": "2022-06-22T15:28:33.269Z"
   },
   {
    "duration": 8,
    "start_time": "2022-06-22T15:28:33.289Z"
   },
   {
    "duration": 32,
    "start_time": "2022-06-22T15:28:33.299Z"
   },
   {
    "duration": 13,
    "start_time": "2022-06-22T15:28:33.333Z"
   },
   {
    "duration": 540,
    "start_time": "2022-06-22T15:28:56.222Z"
   },
   {
    "duration": 755,
    "start_time": "2022-06-22T15:29:16.647Z"
   },
   {
    "duration": 759,
    "start_time": "2022-06-22T15:29:52.707Z"
   },
   {
    "duration": 410,
    "start_time": "2022-06-22T15:33:11.596Z"
   },
   {
    "duration": 10,
    "start_time": "2022-06-22T15:33:12.007Z"
   },
   {
    "duration": 48,
    "start_time": "2022-06-22T15:33:12.019Z"
   },
   {
    "duration": 9,
    "start_time": "2022-06-22T15:33:12.069Z"
   },
   {
    "duration": 26,
    "start_time": "2022-06-22T15:33:12.079Z"
   },
   {
    "duration": 6,
    "start_time": "2022-06-22T15:33:12.107Z"
   },
   {
    "duration": 27,
    "start_time": "2022-06-22T15:33:12.114Z"
   },
   {
    "duration": 7,
    "start_time": "2022-06-22T15:33:12.143Z"
   },
   {
    "duration": 13,
    "start_time": "2022-06-22T15:33:12.151Z"
   },
   {
    "duration": 11,
    "start_time": "2022-06-22T15:33:12.166Z"
   },
   {
    "duration": 14,
    "start_time": "2022-06-22T15:33:12.179Z"
   },
   {
    "duration": 10,
    "start_time": "2022-06-22T15:33:12.195Z"
   },
   {
    "duration": 16,
    "start_time": "2022-06-22T15:33:12.227Z"
   },
   {
    "duration": 18,
    "start_time": "2022-06-22T15:33:12.245Z"
   },
   {
    "duration": 27,
    "start_time": "2022-06-22T15:33:12.265Z"
   },
   {
    "duration": 33,
    "start_time": "2022-06-22T15:33:12.294Z"
   },
   {
    "duration": 45,
    "start_time": "2022-06-22T15:33:12.329Z"
   },
   {
    "duration": 52,
    "start_time": "2022-06-22T15:33:12.375Z"
   },
   {
    "duration": 32,
    "start_time": "2022-06-22T15:33:12.441Z"
   },
   {
    "duration": 14,
    "start_time": "2022-06-22T15:33:12.474Z"
   },
   {
    "duration": 23,
    "start_time": "2022-06-22T15:33:12.489Z"
   },
   {
    "duration": 22,
    "start_time": "2022-06-22T15:33:12.525Z"
   },
   {
    "duration": 27,
    "start_time": "2022-06-22T15:33:12.549Z"
   },
   {
    "duration": 9,
    "start_time": "2022-06-22T15:33:12.577Z"
   },
   {
    "duration": 42,
    "start_time": "2022-06-22T15:33:12.587Z"
   },
   {
    "duration": 8,
    "start_time": "2022-06-22T15:33:12.631Z"
   },
   {
    "duration": 15,
    "start_time": "2022-06-22T15:33:12.641Z"
   },
   {
    "duration": 36,
    "start_time": "2022-06-22T15:33:12.659Z"
   },
   {
    "duration": 51,
    "start_time": "2022-06-22T15:33:12.697Z"
   },
   {
    "duration": 22,
    "start_time": "2022-06-22T15:33:12.750Z"
   },
   {
    "duration": 57,
    "start_time": "2022-06-22T15:33:12.773Z"
   },
   {
    "duration": 8,
    "start_time": "2022-06-22T15:33:12.832Z"
   },
   {
    "duration": 21,
    "start_time": "2022-06-22T15:33:12.841Z"
   },
   {
    "duration": 7,
    "start_time": "2022-06-22T15:33:12.864Z"
   },
   {
    "duration": 13,
    "start_time": "2022-06-22T15:33:12.872Z"
   },
   {
    "duration": 14,
    "start_time": "2022-06-22T15:33:12.886Z"
   },
   {
    "duration": 10,
    "start_time": "2022-06-22T15:33:27.680Z"
   },
   {
    "duration": 841,
    "start_time": "2022-06-22T15:33:55.178Z"
   },
   {
    "duration": 21,
    "start_time": "2022-06-22T15:33:56.021Z"
   },
   {
    "duration": 44,
    "start_time": "2022-06-22T15:33:56.044Z"
   },
   {
    "duration": 9,
    "start_time": "2022-06-22T15:33:56.090Z"
   },
   {
    "duration": 34,
    "start_time": "2022-06-22T15:33:56.102Z"
   },
   {
    "duration": 9,
    "start_time": "2022-06-22T15:33:56.138Z"
   },
   {
    "duration": 26,
    "start_time": "2022-06-22T15:33:56.149Z"
   },
   {
    "duration": 8,
    "start_time": "2022-06-22T15:33:56.177Z"
   },
   {
    "duration": 40,
    "start_time": "2022-06-22T15:33:56.187Z"
   },
   {
    "duration": 14,
    "start_time": "2022-06-22T15:33:56.228Z"
   },
   {
    "duration": 13,
    "start_time": "2022-06-22T15:33:56.244Z"
   },
   {
    "duration": 11,
    "start_time": "2022-06-22T15:33:56.259Z"
   },
   {
    "duration": 18,
    "start_time": "2022-06-22T15:33:56.271Z"
   },
   {
    "duration": 36,
    "start_time": "2022-06-22T15:33:56.292Z"
   },
   {
    "duration": 20,
    "start_time": "2022-06-22T15:33:56.330Z"
   },
   {
    "duration": 12,
    "start_time": "2022-06-22T15:33:56.352Z"
   },
   {
    "duration": 67,
    "start_time": "2022-06-22T15:33:56.366Z"
   },
   {
    "duration": 38,
    "start_time": "2022-06-22T15:33:56.435Z"
   },
   {
    "duration": 51,
    "start_time": "2022-06-22T15:33:56.475Z"
   },
   {
    "duration": 13,
    "start_time": "2022-06-22T15:33:56.528Z"
   },
   {
    "duration": 28,
    "start_time": "2022-06-22T15:33:56.543Z"
   },
   {
    "duration": 23,
    "start_time": "2022-06-22T15:33:56.572Z"
   },
   {
    "duration": 50,
    "start_time": "2022-06-22T15:33:56.597Z"
   },
   {
    "duration": 9,
    "start_time": "2022-06-22T15:33:56.649Z"
   },
   {
    "duration": 43,
    "start_time": "2022-06-22T15:33:56.659Z"
   },
   {
    "duration": 9,
    "start_time": "2022-06-22T15:33:56.703Z"
   },
   {
    "duration": 15,
    "start_time": "2022-06-22T15:33:56.726Z"
   },
   {
    "duration": 41,
    "start_time": "2022-06-22T15:33:56.743Z"
   },
   {
    "duration": 60,
    "start_time": "2022-06-22T15:33:56.785Z"
   },
   {
    "duration": 24,
    "start_time": "2022-06-22T15:33:56.847Z"
   },
   {
    "duration": 118,
    "start_time": "2022-06-22T15:33:56.873Z"
   },
   {
    "duration": 6,
    "start_time": "2022-06-22T15:33:56.993Z"
   },
   {
    "duration": 38,
    "start_time": "2022-06-22T15:33:57.001Z"
   },
   {
    "duration": 7,
    "start_time": "2022-06-22T15:33:57.041Z"
   },
   {
    "duration": 10,
    "start_time": "2022-06-22T15:33:57.050Z"
   },
   {
    "duration": 85,
    "start_time": "2022-06-22T15:33:57.061Z"
   },
   {
    "duration": 11,
    "start_time": "2022-06-22T15:36:32.741Z"
   },
   {
    "duration": 785,
    "start_time": "2022-06-22T15:36:36.189Z"
   },
   {
    "duration": 60,
    "start_time": "2022-06-22T15:37:28.200Z"
   },
   {
    "duration": 72,
    "start_time": "2022-06-22T15:37:54.894Z"
   },
   {
    "duration": 202,
    "start_time": "2022-06-22T15:39:01.312Z"
   },
   {
    "duration": 231,
    "start_time": "2022-06-22T15:39:17.403Z"
   },
   {
    "duration": 217,
    "start_time": "2022-06-22T15:39:24.885Z"
   },
   {
    "duration": 195,
    "start_time": "2022-06-22T15:39:32.592Z"
   },
   {
    "duration": 927,
    "start_time": "2022-06-22T15:39:42.785Z"
   },
   {
    "duration": 922,
    "start_time": "2022-06-22T15:40:09.745Z"
   },
   {
    "duration": 857,
    "start_time": "2022-06-22T15:40:48.379Z"
   },
   {
    "duration": 858,
    "start_time": "2022-06-22T15:41:00.094Z"
   },
   {
    "duration": 74,
    "start_time": "2022-06-22T15:41:50.210Z"
   },
   {
    "duration": 974,
    "start_time": "2022-06-22T15:41:55.339Z"
   },
   {
    "duration": 267,
    "start_time": "2022-06-22T15:44:47.890Z"
   },
   {
    "duration": 1999,
    "start_time": "2022-06-22T15:45:10.789Z"
   },
   {
    "duration": 229,
    "start_time": "2022-06-22T15:45:29.479Z"
   },
   {
    "duration": 1789,
    "start_time": "2022-06-22T15:45:40.927Z"
   },
   {
    "duration": 468,
    "start_time": "2022-06-22T15:45:46.274Z"
   },
   {
    "duration": 9,
    "start_time": "2022-06-22T15:45:46.744Z"
   },
   {
    "duration": 30,
    "start_time": "2022-06-22T15:45:46.755Z"
   },
   {
    "duration": 9,
    "start_time": "2022-06-22T15:45:46.788Z"
   },
   {
    "duration": 38,
    "start_time": "2022-06-22T15:45:46.799Z"
   },
   {
    "duration": 10,
    "start_time": "2022-06-22T15:45:46.839Z"
   },
   {
    "duration": 24,
    "start_time": "2022-06-22T15:45:46.851Z"
   },
   {
    "duration": 8,
    "start_time": "2022-06-22T15:45:46.878Z"
   },
   {
    "duration": 14,
    "start_time": "2022-06-22T15:45:46.887Z"
   },
   {
    "duration": 41,
    "start_time": "2022-06-22T15:45:46.903Z"
   },
   {
    "duration": 17,
    "start_time": "2022-06-22T15:45:46.946Z"
   },
   {
    "duration": 14,
    "start_time": "2022-06-22T15:45:46.965Z"
   },
   {
    "duration": 20,
    "start_time": "2022-06-22T15:45:46.981Z"
   },
   {
    "duration": 32,
    "start_time": "2022-06-22T15:45:47.003Z"
   },
   {
    "duration": 40,
    "start_time": "2022-06-22T15:45:47.037Z"
   },
   {
    "duration": 7,
    "start_time": "2022-06-22T15:45:47.080Z"
   },
   {
    "duration": 72,
    "start_time": "2022-06-22T15:45:47.089Z"
   },
   {
    "duration": 51,
    "start_time": "2022-06-22T15:45:47.163Z"
   },
   {
    "duration": 40,
    "start_time": "2022-06-22T15:45:47.227Z"
   },
   {
    "duration": 13,
    "start_time": "2022-06-22T15:45:47.269Z"
   },
   {
    "duration": 24,
    "start_time": "2022-06-22T15:45:47.284Z"
   },
   {
    "duration": 27,
    "start_time": "2022-06-22T15:45:47.328Z"
   },
   {
    "duration": 29,
    "start_time": "2022-06-22T15:45:47.357Z"
   },
   {
    "duration": 10,
    "start_time": "2022-06-22T15:45:47.388Z"
   },
   {
    "duration": 47,
    "start_time": "2022-06-22T15:45:47.400Z"
   },
   {
    "duration": 12,
    "start_time": "2022-06-22T15:45:47.449Z"
   },
   {
    "duration": 14,
    "start_time": "2022-06-22T15:45:47.462Z"
   },
   {
    "duration": 26,
    "start_time": "2022-06-22T15:45:47.479Z"
   },
   {
    "duration": 26,
    "start_time": "2022-06-22T15:45:47.527Z"
   },
   {
    "duration": 21,
    "start_time": "2022-06-22T15:45:47.555Z"
   },
   {
    "duration": 64,
    "start_time": "2022-06-22T15:45:47.577Z"
   },
   {
    "duration": 9,
    "start_time": "2022-06-22T15:45:47.643Z"
   },
   {
    "duration": 21,
    "start_time": "2022-06-22T15:45:47.653Z"
   },
   {
    "duration": 12,
    "start_time": "2022-06-22T15:45:47.676Z"
   },
   {
    "duration": 38,
    "start_time": "2022-06-22T15:45:47.690Z"
   },
   {
    "duration": 1967,
    "start_time": "2022-06-22T15:45:47.729Z"
   },
   {
    "duration": 0,
    "start_time": "2022-06-22T15:45:49.698Z"
   },
   {
    "duration": 1846,
    "start_time": "2022-06-22T15:46:37.400Z"
   },
   {
    "duration": 909,
    "start_time": "2022-06-22T15:46:46.340Z"
   },
   {
    "duration": 17,
    "start_time": "2022-06-22T15:46:47.253Z"
   },
   {
    "duration": 46,
    "start_time": "2022-06-22T15:46:47.272Z"
   },
   {
    "duration": 16,
    "start_time": "2022-06-22T15:46:47.321Z"
   },
   {
    "duration": 35,
    "start_time": "2022-06-22T15:46:47.340Z"
   },
   {
    "duration": 7,
    "start_time": "2022-06-22T15:46:47.377Z"
   },
   {
    "duration": 32,
    "start_time": "2022-06-22T15:46:47.385Z"
   },
   {
    "duration": 11,
    "start_time": "2022-06-22T15:46:47.418Z"
   },
   {
    "duration": 25,
    "start_time": "2022-06-22T15:46:47.432Z"
   },
   {
    "duration": 12,
    "start_time": "2022-06-22T15:46:47.461Z"
   },
   {
    "duration": 21,
    "start_time": "2022-06-22T15:46:47.475Z"
   },
   {
    "duration": 12,
    "start_time": "2022-06-22T15:46:47.498Z"
   },
   {
    "duration": 46,
    "start_time": "2022-06-22T15:46:47.511Z"
   },
   {
    "duration": 35,
    "start_time": "2022-06-22T15:46:47.559Z"
   },
   {
    "duration": 38,
    "start_time": "2022-06-22T15:46:47.596Z"
   },
   {
    "duration": 18,
    "start_time": "2022-06-22T15:46:47.636Z"
   },
   {
    "duration": 56,
    "start_time": "2022-06-22T15:46:47.656Z"
   },
   {
    "duration": 46,
    "start_time": "2022-06-22T15:46:47.714Z"
   },
   {
    "duration": 41,
    "start_time": "2022-06-22T15:46:47.762Z"
   },
   {
    "duration": 42,
    "start_time": "2022-06-22T15:46:47.805Z"
   },
   {
    "duration": 27,
    "start_time": "2022-06-22T15:46:47.849Z"
   },
   {
    "duration": 34,
    "start_time": "2022-06-22T15:46:47.878Z"
   },
   {
    "duration": 36,
    "start_time": "2022-06-22T15:46:47.926Z"
   },
   {
    "duration": 10,
    "start_time": "2022-06-22T15:46:47.965Z"
   },
   {
    "duration": 30,
    "start_time": "2022-06-22T15:46:47.976Z"
   },
   {
    "duration": 27,
    "start_time": "2022-06-22T15:46:48.008Z"
   },
   {
    "duration": 17,
    "start_time": "2022-06-22T15:46:48.037Z"
   },
   {
    "duration": 44,
    "start_time": "2022-06-22T15:46:48.058Z"
   },
   {
    "duration": 71,
    "start_time": "2022-06-22T15:46:48.104Z"
   },
   {
    "duration": 26,
    "start_time": "2022-06-22T15:46:48.177Z"
   },
   {
    "duration": 102,
    "start_time": "2022-06-22T15:46:48.205Z"
   },
   {
    "duration": 24,
    "start_time": "2022-06-22T15:46:48.309Z"
   },
   {
    "duration": 32,
    "start_time": "2022-06-22T15:46:48.338Z"
   },
   {
    "duration": 20,
    "start_time": "2022-06-22T15:46:48.372Z"
   },
   {
    "duration": 25,
    "start_time": "2022-06-22T15:46:48.394Z"
   },
   {
    "duration": 2231,
    "start_time": "2022-06-22T15:46:48.421Z"
   },
   {
    "duration": 0,
    "start_time": "2022-06-22T15:46:50.653Z"
   },
   {
    "duration": 1868,
    "start_time": "2022-06-22T15:46:56.761Z"
   },
   {
    "duration": 1920,
    "start_time": "2022-06-22T15:48:14.575Z"
   },
   {
    "duration": 1778,
    "start_time": "2022-06-22T15:48:20.308Z"
   },
   {
    "duration": 12,
    "start_time": "2022-06-22T15:49:06.484Z"
   },
   {
    "duration": 1883,
    "start_time": "2022-06-22T15:49:30.074Z"
   },
   {
    "duration": 449,
    "start_time": "2022-06-22T15:49:52.141Z"
   },
   {
    "duration": 9,
    "start_time": "2022-06-22T15:49:52.592Z"
   },
   {
    "duration": 37,
    "start_time": "2022-06-22T15:49:52.602Z"
   },
   {
    "duration": 10,
    "start_time": "2022-06-22T15:49:52.642Z"
   },
   {
    "duration": 30,
    "start_time": "2022-06-22T15:49:52.655Z"
   },
   {
    "duration": 7,
    "start_time": "2022-06-22T15:49:52.687Z"
   },
   {
    "duration": 42,
    "start_time": "2022-06-22T15:49:52.696Z"
   },
   {
    "duration": 13,
    "start_time": "2022-06-22T15:49:52.740Z"
   },
   {
    "duration": 20,
    "start_time": "2022-06-22T15:49:52.754Z"
   },
   {
    "duration": 25,
    "start_time": "2022-06-22T15:49:52.777Z"
   },
   {
    "duration": 31,
    "start_time": "2022-06-22T15:49:52.804Z"
   },
   {
    "duration": 23,
    "start_time": "2022-06-22T15:49:52.839Z"
   },
   {
    "duration": 32,
    "start_time": "2022-06-22T15:49:52.865Z"
   },
   {
    "duration": 27,
    "start_time": "2022-06-22T15:49:52.901Z"
   },
   {
    "duration": 57,
    "start_time": "2022-06-22T15:49:52.930Z"
   },
   {
    "duration": 7,
    "start_time": "2022-06-22T15:49:52.989Z"
   },
   {
    "duration": 67,
    "start_time": "2022-06-22T15:49:52.999Z"
   },
   {
    "duration": 39,
    "start_time": "2022-06-22T15:49:53.069Z"
   },
   {
    "duration": 43,
    "start_time": "2022-06-22T15:49:53.110Z"
   },
   {
    "duration": 14,
    "start_time": "2022-06-22T15:49:53.155Z"
   },
   {
    "duration": 26,
    "start_time": "2022-06-22T15:49:53.171Z"
   },
   {
    "duration": 45,
    "start_time": "2022-06-22T15:49:53.199Z"
   },
   {
    "duration": 31,
    "start_time": "2022-06-22T15:49:53.245Z"
   },
   {
    "duration": 9,
    "start_time": "2022-06-22T15:49:53.278Z"
   },
   {
    "duration": 58,
    "start_time": "2022-06-22T15:49:53.288Z"
   },
   {
    "duration": 14,
    "start_time": "2022-06-22T15:49:53.349Z"
   },
   {
    "duration": 16,
    "start_time": "2022-06-22T15:49:53.365Z"
   },
   {
    "duration": 27,
    "start_time": "2022-06-22T15:49:53.383Z"
   },
   {
    "duration": 24,
    "start_time": "2022-06-22T15:49:53.429Z"
   },
   {
    "duration": 25,
    "start_time": "2022-06-22T15:49:53.455Z"
   },
   {
    "duration": 56,
    "start_time": "2022-06-22T15:49:53.482Z"
   },
   {
    "duration": 8,
    "start_time": "2022-06-22T15:49:53.539Z"
   },
   {
    "duration": 32,
    "start_time": "2022-06-22T15:49:53.550Z"
   },
   {
    "duration": 11,
    "start_time": "2022-06-22T15:49:53.584Z"
   },
   {
    "duration": 15,
    "start_time": "2022-06-22T15:49:53.598Z"
   },
   {
    "duration": 2174,
    "start_time": "2022-06-22T15:49:53.615Z"
   },
   {
    "duration": 2083,
    "start_time": "2022-06-22T15:52:58.706Z"
   },
   {
    "duration": 1914,
    "start_time": "2022-06-22T15:53:49.368Z"
   },
   {
    "duration": 356,
    "start_time": "2022-06-22T15:54:21.666Z"
   },
   {
    "duration": 1976,
    "start_time": "2022-06-22T15:54:35.178Z"
   },
   {
    "duration": 12,
    "start_time": "2022-06-22T16:00:11.985Z"
   },
   {
    "duration": 890,
    "start_time": "2022-06-22T16:00:50.977Z"
   },
   {
    "duration": 1966,
    "start_time": "2022-06-22T16:01:18.543Z"
   },
   {
    "duration": 1901,
    "start_time": "2022-06-22T16:01:46.054Z"
   },
   {
    "duration": 546,
    "start_time": "2022-06-22T16:41:29.121Z"
   },
   {
    "duration": 1930,
    "start_time": "2022-06-22T16:41:53.817Z"
   },
   {
    "duration": 23,
    "start_time": "2022-06-22T16:42:14.259Z"
   },
   {
    "duration": 13,
    "start_time": "2022-06-22T16:42:47.692Z"
   },
   {
    "duration": 1735,
    "start_time": "2022-06-22T16:43:01.408Z"
   },
   {
    "duration": 14,
    "start_time": "2022-06-22T16:43:52.260Z"
   },
   {
    "duration": 11,
    "start_time": "2022-06-22T16:44:06.712Z"
   },
   {
    "duration": 1807,
    "start_time": "2022-06-22T16:46:07.934Z"
   },
   {
    "duration": 198,
    "start_time": "2022-06-22T16:47:38.192Z"
   },
   {
    "duration": 27,
    "start_time": "2022-06-22T16:48:17.418Z"
   },
   {
    "duration": 39,
    "start_time": "2022-06-22T16:48:24.521Z"
   },
   {
    "duration": 204,
    "start_time": "2022-06-22T16:48:34.111Z"
   },
   {
    "duration": 1627,
    "start_time": "2022-06-22T16:49:42.740Z"
   },
   {
    "duration": 843,
    "start_time": "2022-06-22T16:50:57.436Z"
   },
   {
    "duration": 16,
    "start_time": "2022-06-22T16:50:58.282Z"
   },
   {
    "duration": 38,
    "start_time": "2022-06-22T16:50:58.300Z"
   },
   {
    "duration": 8,
    "start_time": "2022-06-22T16:50:58.340Z"
   },
   {
    "duration": 34,
    "start_time": "2022-06-22T16:50:58.350Z"
   },
   {
    "duration": 8,
    "start_time": "2022-06-22T16:50:58.385Z"
   },
   {
    "duration": 21,
    "start_time": "2022-06-22T16:50:58.394Z"
   },
   {
    "duration": 15,
    "start_time": "2022-06-22T16:50:58.416Z"
   },
   {
    "duration": 18,
    "start_time": "2022-06-22T16:50:58.432Z"
   },
   {
    "duration": 13,
    "start_time": "2022-06-22T16:50:58.454Z"
   },
   {
    "duration": 15,
    "start_time": "2022-06-22T16:50:58.469Z"
   },
   {
    "duration": 6,
    "start_time": "2022-06-22T16:50:58.485Z"
   },
   {
    "duration": 22,
    "start_time": "2022-06-22T16:50:58.493Z"
   },
   {
    "duration": 16,
    "start_time": "2022-06-22T16:50:58.527Z"
   },
   {
    "duration": 20,
    "start_time": "2022-06-22T16:50:58.545Z"
   },
   {
    "duration": 5,
    "start_time": "2022-06-22T16:50:58.566Z"
   },
   {
    "duration": 74,
    "start_time": "2022-06-22T16:50:58.573Z"
   },
   {
    "duration": 40,
    "start_time": "2022-06-22T16:50:58.648Z"
   },
   {
    "duration": 45,
    "start_time": "2022-06-22T16:50:58.690Z"
   },
   {
    "duration": 12,
    "start_time": "2022-06-22T16:50:58.737Z"
   },
   {
    "duration": 61,
    "start_time": "2022-06-22T16:50:58.751Z"
   },
   {
    "duration": 24,
    "start_time": "2022-06-22T16:50:58.813Z"
   },
   {
    "duration": 29,
    "start_time": "2022-06-22T16:50:58.839Z"
   },
   {
    "duration": 9,
    "start_time": "2022-06-22T16:50:58.869Z"
   },
   {
    "duration": 24,
    "start_time": "2022-06-22T16:50:58.879Z"
   },
   {
    "duration": 23,
    "start_time": "2022-06-22T16:50:58.904Z"
   },
   {
    "duration": 13,
    "start_time": "2022-06-22T16:50:58.928Z"
   },
   {
    "duration": 40,
    "start_time": "2022-06-22T16:50:58.944Z"
   },
   {
    "duration": 58,
    "start_time": "2022-06-22T16:50:58.986Z"
   },
   {
    "duration": 25,
    "start_time": "2022-06-22T16:50:59.045Z"
   },
   {
    "duration": 89,
    "start_time": "2022-06-22T16:50:59.072Z"
   },
   {
    "duration": 8,
    "start_time": "2022-06-22T16:50:59.163Z"
   },
   {
    "duration": 17,
    "start_time": "2022-06-22T16:50:59.172Z"
   },
   {
    "duration": 7,
    "start_time": "2022-06-22T16:50:59.191Z"
   },
   {
    "duration": 32,
    "start_time": "2022-06-22T16:50:59.200Z"
   },
   {
    "duration": 2583,
    "start_time": "2022-06-22T16:50:59.233Z"
   },
   {
    "duration": 879,
    "start_time": "2022-06-22T16:51:16.596Z"
   },
   {
    "duration": 1739,
    "start_time": "2022-06-22T16:52:00.822Z"
   },
   {
    "duration": 236,
    "start_time": "2022-06-22T16:52:25.290Z"
   },
   {
    "duration": 211,
    "start_time": "2022-06-22T16:53:03.739Z"
   },
   {
    "duration": 335,
    "start_time": "2022-06-22T16:53:10.035Z"
   },
   {
    "duration": 11,
    "start_time": "2022-06-22T17:03:08.706Z"
   },
   {
    "duration": 11,
    "start_time": "2022-06-22T17:03:59.374Z"
   },
   {
    "duration": 13,
    "start_time": "2022-06-22T17:04:48.469Z"
   },
   {
    "duration": 14,
    "start_time": "2022-06-22T17:05:05.552Z"
   },
   {
    "duration": 13,
    "start_time": "2022-06-22T17:06:03.967Z"
   },
   {
    "duration": 16,
    "start_time": "2022-06-22T17:06:47.746Z"
   },
   {
    "duration": 66,
    "start_time": "2022-06-22T17:09:36.194Z"
   },
   {
    "duration": 50,
    "start_time": "2022-06-22T17:10:09.691Z"
   },
   {
    "duration": 14,
    "start_time": "2022-06-22T17:13:29.824Z"
   },
   {
    "duration": 11,
    "start_time": "2022-06-22T17:13:39.362Z"
   },
   {
    "duration": 13,
    "start_time": "2022-06-22T17:13:51.466Z"
   },
   {
    "duration": 13,
    "start_time": "2022-06-22T17:14:37.546Z"
   },
   {
    "duration": 13,
    "start_time": "2022-06-22T17:15:39.727Z"
   },
   {
    "duration": 13,
    "start_time": "2022-06-22T17:15:52.517Z"
   },
   {
    "duration": 15,
    "start_time": "2022-06-22T17:15:58.327Z"
   },
   {
    "duration": 12,
    "start_time": "2022-06-22T17:16:08.838Z"
   },
   {
    "duration": 13,
    "start_time": "2022-06-22T17:16:18.135Z"
   },
   {
    "duration": 16,
    "start_time": "2022-06-22T17:16:25.026Z"
   },
   {
    "duration": 14,
    "start_time": "2022-06-22T17:16:45.798Z"
   },
   {
    "duration": 15,
    "start_time": "2022-06-22T17:17:44.640Z"
   },
   {
    "duration": 8,
    "start_time": "2022-06-22T17:20:26.446Z"
   },
   {
    "duration": 22,
    "start_time": "2022-06-22T17:20:36.320Z"
   },
   {
    "duration": 13,
    "start_time": "2022-06-22T17:20:54.894Z"
   },
   {
    "duration": 20,
    "start_time": "2022-06-22T17:21:29.807Z"
   },
   {
    "duration": 9,
    "start_time": "2022-06-22T17:21:43.847Z"
   },
   {
    "duration": 9,
    "start_time": "2022-06-22T17:22:05.982Z"
   },
   {
    "duration": 8,
    "start_time": "2022-06-22T17:22:09.709Z"
   },
   {
    "duration": 8,
    "start_time": "2022-06-22T17:22:13.498Z"
   },
   {
    "duration": 4,
    "start_time": "2022-06-22T17:22:35.722Z"
   },
   {
    "duration": 9,
    "start_time": "2022-06-22T17:22:46.429Z"
   },
   {
    "duration": 8,
    "start_time": "2022-06-22T17:22:59.318Z"
   },
   {
    "duration": 5,
    "start_time": "2022-06-22T17:23:11.309Z"
   },
   {
    "duration": 807,
    "start_time": "2022-06-22T17:23:45.784Z"
   },
   {
    "duration": 14,
    "start_time": "2022-06-22T17:23:46.594Z"
   },
   {
    "duration": 24,
    "start_time": "2022-06-22T17:23:46.610Z"
   },
   {
    "duration": 8,
    "start_time": "2022-06-22T17:23:46.636Z"
   },
   {
    "duration": 30,
    "start_time": "2022-06-22T17:23:46.646Z"
   },
   {
    "duration": 8,
    "start_time": "2022-06-22T17:23:46.677Z"
   },
   {
    "duration": 23,
    "start_time": "2022-06-22T17:23:46.687Z"
   },
   {
    "duration": 8,
    "start_time": "2022-06-22T17:23:46.711Z"
   },
   {
    "duration": 10,
    "start_time": "2022-06-22T17:23:46.726Z"
   },
   {
    "duration": 10,
    "start_time": "2022-06-22T17:23:46.740Z"
   },
   {
    "duration": 23,
    "start_time": "2022-06-22T17:23:46.752Z"
   },
   {
    "duration": 10,
    "start_time": "2022-06-22T17:23:46.777Z"
   },
   {
    "duration": 30,
    "start_time": "2022-06-22T17:23:46.788Z"
   },
   {
    "duration": 34,
    "start_time": "2022-06-22T17:23:46.820Z"
   },
   {
    "duration": 22,
    "start_time": "2022-06-22T17:23:46.855Z"
   },
   {
    "duration": 22,
    "start_time": "2022-06-22T17:23:46.878Z"
   },
   {
    "duration": 65,
    "start_time": "2022-06-22T17:23:46.901Z"
   },
   {
    "duration": 37,
    "start_time": "2022-06-22T17:23:46.968Z"
   },
   {
    "duration": 42,
    "start_time": "2022-06-22T17:23:47.006Z"
   },
   {
    "duration": 13,
    "start_time": "2022-06-22T17:23:47.049Z"
   },
   {
    "duration": 39,
    "start_time": "2022-06-22T17:23:47.063Z"
   },
   {
    "duration": 29,
    "start_time": "2022-06-22T17:23:47.103Z"
   },
   {
    "duration": 29,
    "start_time": "2022-06-22T17:23:47.134Z"
   },
   {
    "duration": 9,
    "start_time": "2022-06-22T17:23:47.164Z"
   },
   {
    "duration": 27,
    "start_time": "2022-06-22T17:23:47.174Z"
   },
   {
    "duration": 27,
    "start_time": "2022-06-22T17:23:47.202Z"
   },
   {
    "duration": 42,
    "start_time": "2022-06-22T17:23:47.230Z"
   },
   {
    "duration": 52,
    "start_time": "2022-06-22T17:23:47.274Z"
   },
   {
    "duration": 33,
    "start_time": "2022-06-22T17:23:47.328Z"
   },
   {
    "duration": 23,
    "start_time": "2022-06-22T17:23:47.362Z"
   },
   {
    "duration": 99,
    "start_time": "2022-06-22T17:23:47.387Z"
   },
   {
    "duration": 6,
    "start_time": "2022-06-22T17:23:47.488Z"
   },
   {
    "duration": 34,
    "start_time": "2022-06-22T17:23:47.496Z"
   },
   {
    "duration": 9,
    "start_time": "2022-06-22T17:23:47.532Z"
   },
   {
    "duration": 15,
    "start_time": "2022-06-22T17:23:47.542Z"
   },
   {
    "duration": 27,
    "start_time": "2022-06-22T17:23:47.559Z"
   },
   {
    "duration": 21,
    "start_time": "2022-06-22T17:23:47.588Z"
   },
   {
    "duration": 23,
    "start_time": "2022-06-22T17:23:47.611Z"
   },
   {
    "duration": 17,
    "start_time": "2022-06-22T17:23:47.636Z"
   },
   {
    "duration": 16,
    "start_time": "2022-06-22T17:23:47.655Z"
   },
   {
    "duration": 18,
    "start_time": "2022-06-22T17:23:47.673Z"
   },
   {
    "duration": 17,
    "start_time": "2022-06-22T17:23:47.692Z"
   },
   {
    "duration": 24,
    "start_time": "2022-06-22T17:23:47.710Z"
   },
   {
    "duration": 10,
    "start_time": "2022-06-22T17:23:47.735Z"
   },
   {
    "duration": 5,
    "start_time": "2022-06-22T17:24:17.708Z"
   },
   {
    "duration": 5,
    "start_time": "2022-06-22T17:24:30.687Z"
   },
   {
    "duration": 67,
    "start_time": "2022-06-22T17:27:28.738Z"
   },
   {
    "duration": 10,
    "start_time": "2022-06-22T17:29:22.032Z"
   },
   {
    "duration": 11,
    "start_time": "2022-06-22T17:29:58.509Z"
   },
   {
    "duration": 31,
    "start_time": "2022-06-22T17:30:25.068Z"
   },
   {
    "duration": 30,
    "start_time": "2022-06-22T17:31:09.011Z"
   },
   {
    "duration": 43,
    "start_time": "2022-06-22T17:31:24.854Z"
   },
   {
    "duration": 29,
    "start_time": "2022-06-22T17:32:07.690Z"
   },
   {
    "duration": 14,
    "start_time": "2022-06-22T17:33:03.186Z"
   },
   {
    "duration": 16,
    "start_time": "2022-06-22T17:33:18.251Z"
   },
   {
    "duration": 16,
    "start_time": "2022-06-22T17:34:32.161Z"
   },
   {
    "duration": 16,
    "start_time": "2022-06-22T17:39:02.445Z"
   },
   {
    "duration": 19,
    "start_time": "2022-06-22T17:40:42.320Z"
   },
   {
    "duration": 5,
    "start_time": "2022-06-22T17:41:13.760Z"
   },
   {
    "duration": 62,
    "start_time": "2022-06-22T17:41:45.454Z"
   },
   {
    "duration": 6,
    "start_time": "2022-06-22T17:41:49.998Z"
   },
   {
    "duration": 5,
    "start_time": "2022-06-22T17:42:01.742Z"
   },
   {
    "duration": 7,
    "start_time": "2022-06-22T17:43:53.535Z"
   },
   {
    "duration": 5,
    "start_time": "2022-06-22T17:44:00.581Z"
   },
   {
    "duration": 5,
    "start_time": "2022-06-22T17:44:25.629Z"
   },
   {
    "duration": 6,
    "start_time": "2022-06-22T17:45:05.542Z"
   },
   {
    "duration": 9,
    "start_time": "2022-06-22T17:54:24.644Z"
   },
   {
    "duration": 7,
    "start_time": "2022-06-22T17:54:32.045Z"
   },
   {
    "duration": 17,
    "start_time": "2022-06-22T17:59:35.606Z"
   },
   {
    "duration": 14,
    "start_time": "2022-06-22T18:00:10.123Z"
   },
   {
    "duration": 15,
    "start_time": "2022-06-22T18:03:18.382Z"
   },
   {
    "duration": 13,
    "start_time": "2022-06-22T18:03:41.787Z"
   },
   {
    "duration": 20,
    "start_time": "2022-06-22T18:04:38.603Z"
   },
   {
    "duration": 13,
    "start_time": "2022-06-22T18:05:08.941Z"
   },
   {
    "duration": 24,
    "start_time": "2022-06-22T18:05:17.439Z"
   },
   {
    "duration": 12,
    "start_time": "2022-06-22T18:11:37.205Z"
   },
   {
    "duration": 15,
    "start_time": "2022-06-22T18:12:02.770Z"
   },
   {
    "duration": 14,
    "start_time": "2022-06-22T18:12:06.489Z"
   },
   {
    "duration": 923,
    "start_time": "2022-06-22T18:12:12.907Z"
   },
   {
    "duration": 18,
    "start_time": "2022-06-22T18:12:13.832Z"
   },
   {
    "duration": 47,
    "start_time": "2022-06-22T18:12:13.852Z"
   },
   {
    "duration": 26,
    "start_time": "2022-06-22T18:12:13.902Z"
   },
   {
    "duration": 25,
    "start_time": "2022-06-22T18:12:13.930Z"
   },
   {
    "duration": 12,
    "start_time": "2022-06-22T18:12:13.957Z"
   },
   {
    "duration": 20,
    "start_time": "2022-06-22T18:12:13.971Z"
   },
   {
    "duration": 39,
    "start_time": "2022-06-22T18:12:13.994Z"
   },
   {
    "duration": 13,
    "start_time": "2022-06-22T18:12:14.035Z"
   },
   {
    "duration": 14,
    "start_time": "2022-06-22T18:12:14.052Z"
   },
   {
    "duration": 14,
    "start_time": "2022-06-22T18:12:14.067Z"
   },
   {
    "duration": 10,
    "start_time": "2022-06-22T18:12:14.083Z"
   },
   {
    "duration": 37,
    "start_time": "2022-06-22T18:12:14.095Z"
   },
   {
    "duration": 33,
    "start_time": "2022-06-22T18:12:14.134Z"
   },
   {
    "duration": 26,
    "start_time": "2022-06-22T18:12:14.169Z"
   },
   {
    "duration": 32,
    "start_time": "2022-06-22T18:12:14.197Z"
   },
   {
    "duration": 63,
    "start_time": "2022-06-22T18:12:14.231Z"
   },
   {
    "duration": 71,
    "start_time": "2022-06-22T18:12:14.297Z"
   },
   {
    "duration": 41,
    "start_time": "2022-06-22T18:12:14.370Z"
   },
   {
    "duration": 17,
    "start_time": "2022-06-22T18:12:14.426Z"
   },
   {
    "duration": 36,
    "start_time": "2022-06-22T18:12:14.445Z"
   },
   {
    "duration": 43,
    "start_time": "2022-06-22T18:12:14.484Z"
   },
   {
    "duration": 35,
    "start_time": "2022-06-22T18:12:14.529Z"
   },
   {
    "duration": 15,
    "start_time": "2022-06-22T18:12:14.567Z"
   },
   {
    "duration": 57,
    "start_time": "2022-06-22T18:12:14.585Z"
   },
   {
    "duration": 10,
    "start_time": "2022-06-22T18:12:14.644Z"
   },
   {
    "duration": 26,
    "start_time": "2022-06-22T18:12:14.657Z"
   },
   {
    "duration": 71,
    "start_time": "2022-06-22T18:12:14.689Z"
   },
   {
    "duration": 36,
    "start_time": "2022-06-22T18:12:14.762Z"
   },
   {
    "duration": 40,
    "start_time": "2022-06-22T18:12:14.800Z"
   },
   {
    "duration": 94,
    "start_time": "2022-06-22T18:12:14.841Z"
   },
   {
    "duration": 8,
    "start_time": "2022-06-22T18:12:14.937Z"
   },
   {
    "duration": 32,
    "start_time": "2022-06-22T18:12:14.948Z"
   },
   {
    "duration": 14,
    "start_time": "2022-06-22T18:12:14.982Z"
   },
   {
    "duration": 39,
    "start_time": "2022-06-22T18:12:14.998Z"
   },
   {
    "duration": 78,
    "start_time": "2022-06-22T18:12:15.039Z"
   },
   {
    "duration": 38,
    "start_time": "2022-06-22T18:12:15.119Z"
   },
   {
    "duration": 24,
    "start_time": "2022-06-22T18:12:15.159Z"
   },
   {
    "duration": 15,
    "start_time": "2022-06-22T18:12:15.185Z"
   },
   {
    "duration": 17,
    "start_time": "2022-06-22T18:12:15.202Z"
   },
   {
    "duration": 41,
    "start_time": "2022-06-22T18:12:15.221Z"
   },
   {
    "duration": 29,
    "start_time": "2022-06-22T18:12:15.264Z"
   },
   {
    "duration": 32,
    "start_time": "2022-06-22T18:12:15.295Z"
   },
   {
    "duration": 25,
    "start_time": "2022-06-22T18:12:15.329Z"
   },
   {
    "duration": 27,
    "start_time": "2022-06-22T18:12:15.356Z"
   },
   {
    "duration": 27,
    "start_time": "2022-06-22T18:12:15.385Z"
   },
   {
    "duration": 44,
    "start_time": "2022-06-22T18:12:15.414Z"
   },
   {
    "duration": 26,
    "start_time": "2022-06-22T18:12:15.459Z"
   },
   {
    "duration": 982,
    "start_time": "2022-06-22T18:12:15.487Z"
   },
   {
    "duration": 1,
    "start_time": "2022-06-22T18:12:16.470Z"
   },
   {
    "duration": 0,
    "start_time": "2022-06-22T18:12:16.472Z"
   },
   {
    "duration": 16,
    "start_time": "2022-06-22T18:12:26.081Z"
   },
   {
    "duration": 20,
    "start_time": "2022-06-22T18:12:28.474Z"
   },
   {
    "duration": 26,
    "start_time": "2022-06-22T18:12:32.974Z"
   },
   {
    "duration": 13,
    "start_time": "2022-06-22T18:14:15.313Z"
   },
   {
    "duration": 17,
    "start_time": "2022-06-22T18:14:42.209Z"
   },
   {
    "duration": 15,
    "start_time": "2022-06-22T18:15:13.758Z"
   },
   {
    "duration": 17,
    "start_time": "2022-06-22T18:15:48.769Z"
   },
   {
    "duration": 19,
    "start_time": "2022-06-22T18:16:53.187Z"
   },
   {
    "duration": 14,
    "start_time": "2022-06-22T18:19:41.071Z"
   },
   {
    "duration": 9,
    "start_time": "2022-06-22T18:20:07.166Z"
   },
   {
    "duration": 911,
    "start_time": "2022-06-22T18:20:14.382Z"
   },
   {
    "duration": 14,
    "start_time": "2022-06-22T18:20:15.296Z"
   },
   {
    "duration": 32,
    "start_time": "2022-06-22T18:20:15.312Z"
   },
   {
    "duration": 9,
    "start_time": "2022-06-22T18:20:15.353Z"
   },
   {
    "duration": 27,
    "start_time": "2022-06-22T18:20:15.363Z"
   },
   {
    "duration": 8,
    "start_time": "2022-06-22T18:20:15.392Z"
   },
   {
    "duration": 35,
    "start_time": "2022-06-22T18:20:15.402Z"
   },
   {
    "duration": 13,
    "start_time": "2022-06-22T18:20:15.440Z"
   },
   {
    "duration": 12,
    "start_time": "2022-06-22T18:20:15.456Z"
   },
   {
    "duration": 12,
    "start_time": "2022-06-22T18:20:15.472Z"
   },
   {
    "duration": 43,
    "start_time": "2022-06-22T18:20:15.487Z"
   },
   {
    "duration": 17,
    "start_time": "2022-06-22T18:20:15.532Z"
   },
   {
    "duration": 26,
    "start_time": "2022-06-22T18:20:15.552Z"
   },
   {
    "duration": 26,
    "start_time": "2022-06-22T18:20:15.581Z"
   },
   {
    "duration": 26,
    "start_time": "2022-06-22T18:20:15.609Z"
   },
   {
    "duration": 8,
    "start_time": "2022-06-22T18:20:15.637Z"
   },
   {
    "duration": 57,
    "start_time": "2022-06-22T18:20:15.647Z"
   },
   {
    "duration": 61,
    "start_time": "2022-06-22T18:20:15.706Z"
   },
   {
    "duration": 36,
    "start_time": "2022-06-22T18:20:15.769Z"
   },
   {
    "duration": 32,
    "start_time": "2022-06-22T18:20:15.808Z"
   },
   {
    "duration": 31,
    "start_time": "2022-06-22T18:20:15.841Z"
   },
   {
    "duration": 27,
    "start_time": "2022-06-22T18:20:15.874Z"
   },
   {
    "duration": 51,
    "start_time": "2022-06-22T18:20:15.903Z"
   },
   {
    "duration": 10,
    "start_time": "2022-06-22T18:20:15.957Z"
   },
   {
    "duration": 35,
    "start_time": "2022-06-22T18:20:15.968Z"
   },
   {
    "duration": 23,
    "start_time": "2022-06-22T18:20:16.005Z"
   },
   {
    "duration": 31,
    "start_time": "2022-06-22T18:20:16.030Z"
   },
   {
    "duration": 37,
    "start_time": "2022-06-22T18:20:16.066Z"
   },
   {
    "duration": 44,
    "start_time": "2022-06-22T18:20:16.105Z"
   },
   {
    "duration": 23,
    "start_time": "2022-06-22T18:20:16.151Z"
   },
   {
    "duration": 109,
    "start_time": "2022-06-22T18:20:16.176Z"
   },
   {
    "duration": 8,
    "start_time": "2022-06-22T18:20:16.287Z"
   },
   {
    "duration": 48,
    "start_time": "2022-06-22T18:20:16.296Z"
   },
   {
    "duration": 8,
    "start_time": "2022-06-22T18:20:16.345Z"
   },
   {
    "duration": 10,
    "start_time": "2022-06-22T18:20:16.355Z"
   },
   {
    "duration": 21,
    "start_time": "2022-06-22T18:20:16.367Z"
   },
   {
    "duration": 12,
    "start_time": "2022-06-22T18:20:16.389Z"
   },
   {
    "duration": 34,
    "start_time": "2022-06-22T18:20:16.402Z"
   },
   {
    "duration": 19,
    "start_time": "2022-06-22T18:20:16.438Z"
   },
   {
    "duration": 28,
    "start_time": "2022-06-22T18:20:16.459Z"
   },
   {
    "duration": 14,
    "start_time": "2022-06-22T18:20:16.489Z"
   },
   {
    "duration": 25,
    "start_time": "2022-06-22T18:20:16.505Z"
   },
   {
    "duration": 23,
    "start_time": "2022-06-22T18:20:16.532Z"
   },
   {
    "duration": 11,
    "start_time": "2022-06-22T18:20:16.557Z"
   },
   {
    "duration": 20,
    "start_time": "2022-06-22T18:20:16.570Z"
   },
   {
    "duration": 19,
    "start_time": "2022-06-22T18:20:16.592Z"
   },
   {
    "duration": 26,
    "start_time": "2022-06-22T18:20:16.613Z"
   },
   {
    "duration": 19,
    "start_time": "2022-06-22T18:20:16.641Z"
   },
   {
    "duration": 20,
    "start_time": "2022-06-22T18:20:16.662Z"
   },
   {
    "duration": 9,
    "start_time": "2022-06-22T18:20:16.684Z"
   },
   {
    "duration": 12,
    "start_time": "2022-06-22T18:20:50.445Z"
   },
   {
    "duration": 12,
    "start_time": "2022-06-22T18:20:57.363Z"
   },
   {
    "duration": 33,
    "start_time": "2022-06-22T18:21:46.282Z"
   },
   {
    "duration": 12,
    "start_time": "2022-06-22T18:21:55.486Z"
   },
   {
    "duration": 13,
    "start_time": "2022-06-22T18:21:58.925Z"
   },
   {
    "duration": 8,
    "start_time": "2022-06-22T18:22:08.187Z"
   },
   {
    "duration": 13,
    "start_time": "2022-06-22T18:22:15.986Z"
   },
   {
    "duration": 11,
    "start_time": "2022-06-22T18:22:51.123Z"
   },
   {
    "duration": 13,
    "start_time": "2022-06-22T18:23:03.368Z"
   },
   {
    "duration": 4,
    "start_time": "2022-06-22T18:23:31.342Z"
   },
   {
    "duration": 12,
    "start_time": "2022-06-22T18:24:03.625Z"
   },
   {
    "duration": 68,
    "start_time": "2022-06-22T18:29:54.244Z"
   },
   {
    "duration": 6,
    "start_time": "2022-06-22T18:30:03.388Z"
   },
   {
    "duration": 920,
    "start_time": "2022-06-22T18:30:39.643Z"
   },
   {
    "duration": 15,
    "start_time": "2022-06-22T18:31:50.962Z"
   },
   {
    "duration": 12,
    "start_time": "2022-06-22T18:31:53.157Z"
   },
   {
    "duration": 14,
    "start_time": "2022-06-22T18:32:19.507Z"
   },
   {
    "duration": 29,
    "start_time": "2022-06-22T18:33:09.711Z"
   },
   {
    "duration": 14,
    "start_time": "2022-06-22T18:34:19.309Z"
   },
   {
    "duration": 5,
    "start_time": "2022-06-22T18:37:06.325Z"
   },
   {
    "duration": 6,
    "start_time": "2022-06-22T18:37:58.976Z"
   },
   {
    "duration": 15,
    "start_time": "2022-06-22T18:40:39.074Z"
   },
   {
    "duration": 10,
    "start_time": "2022-06-22T18:42:50.382Z"
   },
   {
    "duration": 967,
    "start_time": "2022-06-22T18:44:05.498Z"
   },
   {
    "duration": 16,
    "start_time": "2022-06-22T18:44:06.467Z"
   },
   {
    "duration": 42,
    "start_time": "2022-06-22T18:44:06.485Z"
   },
   {
    "duration": 12,
    "start_time": "2022-06-22T18:44:06.529Z"
   },
   {
    "duration": 41,
    "start_time": "2022-06-22T18:44:06.543Z"
   },
   {
    "duration": 8,
    "start_time": "2022-06-22T18:44:06.586Z"
   },
   {
    "duration": 39,
    "start_time": "2022-06-22T18:44:06.596Z"
   },
   {
    "duration": 36,
    "start_time": "2022-06-22T18:44:06.638Z"
   },
   {
    "duration": 25,
    "start_time": "2022-06-22T18:44:06.676Z"
   },
   {
    "duration": 15,
    "start_time": "2022-06-22T18:44:06.703Z"
   },
   {
    "duration": 20,
    "start_time": "2022-06-22T18:44:06.719Z"
   },
   {
    "duration": 31,
    "start_time": "2022-06-22T18:44:06.741Z"
   },
   {
    "duration": 22,
    "start_time": "2022-06-22T18:44:06.774Z"
   },
   {
    "duration": 17,
    "start_time": "2022-06-22T18:44:06.799Z"
   },
   {
    "duration": 47,
    "start_time": "2022-06-22T18:44:06.818Z"
   },
   {
    "duration": 7,
    "start_time": "2022-06-22T18:44:06.866Z"
   },
   {
    "duration": 94,
    "start_time": "2022-06-22T18:44:06.875Z"
   },
   {
    "duration": 37,
    "start_time": "2022-06-22T18:44:06.970Z"
   },
   {
    "duration": 63,
    "start_time": "2022-06-22T18:44:07.009Z"
   },
   {
    "duration": 13,
    "start_time": "2022-06-22T18:44:07.074Z"
   },
   {
    "duration": 44,
    "start_time": "2022-06-22T18:44:07.088Z"
   },
   {
    "duration": 34,
    "start_time": "2022-06-22T18:44:07.134Z"
   },
   {
    "duration": 29,
    "start_time": "2022-06-22T18:44:07.170Z"
   },
   {
    "duration": 25,
    "start_time": "2022-06-22T18:44:07.201Z"
   },
   {
    "duration": 33,
    "start_time": "2022-06-22T18:44:07.229Z"
   },
   {
    "duration": 25,
    "start_time": "2022-06-22T18:44:07.264Z"
   },
   {
    "duration": 17,
    "start_time": "2022-06-22T18:44:07.291Z"
   },
   {
    "duration": 68,
    "start_time": "2022-06-22T18:44:07.310Z"
   },
   {
    "duration": 31,
    "start_time": "2022-06-22T18:44:07.380Z"
   },
   {
    "duration": 53,
    "start_time": "2022-06-22T18:44:07.413Z"
   },
   {
    "duration": 113,
    "start_time": "2022-06-22T18:44:07.469Z"
   },
   {
    "duration": 7,
    "start_time": "2022-06-22T18:44:07.584Z"
   },
   {
    "duration": 19,
    "start_time": "2022-06-22T18:44:07.593Z"
   },
   {
    "duration": 8,
    "start_time": "2022-06-22T18:44:07.614Z"
   },
   {
    "duration": 33,
    "start_time": "2022-06-22T18:44:07.631Z"
   },
   {
    "duration": 24,
    "start_time": "2022-06-22T18:44:07.666Z"
   },
   {
    "duration": 44,
    "start_time": "2022-06-22T18:44:07.692Z"
   },
   {
    "duration": 40,
    "start_time": "2022-06-22T18:44:07.738Z"
   },
   {
    "duration": 15,
    "start_time": "2022-06-22T18:44:07.781Z"
   },
   {
    "duration": 20,
    "start_time": "2022-06-22T18:44:07.798Z"
   },
   {
    "duration": 37,
    "start_time": "2022-06-22T18:44:07.822Z"
   },
   {
    "duration": 16,
    "start_time": "2022-06-22T18:44:07.862Z"
   },
   {
    "duration": 16,
    "start_time": "2022-06-22T18:44:07.880Z"
   },
   {
    "duration": 5,
    "start_time": "2022-06-22T18:44:07.898Z"
   },
   {
    "duration": 17,
    "start_time": "2022-06-22T18:44:07.904Z"
   },
   {
    "duration": 40,
    "start_time": "2022-06-22T18:44:07.923Z"
   },
   {
    "duration": 9,
    "start_time": "2022-06-22T18:44:07.965Z"
   },
   {
    "duration": 19,
    "start_time": "2022-06-22T18:44:07.975Z"
   },
   {
    "duration": 14,
    "start_time": "2022-06-22T18:44:07.996Z"
   },
   {
    "duration": 8,
    "start_time": "2022-06-22T18:44:08.011Z"
   },
   {
    "duration": 41,
    "start_time": "2022-06-22T18:44:08.020Z"
   },
   {
    "duration": 19,
    "start_time": "2022-06-22T18:44:08.063Z"
   },
   {
    "duration": 13,
    "start_time": "2022-06-22T18:44:08.084Z"
   },
   {
    "duration": 18,
    "start_time": "2022-06-22T18:44:08.099Z"
   },
   {
    "duration": 19,
    "start_time": "2022-06-22T18:44:08.119Z"
   },
   {
    "duration": 42,
    "start_time": "2022-06-22T18:44:08.141Z"
   },
   {
    "duration": 15,
    "start_time": "2022-06-22T18:44:08.185Z"
   },
   {
    "duration": 14,
    "start_time": "2022-06-22T18:44:44.308Z"
   },
   {
    "duration": 8,
    "start_time": "2022-06-22T18:45:53.387Z"
   },
   {
    "duration": 11,
    "start_time": "2022-06-22T18:45:59.629Z"
   },
   {
    "duration": 19,
    "start_time": "2022-06-22T18:46:20.514Z"
   },
   {
    "duration": 21,
    "start_time": "2022-06-22T18:46:39.620Z"
   },
   {
    "duration": 22,
    "start_time": "2022-06-22T18:47:01.717Z"
   },
   {
    "duration": 26,
    "start_time": "2022-06-22T18:47:18.614Z"
   },
   {
    "duration": 23,
    "start_time": "2022-06-22T18:54:03.943Z"
   },
   {
    "duration": 16,
    "start_time": "2022-06-22T18:54:13.085Z"
   },
   {
    "duration": 70,
    "start_time": "2022-06-22T18:55:05.046Z"
   },
   {
    "duration": 7,
    "start_time": "2022-06-22T18:55:14.796Z"
   },
   {
    "duration": 471,
    "start_time": "2022-06-22T18:55:24.224Z"
   },
   {
    "duration": 9,
    "start_time": "2022-06-22T18:55:24.697Z"
   },
   {
    "duration": 27,
    "start_time": "2022-06-22T18:55:24.707Z"
   },
   {
    "duration": 9,
    "start_time": "2022-06-22T18:55:24.735Z"
   },
   {
    "duration": 23,
    "start_time": "2022-06-22T18:55:24.746Z"
   },
   {
    "duration": 7,
    "start_time": "2022-06-22T18:55:24.770Z"
   },
   {
    "duration": 30,
    "start_time": "2022-06-22T18:55:24.779Z"
   },
   {
    "duration": 21,
    "start_time": "2022-06-22T18:55:24.810Z"
   },
   {
    "duration": 13,
    "start_time": "2022-06-22T18:55:24.832Z"
   },
   {
    "duration": 11,
    "start_time": "2022-06-22T18:55:24.847Z"
   },
   {
    "duration": 11,
    "start_time": "2022-06-22T18:55:24.859Z"
   },
   {
    "duration": 6,
    "start_time": "2022-06-22T18:55:24.872Z"
   },
   {
    "duration": 16,
    "start_time": "2022-06-22T18:55:24.880Z"
   },
   {
    "duration": 40,
    "start_time": "2022-06-22T18:55:24.897Z"
   },
   {
    "duration": 19,
    "start_time": "2022-06-22T18:55:24.939Z"
   },
   {
    "duration": 5,
    "start_time": "2022-06-22T18:55:24.960Z"
   },
   {
    "duration": 65,
    "start_time": "2022-06-22T18:55:24.966Z"
   },
   {
    "duration": 37,
    "start_time": "2022-06-22T18:55:25.033Z"
   },
   {
    "duration": 29,
    "start_time": "2022-06-22T18:55:25.071Z"
   },
   {
    "duration": 36,
    "start_time": "2022-06-22T18:55:25.102Z"
   },
   {
    "duration": 28,
    "start_time": "2022-06-22T18:55:25.140Z"
   },
   {
    "duration": 24,
    "start_time": "2022-06-22T18:55:25.170Z"
   },
   {
    "duration": 47,
    "start_time": "2022-06-22T18:55:25.196Z"
   },
   {
    "duration": 8,
    "start_time": "2022-06-22T18:55:25.245Z"
   },
   {
    "duration": 17,
    "start_time": "2022-06-22T18:55:25.255Z"
   },
   {
    "duration": 8,
    "start_time": "2022-06-22T18:55:25.274Z"
   },
   {
    "duration": 15,
    "start_time": "2022-06-22T18:55:25.283Z"
   },
   {
    "duration": 55,
    "start_time": "2022-06-22T18:55:25.302Z"
   },
   {
    "duration": 29,
    "start_time": "2022-06-22T18:55:25.359Z"
   },
   {
    "duration": 48,
    "start_time": "2022-06-22T18:55:25.389Z"
   },
   {
    "duration": 36,
    "start_time": "2022-06-22T18:55:25.439Z"
   },
   {
    "duration": 8,
    "start_time": "2022-06-22T18:55:25.477Z"
   },
   {
    "duration": 16,
    "start_time": "2022-06-22T18:55:25.486Z"
   },
   {
    "duration": 8,
    "start_time": "2022-06-22T18:55:25.526Z"
   },
   {
    "duration": 14,
    "start_time": "2022-06-22T18:55:25.536Z"
   },
   {
    "duration": 13,
    "start_time": "2022-06-22T18:55:25.553Z"
   },
   {
    "duration": 11,
    "start_time": "2022-06-22T18:55:25.568Z"
   },
   {
    "duration": 13,
    "start_time": "2022-06-22T18:55:25.581Z"
   },
   {
    "duration": 32,
    "start_time": "2022-06-22T18:55:25.596Z"
   },
   {
    "duration": 15,
    "start_time": "2022-06-22T18:55:25.630Z"
   },
   {
    "duration": 11,
    "start_time": "2022-06-22T18:55:25.647Z"
   },
   {
    "duration": 18,
    "start_time": "2022-06-22T18:55:25.659Z"
   },
   {
    "duration": 13,
    "start_time": "2022-06-22T18:55:25.678Z"
   },
   {
    "duration": 8,
    "start_time": "2022-06-22T18:55:25.692Z"
   },
   {
    "duration": 40,
    "start_time": "2022-06-22T18:55:25.701Z"
   },
   {
    "duration": 19,
    "start_time": "2022-06-22T18:55:25.742Z"
   },
   {
    "duration": 11,
    "start_time": "2022-06-22T18:55:25.763Z"
   },
   {
    "duration": 16,
    "start_time": "2022-06-22T18:55:25.775Z"
   },
   {
    "duration": 33,
    "start_time": "2022-06-22T18:55:25.793Z"
   },
   {
    "duration": 4,
    "start_time": "2022-06-22T18:55:25.828Z"
   },
   {
    "duration": 13,
    "start_time": "2022-06-22T18:55:25.834Z"
   },
   {
    "duration": 15,
    "start_time": "2022-06-22T18:55:25.849Z"
   },
   {
    "duration": 13,
    "start_time": "2022-06-22T18:55:25.865Z"
   },
   {
    "duration": 17,
    "start_time": "2022-06-22T18:55:25.880Z"
   },
   {
    "duration": 37,
    "start_time": "2022-06-22T18:55:25.899Z"
   },
   {
    "duration": 8,
    "start_time": "2022-06-22T18:55:25.938Z"
   },
   {
    "duration": 23,
    "start_time": "2022-06-22T18:55:25.947Z"
   },
   {
    "duration": 17,
    "start_time": "2022-06-22T18:55:25.972Z"
   },
   {
    "duration": 7,
    "start_time": "2022-06-22T18:55:25.991Z"
   },
   {
    "duration": 10,
    "start_time": "2022-06-22T18:55:36.478Z"
   },
   {
    "duration": 9,
    "start_time": "2022-06-22T18:55:57.694Z"
   },
   {
    "duration": 12,
    "start_time": "2022-06-22T18:56:17.283Z"
   },
   {
    "duration": 13,
    "start_time": "2022-06-22T18:56:22.625Z"
   },
   {
    "duration": 7,
    "start_time": "2022-06-22T18:56:41.146Z"
   },
   {
    "duration": 11,
    "start_time": "2022-06-22T18:56:50.570Z"
   },
   {
    "duration": 17,
    "start_time": "2022-06-22T18:59:03.945Z"
   },
   {
    "duration": 15,
    "start_time": "2022-06-22T18:59:55.888Z"
   },
   {
    "duration": 15,
    "start_time": "2022-06-22T19:00:51.772Z"
   },
   {
    "duration": 12,
    "start_time": "2022-06-22T19:02:26.041Z"
   },
   {
    "duration": 13,
    "start_time": "2022-06-22T19:02:32.245Z"
   },
   {
    "duration": 11,
    "start_time": "2022-06-22T19:02:39.039Z"
   },
   {
    "duration": 913,
    "start_time": "2022-06-22T19:02:46.608Z"
   },
   {
    "duration": 24,
    "start_time": "2022-06-22T19:02:47.523Z"
   },
   {
    "duration": 35,
    "start_time": "2022-06-22T19:02:47.548Z"
   },
   {
    "duration": 9,
    "start_time": "2022-06-22T19:02:47.585Z"
   },
   {
    "duration": 45,
    "start_time": "2022-06-22T19:02:47.595Z"
   },
   {
    "duration": 12,
    "start_time": "2022-06-22T19:02:47.642Z"
   },
   {
    "duration": 43,
    "start_time": "2022-06-22T19:02:47.656Z"
   },
   {
    "duration": 7,
    "start_time": "2022-06-22T19:02:47.701Z"
   },
   {
    "duration": 12,
    "start_time": "2022-06-22T19:02:47.710Z"
   },
   {
    "duration": 21,
    "start_time": "2022-06-22T19:02:47.726Z"
   },
   {
    "duration": 15,
    "start_time": "2022-06-22T19:02:47.749Z"
   },
   {
    "duration": 7,
    "start_time": "2022-06-22T19:02:47.766Z"
   },
   {
    "duration": 19,
    "start_time": "2022-06-22T19:02:47.775Z"
   },
   {
    "duration": 17,
    "start_time": "2022-06-22T19:02:47.795Z"
   },
   {
    "duration": 39,
    "start_time": "2022-06-22T19:02:47.814Z"
   },
   {
    "duration": 5,
    "start_time": "2022-06-22T19:02:47.854Z"
   },
   {
    "duration": 53,
    "start_time": "2022-06-22T19:02:47.861Z"
   },
   {
    "duration": 57,
    "start_time": "2022-06-22T19:02:47.915Z"
   },
   {
    "duration": 31,
    "start_time": "2022-06-22T19:02:47.973Z"
   },
   {
    "duration": 31,
    "start_time": "2022-06-22T19:02:48.005Z"
   },
   {
    "duration": 21,
    "start_time": "2022-06-22T19:02:48.039Z"
   },
   {
    "duration": 23,
    "start_time": "2022-06-22T19:02:48.062Z"
   },
   {
    "duration": 27,
    "start_time": "2022-06-22T19:02:48.086Z"
   },
   {
    "duration": 15,
    "start_time": "2022-06-22T19:02:48.126Z"
   },
   {
    "duration": 23,
    "start_time": "2022-06-22T19:02:48.143Z"
   },
   {
    "duration": 8,
    "start_time": "2022-06-22T19:02:48.167Z"
   },
   {
    "duration": 16,
    "start_time": "2022-06-22T19:02:48.176Z"
   },
   {
    "duration": 60,
    "start_time": "2022-06-22T19:02:48.195Z"
   },
   {
    "duration": 29,
    "start_time": "2022-06-22T19:02:48.257Z"
   },
   {
    "duration": 50,
    "start_time": "2022-06-22T19:02:48.288Z"
   },
   {
    "duration": 73,
    "start_time": "2022-06-22T19:02:48.340Z"
   },
   {
    "duration": 24,
    "start_time": "2022-06-22T19:02:48.414Z"
   },
   {
    "duration": 15,
    "start_time": "2022-06-22T19:02:48.440Z"
   },
   {
    "duration": 7,
    "start_time": "2022-06-22T19:02:48.456Z"
   },
   {
    "duration": 13,
    "start_time": "2022-06-22T19:02:48.465Z"
   },
   {
    "duration": 24,
    "start_time": "2022-06-22T19:02:48.480Z"
   },
   {
    "duration": 11,
    "start_time": "2022-06-22T19:02:48.506Z"
   },
   {
    "duration": 24,
    "start_time": "2022-06-22T19:02:48.525Z"
   },
   {
    "duration": 14,
    "start_time": "2022-06-22T19:02:48.551Z"
   },
   {
    "duration": 13,
    "start_time": "2022-06-22T19:02:48.566Z"
   },
   {
    "duration": 11,
    "start_time": "2022-06-22T19:02:48.581Z"
   },
   {
    "duration": 16,
    "start_time": "2022-06-22T19:02:48.593Z"
   },
   {
    "duration": 30,
    "start_time": "2022-06-22T19:02:48.610Z"
   },
   {
    "duration": 4,
    "start_time": "2022-06-22T19:02:48.642Z"
   },
   {
    "duration": 17,
    "start_time": "2022-06-22T19:02:48.647Z"
   },
   {
    "duration": 18,
    "start_time": "2022-06-22T19:02:48.666Z"
   },
   {
    "duration": 11,
    "start_time": "2022-06-22T19:02:48.686Z"
   },
   {
    "duration": 47,
    "start_time": "2022-06-22T19:02:48.698Z"
   },
   {
    "duration": 14,
    "start_time": "2022-06-22T19:02:48.747Z"
   },
   {
    "duration": 4,
    "start_time": "2022-06-22T19:02:48.762Z"
   },
   {
    "duration": 13,
    "start_time": "2022-06-22T19:02:48.768Z"
   },
   {
    "duration": 15,
    "start_time": "2022-06-22T19:02:48.782Z"
   },
   {
    "duration": 35,
    "start_time": "2022-06-22T19:02:48.799Z"
   },
   {
    "duration": 24,
    "start_time": "2022-06-22T19:02:48.836Z"
   },
   {
    "duration": 15,
    "start_time": "2022-06-22T19:02:48.862Z"
   },
   {
    "duration": 4,
    "start_time": "2022-06-22T19:02:48.879Z"
   },
   {
    "duration": 33,
    "start_time": "2022-06-22T19:02:48.884Z"
   },
   {
    "duration": 24,
    "start_time": "2022-06-22T19:02:48.919Z"
   },
   {
    "duration": 13,
    "start_time": "2022-06-22T19:02:48.945Z"
   },
   {
    "duration": 16,
    "start_time": "2022-06-22T19:02:57.402Z"
   },
   {
    "duration": 560,
    "start_time": "2022-06-22T19:10:22.082Z"
   },
   {
    "duration": 158,
    "start_time": "2022-06-22T19:10:36.538Z"
   },
   {
    "duration": 254,
    "start_time": "2022-06-22T19:11:10.891Z"
   },
   {
    "duration": 333,
    "start_time": "2022-06-22T19:11:40.865Z"
   },
   {
    "duration": 159,
    "start_time": "2022-06-22T19:12:01.396Z"
   },
   {
    "duration": 134,
    "start_time": "2022-06-22T19:13:45.732Z"
   },
   {
    "duration": 133,
    "start_time": "2022-06-22T19:13:57.913Z"
   },
   {
    "duration": 133,
    "start_time": "2022-06-22T19:14:09.169Z"
   },
   {
    "duration": 175,
    "start_time": "2022-06-22T19:14:14.968Z"
   },
   {
    "duration": 166,
    "start_time": "2022-06-22T19:15:44.341Z"
   },
   {
    "duration": 199,
    "start_time": "2022-06-22T19:15:59.696Z"
   },
   {
    "duration": 11,
    "start_time": "2022-06-22T19:16:19.805Z"
   },
   {
    "duration": 10,
    "start_time": "2022-06-22T19:16:57.208Z"
   },
   {
    "duration": 5,
    "start_time": "2022-06-22T19:17:06.943Z"
   },
   {
    "duration": 11,
    "start_time": "2022-06-22T19:17:17.713Z"
   },
   {
    "duration": 11,
    "start_time": "2022-06-22T19:17:36.107Z"
   },
   {
    "duration": 144,
    "start_time": "2022-06-22T19:17:57.501Z"
   },
   {
    "duration": 124,
    "start_time": "2022-06-22T19:20:43.998Z"
   },
   {
    "duration": 13,
    "start_time": "2022-06-22T19:20:56.522Z"
   },
   {
    "duration": 149,
    "start_time": "2022-06-22T19:21:05.843Z"
   },
   {
    "duration": 905,
    "start_time": "2022-06-22T19:21:24.177Z"
   },
   {
    "duration": 167,
    "start_time": "2022-06-22T19:21:36.930Z"
   },
   {
    "duration": 250,
    "start_time": "2022-06-22T19:22:06.941Z"
   },
   {
    "duration": 1087,
    "start_time": "2022-06-22T19:22:21.180Z"
   },
   {
    "duration": 837,
    "start_time": "2022-06-22T19:22:32.711Z"
   },
   {
    "duration": 783,
    "start_time": "2022-06-22T19:22:37.414Z"
   },
   {
    "duration": 13,
    "start_time": "2022-06-22T19:22:50.477Z"
   },
   {
    "duration": 143,
    "start_time": "2022-06-22T19:23:23.778Z"
   },
   {
    "duration": 867,
    "start_time": "2022-06-22T19:23:41.129Z"
   },
   {
    "duration": 17,
    "start_time": "2022-06-22T19:23:50.365Z"
   },
   {
    "duration": 24,
    "start_time": "2022-06-22T19:24:27.174Z"
   },
   {
    "duration": 65,
    "start_time": "2022-06-22T19:25:07.242Z"
   },
   {
    "duration": 46,
    "start_time": "2022-06-22T19:25:18.450Z"
   },
   {
    "duration": 13,
    "start_time": "2022-06-22T19:25:32.091Z"
   },
   {
    "duration": 7,
    "start_time": "2022-06-22T19:29:35.709Z"
   },
   {
    "duration": 21,
    "start_time": "2022-06-22T19:30:33.780Z"
   },
   {
    "duration": 5,
    "start_time": "2022-06-22T19:30:56.285Z"
   },
   {
    "duration": 8,
    "start_time": "2022-06-22T19:31:05.189Z"
   },
   {
    "duration": 12,
    "start_time": "2022-06-22T19:31:54.460Z"
   },
   {
    "duration": 5,
    "start_time": "2022-06-22T19:32:18.542Z"
   },
   {
    "duration": 11,
    "start_time": "2022-06-22T19:32:35.562Z"
   },
   {
    "duration": 14,
    "start_time": "2022-06-22T19:33:01.284Z"
   },
   {
    "duration": 12,
    "start_time": "2022-06-22T19:33:13.813Z"
   },
   {
    "duration": 15,
    "start_time": "2022-06-22T19:33:42.524Z"
   },
   {
    "duration": 18,
    "start_time": "2022-06-22T19:34:08.324Z"
   },
   {
    "duration": 2636,
    "start_time": "2022-06-22T19:34:12.585Z"
   },
   {
    "duration": 163,
    "start_time": "2022-06-22T19:34:42.723Z"
   },
   {
    "duration": 18,
    "start_time": "2022-06-22T19:40:31.267Z"
   },
   {
    "duration": 23,
    "start_time": "2022-06-22T19:40:41.592Z"
   },
   {
    "duration": 21,
    "start_time": "2022-06-22T19:40:54.523Z"
   },
   {
    "duration": 18,
    "start_time": "2022-06-22T19:41:02.541Z"
   },
   {
    "duration": 18,
    "start_time": "2022-06-22T19:43:40.451Z"
   },
   {
    "duration": 3,
    "start_time": "2022-06-22T19:45:14.384Z"
   },
   {
    "duration": 5,
    "start_time": "2022-06-22T19:47:28.657Z"
   },
   {
    "duration": 10,
    "start_time": "2022-06-22T19:47:49.738Z"
   },
   {
    "duration": 5,
    "start_time": "2022-06-22T19:48:01.095Z"
   },
   {
    "duration": 5,
    "start_time": "2022-06-22T19:50:18.844Z"
   },
   {
    "duration": 5,
    "start_time": "2022-06-22T19:50:20.871Z"
   },
   {
    "duration": 5,
    "start_time": "2022-06-22T19:50:22.780Z"
   },
   {
    "duration": 5,
    "start_time": "2022-06-22T19:50:42.743Z"
   },
   {
    "duration": 5,
    "start_time": "2022-06-22T19:50:53.641Z"
   },
   {
    "duration": 5,
    "start_time": "2022-06-22T19:51:02.042Z"
   },
   {
    "duration": 34,
    "start_time": "2022-06-22T19:54:18.448Z"
   },
   {
    "duration": 980,
    "start_time": "2022-06-22T19:55:33.049Z"
   },
   {
    "duration": 8,
    "start_time": "2022-06-22T19:55:40.718Z"
   },
   {
    "duration": 8,
    "start_time": "2022-06-22T19:56:20.359Z"
   },
   {
    "duration": 9,
    "start_time": "2022-06-22T19:56:29.049Z"
   },
   {
    "duration": 5,
    "start_time": "2022-06-22T19:59:23.695Z"
   },
   {
    "duration": 6,
    "start_time": "2022-06-22T20:00:18.821Z"
   },
   {
    "duration": 5,
    "start_time": "2022-06-22T20:00:48.461Z"
   },
   {
    "duration": 5,
    "start_time": "2022-06-22T20:01:49.897Z"
   },
   {
    "duration": 5,
    "start_time": "2022-06-22T20:01:53.849Z"
   },
   {
    "duration": 5,
    "start_time": "2022-06-22T20:03:16.588Z"
   },
   {
    "duration": 5,
    "start_time": "2022-06-22T20:03:24.014Z"
   },
   {
    "duration": 8,
    "start_time": "2022-06-22T20:03:45.943Z"
   },
   {
    "duration": 6,
    "start_time": "2022-06-22T20:04:03.398Z"
   },
   {
    "duration": 8,
    "start_time": "2022-06-22T20:05:33.855Z"
   },
   {
    "duration": 932,
    "start_time": "2022-06-22T20:05:45.180Z"
   },
   {
    "duration": 486,
    "start_time": "2022-06-22T20:06:26.012Z"
   },
   {
    "duration": 9,
    "start_time": "2022-06-22T20:06:26.500Z"
   },
   {
    "duration": 46,
    "start_time": "2022-06-22T20:06:26.511Z"
   },
   {
    "duration": 14,
    "start_time": "2022-06-22T20:06:26.559Z"
   },
   {
    "duration": 24,
    "start_time": "2022-06-22T20:06:26.575Z"
   },
   {
    "duration": 7,
    "start_time": "2022-06-22T20:06:26.601Z"
   },
   {
    "duration": 40,
    "start_time": "2022-06-22T20:06:26.609Z"
   },
   {
    "duration": 20,
    "start_time": "2022-06-22T20:06:26.652Z"
   },
   {
    "duration": 14,
    "start_time": "2022-06-22T20:06:26.673Z"
   },
   {
    "duration": 17,
    "start_time": "2022-06-22T20:06:26.689Z"
   },
   {
    "duration": 17,
    "start_time": "2022-06-22T20:06:26.707Z"
   },
   {
    "duration": 43,
    "start_time": "2022-06-22T20:06:26.725Z"
   },
   {
    "duration": 20,
    "start_time": "2022-06-22T20:06:26.769Z"
   },
   {
    "duration": 22,
    "start_time": "2022-06-22T20:06:26.790Z"
   },
   {
    "duration": 26,
    "start_time": "2022-06-22T20:06:26.813Z"
   },
   {
    "duration": 22,
    "start_time": "2022-06-22T20:06:26.840Z"
   },
   {
    "duration": 59,
    "start_time": "2022-06-22T20:06:26.864Z"
   },
   {
    "duration": 48,
    "start_time": "2022-06-22T20:06:26.925Z"
   },
   {
    "duration": 29,
    "start_time": "2022-06-22T20:06:26.975Z"
   },
   {
    "duration": 29,
    "start_time": "2022-06-22T20:06:27.005Z"
   },
   {
    "duration": 35,
    "start_time": "2022-06-22T20:06:27.037Z"
   },
   {
    "duration": 22,
    "start_time": "2022-06-22T20:06:27.073Z"
   },
   {
    "duration": 30,
    "start_time": "2022-06-22T20:06:27.097Z"
   },
   {
    "duration": 12,
    "start_time": "2022-06-22T20:06:27.129Z"
   },
   {
    "duration": 36,
    "start_time": "2022-06-22T20:06:27.143Z"
   },
   {
    "duration": 9,
    "start_time": "2022-06-22T20:06:27.180Z"
   },
   {
    "duration": 26,
    "start_time": "2022-06-22T20:06:27.190Z"
   },
   {
    "duration": 40,
    "start_time": "2022-06-22T20:06:27.221Z"
   },
   {
    "duration": 27,
    "start_time": "2022-06-22T20:06:27.263Z"
   },
   {
    "duration": 50,
    "start_time": "2022-06-22T20:06:27.292Z"
   },
   {
    "duration": 41,
    "start_time": "2022-06-22T20:06:27.345Z"
   },
   {
    "duration": 6,
    "start_time": "2022-06-22T20:06:27.388Z"
   },
   {
    "duration": 23,
    "start_time": "2022-06-22T20:06:27.396Z"
   },
   {
    "duration": 24,
    "start_time": "2022-06-22T20:06:27.420Z"
   },
   {
    "duration": 18,
    "start_time": "2022-06-22T20:06:27.447Z"
   },
   {
    "duration": 18,
    "start_time": "2022-06-22T20:06:27.466Z"
   },
   {
    "duration": 11,
    "start_time": "2022-06-22T20:06:27.485Z"
   },
   {
    "duration": 11,
    "start_time": "2022-06-22T20:06:27.497Z"
   },
   {
    "duration": 20,
    "start_time": "2022-06-22T20:06:27.510Z"
   },
   {
    "duration": 20,
    "start_time": "2022-06-22T20:06:27.532Z"
   },
   {
    "duration": 18,
    "start_time": "2022-06-22T20:06:27.553Z"
   },
   {
    "duration": 11,
    "start_time": "2022-06-22T20:06:27.573Z"
   },
   {
    "duration": 11,
    "start_time": "2022-06-22T20:06:27.586Z"
   },
   {
    "duration": 9,
    "start_time": "2022-06-22T20:06:27.599Z"
   },
   {
    "duration": 33,
    "start_time": "2022-06-22T20:06:27.609Z"
   },
   {
    "duration": 27,
    "start_time": "2022-06-22T20:06:27.643Z"
   },
   {
    "duration": 10,
    "start_time": "2022-06-22T20:06:27.671Z"
   },
   {
    "duration": 15,
    "start_time": "2022-06-22T20:06:27.683Z"
   },
   {
    "duration": 12,
    "start_time": "2022-06-22T20:06:27.699Z"
   },
   {
    "duration": 16,
    "start_time": "2022-06-22T20:06:27.713Z"
   },
   {
    "duration": 38,
    "start_time": "2022-06-22T20:06:27.734Z"
   },
   {
    "duration": 20,
    "start_time": "2022-06-22T20:06:27.774Z"
   },
   {
    "duration": 12,
    "start_time": "2022-06-22T20:06:27.795Z"
   },
   {
    "duration": 49,
    "start_time": "2022-06-22T20:06:27.808Z"
   },
   {
    "duration": 21,
    "start_time": "2022-06-22T20:06:27.859Z"
   },
   {
    "duration": 4,
    "start_time": "2022-06-22T20:06:27.881Z"
   },
   {
    "duration": 32,
    "start_time": "2022-06-22T20:06:27.887Z"
   },
   {
    "duration": 21,
    "start_time": "2022-06-22T20:06:27.921Z"
   },
   {
    "duration": 35,
    "start_time": "2022-06-22T20:06:27.944Z"
   },
   {
    "duration": 138,
    "start_time": "2022-06-22T20:06:27.981Z"
   },
   {
    "duration": 31,
    "start_time": "2022-06-22T20:06:28.120Z"
   },
   {
    "duration": 22,
    "start_time": "2022-06-22T20:06:28.155Z"
   },
   {
    "duration": 4,
    "start_time": "2022-06-22T20:06:28.179Z"
   },
   {
    "duration": 12,
    "start_time": "2022-06-22T20:06:28.184Z"
   },
   {
    "duration": 7,
    "start_time": "2022-06-22T20:06:28.198Z"
   },
   {
    "duration": 11,
    "start_time": "2022-06-22T20:06:28.206Z"
   },
   {
    "duration": 14,
    "start_time": "2022-06-22T20:06:28.219Z"
   },
   {
    "duration": 31,
    "start_time": "2022-06-22T20:06:28.234Z"
   },
   {
    "duration": 10,
    "start_time": "2022-06-22T20:06:28.267Z"
   },
   {
    "duration": 13,
    "start_time": "2022-06-22T20:06:28.278Z"
   },
   {
    "duration": 9,
    "start_time": "2022-06-22T20:06:28.293Z"
   },
   {
    "duration": 5,
    "start_time": "2022-06-22T20:06:28.303Z"
   },
   {
    "duration": 6,
    "start_time": "2022-06-22T20:06:28.310Z"
   },
   {
    "duration": 10,
    "start_time": "2022-06-22T20:06:28.317Z"
   },
   {
    "duration": 28,
    "start_time": "2022-06-22T20:06:28.333Z"
   },
   {
    "duration": 1011,
    "start_time": "2022-06-22T20:06:28.362Z"
   },
   {
    "duration": 9,
    "start_time": "2022-06-22T20:06:43.356Z"
   },
   {
    "duration": 8,
    "start_time": "2022-06-22T20:07:17.345Z"
   },
   {
    "duration": 5,
    "start_time": "2022-06-22T20:07:38.778Z"
   },
   {
    "duration": 10,
    "start_time": "2022-06-22T20:07:48.935Z"
   },
   {
    "duration": 5,
    "start_time": "2022-06-22T20:07:58.156Z"
   },
   {
    "duration": 19,
    "start_time": "2022-06-22T20:15:45.682Z"
   },
   {
    "duration": 19,
    "start_time": "2022-06-22T20:16:07.463Z"
   },
   {
    "duration": 6,
    "start_time": "2022-06-22T20:16:45.867Z"
   },
   {
    "duration": 24,
    "start_time": "2022-06-22T20:17:00.083Z"
   },
   {
    "duration": 8,
    "start_time": "2022-06-22T20:17:20.894Z"
   },
   {
    "duration": 14,
    "start_time": "2022-06-22T20:17:44.246Z"
   },
   {
    "duration": 12,
    "start_time": "2022-06-22T20:17:57.543Z"
   },
   {
    "duration": 8,
    "start_time": "2022-06-22T20:19:20.737Z"
   },
   {
    "duration": 5,
    "start_time": "2022-06-22T20:19:40.392Z"
   },
   {
    "duration": 4,
    "start_time": "2022-06-22T20:20:48.894Z"
   },
   {
    "duration": 4,
    "start_time": "2022-06-22T20:21:08.680Z"
   },
   {
    "duration": 6,
    "start_time": "2022-06-22T20:21:15.993Z"
   },
   {
    "duration": 4,
    "start_time": "2022-06-22T20:21:28.071Z"
   },
   {
    "duration": 5,
    "start_time": "2022-06-22T20:21:38.465Z"
   },
   {
    "duration": 21,
    "start_time": "2022-06-22T20:31:40.548Z"
   },
   {
    "duration": 18,
    "start_time": "2022-06-22T20:31:48.198Z"
   },
   {
    "duration": 31,
    "start_time": "2022-06-22T20:32:00.979Z"
   },
   {
    "duration": 393,
    "start_time": "2022-06-22T20:32:09.983Z"
   },
   {
    "duration": 30,
    "start_time": "2022-06-22T20:32:26.555Z"
   },
   {
    "duration": 37,
    "start_time": "2022-06-22T20:32:30.352Z"
   },
   {
    "duration": 58,
    "start_time": "2022-06-22T20:32:42.615Z"
   },
   {
    "duration": 925,
    "start_time": "2022-06-22T20:38:47.882Z"
   },
   {
    "duration": 914,
    "start_time": "2022-06-22T20:39:34.681Z"
   },
   {
    "duration": 953,
    "start_time": "2022-06-22T20:40:14.412Z"
   },
   {
    "duration": 15,
    "start_time": "2022-06-22T20:40:15.367Z"
   },
   {
    "duration": 26,
    "start_time": "2022-06-22T20:40:15.384Z"
   },
   {
    "duration": 9,
    "start_time": "2022-06-22T20:40:15.412Z"
   },
   {
    "duration": 55,
    "start_time": "2022-06-22T20:40:15.422Z"
   },
   {
    "duration": 7,
    "start_time": "2022-06-22T20:40:15.479Z"
   },
   {
    "duration": 34,
    "start_time": "2022-06-22T20:40:15.488Z"
   },
   {
    "duration": 18,
    "start_time": "2022-06-22T20:40:15.524Z"
   },
   {
    "duration": 31,
    "start_time": "2022-06-22T20:40:15.543Z"
   },
   {
    "duration": 11,
    "start_time": "2022-06-22T20:40:15.578Z"
   },
   {
    "duration": 16,
    "start_time": "2022-06-22T20:40:15.591Z"
   },
   {
    "duration": 8,
    "start_time": "2022-06-22T20:40:15.608Z"
   },
   {
    "duration": 28,
    "start_time": "2022-06-22T20:40:15.618Z"
   },
   {
    "duration": 34,
    "start_time": "2022-06-22T20:40:15.654Z"
   },
   {
    "duration": 19,
    "start_time": "2022-06-22T20:40:15.690Z"
   },
   {
    "duration": 6,
    "start_time": "2022-06-22T20:40:15.711Z"
   },
   {
    "duration": 75,
    "start_time": "2022-06-22T20:40:15.719Z"
   },
   {
    "duration": 42,
    "start_time": "2022-06-22T20:40:15.796Z"
   },
   {
    "duration": 37,
    "start_time": "2022-06-22T20:40:15.843Z"
   },
   {
    "duration": 12,
    "start_time": "2022-06-22T20:40:15.882Z"
   },
   {
    "duration": 29,
    "start_time": "2022-06-22T20:40:15.896Z"
   },
   {
    "duration": 28,
    "start_time": "2022-06-22T20:40:15.934Z"
   },
   {
    "duration": 28,
    "start_time": "2022-06-22T20:40:15.964Z"
   },
   {
    "duration": 8,
    "start_time": "2022-06-22T20:40:15.994Z"
   },
   {
    "duration": 44,
    "start_time": "2022-06-22T20:40:16.003Z"
   },
   {
    "duration": 9,
    "start_time": "2022-06-22T20:40:16.048Z"
   },
   {
    "duration": 17,
    "start_time": "2022-06-22T20:40:16.059Z"
   },
   {
    "duration": 64,
    "start_time": "2022-06-22T20:40:16.080Z"
   },
   {
    "duration": 33,
    "start_time": "2022-06-22T20:40:16.148Z"
   },
   {
    "duration": 24,
    "start_time": "2022-06-22T20:40:16.182Z"
   },
   {
    "duration": 89,
    "start_time": "2022-06-22T20:40:16.208Z"
   },
   {
    "duration": 7,
    "start_time": "2022-06-22T20:40:16.299Z"
   },
   {
    "duration": 38,
    "start_time": "2022-06-22T20:40:16.308Z"
   },
   {
    "duration": 10,
    "start_time": "2022-06-22T20:40:16.348Z"
   },
   {
    "duration": 17,
    "start_time": "2022-06-22T20:40:16.360Z"
   },
   {
    "duration": 37,
    "start_time": "2022-06-22T20:40:16.378Z"
   },
   {
    "duration": 20,
    "start_time": "2022-06-22T20:40:16.417Z"
   },
   {
    "duration": 36,
    "start_time": "2022-06-22T20:40:16.440Z"
   },
   {
    "duration": 15,
    "start_time": "2022-06-22T20:40:16.478Z"
   },
   {
    "duration": 17,
    "start_time": "2022-06-22T20:40:16.494Z"
   },
   {
    "duration": 27,
    "start_time": "2022-06-22T20:40:16.512Z"
   },
   {
    "duration": 33,
    "start_time": "2022-06-22T20:40:16.543Z"
   },
   {
    "duration": 16,
    "start_time": "2022-06-22T20:40:16.578Z"
   },
   {
    "duration": 10,
    "start_time": "2022-06-22T20:40:16.596Z"
   },
   {
    "duration": 17,
    "start_time": "2022-06-22T20:40:16.607Z"
   },
   {
    "duration": 31,
    "start_time": "2022-06-22T20:40:16.625Z"
   },
   {
    "duration": 19,
    "start_time": "2022-06-22T20:40:16.657Z"
   },
   {
    "duration": 18,
    "start_time": "2022-06-22T20:40:16.678Z"
   },
   {
    "duration": 15,
    "start_time": "2022-06-22T20:40:16.698Z"
   },
   {
    "duration": 4,
    "start_time": "2022-06-22T20:40:16.714Z"
   },
   {
    "duration": 21,
    "start_time": "2022-06-22T20:40:16.730Z"
   },
   {
    "duration": 9,
    "start_time": "2022-06-22T20:40:16.753Z"
   },
   {
    "duration": 13,
    "start_time": "2022-06-22T20:40:16.763Z"
   },
   {
    "duration": 15,
    "start_time": "2022-06-22T20:40:16.777Z"
   },
   {
    "duration": 12,
    "start_time": "2022-06-22T20:40:16.793Z"
   },
   {
    "duration": 20,
    "start_time": "2022-06-22T20:40:16.807Z"
   },
   {
    "duration": 36,
    "start_time": "2022-06-22T20:40:16.833Z"
   },
   {
    "duration": 4,
    "start_time": "2022-06-22T20:40:16.871Z"
   },
   {
    "duration": 16,
    "start_time": "2022-06-22T20:40:16.876Z"
   },
   {
    "duration": 18,
    "start_time": "2022-06-22T20:40:16.894Z"
   },
   {
    "duration": 28,
    "start_time": "2022-06-22T20:40:16.914Z"
   },
   {
    "duration": 30,
    "start_time": "2022-06-22T20:40:16.943Z"
   },
   {
    "duration": 35,
    "start_time": "2022-06-22T20:40:16.975Z"
   },
   {
    "duration": 360,
    "start_time": "2022-06-22T20:40:17.011Z"
   },
   {
    "duration": 37,
    "start_time": "2022-06-22T20:40:17.373Z"
   },
   {
    "duration": 49,
    "start_time": "2022-06-22T20:40:17.412Z"
   },
   {
    "duration": 932,
    "start_time": "2022-06-22T20:40:17.463Z"
   },
   {
    "duration": 0,
    "start_time": "2022-06-22T20:40:18.397Z"
   },
   {
    "duration": 0,
    "start_time": "2022-06-22T20:40:18.398Z"
   },
   {
    "duration": 0,
    "start_time": "2022-06-22T20:40:18.400Z"
   },
   {
    "duration": 0,
    "start_time": "2022-06-22T20:40:18.401Z"
   },
   {
    "duration": 0,
    "start_time": "2022-06-22T20:40:18.402Z"
   },
   {
    "duration": 0,
    "start_time": "2022-06-22T20:40:18.403Z"
   },
   {
    "duration": 0,
    "start_time": "2022-06-22T20:40:18.404Z"
   },
   {
    "duration": 0,
    "start_time": "2022-06-22T20:40:18.405Z"
   },
   {
    "duration": 0,
    "start_time": "2022-06-22T20:40:18.406Z"
   },
   {
    "duration": 0,
    "start_time": "2022-06-22T20:40:18.407Z"
   },
   {
    "duration": 0,
    "start_time": "2022-06-22T20:40:18.408Z"
   },
   {
    "duration": 0,
    "start_time": "2022-06-22T20:40:18.409Z"
   },
   {
    "duration": 0,
    "start_time": "2022-06-22T20:40:18.410Z"
   },
   {
    "duration": 0,
    "start_time": "2022-06-22T20:40:18.412Z"
   },
   {
    "duration": 0,
    "start_time": "2022-06-22T20:40:18.413Z"
   },
   {
    "duration": 0,
    "start_time": "2022-06-22T20:40:18.414Z"
   },
   {
    "duration": 0,
    "start_time": "2022-06-22T20:40:18.414Z"
   },
   {
    "duration": 0,
    "start_time": "2022-06-22T20:40:18.415Z"
   },
   {
    "duration": 0,
    "start_time": "2022-06-22T20:40:18.416Z"
   },
   {
    "duration": 0,
    "start_time": "2022-06-22T20:40:18.417Z"
   },
   {
    "duration": 10,
    "start_time": "2022-06-22T20:40:32.723Z"
   },
   {
    "duration": 4,
    "start_time": "2022-06-22T20:40:35.410Z"
   },
   {
    "duration": 5,
    "start_time": "2022-06-22T20:40:37.863Z"
   },
   {
    "duration": 840,
    "start_time": "2022-06-22T20:40:53.042Z"
   },
   {
    "duration": 866,
    "start_time": "2022-06-22T20:41:23.351Z"
   },
   {
    "duration": 981,
    "start_time": "2022-06-22T20:42:28.699Z"
   },
   {
    "duration": 16,
    "start_time": "2022-06-22T20:42:29.682Z"
   },
   {
    "duration": 26,
    "start_time": "2022-06-22T20:42:29.699Z"
   },
   {
    "duration": 32,
    "start_time": "2022-06-22T20:42:29.730Z"
   },
   {
    "duration": 34,
    "start_time": "2022-06-22T20:42:29.764Z"
   },
   {
    "duration": 7,
    "start_time": "2022-06-22T20:42:29.800Z"
   },
   {
    "duration": 41,
    "start_time": "2022-06-22T20:42:29.809Z"
   },
   {
    "duration": 10,
    "start_time": "2022-06-22T20:42:29.852Z"
   },
   {
    "duration": 13,
    "start_time": "2022-06-22T20:42:29.864Z"
   },
   {
    "duration": 10,
    "start_time": "2022-06-22T20:42:29.881Z"
   },
   {
    "duration": 12,
    "start_time": "2022-06-22T20:42:29.892Z"
   },
   {
    "duration": 7,
    "start_time": "2022-06-22T20:42:29.906Z"
   },
   {
    "duration": 34,
    "start_time": "2022-06-22T20:42:29.931Z"
   },
   {
    "duration": 21,
    "start_time": "2022-06-22T20:42:29.967Z"
   },
   {
    "duration": 23,
    "start_time": "2022-06-22T20:42:29.989Z"
   },
   {
    "duration": 15,
    "start_time": "2022-06-22T20:42:30.013Z"
   },
   {
    "duration": 78,
    "start_time": "2022-06-22T20:42:30.039Z"
   },
   {
    "duration": 53,
    "start_time": "2022-06-22T20:42:30.119Z"
   },
   {
    "duration": 39,
    "start_time": "2022-06-22T20:42:30.173Z"
   },
   {
    "duration": 28,
    "start_time": "2022-06-22T20:42:30.214Z"
   },
   {
    "duration": 44,
    "start_time": "2022-06-22T20:42:30.247Z"
   },
   {
    "duration": 27,
    "start_time": "2022-06-22T20:42:30.293Z"
   },
   {
    "duration": 38,
    "start_time": "2022-06-22T20:42:30.322Z"
   },
   {
    "duration": 11,
    "start_time": "2022-06-22T20:42:30.362Z"
   },
   {
    "duration": 35,
    "start_time": "2022-06-22T20:42:30.375Z"
   },
   {
    "duration": 28,
    "start_time": "2022-06-22T20:42:30.412Z"
   },
   {
    "duration": 30,
    "start_time": "2022-06-22T20:42:30.442Z"
   },
   {
    "duration": 40,
    "start_time": "2022-06-22T20:42:30.476Z"
   },
   {
    "duration": 41,
    "start_time": "2022-06-22T20:42:30.517Z"
   },
   {
    "duration": 30,
    "start_time": "2022-06-22T20:42:30.559Z"
   },
   {
    "duration": 99,
    "start_time": "2022-06-22T20:42:30.591Z"
   },
   {
    "duration": 9,
    "start_time": "2022-06-22T20:42:30.692Z"
   },
   {
    "duration": 33,
    "start_time": "2022-06-22T20:42:30.702Z"
   },
   {
    "duration": 28,
    "start_time": "2022-06-22T20:42:30.737Z"
   },
   {
    "duration": 19,
    "start_time": "2022-06-22T20:42:30.767Z"
   },
   {
    "duration": 23,
    "start_time": "2022-06-22T20:42:30.787Z"
   },
   {
    "duration": 23,
    "start_time": "2022-06-22T20:42:30.811Z"
   },
   {
    "duration": 35,
    "start_time": "2022-06-22T20:42:30.840Z"
   },
   {
    "duration": 29,
    "start_time": "2022-06-22T20:42:30.877Z"
   },
   {
    "duration": 46,
    "start_time": "2022-06-22T20:42:30.908Z"
   },
   {
    "duration": 23,
    "start_time": "2022-06-22T20:42:30.957Z"
   },
   {
    "duration": 42,
    "start_time": "2022-06-22T20:42:30.982Z"
   },
   {
    "duration": 62,
    "start_time": "2022-06-22T20:42:31.026Z"
   },
   {
    "duration": 63,
    "start_time": "2022-06-22T20:42:31.090Z"
   },
   {
    "duration": 124,
    "start_time": "2022-06-22T20:42:31.155Z"
   },
   {
    "duration": 34,
    "start_time": "2022-06-22T20:42:31.281Z"
   },
   {
    "duration": 64,
    "start_time": "2022-06-22T20:42:31.317Z"
   },
   {
    "duration": 47,
    "start_time": "2022-06-22T20:42:31.383Z"
   },
   {
    "duration": 50,
    "start_time": "2022-06-22T20:42:31.432Z"
   },
   {
    "duration": 32,
    "start_time": "2022-06-22T20:42:31.483Z"
   },
   {
    "duration": 40,
    "start_time": "2022-06-22T20:42:31.517Z"
   },
   {
    "duration": 25,
    "start_time": "2022-06-22T20:42:31.558Z"
   },
   {
    "duration": 24,
    "start_time": "2022-06-22T20:42:31.585Z"
   },
   {
    "duration": 54,
    "start_time": "2022-06-22T20:42:31.610Z"
   },
   {
    "duration": 15,
    "start_time": "2022-06-22T20:42:31.665Z"
   },
   {
    "duration": 23,
    "start_time": "2022-06-22T20:42:31.682Z"
   },
   {
    "duration": 12,
    "start_time": "2022-06-22T20:42:31.707Z"
   },
   {
    "duration": 40,
    "start_time": "2022-06-22T20:42:31.720Z"
   },
   {
    "duration": 11,
    "start_time": "2022-06-22T20:42:31.762Z"
   },
   {
    "duration": 12,
    "start_time": "2022-06-22T20:42:31.774Z"
   },
   {
    "duration": 23,
    "start_time": "2022-06-22T20:42:31.787Z"
   },
   {
    "duration": 36,
    "start_time": "2022-06-22T20:42:31.811Z"
   },
   {
    "duration": 37,
    "start_time": "2022-06-22T20:42:31.853Z"
   },
   {
    "duration": 381,
    "start_time": "2022-06-22T20:42:31.892Z"
   },
   {
    "duration": 40,
    "start_time": "2022-06-22T20:42:32.275Z"
   },
   {
    "duration": 52,
    "start_time": "2022-06-22T20:42:32.317Z"
   },
   {
    "duration": 4,
    "start_time": "2022-06-22T20:42:32.371Z"
   },
   {
    "duration": 25,
    "start_time": "2022-06-22T20:42:32.377Z"
   },
   {
    "duration": 17,
    "start_time": "2022-06-22T20:42:32.404Z"
   },
   {
    "duration": 42,
    "start_time": "2022-06-22T20:42:32.423Z"
   },
   {
    "duration": 15,
    "start_time": "2022-06-22T20:42:32.466Z"
   },
   {
    "duration": 14,
    "start_time": "2022-06-22T20:42:32.483Z"
   },
   {
    "duration": 12,
    "start_time": "2022-06-22T20:42:32.499Z"
   },
   {
    "duration": 18,
    "start_time": "2022-06-22T20:42:32.513Z"
   },
   {
    "duration": 19,
    "start_time": "2022-06-22T20:42:32.538Z"
   },
   {
    "duration": 8,
    "start_time": "2022-06-22T20:42:32.560Z"
   },
   {
    "duration": 6,
    "start_time": "2022-06-22T20:42:32.570Z"
   },
   {
    "duration": 8,
    "start_time": "2022-06-22T20:42:32.578Z"
   },
   {
    "duration": 10,
    "start_time": "2022-06-22T20:42:32.587Z"
   },
   {
    "duration": 10,
    "start_time": "2022-06-22T20:42:32.598Z"
   },
   {
    "duration": 35,
    "start_time": "2022-06-22T20:42:32.609Z"
   },
   {
    "duration": 8,
    "start_time": "2022-06-22T20:42:32.654Z"
   },
   {
    "duration": 8,
    "start_time": "2022-06-22T20:42:32.664Z"
   },
   {
    "duration": 8,
    "start_time": "2022-06-22T20:42:32.674Z"
   },
   {
    "duration": 6,
    "start_time": "2022-06-22T20:42:32.684Z"
   },
   {
    "duration": 6,
    "start_time": "2022-06-22T20:42:32.692Z"
   },
   {
    "duration": 441,
    "start_time": "2022-06-22T20:48:04.949Z"
   },
   {
    "duration": 14,
    "start_time": "2022-06-22T20:51:26.735Z"
   },
   {
    "duration": 109,
    "start_time": "2022-06-22T20:52:14.057Z"
   },
   {
    "duration": 30,
    "start_time": "2022-06-22T20:52:45.437Z"
   },
   {
    "duration": 44,
    "start_time": "2022-06-22T20:52:53.649Z"
   },
   {
    "duration": 20,
    "start_time": "2022-06-22T20:53:44.736Z"
   },
   {
    "duration": 6,
    "start_time": "2022-06-22T20:54:39.177Z"
   },
   {
    "duration": 10,
    "start_time": "2022-06-22T20:54:50.214Z"
   },
   {
    "duration": 14,
    "start_time": "2022-06-22T20:54:57.979Z"
   },
   {
    "duration": 19,
    "start_time": "2022-06-22T20:56:11.253Z"
   },
   {
    "duration": 11,
    "start_time": "2022-06-22T20:56:45.501Z"
   },
   {
    "duration": 17,
    "start_time": "2022-06-22T20:57:09.970Z"
   },
   {
    "duration": 16,
    "start_time": "2022-06-22T20:57:21.096Z"
   },
   {
    "duration": 9,
    "start_time": "2022-06-22T20:59:01.188Z"
   },
   {
    "duration": 9,
    "start_time": "2022-06-22T20:59:23.354Z"
   },
   {
    "duration": 17,
    "start_time": "2022-06-22T21:00:09.761Z"
   },
   {
    "duration": 14,
    "start_time": "2022-06-22T21:00:54.985Z"
   },
   {
    "duration": 55,
    "start_time": "2022-06-22T21:01:29.363Z"
   },
   {
    "duration": 31,
    "start_time": "2022-06-22T21:01:40.674Z"
   },
   {
    "duration": 42,
    "start_time": "2022-06-22T21:02:41.971Z"
   },
   {
    "duration": 19,
    "start_time": "2022-06-22T21:03:54.254Z"
   },
   {
    "duration": 50,
    "start_time": "2022-06-22T21:04:18.697Z"
   },
   {
    "duration": 21,
    "start_time": "2022-06-22T21:05:14.049Z"
   },
   {
    "duration": 19,
    "start_time": "2022-06-22T21:05:40.871Z"
   },
   {
    "duration": 38,
    "start_time": "2022-06-22T21:05:45.609Z"
   },
   {
    "duration": 7,
    "start_time": "2022-06-22T21:07:10.649Z"
   },
   {
    "duration": 1941,
    "start_time": "2022-06-23T09:20:24.450Z"
   },
   {
    "duration": 86,
    "start_time": "2022-06-23T09:22:21.540Z"
   },
   {
    "duration": 1196,
    "start_time": "2022-06-23T09:22:39.172Z"
   },
   {
    "duration": 14,
    "start_time": "2022-06-23T09:22:40.370Z"
   },
   {
    "duration": 24,
    "start_time": "2022-06-23T09:22:40.385Z"
   },
   {
    "duration": 8,
    "start_time": "2022-06-23T09:22:40.411Z"
   },
   {
    "duration": 21,
    "start_time": "2022-06-23T09:22:40.421Z"
   },
   {
    "duration": 18,
    "start_time": "2022-06-23T09:22:40.444Z"
   },
   {
    "duration": 21,
    "start_time": "2022-06-23T09:22:40.464Z"
   },
   {
    "duration": 7,
    "start_time": "2022-06-23T09:22:40.486Z"
   },
   {
    "duration": 11,
    "start_time": "2022-06-23T09:22:40.495Z"
   },
   {
    "duration": 10,
    "start_time": "2022-06-23T09:22:40.508Z"
   },
   {
    "duration": 11,
    "start_time": "2022-06-23T09:22:40.519Z"
   },
   {
    "duration": 28,
    "start_time": "2022-06-23T09:22:40.532Z"
   },
   {
    "duration": 16,
    "start_time": "2022-06-23T09:22:40.561Z"
   },
   {
    "duration": 15,
    "start_time": "2022-06-23T09:22:40.579Z"
   },
   {
    "duration": 19,
    "start_time": "2022-06-23T09:22:40.596Z"
   },
   {
    "duration": 5,
    "start_time": "2022-06-23T09:22:40.616Z"
   },
   {
    "duration": 74,
    "start_time": "2022-06-23T09:22:40.623Z"
   },
   {
    "duration": 36,
    "start_time": "2022-06-23T09:22:40.699Z"
   },
   {
    "duration": 47,
    "start_time": "2022-06-23T09:22:40.737Z"
   },
   {
    "duration": 13,
    "start_time": "2022-06-23T09:22:40.785Z"
   },
   {
    "duration": 23,
    "start_time": "2022-06-23T09:22:40.800Z"
   },
   {
    "duration": 44,
    "start_time": "2022-06-23T09:22:40.825Z"
   },
   {
    "duration": 28,
    "start_time": "2022-06-23T09:22:40.871Z"
   },
   {
    "duration": 9,
    "start_time": "2022-06-23T09:22:40.900Z"
   },
   {
    "duration": 22,
    "start_time": "2022-06-23T09:22:40.910Z"
   },
   {
    "duration": 27,
    "start_time": "2022-06-23T09:22:40.934Z"
   },
   {
    "duration": 16,
    "start_time": "2022-06-23T09:22:40.963Z"
   },
   {
    "duration": 34,
    "start_time": "2022-06-23T09:22:40.985Z"
   },
   {
    "duration": 51,
    "start_time": "2022-06-23T09:22:41.021Z"
   },
   {
    "duration": 90,
    "start_time": "2022-06-23T09:22:41.074Z"
   },
   {
    "duration": 0,
    "start_time": "2022-06-23T09:22:41.165Z"
   },
   {
    "duration": 0,
    "start_time": "2022-06-23T09:22:41.166Z"
   },
   {
    "duration": 0,
    "start_time": "2022-06-23T09:22:41.167Z"
   },
   {
    "duration": 0,
    "start_time": "2022-06-23T09:22:41.168Z"
   },
   {
    "duration": 0,
    "start_time": "2022-06-23T09:22:41.169Z"
   },
   {
    "duration": 0,
    "start_time": "2022-06-23T09:22:41.170Z"
   },
   {
    "duration": 0,
    "start_time": "2022-06-23T09:22:41.171Z"
   },
   {
    "duration": 0,
    "start_time": "2022-06-23T09:22:41.172Z"
   },
   {
    "duration": 0,
    "start_time": "2022-06-23T09:22:41.173Z"
   },
   {
    "duration": 0,
    "start_time": "2022-06-23T09:22:41.174Z"
   },
   {
    "duration": 0,
    "start_time": "2022-06-23T09:22:41.175Z"
   },
   {
    "duration": 0,
    "start_time": "2022-06-23T09:22:41.176Z"
   },
   {
    "duration": 0,
    "start_time": "2022-06-23T09:22:41.176Z"
   },
   {
    "duration": 0,
    "start_time": "2022-06-23T09:22:41.177Z"
   },
   {
    "duration": 0,
    "start_time": "2022-06-23T09:22:41.178Z"
   },
   {
    "duration": 0,
    "start_time": "2022-06-23T09:22:41.181Z"
   },
   {
    "duration": 0,
    "start_time": "2022-06-23T09:22:41.181Z"
   },
   {
    "duration": 0,
    "start_time": "2022-06-23T09:22:41.182Z"
   },
   {
    "duration": 0,
    "start_time": "2022-06-23T09:22:41.184Z"
   },
   {
    "duration": 0,
    "start_time": "2022-06-23T09:22:41.185Z"
   },
   {
    "duration": 0,
    "start_time": "2022-06-23T09:22:41.185Z"
   },
   {
    "duration": 0,
    "start_time": "2022-06-23T09:22:41.187Z"
   },
   {
    "duration": 0,
    "start_time": "2022-06-23T09:22:41.188Z"
   },
   {
    "duration": 0,
    "start_time": "2022-06-23T09:22:41.189Z"
   },
   {
    "duration": 0,
    "start_time": "2022-06-23T09:22:41.190Z"
   },
   {
    "duration": 0,
    "start_time": "2022-06-23T09:22:41.191Z"
   },
   {
    "duration": 0,
    "start_time": "2022-06-23T09:22:41.192Z"
   },
   {
    "duration": 0,
    "start_time": "2022-06-23T09:22:41.193Z"
   },
   {
    "duration": 0,
    "start_time": "2022-06-23T09:22:41.194Z"
   },
   {
    "duration": 0,
    "start_time": "2022-06-23T09:22:41.195Z"
   },
   {
    "duration": 0,
    "start_time": "2022-06-23T09:22:41.196Z"
   },
   {
    "duration": 0,
    "start_time": "2022-06-23T09:22:41.197Z"
   },
   {
    "duration": 0,
    "start_time": "2022-06-23T09:22:41.198Z"
   },
   {
    "duration": 0,
    "start_time": "2022-06-23T09:22:41.199Z"
   },
   {
    "duration": 0,
    "start_time": "2022-06-23T09:22:41.200Z"
   },
   {
    "duration": 0,
    "start_time": "2022-06-23T09:22:41.201Z"
   },
   {
    "duration": 0,
    "start_time": "2022-06-23T09:22:41.202Z"
   },
   {
    "duration": 0,
    "start_time": "2022-06-23T09:22:41.202Z"
   },
   {
    "duration": 0,
    "start_time": "2022-06-23T09:22:41.259Z"
   },
   {
    "duration": 0,
    "start_time": "2022-06-23T09:22:41.260Z"
   },
   {
    "duration": 0,
    "start_time": "2022-06-23T09:22:41.261Z"
   },
   {
    "duration": 0,
    "start_time": "2022-06-23T09:22:41.262Z"
   },
   {
    "duration": 0,
    "start_time": "2022-06-23T09:22:41.263Z"
   },
   {
    "duration": 0,
    "start_time": "2022-06-23T09:22:41.264Z"
   },
   {
    "duration": 0,
    "start_time": "2022-06-23T09:22:41.265Z"
   },
   {
    "duration": 0,
    "start_time": "2022-06-23T09:22:41.266Z"
   },
   {
    "duration": 0,
    "start_time": "2022-06-23T09:22:41.267Z"
   },
   {
    "duration": 0,
    "start_time": "2022-06-23T09:22:41.268Z"
   },
   {
    "duration": 0,
    "start_time": "2022-06-23T09:22:41.269Z"
   },
   {
    "duration": 0,
    "start_time": "2022-06-23T09:22:41.270Z"
   },
   {
    "duration": 0,
    "start_time": "2022-06-23T09:22:41.271Z"
   },
   {
    "duration": 0,
    "start_time": "2022-06-23T09:22:41.272Z"
   },
   {
    "duration": 0,
    "start_time": "2022-06-23T09:22:41.273Z"
   },
   {
    "duration": 0,
    "start_time": "2022-06-23T09:22:41.274Z"
   },
   {
    "duration": 0,
    "start_time": "2022-06-23T09:22:41.275Z"
   },
   {
    "duration": 0,
    "start_time": "2022-06-23T09:22:41.276Z"
   },
   {
    "duration": 0,
    "start_time": "2022-06-23T09:22:41.277Z"
   },
   {
    "duration": 22,
    "start_time": "2022-06-23T09:23:36.300Z"
   },
   {
    "duration": 26,
    "start_time": "2022-06-23T09:24:16.224Z"
   },
   {
    "duration": 8,
    "start_time": "2022-06-23T09:24:31.569Z"
   },
   {
    "duration": 18,
    "start_time": "2022-06-23T09:24:36.185Z"
   },
   {
    "duration": 16,
    "start_time": "2022-06-23T09:24:41.769Z"
   },
   {
    "duration": 418,
    "start_time": "2022-06-23T09:24:51.069Z"
   },
   {
    "duration": 7,
    "start_time": "2022-06-23T09:24:51.489Z"
   },
   {
    "duration": 29,
    "start_time": "2022-06-23T09:24:51.498Z"
   },
   {
    "duration": 8,
    "start_time": "2022-06-23T09:24:51.529Z"
   },
   {
    "duration": 24,
    "start_time": "2022-06-23T09:24:51.538Z"
   },
   {
    "duration": 6,
    "start_time": "2022-06-23T09:24:51.564Z"
   },
   {
    "duration": 25,
    "start_time": "2022-06-23T09:24:51.571Z"
   },
   {
    "duration": 8,
    "start_time": "2022-06-23T09:24:51.597Z"
   },
   {
    "duration": 18,
    "start_time": "2022-06-23T09:24:51.606Z"
   },
   {
    "duration": 16,
    "start_time": "2022-06-23T09:24:51.627Z"
   },
   {
    "duration": 11,
    "start_time": "2022-06-23T09:24:51.658Z"
   },
   {
    "duration": 16,
    "start_time": "2022-06-23T09:24:51.671Z"
   },
   {
    "duration": 18,
    "start_time": "2022-06-23T09:24:51.688Z"
   },
   {
    "duration": 26,
    "start_time": "2022-06-23T09:24:51.707Z"
   },
   {
    "duration": 31,
    "start_time": "2022-06-23T09:24:51.735Z"
   },
   {
    "duration": 7,
    "start_time": "2022-06-23T09:24:51.768Z"
   },
   {
    "duration": 45,
    "start_time": "2022-06-23T09:24:51.777Z"
   },
   {
    "duration": 51,
    "start_time": "2022-06-23T09:24:51.823Z"
   },
   {
    "duration": 29,
    "start_time": "2022-06-23T09:24:51.875Z"
   },
   {
    "duration": 12,
    "start_time": "2022-06-23T09:24:51.906Z"
   },
   {
    "duration": 42,
    "start_time": "2022-06-23T09:24:51.920Z"
   },
   {
    "duration": 23,
    "start_time": "2022-06-23T09:24:51.963Z"
   },
   {
    "duration": 28,
    "start_time": "2022-06-23T09:24:51.988Z"
   },
   {
    "duration": 8,
    "start_time": "2022-06-23T09:24:52.018Z"
   },
   {
    "duration": 40,
    "start_time": "2022-06-23T09:24:52.028Z"
   },
   {
    "duration": 7,
    "start_time": "2022-06-23T09:24:52.070Z"
   },
   {
    "duration": 14,
    "start_time": "2022-06-23T09:24:52.079Z"
   },
   {
    "duration": 33,
    "start_time": "2022-06-23T09:24:52.098Z"
   },
   {
    "duration": 52,
    "start_time": "2022-06-23T09:24:52.132Z"
   },
   {
    "duration": 11,
    "start_time": "2022-06-23T09:24:52.186Z"
   },
   {
    "duration": 0,
    "start_time": "2022-06-23T09:24:52.199Z"
   },
   {
    "duration": 0,
    "start_time": "2022-06-23T09:24:52.200Z"
   },
   {
    "duration": 0,
    "start_time": "2022-06-23T09:24:52.201Z"
   },
   {
    "duration": 0,
    "start_time": "2022-06-23T09:24:52.203Z"
   },
   {
    "duration": 0,
    "start_time": "2022-06-23T09:24:52.205Z"
   },
   {
    "duration": 0,
    "start_time": "2022-06-23T09:24:52.207Z"
   },
   {
    "duration": 0,
    "start_time": "2022-06-23T09:24:52.208Z"
   },
   {
    "duration": 0,
    "start_time": "2022-06-23T09:24:52.210Z"
   },
   {
    "duration": 0,
    "start_time": "2022-06-23T09:24:52.211Z"
   },
   {
    "duration": 0,
    "start_time": "2022-06-23T09:24:52.212Z"
   },
   {
    "duration": 0,
    "start_time": "2022-06-23T09:24:52.214Z"
   },
   {
    "duration": 0,
    "start_time": "2022-06-23T09:24:52.215Z"
   },
   {
    "duration": 0,
    "start_time": "2022-06-23T09:24:52.259Z"
   },
   {
    "duration": 0,
    "start_time": "2022-06-23T09:24:52.261Z"
   },
   {
    "duration": 0,
    "start_time": "2022-06-23T09:24:52.262Z"
   },
   {
    "duration": 0,
    "start_time": "2022-06-23T09:24:52.264Z"
   },
   {
    "duration": 0,
    "start_time": "2022-06-23T09:24:52.266Z"
   },
   {
    "duration": 0,
    "start_time": "2022-06-23T09:24:52.267Z"
   },
   {
    "duration": 0,
    "start_time": "2022-06-23T09:24:52.268Z"
   },
   {
    "duration": 0,
    "start_time": "2022-06-23T09:24:52.270Z"
   },
   {
    "duration": 0,
    "start_time": "2022-06-23T09:24:52.272Z"
   },
   {
    "duration": 0,
    "start_time": "2022-06-23T09:24:52.273Z"
   },
   {
    "duration": 0,
    "start_time": "2022-06-23T09:24:52.275Z"
   },
   {
    "duration": 0,
    "start_time": "2022-06-23T09:24:52.276Z"
   },
   {
    "duration": 0,
    "start_time": "2022-06-23T09:24:52.277Z"
   },
   {
    "duration": 0,
    "start_time": "2022-06-23T09:24:52.279Z"
   },
   {
    "duration": 0,
    "start_time": "2022-06-23T09:24:52.280Z"
   },
   {
    "duration": 0,
    "start_time": "2022-06-23T09:24:52.282Z"
   },
   {
    "duration": 0,
    "start_time": "2022-06-23T09:24:52.284Z"
   },
   {
    "duration": 0,
    "start_time": "2022-06-23T09:24:52.286Z"
   },
   {
    "duration": 0,
    "start_time": "2022-06-23T09:24:52.288Z"
   },
   {
    "duration": 0,
    "start_time": "2022-06-23T09:24:52.289Z"
   },
   {
    "duration": 0,
    "start_time": "2022-06-23T09:24:52.290Z"
   },
   {
    "duration": 0,
    "start_time": "2022-06-23T09:24:52.291Z"
   },
   {
    "duration": 0,
    "start_time": "2022-06-23T09:24:52.292Z"
   },
   {
    "duration": 0,
    "start_time": "2022-06-23T09:24:52.293Z"
   },
   {
    "duration": 0,
    "start_time": "2022-06-23T09:24:52.294Z"
   },
   {
    "duration": 0,
    "start_time": "2022-06-23T09:24:52.295Z"
   },
   {
    "duration": 0,
    "start_time": "2022-06-23T09:24:52.296Z"
   },
   {
    "duration": 0,
    "start_time": "2022-06-23T09:24:52.296Z"
   },
   {
    "duration": 0,
    "start_time": "2022-06-23T09:24:52.297Z"
   },
   {
    "duration": 0,
    "start_time": "2022-06-23T09:24:52.299Z"
   },
   {
    "duration": 0,
    "start_time": "2022-06-23T09:24:52.361Z"
   },
   {
    "duration": 0,
    "start_time": "2022-06-23T09:24:52.363Z"
   },
   {
    "duration": 0,
    "start_time": "2022-06-23T09:24:52.364Z"
   },
   {
    "duration": 0,
    "start_time": "2022-06-23T09:24:52.367Z"
   },
   {
    "duration": 0,
    "start_time": "2022-06-23T09:24:52.368Z"
   },
   {
    "duration": 0,
    "start_time": "2022-06-23T09:24:52.369Z"
   },
   {
    "duration": 0,
    "start_time": "2022-06-23T09:24:52.370Z"
   },
   {
    "duration": 0,
    "start_time": "2022-06-23T09:24:52.371Z"
   },
   {
    "duration": 0,
    "start_time": "2022-06-23T09:24:52.372Z"
   },
   {
    "duration": 0,
    "start_time": "2022-06-23T09:24:52.373Z"
   },
   {
    "duration": 0,
    "start_time": "2022-06-23T09:24:52.375Z"
   },
   {
    "duration": 0,
    "start_time": "2022-06-23T09:24:52.377Z"
   },
   {
    "duration": 0,
    "start_time": "2022-06-23T09:24:52.378Z"
   },
   {
    "duration": 0,
    "start_time": "2022-06-23T09:24:52.380Z"
   },
   {
    "duration": 0,
    "start_time": "2022-06-23T09:24:52.381Z"
   },
   {
    "duration": 31,
    "start_time": "2022-06-23T09:26:06.946Z"
   },
   {
    "duration": 31,
    "start_time": "2022-06-23T09:26:17.087Z"
   },
   {
    "duration": 30,
    "start_time": "2022-06-23T09:26:33.754Z"
   },
   {
    "duration": 31,
    "start_time": "2022-06-23T09:27:19.219Z"
   },
   {
    "duration": 29,
    "start_time": "2022-06-23T09:27:55.549Z"
   },
   {
    "duration": 28,
    "start_time": "2022-06-23T09:28:59.447Z"
   },
   {
    "duration": 24,
    "start_time": "2022-06-23T09:29:42.868Z"
   },
   {
    "duration": 23,
    "start_time": "2022-06-23T09:30:36.608Z"
   },
   {
    "duration": 23,
    "start_time": "2022-06-23T09:31:03.285Z"
   },
   {
    "duration": 11,
    "start_time": "2022-06-23T09:31:41.061Z"
   },
   {
    "duration": 1071,
    "start_time": "2022-06-23T09:31:49.117Z"
   },
   {
    "duration": 43,
    "start_time": "2022-06-23T09:32:53.863Z"
   },
   {
    "duration": 10,
    "start_time": "2022-06-23T09:33:39.391Z"
   },
   {
    "duration": 27,
    "start_time": "2022-06-23T09:33:55.244Z"
   },
   {
    "duration": 19,
    "start_time": "2022-06-23T09:34:09.535Z"
   },
   {
    "duration": 8,
    "start_time": "2022-06-23T09:34:31.605Z"
   },
   {
    "duration": 20,
    "start_time": "2022-06-23T09:35:38.945Z"
   },
   {
    "duration": 14,
    "start_time": "2022-06-23T09:36:15.722Z"
   },
   {
    "duration": 15,
    "start_time": "2022-06-23T09:36:30.189Z"
   },
   {
    "duration": 23,
    "start_time": "2022-06-23T09:38:10.909Z"
   },
   {
    "duration": 15,
    "start_time": "2022-06-23T09:38:35.514Z"
   },
   {
    "duration": 21,
    "start_time": "2022-06-23T09:38:45.795Z"
   },
   {
    "duration": 16,
    "start_time": "2022-06-23T09:40:29.093Z"
   },
   {
    "duration": 54,
    "start_time": "2022-06-23T09:40:37.493Z"
   },
   {
    "duration": 51,
    "start_time": "2022-06-23T09:40:54.183Z"
   },
   {
    "duration": 21,
    "start_time": "2022-06-23T09:41:44.625Z"
   },
   {
    "duration": 21,
    "start_time": "2022-06-23T09:41:54.536Z"
   },
   {
    "duration": 23,
    "start_time": "2022-06-23T09:41:58.374Z"
   },
   {
    "duration": 4,
    "start_time": "2022-06-23T09:42:06.417Z"
   },
   {
    "duration": 28,
    "start_time": "2022-06-23T09:42:12.442Z"
   },
   {
    "duration": 53,
    "start_time": "2022-06-23T09:42:24.793Z"
   },
   {
    "duration": 27,
    "start_time": "2022-06-23T09:42:44.106Z"
   },
   {
    "duration": 16,
    "start_time": "2022-06-23T09:43:12.176Z"
   },
   {
    "duration": 12,
    "start_time": "2022-06-23T09:45:58.024Z"
   },
   {
    "duration": 20,
    "start_time": "2022-06-23T09:46:15.424Z"
   },
   {
    "duration": 24,
    "start_time": "2022-06-23T09:46:45.600Z"
   },
   {
    "duration": 28,
    "start_time": "2022-06-23T09:47:40.519Z"
   },
   {
    "duration": 4,
    "start_time": "2022-06-23T09:48:21.131Z"
   },
   {
    "duration": 8,
    "start_time": "2022-06-23T09:49:40.119Z"
   },
   {
    "duration": 6,
    "start_time": "2022-06-23T09:49:46.604Z"
   },
   {
    "duration": 8,
    "start_time": "2022-06-23T09:49:50.273Z"
   },
   {
    "duration": 8,
    "start_time": "2022-06-23T09:49:53.968Z"
   },
   {
    "duration": 74,
    "start_time": "2022-06-23T09:51:13.133Z"
   },
   {
    "duration": 47,
    "start_time": "2022-06-23T09:51:17.780Z"
   },
   {
    "duration": 25,
    "start_time": "2022-06-23T09:52:26.986Z"
   },
   {
    "duration": 28,
    "start_time": "2022-06-23T09:52:47.219Z"
   },
   {
    "duration": 246,
    "start_time": "2022-06-23T09:52:59.115Z"
   },
   {
    "duration": 35,
    "start_time": "2022-06-23T09:53:09.916Z"
   },
   {
    "duration": 9,
    "start_time": "2022-06-23T09:54:36.617Z"
   },
   {
    "duration": 434,
    "start_time": "2022-06-23T09:54:51.800Z"
   },
   {
    "duration": 58,
    "start_time": "2022-06-23T10:02:21.723Z"
   },
   {
    "duration": 83,
    "start_time": "2022-06-23T10:02:27.945Z"
   },
   {
    "duration": 105,
    "start_time": "2022-06-23T10:13:23.204Z"
   },
   {
    "duration": 56,
    "start_time": "2022-06-23T10:13:33.380Z"
   },
   {
    "duration": 126,
    "start_time": "2022-06-23T10:13:45.937Z"
   },
   {
    "duration": 116,
    "start_time": "2022-06-23T10:14:09.701Z"
   },
   {
    "duration": 87,
    "start_time": "2022-06-23T10:14:44.031Z"
   },
   {
    "duration": 18,
    "start_time": "2022-06-23T10:17:49.900Z"
   },
   {
    "duration": 7,
    "start_time": "2022-06-23T10:20:12.143Z"
   },
   {
    "duration": 4,
    "start_time": "2022-06-23T10:22:32.887Z"
   },
   {
    "duration": 15,
    "start_time": "2022-06-23T10:22:42.408Z"
   },
   {
    "duration": 25,
    "start_time": "2022-06-23T10:22:58.090Z"
   },
   {
    "duration": 27,
    "start_time": "2022-06-23T10:23:39.378Z"
   },
   {
    "duration": 24,
    "start_time": "2022-06-23T10:23:50.599Z"
   },
   {
    "duration": 26,
    "start_time": "2022-06-23T10:24:04.100Z"
   },
   {
    "duration": 25,
    "start_time": "2022-06-23T10:24:19.793Z"
   },
   {
    "duration": 23,
    "start_time": "2022-06-23T10:24:26.734Z"
   },
   {
    "duration": 29,
    "start_time": "2022-06-23T10:24:49.609Z"
   },
   {
    "duration": 39,
    "start_time": "2022-06-23T10:24:55.058Z"
   },
   {
    "duration": 22,
    "start_time": "2022-06-23T10:25:00.799Z"
   },
   {
    "duration": 31,
    "start_time": "2022-06-23T10:25:34.959Z"
   },
   {
    "duration": 19,
    "start_time": "2022-06-23T10:25:56.394Z"
   },
   {
    "duration": 15,
    "start_time": "2022-06-23T10:28:10.286Z"
   },
   {
    "duration": 11,
    "start_time": "2022-06-23T10:28:16.885Z"
   },
   {
    "duration": 10,
    "start_time": "2022-06-23T10:28:45.103Z"
   },
   {
    "duration": 22,
    "start_time": "2022-06-23T10:29:06.180Z"
   },
   {
    "duration": 19,
    "start_time": "2022-06-23T10:29:24.008Z"
   },
   {
    "duration": 20,
    "start_time": "2022-06-23T10:29:34.179Z"
   },
   {
    "duration": 11,
    "start_time": "2022-06-23T10:29:38.425Z"
   },
   {
    "duration": 31,
    "start_time": "2022-06-23T10:33:48.549Z"
   },
   {
    "duration": 498,
    "start_time": "2022-06-23T10:34:03.264Z"
   },
   {
    "duration": 17,
    "start_time": "2022-06-23T10:34:03.763Z"
   },
   {
    "duration": 37,
    "start_time": "2022-06-23T10:34:03.782Z"
   },
   {
    "duration": 9,
    "start_time": "2022-06-23T10:34:03.821Z"
   },
   {
    "duration": 25,
    "start_time": "2022-06-23T10:34:03.831Z"
   },
   {
    "duration": 9,
    "start_time": "2022-06-23T10:34:03.859Z"
   },
   {
    "duration": 40,
    "start_time": "2022-06-23T10:34:03.870Z"
   },
   {
    "duration": 7,
    "start_time": "2022-06-23T10:34:03.912Z"
   },
   {
    "duration": 13,
    "start_time": "2022-06-23T10:34:03.921Z"
   },
   {
    "duration": 13,
    "start_time": "2022-06-23T10:34:03.938Z"
   },
   {
    "duration": 25,
    "start_time": "2022-06-23T10:34:03.953Z"
   },
   {
    "duration": 20,
    "start_time": "2022-06-23T10:34:03.979Z"
   },
   {
    "duration": 18,
    "start_time": "2022-06-23T10:34:04.001Z"
   },
   {
    "duration": 16,
    "start_time": "2022-06-23T10:34:04.021Z"
   },
   {
    "duration": 23,
    "start_time": "2022-06-23T10:34:04.039Z"
   },
   {
    "duration": 33,
    "start_time": "2022-06-23T10:34:04.063Z"
   },
   {
    "duration": 48,
    "start_time": "2022-06-23T10:34:04.098Z"
   },
   {
    "duration": 50,
    "start_time": "2022-06-23T10:34:04.147Z"
   },
   {
    "duration": 30,
    "start_time": "2022-06-23T10:34:04.199Z"
   },
   {
    "duration": 40,
    "start_time": "2022-06-23T10:34:04.231Z"
   },
   {
    "duration": 37,
    "start_time": "2022-06-23T10:34:04.275Z"
   },
   {
    "duration": 21,
    "start_time": "2022-06-23T10:34:04.313Z"
   },
   {
    "duration": 35,
    "start_time": "2022-06-23T10:34:04.336Z"
   },
   {
    "duration": 10,
    "start_time": "2022-06-23T10:34:04.376Z"
   },
   {
    "duration": 16,
    "start_time": "2022-06-23T10:34:04.394Z"
   },
   {
    "duration": 6,
    "start_time": "2022-06-23T10:34:04.412Z"
   },
   {
    "duration": 13,
    "start_time": "2022-06-23T10:34:04.420Z"
   },
   {
    "duration": 51,
    "start_time": "2022-06-23T10:34:04.437Z"
   },
   {
    "duration": 29,
    "start_time": "2022-06-23T10:34:04.491Z"
   },
   {
    "duration": 37,
    "start_time": "2022-06-23T10:34:04.522Z"
   },
   {
    "duration": 40,
    "start_time": "2022-06-23T10:34:04.562Z"
   },
   {
    "duration": 8,
    "start_time": "2022-06-23T10:34:04.603Z"
   },
   {
    "duration": 28,
    "start_time": "2022-06-23T10:34:04.612Z"
   },
   {
    "duration": 25,
    "start_time": "2022-06-23T10:34:04.641Z"
   },
   {
    "duration": 38,
    "start_time": "2022-06-23T10:34:04.669Z"
   },
   {
    "duration": 14,
    "start_time": "2022-06-23T10:34:04.709Z"
   },
   {
    "duration": 86,
    "start_time": "2022-06-23T10:34:04.725Z"
   },
   {
    "duration": 100,
    "start_time": "2022-06-23T10:34:04.812Z"
   },
   {
    "duration": 17,
    "start_time": "2022-06-23T10:34:04.913Z"
   },
   {
    "duration": 10,
    "start_time": "2022-06-23T10:34:04.932Z"
   },
   {
    "duration": 39,
    "start_time": "2022-06-23T10:34:04.944Z"
   },
   {
    "duration": 11,
    "start_time": "2022-06-23T10:34:04.985Z"
   },
   {
    "duration": 21,
    "start_time": "2022-06-23T10:34:04.997Z"
   },
   {
    "duration": 0,
    "start_time": "2022-06-23T10:34:05.020Z"
   },
   {
    "duration": 0,
    "start_time": "2022-06-23T10:34:05.022Z"
   },
   {
    "duration": 0,
    "start_time": "2022-06-23T10:34:05.023Z"
   },
   {
    "duration": 0,
    "start_time": "2022-06-23T10:34:05.024Z"
   },
   {
    "duration": 0,
    "start_time": "2022-06-23T10:34:05.024Z"
   },
   {
    "duration": 0,
    "start_time": "2022-06-23T10:34:05.026Z"
   },
   {
    "duration": 1,
    "start_time": "2022-06-23T10:34:05.026Z"
   },
   {
    "duration": 0,
    "start_time": "2022-06-23T10:34:05.027Z"
   },
   {
    "duration": 0,
    "start_time": "2022-06-23T10:34:05.029Z"
   },
   {
    "duration": 0,
    "start_time": "2022-06-23T10:34:05.030Z"
   },
   {
    "duration": 0,
    "start_time": "2022-06-23T10:34:05.031Z"
   },
   {
    "duration": 0,
    "start_time": "2022-06-23T10:34:05.063Z"
   },
   {
    "duration": 0,
    "start_time": "2022-06-23T10:34:05.064Z"
   },
   {
    "duration": 0,
    "start_time": "2022-06-23T10:34:05.064Z"
   },
   {
    "duration": 0,
    "start_time": "2022-06-23T10:34:05.065Z"
   },
   {
    "duration": 0,
    "start_time": "2022-06-23T10:34:05.065Z"
   },
   {
    "duration": 0,
    "start_time": "2022-06-23T10:34:05.069Z"
   },
   {
    "duration": 0,
    "start_time": "2022-06-23T10:34:05.070Z"
   },
   {
    "duration": 0,
    "start_time": "2022-06-23T10:34:05.073Z"
   },
   {
    "duration": 0,
    "start_time": "2022-06-23T10:34:05.074Z"
   },
   {
    "duration": 0,
    "start_time": "2022-06-23T10:34:05.078Z"
   },
   {
    "duration": 0,
    "start_time": "2022-06-23T10:34:05.078Z"
   },
   {
    "duration": 0,
    "start_time": "2022-06-23T10:34:05.079Z"
   },
   {
    "duration": 46,
    "start_time": "2022-06-23T10:36:51.953Z"
   },
   {
    "duration": 14,
    "start_time": "2022-06-23T10:37:01.633Z"
   },
   {
    "duration": 1307,
    "start_time": "2022-06-23T10:40:39.382Z"
   },
   {
    "duration": 15,
    "start_time": "2022-06-23T10:40:40.693Z"
   },
   {
    "duration": 30,
    "start_time": "2022-06-23T10:40:40.709Z"
   },
   {
    "duration": 9,
    "start_time": "2022-06-23T10:40:40.741Z"
   },
   {
    "duration": 55,
    "start_time": "2022-06-23T10:40:40.752Z"
   },
   {
    "duration": 14,
    "start_time": "2022-06-23T10:40:40.808Z"
   },
   {
    "duration": 26,
    "start_time": "2022-06-23T10:40:40.824Z"
   },
   {
    "duration": 44,
    "start_time": "2022-06-23T10:40:40.852Z"
   },
   {
    "duration": 20,
    "start_time": "2022-06-23T10:40:40.898Z"
   },
   {
    "duration": 27,
    "start_time": "2022-06-23T10:40:40.920Z"
   },
   {
    "duration": 50,
    "start_time": "2022-06-23T10:40:40.949Z"
   },
   {
    "duration": 8,
    "start_time": "2022-06-23T10:40:41.001Z"
   },
   {
    "duration": 27,
    "start_time": "2022-06-23T10:40:41.010Z"
   },
   {
    "duration": 40,
    "start_time": "2022-06-23T10:40:41.040Z"
   },
   {
    "duration": 21,
    "start_time": "2022-06-23T10:40:41.086Z"
   },
   {
    "duration": 5,
    "start_time": "2022-06-23T10:40:41.109Z"
   },
   {
    "duration": 76,
    "start_time": "2022-06-23T10:40:41.116Z"
   },
   {
    "duration": 36,
    "start_time": "2022-06-23T10:40:41.195Z"
   },
   {
    "duration": 58,
    "start_time": "2022-06-23T10:40:41.233Z"
   },
   {
    "duration": 11,
    "start_time": "2022-06-23T10:40:41.293Z"
   },
   {
    "duration": 35,
    "start_time": "2022-06-23T10:40:41.306Z"
   },
   {
    "duration": 35,
    "start_time": "2022-06-23T10:40:41.343Z"
   },
   {
    "duration": 35,
    "start_time": "2022-06-23T10:40:41.387Z"
   },
   {
    "duration": 7,
    "start_time": "2022-06-23T10:40:41.424Z"
   },
   {
    "duration": 37,
    "start_time": "2022-06-23T10:40:41.433Z"
   },
   {
    "duration": 33,
    "start_time": "2022-06-23T10:40:41.472Z"
   },
   {
    "duration": 27,
    "start_time": "2022-06-23T10:40:41.507Z"
   },
   {
    "duration": 69,
    "start_time": "2022-06-23T10:40:41.536Z"
   },
   {
    "duration": 30,
    "start_time": "2022-06-23T10:40:41.607Z"
   },
   {
    "duration": 50,
    "start_time": "2022-06-23T10:40:41.639Z"
   },
   {
    "duration": 38,
    "start_time": "2022-06-23T10:40:41.692Z"
   },
   {
    "duration": 6,
    "start_time": "2022-06-23T10:40:41.732Z"
   },
   {
    "duration": 46,
    "start_time": "2022-06-23T10:40:41.740Z"
   },
   {
    "duration": 21,
    "start_time": "2022-06-23T10:40:41.789Z"
   },
   {
    "duration": 30,
    "start_time": "2022-06-23T10:40:41.811Z"
   },
   {
    "duration": 58,
    "start_time": "2022-06-23T10:40:41.843Z"
   },
   {
    "duration": 71,
    "start_time": "2022-06-23T10:40:41.902Z"
   },
   {
    "duration": 93,
    "start_time": "2022-06-23T10:40:41.975Z"
   },
   {
    "duration": 22,
    "start_time": "2022-06-23T10:40:42.072Z"
   },
   {
    "duration": 19,
    "start_time": "2022-06-23T10:40:42.096Z"
   },
   {
    "duration": 69,
    "start_time": "2022-06-23T10:40:42.120Z"
   },
   {
    "duration": 114,
    "start_time": "2022-06-23T10:41:30.016Z"
   },
   {
    "duration": 0,
    "start_time": "2022-06-23T10:41:30.131Z"
   },
   {
    "duration": 0,
    "start_time": "2022-06-23T10:41:30.133Z"
   },
   {
    "duration": 0,
    "start_time": "2022-06-23T10:41:30.134Z"
   },
   {
    "duration": 0,
    "start_time": "2022-06-23T10:41:30.134Z"
   },
   {
    "duration": 0,
    "start_time": "2022-06-23T10:41:30.136Z"
   },
   {
    "duration": 0,
    "start_time": "2022-06-23T10:41:30.137Z"
   },
   {
    "duration": 0,
    "start_time": "2022-06-23T10:41:30.138Z"
   },
   {
    "duration": 0,
    "start_time": "2022-06-23T10:41:30.138Z"
   },
   {
    "duration": 0,
    "start_time": "2022-06-23T10:41:30.139Z"
   },
   {
    "duration": 0,
    "start_time": "2022-06-23T10:41:30.140Z"
   },
   {
    "duration": 0,
    "start_time": "2022-06-23T10:41:30.142Z"
   },
   {
    "duration": 0,
    "start_time": "2022-06-23T10:41:30.160Z"
   },
   {
    "duration": 0,
    "start_time": "2022-06-23T10:41:30.161Z"
   },
   {
    "duration": 0,
    "start_time": "2022-06-23T10:41:30.161Z"
   },
   {
    "duration": 0,
    "start_time": "2022-06-23T10:41:30.164Z"
   },
   {
    "duration": 0,
    "start_time": "2022-06-23T10:41:30.164Z"
   },
   {
    "duration": 0,
    "start_time": "2022-06-23T10:41:30.165Z"
   },
   {
    "duration": 0,
    "start_time": "2022-06-23T10:41:30.165Z"
   },
   {
    "duration": 0,
    "start_time": "2022-06-23T10:41:30.166Z"
   },
   {
    "duration": 0,
    "start_time": "2022-06-23T10:41:30.167Z"
   },
   {
    "duration": 0,
    "start_time": "2022-06-23T10:41:30.167Z"
   },
   {
    "duration": 0,
    "start_time": "2022-06-23T10:41:30.168Z"
   },
   {
    "duration": 22,
    "start_time": "2022-06-23T10:42:53.770Z"
   },
   {
    "duration": 47632,
    "start_time": "2022-06-23T10:43:02.077Z"
   },
   {
    "duration": 49386,
    "start_time": "2022-06-23T10:44:18.256Z"
   },
   {
    "duration": 154,
    "start_time": "2022-06-23T10:45:27.725Z"
   },
   {
    "duration": 203,
    "start_time": "2022-06-23T10:46:04.671Z"
   },
   {
    "duration": 23,
    "start_time": "2022-06-23T10:46:33.025Z"
   },
   {
    "duration": 12,
    "start_time": "2022-06-23T10:47:19.604Z"
   },
   {
    "duration": 29,
    "start_time": "2022-06-23T10:47:25.144Z"
   },
   {
    "duration": 221,
    "start_time": "2022-06-23T10:47:45.912Z"
   },
   {
    "duration": 193,
    "start_time": "2022-06-23T10:48:35.154Z"
   },
   {
    "duration": 164,
    "start_time": "2022-06-23T10:48:44.392Z"
   },
   {
    "duration": 211,
    "start_time": "2022-06-23T10:49:01.579Z"
   },
   {
    "duration": 260,
    "start_time": "2022-06-23T10:49:27.144Z"
   },
   {
    "duration": 202,
    "start_time": "2022-06-23T10:52:53.594Z"
   },
   {
    "duration": 216,
    "start_time": "2022-06-23T10:56:00.694Z"
   },
   {
    "duration": 14,
    "start_time": "2022-06-23T10:57:23.406Z"
   },
   {
    "duration": 6,
    "start_time": "2022-06-23T10:58:26.118Z"
   },
   {
    "duration": 7,
    "start_time": "2022-06-23T10:58:49.194Z"
   },
   {
    "duration": 10,
    "start_time": "2022-06-23T11:04:33.202Z"
   },
   {
    "duration": 8,
    "start_time": "2022-06-23T11:04:47.694Z"
   },
   {
    "duration": 8,
    "start_time": "2022-06-23T11:04:57.793Z"
   },
   {
    "duration": 8,
    "start_time": "2022-06-23T11:06:21.485Z"
   },
   {
    "duration": 10,
    "start_time": "2022-06-23T11:06:37.380Z"
   },
   {
    "duration": 10,
    "start_time": "2022-06-23T11:08:17.943Z"
   },
   {
    "duration": 10,
    "start_time": "2022-06-23T11:08:30.493Z"
   },
   {
    "duration": 4,
    "start_time": "2022-06-23T11:10:00.883Z"
   },
   {
    "duration": 6,
    "start_time": "2022-06-23T11:10:20.287Z"
   },
   {
    "duration": 5,
    "start_time": "2022-06-23T11:10:37.003Z"
   },
   {
    "duration": 6,
    "start_time": "2022-06-23T11:10:49.032Z"
   },
   {
    "duration": 6,
    "start_time": "2022-06-23T11:11:09.001Z"
   },
   {
    "duration": 6,
    "start_time": "2022-06-23T11:11:22.097Z"
   },
   {
    "duration": 10,
    "start_time": "2022-06-23T11:13:17.759Z"
   },
   {
    "duration": 432,
    "start_time": "2022-06-23T11:13:28.596Z"
   },
   {
    "duration": 9,
    "start_time": "2022-06-23T11:13:29.030Z"
   },
   {
    "duration": 41,
    "start_time": "2022-06-23T11:13:29.040Z"
   },
   {
    "duration": 24,
    "start_time": "2022-06-23T11:13:29.083Z"
   },
   {
    "duration": 26,
    "start_time": "2022-06-23T11:13:29.108Z"
   },
   {
    "duration": 19,
    "start_time": "2022-06-23T11:13:29.136Z"
   },
   {
    "duration": 30,
    "start_time": "2022-06-23T11:13:29.157Z"
   },
   {
    "duration": 20,
    "start_time": "2022-06-23T11:13:29.189Z"
   },
   {
    "duration": 19,
    "start_time": "2022-06-23T11:13:29.210Z"
   },
   {
    "duration": 13,
    "start_time": "2022-06-23T11:13:29.232Z"
   },
   {
    "duration": 16,
    "start_time": "2022-06-23T11:13:29.246Z"
   },
   {
    "duration": 15,
    "start_time": "2022-06-23T11:13:29.264Z"
   },
   {
    "duration": 27,
    "start_time": "2022-06-23T11:13:29.281Z"
   },
   {
    "duration": 17,
    "start_time": "2022-06-23T11:13:29.310Z"
   },
   {
    "duration": 37,
    "start_time": "2022-06-23T11:13:29.329Z"
   },
   {
    "duration": 6,
    "start_time": "2022-06-23T11:13:29.368Z"
   },
   {
    "duration": 49,
    "start_time": "2022-06-23T11:13:29.375Z"
   },
   {
    "duration": 51,
    "start_time": "2022-06-23T11:13:29.426Z"
   },
   {
    "duration": 28,
    "start_time": "2022-06-23T11:13:29.479Z"
   },
   {
    "duration": 13,
    "start_time": "2022-06-23T11:13:29.509Z"
   },
   {
    "duration": 41,
    "start_time": "2022-06-23T11:13:29.524Z"
   },
   {
    "duration": 22,
    "start_time": "2022-06-23T11:13:29.567Z"
   },
   {
    "duration": 25,
    "start_time": "2022-06-23T11:13:29.591Z"
   },
   {
    "duration": 8,
    "start_time": "2022-06-23T11:13:29.617Z"
   },
   {
    "duration": 44,
    "start_time": "2022-06-23T11:13:29.626Z"
   },
   {
    "duration": 8,
    "start_time": "2022-06-23T11:13:29.672Z"
   },
   {
    "duration": 11,
    "start_time": "2022-06-23T11:13:29.682Z"
   },
   {
    "duration": 35,
    "start_time": "2022-06-23T11:13:29.697Z"
   },
   {
    "duration": 51,
    "start_time": "2022-06-23T11:13:29.734Z"
   },
   {
    "duration": 25,
    "start_time": "2022-06-23T11:13:29.787Z"
   },
   {
    "duration": 54,
    "start_time": "2022-06-23T11:13:29.814Z"
   },
   {
    "duration": 7,
    "start_time": "2022-06-23T11:13:29.870Z"
   },
   {
    "duration": 36,
    "start_time": "2022-06-23T11:13:29.878Z"
   },
   {
    "duration": 4,
    "start_time": "2022-06-23T11:13:29.916Z"
   },
   {
    "duration": 11,
    "start_time": "2022-06-23T11:13:29.921Z"
   },
   {
    "duration": 27,
    "start_time": "2022-06-23T11:13:29.933Z"
   },
   {
    "duration": 52,
    "start_time": "2022-06-23T11:13:29.961Z"
   },
   {
    "duration": 80,
    "start_time": "2022-06-23T11:13:30.014Z"
   },
   {
    "duration": 16,
    "start_time": "2022-06-23T11:13:30.096Z"
   },
   {
    "duration": 18,
    "start_time": "2022-06-23T11:13:30.114Z"
   },
   {
    "duration": 28,
    "start_time": "2022-06-23T11:13:30.134Z"
   },
   {
    "duration": 224,
    "start_time": "2022-06-23T11:13:30.163Z"
   },
   {
    "duration": 223,
    "start_time": "2022-06-23T11:13:30.389Z"
   },
   {
    "duration": 213,
    "start_time": "2022-06-23T11:13:30.614Z"
   },
   {
    "duration": 9,
    "start_time": "2022-06-23T11:13:30.828Z"
   },
   {
    "duration": 21,
    "start_time": "2022-06-23T11:13:30.839Z"
   },
   {
    "duration": 41,
    "start_time": "2022-06-23T11:13:30.862Z"
   },
   {
    "duration": 19,
    "start_time": "2022-06-23T11:13:30.905Z"
   },
   {
    "duration": 13,
    "start_time": "2022-06-23T11:13:30.926Z"
   },
   {
    "duration": 11,
    "start_time": "2022-06-23T11:13:30.942Z"
   },
   {
    "duration": 7,
    "start_time": "2022-06-23T11:13:30.955Z"
   },
   {
    "duration": 8,
    "start_time": "2022-06-23T11:13:30.964Z"
   },
   {
    "duration": 6,
    "start_time": "2022-06-23T11:13:30.973Z"
   },
   {
    "duration": 11,
    "start_time": "2022-06-23T11:13:30.981Z"
   },
   {
    "duration": 8,
    "start_time": "2022-06-23T11:13:30.993Z"
   },
   {
    "duration": 13,
    "start_time": "2022-06-23T11:13:31.003Z"
   },
   {
    "duration": 16,
    "start_time": "2022-06-23T11:13:31.018Z"
   },
   {
    "duration": 0,
    "start_time": "2022-06-23T11:13:31.036Z"
   },
   {
    "duration": 18,
    "start_time": "2022-06-23T11:13:39.790Z"
   },
   {
    "duration": 7,
    "start_time": "2022-06-23T11:14:00.638Z"
   },
   {
    "duration": 7,
    "start_time": "2022-06-23T11:14:42.783Z"
   },
   {
    "duration": 5,
    "start_time": "2022-06-23T11:15:17.176Z"
   },
   {
    "duration": 5,
    "start_time": "2022-06-23T11:15:24.616Z"
   },
   {
    "duration": 6,
    "start_time": "2022-06-23T11:15:32.233Z"
   },
   {
    "duration": 5,
    "start_time": "2022-06-23T11:16:35.691Z"
   },
   {
    "duration": 9,
    "start_time": "2022-06-23T11:16:42.408Z"
   },
   {
    "duration": 4,
    "start_time": "2022-06-23T11:16:46.343Z"
   },
   {
    "duration": 6,
    "start_time": "2022-06-23T11:16:49.552Z"
   },
   {
    "duration": 5,
    "start_time": "2022-06-23T11:16:52.488Z"
   },
   {
    "duration": 5,
    "start_time": "2022-06-23T11:16:55.856Z"
   },
   {
    "duration": 19,
    "start_time": "2022-06-23T11:19:32.148Z"
   },
   {
    "duration": 21,
    "start_time": "2022-06-23T11:19:44.818Z"
   },
   {
    "duration": 6,
    "start_time": "2022-06-23T11:21:18.593Z"
   },
   {
    "duration": 9,
    "start_time": "2022-06-23T11:23:31.559Z"
   },
   {
    "duration": 6,
    "start_time": "2022-06-23T11:23:37.579Z"
   },
   {
    "duration": 4,
    "start_time": "2022-06-23T11:23:56.990Z"
   },
   {
    "duration": 4,
    "start_time": "2022-06-23T11:24:06.256Z"
   },
   {
    "duration": 5,
    "start_time": "2022-06-23T11:27:34.383Z"
   },
   {
    "duration": 5,
    "start_time": "2022-06-23T11:27:45.219Z"
   },
   {
    "duration": 5,
    "start_time": "2022-06-23T11:32:56.916Z"
   },
   {
    "duration": 5,
    "start_time": "2022-06-23T11:33:09.926Z"
   },
   {
    "duration": 1322,
    "start_time": "2022-06-23T11:35:18.877Z"
   },
   {
    "duration": 19,
    "start_time": "2022-06-23T11:35:20.201Z"
   },
   {
    "duration": 46,
    "start_time": "2022-06-23T11:35:20.221Z"
   },
   {
    "duration": 17,
    "start_time": "2022-06-23T11:35:20.269Z"
   },
   {
    "duration": 41,
    "start_time": "2022-06-23T11:35:20.289Z"
   },
   {
    "duration": 7,
    "start_time": "2022-06-23T11:35:20.332Z"
   },
   {
    "duration": 28,
    "start_time": "2022-06-23T11:35:20.341Z"
   },
   {
    "duration": 20,
    "start_time": "2022-06-23T11:35:20.371Z"
   },
   {
    "duration": 26,
    "start_time": "2022-06-23T11:35:20.393Z"
   },
   {
    "duration": 24,
    "start_time": "2022-06-23T11:35:20.422Z"
   },
   {
    "duration": 23,
    "start_time": "2022-06-23T11:35:20.448Z"
   },
   {
    "duration": 15,
    "start_time": "2022-06-23T11:35:20.472Z"
   },
   {
    "duration": 29,
    "start_time": "2022-06-23T11:35:20.489Z"
   },
   {
    "duration": 23,
    "start_time": "2022-06-23T11:35:20.520Z"
   },
   {
    "duration": 23,
    "start_time": "2022-06-23T11:35:20.544Z"
   },
   {
    "duration": 6,
    "start_time": "2022-06-23T11:35:20.569Z"
   },
   {
    "duration": 57,
    "start_time": "2022-06-23T11:35:20.576Z"
   },
   {
    "duration": 50,
    "start_time": "2022-06-23T11:35:20.635Z"
   },
   {
    "duration": 30,
    "start_time": "2022-06-23T11:35:20.687Z"
   },
   {
    "duration": 12,
    "start_time": "2022-06-23T11:35:20.719Z"
   },
   {
    "duration": 47,
    "start_time": "2022-06-23T11:35:20.732Z"
   },
   {
    "duration": 23,
    "start_time": "2022-06-23T11:35:20.781Z"
   },
   {
    "duration": 29,
    "start_time": "2022-06-23T11:35:20.805Z"
   },
   {
    "duration": 27,
    "start_time": "2022-06-23T11:35:20.836Z"
   },
   {
    "duration": 32,
    "start_time": "2022-06-23T11:35:20.865Z"
   },
   {
    "duration": 7,
    "start_time": "2022-06-23T11:35:20.899Z"
   },
   {
    "duration": 31,
    "start_time": "2022-06-23T11:35:20.908Z"
   },
   {
    "duration": 46,
    "start_time": "2022-06-23T11:35:20.943Z"
   },
   {
    "duration": 33,
    "start_time": "2022-06-23T11:35:20.991Z"
   },
   {
    "duration": 44,
    "start_time": "2022-06-23T11:35:21.026Z"
   },
   {
    "duration": 30,
    "start_time": "2022-06-23T11:35:21.072Z"
   },
   {
    "duration": 9,
    "start_time": "2022-06-23T11:35:21.104Z"
   },
   {
    "duration": 56,
    "start_time": "2022-06-23T11:35:21.115Z"
   },
   {
    "duration": 5,
    "start_time": "2022-06-23T11:35:21.173Z"
   },
   {
    "duration": 22,
    "start_time": "2022-06-23T11:35:21.179Z"
   },
   {
    "duration": 28,
    "start_time": "2022-06-23T11:35:21.203Z"
   },
   {
    "duration": 69,
    "start_time": "2022-06-23T11:35:21.232Z"
   },
   {
    "duration": 90,
    "start_time": "2022-06-23T11:35:21.303Z"
   },
   {
    "duration": 17,
    "start_time": "2022-06-23T11:35:21.395Z"
   },
   {
    "duration": 15,
    "start_time": "2022-06-23T11:35:21.414Z"
   },
   {
    "duration": 36,
    "start_time": "2022-06-23T11:35:21.431Z"
   },
   {
    "duration": 461,
    "start_time": "2022-06-23T11:35:21.469Z"
   },
   {
    "duration": 209,
    "start_time": "2022-06-23T11:35:21.932Z"
   },
   {
    "duration": 224,
    "start_time": "2022-06-23T11:35:22.142Z"
   },
   {
    "duration": 11,
    "start_time": "2022-06-23T11:35:22.368Z"
   },
   {
    "duration": 10,
    "start_time": "2022-06-23T11:35:22.381Z"
   },
   {
    "duration": 13,
    "start_time": "2022-06-23T11:35:22.393Z"
   },
   {
    "duration": 12,
    "start_time": "2022-06-23T11:35:22.408Z"
   },
   {
    "duration": 42,
    "start_time": "2022-06-23T11:35:22.421Z"
   },
   {
    "duration": 10,
    "start_time": "2022-06-23T11:35:22.465Z"
   },
   {
    "duration": 9,
    "start_time": "2022-06-23T11:35:22.477Z"
   },
   {
    "duration": 15,
    "start_time": "2022-06-23T11:35:22.488Z"
   },
   {
    "duration": 12,
    "start_time": "2022-06-23T11:35:22.504Z"
   },
   {
    "duration": 10,
    "start_time": "2022-06-23T11:35:22.518Z"
   },
   {
    "duration": 11,
    "start_time": "2022-06-23T11:35:22.530Z"
   },
   {
    "duration": 18,
    "start_time": "2022-06-23T11:35:22.543Z"
   },
   {
    "duration": 11,
    "start_time": "2022-06-23T11:35:22.563Z"
   },
   {
    "duration": 15,
    "start_time": "2022-06-23T11:35:22.575Z"
   },
   {
    "duration": 40,
    "start_time": "2022-06-23T11:35:22.592Z"
   },
   {
    "duration": 28,
    "start_time": "2022-06-23T11:35:22.634Z"
   },
   {
    "duration": 11,
    "start_time": "2022-06-23T11:35:22.664Z"
   },
   {
    "duration": 12,
    "start_time": "2022-06-23T11:35:22.677Z"
   },
   {
    "duration": 15,
    "start_time": "2022-06-23T11:35:22.691Z"
   },
   {
    "duration": 10,
    "start_time": "2022-06-23T11:35:22.708Z"
   },
   {
    "duration": 9,
    "start_time": "2022-06-23T11:35:22.720Z"
   },
   {
    "duration": 1844,
    "start_time": "2022-06-24T09:29:25.071Z"
   },
   {
    "duration": 15,
    "start_time": "2022-06-24T09:29:30.025Z"
   },
   {
    "duration": 20,
    "start_time": "2022-06-24T09:29:33.054Z"
   },
   {
    "duration": 19,
    "start_time": "2022-06-24T09:32:14.281Z"
   },
   {
    "duration": 17,
    "start_time": "2022-06-24T09:33:54.420Z"
   },
   {
    "duration": 18,
    "start_time": "2022-06-24T09:33:59.741Z"
   },
   {
    "duration": 18,
    "start_time": "2022-06-24T09:34:21.014Z"
   },
   {
    "duration": 25,
    "start_time": "2022-06-24T09:34:30.953Z"
   },
   {
    "duration": 454,
    "start_time": "2022-06-24T09:34:35.814Z"
   },
   {
    "duration": 10,
    "start_time": "2022-06-24T09:34:36.270Z"
   },
   {
    "duration": 27,
    "start_time": "2022-06-24T09:34:36.283Z"
   },
   {
    "duration": 9,
    "start_time": "2022-06-24T09:34:36.313Z"
   },
   {
    "duration": 51,
    "start_time": "2022-06-24T09:34:36.323Z"
   },
   {
    "duration": 8,
    "start_time": "2022-06-24T09:34:36.376Z"
   },
   {
    "duration": 21,
    "start_time": "2022-06-24T09:34:36.386Z"
   },
   {
    "duration": 8,
    "start_time": "2022-06-24T09:34:36.408Z"
   },
   {
    "duration": 11,
    "start_time": "2022-06-24T09:34:36.418Z"
   },
   {
    "duration": 45,
    "start_time": "2022-06-24T09:34:36.433Z"
   },
   {
    "duration": 22,
    "start_time": "2022-06-24T09:34:36.479Z"
   },
   {
    "duration": 12,
    "start_time": "2022-06-24T09:34:36.502Z"
   },
   {
    "duration": 20,
    "start_time": "2022-06-24T09:34:36.516Z"
   },
   {
    "duration": 23,
    "start_time": "2022-06-24T09:34:36.537Z"
   },
   {
    "duration": 23,
    "start_time": "2022-06-24T09:34:36.567Z"
   },
   {
    "duration": 7,
    "start_time": "2022-06-24T09:34:36.591Z"
   },
   {
    "duration": 46,
    "start_time": "2022-06-24T09:34:36.600Z"
   },
   {
    "duration": 40,
    "start_time": "2022-06-24T09:34:36.667Z"
   },
   {
    "duration": 30,
    "start_time": "2022-06-24T09:34:36.709Z"
   },
   {
    "duration": 34,
    "start_time": "2022-06-24T09:34:36.741Z"
   },
   {
    "duration": 53,
    "start_time": "2022-06-24T09:34:36.777Z"
   },
   {
    "duration": 25,
    "start_time": "2022-06-24T09:34:36.832Z"
   },
   {
    "duration": 35,
    "start_time": "2022-06-24T09:34:36.859Z"
   },
   {
    "duration": 18,
    "start_time": "2022-06-24T09:34:36.896Z"
   },
   {
    "duration": 28,
    "start_time": "2022-06-24T09:34:36.916Z"
   },
   {
    "duration": 14,
    "start_time": "2022-06-24T09:34:36.946Z"
   },
   {
    "duration": 29,
    "start_time": "2022-06-24T09:34:36.961Z"
   },
   {
    "duration": 41,
    "start_time": "2022-06-24T09:34:36.995Z"
   },
   {
    "duration": 28,
    "start_time": "2022-06-24T09:34:37.037Z"
   },
   {
    "duration": 34,
    "start_time": "2022-06-24T09:34:37.067Z"
   },
   {
    "duration": 27,
    "start_time": "2022-06-24T09:34:37.103Z"
   },
   {
    "duration": 7,
    "start_time": "2022-06-24T09:34:37.131Z"
   },
   {
    "duration": 56,
    "start_time": "2022-06-24T09:34:37.140Z"
   },
   {
    "duration": 4,
    "start_time": "2022-06-24T09:34:37.197Z"
   },
   {
    "duration": 21,
    "start_time": "2022-06-24T09:34:37.203Z"
   },
   {
    "duration": 21,
    "start_time": "2022-06-24T09:34:37.225Z"
   },
   {
    "duration": 73,
    "start_time": "2022-06-24T09:34:37.248Z"
   },
   {
    "duration": 94,
    "start_time": "2022-06-24T09:34:37.323Z"
   },
   {
    "duration": 21,
    "start_time": "2022-06-24T09:34:37.418Z"
   },
   {
    "duration": 14,
    "start_time": "2022-06-24T09:34:37.441Z"
   },
   {
    "duration": 33,
    "start_time": "2022-06-24T09:34:37.468Z"
   },
   {
    "duration": 686,
    "start_time": "2022-06-24T09:34:37.502Z"
   },
   {
    "duration": 224,
    "start_time": "2022-06-24T09:34:38.190Z"
   },
   {
    "duration": 240,
    "start_time": "2022-06-24T09:34:38.416Z"
   },
   {
    "duration": 18,
    "start_time": "2022-06-24T09:34:38.658Z"
   },
   {
    "duration": 16,
    "start_time": "2022-06-24T09:34:38.677Z"
   },
   {
    "duration": 9,
    "start_time": "2022-06-24T09:34:38.695Z"
   },
   {
    "duration": 8,
    "start_time": "2022-06-24T09:34:38.706Z"
   },
   {
    "duration": 9,
    "start_time": "2022-06-24T09:34:38.715Z"
   },
   {
    "duration": 43,
    "start_time": "2022-06-24T09:34:38.726Z"
   },
   {
    "duration": 19,
    "start_time": "2022-06-24T09:34:38.771Z"
   },
   {
    "duration": 9,
    "start_time": "2022-06-24T09:34:38.792Z"
   },
   {
    "duration": 9,
    "start_time": "2022-06-24T09:34:38.803Z"
   },
   {
    "duration": 13,
    "start_time": "2022-06-24T09:34:38.814Z"
   },
   {
    "duration": 6,
    "start_time": "2022-06-24T09:34:38.829Z"
   },
   {
    "duration": 10,
    "start_time": "2022-06-24T09:34:38.837Z"
   },
   {
    "duration": 23,
    "start_time": "2022-06-24T09:34:38.849Z"
   },
   {
    "duration": 31,
    "start_time": "2022-06-24T09:34:38.873Z"
   },
   {
    "duration": 27,
    "start_time": "2022-06-24T09:34:38.906Z"
   },
   {
    "duration": 21,
    "start_time": "2022-06-24T09:34:38.935Z"
   },
   {
    "duration": 9,
    "start_time": "2022-06-24T09:34:38.959Z"
   },
   {
    "duration": 25,
    "start_time": "2022-06-24T09:34:38.970Z"
   },
   {
    "duration": 18,
    "start_time": "2022-06-24T09:34:38.997Z"
   },
   {
    "duration": 7,
    "start_time": "2022-06-24T09:34:39.017Z"
   },
   {
    "duration": 12,
    "start_time": "2022-06-24T09:34:39.026Z"
   },
   {
    "duration": 36,
    "start_time": "2022-06-24T09:37:46.387Z"
   },
   {
    "duration": 5,
    "start_time": "2022-06-24T09:37:50.215Z"
   },
   {
    "duration": 107,
    "start_time": "2022-06-24T09:40:25.079Z"
   },
   {
    "duration": 16,
    "start_time": "2022-06-24T09:40:43.499Z"
   },
   {
    "duration": 18,
    "start_time": "2022-06-24T09:40:54.251Z"
   },
   {
    "duration": 10,
    "start_time": "2022-06-24T09:41:05.409Z"
   },
   {
    "duration": 12,
    "start_time": "2022-06-24T09:41:17.283Z"
   },
   {
    "duration": 17,
    "start_time": "2022-06-24T09:41:23.341Z"
   },
   {
    "duration": 13,
    "start_time": "2022-06-24T09:41:37.889Z"
   },
   {
    "duration": 15,
    "start_time": "2022-06-24T09:41:53.639Z"
   },
   {
    "duration": 53,
    "start_time": "2022-06-24T09:41:57.395Z"
   },
   {
    "duration": 88,
    "start_time": "2022-06-24T09:42:04.241Z"
   },
   {
    "duration": 25,
    "start_time": "2022-06-24T09:42:21.353Z"
   },
   {
    "duration": 6,
    "start_time": "2022-06-24T09:43:35.146Z"
   },
   {
    "duration": 27,
    "start_time": "2022-06-24T09:43:56.442Z"
   },
   {
    "duration": 245,
    "start_time": "2022-06-24T09:44:07.643Z"
   },
   {
    "duration": 214,
    "start_time": "2022-06-24T09:44:33.391Z"
   },
   {
    "duration": 218,
    "start_time": "2022-06-24T09:45:17.877Z"
   },
   {
    "duration": 6,
    "start_time": "2022-06-24T09:47:16.283Z"
   },
   {
    "duration": 15,
    "start_time": "2022-06-24T09:47:23.042Z"
   },
   {
    "duration": 16,
    "start_time": "2022-06-24T09:47:57.981Z"
   },
   {
    "duration": 14,
    "start_time": "2022-06-24T09:48:12.142Z"
   },
   {
    "duration": 215,
    "start_time": "2022-06-24T09:49:50.852Z"
   },
   {
    "duration": 118,
    "start_time": "2022-06-24T09:50:04.473Z"
   },
   {
    "duration": 158,
    "start_time": "2022-06-24T09:51:48.869Z"
   },
   {
    "duration": 122,
    "start_time": "2022-06-24T09:52:11.113Z"
   },
   {
    "duration": 114,
    "start_time": "2022-06-24T09:53:37.640Z"
   },
   {
    "duration": 102,
    "start_time": "2022-06-24T09:53:57.213Z"
   },
   {
    "duration": 26,
    "start_time": "2022-06-24T09:55:17.277Z"
   },
   {
    "duration": 5,
    "start_time": "2022-06-24T09:56:00.185Z"
   },
   {
    "duration": 20,
    "start_time": "2022-06-24T10:01:43.483Z"
   },
   {
    "duration": 15,
    "start_time": "2022-06-24T10:01:47.117Z"
   },
   {
    "duration": 5,
    "start_time": "2022-06-24T10:01:54.116Z"
   },
   {
    "duration": 6,
    "start_time": "2022-06-24T10:02:35.223Z"
   },
   {
    "duration": 5,
    "start_time": "2022-06-24T10:02:56.707Z"
   },
   {
    "duration": 5,
    "start_time": "2022-06-24T10:03:03.930Z"
   },
   {
    "duration": 4,
    "start_time": "2022-06-24T10:03:41.748Z"
   },
   {
    "duration": 3,
    "start_time": "2022-06-24T10:03:44.538Z"
   },
   {
    "duration": 4,
    "start_time": "2022-06-24T10:03:46.738Z"
   },
   {
    "duration": 5,
    "start_time": "2022-06-24T10:03:48.913Z"
   },
   {
    "duration": 53,
    "start_time": "2022-06-24T10:16:13.817Z"
   },
   {
    "duration": 56,
    "start_time": "2022-06-24T10:16:31.953Z"
   },
   {
    "duration": 78,
    "start_time": "2022-06-24T10:16:56.805Z"
   },
   {
    "duration": 233,
    "start_time": "2022-06-24T10:17:24.378Z"
   },
   {
    "duration": 109,
    "start_time": "2022-06-24T10:17:45.209Z"
   },
   {
    "duration": 80,
    "start_time": "2022-06-24T10:18:28.215Z"
   },
   {
    "duration": 1302,
    "start_time": "2022-06-24T10:19:33.346Z"
   },
   {
    "duration": 21,
    "start_time": "2022-06-24T10:19:34.650Z"
   },
   {
    "duration": 33,
    "start_time": "2022-06-24T10:19:34.673Z"
   },
   {
    "duration": 9,
    "start_time": "2022-06-24T10:19:34.708Z"
   },
   {
    "duration": 21,
    "start_time": "2022-06-24T10:19:34.719Z"
   },
   {
    "duration": 27,
    "start_time": "2022-06-24T10:19:34.742Z"
   },
   {
    "duration": 21,
    "start_time": "2022-06-24T10:19:34.770Z"
   },
   {
    "duration": 8,
    "start_time": "2022-06-24T10:19:34.793Z"
   },
   {
    "duration": 13,
    "start_time": "2022-06-24T10:19:34.803Z"
   },
   {
    "duration": 14,
    "start_time": "2022-06-24T10:19:34.818Z"
   },
   {
    "duration": 36,
    "start_time": "2022-06-24T10:19:34.834Z"
   },
   {
    "duration": 7,
    "start_time": "2022-06-24T10:19:34.872Z"
   },
   {
    "duration": 14,
    "start_time": "2022-06-24T10:19:34.881Z"
   },
   {
    "duration": 16,
    "start_time": "2022-06-24T10:19:34.897Z"
   },
   {
    "duration": 18,
    "start_time": "2022-06-24T10:19:34.915Z"
   },
   {
    "duration": 34,
    "start_time": "2022-06-24T10:19:34.935Z"
   },
   {
    "duration": 52,
    "start_time": "2022-06-24T10:19:34.970Z"
   },
   {
    "duration": 49,
    "start_time": "2022-06-24T10:19:35.024Z"
   },
   {
    "duration": 29,
    "start_time": "2022-06-24T10:19:35.075Z"
   },
   {
    "duration": 13,
    "start_time": "2022-06-24T10:19:35.106Z"
   },
   {
    "duration": 26,
    "start_time": "2022-06-24T10:19:35.121Z"
   },
   {
    "duration": 27,
    "start_time": "2022-06-24T10:19:35.168Z"
   },
   {
    "duration": 31,
    "start_time": "2022-06-24T10:19:35.197Z"
   },
   {
    "duration": 8,
    "start_time": "2022-06-24T10:19:35.229Z"
   },
   {
    "duration": 45,
    "start_time": "2022-06-24T10:19:35.239Z"
   },
   {
    "duration": 8,
    "start_time": "2022-06-24T10:19:35.286Z"
   },
   {
    "duration": 14,
    "start_time": "2022-06-24T10:19:35.295Z"
   },
   {
    "duration": 61,
    "start_time": "2022-06-24T10:19:35.313Z"
   },
   {
    "duration": 32,
    "start_time": "2022-06-24T10:19:35.376Z"
   },
   {
    "duration": 27,
    "start_time": "2022-06-24T10:19:35.409Z"
   },
   {
    "duration": 55,
    "start_time": "2022-06-24T10:19:35.438Z"
   },
   {
    "duration": 8,
    "start_time": "2022-06-24T10:19:35.495Z"
   },
   {
    "duration": 34,
    "start_time": "2022-06-24T10:19:35.504Z"
   },
   {
    "duration": 29,
    "start_time": "2022-06-24T10:19:35.540Z"
   },
   {
    "duration": 21,
    "start_time": "2022-06-24T10:19:35.571Z"
   },
   {
    "duration": 14,
    "start_time": "2022-06-24T10:19:35.594Z"
   },
   {
    "duration": 18,
    "start_time": "2022-06-24T10:19:35.610Z"
   },
   {
    "duration": 61,
    "start_time": "2022-06-24T10:19:35.630Z"
   },
   {
    "duration": 92,
    "start_time": "2022-06-24T10:19:35.693Z"
   },
   {
    "duration": 24,
    "start_time": "2022-06-24T10:19:35.787Z"
   },
   {
    "duration": 14,
    "start_time": "2022-06-24T10:19:35.814Z"
   },
   {
    "duration": 51,
    "start_time": "2022-06-24T10:19:35.830Z"
   },
   {
    "duration": 476,
    "start_time": "2022-06-24T10:19:35.883Z"
   },
   {
    "duration": 223,
    "start_time": "2022-06-24T10:19:36.361Z"
   },
   {
    "duration": 231,
    "start_time": "2022-06-24T10:19:36.586Z"
   },
   {
    "duration": 15,
    "start_time": "2022-06-24T10:19:36.819Z"
   },
   {
    "duration": 131,
    "start_time": "2022-06-24T10:19:36.836Z"
   },
   {
    "duration": 125,
    "start_time": "2022-06-24T10:19:36.969Z"
   },
   {
    "duration": 139,
    "start_time": "2022-06-24T10:19:37.095Z"
   },
   {
    "duration": 153,
    "start_time": "2022-06-24T10:19:37.236Z"
   },
   {
    "duration": 136,
    "start_time": "2022-06-24T10:19:37.391Z"
   },
   {
    "duration": 11,
    "start_time": "2022-06-24T10:19:37.529Z"
   },
   {
    "duration": 27,
    "start_time": "2022-06-24T10:19:37.542Z"
   },
   {
    "duration": 10,
    "start_time": "2022-06-24T10:19:37.570Z"
   },
   {
    "duration": 21,
    "start_time": "2022-06-24T10:19:37.582Z"
   },
   {
    "duration": 29,
    "start_time": "2022-06-24T10:19:37.605Z"
   },
   {
    "duration": 8,
    "start_time": "2022-06-24T10:19:37.636Z"
   },
   {
    "duration": 107,
    "start_time": "2022-06-24T10:19:37.646Z"
   },
   {
    "duration": 5,
    "start_time": "2022-06-24T10:19:37.755Z"
   },
   {
    "duration": 5,
    "start_time": "2022-06-24T10:19:37.768Z"
   },
   {
    "duration": 32,
    "start_time": "2022-06-24T10:19:37.774Z"
   },
   {
    "duration": 14,
    "start_time": "2022-06-24T10:19:37.807Z"
   },
   {
    "duration": 20,
    "start_time": "2022-06-24T10:19:37.823Z"
   },
   {
    "duration": 20,
    "start_time": "2022-06-24T10:19:37.844Z"
   },
   {
    "duration": 38,
    "start_time": "2022-06-24T10:19:37.866Z"
   },
   {
    "duration": 17,
    "start_time": "2022-06-24T10:19:37.905Z"
   },
   {
    "duration": 32,
    "start_time": "2022-06-24T10:19:37.924Z"
   },
   {
    "duration": 16,
    "start_time": "2022-06-24T10:19:37.958Z"
   },
   {
    "duration": 12,
    "start_time": "2022-06-24T10:19:37.975Z"
   },
   {
    "duration": 35,
    "start_time": "2022-06-24T10:19:37.989Z"
   },
   {
    "duration": 19,
    "start_time": "2022-06-24T10:19:38.026Z"
   },
   {
    "duration": 17,
    "start_time": "2022-06-24T10:19:38.046Z"
   },
   {
    "duration": 11,
    "start_time": "2022-06-24T10:19:38.065Z"
   }
  ],
  "kernelspec": {
   "display_name": "Python 3 (ipykernel)",
   "language": "python",
   "name": "python3"
  },
  "language_info": {
   "codemirror_mode": {
    "name": "ipython",
    "version": 3
   },
   "file_extension": ".py",
   "mimetype": "text/x-python",
   "name": "python",
   "nbconvert_exporter": "python",
   "pygments_lexer": "ipython3",
   "version": "3.9.12"
  },
  "toc": {
   "base_numbering": 1,
   "nav_menu": {},
   "number_sections": true,
   "sideBar": true,
   "skip_h1_title": true,
   "title_cell": "Table of Contents",
   "title_sidebar": "Contents",
   "toc_cell": false,
   "toc_position": {
    "height": "calc(100% - 180px)",
    "left": "10px",
    "top": "150px",
    "width": "165px"
   },
   "toc_section_display": true,
   "toc_window_display": true
  }
 },
 "nbformat": 4,
 "nbformat_minor": 2
}
